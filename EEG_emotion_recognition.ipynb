{
  "nbformat": 4,
  "nbformat_minor": 0,
  "metadata": {
    "colab": {
      "name": "EEG emotion recognition.ipynb",
      "provenance": [],
      "mount_file_id": "https://github.com/Arush0113/EEG_Pipeline-IITR/blob/main/DEAP_Dataset_EEG.ipynb",
      "authorship_tag": "ABX9TyNhAY0M/RT0MLCSRQ1CMvFT",
      "include_colab_link": true
    },
    "kernelspec": {
      "name": "python3",
      "display_name": "Python 3"
    },
    "language_info": {
      "name": "python"
    },
    "accelerator": "GPU"
  },
  "cells": [
    {
      "cell_type": "markdown",
      "metadata": {
        "id": "view-in-github",
        "colab_type": "text"
      },
      "source": [
        "<a href=\"https://colab.research.google.com/github/Arush0113/EEG_Pipeline-IITR/blob/main/EEG_emotion_recognition.ipynb\" target=\"_parent\"><img src=\"https://colab.research.google.com/assets/colab-badge.svg\" alt=\"Open In Colab\"/></a>"
      ]
    },
    {
      "cell_type": "code",
      "metadata": {
        "id": "RrrjhCu9YcEC"
      },
      "source": [
        "import numpy as np\n",
        "import pandas as pd\n",
        "\n",
        "import matplotlib.pyplot as plt\n",
        "import seaborn as sns\n",
        "\n",
        "from sklearn.model_selection import train_test_split\n",
        "from sklearn.metrics import confusion_matrix, classification_report\n",
        "\n",
        "import tensorflow as tf"
      ],
      "execution_count": 1,
      "outputs": []
    },
    {
      "cell_type": "code",
      "metadata": {
        "colab": {
          "base_uri": "https://localhost:8080/"
        },
        "id": "rlCfcVtaZEGZ",
        "outputId": "ecea5f48-54cc-488a-be26-519af63d350b"
      },
      "source": [
        "from google.colab import drive\n",
        "drive.mount('/content/drive')"
      ],
      "execution_count": 3,
      "outputs": [
        {
          "output_type": "stream",
          "text": [
            "Drive already mounted at /content/drive; to attempt to forcibly remount, call drive.mount(\"/content/drive\", force_remount=True).\n"
          ],
          "name": "stdout"
        }
      ]
    },
    {
      "cell_type": "code",
      "metadata": {
        "colab": {
          "base_uri": "https://localhost:8080/"
        },
        "id": "TK9qXSHBZuLy",
        "outputId": "f5ed63aa-7197-4975-b37a-d655500933be"
      },
      "source": [
        "df = pd.read_csv('/content/drive/MyDrive/emotions.csv')\n",
        "df.columns"
      ],
      "execution_count": 4,
      "outputs": [
        {
          "output_type": "execute_result",
          "data": {
            "text/plain": [
              "Index(['# mean_0_a', 'mean_1_a', 'mean_2_a', 'mean_3_a', 'mean_4_a',\n",
              "       'mean_d_0_a', 'mean_d_1_a', 'mean_d_2_a', 'mean_d_3_a', 'mean_d_4_a',\n",
              "       ...\n",
              "       'fft_741_b', 'fft_742_b', 'fft_743_b', 'fft_744_b', 'fft_745_b',\n",
              "       'fft_746_b', 'fft_747_b', 'fft_748_b', 'fft_749_b', 'label'],\n",
              "      dtype='object', length=2549)"
            ]
          },
          "metadata": {
            "tags": []
          },
          "execution_count": 4
        }
      ]
    },
    {
      "cell_type": "code",
      "metadata": {
        "id": "F2rtqLYYk7Ux"
      },
      "source": [
        "plt.figure(figsize=(20,8))\n",
        "plt.plot(df['fft_0_a'][:200])\n",
        "plt.plot(df['fft_0_b'][:200], 'orange')"
      ],
      "execution_count": null,
      "outputs": []
    },
    {
      "cell_type": "code",
      "metadata": {
        "id": "86uc0AlZc5G6"
      },
      "source": [
        "def preprocess_inputs(dataFrame):\n",
        "  label_mapping = {'NEGATIVE':0, 'NEUTRAL':1, 'POSITIVE':2}\n",
        "  dataFrame['label'] = dataFrame['label'].replace(label_mapping)\n",
        "  X = dataFrame.drop('label', axis=1).copy()\n",
        "  y = dataFrame['label'].copy()\n",
        "  X_train, X_test, y_train, y_test = train_test_split(X, y, train_size = 0.7, random_state = 123)\n",
        "\n",
        "  return X_train, X_test, y_train, y_test"
      ],
      "execution_count": 6,
      "outputs": []
    },
    {
      "cell_type": "code",
      "metadata": {
        "id": "f336yrxV1cfA"
      },
      "source": [
        "X_train, X_test, y_train, y_test = preprocess_inputs(df)"
      ],
      "execution_count": 7,
      "outputs": []
    },
    {
      "cell_type": "code",
      "metadata": {
        "id": "8FfcXnDD2XJ9",
        "colab": {
          "base_uri": "https://localhost:8080/"
        },
        "outputId": "87a4655c-ccb8-4e3a-87f0-f7ead5b261da"
      },
      "source": [
        "y_train"
      ],
      "execution_count": 8,
      "outputs": [
        {
          "output_type": "execute_result",
          "data": {
            "text/plain": [
              "993     2\n",
              "1851    2\n",
              "1253    0\n",
              "1228    1\n",
              "1461    1\n",
              "       ..\n",
              "1593    2\n",
              "1147    1\n",
              "1766    0\n",
              "1122    1\n",
              "1346    0\n",
              "Name: label, Length: 1492, dtype: int64"
            ]
          },
          "metadata": {
            "tags": []
          },
          "execution_count": 8
        }
      ]
    },
    {
      "cell_type": "code",
      "metadata": {
        "id": "NGUU6sLZinwo"
      },
      "source": [
        "input = tf.keras.layers.Input(shape = (X_train.shape[1],))\n",
        "expand_dims = tf.expand_dims(input, axis = 2)\n",
        "gru = tf.keras.layers.GRU(128, return_sequences=True)(expand_dims)\n",
        "flatten = tf.keras.layers.Flatten()(gru)\n",
        "# dense1 = tf.keras.layers.Dense(10)(flatten)\n",
        "output = tf.keras.layers.Dense(3)(flatten)\n",
        "\n",
        "model = tf.keras.models.Model(inputs = input, outputs = output)\n",
        "\n"
      ],
      "execution_count": 25,
      "outputs": []
    },
    {
      "cell_type": "code",
      "metadata": {
        "id": "W7GTu3GolnUa"
      },
      "source": [
        "model.compile(optimizer = tf.keras.optimizers.SGD(learning_rate=1e-6), loss = 'sparse_categorical_crossentropy', metrics = ['accuracy'])"
      ],
      "execution_count": 26,
      "outputs": []
    },
    {
      "cell_type": "code",
      "metadata": {
        "colab": {
          "base_uri": "https://localhost:8080/"
        },
        "id": "Q1esRjujmRRp",
        "outputId": "7f58869a-ac70-456f-eb2f-906a395cf820"
      },
      "source": [
        "history = model.fit(X_train, y_train, batch_size = 32, validation_split = 0.2, epochs = 20)"
      ],
      "execution_count": 27,
      "outputs": [
        {
          "output_type": "stream",
          "text": [
            "Epoch 1/20\n",
            "38/38 [==============================] - 5s 101ms/step - loss: 1.8272 - accuracy: 0.3361 - val_loss: 1.1510 - val_accuracy: 0.3746\n",
            "Epoch 2/20\n",
            "38/38 [==============================] - 3s 87ms/step - loss: 1.0924 - accuracy: 0.3495 - val_loss: 1.0696 - val_accuracy: 0.4181\n",
            "Epoch 3/20\n",
            "38/38 [==============================] - 3s 87ms/step - loss: 1.0523 - accuracy: 0.3898 - val_loss: 1.0507 - val_accuracy: 0.4482\n",
            "Epoch 4/20\n",
            "38/38 [==============================] - 3s 87ms/step - loss: 1.0285 - accuracy: 0.4317 - val_loss: 1.0656 - val_accuracy: 0.4716\n",
            "Epoch 5/20\n",
            "38/38 [==============================] - 3s 87ms/step - loss: 0.9986 - accuracy: 0.4593 - val_loss: 1.0661 - val_accuracy: 0.5284\n",
            "Epoch 6/20\n",
            "38/38 [==============================] - 3s 87ms/step - loss: 0.9524 - accuracy: 0.4853 - val_loss: 1.0106 - val_accuracy: 0.5585\n",
            "Epoch 7/20\n",
            "38/38 [==============================] - 3s 87ms/step - loss: 0.8980 - accuracy: 0.5096 - val_loss: 0.9488 - val_accuracy: 0.5686\n",
            "Epoch 8/20\n",
            "38/38 [==============================] - 3s 87ms/step - loss: 0.8832 - accuracy: 0.4870 - val_loss: 0.9419 - val_accuracy: 0.5686\n",
            "Epoch 9/20\n",
            "38/38 [==============================] - 3s 87ms/step - loss: 0.8264 - accuracy: 0.5222 - val_loss: 0.8843 - val_accuracy: 0.6154\n",
            "Epoch 10/20\n",
            "38/38 [==============================] - 3s 87ms/step - loss: 0.7413 - accuracy: 0.5717 - val_loss: 0.7719 - val_accuracy: 0.6388\n",
            "Epoch 11/20\n",
            "38/38 [==============================] - 3s 87ms/step - loss: 0.7054 - accuracy: 0.6077 - val_loss: 0.8278 - val_accuracy: 0.7090\n",
            "Epoch 12/20\n",
            "38/38 [==============================] - 3s 87ms/step - loss: 0.7690 - accuracy: 0.3755 - val_loss: 0.7732 - val_accuracy: 0.3411\n",
            "Epoch 13/20\n",
            "38/38 [==============================] - 3s 87ms/step - loss: 0.7313 - accuracy: 0.3336 - val_loss: 0.7640 - val_accuracy: 0.3411\n",
            "Epoch 14/20\n",
            "38/38 [==============================] - 3s 86ms/step - loss: 0.6907 - accuracy: 0.3336 - val_loss: 0.7333 - val_accuracy: 0.3411\n",
            "Epoch 15/20\n",
            "38/38 [==============================] - 3s 87ms/step - loss: 0.6726 - accuracy: 0.3336 - val_loss: 0.7197 - val_accuracy: 0.3411\n",
            "Epoch 16/20\n",
            "38/38 [==============================] - 3s 87ms/step - loss: 0.6623 - accuracy: 0.3336 - val_loss: 0.7151 - val_accuracy: 0.3411\n",
            "Epoch 17/20\n",
            "38/38 [==============================] - 3s 87ms/step - loss: 0.6565 - accuracy: 0.3336 - val_loss: 0.7066 - val_accuracy: 0.3411\n",
            "Epoch 18/20\n",
            "38/38 [==============================] - 3s 88ms/step - loss: 0.6508 - accuracy: 0.3336 - val_loss: 0.7028 - val_accuracy: 0.3411\n",
            "Epoch 19/20\n",
            "38/38 [==============================] - 3s 88ms/step - loss: 0.6464 - accuracy: 0.3336 - val_loss: 0.6592 - val_accuracy: 0.3411\n",
            "Epoch 20/20\n",
            "38/38 [==============================] - 3s 87ms/step - loss: 0.6428 - accuracy: 0.3336 - val_loss: 0.6955 - val_accuracy: 0.3411\n"
          ],
          "name": "stdout"
        }
      ]
    },
    {
      "cell_type": "code",
      "metadata": {
        "id": "UN7zV5JxmiR3"
      },
      "source": [
        ""
      ],
      "execution_count": null,
      "outputs": []
    }
  ]
}