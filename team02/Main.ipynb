{
 "cells": [
  {
   "cell_type": "markdown",
   "metadata": {},
   "source": [
    "### Last updated 30/07"
   ]
  },
  {
   "cell_type": "code",
   "execution_count": 1,
   "metadata": {},
   "outputs": [
    {
     "name": "stdout",
     "output_type": "stream",
     "text": [
      "0.23.0\n"
     ]
    }
   ],
   "source": [
    "import matplotlib\n",
    "import pathlib\n",
    "\n",
    "import mne\n",
    "print(mne.__version__)"
   ]
  },
  {
   "cell_type": "code",
   "execution_count": 2,
   "metadata": {},
   "outputs": [],
   "source": [
    "matplotlib.use('Qt5Agg')"
   ]
  },
  {
   "cell_type": "markdown",
   "metadata": {},
   "source": [
    "## Reading raw data"
   ]
  },
  {
   "cell_type": "code",
   "execution_count": 3,
   "metadata": {},
   "outputs": [
    {
     "name": "stdout",
     "output_type": "stream",
     "text": [
      "12\n"
     ]
    }
   ],
   "source": [
    "#The files we will be loading\n",
    "#files = ['10_1', '10_2', '12_1', '12_2', '13_1', '13_2', '14_1', '14_2', '15_1', '15_2', '16_1', '16_2', '21_1', '21_2', '22_1', '22_2', '23_1', '23_2', '28_1', '28_2', '31_1', '31_2', '32_1', '32_2', '33_1', '33_2', '34_1', '34_2', '35_1', '35_2', '46_1', '46_2', '47_1', '47_2', '48_1', '48_2', '49_1', '49_2', '50_1', '50_2', '69_1', '69_2', '70_1', '70_2', '71_1', '71_2', '72_1', '72_2']\n",
    "files = ['10_1', '10_2', '12_1', '12_2', '13_1', '13_2', '28_1', '28_2', '31_1', '31_2', '32_1', '32_2']\n",
    "\n",
    "print(len(files))"
   ]
  },
  {
   "cell_type": "code",
   "execution_count": 4,
   "metadata": {},
   "outputs": [],
   "source": [
    "# #Paths Sahil\n",
    "# path = {}\n",
    "# for f in files:\n",
    "#     path[f] = '../../EEG original dataset/sub-AB{}/eeg/sub-AB{}_task-gonogo_run-{}_eeg.set'.format(f[0:-2], f[0:-2], f[-1])\n",
    "    \n",
    "# path_channels_tsv = '../../data\\sub-AB10_eeg_sub-AB10_task-gonogo_run-1_channels.tsv'"
   ]
  },
  {
   "cell_type": "code",
   "execution_count": 5,
   "metadata": {},
   "outputs": [],
   "source": [
    "#Paths Arush\n",
    "path = {}\n",
    "for f in files:\n",
    "    path[f] = 'data/other subjects set files/sub-AB{}_eeg_sub-AB{}_task-gonogo_run-{}_eeg.set'.format(f[0:-2], f[0:-2], f[-1])\n",
    "    \n",
    "path_channels_tsv = 'data/other subjects set files/sub-AB10_eeg_sub-AB10_task-gonogo_run-1_channels.tsv'"
   ]
  },
  {
   "cell_type": "code",
   "execution_count": 6,
   "metadata": {},
   "outputs": [],
   "source": [
    "#Loading raw data\n",
    "unclean_raw = {}\n",
    "for f in files:\n",
    "    unclean_raw[f] = mne.io.read_raw_eeglab(path[f], eog=(), preload=True, uint16_codec=None, verbose=None)"
   ]
  },
  {
   "cell_type": "code",
   "execution_count": 8,
   "metadata": {
    "scrolled": true
   },
   "outputs": [],
   "source": [
    "#plotting raw data\n",
    "# rawab6_1.plot();\n",
    "# rawab6_2.plot();\n",
    "unclean_raw['10_1'].plot();\n",
    "# rawab10_2.plot();\n",
    "unclean_raw['12_1'].plot();\n",
    "# rawab12_2.plot();\n",
    "# rawab13_1.plot();\n",
    "# rawab13_2.plot();\n",
    "# rawab28_1.plot();\n",
    "# rawab28_2.plot();\n",
    "# rawab31_1.plot();\n",
    "# rawab31_2.plot();\n",
    "# rawab32_1.plot();\n",
    "# rawab32_2.plot();"
   ]
  },
  {
   "cell_type": "markdown",
   "metadata": {},
   "source": [
    "## Assigning channel types and filtering"
   ]
  },
  {
   "cell_type": "code",
   "execution_count": 7,
   "metadata": {
    "scrolled": true
   },
   "outputs": [
    {
     "data": {
      "text/plain": [
       "{'AF3': 'eeg',\n",
       " 'AF4': 'eeg',\n",
       " 'F7': 'eeg',\n",
       " 'F5': 'eeg',\n",
       " 'F3': 'eeg',\n",
       " 'F1': 'eeg',\n",
       " 'Fz': 'eeg',\n",
       " 'F2': 'eeg',\n",
       " 'F4': 'eeg',\n",
       " 'F6': 'eeg',\n",
       " 'F8': 'eeg',\n",
       " 'FT7': 'eeg',\n",
       " 'FC5': 'eeg',\n",
       " 'FC3': 'eeg',\n",
       " 'FC1': 'eeg',\n",
       " 'FCz': 'eeg',\n",
       " 'FC2': 'eeg',\n",
       " 'FC4': 'eeg',\n",
       " 'FC6': 'eeg',\n",
       " 'FT8': 'eeg',\n",
       " 'T7': 'eeg',\n",
       " 'C5': 'eeg',\n",
       " 'C3': 'eeg',\n",
       " 'C1': 'eeg',\n",
       " 'Cz': 'eeg',\n",
       " 'C2': 'eeg',\n",
       " 'C4': 'eeg',\n",
       " 'C6': 'eeg',\n",
       " 'T8': 'eeg',\n",
       " 'M1': 'eeg',\n",
       " 'TP7': 'eeg',\n",
       " 'CP5': 'eeg',\n",
       " 'CP3': 'eeg',\n",
       " 'CP1': 'eeg',\n",
       " 'CPz': 'eeg',\n",
       " 'CP2': 'eeg',\n",
       " 'CP4': 'eeg',\n",
       " 'CP6': 'eeg',\n",
       " 'TP8': 'eeg',\n",
       " 'M2': 'eeg',\n",
       " 'P7': 'eeg',\n",
       " 'P5': 'eeg',\n",
       " 'P3': 'eeg',\n",
       " 'P1': 'eeg',\n",
       " 'Pz': 'eeg',\n",
       " 'P2': 'eeg',\n",
       " 'P4': 'eeg',\n",
       " 'P6': 'eeg',\n",
       " 'P8': 'eeg',\n",
       " 'PO7': 'eeg',\n",
       " 'PO5': 'eeg',\n",
       " 'PO3': 'eeg',\n",
       " 'POz': 'eeg',\n",
       " 'PO4': 'eeg',\n",
       " 'PO6': 'eeg',\n",
       " 'PO8': 'eeg',\n",
       " 'CB1': 'eeg',\n",
       " 'O1': 'eeg',\n",
       " 'Oz': 'eeg',\n",
       " 'O2': 'eeg',\n",
       " 'CB2': 'eeg',\n",
       " 'VEO': 'eog',\n",
       " 'HEO': 'eog',\n",
       " 'EKG': 'ecg',\n",
       " 'R-Dia-X-(mm)': 'misc',\n",
       " 'R-Dia-Y-(mm)': 'misc'}"
      ]
     },
     "execution_count": 7,
     "metadata": {},
     "output_type": "execute_result"
    }
   ],
   "source": [
    "#get type of channels from tsv file\n",
    "import pandas as pd\n",
    "channel_types_tsv = pd.read_csv(path_channels_tsv, delimiter = '\\t')\n",
    "\n",
    "def get_channel_types_dic(channel_types_tsv):\n",
    "    channel_types = {}\n",
    "    for i in range(channel_types_tsv.shape[0]):\n",
    "        channel_types[channel_types_tsv['name'][i]] = channel_types_tsv['type'][i].lower()\n",
    "    reassign_dic = {'HEO':'eog', 'VEO':'eog', 'R-Dia-X-(mm)':'misc', 'R-Dia-Y-(mm)':'misc'}\n",
    "    for k in list(reassign_dic.keys()):\n",
    "        if k in list(channel_types):\n",
    "            channel_types[k] = reassign_dic[k]\n",
    "    return channel_types\n",
    "\n",
    "channel_types = get_channel_types_dic(channel_types_tsv)\n",
    "channel_types"
   ]
  },
  {
   "cell_type": "code",
   "execution_count": 8,
   "metadata": {},
   "outputs": [],
   "source": [
    "#assigning channel types\n",
    "for f in files:\n",
    "    unclean_raw[f].set_channel_types(channel_types)"
   ]
  },
  {
   "cell_type": "markdown",
   "metadata": {},
   "source": [
    "# Performing Signal Preprocessing"
   ]
  },
  {
   "cell_type": "code",
   "execution_count": null,
   "metadata": {},
   "outputs": [],
   "source": []
  },
  {
   "cell_type": "markdown",
   "metadata": {},
   "source": [
    "### Applying Low-Pass filter before applying ICA"
   ]
  },
  {
   "cell_type": "code",
   "execution_count": 77,
   "metadata": {
    "scrolled": true
   },
   "outputs": [],
   "source": [
    "#filtering the signals\n",
    "for f in files:\n",
    "    unclean_raw[f].filter(0.5, None)"
   ]
  },
  {
   "cell_type": "markdown",
   "metadata": {},
   "source": [
    "## Implementing ICA and SSP Projections"
   ]
  },
  {
   "cell_type": "code",
   "execution_count": 78,
   "metadata": {
    "scrolled": true
   },
   "outputs": [],
   "source": [
    "#Creating copy\n",
    "raw = {}\n",
    "for f in files:\n",
    "    raw[f] = unclean_raw[f].copy()"
   ]
  },
  {
   "cell_type": "code",
   "execution_count": 79,
   "metadata": {
    "scrolled": true
   },
   "outputs": [],
   "source": [
    "#Creating ICA objects\n",
    "ica = {}\n",
    "for f in files:\n",
    "    ica[f] = mne.preprocessing.ICA(n_components = 21, random_state = 42, max_iter = \"auto\", method = \"fastica\")"
   ]
  },
  {
   "cell_type": "code",
   "execution_count": 80,
   "metadata": {
    "scrolled": true
   },
   "outputs": [],
   "source": [
    "#Fitting ICA objects\n",
    "for f in files:\n",
    "    ica[f].fit(raw[f])"
   ]
  },
  {
   "cell_type": "code",
   "execution_count": 16,
   "metadata": {
    "scrolled": true
   },
   "outputs": [
    {
     "name": "stdout",
     "output_type": "stream",
     "text": [
      "Creating RawArray with float64 data, n_channels=24, n_times=262640\n",
      "    Range : 0 ... 262639 =      0.000 ...   525.278 secs\n",
      "Ready.\n"
     ]
    },
    {
     "data": {
      "text/plain": [
       "<MNEBrowseFigure size 1527.78x766.667 with 4 Axes>"
      ]
     },
     "execution_count": 16,
     "metadata": {},
     "output_type": "execute_result"
    }
   ],
   "source": [
    "#plotting sources and components\n",
    "ica['10_1'].plot_sources(raw['10_1'])"
   ]
  },
  {
   "cell_type": "code",
   "execution_count": 17,
   "metadata": {},
   "outputs": [
    {
     "data": {
      "text/plain": [
       "[<MNEFigure size 1920x966 with 20 Axes>, <MNEFigure size 195x256 with 1 Axes>]"
      ]
     },
     "execution_count": 17,
     "metadata": {},
     "output_type": "execute_result"
    }
   ],
   "source": [
    "ica['10_2'].plot_components(outlines = 'head', sphere = 10, ch_type = 'eeg')"
   ]
  },
  {
   "cell_type": "code",
   "execution_count": 81,
   "metadata": {},
   "outputs": [],
   "source": [
    "#To find and mark bad components\n",
    "def mark_artifacts(ica, raw):\n",
    "    ica.exclude = []\n",
    "    ica.detect_artifacts(raw)\n",
    "    eeg_bads = list(ica.exclude)\n",
    "    ecg_bads = ica.find_bads_ecg(raw)[0]\n",
    "    eog_bads = ica.find_bads_eog(raw)[0]\n",
    "    ica.exclude = list(set(eeg_bads+ecg_bads+eog_bads))"
   ]
  },
  {
   "cell_type": "code",
   "execution_count": 82,
   "metadata": {
    "scrolled": true
   },
   "outputs": [],
   "source": [
    "#Marking bad components\n",
    "for f in files:\n",
    "    mark_artifacts(ica[f], raw[f])"
   ]
  },
  {
   "cell_type": "code",
   "execution_count": null,
   "metadata": {
    "scrolled": true
   },
   "outputs": [],
   "source": [
    "ica['10_1'].plot_sources(raw['10_1'])"
   ]
  },
  {
   "cell_type": "code",
   "execution_count": 83,
   "metadata": {
    "scrolled": true
   },
   "outputs": [],
   "source": [
    "#Applying ica\n",
    "for f in files:\n",
    "    ica[f].apply(raw[f], exclude = ica[f].exclude)"
   ]
  },
  {
   "cell_type": "markdown",
   "metadata": {},
   "source": [
    "## plotting Electrode positions"
   ]
  },
  {
   "cell_type": "code",
   "execution_count": 12,
   "metadata": {},
   "outputs": [],
   "source": [
    "unclean_raw['12_1'].plot_sensors(ch_type = 'eeg', sphere = 10);\n",
    "# # rawab12_2.plot_sensors(ch_type = 'eeg', sphere = 10);"
   ]
  },
  {
   "cell_type": "code",
   "execution_count": 13,
   "metadata": {},
   "outputs": [],
   "source": [
    "unclean_raw['12_1'].plot_sensors(ch_type = 'eeg', kind = '3d');\n",
    "# # rawab12_2.plot_sensors(ch_type = 'eeg', kind = '3d');"
   ]
  },
  {
   "cell_type": "code",
   "execution_count": 14,
   "metadata": {},
   "outputs": [],
   "source": [
    "# raw['12_1'].plot_sensors(ch_type = 'eeg', sphere = 10);"
   ]
  },
  {
   "cell_type": "code",
   "execution_count": 84,
   "metadata": {
    "scrolled": true
   },
   "outputs": [
    {
     "data": {
      "text/html": [
       "\n",
       "\n",
       "<table class=\"table table-hover\">\n",
       "    <tr>\n",
       "        <th>Measurement date</th>\n",
       "<td>Unknown</td>\n",
       "    </tr>\n",
       "    <tr>\n",
       "        <th>Experimenter</th>\n",
       "<td>Unknown</td>\n",
       "    </tr>\n",
       "        <th>Participant</th>\n",
       "<td>Unknown</td>\n",
       "    </tr>\n",
       "    <tr>\n",
       "        <th>Digitized points</th>\n",
       "        <td>66 points</td>\n",
       "    </tr>\n",
       "    <tr>\n",
       "        <th>Good channels</th>\n",
       "        <td>0 magnetometer, 0 gradiometer,\n",
       "            and 61 EEG channels</td>\n",
       "    </tr>\n",
       "    <tr>\n",
       "        <th>Bad channels</th>\n",
       "        <td></td>\n",
       "        \n",
       "    </tr>\n",
       "    <tr>\n",
       "        <th>EOG channels</th>\n",
       "        <td>VEO, HEO</td>\n",
       "    </tr>\n",
       "    <tr>\n",
       "        <th>ECG channels</th>\n",
       "        <td>EKG</td>\n",
       "    <tr>\n",
       "        <th>Sampling frequency</th>\n",
       "        <td>500.00 Hz</td>\n",
       "    </tr>\n",
       "    <tr>\n",
       "        <th>Highpass</th>\n",
       "        <td>0.50 Hz</td>\n",
       "    </tr>\n",
       "     <tr>\n",
       "        <th>Lowpass</th>\n",
       "        <td>250.00 Hz</td>\n",
       "    </tr>\n",
       "\n",
       "    <tr>\n",
       "        <th>Filenames</th>\n",
       "        <td>sub-AB10_eeg_sub-AB10_task-gonogo_run-1_eeg.set</td>\n",
       "    </tr>\n",
       "    <tr>\n",
       "        <th>Duration</th>\n",
       "        <td>00:08:45 (HH:MM:SS)</td>\n",
       "    </tr>\n",
       "</table>\n"
      ],
      "text/plain": [
       "<RawEEGLAB | sub-AB10_eeg_sub-AB10_task-gonogo_run-1_eeg.set, 66 x 262640 (525.3 s), ~132.3 MB, data loaded>"
      ]
     },
     "execution_count": 84,
     "metadata": {},
     "output_type": "execute_result"
    }
   ],
   "source": [
    "unclean_raw['10_1']"
   ]
  },
  {
   "cell_type": "code",
   "execution_count": 16,
   "metadata": {},
   "outputs": [
    {
     "name": "stdout",
     "output_type": "stream",
     "text": [
      "Channels marked as bad: none\n"
     ]
    }
   ],
   "source": [
    "unclean_raw['10_1'].plot();"
   ]
  },
  {
   "cell_type": "code",
   "execution_count": 17,
   "metadata": {},
   "outputs": [
    {
     "name": "stdout",
     "output_type": "stream",
     "text": [
      "Channels marked as bad: none\n"
     ]
    }
   ],
   "source": [
    "raw['10_1'].plot();"
   ]
  },
  {
   "cell_type": "code",
   "execution_count": 85,
   "metadata": {
    "scrolled": true,
    "tags": []
   },
   "outputs": [],
   "source": [
    "for f in files:\n",
    "    raw[f].filter(0.5, 60)"
   ]
  },
  {
   "cell_type": "markdown",
   "metadata": {},
   "source": [
    "## Generating Events for all subjects"
   ]
  },
  {
   "cell_type": "code",
   "execution_count": 86,
   "metadata": {},
   "outputs": [],
   "source": [
    "events = {}\n",
    "for f in files:\n",
    "    events[f] = mne.events_from_annotations(raw[f])"
   ]
  },
  {
   "cell_type": "code",
   "execution_count": 87,
   "metadata": {},
   "outputs": [
    {
     "data": {
      "text/plain": [
       "{'taskstart': '9',\n",
       " 'cue': '1',\n",
       " 'go': '2',\n",
       " 'button press': '5',\n",
       " 'no-go': '4',\n",
       " 'task end': '10',\n",
       " 'error 1': '3',\n",
       " 'error 2': '6',\n",
       " 'error 3': '7',\n",
       " 'error 4': '8',\n",
       " 'error 5': '11'}"
      ]
     },
     "execution_count": 87,
     "metadata": {},
     "output_type": "execute_result"
    }
   ],
   "source": [
    "#Creating event id Dictionary\n",
    "event_id = {\n",
    "    \"taskstart\" : '9',\n",
    "    \"cue\" : \"1\",\n",
    "    \"go\" : \"2\",\n",
    "    \"button press\" : \"5\",\n",
    "    \"no-go\" : \"4\",\n",
    "    \"task end\": \"10\",\n",
    "    \"error 1\" : \"3\",\n",
    "    \"error 2\" : \"6\",\n",
    "    \"error 3\" : \"7\",\n",
    "    \"error 4\" : \"8\",\n",
    "    \"error 5\" : \"11\"\n",
    "}\n",
    "event_id"
   ]
  },
  {
   "cell_type": "markdown",
   "metadata": {},
   "source": [
    "## Creating Epochs"
   ]
  },
  {
   "cell_type": "code",
   "execution_count": 88,
   "metadata": {
    "scrolled": true
   },
   "outputs": [],
   "source": [
    "#Creating epochs\n",
    "epochs = {}\n",
    "for f in files:\n",
    "    epochs[f] = mne.Epochs(raw[f],\n",
    "                   events = events[f][0],\n",
    "                   event_id = events[f][1],)"
   ]
  },
  {
   "cell_type": "code",
   "execution_count": 23,
   "metadata": {
    "scrolled": true
   },
   "outputs": [
    {
     "name": "stdout",
     "output_type": "stream",
     "text": [
      "Loading data for 155 events and 351 original time points ...\n",
      "0 bad epochs dropped\n",
      "Loading data for 155 events and 351 original time points ...\n",
      "Loading data for 20 events and 351 original time points ...\n",
      "Dropped 0 epochs: \n",
      "Channels marked as bad: none\n"
     ]
    }
   ],
   "source": [
    "epochs['10_1'].plot();"
   ]
  },
  {
   "cell_type": "code",
   "execution_count": 89,
   "metadata": {},
   "outputs": [
    {
     "data": {
      "text/plain": [
       "(155, 61, 351)"
      ]
     },
     "execution_count": 89,
     "metadata": {},
     "output_type": "execute_result"
    }
   ],
   "source": [
    "epochs['10_1'].get_data(picks = 'eeg').shape"
   ]
  },
  {
   "cell_type": "code",
   "execution_count": 90,
   "metadata": {},
   "outputs": [],
   "source": [
    "#to fix event ids\n",
    "def get_keys_from_value(d, val):\n",
    "    return [k for k, v in d.items() if v == val]\n",
    "def fix_event_ids(epochs, events):\n",
    "    for i in range(epochs.events.shape[0]):\n",
    "        epochs.events[i][2] = int(get_keys_from_value(events[1], epochs.events[i][2])[0])"
   ]
  },
  {
   "cell_type": "code",
   "execution_count": 91,
   "metadata": {},
   "outputs": [],
   "source": [
    "#fix event ids\n",
    "for f in files:\n",
    "    fix_event_ids(epochs[f], events[f])"
   ]
  },
  {
   "cell_type": "markdown",
   "metadata": {},
   "source": [
    "## Analysis"
   ]
  },
  {
   "cell_type": "code",
   "execution_count": 27,
   "metadata": {},
   "outputs": [
    {
     "name": "stdout",
     "output_type": "stream",
     "text": [
      "Loading data for 60 events and 351 original time points ...\n",
      "Not setting metadata\n",
      "Not setting metadata\n",
      "60 matching events found\n",
      "No baseline correction applied\n",
      "0 projection items activated\n",
      "0 bad epochs dropped\n",
      "combining channels using \"gfp\"\n"
     ]
    },
    {
     "data": {
      "text/plain": [
       "[<Figure size 640x476 with 3 Axes>]"
      ]
     },
     "execution_count": 27,
     "metadata": {},
     "output_type": "execute_result"
    }
   ],
   "source": [
    "epochs['10_1']['1'].plot_image()"
   ]
  },
  {
   "cell_type": "code",
   "execution_count": 17,
   "metadata": {},
   "outputs": [
    {
     "data": {
      "text/html": [
       "\n",
       "<table class=\"table table-hover\">\n",
       "    <tr>\n",
       "        <th>Number of events</th>\n",
       "        <td>155</td>\n",
       "    </tr>\n",
       "    <tr>\n",
       "        <th>Events</th>\n",
       "        <td>1: 60<br>10: 40<br>11: 2<br>2: 10<br>3: 40<br>4: 0<br>5: 0<br>9: 0<br></td>\n",
       "    </tr>\n",
       "    <tr>\n",
       "        <th>Time range</th>\n",
       "        <td>-0.200 – 0.500 sec</td>\n",
       "    </tr>\n",
       "    <tr>\n",
       "        <th>Baseline</th>\n",
       "        <td>-0.200 – 0.000 sec</td>\n",
       "    </tr>\n",
       "</table>\n"
      ],
      "text/plain": [
       "<Epochs |  155 events (all good), -0.2 - 0.5 sec, baseline -0.2 – 0 sec, ~92 kB, data not loaded,\n",
       " '1': 60\n",
       " '10': 40\n",
       " '11': 2\n",
       " '2': 10\n",
       " '3': 40\n",
       " '4': 0\n",
       " '5': 0\n",
       " '9': 0>"
      ]
     },
     "execution_count": 17,
     "metadata": {},
     "output_type": "execute_result"
    }
   ],
   "source": [
    "epochs['10_1']"
   ]
  },
  {
   "cell_type": "code",
   "execution_count": 62,
   "metadata": {},
   "outputs": [
    {
     "data": {
      "text/html": [
       "\n",
       "<table class=\"table table-hover\">\n",
       "    <tr>\n",
       "        <th>Number of events</th>\n",
       "        <td>60</td>\n",
       "    </tr>\n",
       "    <tr>\n",
       "        <th>Events</th>\n",
       "        <td>1: 60<br></td>\n",
       "    </tr>\n",
       "    <tr>\n",
       "        <th>Time range</th>\n",
       "        <td>-0.200 – 0.500 sec</td>\n",
       "    </tr>\n",
       "    <tr>\n",
       "        <th>Baseline</th>\n",
       "        <td>-0.200 – 0.000 sec</td>\n",
       "    </tr>\n",
       "</table>\n"
      ],
      "text/plain": [
       "<Epochs |  60 events (all good), -0.2 - 0.5 sec, baseline -0.2 – 0 sec, ~92 kB, data not loaded,\n",
       " '1': 60>"
      ]
     },
     "execution_count": 62,
     "metadata": {},
     "output_type": "execute_result"
    }
   ],
   "source": [
    "epochs['10_1']['1']"
   ]
  },
  {
   "cell_type": "code",
   "execution_count": null,
   "metadata": {},
   "outputs": [],
   "source": []
  },
  {
   "cell_type": "code",
   "execution_count": 92,
   "metadata": {},
   "outputs": [
    {
     "name": "stderr",
     "output_type": "stream",
     "text": [
      "<ipython-input-92-bf7b70a004d0>:32: RuntimeWarning: evoked object is empty (based on less than 1 epoch)\n",
      "  evoked_281_go = epochs['28_1']['2'].average()\n",
      "<ipython-input-92-bf7b70a004d0>:53: RuntimeWarning: evoked object is empty (based on less than 1 epoch)\n",
      "  evoked_322_go = epochs['32_2']['2'].average()\n"
     ]
    }
   ],
   "source": [
    "evoked_101_cue = epochs['10_1']['1'].average()\n",
    "evoked_101_go = epochs['10_1']['2'].average()\n",
    "evoked_101_error1 = epochs['10_1']['3'].average()\n",
    "\n",
    "evoked_102_cue = epochs['10_2']['1'].average()\n",
    "evoked_102_go = epochs['10_2']['2'].average()\n",
    "evoked_102_error1 = epochs['10_2']['3'].average()\n",
    "\n",
    "\n",
    "\n",
    "evoked_121_cue = epochs['12_1']['1'].average()\n",
    "# evoked_121_go = epochs['12_1']['2'].average()\n",
    "# evoked_121_error1 = epochs['12_1']['3'].average()\n",
    "\n",
    "evoked_122_cue = epochs['12_2']['1'].average()\n",
    "evoked_122_go = epochs['12_2']['2'].average()\n",
    "# evoked_122_error1 = epochs['12_2']['3'].average()\n",
    "\n",
    "\n",
    "\n",
    "evoked_131_cue = epochs['13_1']['1'].average()\n",
    "evoked_131_go = epochs['13_1']['2'].average()\n",
    "# evoked_131_error1 = epochs['13_1']['3'].average()\n",
    "\n",
    "evoked_132_cue = epochs['13_2']['1'].average()\n",
    "evoked_132_go = epochs['13_2']['2'].average()\n",
    "# evoked_132_error1 = epochs['13_2']['3'].average()\n",
    "\n",
    "\n",
    "\n",
    "evoked_281_cue = epochs['28_1']['1'].average()\n",
    "evoked_281_go = epochs['28_1']['2'].average()\n",
    "# evoked_131_error1 = epochs['13_1']['3'].average()\n",
    "\n",
    "evoked_282_cue = epochs['28_2']['1'].average()\n",
    "evoked_282_go = epochs['28_2']['2'].average()\n",
    "# evoked_132_error1 = epochs['13_2']['3'].average()\n",
    "\n",
    "evoked_311_cue = epochs['31_1']['1'].average()\n",
    "evoked_311_go = epochs['31_1']['2'].average()\n",
    "# evoked_131_error1 = epochs['13_1']['3'].average()\n",
    "\n",
    "evoked_312_cue = epochs['31_2']['1'].average()\n",
    "evoked_312_go = epochs['31_2']['2'].average()\n",
    "# evoked_132_error1 = epochs['13_2']['3'].average()\n",
    "\n",
    "\n",
    "evoked_321_cue = epochs['32_1']['1'].average()\n",
    "evoked_321_go = epochs['32_1']['2'].average()\n",
    "# evoked_131_error1 = epochs['13_1']['3'].average()\n",
    "\n",
    "evoked_322_cue = epochs['32_2']['1'].average()\n",
    "evoked_322_go = epochs['32_2']['2'].average()\n",
    "# evoked_132_error1 = epochs['13_2']['3'].average()"
   ]
  },
  {
   "cell_type": "code",
   "execution_count": 96,
   "metadata": {},
   "outputs": [
    {
     "data": {
      "text/html": [
       "\n",
       "<table class=\"table table-hover\">\n",
       "    <tr>\n",
       "        <th>Number of events</th>\n",
       "        <td>154</td>\n",
       "    </tr>\n",
       "    <tr>\n",
       "        <th>Events</th>\n",
       "        <td>1: 60<br>10: 40<br>2: 0<br>4: 10<br>5: 40<br>6: 1<br>7: 1<br>9: 0<br></td>\n",
       "    </tr>\n",
       "    <tr>\n",
       "        <th>Time range</th>\n",
       "        <td>-0.200 – 0.500 sec</td>\n",
       "    </tr>\n",
       "    <tr>\n",
       "        <th>Baseline</th>\n",
       "        <td>-0.200 – 0.000 sec</td>\n",
       "    </tr>\n",
       "</table>\n"
      ],
      "text/plain": [
       "<Epochs |  154 events (good & bad), -0.2 - 0.5 sec, baseline -0.2 – 0 sec, ~92 kB, data not loaded,\n",
       " '1': 60\n",
       " '10': 40\n",
       " '2': 0\n",
       " '4': 10\n",
       " '5': 40\n",
       " '6': 1\n",
       " '7': 1\n",
       " '9': 0>"
      ]
     },
     "execution_count": 96,
     "metadata": {},
     "output_type": "execute_result"
    }
   ],
   "source": [
    "epochs['28_1']"
   ]
  },
  {
   "cell_type": "code",
   "execution_count": 97,
   "metadata": {},
   "outputs": [
    {
     "data": {
      "text/html": [
       "\n",
       "<table class=\"table table-hover\">\n",
       "    <tr>\n",
       "        <th>Number of events</th>\n",
       "        <td>155</td>\n",
       "    </tr>\n",
       "    <tr>\n",
       "        <th>Events</th>\n",
       "        <td>1: 60<br>10: 40<br>11: 2<br>2: 10<br>3: 40<br>4: 0<br>5: 0<br>9: 0<br></td>\n",
       "    </tr>\n",
       "    <tr>\n",
       "        <th>Time range</th>\n",
       "        <td>-0.200 – 0.500 sec</td>\n",
       "    </tr>\n",
       "    <tr>\n",
       "        <th>Baseline</th>\n",
       "        <td>-0.200 – 0.000 sec</td>\n",
       "    </tr>\n",
       "</table>\n"
      ],
      "text/plain": [
       "<Epochs |  155 events (all good), -0.2 - 0.5 sec, baseline -0.2 – 0 sec, ~92 kB, data not loaded,\n",
       " '1': 60\n",
       " '10': 40\n",
       " '11': 2\n",
       " '2': 10\n",
       " '3': 40\n",
       " '4': 0\n",
       " '5': 0\n",
       " '9': 0>"
      ]
     },
     "execution_count": 97,
     "metadata": {},
     "output_type": "execute_result"
    }
   ],
   "source": [
    "epochs['10_1']"
   ]
  },
  {
   "cell_type": "code",
   "execution_count": 25,
   "metadata": {},
   "outputs": [
    {
     "data": {
      "image/png": "[encoded data removed]",
      "text/plain": [
       "<Figure size 640x300 with 2 Axes>"
      ]
     },
     "execution_count": 25,
     "metadata": {},
     "output_type": "execute_result"
    }
   ],
   "source": [
    "evoked_101_cue.plot(spatial_colors=True)\n",
    "evoked_102_cue.plot(spatial_colors=True)\n",
    "\n",
    "evoked_101_go.plot(spatial_colors=True)\n",
    "evoked_102_go.plot(spatial_colors=True)\n",
    "\n",
    "evoked_101_error1.plot(spatial_colors=True)\n",
    "evoked_102_error1.plot(spatial_colors=True)"
   ]
  },
  {
   "cell_type": "code",
   "execution_count": null,
   "metadata": {},
   "outputs": [],
   "source": []
  },
  {
   "cell_type": "code",
   "execution_count": null,
   "metadata": {},
   "outputs": [],
   "source": []
  },
  {
   "cell_type": "markdown",
   "metadata": {},
   "source": [
    "## Multivariate Statistics"
   ]
  },
  {
   "cell_type": "code",
   "execution_count": 20,
   "metadata": {},
   "outputs": [],
   "source": [
    "%matplotlib qt"
   ]
  },
  {
   "cell_type": "code",
   "execution_count": 21,
   "metadata": {},
   "outputs": [],
   "source": [
    "import pathlib\n",
    "import matplotlib\n",
    "import matplotlib.pyplot as plt\n",
    "import mne"
   ]
  },
  {
   "cell_type": "code",
   "execution_count": 22,
   "metadata": {},
   "outputs": [],
   "source": [
    "matplotlib.use('Qt5Agg')\n",
    "mne.set_log_level('warning')"
   ]
  },
  {
   "cell_type": "code",
   "execution_count": 93,
   "metadata": {},
   "outputs": [],
   "source": [
    "# epochs_101 = epochs['10_1']"
   ]
  },
  {
   "cell_type": "code",
   "execution_count": null,
   "metadata": {},
   "outputs": [],
   "source": []
  },
  {
   "cell_type": "code",
   "execution_count": 95,
   "metadata": {},
   "outputs": [
    {
     "data": {
      "image/png": "[encoded data removed]",
      "text/plain": [
       "<Figure size 640x300 with 1 Axes>"
      ]
     },
     "execution_count": 95,
     "metadata": {},
     "output_type": "execute_result"
    }
   ],
   "source": [
    "evoked_diff = mne.combine_evoked([\n",
    "    evoked_101_cue,\n",
    "    evoked_102_cue, \n",
    "    evoked_121_cue,\n",
    "    evoked_122_cue,\n",
    "    evoked_131_cue,\n",
    "    evoked_132_cue,\n",
    "    evoked_281_cue,\n",
    "    evoked_282_cue,\n",
    "    evoked_311_cue,\n",
    "    evoked_312_cue,\n",
    "    evoked_321_cue,\n",
    "    evoked_322_cue,\n",
    "    ], weights = 'equal')\n",
    "\n",
    "evoked_diff.plot(gfp = True)\n",
    "# mne.viz.plot_compare_evokeds(\n",
    "#     [\n",
    "#         evoked_101_cue,\n",
    "#         evoked_101_go,\n",
    "#         evoked_diff\n",
    "#     ]\n",
    "# )"
   ]
  },
  {
   "cell_type": "code",
   "execution_count": 42,
   "metadata": {},
   "outputs": [
    {
     "data": {
      "text/html": [
       "\n",
       "<table class=\"table table-hover\">\n",
       "    <tr>\n",
       "        <th>Number of events</th>\n",
       "        <td>155</td>\n",
       "    </tr>\n",
       "    <tr>\n",
       "        <th>Events</th>\n",
       "        <td>1: 60<br>10: 40<br>11: 2<br>2: 10<br>3: 40<br>4: 0<br>5: 0<br>9: 0<br></td>\n",
       "    </tr>\n",
       "    <tr>\n",
       "        <th>Time range</th>\n",
       "        <td>-0.200 – 0.500 sec</td>\n",
       "    </tr>\n",
       "    <tr>\n",
       "        <th>Baseline</th>\n",
       "        <td>-0.200 – 0.000 sec</td>\n",
       "    </tr>\n",
       "</table>\n"
      ],
      "text/plain": [
       "<Epochs |  155 events (all good), -0.2 - 0.5 sec, baseline -0.2 – 0 sec, ~92 kB, data not loaded,\n",
       " '1': 60\n",
       " '10': 40\n",
       " '11': 2\n",
       " '2': 10\n",
       " '3': 40\n",
       " '4': 0\n",
       " '5': 0\n",
       " '9': 0>"
      ]
     },
     "execution_count": 42,
     "metadata": {},
     "output_type": "execute_result"
    }
   ],
   "source": [
    "epochs['10_1']"
   ]
  },
  {
   "cell_type": "code",
   "execution_count": 35,
   "metadata": {},
   "outputs": [
    {
     "data": {
      "text/html": [
       "\n",
       "<table class=\"table table-hover\">\n",
       "    <tr>\n",
       "        <th>Number of events</th>\n",
       "        <td>60</td>\n",
       "    </tr>\n",
       "    <tr>\n",
       "        <th>Events</th>\n",
       "        <td>1: 60<br></td>\n",
       "    </tr>\n",
       "    <tr>\n",
       "        <th>Time range</th>\n",
       "        <td>-0.200 – 0.500 sec</td>\n",
       "    </tr>\n",
       "    <tr>\n",
       "        <th>Baseline</th>\n",
       "        <td>-0.200 – 0.000 sec</td>\n",
       "    </tr>\n",
       "</table>\n"
      ],
      "text/plain": [
       "<Epochs |  60 events (all good), -0.2 - 0.5 sec, baseline -0.2 – 0 sec, ~92 kB, data not loaded,\n",
       " '1': 60>"
      ]
     },
     "execution_count": 35,
     "metadata": {},
     "output_type": "execute_result"
    }
   ],
   "source": []
  },
  {
   "cell_type": "code",
   "execution_count": 36,
   "metadata": {},
   "outputs": [
    {
     "data": {
      "text/html": [
       "\n",
       "<table class=\"table table-hover\">\n",
       "    <tr>\n",
       "        <th>Number of events</th>\n",
       "        <td>155</td>\n",
       "    </tr>\n",
       "    <tr>\n",
       "        <th>Events</th>\n",
       "        <td>1: 60<br>10: 40<br>11: 2<br>2: 10<br>3: 40<br>4: 0<br>5: 0<br>9: 0<br></td>\n",
       "    </tr>\n",
       "    <tr>\n",
       "        <th>Time range</th>\n",
       "        <td>-0.200 – 0.500 sec</td>\n",
       "    </tr>\n",
       "    <tr>\n",
       "        <th>Baseline</th>\n",
       "        <td>-0.200 – 0.000 sec</td>\n",
       "    </tr>\n",
       "</table>\n"
      ],
      "text/plain": [
       "<Epochs |  155 events (all good), -0.2 - 0.5 sec, baseline -0.2 – 0 sec, ~92 kB, data not loaded,\n",
       " '1': 60\n",
       " '10': 40\n",
       " '11': 2\n",
       " '2': 10\n",
       " '3': 40\n",
       " '4': 0\n",
       " '5': 0\n",
       " '9': 0>"
      ]
     },
     "execution_count": 36,
     "metadata": {},
     "output_type": "execute_result"
    }
   ],
   "source": [
    "epochs['10_1']"
   ]
  },
  {
   "cell_type": "code",
   "execution_count": null,
   "metadata": {},
   "outputs": [],
   "source": []
  },
  {
   "cell_type": "code",
   "execution_count": null,
   "metadata": {},
   "outputs": [],
   "source": []
  },
  {
   "cell_type": "code",
   "execution_count": null,
   "metadata": {},
   "outputs": [],
   "source": []
  },
  {
   "cell_type": "markdown",
   "metadata": {},
   "source": [
    "# Applying Machine learning for classification"
   ]
  },
  {
   "cell_type": "code",
   "execution_count": 23,
   "metadata": {},
   "outputs": [],
   "source": [
    "#Loading important libraries\n",
    "import numpy as np\n",
    "import tensorflow as tf\n",
    "import matplotlib.pyplot as plt\n",
    "%matplotlib inline\n",
    "\n",
    "from tensorflow.keras.models import Model, Sequential\n",
    "from tensorflow.keras.layers import Dense, Softmax\n",
    "from tensorflow.keras.optimizers import Adam\n",
    "from tensorflow.keras.callbacks import EarlyStopping, ModelCheckpoint"
   ]
  },
  {
   "cell_type": "markdown",
   "metadata": {},
   "source": [
    "## Preparing data"
   ]
  },
  {
   "cell_type": "code",
   "execution_count": 22,
   "metadata": {
    "scrolled": true
   },
   "outputs": [
    {
     "name": "stdout",
     "output_type": "stream",
     "text": [
      "Loading data for 155 events and 351 original time points ...\n",
      "0 bad epochs dropped\n",
      "Loading data for 153 events and 351 original time points ...\n",
      "0 bad epochs dropped\n",
      "Loading data for 154 events and 351 original time points ...\n",
      "0 bad epochs dropped\n",
      "Loading data for 158 events and 351 original time points ...\n",
      "0 bad epochs dropped\n",
      "Loading data for 153 events and 351 original time points ...\n",
      "0 bad epochs dropped\n",
      "Loading data for 156 events and 351 original time points ...\n",
      "0 bad epochs dropped\n",
      "Loading data for 154 events and 351 original time points ...\n",
      "0 bad epochs dropped\n",
      "Loading data for 157 events and 351 original time points ...\n",
      "0 bad epochs dropped\n",
      "Loading data for 155 events and 351 original time points ...\n",
      "0 bad epochs dropped\n",
      "Loading data for 159 events and 351 original time points ...\n",
      "0 bad epochs dropped\n",
      "Loading data for 167 events and 351 original time points ...\n",
      "0 bad epochs dropped\n",
      "Loading data for 154 events and 351 original time points ...\n",
      "0 bad epochs dropped\n"
     ]
    }
   ],
   "source": [
    "#Getting epoch data\n",
    "datadic = {}\n",
    "for f in files:\n",
    "    datadic[f] = epochs[f].get_data(picks = 'eeg')"
   ]
  },
  {
   "cell_type": "code",
   "execution_count": 86,
   "metadata": {},
   "outputs": [],
   "source": [
    "# epochs['10_1'].plot()"
   ]
  },
  {
   "cell_type": "code",
   "execution_count": 87,
   "metadata": {},
   "outputs": [
    {
     "name": "stdout",
     "output_type": "stream",
     "text": [
      "(1875, 61, 351)\n",
      "351 X 61\n"
     ]
    },
    {
     "data": {
      "text/plain": [
       "(1875, 351, 61)"
      ]
     },
     "execution_count": 87,
     "metadata": {},
     "output_type": "execute_result"
    }
   ],
   "source": [
    "#Concatenating data\n",
    "data = np.concatenate(list(datadic.values()), \n",
    "                      axis = 0)\n",
    "print(data.shape)\n",
    "\n",
    "#Changing the shape of data from (events, channel, time points) to (events, time points, channel)\n",
    "datars = np.zeros((data.shape[0], data.shape[2], data.shape[1]))\n",
    "for i in range(datars.shape[0]):\n",
    "    datars[i] = np.transpose(data[i])\n",
    "    \n",
    "dims_lstm_1 = datars.shape[1]\n",
    "dims_lstm_2 = datars.shape[2]\n",
    "print(dims_lstm_1, \"X\", dims_lstm_2)\n",
    "datars.shape"
   ]
  },
  {
   "cell_type": "code",
   "execution_count": 88,
   "metadata": {},
   "outputs": [
    {
     "name": "stdout",
     "output_type": "stream",
     "text": [
      "(1875, 21411)\n"
     ]
    },
    {
     "data": {
      "text/plain": [
       "21411"
      ]
     },
     "execution_count": 88,
     "metadata": {},
     "output_type": "execute_result"
    }
   ],
   "source": [
    "n_trials = data.shape[0]\n",
    "\n",
    "\n",
    "data = data.reshape(n_trials, -1)\n",
    "print(data.shape)\n",
    "dims_ip = data.shape[1]\n",
    "dims_ip"
   ]
  },
  {
   "cell_type": "code",
   "execution_count": 89,
   "metadata": {},
   "outputs": [],
   "source": [
    "#Getting y\n",
    "ydic = {}\n",
    "for f in files:\n",
    "    ydic[f] = epochs[f].events[:, 2]\n",
    "y = np.concatenate(list(ydic.values()), axis = 0)"
   ]
  },
  {
   "cell_type": "code",
   "execution_count": 91,
   "metadata": {},
   "outputs": [
    {
     "name": "stdout",
     "output_type": "stream",
     "text": [
      "(1875, 351, 61)\n",
      "(1875, 1)\n",
      "(1875, 21412)\n",
      "(1875, 21411)\n",
      "(1875,)\n"
     ]
    }
   ],
   "source": [
    "#Preparing main dataset\n",
    "y = y.reshape(-1, 1)\n",
    "# y = y[...,np.newaxis]\n",
    "datarscopy = datars.copy()\n",
    "datarscopy = datarscopy.reshape(datars.shape[0], -1)\n",
    "\n",
    "print(datars.shape)\n",
    "print(y.shape)\n",
    "main_dataset = np.concatenate((datarscopy, y), axis = 1)\n",
    "print(main_dataset.shape)\n",
    "\n",
    "#Defining main x and y for training\n",
    "main_x = main_dataset[:, :-1]\n",
    "main_y = main_dataset[:, -1]\n",
    "print(main_x.shape)\n",
    "print(main_y.shape)"
   ]
  },
  {
   "cell_type": "code",
   "execution_count": 92,
   "metadata": {},
   "outputs": [],
   "source": [
    "# Clearing memory\n",
    "del unclean_raw\n",
    "del raw\n",
    "del ica\n",
    "del events\n",
    "del epochs"
   ]
  },
  {
   "cell_type": "markdown",
   "metadata": {},
   "source": [
    "## Classfying go/no/cue/button press"
   ]
  },
  {
   "cell_type": "code",
   "execution_count": 93,
   "metadata": {},
   "outputs": [
    {
     "name": "stdout",
     "output_type": "stream",
     "text": [
      "(1875, 21412)\n",
      "(1797, 21412)\n",
      "(1797, 21411)\n",
      "(1797,)\n",
      "[1.0, 2.0, 4.0, 5.0]\n",
      "[1.00561704e-06 1.37242260e-06 1.11504773e-06 ... 4.68724479e-06\n",
      " 4.76709206e-06 5.01432059e-06]\n",
      "[ 2.51392347e-05  2.56836763e-05  1.85130996e-05 ... -5.27973370e-06\n",
      " -1.18403333e-05 -1.18113343e-05]\n"
     ]
    }
   ],
   "source": [
    "#Removing events which are not needed for current task\n",
    "dataset = main_dataset.copy()\n",
    "print(dataset.shape)\n",
    "dataset = dataset[dataset[:, -1]!=9]\n",
    "dataset = dataset[dataset[:, -1]!=10]\n",
    "\n",
    "dataset = dataset[dataset[:, -1]!=3]\n",
    "dataset = dataset[dataset[:, -1]!=6]\n",
    "dataset = dataset[dataset[:, -1]!=7]\n",
    "dataset = dataset[dataset[:, -1]!=8]\n",
    "dataset = dataset[dataset[:, -1]!=11]\n",
    "\n",
    "print(dataset.shape)\n",
    "\n",
    "#Defining x and y\n",
    "x = dataset[:, :-1]\n",
    "y = dataset[:, -1]\n",
    "print(x.shape)\n",
    "print(y.shape)\n",
    "print(list(set(y)))\n",
    "\n",
    "permutations = np.random.permutation(len(x))\n",
    "# print(permutation)\n",
    "print(x[-1])\n",
    "x = x[permutations]\n",
    "y = y[permutations]\n",
    "print(x[-1])\n",
    "\n",
    "xmlp = x.copy()\n",
    "ymlp = y.copy()\n",
    "\n",
    "xlstm = x.copy().reshape((-1, dims_lstm_1, dims_lstm_2))\n",
    "ylstm = y.copy()\n",
    "\n",
    "xcnn = x.copy().reshape((-1, dims_lstm_1, dims_lstm_2))\n",
    "ycnn = y.copy()"
   ]
  },
  {
   "cell_type": "code",
   "execution_count": 94,
   "metadata": {},
   "outputs": [
    {
     "name": "stdout",
     "output_type": "stream",
     "text": [
      "[0.0, 1.0, 2.0, 3.0]\n"
     ]
    }
   ],
   "source": [
    "#Encoding y\n",
    "dict = {1.0: 0,2.0: 1, 4.0: 2, 5.0: 3}\n",
    "\n",
    "for i in range(len(y)):\n",
    "    y[i] = dict[y[i]]\n",
    "    ylstm[i] = dict[ylstm[i]]\n",
    "\n",
    "print(list(set(y)))"
   ]
  },
  {
   "cell_type": "code",
   "execution_count": 95,
   "metadata": {},
   "outputs": [
    {
     "name": "stdout",
     "output_type": "stream",
     "text": [
      "[[1. 0. 0. 0.]\n",
      " [0. 0. 1. 0.]\n",
      " [1. 0. 0. 0.]\n",
      " [1. 0. 0. 0.]\n",
      " [1. 0. 0. 0.]]\n"
     ]
    }
   ],
   "source": [
    "num_classes = 4\n",
    "y = tf.keras.utils.to_categorical(y, num_classes)\n",
    "ymlp = y.copy()\n",
    "ylstm = y.copy()\n",
    "ycnn = y.copy()\n",
    "# yab10_1[0]\n",
    "print(y[:5])"
   ]
  },
  {
   "cell_type": "code",
   "execution_count": 96,
   "metadata": {},
   "outputs": [
    {
     "name": "stdout",
     "output_type": "stream",
     "text": [
      "1437\n"
     ]
    }
   ],
   "source": [
    "train_test_split = int(0.8 * len(xmlp))\n",
    "print(train_test_split)\n",
    "\n",
    "x_train_mlp = xmlp[:train_test_split]\n",
    "y_train_mlp = ymlp[:train_test_split]\n",
    "\n",
    "x_test_mlp = xmlp[train_test_split:]\n",
    "y_test_mlp = ymlp[train_test_split:]\n",
    "\n",
    "# x_mlp_train = xmlp[:]"
   ]
  },
  {
   "cell_type": "code",
   "execution_count": 97,
   "metadata": {},
   "outputs": [],
   "source": [
    "def get_cyclic_generator(features, labels, batch_size = 1):\n",
    "  while True:\n",
    "    for n in range(features.shape[0]//batch_size):\n",
    "      yield (features[n*batch_size: (n+1)*batch_size], labels[n*batch_size: (n+1)*batch_size])\n",
    "    permuted = np.random.permutation(len(features))\n",
    "    features = features[permuted]\n",
    "    labels = labels[permuted]"
   ]
  },
  {
   "cell_type": "code",
   "execution_count": 98,
   "metadata": {},
   "outputs": [],
   "source": [
    "train_batch_size = 32\n",
    "train_cyclic_generator_mlp = get_cyclic_generator(x_train_mlp, y_train_mlp, batch_size = train_batch_size)\n",
    "# test_cyclic_generator_mlp = get_cyclic_generator(x_test_mlp, y_test_mlp, batch_size = train_batch_size)"
   ]
  },
  {
   "cell_type": "markdown",
   "metadata": {},
   "source": [
    "### Training on MLP Model"
   ]
  },
  {
   "cell_type": "code",
   "execution_count": 99,
   "metadata": {},
   "outputs": [
    {
     "name": "stdout",
     "output_type": "stream",
     "text": [
      "Model: \"model_1\"\n",
      "_________________________________________________________________\n",
      "Layer (type)                 Output Shape              Param #   \n",
      "=================================================================\n",
      "input_2 (InputLayer)         [(None, 21411)]           0         \n",
      "_________________________________________________________________\n",
      "dense_3 (Dense)              (None, 32)                685184    \n",
      "_________________________________________________________________\n",
      "dropout_2 (Dropout)          (None, 32)                0         \n",
      "_________________________________________________________________\n",
      "dense_4 (Dense)              (None, 16)                528       \n",
      "_________________________________________________________________\n",
      "dropout_3 (Dropout)          (None, 16)                0         \n",
      "_________________________________________________________________\n",
      "dense_5 (Dense)              (None, 4)                 68        \n",
      "=================================================================\n",
      "Total params: 685,780\n",
      "Trainable params: 685,780\n",
      "Non-trainable params: 0\n",
      "_________________________________________________________________\n"
     ]
    }
   ],
   "source": [
    "#Creating model architecture\n",
    "inp_shape = (dims_ip, )\n",
    "ip = tf.keras.Input(shape = inp_shape)\n",
    "dense1 = tf.keras.layers.Dense(units = 32, activation = 'relu', kernel_initializer = 'random_normal')(ip)\n",
    "drop = tf.keras.layers.Dropout(.4)(dense1)\n",
    "dense2 = tf.keras.layers.Dense(units = 16, activation = 'relu', kernel_initializer = 'random_normal')(drop)\n",
    "drop2 = tf.keras.layers.Dropout(.4)(dense2)\n",
    "out = tf.keras.layers.Dense(num_classes, activation = 'softmax')(drop2)\n",
    "\n",
    "mlp = tf.keras.Model(inputs = ip, outputs = out)\n",
    "mlp.summary()\n",
    "# inp_shape = (None, )\n",
    "# review_sequence = tf.keras.Input(shape = inp_shape)\n",
    "# embedding_sequence = tf.keras.layers.Embedding(input_dim=100+1, output_dim=32, input_shape=(review_sequence.shape), mask_zero=False)(review_sequence)\n",
    "# average_embedding = tf.keras.layers.GlobalAveragePooling1D()(embedding_sequence)\n",
    "# positive_probability = tf.keras.layers.Dense(units=1, activation='sigmoid')(average_embedding)\n",
    "\n",
    "# model = tf.keras.Model(inputs = review_sequence, outputs = positive_probability)"
   ]
  },
  {
   "cell_type": "code",
   "execution_count": 100,
   "metadata": {},
   "outputs": [],
   "source": [
    "# Compiling the model\n",
    "mlp_earlystop = EarlyStopping(patience = 10, min_delta = 0.001, monitor = 'val_acc')\n",
    "\n",
    "path = 'mlp_checkpoint/checkpoint_{epoch:02d}';\n",
    "mlp_checkpoint = ModelCheckpoint(filepath = path,\n",
    "                            verbose = 1,\n",
    "                            monitor = 'val_acc',\n",
    "                            save_freq = 'epoch',\n",
    "                            save_best_only = True,\n",
    "                            save_weights_only = True)\n",
    "\n",
    "mlp.compile(loss = 'categorical_crossentropy', metrics = ['acc'], optimizer = 'adam')"
   ]
  },
  {
   "cell_type": "code",
   "execution_count": 101,
   "metadata": {
    "scrolled": true
   },
   "outputs": [
    {
     "name": "stdout",
     "output_type": "stream",
     "text": [
      "WARNING:tensorflow:sample_weight modes were coerced from\n",
      "  ...\n",
      "    to  \n",
      "  ['...']\n",
      "Train for 449 steps, validate on 360 samples\n",
      "Epoch 1/50\n",
      "448/449 [============================>.] - ETA: 0s - loss: 1.2883 - acc: 0.3885- ETA: 2s - \n",
      "Epoch 00001: val_acc improved from -inf to 0.42500, saving model to mlp_checkpoint/checkpoint_01\n",
      "449/449 [==============================] - 14s 31ms/step - loss: 1.2880 - acc: 0.3891 - val_loss: 1.2343 - val_acc: 0.4250\n",
      "Epoch 2/50\n",
      "447/449 [============================>.] - ETA: 0s - loss: 1.2656 - acc: 0.3918\n",
      "Epoch 00002: val_acc did not improve from 0.42500\n",
      "449/449 [==============================] - 8s 18ms/step - loss: 1.2652 - acc: 0.3921 - val_loss: 1.2322 - val_acc: 0.4250\n",
      "Epoch 3/50\n",
      "445/449 [============================>.] - ETA: 0s - loss: 1.2618 - acc: 0.3940- ETA: 6s - loss: 1.2634 - a - ETA: 1s - \n",
      "Epoch 00003: val_acc did not improve from 0.42500\n",
      "449/449 [==============================] - 8s 18ms/step - loss: 1.2619 - acc: 0.3941 - val_loss: 1.2292 - val_acc: 0.4250\n",
      "Epoch 4/50\n",
      "448/449 [============================>.] - ETA: 0s - loss: 1.2586 - acc: 0.395 - ETA: 0s - loss: 1.2590 - acc: 0.3952\n",
      "Epoch 00004: val_acc did not improve from 0.42500\n",
      "449/449 [==============================] - 8s 19ms/step - loss: 1.2588 - acc: 0.3954 - val_loss: 1.2289 - val_acc: 0.4250\n",
      "Epoch 5/50\n",
      "448/449 [============================>.] - ETA: 0s - loss: 1.2578 - acc: 0.3933- ETA: 0s - loss: 1.25\n",
      "Epoch 00005: val_acc did not improve from 0.42500\n",
      "449/449 [==============================] - 8s 18ms/step - loss: 1.2577 - acc: 0.3934 - val_loss: 1.2268 - val_acc: 0.4250\n",
      "Epoch 6/50\n",
      "447/449 [============================>.] - ETA: 0s - loss: 1.2542 - acc: 0.3946- ETA: 3s - loss: - ETA: 2s - l - ETA: 0s - loss: 1.2550 - ac - ETA: 0s - loss: 1.2544 - acc: 0.3944\n",
      "Epoch 00006: val_acc did not improve from 0.42500\n",
      "449/449 [==============================] - 8s 18ms/step - loss: 1.2544 - acc: 0.3944 - val_loss: 1.2223 - val_acc: 0.4250\n",
      "Epoch 7/50\n",
      "446/449 [============================>.] - ETA: 0s - loss: 1.2507 - acc: 0.3950\n",
      "Epoch 00007: val_acc did not improve from 0.42500\n",
      "449/449 [==============================] - 8s 18ms/step - loss: 1.2505 - acc: 0.3950 - val_loss: 1.2162 - val_acc: 0.4250\n",
      "Epoch 8/50\n",
      "448/449 [============================>.] - ETA: 0s - loss: 1.2426 - acc: 0.3945- ETA: 5s - loss: 1.24 - ETA: 4s - loss: 1.2447 - ETA: 3s - loss: 1. - ETA: 2s - loss: 1.2434 - acc:  - ETA: 2s - los - ETA: 0s - loss: 1.2436\n",
      "Epoch 00008: val_acc did not improve from 0.42500\n",
      "449/449 [==============================] - 8s 19ms/step - loss: 1.2427 - acc: 0.3946 - val_loss: 1.2068 - val_acc: 0.4250\n",
      "Epoch 9/50\n",
      "446/449 [============================>.] - ETA: 0s - loss: 1.2348 - acc: 0.3948 - ETA: 1s - \n",
      "Epoch 00009: val_acc did not improve from 0.42500\n",
      "449/449 [==============================] - 9s 19ms/step - loss: 1.2344 - acc: 0.3950 - val_loss: 1.1933 - val_acc: 0.4250\n",
      "Epoch 10/50\n",
      "447/449 [============================>.] - ETA: 0s - loss: 1.2281 - acc: 0.3958- ETA: 7s - loss: 1.2307 - acc: - ETA: 7s\n",
      "Epoch 00010: val_acc improved from 0.42500 to 0.44722, saving model to mlp_checkpoint/checkpoint_10\n",
      "449/449 [==============================] - 9s 20ms/step - loss: 1.2278 - acc: 0.3963 - val_loss: 1.1801 - val_acc: 0.4472\n",
      "Epoch 11/50\n",
      "446/449 [============================>.] - ETA: 0s - loss: 1.2174 - acc: 0.4194- ET - ETA: 1s - loss: 1.21\n",
      "Epoch 00011: val_acc improved from 0.44722 to 0.48056, saving model to mlp_checkpoint/checkpoint_11\n",
      "449/449 [==============================] - 11s 24ms/step - loss: 1.2174 - acc: 0.4191 - val_loss: 1.1804 - val_acc: 0.4806\n",
      "Epoch 12/50\n",
      "448/449 [============================>.] - ETA: 0s - loss: 1.2023 - acc: 0.4318\n",
      "Epoch 00012: val_acc did not improve from 0.48056\n",
      "449/449 [==============================] - 8s 18ms/step - loss: 1.2022 - acc: 0.4318 - val_loss: 1.1487 - val_acc: 0.4583\n",
      "Epoch 13/50\n",
      "448/449 [============================>.] - ETA: 0s - loss: 1.1913 - acc: 0.4403\n",
      "Epoch 00013: val_acc improved from 0.48056 to 0.49444, saving model to mlp_checkpoint/checkpoint_13\n",
      "449/449 [==============================] - 9s 20ms/step - loss: 1.1913 - acc: 0.4404 - val_loss: 1.1390 - val_acc: 0.4944\n",
      "Epoch 14/50\n",
      "447/449 [============================>.] - ETA: 0s - loss: 1.1745 - acc: 0.4462- ETA: 8s - loss: 1.1748 - acc: 0 - ETA: 7s - loss: 1.1795 - acc: 0.44\n",
      "Epoch 00014: val_acc improved from 0.49444 to 0.49722, saving model to mlp_checkpoint/checkpoint_14\n",
      "449/449 [==============================] - 10s 21ms/step - loss: 1.1743 - acc: 0.4467 - val_loss: 1.1179 - val_acc: 0.4972\n",
      "Epoch 15/50\n",
      "446/449 [============================>.] - ETA: 0s - loss: 1.1611 - acc: 0.4562-   - ETA: 3s - loss: 1.1636 - acc: 0.4 - ETA: 3s - loss: 1.1630 -\n",
      "Epoch 00015: val_acc improved from 0.49722 to 0.51944, saving model to mlp_checkpoint/checkpoint_15\n",
      "449/449 [==============================] - 10s 23ms/step - loss: 1.1614 - acc: 0.4564 - val_loss: 1.1012 - val_acc: 0.5194\n",
      "Epoch 16/50\n",
      "446/449 [============================>.] - ETA: 0s - loss: 1.1518 - acc: 0.4631\n",
      "Epoch 00016: val_acc improved from 0.51944 to 0.53056, saving model to mlp_checkpoint/checkpoint_16\n",
      "449/449 [==============================] - 9s 20ms/step - loss: 1.1523 - acc: 0.4624 - val_loss: 1.0880 - val_acc: 0.5306\n",
      "Epoch 17/50\n",
      "448/449 [============================>.] - ETA: 0s - loss: 1.1409 - acc: 0.4751\n",
      "Epoch 00017: val_acc improved from 0.53056 to 0.54722, saving model to mlp_checkpoint/checkpoint_17\n",
      "449/449 [==============================] - 10s 22ms/step - loss: 1.1408 - acc: 0.4751 - val_loss: 1.0751 - val_acc: 0.5472\n",
      "Epoch 18/50\n",
      "448/449 [============================>.] - ETA: 0s - loss: 1.1248 - acc: 0.4884- E\n",
      "Epoch 00018: val_acc did not improve from 0.54722\n",
      "449/449 [==============================] - 9s 20ms/step - loss: 1.1248 - acc: 0.4882 - val_loss: 1.0582 - val_acc: 0.5472\n",
      "Epoch 19/50\n",
      "447/449 [============================>.] - ETA: 0s - loss: 1.1158 - acc: 0.4931\n",
      "Epoch 00019: val_acc improved from 0.54722 to 0.55278, saving model to mlp_checkpoint/checkpoint_19\n",
      "449/449 [==============================] - 10s 21ms/step - loss: 1.1156 - acc: 0.4935 - val_loss: 1.0445 - val_acc: 0.5528\n",
      "Epoch 20/50\n",
      "448/449 [============================>.] - ETA: 0s - loss: 1.0962 - acc: 0.5064- ETA: 0s - loss: 1.0958 - acc\n",
      "Epoch 00020: val_acc did not improve from 0.55278\n",
      "449/449 [==============================] - 8s 19ms/step - loss: 1.0962 - acc: 0.5065 - val_loss: 1.0328 - val_acc: 0.5500\n",
      "Epoch 21/50\n",
      "447/449 [============================>.] - ETA: 0s - loss: 1.0808 - acc: 0.5185- ETA: 6s - los - ETA: 5s - loss: 1.0970 - acc - ETA: 5s - loss: 1.0 - ETA: 4s - loss: 1.0866 - -  - ETA: 1s - loss: 1\n",
      "Epoch 00021: val_acc improved from 0.55278 to 0.55833, saving model to mlp_checkpoint/checkpoint_21\n",
      "449/449 [==============================] - 9s 20ms/step - loss: 1.0806 - acc: 0.5184 - val_loss: 1.0190 - val_acc: 0.5583\n",
      "Epoch 22/50\n",
      "446/449 [============================>.] - ETA: 0s - loss: 1.0738 - acc: 0.5226- ETA: 4s - los - ETA: 3s - loss: 1.0789 -  - ETA: 2s - loss: 1.0765 - -\n",
      "Epoch 00022: val_acc did not improve from 0.55833\n",
      "449/449 [==============================] - 8s 18ms/step - loss: 1.0741 - acc: 0.5228 - val_loss: 1.0036 - val_acc: 0.5583\n",
      "Epoch 23/50\n",
      "447/449 [============================>.] - ETA: 0s - loss: 1.0540 - acc: 0.5415- ETA: 7s - loss: 1.0145 - acc: 0. - ETA - ETA: 2s - loss: 1.0538 -  - ETA:  - ETA: 0s - loss: 1.0540 - acc: 0.541\n",
      "Epoch 00023: val_acc improved from 0.55833 to 0.58889, saving model to mlp_checkpoint/checkpoint_23\n",
      "449/449 [==============================] - 8s 19ms/step - loss: 1.0537 - acc: 0.5413 - val_loss: 0.9914 - val_acc: 0.5889\n",
      "Epoch 24/50\n",
      "448/449 [============================>.] - ETA: 0s - loss: 1.0406 - acc: 0.5499- ETA: 6s - loss: 1.0515 - acc: 0 - ETA: - ETA: 3s - lo - ETA: 2s - loss: 1.0433 - acc: 0.546 - ETA: 2s - loss: 1.0435 - acc - ETA: 1s - \n",
      "Epoch 00024: val_acc did not improve from 0.58889\n",
      "449/449 [==============================] - 8s 17ms/step - loss: 1.0406 - acc: 0.5498 - val_loss: 0.9868 - val_acc: 0.5556\n",
      "Epoch 25/50\n",
      "448/449 [============================>.] - ETA: 0s - loss: 1.0243 - acc: 0.5629- ETA:\n",
      "Epoch 00025: val_acc improved from 0.58889 to 0.60000, saving model to mlp_checkpoint/checkpoint_25\n",
      "449/449 [==============================] - 8s 19ms/step - loss: 1.0238 - acc: 0.5631 - val_loss: 0.9691 - val_acc: 0.6000\n",
      "Epoch 26/50\n",
      "447/449 [============================>.] - ETA: 0s - loss: 1.0092 - acc: 0.5714\n",
      "Epoch 00026: val_acc did not improve from 0.60000\n",
      "449/449 [==============================] - 9s 19ms/step - loss: 1.0092 - acc: 0.5713 - val_loss: 0.9547 - val_acc: 0.5917\n",
      "Epoch 27/50\n",
      "447/449 [============================>.] - ETA: 0s - loss: 0.9913 - acc: 0.5837- ETA: 5s -  - ETA: 3s - loss: 0.9953 - a - ETA: 0s - loss: 0.9903 - acc: 0.58\n",
      "Epoch 00027: val_acc did not improve from 0.60000\n",
      "449/449 [==============================] - 8s 17ms/step - loss: 0.9911 - acc: 0.5839 - val_loss: 0.9419 - val_acc: 0.5861\n",
      "Epoch 28/50\n",
      "445/449 [============================>.] - ETA: 0s - loss: 0.9809 - acc: 0.5907- ETA: 6s - loss: 0.9852 - acc: - ETA: 6s - loss: 0.9839 -  - ETA: 5s - loss: 0.9 - ETA: 4s - loss: 0.9860 - acc: - ETA: 4s - loss: 0.9856 - acc: 0.584 - ETA: - ET\n",
      "Epoch 00028: val_acc improved from 0.60000 to 0.60278, saving model to mlp_checkpoint/checkpoint_28\n",
      "449/449 [==============================] - 8s 18ms/step - loss: 0.9809 - acc: 0.5910 - val_loss: 0.9307 - val_acc: 0.6028\n",
      "Epoch 29/50\n",
      "448/449 [============================>.] - ETA: 0s - loss: 0.9636 - acc: 0.6007- ETA: 1s - loss: 0 - ETA: 0s - loss: 0.9633 - acc: \n",
      "Epoch 00029: val_acc improved from 0.60278 to 0.61111, saving model to mlp_checkpoint/checkpoint_29\n",
      "449/449 [==============================] - 8s 18ms/step - loss: 0.9635 - acc: 0.6008 - val_loss: 0.9339 - val_acc: 0.6111\n",
      "Epoch 30/50\n",
      "447/449 [============================>.] - ETA: 0s - loss: 0.9496 - acc: 0.6101- ETA: - ETA: 4s - loss: 0.9508 - acc: 0.609 - ETA: 4s - loss: 0.9503 - acc: 0. - ETA: 3s - loss: 0.9489 - ac - ETA: 3s - loss: 0.9447 - acc: 0 - ETA: 3s - loss: 0.9470 - acc - ETA: 2s - lo - ETA: 1s - loss: 0.9501 - ac - ETA: 0s - loss: 0.9491 - acc:\n",
      "Epoch 00030: val_acc improved from 0.61111 to 0.61389, saving model to mlp_checkpoint/checkpoint_30\n",
      "449/449 [==============================] - 8s 18ms/step - loss: 0.9492 - acc: 0.6102 - val_loss: 0.9110 - val_acc: 0.6139\n",
      "Epoch 31/50\n",
      "447/449 [============================>.] - ETA: 0s - loss: 0.9377 - acc: 0.6138- ETA: 6s - loss: 0.9427 - acc - ETA: 5s - loss: 0 - ETA: 1s\n",
      "Epoch 00031: val_acc did not improve from 0.61389\n",
      "449/449 [==============================] - 8s 17ms/step - loss: 0.9380 - acc: 0.6137 - val_loss: 0.9048 - val_acc: 0.6139\n",
      "Epoch 32/50\n",
      "446/449 [============================>.] - ETA: 0s - loss: 0.9255 - acc: 0.6239- - ETA: 2s - loss: 0. - ETA: 0s - loss: 0.9258  - ETA: 0s - loss: 0.9256 - acc: 0.6244\n",
      "Epoch 00032: val_acc improved from 0.61389 to 0.61944, saving model to mlp_checkpoint/checkpoint_32\n",
      "449/449 [==============================] - 9s 19ms/step - loss: 0.9262 - acc: 0.6232 - val_loss: 0.9102 - val_acc: 0.6194\n",
      "Epoch 33/50\n",
      "448/449 [============================>.] - ETA: 0s - loss: 0.9139 - acc: 0.6272\n",
      "Epoch 00033: val_acc did not improve from 0.61944\n",
      "449/449 [==============================] - 8s 17ms/step - loss: 0.9141 - acc: 0.6269 - val_loss: 0.9065 - val_acc: 0.5972\n",
      "Epoch 34/50\n",
      "447/449 [============================>.] - ETA: 0s - loss: 0.9037 - acc: 0.6387- ETA: 6s - loss: - ETA: 5s - loss: 0.9054 - a - ETA: 4s - ETA: 0s - loss: 0.9031 - acc: 0.6\n",
      "Epoch 00034: val_acc improved from 0.61944 to 0.62500, saving model to mlp_checkpoint/checkpoint_34\n",
      "449/449 [==============================] - 9s 19ms/step - loss: 0.9038 - acc: 0.6384 - val_loss: 0.8880 - val_acc: 0.6250\n",
      "Epoch 35/50\n",
      "446/449 [============================>.] - ETA: 0s - loss: 0.8909 - acc: 0.6412- ETA: 0s - loss: 0.8884 - ac\n",
      "Epoch 00035: val_acc did not improve from 0.62500\n",
      "449/449 [==============================] - 8s 17ms/step - loss: 0.8908 - acc: 0.6411 - val_loss: 0.8817 - val_acc: 0.6222\n",
      "Epoch 36/50\n",
      "446/449 [============================>.] - ETA: 0s - loss: 0.8750 - acc: 0.6498- ETA: 6s - loss: 0.8772 - ac - ETA: 6s -  - ETA: 1s - loss: 0.8 - ETA: 0s - loss: 0.8746 - acc: 0.6 - ETA: 0s - loss: 0.8741 - \n",
      "Epoch 00036: val_acc improved from 0.62500 to 0.62778, saving model to mlp_checkpoint/checkpoint_36\n",
      "449/449 [==============================] - 8s 18ms/step - loss: 0.8755 - acc: 0.6496 - val_loss: 0.8801 - val_acc: 0.6278\n",
      "Epoch 37/50\n",
      "445/449 [============================>.] - ETA: 0s - loss: 0.8643 - acc: 0.6581- ETA: 7s - loss: 0.862 - E - E - ETA: 1s - loss: 0.8644 - acc: - ETA: 0s - loss: 0.8639 - acc: 0.6 - ETA: 0s - loss: 0.8645 - acc\n",
      "Epoch 00037: val_acc improved from 0.62778 to 0.63611, saving model to mlp_checkpoint/checkpoint_37\n",
      "449/449 [==============================] - 9s 19ms/step - loss: 0.8642 - acc: 0.6581 - val_loss: 0.8783 - val_acc: 0.6361\n",
      "Epoch 38/50\n",
      "447/449 [============================>.] - ETA: 0s - loss: 0.8570 - acc: 0.6637- ETA: 6s - loss: 0.8681 - acc: - ETA: 5s -  - ETA: 3s - loss: 0.8596 - acc: 0.6 - ETA: 3s - loss: 0.8576 - acc: 0.666 - ETA: 3s - loss: 0.8587 - ETA: 2s - loss: 0.8561 - ETA: 1s - loss: 0.8577 - acc: 0 - ETA: 1s - loss: 0.8584 - ac - ETA: 1s - loss: 0.8565 - acc:  - ETA: 0s - loss: 0.8588 - \n",
      "Epoch 00038: val_acc improved from 0.63611 to 0.63889, saving model to mlp_checkpoint/checkpoint_38\n",
      "449/449 [==============================] - 9s 19ms/step - loss: 0.8571 - acc: 0.6636 - val_loss: 0.8738 - val_acc: 0.6389\n",
      "Epoch 39/50\n",
      "446/449 [============================>.] - ETA: 0s - loss: 0.8476 - acc: 0.6597- ETA: 1s - loss: 0.8504 - acc: 0. - ETA: 0s - loss: 0.8487\n",
      "Epoch 00039: val_acc did not improve from 0.63889\n",
      "449/449 [==============================] - 8s 17ms/step - loss: 0.8480 - acc: 0.6595 - val_loss: 0.8755 - val_acc: 0.6167\n",
      "Epoch 40/50\n",
      "446/449 [============================>.] - ETA: 0s - loss: 0.8366 - acc: 0.6663- ETA: 2s - loss:  - ETA: 1s - loss: 0.\n",
      "Epoch 00040: val_acc did not improve from 0.63889\n",
      "449/449 [==============================] - 8s 17ms/step - loss: 0.8364 - acc: 0.6667 - val_loss: 0.8893 - val_acc: 0.6083\n",
      "Epoch 41/50\n",
      "447/449 [============================>.] - ETA: 0s - loss: 0.8295 - acc: 0.6693- ETA: 6s - loss: 0.8473 - acc:  - ETA: 6s - loss: 0.8390 - acc: 0.6 - ETA - ETA: 1s - loss:\n",
      "Epoch 00041: val_acc did not improve from 0.63889\n",
      "449/449 [==============================] - 8s 17ms/step - loss: 0.8298 - acc: 0.6691 - val_loss: 0.8803 - val_acc: 0.6028\n",
      "Epoch 42/50\n",
      "448/449 [============================>.] - ETA: 0s - loss: 0.8162 - acc: 0.6783- ETA: 6s - - ETA: 4s - loss: 0.8136 -  - ETA: 3s - loss \n",
      "Epoch 00042: val_acc did not improve from 0.63889\n",
      "449/449 [==============================] - 7s 17ms/step - loss: 0.8165 - acc: 0.6783 - val_loss: 0.8678 - val_acc: 0.6389\n",
      "Epoch 43/50\n",
      "444/449 [============================>.] - ETA: 0s - loss: 0.8139 - acc: 0.6829- ETA: 6s - loss: 0.8075 - acc: 0 - ETA: 6s - loss: 0.8150  - ETA: - ETA: 1s - loss: 0.81\n",
      "Epoch 00043: val_acc did not improve from 0.63889\n",
      "449/449 [==============================] - 8s 17ms/step - loss: 0.8140 - acc: 0.6827 - val_loss: 0.8849 - val_acc: 0.6194\n",
      "Epoch 44/50\n",
      "448/449 [============================>.] - ETA: 0s - loss: 0.7902 - acc: 0.6939- ETA: 6s - loss\n",
      "Epoch 00044: val_acc improved from 0.63889 to 0.65278, saving model to mlp_checkpoint/checkpoint_44\n",
      "449/449 [==============================] - 9s 19ms/step - loss: 0.7904 - acc: 0.6938 - val_loss: 0.8696 - val_acc: 0.6528\n",
      "Epoch 45/50\n",
      "448/449 [============================>.] - ETA: 0s - loss: 0.7847 - acc: 0.6920- ETA: 5s - loss: 0.7959 - acc: 0.679 - ETA: 5s - loss: 0.7943 - acc: - ETA: 5s - loss: 0.7932 - acc: 0 - ETA: 5s - loss: 0.7884 - acc: 0 - ETA: 4s - loss: 0.7898 - acc - ETA: 4s - loss: 0.7893 - acc: 0.6 - ETA: 4s - loss: 0.7907 - acc: 0.68 - ETA: 3s - loss: 0 - ETA: 2s - los - ETA: 1s - loss - ETA: 0s - loss: 0.7858 - acc: 0.69\n",
      "Epoch 00045: val_acc did not improve from 0.65278\n",
      "449/449 [==============================] - 8s 17ms/step - loss: 0.7851 - acc: 0.6917 - val_loss: 0.8810 - val_acc: 0.6472\n",
      "Epoch 46/50\n",
      "447/449 [============================>.] - ETA: 0s - loss: 0.7784 - acc: 0.6943- ETA - ETA: 4s \n",
      "Epoch 00046: val_acc did not improve from 0.65278\n",
      "449/449 [==============================] - 8s 17ms/step - loss: 0.7781 - acc: 0.6945 - val_loss: 0.8924 - val_acc: 0.6417\n",
      "Epoch 47/50\n",
      "447/449 [============================>.] - ETA: 0s - loss: 0.7638 - acc: 0.7072- ETA: 6 - ETA: 4s -\n",
      "Epoch 00047: val_acc did not improve from 0.65278\n",
      "449/449 [==============================] - 8s 17ms/step - loss: 0.7640 - acc: 0.7070 - val_loss: 0.8956 - val_acc: 0.6389\n",
      "Epoch 48/50\n",
      "446/449 [============================>.] - ETA: 0s - loss: 0.7620 - acc: 0.7024- ETA: 5s - loss: 0.761 - ETA: 0s - loss: 0.7615 - acc: 0.70\n",
      "Epoch 00048: val_acc did not improve from 0.65278\n",
      "449/449 [==============================] - 8s 17ms/step - loss: 0.7616 - acc: 0.7025 - val_loss: 0.8834 - val_acc: 0.6333\n",
      "Epoch 49/50\n",
      "448/449 [============================>.] - ETA: 0s - loss: 0.7429 - acc: 0.7173- ETA: 5s - loss: 0.7371 - acc: 0 - ETA: 5s - l - ETA: 1s - loss: 0.7437 - acc:  - ETA: 1s - loss: 0.\n",
      "Epoch 00049: val_acc did not improve from 0.65278\n",
      "449/449 [==============================] - 8s 17ms/step - loss: 0.7430 - acc: 0.7171 - val_loss: 0.8937 - val_acc: 0.6417\n",
      "Epoch 50/50\n",
      "448/449 [============================>.] - ETA: 0s - loss: 0.7322 - acc: 0.7204- ETA: 4s - loss: 0.7372 - acc - ETA: 1s - loss: 0.7340 - a - ETA: 1s - loss: 0.7315  - ETA: 0s - loss: 0.7297 - acc: 0.\n",
      "Epoch 00050: val_acc did not improve from 0.65278\n",
      "449/449 [==============================] - 7s 17ms/step - loss: 0.7321 - acc: 0.7206 - val_loss: 0.8943 - val_acc: 0.6417\n"
     ]
    }
   ],
   "source": [
    "mlp_history = mlp.fit(train_cyclic_generator_mlp,\n",
    "#                         validation_data = test_cyclic_generator_mlp,\n",
    "                      validation_data = (x_test_mlp, y_test_mlp),\n",
    "                      steps_per_epoch= 449,\n",
    "                      epochs = 50,\n",
    "                      callbacks = [mlp_earlystop, mlp_checkpoint]) #Fitting the model"
   ]
  },
  {
   "cell_type": "code",
   "execution_count": 104,
   "metadata": {},
   "outputs": [
    {
     "data": {
      "image/png": "[encoded data removed]",
      "text/plain": [
       "<Figure size 432x288 with 1 Axes>"
      ]
     },
     "metadata": {
      "needs_background": "light"
     },
     "output_type": "display_data"
    },
    {
     "name": "stdout",
     "output_type": "stream",
     "text": [
      "Initial training accuracy is:  0.389059\n",
      "Final training accuracy is:  0.72062916\n",
      "Initial training loss is:  1.28795910332941\n",
      "Final training loss is:  0.7320735789752485\n"
     ]
    }
   ],
   "source": [
    "#Plotting model history\n",
    "plt.plot(mlp_history.history['acc'])\n",
    "plt.plot(mlp_history.history['loss'])\n",
    "plt.legend(['Training Accuracy', 'Training Loss'])\n",
    "plt.title('Training History')\n",
    "plt.ylabel('Value')\n",
    "plt.xlabel('epochs')\n",
    "plt.show()\n",
    "print(\"Initial training accuracy is: \", mlp_history.history['acc'][0])\n",
    "print(\"Final training accuracy is: \", mlp_history.history['acc'][-1])\n",
    "\n",
    "print(\"Initial training loss is: \", mlp_history.history['loss'][0])\n",
    "print(\"Final training loss is: \", mlp_history.history['loss'][-1])"
   ]
  },
  {
   "cell_type": "code",
   "execution_count": 105,
   "metadata": {},
   "outputs": [
    {
     "data": {
      "image/png": "[encoded data removed]",
      "text/plain": [
       "<Figure size 432x288 with 1 Axes>"
      ]
     },
     "metadata": {
      "needs_background": "light"
     },
     "output_type": "display_data"
    },
    {
     "name": "stdout",
     "output_type": "stream",
     "text": [
      "Initial validation accuracy is:  0.425\n",
      "Final validation accuracy is:  0.64166665\n",
      "Initial validation loss is:  1.234268683857388\n",
      "Final validation loss is:  0.8943384899033441\n"
     ]
    }
   ],
   "source": [
    "#Plotting model history\n",
    "plt.plot(mlp_history.history['val_acc'])\n",
    "plt.plot(mlp_history.history['val_loss'])\n",
    "plt.legend(['Valdation Accuracy', 'Validation Loss'])\n",
    "plt.title('Validation History')\n",
    "plt.ylabel('Value')\n",
    "plt.xlabel('epochs')\n",
    "plt.show()\n",
    "print(\"Initial validation accuracy is: \", mlp_history.history['val_acc'][0])\n",
    "print(\"Final validation accuracy is: \", mlp_history.history['val_acc'][-1])\n",
    "\n",
    "print(\"Initial validation loss is: \", mlp_history.history['val_loss'][0])\n",
    "print(\"Final validation loss is: \", mlp_history.history['val_loss'][-1])"
   ]
  },
  {
   "cell_type": "markdown",
   "metadata": {},
   "source": [
    "## Training on LSTM model"
   ]
  },
  {
   "cell_type": "code",
   "execution_count": 106,
   "metadata": {},
   "outputs": [
    {
     "name": "stdout",
     "output_type": "stream",
     "text": [
      "1437\n"
     ]
    }
   ],
   "source": [
    "train_test_split = int(0.8 * len(xlstm))\n",
    "print(train_test_split)\n",
    "\n",
    "x_train_lstm = xlstm[:train_test_split]\n",
    "y_train_lstm = ylstm[:train_test_split]\n",
    "\n",
    "x_test_lstm = xlstm[train_test_split:]\n",
    "y_test_lstm = ylstm[train_test_split:]"
   ]
  },
  {
   "cell_type": "code",
   "execution_count": 107,
   "metadata": {},
   "outputs": [],
   "source": [
    "def get_cyclic_generator(features, labels, batch_size = 1):\n",
    "  while True:\n",
    "    for n in range(features.shape[0]//batch_size):\n",
    "      yield (features[n*batch_size: (n+1)*batch_size], labels[n*batch_size: (n+1)*batch_size])\n",
    "    permuted = np.random.permutation(len(features))\n",
    "    features = features[permuted]\n",
    "    labels = labels[permuted]"
   ]
  },
  {
   "cell_type": "code",
   "execution_count": 108,
   "metadata": {},
   "outputs": [],
   "source": [
    "train_batch_size = 32\n",
    "train_cyclic_generator_lstm = get_cyclic_generator(x_train_lstm, y_train_lstm, batch_size = train_batch_size)\n",
    "# test_cyclic_generator = get_cyclic_generator(x_test, y_test, batch_size = train_batch_size)"
   ]
  },
  {
   "cell_type": "code",
   "execution_count": 109,
   "metadata": {},
   "outputs": [
    {
     "name": "stdout",
     "output_type": "stream",
     "text": [
      "Model: \"model_2\"\n",
      "_________________________________________________________________\n",
      "Layer (type)                 Output Shape              Param #   \n",
      "=================================================================\n",
      "input_3 (InputLayer)         [(None, 351, 61)]         0         \n",
      "_________________________________________________________________\n",
      "lstm (LSTM)                  (None, 351, 32)           12032     \n",
      "_________________________________________________________________\n",
      "flatten (Flatten)            (None, 11232)             0         \n",
      "_________________________________________________________________\n",
      "dense_6 (Dense)              (None, 32)                359456    \n",
      "_________________________________________________________________\n",
      "leaky_re_lu (LeakyReLU)      (None, 32)                0         \n",
      "_________________________________________________________________\n",
      "dropout_4 (Dropout)          (None, 32)                0         \n",
      "_________________________________________________________________\n",
      "dense_7 (Dense)              (None, 16)                528       \n",
      "_________________________________________________________________\n",
      "dropout_5 (Dropout)          (None, 16)                0         \n",
      "_________________________________________________________________\n",
      "dense_8 (Dense)              (None, 4)                 68        \n",
      "=================================================================\n",
      "Total params: 372,084\n",
      "Trainable params: 372,084\n",
      "Non-trainable params: 0\n",
      "_________________________________________________________________\n"
     ]
    }
   ],
   "source": [
    "#Creating model architecture\n",
    "inp_shape = (dims_lstm_1, dims_lstm_2)\n",
    "ip = tf.keras.Input(shape = inp_shape)\n",
    "lstm = tf.keras.layers.LSTM(32, return_sequences=True)(ip)\n",
    "# drop = tf.keras.layers.Dropout(.4)(lstm)\n",
    "# lstm = tf.keras.layers.LSTM(16, return_sequences=True)(ip)\n",
    "# drop = tf.keras.layers.Dropout(.4)(lstm)\n",
    "flatten = tf.keras.layers.Flatten()(lstm)\n",
    "dense1 = tf.keras.layers.Dense(units = 32, kernel_initializer = 'random_normal')(flatten)\n",
    "leakyRelu = tf.keras.layers.LeakyReLU()(dense1)\n",
    "drop1 = tf.keras.layers.Dropout(.4)(leakyRelu)\n",
    "dense2 = tf.keras.layers.Dense(units = 16, kernel_initializer = 'random_normal')(drop1)\n",
    "leakyRelu2 = tf.keras.layers.LeakyReLU()(dense2)\n",
    "drop2 = tf.keras.layers.Dropout(.4)(dense2)\n",
    "out = tf.keras.layers.Dense(num_classes, activation = 'softmax')(drop2)\n",
    "\n",
    "lstm = tf.keras.Model(inputs = ip, outputs = out)\n",
    "lstm.summary()\n",
    "# inp_shape = (None, )\n",
    "# review_sequence = tf.keras.Input(shape = inp_shape)\n",
    "# embedding_sequence = tf.keras.layers.Embedding(input_dim=100+1, output_dim=32, input_shape=(review_sequence.shape), mask_zero=False)(review_sequence)\n",
    "# average_embedding = tf.keras.layers.GlobalAveragePooling1D()(embedding_sequence)\n",
    "# positive_probability = tf.keras.layers.Dense(units=1, activation='sigmoid')(average_embedding)\n",
    "\n",
    "# model = tf.keras.Model(inputs = review_sequence, outputs = positive_probability)"
   ]
  },
  {
   "cell_type": "code",
   "execution_count": 110,
   "metadata": {},
   "outputs": [],
   "source": [
    "# Compiling the model\n",
    "lstm_earlystop = EarlyStopping(patience = 10, min_delta = 0.001, monitor = 'val_acc')\n",
    "\n",
    "path = 'lstm_checkpoint/checkpoint_{epoch:02d}';\n",
    "lstm_checkpoint = ModelCheckpoint(filepath = path,\n",
    "                            verbose = 1,\n",
    "                            monitor = 'val_acc',\n",
    "                            save_freq = 'epoch',\n",
    "                            save_best_only = True,\n",
    "                            save_weights_only = True)\n",
    "\n",
    "lstm.compile(loss = 'categorical_crossentropy', metrics = ['acc'], optimizer = 'adam')"
   ]
  },
  {
   "cell_type": "code",
   "execution_count": 111,
   "metadata": {
    "scrolled": true
   },
   "outputs": [
    {
     "name": "stdout",
     "output_type": "stream",
     "text": [
      "WARNING:tensorflow:sample_weight modes were coerced from\n",
      "  ...\n",
      "    to  \n",
      "  ['...']\n",
      "Train for 449 steps, validate on 360 samples\n",
      "Epoch 1/50\n",
      "448/449 [============================>.] - ETA: 0s - loss: 1.2801 - acc: 0.3790\n",
      "Epoch 00001: val_acc improved from -inf to 0.42500, saving model to lstm_checkpoint/checkpoint_01\n",
      "449/449 [==============================] - 58s 130ms/step - loss: 1.2804 - acc: 0.3790 - val_loss: 1.2341 - val_acc: 0.4250\n",
      "Epoch 2/50\n",
      "447/449 [============================>.] - ETA: 0s - loss: 1.2668 - acc: 0.3940- ETA: 0s - loss: 1.2670 - acc\n",
      "Epoch 00002: val_acc did not improve from 0.42500\n",
      "449/449 [==============================] - 20s 44ms/step - loss: 1.2668 - acc: 0.3943 - val_loss: 1.2349 - val_acc: 0.4250\n",
      "Epoch 3/50\n",
      "448/449 [============================>.] - ETA: 0s - loss: 1.2649 - acc: 0.3926\n",
      "Epoch 00003: val_acc did not improve from 0.42500\n",
      "449/449 [==============================] - 20s 45ms/step - loss: 1.2648 - acc: 0.3927 - val_loss: 1.2321 - val_acc: 0.4250\n",
      "Epoch 4/50\n",
      "447/449 [============================>.] - ETA: 0s - loss: 1.2616 - acc: 0.3949- E\n",
      "Epoch 00004: val_acc did not improve from 0.42500\n",
      "449/449 [==============================] - 20s 45ms/step - loss: 1.2617 - acc: 0.3949 - val_loss: 1.2305 - val_acc: 0.4250\n",
      "Epoch 5/50\n",
      "448/449 [============================>.] - ETA: 0s - loss: 1.2599 - acc: 0.3940  ETA: - ETA: 5s - los - ETA: 3s - loss: 1.2604 - ETA:\n",
      "Epoch 00005: val_acc did not improve from 0.42500\n",
      "449/449 [==============================] - 20s 45ms/step - loss: 1.2595 - acc: 0.3943 - val_loss: 1.2314 - val_acc: 0.4250\n",
      "Epoch 6/50\n",
      "447/449 [============================>.] - ETA: 0s - loss: 1.2611 - acc: 0.3944\n",
      "Epoch 00006: val_acc did not improve from 0.42500\n",
      "449/449 [==============================] - 20s 45ms/step - loss: 1.2614 - acc: 0.3947 - val_loss: 1.2300 - val_acc: 0.4250\n",
      "Epoch 7/50\n",
      "448/449 [============================>.] - ETA: 0s - loss: 1.2597 - acc: 0.3947- ETA: 1s - loss: 1.2597 -\n",
      "Epoch 00007: val_acc did not improve from 0.42500\n",
      "449/449 [==============================] - 20s 46ms/step - loss: 1.2597 - acc: 0.3948 - val_loss: 1.2314 - val_acc: 0.4250\n",
      "Epoch 8/50\n",
      "447/449 [============================>.] - ETA: 0s - loss: 1.2593 - acc: 0.3941- ETA: 6s - loss: 1.2592 - acc: 0.39 - ETA: 6s - lo - ETA: 1s - loss: 1.2592 \n",
      "Epoch 00008: val_acc did not improve from 0.42500\n",
      "449/449 [==============================] - 20s 44ms/step - loss: 1.2592 - acc: 0.3938 - val_loss: 1.2258 - val_acc: 0.4250\n",
      "Epoch 9/50\n",
      "448/449 [============================>.] - ETA: 0s - loss: 1.2429 - acc: 0.3977\n",
      "Epoch 00009: val_acc improved from 0.42500 to 0.45278, saving model to lstm_checkpoint/checkpoint_09\n",
      "449/449 [==============================] - 21s 47ms/step - loss: 1.2429 - acc: 0.3976 - val_loss: 1.1707 - val_acc: 0.4528\n",
      "Epoch 10/50\n",
      "447/449 [============================>.] - ETA: 0s - loss: 1.2075 - acc: 0.4184- ETA: 2s - \n",
      "Epoch 00010: val_acc improved from 0.45278 to 0.48611, saving model to lstm_checkpoint/checkpoint_10\n",
      "449/449 [==============================] - 21s 46ms/step - loss: 1.2075 - acc: 0.4186 - val_loss: 1.1308 - val_acc: 0.4861\n",
      "Epoch 11/50\n",
      "448/449 [============================>.] - ETA: 0s - loss: 1.1808 - acc: 0.4414- ETA: 4s - los - ET\n",
      "Epoch 00011: val_acc did not improve from 0.48611\n",
      "449/449 [==============================] - 20s 45ms/step - loss: 1.1806 - acc: 0.4416 - val_loss: 1.1255 - val_acc: 0.4583\n",
      "Epoch 12/50\n",
      "448/449 [============================>.] - ETA: 0s - loss: 1.1559 - acc: 0.4602\n",
      "Epoch 00012: val_acc improved from 0.48611 to 0.53611, saving model to lstm_checkpoint/checkpoint_12\n",
      "449/449 [==============================] - 21s 48ms/step - loss: 1.1556 - acc: 0.4604 - val_loss: 1.0860 - val_acc: 0.5361\n",
      "Epoch 13/50\n",
      "448/449 [============================>.] - ETA: 0s - loss: 1.1377 - acc: 0.4727- ETA: 1s - loss: 1.1369  - ETA: 0s - loss: 1.1382 - acc: 0.4\n",
      "Epoch 00013: val_acc did not improve from 0.53611\n",
      "449/449 [==============================] - 20s 46ms/step - loss: 1.1374 - acc: 0.4726 - val_loss: 1.0711 - val_acc: 0.5222\n",
      "Epoch 14/50\n",
      "447/449 [============================>.] - ETA: 0s - loss: 1.1158 - acc: 0.4898\n",
      "Epoch 00014: val_acc did not improve from 0.53611\n",
      "449/449 [==============================] - 21s 46ms/step - loss: 1.1159 - acc: 0.4891 - val_loss: 1.0632 - val_acc: 0.5250\n",
      "Epoch 15/50\n",
      "448/449 [============================>.] - ETA: 0s - loss: 1.0947 - acc: 0.5111\n",
      "Epoch 00015: val_acc improved from 0.53611 to 0.54722, saving model to lstm_checkpoint/checkpoint_15\n",
      "449/449 [==============================] - 21s 48ms/step - loss: 1.0945 - acc: 0.5113 - val_loss: 1.0436 - val_acc: 0.5472\n",
      "Epoch 16/50\n",
      "447/449 [============================>.] - ETA: 0s - loss: 1.0544 - acc: 0.5336\n",
      "Epoch 00016: val_acc improved from 0.54722 to 0.57778, saving model to lstm_checkpoint/checkpoint_16\n",
      "449/449 [==============================] - 21s 47ms/step - loss: 1.0543 - acc: 0.5336 - val_loss: 0.9607 - val_acc: 0.5778\n",
      "Epoch 17/50\n",
      "448/449 [============================>.] - ETA: 0s - loss: 1.0006 - acc: 0.5624\n",
      "Epoch 00017: val_acc improved from 0.57778 to 0.60000, saving model to lstm_checkpoint/checkpoint_17\n",
      "449/449 [==============================] - 21s 46ms/step - loss: 1.0007 - acc: 0.5624 - val_loss: 0.9520 - val_acc: 0.6000\n",
      "Epoch 18/50\n",
      "447/449 [============================>.] - ETA: 0s - loss: 0.9762 - acc: 0.5781\n",
      "Epoch 00018: val_acc did not improve from 0.60000\n",
      "449/449 [==============================] - 20s 44ms/step - loss: 0.9758 - acc: 0.5784 - val_loss: 0.9137 - val_acc: 0.5972\n",
      "Epoch 19/50\n",
      "447/449 [============================>.] - ETA: 0s - loss: 0.9416 - acc: 0.5898\n",
      "Epoch 00019: val_acc improved from 0.60000 to 0.60278, saving model to lstm_checkpoint/checkpoint_19\n",
      "449/449 [==============================] - 20s 46ms/step - loss: 0.9415 - acc: 0.5903 - val_loss: 0.9382 - val_acc: 0.6028\n",
      "Epoch 20/50\n",
      "448/449 [============================>.] - ETA: 0s - loss: 0.9270 - acc: 0.6012- ETA: 1s - loss: 0.928\n",
      "Epoch 00020: val_acc improved from 0.60278 to 0.62222, saving model to lstm_checkpoint/checkpoint_20\n",
      "449/449 [==============================] - 21s 48ms/step - loss: 0.9268 - acc: 0.6013 - val_loss: 0.8993 - val_acc: 0.6222\n",
      "Epoch 21/50\n",
      "448/449 [============================>.] - ETA: 0s - loss: 0.8956 - acc: 0.6131\n",
      "Epoch 00021: val_acc did not improve from 0.62222\n",
      "449/449 [==============================] - 20s 45ms/step - loss: 0.8959 - acc: 0.6134 - val_loss: 0.9114 - val_acc: 0.6194\n",
      "Epoch 22/50\n",
      "447/449 [============================>.] - ETA: 0s - loss: 0.8898 - acc: 0.6175- ETA - ETA: \n",
      "Epoch 00022: val_acc did not improve from 0.62222\n",
      "449/449 [==============================] - 20s 44ms/step - loss: 0.8891 - acc: 0.6180 - val_loss: 0.8812 - val_acc: 0.6222\n",
      "Epoch 23/50\n",
      "447/449 [============================>.] - ETA: 0s - loss: 0.8783 - acc: 0.6215- ET\n",
      "Epoch 00023: val_acc did not improve from 0.62222\n",
      "449/449 [==============================] - 20s 46ms/step - loss: 0.8772 - acc: 0.6222 - val_loss: 0.8749 - val_acc: 0.6167\n",
      "Epoch 24/50\n",
      "447/449 [============================>.] - ETA: 0s - loss: 0.8636 - acc: 0.6308\n",
      "Epoch 00024: val_acc improved from 0.62222 to 0.63056, saving model to lstm_checkpoint/checkpoint_24\n",
      "449/449 [==============================] - 21s 46ms/step - loss: 0.8637 - acc: 0.6306 - val_loss: 0.8637 - val_acc: 0.6306\n",
      "Epoch 25/50\n",
      "448/449 [============================>.] - ETA: 0s - loss: 0.8446 - acc: 0.6368- ETA: 5s - loss: 0.8472 - acc: 0 - ETA: 4s - loss: 0 - ETA: 3s - loss: 0.84 - ETA: 2s - lo\n",
      "Epoch 00025: val_acc improved from 0.63056 to 0.63611, saving model to lstm_checkpoint/checkpoint_25\n",
      "449/449 [==============================] - 20s 46ms/step - loss: 0.8445 - acc: 0.6368 - val_loss: 0.8704 - val_acc: 0.6361\n",
      "Epoch 26/50\n",
      "447/449 [============================>.] - ETA: 0s - loss: 0.8373 - acc: 0.6432\n",
      "Epoch 00026: val_acc improved from 0.63611 to 0.64444, saving model to lstm_checkpoint/checkpoint_26\n",
      "449/449 [==============================] - 21s 47ms/step - loss: 0.8373 - acc: 0.6432 - val_loss: 0.9010 - val_acc: 0.6444\n",
      "Epoch 27/50\n",
      "448/449 [============================>.] - ETA: 0s - loss: 0.8135 - acc: 0.6543- E\n",
      "Epoch 00027: val_acc improved from 0.64444 to 0.65278, saving model to lstm_checkpoint/checkpoint_27\n",
      "449/449 [==============================] - 21s 47ms/step - loss: 0.8131 - acc: 0.6544 - val_loss: 0.8485 - val_acc: 0.6528\n",
      "Epoch 28/50\n",
      "447/449 [============================>.] - ETA: 0s - loss: 0.8299 - acc: 0.6521\n",
      "Epoch 00028: val_acc improved from 0.65278 to 0.65833, saving model to lstm_checkpoint/checkpoint_28\n",
      "449/449 [==============================] - 21s 46ms/step - loss: 0.8303 - acc: 0.6517 - val_loss: 0.8656 - val_acc: 0.6583\n",
      "Epoch 29/50\n",
      "448/449 [============================>.] - ETA: 0s - loss: 0.8004 - acc: 0.6642\n",
      "Epoch 00029: val_acc did not improve from 0.65833\n",
      "449/449 [==============================] - 20s 44ms/step - loss: 0.8006 - acc: 0.6640 - val_loss: 0.9017 - val_acc: 0.6389\n",
      "Epoch 30/50\n",
      "448/449 [============================>.] - ETA: 0s - loss: 0.7915 - acc: 0.6632\n",
      "Epoch 00030: val_acc did not improve from 0.65833\n",
      "449/449 [==============================] - 20s 44ms/step - loss: 0.7913 - acc: 0.6633 - val_loss: 0.8475 - val_acc: 0.6444\n",
      "Epoch 31/50\n",
      "448/449 [============================>.] - ETA: 0s - loss: 0.7846 - acc: 0.6694\n",
      "Epoch 00031: val_acc did not improve from 0.65833\n",
      "449/449 [==============================] - 20s 45ms/step - loss: 0.7840 - acc: 0.6698 - val_loss: 0.8725 - val_acc: 0.6528\n",
      "Epoch 32/50\n",
      "447/449 [============================>.] - ETA: 0s - loss: 0.7755 - acc: 0.6765\n",
      "Epoch 00032: val_acc did not improve from 0.65833\n",
      "449/449 [==============================] - 20s 45ms/step - loss: 0.7753 - acc: 0.6766 - val_loss: 0.8495 - val_acc: 0.6500\n",
      "Epoch 33/50\n",
      "447/449 [============================>.] - ETA: 0s - loss: 0.7660 - acc: 0.6772\n",
      "Epoch 00033: val_acc improved from 0.65833 to 0.67778, saving model to lstm_checkpoint/checkpoint_33\n",
      "449/449 [==============================] - 21s 47ms/step - loss: 0.7654 - acc: 0.6775 - val_loss: 0.8542 - val_acc: 0.6778\n",
      "Epoch 34/50\n",
      "447/449 [============================>.] - ETA: 0s - loss: 0.7528 - acc: 0.6851- ETA: 2s - lo - ETA: 0s - loss: 0.7528 - acc: 0.685\n",
      "Epoch 00034: val_acc did not improve from 0.67778\n",
      "449/449 [==============================] - 20s 44ms/step - loss: 0.7526 - acc: 0.6851 - val_loss: 0.8539 - val_acc: 0.6583\n",
      "Epoch 35/50\n",
      "448/449 [============================>.] - ETA: 0s - loss: 0.7480 - acc: 0.6883\n",
      "Epoch 00035: val_acc improved from 0.67778 to 0.68056, saving model to lstm_checkpoint/checkpoint_35\n",
      "449/449 [==============================] - 21s 46ms/step - loss: 0.7480 - acc: 0.6883 - val_loss: 0.8668 - val_acc: 0.6806\n",
      "Epoch 36/50\n",
      "447/449 [============================>.] - ETA: 0s - loss: 0.7355 - acc: 0.6954\n",
      "Epoch 00036: val_acc improved from 0.68056 to 0.68611, saving model to lstm_checkpoint/checkpoint_36\n",
      "449/449 [==============================] - 20s 45ms/step - loss: 0.7350 - acc: 0.6956 - val_loss: 0.8827 - val_acc: 0.6861\n",
      "Epoch 37/50\n",
      "448/449 [============================>.] - ETA: 0s - loss: 0.7236 - acc: 0.6978\n",
      "Epoch 00037: val_acc did not improve from 0.68611\n",
      "449/449 [==============================] - 20s 44ms/step - loss: 0.7237 - acc: 0.6979 - val_loss: 0.8648 - val_acc: 0.6444\n",
      "Epoch 38/50\n",
      "447/449 [============================>.] - ETA: 0s - loss: 0.7173 - acc: 0.7009  ETA: 11s - loss: 0.7287  - ETA: 2s - loss: 0.7190 - acc: 0. - ETA: 2s - loss - ETA: 0s - loss: 0.7170 - acc: \n",
      "Epoch 00038: val_acc did not improve from 0.68611\n",
      "449/449 [==============================] - 21s 48ms/step - loss: 0.7170 - acc: 0.7013 - val_loss: 0.8601 - val_acc: 0.6528\n",
      "Epoch 39/50\n",
      "448/449 [============================>.] - ETA: 0s - loss: 0.7124 - acc: 0.7081- ETA: 5 - ETA - ETA: 0s - loss: 0.7131 - acc: 0.708\n",
      "Epoch 00039: val_acc did not improve from 0.68611\n",
      "449/449 [==============================] - 21s 46ms/step - loss: 0.7126 - acc: 0.7082 - val_loss: 0.8737 - val_acc: 0.6583\n",
      "Epoch 40/50\n",
      "447/449 [============================>.] - ETA: 0s - loss: 0.7093 - acc: 0.7038- ETA: 0s - loss: 0.7096 - acc: 0.703\n",
      "Epoch 00040: val_acc did not improve from 0.68611\n",
      "449/449 [==============================] - 20s 45ms/step - loss: 0.7089 - acc: 0.7041 - val_loss: 0.8761 - val_acc: 0.6833\n",
      "Epoch 41/50\n",
      "448/449 [============================>.] - ETA: 0s - loss: 0.7026 - acc: 0.7106\n",
      "Epoch 00041: val_acc did not improve from 0.68611\n",
      "449/449 [==============================] - 20s 45ms/step - loss: 0.7022 - acc: 0.7108 - val_loss: 0.9209 - val_acc: 0.6667\n",
      "Epoch 42/50\n",
      "448/449 [============================>.] - ETA: 0s - loss: 0.6916 - acc: 0.7164\n",
      "Epoch 00042: val_acc did not improve from 0.68611\n",
      "449/449 [==============================] - 22s 48ms/step - loss: 0.6911 - acc: 0.7166 - val_loss: 0.8817 - val_acc: 0.6722\n",
      "Epoch 43/50\n",
      "447/449 [============================>.] - ETA: 0s - loss: 0.6871 - acc: 0.7185- ETA: 0s - loss: 0.6872 - acc: 0 - ETA: 0s - loss: 0.6875 - acc: 0.7185\n",
      "Epoch 00043: val_acc did not improve from 0.68611\n",
      "449/449 [==============================] - 21s 46ms/step - loss: 0.6870 - acc: 0.7188 - val_loss: 0.8788 - val_acc: 0.6583\n",
      "Epoch 44/50\n",
      "447/449 [============================>.] - ETA: 0s - loss: 0.6848 - acc: 0.7247\n",
      "Epoch 00044: val_acc did not improve from 0.68611\n",
      "449/449 [==============================] - 20s 46ms/step - loss: 0.6856 - acc: 0.7244 - val_loss: 0.8799 - val_acc: 0.6611\n",
      "Epoch 45/50\n",
      "448/449 [============================>.] - ETA: 0s - loss: 0.6593 - acc: 0.7305- ETA:\n",
      "Epoch 00045: val_acc did not improve from 0.68611\n",
      "449/449 [==============================] - 21s 47ms/step - loss: 0.6593 - acc: 0.7301 - val_loss: 0.8835 - val_acc: 0.6750\n",
      "Epoch 46/50\n",
      "447/449 [============================>.] - ETA: 0s - loss: 0.6500 - acc: 0.7316- ETA: 3s - loss: 0.6498 - acc - ETA: 3s - loss:  - ETA: 1s - loss: 0.6486\n",
      "Epoch 00046: val_acc did not improve from 0.68611\n",
      "449/449 [==============================] - 21s 47ms/step - loss: 0.6513 - acc: 0.7310 - val_loss: 0.8679 - val_acc: 0.6639\n"
     ]
    }
   ],
   "source": [
    "lstm_history = lstm.fit(train_cyclic_generator_lstm,\n",
    "                        validation_data = (x_test_lstm, y_test_lstm),\n",
    "                        steps_per_epoch= 449,\n",
    "                        epochs = 50,\n",
    "#                         batch_size = 64,\n",
    "                        callbacks = [lstm_earlystop, lstm_checkpoint]) #Fitting the model"
   ]
  },
  {
   "cell_type": "code",
   "execution_count": 112,
   "metadata": {},
   "outputs": [
    {
     "data": {
      "image/png": "[encoded data removed]",
      "text/plain": [
       "<Figure size 432x288 with 1 Axes>"
      ]
     },
     "metadata": {
      "needs_background": "light"
     },
     "output_type": "display_data"
    },
    {
     "name": "stdout",
     "output_type": "stream",
     "text": [
      "Initial training accuracy is:  0.37903675\n",
      "Final training accuracy is:  0.73099947\n",
      "Initial training loss is:  1.2803731745229268\n",
      "Final training loss is:  0.651294062557093\n"
     ]
    }
   ],
   "source": [
    "#Plotting model history\n",
    "plt.plot(lstm_history.history['acc'])\n",
    "plt.plot(lstm_history.history['loss'])\n",
    "plt.legend(['Training Accuracy', 'Training Loss'])\n",
    "plt.title('Training History')\n",
    "plt.ylabel('Value')\n",
    "plt.xlabel('epochs')\n",
    "plt.show()\n",
    "print(\"Initial training accuracy is: \", lstm_history.history['acc'][0])\n",
    "print(\"Final training accuracy is: \", lstm_history.history['acc'][-1])\n",
    "\n",
    "print(\"Initial training loss is: \", lstm_history.history['loss'][0])\n",
    "print(\"Final training loss is: \", lstm_history.history['loss'][-1])"
   ]
  },
  {
   "cell_type": "code",
   "execution_count": 148,
   "metadata": {},
   "outputs": [
    {
     "data": {
      "image/png": "[encoded data removed]",
      "text/plain": [
       "<Figure size 432x288 with 1 Axes>"
      ]
     },
     "metadata": {
      "needs_background": "light"
     },
     "output_type": "display_data"
    },
    {
     "name": "stdout",
     "output_type": "stream",
     "text": [
      "Initial Validation accuracy is:  0.425\n",
      "Final Validation accuracy is:  0.6638889\n",
      "Initial Validation loss is:  1.2341358767615425\n",
      "Final Validation loss is:  0.8678662856419881\n"
     ]
    }
   ],
   "source": [
    "#Plotting model history\n",
    "plt.plot(lstm_history.history['val_acc'])\n",
    "plt.plot(lstm_history.history['val_loss'])\n",
    "plt.legend(['Valdation Accuracy', 'Validation Loss'])\n",
    "plt.title('Validation History')\n",
    "plt.ylabel('Value')\n",
    "plt.xlabel('epochs')\n",
    "plt.show()\n",
    "print(\"Initial Validation accuracy is: \", lstm_history.history['val_acc'][0])\n",
    "print(\"Final Validation accuracy is: \", lstm_history.history['val_acc'][-1])\n",
    "\n",
    "print(\"Initial Validation loss is: \", lstm_history.history['val_loss'][0])\n",
    "print(\"Final Validation loss is: \", lstm_history.history['val_loss'][-1])"
   ]
  },
  {
   "cell_type": "markdown",
   "metadata": {},
   "source": [
    "### Training on CNN Model"
   ]
  },
  {
   "cell_type": "code",
   "execution_count": 124,
   "metadata": {},
   "outputs": [
    {
     "name": "stdout",
     "output_type": "stream",
     "text": [
      "1437\n"
     ]
    }
   ],
   "source": [
    "train_test_split = int(0.8 * len(xcnn))\n",
    "print(train_test_split)\n",
    "\n",
    "x_train_cnn = xcnn[:train_test_split]\n",
    "y_train_cnn = ycnn[:train_test_split]\n",
    "\n",
    "x_test_cnn = xcnn[train_test_split:]\n",
    "y_test_cnn = ycnn[train_test_split:]"
   ]
  },
  {
   "cell_type": "code",
   "execution_count": 125,
   "metadata": {},
   "outputs": [],
   "source": [
    "def get_cyclic_generator(features, labels, batch_size = 1):\n",
    "  while True:\n",
    "    for n in range(features.shape[0]//batch_size):\n",
    "      yield (features[n*batch_size: (n+1)*batch_size], labels[n*batch_size: (n+1)*batch_size])\n",
    "    permuted = np.random.permutation(len(features))\n",
    "    features = features[permuted]\n",
    "    labels = labels[permuted]"
   ]
  },
  {
   "cell_type": "code",
   "execution_count": 126,
   "metadata": {},
   "outputs": [],
   "source": [
    "train_batch_size = 32\n",
    "train_cyclic_generator_cnn = get_cyclic_generator(x_train_cnn, y_train_cnn, batch_size = train_batch_size)\n",
    "# test_cyclic_generator = get_cyclic_generator(x_test, y_test, batch_size = train_batch_size)"
   ]
  },
  {
   "cell_type": "code",
   "execution_count": 127,
   "metadata": {},
   "outputs": [
    {
     "name": "stdout",
     "output_type": "stream",
     "text": [
      "Model: \"model_4\"\n",
      "_________________________________________________________________\n",
      "Layer (type)                 Output Shape              Param #   \n",
      "=================================================================\n",
      "input_5 (InputLayer)         [(None, 351, 61)]         0         \n",
      "_________________________________________________________________\n",
      "conv1d_2 (Conv1D)            (None, 349, 32)           5888      \n",
      "_________________________________________________________________\n",
      "leaky_re_lu_6 (LeakyReLU)    (None, 349, 32)           0         \n",
      "_________________________________________________________________\n",
      "conv1d_3 (Conv1D)            (None, 347, 16)           1552      \n",
      "_________________________________________________________________\n",
      "leaky_re_lu_7 (LeakyReLU)    (None, 347, 16)           0         \n",
      "_________________________________________________________________\n",
      "flatten_2 (Flatten)          (None, 5552)              0         \n",
      "_________________________________________________________________\n",
      "dense_12 (Dense)             (None, 32)                177696    \n",
      "_________________________________________________________________\n",
      "leaky_re_lu_8 (LeakyReLU)    (None, 32)                0         \n",
      "_________________________________________________________________\n",
      "dropout_8 (Dropout)          (None, 32)                0         \n",
      "_________________________________________________________________\n",
      "dense_13 (Dense)             (None, 16)                528       \n",
      "_________________________________________________________________\n",
      "dropout_9 (Dropout)          (None, 16)                0         \n",
      "_________________________________________________________________\n",
      "dense_14 (Dense)             (None, 4)                 68        \n",
      "=================================================================\n",
      "Total params: 185,732\n",
      "Trainable params: 185,732\n",
      "Non-trainable params: 0\n",
      "_________________________________________________________________\n"
     ]
    }
   ],
   "source": [
    "inp_shape = (dims_lstm_1, dims_lstm_2)\n",
    "ip = tf.keras.Input(shape = inp_shape)\n",
    "conv1 = tf.keras.layers.Conv1D(32, 3,)(ip)\n",
    "rel = tf.keras.layers.LeakyReLU()(conv1)\n",
    "conv2 = tf.keras.layers.Conv1D(16, 3,)(rel)\n",
    "rel2 = tf.keras.layers.LeakyReLU()(conv2)\n",
    "# lstm = tf.keras.layers.LSTM(16, return_sequences=True)(ip)\n",
    "flatten = tf.keras.layers.Flatten()(rel2)\n",
    "dense1 = tf.keras.layers.Dense(units = 32, kernel_initializer = 'random_normal')(flatten)\n",
    "leakyRelu = tf.keras.layers.LeakyReLU()(dense1)\n",
    "drop1 = tf.keras.layers.Dropout(.4)(leakyRelu)\n",
    "dense2 = tf.keras.layers.Dense(units = 16, kernel_initializer = 'random_normal')(drop1)\n",
    "leakyRelu2 = tf.keras.layers.LeakyReLU()(dense2)\n",
    "drop2 = tf.keras.layers.Dropout(.4)(dense2)\n",
    "out = tf.keras.layers.Dense(num_classes, activation = 'softmax')(drop2)\n",
    "\n",
    "cnn = tf.keras.Model(inputs = ip, outputs = out)\n",
    "cnn.summary()"
   ]
  },
  {
   "cell_type": "code",
   "execution_count": 128,
   "metadata": {},
   "outputs": [],
   "source": [
    "# Compiling the model\n",
    "cnn_earlystop = EarlyStopping(patience = 15, min_delta = 0.001, monitor = 'val_acc')\n",
    "\n",
    "path = 'cnn_checkpoint/checkpoint_{epoch:02d}';\n",
    "cnn_checkpoint = ModelCheckpoint(filepath = path,\n",
    "                            verbose = 1,\n",
    "                            monitor = 'val_acc',\n",
    "                            save_freq = 'epoch',\n",
    "                            save_best_only = True,\n",
    "                            save_weights_only = True)\n",
    "\n",
    "cnn.compile(loss = 'categorical_crossentropy', metrics = ['acc'], optimizer = 'adam')"
   ]
  },
  {
   "cell_type": "code",
   "execution_count": 129,
   "metadata": {
    "scrolled": true
   },
   "outputs": [
    {
     "name": "stdout",
     "output_type": "stream",
     "text": [
      "WARNING:tensorflow:sample_weight modes were coerced from\n",
      "  ...\n",
      "    to  \n",
      "  ['...']\n",
      "Train for 449 steps, validate on 360 samples\n",
      "Epoch 1/50\n",
      "448/449 [============================>.] - ETA: 0s - loss: 1.2803 - acc: 0.3820- ETA: 8s - loss: 1.2946 - acc:  - ETA: - ETA:\n",
      "Epoch 00001: val_acc improved from -inf to 0.42500, saving model to cnn_checkpoint/checkpoint_01\n",
      "449/449 [==============================] - 15s 32ms/step - loss: 1.2807 - acc: 0.3820 - val_loss: 1.2362 - val_acc: 0.4250\n",
      "Epoch 2/50\n",
      "446/449 [============================>.] - ETA: 0s - loss: 1.2670 - acc: 0.3954- \n",
      "Epoch 00002: val_acc did not improve from 0.42500\n",
      "449/449 [==============================] - 10s 23ms/step - loss: 1.2669 - acc: 0.3953 - val_loss: 1.2334 - val_acc: 0.4250\n",
      "Epoch 3/50\n",
      "446/449 [============================>.] - ETA: 0s - loss: 1.2623 - acc: 0.3936\n",
      "Epoch 00003: val_acc did not improve from 0.42500\n",
      "449/449 [==============================] - 10s 22ms/step - loss: 1.2624 - acc: 0.3935 - val_loss: 1.2334 - val_acc: 0.4250\n",
      "Epoch 4/50\n",
      "446/449 [============================>.] - ETA: 0s - loss: 1.2607 - acc: 0.3952- ET\n",
      "Epoch 00004: val_acc did not improve from 0.42500\n",
      "449/449 [==============================] - 10s 22ms/step - loss: 1.2608 - acc: 0.3957 - val_loss: 1.2308 - val_acc: 0.4250\n",
      "Epoch 5/50\n",
      "448/449 [============================>.] - ETA: 0s - loss: 1.2615 - acc: 0.3931- ETA: 8s - ETA\n",
      "Epoch 00005: val_acc did not improve from 0.42500\n",
      "449/449 [==============================] - 10s 22ms/step - loss: 1.2614 - acc: 0.3934 - val_loss: 1.2324 - val_acc: 0.4250\n",
      "Epoch 6/50\n",
      "448/449 [============================>.] - ETA: 0s - loss: 1.2594 - acc: 0.3934- ETA: 0s - loss: 1.2602 - acc\n",
      "Epoch 00006: val_acc did not improve from 0.42500\n",
      "449/449 [==============================] - 10s 22ms/step - loss: 1.2594 - acc: 0.3935 - val_loss: 1.2319 - val_acc: 0.4250\n",
      "Epoch 7/50\n",
      "448/449 [============================>.] - ETA: 0s - loss: 1.2602 - acc: 0.3955-\n",
      "Epoch 00007: val_acc did not improve from 0.42500\n",
      "449/449 [==============================] - 10s 22ms/step - loss: 1.2601 - acc: 0.3955 - val_loss: 1.2309 - val_acc: 0.4250\n",
      "Epoch 8/50\n",
      "447/449 [============================>.] - ETA: 0s - loss: 1.2590 - acc: 0.3946\n",
      "Epoch 00008: val_acc did not improve from 0.42500\n",
      "449/449 [==============================] - 10s 22ms/step - loss: 1.2587 - acc: 0.3948 - val_loss: 1.2314 - val_acc: 0.4250\n",
      "Epoch 9/50\n",
      "448/449 [============================>.] - ETA: 0s - loss: 1.2599 - acc: 0.3938- ETA: 4s - loss: 1.2612 - acc: 0.393 - ET - E\n",
      "Epoch 00009: val_acc did not improve from 0.42500\n",
      "449/449 [==============================] - 10s 22ms/step - loss: 1.2597 - acc: 0.3941 - val_loss: 1.2316 - val_acc: 0.4250\n",
      "Epoch 10/50\n",
      "447/449 [============================>.] - ETA: 0s - loss: 1.2592 - acc: 0.3942- ETA: 1s - loss: 1.2597 - ac - ETA: 1s - loss: 1.2\n",
      "Epoch 00010: val_acc did not improve from 0.42500\n",
      "449/449 [==============================] - 10s 22ms/step - loss: 1.2591 - acc: 0.3940 - val_loss: 1.2323 - val_acc: 0.4250\n",
      "Epoch 11/50\n",
      "447/449 [============================>.] - ETA: 0s - loss: 1.2593 - acc: 0.3946- ETA: 6s - loss: - E\n",
      "Epoch 00011: val_acc did not improve from 0.42500\n",
      "449/449 [==============================] - 10s 21ms/step - loss: 1.2591 - acc: 0.3945 - val_loss: 1.2312 - val_acc: 0.4250\n",
      "Epoch 12/50\n",
      "447/449 [============================>.] - ETA: 0s - loss: 1.2588 - acc: 0.3944- ETA: 4s - loss - ETA: 2s - loss: 1.2584 - a - ETA:\n",
      "Epoch 00012: val_acc did not improve from 0.42500\n",
      "449/449 [==============================] - 10s 22ms/step - loss: 1.2587 - acc: 0.3943 - val_loss: 1.2321 - val_acc: 0.4250\n",
      "Epoch 13/50\n",
      "447/449 [============================>.] - ETA: 0s - loss: 1.2607 - acc: 0.3932- ETA: 2s - loss: 1.2 - ETA: 1s - loss: 1.\n",
      "Epoch 00013: val_acc did not improve from 0.42500\n",
      "449/449 [==============================] - 10s 21ms/step - loss: 1.2607 - acc: 0.3932 - val_loss: 1.2317 - val_acc: 0.4250\n",
      "Epoch 14/50\n",
      "447/449 [============================>.] - ETA: 0s - loss: 1.2569 - acc: 0.3953 - ETA: 9 -  - ETA: 0s - loss: 1.2570 - acc: 0.\n",
      "Epoch 00014: val_acc did not improve from 0.42500\n",
      "449/449 [==============================] - 10s 22ms/step - loss: 1.2571 - acc: 0.3951 - val_loss: 1.2305 - val_acc: 0.4250\n",
      "Epoch 15/50\n",
      "446/449 [============================>.] - ETA: 0s - loss: 1.2579 - acc: 0.3955- ETA: 0s - loss: 1.2579 - acc: 0.3 - ETA: 0s - loss: 1.2584 - acc\n",
      "Epoch 00015: val_acc did not improve from 0.42500\n",
      "449/449 [==============================] - 10s 21ms/step - loss: 1.2577 - acc: 0.3955 - val_loss: 1.2316 - val_acc: 0.4250\n",
      "Epoch 16/50\n",
      "446/449 [============================>.] - ETA: 0s - loss: 1.2582 - acc: 0.3945\n",
      "Epoch 00016: val_acc did not improve from 0.42500\n",
      "449/449 [==============================] - 10s 22ms/step - loss: 1.2584 - acc: 0.3950 - val_loss: 1.2311 - val_acc: 0.4250\n"
     ]
    }
   ],
   "source": [
    "cnn_history = cnn.fit(train_cyclic_generator_cnn,\n",
    "                        validation_data = (x_test_cnn, y_test_cnn),\n",
    "                        steps_per_epoch= 449,\n",
    "                        epochs = 50,\n",
    "                        callbacks = [cnn_earlystop, cnn_checkpoint]) #Fitting the model"
   ]
  },
  {
   "cell_type": "code",
   "execution_count": 130,
   "metadata": {},
   "outputs": [],
   "source": [
    "# #Plotting model history\n",
    "# plt.plot(cnn_history.history['acc'])\n",
    "# plt.plot(cnn_history.history['loss'])\n",
    "# plt.legend(['Training Accuracy', 'Training Loss'])\n",
    "# plt.title('Training History')\n",
    "# plt.ylabel('Value')\n",
    "# plt.xlabel('epochs')\n",
    "# plt.show()\n",
    "# print(\"Initial training accuracy is: \", cnn_history.history['acc'][0])\n",
    "# print(\"Final training accuracy is: \", cnn_history.history['acc'][-1])\n",
    "\n",
    "# print(\"Initial training loss is: \", cnn_history.history['loss'][0])\n",
    "# print(\"Final training loss is: \", cnn_history.history['loss'][-1])"
   ]
  },
  {
   "cell_type": "code",
   "execution_count": 131,
   "metadata": {
    "tags": []
   },
   "outputs": [
    {
     "data": {
      "image/png": "[encoded data removed]",
      "text/plain": [
       "<Figure size 432x288 with 1 Axes>"
      ]
     },
     "metadata": {
      "needs_background": "light"
     },
     "output_type": "display_data"
    },
    {
     "name": "stdout",
     "output_type": "stream",
     "text": [
      "Initial training accuracy with preprocessing is:  0.38195992\n",
      "Final training accuracy with preprocessing is:  0.39504454\n",
      "Initial training loss with preprocessing is:  1.28067101853462\n",
      "Final training loss with preprocessing is:  1.2584005466813766\n"
     ]
    }
   ],
   "source": [
    "#Plotting model history\n",
    "plt.plot(cnn_history.history['acc'])\n",
    "plt.plot(cnn_history.history['loss'])\n",
    "plt.legend(['Training Accuracy', 'Training Loss'])\n",
    "plt.title('Training History')\n",
    "plt.ylabel('Value')\n",
    "plt.xlabel('epochs')\n",
    "plt.show()\n",
    "print(\"Initial training accuracy with preprocessing is: \", cnn_history.history['acc'][0])\n",
    "print(\"Final training accuracy with preprocessing is: \", cnn_history.history['acc'][-1])\n",
    "\n",
    "print(\"Initial training loss with preprocessing is: \", cnn_history.history['loss'][0])\n",
    "print(\"Final training loss with preprocessing is: \", cnn_history.history['loss'][-1])"
   ]
  },
  {
   "cell_type": "code",
   "execution_count": 132,
   "metadata": {},
   "outputs": [
    {
     "data": {
      "image/png": "[encoded data removed]",
      "text/plain": [
       "<Figure size 432x288 with 1 Axes>"
      ]
     },
     "metadata": {
      "needs_background": "light"
     },
     "output_type": "display_data"
    },
    {
     "name": "stdout",
     "output_type": "stream",
     "text": [
      "Initial Validation accuracy with preprocessing is:  0.425\n",
      "Final Validation accuracy with preprocessing is:  0.425\n",
      "Initial Validation loss with preprocessing is:  1.2361695342593724\n",
      "Final Validation loss with preprocessing is:  1.2311116139094034\n"
     ]
    }
   ],
   "source": [
    "#Plotting model history\n",
    "plt.plot(cnn_history.history['val_acc'])\n",
    "plt.plot(cnn_history.history['val_loss'])\n",
    "plt.legend(['Valdation Accuracy', 'Validation Loss'])\n",
    "plt.title('Validation History')\n",
    "plt.ylabel('Value')\n",
    "plt.xlabel('epochs')\n",
    "plt.show()\n",
    "print(\"Initial Validation accuracy with preprocessing is: \", cnn_history.history['val_acc'][0])\n",
    "print(\"Final Validation accuracy with preprocessing is: \", cnn_history.history['val_acc'][-1])\n",
    "\n",
    "print(\"Initial Validation loss with preprocessing is: \", cnn_history.history['val_loss'][0])\n",
    "print(\"Final Validation loss with preprocessing is: \", cnn_history.history['val_loss'][-1])"
   ]
  },
  {
   "cell_type": "code",
   "execution_count": 133,
   "metadata": {},
   "outputs": [],
   "source": [
    "# #Plotting model history\n",
    "# plt.plot(cnn_history.history['val_acc'])\n",
    "# plt.plot(cnn_history.history['val_loss'])\n",
    "# plt.legend(['Valdation Accuracy', 'Validation Loss'])\n",
    "# plt.title('Validation History')\n",
    "# plt.ylabel('Value')\n",
    "# plt.xlabel('epochs')\n",
    "# plt.show()\n",
    "# print(\"Initial Validation accuracy is: \", cnn_history.history['val_acc'][0])\n",
    "# print(\"Final Validation accuracy is: \", cnn_history.history['val_acc'][-1])\n",
    "\n",
    "# print(\"Initial Validation loss is: \", cnn_history.history['val_loss'][0])\n",
    "# print(\"Final Validation loss is: \", cnn_history.history['val_loss'][-1])"
   ]
  },
  {
   "cell_type": "markdown",
   "metadata": {},
   "source": [
    "## Training for go/no-go"
   ]
  },
  {
   "cell_type": "code",
   "execution_count": 135,
   "metadata": {},
   "outputs": [
    {
     "name": "stdout",
     "output_type": "stream",
     "text": [
      "(1875, 21412)\n",
      "(600, 21412)\n",
      "(600, 21411)\n",
      "(600,)\n",
      "[2.0, 4.0]\n"
     ]
    }
   ],
   "source": [
    "#Creating dataset\n",
    "datasetgonogo = main_dataset.copy()\n",
    "print(datasetgonogo.shape)\n",
    "\n",
    "unwanted_events_gonogo = [9, 10, 3, 6, 7, 8, 11, 1, 5]\n",
    "\n",
    "for e in unwanted_events_gonogo:\n",
    "    datasetgonogo = datasetgonogo[datasetgonogo[:, -1]!=e]\n",
    "\n",
    "print(datasetgonogo.shape)\n",
    "\n",
    "xgonogo = datasetgonogo[:, :-1]\n",
    "ygonogo = datasetgonogo[:, -1]\n",
    "print(xgonogo.shape)\n",
    "print(ygonogo.shape)\n",
    "print(list(set(ygonogo)))\n",
    "\n",
    "permutations = np.random.permutation(len(xgonogo))\n",
    "xgonogo = xgonogo[permutations]\n",
    "ygonogo = ygonogo[permutations]"
   ]
  },
  {
   "cell_type": "code",
   "execution_count": 136,
   "metadata": {},
   "outputs": [
    {
     "name": "stdout",
     "output_type": "stream",
     "text": [
      "[0.0, 1.0]\n"
     ]
    }
   ],
   "source": [
    "#Encoding y\n",
    "dict = {2.0: 0, 4.0: 1}\n",
    "\n",
    "for i in range(len(ygonogo)):\n",
    "    ygonogo[i] = dict[ygonogo[i]]\n",
    "\n",
    "print(list(set(ygonogo)))"
   ]
  },
  {
   "cell_type": "code",
   "execution_count": 137,
   "metadata": {},
   "outputs": [
    {
     "data": {
      "text/plain": [
       "array([[0., 1.],\n",
       "       [1., 0.],\n",
       "       [0., 1.],\n",
       "       [1., 0.],\n",
       "       [1., 0.]], dtype=float32)"
      ]
     },
     "execution_count": 137,
     "metadata": {},
     "output_type": "execute_result"
    }
   ],
   "source": [
    "num_classes = 2\n",
    "ygonogo = tf.keras.utils.to_categorical(ygonogo, num_classes)\n",
    "ygonogo[:5]"
   ]
  },
  {
   "cell_type": "code",
   "execution_count": 138,
   "metadata": {},
   "outputs": [
    {
     "name": "stdout",
     "output_type": "stream",
     "text": [
      "480\n"
     ]
    },
    {
     "data": {
      "text/plain": [
       "(480, 21411)"
      ]
     },
     "execution_count": 138,
     "metadata": {},
     "output_type": "execute_result"
    }
   ],
   "source": [
    "train_test_split = int(0.8 * len(xgonogo))\n",
    "print(train_test_split)\n",
    "\n",
    "xgonogo_train_mlp = xgonogo[:train_test_split]\n",
    "ygonogo_train_mlp = ygonogo[:train_test_split]\n",
    "\n",
    "xgonogo_test_mlp = xgonogo[train_test_split:]\n",
    "ygonogo_test_mlp = ygonogo[train_test_split:]\n",
    "\n",
    "xgonogo_train_mlp.shape"
   ]
  },
  {
   "cell_type": "code",
   "execution_count": 139,
   "metadata": {},
   "outputs": [],
   "source": [
    "def get_cyclic_generator(features, labels, batch_size = 1):\n",
    "  while True:\n",
    "    for n in range(features.shape[0]//batch_size):\n",
    "      yield (features[n*batch_size: (n+1)*batch_size], labels[n*batch_size: (n+1)*batch_size])\n",
    "    permuted = np.random.permutation(len(features))\n",
    "    features = features[permuted]\n",
    "    labels = labels[permuted]"
   ]
  },
  {
   "cell_type": "code",
   "execution_count": 140,
   "metadata": {},
   "outputs": [],
   "source": [
    "train_batch_size = 32\n",
    "train_cyclic_generator_mlp_gonogo = get_cyclic_generator(xgonogo_train_mlp, ygonogo_train_mlp, batch_size = train_batch_size)\n",
    "# test_cyclic_generator = get_cyclic_generator(x_test, y_test, batch_size = train_batch_size)"
   ]
  },
  {
   "cell_type": "code",
   "execution_count": 141,
   "metadata": {},
   "outputs": [
    {
     "name": "stdout",
     "output_type": "stream",
     "text": [
      "Model: \"model_5\"\n",
      "_________________________________________________________________\n",
      "Layer (type)                 Output Shape              Param #   \n",
      "=================================================================\n",
      "input_6 (InputLayer)         [(None, 21411)]           0         \n",
      "_________________________________________________________________\n",
      "dense_15 (Dense)             (None, 32)                685184    \n",
      "_________________________________________________________________\n",
      "dropout_10 (Dropout)         (None, 32)                0         \n",
      "_________________________________________________________________\n",
      "dense_16 (Dense)             (None, 16)                528       \n",
      "_________________________________________________________________\n",
      "dropout_11 (Dropout)         (None, 16)                0         \n",
      "_________________________________________________________________\n",
      "dense_17 (Dense)             (None, 2)                 34        \n",
      "=================================================================\n",
      "Total params: 685,746\n",
      "Trainable params: 685,746\n",
      "Non-trainable params: 0\n",
      "_________________________________________________________________\n"
     ]
    }
   ],
   "source": [
    "#Creating model architecture\n",
    "inp_shape = (dims_ip, )\n",
    "ip = tf.keras.Input(shape = inp_shape)\n",
    "dense1 = tf.keras.layers.Dense(units = 32, activation = 'relu', kernel_initializer = 'random_normal')(ip)\n",
    "drop = tf.keras.layers.Dropout(.4)(dense1)\n",
    "dense2 = tf.keras.layers.Dense(units = 16, activation = 'relu', kernel_initializer = 'random_normal')(drop)\n",
    "drop2 = tf.keras.layers.Dropout(.4)(dense2)\n",
    "out = tf.keras.layers.Dense(num_classes, activation = 'softmax')(drop2)\n",
    "\n",
    "mlp_gonogo = tf.keras.Model(inputs = ip, outputs = out)\n",
    "mlp_gonogo.summary()"
   ]
  },
  {
   "cell_type": "code",
   "execution_count": 142,
   "metadata": {},
   "outputs": [],
   "source": [
    "# Compiling the model\n",
    "mlp_gonogo_earlystop = EarlyStopping(patience = 10, min_delta = 0.001, monitor = 'val_acc')\n",
    "\n",
    "path = 'mlp_gonogo_checkpoint/checkpoint_{epoch:02d}';\n",
    "mlp_gonogo_checkpoint = ModelCheckpoint(filepath = path,\n",
    "                            verbose = 1,\n",
    "                            monitor = 'val_acc',\n",
    "                            save_freq = 'epoch',\n",
    "                            save_best_only = True,\n",
    "                            save_weights_only = True)\n",
    "\n",
    "mlp_gonogo.compile(loss = 'categorical_crossentropy', metrics = ['acc'], optimizer = 'adam')"
   ]
  },
  {
   "cell_type": "code",
   "execution_count": 143,
   "metadata": {
    "scrolled": true
   },
   "outputs": [
    {
     "name": "stdout",
     "output_type": "stream",
     "text": [
      "WARNING:tensorflow:sample_weight modes were coerced from\n",
      "  ...\n",
      "    to  \n",
      "  ['...']\n",
      "Train for 449 steps, validate on 120 samples\n",
      "Epoch 1/50\n",
      "447/449 [============================>.] - ETA: 0s - loss: 0.5398 - acc: 0.7902\n",
      "Epoch 00001: val_acc improved from -inf to 0.83333, saving model to mlp_gonogo_checkpoint/checkpoint_01\n",
      "449/449 [==============================] - 8s 17ms/step - loss: 0.5393 - acc: 0.7906 - val_loss: 0.4597 - val_acc: 0.8333\n",
      "Epoch 2/50\n",
      "446/449 [============================>.] - ETA: 0s - loss: 0.5156 - acc: 0.7922\n",
      "Epoch 00002: val_acc did not improve from 0.83333\n",
      "449/449 [==============================] - 6s 13ms/step - loss: 0.5161 - acc: 0.7918 - val_loss: 0.4561 - val_acc: 0.8333\n",
      "Epoch 3/50\n",
      "448/449 [============================>.] - ETA: 0s - loss: 0.5159 - acc: 0.7911\n",
      "Epoch 00003: val_acc did not improve from 0.83333\n",
      "449/449 [==============================] - 6s 14ms/step - loss: 0.5155 - acc: 0.7914 - val_loss: 0.4582 - val_acc: 0.8333\n",
      "Epoch 4/50\n",
      "445/449 [============================>.] - ETA: 0s - loss: 0.5118 - acc: 0.7915\n",
      "Epoch 00004: val_acc did not improve from 0.83333\n",
      "449/449 [==============================] - 6s 14ms/step - loss: 0.5117 - acc: 0.7916 - val_loss: 0.4546 - val_acc: 0.8333\n",
      "Epoch 5/50\n",
      "446/449 [============================>.] - ETA: 0s - loss: 0.5045 - acc: 0.7923- ETA: 1s - l\n",
      "Epoch 00005: val_acc did not improve from 0.83333\n",
      "449/449 [==============================] - 6s 14ms/step - loss: 0.5044 - acc: 0.7922 - val_loss: 0.4497 - val_acc: 0.8333\n",
      "Epoch 6/50\n",
      "448/449 [============================>.] - ETA: 0s - loss: 0.4961 - acc: 0.7913\n",
      "Epoch 00006: val_acc did not improve from 0.83333\n",
      "449/449 [==============================] - 7s 15ms/step - loss: 0.4963 - acc: 0.7912 - val_loss: 0.4435 - val_acc: 0.8333\n",
      "Epoch 7/50\n",
      "447/449 [============================>.] - ETA: 0s - loss: 0.4779 - acc: 0.7918- ETA: 2s - loss: 0.4819 - - ETA: \n",
      "Epoch 00007: val_acc did not improve from 0.83333\n",
      "449/449 [==============================] - 7s 15ms/step - loss: 0.4779 - acc: 0.7918 - val_loss: 0.4392 - val_acc: 0.8333\n",
      "Epoch 8/50\n",
      "445/449 [============================>.] - ETA: 0s - loss: 0.4566 - acc: 0.7918\n",
      "Epoch 00008: val_acc did not improve from 0.83333\n",
      "449/449 [==============================] - 6s 14ms/step - loss: 0.4567 - acc: 0.7916 - val_loss: 0.4364 - val_acc: 0.8333\n",
      "Epoch 9/50\n",
      "446/449 [============================>.] - ETA: 0s - loss: 0.4357 - acc: 0.7915- ETA:\n",
      "Epoch 00009: val_acc did not improve from 0.83333\n",
      "449/449 [==============================] - 7s 16ms/step - loss: 0.4362 - acc: 0.7912 - val_loss: 0.4422 - val_acc: 0.8333\n",
      "Epoch 10/50\n",
      "444/449 [============================>.] - ETA: 0s - loss: 0.4092 - acc: 0.7922\n",
      "Epoch 00010: val_acc did not improve from 0.83333\n",
      "449/449 [==============================] - 6s 14ms/step - loss: 0.4094 - acc: 0.7919 - val_loss: 0.4525 - val_acc: 0.8333\n",
      "Epoch 11/50\n",
      "448/449 [============================>.] - ETA: 0s - loss: 0.3831 - acc: 0.7919\n",
      "Epoch 00011: val_acc did not improve from 0.83333\n",
      "449/449 [==============================] - 6s 14ms/step - loss: 0.3829 - acc: 0.7921 - val_loss: 0.4629 - val_acc: 0.8333\n"
     ]
    }
   ],
   "source": [
    "# historygonogo = modelgonogo.fit(xgonogo, ygonogo, epochs=300, callbacks = [earlystop, model_checkpoint]) #plotting the model\n",
    "\n",
    "mlp_gonogo_history = mlp_gonogo.fit(train_cyclic_generator_mlp_gonogo,\n",
    "                        validation_data = (xgonogo_test_mlp, ygonogo_test_mlp),\n",
    "                        steps_per_epoch= 449,\n",
    "                        epochs = 50,\n",
    "                        callbacks = [mlp_gonogo_earlystop, mlp_gonogo_checkpoint]) #Fitting the model"
   ]
  },
  {
   "cell_type": "code",
   "execution_count": 144,
   "metadata": {},
   "outputs": [
    {
     "data": {
      "image/png": "[encoded data removed]",
      "text/plain": [
       "<Figure size 432x288 with 1 Axes>"
      ]
     },
     "metadata": {
      "needs_background": "light"
     },
     "output_type": "display_data"
    },
    {
     "name": "stdout",
     "output_type": "stream",
     "text": [
      "Initial accuracy is:  0.7905763\n",
      "Final accuracy is:  0.79210746\n",
      "Initial loss is:  0.5392751983783823\n",
      "Final loss is:  0.3828980540711524\n"
     ]
    }
   ],
   "source": [
    "#plotting model history\n",
    "plt.plot(mlp_gonogo_history.history['acc'])\n",
    "plt.plot(mlp_gonogo_history.history['loss'])\n",
    "plt.legend(['Accuracy', 'Loss'])\n",
    "plt.title('Model History')\n",
    "plt.ylabel('Value')\n",
    "plt.xlabel('epochs')\n",
    "plt.show()\n",
    "print(\"Initial accuracy is: \", mlp_gonogo_history.history['acc'][0])\n",
    "print(\"Final accuracy is: \", mlp_gonogo_history.history['acc'][-1])\n",
    "\n",
    "print(\"Initial loss is: \", mlp_gonogo_history.history['loss'][0])\n",
    "print(\"Final loss is: \", mlp_gonogo_history.history['loss'][-1])"
   ]
  },
  {
   "cell_type": "code",
   "execution_count": 147,
   "metadata": {},
   "outputs": [
    {
     "data": {
      "image/png": "[encoded data removed]",
      "text/plain": [
       "<Figure size 432x288 with 1 Axes>"
      ]
     },
     "metadata": {
      "needs_background": "light"
     },
     "output_type": "display_data"
    },
    {
     "name": "stdout",
     "output_type": "stream",
     "text": [
      "Initial Validation accuracy is:  0.8333333\n",
      "Final Validation accuracy is:  0.8333333\n",
      "Initial Validation loss is:  0.4596542636553446\n",
      "Final Validation loss is:  0.4628682096799215\n"
     ]
    }
   ],
   "source": [
    "#Plotting model history\n",
    "plt.plot(mlp_gonogo_history.history['val_acc'])\n",
    "plt.plot(mlp_gonogo_history.history['val_loss'])\n",
    "plt.legend(['Valdation Accuracy', 'Validation Loss'])\n",
    "plt.title('Validation History')\n",
    "plt.ylabel('Value')\n",
    "plt.xlabel('epochs')\n",
    "plt.show()\n",
    "print(\"Initial Validation accuracy is: \", mlp_gonogo_history.history['val_acc'][0])\n",
    "print(\"Final Validation accuracy is: \", mlp_gonogo_history.history['val_acc'][-1])\n",
    "\n",
    "print(\"Initial Validation loss is: \", mlp_gonogo_history.history['val_loss'][0])\n",
    "print(\"Final Validation loss is: \", mlp_gonogo_history.history['val_loss'][-1])"
   ]
  },
  {
   "cell_type": "code",
   "execution_count": 146,
   "metadata": {},
   "outputs": [
    {
     "name": "stdout",
     "output_type": "stream",
     "text": [
      "1\n"
     ]
    }
   ],
   "source": [
    "print(len(tf.config.experimental.list_physical_devices('GPU')))"
   ]
  },
  {
   "cell_type": "code",
   "execution_count": null,
   "metadata": {},
   "outputs": [],
   "source": []
  }
 ],
 "metadata": {
  "kernelspec": {
   "display_name": "Python 3",
   "language": "python",
   "name": "python3"
  },
  "language_info": {
   "codemirror_mode": {
    "name": "ipython",
    "version": 3
   },
   "file_extension": ".py",
   "mimetype": "text/x-python",
   "name": "python",
   "nbconvert_exporter": "python",
   "pygments_lexer": "ipython3",
   "version": "3.7.6"
  }
 },
 "nbformat": 4,
 "nbformat_minor": 4
}
