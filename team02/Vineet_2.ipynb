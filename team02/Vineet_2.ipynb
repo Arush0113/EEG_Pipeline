{
 "cells": [
  {
   "cell_type": "code",
   "execution_count": 110,
   "metadata": {},
   "outputs": [
    {
     "name": "stdout",
     "output_type": "stream",
     "text": [
      "0.22.1\n"
     ]
    }
   ],
   "source": [
    "import matplotlib\n",
    "import pathlib\n",
    "\n",
    "import mne\n",
    "print(mne.__version__)\n",
    "import mne_bids\n",
    "\n",
    "matplotlib.use('Qt5Agg')"
   ]
  },
  {
   "cell_type": "code",
   "execution_count": 111,
   "metadata": {},
   "outputs": [],
   "source": [
    "raw = mne.io.read_raw_eeglab('sub-AB10_eeg_sub-AB10_task-gonogo_run-1_eeg.set', eog=(),\n",
    "                             preload=True, uint16_codec=None, verbose=None)"
   ]
  },
  {
   "cell_type": "code",
   "execution_count": 112,
   "metadata": {},
   "outputs": [],
   "source": [
    "path_channels_tsv='sub-AB10_eeg_sub-AB10_task-gonogo_run-1_channels.tsv'\n",
    "import pandas as pd\n",
    "channel_types_tsv = pd.read_csv(path_channels_tsv, delimiter = '\\t')\n",
    "\n",
    "def get_channel_types_dic(channel_types_tsv):\n",
    "    channel_types = {}\n",
    "    for i in range(channel_types_tsv.shape[0]):\n",
    "        channel_types[channel_types_tsv['name'][i]] = channel_types_tsv['type'][i].lower()\n",
    "    reassign_dic = {'HEO':'eog', 'VEO':'eog', 'R-Dia-X-(mm)':'misc', 'R-Dia-Y-(mm)':'misc'}\n",
    "    for k in list(reassign_dic.keys()):\n",
    "        if k in list(channel_types):\n",
    "            channel_types[k] = reassign_dic[k]\n",
    "    return channel_types\n",
    "\n",
    "channel_types = get_channel_types_dic(channel_types_tsv)"
   ]
  },
  {
   "cell_type": "code",
   "execution_count": 113,
   "metadata": {},
   "outputs": [
    {
     "data": {
      "text/plain": [
       "<Info | 8 non-empty values\n",
       " bads: []\n",
       " ch_names: AF3, AF4, F7, F5, F3, F1, Fz, F2, F4, F6, F8, FT7, FC5, FC3, ...\n",
       " chs: 61 EEG, 2 EOG, 1 ECG, 2 MISC\n",
       " custom_ref_applied: False\n",
       " dig: 66 items (66 EEG)\n",
       " highpass: 0.0 Hz\n",
       " lowpass: 250.0 Hz\n",
       " meas_date: unspecified\n",
       " nchan: 66\n",
       " projs: []\n",
       " sfreq: 500.0 Hz\n",
       ">"
      ]
     },
     "execution_count": 113,
     "metadata": {},
     "output_type": "execute_result"
    }
   ],
   "source": [
    "raw.set_channel_types(channel_types)\n",
    "raw.info"
   ]
  },
  {
   "cell_type": "code",
   "execution_count": 94,
   "metadata": {},
   "outputs": [],
   "source": [
    "raw1=raw.copy()"
   ]
  },
  {
   "cell_type": "code",
   "execution_count": 114,
   "metadata": {},
   "outputs": [
    {
     "name": "stdout",
     "output_type": "stream",
     "text": [
      "Filtering raw data in 1 contiguous segment\n",
      "Setting up band-pass filter from 0.5 - 50 Hz\n",
      "\n",
      "FIR filter parameters\n",
      "---------------------\n",
      "Designing a one-pass, zero-phase, non-causal bandpass filter:\n",
      "- Windowed time-domain design (firwin) method\n",
      "- Hamming window with 0.0194 passband ripple and 53 dB stopband attenuation\n",
      "- Lower passband edge: 0.50\n",
      "- Lower transition bandwidth: 0.50 Hz (-6 dB cutoff frequency: 0.25 Hz)\n",
      "- Upper passband edge: 50.00 Hz\n",
      "- Upper transition bandwidth: 12.50 Hz (-6 dB cutoff frequency: 56.25 Hz)\n",
      "- Filter length: 3301 samples (6.602 sec)\n",
      "\n"
     ]
    },
    {
     "name": "stderr",
     "output_type": "stream",
     "text": [
      "[Parallel(n_jobs=2)]: Using backend LokyBackend with 2 concurrent workers.\n",
      "[Parallel(n_jobs=2)]: Done  16 tasks      | elapsed:    2.2s\n",
      "[Parallel(n_jobs=2)]: Done  61 out of  61 | elapsed:    3.0s finished\n"
     ]
    },
    {
     "data": {
      "text/plain": [
       "<RawEEGLAB | sub-AB10_eeg_sub-AB10_task-gonogo_run-1_eeg.set, 66 x 262640 (525.3 s), ~132.3 MB, data loaded>"
      ]
     },
     "execution_count": 114,
     "metadata": {},
     "output_type": "execute_result"
    }
   ],
   "source": [
    "raw.filter(0.5, 50, n_jobs=2, fir_design='firwin')"
   ]
  },
  {
   "cell_type": "code",
   "execution_count": 19,
   "metadata": {},
   "outputs": [
    {
     "data": {
      "text/plain": [
       "<MNEBrowseFigure size 1920x950 with 4 Axes>"
      ]
     },
     "execution_count": 19,
     "metadata": {},
     "output_type": "execute_result"
    },
    {
     "name": "stdout",
     "output_type": "stream",
     "text": [
      "Channels marked as bad: none\n",
      "Channels marked as bad: none\n"
     ]
    }
   ],
   "source": [
    "raw.plot()\n",
    "raw1.plot()"
   ]
  },
  {
   "cell_type": "code",
   "execution_count": 96,
   "metadata": {},
   "outputs": [
    {
     "name": "stdout",
     "output_type": "stream",
     "text": [
      "Effective window size : 4.096 (s)\n"
     ]
    }
   ],
   "source": [
    "import numpy as np\n",
    "fig = raw.plot_psd(tmax=np.inf, fmax=250, average=True)"
   ]
  },
  {
   "cell_type": "code",
   "execution_count": 55,
   "metadata": {},
   "outputs": [
    {
     "name": "stdout",
     "output_type": "stream",
     "text": [
      "Setting up band-stop filter\n",
      "\n",
      "FIR filter parameters\n",
      "---------------------\n",
      "Designing a one-pass, zero-phase, non-causal bandstop filter:\n",
      "- Windowed time-domain design (firwin) method\n",
      "- Hamming window with 0.0194 passband ripple and 53 dB stopband attenuation\n",
      "- Lower transition bandwidth: 0.50 Hz\n",
      "- Upper transition bandwidth: 0.50 Hz\n",
      "- Filter length: 3301 samples (6.602 sec)\n",
      "\n",
      "Effective window size : 4.096 (s)\n"
     ]
    },
    {
     "data": {
      "text/plain": [
       "<MNELineFigure size 1924x700 with 1 Axes>"
      ]
     },
     "execution_count": 55,
     "metadata": {},
     "output_type": "execute_result"
    }
   ],
   "source": [
    "import numpy as np\n",
    "\n",
    "raw.notch_filter(np.arange(60, 241, 60), filter_length='auto',\n",
    "                 phase='zero')\n",
    "raw.plot_psd(area_mode='range', tmax=10.0, average=True)"
   ]
  },
  {
   "cell_type": "code",
   "execution_count": 56,
   "metadata": {},
   "outputs": [
    {
     "name": "stdout",
     "output_type": "stream",
     "text": [
      "Filtering raw data in 1 contiguous segment\n",
      "Setting up low-pass filter at 50 Hz\n",
      "\n",
      "FIR filter parameters\n",
      "---------------------\n",
      "Designing a one-pass, zero-phase, non-causal lowpass filter:\n",
      "- Windowed time-domain design (firwin) method\n",
      "- Hamming window with 0.0194 passband ripple and 53 dB stopband attenuation\n",
      "- Upper passband edge: 50.00 Hz\n",
      "- Upper transition bandwidth: 12.50 Hz (-6 dB cutoff frequency: 56.25 Hz)\n",
      "- Filter length: 133 samples (0.266 sec)\n",
      "\n",
      "Effective window size : 4.096 (s)\n"
     ]
    }
   ],
   "source": [
    "raw.filter(None, 50., fir_design='firwin')\n",
    "raw.plot_psd(area_mode='range', tmax=10.0, average=True);"
   ]
  },
  {
   "cell_type": "code",
   "execution_count": 57,
   "metadata": {},
   "outputs": [
    {
     "name": "stdout",
     "output_type": "stream",
     "text": [
      "Filtering raw data in 1 contiguous segment\n",
      "Setting up high-pass filter at 1 Hz\n",
      "\n",
      "FIR filter parameters\n",
      "---------------------\n",
      "Designing a one-pass, zero-phase, non-causal highpass filter:\n",
      "- Windowed time-domain design (firwin) method\n",
      "- Hamming window with 0.0194 passband ripple and 53 dB stopband attenuation\n",
      "- Lower passband edge: 1.00\n",
      "- Lower transition bandwidth: 1.00 Hz (-6 dB cutoff frequency: 0.50 Hz)\n",
      "- Filter length: 1651 samples (3.302 sec)\n",
      "\n",
      "Effective window size : 4.096 (s)\n"
     ]
    },
    {
     "data": {
      "text/plain": [
       "<MNELineFigure size 1924x700 with 1 Axes>"
      ]
     },
     "execution_count": 57,
     "metadata": {},
     "output_type": "execute_result"
    }
   ],
   "source": [
    "raw.filter(1., None, fir_design='firwin')\n",
    "raw.plot_psd(area_mode='range', tmax=10.0, average=True)"
   ]
  },
  {
   "cell_type": "code",
   "execution_count": 75,
   "metadata": {},
   "outputs": [
    {
     "name": "stdout",
     "output_type": "stream",
     "text": [
      "Filtering raw data in 1 contiguous segment\n",
      "Setting up band-pass filter from 1 - 50 Hz\n",
      "\n",
      "FIR filter parameters\n",
      "---------------------\n",
      "Designing a one-pass, zero-phase, non-causal bandpass filter:\n",
      "- Windowed time-domain design (firwin) method\n",
      "- Hamming window with 0.0194 passband ripple and 53 dB stopband attenuation\n",
      "- Lower passband edge: 1.00\n",
      "- Lower transition bandwidth: 1.00 Hz (-6 dB cutoff frequency: 0.50 Hz)\n",
      "- Upper passband edge: 50.00 Hz\n",
      "- Upper transition bandwidth: 12.50 Hz (-6 dB cutoff frequency: 56.25 Hz)\n",
      "- Filter length: 1651 samples (3.302 sec)\n",
      "\n"
     ]
    },
    {
     "data": {
      "text/plain": [
       "<RawEEGLAB | sub-AB10_eeg_sub-AB10_task-gonogo_run-1_eeg.set, 66 x 262640 (525.3 s), ~132.3 MB, data loaded>"
      ]
     },
     "execution_count": 75,
     "metadata": {},
     "output_type": "execute_result"
    }
   ],
   "source": [
    "raw.filter(1, 50., fir_design='firwin')"
   ]
  },
  {
   "cell_type": "code",
   "execution_count": 59,
   "metadata": {},
   "outputs": [
    {
     "name": "stdout",
     "output_type": "stream",
     "text": [
      "Effective window size : 20.480 (s)\n"
     ]
    },
    {
     "data": {
      "text/plain": [
       "<MNELineFigure size 1924x700 with 1 Axes>"
      ]
     },
     "execution_count": 59,
     "metadata": {},
     "output_type": "execute_result"
    }
   ],
   "source": [
    "raw.resample(100, npad=\"auto\")  \n",
    "raw.plot_psd(area_mode='range', average=True)"
   ]
  },
  {
   "cell_type": "code",
   "execution_count": 27,
   "metadata": {},
   "outputs": [
    {
     "data": {
      "text/plain": [
       "<MNEBrowseFigure size 1920x950 with 4 Axes>"
      ]
     },
     "execution_count": 27,
     "metadata": {},
     "output_type": "execute_result"
    },
    {
     "name": "stdout",
     "output_type": "stream",
     "text": [
      "Channels marked as bad: none\n"
     ]
    }
   ],
   "source": [
    "raw.plot()"
   ]
  },
  {
   "cell_type": "code",
   "execution_count": 115,
   "metadata": {},
   "outputs": [],
   "source": [
    "ica = mne.preprocessing.ICA(n_components=25, random_state=23, method = 'fastica',)"
   ]
  },
  {
   "cell_type": "code",
   "execution_count": 116,
   "metadata": {},
   "outputs": [],
   "source": [
    "picks_eeg = mne.pick_types(raw.info, eeg=True, eog=False,\n",
    "                           stim=False, exclude='bads')\n",
    "reject = dict(mag=5e-12, grad=4000e-13)\n"
   ]
  },
  {
   "cell_type": "code",
   "execution_count": 117,
   "metadata": {},
   "outputs": [
    {
     "name": "stdout",
     "output_type": "stream",
     "text": [
      "Fitting ICA to data using 61 channels (please be patient, this may take a while)\n",
      "Selecting by number: 25 components\n",
      "Fitting ICA took 4.7s.\n"
     ]
    },
    {
     "data": {
      "text/plain": [
       "<ICA | raw data decomposition, fit (fastica): 87508 samples, 25 components, channels used: \"eeg\">"
      ]
     },
     "execution_count": 117,
     "metadata": {},
     "output_type": "execute_result"
    }
   ],
   "source": [
    "ica.fit(raw, picks=picks_eeg, decim=3, reject=reject)"
   ]
  },
  {
   "cell_type": "code",
   "execution_count": 104,
   "metadata": {},
   "outputs": [
    {
     "data": {
      "text/plain": [
       "[<MNEFigure size 1924x1014 with 20 Axes>,\n",
       " <MNEFigure size 1924x520 with 5 Axes>]"
      ]
     },
     "execution_count": 104,
     "metadata": {},
     "output_type": "execute_result"
    }
   ],
   "source": [
    "ica.plot_components(outlines=\"skirt\")"
   ]
  },
  {
   "cell_type": "code",
   "execution_count": 109,
   "metadata": {},
   "outputs": [
    {
     "name": "stdout",
     "output_type": "stream",
     "text": [
      "Creating RawArray with float64 data, n_channels=66, n_times=262000\n",
      "    Range : 0 ... 261999 =      0.000 ...   523.998 secs\n",
      "Ready.\n",
      "    Using multitaper spectrum estimation with 7 DPSS windows\n",
      "Not setting metadata\n",
      "Not setting metadata\n",
      "262 matching events found\n",
      "No baseline correction applied\n",
      "0 projection items activated\n",
      "0 bad epochs dropped\n",
      "Not setting metadata\n",
      "Not setting metadata\n",
      "262 matching events found\n",
      "No baseline correction applied\n",
      "0 projection items activated\n",
      "0 bad epochs dropped\n",
      "Not setting metadata\n",
      "Not setting metadata\n",
      "262 matching events found\n",
      "No baseline correction applied\n",
      "0 projection items activated\n",
      "0 bad epochs dropped\n"
     ]
    },
    {
     "data": {
      "text/plain": [
       "[<Figure size 1400x918 with 6 Axes>,\n",
       " <Figure size 1400x918 with 6 Axes>,\n",
       " <Figure size 1400x918 with 6 Axes>]"
      ]
     },
     "execution_count": 109,
     "metadata": {},
     "output_type": "execute_result"
    }
   ],
   "source": [
    "ica.plot_properties(raw, picks=[0, 2, 7], psd_args={'fmax': 35.})"
   ]
  },
  {
   "cell_type": "code",
   "execution_count": 119,
   "metadata": {},
   "outputs": [
    {
     "name": "stdout",
     "output_type": "stream",
     "text": [
      "EOG channel index for this subject is: [61 62]\n",
      "Filtering the data to remove DC offset to help distinguish blinks from saccades\n",
      "Setting up band-pass filter from 1 - 10 Hz\n",
      "\n",
      "FIR filter parameters\n",
      "---------------------\n",
      "Designing a two-pass forward and reverse, zero-phase, non-causal bandpass filter:\n",
      "- Windowed frequency-domain design (firwin2) method\n",
      "- Hann window\n",
      "- Lower passband edge: 1.00\n",
      "- Lower transition bandwidth: 0.50 Hz (-12 dB cutoff frequency: 0.75 Hz)\n",
      "- Upper passband edge: 10.00 Hz\n",
      "- Upper transition bandwidth: 0.50 Hz (-12 dB cutoff frequency: 10.25 Hz)\n",
      "- Filter length: 5000 samples (10.000 sec)\n",
      "\n",
      "Now detecting blinks and generating corresponding events\n",
      "Found 91 significant peaks\n",
      "Number of EOG events detected : 91\n",
      "Not setting metadata\n",
      "Not setting metadata\n",
      "91 matching events found\n",
      "No baseline correction applied\n",
      "Loading data for 91 events and 501 original time points ...\n",
      "1 bad epochs dropped\n",
      "EOG channel index for this subject is: [61 62]\n",
      "Filtering the data to remove DC offset to help distinguish blinks from saccades\n",
      "Setting up band-pass filter from 1 - 10 Hz\n",
      "\n",
      "FIR filter parameters\n",
      "---------------------\n",
      "Designing a two-pass forward and reverse, zero-phase, non-causal bandpass filter:\n",
      "- Windowed frequency-domain design (firwin2) method\n",
      "- Hann window\n",
      "- Lower passband edge: 1.00\n",
      "- Lower transition bandwidth: 0.50 Hz (-12 dB cutoff frequency: 0.75 Hz)\n",
      "- Upper passband edge: 10.00 Hz\n",
      "- Upper transition bandwidth: 0.50 Hz (-12 dB cutoff frequency: 10.25 Hz)\n",
      "- Filter length: 5000 samples (10.000 sec)\n",
      "\n",
      "Now detecting blinks and generating corresponding events\n",
      "Found 91 significant peaks\n",
      "Number of EOG events detected : 91\n",
      "Not setting metadata\n",
      "Not setting metadata\n",
      "91 matching events found\n",
      "No baseline correction applied\n",
      "Loading data for 91 events and 501 original time points ...\n",
      "1 bad epochs dropped\n"
     ]
    },
    {
     "data": {
      "text/plain": [
       "<Figure size 1280x918 with 1 Axes>"
      ]
     },
     "execution_count": 119,
     "metadata": {},
     "output_type": "execute_result"
    }
   ],
   "source": [
    "eog_average = mne.preprocessing.create_eog_epochs(raw,\n",
    "                                picks=picks_eeg).average()\n",
    "\n",
    "eog_epochs = mne.preprocessing.create_eog_epochs(raw)  # get single EOG trials\n",
    "eog_inds, scores = ica.find_bads_eog(eeg_epochs)  # find via correlation\n",
    "\n",
    "ica.plot_scores(scores)  # look at r scores of components\n",
    "# we can see that only one component is highly correlated and that this\n",
    "# component got detected by our correlation analysis (red).\n",
    "\n",
    "ica.plot_sources(eog_average)  # look at source time course"
   ]
  },
  {
   "cell_type": "code",
   "execution_count": 121,
   "metadata": {},
   "outputs": [
    {
     "name": "stdout",
     "output_type": "stream",
     "text": [
      "Applying ICA to Evoked instance\n",
      "    Transforming to ICA space (25 components)\n",
      "    Zeroing out 3 ICA components\n",
      "    Projecting back using 61 PCA components\n"
     ]
    },
    {
     "name": "stderr",
     "output_type": "stream",
     "text": [
      "Traceback (most recent call last):\n",
      "  File \"C:\\Users\\asus\\anaconda3\\lib\\site-packages\\matplotlib\\cbook\\__init__.py\", line 216, in process\n",
      "    func(*args, **kwargs)\n",
      "  File \"C:\\Users\\asus\\anaconda3\\lib\\site-packages\\mne\\viz\\evoked.py\", line 53, in _butterfly_onpick\n",
      "    line is event.artist for line in params['lines'][ax_idx]])[0][0]\n",
      "IndexError: index 0 is out of bounds for axis 0 with size 0\n",
      "Traceback (most recent call last):\n",
      "  File \"C:\\Users\\asus\\anaconda3\\lib\\site-packages\\matplotlib\\cbook\\__init__.py\", line 216, in process\n",
      "    func(*args, **kwargs)\n",
      "  File \"C:\\Users\\asus\\anaconda3\\lib\\site-packages\\mne\\viz\\evoked.py\", line 53, in _butterfly_onpick\n",
      "    line is event.artist for line in params['lines'][ax_idx]])[0][0]\n",
      "IndexError: index 0 is out of bounds for axis 0 with size 0\n",
      "Traceback (most recent call last):\n",
      "  File \"C:\\Users\\asus\\anaconda3\\lib\\site-packages\\matplotlib\\cbook\\__init__.py\", line 216, in process\n",
      "    func(*args, **kwargs)\n",
      "  File \"C:\\Users\\asus\\anaconda3\\lib\\site-packages\\mne\\viz\\evoked.py\", line 53, in _butterfly_onpick\n",
      "    line is event.artist for line in params['lines'][ax_idx]])[0][0]\n",
      "IndexError: index 0 is out of bounds for axis 0 with size 0\n",
      "Traceback (most recent call last):\n",
      "  File \"C:\\Users\\asus\\anaconda3\\lib\\site-packages\\matplotlib\\cbook\\__init__.py\", line 216, in process\n",
      "    func(*args, **kwargs)\n",
      "  File \"C:\\Users\\asus\\anaconda3\\lib\\site-packages\\mne\\viz\\evoked.py\", line 53, in _butterfly_onpick\n",
      "    line is event.artist for line in params['lines'][ax_idx]])[0][0]\n",
      "IndexError: index 0 is out of bounds for axis 0 with size 0\n",
      "Traceback (most recent call last):\n",
      "  File \"C:\\Users\\asus\\anaconda3\\lib\\site-packages\\matplotlib\\cbook\\__init__.py\", line 216, in process\n",
      "    func(*args, **kwargs)\n",
      "  File \"C:\\Users\\asus\\anaconda3\\lib\\site-packages\\mne\\viz\\evoked.py\", line 53, in _butterfly_onpick\n",
      "    line is event.artist for line in params['lines'][ax_idx]])[0][0]\n",
      "IndexError: index 0 is out of bounds for axis 0 with size 0\n",
      "Traceback (most recent call last):\n",
      "  File \"C:\\Users\\asus\\anaconda3\\lib\\site-packages\\matplotlib\\cbook\\__init__.py\", line 216, in process\n",
      "    func(*args, **kwargs)\n",
      "  File \"C:\\Users\\asus\\anaconda3\\lib\\site-packages\\mne\\viz\\evoked.py\", line 53, in _butterfly_onpick\n",
      "    line is event.artist for line in params['lines'][ax_idx]])[0][0]\n",
      "IndexError: index 0 is out of bounds for axis 0 with size 0\n",
      "Traceback (most recent call last):\n",
      "  File \"C:\\Users\\asus\\anaconda3\\lib\\site-packages\\matplotlib\\cbook\\__init__.py\", line 216, in process\n",
      "    func(*args, **kwargs)\n",
      "  File \"C:\\Users\\asus\\anaconda3\\lib\\site-packages\\mne\\viz\\evoked.py\", line 53, in _butterfly_onpick\n",
      "    line is event.artist for line in params['lines'][ax_idx]])[0][0]\n",
      "IndexError: index 0 is out of bounds for axis 0 with size 0\n",
      "Traceback (most recent call last):\n",
      "  File \"C:\\Users\\asus\\anaconda3\\lib\\site-packages\\matplotlib\\cbook\\__init__.py\", line 216, in process\n",
      "    func(*args, **kwargs)\n",
      "  File \"C:\\Users\\asus\\anaconda3\\lib\\site-packages\\mne\\viz\\evoked.py\", line 53, in _butterfly_onpick\n",
      "    line is event.artist for line in params['lines'][ax_idx]])[0][0]\n",
      "IndexError: index 0 is out of bounds for axis 0 with size 0\n",
      "Traceback (most recent call last):\n",
      "  File \"C:\\Users\\asus\\anaconda3\\lib\\site-packages\\matplotlib\\cbook\\__init__.py\", line 216, in process\n",
      "    func(*args, **kwargs)\n",
      "  File \"C:\\Users\\asus\\anaconda3\\lib\\site-packages\\mne\\viz\\evoked.py\", line 53, in _butterfly_onpick\n",
      "    line is event.artist for line in params['lines'][ax_idx]])[0][0]\n",
      "IndexError: index 0 is out of bounds for axis 0 with size 0\n",
      "Traceback (most recent call last):\n",
      "  File \"C:\\Users\\asus\\anaconda3\\lib\\site-packages\\matplotlib\\cbook\\__init__.py\", line 216, in process\n",
      "    func(*args, **kwargs)\n",
      "  File \"C:\\Users\\asus\\anaconda3\\lib\\site-packages\\mne\\viz\\evoked.py\", line 53, in _butterfly_onpick\n",
      "    line is event.artist for line in params['lines'][ax_idx]])[0][0]\n",
      "IndexError: index 0 is out of bounds for axis 0 with size 0\n",
      "Traceback (most recent call last):\n",
      "  File \"C:\\Users\\asus\\anaconda3\\lib\\site-packages\\matplotlib\\cbook\\__init__.py\", line 216, in process\n",
      "    func(*args, **kwargs)\n",
      "  File \"C:\\Users\\asus\\anaconda3\\lib\\site-packages\\mne\\viz\\evoked.py\", line 53, in _butterfly_onpick\n",
      "    line is event.artist for line in params['lines'][ax_idx]])[0][0]\n",
      "IndexError: index 0 is out of bounds for axis 0 with size 0\n",
      "Traceback (most recent call last):\n",
      "  File \"C:\\Users\\asus\\anaconda3\\lib\\site-packages\\matplotlib\\cbook\\__init__.py\", line 216, in process\n",
      "    func(*args, **kwargs)\n",
      "  File \"C:\\Users\\asus\\anaconda3\\lib\\site-packages\\mne\\viz\\evoked.py\", line 53, in _butterfly_onpick\n",
      "    line is event.artist for line in params['lines'][ax_idx]])[0][0]\n",
      "IndexError: index 0 is out of bounds for axis 0 with size 0\n",
      "Traceback (most recent call last):\n",
      "  File \"C:\\Users\\asus\\anaconda3\\lib\\site-packages\\matplotlib\\cbook\\__init__.py\", line 216, in process\n",
      "    func(*args, **kwargs)\n",
      "  File \"C:\\Users\\asus\\anaconda3\\lib\\site-packages\\mne\\viz\\evoked.py\", line 53, in _butterfly_onpick\n",
      "    line is event.artist for line in params['lines'][ax_idx]])[0][0]\n",
      "IndexError: index 0 is out of bounds for axis 0 with size 0\n",
      "Traceback (most recent call last):\n",
      "  File \"C:\\Users\\asus\\anaconda3\\lib\\site-packages\\matplotlib\\cbook\\__init__.py\", line 216, in process\n",
      "    func(*args, **kwargs)\n",
      "  File \"C:\\Users\\asus\\anaconda3\\lib\\site-packages\\mne\\viz\\evoked.py\", line 53, in _butterfly_onpick\n",
      "    line is event.artist for line in params['lines'][ax_idx]])[0][0]\n",
      "IndexError: index 0 is out of bounds for axis 0 with size 0\n",
      "Traceback (most recent call last):\n",
      "  File \"C:\\Users\\asus\\anaconda3\\lib\\site-packages\\matplotlib\\cbook\\__init__.py\", line 216, in process\n",
      "    func(*args, **kwargs)\n",
      "  File \"C:\\Users\\asus\\anaconda3\\lib\\site-packages\\mne\\viz\\evoked.py\", line 53, in _butterfly_onpick\n",
      "    line is event.artist for line in params['lines'][ax_idx]])[0][0]\n",
      "IndexError: index 0 is out of bounds for axis 0 with size 0\n",
      "Traceback (most recent call last):\n",
      "  File \"C:\\Users\\asus\\anaconda3\\lib\\site-packages\\matplotlib\\cbook\\__init__.py\", line 216, in process\n",
      "    func(*args, **kwargs)\n",
      "  File \"C:\\Users\\asus\\anaconda3\\lib\\site-packages\\mne\\viz\\evoked.py\", line 53, in _butterfly_onpick\n",
      "    line is event.artist for line in params['lines'][ax_idx]])[0][0]\n",
      "IndexError: index 0 is out of bounds for axis 0 with size 0\n",
      "Traceback (most recent call last):\n",
      "  File \"C:\\Users\\asus\\anaconda3\\lib\\site-packages\\matplotlib\\cbook\\__init__.py\", line 216, in process\n",
      "    func(*args, **kwargs)\n",
      "  File \"C:\\Users\\asus\\anaconda3\\lib\\site-packages\\mne\\viz\\evoked.py\", line 53, in _butterfly_onpick\n",
      "    line is event.artist for line in params['lines'][ax_idx]])[0][0]\n",
      "IndexError: index 0 is out of bounds for axis 0 with size 0\n",
      "Traceback (most recent call last):\n",
      "  File \"C:\\Users\\asus\\anaconda3\\lib\\site-packages\\matplotlib\\cbook\\__init__.py\", line 216, in process\n",
      "    func(*args, **kwargs)\n",
      "  File \"C:\\Users\\asus\\anaconda3\\lib\\site-packages\\mne\\viz\\evoked.py\", line 53, in _butterfly_onpick\n",
      "    line is event.artist for line in params['lines'][ax_idx]])[0][0]\n",
      "IndexError: index 0 is out of bounds for axis 0 with size 0\n",
      "Traceback (most recent call last):\n",
      "  File \"C:\\Users\\asus\\anaconda3\\lib\\site-packages\\matplotlib\\cbook\\__init__.py\", line 216, in process\n",
      "    func(*args, **kwargs)\n",
      "  File \"C:\\Users\\asus\\anaconda3\\lib\\site-packages\\mne\\viz\\evoked.py\", line 53, in _butterfly_onpick\n",
      "    line is event.artist for line in params['lines'][ax_idx]])[0][0]\n",
      "IndexError: index 0 is out of bounds for axis 0 with size 0\n",
      "Traceback (most recent call last):\n",
      "  File \"C:\\Users\\asus\\anaconda3\\lib\\site-packages\\matplotlib\\cbook\\__init__.py\", line 216, in process\n",
      "    func(*args, **kwargs)\n",
      "  File \"C:\\Users\\asus\\anaconda3\\lib\\site-packages\\mne\\viz\\evoked.py\", line 53, in _butterfly_onpick\n",
      "    line is event.artist for line in params['lines'][ax_idx]])[0][0]\n",
      "IndexError: index 0 is out of bounds for axis 0 with size 0\n",
      "Traceback (most recent call last):\n",
      "  File \"C:\\Users\\asus\\anaconda3\\lib\\site-packages\\matplotlib\\cbook\\__init__.py\", line 216, in process\n",
      "    func(*args, **kwargs)\n",
      "  File \"C:\\Users\\asus\\anaconda3\\lib\\site-packages\\mne\\viz\\evoked.py\", line 53, in _butterfly_onpick\n",
      "    line is event.artist for line in params['lines'][ax_idx]])[0][0]\n",
      "IndexError: index 0 is out of bounds for axis 0 with size 0\n",
      "Traceback (most recent call last):\n",
      "  File \"C:\\Users\\asus\\anaconda3\\lib\\site-packages\\matplotlib\\cbook\\__init__.py\", line 216, in process\n",
      "    func(*args, **kwargs)\n",
      "  File \"C:\\Users\\asus\\anaconda3\\lib\\site-packages\\mne\\viz\\evoked.py\", line 53, in _butterfly_onpick\n",
      "    line is event.artist for line in params['lines'][ax_idx]])[0][0]\n",
      "IndexError: index 0 is out of bounds for axis 0 with size 0\n",
      "Traceback (most recent call last):\n",
      "  File \"C:\\Users\\asus\\anaconda3\\lib\\site-packages\\matplotlib\\cbook\\__init__.py\", line 216, in process\n",
      "    func(*args, **kwargs)\n",
      "  File \"C:\\Users\\asus\\anaconda3\\lib\\site-packages\\mne\\viz\\evoked.py\", line 53, in _butterfly_onpick\n",
      "    line is event.artist for line in params['lines'][ax_idx]])[0][0]\n",
      "IndexError: index 0 is out of bounds for axis 0 with size 0\n",
      "Traceback (most recent call last):\n",
      "  File \"C:\\Users\\asus\\anaconda3\\lib\\site-packages\\matplotlib\\cbook\\__init__.py\", line 216, in process\n",
      "    func(*args, **kwargs)\n",
      "  File \"C:\\Users\\asus\\anaconda3\\lib\\site-packages\\mne\\viz\\evoked.py\", line 53, in _butterfly_onpick\n",
      "    line is event.artist for line in params['lines'][ax_idx]])[0][0]\n",
      "IndexError: index 0 is out of bounds for axis 0 with size 0\n",
      "Traceback (most recent call last):\n",
      "  File \"C:\\Users\\asus\\anaconda3\\lib\\site-packages\\matplotlib\\cbook\\__init__.py\", line 216, in process\n",
      "    func(*args, **kwargs)\n",
      "  File \"C:\\Users\\asus\\anaconda3\\lib\\site-packages\\mne\\viz\\evoked.py\", line 53, in _butterfly_onpick\n",
      "    line is event.artist for line in params['lines'][ax_idx]])[0][0]\n",
      "IndexError: index 0 is out of bounds for axis 0 with size 0\n",
      "Traceback (most recent call last):\n",
      "  File \"C:\\Users\\asus\\anaconda3\\lib\\site-packages\\matplotlib\\cbook\\__init__.py\", line 216, in process\n",
      "    func(*args, **kwargs)\n",
      "  File \"C:\\Users\\asus\\anaconda3\\lib\\site-packages\\mne\\viz\\evoked.py\", line 53, in _butterfly_onpick\n",
      "    line is event.artist for line in params['lines'][ax_idx]])[0][0]\n",
      "IndexError: index 0 is out of bounds for axis 0 with size 0\n",
      "Traceback (most recent call last):\n",
      "  File \"C:\\Users\\asus\\anaconda3\\lib\\site-packages\\matplotlib\\cbook\\__init__.py\", line 216, in process\n",
      "    func(*args, **kwargs)\n",
      "  File \"C:\\Users\\asus\\anaconda3\\lib\\site-packages\\mne\\viz\\evoked.py\", line 53, in _butterfly_onpick\n",
      "    line is event.artist for line in params['lines'][ax_idx]])[0][0]\n",
      "IndexError: index 0 is out of bounds for axis 0 with size 0\n",
      "Traceback (most recent call last):\n",
      "  File \"C:\\Users\\asus\\anaconda3\\lib\\site-packages\\matplotlib\\cbook\\__init__.py\", line 216, in process\n",
      "    func(*args, **kwargs)\n",
      "  File \"C:\\Users\\asus\\anaconda3\\lib\\site-packages\\mne\\viz\\evoked.py\", line 53, in _butterfly_onpick\n",
      "    line is event.artist for line in params['lines'][ax_idx]])[0][0]\n",
      "IndexError: index 0 is out of bounds for axis 0 with size 0\n",
      "Traceback (most recent call last):\n",
      "  File \"C:\\Users\\asus\\anaconda3\\lib\\site-packages\\matplotlib\\cbook\\__init__.py\", line 216, in process\n",
      "    func(*args, **kwargs)\n",
      "  File \"C:\\Users\\asus\\anaconda3\\lib\\site-packages\\mne\\viz\\evoked.py\", line 53, in _butterfly_onpick\n",
      "    line is event.artist for line in params['lines'][ax_idx]])[0][0]\n",
      "IndexError: index 0 is out of bounds for axis 0 with size 0\n",
      "Traceback (most recent call last):\n",
      "  File \"C:\\Users\\asus\\anaconda3\\lib\\site-packages\\matplotlib\\cbook\\__init__.py\", line 216, in process\n",
      "    func(*args, **kwargs)\n",
      "  File \"C:\\Users\\asus\\anaconda3\\lib\\site-packages\\mne\\viz\\evoked.py\", line 53, in _butterfly_onpick\n",
      "    line is event.artist for line in params['lines'][ax_idx]])[0][0]\n",
      "IndexError: index 0 is out of bounds for axis 0 with size 0\n",
      "Traceback (most recent call last):\n",
      "  File \"C:\\Users\\asus\\anaconda3\\lib\\site-packages\\matplotlib\\cbook\\__init__.py\", line 216, in process\n",
      "    func(*args, **kwargs)\n",
      "  File \"C:\\Users\\asus\\anaconda3\\lib\\site-packages\\mne\\viz\\evoked.py\", line 53, in _butterfly_onpick\n",
      "    line is event.artist for line in params['lines'][ax_idx]])[0][0]\n",
      "IndexError: index 0 is out of bounds for axis 0 with size 0\n",
      "Traceback (most recent call last):\n",
      "  File \"C:\\Users\\asus\\anaconda3\\lib\\site-packages\\matplotlib\\cbook\\__init__.py\", line 216, in process\n",
      "    func(*args, **kwargs)\n",
      "  File \"C:\\Users\\asus\\anaconda3\\lib\\site-packages\\mne\\viz\\evoked.py\", line 53, in _butterfly_onpick\n",
      "    line is event.artist for line in params['lines'][ax_idx]])[0][0]\n",
      "IndexError: index 0 is out of bounds for axis 0 with size 0\n",
      "Traceback (most recent call last):\n",
      "  File \"C:\\Users\\asus\\anaconda3\\lib\\site-packages\\matplotlib\\cbook\\__init__.py\", line 216, in process\n",
      "    func(*args, **kwargs)\n",
      "  File \"C:\\Users\\asus\\anaconda3\\lib\\site-packages\\mne\\viz\\evoked.py\", line 53, in _butterfly_onpick\n",
      "    line is event.artist for line in params['lines'][ax_idx]])[0][0]\n",
      "IndexError: index 0 is out of bounds for axis 0 with size 0\n",
      "Traceback (most recent call last):\n",
      "  File \"C:\\Users\\asus\\anaconda3\\lib\\site-packages\\matplotlib\\cbook\\__init__.py\", line 216, in process\n",
      "    func(*args, **kwargs)\n",
      "  File \"C:\\Users\\asus\\anaconda3\\lib\\site-packages\\mne\\viz\\evoked.py\", line 53, in _butterfly_onpick\n",
      "    line is event.artist for line in params['lines'][ax_idx]])[0][0]\n",
      "IndexError: index 0 is out of bounds for axis 0 with size 0\n",
      "Traceback (most recent call last):\n",
      "  File \"C:\\Users\\asus\\anaconda3\\lib\\site-packages\\matplotlib\\cbook\\__init__.py\", line 216, in process\n",
      "    func(*args, **kwargs)\n",
      "  File \"C:\\Users\\asus\\anaconda3\\lib\\site-packages\\mne\\viz\\evoked.py\", line 53, in _butterfly_onpick\n",
      "    line is event.artist for line in params['lines'][ax_idx]])[0][0]\n",
      "IndexError: index 0 is out of bounds for axis 0 with size 0\n",
      "Traceback (most recent call last):\n",
      "  File \"C:\\Users\\asus\\anaconda3\\lib\\site-packages\\matplotlib\\cbook\\__init__.py\", line 216, in process\n",
      "    func(*args, **kwargs)\n",
      "  File \"C:\\Users\\asus\\anaconda3\\lib\\site-packages\\mne\\viz\\evoked.py\", line 53, in _butterfly_onpick\n",
      "    line is event.artist for line in params['lines'][ax_idx]])[0][0]\n",
      "IndexError: index 0 is out of bounds for axis 0 with size 0\n",
      "Traceback (most recent call last):\n",
      "  File \"C:\\Users\\asus\\anaconda3\\lib\\site-packages\\matplotlib\\cbook\\__init__.py\", line 216, in process\n",
      "    func(*args, **kwargs)\n",
      "  File \"C:\\Users\\asus\\anaconda3\\lib\\site-packages\\mne\\viz\\evoked.py\", line 53, in _butterfly_onpick\n",
      "    line is event.artist for line in params['lines'][ax_idx]])[0][0]\n",
      "IndexError: index 0 is out of bounds for axis 0 with size 0\n",
      "Traceback (most recent call last):\n",
      "  File \"C:\\Users\\asus\\anaconda3\\lib\\site-packages\\matplotlib\\cbook\\__init__.py\", line 216, in process\n",
      "    func(*args, **kwargs)\n",
      "  File \"C:\\Users\\asus\\anaconda3\\lib\\site-packages\\mne\\viz\\evoked.py\", line 53, in _butterfly_onpick\n",
      "    line is event.artist for line in params['lines'][ax_idx]])[0][0]\n",
      "IndexError: index 0 is out of bounds for axis 0 with size 0\n",
      "Traceback (most recent call last):\n",
      "  File \"C:\\Users\\asus\\anaconda3\\lib\\site-packages\\matplotlib\\cbook\\__init__.py\", line 216, in process\n",
      "    func(*args, **kwargs)\n",
      "  File \"C:\\Users\\asus\\anaconda3\\lib\\site-packages\\mne\\viz\\evoked.py\", line 53, in _butterfly_onpick\n",
      "    line is event.artist for line in params['lines'][ax_idx]])[0][0]\n",
      "IndexError: index 0 is out of bounds for axis 0 with size 0\n",
      "Traceback (most recent call last):\n",
      "  File \"C:\\Users\\asus\\anaconda3\\lib\\site-packages\\matplotlib\\cbook\\__init__.py\", line 216, in process\n",
      "    func(*args, **kwargs)\n",
      "  File \"C:\\Users\\asus\\anaconda3\\lib\\site-packages\\mne\\viz\\evoked.py\", line 53, in _butterfly_onpick\n",
      "    line is event.artist for line in params['lines'][ax_idx]])[0][0]\n",
      "IndexError: index 0 is out of bounds for axis 0 with size 0\n",
      "Traceback (most recent call last):\n",
      "  File \"C:\\Users\\asus\\anaconda3\\lib\\site-packages\\matplotlib\\cbook\\__init__.py\", line 216, in process\n",
      "    func(*args, **kwargs)\n",
      "  File \"C:\\Users\\asus\\anaconda3\\lib\\site-packages\\mne\\viz\\evoked.py\", line 53, in _butterfly_onpick\n",
      "    line is event.artist for line in params['lines'][ax_idx]])[0][0]\n",
      "IndexError: index 0 is out of bounds for axis 0 with size 0\n",
      "Traceback (most recent call last):\n",
      "  File \"C:\\Users\\asus\\anaconda3\\lib\\site-packages\\matplotlib\\cbook\\__init__.py\", line 216, in process\n",
      "    func(*args, **kwargs)\n",
      "  File \"C:\\Users\\asus\\anaconda3\\lib\\site-packages\\mne\\viz\\evoked.py\", line 53, in _butterfly_onpick\n",
      "    line is event.artist for line in params['lines'][ax_idx]])[0][0]\n",
      "IndexError: index 0 is out of bounds for axis 0 with size 0\n",
      "Traceback (most recent call last):\n",
      "  File \"C:\\Users\\asus\\anaconda3\\lib\\site-packages\\matplotlib\\cbook\\__init__.py\", line 216, in process\n",
      "    func(*args, **kwargs)\n",
      "  File \"C:\\Users\\asus\\anaconda3\\lib\\site-packages\\mne\\viz\\evoked.py\", line 53, in _butterfly_onpick\n",
      "    line is event.artist for line in params['lines'][ax_idx]])[0][0]\n",
      "IndexError: index 0 is out of bounds for axis 0 with size 0\n",
      "Traceback (most recent call last):\n",
      "  File \"C:\\Users\\asus\\anaconda3\\lib\\site-packages\\matplotlib\\cbook\\__init__.py\", line 216, in process\n",
      "    func(*args, **kwargs)\n",
      "  File \"C:\\Users\\asus\\anaconda3\\lib\\site-packages\\mne\\viz\\evoked.py\", line 53, in _butterfly_onpick\n",
      "    line is event.artist for line in params['lines'][ax_idx]])[0][0]\n",
      "IndexError: index 0 is out of bounds for axis 0 with size 0\n",
      "Traceback (most recent call last):\n",
      "  File \"C:\\Users\\asus\\anaconda3\\lib\\site-packages\\matplotlib\\cbook\\__init__.py\", line 216, in process\n",
      "    func(*args, **kwargs)\n",
      "  File \"C:\\Users\\asus\\anaconda3\\lib\\site-packages\\mne\\viz\\evoked.py\", line 53, in _butterfly_onpick\n",
      "    line is event.artist for line in params['lines'][ax_idx]])[0][0]\n",
      "IndexError: index 0 is out of bounds for axis 0 with size 0\n",
      "Traceback (most recent call last):\n",
      "  File \"C:\\Users\\asus\\anaconda3\\lib\\site-packages\\matplotlib\\cbook\\__init__.py\", line 216, in process\n",
      "    func(*args, **kwargs)\n",
      "  File \"C:\\Users\\asus\\anaconda3\\lib\\site-packages\\mne\\viz\\evoked.py\", line 53, in _butterfly_onpick\n",
      "    line is event.artist for line in params['lines'][ax_idx]])[0][0]\n",
      "IndexError: index 0 is out of bounds for axis 0 with size 0\n",
      "Traceback (most recent call last):\n",
      "  File \"C:\\Users\\asus\\anaconda3\\lib\\site-packages\\matplotlib\\cbook\\__init__.py\", line 216, in process\n",
      "    func(*args, **kwargs)\n",
      "  File \"C:\\Users\\asus\\anaconda3\\lib\\site-packages\\mne\\viz\\evoked.py\", line 53, in _butterfly_onpick\n",
      "    line is event.artist for line in params['lines'][ax_idx]])[0][0]\n",
      "IndexError: index 0 is out of bounds for axis 0 with size 0\n",
      "Traceback (most recent call last):\n",
      "  File \"C:\\Users\\asus\\anaconda3\\lib\\site-packages\\matplotlib\\cbook\\__init__.py\", line 216, in process\n",
      "    func(*args, **kwargs)\n",
      "  File \"C:\\Users\\asus\\anaconda3\\lib\\site-packages\\mne\\viz\\evoked.py\", line 53, in _butterfly_onpick\n",
      "    line is event.artist for line in params['lines'][ax_idx]])[0][0]\n",
      "IndexError: index 0 is out of bounds for axis 0 with size 0\n",
      "Traceback (most recent call last):\n",
      "  File \"C:\\Users\\asus\\anaconda3\\lib\\site-packages\\matplotlib\\cbook\\__init__.py\", line 216, in process\n",
      "    func(*args, **kwargs)\n",
      "  File \"C:\\Users\\asus\\anaconda3\\lib\\site-packages\\mne\\viz\\evoked.py\", line 53, in _butterfly_onpick\n",
      "    line is event.artist for line in params['lines'][ax_idx]])[0][0]\n",
      "IndexError: index 0 is out of bounds for axis 0 with size 0\n",
      "Traceback (most recent call last):\n",
      "  File \"C:\\Users\\asus\\anaconda3\\lib\\site-packages\\matplotlib\\cbook\\__init__.py\", line 216, in process\n",
      "    func(*args, **kwargs)\n",
      "  File \"C:\\Users\\asus\\anaconda3\\lib\\site-packages\\mne\\viz\\evoked.py\", line 53, in _butterfly_onpick\n",
      "    line is event.artist for line in params['lines'][ax_idx]])[0][0]\n",
      "IndexError: index 0 is out of bounds for axis 0 with size 0\n",
      "Traceback (most recent call last):\n",
      "  File \"C:\\Users\\asus\\anaconda3\\lib\\site-packages\\matplotlib\\cbook\\__init__.py\", line 216, in process\n",
      "    func(*args, **kwargs)\n",
      "  File \"C:\\Users\\asus\\anaconda3\\lib\\site-packages\\mne\\viz\\evoked.py\", line 53, in _butterfly_onpick\n",
      "    line is event.artist for line in params['lines'][ax_idx]])[0][0]\n",
      "IndexError: index 0 is out of bounds for axis 0 with size 0\n",
      "Traceback (most recent call last):\n",
      "  File \"C:\\Users\\asus\\anaconda3\\lib\\site-packages\\matplotlib\\cbook\\__init__.py\", line 216, in process\n",
      "    func(*args, **kwargs)\n",
      "  File \"C:\\Users\\asus\\anaconda3\\lib\\site-packages\\mne\\viz\\evoked.py\", line 53, in _butterfly_onpick\n",
      "    line is event.artist for line in params['lines'][ax_idx]])[0][0]\n",
      "IndexError: index 0 is out of bounds for axis 0 with size 0\n",
      "Traceback (most recent call last):\n",
      "  File \"C:\\Users\\asus\\anaconda3\\lib\\site-packages\\matplotlib\\cbook\\__init__.py\", line 216, in process\n",
      "    func(*args, **kwargs)\n",
      "  File \"C:\\Users\\asus\\anaconda3\\lib\\site-packages\\mne\\viz\\evoked.py\", line 53, in _butterfly_onpick\n",
      "    line is event.artist for line in params['lines'][ax_idx]])[0][0]\n",
      "IndexError: index 0 is out of bounds for axis 0 with size 0\n",
      "Traceback (most recent call last):\n",
      "  File \"C:\\Users\\asus\\anaconda3\\lib\\site-packages\\matplotlib\\cbook\\__init__.py\", line 216, in process\n",
      "    func(*args, **kwargs)\n",
      "  File \"C:\\Users\\asus\\anaconda3\\lib\\site-packages\\mne\\viz\\evoked.py\", line 53, in _butterfly_onpick\n",
      "    line is event.artist for line in params['lines'][ax_idx]])[0][0]\n",
      "IndexError: index 0 is out of bounds for axis 0 with size 0\n"
     ]
    },
    {
     "data": {
      "text/plain": [
       "<Figure size 1280x918 with 1 Axes>"
      ]
     },
     "execution_count": 121,
     "metadata": {},
     "output_type": "execute_result"
    }
   ],
   "source": [
    "ica.plot_overlay(eog_average, exclude=eog_inds, show=True)"
   ]
  },
  {
   "cell_type": "code",
   "execution_count": 122,
   "metadata": {},
   "outputs": [],
   "source": [
    "ica.exclude = [0]"
   ]
  },
  {
   "cell_type": "code",
   "execution_count": 123,
   "metadata": {},
   "outputs": [
    {
     "name": "stdout",
     "output_type": "stream",
     "text": [
      "Applying ICA to Raw instance\n",
      "    Transforming to ICA space (25 components)\n",
      "    Zeroing out 1 ICA component\n",
      "    Projecting back using 61 PCA components\n"
     ]
    },
    {
     "data": {
      "text/plain": [
       "<RawEEGLAB | sub-AB10_eeg_sub-AB10_task-gonogo_run-1_eeg.set, 66 x 262640 (525.3 s), ~132.3 MB, data loaded>"
      ]
     },
     "execution_count": 123,
     "metadata": {},
     "output_type": "execute_result"
    }
   ],
   "source": [
    "ica.apply(raw, exclude=ica.exclude)"
   ]
  },
  {
   "cell_type": "code",
   "execution_count": 126,
   "metadata": {},
   "outputs": [
    {
     "data": {
      "text/plain": [
       "<MNEBrowseFigure size 1920x950 with 4 Axes>"
      ]
     },
     "execution_count": 126,
     "metadata": {},
     "output_type": "execute_result"
    },
    {
     "name": "stdout",
     "output_type": "stream",
     "text": [
      "Channels marked as bad: none\n",
      "Channels marked as bad: none\n"
     ]
    }
   ],
   "source": [
    "raw1.plot()\n",
    "raw.plot()"
   ]
  },
  {
   "cell_type": "code",
   "execution_count": null,
   "metadata": {},
   "outputs": [],
   "source": []
  }
 ],
 "metadata": {
  "kernelspec": {
   "display_name": "Python 3",
   "language": "python",
   "name": "python3"
  },
  "language_info": {
   "codemirror_mode": {
    "name": "ipython",
    "version": 3
   },
   "file_extension": ".py",
   "mimetype": "text/x-python",
   "name": "python",
   "nbconvert_exporter": "python",
   "pygments_lexer": "ipython3",
   "version": "3.7.6"
  }
 },
 "nbformat": 4,
 "nbformat_minor": 4
}
