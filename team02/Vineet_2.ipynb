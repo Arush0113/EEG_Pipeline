{
 "cells": [
  {
   "cell_type": "code",
   "execution_count": 1,
   "metadata": {},
   "outputs": [
    {
     "name": "stdout",
     "output_type": "stream",
     "text": [
      "0.22.1\n"
     ]
    }
   ],
   "source": [
    "import matplotlib\n",
    "import pathlib\n",
    "\n",
    "import mne\n",
    "print(mne.__version__)\n",
    "import mne_bids\n",
    "\n",
    "matplotlib.use('Qt5Agg')"
   ]
  },
  {
   "cell_type": "code",
   "execution_count": 2,
   "metadata": {},
   "outputs": [],
   "source": [
    "raw = mne.io.read_raw_eeglab('sub-AB10_eeg_sub-AB10_task-gonogo_run-1_eeg.set', eog=(),\n",
    "                             preload=True, uint16_codec=None, verbose=None)"
   ]
  },
  {
   "cell_type": "code",
   "execution_count": 3,
   "metadata": {},
   "outputs": [],
   "source": [
    "path_channels_tsv='sub-AB10_eeg_sub-AB10_task-gonogo_run-1_channels.tsv'\n",
    "import pandas as pd\n",
    "channel_types_tsv = pd.read_csv(path_channels_tsv, delimiter = '\\t')\n",
    "\n",
    "def get_channel_types_dic(channel_types_tsv):\n",
    "    channel_types = {}\n",
    "    for i in range(channel_types_tsv.shape[0]):\n",
    "        channel_types[channel_types_tsv['name'][i]] = channel_types_tsv['type'][i].lower()\n",
    "    reassign_dic = {'HEO':'eog', 'VEO':'eog', 'R-Dia-X-(mm)':'misc', 'R-Dia-Y-(mm)':'misc'}\n",
    "    for k in list(reassign_dic.keys()):\n",
    "        if k in list(channel_types):\n",
    "            channel_types[k] = reassign_dic[k]\n",
    "    return channel_types\n",
    "\n",
    "channel_types = get_channel_types_dic(channel_types_tsv)"
   ]
  },
  {
   "cell_type": "code",
   "execution_count": 4,
   "metadata": {},
   "outputs": [
    {
     "data": {
      "text/plain": [
       "<Info | 8 non-empty values\n",
       " bads: []\n",
       " ch_names: AF3, AF4, F7, F5, F3, F1, Fz, F2, F4, F6, F8, FT7, FC5, FC3, ...\n",
       " chs: 61 EEG, 2 EOG, 1 ECG, 2 MISC\n",
       " custom_ref_applied: False\n",
       " dig: 66 items (66 EEG)\n",
       " highpass: 0.0 Hz\n",
       " lowpass: 250.0 Hz\n",
       " meas_date: unspecified\n",
       " nchan: 66\n",
       " projs: []\n",
       " sfreq: 500.0 Hz\n",
       ">"
      ]
     },
     "execution_count": 4,
     "metadata": {},
     "output_type": "execute_result"
    }
   ],
   "source": [
    "raw.set_channel_types(channel_types)\n",
    "raw.info"
   ]
  },
  {
   "cell_type": "code",
   "execution_count": 5,
   "metadata": {},
   "outputs": [],
   "source": [
    "raw1=raw.copy()"
   ]
  },
  {
   "cell_type": "code",
   "execution_count": 22,
   "metadata": {},
   "outputs": [
    {
     "data": {
      "text/plain": [
       "<Info | 9 non-empty values\n",
       " bads: 9 items (F7, FT7, M1, M2, VEO, HEO, EKG, R-Dia-X-(mm), R-Dia-Y-(mm))\n",
       " ch_names: AF3, AF4, F7, F5, F3, F1, Fz, F2, F4, F6, F8, FT7, FC5, FC3, ...\n",
       " chs: 61 EEG, 2 EOG, 1 ECG, 2 MISC\n",
       " custom_ref_applied: False\n",
       " dig: 66 items (66 EEG)\n",
       " highpass: 0.5 Hz\n",
       " lowpass: 45.0 Hz\n",
       " meas_date: unspecified\n",
       " nchan: 66\n",
       " projs: []\n",
       " sfreq: 500.0 Hz\n",
       ">"
      ]
     },
     "execution_count": 22,
     "metadata": {},
     "output_type": "execute_result"
    }
   ],
   "source": [
    "raw.info"
   ]
  },
  {
   "cell_type": "code",
   "execution_count": 13,
   "metadata": {},
   "outputs": [
    {
     "name": "stdout",
     "output_type": "stream",
     "text": [
      "Filtering raw data in 1 contiguous segment\n",
      "Setting up band-pass filter from 0.5 - 50 Hz\n",
      "\n",
      "FIR filter parameters\n",
      "---------------------\n",
      "Designing a one-pass, zero-phase, non-causal bandpass filter:\n",
      "- Windowed time-domain design (firwin) method\n",
      "- Hamming window with 0.0194 passband ripple and 53 dB stopband attenuation\n",
      "- Lower passband edge: 0.50\n",
      "- Lower transition bandwidth: 0.50 Hz (-6 dB cutoff frequency: 0.25 Hz)\n",
      "- Upper passband edge: 50.00 Hz\n",
      "- Upper transition bandwidth: 12.50 Hz (-6 dB cutoff frequency: 56.25 Hz)\n",
      "- Filter length: 3301 samples (6.602 sec)\n",
      "\n"
     ]
    },
    {
     "name": "stderr",
     "output_type": "stream",
     "text": [
      "[Parallel(n_jobs=2)]: Using backend LokyBackend with 2 concurrent workers.\n",
      "[Parallel(n_jobs=2)]: Done  52 tasks      | elapsed:    0.7s\n",
      "[Parallel(n_jobs=2)]: Done  61 out of  61 | elapsed:    0.8s finished\n"
     ]
    },
    {
     "data": {
      "text/plain": [
       "<RawEEGLAB | sub-AB10_eeg_sub-AB10_task-gonogo_run-1_eeg.set, 66 x 262640 (525.3 s), ~132.3 MB, data loaded>"
      ]
     },
     "execution_count": 13,
     "metadata": {},
     "output_type": "execute_result"
    }
   ],
   "source": [
    "raw.filter(0.5, 50, n_jobs=2, fir_design='firwin')"
   ]
  },
  {
   "cell_type": "code",
   "execution_count": 16,
   "metadata": {},
   "outputs": [
    {
     "data": {
      "text/plain": [
       "<MNEBrowseFigure size 1920x950 with 4 Axes>"
      ]
     },
     "execution_count": 16,
     "metadata": {},
     "output_type": "execute_result"
    },
    {
     "name": "stdout",
     "output_type": "stream",
     "text": [
      "Channels marked as bad: ['F7', 'FT7', 'M1', 'M2', 'VEO', 'HEO', 'EKG', 'R-Dia-X-(mm)', 'R-Dia-Y-(mm)']\n"
     ]
    }
   ],
   "source": [
    "raw.plot()\n",
    "#raw1.plot()"
   ]
  },
  {
   "cell_type": "code",
   "execution_count": 18,
   "metadata": {},
   "outputs": [
    {
     "data": {
      "text/plain": [
       "['F7', 'FT7', 'M1', 'M2', 'VEO', 'HEO', 'EKG', 'R-Dia-X-(mm)', 'R-Dia-Y-(mm)']"
      ]
     },
     "execution_count": 18,
     "metadata": {},
     "output_type": "execute_result"
    }
   ],
   "source": [
    "raw.info['bads']"
   ]
  },
  {
   "cell_type": "code",
   "execution_count": 19,
   "metadata": {},
   "outputs": [
    {
     "data": {
      "text/plain": [
       "<MNEBrowseFigure size 1920x950 with 4 Axes>"
      ]
     },
     "execution_count": 19,
     "metadata": {},
     "output_type": "execute_result"
    },
    {
     "name": "stdout",
     "output_type": "stream",
     "text": [
      "Channels marked as bad: ['F7', 'FT7', 'M1', 'M2', 'VEO', 'HEO', 'EKG', 'R-Dia-X-(mm)', 'R-Dia-Y-(mm)']\n"
     ]
    }
   ],
   "source": [
    "mne.io.Raw.plot(raw)"
   ]
  },
  {
   "cell_type": "code",
   "execution_count": 25,
   "metadata": {},
   "outputs": [
    {
     "name": "stdout",
     "output_type": "stream",
     "text": [
      "Used Annotations descriptions: ['1', '10', '11', '2', '3', '4', '5', '9']\n"
     ]
    }
   ],
   "source": [
    "events =  mne.events_from_annotations(raw)"
   ]
  },
  {
   "cell_type": "code",
   "execution_count": 36,
   "metadata": {},
   "outputs": [
    {
     "data": {
      "text/plain": [
       "array([[  4968,      0,      8],\n",
       "       [  7636,      0,      1],\n",
       "       [  8707,      0,      4],\n",
       "       [  8892,      0,      7],\n",
       "       [ 11940,      0,      1],\n",
       "       [ 12807,      0,      4],\n",
       "       [ 13123,      0,      7],\n",
       "       [ 15497,      0,      1],\n",
       "       [ 16752,      0,      4],\n",
       "       [ 17075,      0,      7],\n",
       "       [ 19695,      0,      1],\n",
       "       [ 20710,      0,      6],\n",
       "       [ 23570,      0,      1],\n",
       "       [ 27382,      0,      1],\n",
       "       [ 28172,      0,      4],\n",
       "       [ 28355,      0,      7],\n",
       "       [ 31110,      0,      1],\n",
       "       [ 32122,      0,      4],\n",
       "       [ 32363,      0,      7],\n",
       "       [ 35020,      0,      1],\n",
       "       [ 35967,      0,      4],\n",
       "       [ 36211,      0,      7],\n",
       "       [ 38637,      0,      1],\n",
       "       [ 42317,      0,      1],\n",
       "       [ 43440,      0,      4],\n",
       "       [ 43659,      0,      7],\n",
       "       [ 46900,      0,      1],\n",
       "       [ 47765,      0,      4],\n",
       "       [ 48083,      0,      7],\n",
       "       [ 51272,      0,      1],\n",
       "       [ 52075,      0,      6],\n",
       "       [ 55005,      0,      1],\n",
       "       [ 55770,      0,      4],\n",
       "       [ 55963,      0,      7],\n",
       "       [ 58522,      0,      1],\n",
       "       [ 59440,      0,      4],\n",
       "       [ 59635,      0,      7],\n",
       "       [ 63505,      0,      1],\n",
       "       [ 67845,      0,      1],\n",
       "       [ 68980,      0,      4],\n",
       "       [ 69155,      0,      7],\n",
       "       [ 72047,      0,      1],\n",
       "       [ 73037,      0,      4],\n",
       "       [ 73291,      0,      7],\n",
       "       [ 77135,      0,      1],\n",
       "       [ 77922,      0,      6],\n",
       "       [ 80645,      0,      1],\n",
       "       [ 81542,      0,      4],\n",
       "       [ 81771,      0,      7],\n",
       "       [ 86417,      0,      1],\n",
       "       [ 87220,      0,      4],\n",
       "       [ 87563,      0,      7],\n",
       "       [ 89825,      0,      1],\n",
       "       [ 90036,      0,      7],\n",
       "       [ 90147,      0,      3],\n",
       "       [ 90800,      0,      4],\n",
       "       [ 91405,      0,      5],\n",
       "       [ 93965,      0,      1],\n",
       "       [ 97462,      0,      1],\n",
       "       [ 98307,      0,      4],\n",
       "       [ 98515,      0,      7],\n",
       "       [101992,      0,      1],\n",
       "       [102827,      0,      6],\n",
       "       [105735,      0,      1],\n",
       "       [106537,      0,      4],\n",
       "       [106739,      0,      7],\n",
       "       [109295,      0,      1],\n",
       "       [110220,      0,      4],\n",
       "       [110499,      0,      7],\n",
       "       [112877,      0,      1],\n",
       "       [113667,      0,      4],\n",
       "       [113963,      0,      7],\n",
       "       [116460,      0,      1],\n",
       "       [117230,      0,      6],\n",
       "       [120297,      0,      1],\n",
       "       [124242,      0,      1],\n",
       "       [125065,      0,      4],\n",
       "       [125259,      0,      7],\n",
       "       [128042,      0,      1],\n",
       "       [128810,      0,      4],\n",
       "       [129027,      0,      7],\n",
       "       [131670,      0,      1],\n",
       "       [132635,      0,      4],\n",
       "       [132891,      0,      7],\n",
       "       [135735,      0,      1],\n",
       "       [136617,      0,      4],\n",
       "       [136819,      0,      7],\n",
       "       [139672,      0,      1],\n",
       "       [140492,      0,      4],\n",
       "       [140835,      0,      7],\n",
       "       [144152,      0,      1],\n",
       "       [148402,      0,      1],\n",
       "       [149300,      0,      6],\n",
       "       [153492,      0,      1],\n",
       "       [154280,      0,      4],\n",
       "       [154475,      0,      7],\n",
       "       [157600,      0,      1],\n",
       "       [158507,      0,      4],\n",
       "       [158731,      0,      7],\n",
       "       [163598,      0,      1],\n",
       "       [164460,      0,      6],\n",
       "       [167868,      0,      1],\n",
       "       [168803,      0,      4],\n",
       "       [169059,      0,      7],\n",
       "       [171830,      0,      1],\n",
       "       [176348,      0,      1],\n",
       "       [177105,      0,      4],\n",
       "       [177243,      0,      7],\n",
       "       [180788,      0,      1],\n",
       "       [181698,      0,      4],\n",
       "       [181931,      0,      7],\n",
       "       [184648,      0,      1],\n",
       "       [185440,      0,      4],\n",
       "       [185635,      0,      7],\n",
       "       [189623,      0,      1],\n",
       "       [195150,      0,      1],\n",
       "       [195990,      0,      4],\n",
       "       [196139,      0,      7],\n",
       "       [199640,      0,      1],\n",
       "       [200495,      0,      4],\n",
       "       [200707,      0,      7],\n",
       "       [204560,      0,      1],\n",
       "       [205393,      0,      6],\n",
       "       [208540,      0,      1],\n",
       "       [209865,      0,      4],\n",
       "       [210227,      0,      7],\n",
       "       [210470,      0,      5],\n",
       "       [212633,      0,      1],\n",
       "       [213395,      0,      4],\n",
       "       [213643,      0,      7],\n",
       "       [216550,      0,      1],\n",
       "       [220188,      0,      1],\n",
       "       [221055,      0,      4],\n",
       "       [221251,      0,      7],\n",
       "       [224045,      0,      1],\n",
       "       [224868,      0,      6],\n",
       "       [229170,      0,      1],\n",
       "       [229940,      0,      4],\n",
       "       [230123,      0,      7],\n",
       "       [232920,      0,      1],\n",
       "       [233938,      0,      4],\n",
       "       [234147,      0,      7],\n",
       "       [236838,      0,      1],\n",
       "       [237660,      0,      4],\n",
       "       [237819,      0,      7],\n",
       "       [240325,      0,      1],\n",
       "       [241145,      0,      4],\n",
       "       [241323,      0,      7],\n",
       "       [244083,      0,      1],\n",
       "       [248393,      0,      1],\n",
       "       [249148,      0,      6],\n",
       "       [251860,      0,      1],\n",
       "       [252648,      0,      4],\n",
       "       [252907,      0,      7],\n",
       "       [260706,      0,      2]])"
      ]
     },
     "execution_count": 36,
     "metadata": {},
     "output_type": "execute_result"
    }
   ],
   "source": [
    "events[0]"
   ]
  },
  {
   "cell_type": "code",
   "execution_count": 26,
   "metadata": {},
   "outputs": [
    {
     "data": {
      "text/plain": [
       "{'taskstart': '9',\n",
       " 'cue': '1',\n",
       " 'go': '2',\n",
       " 'button press': '5',\n",
       " 'no-go': '4',\n",
       " 'task end': '10',\n",
       " 'error 1': '3',\n",
       " 'error 2': '6',\n",
       " 'error 3': '7',\n",
       " 'error 4': '8',\n",
       " 'error 5': '11'}"
      ]
     },
     "execution_count": 26,
     "metadata": {},
     "output_type": "execute_result"
    }
   ],
   "source": [
    "event_id = {\n",
    "    \"taskstart\" : '9',\n",
    "    \"cue\" : \"1\",\n",
    "    \"go\" : \"2\",\n",
    "    \"button press\" : \"5\",\n",
    "    \"no-go\" : \"4\",\n",
    "    \"task end\": \"10\",\n",
    "    \"error 1\" : \"3\",\n",
    "    \"error 2\" : \"6\",\n",
    "    \"error 3\" : \"7\",\n",
    "    \"error 4\" : \"8\",\n",
    "    \"error 5\" : \"11\"\n",
    "}\n",
    "event_id"
   ]
  },
  {
   "cell_type": "code",
   "execution_count": 39,
   "metadata": {},
   "outputs": [
    {
     "name": "stdout",
     "output_type": "stream",
     "text": [
      "Not setting metadata\n",
      "Not setting metadata\n",
      "155 matching events found\n",
      "Setting baseline interval to [-0.2, 0.0] sec\n",
      "Applying baseline correction (mode: mean)\n",
      "0 projection items activated\n"
     ]
    }
   ],
   "source": [
    "cue_epochs = mne.Epochs( raw=raw,events=events[0])\n"
   ]
  },
  {
   "cell_type": "code",
   "execution_count": 43,
   "metadata": {},
   "outputs": [
    {
     "name": "stdout",
     "output_type": "stream",
     "text": [
      "Loading data for 155 events and 351 original time points ...\n",
      "Loading data for 20 events and 351 original time points ...\n"
     ]
    },
    {
     "data": {
      "text/plain": [
       "<MNEBrowseFigure size 1920x950 with 4 Axes>"
      ]
     },
     "execution_count": 43,
     "metadata": {},
     "output_type": "execute_result"
    },
    {
     "name": "stdout",
     "output_type": "stream",
     "text": [
      "Loading data for 20 events and 351 original time points ...\n",
      "Loading data for 20 events and 351 original time points ...\n",
      "Loading data for 20 events and 351 original time points ...\n",
      "Loading data for 20 events and 351 original time points ...\n",
      "Loading data for 20 events and 351 original time points ...\n",
      "Loading data for 20 events and 351 original time points ...\n",
      "Loading data for 20 events and 351 original time points ...\n",
      "Loading data for 20 events and 351 original time points ...\n",
      "Loading data for 20 events and 351 original time points ...\n",
      "Loading data for 20 events and 351 original time points ...\n",
      "Loading data for 20 events and 351 original time points ...\n",
      "Loading data for 20 events and 351 original time points ...\n",
      "Loading data for 20 events and 351 original time points ...\n",
      "Loading data for 20 events and 351 original time points ...\n",
      "Loading data for 20 events and 351 original time points ...\n",
      "Loading data for 20 events and 351 original time points ...\n",
      "Loading data for 20 events and 351 original time points ...\n",
      "Loading data for 20 events and 351 original time points ...\n",
      "Loading data for 20 events and 351 original time points ...\n",
      "Loading data for 20 events and 351 original time points ...\n",
      "Loading data for 20 events and 351 original time points ...\n",
      "Loading data for 20 events and 351 original time points ...\n",
      "Loading data for 20 events and 351 original time points ...\n",
      "Loading data for 20 events and 351 original time points ...\n",
      "Loading data for 20 events and 351 original time points ...\n",
      "Loading data for 20 events and 351 original time points ...\n",
      "Loading data for 20 events and 351 original time points ...\n",
      "Loading data for 20 events and 351 original time points ...\n",
      "Loading data for 20 events and 351 original time points ...\n",
      "Loading data for 20 events and 351 original time points ...\n",
      "Loading data for 20 events and 351 original time points ...\n",
      "Loading data for 20 events and 351 original time points ...\n",
      "Loading data for 20 events and 351 original time points ...\n",
      "Loading data for 20 events and 351 original time points ...\n",
      "Loading data for 20 events and 351 original time points ...\n",
      "Loading data for 20 events and 351 original time points ...\n",
      "Loading data for 20 events and 351 original time points ...\n",
      "Loading data for 20 events and 351 original time points ...\n",
      "Loading data for 20 events and 351 original time points ...\n",
      "Loading data for 20 events and 351 original time points ...\n",
      "Loading data for 20 events and 351 original time points ...\n",
      "Loading data for 20 events and 351 original time points ...\n",
      "Loading data for 20 events and 351 original time points ...\n",
      "Loading data for 20 events and 351 original time points ...\n",
      "Loading data for 20 events and 351 original time points ...\n",
      "Dropped 5 epochs: 36, 38, 48, 89, 125\n",
      "Channels marked as bad: ['F7', 'FT7', 'M1', 'M2', 'VEO', 'HEO', 'EKG', 'R-Dia-X-(mm)', 'R-Dia-Y-(mm)']\n"
     ]
    }
   ],
   "source": [
    "cue_epochs.plot()"
   ]
  },
  {
   "cell_type": "code",
   "execution_count": 44,
   "metadata": {},
   "outputs": [
    {
     "data": {
      "text/plain": [
       "<Info | 9 non-empty values\n",
       " bads: 9 items (F7, FT7, M1, M2, VEO, HEO, EKG, R-Dia-X-(mm), R-Dia-Y-(mm))\n",
       " ch_names: AF3, AF4, F7, F5, F3, F1, Fz, F2, F4, F6, F8, FT7, FC5, FC3, ...\n",
       " chs: 61 EEG, 2 EOG, 1 ECG, 2 MISC\n",
       " custom_ref_applied: False\n",
       " dig: 66 items (66 EEG)\n",
       " highpass: 0.5 Hz\n",
       " lowpass: 45.0 Hz\n",
       " meas_date: unspecified\n",
       " nchan: 66\n",
       " projs: []\n",
       " sfreq: 500.0 Hz\n",
       ">"
      ]
     },
     "execution_count": 44,
     "metadata": {},
     "output_type": "execute_result"
    }
   ],
   "source": [
    "cue_epochs.info"
   ]
  },
  {
   "cell_type": "code",
   "execution_count": 47,
   "metadata": {},
   "outputs": [
    {
     "data": {
      "text/plain": [
       "<RawEEGLAB | sub-AB10_eeg_sub-AB10_task-gonogo_run-1_eeg.set, 66 x 262640 (525.3 s), ~132.3 MB, data loaded>"
      ]
     },
     "execution_count": 47,
     "metadata": {},
     "output_type": "execute_result"
    }
   ],
   "source": [
    "ssp_projectors = cue_epochs.info['projs']\n",
    "raw.del_proj()"
   ]
  },
  {
   "cell_type": "code",
   "execution_count": 52,
   "metadata": {},
   "outputs": [
    {
     "name": "stdout",
     "output_type": "stream",
     "text": [
      "Applying baseline correction (mode: mean)\n"
     ]
    }
   ],
   "source": [
    "avg_ecg_epochs = cue_epochs.average().apply_baseline((-0.5, -0.2))"
   ]
  },
  {
   "cell_type": "code",
   "execution_count": 53,
   "metadata": {},
   "outputs": [
    {
     "data": {
      "text/plain": [
       "<MNEFigure size 3600x440 with 12 Axes>"
      ]
     },
     "execution_count": 53,
     "metadata": {},
     "output_type": "execute_result"
    }
   ],
   "source": [
    "avg_ecg_epochs.plot_topomap(times=np.linspace(-0.05, 0.05, 11))"
   ]
  },
  {
   "cell_type": "code",
   "execution_count": 55,
   "metadata": {},
   "outputs": [
    {
     "name": "stdout",
     "output_type": "stream",
     "text": [
      "No projector specified for this dataset. Please consider the method self.add_proj.\n"
     ]
    },
    {
     "data": {
      "text/plain": [
       "<Figure size 1600x840 with 9 Axes>"
      ]
     },
     "execution_count": 55,
     "metadata": {},
     "output_type": "execute_result"
    }
   ],
   "source": [
    "avg_ecg_epochs.plot_joint(times=[-0.2, -0.02, 0, 0.025, 0.25])"
   ]
  },
  {
   "cell_type": "code",
   "execution_count": 57,
   "metadata": {},
   "outputs": [],
   "source": [
    "ica = mne.preprocessing.ICA(n_components=20, random_state=0)"
   ]
  },
  {
   "cell_type": "code",
   "execution_count": 60,
   "metadata": {},
   "outputs": [
    {
     "name": "stdout",
     "output_type": "stream",
     "text": [
      "Loading data for 150 events and 351 original time points ...\n"
     ]
    },
    {
     "data": {
      "text/plain": [
       "<Epochs |  150 events (all good), -0.2 - 0.5 sec, baseline [-0.2, 0] sec, ~26.6 MB, data loaded,\n",
       " '1': 59\n",
       " '2': 1\n",
       " '3': 1\n",
       " '4': 40\n",
       " '5': 2\n",
       " '6': 10\n",
       " '7': 36\n",
       " '8': 1>"
      ]
     },
     "execution_count": 60,
     "metadata": {},
     "output_type": "execute_result"
    }
   ],
   "source": [
    "cue_epochs.load_data()"
   ]
  },
  {
   "cell_type": "code",
   "execution_count": 61,
   "metadata": {},
   "outputs": [
    {
     "name": "stdout",
     "output_type": "stream",
     "text": [
      "Setting up band-pass filter from 8 - 35 Hz\n",
      "\n",
      "FIR filter parameters\n",
      "---------------------\n",
      "Designing a one-pass, zero-phase, non-causal bandpass filter:\n",
      "- Windowed time-domain design (firwin) method\n",
      "- Hamming window with 0.0194 passband ripple and 53 dB stopband attenuation\n",
      "- Lower passband edge: 8.00\n",
      "- Lower transition bandwidth: 2.00 Hz (-6 dB cutoff frequency: 7.00 Hz)\n",
      "- Upper passband edge: 35.00 Hz\n",
      "- Upper transition bandwidth: 8.75 Hz (-6 dB cutoff frequency: 39.38 Hz)\n",
      "- Filter length: 825 samples (1.650 sec)\n",
      "\n"
     ]
    },
    {
     "name": "stderr",
     "output_type": "stream",
     "text": [
      "<ipython-input-61-d0b742ef4e00>:1: RuntimeWarning: filter_length (825) is longer than the signal (351), distortion is likely. Reduce filter length or filter a longer signal.\n",
      "  ica.fit(cue_epochs.copy().filter(8, 35))\n"
     ]
    },
    {
     "name": "stdout",
     "output_type": "stream",
     "text": [
      "Fitting ICA to data using 57 channels (please be patient, this may take a while)\n",
      "Selecting by number: 20 components\n",
      "Fitting ICA took 1.2s.\n"
     ]
    },
    {
     "data": {
      "text/plain": [
       "<ICA | epochs decomposition, fit (fastica): 52650 samples, 20 components, channels used: \"eeg\">"
      ]
     },
     "execution_count": 61,
     "metadata": {},
     "output_type": "execute_result"
    }
   ],
   "source": [
    "ica.fit(cue_epochs.copy().filter(8, 35))"
   ]
  },
  {
   "cell_type": "code",
   "execution_count": 62,
   "metadata": {},
   "outputs": [
    {
     "data": {
      "text/plain": [
       "[<MNEFigure size 1924x1014 with 20 Axes>]"
      ]
     },
     "execution_count": 62,
     "metadata": {},
     "output_type": "execute_result"
    }
   ],
   "source": [
    "ica.plot_components(outlines=\"skirt\")"
   ]
  },
  {
   "cell_type": "code",
   "execution_count": 63,
   "metadata": {},
   "outputs": [],
   "source": [
    "ica.exclude = [9]"
   ]
  },
  {
   "cell_type": "code",
   "execution_count": 64,
   "metadata": {},
   "outputs": [
    {
     "name": "stdout",
     "output_type": "stream",
     "text": [
      "Using channel O2 as EOG channel\n",
      "... filtering ICA sources\n",
      "Setting up band-pass filter from 1 - 10 Hz\n",
      "\n",
      "FIR filter parameters\n",
      "---------------------\n",
      "Designing a two-pass forward and reverse, zero-phase, non-causal bandpass filter:\n",
      "- Windowed frequency-domain design (firwin2) method\n",
      "- Hann window\n",
      "- Lower passband edge: 1.00\n",
      "- Lower transition bandwidth: 0.50 Hz (-12 dB cutoff frequency: 0.75 Hz)\n",
      "- Upper passband edge: 10.00 Hz\n",
      "- Upper transition bandwidth: 0.50 Hz (-12 dB cutoff frequency: 10.25 Hz)\n",
      "- Filter length: 5000 samples (10.000 sec)\n",
      "\n",
      "... filtering target\n",
      "Setting up band-pass filter from 1 - 10 Hz\n",
      "\n",
      "FIR filter parameters\n",
      "---------------------\n",
      "Designing a two-pass forward and reverse, zero-phase, non-causal bandpass filter:\n",
      "- Windowed frequency-domain design (firwin2) method\n",
      "- Hann window\n",
      "- Lower passband edge: 1.00\n",
      "- Lower transition bandwidth: 0.50 Hz (-12 dB cutoff frequency: 0.75 Hz)\n",
      "- Upper passband edge: 10.00 Hz\n",
      "- Upper transition bandwidth: 0.50 Hz (-12 dB cutoff frequency: 10.25 Hz)\n",
      "- Filter length: 5000 samples (10.000 sec)\n",
      "\n",
      "[0]\n"
     ]
    }
   ],
   "source": [
    "bad_idx, scores = ica.find_bads_eog(raw, 'O2', threshold=2)\n",
    "print(bad_idx)"
   ]
  },
  {
   "cell_type": "code",
   "execution_count": 66,
   "metadata": {},
   "outputs": [
    {
     "name": "stdout",
     "output_type": "stream",
     "text": [
      "Applying ICA to Epochs instance\n",
      "    Transforming to ICA space (20 components)\n",
      "    Zeroing out 1 ICA component\n",
      "    Projecting back using 57 PCA components\n"
     ]
    },
    {
     "data": {
      "text/plain": [
       "<MNEBrowseFigure size 1920x950 with 4 Axes>"
      ]
     },
     "execution_count": 66,
     "metadata": {},
     "output_type": "execute_result"
    },
    {
     "name": "stdout",
     "output_type": "stream",
     "text": [
      "Dropped 0 epochs: \n",
      "Channels marked as bad: ['F7', 'FT7', 'M1', 'M2', 'VEO', 'HEO', 'EKG', 'R-Dia-X-(mm)', 'R-Dia-Y-(mm)']\n"
     ]
    }
   ],
   "source": [
    "ica.apply(cue_epochs.copy(), exclude=ica.exclude).plot()"
   ]
  },
  {
   "cell_type": "code",
   "execution_count": null,
   "metadata": {},
   "outputs": [],
   "source": []
  },
  {
   "cell_type": "code",
   "execution_count": null,
   "metadata": {},
   "outputs": [],
   "source": []
  },
  {
   "cell_type": "code",
   "execution_count": null,
   "metadata": {},
   "outputs": [],
   "source": []
  },
  {
   "cell_type": "code",
   "execution_count": null,
   "metadata": {},
   "outputs": [],
   "source": []
  }
 ],
 "metadata": {
  "kernelspec": {
   "display_name": "Python 3",
   "language": "python",
   "name": "python3"
  },
  "language_info": {
   "codemirror_mode": {
    "name": "ipython",
    "version": 3
   },
   "file_extension": ".py",
   "mimetype": "text/x-python",
   "name": "python",
   "nbconvert_exporter": "python",
   "pygments_lexer": "ipython3",
   "version": "3.7.6"
  }
 },
 "nbformat": 4,
 "nbformat_minor": 4
}
