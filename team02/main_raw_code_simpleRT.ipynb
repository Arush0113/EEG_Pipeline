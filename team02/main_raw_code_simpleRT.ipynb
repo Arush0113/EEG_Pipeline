{
 "cells": [
  {
   "cell_type": "markdown",
   "metadata": {},
   "source": [
    "### Last updated 30/07"
   ]
  },
  {
   "cell_type": "code",
   "execution_count": 1,
   "metadata": {},
   "outputs": [
    {
     "name": "stdout",
     "output_type": "stream",
     "text": [
      "0.23.0\n"
     ]
    }
   ],
   "source": [
    "import matplotlib\n",
    "import pathlib\n",
    "\n",
    "import mne\n",
    "print(mne.__version__)"
   ]
  },
  {
   "cell_type": "code",
   "execution_count": 2,
   "metadata": {},
   "outputs": [],
   "source": [
    "matplotlib.use('Qt5Agg')"
   ]
  },
  {
   "cell_type": "markdown",
   "metadata": {},
   "source": [
    "## Reading raw data"
   ]
  },
  {
   "cell_type": "code",
   "execution_count": 3,
   "metadata": {},
   "outputs": [
    {
     "name": "stdout",
     "output_type": "stream",
     "text": [
      "12\n"
     ]
    }
   ],
   "source": [
    "#The files we will be loading\n",
    "#files = ['10_1', '10_2', '12_1', '12_2', '13_1', '13_2', '14_1', '14_2', '15_1', '15_2', '16_1', '16_2', '21_1', '21_2', '22_1', '22_2', '23_1', '23_2', '28_1', '28_2', '31_1', '31_2', '32_1', '32_2', '33_1', '33_2', '34_1', '34_2', '35_1', '35_2', '46_1', '46_2', '47_1', '47_2', '48_1', '48_2', '49_1', '49_2', '50_1', '50_2', '69_1', '69_2', '70_1', '70_2', '71_1', '71_2', '72_1', '72_2']\n",
    "files = ['10_1', '10_2', '12_1', '12_2', '13_1', '13_2', '28_1', '28_2', '31_1', '31_2', '32_1', '32_2']\n",
    "\n",
    "print(len(files))"
   ]
  },
  {
   "cell_type": "code",
   "execution_count": 4,
   "metadata": {},
   "outputs": [],
   "source": [
    "#Paths Sahil\n",
    "path = {}\n",
    "for f in files:\n",
    "    path[f] = '../../EEG original dataset/sub-AB{}/eeg/sub-AB{}_task-simpleRT_run-{}_eeg.set'.format(f[0:-2], f[0:-2], f[-1])\n",
    "    \n",
    "path_channels_tsv = '../../data\\sub-AB10_eeg_sub-AB10_task-gonogo_run-1_channels.tsv'"
   ]
  },
  {
   "cell_type": "code",
   "execution_count": 5,
   "metadata": {},
   "outputs": [],
   "source": [
    "# #Paths Arush\n",
    "# path = {}\n",
    "# for f in files:\n",
    "#     path[f] = 'data/other subjects set files/sub-AB{}_eeg_sub-AB{}_task-gonogo_run-{}_eeg.set'.format(f[0:-2], f[0:-2], f[-1])\n",
    "    \n",
    "# path_channels_tsv = 'data/other subjects set files/sub-AB10_eeg_sub-AB10_task-gonogo_run-1_channels.tsv'"
   ]
  },
  {
   "cell_type": "code",
   "execution_count": 6,
   "metadata": {},
   "outputs": [],
   "source": [
    "#Loading raw data\n",
    "unclean_raw = {}\n",
    "for f in files:\n",
    "    unclean_raw[f] = mne.io.read_raw_eeglab(path[f], eog=(), preload=True, uint16_codec=None, verbose=None)"
   ]
  },
  {
   "cell_type": "code",
   "execution_count": 7,
   "metadata": {
    "scrolled": true
   },
   "outputs": [
    {
     "name": "stdout",
     "output_type": "stream",
     "text": [
      "Channels marked as bad: none\n"
     ]
    }
   ],
   "source": [
    "#plotting raw data\n",
    "# rawab6_1.plot();\n",
    "# rawab6_2.plot();\n",
    "unclean_raw['10_1'].plot();\n",
    "# rawab10_2.plot();\n",
    "#unclean_raw['12_1'].plot();\n",
    "# rawab12_2.plot();\n",
    "# rawab13_1.plot();\n",
    "# rawab13_2.plot();\n",
    "# rawab28_1.plot();\n",
    "# rawab28_2.plot();\n",
    "# rawab31_1.plot();\n",
    "# rawab31_2.plot();\n",
    "# rawab32_1.plot();\n",
    "# rawab32_2.plot();"
   ]
  },
  {
   "cell_type": "markdown",
   "metadata": {},
   "source": [
    "## Assigning channel types and filtering"
   ]
  },
  {
   "cell_type": "code",
   "execution_count": 8,
   "metadata": {
    "scrolled": true
   },
   "outputs": [
    {
     "data": {
      "text/plain": [
       "{'AF3': 'eeg',\n",
       " 'AF4': 'eeg',\n",
       " 'F7': 'eeg',\n",
       " 'F5': 'eeg',\n",
       " 'F3': 'eeg',\n",
       " 'F1': 'eeg',\n",
       " 'Fz': 'eeg',\n",
       " 'F2': 'eeg',\n",
       " 'F4': 'eeg',\n",
       " 'F6': 'eeg',\n",
       " 'F8': 'eeg',\n",
       " 'FT7': 'eeg',\n",
       " 'FC5': 'eeg',\n",
       " 'FC3': 'eeg',\n",
       " 'FC1': 'eeg',\n",
       " 'FCz': 'eeg',\n",
       " 'FC2': 'eeg',\n",
       " 'FC4': 'eeg',\n",
       " 'FC6': 'eeg',\n",
       " 'FT8': 'eeg',\n",
       " 'T7': 'eeg',\n",
       " 'C5': 'eeg',\n",
       " 'C3': 'eeg',\n",
       " 'C1': 'eeg',\n",
       " 'Cz': 'eeg',\n",
       " 'C2': 'eeg',\n",
       " 'C4': 'eeg',\n",
       " 'C6': 'eeg',\n",
       " 'T8': 'eeg',\n",
       " 'M1': 'eeg',\n",
       " 'TP7': 'eeg',\n",
       " 'CP5': 'eeg',\n",
       " 'CP3': 'eeg',\n",
       " 'CP1': 'eeg',\n",
       " 'CPz': 'eeg',\n",
       " 'CP2': 'eeg',\n",
       " 'CP4': 'eeg',\n",
       " 'CP6': 'eeg',\n",
       " 'TP8': 'eeg',\n",
       " 'M2': 'eeg',\n",
       " 'P7': 'eeg',\n",
       " 'P5': 'eeg',\n",
       " 'P3': 'eeg',\n",
       " 'P1': 'eeg',\n",
       " 'Pz': 'eeg',\n",
       " 'P2': 'eeg',\n",
       " 'P4': 'eeg',\n",
       " 'P6': 'eeg',\n",
       " 'P8': 'eeg',\n",
       " 'PO7': 'eeg',\n",
       " 'PO5': 'eeg',\n",
       " 'PO3': 'eeg',\n",
       " 'POz': 'eeg',\n",
       " 'PO4': 'eeg',\n",
       " 'PO6': 'eeg',\n",
       " 'PO8': 'eeg',\n",
       " 'CB1': 'eeg',\n",
       " 'O1': 'eeg',\n",
       " 'Oz': 'eeg',\n",
       " 'O2': 'eeg',\n",
       " 'CB2': 'eeg',\n",
       " 'VEO': 'eog',\n",
       " 'HEO': 'eog',\n",
       " 'EKG': 'ecg',\n",
       " 'R-Dia-X-(mm)': 'misc',\n",
       " 'R-Dia-Y-(mm)': 'misc'}"
      ]
     },
     "execution_count": 8,
     "metadata": {},
     "output_type": "execute_result"
    }
   ],
   "source": [
    "#get type of channels from tsv file\n",
    "import pandas as pd\n",
    "channel_types_tsv = pd.read_csv(path_channels_tsv, delimiter = '\\t')\n",
    "\n",
    "def get_channel_types_dic(channel_types_tsv):\n",
    "    channel_types = {}\n",
    "    for i in range(channel_types_tsv.shape[0]):\n",
    "        channel_types[channel_types_tsv['name'][i]] = channel_types_tsv['type'][i].lower()\n",
    "    reassign_dic = {'HEO':'eog', 'VEO':'eog', 'R-Dia-X-(mm)':'misc', 'R-Dia-Y-(mm)':'misc'}\n",
    "    for k in list(reassign_dic.keys()):\n",
    "        if k in list(channel_types):\n",
    "            channel_types[k] = reassign_dic[k]\n",
    "    return channel_types\n",
    "\n",
    "channel_types = get_channel_types_dic(channel_types_tsv)\n",
    "channel_types"
   ]
  },
  {
   "cell_type": "code",
   "execution_count": 9,
   "metadata": {},
   "outputs": [],
   "source": [
    "#assigning channel types\n",
    "for f in files:\n",
    "    unclean_raw[f].set_channel_types(channel_types)"
   ]
  },
  {
   "cell_type": "code",
   "execution_count": 10,
   "metadata": {
    "scrolled": true
   },
   "outputs": [
    {
     "name": "stdout",
     "output_type": "stream",
     "text": [
      "Filtering raw data in 1 contiguous segment\n",
      "Setting up band-pass filter from 0.5 - 60 Hz\n",
      "\n",
      "FIR filter parameters\n",
      "---------------------\n",
      "Designing a one-pass, zero-phase, non-causal bandpass filter:\n",
      "- Windowed time-domain design (firwin) method\n",
      "- Hamming window with 0.0194 passband ripple and 53 dB stopband attenuation\n",
      "- Lower passband edge: 0.50\n",
      "- Lower transition bandwidth: 0.50 Hz (-6 dB cutoff frequency: 0.25 Hz)\n",
      "- Upper passband edge: 60.00 Hz\n",
      "- Upper transition bandwidth: 15.00 Hz (-6 dB cutoff frequency: 67.50 Hz)\n",
      "- Filter length: 3301 samples (6.602 sec)\n",
      "\n",
      "Filtering raw data in 1 contiguous segment\n",
      "Setting up band-pass filter from 0.5 - 60 Hz\n",
      "\n",
      "FIR filter parameters\n",
      "---------------------\n",
      "Designing a one-pass, zero-phase, non-causal bandpass filter:\n",
      "- Windowed time-domain design (firwin) method\n",
      "- Hamming window with 0.0194 passband ripple and 53 dB stopband attenuation\n",
      "- Lower passband edge: 0.50\n",
      "- Lower transition bandwidth: 0.50 Hz (-6 dB cutoff frequency: 0.25 Hz)\n",
      "- Upper passband edge: 60.00 Hz\n",
      "- Upper transition bandwidth: 15.00 Hz (-6 dB cutoff frequency: 67.50 Hz)\n",
      "- Filter length: 3301 samples (6.602 sec)\n",
      "\n",
      "Filtering raw data in 1 contiguous segment\n",
      "Setting up band-pass filter from 0.5 - 60 Hz\n",
      "\n",
      "FIR filter parameters\n",
      "---------------------\n",
      "Designing a one-pass, zero-phase, non-causal bandpass filter:\n",
      "- Windowed time-domain design (firwin) method\n",
      "- Hamming window with 0.0194 passband ripple and 53 dB stopband attenuation\n",
      "- Lower passband edge: 0.50\n",
      "- Lower transition bandwidth: 0.50 Hz (-6 dB cutoff frequency: 0.25 Hz)\n",
      "- Upper passband edge: 60.00 Hz\n",
      "- Upper transition bandwidth: 15.00 Hz (-6 dB cutoff frequency: 67.50 Hz)\n",
      "- Filter length: 3301 samples (6.602 sec)\n",
      "\n",
      "Filtering raw data in 1 contiguous segment\n",
      "Setting up band-pass filter from 0.5 - 60 Hz\n",
      "\n",
      "FIR filter parameters\n",
      "---------------------\n",
      "Designing a one-pass, zero-phase, non-causal bandpass filter:\n",
      "- Windowed time-domain design (firwin) method\n",
      "- Hamming window with 0.0194 passband ripple and 53 dB stopband attenuation\n",
      "- Lower passband edge: 0.50\n",
      "- Lower transition bandwidth: 0.50 Hz (-6 dB cutoff frequency: 0.25 Hz)\n",
      "- Upper passband edge: 60.00 Hz\n",
      "- Upper transition bandwidth: 15.00 Hz (-6 dB cutoff frequency: 67.50 Hz)\n",
      "- Filter length: 3301 samples (6.602 sec)\n",
      "\n",
      "Filtering raw data in 1 contiguous segment\n",
      "Setting up band-pass filter from 0.5 - 60 Hz\n",
      "\n",
      "FIR filter parameters\n",
      "---------------------\n",
      "Designing a one-pass, zero-phase, non-causal bandpass filter:\n",
      "- Windowed time-domain design (firwin) method\n",
      "- Hamming window with 0.0194 passband ripple and 53 dB stopband attenuation\n",
      "- Lower passband edge: 0.50\n",
      "- Lower transition bandwidth: 0.50 Hz (-6 dB cutoff frequency: 0.25 Hz)\n",
      "- Upper passband edge: 60.00 Hz\n",
      "- Upper transition bandwidth: 15.00 Hz (-6 dB cutoff frequency: 67.50 Hz)\n",
      "- Filter length: 3301 samples (6.602 sec)\n",
      "\n",
      "Filtering raw data in 1 contiguous segment\n",
      "Setting up band-pass filter from 0.5 - 60 Hz\n",
      "\n",
      "FIR filter parameters\n",
      "---------------------\n",
      "Designing a one-pass, zero-phase, non-causal bandpass filter:\n",
      "- Windowed time-domain design (firwin) method\n",
      "- Hamming window with 0.0194 passband ripple and 53 dB stopband attenuation\n",
      "- Lower passband edge: 0.50\n",
      "- Lower transition bandwidth: 0.50 Hz (-6 dB cutoff frequency: 0.25 Hz)\n",
      "- Upper passband edge: 60.00 Hz\n",
      "- Upper transition bandwidth: 15.00 Hz (-6 dB cutoff frequency: 67.50 Hz)\n",
      "- Filter length: 3301 samples (6.602 sec)\n",
      "\n",
      "Filtering raw data in 1 contiguous segment\n",
      "Setting up band-pass filter from 0.5 - 60 Hz\n",
      "\n",
      "FIR filter parameters\n",
      "---------------------\n",
      "Designing a one-pass, zero-phase, non-causal bandpass filter:\n",
      "- Windowed time-domain design (firwin) method\n",
      "- Hamming window with 0.0194 passband ripple and 53 dB stopband attenuation\n",
      "- Lower passband edge: 0.50\n",
      "- Lower transition bandwidth: 0.50 Hz (-6 dB cutoff frequency: 0.25 Hz)\n",
      "- Upper passband edge: 60.00 Hz\n",
      "- Upper transition bandwidth: 15.00 Hz (-6 dB cutoff frequency: 67.50 Hz)\n",
      "- Filter length: 3301 samples (6.602 sec)\n",
      "\n",
      "Filtering raw data in 1 contiguous segment\n",
      "Setting up band-pass filter from 0.5 - 60 Hz\n",
      "\n",
      "FIR filter parameters\n",
      "---------------------\n",
      "Designing a one-pass, zero-phase, non-causal bandpass filter:\n",
      "- Windowed time-domain design (firwin) method\n",
      "- Hamming window with 0.0194 passband ripple and 53 dB stopband attenuation\n",
      "- Lower passband edge: 0.50\n",
      "- Lower transition bandwidth: 0.50 Hz (-6 dB cutoff frequency: 0.25 Hz)\n",
      "- Upper passband edge: 60.00 Hz\n",
      "- Upper transition bandwidth: 15.00 Hz (-6 dB cutoff frequency: 67.50 Hz)\n",
      "- Filter length: 3301 samples (6.602 sec)\n",
      "\n",
      "Filtering raw data in 1 contiguous segment\n",
      "Setting up band-pass filter from 0.5 - 60 Hz\n",
      "\n",
      "FIR filter parameters\n",
      "---------------------\n",
      "Designing a one-pass, zero-phase, non-causal bandpass filter:\n",
      "- Windowed time-domain design (firwin) method\n",
      "- Hamming window with 0.0194 passband ripple and 53 dB stopband attenuation\n",
      "- Lower passband edge: 0.50\n",
      "- Lower transition bandwidth: 0.50 Hz (-6 dB cutoff frequency: 0.25 Hz)\n",
      "- Upper passband edge: 60.00 Hz\n",
      "- Upper transition bandwidth: 15.00 Hz (-6 dB cutoff frequency: 67.50 Hz)\n",
      "- Filter length: 3301 samples (6.602 sec)\n",
      "\n",
      "Filtering raw data in 1 contiguous segment\n",
      "Setting up band-pass filter from 0.5 - 60 Hz\n",
      "\n",
      "FIR filter parameters\n",
      "---------------------\n",
      "Designing a one-pass, zero-phase, non-causal bandpass filter:\n",
      "- Windowed time-domain design (firwin) method\n",
      "- Hamming window with 0.0194 passband ripple and 53 dB stopband attenuation\n",
      "- Lower passband edge: 0.50\n",
      "- Lower transition bandwidth: 0.50 Hz (-6 dB cutoff frequency: 0.25 Hz)\n",
      "- Upper passband edge: 60.00 Hz\n",
      "- Upper transition bandwidth: 15.00 Hz (-6 dB cutoff frequency: 67.50 Hz)\n",
      "- Filter length: 3301 samples (6.602 sec)\n",
      "\n",
      "Filtering raw data in 1 contiguous segment\n",
      "Setting up band-pass filter from 0.5 - 60 Hz\n",
      "\n",
      "FIR filter parameters\n",
      "---------------------\n",
      "Designing a one-pass, zero-phase, non-causal bandpass filter:\n",
      "- Windowed time-domain design (firwin) method\n",
      "- Hamming window with 0.0194 passband ripple and 53 dB stopband attenuation\n",
      "- Lower passband edge: 0.50\n",
      "- Lower transition bandwidth: 0.50 Hz (-6 dB cutoff frequency: 0.25 Hz)\n",
      "- Upper passband edge: 60.00 Hz\n",
      "- Upper transition bandwidth: 15.00 Hz (-6 dB cutoff frequency: 67.50 Hz)\n",
      "- Filter length: 3301 samples (6.602 sec)\n",
      "\n",
      "Filtering raw data in 1 contiguous segment\n",
      "Setting up band-pass filter from 0.5 - 60 Hz\n",
      "\n",
      "FIR filter parameters\n",
      "---------------------\n",
      "Designing a one-pass, zero-phase, non-causal bandpass filter:\n",
      "- Windowed time-domain design (firwin) method\n",
      "- Hamming window with 0.0194 passband ripple and 53 dB stopband attenuation\n",
      "- Lower passband edge: 0.50\n",
      "- Lower transition bandwidth: 0.50 Hz (-6 dB cutoff frequency: 0.25 Hz)\n",
      "- Upper passband edge: 60.00 Hz\n",
      "- Upper transition bandwidth: 15.00 Hz (-6 dB cutoff frequency: 67.50 Hz)\n",
      "- Filter length: 3301 samples (6.602 sec)\n",
      "\n"
     ]
    }
   ],
   "source": [
    "#filtering the signals\n",
    "for f in files:\n",
    "    unclean_raw[f].filter(0.5, 60)"
   ]
  },
  {
   "cell_type": "markdown",
   "metadata": {},
   "source": [
    "## plotting Electrode positions"
   ]
  },
  {
   "cell_type": "code",
   "execution_count": 12,
   "metadata": {},
   "outputs": [],
   "source": [
    "unclean_raw['10_1'].plot_sensors(ch_type = 'eeg', sphere = 10);\n",
    "# # rawab12_2.plot_sensors(ch_type = 'eeg', sphere = 10);"
   ]
  },
  {
   "cell_type": "code",
   "execution_count": 13,
   "metadata": {},
   "outputs": [],
   "source": [
    "unclean_raw['10_1'].plot_sensors(ch_type = 'eeg', kind = '3d');\n",
    "# # rawab12_2.plot_sensors(ch_type = 'eeg', kind = '3d');"
   ]
  },
  {
   "cell_type": "code",
   "execution_count": 14,
   "metadata": {
    "scrolled": true
   },
   "outputs": [
    {
     "data": {
      "text/html": [
       "\n",
       "\n",
       "<table class=\"table table-hover\">\n",
       "    <tr>\n",
       "        <th>Measurement date</th>\n",
       "<td>Unknown</td>\n",
       "    </tr>\n",
       "    <tr>\n",
       "        <th>Experimenter</th>\n",
       "<td>Unknown</td>\n",
       "    </tr>\n",
       "        <th>Participant</th>\n",
       "<td>Unknown</td>\n",
       "    </tr>\n",
       "    <tr>\n",
       "        <th>Digitized points</th>\n",
       "        <td>66 points</td>\n",
       "    </tr>\n",
       "    <tr>\n",
       "        <th>Good channels</th>\n",
       "        <td>0 magnetometer, 0 gradiometer,\n",
       "            and 61 EEG channels</td>\n",
       "    </tr>\n",
       "    <tr>\n",
       "        <th>Bad channels</th>\n",
       "        <td></td>\n",
       "        \n",
       "    </tr>\n",
       "    <tr>\n",
       "        <th>EOG channels</th>\n",
       "        <td>VEO, HEO</td>\n",
       "    </tr>\n",
       "    <tr>\n",
       "        <th>ECG channels</th>\n",
       "        <td>EKG</td>\n",
       "    <tr>\n",
       "        <th>Sampling frequency</th>\n",
       "        <td>500.00 Hz</td>\n",
       "    </tr>\n",
       "    <tr>\n",
       "        <th>Highpass</th>\n",
       "        <td>0.50 Hz</td>\n",
       "    </tr>\n",
       "     <tr>\n",
       "        <th>Lowpass</th>\n",
       "        <td>60.00 Hz</td>\n",
       "    </tr>\n",
       "\n",
       "    <tr>\n",
       "        <th>Filenames</th>\n",
       "        <td>sub-AB10_task-simpleRT_run-1_eeg.set</td>\n",
       "    </tr>\n",
       "    <tr>\n",
       "        <th>Duration</th>\n",
       "        <td>00:08:24 (HH:MM:SS)</td>\n",
       "    </tr>\n",
       "</table>\n"
      ],
      "text/plain": [
       "<RawEEGLAB | sub-AB10_task-simpleRT_run-1_eeg.set, 66 x 252340 (504.7 s), ~127.2 MB, data loaded>"
      ]
     },
     "execution_count": 14,
     "metadata": {},
     "output_type": "execute_result"
    }
   ],
   "source": [
    "unclean_raw['10_1']"
   ]
  },
  {
   "cell_type": "markdown",
   "metadata": {},
   "source": [
    "## Implementing ICA and SSP Projections"
   ]
  },
  {
   "cell_type": "code",
   "execution_count": 18,
   "metadata": {
    "scrolled": true
   },
   "outputs": [],
   "source": [
    "#Creating copy\n",
    "raw = {}\n",
    "for f in files:\n",
    "    raw[f] = unclean_raw[f].copy()"
   ]
  },
  {
   "cell_type": "code",
   "execution_count": 23,
   "metadata": {
    "scrolled": true
   },
   "outputs": [
    {
     "name": "stderr",
     "output_type": "stream",
     "text": [
      "<ipython-input-23-305156d37c13>:4: DeprecationWarning: Version 0.23 introduced max_iter=\"auto\", setting max_iter=1000 for `fastica` and max_iter=500 for `infomax` and `picard`. The current default of max_iter=200 will be changed to \"auto\" in version 0.24.\n",
      "  ica[f] = mne.preprocessing.ICA(n_components = 20, random_state = 42, method = 'picard')\n",
      "<ipython-input-23-305156d37c13>:4: DeprecationWarning: Version 0.23 introduced max_iter=\"auto\", setting max_iter=1000 for `fastica` and max_iter=500 for `infomax` and `picard`. The current default of max_iter=200 will be changed to \"auto\" in version 0.24.\n",
      "  ica[f] = mne.preprocessing.ICA(n_components = 20, random_state = 42, method = 'picard')\n",
      "<ipython-input-23-305156d37c13>:4: DeprecationWarning: Version 0.23 introduced max_iter=\"auto\", setting max_iter=1000 for `fastica` and max_iter=500 for `infomax` and `picard`. The current default of max_iter=200 will be changed to \"auto\" in version 0.24.\n",
      "  ica[f] = mne.preprocessing.ICA(n_components = 20, random_state = 42, method = 'picard')\n",
      "<ipython-input-23-305156d37c13>:4: DeprecationWarning: Version 0.23 introduced max_iter=\"auto\", setting max_iter=1000 for `fastica` and max_iter=500 for `infomax` and `picard`. The current default of max_iter=200 will be changed to \"auto\" in version 0.24.\n",
      "  ica[f] = mne.preprocessing.ICA(n_components = 20, random_state = 42, method = 'picard')\n",
      "<ipython-input-23-305156d37c13>:4: DeprecationWarning: Version 0.23 introduced max_iter=\"auto\", setting max_iter=1000 for `fastica` and max_iter=500 for `infomax` and `picard`. The current default of max_iter=200 will be changed to \"auto\" in version 0.24.\n",
      "  ica[f] = mne.preprocessing.ICA(n_components = 20, random_state = 42, method = 'picard')\n",
      "<ipython-input-23-305156d37c13>:4: DeprecationWarning: Version 0.23 introduced max_iter=\"auto\", setting max_iter=1000 for `fastica` and max_iter=500 for `infomax` and `picard`. The current default of max_iter=200 will be changed to \"auto\" in version 0.24.\n",
      "  ica[f] = mne.preprocessing.ICA(n_components = 20, random_state = 42, method = 'picard')\n",
      "<ipython-input-23-305156d37c13>:4: DeprecationWarning: Version 0.23 introduced max_iter=\"auto\", setting max_iter=1000 for `fastica` and max_iter=500 for `infomax` and `picard`. The current default of max_iter=200 will be changed to \"auto\" in version 0.24.\n",
      "  ica[f] = mne.preprocessing.ICA(n_components = 20, random_state = 42, method = 'picard')\n",
      "<ipython-input-23-305156d37c13>:4: DeprecationWarning: Version 0.23 introduced max_iter=\"auto\", setting max_iter=1000 for `fastica` and max_iter=500 for `infomax` and `picard`. The current default of max_iter=200 will be changed to \"auto\" in version 0.24.\n",
      "  ica[f] = mne.preprocessing.ICA(n_components = 20, random_state = 42, method = 'picard')\n",
      "<ipython-input-23-305156d37c13>:4: DeprecationWarning: Version 0.23 introduced max_iter=\"auto\", setting max_iter=1000 for `fastica` and max_iter=500 for `infomax` and `picard`. The current default of max_iter=200 will be changed to \"auto\" in version 0.24.\n",
      "  ica[f] = mne.preprocessing.ICA(n_components = 20, random_state = 42, method = 'picard')\n",
      "<ipython-input-23-305156d37c13>:4: DeprecationWarning: Version 0.23 introduced max_iter=\"auto\", setting max_iter=1000 for `fastica` and max_iter=500 for `infomax` and `picard`. The current default of max_iter=200 will be changed to \"auto\" in version 0.24.\n",
      "  ica[f] = mne.preprocessing.ICA(n_components = 20, random_state = 42, method = 'picard')\n",
      "<ipython-input-23-305156d37c13>:4: DeprecationWarning: Version 0.23 introduced max_iter=\"auto\", setting max_iter=1000 for `fastica` and max_iter=500 for `infomax` and `picard`. The current default of max_iter=200 will be changed to \"auto\" in version 0.24.\n",
      "  ica[f] = mne.preprocessing.ICA(n_components = 20, random_state = 42, method = 'picard')\n",
      "<ipython-input-23-305156d37c13>:4: DeprecationWarning: Version 0.23 introduced max_iter=\"auto\", setting max_iter=1000 for `fastica` and max_iter=500 for `infomax` and `picard`. The current default of max_iter=200 will be changed to \"auto\" in version 0.24.\n",
      "  ica[f] = mne.preprocessing.ICA(n_components = 20, random_state = 42, method = 'picard')\n"
     ]
    }
   ],
   "source": [
    "#Creating ICA objects\n",
    "#pip install python-picard\n",
    "import picard\n",
    "ica = {}\n",
    "for f in files:\n",
    "    ica[f] = mne.preprocessing.ICA(n_components = 20, method = 'picard', random_state = 42)"
   ]
  },
  {
   "cell_type": "code",
   "execution_count": 25,
   "metadata": {
    "scrolled": true
   },
   "outputs": [
    {
     "name": "stdout",
     "output_type": "stream",
     "text": [
      "Fitting ICA to data using 61 channels (please be patient, this may take a while)\n",
      "Selecting by number: 20 components\n",
      "Fitting ICA took 22.2s.\n",
      "Fitting ICA to data using 61 channels (please be patient, this may take a while)\n",
      "Selecting by number: 20 components\n",
      "Fitting ICA took 23.4s.\n",
      "Fitting ICA to data using 61 channels (please be patient, this may take a while)\n",
      "Selecting by number: 20 components\n",
      "Fitting ICA took 15.8s.\n",
      "Fitting ICA to data using 61 channels (please be patient, this may take a while)\n",
      "Selecting by number: 20 components\n",
      "Fitting ICA took 12.2s.\n",
      "Fitting ICA to data using 61 channels (please be patient, this may take a while)\n",
      "Selecting by number: 20 components\n",
      "Fitting ICA took 17.6s.\n",
      "Fitting ICA to data using 61 channels (please be patient, this may take a while)\n",
      "Selecting by number: 20 components\n",
      "Fitting ICA took 15.8s.\n",
      "Fitting ICA to data using 61 channels (please be patient, this may take a while)\n",
      "Selecting by number: 20 components\n",
      "Fitting ICA took 18.4s.\n",
      "Fitting ICA to data using 61 channels (please be patient, this may take a while)\n",
      "Selecting by number: 20 components\n",
      "Fitting ICA took 17.1s.\n",
      "Fitting ICA to data using 61 channels (please be patient, this may take a while)\n",
      "Selecting by number: 20 components\n",
      "Fitting ICA took 13.9s.\n",
      "Fitting ICA to data using 61 channels (please be patient, this may take a while)\n",
      "Selecting by number: 20 components\n",
      "Fitting ICA took 13.2s.\n",
      "Fitting ICA to data using 61 channels (please be patient, this may take a while)\n",
      "Selecting by number: 20 components\n",
      "Fitting ICA took 19.1s.\n",
      "Fitting ICA to data using 61 channels (please be patient, this may take a while)\n",
      "Selecting by number: 20 components\n",
      "Fitting ICA took 32.3s.\n"
     ]
    }
   ],
   "source": [
    "#Fitting ICA objects\n",
    "for f in files:\n",
    "    ica[f].fit(raw[f])"
   ]
  },
  {
   "cell_type": "code",
   "execution_count": 26,
   "metadata": {
    "scrolled": true
   },
   "outputs": [
    {
     "name": "stdout",
     "output_type": "stream",
     "text": [
      "Creating RawArray with float64 data, n_channels=23, n_times=252340\n",
      "    Range : 0 ... 252339 =      0.000 ...   504.678 secs\n",
      "Ready.\n"
     ]
    },
    {
     "data": {
      "text/plain": [
       "[<MNEFigure size 975x963 with 20 Axes>]"
      ]
     },
     "execution_count": 26,
     "metadata": {},
     "output_type": "execute_result"
    }
   ],
   "source": [
    "#plotting sources and components\n",
    "ica['10_1'].plot_sources(raw['10_1'])\n",
    "ica['10_2'].plot_components(outlines = 'head', sphere = 10, ch_type = 'eeg')"
   ]
  },
  {
   "cell_type": "code",
   "execution_count": 27,
   "metadata": {},
   "outputs": [],
   "source": [
    "#To find and mark bad components\n",
    "def mark_artifacts(ica, raw):\n",
    "    ica.exclude = []\n",
    "    ica.detect_artifacts(raw)\n",
    "    eeg_bads = list(ica.exclude)\n",
    "    ecg_bads = ica.find_bads_ecg(raw)[0]\n",
    "    eog_bads = ica.find_bads_eog(raw)[0]\n",
    "    ica.exclude = list(set(eeg_bads+ecg_bads+eog_bads))"
   ]
  },
  {
   "cell_type": "code",
   "execution_count": 29,
   "metadata": {
    "scrolled": true
   },
   "outputs": [
    {
     "name": "stdout",
     "output_type": "stream",
     "text": [
      "    Searching for artifacts...\n",
      "    found 1 artifact by skewness\n",
      "    found 1 artifact by kurtosis\n",
      "    found 1 artifact by variance\n",
      "Artifact indices found:\n",
      "    5, 5, 4\n",
      "    Removing duplicate indices...\n",
      "Ready.\n",
      "Using threshold: 0.23 for CTPS ECG detection\n",
      "Using channel EKG to identify heart beats.\n",
      "Setting up band-pass filter from 8 - 16 Hz\n",
      "\n",
      "FIR filter parameters\n",
      "---------------------\n",
      "Designing a two-pass forward and reverse, zero-phase, non-causal bandpass filter:\n",
      "- Windowed frequency-domain design (firwin2) method\n",
      "- Hann window\n",
      "- Lower passband edge: 8.00\n",
      "- Lower transition bandwidth: 0.50 Hz (-12 dB cutoff frequency: 7.75 Hz)\n",
      "- Upper passband edge: 16.00 Hz\n",
      "- Upper transition bandwidth: 0.50 Hz (-12 dB cutoff frequency: 16.25 Hz)\n",
      "- Filter length: 5000 samples (10.000 sec)\n",
      "\n",
      "Number of ECG events detected : 531 (average pulse 63 / min.)\n",
      "Not setting metadata\n",
      "Not setting metadata\n",
      "531 matching events found\n",
      "No baseline correction applied\n",
      "Loading data for 531 events and 501 original time points ...\n",
      "0 bad epochs dropped\n",
      "Using EOG channels: VEO, HEO\n",
      "... filtering ICA sources\n",
      "Setting up band-pass filter from 1 - 10 Hz\n",
      "\n",
      "FIR filter parameters\n",
      "---------------------\n",
      "Designing a two-pass forward and reverse, zero-phase, non-causal bandpass filter:\n",
      "- Windowed frequency-domain design (firwin2) method\n",
      "- Hann window\n",
      "- Lower passband edge: 1.00\n",
      "- Lower transition bandwidth: 0.50 Hz (-12 dB cutoff frequency: 0.75 Hz)\n",
      "- Upper passband edge: 10.00 Hz\n",
      "- Upper transition bandwidth: 0.50 Hz (-12 dB cutoff frequency: 10.25 Hz)\n",
      "- Filter length: 5000 samples (10.000 sec)\n",
      "\n",
      "... filtering target\n",
      "Setting up band-pass filter from 1 - 10 Hz\n",
      "\n",
      "FIR filter parameters\n",
      "---------------------\n",
      "Designing a two-pass forward and reverse, zero-phase, non-causal bandpass filter:\n",
      "- Windowed frequency-domain design (firwin2) method\n",
      "- Hann window\n",
      "- Lower passband edge: 1.00\n",
      "- Lower transition bandwidth: 0.50 Hz (-12 dB cutoff frequency: 0.75 Hz)\n",
      "- Upper passband edge: 10.00 Hz\n",
      "- Upper transition bandwidth: 0.50 Hz (-12 dB cutoff frequency: 10.25 Hz)\n",
      "- Filter length: 5000 samples (10.000 sec)\n",
      "\n",
      "... filtering ICA sources\n",
      "Setting up band-pass filter from 1 - 10 Hz\n",
      "\n",
      "FIR filter parameters\n",
      "---------------------\n",
      "Designing a two-pass forward and reverse, zero-phase, non-causal bandpass filter:\n",
      "- Windowed frequency-domain design (firwin2) method\n",
      "- Hann window\n",
      "- Lower passband edge: 1.00\n",
      "- Lower transition bandwidth: 0.50 Hz (-12 dB cutoff frequency: 0.75 Hz)\n",
      "- Upper passband edge: 10.00 Hz\n",
      "- Upper transition bandwidth: 0.50 Hz (-12 dB cutoff frequency: 10.25 Hz)\n",
      "- Filter length: 5000 samples (10.000 sec)\n",
      "\n",
      "... filtering target\n",
      "Setting up band-pass filter from 1 - 10 Hz\n",
      "\n",
      "FIR filter parameters\n",
      "---------------------\n",
      "Designing a two-pass forward and reverse, zero-phase, non-causal bandpass filter:\n",
      "- Windowed frequency-domain design (firwin2) method\n",
      "- Hann window\n",
      "- Lower passband edge: 1.00\n",
      "- Lower transition bandwidth: 0.50 Hz (-12 dB cutoff frequency: 0.75 Hz)\n",
      "- Upper passband edge: 10.00 Hz\n",
      "- Upper transition bandwidth: 0.50 Hz (-12 dB cutoff frequency: 10.25 Hz)\n",
      "- Filter length: 5000 samples (10.000 sec)\n",
      "\n",
      "    Searching for artifacts...\n",
      "    found 1 artifact by skewness\n",
      "    found 1 artifact by kurtosis\n",
      "    found 1 artifact by variance\n",
      "Artifact indices found:\n",
      "    0, 14, 10\n",
      "Ready.\n",
      "Using threshold: 0.23 for CTPS ECG detection\n",
      "Using channel EKG to identify heart beats.\n",
      "Setting up band-pass filter from 8 - 16 Hz\n",
      "\n",
      "FIR filter parameters\n",
      "---------------------\n",
      "Designing a two-pass forward and reverse, zero-phase, non-causal bandpass filter:\n",
      "- Windowed frequency-domain design (firwin2) method\n",
      "- Hann window\n",
      "- Lower passband edge: 8.00\n",
      "- Lower transition bandwidth: 0.50 Hz (-12 dB cutoff frequency: 7.75 Hz)\n",
      "- Upper passband edge: 16.00 Hz\n",
      "- Upper transition bandwidth: 0.50 Hz (-12 dB cutoff frequency: 16.25 Hz)\n",
      "- Filter length: 5000 samples (10.000 sec)\n",
      "\n",
      "Number of ECG events detected : 540 (average pulse 64 / min.)\n",
      "Not setting metadata\n",
      "Not setting metadata\n",
      "540 matching events found\n",
      "No baseline correction applied\n",
      "Loading data for 540 events and 501 original time points ...\n",
      "0 bad epochs dropped\n",
      "Using EOG channels: VEO, HEO\n",
      "... filtering ICA sources\n",
      "Setting up band-pass filter from 1 - 10 Hz\n",
      "\n",
      "FIR filter parameters\n",
      "---------------------\n",
      "Designing a two-pass forward and reverse, zero-phase, non-causal bandpass filter:\n",
      "- Windowed frequency-domain design (firwin2) method\n",
      "- Hann window\n",
      "- Lower passband edge: 1.00\n",
      "- Lower transition bandwidth: 0.50 Hz (-12 dB cutoff frequency: 0.75 Hz)\n",
      "- Upper passband edge: 10.00 Hz\n",
      "- Upper transition bandwidth: 0.50 Hz (-12 dB cutoff frequency: 10.25 Hz)\n",
      "- Filter length: 5000 samples (10.000 sec)\n",
      "\n",
      "... filtering target\n",
      "Setting up band-pass filter from 1 - 10 Hz\n",
      "\n",
      "FIR filter parameters\n",
      "---------------------\n",
      "Designing a two-pass forward and reverse, zero-phase, non-causal bandpass filter:\n",
      "- Windowed frequency-domain design (firwin2) method\n",
      "- Hann window\n",
      "- Lower passband edge: 1.00\n",
      "- Lower transition bandwidth: 0.50 Hz (-12 dB cutoff frequency: 0.75 Hz)\n",
      "- Upper passband edge: 10.00 Hz\n",
      "- Upper transition bandwidth: 0.50 Hz (-12 dB cutoff frequency: 10.25 Hz)\n",
      "- Filter length: 5000 samples (10.000 sec)\n",
      "\n",
      "... filtering ICA sources\n",
      "Setting up band-pass filter from 1 - 10 Hz\n",
      "\n",
      "FIR filter parameters\n",
      "---------------------\n",
      "Designing a two-pass forward and reverse, zero-phase, non-causal bandpass filter:\n",
      "- Windowed frequency-domain design (firwin2) method\n",
      "- Hann window\n",
      "- Lower passband edge: 1.00\n",
      "- Lower transition bandwidth: 0.50 Hz (-12 dB cutoff frequency: 0.75 Hz)\n",
      "- Upper passband edge: 10.00 Hz\n",
      "- Upper transition bandwidth: 0.50 Hz (-12 dB cutoff frequency: 10.25 Hz)\n",
      "- Filter length: 5000 samples (10.000 sec)\n",
      "\n",
      "... filtering target\n",
      "Setting up band-pass filter from 1 - 10 Hz\n",
      "\n",
      "FIR filter parameters\n",
      "---------------------\n",
      "Designing a two-pass forward and reverse, zero-phase, non-causal bandpass filter:\n",
      "- Windowed frequency-domain design (firwin2) method\n",
      "- Hann window\n",
      "- Lower passband edge: 1.00\n",
      "- Lower transition bandwidth: 0.50 Hz (-12 dB cutoff frequency: 0.75 Hz)\n",
      "- Upper passband edge: 10.00 Hz\n",
      "- Upper transition bandwidth: 0.50 Hz (-12 dB cutoff frequency: 10.25 Hz)\n",
      "- Filter length: 5000 samples (10.000 sec)\n",
      "\n",
      "    Searching for artifacts...\n",
      "    found 1 artifact by skewness\n",
      "    found 1 artifact by kurtosis\n",
      "    found 1 artifact by variance\n",
      "Artifact indices found:\n",
      "    8, 17, 17\n",
      "    Removing duplicate indices...\n",
      "Ready.\n",
      "Using threshold: 0.23 for CTPS ECG detection\n",
      "Using channel EKG to identify heart beats.\n",
      "Setting up band-pass filter from 8 - 16 Hz\n",
      "\n",
      "FIR filter parameters\n",
      "---------------------\n",
      "Designing a two-pass forward and reverse, zero-phase, non-causal bandpass filter:\n",
      "- Windowed frequency-domain design (firwin2) method\n",
      "- Hann window\n",
      "- Lower passband edge: 8.00\n",
      "- Lower transition bandwidth: 0.50 Hz (-12 dB cutoff frequency: 7.75 Hz)\n",
      "- Upper passband edge: 16.00 Hz\n",
      "- Upper transition bandwidth: 0.50 Hz (-12 dB cutoff frequency: 16.25 Hz)\n",
      "- Filter length: 5000 samples (10.000 sec)\n",
      "\n",
      "Number of ECG events detected : 610 (average pulse 73 / min.)\n",
      "Not setting metadata\n",
      "Not setting metadata\n",
      "610 matching events found\n",
      "No baseline correction applied\n",
      "Loading data for 610 events and 501 original time points ...\n",
      "0 bad epochs dropped\n",
      "Using EOG channels: VEO, HEO\n",
      "... filtering ICA sources\n",
      "Setting up band-pass filter from 1 - 10 Hz\n",
      "\n",
      "FIR filter parameters\n",
      "---------------------\n",
      "Designing a two-pass forward and reverse, zero-phase, non-causal bandpass filter:\n",
      "- Windowed frequency-domain design (firwin2) method\n",
      "- Hann window\n",
      "- Lower passband edge: 1.00\n",
      "- Lower transition bandwidth: 0.50 Hz (-12 dB cutoff frequency: 0.75 Hz)\n",
      "- Upper passband edge: 10.00 Hz\n",
      "- Upper transition bandwidth: 0.50 Hz (-12 dB cutoff frequency: 10.25 Hz)\n",
      "- Filter length: 5000 samples (10.000 sec)\n",
      "\n",
      "... filtering target\n",
      "Setting up band-pass filter from 1 - 10 Hz\n",
      "\n",
      "FIR filter parameters\n",
      "---------------------\n",
      "Designing a two-pass forward and reverse, zero-phase, non-causal bandpass filter:\n",
      "- Windowed frequency-domain design (firwin2) method\n",
      "- Hann window\n",
      "- Lower passband edge: 1.00\n",
      "- Lower transition bandwidth: 0.50 Hz (-12 dB cutoff frequency: 0.75 Hz)\n",
      "- Upper passband edge: 10.00 Hz\n",
      "- Upper transition bandwidth: 0.50 Hz (-12 dB cutoff frequency: 10.25 Hz)\n",
      "- Filter length: 5000 samples (10.000 sec)\n",
      "\n",
      "... filtering ICA sources\n",
      "Setting up band-pass filter from 1 - 10 Hz\n",
      "\n",
      "FIR filter parameters\n",
      "---------------------\n",
      "Designing a two-pass forward and reverse, zero-phase, non-causal bandpass filter:\n",
      "- Windowed frequency-domain design (firwin2) method\n",
      "- Hann window\n",
      "- Lower passband edge: 1.00\n",
      "- Lower transition bandwidth: 0.50 Hz (-12 dB cutoff frequency: 0.75 Hz)\n",
      "- Upper passband edge: 10.00 Hz\n",
      "- Upper transition bandwidth: 0.50 Hz (-12 dB cutoff frequency: 10.25 Hz)\n",
      "- Filter length: 5000 samples (10.000 sec)\n",
      "\n",
      "... filtering target\n",
      "Setting up band-pass filter from 1 - 10 Hz\n",
      "\n",
      "FIR filter parameters\n",
      "---------------------\n",
      "Designing a two-pass forward and reverse, zero-phase, non-causal bandpass filter:\n",
      "- Windowed frequency-domain design (firwin2) method\n",
      "- Hann window\n",
      "- Lower passband edge: 1.00\n",
      "- Lower transition bandwidth: 0.50 Hz (-12 dB cutoff frequency: 0.75 Hz)\n",
      "- Upper passband edge: 10.00 Hz\n",
      "- Upper transition bandwidth: 0.50 Hz (-12 dB cutoff frequency: 10.25 Hz)\n",
      "- Filter length: 5000 samples (10.000 sec)\n",
      "\n",
      "    Searching for artifacts...\n",
      "    found 1 artifact by skewness\n",
      "    found 1 artifact by kurtosis\n",
      "    found 1 artifact by variance\n",
      "Artifact indices found:\n",
      "    12, 7, 7\n",
      "    Removing duplicate indices...\n",
      "Ready.\n",
      "Using threshold: 0.23 for CTPS ECG detection\n",
      "Using channel EKG to identify heart beats.\n",
      "Setting up band-pass filter from 8 - 16 Hz\n",
      "\n",
      "FIR filter parameters\n",
      "---------------------\n",
      "Designing a two-pass forward and reverse, zero-phase, non-causal bandpass filter:\n",
      "- Windowed frequency-domain design (firwin2) method\n",
      "- Hann window\n",
      "- Lower passband edge: 8.00\n",
      "- Lower transition bandwidth: 0.50 Hz (-12 dB cutoff frequency: 7.75 Hz)\n",
      "- Upper passband edge: 16.00 Hz\n",
      "- Upper transition bandwidth: 0.50 Hz (-12 dB cutoff frequency: 16.25 Hz)\n",
      "- Filter length: 5000 samples (10.000 sec)\n",
      "\n",
      "Number of ECG events detected : 600 (average pulse 72 / min.)\n",
      "Not setting metadata\n",
      "Not setting metadata\n",
      "600 matching events found\n",
      "No baseline correction applied\n",
      "Loading data for 600 events and 501 original time points ...\n",
      "1 bad epochs dropped\n",
      "Using EOG channels: VEO, HEO\n",
      "... filtering ICA sources\n",
      "Setting up band-pass filter from 1 - 10 Hz\n",
      "\n",
      "FIR filter parameters\n",
      "---------------------\n",
      "Designing a two-pass forward and reverse, zero-phase, non-causal bandpass filter:\n",
      "- Windowed frequency-domain design (firwin2) method\n",
      "- Hann window\n",
      "- Lower passband edge: 1.00\n",
      "- Lower transition bandwidth: 0.50 Hz (-12 dB cutoff frequency: 0.75 Hz)\n",
      "- Upper passband edge: 10.00 Hz\n",
      "- Upper transition bandwidth: 0.50 Hz (-12 dB cutoff frequency: 10.25 Hz)\n",
      "- Filter length: 5000 samples (10.000 sec)\n",
      "\n",
      "... filtering target\n",
      "Setting up band-pass filter from 1 - 10 Hz\n",
      "\n",
      "FIR filter parameters\n",
      "---------------------\n",
      "Designing a two-pass forward and reverse, zero-phase, non-causal bandpass filter:\n",
      "- Windowed frequency-domain design (firwin2) method\n",
      "- Hann window\n",
      "- Lower passband edge: 1.00\n",
      "- Lower transition bandwidth: 0.50 Hz (-12 dB cutoff frequency: 0.75 Hz)\n",
      "- Upper passband edge: 10.00 Hz\n",
      "- Upper transition bandwidth: 0.50 Hz (-12 dB cutoff frequency: 10.25 Hz)\n",
      "- Filter length: 5000 samples (10.000 sec)\n",
      "\n",
      "... filtering ICA sources\n",
      "Setting up band-pass filter from 1 - 10 Hz\n",
      "\n",
      "FIR filter parameters\n",
      "---------------------\n",
      "Designing a two-pass forward and reverse, zero-phase, non-causal bandpass filter:\n",
      "- Windowed frequency-domain design (firwin2) method\n",
      "- Hann window\n",
      "- Lower passband edge: 1.00\n",
      "- Lower transition bandwidth: 0.50 Hz (-12 dB cutoff frequency: 0.75 Hz)\n",
      "- Upper passband edge: 10.00 Hz\n",
      "- Upper transition bandwidth: 0.50 Hz (-12 dB cutoff frequency: 10.25 Hz)\n",
      "- Filter length: 5000 samples (10.000 sec)\n",
      "\n",
      "... filtering target\n",
      "Setting up band-pass filter from 1 - 10 Hz\n",
      "\n",
      "FIR filter parameters\n",
      "---------------------\n",
      "Designing a two-pass forward and reverse, zero-phase, non-causal bandpass filter:\n",
      "- Windowed frequency-domain design (firwin2) method\n",
      "- Hann window\n",
      "- Lower passband edge: 1.00\n",
      "- Lower transition bandwidth: 0.50 Hz (-12 dB cutoff frequency: 0.75 Hz)\n",
      "- Upper passband edge: 10.00 Hz\n",
      "- Upper transition bandwidth: 0.50 Hz (-12 dB cutoff frequency: 10.25 Hz)\n",
      "- Filter length: 5000 samples (10.000 sec)\n",
      "\n",
      "    Searching for artifacts...\n",
      "    found 1 artifact by skewness\n",
      "    found 1 artifact by kurtosis\n",
      "    found 1 artifact by variance\n",
      "Artifact indices found:\n",
      "    15, 15, 2\n",
      "    Removing duplicate indices...\n",
      "Ready.\n",
      "Using threshold: 0.23 for CTPS ECG detection\n",
      "Using channel EKG to identify heart beats.\n",
      "Setting up band-pass filter from 8 - 16 Hz\n",
      "\n",
      "FIR filter parameters\n",
      "---------------------\n",
      "Designing a two-pass forward and reverse, zero-phase, non-causal bandpass filter:\n",
      "- Windowed frequency-domain design (firwin2) method\n",
      "- Hann window\n",
      "- Lower passband edge: 8.00\n",
      "- Lower transition bandwidth: 0.50 Hz (-12 dB cutoff frequency: 7.75 Hz)\n",
      "- Upper passband edge: 16.00 Hz\n",
      "- Upper transition bandwidth: 0.50 Hz (-12 dB cutoff frequency: 16.25 Hz)\n",
      "- Filter length: 5000 samples (10.000 sec)\n",
      "\n",
      "Number of ECG events detected : 671 (average pulse 80 / min.)\n",
      "Not setting metadata\n",
      "Not setting metadata\n",
      "671 matching events found\n",
      "No baseline correction applied\n",
      "Loading data for 671 events and 501 original time points ...\n",
      "0 bad epochs dropped\n",
      "Using EOG channels: VEO, HEO\n",
      "... filtering ICA sources\n",
      "Setting up band-pass filter from 1 - 10 Hz\n",
      "\n",
      "FIR filter parameters\n",
      "---------------------\n",
      "Designing a two-pass forward and reverse, zero-phase, non-causal bandpass filter:\n",
      "- Windowed frequency-domain design (firwin2) method\n",
      "- Hann window\n",
      "- Lower passband edge: 1.00\n",
      "- Lower transition bandwidth: 0.50 Hz (-12 dB cutoff frequency: 0.75 Hz)\n",
      "- Upper passband edge: 10.00 Hz\n",
      "- Upper transition bandwidth: 0.50 Hz (-12 dB cutoff frequency: 10.25 Hz)\n",
      "- Filter length: 5000 samples (10.000 sec)\n",
      "\n",
      "... filtering target\n",
      "Setting up band-pass filter from 1 - 10 Hz\n",
      "\n",
      "FIR filter parameters\n",
      "---------------------\n",
      "Designing a two-pass forward and reverse, zero-phase, non-causal bandpass filter:\n",
      "- Windowed frequency-domain design (firwin2) method\n",
      "- Hann window\n",
      "- Lower passband edge: 1.00\n",
      "- Lower transition bandwidth: 0.50 Hz (-12 dB cutoff frequency: 0.75 Hz)\n",
      "- Upper passband edge: 10.00 Hz\n",
      "- Upper transition bandwidth: 0.50 Hz (-12 dB cutoff frequency: 10.25 Hz)\n",
      "- Filter length: 5000 samples (10.000 sec)\n",
      "\n",
      "... filtering ICA sources\n",
      "Setting up band-pass filter from 1 - 10 Hz\n",
      "\n",
      "FIR filter parameters\n",
      "---------------------\n",
      "Designing a two-pass forward and reverse, zero-phase, non-causal bandpass filter:\n",
      "- Windowed frequency-domain design (firwin2) method\n",
      "- Hann window\n",
      "- Lower passband edge: 1.00\n",
      "- Lower transition bandwidth: 0.50 Hz (-12 dB cutoff frequency: 0.75 Hz)\n",
      "- Upper passband edge: 10.00 Hz\n",
      "- Upper transition bandwidth: 0.50 Hz (-12 dB cutoff frequency: 10.25 Hz)\n",
      "- Filter length: 5000 samples (10.000 sec)\n",
      "\n",
      "... filtering target\n",
      "Setting up band-pass filter from 1 - 10 Hz\n",
      "\n",
      "FIR filter parameters\n",
      "---------------------\n",
      "Designing a two-pass forward and reverse, zero-phase, non-causal bandpass filter:\n",
      "- Windowed frequency-domain design (firwin2) method\n",
      "- Hann window\n",
      "- Lower passband edge: 1.00\n",
      "- Lower transition bandwidth: 0.50 Hz (-12 dB cutoff frequency: 0.75 Hz)\n",
      "- Upper passband edge: 10.00 Hz\n",
      "- Upper transition bandwidth: 0.50 Hz (-12 dB cutoff frequency: 10.25 Hz)\n",
      "- Filter length: 5000 samples (10.000 sec)\n",
      "\n",
      "    Searching for artifacts...\n",
      "    found 1 artifact by skewness\n",
      "    found 1 artifact by kurtosis\n",
      "    found 1 artifact by variance\n",
      "Artifact indices found:\n",
      "    3, 17, 16\n",
      "Ready.\n",
      "Using threshold: 0.23 for CTPS ECG detection\n",
      "Using channel EKG to identify heart beats.\n",
      "Setting up band-pass filter from 8 - 16 Hz\n",
      "\n",
      "FIR filter parameters\n",
      "---------------------\n",
      "Designing a two-pass forward and reverse, zero-phase, non-causal bandpass filter:\n",
      "- Windowed frequency-domain design (firwin2) method\n",
      "- Hann window\n",
      "- Lower passband edge: 8.00\n",
      "- Lower transition bandwidth: 0.50 Hz (-12 dB cutoff frequency: 7.75 Hz)\n",
      "- Upper passband edge: 16.00 Hz\n",
      "- Upper transition bandwidth: 0.50 Hz (-12 dB cutoff frequency: 16.25 Hz)\n",
      "- Filter length: 5000 samples (10.000 sec)\n",
      "\n",
      "Number of ECG events detected : 697 (average pulse 81 / min.)\n",
      "Not setting metadata\n",
      "Not setting metadata\n",
      "697 matching events found\n",
      "No baseline correction applied\n",
      "Loading data for 697 events and 501 original time points ...\n",
      "0 bad epochs dropped\n",
      "Using EOG channels: VEO, HEO\n",
      "... filtering ICA sources\n",
      "Setting up band-pass filter from 1 - 10 Hz\n",
      "\n",
      "FIR filter parameters\n",
      "---------------------\n",
      "Designing a two-pass forward and reverse, zero-phase, non-causal bandpass filter:\n",
      "- Windowed frequency-domain design (firwin2) method\n",
      "- Hann window\n",
      "- Lower passband edge: 1.00\n",
      "- Lower transition bandwidth: 0.50 Hz (-12 dB cutoff frequency: 0.75 Hz)\n",
      "- Upper passband edge: 10.00 Hz\n",
      "- Upper transition bandwidth: 0.50 Hz (-12 dB cutoff frequency: 10.25 Hz)\n",
      "- Filter length: 5000 samples (10.000 sec)\n",
      "\n",
      "... filtering target\n",
      "Setting up band-pass filter from 1 - 10 Hz\n",
      "\n",
      "FIR filter parameters\n",
      "---------------------\n",
      "Designing a two-pass forward and reverse, zero-phase, non-causal bandpass filter:\n",
      "- Windowed frequency-domain design (firwin2) method\n",
      "- Hann window\n",
      "- Lower passband edge: 1.00\n",
      "- Lower transition bandwidth: 0.50 Hz (-12 dB cutoff frequency: 0.75 Hz)\n",
      "- Upper passband edge: 10.00 Hz\n",
      "- Upper transition bandwidth: 0.50 Hz (-12 dB cutoff frequency: 10.25 Hz)\n",
      "- Filter length: 5000 samples (10.000 sec)\n",
      "\n",
      "... filtering ICA sources\n",
      "Setting up band-pass filter from 1 - 10 Hz\n",
      "\n",
      "FIR filter parameters\n",
      "---------------------\n",
      "Designing a two-pass forward and reverse, zero-phase, non-causal bandpass filter:\n",
      "- Windowed frequency-domain design (firwin2) method\n",
      "- Hann window\n",
      "- Lower passband edge: 1.00\n",
      "- Lower transition bandwidth: 0.50 Hz (-12 dB cutoff frequency: 0.75 Hz)\n",
      "- Upper passband edge: 10.00 Hz\n",
      "- Upper transition bandwidth: 0.50 Hz (-12 dB cutoff frequency: 10.25 Hz)\n",
      "- Filter length: 5000 samples (10.000 sec)\n",
      "\n",
      "... filtering target\n",
      "Setting up band-pass filter from 1 - 10 Hz\n",
      "\n",
      "FIR filter parameters\n",
      "---------------------\n",
      "Designing a two-pass forward and reverse, zero-phase, non-causal bandpass filter:\n",
      "- Windowed frequency-domain design (firwin2) method\n",
      "- Hann window\n",
      "- Lower passband edge: 1.00\n",
      "- Lower transition bandwidth: 0.50 Hz (-12 dB cutoff frequency: 0.75 Hz)\n",
      "- Upper passband edge: 10.00 Hz\n",
      "- Upper transition bandwidth: 0.50 Hz (-12 dB cutoff frequency: 10.25 Hz)\n",
      "- Filter length: 5000 samples (10.000 sec)\n",
      "\n",
      "    Searching for artifacts...\n",
      "    found 1 artifact by skewness\n",
      "    found 1 artifact by kurtosis\n",
      "    found 1 artifact by variance\n",
      "Artifact indices found:\n",
      "    8, 8, 1\n",
      "    Removing duplicate indices...\n",
      "Ready.\n",
      "Using threshold: 0.23 for CTPS ECG detection\n",
      "Using channel EKG to identify heart beats.\n",
      "Setting up band-pass filter from 8 - 16 Hz\n",
      "\n",
      "FIR filter parameters\n",
      "---------------------\n",
      "Designing a two-pass forward and reverse, zero-phase, non-causal bandpass filter:\n",
      "- Windowed frequency-domain design (firwin2) method\n",
      "- Hann window\n",
      "- Lower passband edge: 8.00\n",
      "- Lower transition bandwidth: 0.50 Hz (-12 dB cutoff frequency: 7.75 Hz)\n",
      "- Upper passband edge: 16.00 Hz\n",
      "- Upper transition bandwidth: 0.50 Hz (-12 dB cutoff frequency: 16.25 Hz)\n",
      "- Filter length: 5000 samples (10.000 sec)\n",
      "\n",
      "Number of ECG events detected : 445 (average pulse 52 / min.)\n",
      "Not setting metadata\n",
      "Not setting metadata\n",
      "445 matching events found\n",
      "No baseline correction applied\n",
      "Loading data for 445 events and 501 original time points ...\n",
      "0 bad epochs dropped\n",
      "Using EOG channels: VEO, HEO\n",
      "... filtering ICA sources\n",
      "Setting up band-pass filter from 1 - 10 Hz\n",
      "\n",
      "FIR filter parameters\n",
      "---------------------\n",
      "Designing a two-pass forward and reverse, zero-phase, non-causal bandpass filter:\n",
      "- Windowed frequency-domain design (firwin2) method\n",
      "- Hann window\n",
      "- Lower passband edge: 1.00\n",
      "- Lower transition bandwidth: 0.50 Hz (-12 dB cutoff frequency: 0.75 Hz)\n",
      "- Upper passband edge: 10.00 Hz\n",
      "- Upper transition bandwidth: 0.50 Hz (-12 dB cutoff frequency: 10.25 Hz)\n",
      "- Filter length: 5000 samples (10.000 sec)\n",
      "\n",
      "... filtering target\n",
      "Setting up band-pass filter from 1 - 10 Hz\n",
      "\n",
      "FIR filter parameters\n",
      "---------------------\n",
      "Designing a two-pass forward and reverse, zero-phase, non-causal bandpass filter:\n",
      "- Windowed frequency-domain design (firwin2) method\n",
      "- Hann window\n",
      "- Lower passband edge: 1.00\n",
      "- Lower transition bandwidth: 0.50 Hz (-12 dB cutoff frequency: 0.75 Hz)\n",
      "- Upper passband edge: 10.00 Hz\n",
      "- Upper transition bandwidth: 0.50 Hz (-12 dB cutoff frequency: 10.25 Hz)\n",
      "- Filter length: 5000 samples (10.000 sec)\n",
      "\n",
      "... filtering ICA sources\n",
      "Setting up band-pass filter from 1 - 10 Hz\n",
      "\n",
      "FIR filter parameters\n",
      "---------------------\n",
      "Designing a two-pass forward and reverse, zero-phase, non-causal bandpass filter:\n",
      "- Windowed frequency-domain design (firwin2) method\n",
      "- Hann window\n",
      "- Lower passband edge: 1.00\n",
      "- Lower transition bandwidth: 0.50 Hz (-12 dB cutoff frequency: 0.75 Hz)\n",
      "- Upper passband edge: 10.00 Hz\n",
      "- Upper transition bandwidth: 0.50 Hz (-12 dB cutoff frequency: 10.25 Hz)\n",
      "- Filter length: 5000 samples (10.000 sec)\n",
      "\n",
      "... filtering target\n",
      "Setting up band-pass filter from 1 - 10 Hz\n",
      "\n",
      "FIR filter parameters\n",
      "---------------------\n",
      "Designing a two-pass forward and reverse, zero-phase, non-causal bandpass filter:\n",
      "- Windowed frequency-domain design (firwin2) method\n",
      "- Hann window\n",
      "- Lower passband edge: 1.00\n",
      "- Lower transition bandwidth: 0.50 Hz (-12 dB cutoff frequency: 0.75 Hz)\n",
      "- Upper passband edge: 10.00 Hz\n",
      "- Upper transition bandwidth: 0.50 Hz (-12 dB cutoff frequency: 10.25 Hz)\n",
      "- Filter length: 5000 samples (10.000 sec)\n",
      "\n",
      "    Searching for artifacts...\n",
      "    found 1 artifact by skewness\n",
      "    found 1 artifact by kurtosis\n",
      "    found 1 artifact by variance\n",
      "Artifact indices found:\n",
      "    0, 8, 2\n",
      "Ready.\n",
      "Using threshold: 0.23 for CTPS ECG detection\n",
      "Using channel EKG to identify heart beats.\n",
      "Setting up band-pass filter from 8 - 16 Hz\n",
      "\n",
      "FIR filter parameters\n",
      "---------------------\n",
      "Designing a two-pass forward and reverse, zero-phase, non-causal bandpass filter:\n",
      "- Windowed frequency-domain design (firwin2) method\n",
      "- Hann window\n",
      "- Lower passband edge: 8.00\n",
      "- Lower transition bandwidth: 0.50 Hz (-12 dB cutoff frequency: 7.75 Hz)\n",
      "- Upper passband edge: 16.00 Hz\n",
      "- Upper transition bandwidth: 0.50 Hz (-12 dB cutoff frequency: 16.25 Hz)\n",
      "- Filter length: 5000 samples (10.000 sec)\n",
      "\n",
      "Number of ECG events detected : 449 (average pulse 52 / min.)\n",
      "Not setting metadata\n",
      "Not setting metadata\n",
      "449 matching events found\n",
      "No baseline correction applied\n",
      "Loading data for 449 events and 501 original time points ...\n",
      "0 bad epochs dropped\n",
      "Using EOG channels: VEO, HEO\n",
      "... filtering ICA sources\n",
      "Setting up band-pass filter from 1 - 10 Hz\n",
      "\n",
      "FIR filter parameters\n",
      "---------------------\n",
      "Designing a two-pass forward and reverse, zero-phase, non-causal bandpass filter:\n",
      "- Windowed frequency-domain design (firwin2) method\n",
      "- Hann window\n",
      "- Lower passband edge: 1.00\n",
      "- Lower transition bandwidth: 0.50 Hz (-12 dB cutoff frequency: 0.75 Hz)\n",
      "- Upper passband edge: 10.00 Hz\n",
      "- Upper transition bandwidth: 0.50 Hz (-12 dB cutoff frequency: 10.25 Hz)\n",
      "- Filter length: 5000 samples (10.000 sec)\n",
      "\n",
      "... filtering target\n",
      "Setting up band-pass filter from 1 - 10 Hz\n",
      "\n",
      "FIR filter parameters\n",
      "---------------------\n",
      "Designing a two-pass forward and reverse, zero-phase, non-causal bandpass filter:\n",
      "- Windowed frequency-domain design (firwin2) method\n",
      "- Hann window\n",
      "- Lower passband edge: 1.00\n",
      "- Lower transition bandwidth: 0.50 Hz (-12 dB cutoff frequency: 0.75 Hz)\n",
      "- Upper passband edge: 10.00 Hz\n",
      "- Upper transition bandwidth: 0.50 Hz (-12 dB cutoff frequency: 10.25 Hz)\n",
      "- Filter length: 5000 samples (10.000 sec)\n",
      "\n",
      "... filtering ICA sources\n",
      "Setting up band-pass filter from 1 - 10 Hz\n",
      "\n",
      "FIR filter parameters\n",
      "---------------------\n",
      "Designing a two-pass forward and reverse, zero-phase, non-causal bandpass filter:\n",
      "- Windowed frequency-domain design (firwin2) method\n",
      "- Hann window\n",
      "- Lower passband edge: 1.00\n",
      "- Lower transition bandwidth: 0.50 Hz (-12 dB cutoff frequency: 0.75 Hz)\n",
      "- Upper passband edge: 10.00 Hz\n",
      "- Upper transition bandwidth: 0.50 Hz (-12 dB cutoff frequency: 10.25 Hz)\n",
      "- Filter length: 5000 samples (10.000 sec)\n",
      "\n",
      "... filtering target\n",
      "Setting up band-pass filter from 1 - 10 Hz\n",
      "\n",
      "FIR filter parameters\n",
      "---------------------\n",
      "Designing a two-pass forward and reverse, zero-phase, non-causal bandpass filter:\n",
      "- Windowed frequency-domain design (firwin2) method\n",
      "- Hann window\n",
      "- Lower passband edge: 1.00\n",
      "- Lower transition bandwidth: 0.50 Hz (-12 dB cutoff frequency: 0.75 Hz)\n",
      "- Upper passband edge: 10.00 Hz\n",
      "- Upper transition bandwidth: 0.50 Hz (-12 dB cutoff frequency: 10.25 Hz)\n",
      "- Filter length: 5000 samples (10.000 sec)\n",
      "\n",
      "    Searching for artifacts...\n",
      "    found 1 artifact by skewness\n",
      "    found 1 artifact by kurtosis\n",
      "    found 1 artifact by variance\n",
      "Artifact indices found:\n",
      "    1, 1, 11\n",
      "    Removing duplicate indices...\n",
      "Ready.\n",
      "Using threshold: 0.23 for CTPS ECG detection\n",
      "Using channel EKG to identify heart beats.\n",
      "Setting up band-pass filter from 8 - 16 Hz\n",
      "\n",
      "FIR filter parameters\n",
      "---------------------\n",
      "Designing a two-pass forward and reverse, zero-phase, non-causal bandpass filter:\n",
      "- Windowed frequency-domain design (firwin2) method\n",
      "- Hann window\n",
      "- Lower passband edge: 8.00\n",
      "- Lower transition bandwidth: 0.50 Hz (-12 dB cutoff frequency: 7.75 Hz)\n",
      "- Upper passband edge: 16.00 Hz\n",
      "- Upper transition bandwidth: 0.50 Hz (-12 dB cutoff frequency: 16.25 Hz)\n",
      "- Filter length: 5000 samples (10.000 sec)\n",
      "\n",
      "Number of ECG events detected : 650 (average pulse 77 / min.)\n",
      "Not setting metadata\n",
      "Not setting metadata\n",
      "650 matching events found\n",
      "No baseline correction applied\n",
      "Loading data for 650 events and 501 original time points ...\n",
      "0 bad epochs dropped\n",
      "Using EOG channels: VEO, HEO\n",
      "... filtering ICA sources\n",
      "Setting up band-pass filter from 1 - 10 Hz\n",
      "\n",
      "FIR filter parameters\n",
      "---------------------\n",
      "Designing a two-pass forward and reverse, zero-phase, non-causal bandpass filter:\n",
      "- Windowed frequency-domain design (firwin2) method\n",
      "- Hann window\n",
      "- Lower passband edge: 1.00\n",
      "- Lower transition bandwidth: 0.50 Hz (-12 dB cutoff frequency: 0.75 Hz)\n",
      "- Upper passband edge: 10.00 Hz\n",
      "- Upper transition bandwidth: 0.50 Hz (-12 dB cutoff frequency: 10.25 Hz)\n",
      "- Filter length: 5000 samples (10.000 sec)\n",
      "\n",
      "... filtering target\n",
      "Setting up band-pass filter from 1 - 10 Hz\n",
      "\n",
      "FIR filter parameters\n",
      "---------------------\n",
      "Designing a two-pass forward and reverse, zero-phase, non-causal bandpass filter:\n",
      "- Windowed frequency-domain design (firwin2) method\n",
      "- Hann window\n",
      "- Lower passband edge: 1.00\n",
      "- Lower transition bandwidth: 0.50 Hz (-12 dB cutoff frequency: 0.75 Hz)\n",
      "- Upper passband edge: 10.00 Hz\n",
      "- Upper transition bandwidth: 0.50 Hz (-12 dB cutoff frequency: 10.25 Hz)\n",
      "- Filter length: 5000 samples (10.000 sec)\n",
      "\n",
      "... filtering ICA sources\n",
      "Setting up band-pass filter from 1 - 10 Hz\n",
      "\n",
      "FIR filter parameters\n",
      "---------------------\n",
      "Designing a two-pass forward and reverse, zero-phase, non-causal bandpass filter:\n",
      "- Windowed frequency-domain design (firwin2) method\n",
      "- Hann window\n",
      "- Lower passband edge: 1.00\n",
      "- Lower transition bandwidth: 0.50 Hz (-12 dB cutoff frequency: 0.75 Hz)\n",
      "- Upper passband edge: 10.00 Hz\n",
      "- Upper transition bandwidth: 0.50 Hz (-12 dB cutoff frequency: 10.25 Hz)\n",
      "- Filter length: 5000 samples (10.000 sec)\n",
      "\n",
      "... filtering target\n",
      "Setting up band-pass filter from 1 - 10 Hz\n",
      "\n",
      "FIR filter parameters\n",
      "---------------------\n",
      "Designing a two-pass forward and reverse, zero-phase, non-causal bandpass filter:\n",
      "- Windowed frequency-domain design (firwin2) method\n",
      "- Hann window\n",
      "- Lower passband edge: 1.00\n",
      "- Lower transition bandwidth: 0.50 Hz (-12 dB cutoff frequency: 0.75 Hz)\n",
      "- Upper passband edge: 10.00 Hz\n",
      "- Upper transition bandwidth: 0.50 Hz (-12 dB cutoff frequency: 10.25 Hz)\n",
      "- Filter length: 5000 samples (10.000 sec)\n",
      "\n",
      "    Searching for artifacts...\n",
      "    found 1 artifact by skewness\n",
      "    found 1 artifact by kurtosis\n",
      "    found 1 artifact by variance\n",
      "Artifact indices found:\n",
      "    1, 1, 2\n",
      "    Removing duplicate indices...\n",
      "Ready.\n",
      "Using threshold: 0.23 for CTPS ECG detection\n",
      "Using channel EKG to identify heart beats.\n",
      "Setting up band-pass filter from 8 - 16 Hz\n",
      "\n",
      "FIR filter parameters\n",
      "---------------------\n",
      "Designing a two-pass forward and reverse, zero-phase, non-causal bandpass filter:\n",
      "- Windowed frequency-domain design (firwin2) method\n",
      "- Hann window\n",
      "- Lower passband edge: 8.00\n",
      "- Lower transition bandwidth: 0.50 Hz (-12 dB cutoff frequency: 7.75 Hz)\n",
      "- Upper passband edge: 16.00 Hz\n",
      "- Upper transition bandwidth: 0.50 Hz (-12 dB cutoff frequency: 16.25 Hz)\n",
      "- Filter length: 5000 samples (10.000 sec)\n",
      "\n",
      "Number of ECG events detected : 658 (average pulse 75 / min.)\n",
      "Not setting metadata\n",
      "Not setting metadata\n",
      "658 matching events found\n",
      "No baseline correction applied\n",
      "Loading data for 658 events and 501 original time points ...\n",
      "1 bad epochs dropped\n",
      "Using EOG channels: VEO, HEO\n",
      "... filtering ICA sources\n",
      "Setting up band-pass filter from 1 - 10 Hz\n",
      "\n",
      "FIR filter parameters\n",
      "---------------------\n",
      "Designing a two-pass forward and reverse, zero-phase, non-causal bandpass filter:\n",
      "- Windowed frequency-domain design (firwin2) method\n",
      "- Hann window\n",
      "- Lower passband edge: 1.00\n",
      "- Lower transition bandwidth: 0.50 Hz (-12 dB cutoff frequency: 0.75 Hz)\n",
      "- Upper passband edge: 10.00 Hz\n",
      "- Upper transition bandwidth: 0.50 Hz (-12 dB cutoff frequency: 10.25 Hz)\n",
      "- Filter length: 5000 samples (10.000 sec)\n",
      "\n",
      "... filtering target\n",
      "Setting up band-pass filter from 1 - 10 Hz\n",
      "\n",
      "FIR filter parameters\n",
      "---------------------\n",
      "Designing a two-pass forward and reverse, zero-phase, non-causal bandpass filter:\n",
      "- Windowed frequency-domain design (firwin2) method\n",
      "- Hann window\n",
      "- Lower passband edge: 1.00\n",
      "- Lower transition bandwidth: 0.50 Hz (-12 dB cutoff frequency: 0.75 Hz)\n",
      "- Upper passband edge: 10.00 Hz\n",
      "- Upper transition bandwidth: 0.50 Hz (-12 dB cutoff frequency: 10.25 Hz)\n",
      "- Filter length: 5000 samples (10.000 sec)\n",
      "\n",
      "... filtering ICA sources\n",
      "Setting up band-pass filter from 1 - 10 Hz\n",
      "\n",
      "FIR filter parameters\n",
      "---------------------\n",
      "Designing a two-pass forward and reverse, zero-phase, non-causal bandpass filter:\n",
      "- Windowed frequency-domain design (firwin2) method\n",
      "- Hann window\n",
      "- Lower passband edge: 1.00\n",
      "- Lower transition bandwidth: 0.50 Hz (-12 dB cutoff frequency: 0.75 Hz)\n",
      "- Upper passband edge: 10.00 Hz\n",
      "- Upper transition bandwidth: 0.50 Hz (-12 dB cutoff frequency: 10.25 Hz)\n",
      "- Filter length: 5000 samples (10.000 sec)\n",
      "\n",
      "... filtering target\n",
      "Setting up band-pass filter from 1 - 10 Hz\n",
      "\n",
      "FIR filter parameters\n",
      "---------------------\n",
      "Designing a two-pass forward and reverse, zero-phase, non-causal bandpass filter:\n",
      "- Windowed frequency-domain design (firwin2) method\n",
      "- Hann window\n",
      "- Lower passband edge: 1.00\n",
      "- Lower transition bandwidth: 0.50 Hz (-12 dB cutoff frequency: 0.75 Hz)\n",
      "- Upper passband edge: 10.00 Hz\n",
      "- Upper transition bandwidth: 0.50 Hz (-12 dB cutoff frequency: 10.25 Hz)\n",
      "- Filter length: 5000 samples (10.000 sec)\n",
      "\n",
      "    Searching for artifacts...\n",
      "    found 1 artifact by skewness\n",
      "    found 1 artifact by kurtosis\n",
      "    found 1 artifact by variance\n",
      "Artifact indices found:\n",
      "    11, 9, 1\n",
      "Ready.\n",
      "Using threshold: 0.23 for CTPS ECG detection\n",
      "Using channel EKG to identify heart beats.\n",
      "Setting up band-pass filter from 8 - 16 Hz\n",
      "\n",
      "FIR filter parameters\n",
      "---------------------\n",
      "Designing a two-pass forward and reverse, zero-phase, non-causal bandpass filter:\n",
      "- Windowed frequency-domain design (firwin2) method\n",
      "- Hann window\n",
      "- Lower passband edge: 8.00\n",
      "- Lower transition bandwidth: 0.50 Hz (-12 dB cutoff frequency: 7.75 Hz)\n",
      "- Upper passband edge: 16.00 Hz\n",
      "- Upper transition bandwidth: 0.50 Hz (-12 dB cutoff frequency: 16.25 Hz)\n",
      "- Filter length: 5000 samples (10.000 sec)\n",
      "\n",
      "Number of ECG events detected : 458 (average pulse 54 / min.)\n",
      "Not setting metadata\n",
      "Not setting metadata\n",
      "458 matching events found\n",
      "No baseline correction applied\n",
      "Loading data for 458 events and 501 original time points ...\n",
      "0 bad epochs dropped\n",
      "Using EOG channels: VEO, HEO\n",
      "... filtering ICA sources\n",
      "Setting up band-pass filter from 1 - 10 Hz\n",
      "\n",
      "FIR filter parameters\n",
      "---------------------\n",
      "Designing a two-pass forward and reverse, zero-phase, non-causal bandpass filter:\n",
      "- Windowed frequency-domain design (firwin2) method\n",
      "- Hann window\n",
      "- Lower passband edge: 1.00\n",
      "- Lower transition bandwidth: 0.50 Hz (-12 dB cutoff frequency: 0.75 Hz)\n",
      "- Upper passband edge: 10.00 Hz\n",
      "- Upper transition bandwidth: 0.50 Hz (-12 dB cutoff frequency: 10.25 Hz)\n",
      "- Filter length: 5000 samples (10.000 sec)\n",
      "\n",
      "... filtering target\n",
      "Setting up band-pass filter from 1 - 10 Hz\n",
      "\n",
      "FIR filter parameters\n",
      "---------------------\n",
      "Designing a two-pass forward and reverse, zero-phase, non-causal bandpass filter:\n",
      "- Windowed frequency-domain design (firwin2) method\n",
      "- Hann window\n",
      "- Lower passband edge: 1.00\n",
      "- Lower transition bandwidth: 0.50 Hz (-12 dB cutoff frequency: 0.75 Hz)\n",
      "- Upper passband edge: 10.00 Hz\n",
      "- Upper transition bandwidth: 0.50 Hz (-12 dB cutoff frequency: 10.25 Hz)\n",
      "- Filter length: 5000 samples (10.000 sec)\n",
      "\n",
      "... filtering ICA sources\n",
      "Setting up band-pass filter from 1 - 10 Hz\n",
      "\n",
      "FIR filter parameters\n",
      "---------------------\n",
      "Designing a two-pass forward and reverse, zero-phase, non-causal bandpass filter:\n",
      "- Windowed frequency-domain design (firwin2) method\n",
      "- Hann window\n",
      "- Lower passband edge: 1.00\n",
      "- Lower transition bandwidth: 0.50 Hz (-12 dB cutoff frequency: 0.75 Hz)\n",
      "- Upper passband edge: 10.00 Hz\n",
      "- Upper transition bandwidth: 0.50 Hz (-12 dB cutoff frequency: 10.25 Hz)\n",
      "- Filter length: 5000 samples (10.000 sec)\n",
      "\n",
      "... filtering target\n",
      "Setting up band-pass filter from 1 - 10 Hz\n",
      "\n",
      "FIR filter parameters\n",
      "---------------------\n",
      "Designing a two-pass forward and reverse, zero-phase, non-causal bandpass filter:\n",
      "- Windowed frequency-domain design (firwin2) method\n",
      "- Hann window\n",
      "- Lower passband edge: 1.00\n",
      "- Lower transition bandwidth: 0.50 Hz (-12 dB cutoff frequency: 0.75 Hz)\n",
      "- Upper passband edge: 10.00 Hz\n",
      "- Upper transition bandwidth: 0.50 Hz (-12 dB cutoff frequency: 10.25 Hz)\n",
      "- Filter length: 5000 samples (10.000 sec)\n",
      "\n",
      "    Searching for artifacts...\n",
      "    found 1 artifact by skewness\n",
      "    found 1 artifact by kurtosis\n",
      "    found 1 artifact by variance\n",
      "Artifact indices found:\n",
      "    15, 15, 4\n",
      "    Removing duplicate indices...\n",
      "Ready.\n",
      "Using threshold: 0.23 for CTPS ECG detection\n",
      "Using channel EKG to identify heart beats.\n",
      "Setting up band-pass filter from 8 - 16 Hz\n",
      "\n",
      "FIR filter parameters\n",
      "---------------------\n",
      "Designing a two-pass forward and reverse, zero-phase, non-causal bandpass filter:\n",
      "- Windowed frequency-domain design (firwin2) method\n",
      "- Hann window\n",
      "- Lower passband edge: 8.00\n",
      "- Lower transition bandwidth: 0.50 Hz (-12 dB cutoff frequency: 7.75 Hz)\n",
      "- Upper passband edge: 16.00 Hz\n",
      "- Upper transition bandwidth: 0.50 Hz (-12 dB cutoff frequency: 16.25 Hz)\n",
      "- Filter length: 5000 samples (10.000 sec)\n",
      "\n",
      "Number of ECG events detected : 480 (average pulse 54 / min.)\n",
      "Not setting metadata\n",
      "Not setting metadata\n",
      "480 matching events found\n",
      "No baseline correction applied\n",
      "Loading data for 480 events and 501 original time points ...\n",
      "0 bad epochs dropped\n",
      "Using EOG channels: VEO, HEO\n",
      "... filtering ICA sources\n",
      "Setting up band-pass filter from 1 - 10 Hz\n",
      "\n",
      "FIR filter parameters\n",
      "---------------------\n",
      "Designing a two-pass forward and reverse, zero-phase, non-causal bandpass filter:\n",
      "- Windowed frequency-domain design (firwin2) method\n",
      "- Hann window\n",
      "- Lower passband edge: 1.00\n",
      "- Lower transition bandwidth: 0.50 Hz (-12 dB cutoff frequency: 0.75 Hz)\n",
      "- Upper passband edge: 10.00 Hz\n",
      "- Upper transition bandwidth: 0.50 Hz (-12 dB cutoff frequency: 10.25 Hz)\n",
      "- Filter length: 5000 samples (10.000 sec)\n",
      "\n",
      "... filtering target\n",
      "Setting up band-pass filter from 1 - 10 Hz\n",
      "\n",
      "FIR filter parameters\n",
      "---------------------\n",
      "Designing a two-pass forward and reverse, zero-phase, non-causal bandpass filter:\n",
      "- Windowed frequency-domain design (firwin2) method\n",
      "- Hann window\n",
      "- Lower passband edge: 1.00\n",
      "- Lower transition bandwidth: 0.50 Hz (-12 dB cutoff frequency: 0.75 Hz)\n",
      "- Upper passband edge: 10.00 Hz\n",
      "- Upper transition bandwidth: 0.50 Hz (-12 dB cutoff frequency: 10.25 Hz)\n",
      "- Filter length: 5000 samples (10.000 sec)\n",
      "\n",
      "... filtering ICA sources\n",
      "Setting up band-pass filter from 1 - 10 Hz\n",
      "\n",
      "FIR filter parameters\n",
      "---------------------\n",
      "Designing a two-pass forward and reverse, zero-phase, non-causal bandpass filter:\n",
      "- Windowed frequency-domain design (firwin2) method\n",
      "- Hann window\n",
      "- Lower passband edge: 1.00\n",
      "- Lower transition bandwidth: 0.50 Hz (-12 dB cutoff frequency: 0.75 Hz)\n",
      "- Upper passband edge: 10.00 Hz\n",
      "- Upper transition bandwidth: 0.50 Hz (-12 dB cutoff frequency: 10.25 Hz)\n",
      "- Filter length: 5000 samples (10.000 sec)\n",
      "\n",
      "... filtering target\n",
      "Setting up band-pass filter from 1 - 10 Hz\n",
      "\n",
      "FIR filter parameters\n",
      "---------------------\n",
      "Designing a two-pass forward and reverse, zero-phase, non-causal bandpass filter:\n",
      "- Windowed frequency-domain design (firwin2) method\n",
      "- Hann window\n",
      "- Lower passband edge: 1.00\n",
      "- Lower transition bandwidth: 0.50 Hz (-12 dB cutoff frequency: 0.75 Hz)\n",
      "- Upper passband edge: 10.00 Hz\n",
      "- Upper transition bandwidth: 0.50 Hz (-12 dB cutoff frequency: 10.25 Hz)\n",
      "- Filter length: 5000 samples (10.000 sec)\n",
      "\n"
     ]
    }
   ],
   "source": [
    "#Marking bad components\n",
    "for f in files:\n",
    "    mark_artifacts(ica[f], raw[f])"
   ]
  },
  {
   "cell_type": "code",
   "execution_count": 30,
   "metadata": {
    "scrolled": true
   },
   "outputs": [
    {
     "name": "stdout",
     "output_type": "stream",
     "text": [
      "Creating RawArray with float64 data, n_channels=23, n_times=252340\n",
      "    Range : 0 ... 252339 =      0.000 ...   504.678 secs\n",
      "Ready.\n"
     ]
    },
    {
     "data": {
      "text/plain": [
       "<MNEBrowseFigure size 1920x894 with 4 Axes>"
      ]
     },
     "execution_count": 30,
     "metadata": {},
     "output_type": "execute_result"
    }
   ],
   "source": [
    "ica['10_1'].plot_sources(raw['10_1'])"
   ]
  },
  {
   "cell_type": "code",
   "execution_count": 31,
   "metadata": {
    "scrolled": true
   },
   "outputs": [
    {
     "name": "stdout",
     "output_type": "stream",
     "text": [
      "Applying ICA to Raw instance\n",
      "    Transforming to ICA space (20 components)\n",
      "    Zeroing out 3 ICA components\n",
      "    Projecting back using 61 PCA components\n",
      "Applying ICA to Raw instance\n",
      "    Transforming to ICA space (20 components)\n",
      "    Zeroing out 4 ICA components\n",
      "    Projecting back using 61 PCA components\n",
      "Applying ICA to Raw instance\n",
      "    Transforming to ICA space (20 components)\n",
      "    Zeroing out 5 ICA components\n",
      "    Projecting back using 61 PCA components\n",
      "Applying ICA to Raw instance\n",
      "    Transforming to ICA space (20 components)\n",
      "    Zeroing out 5 ICA components\n",
      "    Projecting back using 61 PCA components\n",
      "Applying ICA to Raw instance\n",
      "    Transforming to ICA space (20 components)\n",
      "    Zeroing out 4 ICA components\n",
      "    Projecting back using 61 PCA components\n",
      "Applying ICA to Raw instance\n",
      "    Transforming to ICA space (20 components)\n",
      "    Zeroing out 4 ICA components\n",
      "    Projecting back using 61 PCA components\n",
      "Applying ICA to Raw instance\n",
      "    Transforming to ICA space (20 components)\n",
      "    Zeroing out 4 ICA components\n",
      "    Projecting back using 61 PCA components\n",
      "Applying ICA to Raw instance\n",
      "    Transforming to ICA space (20 components)\n",
      "    Zeroing out 3 ICA components\n",
      "    Projecting back using 61 PCA components\n",
      "Applying ICA to Raw instance\n",
      "    Transforming to ICA space (20 components)\n",
      "    Zeroing out 5 ICA components\n",
      "    Projecting back using 61 PCA components\n",
      "Applying ICA to Raw instance\n",
      "    Transforming to ICA space (20 components)\n",
      "    Zeroing out 3 ICA components\n",
      "    Projecting back using 61 PCA components\n",
      "Applying ICA to Raw instance\n",
      "    Transforming to ICA space (20 components)\n",
      "    Zeroing out 6 ICA components\n",
      "    Projecting back using 61 PCA components\n",
      "Applying ICA to Raw instance\n",
      "    Transforming to ICA space (20 components)\n",
      "    Zeroing out 4 ICA components\n",
      "    Projecting back using 61 PCA components\n"
     ]
    }
   ],
   "source": [
    "#Applying ica\n",
    "for f in files:\n",
    "    ica[f].apply(raw[f], exclude = ica[f].exclude)"
   ]
  },
  {
   "cell_type": "code",
   "execution_count": 32,
   "metadata": {},
   "outputs": [
    {
     "name": "stdout",
     "output_type": "stream",
     "text": [
      "Channels marked as bad: none\n"
     ]
    }
   ],
   "source": [
    "raw['10_1'].plot();"
   ]
  },
  {
   "cell_type": "markdown",
   "metadata": {},
   "source": [
    "## Generating Events for all subjects"
   ]
  },
  {
   "cell_type": "code",
   "execution_count": 33,
   "metadata": {},
   "outputs": [
    {
     "name": "stdout",
     "output_type": "stream",
     "text": [
      "Used Annotations descriptions: ['1', '10', '2', '5', '9']\n",
      "Used Annotations descriptions: ['1', '10', '2', '3', '5', '9']\n",
      "Used Annotations descriptions: ['1', '10', '11', '2', '5', '9']\n",
      "Used Annotations descriptions: ['1', '10', '11', '2', '5', '9']\n",
      "Used Annotations descriptions: ['1', '10', '11', '2', '3', '5', '9']\n",
      "Used Annotations descriptions: ['1', '10', '2', '3', '5', '9']\n",
      "Used Annotations descriptions: ['1', '10', '2', '5', '9']\n",
      "Used Annotations descriptions: ['1', '10', '11', '2', '3', '5', '9']\n",
      "Used Annotations descriptions: ['1', '10', '2', '5', '9']\n",
      "Used Annotations descriptions: ['1', '10', '2', '5', '9']\n",
      "Used Annotations descriptions: ['1', '10', '11', '2', '3', '5', '9']\n",
      "Used Annotations descriptions: ['1', '10', '2', '3', '5', '9']\n"
     ]
    }
   ],
   "source": [
    "events = {}\n",
    "for f in files:\n",
    "    events[f] = mne.events_from_annotations(raw[f])"
   ]
  },
  {
   "cell_type": "code",
   "execution_count": 34,
   "metadata": {},
   "outputs": [
    {
     "data": {
      "text/plain": [
       "{'taskstart': '9',\n",
       " 'cue': '1',\n",
       " 'go': '2',\n",
       " 'button press': '5',\n",
       " 'no-go': '4',\n",
       " 'task end': '10',\n",
       " 'error 1': '3',\n",
       " 'error 2': '6',\n",
       " 'error 3': '7',\n",
       " 'error 4': '8',\n",
       " 'error 5': '11'}"
      ]
     },
     "execution_count": 34,
     "metadata": {},
     "output_type": "execute_result"
    }
   ],
   "source": [
    "#Creating event id Dictionary\n",
    "event_id = {\n",
    "    \"taskstart\" : '9',\n",
    "    \"cue\" : \"1\",\n",
    "    \"go\" : \"2\",\n",
    "    \"button press\" : \"5\",\n",
    "    \"no-go\" : \"4\",\n",
    "    \"task end\": \"10\",\n",
    "    \"error 1\" : \"3\",\n",
    "    \"error 2\" : \"6\",\n",
    "    \"error 3\" : \"7\",\n",
    "    \"error 4\" : \"8\",\n",
    "    \"error 5\" : \"11\"\n",
    "}\n",
    "event_id"
   ]
  },
  {
   "cell_type": "code",
   "execution_count": 42,
   "metadata": {},
   "outputs": [
    {
     "data": {
      "text/plain": [
       "{'1': 1, '10': 2, '2': 3, '5': 4, '9': 5}"
      ]
     },
     "execution_count": 42,
     "metadata": {},
     "output_type": "execute_result"
    }
   ],
   "source": [
    "events['10_1'][1]"
   ]
  },
  {
   "cell_type": "markdown",
   "metadata": {},
   "source": [
    "## Creating Epochs"
   ]
  },
  {
   "cell_type": "code",
   "execution_count": 35,
   "metadata": {
    "scrolled": true
   },
   "outputs": [
    {
     "name": "stdout",
     "output_type": "stream",
     "text": [
      "Not setting metadata\n",
      "Not setting metadata\n",
      "162 matching events found\n",
      "Applying baseline correction (mode: mean)\n",
      "0 projection items activated\n",
      "Loading data for 162 events and 351 original time points ...\n",
      "0 bad epochs dropped\n",
      "Not setting metadata\n",
      "Not setting metadata\n",
      "163 matching events found\n",
      "Applying baseline correction (mode: mean)\n",
      "0 projection items activated\n",
      "Loading data for 163 events and 351 original time points ...\n",
      "0 bad epochs dropped\n",
      "Not setting metadata\n",
      "Not setting metadata\n",
      "166 matching events found\n",
      "Applying baseline correction (mode: mean)\n",
      "0 projection items activated\n",
      "Loading data for 166 events and 351 original time points ...\n",
      "0 bad epochs dropped\n",
      "Not setting metadata\n",
      "Not setting metadata\n",
      "164 matching events found\n",
      "Applying baseline correction (mode: mean)\n",
      "0 projection items activated\n",
      "Loading data for 164 events and 351 original time points ...\n",
      "0 bad epochs dropped\n",
      "Not setting metadata\n",
      "Not setting metadata\n",
      "165 matching events found\n",
      "Applying baseline correction (mode: mean)\n",
      "0 projection items activated\n",
      "Loading data for 165 events and 351 original time points ...\n",
      "0 bad epochs dropped\n",
      "Not setting metadata\n",
      "Not setting metadata\n",
      "164 matching events found\n",
      "Applying baseline correction (mode: mean)\n",
      "0 projection items activated\n",
      "Loading data for 164 events and 351 original time points ...\n",
      "0 bad epochs dropped\n",
      "Not setting metadata\n",
      "Not setting metadata\n",
      "162 matching events found\n",
      "Applying baseline correction (mode: mean)\n",
      "0 projection items activated\n",
      "Loading data for 162 events and 351 original time points ...\n",
      "0 bad epochs dropped\n",
      "Not setting metadata\n",
      "Not setting metadata\n",
      "165 matching events found\n",
      "Applying baseline correction (mode: mean)\n",
      "0 projection items activated\n",
      "Loading data for 165 events and 351 original time points ...\n",
      "0 bad epochs dropped\n",
      "Not setting metadata\n",
      "Not setting metadata\n",
      "162 matching events found\n",
      "Applying baseline correction (mode: mean)\n",
      "0 projection items activated\n",
      "Loading data for 162 events and 351 original time points ...\n",
      "0 bad epochs dropped\n",
      "Not setting metadata\n",
      "Not setting metadata\n",
      "162 matching events found\n",
      "Applying baseline correction (mode: mean)\n",
      "0 projection items activated\n",
      "Loading data for 162 events and 351 original time points ...\n",
      "0 bad epochs dropped\n",
      "Not setting metadata\n",
      "Not setting metadata\n",
      "169 matching events found\n",
      "Applying baseline correction (mode: mean)\n",
      "0 projection items activated\n",
      "Loading data for 169 events and 351 original time points ...\n",
      "0 bad epochs dropped\n",
      "Not setting metadata\n",
      "Not setting metadata\n",
      "162 matching events found\n",
      "Applying baseline correction (mode: mean)\n",
      "0 projection items activated\n",
      "Loading data for 162 events and 351 original time points ...\n",
      "0 bad epochs dropped\n"
     ]
    }
   ],
   "source": [
    "#Creating epochs\n",
    "epochs = {}\n",
    "for f in files:\n",
    "    epochs[f] = mne.Epochs(raw[f],\n",
    "                   events = events[f][0],\n",
    "                   event_id = events[f][1],\n",
    "                           baseline = (-0.2, 0),\n",
    "                           tmin = -0.2,\n",
    "                           tmax = 0.5,\n",
    "                          preload = True)"
   ]
  },
  {
   "cell_type": "code",
   "execution_count": 43,
   "metadata": {},
   "outputs": [
    {
     "name": "stdout",
     "output_type": "stream",
     "text": [
      "Dropped 0 epochs: \n",
      "Channels marked as bad: none\n"
     ]
    }
   ],
   "source": [
    "epochs['10_1'].plot();"
   ]
  },
  {
   "cell_type": "code",
   "execution_count": 37,
   "metadata": {},
   "outputs": [
    {
     "name": "stdout",
     "output_type": "stream",
     "text": [
      "Not setting metadata\n",
      "Not setting metadata\n",
      "162 matching events found\n",
      "No baseline correction applied\n",
      "0 projection items activated\n",
      "0 bad epochs dropped\n",
      "combining channels using \"gfp\"\n"
     ]
    }
   ],
   "source": [
    "epochs['10_1'].plot_image();"
   ]
  },
  {
   "cell_type": "code",
   "execution_count": 38,
   "metadata": {},
   "outputs": [
    {
     "name": "stdout",
     "output_type": "stream",
     "text": [
      "Not setting metadata\n",
      "Not setting metadata\n",
      "50 matching events found\n",
      "No baseline correction applied\n",
      "0 projection items activated\n",
      "0 bad epochs dropped\n",
      "combining channels using \"gfp\"\n"
     ]
    }
   ],
   "source": [
    "epochs['10_1'][\"5\"].plot_image();"
   ]
  },
  {
   "cell_type": "code",
   "execution_count": 39,
   "metadata": {},
   "outputs": [
    {
     "name": "stdout",
     "output_type": "stream",
     "text": [
      "Not setting metadata\n",
      "Not setting metadata\n",
      "50 matching events found\n",
      "No baseline correction applied\n",
      "0 projection items activated\n",
      "0 bad epochs dropped\n",
      "combining channels using \"gfp\"\n"
     ]
    }
   ],
   "source": [
    "epochs['10_1'][\"2\"].plot_image();"
   ]
  },
  {
   "cell_type": "code",
   "execution_count": 44,
   "metadata": {},
   "outputs": [
    {
     "data": {
      "text/plain": [
       "(162, 61, 351)"
      ]
     },
     "execution_count": 44,
     "metadata": {},
     "output_type": "execute_result"
    }
   ],
   "source": [
    "epochs['10_1'].get_data(picks = 'eeg').shape"
   ]
  },
  {
   "cell_type": "markdown",
   "metadata": {},
   "source": [
    "# Creating evoked data"
   ]
  },
  {
   "cell_type": "code",
   "execution_count": 48,
   "metadata": {},
   "outputs": [],
   "source": [
    "evoked_bp = epochs[\"10_1\"]['5'].average()\n",
    "evoked_go = epochs[\"10_1\"]['2'].average()"
   ]
  },
  {
   "cell_type": "code",
   "execution_count": 49,
   "metadata": {},
   "outputs": [],
   "source": [
    "evoked_bp.plot(spatial_colors = True);\n",
    "evoked_go.plot(spatial_colors = True);"
   ]
  },
  {
   "cell_type": "code",
   "execution_count": 50,
   "metadata": {},
   "outputs": [],
   "source": [
    "#to fix event ids\n",
    "def get_keys_from_value(d, val):\n",
    "    return [k for k, v in d.items() if v == val]\n",
    "def fix_event_ids(epochs, events):\n",
    "    for i in range(epochs.events.shape[0]):\n",
    "        epochs.events[i][2] = int(get_keys_from_value(events[1], epochs.events[i][2])[0])"
   ]
  },
  {
   "cell_type": "code",
   "execution_count": 51,
   "metadata": {},
   "outputs": [],
   "source": [
    "#fix event ids\n",
    "for f in files:\n",
    "    fix_event_ids(epochs[f], events[f])"
   ]
  },
  {
   "cell_type": "markdown",
   "metadata": {},
   "source": [
    "# Applying Machine learning for classification"
   ]
  },
  {
   "cell_type": "code",
   "execution_count": 52,
   "metadata": {},
   "outputs": [],
   "source": [
    "#Loading important libraries\n",
    "import numpy as np\n",
    "import tensorflow as tf\n",
    "import matplotlib.pyplot as plt\n",
    "%matplotlib inline\n",
    "\n",
    "from tensorflow.keras.models import Model, Sequential\n",
    "from tensorflow.keras.layers import Dense, Softmax\n",
    "from tensorflow.keras.optimizers import Adam\n",
    "from tensorflow.keras.callbacks import EarlyStopping, ModelCheckpoint"
   ]
  },
  {
   "cell_type": "markdown",
   "metadata": {},
   "source": [
    "## Preparing data"
   ]
  },
  {
   "cell_type": "code",
   "execution_count": 53,
   "metadata": {
    "scrolled": true
   },
   "outputs": [],
   "source": [
    "#Getting epoch data\n",
    "datadic = {}\n",
    "for f in files:\n",
    "    datadic[f] = epochs[f].get_data(picks = 'eeg')"
   ]
  },
  {
   "cell_type": "code",
   "execution_count": 54,
   "metadata": {},
   "outputs": [],
   "source": [
    "# epochs['10_1'].plot()"
   ]
  },
  {
   "cell_type": "code",
   "execution_count": 55,
   "metadata": {},
   "outputs": [
    {
     "name": "stdout",
     "output_type": "stream",
     "text": [
      "(1966, 61, 351)\n",
      "351 X 61\n"
     ]
    },
    {
     "data": {
      "text/plain": [
       "(1966, 351, 61)"
      ]
     },
     "execution_count": 55,
     "metadata": {},
     "output_type": "execute_result"
    }
   ],
   "source": [
    "#Concatenating data\n",
    "data = np.concatenate(list(datadic.values()), \n",
    "                      axis = 0)\n",
    "print(data.shape)\n",
    "\n",
    "#Changing the shape of data from (events, channel, time points) to (events, time points, channel)\n",
    "datars = np.zeros((data.shape[0], data.shape[2], data.shape[1]))\n",
    "for i in range(datars.shape[0]):\n",
    "    datars[i] = np.transpose(data[i])\n",
    "    \n",
    "dims_lstm_1 = datars.shape[1]\n",
    "dims_lstm_2 = datars.shape[2]\n",
    "print(dims_lstm_1, \"X\", dims_lstm_2)\n",
    "datars.shape"
   ]
  },
  {
   "cell_type": "code",
   "execution_count": 56,
   "metadata": {},
   "outputs": [
    {
     "name": "stdout",
     "output_type": "stream",
     "text": [
      "(1966, 21411)\n"
     ]
    },
    {
     "data": {
      "text/plain": [
       "21411"
      ]
     },
     "execution_count": 56,
     "metadata": {},
     "output_type": "execute_result"
    }
   ],
   "source": [
    "n_trials = data.shape[0]\n",
    "\n",
    "\n",
    "data = data.reshape(n_trials, -1)\n",
    "print(data.shape)\n",
    "dims_ip = data.shape[1]\n",
    "dims_ip"
   ]
  },
  {
   "cell_type": "code",
   "execution_count": 57,
   "metadata": {},
   "outputs": [],
   "source": [
    "#Getting y\n",
    "ydic = {}\n",
    "for f in files:\n",
    "    ydic[f] = epochs[f].events[:, 2]\n",
    "y = np.concatenate(list(ydic.values()), axis = 0)"
   ]
  },
  {
   "cell_type": "code",
   "execution_count": 58,
   "metadata": {},
   "outputs": [
    {
     "name": "stdout",
     "output_type": "stream",
     "text": [
      "(1966, 351, 61)\n",
      "(1966, 1)\n",
      "(1966, 21412)\n",
      "(1966, 21411)\n",
      "(1966,)\n"
     ]
    }
   ],
   "source": [
    "#Preparing main dataset\n",
    "y = y.reshape(-1, 1)\n",
    "# y = y[...,np.newaxis]\n",
    "datarscopy = datars.copy()\n",
    "datarscopy = datarscopy.reshape(datars.shape[0], -1)\n",
    "\n",
    "print(datars.shape)\n",
    "print(y.shape)\n",
    "main_dataset = np.concatenate((datarscopy, y), axis = 1)\n",
    "print(main_dataset.shape)\n",
    "\n",
    "#Defining main x and y for training\n",
    "main_x = main_dataset[:, :-1]\n",
    "main_y = main_dataset[:, -1]\n",
    "print(main_x.shape)\n",
    "print(main_y.shape)"
   ]
  },
  {
   "cell_type": "code",
   "execution_count": 59,
   "metadata": {},
   "outputs": [],
   "source": [
    "# # Clearing memory\n",
    "# del unclean_raw\n",
    "# del raw\n",
    "# del ica\n",
    "# del events\n",
    "# del epochs"
   ]
  },
  {
   "cell_type": "markdown",
   "metadata": {},
   "source": [
    "## Classfying go/button press"
   ]
  },
  {
   "cell_type": "code",
   "execution_count": 67,
   "metadata": {},
   "outputs": [
    {
     "name": "stdout",
     "output_type": "stream",
     "text": [
      "(1966, 21412)\n",
      "(1206, 21412)\n",
      "(1206, 21411)\n",
      "(1206,)\n",
      "[2.0, 5.0]\n",
      "[ 1.77596324e-05  1.99160857e-05  1.11069031e-05 ... -5.87175923e-06\n",
      " -5.65372286e-06 -5.90123886e-06]\n",
      "[-4.18783778e-06  9.37355308e-06 -1.93110880e-05 ... -1.12295537e-05\n",
      " -1.09393859e-05 -1.40837331e-05]\n"
     ]
    }
   ],
   "source": [
    "#Removing events which are not needed for current task\n",
    "dataset = main_dataset.copy()\n",
    "print(dataset.shape)\n",
    "dataset = dataset[dataset[:, -1]!=9]\n",
    "dataset = dataset[dataset[:, -1]!=10]\n",
    "\n",
    "dataset = dataset[dataset[:, -1]!=1]\n",
    "dataset = dataset[dataset[:, -1]!=3]\n",
    "dataset = dataset[dataset[:, -1]!=4]\n",
    "dataset = dataset[dataset[:, -1]!=6]\n",
    "dataset = dataset[dataset[:, -1]!=7]\n",
    "dataset = dataset[dataset[:, -1]!=8]\n",
    "dataset = dataset[dataset[:, -1]!=11]\n",
    "\n",
    "print(dataset.shape)\n",
    "\n",
    "#Defining x and y\n",
    "x = dataset[:, :-1]\n",
    "y = dataset[:, -1]\n",
    "print(x.shape)\n",
    "print(y.shape)\n",
    "print(list(set(y)))\n",
    "\n",
    "permutations = np.random.permutation(len(x))\n",
    "# print(permutation)\n",
    "print(x[-1])\n",
    "x = x[permutations]\n",
    "y = y[permutations]\n",
    "print(x[-1])\n",
    "\n",
    "xmlp = x.copy()\n",
    "ymlp = y.copy()\n",
    "\n",
    "xlstm = x.copy().reshape((-1, dims_lstm_1, dims_lstm_2))\n",
    "ylstm = y.copy()\n",
    "\n",
    "xcnn = x.copy().reshape((-1, dims_lstm_1, dims_lstm_2))\n",
    "ycnn = y.copy()"
   ]
  },
  {
   "cell_type": "code",
   "execution_count": 68,
   "metadata": {},
   "outputs": [
    {
     "name": "stdout",
     "output_type": "stream",
     "text": [
      "[0.0, 1.0]\n"
     ]
    }
   ],
   "source": [
    "#Encoding y\n",
    "dict = {2.0: 0,5.0: 1}\n",
    "\n",
    "for i in range(len(y)):\n",
    "    y[i] = dict[y[i]]\n",
    "    ylstm[i] = dict[ylstm[i]]\n",
    "\n",
    "print(list(set(y)))"
   ]
  },
  {
   "cell_type": "code",
   "execution_count": 69,
   "metadata": {},
   "outputs": [
    {
     "name": "stdout",
     "output_type": "stream",
     "text": [
      "[[0. 1.]\n",
      " [1. 0.]\n",
      " [0. 1.]\n",
      " [0. 1.]\n",
      " [1. 0.]]\n"
     ]
    }
   ],
   "source": [
    "num_classes = 2\n",
    "y = tf.keras.utils.to_categorical(y, num_classes)\n",
    "ymlp = y.copy()\n",
    "ylstm = y.copy()\n",
    "ycnn = y.copy()\n",
    "# yab10_1[0]\n",
    "print(y[:5])"
   ]
  },
  {
   "cell_type": "code",
   "execution_count": 70,
   "metadata": {},
   "outputs": [
    {
     "name": "stdout",
     "output_type": "stream",
     "text": [
      "964\n"
     ]
    }
   ],
   "source": [
    "train_test_split = int(0.8 * len(xmlp))\n",
    "print(train_test_split)\n",
    "\n",
    "x_train_mlp = xmlp[:train_test_split]\n",
    "y_train_mlp = ymlp[:train_test_split]\n",
    "\n",
    "x_test_mlp = xmlp[train_test_split:]\n",
    "y_test_mlp = ymlp[train_test_split:]\n",
    "\n",
    "# x_mlp_train = xmlp[:]"
   ]
  },
  {
   "cell_type": "code",
   "execution_count": 71,
   "metadata": {},
   "outputs": [],
   "source": [
    "def get_cyclic_generator(features, labels, batch_size = 1):\n",
    "  while True:\n",
    "    for n in range(features.shape[0]//batch_size):\n",
    "      yield (features[n*batch_size: (n+1)*batch_size], labels[n*batch_size: (n+1)*batch_size])\n",
    "    permuted = np.random.permutation(len(features))\n",
    "    features = features[permuted]\n",
    "    labels = labels[permuted]"
   ]
  },
  {
   "cell_type": "code",
   "execution_count": 72,
   "metadata": {},
   "outputs": [],
   "source": [
    "train_batch_size = 32\n",
    "train_cyclic_generator_mlp = get_cyclic_generator(x_train_mlp, y_train_mlp, batch_size = train_batch_size)\n",
    "# test_cyclic_generator_mlp = get_cyclic_generator(x_test_mlp, y_test_mlp, batch_size = train_batch_size)"
   ]
  },
  {
   "cell_type": "markdown",
   "metadata": {},
   "source": [
    "### Training on MLP Model"
   ]
  },
  {
   "cell_type": "code",
   "execution_count": 73,
   "metadata": {},
   "outputs": [
    {
     "name": "stdout",
     "output_type": "stream",
     "text": [
      "Model: \"model\"\n",
      "_________________________________________________________________\n",
      "Layer (type)                 Output Shape              Param #   \n",
      "=================================================================\n",
      "input_1 (InputLayer)         [(None, 21411)]           0         \n",
      "_________________________________________________________________\n",
      "dense (Dense)                (None, 32)                685184    \n",
      "_________________________________________________________________\n",
      "dropout (Dropout)            (None, 32)                0         \n",
      "_________________________________________________________________\n",
      "dense_1 (Dense)              (None, 16)                528       \n",
      "_________________________________________________________________\n",
      "dropout_1 (Dropout)          (None, 16)                0         \n",
      "_________________________________________________________________\n",
      "dense_2 (Dense)              (None, 2)                 34        \n",
      "=================================================================\n",
      "Total params: 685,746\n",
      "Trainable params: 685,746\n",
      "Non-trainable params: 0\n",
      "_________________________________________________________________\n"
     ]
    }
   ],
   "source": [
    "#Creating model architecture\n",
    "inp_shape = (dims_ip, )\n",
    "ip = tf.keras.Input(shape = inp_shape)\n",
    "dense1 = tf.keras.layers.Dense(units = 32, activation = 'relu', kernel_initializer = 'random_normal')(ip)\n",
    "drop = tf.keras.layers.Dropout(.4)(dense1)\n",
    "dense2 = tf.keras.layers.Dense(units = 16, activation = 'relu', kernel_initializer = 'random_normal')(drop)\n",
    "drop2 = tf.keras.layers.Dropout(.4)(dense2)\n",
    "out = tf.keras.layers.Dense(num_classes, activation = 'softmax')(drop2)\n",
    "\n",
    "mlp = tf.keras.Model(inputs = ip, outputs = out)\n",
    "mlp.summary()\n",
    "# inp_shape = (None, )\n",
    "# review_sequence = tf.keras.Input(shape = inp_shape)\n",
    "# embedding_sequence = tf.keras.layers.Embedding(input_dim=100+1, output_dim=32, input_shape=(review_sequence.shape), mask_zero=False)(review_sequence)\n",
    "# average_embedding = tf.keras.layers.GlobalAveragePooling1D()(embedding_sequence)\n",
    "# positive_probability = tf.keras.layers.Dense(units=1, activation='sigmoid')(average_embedding)\n",
    "\n",
    "# model = tf.keras.Model(inputs = review_sequence, outputs = positive_probability)"
   ]
  },
  {
   "cell_type": "code",
   "execution_count": 74,
   "metadata": {},
   "outputs": [],
   "source": [
    "# Compiling the model\n",
    "mlp_earlystop = EarlyStopping(patience = 10, min_delta = 0.001, monitor = 'val_acc')\n",
    "\n",
    "path = 'mlp_checkpoint/checkpoint_{epoch:02d}';\n",
    "mlp_checkpoint = ModelCheckpoint(filepath = path,\n",
    "                            verbose = 1,\n",
    "                            monitor = 'val_acc',\n",
    "                            save_freq = 'epoch',\n",
    "                            save_best_only = True,\n",
    "                            save_weights_only = True)\n",
    "\n",
    "mlp.compile(loss = 'categorical_crossentropy', metrics = ['acc'], optimizer = 'adam')"
   ]
  },
  {
   "cell_type": "code",
   "execution_count": 75,
   "metadata": {
    "scrolled": true
   },
   "outputs": [
    {
     "name": "stdout",
     "output_type": "stream",
     "text": [
      "Epoch 1/50\n",
      "449/449 [==============================] - 20s 20ms/step - loss: 0.6933 - acc: 0.5003 - val_loss: 0.6935 - val_acc: 0.4752\n",
      "\n",
      "Epoch 00001: val_acc improved from -inf to 0.47521, saving model to mlp_checkpoint\\checkpoint_01\n",
      "Epoch 2/50\n",
      "449/449 [==============================] - 5s 11ms/step - loss: 0.6932 - acc: 0.5029 - val_loss: 0.6935 - val_acc: 0.4752\n",
      "\n",
      "Epoch 00002: val_acc did not improve from 0.47521\n",
      "Epoch 3/50\n",
      "449/449 [==============================] - 6s 13ms/step - loss: 0.6931 - acc: 0.5036 - val_loss: 0.6935 - val_acc: 0.4752\n",
      "\n",
      "Epoch 00003: val_acc did not improve from 0.47521\n",
      "Epoch 4/50\n",
      "449/449 [==============================] - 5s 11ms/step - loss: 0.6871 - acc: 0.5388 - val_loss: 0.6776 - val_acc: 0.6322\n",
      "\n",
      "Epoch 00004: val_acc improved from 0.47521 to 0.63223, saving model to mlp_checkpoint\\checkpoint_04\n",
      "Epoch 5/50\n",
      "449/449 [==============================] - 5s 11ms/step - loss: 0.6593 - acc: 0.6224 - val_loss: 0.6361 - val_acc: 0.7066\n",
      "\n",
      "Epoch 00005: val_acc improved from 0.63223 to 0.70661, saving model to mlp_checkpoint\\checkpoint_05\n",
      "Epoch 6/50\n",
      "449/449 [==============================] - 5s 11ms/step - loss: 0.6242 - acc: 0.6456 - val_loss: 0.5834 - val_acc: 0.7686\n",
      "\n",
      "Epoch 00006: val_acc improved from 0.70661 to 0.76860, saving model to mlp_checkpoint\\checkpoint_06\n",
      "Epoch 7/50\n",
      "449/449 [==============================] - 4s 9ms/step - loss: 0.6009 - acc: 0.6604 - val_loss: 0.5577 - val_acc: 0.8017\n",
      "\n",
      "Epoch 00007: val_acc improved from 0.76860 to 0.80165, saving model to mlp_checkpoint\\checkpoint_07\n",
      "Epoch 8/50\n",
      "449/449 [==============================] - 4s 9ms/step - loss: 0.5825 - acc: 0.6741 - val_loss: 0.5271 - val_acc: 0.8099\n",
      "\n",
      "Epoch 00008: val_acc improved from 0.80165 to 0.80992, saving model to mlp_checkpoint\\checkpoint_08\n",
      "Epoch 9/50\n",
      "449/449 [==============================] - 5s 10ms/step - loss: 0.5634 - acc: 0.6899 - val_loss: 0.5078 - val_acc: 0.8223\n",
      "\n",
      "Epoch 00009: val_acc improved from 0.80992 to 0.82231, saving model to mlp_checkpoint\\checkpoint_09\n",
      "Epoch 10/50\n",
      "449/449 [==============================] - 4s 9ms/step - loss: 0.5499 - acc: 0.6915 - val_loss: 0.4898 - val_acc: 0.8223\n",
      "\n",
      "Epoch 00010: val_acc did not improve from 0.82231\n",
      "Epoch 11/50\n",
      "449/449 [==============================] - 5s 10ms/step - loss: 0.5340 - acc: 0.7020 - val_loss: 0.4671 - val_acc: 0.8223\n",
      "\n",
      "Epoch 00011: val_acc did not improve from 0.82231\n",
      "Epoch 12/50\n",
      "449/449 [==============================] - 5s 11ms/step - loss: 0.5226 - acc: 0.7091 - val_loss: 0.4504 - val_acc: 0.8347\n",
      "\n",
      "Epoch 00012: val_acc improved from 0.82231 to 0.83471, saving model to mlp_checkpoint\\checkpoint_12\n",
      "Epoch 13/50\n",
      "449/449 [==============================] - 5s 11ms/step - loss: 0.5089 - acc: 0.7169 - val_loss: 0.4363 - val_acc: 0.8306\n",
      "\n",
      "Epoch 00013: val_acc did not improve from 0.83471\n",
      "Epoch 14/50\n",
      "449/449 [==============================] - 5s 11ms/step - loss: 0.5043 - acc: 0.7165 - val_loss: 0.4209 - val_acc: 0.8347\n",
      "\n",
      "Epoch 00014: val_acc did not improve from 0.83471\n",
      "Epoch 15/50\n",
      "449/449 [==============================] - 5s 11ms/step - loss: 0.4908 - acc: 0.7227 - val_loss: 0.4073 - val_acc: 0.8388\n",
      "\n",
      "Epoch 00015: val_acc improved from 0.83471 to 0.83884, saving model to mlp_checkpoint\\checkpoint_15\n",
      "Epoch 16/50\n",
      "449/449 [==============================] - 5s 11ms/step - loss: 0.4734 - acc: 0.7340 - val_loss: 0.3939 - val_acc: 0.8636\n",
      "\n",
      "Epoch 00016: val_acc improved from 0.83884 to 0.86364, saving model to mlp_checkpoint\\checkpoint_16\n",
      "Epoch 17/50\n",
      "449/449 [==============================] - 5s 11ms/step - loss: 0.4627 - acc: 0.7424 - val_loss: 0.3785 - val_acc: 0.8636\n",
      "\n",
      "Epoch 00017: val_acc did not improve from 0.86364\n",
      "Epoch 18/50\n",
      "449/449 [==============================] - 5s 12ms/step - loss: 0.4537 - acc: 0.7423 - val_loss: 0.3635 - val_acc: 0.8802\n",
      "\n",
      "Epoch 00018: val_acc improved from 0.86364 to 0.88017, saving model to mlp_checkpoint\\checkpoint_18\n",
      "Epoch 19/50\n",
      "449/449 [==============================] - 5s 11ms/step - loss: 0.4529 - acc: 0.7442 - val_loss: 0.3592 - val_acc: 0.8678\n",
      "\n",
      "Epoch 00019: val_acc did not improve from 0.88017\n",
      "Epoch 20/50\n",
      "449/449 [==============================] - 5s 10ms/step - loss: 0.4422 - acc: 0.7454 - val_loss: 0.3630 - val_acc: 0.8678\n",
      "\n",
      "Epoch 00020: val_acc did not improve from 0.88017\n",
      "Epoch 21/50\n",
      "449/449 [==============================] - 5s 11ms/step - loss: 0.4325 - acc: 0.7489 - val_loss: 0.3577 - val_acc: 0.8802\n",
      "\n",
      "Epoch 00021: val_acc did not improve from 0.88017\n",
      "Epoch 22/50\n",
      "449/449 [==============================] - 5s 11ms/step - loss: 0.4226 - acc: 0.7547 - val_loss: 0.3364 - val_acc: 0.8884\n",
      "\n",
      "Epoch 00022: val_acc improved from 0.88017 to 0.88843, saving model to mlp_checkpoint\\checkpoint_22\n",
      "Epoch 23/50\n",
      "449/449 [==============================] - 5s 11ms/step - loss: 0.4170 - acc: 0.7536 - val_loss: 0.3528 - val_acc: 0.8760\n",
      "\n",
      "Epoch 00023: val_acc did not improve from 0.88843\n",
      "Epoch 24/50\n",
      "449/449 [==============================] - 5s 11ms/step - loss: 0.4066 - acc: 0.7618 - val_loss: 0.3278 - val_acc: 0.8884\n",
      "\n",
      "Epoch 00024: val_acc did not improve from 0.88843\n",
      "Epoch 25/50\n",
      "449/449 [==============================] - 5s 11ms/step - loss: 0.3985 - acc: 0.7684 - val_loss: 0.3276 - val_acc: 0.8884\n",
      "\n",
      "Epoch 00025: val_acc did not improve from 0.88843\n",
      "Epoch 26/50\n",
      "449/449 [==============================] - 5s 10ms/step - loss: 0.3951 - acc: 0.7655 - val_loss: 0.3240 - val_acc: 0.8843\n",
      "\n",
      "Epoch 00026: val_acc did not improve from 0.88843\n",
      "Epoch 27/50\n",
      "449/449 [==============================] - 5s 11ms/step - loss: 0.3907 - acc: 0.7682 - val_loss: 0.3208 - val_acc: 0.8843\n",
      "\n",
      "Epoch 00027: val_acc did not improve from 0.88843\n",
      "Epoch 28/50\n",
      "449/449 [==============================] - 5s 11ms/step - loss: 0.3892 - acc: 0.7676 - val_loss: 0.3184 - val_acc: 0.8926\n",
      "\n",
      "Epoch 00028: val_acc improved from 0.88843 to 0.89256, saving model to mlp_checkpoint\\checkpoint_28\n",
      "Epoch 29/50\n",
      "449/449 [==============================] - 5s 10ms/step - loss: 0.3834 - acc: 0.7681 - val_loss: 0.3149 - val_acc: 0.9050\n",
      "\n",
      "Epoch 00029: val_acc improved from 0.89256 to 0.90496, saving model to mlp_checkpoint\\checkpoint_29\n",
      "Epoch 30/50\n",
      "449/449 [==============================] - 5s 11ms/step - loss: 0.3758 - acc: 0.7728 - val_loss: 0.3138 - val_acc: 0.9050\n",
      "\n",
      "Epoch 00030: val_acc did not improve from 0.90496\n",
      "Epoch 31/50\n",
      "449/449 [==============================] - 5s 11ms/step - loss: 0.3747 - acc: 0.7759 - val_loss: 0.3140 - val_acc: 0.9008\n",
      "\n",
      "Epoch 00031: val_acc did not improve from 0.90496\n",
      "Epoch 32/50\n",
      "449/449 [==============================] - 5s 11ms/step - loss: 0.3751 - acc: 0.7757 - val_loss: 0.3158 - val_acc: 0.8884\n",
      "\n",
      "Epoch 00032: val_acc did not improve from 0.90496\n",
      "Epoch 33/50\n",
      "449/449 [==============================] - 5s 12ms/step - loss: 0.3716 - acc: 0.7732 - val_loss: 0.3129 - val_acc: 0.9008\n",
      "\n",
      "Epoch 00033: val_acc did not improve from 0.90496\n",
      "Epoch 34/50\n",
      "449/449 [==============================] - 6s 13ms/step - loss: 0.3678 - acc: 0.7745 - val_loss: 0.3219 - val_acc: 0.9008\n",
      "\n",
      "Epoch 00034: val_acc did not improve from 0.90496\n",
      "Epoch 35/50\n",
      "449/449 [==============================] - 6s 12ms/step - loss: 0.3576 - acc: 0.7835 - val_loss: 0.3079 - val_acc: 0.9008\n",
      "\n",
      "Epoch 00035: val_acc did not improve from 0.90496\n",
      "Epoch 36/50\n",
      "449/449 [==============================] - 5s 11ms/step - loss: 0.3603 - acc: 0.7829 - val_loss: 0.3175 - val_acc: 0.9008\n",
      "\n",
      "Epoch 00036: val_acc did not improve from 0.90496\n",
      "Epoch 37/50\n",
      "449/449 [==============================] - 5s 11ms/step - loss: 0.3607 - acc: 0.7746 - val_loss: 0.3124 - val_acc: 0.9008\n",
      "\n",
      "Epoch 00037: val_acc did not improve from 0.90496\n",
      "Epoch 38/50\n",
      "449/449 [==============================] - 5s 10ms/step - loss: 0.3589 - acc: 0.7774 - val_loss: 0.3245 - val_acc: 0.9008\n",
      "\n",
      "Epoch 00038: val_acc did not improve from 0.90496\n",
      "Epoch 39/50\n",
      "449/449 [==============================] - 5s 11ms/step - loss: 0.3489 - acc: 0.7856 - val_loss: 0.3124 - val_acc: 0.8884\n",
      "\n",
      "Epoch 00039: val_acc did not improve from 0.90496\n"
     ]
    }
   ],
   "source": [
    "mlp_history = mlp.fit(train_cyclic_generator_mlp,\n",
    "#                         validation_data = test_cyclic_generator_mlp,\n",
    "                      validation_data = (x_test_mlp, y_test_mlp),\n",
    "                      steps_per_epoch= 449,\n",
    "                      epochs = 50,\n",
    "                      callbacks = [mlp_earlystop, mlp_checkpoint]) #Fitting the model"
   ]
  },
  {
   "cell_type": "code",
   "execution_count": 76,
   "metadata": {},
   "outputs": [
    {
     "data": {
      "image/png": "[encoded data removed]",
      "text/plain": [
       "<Figure size 432x288 with 1 Axes>"
      ]
     },
     "metadata": {
      "needs_background": "light"
     },
     "output_type": "display_data"
    },
    {
     "name": "stdout",
     "output_type": "stream",
     "text": [
      "Initial training accuracy is:  0.5003479719161987\n",
      "Final training accuracy is:  0.7855651378631592\n",
      "Initial training loss is:  0.6932536959648132\n",
      "Final training loss is:  0.3489360511302948\n"
     ]
    }
   ],
   "source": [
    "#Plotting model history\n",
    "plt.plot(mlp_history.history['acc'])\n",
    "plt.plot(mlp_history.history['loss'])\n",
    "plt.legend(['Training Accuracy', 'Training Loss'])\n",
    "plt.title('Training History')\n",
    "plt.ylabel('Value')\n",
    "plt.xlabel('epochs')\n",
    "plt.show()\n",
    "print(\"Initial training accuracy is: \", mlp_history.history['acc'][0])\n",
    "print(\"Final training accuracy is: \", mlp_history.history['acc'][-1])\n",
    "\n",
    "print(\"Initial training loss is: \", mlp_history.history['loss'][0])\n",
    "print(\"Final training loss is: \", mlp_history.history['loss'][-1])"
   ]
  },
  {
   "cell_type": "code",
   "execution_count": 77,
   "metadata": {},
   "outputs": [
    {
     "data": {
      "image/png": "[encoded data removed]",
      "text/plain": [
       "<Figure size 432x288 with 1 Axes>"
      ]
     },
     "metadata": {
      "needs_background": "light"
     },
     "output_type": "display_data"
    },
    {
     "name": "stdout",
     "output_type": "stream",
     "text": [
      "Initial validation accuracy is:  0.4752066135406494\n",
      "Final validation accuracy is:  0.8884297609329224\n",
      "Initial validation loss is:  0.693466305732727\n",
      "Final validation loss is:  0.3124331533908844\n"
     ]
    }
   ],
   "source": [
    "#Plotting model history\n",
    "plt.plot(mlp_history.history['val_acc'])\n",
    "plt.plot(mlp_history.history['val_loss'])\n",
    "plt.legend(['Valdation Accuracy', 'Validation Loss'])\n",
    "plt.title('Validation History')\n",
    "plt.ylabel('Value')\n",
    "plt.xlabel('epochs')\n",
    "plt.show()\n",
    "print(\"Initial validation accuracy is: \", mlp_history.history['val_acc'][0])\n",
    "print(\"Final validation accuracy is: \", mlp_history.history['val_acc'][-1])\n",
    "\n",
    "print(\"Initial validation loss is: \", mlp_history.history['val_loss'][0])\n",
    "print(\"Final validation loss is: \", mlp_history.history['val_loss'][-1])"
   ]
  },
  {
   "cell_type": "markdown",
   "metadata": {},
   "source": [
    "## Training on LSTM model"
   ]
  },
  {
   "cell_type": "code",
   "execution_count": 107,
   "metadata": {},
   "outputs": [
    {
     "name": "stdout",
     "output_type": "stream",
     "text": [
      "964\n"
     ]
    }
   ],
   "source": [
    "train_test_split = int(0.8 * len(xlstm))\n",
    "print(train_test_split)\n",
    "\n",
    "x_train_lstm = xlstm[:train_test_split]\n",
    "y_train_lstm = ylstm[:train_test_split]\n",
    "\n",
    "x_test_lstm = xlstm[train_test_split:]\n",
    "y_test_lstm = ylstm[train_test_split:]"
   ]
  },
  {
   "cell_type": "code",
   "execution_count": 108,
   "metadata": {},
   "outputs": [],
   "source": [
    "def get_cyclic_generator(features, labels, batch_size = 1):\n",
    "  while True:\n",
    "    for n in range(features.shape[0]//batch_size):\n",
    "      yield (features[n*batch_size: (n+1)*batch_size], labels[n*batch_size: (n+1)*batch_size])\n",
    "    permuted = np.random.permutation(len(features))\n",
    "    features = features[permuted]\n",
    "    labels = labels[permuted]"
   ]
  },
  {
   "cell_type": "code",
   "execution_count": 109,
   "metadata": {},
   "outputs": [],
   "source": [
    "train_batch_size = 32\n",
    "train_cyclic_generator_lstm = get_cyclic_generator(x_train_lstm, y_train_lstm, batch_size = train_batch_size)\n",
    "# test_cyclic_generator = get_cyclic_generator(x_test, y_test, batch_size = train_batch_size)"
   ]
  },
  {
   "cell_type": "code",
   "execution_count": 110,
   "metadata": {},
   "outputs": [
    {
     "name": "stdout",
     "output_type": "stream",
     "text": [
      "Model: \"model_4\"\n",
      "_________________________________________________________________\n",
      "Layer (type)                 Output Shape              Param #   \n",
      "=================================================================\n",
      "input_5 (InputLayer)         [(None, 351, 61)]         0         \n",
      "_________________________________________________________________\n",
      "lstm_1 (LSTM)                (None, 351, 32)           12032     \n",
      "_________________________________________________________________\n",
      "flatten_2 (Flatten)          (None, 11232)             0         \n",
      "_________________________________________________________________\n",
      "dense_12 (Dense)             (None, 32)                359456    \n",
      "_________________________________________________________________\n",
      "leaky_re_lu_6 (LeakyReLU)    (None, 32)                0         \n",
      "_________________________________________________________________\n",
      "dropout_8 (Dropout)          (None, 32)                0         \n",
      "_________________________________________________________________\n",
      "dense_13 (Dense)             (None, 16)                528       \n",
      "_________________________________________________________________\n",
      "dropout_9 (Dropout)          (None, 16)                0         \n",
      "_________________________________________________________________\n",
      "dense_14 (Dense)             (None, 2)                 34        \n",
      "=================================================================\n",
      "Total params: 372,050\n",
      "Trainable params: 372,050\n",
      "Non-trainable params: 0\n",
      "_________________________________________________________________\n"
     ]
    }
   ],
   "source": [
    "#Creating model architecture\n",
    "inp_shape = (dims_lstm_1, dims_lstm_2)\n",
    "ip = tf.keras.Input(shape = inp_shape)\n",
    "lstm = tf.keras.layers.LSTM(32, return_sequences=True)(ip)\n",
    "# drop = tf.keras.layers.Dropout(.4)(lstm)\n",
    "# lstm = tf.keras.layers.LSTM(16, return_sequences=True)(ip)\n",
    "# drop = tf.keras.layers.Dropout(.4)(lstm)\n",
    "flatten = tf.keras.layers.Flatten()(lstm)\n",
    "dense1 = tf.keras.layers.Dense(units = 32, kernel_initializer = 'random_normal')(flatten)\n",
    "leakyRelu = tf.keras.layers.LeakyReLU()(dense1)\n",
    "drop1 = tf.keras.layers.Dropout(.4)(leakyRelu)\n",
    "dense2 = tf.keras.layers.Dense(units = 16, kernel_initializer = 'random_normal')(drop1)\n",
    "leakyRelu2 = tf.keras.layers.LeakyReLU()(dense2)\n",
    "drop2 = tf.keras.layers.Dropout(.4)(dense2)\n",
    "out = tf.keras.layers.Dense(num_classes, activation = 'softmax')(drop2)\n",
    "\n",
    "lstm = tf.keras.Model(inputs = ip, outputs = out)\n",
    "lstm.summary()\n",
    "# inp_shape = (None, )\n",
    "# review_sequence = tf.keras.Input(shape = inp_shape)\n",
    "# embedding_sequence = tf.keras.layers.Embedding(input_dim=100+1, output_dim=32, input_shape=(review_sequence.shape), mask_zero=False)(review_sequence)\n",
    "# average_embedding = tf.keras.layers.GlobalAveragePooling1D()(embedding_sequence)\n",
    "# positive_probability = tf.keras.layers.Dense(units=1, activation='sigmoid')(average_embedding)\n",
    "\n",
    "# model = tf.keras.Model(inputs = review_sequence, outputs = positive_probability)"
   ]
  },
  {
   "cell_type": "code",
   "execution_count": 111,
   "metadata": {},
   "outputs": [],
   "source": [
    "# Compiling the model\n",
    "lstm_earlystop = EarlyStopping(patience = 10, min_delta = 0.001, monitor = 'val_acc')\n",
    "\n",
    "path = 'lstm_checkpoint/checkpoint_{epoch:02d}';\n",
    "lstm_checkpoint = ModelCheckpoint(filepath = path,\n",
    "                            verbose = 1,\n",
    "                            monitor = 'val_acc',\n",
    "                            save_freq = 'epoch',\n",
    "                            save_best_only = True,\n",
    "                            save_weights_only = True)\n",
    "\n",
    "lstm.compile(loss = 'binary_crossentropy', metrics = ['acc'], optimizer = 'adam')"
   ]
  },
  {
   "cell_type": "code",
   "execution_count": 112,
   "metadata": {
    "scrolled": true
   },
   "outputs": [
    {
     "name": "stdout",
     "output_type": "stream",
     "text": [
      "Epoch 1/50\n",
      "449/449 [==============================] - 59s 124ms/step - loss: 0.6941 - acc: 0.4954 - val_loss: 0.6933 - val_acc: 0.4752\n",
      "\n",
      "Epoch 00001: val_acc improved from -inf to 0.47521, saving model to lstm_checkpoint\\checkpoint_01\n",
      "Epoch 2/50\n",
      "449/449 [==============================] - 55s 122ms/step - loss: 0.6938 - acc: 0.4946 - val_loss: 0.6929 - val_acc: 0.5248\n",
      "\n",
      "Epoch 00002: val_acc improved from 0.47521 to 0.52479, saving model to lstm_checkpoint\\checkpoint_02\n",
      "Epoch 3/50\n",
      "449/449 [==============================] - 54s 120ms/step - loss: 0.6935 - acc: 0.5044 - val_loss: 0.6935 - val_acc: 0.4752\n",
      "\n",
      "Epoch 00003: val_acc did not improve from 0.52479\n",
      "Epoch 4/50\n",
      "449/449 [==============================] - 55s 122ms/step - loss: 0.6935 - acc: 0.4994 - val_loss: 0.6937 - val_acc: 0.4752\n",
      "\n",
      "Epoch 00004: val_acc did not improve from 0.52479\n",
      "Epoch 5/50\n",
      "449/449 [==============================] - 54s 120ms/step - loss: 0.6936 - acc: 0.4974 - val_loss: 0.6932 - val_acc: 0.4752\n",
      "\n",
      "Epoch 00005: val_acc did not improve from 0.52479\n",
      "Epoch 6/50\n",
      "449/449 [==============================] - 55s 122ms/step - loss: 0.6935 - acc: 0.4975 - val_loss: 0.6936 - val_acc: 0.4752\n",
      "\n",
      "Epoch 00006: val_acc did not improve from 0.52479\n",
      "Epoch 7/50\n",
      "449/449 [==============================] - 54s 121ms/step - loss: 0.6935 - acc: 0.4981 - val_loss: 0.6932 - val_acc: 0.4752\n",
      "\n",
      "Epoch 00007: val_acc did not improve from 0.52479\n",
      "Epoch 8/50\n",
      "449/449 [==============================] - 54s 120ms/step - loss: 0.6934 - acc: 0.5001 - val_loss: 0.6937 - val_acc: 0.4752\n",
      "\n",
      "Epoch 00008: val_acc did not improve from 0.52479\n",
      "Epoch 9/50\n",
      "449/449 [==============================] - 55s 123ms/step - loss: 0.6934 - acc: 0.5018 - val_loss: 0.6942 - val_acc: 0.4752\n",
      "\n",
      "Epoch 00009: val_acc did not improve from 0.52479\n",
      "Epoch 10/50\n",
      "449/449 [==============================] - 54s 120ms/step - loss: 0.6933 - acc: 0.4944 - val_loss: 0.6941 - val_acc: 0.4752\n",
      "\n",
      "Epoch 00010: val_acc did not improve from 0.52479\n",
      "Epoch 11/50\n",
      "449/449 [==============================] - 54s 120ms/step - loss: 0.6932 - acc: 0.4994 - val_loss: 0.6933 - val_acc: 0.4752\n",
      "\n",
      "Epoch 00011: val_acc did not improve from 0.52479\n",
      "Epoch 12/50\n",
      "449/449 [==============================] - 54s 120ms/step - loss: 0.6933 - acc: 0.5017 - val_loss: 0.6930 - val_acc: 0.5248\n",
      "\n",
      "Epoch 00012: val_acc did not improve from 0.52479\n"
     ]
    }
   ],
   "source": [
    "lstm_history = lstm.fit(train_cyclic_generator_lstm,\n",
    "                        validation_data = (x_test_lstm, y_test_lstm),\n",
    "                        steps_per_epoch= 449,\n",
    "                        epochs = 50,\n",
    "#                         batch_size = 64,\n",
    "                        callbacks = [lstm_earlystop, lstm_checkpoint]) #Fitting the model"
   ]
  },
  {
   "cell_type": "code",
   "execution_count": 113,
   "metadata": {},
   "outputs": [
    {
     "data": {
      "image/png": "[encoded data removed]",
      "text/plain": [
       "<Figure size 432x288 with 1 Axes>"
      ]
     },
     "metadata": {
      "needs_background": "light"
     },
     "output_type": "display_data"
    },
    {
     "name": "stdout",
     "output_type": "stream",
     "text": [
      "Initial training accuracy is:  0.49540644884109497\n",
      "Final training accuracy is:  0.5017399787902832\n",
      "Initial training loss is:  0.6941067576408386\n",
      "Final training loss is:  0.6933201551437378\n"
     ]
    }
   ],
   "source": [
    "#Plotting model history\n",
    "plt.plot(lstm_history.history['acc'])\n",
    "plt.plot(lstm_history.history['loss'])\n",
    "plt.legend(['Training Accuracy', 'Training Loss'])\n",
    "plt.title('Training History')\n",
    "plt.ylabel('Value')\n",
    "plt.xlabel('epochs')\n",
    "plt.show()\n",
    "print(\"Initial training accuracy is: \", lstm_history.history['acc'][0])\n",
    "print(\"Final training accuracy is: \", lstm_history.history['acc'][-1])\n",
    "\n",
    "print(\"Initial training loss is: \", lstm_history.history['loss'][0])\n",
    "print(\"Final training loss is: \", lstm_history.history['loss'][-1])"
   ]
  },
  {
   "cell_type": "code",
   "execution_count": 114,
   "metadata": {},
   "outputs": [
    {
     "data": {
      "image/png": "[encoded data removed]",
      "text/plain": [
       "<Figure size 432x288 with 1 Axes>"
      ]
     },
     "metadata": {
      "needs_background": "light"
     },
     "output_type": "display_data"
    },
    {
     "name": "stdout",
     "output_type": "stream",
     "text": [
      "Initial Validation accuracy is:  0.4752066135406494\n",
      "Final Validation accuracy is:  0.5247933864593506\n",
      "Initial Validation loss is:  0.6932665109634399\n",
      "Final Validation loss is:  0.6929930448532104\n"
     ]
    }
   ],
   "source": [
    "#Plotting model history\n",
    "plt.plot(lstm_history.history['val_acc'])\n",
    "plt.plot(lstm_history.history['val_loss'])\n",
    "plt.legend(['Valdation Accuracy', 'Validation Loss'])\n",
    "plt.title('Validation History')\n",
    "plt.ylabel('Value')\n",
    "plt.xlabel('epochs')\n",
    "plt.show()\n",
    "print(\"Initial Validation accuracy is: \", lstm_history.history['val_acc'][0])\n",
    "print(\"Final Validation accuracy is: \", lstm_history.history['val_acc'][-1])\n",
    "\n",
    "print(\"Initial Validation loss is: \", lstm_history.history['val_loss'][0])\n",
    "print(\"Final Validation loss is: \", lstm_history.history['val_loss'][-1])"
   ]
  },
  {
   "cell_type": "markdown",
   "metadata": {},
   "source": [
    "### Training on CNN Model"
   ]
  },
  {
   "cell_type": "code",
   "execution_count": 115,
   "metadata": {},
   "outputs": [
    {
     "name": "stdout",
     "output_type": "stream",
     "text": [
      "964\n"
     ]
    }
   ],
   "source": [
    "train_test_split = int(0.8 * len(xcnn))\n",
    "print(train_test_split)\n",
    "\n",
    "x_train_cnn = xcnn[:train_test_split]\n",
    "y_train_cnn = ycnn[:train_test_split]\n",
    "\n",
    "x_test_cnn = xcnn[train_test_split:]\n",
    "y_test_cnn = ycnn[train_test_split:]"
   ]
  },
  {
   "cell_type": "code",
   "execution_count": 116,
   "metadata": {},
   "outputs": [],
   "source": [
    "def get_cyclic_generator(features, labels, batch_size = 1):\n",
    "  while True:\n",
    "    for n in range(features.shape[0]//batch_size):\n",
    "      yield (features[n*batch_size: (n+1)*batch_size], labels[n*batch_size: (n+1)*batch_size])\n",
    "    permuted = np.random.permutation(len(features))\n",
    "    features = features[permuted]\n",
    "    labels = labels[permuted]"
   ]
  },
  {
   "cell_type": "code",
   "execution_count": 117,
   "metadata": {},
   "outputs": [],
   "source": [
    "train_batch_size = 32\n",
    "train_cyclic_generator_cnn = get_cyclic_generator(x_train_cnn, y_train_cnn, batch_size = train_batch_size)\n",
    "# test_cyclic_generator = get_cyclic_generator(x_test, y_test, batch_size = train_batch_size)"
   ]
  },
  {
   "cell_type": "code",
   "execution_count": 118,
   "metadata": {},
   "outputs": [
    {
     "name": "stdout",
     "output_type": "stream",
     "text": [
      "Model: \"model_5\"\n",
      "_________________________________________________________________\n",
      "Layer (type)                 Output Shape              Param #   \n",
      "=================================================================\n",
      "input_6 (InputLayer)         [(None, 351, 61)]         0         \n",
      "_________________________________________________________________\n",
      "conv1d_2 (Conv1D)            (None, 349, 32)           5888      \n",
      "_________________________________________________________________\n",
      "leaky_re_lu_8 (LeakyReLU)    (None, 349, 32)           0         \n",
      "_________________________________________________________________\n",
      "conv1d_3 (Conv1D)            (None, 347, 16)           1552      \n",
      "_________________________________________________________________\n",
      "leaky_re_lu_9 (LeakyReLU)    (None, 347, 16)           0         \n",
      "_________________________________________________________________\n",
      "flatten_3 (Flatten)          (None, 5552)              0         \n",
      "_________________________________________________________________\n",
      "dense_15 (Dense)             (None, 32)                177696    \n",
      "_________________________________________________________________\n",
      "leaky_re_lu_10 (LeakyReLU)   (None, 32)                0         \n",
      "_________________________________________________________________\n",
      "dropout_10 (Dropout)         (None, 32)                0         \n",
      "_________________________________________________________________\n",
      "dense_16 (Dense)             (None, 16)                528       \n",
      "_________________________________________________________________\n",
      "dropout_11 (Dropout)         (None, 16)                0         \n",
      "_________________________________________________________________\n",
      "dense_17 (Dense)             (None, 2)                 34        \n",
      "=================================================================\n",
      "Total params: 185,698\n",
      "Trainable params: 185,698\n",
      "Non-trainable params: 0\n",
      "_________________________________________________________________\n"
     ]
    }
   ],
   "source": [
    "inp_shape = (dims_lstm_1, dims_lstm_2)\n",
    "ip = tf.keras.Input(shape = inp_shape)\n",
    "conv1 = tf.keras.layers.Conv1D(32, 3,)(ip)\n",
    "rel = tf.keras.layers.LeakyReLU()(conv1)\n",
    "conv2 = tf.keras.layers.Conv1D(16, 3,)(rel)\n",
    "rel2 = tf.keras.layers.LeakyReLU()(conv2)\n",
    "# lstm = tf.keras.layers.LSTM(16, return_sequences=True)(ip)\n",
    "flatten = tf.keras.layers.Flatten()(rel2)\n",
    "dense1 = tf.keras.layers.Dense(units = 32, kernel_initializer = 'random_normal')(flatten)\n",
    "leakyRelu = tf.keras.layers.LeakyReLU()(dense1)\n",
    "drop1 = tf.keras.layers.Dropout(.4)(leakyRelu)\n",
    "dense2 = tf.keras.layers.Dense(units = 16, kernel_initializer = 'random_normal')(drop1)\n",
    "leakyRelu2 = tf.keras.layers.LeakyReLU()(dense2)\n",
    "drop2 = tf.keras.layers.Dropout(.4)(dense2)\n",
    "out = tf.keras.layers.Dense(num_classes, activation = 'softmax')(drop2)\n",
    "\n",
    "cnn = tf.keras.Model(inputs = ip, outputs = out)\n",
    "cnn.summary()"
   ]
  },
  {
   "cell_type": "code",
   "execution_count": 119,
   "metadata": {},
   "outputs": [],
   "source": [
    "# Compiling the model\n",
    "cnn_earlystop = EarlyStopping(patience = 10, min_delta = 0.001, monitor = 'val_acc')\n",
    "\n",
    "path = 'cnn_checkpoint/checkpoint_{epoch:02d}';\n",
    "cnn_checkpoint = ModelCheckpoint(filepath = path,\n",
    "                            verbose = 1,\n",
    "                            monitor = 'val_acc',\n",
    "                            save_freq = 'epoch',\n",
    "                            save_best_only = True,\n",
    "                            save_weights_only = True)\n",
    "\n",
    "cnn.compile(loss = 'binary_crossentropy', metrics = ['acc'], optimizer = 'adam')"
   ]
  },
  {
   "cell_type": "code",
   "execution_count": 120,
   "metadata": {
    "scrolled": true
   },
   "outputs": [
    {
     "name": "stdout",
     "output_type": "stream",
     "text": [
      "Epoch 1/50\n",
      "449/449 [==============================] - 11s 23ms/step - loss: 0.6936 - acc: 0.5000 - val_loss: 0.6935 - val_acc: 0.4752\n",
      "\n",
      "Epoch 00001: val_acc improved from -inf to 0.47521, saving model to cnn_checkpoint\\checkpoint_01\n",
      "Epoch 2/50\n",
      "449/449 [==============================] - 10s 23ms/step - loss: 0.6936 - acc: 0.4991 - val_loss: 0.6933 - val_acc: 0.4752\n",
      "\n",
      "Epoch 00002: val_acc did not improve from 0.47521\n",
      "Epoch 3/50\n",
      "449/449 [==============================] - 11s 24ms/step - loss: 0.6934 - acc: 0.5001 - val_loss: 0.6933 - val_acc: 0.4752\n",
      "\n",
      "Epoch 00003: val_acc did not improve from 0.47521\n",
      "Epoch 4/50\n",
      "449/449 [==============================] - 10s 23ms/step - loss: 0.6937 - acc: 0.5007 - val_loss: 0.6939 - val_acc: 0.4752\n",
      "\n",
      "Epoch 00004: val_acc did not improve from 0.47521\n",
      "Epoch 5/50\n",
      "449/449 [==============================] - 11s 23ms/step - loss: 0.6933 - acc: 0.5032 - val_loss: 0.6940 - val_acc: 0.4752\n",
      "\n",
      "Epoch 00005: val_acc did not improve from 0.47521\n",
      "Epoch 6/50\n",
      "449/449 [==============================] - 11s 24ms/step - loss: 0.6934 - acc: 0.4979 - val_loss: 0.6933 - val_acc: 0.4752\n",
      "\n",
      "Epoch 00006: val_acc did not improve from 0.47521\n",
      "Epoch 7/50\n",
      "449/449 [==============================] - 10s 23ms/step - loss: 0.6933 - acc: 0.4950 - val_loss: 0.6930 - val_acc: 0.5248\n",
      "\n",
      "Epoch 00007: val_acc improved from 0.47521 to 0.52479, saving model to cnn_checkpoint\\checkpoint_07\n",
      "Epoch 8/50\n",
      "449/449 [==============================] - 10s 23ms/step - loss: 0.6933 - acc: 0.4953 - val_loss: 0.6944 - val_acc: 0.4752\n",
      "\n",
      "Epoch 00008: val_acc did not improve from 0.52479\n",
      "Epoch 9/50\n",
      "449/449 [==============================] - 11s 24ms/step - loss: 0.6935 - acc: 0.5038 - val_loss: 0.6936 - val_acc: 0.4752\n",
      "\n",
      "Epoch 00009: val_acc did not improve from 0.52479\n",
      "Epoch 10/50\n",
      "449/449 [==============================] - 10s 23ms/step - loss: 0.6932 - acc: 0.5015 - val_loss: 0.6934 - val_acc: 0.4752\n",
      "\n",
      "Epoch 00010: val_acc did not improve from 0.52479\n",
      "Epoch 11/50\n",
      "449/449 [==============================] - 10s 23ms/step - loss: 0.6932 - acc: 0.5033 - val_loss: 0.6937 - val_acc: 0.4752\n",
      "\n",
      "Epoch 00011: val_acc did not improve from 0.52479\n",
      "Epoch 12/50\n",
      "449/449 [==============================] - 11s 24ms/step - loss: 0.6933 - acc: 0.4964 - val_loss: 0.6932 - val_acc: 0.4752\n",
      "\n",
      "Epoch 00012: val_acc did not improve from 0.52479\n",
      "Epoch 13/50\n",
      "449/449 [==============================] - 10s 23ms/step - loss: 0.6932 - acc: 0.5015 - val_loss: 0.6931 - val_acc: 0.5248\n",
      "\n",
      "Epoch 00013: val_acc did not improve from 0.52479\n",
      "Epoch 14/50\n",
      "449/449 [==============================] - 11s 25ms/step - loss: 0.6933 - acc: 0.4965 - val_loss: 0.6936 - val_acc: 0.4752\n",
      "\n",
      "Epoch 00014: val_acc did not improve from 0.52479\n",
      "Epoch 15/50\n",
      "449/449 [==============================] - 11s 25ms/step - loss: 0.6932 - acc: 0.4978 - val_loss: 0.6934 - val_acc: 0.4752\n",
      "\n",
      "Epoch 00015: val_acc did not improve from 0.52479\n",
      "Epoch 16/50\n",
      "449/449 [==============================] - 10s 23ms/step - loss: 0.6934 - acc: 0.4957 - val_loss: 0.6935 - val_acc: 0.4752\n",
      "\n",
      "Epoch 00016: val_acc did not improve from 0.52479\n",
      "Epoch 17/50\n",
      "449/449 [==============================] - 10s 23ms/step - loss: 0.6932 - acc: 0.4984 - val_loss: 0.6935 - val_acc: 0.4752\n",
      "\n",
      "Epoch 00017: val_acc did not improve from 0.52479\n"
     ]
    }
   ],
   "source": [
    "cnn_history = cnn.fit(train_cyclic_generator_cnn,\n",
    "                        validation_data = (x_test_cnn, y_test_cnn),\n",
    "                        steps_per_epoch= 449,\n",
    "                        epochs = 50,\n",
    "                        callbacks = [cnn_earlystop, cnn_checkpoint]) #Fitting the model"
   ]
  },
  {
   "cell_type": "code",
   "execution_count": 121,
   "metadata": {},
   "outputs": [],
   "source": [
    "# #Plotting model history\n",
    "# plt.plot(cnn_history.history['acc'])\n",
    "# plt.plot(cnn_history.history['loss'])\n",
    "# plt.legend(['Training Accuracy', 'Training Loss'])\n",
    "# plt.title('Training History')\n",
    "# plt.ylabel('Value')\n",
    "# plt.xlabel('epochs')\n",
    "# plt.show()\n",
    "# print(\"Initial training accuracy is: \", cnn_history.history['acc'][0])\n",
    "# print(\"Final training accuracy is: \", cnn_history.history['acc'][-1])\n",
    "\n",
    "# print(\"Initial training loss is: \", cnn_history.history['loss'][0])\n",
    "# print(\"Final training loss is: \", cnn_history.history['loss'][-1])"
   ]
  },
  {
   "cell_type": "code",
   "execution_count": 122,
   "metadata": {
    "tags": []
   },
   "outputs": [
    {
     "data": {
      "image/png": "[encoded data removed]",
      "text/plain": [
       "<Figure size 432x288 with 1 Axes>"
      ]
     },
     "metadata": {
      "needs_background": "light"
     },
     "output_type": "display_data"
    },
    {
     "name": "stdout",
     "output_type": "stream",
     "text": [
      "Initial training accuracy with preprocessing is:  0.5\n",
      "Final training accuracy with preprocessing is:  0.4983992278575897\n",
      "Initial training loss with preprocessing is:  0.6935914754867554\n",
      "Final training loss with preprocessing is:  0.6932403445243835\n"
     ]
    }
   ],
   "source": [
    "#Plotting model history\n",
    "plt.plot(cnn_history.history['acc'])\n",
    "plt.plot(cnn_history.history['loss'])\n",
    "plt.legend(['Training Accuracy', 'Training Loss'])\n",
    "plt.title('Training History')\n",
    "plt.ylabel('Value')\n",
    "plt.xlabel('epochs')\n",
    "plt.show()\n",
    "print(\"Initial training accuracy with preprocessing is: \", cnn_history.history['acc'][0])\n",
    "print(\"Final training accuracy with preprocessing is: \", cnn_history.history['acc'][-1])\n",
    "\n",
    "print(\"Initial training loss with preprocessing is: \", cnn_history.history['loss'][0])\n",
    "print(\"Final training loss with preprocessing is: \", cnn_history.history['loss'][-1])"
   ]
  },
  {
   "cell_type": "code",
   "execution_count": 123,
   "metadata": {},
   "outputs": [
    {
     "data": {
      "image/png": "[encoded data removed]",
      "text/plain": [
       "<Figure size 432x288 with 1 Axes>"
      ]
     },
     "metadata": {
      "needs_background": "light"
     },
     "output_type": "display_data"
    },
    {
     "name": "stdout",
     "output_type": "stream",
     "text": [
      "Initial Validation accuracy with preprocessing is:  0.4752066135406494\n",
      "Final Validation accuracy with preprocessing is:  0.4752066135406494\n",
      "Initial Validation loss with preprocessing is:  0.6934640407562256\n",
      "Final Validation loss with preprocessing is:  0.6934962868690491\n"
     ]
    }
   ],
   "source": [
    "#Plotting model history\n",
    "plt.plot(cnn_history.history['val_acc'])\n",
    "plt.plot(cnn_history.history['val_loss'])\n",
    "plt.legend(['Valdation Accuracy', 'Validation Loss'])\n",
    "plt.title('Validation History')\n",
    "plt.ylabel('Value')\n",
    "plt.xlabel('epochs')\n",
    "plt.show()\n",
    "print(\"Initial Validation accuracy with preprocessing is: \", cnn_history.history['val_acc'][0])\n",
    "print(\"Final Validation accuracy with preprocessing is: \", cnn_history.history['val_acc'][-1])\n",
    "\n",
    "print(\"Initial Validation loss with preprocessing is: \", cnn_history.history['val_loss'][0])\n",
    "print(\"Final Validation loss with preprocessing is: \", cnn_history.history['val_loss'][-1])"
   ]
  },
  {
   "cell_type": "code",
   "execution_count": 124,
   "metadata": {},
   "outputs": [],
   "source": [
    "# #Plotting model history\n",
    "# plt.plot(cnn_history.history['val_acc'])\n",
    "# plt.plot(cnn_history.history['val_loss'])\n",
    "# plt.legend(['Valdation Accuracy', 'Validation Loss'])\n",
    "# plt.title('Validation History')\n",
    "# plt.ylabel('Value')\n",
    "# plt.xlabel('epochs')\n",
    "# plt.show()\n",
    "# print(\"Initial Validation accuracy is: \", cnn_history.history['val_acc'][0])\n",
    "# print(\"Final Validation accuracy is: \", cnn_history.history['val_acc'][-1])\n",
    "\n",
    "# print(\"Initial Validation loss is: \", cnn_history.history['val_loss'][0])\n",
    "# print(\"Final Validation loss is: \", cnn_history.history['val_loss'][-1])"
   ]
  },
  {
   "cell_type": "markdown",
   "metadata": {},
   "source": [
    "## Training for go/no-go"
   ]
  },
  {
   "cell_type": "code",
   "execution_count": 125,
   "metadata": {},
   "outputs": [
    {
     "name": "stdout",
     "output_type": "stream",
     "text": [
      "(1966, 21412)\n",
      "(600, 21412)\n",
      "(600, 21411)\n",
      "(600,)\n",
      "[2.0]\n"
     ]
    }
   ],
   "source": [
    "#Creating dataset\n",
    "datasetgonogo = main_dataset.copy()\n",
    "print(datasetgonogo.shape)\n",
    "\n",
    "unwanted_events_gonogo = [9, 10, 3, 6, 7, 8, 11, 1, 5]\n",
    "\n",
    "for e in unwanted_events_gonogo:\n",
    "    datasetgonogo = datasetgonogo[datasetgonogo[:, -1]!=e]\n",
    "\n",
    "print(datasetgonogo.shape)\n",
    "\n",
    "xgonogo = datasetgonogo[:, :-1]\n",
    "ygonogo = datasetgonogo[:, -1]\n",
    "print(xgonogo.shape)\n",
    "print(ygonogo.shape)\n",
    "print(list(set(ygonogo)))\n",
    "\n",
    "permutations = np.random.permutation(len(xgonogo))\n",
    "xgonogo = xgonogo[permutations]\n",
    "ygonogo = ygonogo[permutations]"
   ]
  },
  {
   "cell_type": "code",
   "execution_count": 126,
   "metadata": {},
   "outputs": [
    {
     "name": "stdout",
     "output_type": "stream",
     "text": [
      "[0.0]\n"
     ]
    }
   ],
   "source": [
    "#Encoding y\n",
    "dict = {2.0: 0, 4.0: 1}\n",
    "\n",
    "for i in range(len(ygonogo)):\n",
    "    ygonogo[i] = dict[ygonogo[i]]\n",
    "\n",
    "print(list(set(ygonogo)))"
   ]
  },
  {
   "cell_type": "code",
   "execution_count": 127,
   "metadata": {},
   "outputs": [
    {
     "data": {
      "text/plain": [
       "array([[1., 0.],\n",
       "       [1., 0.],\n",
       "       [1., 0.],\n",
       "       [1., 0.],\n",
       "       [1., 0.]], dtype=float32)"
      ]
     },
     "execution_count": 127,
     "metadata": {},
     "output_type": "execute_result"
    }
   ],
   "source": [
    "num_classes = 2\n",
    "ygonogo = tf.keras.utils.to_categorical(ygonogo, num_classes)\n",
    "ygonogo[:5]"
   ]
  },
  {
   "cell_type": "code",
   "execution_count": 128,
   "metadata": {},
   "outputs": [
    {
     "name": "stdout",
     "output_type": "stream",
     "text": [
      "480\n"
     ]
    },
    {
     "data": {
      "text/plain": [
       "(480, 21411)"
      ]
     },
     "execution_count": 128,
     "metadata": {},
     "output_type": "execute_result"
    }
   ],
   "source": [
    "train_test_split = int(0.8 * len(xgonogo))\n",
    "print(train_test_split)\n",
    "\n",
    "xgonogo_train_mlp = xgonogo[:train_test_split]\n",
    "ygonogo_train_mlp = ygonogo[:train_test_split]\n",
    "\n",
    "xgonogo_test_mlp = xgonogo[train_test_split:]\n",
    "ygonogo_test_mlp = ygonogo[train_test_split:]\n",
    "\n",
    "xgonogo_train_mlp.shape"
   ]
  },
  {
   "cell_type": "code",
   "execution_count": 129,
   "metadata": {},
   "outputs": [],
   "source": [
    "def get_cyclic_generator(features, labels, batch_size = 1):\n",
    "  while True:\n",
    "    for n in range(features.shape[0]//batch_size):\n",
    "      yield (features[n*batch_size: (n+1)*batch_size], labels[n*batch_size: (n+1)*batch_size])\n",
    "    permuted = np.random.permutation(len(features))\n",
    "    features = features[permuted]\n",
    "    labels = labels[permuted]"
   ]
  },
  {
   "cell_type": "code",
   "execution_count": 130,
   "metadata": {},
   "outputs": [],
   "source": [
    "train_batch_size = 32\n",
    "train_cyclic_generator_mlp_gonogo = get_cyclic_generator(xgonogo_train_mlp, ygonogo_train_mlp, batch_size = train_batch_size)\n",
    "# test_cyclic_generator = get_cyclic_generator(x_test, y_test, batch_size = train_batch_size)"
   ]
  },
  {
   "cell_type": "code",
   "execution_count": 131,
   "metadata": {},
   "outputs": [
    {
     "name": "stdout",
     "output_type": "stream",
     "text": [
      "Model: \"model_6\"\n",
      "_________________________________________________________________\n",
      "Layer (type)                 Output Shape              Param #   \n",
      "=================================================================\n",
      "input_7 (InputLayer)         [(None, 21411)]           0         \n",
      "_________________________________________________________________\n",
      "dense_18 (Dense)             (None, 32)                685184    \n",
      "_________________________________________________________________\n",
      "dropout_12 (Dropout)         (None, 32)                0         \n",
      "_________________________________________________________________\n",
      "dense_19 (Dense)             (None, 16)                528       \n",
      "_________________________________________________________________\n",
      "dropout_13 (Dropout)         (None, 16)                0         \n",
      "_________________________________________________________________\n",
      "dense_20 (Dense)             (None, 2)                 34        \n",
      "=================================================================\n",
      "Total params: 685,746\n",
      "Trainable params: 685,746\n",
      "Non-trainable params: 0\n",
      "_________________________________________________________________\n"
     ]
    }
   ],
   "source": [
    "#Creating model architecture\n",
    "inp_shape = (dims_ip, )\n",
    "ip = tf.keras.Input(shape = inp_shape)\n",
    "dense1 = tf.keras.layers.Dense(units = 32, activation = 'relu', kernel_initializer = 'random_normal')(ip)\n",
    "drop = tf.keras.layers.Dropout(.4)(dense1)\n",
    "dense2 = tf.keras.layers.Dense(units = 16, activation = 'relu', kernel_initializer = 'random_normal')(drop)\n",
    "drop2 = tf.keras.layers.Dropout(.4)(dense2)\n",
    "out = tf.keras.layers.Dense(num_classes, activation = 'softmax')(drop2)\n",
    "\n",
    "mlp_gonogo = tf.keras.Model(inputs = ip, outputs = out)\n",
    "mlp_gonogo.summary()"
   ]
  },
  {
   "cell_type": "code",
   "execution_count": 132,
   "metadata": {},
   "outputs": [],
   "source": [
    "# Compiling the model\n",
    "mlp_gonogo_earlystop = EarlyStopping(patience = 10, min_delta = 0.001, monitor = 'val_acc')\n",
    "\n",
    "path = 'mlp_gonogo_checkpoint/checkpoint_{epoch:02d}';\n",
    "mlp_gonogo_checkpoint = ModelCheckpoint(filepath = path,\n",
    "                            verbose = 1,\n",
    "                            monitor = 'val_acc',\n",
    "                            save_freq = 'epoch',\n",
    "                            save_best_only = True,\n",
    "                            save_weights_only = True)\n",
    "\n",
    "mlp_gonogo.compile(loss = 'categorical_crossentropy', metrics = ['acc'], optimizer = 'adam')"
   ]
  },
  {
   "cell_type": "code",
   "execution_count": 133,
   "metadata": {
    "scrolled": true
   },
   "outputs": [
    {
     "name": "stdout",
     "output_type": "stream",
     "text": [
      "Epoch 1/50\n",
      "449/449 [==============================] - 6s 12ms/step - loss: 0.1001 - acc: 0.9993 - val_loss: 5.4875e-04 - val_acc: 1.0000\n",
      "\n",
      "Epoch 00001: val_acc improved from -inf to 1.00000, saving model to mlp_gonogo_checkpoint\\checkpoint_01\n",
      "Epoch 2/50\n",
      "449/449 [==============================] - 5s 10ms/step - loss: 0.0023 - acc: 1.0000 - val_loss: 4.2132e-05 - val_acc: 1.0000\n",
      "\n",
      "Epoch 00002: val_acc did not improve from 1.00000\n",
      "Epoch 3/50\n",
      "449/449 [==============================] - 5s 11ms/step - loss: 8.9564e-04 - acc: 1.0000 - val_loss: 7.2400e-06 - val_acc: 1.0000\n",
      "\n",
      "Epoch 00003: val_acc did not improve from 1.00000\n",
      "Epoch 4/50\n",
      "449/449 [==============================] - 5s 11ms/step - loss: 5.8175e-04 - acc: 1.0000 - val_loss: 1.5656e-06 - val_acc: 1.0000\n",
      "\n",
      "Epoch 00004: val_acc did not improve from 1.00000\n",
      "Epoch 5/50\n",
      "449/449 [==============================] - 5s 11ms/step - loss: 3.9412e-04 - acc: 1.0000 - val_loss: 4.0630e-07 - val_acc: 1.0000\n",
      "\n",
      "Epoch 00005: val_acc did not improve from 1.00000\n",
      "Epoch 6/50\n",
      "449/449 [==============================] - 5s 11ms/step - loss: 1.9137e-04 - acc: 1.0000 - val_loss: 1.1921e-07 - val_acc: 1.0000\n",
      "\n",
      "Epoch 00006: val_acc did not improve from 1.00000\n",
      "Epoch 7/50\n",
      "449/449 [==============================] - 5s 11ms/step - loss: 1.6165e-04 - acc: 1.0000 - val_loss: 0.0000e+00 - val_acc: 1.0000\n",
      "\n",
      "Epoch 00007: val_acc did not improve from 1.00000\n",
      "Epoch 8/50\n",
      "449/449 [==============================] - 5s 11ms/step - loss: 1.1276e-04 - acc: 1.0000 - val_loss: 0.0000e+00 - val_acc: 1.0000\n",
      "\n",
      "Epoch 00008: val_acc did not improve from 1.00000\n",
      "Epoch 9/50\n",
      "449/449 [==============================] - 5s 10ms/step - loss: 9.1906e-05 - acc: 1.0000 - val_loss: 0.0000e+00 - val_acc: 1.0000\n",
      "\n",
      "Epoch 00009: val_acc did not improve from 1.00000\n",
      "Epoch 10/50\n",
      "449/449 [==============================] - 5s 11ms/step - loss: 1.1570e-04 - acc: 1.0000 - val_loss: 0.0000e+00 - val_acc: 1.0000\n",
      "\n",
      "Epoch 00010: val_acc did not improve from 1.00000\n",
      "Epoch 11/50\n",
      "449/449 [==============================] - 5s 11ms/step - loss: 5.9592e-05 - acc: 1.0000 - val_loss: 0.0000e+00 - val_acc: 1.0000\n",
      "\n",
      "Epoch 00011: val_acc did not improve from 1.00000\n"
     ]
    }
   ],
   "source": [
    "# historygonogo = modelgonogo.fit(xgonogo, ygonogo, epochs=300, callbacks = [earlystop, model_checkpoint]) #plotting the model\n",
    "\n",
    "mlp_gonogo_history = mlp_gonogo.fit(train_cyclic_generator_mlp_gonogo,\n",
    "                        validation_data = (xgonogo_test_mlp, ygonogo_test_mlp),\n",
    "                        steps_per_epoch= 449,\n",
    "                        epochs = 50,\n",
    "                        callbacks = [mlp_gonogo_earlystop, mlp_gonogo_checkpoint]) #Fitting the model"
   ]
  },
  {
   "cell_type": "code",
   "execution_count": 134,
   "metadata": {},
   "outputs": [
    {
     "data": {
      "image/png": "[encoded data removed]",
      "text/plain": [
       "<Figure size 432x288 with 1 Axes>"
      ]
     },
     "metadata": {
      "needs_background": "light"
     },
     "output_type": "display_data"
    },
    {
     "name": "stdout",
     "output_type": "stream",
     "text": [
      "Initial accuracy is:  0.9993039965629578\n",
      "Final accuracy is:  1.0\n",
      "Initial loss is:  0.10011428594589233\n",
      "Final loss is:  5.959223199170083e-05\n"
     ]
    }
   ],
   "source": [
    "#plotting model history\n",
    "plt.plot(mlp_gonogo_history.history['acc'])\n",
    "plt.plot(mlp_gonogo_history.history['loss'])\n",
    "plt.legend(['Accuracy', 'Loss'])\n",
    "plt.title('Model History')\n",
    "plt.ylabel('Value')\n",
    "plt.xlabel('epochs')\n",
    "plt.show()\n",
    "print(\"Initial accuracy is: \", mlp_gonogo_history.history['acc'][0])\n",
    "print(\"Final accuracy is: \", mlp_gonogo_history.history['acc'][-1])\n",
    "\n",
    "print(\"Initial loss is: \", mlp_gonogo_history.history['loss'][0])\n",
    "print(\"Final loss is: \", mlp_gonogo_history.history['loss'][-1])"
   ]
  },
  {
   "cell_type": "code",
   "execution_count": 135,
   "metadata": {},
   "outputs": [
    {
     "data": {
      "image/png": "[encoded data removed]",
      "text/plain": [
       "<Figure size 432x288 with 1 Axes>"
      ]
     },
     "metadata": {
      "needs_background": "light"
     },
     "output_type": "display_data"
    },
    {
     "name": "stdout",
     "output_type": "stream",
     "text": [
      "Initial Validation accuracy is:  1.0\n",
      "Final Validation accuracy is:  1.0\n",
      "Initial Validation loss is:  0.0005487454473040998\n",
      "Final Validation loss is:  0.0\n"
     ]
    }
   ],
   "source": [
    "#Plotting model history\n",
    "plt.plot(mlp_gonogo_history.history['val_acc'])\n",
    "plt.plot(mlp_gonogo_history.history['val_loss'])\n",
    "plt.legend(['Valdation Accuracy', 'Validation Loss'])\n",
    "plt.title('Validation History')\n",
    "plt.ylabel('Value')\n",
    "plt.xlabel('epochs')\n",
    "plt.show()\n",
    "print(\"Initial Validation accuracy is: \", mlp_gonogo_history.history['val_acc'][0])\n",
    "print(\"Final Validation accuracy is: \", mlp_gonogo_history.history['val_acc'][-1])\n",
    "\n",
    "print(\"Initial Validation loss is: \", mlp_gonogo_history.history['val_loss'][0])\n",
    "print(\"Final Validation loss is: \", mlp_gonogo_history.history['val_loss'][-1])"
   ]
  },
  {
   "cell_type": "code",
   "execution_count": 80,
   "metadata": {},
   "outputs": [
    {
     "name": "stdout",
     "output_type": "stream",
     "text": [
      "0\n"
     ]
    }
   ],
   "source": [
    "print(len(tf.config.experimental.list_physical_devices('GPU')))"
   ]
  },
  {
   "cell_type": "code",
   "execution_count": null,
   "metadata": {},
   "outputs": [],
   "source": []
  }
 ],
 "metadata": {
  "kernelspec": {
   "display_name": "Python 3",
   "language": "python",
   "name": "python3"
  },
  "language_info": {
   "codemirror_mode": {
    "name": "ipython",
    "version": 3
   },
   "file_extension": ".py",
   "mimetype": "text/x-python",
   "name": "python",
   "nbconvert_exporter": "python",
   "pygments_lexer": "ipython3",
   "version": "3.7.6"
  }
 },
 "nbformat": 4,
 "nbformat_minor": 4
}
