{
 "cells": [
  {
   "cell_type": "markdown",
   "metadata": {},
   "source": [
    "### Last updated 30/07"
   ]
  },
  {
   "cell_type": "code",
   "execution_count": 1,
   "metadata": {},
   "outputs": [
    {
     "name": "stdout",
     "output_type": "stream",
     "text": [
      "0.23.0\n"
     ]
    }
   ],
   "source": [
    "import matplotlib\n",
    "import pathlib\n",
    "\n",
    "import mne\n",
    "print(mne.__version__)"
   ]
  },
  {
   "cell_type": "code",
   "execution_count": 2,
   "metadata": {},
   "outputs": [],
   "source": [
    "from tensorflow.python.client import device_lib"
   ]
  },
  {
   "cell_type": "code",
   "execution_count": 3,
   "metadata": {},
   "outputs": [
    {
     "data": {
      "text/plain": [
       "[name: \"/device:CPU:0\"\n",
       " device_type: \"CPU\"\n",
       " memory_limit: 268435456\n",
       " locality {\n",
       " }\n",
       " incarnation: 17805048281251546660,\n",
       " name: \"/device:GPU:0\"\n",
       " device_type: \"GPU\"\n",
       " memory_limit: 1448401307\n",
       " locality {\n",
       "   bus_id: 1\n",
       "   links {\n",
       "   }\n",
       " }\n",
       " incarnation: 6537305876377754143\n",
       " physical_device_desc: \"device: 0, name: NVIDIA GeForce MX110, pci bus id: 0000:01:00.0, compute capability: 5.0\"]"
      ]
     },
     "execution_count": 3,
     "metadata": {},
     "output_type": "execute_result"
    }
   ],
   "source": [
    "device_lib.list_local_devices()"
   ]
  },
  {
   "cell_type": "code",
   "execution_count": 2,
   "metadata": {},
   "outputs": [
    {
     "name": "stdout",
     "output_type": "stream",
     "text": [
      "Requirement already satisfied: scikit-learn in d:\\anacondainstalled\\envs\\tf-gpu\\lib\\site-packages (0.24.2)\n",
      "Requirement already satisfied: threadpoolctl>=2.0.0 in d:\\anacondainstalled\\envs\\tf-gpu\\lib\\site-packages (from scikit-learn) (2.2.0)\n",
      "Requirement already satisfied: scipy>=0.19.1 in d:\\anacondainstalled\\envs\\tf-gpu\\lib\\site-packages (from scikit-learn) (1.4.1)\n",
      "Requirement already satisfied: numpy>=1.13.3 in d:\\anacondainstalled\\envs\\tf-gpu\\lib\\site-packages (from scikit-learn) (1.18.1)\n",
      "Requirement already satisfied: joblib>=0.11 in d:\\anacondainstalled\\envs\\tf-gpu\\lib\\site-packages (from scikit-learn) (1.0.1)\n"
     ]
    }
   ],
   "source": [
    "!pip install scikit-learn"
   ]
  },
  {
   "cell_type": "code",
   "execution_count": 3,
   "metadata": {},
   "outputs": [
    {
     "name": "stdout",
     "output_type": "stream",
     "text": [
      "Requirement already satisfied: matplotlib in d:\\anacondainstalled\\envs\\tf-gpu\\lib\\site-packages (3.4.2)\n",
      "Requirement already satisfied: python-dateutil>=2.7 in d:\\anacondainstalled\\envs\\tf-gpu\\lib\\site-packages (from matplotlib) (2.8.2)\n",
      "Requirement already satisfied: pyparsing>=2.2.1 in d:\\anacondainstalled\\envs\\tf-gpu\\lib\\site-packages (from matplotlib) (2.4.7)\n",
      "Requirement already satisfied: kiwisolver>=1.0.1 in d:\\anacondainstalled\\envs\\tf-gpu\\lib\\site-packages (from matplotlib) (1.3.1)\n",
      "Requirement already satisfied: cycler>=0.10 in d:\\anacondainstalled\\envs\\tf-gpu\\lib\\site-packages (from matplotlib) (0.10.0)\n",
      "Requirement already satisfied: numpy>=1.16 in d:\\anacondainstalled\\envs\\tf-gpu\\lib\\site-packages (from matplotlib) (1.18.1)\n",
      "Requirement already satisfied: pillow>=6.2.0 in d:\\anacondainstalled\\envs\\tf-gpu\\lib\\site-packages (from matplotlib) (8.3.1)\n",
      "Requirement already satisfied: six>=1.5 in d:\\anacondainstalled\\envs\\tf-gpu\\lib\\site-packages (from python-dateutil>=2.7->matplotlib) (1.15.0)\n"
     ]
    }
   ],
   "source": [
    "!pip install matplotlib"
   ]
  },
  {
   "cell_type": "code",
   "execution_count": 4,
   "metadata": {},
   "outputs": [
    {
     "name": "stdout",
     "output_type": "stream",
     "text": [
      "Requirement already satisfied: mne in d:\\anacondainstalled\\envs\\tf-gpu\\lib\\site-packages (0.23.0)\n",
      "Requirement already satisfied: scipy>=1.1.0 in d:\\anacondainstalled\\envs\\tf-gpu\\lib\\site-packages (from mne) (1.4.1)\n",
      "Requirement already satisfied: numpy>=1.15.4 in d:\\anacondainstalled\\envs\\tf-gpu\\lib\\site-packages (from mne) (1.18.1)\n"
     ]
    }
   ],
   "source": [
    "!pip install mne"
   ]
  },
  {
   "cell_type": "code",
   "execution_count": 5,
   "metadata": {},
   "outputs": [
    {
     "name": "stdout",
     "output_type": "stream",
     "text": [
      "Requirement already satisfied: pathlib in d:\\anacondainstalled\\envs\\tf-gpu\\lib\\site-packages (1.0.1)\n",
      "Requirement already satisfied: pandas in d:\\anacondainstalled\\envs\\tf-gpu\\lib\\site-packages (1.3.1)\n",
      "Requirement already satisfied: pytz>=2017.3 in d:\\anacondainstalled\\envs\\tf-gpu\\lib\\site-packages (from pandas) (2021.1)\n",
      "Requirement already satisfied: python-dateutil>=2.7.3 in d:\\anacondainstalled\\envs\\tf-gpu\\lib\\site-packages (from pandas) (2.8.2)\n",
      "Requirement already satisfied: numpy>=1.17.3 in d:\\anacondainstalled\\envs\\tf-gpu\\lib\\site-packages (from pandas) (1.18.1)\n",
      "Requirement already satisfied: six>=1.5 in d:\\anacondainstalled\\envs\\tf-gpu\\lib\\site-packages (from python-dateutil>=2.7.3->pandas) (1.15.0)\n"
     ]
    }
   ],
   "source": [
    "!pip install pathlib\n",
    "!pip install pandas"
   ]
  },
  {
   "cell_type": "code",
   "execution_count": 6,
   "metadata": {},
   "outputs": [
    {
     "name": "stdout",
     "output_type": "stream",
     "text": [
      "Requirement already satisfied: PyQt5 in d:\\anacondainstalled\\envs\\tf-gpu\\lib\\site-packages (5.15.4)\n",
      "Requirement already satisfied: PyQt5-sip<13,>=12.8 in d:\\anacondainstalled\\envs\\tf-gpu\\lib\\site-packages (from PyQt5) (12.9.0)\n",
      "Requirement already satisfied: PyQt5-Qt5>=5.15 in d:\\anacondainstalled\\envs\\tf-gpu\\lib\\site-packages (from PyQt5) (5.15.2)\n"
     ]
    }
   ],
   "source": [
    "!pip install PyQt5"
   ]
  },
  {
   "cell_type": "code",
   "execution_count": 4,
   "metadata": {},
   "outputs": [],
   "source": [
    "matplotlib.use('Qt5Agg')"
   ]
  },
  {
   "cell_type": "markdown",
   "metadata": {},
   "source": [
    "## Reading raw data"
   ]
  },
  {
   "cell_type": "code",
   "execution_count": 5,
   "metadata": {},
   "outputs": [],
   "source": [
    "#paths Arush\n",
    "path_AB6_gonogo1 = 'data/sub-AB6/eeg/sub-AB6_task-gonogo_run-1_eeg.set'\n",
    "path_AB6_gonogo2 = 'data/sub-AB6/eeg/sub-AB6_task-gonogo_run-2_eeg.set'\n",
    "path_AB10_gonogo1 = 'data/other subjects set files/sub-AB10_eeg_sub-AB10_task-gonogo_run-1_eeg.set'\n",
    "path_AB10_gonogo2 = 'data/other subjects set files/sub-AB10_eeg_sub-AB10_task-gonogo_run-2_eeg.set'\n",
    "path_AB12_gonogo1 = 'data/other subjects set files/sub-AB12_eeg_sub-AB12_task-gonogo_run-1_eeg.set'\n",
    "path_AB12_gonogo2 = 'data/other subjects set files/sub-AB12_eeg_sub-AB12_task-gonogo_run-2_eeg.set'\n",
    "path_AB13_gonogo1 = 'data/other subjects set files/sub-AB13_eeg_sub-AB13_task-gonogo_run-1_eeg.set'\n",
    "path_AB13_gonogo2 = 'data/other subjects set files/sub-AB13_eeg_sub-AB13_task-gonogo_run-2_eeg.set'\n",
    "path_AB28_gonogo1 = 'data/other subjects set files/sub-AB28_eeg_sub-AB28_task-gonogo_run-1_eeg.set'\n",
    "path_AB28_gonogo2 = 'data/other subjects set files/sub-AB28_eeg_sub-AB28_task-gonogo_run-2_eeg.set'\n",
    "path_AB31_gonogo1 = 'data/other subjects set files/sub-AB31_eeg_sub-AB31_task-gonogo_run-1_eeg.set'\n",
    "path_AB31_gonogo2 = 'data/other subjects set files/sub-AB31_eeg_sub-AB31_task-gonogo_run-2_eeg.set'\n",
    "path_AB32_gonogo1 = 'data/other subjects set files/sub-AB32_eeg_sub-AB32_task-gonogo_run-1_eeg.set'\n",
    "path_AB32_gonogo2 = 'data/other subjects set files/sub-AB32_eeg_sub-AB32_task-gonogo_run-2_eeg.set'\n",
    "\n",
    "path_channels_tsv = 'data/other subjects set files/sub-AB10_eeg_sub-AB10_task-gonogo_run-1_channels.tsv'"
   ]
  },
  {
   "cell_type": "code",
   "execution_count": 6,
   "metadata": {},
   "outputs": [],
   "source": [
    "# #paths Sahil\n",
    "# path_AB6_gonogo1 = '../../data/sub-AB6_task-gonogo_run-1_eeg.set'\n",
    "# path_AB6_gonogo2 = '../../data/sub-AB6_task-gonogo_run-2_eeg.set'\n",
    "# path_AB10_gonogo1 = '../../data/sub-AB10_task-gonogo_run-1_eeg.set'\n",
    "# path_AB10_gonogo2 = '../../data/sub-AB10_task-gonogo_run-2_eeg.set'\n",
    "# path_AB12_gonogo1 = '../../data/sub-AB12_task-gonogo_run-1_eeg.set'\n",
    "# path_AB12_gonogo2 = '../../data/sub-AB12_task-gonogo_run-2_eeg.set'\n",
    "# path_AB13_gonogo1 = '../../data/sub-AB13_task-gonogo_run-1_eeg.set'\n",
    "# path_AB13_gonogo2 = '../../data/sub-AB13_task-gonogo_run-2_eeg.set'\n",
    "# path_AB28_gonogo1 = '../../data/sub-AB28_task-gonogo_run-1_eeg.set'\n",
    "# path_AB28_gonogo2 = '../../data/sub-AB28_task-gonogo_run-2_eeg.set'\n",
    "# path_AB31_gonogo1 = '../../data/sub-AB31_task-gonogo_run-1_eeg.set'\n",
    "# path_AB31_gonogo2 = '../../data/sub-AB31_task-gonogo_run-2_eeg.set'\n",
    "# path_AB32_gonogo1 = '../../data/sub-AB32_task-gonogo_run-1_eeg.set'\n",
    "# path_AB32_gonogo2 = '../../data/sub-AB32_task-gonogo_run-2_eeg.set'\n",
    "\n",
    "# path_channels_tsv = '../../data\\sub-AB10_eeg_sub-AB10_task-gonogo_run-1_channels.tsv'"
   ]
  },
  {
   "cell_type": "code",
   "execution_count": 7,
   "metadata": {},
   "outputs": [],
   "source": [
    "#loading raw data\n",
    "rawab6_1 = mne.io.read_raw_eeglab(path_AB6_gonogo1, eog=(), preload=True, uint16_codec=None, verbose=None)\n",
    "rawab6_2 = mne.io.read_raw_eeglab(path_AB6_gonogo2, eog=(), preload=True, uint16_codec=None, verbose=None)\n",
    "\n",
    "rawab10_1 = mne.io.read_raw_eeglab(path_AB10_gonogo1, eog=(), preload=True, uint16_codec=None, verbose=None)\n",
    "rawab10_2 = mne.io.read_raw_eeglab(path_AB10_gonogo2, eog=(), preload=True, uint16_codec=None, verbose=None)\n",
    "\n",
    "rawab12_1 = mne.io.read_raw_eeglab(path_AB12_gonogo1, eog=(), preload=True, uint16_codec=None, verbose=None)\n",
    "rawab12_2 = mne.io.read_raw_eeglab(path_AB12_gonogo2, eog=(), preload=True, uint16_codec=None, verbose=None)\n",
    "\n",
    "rawab13_1 = mne.io.read_raw_eeglab(path_AB13_gonogo1, eog=(), preload=True, uint16_codec=None, verbose=None)\n",
    "rawab13_2 = mne.io.read_raw_eeglab(path_AB13_gonogo1, eog=(), preload=True, uint16_codec=None, verbose=None)\n",
    "\n",
    "rawab28_1 = mne.io.read_raw_eeglab(path_AB28_gonogo1, eog=(), preload=True, uint16_codec=None, verbose=None)\n",
    "rawab28_2 = mne.io.read_raw_eeglab(path_AB28_gonogo2, eog=(), preload=True, uint16_codec=None, verbose=None)\n",
    "\n",
    "rawab31_1 = mne.io.read_raw_eeglab(path_AB31_gonogo1, eog=(), preload=True, uint16_codec=None, verbose=None)\n",
    "rawab31_2 = mne.io.read_raw_eeglab(path_AB31_gonogo2, eog=(), preload=True, uint16_codec=None, verbose=None)\n",
    "\n",
    "rawab32_1 = mne.io.read_raw_eeglab(path_AB32_gonogo1, eog=(), preload=True, uint16_codec=None, verbose=None)\n",
    "rawab32_2 = mne.io.read_raw_eeglab(path_AB32_gonogo2, eog=(), preload=True, uint16_codec=None, verbose=None)"
   ]
  },
  {
   "cell_type": "code",
   "execution_count": 10,
   "metadata": {},
   "outputs": [],
   "source": [
    "#plotting raw data\n",
    "# rawab6_1.plot();\n",
    "# rawab6_2.plot();\n",
    "rawab10_1.plot();\n",
    "# rawab10_2.plot();\n",
    "rawab12_1.plot();\n",
    "# rawab12_2.plot();\n",
    "# rawab13_1.plot();\n",
    "# rawab13_2.plot();\n",
    "# rawab28_1.plot();\n",
    "# rawab28_2.plot();\n",
    "# rawab31_1.plot();\n",
    "# rawab31_2.plot();\n",
    "# rawab32_1.plot();\n",
    "# rawab32_2.plot();"
   ]
  },
  {
   "cell_type": "markdown",
   "metadata": {},
   "source": [
    "## Assigning channel types and filtering"
   ]
  },
  {
   "cell_type": "code",
   "execution_count": 8,
   "metadata": {
    "scrolled": true
   },
   "outputs": [
    {
     "data": {
      "text/plain": [
       "{'AF3': 'eeg',\n",
       " 'AF4': 'eeg',\n",
       " 'F7': 'eeg',\n",
       " 'F5': 'eeg',\n",
       " 'F3': 'eeg',\n",
       " 'F1': 'eeg',\n",
       " 'Fz': 'eeg',\n",
       " 'F2': 'eeg',\n",
       " 'F4': 'eeg',\n",
       " 'F6': 'eeg',\n",
       " 'F8': 'eeg',\n",
       " 'FT7': 'eeg',\n",
       " 'FC5': 'eeg',\n",
       " 'FC3': 'eeg',\n",
       " 'FC1': 'eeg',\n",
       " 'FCz': 'eeg',\n",
       " 'FC2': 'eeg',\n",
       " 'FC4': 'eeg',\n",
       " 'FC6': 'eeg',\n",
       " 'FT8': 'eeg',\n",
       " 'T7': 'eeg',\n",
       " 'C5': 'eeg',\n",
       " 'C3': 'eeg',\n",
       " 'C1': 'eeg',\n",
       " 'Cz': 'eeg',\n",
       " 'C2': 'eeg',\n",
       " 'C4': 'eeg',\n",
       " 'C6': 'eeg',\n",
       " 'T8': 'eeg',\n",
       " 'M1': 'eeg',\n",
       " 'TP7': 'eeg',\n",
       " 'CP5': 'eeg',\n",
       " 'CP3': 'eeg',\n",
       " 'CP1': 'eeg',\n",
       " 'CPz': 'eeg',\n",
       " 'CP2': 'eeg',\n",
       " 'CP4': 'eeg',\n",
       " 'CP6': 'eeg',\n",
       " 'TP8': 'eeg',\n",
       " 'M2': 'eeg',\n",
       " 'P7': 'eeg',\n",
       " 'P5': 'eeg',\n",
       " 'P3': 'eeg',\n",
       " 'P1': 'eeg',\n",
       " 'Pz': 'eeg',\n",
       " 'P2': 'eeg',\n",
       " 'P4': 'eeg',\n",
       " 'P6': 'eeg',\n",
       " 'P8': 'eeg',\n",
       " 'PO7': 'eeg',\n",
       " 'PO5': 'eeg',\n",
       " 'PO3': 'eeg',\n",
       " 'POz': 'eeg',\n",
       " 'PO4': 'eeg',\n",
       " 'PO6': 'eeg',\n",
       " 'PO8': 'eeg',\n",
       " 'CB1': 'eeg',\n",
       " 'O1': 'eeg',\n",
       " 'Oz': 'eeg',\n",
       " 'O2': 'eeg',\n",
       " 'CB2': 'eeg',\n",
       " 'VEO': 'eog',\n",
       " 'HEO': 'eog',\n",
       " 'EKG': 'ecg',\n",
       " 'R-Dia-X-(mm)': 'misc',\n",
       " 'R-Dia-Y-(mm)': 'misc'}"
      ]
     },
     "execution_count": 8,
     "metadata": {},
     "output_type": "execute_result"
    }
   ],
   "source": [
    "#get type of channels from tsv file\n",
    "import pandas as pd\n",
    "channel_types_tsv = pd.read_csv(path_channels_tsv, delimiter = '\\t')\n",
    "\n",
    "def get_channel_types_dic(channel_types_tsv):\n",
    "    channel_types = {}\n",
    "    for i in range(channel_types_tsv.shape[0]):\n",
    "        channel_types[channel_types_tsv['name'][i]] = channel_types_tsv['type'][i].lower()\n",
    "    reassign_dic = {'HEO':'eog', 'VEO':'eog', 'R-Dia-X-(mm)':'misc', 'R-Dia-Y-(mm)':'misc'}\n",
    "    for k in list(reassign_dic.keys()):\n",
    "        if k in list(channel_types):\n",
    "            channel_types[k] = reassign_dic[k]\n",
    "    return channel_types\n",
    "\n",
    "channel_types = get_channel_types_dic(channel_types_tsv)\n",
    "channel_types"
   ]
  },
  {
   "cell_type": "code",
   "execution_count": 9,
   "metadata": {},
   "outputs": [
    {
     "data": {
      "text/html": [
       "\n",
       "\n",
       "<table class=\"table table-hover\">\n",
       "    <tr>\n",
       "        <th>Measurement date</th>\n",
       "<td>Unknown</td>\n",
       "    </tr>\n",
       "    <tr>\n",
       "        <th>Experimenter</th>\n",
       "<td>Unknown</td>\n",
       "    </tr>\n",
       "        <th>Participant</th>\n",
       "<td>Unknown</td>\n",
       "    </tr>\n",
       "    <tr>\n",
       "        <th>Digitized points</th>\n",
       "        <td>66 points</td>\n",
       "    </tr>\n",
       "    <tr>\n",
       "        <th>Good channels</th>\n",
       "        <td>0 magnetometer, 0 gradiometer,\n",
       "            and 61 EEG channels</td>\n",
       "    </tr>\n",
       "    <tr>\n",
       "        <th>Bad channels</th>\n",
       "        <td></td>\n",
       "        \n",
       "    </tr>\n",
       "    <tr>\n",
       "        <th>EOG channels</th>\n",
       "        <td>VEO, HEO</td>\n",
       "    </tr>\n",
       "    <tr>\n",
       "        <th>ECG channels</th>\n",
       "        <td>EKG</td>\n",
       "    <tr>\n",
       "        <th>Sampling frequency</th>\n",
       "        <td>500.00 Hz</td>\n",
       "    </tr>\n",
       "    <tr>\n",
       "        <th>Highpass</th>\n",
       "        <td>0.00 Hz</td>\n",
       "    </tr>\n",
       "     <tr>\n",
       "        <th>Lowpass</th>\n",
       "        <td>250.00 Hz</td>\n",
       "    </tr>\n",
       "\n",
       "    <tr>\n",
       "        <th>Filenames</th>\n",
       "        <td>sub-AB32_eeg_sub-AB32_task-gonogo_run-2_eeg.set</td>\n",
       "    </tr>\n",
       "    <tr>\n",
       "        <th>Duration</th>\n",
       "        <td>00:08:16 (HH:MM:SS)</td>\n",
       "    </tr>\n",
       "</table>\n"
      ],
      "text/plain": [
       "<RawEEGLAB | sub-AB32_eeg_sub-AB32_task-gonogo_run-2_eeg.set, 66 x 248300 (496.6 s), ~125.1 MB, data loaded>"
      ]
     },
     "execution_count": 9,
     "metadata": {},
     "output_type": "execute_result"
    }
   ],
   "source": [
    "#assigning channel types\n",
    "#rawab6_1.set_channel_types(channel_types)\n",
    "#rawab6_2.set_channel_types(channel_types)\n",
    "rawab10_1.set_channel_types(channel_types)\n",
    "rawab10_2.set_channel_types(channel_types)\n",
    "rawab12_1.set_channel_types(channel_types)\n",
    "rawab12_2.set_channel_types(channel_types)\n",
    "rawab13_1.set_channel_types(channel_types)\n",
    "rawab13_2.set_channel_types(channel_types)\n",
    "rawab28_1.set_channel_types(channel_types)\n",
    "rawab28_2.set_channel_types(channel_types)\n",
    "rawab31_1.set_channel_types(channel_types)\n",
    "rawab31_2.set_channel_types(channel_types)\n",
    "rawab32_1.set_channel_types(channel_types)\n",
    "rawab32_2.set_channel_types(channel_types)"
   ]
  },
  {
   "cell_type": "code",
   "execution_count": 13,
   "metadata": {
    "scrolled": true
   },
   "outputs": [
    {
     "name": "stdout",
     "output_type": "stream",
     "text": [
      "Filtering raw data in 1 contiguous segment\n",
      "Setting up band-pass filter from 0.5 - 60 Hz\n",
      "\n",
      "FIR filter parameters\n",
      "---------------------\n",
      "Designing a one-pass, zero-phase, non-causal bandpass filter:\n",
      "- Windowed time-domain design (firwin) method\n",
      "- Hamming window with 0.0194 passband ripple and 53 dB stopband attenuation\n",
      "- Lower passband edge: 0.50\n",
      "- Lower transition bandwidth: 0.50 Hz (-6 dB cutoff frequency: 0.25 Hz)\n",
      "- Upper passband edge: 60.00 Hz\n",
      "- Upper transition bandwidth: 15.00 Hz (-6 dB cutoff frequency: 67.50 Hz)\n",
      "- Filter length: 3301 samples (6.602 sec)\n",
      "\n",
      "Filtering raw data in 1 contiguous segment\n",
      "Setting up band-pass filter from 0.5 - 60 Hz\n",
      "\n",
      "FIR filter parameters\n",
      "---------------------\n",
      "Designing a one-pass, zero-phase, non-causal bandpass filter:\n",
      "- Windowed time-domain design (firwin) method\n",
      "- Hamming window with 0.0194 passband ripple and 53 dB stopband attenuation\n",
      "- Lower passband edge: 0.50\n",
      "- Lower transition bandwidth: 0.50 Hz (-6 dB cutoff frequency: 0.25 Hz)\n",
      "- Upper passband edge: 60.00 Hz\n",
      "- Upper transition bandwidth: 15.00 Hz (-6 dB cutoff frequency: 67.50 Hz)\n",
      "- Filter length: 3301 samples (6.602 sec)\n",
      "\n",
      "Filtering raw data in 1 contiguous segment\n",
      "Setting up band-pass filter from 0.5 - 60 Hz\n",
      "\n",
      "FIR filter parameters\n",
      "---------------------\n",
      "Designing a one-pass, zero-phase, non-causal bandpass filter:\n",
      "- Windowed time-domain design (firwin) method\n",
      "- Hamming window with 0.0194 passband ripple and 53 dB stopband attenuation\n",
      "- Lower passband edge: 0.50\n",
      "- Lower transition bandwidth: 0.50 Hz (-6 dB cutoff frequency: 0.25 Hz)\n",
      "- Upper passband edge: 60.00 Hz\n",
      "- Upper transition bandwidth: 15.00 Hz (-6 dB cutoff frequency: 67.50 Hz)\n",
      "- Filter length: 3301 samples (6.602 sec)\n",
      "\n",
      "Filtering raw data in 1 contiguous segment\n",
      "Setting up band-pass filter from 0.5 - 60 Hz\n",
      "\n",
      "FIR filter parameters\n",
      "---------------------\n",
      "Designing a one-pass, zero-phase, non-causal bandpass filter:\n",
      "- Windowed time-domain design (firwin) method\n",
      "- Hamming window with 0.0194 passband ripple and 53 dB stopband attenuation\n",
      "- Lower passband edge: 0.50\n",
      "- Lower transition bandwidth: 0.50 Hz (-6 dB cutoff frequency: 0.25 Hz)\n",
      "- Upper passband edge: 60.00 Hz\n",
      "- Upper transition bandwidth: 15.00 Hz (-6 dB cutoff frequency: 67.50 Hz)\n",
      "- Filter length: 3301 samples (6.602 sec)\n",
      "\n",
      "Filtering raw data in 1 contiguous segment\n",
      "Setting up band-pass filter from 0.5 - 60 Hz\n",
      "\n",
      "FIR filter parameters\n",
      "---------------------\n",
      "Designing a one-pass, zero-phase, non-causal bandpass filter:\n",
      "- Windowed time-domain design (firwin) method\n",
      "- Hamming window with 0.0194 passband ripple and 53 dB stopband attenuation\n",
      "- Lower passband edge: 0.50\n",
      "- Lower transition bandwidth: 0.50 Hz (-6 dB cutoff frequency: 0.25 Hz)\n",
      "- Upper passband edge: 60.00 Hz\n",
      "- Upper transition bandwidth: 15.00 Hz (-6 dB cutoff frequency: 67.50 Hz)\n",
      "- Filter length: 3301 samples (6.602 sec)\n",
      "\n",
      "Filtering raw data in 1 contiguous segment\n",
      "Setting up band-pass filter from 0.5 - 60 Hz\n",
      "\n",
      "FIR filter parameters\n",
      "---------------------\n",
      "Designing a one-pass, zero-phase, non-causal bandpass filter:\n",
      "- Windowed time-domain design (firwin) method\n",
      "- Hamming window with 0.0194 passband ripple and 53 dB stopband attenuation\n",
      "- Lower passband edge: 0.50\n",
      "- Lower transition bandwidth: 0.50 Hz (-6 dB cutoff frequency: 0.25 Hz)\n",
      "- Upper passband edge: 60.00 Hz\n",
      "- Upper transition bandwidth: 15.00 Hz (-6 dB cutoff frequency: 67.50 Hz)\n",
      "- Filter length: 3301 samples (6.602 sec)\n",
      "\n",
      "Filtering raw data in 1 contiguous segment\n",
      "Setting up band-pass filter from 0.5 - 60 Hz\n",
      "\n",
      "FIR filter parameters\n",
      "---------------------\n",
      "Designing a one-pass, zero-phase, non-causal bandpass filter:\n",
      "- Windowed time-domain design (firwin) method\n",
      "- Hamming window with 0.0194 passband ripple and 53 dB stopband attenuation\n",
      "- Lower passband edge: 0.50\n",
      "- Lower transition bandwidth: 0.50 Hz (-6 dB cutoff frequency: 0.25 Hz)\n",
      "- Upper passband edge: 60.00 Hz\n",
      "- Upper transition bandwidth: 15.00 Hz (-6 dB cutoff frequency: 67.50 Hz)\n",
      "- Filter length: 3301 samples (6.602 sec)\n",
      "\n",
      "Filtering raw data in 1 contiguous segment\n",
      "Setting up band-pass filter from 0.5 - 60 Hz\n",
      "\n",
      "FIR filter parameters\n",
      "---------------------\n",
      "Designing a one-pass, zero-phase, non-causal bandpass filter:\n",
      "- Windowed time-domain design (firwin) method\n",
      "- Hamming window with 0.0194 passband ripple and 53 dB stopband attenuation\n",
      "- Lower passband edge: 0.50\n",
      "- Lower transition bandwidth: 0.50 Hz (-6 dB cutoff frequency: 0.25 Hz)\n",
      "- Upper passband edge: 60.00 Hz\n",
      "- Upper transition bandwidth: 15.00 Hz (-6 dB cutoff frequency: 67.50 Hz)\n",
      "- Filter length: 3301 samples (6.602 sec)\n",
      "\n",
      "Filtering raw data in 1 contiguous segment\n",
      "Setting up band-pass filter from 0.5 - 60 Hz\n",
      "\n",
      "FIR filter parameters\n",
      "---------------------\n",
      "Designing a one-pass, zero-phase, non-causal bandpass filter:\n",
      "- Windowed time-domain design (firwin) method\n",
      "- Hamming window with 0.0194 passband ripple and 53 dB stopband attenuation\n",
      "- Lower passband edge: 0.50\n",
      "- Lower transition bandwidth: 0.50 Hz (-6 dB cutoff frequency: 0.25 Hz)\n",
      "- Upper passband edge: 60.00 Hz\n",
      "- Upper transition bandwidth: 15.00 Hz (-6 dB cutoff frequency: 67.50 Hz)\n",
      "- Filter length: 3301 samples (6.602 sec)\n",
      "\n",
      "Filtering raw data in 1 contiguous segment\n",
      "Setting up band-pass filter from 0.5 - 60 Hz\n",
      "\n",
      "FIR filter parameters\n",
      "---------------------\n",
      "Designing a one-pass, zero-phase, non-causal bandpass filter:\n",
      "- Windowed time-domain design (firwin) method\n",
      "- Hamming window with 0.0194 passband ripple and 53 dB stopband attenuation\n",
      "- Lower passband edge: 0.50\n",
      "- Lower transition bandwidth: 0.50 Hz (-6 dB cutoff frequency: 0.25 Hz)\n",
      "- Upper passband edge: 60.00 Hz\n",
      "- Upper transition bandwidth: 15.00 Hz (-6 dB cutoff frequency: 67.50 Hz)\n",
      "- Filter length: 3301 samples (6.602 sec)\n",
      "\n",
      "Filtering raw data in 1 contiguous segment\n",
      "Setting up band-pass filter from 0.5 - 60 Hz\n",
      "\n",
      "FIR filter parameters\n",
      "---------------------\n",
      "Designing a one-pass, zero-phase, non-causal bandpass filter:\n",
      "- Windowed time-domain design (firwin) method\n",
      "- Hamming window with 0.0194 passband ripple and 53 dB stopband attenuation\n",
      "- Lower passband edge: 0.50\n",
      "- Lower transition bandwidth: 0.50 Hz (-6 dB cutoff frequency: 0.25 Hz)\n",
      "- Upper passband edge: 60.00 Hz\n",
      "- Upper transition bandwidth: 15.00 Hz (-6 dB cutoff frequency: 67.50 Hz)\n",
      "- Filter length: 3301 samples (6.602 sec)\n",
      "\n",
      "Filtering raw data in 1 contiguous segment\n",
      "Setting up band-pass filter from 0.5 - 60 Hz\n",
      "\n",
      "FIR filter parameters\n",
      "---------------------\n",
      "Designing a one-pass, zero-phase, non-causal bandpass filter:\n",
      "- Windowed time-domain design (firwin) method\n",
      "- Hamming window with 0.0194 passband ripple and 53 dB stopband attenuation\n",
      "- Lower passband edge: 0.50\n",
      "- Lower transition bandwidth: 0.50 Hz (-6 dB cutoff frequency: 0.25 Hz)\n",
      "- Upper passband edge: 60.00 Hz\n",
      "- Upper transition bandwidth: 15.00 Hz (-6 dB cutoff frequency: 67.50 Hz)\n",
      "- Filter length: 3301 samples (6.602 sec)\n",
      "\n"
     ]
    },
    {
     "data": {
      "text/html": [
       "\n",
       "\n",
       "<table class=\"table table-hover\">\n",
       "    <tr>\n",
       "        <th>Measurement date</th>\n",
       "<td>Unknown</td>\n",
       "    </tr>\n",
       "    <tr>\n",
       "        <th>Experimenter</th>\n",
       "<td>Unknown</td>\n",
       "    </tr>\n",
       "        <th>Participant</th>\n",
       "<td>Unknown</td>\n",
       "    </tr>\n",
       "    <tr>\n",
       "        <th>Digitized points</th>\n",
       "        <td>66 points</td>\n",
       "    </tr>\n",
       "    <tr>\n",
       "        <th>Good channels</th>\n",
       "        <td>0 magnetometer, 0 gradiometer,\n",
       "            and 61 EEG channels</td>\n",
       "    </tr>\n",
       "    <tr>\n",
       "        <th>Bad channels</th>\n",
       "        <td></td>\n",
       "        \n",
       "    </tr>\n",
       "    <tr>\n",
       "        <th>EOG channels</th>\n",
       "        <td>VEO, HEO</td>\n",
       "    </tr>\n",
       "    <tr>\n",
       "        <th>ECG channels</th>\n",
       "        <td>EKG</td>\n",
       "    <tr>\n",
       "        <th>Sampling frequency</th>\n",
       "        <td>500.00 Hz</td>\n",
       "    </tr>\n",
       "    <tr>\n",
       "        <th>Highpass</th>\n",
       "        <td>0.50 Hz</td>\n",
       "    </tr>\n",
       "     <tr>\n",
       "        <th>Lowpass</th>\n",
       "        <td>60.00 Hz</td>\n",
       "    </tr>\n",
       "\n",
       "    <tr>\n",
       "        <th>Filenames</th>\n",
       "        <td>sub-AB32_eeg_sub-AB32_task-gonogo_run-2_eeg.set</td>\n",
       "    </tr>\n",
       "    <tr>\n",
       "        <th>Duration</th>\n",
       "        <td>00:08:16 (HH:MM:SS)</td>\n",
       "    </tr>\n",
       "</table>\n"
      ],
      "text/plain": [
       "<RawEEGLAB | sub-AB32_eeg_sub-AB32_task-gonogo_run-2_eeg.set, 66 x 248300 (496.6 s), ~125.1 MB, data loaded>"
      ]
     },
     "execution_count": 13,
     "metadata": {},
     "output_type": "execute_result"
    },
    {
     "name": "stdout",
     "output_type": "stream",
     "text": [
      "Channels marked as bad: none\n",
      "Channels marked as bad: none\n"
     ]
    }
   ],
   "source": [
    "#filtering the signals\n",
    "#rawab6_1.filter(1, 60)\n",
    "#rawab6_2.filter(1, 60)\n",
    "rawab10_1.filter(0.50, 60)\n",
    "rawab10_2.filter(0.50, 60)\n",
    "rawab12_1.filter(0.50, 60)\n",
    "rawab12_2.filter(0.50, 60)\n",
    "rawab13_1.filter(0.50, 60)\n",
    "rawab13_2.filter(0.50, 60)\n",
    "rawab28_1.filter(0.50, 60)\n",
    "rawab28_2.filter(0.50, 60)\n",
    "rawab31_1.filter(0.50, 60)\n",
    "rawab31_2.filter(0.50, 60)\n",
    "rawab32_1.filter(0.50, 60)\n",
    "rawab32_2.filter(0.50, 60)"
   ]
  },
  {
   "cell_type": "markdown",
   "metadata": {},
   "source": [
    "## plotting Electrode positions"
   ]
  },
  {
   "cell_type": "code",
   "execution_count": 14,
   "metadata": {},
   "outputs": [],
   "source": [
    "# rawab6_1.plot_sensors(ch_type = 'eeg', sphere = 10);\n",
    "# # rawab6_2.plot_sensors(ch_type = 'eeg', sphere = 10);\n",
    "\n",
    "# rawab10_1.plot_sensors(ch_type = 'eeg', sphere = 10);\n",
    "# # rawab10_2.plot_sensors(ch_type = 'eeg', sphere = 10);\n",
    "\n",
    "rawab12_1.plot_sensors(ch_type = 'eeg', sphere = 10);\n",
    "# # rawab12_2.plot_sensors(ch_type = 'eeg', sphere = 10);\n",
    "\n",
    "# rawab13_1.plot_sensors(ch_type = 'eeg', sphere = 10);\n",
    "# # rawab13_2.plot_sensors(ch_type = 'eeg', sphere = 10);\n",
    "\n",
    "# rawab28_1.plot_sensors(ch_type = 'eeg', sphere = 10);\n",
    "# # rawab28_2.plot_sensors(ch_type = 'eeg', sphere = 10);\n",
    "\n",
    "# rawab31_1.plot_sensors(ch_type = 'eeg', sphere = 10);\n",
    "# # rawab31_2.plot_sensors(ch_type = 'eeg', sphere = 10);\n",
    "\n",
    "# rawab32_1.plot_sensors(ch_type = 'eeg', sphere = 10);\n",
    "# # rawab32_2.plot_sensors(ch_type = 'eeg', sphere = 10);"
   ]
  },
  {
   "cell_type": "code",
   "execution_count": 35,
   "metadata": {},
   "outputs": [],
   "source": [
    "# rawab6_1.plot_sensors(ch_type = 'eeg', kind = '3d');\n",
    "# # rawab6_2.plot_sensors(ch_type = 'eeg', kind = '3d');\n",
    "\n",
    "# rawab10_1.plot_sensors(ch_type = 'eeg', kind = '3d');\n",
    "# # rawab10_2.plot_sensors(ch_type = 'eeg', kind = '3d');\n",
    "\n",
    "rawab12_1.plot_sensors(ch_type = 'eeg', kind = '3d');\n",
    "# # rawab12_2.plot_sensors(ch_type = 'eeg', kind = '3d');\n",
    "\n",
    "# rawab13_1.plot_sensors(ch_type = 'eeg', kind = '3d');\n",
    "# # rawab13_2.plot_sensors(ch_type = 'eeg', kind = '3d');\n",
    "\n",
    "# rawab28_1.plot_sensors(ch_type = 'eeg', kind = '3d');\n",
    "# # rawab28_2.plot_sensors(ch_type = 'eeg', kind = '3d');\n",
    "\n",
    "# rawab31_1.plot_sensors(ch_type = 'eeg', kind = '3d');\n",
    "# # rawab31_2.plot_sensors(ch_type = 'eeg', kind = '3d');\n",
    "\n",
    "# rawab32_1.plot_sensors(ch_type = 'eeg', kind = '3d');\n",
    "# # rawab32_2.plot_sensors(ch_type = 'eeg', kind = '3d');"
   ]
  },
  {
   "cell_type": "code",
   "execution_count": 12,
   "metadata": {},
   "outputs": [
    {
     "data": {
      "text/html": [
       "\n",
       "\n",
       "<table class=\"table table-hover\">\n",
       "    <tr>\n",
       "        <th>Measurement date</th>\n",
       "<td>Unknown</td>\n",
       "    </tr>\n",
       "    <tr>\n",
       "        <th>Experimenter</th>\n",
       "<td>Unknown</td>\n",
       "    </tr>\n",
       "        <th>Participant</th>\n",
       "<td>Unknown</td>\n",
       "    </tr>\n",
       "    <tr>\n",
       "        <th>Digitized points</th>\n",
       "        <td>64 points</td>\n",
       "    </tr>\n",
       "    <tr>\n",
       "        <th>Good channels</th>\n",
       "        <td>0 magnetometer, 0 gradiometer,\n",
       "            and 64 EEG channels</td>\n",
       "    </tr>\n",
       "    <tr>\n",
       "        <th>Bad channels</th>\n",
       "        <td></td>\n",
       "        \n",
       "    </tr>\n",
       "    <tr>\n",
       "        <th>EOG channels</th>\n",
       "        <td>Not available</td>\n",
       "    </tr>\n",
       "    <tr>\n",
       "        <th>ECG channels</th>\n",
       "        <td>Not available</td>\n",
       "    <tr>\n",
       "        <th>Sampling frequency</th>\n",
       "        <td>500.00 Hz</td>\n",
       "    </tr>\n",
       "    <tr>\n",
       "        <th>Highpass</th>\n",
       "        <td>0.00 Hz</td>\n",
       "    </tr>\n",
       "     <tr>\n",
       "        <th>Lowpass</th>\n",
       "        <td>250.00 Hz</td>\n",
       "    </tr>\n",
       "\n",
       "    <tr>\n",
       "        <th>Filenames</th>\n",
       "        <td>sub-AB6_task-gonogo_run-1_eeg.set</td>\n",
       "    </tr>\n",
       "    <tr>\n",
       "        <th>Duration</th>\n",
       "        <td>00:08:10 (HH:MM:SS)</td>\n",
       "    </tr>\n",
       "</table>\n"
      ],
      "text/plain": [
       "<RawEEGLAB | sub-AB6_task-gonogo_run-1_eeg.set, 64 x 245200 (490.4 s), ~119.8 MB, data loaded>"
      ]
     },
     "execution_count": 12,
     "metadata": {},
     "output_type": "execute_result"
    }
   ],
   "source": [
    "rawab6_1"
   ]
  },
  {
   "cell_type": "markdown",
   "metadata": {},
   "source": [
    "## Implementing ICA and SSP Projections"
   ]
  },
  {
   "cell_type": "code",
   "execution_count": 10,
   "metadata": {},
   "outputs": [],
   "source": [
    "#Creating copy\n",
    "#ab6_1 = rawab6_1.copy()\n",
    "#ab6_2 = rawab6_2.copy()\n",
    "ab10_1 = rawab10_1.copy()\n",
    "ab10_2 = rawab10_2.copy()\n",
    "ab12_1 = rawab12_1.copy()\n",
    "ab12_2 = rawab12_2.copy()\n",
    "ab13_1 = rawab13_1.copy()\n",
    "ab13_2 = rawab13_2.copy()\n",
    "ab28_1 = rawab28_1.copy()\n",
    "ab28_2 = rawab28_2.copy()\n",
    "ab31_1 = rawab31_1.copy()\n",
    "ab31_2 = rawab31_2.copy()\n",
    "ab32_1 = rawab32_1.copy()\n",
    "ab32_2 = rawab32_2.copy()"
   ]
  },
  {
   "cell_type": "code",
   "execution_count": 21,
   "metadata": {
    "scrolled": true,
    "tags": []
   },
   "outputs": [
    {
     "name": "stderr",
     "output_type": "stream",
     "text": [
      "<ipython-input-21-a04830e131a8>:4: DeprecationWarning: Version 0.23 introduced max_iter=\"auto\", setting max_iter=1000 for `fastica` and max_iter=500 for `infomax` and `picard`. The current default of max_iter=200 will be changed to \"auto\" in version 0.24.\n",
      "  ica10_1 = mne.preprocessing.ICA(n_components = 20, random_state = 42)\n",
      "<ipython-input-21-a04830e131a8>:5: DeprecationWarning: Version 0.23 introduced max_iter=\"auto\", setting max_iter=1000 for `fastica` and max_iter=500 for `infomax` and `picard`. The current default of max_iter=200 will be changed to \"auto\" in version 0.24.\n",
      "  ica10_2 = mne.preprocessing.ICA(n_components = 20, random_state = 42)\n",
      "<ipython-input-21-a04830e131a8>:6: DeprecationWarning: Version 0.23 introduced max_iter=\"auto\", setting max_iter=1000 for `fastica` and max_iter=500 for `infomax` and `picard`. The current default of max_iter=200 will be changed to \"auto\" in version 0.24.\n",
      "  ica12_1 = mne.preprocessing.ICA(n_components = 20, random_state = 42)\n",
      "<ipython-input-21-a04830e131a8>:7: DeprecationWarning: Version 0.23 introduced max_iter=\"auto\", setting max_iter=1000 for `fastica` and max_iter=500 for `infomax` and `picard`. The current default of max_iter=200 will be changed to \"auto\" in version 0.24.\n",
      "  ica12_2 = mne.preprocessing.ICA(n_components = 20, random_state = 42)\n",
      "<ipython-input-21-a04830e131a8>:8: DeprecationWarning: Version 0.23 introduced max_iter=\"auto\", setting max_iter=1000 for `fastica` and max_iter=500 for `infomax` and `picard`. The current default of max_iter=200 will be changed to \"auto\" in version 0.24.\n",
      "  ica13_1 = mne.preprocessing.ICA(n_components = 20, random_state = 42)\n",
      "<ipython-input-21-a04830e131a8>:9: DeprecationWarning: Version 0.23 introduced max_iter=\"auto\", setting max_iter=1000 for `fastica` and max_iter=500 for `infomax` and `picard`. The current default of max_iter=200 will be changed to \"auto\" in version 0.24.\n",
      "  ica13_2 = mne.preprocessing.ICA(n_components = 20, random_state = 42)\n",
      "<ipython-input-21-a04830e131a8>:10: DeprecationWarning: Version 0.23 introduced max_iter=\"auto\", setting max_iter=1000 for `fastica` and max_iter=500 for `infomax` and `picard`. The current default of max_iter=200 will be changed to \"auto\" in version 0.24.\n",
      "  ica28_1 = mne.preprocessing.ICA(n_components = 20, random_state = 42)\n",
      "<ipython-input-21-a04830e131a8>:11: DeprecationWarning: Version 0.23 introduced max_iter=\"auto\", setting max_iter=1000 for `fastica` and max_iter=500 for `infomax` and `picard`. The current default of max_iter=200 will be changed to \"auto\" in version 0.24.\n",
      "  ica28_2 = mne.preprocessing.ICA(n_components = 20, random_state = 42)\n",
      "<ipython-input-21-a04830e131a8>:12: DeprecationWarning: Version 0.23 introduced max_iter=\"auto\", setting max_iter=1000 for `fastica` and max_iter=500 for `infomax` and `picard`. The current default of max_iter=200 will be changed to \"auto\" in version 0.24.\n",
      "  ica31_1 = mne.preprocessing.ICA(n_components = 20, random_state = 42)\n",
      "<ipython-input-21-a04830e131a8>:13: DeprecationWarning: Version 0.23 introduced max_iter=\"auto\", setting max_iter=1000 for `fastica` and max_iter=500 for `infomax` and `picard`. The current default of max_iter=200 will be changed to \"auto\" in version 0.24.\n",
      "  ica31_2 = mne.preprocessing.ICA(n_components = 20, random_state = 42)\n",
      "<ipython-input-21-a04830e131a8>:14: DeprecationWarning: Version 0.23 introduced max_iter=\"auto\", setting max_iter=1000 for `fastica` and max_iter=500 for `infomax` and `picard`. The current default of max_iter=200 will be changed to \"auto\" in version 0.24.\n",
      "  ica32_1 = mne.preprocessing.ICA(n_components = 20, random_state = 42)\n",
      "<ipython-input-21-a04830e131a8>:15: DeprecationWarning: Version 0.23 introduced max_iter=\"auto\", setting max_iter=1000 for `fastica` and max_iter=500 for `infomax` and `picard`. The current default of max_iter=200 will be changed to \"auto\" in version 0.24.\n",
      "  ica32_2 = mne.preprocessing.ICA(n_components = 20, random_state = 42)\n"
     ]
    }
   ],
   "source": [
    "#Creating ICA objects\n",
    "#ica6_1 = mne.preprocessing.ICA(n_components = 20, random_state = 42)\n",
    "#ica6_2 = mne.preprocessing.ICA(n_components = 20, random_state = 42)\n",
    "ica10_1 = mne.preprocessing.ICA(n_components = 20, random_state = 42)\n",
    "ica10_2 = mne.preprocessing.ICA(n_components = 20, random_state = 42)\n",
    "ica12_1 = mne.preprocessing.ICA(n_components = 20, random_state = 42)\n",
    "ica12_2 = mne.preprocessing.ICA(n_components = 20, random_state = 42)\n",
    "ica13_1 = mne.preprocessing.ICA(n_components = 20, random_state = 42)\n",
    "ica13_2 = mne.preprocessing.ICA(n_components = 20, random_state = 42)\n",
    "ica28_1 = mne.preprocessing.ICA(n_components = 20, random_state = 42)\n",
    "ica28_2 = mne.preprocessing.ICA(n_components = 20, random_state = 42)\n",
    "ica31_1 = mne.preprocessing.ICA(n_components = 20, random_state = 42)\n",
    "ica31_2 = mne.preprocessing.ICA(n_components = 20, random_state = 42)\n",
    "ica32_1 = mne.preprocessing.ICA(n_components = 20, random_state = 42)\n",
    "ica32_2 = mne.preprocessing.ICA(n_components = 20, random_state = 42)"
   ]
  },
  {
   "cell_type": "code",
   "execution_count": 22,
   "metadata": {
    "scrolled": true,
    "tags": []
   },
   "outputs": [
    {
     "name": "stdout",
     "output_type": "stream",
     "text": [
      "Fitting ICA to data using 61 channels (please be patient, this may take a while)\n"
     ]
    },
    {
     "name": "stderr",
     "output_type": "stream",
     "text": [
      "<ipython-input-22-f462ac0944d6>:2: RuntimeWarning: The data has not been high-pass filtered. For good ICA performance, it should be high-pass filtered (e.g., with a 1.0 Hz lower bound) before fitting ICA.\n",
      "  ica10_1.fit(ab10_1)\n"
     ]
    },
    {
     "name": "stdout",
     "output_type": "stream",
     "text": [
      "Selecting by number: 20 components\n",
      "Fitting ICA took 19.5s.\n",
      "Fitting ICA to data using 61 channels (please be patient, this may take a while)\n"
     ]
    },
    {
     "name": "stderr",
     "output_type": "stream",
     "text": [
      "<ipython-input-22-f462ac0944d6>:3: RuntimeWarning: The data has not been high-pass filtered. For good ICA performance, it should be high-pass filtered (e.g., with a 1.0 Hz lower bound) before fitting ICA.\n",
      "  ica10_2.fit(ab10_2)\n"
     ]
    },
    {
     "name": "stdout",
     "output_type": "stream",
     "text": [
      "Selecting by number: 20 components\n",
      "Fitting ICA took 9.2s.\n",
      "Fitting ICA to data using 61 channels (please be patient, this may take a while)\n"
     ]
    },
    {
     "name": "stderr",
     "output_type": "stream",
     "text": [
      "<ipython-input-22-f462ac0944d6>:4: RuntimeWarning: The data has not been high-pass filtered. For good ICA performance, it should be high-pass filtered (e.g., with a 1.0 Hz lower bound) before fitting ICA.\n",
      "  ica12_1.fit(ab12_1)\n"
     ]
    },
    {
     "name": "stdout",
     "output_type": "stream",
     "text": [
      "Selecting by number: 20 components\n",
      "Fitting ICA took 12.2s.\n",
      "Fitting ICA to data using 61 channels (please be patient, this may take a while)\n"
     ]
    },
    {
     "name": "stderr",
     "output_type": "stream",
     "text": [
      "<ipython-input-22-f462ac0944d6>:5: RuntimeWarning: The data has not been high-pass filtered. For good ICA performance, it should be high-pass filtered (e.g., with a 1.0 Hz lower bound) before fitting ICA.\n",
      "  ica12_2.fit(ab12_2)\n"
     ]
    },
    {
     "name": "stdout",
     "output_type": "stream",
     "text": [
      "Selecting by number: 20 components\n",
      "Fitting ICA took 10.1s.\n",
      "Fitting ICA to data using 61 channels (please be patient, this may take a while)\n"
     ]
    },
    {
     "name": "stderr",
     "output_type": "stream",
     "text": [
      "<ipython-input-22-f462ac0944d6>:6: RuntimeWarning: The data has not been high-pass filtered. For good ICA performance, it should be high-pass filtered (e.g., with a 1.0 Hz lower bound) before fitting ICA.\n",
      "  ica13_1.fit(ab13_1)\n"
     ]
    },
    {
     "name": "stdout",
     "output_type": "stream",
     "text": [
      "Selecting by number: 20 components\n",
      "Fitting ICA took 30.4s.\n",
      "Fitting ICA to data using 61 channels (please be patient, this may take a while)\n"
     ]
    },
    {
     "name": "stderr",
     "output_type": "stream",
     "text": [
      "<ipython-input-22-f462ac0944d6>:7: RuntimeWarning: The data has not been high-pass filtered. For good ICA performance, it should be high-pass filtered (e.g., with a 1.0 Hz lower bound) before fitting ICA.\n",
      "  ica13_2.fit(ab13_2)\n"
     ]
    },
    {
     "name": "stdout",
     "output_type": "stream",
     "text": [
      "Selecting by number: 20 components\n",
      "Fitting ICA took 29.4s.\n",
      "Fitting ICA to data using 61 channels (please be patient, this may take a while)\n"
     ]
    },
    {
     "name": "stderr",
     "output_type": "stream",
     "text": [
      "<ipython-input-22-f462ac0944d6>:8: RuntimeWarning: The data has not been high-pass filtered. For good ICA performance, it should be high-pass filtered (e.g., with a 1.0 Hz lower bound) before fitting ICA.\n",
      "  ica28_1.fit(ab28_1)\n"
     ]
    },
    {
     "name": "stdout",
     "output_type": "stream",
     "text": [
      "Selecting by number: 20 components\n",
      "Fitting ICA took 13.6s.\n",
      "Fitting ICA to data using 61 channels (please be patient, this may take a while)\n"
     ]
    },
    {
     "name": "stderr",
     "output_type": "stream",
     "text": [
      "<ipython-input-22-f462ac0944d6>:9: RuntimeWarning: The data has not been high-pass filtered. For good ICA performance, it should be high-pass filtered (e.g., with a 1.0 Hz lower bound) before fitting ICA.\n",
      "  ica28_2.fit(ab28_2)\n"
     ]
    },
    {
     "name": "stdout",
     "output_type": "stream",
     "text": [
      "Selecting by number: 20 components\n",
      "Fitting ICA took 13.7s.\n",
      "Fitting ICA to data using 61 channels (please be patient, this may take a while)\n"
     ]
    },
    {
     "name": "stderr",
     "output_type": "stream",
     "text": [
      "<ipython-input-22-f462ac0944d6>:10: RuntimeWarning: The data has not been high-pass filtered. For good ICA performance, it should be high-pass filtered (e.g., with a 1.0 Hz lower bound) before fitting ICA.\n",
      "  ica31_1.fit(ab31_1)\n"
     ]
    },
    {
     "name": "stdout",
     "output_type": "stream",
     "text": [
      "Selecting by number: 20 components\n",
      "Fitting ICA took 29.4s.\n",
      "Fitting ICA to data using 61 channels (please be patient, this may take a while)\n"
     ]
    },
    {
     "name": "stderr",
     "output_type": "stream",
     "text": [
      "<ipython-input-22-f462ac0944d6>:11: RuntimeWarning: The data has not been high-pass filtered. For good ICA performance, it should be high-pass filtered (e.g., with a 1.0 Hz lower bound) before fitting ICA.\n",
      "  ica31_2.fit(ab31_2)\n"
     ]
    },
    {
     "name": "stdout",
     "output_type": "stream",
     "text": [
      "Selecting by number: 20 components\n",
      "Fitting ICA took 19.3s.\n",
      "Fitting ICA to data using 61 channels (please be patient, this may take a while)\n"
     ]
    },
    {
     "name": "stderr",
     "output_type": "stream",
     "text": [
      "<ipython-input-22-f462ac0944d6>:12: RuntimeWarning: The data has not been high-pass filtered. For good ICA performance, it should be high-pass filtered (e.g., with a 1.0 Hz lower bound) before fitting ICA.\n",
      "  ica32_1.fit(ab32_1)\n"
     ]
    },
    {
     "name": "stdout",
     "output_type": "stream",
     "text": [
      "Selecting by number: 20 components\n",
      "Fitting ICA took 10.0s.\n",
      "Fitting ICA to data using 61 channels (please be patient, this may take a while)\n"
     ]
    },
    {
     "name": "stderr",
     "output_type": "stream",
     "text": [
      "<ipython-input-22-f462ac0944d6>:13: RuntimeWarning: The data has not been high-pass filtered. For good ICA performance, it should be high-pass filtered (e.g., with a 1.0 Hz lower bound) before fitting ICA.\n",
      "  ica32_2.fit(ab32_2)\n"
     ]
    },
    {
     "name": "stdout",
     "output_type": "stream",
     "text": [
      "Selecting by number: 20 components\n",
      "Fitting ICA took 18.4s.\n"
     ]
    },
    {
     "data": {
      "text/plain": [
       "<ICA | raw data decomposition, fit (fastica): 248300 samples, 20 components, channels used: \"eeg\">"
      ]
     },
     "execution_count": 22,
     "metadata": {},
     "output_type": "execute_result"
    }
   ],
   "source": [
    "#Fitting ICA objects\n",
    "ica10_1.fit(ab10_1)\n",
    "ica10_2.fit(ab10_2)\n",
    "ica12_1.fit(ab12_1)\n",
    "ica12_2.fit(ab12_2)\n",
    "ica13_1.fit(ab13_1)\n",
    "ica13_2.fit(ab13_2)\n",
    "ica28_1.fit(ab28_1)\n",
    "ica28_2.fit(ab28_2)\n",
    "ica31_1.fit(ab31_1)\n",
    "ica31_2.fit(ab31_2)\n",
    "ica32_1.fit(ab32_1)\n",
    "ica32_2.fit(ab32_2)"
   ]
  },
  {
   "cell_type": "code",
   "execution_count": null,
   "metadata": {
    "scrolled": true
   },
   "outputs": [],
   "source": [
    "#plotting sources and components\n",
    "ica10_1.plot_sources(ab10_1)\n",
    "ica10_2.plot_components(outlines = 'head', sphere = 10, ch_type = 'eeg')"
   ]
  },
  {
   "cell_type": "code",
   "execution_count": 18,
   "metadata": {},
   "outputs": [],
   "source": [
    "#To find and mark bad components\n",
    "def mark_artifacts(ica, ab):\n",
    "    ica.exclude = []\n",
    "    ica.detect_artifacts(ab)\n",
    "    eeg_bads = list(ica.exclude)\n",
    "    ecg_bads = ica.find_bads_ecg(ab)[0]\n",
    "    eog_bads = ica.find_bads_eog(ab)[0]\n",
    "    ica.exclude = list(set(eeg_bads+ecg_bads+eog_bads))"
   ]
  },
  {
   "cell_type": "code",
   "execution_count": 19,
   "metadata": {
    "scrolled": true
   },
   "outputs": [
    {
     "name": "stdout",
     "output_type": "stream",
     "text": [
      "    Searching for artifacts...\n",
      "    found 1 artifact by skewness\n",
      "    found 1 artifact by kurtosis\n",
      "    found 1 artifact by variance\n",
      "Artifact indices found:\n",
      "    3, 3, 11\n",
      "    Removing duplicate indices...\n",
      "Ready.\n",
      "Using threshold: 0.23 for CTPS ECG detection\n",
      "Using channel EKG to identify heart beats.\n",
      "Setting up band-pass filter from 8 - 16 Hz\n",
      "\n",
      "FIR filter parameters\n",
      "---------------------\n",
      "Designing a two-pass forward and reverse, zero-phase, non-causal bandpass filter:\n",
      "- Windowed frequency-domain design (firwin2) method\n",
      "- Hann window\n",
      "- Lower passband edge: 8.00\n",
      "- Lower transition bandwidth: 0.50 Hz (-12 dB cutoff frequency: 7.75 Hz)\n",
      "- Upper passband edge: 16.00 Hz\n",
      "- Upper transition bandwidth: 0.50 Hz (-12 dB cutoff frequency: 16.25 Hz)\n",
      "- Filter length: 5000 samples (10.000 sec)\n",
      "\n",
      "Number of ECG events detected : 550 (average pulse 62 / min.)\n",
      "Not setting metadata\n",
      "Not setting metadata\n",
      "550 matching events found\n",
      "No baseline correction applied\n",
      "Loading data for 550 events and 501 original time points ...\n",
      "1 bad epochs dropped\n",
      "Using EOG channels: VEO, HEO\n",
      "... filtering ICA sources\n",
      "Setting up band-pass filter from 1 - 10 Hz\n",
      "\n",
      "FIR filter parameters\n",
      "---------------------\n",
      "Designing a two-pass forward and reverse, zero-phase, non-causal bandpass filter:\n",
      "- Windowed frequency-domain design (firwin2) method\n",
      "- Hann window\n",
      "- Lower passband edge: 1.00\n",
      "- Lower transition bandwidth: 0.50 Hz (-12 dB cutoff frequency: 0.75 Hz)\n",
      "- Upper passband edge: 10.00 Hz\n",
      "- Upper transition bandwidth: 0.50 Hz (-12 dB cutoff frequency: 10.25 Hz)\n",
      "- Filter length: 5000 samples (10.000 sec)\n",
      "\n",
      "... filtering target\n",
      "Setting up band-pass filter from 1 - 10 Hz\n",
      "\n",
      "FIR filter parameters\n",
      "---------------------\n",
      "Designing a two-pass forward and reverse, zero-phase, non-causal bandpass filter:\n",
      "- Windowed frequency-domain design (firwin2) method\n",
      "- Hann window\n",
      "- Lower passband edge: 1.00\n",
      "- Lower transition bandwidth: 0.50 Hz (-12 dB cutoff frequency: 0.75 Hz)\n",
      "- Upper passband edge: 10.00 Hz\n",
      "- Upper transition bandwidth: 0.50 Hz (-12 dB cutoff frequency: 10.25 Hz)\n",
      "- Filter length: 5000 samples (10.000 sec)\n",
      "\n",
      "... filtering ICA sources\n",
      "Setting up band-pass filter from 1 - 10 Hz\n",
      "\n",
      "FIR filter parameters\n",
      "---------------------\n",
      "Designing a two-pass forward and reverse, zero-phase, non-causal bandpass filter:\n",
      "- Windowed frequency-domain design (firwin2) method\n",
      "- Hann window\n",
      "- Lower passband edge: 1.00\n",
      "- Lower transition bandwidth: 0.50 Hz (-12 dB cutoff frequency: 0.75 Hz)\n",
      "- Upper passband edge: 10.00 Hz\n",
      "- Upper transition bandwidth: 0.50 Hz (-12 dB cutoff frequency: 10.25 Hz)\n",
      "- Filter length: 5000 samples (10.000 sec)\n",
      "\n",
      "... filtering target\n",
      "Setting up band-pass filter from 1 - 10 Hz\n",
      "\n",
      "FIR filter parameters\n",
      "---------------------\n",
      "Designing a two-pass forward and reverse, zero-phase, non-causal bandpass filter:\n",
      "- Windowed frequency-domain design (firwin2) method\n",
      "- Hann window\n",
      "- Lower passband edge: 1.00\n",
      "- Lower transition bandwidth: 0.50 Hz (-12 dB cutoff frequency: 0.75 Hz)\n",
      "- Upper passband edge: 10.00 Hz\n",
      "- Upper transition bandwidth: 0.50 Hz (-12 dB cutoff frequency: 10.25 Hz)\n",
      "- Filter length: 5000 samples (10.000 sec)\n",
      "\n",
      "    Searching for artifacts...\n",
      "    found 1 artifact by skewness\n",
      "    found 1 artifact by kurtosis\n",
      "    found 1 artifact by variance\n",
      "Artifact indices found:\n",
      "    0, 12, 19\n",
      "Ready.\n",
      "Using threshold: 0.23 for CTPS ECG detection\n",
      "Using channel EKG to identify heart beats.\n",
      "Setting up band-pass filter from 8 - 16 Hz\n",
      "\n",
      "FIR filter parameters\n",
      "---------------------\n",
      "Designing a two-pass forward and reverse, zero-phase, non-causal bandpass filter:\n",
      "- Windowed frequency-domain design (firwin2) method\n",
      "- Hann window\n",
      "- Lower passband edge: 8.00\n",
      "- Lower transition bandwidth: 0.50 Hz (-12 dB cutoff frequency: 7.75 Hz)\n",
      "- Upper passband edge: 16.00 Hz\n",
      "- Upper transition bandwidth: 0.50 Hz (-12 dB cutoff frequency: 16.25 Hz)\n",
      "- Filter length: 5000 samples (10.000 sec)\n",
      "\n",
      "Number of ECG events detected : 564 (average pulse 67 / min.)\n",
      "Not setting metadata\n",
      "Not setting metadata\n",
      "564 matching events found\n",
      "No baseline correction applied\n",
      "Loading data for 564 events and 501 original time points ...\n",
      "0 bad epochs dropped\n",
      "Using EOG channels: VEO, HEO\n",
      "... filtering ICA sources\n",
      "Setting up band-pass filter from 1 - 10 Hz\n",
      "\n",
      "FIR filter parameters\n",
      "---------------------\n",
      "Designing a two-pass forward and reverse, zero-phase, non-causal bandpass filter:\n",
      "- Windowed frequency-domain design (firwin2) method\n",
      "- Hann window\n",
      "- Lower passband edge: 1.00\n",
      "- Lower transition bandwidth: 0.50 Hz (-12 dB cutoff frequency: 0.75 Hz)\n",
      "- Upper passband edge: 10.00 Hz\n",
      "- Upper transition bandwidth: 0.50 Hz (-12 dB cutoff frequency: 10.25 Hz)\n",
      "- Filter length: 5000 samples (10.000 sec)\n",
      "\n",
      "... filtering target\n",
      "Setting up band-pass filter from 1 - 10 Hz\n",
      "\n",
      "FIR filter parameters\n",
      "---------------------\n",
      "Designing a two-pass forward and reverse, zero-phase, non-causal bandpass filter:\n",
      "- Windowed frequency-domain design (firwin2) method\n",
      "- Hann window\n",
      "- Lower passband edge: 1.00\n",
      "- Lower transition bandwidth: 0.50 Hz (-12 dB cutoff frequency: 0.75 Hz)\n",
      "- Upper passband edge: 10.00 Hz\n",
      "- Upper transition bandwidth: 0.50 Hz (-12 dB cutoff frequency: 10.25 Hz)\n",
      "- Filter length: 5000 samples (10.000 sec)\n",
      "\n",
      "... filtering ICA sources\n",
      "Setting up band-pass filter from 1 - 10 Hz\n",
      "\n",
      "FIR filter parameters\n",
      "---------------------\n",
      "Designing a two-pass forward and reverse, zero-phase, non-causal bandpass filter:\n",
      "- Windowed frequency-domain design (firwin2) method\n",
      "- Hann window\n",
      "- Lower passband edge: 1.00\n",
      "- Lower transition bandwidth: 0.50 Hz (-12 dB cutoff frequency: 0.75 Hz)\n",
      "- Upper passband edge: 10.00 Hz\n",
      "- Upper transition bandwidth: 0.50 Hz (-12 dB cutoff frequency: 10.25 Hz)\n",
      "- Filter length: 5000 samples (10.000 sec)\n",
      "\n",
      "... filtering target\n",
      "Setting up band-pass filter from 1 - 10 Hz\n",
      "\n",
      "FIR filter parameters\n",
      "---------------------\n",
      "Designing a two-pass forward and reverse, zero-phase, non-causal bandpass filter:\n",
      "- Windowed frequency-domain design (firwin2) method\n",
      "- Hann window\n",
      "- Lower passband edge: 1.00\n",
      "- Lower transition bandwidth: 0.50 Hz (-12 dB cutoff frequency: 0.75 Hz)\n",
      "- Upper passband edge: 10.00 Hz\n",
      "- Upper transition bandwidth: 0.50 Hz (-12 dB cutoff frequency: 10.25 Hz)\n",
      "- Filter length: 5000 samples (10.000 sec)\n",
      "\n",
      "    Searching for artifacts...\n",
      "    found 1 artifact by skewness\n",
      "    found 1 artifact by kurtosis\n",
      "    found 1 artifact by variance\n",
      "Artifact indices found:\n",
      "    0, 0, 13\n",
      "    Removing duplicate indices...\n",
      "Ready.\n",
      "Using threshold: 0.23 for CTPS ECG detection\n",
      "Using channel EKG to identify heart beats.\n",
      "Setting up band-pass filter from 8 - 16 Hz\n",
      "\n",
      "FIR filter parameters\n",
      "---------------------\n",
      "Designing a two-pass forward and reverse, zero-phase, non-causal bandpass filter:\n",
      "- Windowed frequency-domain design (firwin2) method\n",
      "- Hann window\n",
      "- Lower passband edge: 8.00\n",
      "- Lower transition bandwidth: 0.50 Hz (-12 dB cutoff frequency: 7.75 Hz)\n",
      "- Upper passband edge: 16.00 Hz\n",
      "- Upper transition bandwidth: 0.50 Hz (-12 dB cutoff frequency: 16.25 Hz)\n",
      "- Filter length: 5000 samples (10.000 sec)\n",
      "\n",
      "Number of ECG events detected : 606 (average pulse 72 / min.)\n",
      "Not setting metadata\n",
      "Not setting metadata\n",
      "606 matching events found\n",
      "No baseline correction applied\n",
      "Loading data for 606 events and 501 original time points ...\n",
      "0 bad epochs dropped\n",
      "Using EOG channels: VEO, HEO\n",
      "... filtering ICA sources\n",
      "Setting up band-pass filter from 1 - 10 Hz\n",
      "\n",
      "FIR filter parameters\n",
      "---------------------\n",
      "Designing a two-pass forward and reverse, zero-phase, non-causal bandpass filter:\n",
      "- Windowed frequency-domain design (firwin2) method\n",
      "- Hann window\n",
      "- Lower passband edge: 1.00\n",
      "- Lower transition bandwidth: 0.50 Hz (-12 dB cutoff frequency: 0.75 Hz)\n",
      "- Upper passband edge: 10.00 Hz\n",
      "- Upper transition bandwidth: 0.50 Hz (-12 dB cutoff frequency: 10.25 Hz)\n",
      "- Filter length: 5000 samples (10.000 sec)\n",
      "\n",
      "... filtering target\n",
      "Setting up band-pass filter from 1 - 10 Hz\n",
      "\n",
      "FIR filter parameters\n",
      "---------------------\n",
      "Designing a two-pass forward and reverse, zero-phase, non-causal bandpass filter:\n",
      "- Windowed frequency-domain design (firwin2) method\n",
      "- Hann window\n",
      "- Lower passband edge: 1.00\n",
      "- Lower transition bandwidth: 0.50 Hz (-12 dB cutoff frequency: 0.75 Hz)\n",
      "- Upper passband edge: 10.00 Hz\n",
      "- Upper transition bandwidth: 0.50 Hz (-12 dB cutoff frequency: 10.25 Hz)\n",
      "- Filter length: 5000 samples (10.000 sec)\n",
      "\n",
      "... filtering ICA sources\n",
      "Setting up band-pass filter from 1 - 10 Hz\n",
      "\n",
      "FIR filter parameters\n",
      "---------------------\n",
      "Designing a two-pass forward and reverse, zero-phase, non-causal bandpass filter:\n",
      "- Windowed frequency-domain design (firwin2) method\n",
      "- Hann window\n",
      "- Lower passband edge: 1.00\n",
      "- Lower transition bandwidth: 0.50 Hz (-12 dB cutoff frequency: 0.75 Hz)\n",
      "- Upper passband edge: 10.00 Hz\n",
      "- Upper transition bandwidth: 0.50 Hz (-12 dB cutoff frequency: 10.25 Hz)\n",
      "- Filter length: 5000 samples (10.000 sec)\n",
      "\n",
      "... filtering target\n",
      "Setting up band-pass filter from 1 - 10 Hz\n",
      "\n",
      "FIR filter parameters\n",
      "---------------------\n",
      "Designing a two-pass forward and reverse, zero-phase, non-causal bandpass filter:\n",
      "- Windowed frequency-domain design (firwin2) method\n",
      "- Hann window\n",
      "- Lower passband edge: 1.00\n",
      "- Lower transition bandwidth: 0.50 Hz (-12 dB cutoff frequency: 0.75 Hz)\n",
      "- Upper passband edge: 10.00 Hz\n",
      "- Upper transition bandwidth: 0.50 Hz (-12 dB cutoff frequency: 10.25 Hz)\n",
      "- Filter length: 5000 samples (10.000 sec)\n",
      "\n",
      "    Searching for artifacts...\n",
      "    found 1 artifact by skewness\n",
      "    found 1 artifact by kurtosis\n",
      "    found 1 artifact by variance\n",
      "Artifact indices found:\n",
      "    16, 16, 0\n",
      "    Removing duplicate indices...\n",
      "Ready.\n",
      "Using threshold: 0.23 for CTPS ECG detection\n",
      "Using channel EKG to identify heart beats.\n",
      "Setting up band-pass filter from 8 - 16 Hz\n",
      "\n",
      "FIR filter parameters\n",
      "---------------------\n",
      "Designing a two-pass forward and reverse, zero-phase, non-causal bandpass filter:\n",
      "- Windowed frequency-domain design (firwin2) method\n",
      "- Hann window\n",
      "- Lower passband edge: 8.00\n",
      "- Lower transition bandwidth: 0.50 Hz (-12 dB cutoff frequency: 7.75 Hz)\n",
      "- Upper passband edge: 16.00 Hz\n",
      "- Upper transition bandwidth: 0.50 Hz (-12 dB cutoff frequency: 16.25 Hz)\n",
      "- Filter length: 5000 samples (10.000 sec)\n",
      "\n",
      "Number of ECG events detected : 606 (average pulse 71 / min.)\n",
      "Not setting metadata\n",
      "Not setting metadata\n",
      "606 matching events found\n",
      "No baseline correction applied\n",
      "Loading data for 606 events and 501 original time points ...\n",
      "2 bad epochs dropped\n",
      "Using EOG channels: VEO, HEO\n",
      "... filtering ICA sources\n",
      "Setting up band-pass filter from 1 - 10 Hz\n",
      "\n",
      "FIR filter parameters\n",
      "---------------------\n",
      "Designing a two-pass forward and reverse, zero-phase, non-causal bandpass filter:\n",
      "- Windowed frequency-domain design (firwin2) method\n",
      "- Hann window\n",
      "- Lower passband edge: 1.00\n",
      "- Lower transition bandwidth: 0.50 Hz (-12 dB cutoff frequency: 0.75 Hz)\n",
      "- Upper passband edge: 10.00 Hz\n",
      "- Upper transition bandwidth: 0.50 Hz (-12 dB cutoff frequency: 10.25 Hz)\n",
      "- Filter length: 5000 samples (10.000 sec)\n",
      "\n",
      "... filtering target\n",
      "Setting up band-pass filter from 1 - 10 Hz\n",
      "\n",
      "FIR filter parameters\n",
      "---------------------\n",
      "Designing a two-pass forward and reverse, zero-phase, non-causal bandpass filter:\n",
      "- Windowed frequency-domain design (firwin2) method\n",
      "- Hann window\n",
      "- Lower passband edge: 1.00\n",
      "- Lower transition bandwidth: 0.50 Hz (-12 dB cutoff frequency: 0.75 Hz)\n",
      "- Upper passband edge: 10.00 Hz\n",
      "- Upper transition bandwidth: 0.50 Hz (-12 dB cutoff frequency: 10.25 Hz)\n",
      "- Filter length: 5000 samples (10.000 sec)\n",
      "\n",
      "... filtering ICA sources\n",
      "Setting up band-pass filter from 1 - 10 Hz\n",
      "\n",
      "FIR filter parameters\n",
      "---------------------\n",
      "Designing a two-pass forward and reverse, zero-phase, non-causal bandpass filter:\n",
      "- Windowed frequency-domain design (firwin2) method\n",
      "- Hann window\n",
      "- Lower passband edge: 1.00\n",
      "- Lower transition bandwidth: 0.50 Hz (-12 dB cutoff frequency: 0.75 Hz)\n",
      "- Upper passband edge: 10.00 Hz\n",
      "- Upper transition bandwidth: 0.50 Hz (-12 dB cutoff frequency: 10.25 Hz)\n",
      "- Filter length: 5000 samples (10.000 sec)\n",
      "\n",
      "... filtering target\n",
      "Setting up band-pass filter from 1 - 10 Hz\n",
      "\n",
      "FIR filter parameters\n",
      "---------------------\n",
      "Designing a two-pass forward and reverse, zero-phase, non-causal bandpass filter:\n",
      "- Windowed frequency-domain design (firwin2) method\n",
      "- Hann window\n",
      "- Lower passband edge: 1.00\n",
      "- Lower transition bandwidth: 0.50 Hz (-12 dB cutoff frequency: 0.75 Hz)\n",
      "- Upper passband edge: 10.00 Hz\n",
      "- Upper transition bandwidth: 0.50 Hz (-12 dB cutoff frequency: 10.25 Hz)\n",
      "- Filter length: 5000 samples (10.000 sec)\n",
      "\n",
      "    Searching for artifacts...\n",
      "    found 1 artifact by skewness\n",
      "    found 1 artifact by kurtosis\n",
      "    found 1 artifact by variance\n",
      "Artifact indices found:\n",
      "    3, 3, 10\n",
      "    Removing duplicate indices...\n",
      "Ready.\n",
      "Using threshold: 0.23 for CTPS ECG detection\n",
      "Using channel EKG to identify heart beats.\n",
      "Setting up band-pass filter from 8 - 16 Hz\n",
      "\n",
      "FIR filter parameters\n",
      "---------------------\n",
      "Designing a two-pass forward and reverse, zero-phase, non-causal bandpass filter:\n",
      "- Windowed frequency-domain design (firwin2) method\n",
      "- Hann window\n",
      "- Lower passband edge: 8.00\n",
      "- Lower transition bandwidth: 0.50 Hz (-12 dB cutoff frequency: 7.75 Hz)\n",
      "- Upper passband edge: 16.00 Hz\n",
      "- Upper transition bandwidth: 0.50 Hz (-12 dB cutoff frequency: 16.25 Hz)\n",
      "- Filter length: 5000 samples (10.000 sec)\n",
      "\n",
      "Number of ECG events detected : 656 (average pulse 77 / min.)\n",
      "Not setting metadata\n",
      "Not setting metadata\n",
      "656 matching events found\n",
      "No baseline correction applied\n",
      "Loading data for 656 events and 501 original time points ...\n",
      "1 bad epochs dropped\n",
      "Using EOG channels: VEO, HEO\n",
      "... filtering ICA sources\n",
      "Setting up band-pass filter from 1 - 10 Hz\n",
      "\n",
      "FIR filter parameters\n",
      "---------------------\n",
      "Designing a two-pass forward and reverse, zero-phase, non-causal bandpass filter:\n",
      "- Windowed frequency-domain design (firwin2) method\n",
      "- Hann window\n",
      "- Lower passband edge: 1.00\n",
      "- Lower transition bandwidth: 0.50 Hz (-12 dB cutoff frequency: 0.75 Hz)\n",
      "- Upper passband edge: 10.00 Hz\n",
      "- Upper transition bandwidth: 0.50 Hz (-12 dB cutoff frequency: 10.25 Hz)\n",
      "- Filter length: 5000 samples (10.000 sec)\n",
      "\n",
      "... filtering target\n",
      "Setting up band-pass filter from 1 - 10 Hz\n",
      "\n",
      "FIR filter parameters\n",
      "---------------------\n",
      "Designing a two-pass forward and reverse, zero-phase, non-causal bandpass filter:\n",
      "- Windowed frequency-domain design (firwin2) method\n",
      "- Hann window\n",
      "- Lower passband edge: 1.00\n",
      "- Lower transition bandwidth: 0.50 Hz (-12 dB cutoff frequency: 0.75 Hz)\n",
      "- Upper passband edge: 10.00 Hz\n",
      "- Upper transition bandwidth: 0.50 Hz (-12 dB cutoff frequency: 10.25 Hz)\n",
      "- Filter length: 5000 samples (10.000 sec)\n",
      "\n",
      "... filtering ICA sources\n",
      "Setting up band-pass filter from 1 - 10 Hz\n",
      "\n",
      "FIR filter parameters\n",
      "---------------------\n",
      "Designing a two-pass forward and reverse, zero-phase, non-causal bandpass filter:\n",
      "- Windowed frequency-domain design (firwin2) method\n",
      "- Hann window\n",
      "- Lower passband edge: 1.00\n",
      "- Lower transition bandwidth: 0.50 Hz (-12 dB cutoff frequency: 0.75 Hz)\n",
      "- Upper passband edge: 10.00 Hz\n",
      "- Upper transition bandwidth: 0.50 Hz (-12 dB cutoff frequency: 10.25 Hz)\n",
      "- Filter length: 5000 samples (10.000 sec)\n",
      "\n",
      "... filtering target\n",
      "Setting up band-pass filter from 1 - 10 Hz\n",
      "\n",
      "FIR filter parameters\n",
      "---------------------\n",
      "Designing a two-pass forward and reverse, zero-phase, non-causal bandpass filter:\n",
      "- Windowed frequency-domain design (firwin2) method\n",
      "- Hann window\n",
      "- Lower passband edge: 1.00\n",
      "- Lower transition bandwidth: 0.50 Hz (-12 dB cutoff frequency: 0.75 Hz)\n",
      "- Upper passband edge: 10.00 Hz\n",
      "- Upper transition bandwidth: 0.50 Hz (-12 dB cutoff frequency: 10.25 Hz)\n",
      "- Filter length: 5000 samples (10.000 sec)\n",
      "\n",
      "    Searching for artifacts...\n",
      "    found 1 artifact by skewness\n",
      "    found 1 artifact by kurtosis\n",
      "    found 1 artifact by variance\n",
      "Artifact indices found:\n",
      "    3, 3, 10\n",
      "    Removing duplicate indices...\n",
      "Ready.\n",
      "Using threshold: 0.23 for CTPS ECG detection\n",
      "Using channel EKG to identify heart beats.\n",
      "Setting up band-pass filter from 8 - 16 Hz\n",
      "\n",
      "FIR filter parameters\n",
      "---------------------\n",
      "Designing a two-pass forward and reverse, zero-phase, non-causal bandpass filter:\n",
      "- Windowed frequency-domain design (firwin2) method\n",
      "- Hann window\n",
      "- Lower passband edge: 8.00\n",
      "- Lower transition bandwidth: 0.50 Hz (-12 dB cutoff frequency: 7.75 Hz)\n",
      "- Upper passband edge: 16.00 Hz\n",
      "- Upper transition bandwidth: 0.50 Hz (-12 dB cutoff frequency: 16.25 Hz)\n",
      "- Filter length: 5000 samples (10.000 sec)\n",
      "\n",
      "Number of ECG events detected : 656 (average pulse 77 / min.)\n",
      "Not setting metadata\n",
      "Not setting metadata\n",
      "656 matching events found\n",
      "No baseline correction applied\n",
      "Loading data for 656 events and 501 original time points ...\n",
      "1 bad epochs dropped\n",
      "Using EOG channels: VEO, HEO\n",
      "... filtering ICA sources\n",
      "Setting up band-pass filter from 1 - 10 Hz\n",
      "\n",
      "FIR filter parameters\n",
      "---------------------\n",
      "Designing a two-pass forward and reverse, zero-phase, non-causal bandpass filter:\n",
      "- Windowed frequency-domain design (firwin2) method\n",
      "- Hann window\n",
      "- Lower passband edge: 1.00\n",
      "- Lower transition bandwidth: 0.50 Hz (-12 dB cutoff frequency: 0.75 Hz)\n",
      "- Upper passband edge: 10.00 Hz\n",
      "- Upper transition bandwidth: 0.50 Hz (-12 dB cutoff frequency: 10.25 Hz)\n",
      "- Filter length: 5000 samples (10.000 sec)\n",
      "\n",
      "... filtering target\n",
      "Setting up band-pass filter from 1 - 10 Hz\n",
      "\n",
      "FIR filter parameters\n",
      "---------------------\n",
      "Designing a two-pass forward and reverse, zero-phase, non-causal bandpass filter:\n",
      "- Windowed frequency-domain design (firwin2) method\n",
      "- Hann window\n",
      "- Lower passband edge: 1.00\n",
      "- Lower transition bandwidth: 0.50 Hz (-12 dB cutoff frequency: 0.75 Hz)\n",
      "- Upper passband edge: 10.00 Hz\n",
      "- Upper transition bandwidth: 0.50 Hz (-12 dB cutoff frequency: 10.25 Hz)\n",
      "- Filter length: 5000 samples (10.000 sec)\n",
      "\n",
      "... filtering ICA sources\n",
      "Setting up band-pass filter from 1 - 10 Hz\n",
      "\n",
      "FIR filter parameters\n",
      "---------------------\n",
      "Designing a two-pass forward and reverse, zero-phase, non-causal bandpass filter:\n",
      "- Windowed frequency-domain design (firwin2) method\n",
      "- Hann window\n",
      "- Lower passband edge: 1.00\n",
      "- Lower transition bandwidth: 0.50 Hz (-12 dB cutoff frequency: 0.75 Hz)\n",
      "- Upper passband edge: 10.00 Hz\n",
      "- Upper transition bandwidth: 0.50 Hz (-12 dB cutoff frequency: 10.25 Hz)\n",
      "- Filter length: 5000 samples (10.000 sec)\n",
      "\n",
      "... filtering target\n",
      "Setting up band-pass filter from 1 - 10 Hz\n",
      "\n",
      "FIR filter parameters\n",
      "---------------------\n",
      "Designing a two-pass forward and reverse, zero-phase, non-causal bandpass filter:\n",
      "- Windowed frequency-domain design (firwin2) method\n",
      "- Hann window\n",
      "- Lower passband edge: 1.00\n",
      "- Lower transition bandwidth: 0.50 Hz (-12 dB cutoff frequency: 0.75 Hz)\n",
      "- Upper passband edge: 10.00 Hz\n",
      "- Upper transition bandwidth: 0.50 Hz (-12 dB cutoff frequency: 10.25 Hz)\n",
      "- Filter length: 5000 samples (10.000 sec)\n",
      "\n",
      "    Searching for artifacts...\n",
      "    found 1 artifact by skewness\n",
      "    found 1 artifact by kurtosis\n",
      "    found 1 artifact by variance\n",
      "Artifact indices found:\n",
      "    1, 1, 13\n",
      "    Removing duplicate indices...\n",
      "Ready.\n",
      "Using threshold: 0.23 for CTPS ECG detection\n",
      "Using channel EKG to identify heart beats.\n",
      "Setting up band-pass filter from 8 - 16 Hz\n",
      "\n",
      "FIR filter parameters\n",
      "---------------------\n",
      "Designing a two-pass forward and reverse, zero-phase, non-causal bandpass filter:\n",
      "- Windowed frequency-domain design (firwin2) method\n",
      "- Hann window\n",
      "- Lower passband edge: 8.00\n",
      "- Lower transition bandwidth: 0.50 Hz (-12 dB cutoff frequency: 7.75 Hz)\n",
      "- Upper passband edge: 16.00 Hz\n",
      "- Upper transition bandwidth: 0.50 Hz (-12 dB cutoff frequency: 16.25 Hz)\n",
      "- Filter length: 5000 samples (10.000 sec)\n",
      "\n",
      "Number of ECG events detected : 469 (average pulse 54 / min.)\n",
      "Not setting metadata\n",
      "Not setting metadata\n",
      "469 matching events found\n",
      "No baseline correction applied\n",
      "Loading data for 469 events and 501 original time points ...\n",
      "0 bad epochs dropped\n",
      "Using EOG channels: VEO, HEO\n",
      "... filtering ICA sources\n",
      "Setting up band-pass filter from 1 - 10 Hz\n",
      "\n",
      "FIR filter parameters\n",
      "---------------------\n",
      "Designing a two-pass forward and reverse, zero-phase, non-causal bandpass filter:\n",
      "- Windowed frequency-domain design (firwin2) method\n",
      "- Hann window\n",
      "- Lower passband edge: 1.00\n",
      "- Lower transition bandwidth: 0.50 Hz (-12 dB cutoff frequency: 0.75 Hz)\n",
      "- Upper passband edge: 10.00 Hz\n",
      "- Upper transition bandwidth: 0.50 Hz (-12 dB cutoff frequency: 10.25 Hz)\n",
      "- Filter length: 5000 samples (10.000 sec)\n",
      "\n",
      "... filtering target\n",
      "Setting up band-pass filter from 1 - 10 Hz\n",
      "\n",
      "FIR filter parameters\n",
      "---------------------\n",
      "Designing a two-pass forward and reverse, zero-phase, non-causal bandpass filter:\n",
      "- Windowed frequency-domain design (firwin2) method\n",
      "- Hann window\n",
      "- Lower passband edge: 1.00\n",
      "- Lower transition bandwidth: 0.50 Hz (-12 dB cutoff frequency: 0.75 Hz)\n",
      "- Upper passband edge: 10.00 Hz\n",
      "- Upper transition bandwidth: 0.50 Hz (-12 dB cutoff frequency: 10.25 Hz)\n",
      "- Filter length: 5000 samples (10.000 sec)\n",
      "\n",
      "... filtering ICA sources\n",
      "Setting up band-pass filter from 1 - 10 Hz\n",
      "\n",
      "FIR filter parameters\n",
      "---------------------\n",
      "Designing a two-pass forward and reverse, zero-phase, non-causal bandpass filter:\n",
      "- Windowed frequency-domain design (firwin2) method\n",
      "- Hann window\n",
      "- Lower passband edge: 1.00\n",
      "- Lower transition bandwidth: 0.50 Hz (-12 dB cutoff frequency: 0.75 Hz)\n",
      "- Upper passband edge: 10.00 Hz\n",
      "- Upper transition bandwidth: 0.50 Hz (-12 dB cutoff frequency: 10.25 Hz)\n",
      "- Filter length: 5000 samples (10.000 sec)\n",
      "\n",
      "... filtering target\n",
      "Setting up band-pass filter from 1 - 10 Hz\n",
      "\n",
      "FIR filter parameters\n",
      "---------------------\n",
      "Designing a two-pass forward and reverse, zero-phase, non-causal bandpass filter:\n",
      "- Windowed frequency-domain design (firwin2) method\n",
      "- Hann window\n",
      "- Lower passband edge: 1.00\n",
      "- Lower transition bandwidth: 0.50 Hz (-12 dB cutoff frequency: 0.75 Hz)\n",
      "- Upper passband edge: 10.00 Hz\n",
      "- Upper transition bandwidth: 0.50 Hz (-12 dB cutoff frequency: 10.25 Hz)\n",
      "- Filter length: 5000 samples (10.000 sec)\n",
      "\n",
      "    Searching for artifacts...\n",
      "    found 1 artifact by skewness\n",
      "    found 1 artifact by kurtosis\n",
      "    found 1 artifact by variance\n",
      "Artifact indices found:\n",
      "    0, 16, 14\n",
      "Ready.\n",
      "Using threshold: 0.23 for CTPS ECG detection\n",
      "Using channel EKG to identify heart beats.\n",
      "Setting up band-pass filter from 8 - 16 Hz\n",
      "\n",
      "FIR filter parameters\n",
      "---------------------\n",
      "Designing a two-pass forward and reverse, zero-phase, non-causal bandpass filter:\n",
      "- Windowed frequency-domain design (firwin2) method\n",
      "- Hann window\n",
      "- Lower passband edge: 8.00\n",
      "- Lower transition bandwidth: 0.50 Hz (-12 dB cutoff frequency: 7.75 Hz)\n",
      "- Upper passband edge: 16.00 Hz\n",
      "- Upper transition bandwidth: 0.50 Hz (-12 dB cutoff frequency: 16.25 Hz)\n",
      "- Filter length: 5000 samples (10.000 sec)\n",
      "\n",
      "Number of ECG events detected : 437 (average pulse 52 / min.)\n",
      "Not setting metadata\n",
      "Not setting metadata\n",
      "437 matching events found\n",
      "No baseline correction applied\n",
      "Loading data for 437 events and 501 original time points ...\n",
      "0 bad epochs dropped\n",
      "Using EOG channels: VEO, HEO\n",
      "... filtering ICA sources\n",
      "Setting up band-pass filter from 1 - 10 Hz\n",
      "\n",
      "FIR filter parameters\n",
      "---------------------\n",
      "Designing a two-pass forward and reverse, zero-phase, non-causal bandpass filter:\n",
      "- Windowed frequency-domain design (firwin2) method\n",
      "- Hann window\n",
      "- Lower passband edge: 1.00\n",
      "- Lower transition bandwidth: 0.50 Hz (-12 dB cutoff frequency: 0.75 Hz)\n",
      "- Upper passband edge: 10.00 Hz\n",
      "- Upper transition bandwidth: 0.50 Hz (-12 dB cutoff frequency: 10.25 Hz)\n",
      "- Filter length: 5000 samples (10.000 sec)\n",
      "\n",
      "... filtering target\n",
      "Setting up band-pass filter from 1 - 10 Hz\n",
      "\n",
      "FIR filter parameters\n",
      "---------------------\n",
      "Designing a two-pass forward and reverse, zero-phase, non-causal bandpass filter:\n",
      "- Windowed frequency-domain design (firwin2) method\n",
      "- Hann window\n",
      "- Lower passband edge: 1.00\n",
      "- Lower transition bandwidth: 0.50 Hz (-12 dB cutoff frequency: 0.75 Hz)\n",
      "- Upper passband edge: 10.00 Hz\n",
      "- Upper transition bandwidth: 0.50 Hz (-12 dB cutoff frequency: 10.25 Hz)\n",
      "- Filter length: 5000 samples (10.000 sec)\n",
      "\n",
      "... filtering ICA sources\n",
      "Setting up band-pass filter from 1 - 10 Hz\n",
      "\n",
      "FIR filter parameters\n",
      "---------------------\n",
      "Designing a two-pass forward and reverse, zero-phase, non-causal bandpass filter:\n",
      "- Windowed frequency-domain design (firwin2) method\n",
      "- Hann window\n",
      "- Lower passband edge: 1.00\n",
      "- Lower transition bandwidth: 0.50 Hz (-12 dB cutoff frequency: 0.75 Hz)\n",
      "- Upper passband edge: 10.00 Hz\n",
      "- Upper transition bandwidth: 0.50 Hz (-12 dB cutoff frequency: 10.25 Hz)\n",
      "- Filter length: 5000 samples (10.000 sec)\n",
      "\n",
      "... filtering target\n",
      "Setting up band-pass filter from 1 - 10 Hz\n",
      "\n",
      "FIR filter parameters\n",
      "---------------------\n",
      "Designing a two-pass forward and reverse, zero-phase, non-causal bandpass filter:\n",
      "- Windowed frequency-domain design (firwin2) method\n",
      "- Hann window\n",
      "- Lower passband edge: 1.00\n",
      "- Lower transition bandwidth: 0.50 Hz (-12 dB cutoff frequency: 0.75 Hz)\n",
      "- Upper passband edge: 10.00 Hz\n",
      "- Upper transition bandwidth: 0.50 Hz (-12 dB cutoff frequency: 10.25 Hz)\n",
      "- Filter length: 5000 samples (10.000 sec)\n",
      "\n",
      "    Searching for artifacts...\n",
      "    found 1 artifact by skewness\n",
      "    found 1 artifact by kurtosis\n",
      "    found 1 artifact by variance\n",
      "Artifact indices found:\n",
      "    2, 2, 15\n",
      "    Removing duplicate indices...\n",
      "Ready.\n",
      "Using threshold: 0.23 for CTPS ECG detection\n",
      "Using channel EKG to identify heart beats.\n",
      "Setting up band-pass filter from 8 - 16 Hz\n",
      "\n",
      "FIR filter parameters\n",
      "---------------------\n",
      "Designing a two-pass forward and reverse, zero-phase, non-causal bandpass filter:\n",
      "- Windowed frequency-domain design (firwin2) method\n",
      "- Hann window\n",
      "- Lower passband edge: 8.00\n",
      "- Lower transition bandwidth: 0.50 Hz (-12 dB cutoff frequency: 7.75 Hz)\n",
      "- Upper passband edge: 16.00 Hz\n",
      "- Upper transition bandwidth: 0.50 Hz (-12 dB cutoff frequency: 16.25 Hz)\n",
      "- Filter length: 5000 samples (10.000 sec)\n",
      "\n",
      "Number of ECG events detected : 702 (average pulse 83 / min.)\n",
      "Not setting metadata\n",
      "Not setting metadata\n",
      "702 matching events found\n",
      "No baseline correction applied\n",
      "Loading data for 702 events and 501 original time points ...\n",
      "1 bad epochs dropped\n",
      "Using EOG channels: VEO, HEO\n",
      "... filtering ICA sources\n",
      "Setting up band-pass filter from 1 - 10 Hz\n",
      "\n",
      "FIR filter parameters\n",
      "---------------------\n",
      "Designing a two-pass forward and reverse, zero-phase, non-causal bandpass filter:\n",
      "- Windowed frequency-domain design (firwin2) method\n",
      "- Hann window\n",
      "- Lower passband edge: 1.00\n",
      "- Lower transition bandwidth: 0.50 Hz (-12 dB cutoff frequency: 0.75 Hz)\n",
      "- Upper passband edge: 10.00 Hz\n",
      "- Upper transition bandwidth: 0.50 Hz (-12 dB cutoff frequency: 10.25 Hz)\n",
      "- Filter length: 5000 samples (10.000 sec)\n",
      "\n",
      "... filtering target\n",
      "Setting up band-pass filter from 1 - 10 Hz\n",
      "\n",
      "FIR filter parameters\n",
      "---------------------\n",
      "Designing a two-pass forward and reverse, zero-phase, non-causal bandpass filter:\n",
      "- Windowed frequency-domain design (firwin2) method\n",
      "- Hann window\n",
      "- Lower passband edge: 1.00\n",
      "- Lower transition bandwidth: 0.50 Hz (-12 dB cutoff frequency: 0.75 Hz)\n",
      "- Upper passband edge: 10.00 Hz\n",
      "- Upper transition bandwidth: 0.50 Hz (-12 dB cutoff frequency: 10.25 Hz)\n",
      "- Filter length: 5000 samples (10.000 sec)\n",
      "\n",
      "... filtering ICA sources\n",
      "Setting up band-pass filter from 1 - 10 Hz\n",
      "\n",
      "FIR filter parameters\n",
      "---------------------\n",
      "Designing a two-pass forward and reverse, zero-phase, non-causal bandpass filter:\n",
      "- Windowed frequency-domain design (firwin2) method\n",
      "- Hann window\n",
      "- Lower passband edge: 1.00\n",
      "- Lower transition bandwidth: 0.50 Hz (-12 dB cutoff frequency: 0.75 Hz)\n",
      "- Upper passband edge: 10.00 Hz\n",
      "- Upper transition bandwidth: 0.50 Hz (-12 dB cutoff frequency: 10.25 Hz)\n",
      "- Filter length: 5000 samples (10.000 sec)\n",
      "\n",
      "... filtering target\n",
      "Setting up band-pass filter from 1 - 10 Hz\n",
      "\n",
      "FIR filter parameters\n",
      "---------------------\n",
      "Designing a two-pass forward and reverse, zero-phase, non-causal bandpass filter:\n",
      "- Windowed frequency-domain design (firwin2) method\n",
      "- Hann window\n",
      "- Lower passband edge: 1.00\n",
      "- Lower transition bandwidth: 0.50 Hz (-12 dB cutoff frequency: 0.75 Hz)\n",
      "- Upper passband edge: 10.00 Hz\n",
      "- Upper transition bandwidth: 0.50 Hz (-12 dB cutoff frequency: 10.25 Hz)\n",
      "- Filter length: 5000 samples (10.000 sec)\n",
      "\n",
      "    Searching for artifacts...\n",
      "    found 1 artifact by skewness\n",
      "    found 1 artifact by kurtosis\n",
      "    found 1 artifact by variance\n",
      "Artifact indices found:\n",
      "    1, 1, 11\n",
      "    Removing duplicate indices...\n",
      "Ready.\n",
      "Using threshold: 0.23 for CTPS ECG detection\n",
      "Using channel EKG to identify heart beats.\n",
      "Setting up band-pass filter from 8 - 16 Hz\n",
      "\n",
      "FIR filter parameters\n",
      "---------------------\n",
      "Designing a two-pass forward and reverse, zero-phase, non-causal bandpass filter:\n",
      "- Windowed frequency-domain design (firwin2) method\n",
      "- Hann window\n",
      "- Lower passband edge: 8.00\n",
      "- Lower transition bandwidth: 0.50 Hz (-12 dB cutoff frequency: 7.75 Hz)\n",
      "- Upper passband edge: 16.00 Hz\n",
      "- Upper transition bandwidth: 0.50 Hz (-12 dB cutoff frequency: 16.25 Hz)\n",
      "- Filter length: 5000 samples (10.000 sec)\n",
      "\n",
      "Number of ECG events detected : 635 (average pulse 76 / min.)\n",
      "Not setting metadata\n",
      "Not setting metadata\n",
      "635 matching events found\n",
      "No baseline correction applied\n",
      "Loading data for 635 events and 501 original time points ...\n",
      "0 bad epochs dropped\n",
      "Using EOG channels: VEO, HEO\n",
      "... filtering ICA sources\n",
      "Setting up band-pass filter from 1 - 10 Hz\n",
      "\n",
      "FIR filter parameters\n",
      "---------------------\n",
      "Designing a two-pass forward and reverse, zero-phase, non-causal bandpass filter:\n",
      "- Windowed frequency-domain design (firwin2) method\n",
      "- Hann window\n",
      "- Lower passband edge: 1.00\n",
      "- Lower transition bandwidth: 0.50 Hz (-12 dB cutoff frequency: 0.75 Hz)\n",
      "- Upper passband edge: 10.00 Hz\n",
      "- Upper transition bandwidth: 0.50 Hz (-12 dB cutoff frequency: 10.25 Hz)\n",
      "- Filter length: 5000 samples (10.000 sec)\n",
      "\n",
      "... filtering target\n",
      "Setting up band-pass filter from 1 - 10 Hz\n",
      "\n",
      "FIR filter parameters\n",
      "---------------------\n",
      "Designing a two-pass forward and reverse, zero-phase, non-causal bandpass filter:\n",
      "- Windowed frequency-domain design (firwin2) method\n",
      "- Hann window\n",
      "- Lower passband edge: 1.00\n",
      "- Lower transition bandwidth: 0.50 Hz (-12 dB cutoff frequency: 0.75 Hz)\n",
      "- Upper passband edge: 10.00 Hz\n",
      "- Upper transition bandwidth: 0.50 Hz (-12 dB cutoff frequency: 10.25 Hz)\n",
      "- Filter length: 5000 samples (10.000 sec)\n",
      "\n",
      "... filtering ICA sources\n",
      "Setting up band-pass filter from 1 - 10 Hz\n",
      "\n",
      "FIR filter parameters\n",
      "---------------------\n",
      "Designing a two-pass forward and reverse, zero-phase, non-causal bandpass filter:\n",
      "- Windowed frequency-domain design (firwin2) method\n",
      "- Hann window\n",
      "- Lower passband edge: 1.00\n",
      "- Lower transition bandwidth: 0.50 Hz (-12 dB cutoff frequency: 0.75 Hz)\n",
      "- Upper passband edge: 10.00 Hz\n",
      "- Upper transition bandwidth: 0.50 Hz (-12 dB cutoff frequency: 10.25 Hz)\n",
      "- Filter length: 5000 samples (10.000 sec)\n",
      "\n",
      "... filtering target\n",
      "Setting up band-pass filter from 1 - 10 Hz\n",
      "\n",
      "FIR filter parameters\n",
      "---------------------\n",
      "Designing a two-pass forward and reverse, zero-phase, non-causal bandpass filter:\n",
      "- Windowed frequency-domain design (firwin2) method\n",
      "- Hann window\n",
      "- Lower passband edge: 1.00\n",
      "- Lower transition bandwidth: 0.50 Hz (-12 dB cutoff frequency: 0.75 Hz)\n",
      "- Upper passband edge: 10.00 Hz\n",
      "- Upper transition bandwidth: 0.50 Hz (-12 dB cutoff frequency: 10.25 Hz)\n",
      "- Filter length: 5000 samples (10.000 sec)\n",
      "\n",
      "    Searching for artifacts...\n",
      "    found 1 artifact by skewness\n",
      "    found 1 artifact by kurtosis\n",
      "    found 1 artifact by variance\n",
      "Artifact indices found:\n",
      "    6, 4, 0\n",
      "Ready.\n",
      "Using threshold: 0.23 for CTPS ECG detection\n",
      "Using channel EKG to identify heart beats.\n",
      "Setting up band-pass filter from 8 - 16 Hz\n",
      "\n",
      "FIR filter parameters\n",
      "---------------------\n",
      "Designing a two-pass forward and reverse, zero-phase, non-causal bandpass filter:\n",
      "- Windowed frequency-domain design (firwin2) method\n",
      "- Hann window\n",
      "- Lower passband edge: 8.00\n",
      "- Lower transition bandwidth: 0.50 Hz (-12 dB cutoff frequency: 7.75 Hz)\n",
      "- Upper passband edge: 16.00 Hz\n",
      "- Upper transition bandwidth: 0.50 Hz (-12 dB cutoff frequency: 16.25 Hz)\n",
      "- Filter length: 5000 samples (10.000 sec)\n",
      "\n",
      "Number of ECG events detected : 536 (average pulse 62 / min.)\n",
      "Not setting metadata\n",
      "Not setting metadata\n",
      "536 matching events found\n",
      "No baseline correction applied\n",
      "Loading data for 536 events and 501 original time points ...\n",
      "1 bad epochs dropped\n",
      "Using EOG channels: VEO, HEO\n",
      "... filtering ICA sources\n",
      "Setting up band-pass filter from 1 - 10 Hz\n",
      "\n",
      "FIR filter parameters\n",
      "---------------------\n",
      "Designing a two-pass forward and reverse, zero-phase, non-causal bandpass filter:\n",
      "- Windowed frequency-domain design (firwin2) method\n",
      "- Hann window\n",
      "- Lower passband edge: 1.00\n",
      "- Lower transition bandwidth: 0.50 Hz (-12 dB cutoff frequency: 0.75 Hz)\n",
      "- Upper passband edge: 10.00 Hz\n",
      "- Upper transition bandwidth: 0.50 Hz (-12 dB cutoff frequency: 10.25 Hz)\n",
      "- Filter length: 5000 samples (10.000 sec)\n",
      "\n",
      "... filtering target\n",
      "Setting up band-pass filter from 1 - 10 Hz\n",
      "\n",
      "FIR filter parameters\n",
      "---------------------\n",
      "Designing a two-pass forward and reverse, zero-phase, non-causal bandpass filter:\n",
      "- Windowed frequency-domain design (firwin2) method\n",
      "- Hann window\n",
      "- Lower passband edge: 1.00\n",
      "- Lower transition bandwidth: 0.50 Hz (-12 dB cutoff frequency: 0.75 Hz)\n",
      "- Upper passband edge: 10.00 Hz\n",
      "- Upper transition bandwidth: 0.50 Hz (-12 dB cutoff frequency: 10.25 Hz)\n",
      "- Filter length: 5000 samples (10.000 sec)\n",
      "\n",
      "... filtering ICA sources\n",
      "Setting up band-pass filter from 1 - 10 Hz\n",
      "\n",
      "FIR filter parameters\n",
      "---------------------\n",
      "Designing a two-pass forward and reverse, zero-phase, non-causal bandpass filter:\n",
      "- Windowed frequency-domain design (firwin2) method\n",
      "- Hann window\n",
      "- Lower passband edge: 1.00\n",
      "- Lower transition bandwidth: 0.50 Hz (-12 dB cutoff frequency: 0.75 Hz)\n",
      "- Upper passband edge: 10.00 Hz\n",
      "- Upper transition bandwidth: 0.50 Hz (-12 dB cutoff frequency: 10.25 Hz)\n",
      "- Filter length: 5000 samples (10.000 sec)\n",
      "\n",
      "... filtering target\n",
      "Setting up band-pass filter from 1 - 10 Hz\n",
      "\n",
      "FIR filter parameters\n",
      "---------------------\n",
      "Designing a two-pass forward and reverse, zero-phase, non-causal bandpass filter:\n",
      "- Windowed frequency-domain design (firwin2) method\n",
      "- Hann window\n",
      "- Lower passband edge: 1.00\n",
      "- Lower transition bandwidth: 0.50 Hz (-12 dB cutoff frequency: 0.75 Hz)\n",
      "- Upper passband edge: 10.00 Hz\n",
      "- Upper transition bandwidth: 0.50 Hz (-12 dB cutoff frequency: 10.25 Hz)\n",
      "- Filter length: 5000 samples (10.000 sec)\n",
      "\n",
      "    Searching for artifacts...\n",
      "    found 1 artifact by skewness\n",
      "    found 1 artifact by kurtosis\n",
      "    found 1 artifact by variance\n",
      "Artifact indices found:\n",
      "    9, 9, 0\n",
      "    Removing duplicate indices...\n",
      "Ready.\n",
      "Using threshold: 0.23 for CTPS ECG detection\n",
      "Using channel EKG to identify heart beats.\n",
      "Setting up band-pass filter from 8 - 16 Hz\n",
      "\n",
      "FIR filter parameters\n",
      "---------------------\n",
      "Designing a two-pass forward and reverse, zero-phase, non-causal bandpass filter:\n",
      "- Windowed frequency-domain design (firwin2) method\n",
      "- Hann window\n",
      "- Lower passband edge: 8.00\n",
      "- Lower transition bandwidth: 0.50 Hz (-12 dB cutoff frequency: 7.75 Hz)\n",
      "- Upper passband edge: 16.00 Hz\n",
      "- Upper transition bandwidth: 0.50 Hz (-12 dB cutoff frequency: 16.25 Hz)\n",
      "- Filter length: 5000 samples (10.000 sec)\n",
      "\n",
      "Number of ECG events detected : 487 (average pulse 58 / min.)\n",
      "Not setting metadata\n",
      "Not setting metadata\n",
      "487 matching events found\n",
      "No baseline correction applied\n",
      "Loading data for 487 events and 501 original time points ...\n",
      "1 bad epochs dropped\n",
      "Using EOG channels: VEO, HEO\n",
      "... filtering ICA sources\n",
      "Setting up band-pass filter from 1 - 10 Hz\n",
      "\n",
      "FIR filter parameters\n",
      "---------------------\n",
      "Designing a two-pass forward and reverse, zero-phase, non-causal bandpass filter:\n",
      "- Windowed frequency-domain design (firwin2) method\n",
      "- Hann window\n",
      "- Lower passband edge: 1.00\n",
      "- Lower transition bandwidth: 0.50 Hz (-12 dB cutoff frequency: 0.75 Hz)\n",
      "- Upper passband edge: 10.00 Hz\n",
      "- Upper transition bandwidth: 0.50 Hz (-12 dB cutoff frequency: 10.25 Hz)\n",
      "- Filter length: 5000 samples (10.000 sec)\n",
      "\n",
      "... filtering target\n",
      "Setting up band-pass filter from 1 - 10 Hz\n",
      "\n",
      "FIR filter parameters\n",
      "---------------------\n",
      "Designing a two-pass forward and reverse, zero-phase, non-causal bandpass filter:\n",
      "- Windowed frequency-domain design (firwin2) method\n",
      "- Hann window\n",
      "- Lower passband edge: 1.00\n",
      "- Lower transition bandwidth: 0.50 Hz (-12 dB cutoff frequency: 0.75 Hz)\n",
      "- Upper passband edge: 10.00 Hz\n",
      "- Upper transition bandwidth: 0.50 Hz (-12 dB cutoff frequency: 10.25 Hz)\n",
      "- Filter length: 5000 samples (10.000 sec)\n",
      "\n",
      "... filtering ICA sources\n",
      "Setting up band-pass filter from 1 - 10 Hz\n",
      "\n",
      "FIR filter parameters\n",
      "---------------------\n",
      "Designing a two-pass forward and reverse, zero-phase, non-causal bandpass filter:\n",
      "- Windowed frequency-domain design (firwin2) method\n",
      "- Hann window\n",
      "- Lower passband edge: 1.00\n",
      "- Lower transition bandwidth: 0.50 Hz (-12 dB cutoff frequency: 0.75 Hz)\n",
      "- Upper passband edge: 10.00 Hz\n",
      "- Upper transition bandwidth: 0.50 Hz (-12 dB cutoff frequency: 10.25 Hz)\n",
      "- Filter length: 5000 samples (10.000 sec)\n",
      "\n",
      "... filtering target\n",
      "Setting up band-pass filter from 1 - 10 Hz\n",
      "\n",
      "FIR filter parameters\n",
      "---------------------\n",
      "Designing a two-pass forward and reverse, zero-phase, non-causal bandpass filter:\n",
      "- Windowed frequency-domain design (firwin2) method\n",
      "- Hann window\n",
      "- Lower passband edge: 1.00\n",
      "- Lower transition bandwidth: 0.50 Hz (-12 dB cutoff frequency: 0.75 Hz)\n",
      "- Upper passband edge: 10.00 Hz\n",
      "- Upper transition bandwidth: 0.50 Hz (-12 dB cutoff frequency: 10.25 Hz)\n",
      "- Filter length: 5000 samples (10.000 sec)\n",
      "\n"
     ]
    }
   ],
   "source": [
    "# Marking bad components\n",
    "mark_artifacts(ica10_1, ab10_1)\n",
    "mark_artifacts(ica10_2, ab10_2)\n",
    "mark_artifacts(ica12_1, ab12_1)\n",
    "mark_artifacts(ica12_2, ab12_2)\n",
    "mark_artifacts(ica13_1, ab13_1)\n",
    "mark_artifacts(ica13_2, ab13_2)\n",
    "mark_artifacts(ica28_1, ab28_1)\n",
    "mark_artifacts(ica28_2, ab28_2)\n",
    "mark_artifacts(ica31_1, ab31_1)\n",
    "mark_artifacts(ica31_2, ab31_2)\n",
    "mark_artifacts(ica32_1, ab32_1)\n",
    "mark_artifacts(ica32_2, ab32_2)"
   ]
  },
  {
   "cell_type": "code",
   "execution_count": null,
   "metadata": {},
   "outputs": [],
   "source": [
    "ica10_1.plot_sources(ab10_1)"
   ]
  },
  {
   "cell_type": "code",
   "execution_count": null,
   "metadata": {
    "scrolled": true
   },
   "outputs": [],
   "source": [
    "#applying ica\n",
    "ica10_1.apply(ab10_1, exclude = ica10_1.exclude)\n",
    "ica10_2.apply(ab10_2, exclude = ica10_2.exclude)\n",
    "ica12_1.apply(ab12_1, exclude = ica12_1.exclude)\n",
    "ica12_2.apply(ab12_2, exclude = ica12_2.exclude)\n",
    "ica13_1.apply(ab13_1, exclude = ica13_1.exclude)\n",
    "ica13_2.apply(ab13_2, exclude = ica13_2.exclude)\n",
    "ica28_1.apply(ab28_1, exclude = ica28_1.exclude)\n",
    "ica28_2.apply(ab28_2, exclude = ica28_2.exclude)\n",
    "ica31_1.apply(ab31_1, exclude = ica31_1.exclude)\n",
    "ica31_2.apply(ab31_2, exclude = ica31_2.exclude)\n",
    "ica32_1.apply(ab32_1, exclude = ica32_1.exclude)\n",
    "ica32_2.apply(ab32_2, exclude = ica32_2.exclude)"
   ]
  },
  {
   "cell_type": "markdown",
   "metadata": {},
   "source": [
    "## Generating Events for all subjects"
   ]
  },
  {
   "cell_type": "code",
   "execution_count": 11,
   "metadata": {},
   "outputs": [
    {
     "name": "stdout",
     "output_type": "stream",
     "text": [
      "Used Annotations descriptions: ['1', '10', '11', '2', '3', '4', '5', '9']\n",
      "Used Annotations descriptions: ['1', '10', '2', '3', '4', '5', '9']\n",
      "Used Annotations descriptions: ['1', '10', '2', '4', '5', '6', '7', '9']\n",
      "Used Annotations descriptions: ['1', '10', '11', '2', '3', '4', '5', '6', '7', '9']\n",
      "Used Annotations descriptions: ['1', '10', '2', '3', '4', '5', '9']\n",
      "Used Annotations descriptions: ['1', '10', '2', '3', '4', '5', '9']\n",
      "Used Annotations descriptions: ['1', '10', '2', '4', '5', '6', '7', '9']\n",
      "Used Annotations descriptions: ['1', '10', '2', '3', '4', '5', '6', '7', '9']\n",
      "Used Annotations descriptions: ['1', '10', '2', '3', '4', '5', '9']\n",
      "Used Annotations descriptions: ['1', '10', '2', '3', '4', '5', '6', '7', '9']\n",
      "Used Annotations descriptions: ['1', '10', '11', '2', '3', '4', '5', '6', '7', '9']\n",
      "Used Annotations descriptions: ['1', '10', '2', '4', '5', '6', '7', '9']\n"
     ]
    }
   ],
   "source": [
    "eventsab10_1 = mne.events_from_annotations(ab10_1)\n",
    "eventsab10_2 = mne.events_from_annotations(ab10_2)\n",
    "\n",
    "eventsab12_1 = mne.events_from_annotations(ab12_1)\n",
    "eventsab12_2 = mne.events_from_annotations(ab12_2)\n",
    "\n",
    "eventsab13_1 = mne.events_from_annotations(ab13_1)\n",
    "eventsab13_2 = mne.events_from_annotations(ab13_2)\n",
    "\n",
    "eventsab28_1 = mne.events_from_annotations(ab28_1)\n",
    "eventsab28_2 = mne.events_from_annotations(ab28_2)\n",
    "\n",
    "eventsab31_1 = mne.events_from_annotations(ab31_1)\n",
    "eventsab31_2 = mne.events_from_annotations(ab31_2)\n",
    "\n",
    "eventsab32_1 = mne.events_from_annotations(ab32_1)\n",
    "eventsab32_2 = mne.events_from_annotations(ab32_2)"
   ]
  },
  {
   "cell_type": "code",
   "execution_count": 12,
   "metadata": {},
   "outputs": [
    {
     "data": {
      "text/plain": [
       "{'taskstart': '9',\n",
       " 'cue': '1',\n",
       " 'go': '2',\n",
       " 'button press': '5',\n",
       " 'no-go': '4',\n",
       " 'task end': '10',\n",
       " 'error 1': '3',\n",
       " 'error 2': '6',\n",
       " 'error 3': '7',\n",
       " 'error 4': '8',\n",
       " 'error 5': '11'}"
      ]
     },
     "execution_count": 12,
     "metadata": {},
     "output_type": "execute_result"
    }
   ],
   "source": [
    "#Creating event id Dictionary\n",
    "event_id = {\n",
    "    \"taskstart\" : '9',\n",
    "    \"cue\" : \"1\",\n",
    "    \"go\" : \"2\",\n",
    "    \"button press\" : \"5\",\n",
    "    \"no-go\" : \"4\",\n",
    "    \"task end\": \"10\",\n",
    "    \"error 1\" : \"3\",\n",
    "    \"error 2\" : \"6\",\n",
    "    \"error 3\" : \"7\",\n",
    "    \"error 4\" : \"8\",\n",
    "    \"error 5\" : \"11\"\n",
    "}\n",
    "event_id"
   ]
  },
  {
   "cell_type": "markdown",
   "metadata": {},
   "source": [
    "## Creating Epochs"
   ]
  },
  {
   "cell_type": "code",
   "execution_count": 13,
   "metadata": {
    "scrolled": true
   },
   "outputs": [
    {
     "name": "stdout",
     "output_type": "stream",
     "text": [
      "Not setting metadata\n",
      "Not setting metadata\n",
      "155 matching events found\n",
      "Setting baseline interval to [-0.2, 0.0] sec\n",
      "Applying baseline correction (mode: mean)\n",
      "0 projection items activated\n",
      "Not setting metadata\n",
      "Not setting metadata\n",
      "153 matching events found\n",
      "Setting baseline interval to [-0.2, 0.0] sec\n",
      "Applying baseline correction (mode: mean)\n",
      "0 projection items activated\n",
      "Not setting metadata\n",
      "Not setting metadata\n",
      "154 matching events found\n",
      "Setting baseline interval to [-0.2, 0.0] sec\n",
      "Applying baseline correction (mode: mean)\n",
      "0 projection items activated\n",
      "Not setting metadata\n",
      "Not setting metadata\n",
      "158 matching events found\n",
      "Setting baseline interval to [-0.2, 0.0] sec\n",
      "Applying baseline correction (mode: mean)\n",
      "0 projection items activated\n",
      "Not setting metadata\n",
      "Not setting metadata\n",
      "153 matching events found\n",
      "Setting baseline interval to [-0.2, 0.0] sec\n",
      "Applying baseline correction (mode: mean)\n",
      "0 projection items activated\n",
      "Not setting metadata\n",
      "Not setting metadata\n",
      "153 matching events found\n",
      "Setting baseline interval to [-0.2, 0.0] sec\n",
      "Applying baseline correction (mode: mean)\n",
      "0 projection items activated\n",
      "Not setting metadata\n",
      "Not setting metadata\n",
      "154 matching events found\n",
      "Setting baseline interval to [-0.2, 0.0] sec\n",
      "Applying baseline correction (mode: mean)\n",
      "0 projection items activated\n",
      "Not setting metadata\n",
      "Not setting metadata\n",
      "157 matching events found\n",
      "Setting baseline interval to [-0.2, 0.0] sec\n",
      "Applying baseline correction (mode: mean)\n",
      "0 projection items activated\n",
      "Not setting metadata\n",
      "Not setting metadata\n",
      "155 matching events found\n",
      "Setting baseline interval to [-0.2, 0.0] sec\n",
      "Applying baseline correction (mode: mean)\n",
      "0 projection items activated\n",
      "Not setting metadata\n",
      "Not setting metadata\n",
      "159 matching events found\n",
      "Setting baseline interval to [-0.2, 0.0] sec\n",
      "Applying baseline correction (mode: mean)\n",
      "0 projection items activated\n",
      "Not setting metadata\n",
      "Not setting metadata\n",
      "167 matching events found\n",
      "Setting baseline interval to [-0.2, 0.0] sec\n",
      "Applying baseline correction (mode: mean)\n",
      "0 projection items activated\n",
      "Not setting metadata\n",
      "Not setting metadata\n",
      "154 matching events found\n",
      "Setting baseline interval to [-0.2, 0.0] sec\n",
      "Applying baseline correction (mode: mean)\n",
      "0 projection items activated\n"
     ]
    }
   ],
   "source": [
    "#Creating epochs\n",
    "\n",
    "epochsab10_1 = mne.Epochs(ab10_1,\n",
    "                   events = eventsab10_1[0],\n",
    "                   event_id = eventsab10_1[1],)\n",
    "epochsab10_2 = mne.Epochs(ab10_2,\n",
    "                   events = eventsab10_2[0],\n",
    "                   event_id = eventsab10_2[1],)\n",
    "\n",
    "epochsab12_1 = mne.Epochs(ab12_1,\n",
    "                   events = eventsab12_1[0],\n",
    "                   event_id = eventsab12_1[1],)\n",
    "epochsab12_2 = mne.Epochs(ab12_2,\n",
    "                   events = eventsab12_2[0],\n",
    "                   event_id = eventsab12_2[1],)\n",
    "\n",
    "epochsab13_1 = mne.Epochs(ab13_1,\n",
    "                   events = eventsab13_1[0],\n",
    "                   event_id = eventsab13_1[1],)\n",
    "epochsab13_2 = mne.Epochs(ab13_2,\n",
    "                   events = eventsab13_2[0],\n",
    "                   event_id = eventsab13_2[1],)\n",
    "\n",
    "epochsab28_1 = mne.Epochs(ab28_1,\n",
    "                   events = eventsab28_1[0],\n",
    "                   event_id = eventsab28_1[1],)\n",
    "epochsab28_2 = mne.Epochs(ab28_2,\n",
    "                   events = eventsab28_2[0],\n",
    "                   event_id = eventsab28_2[1],)\n",
    "\n",
    "epochsab31_1 = mne.Epochs(ab31_1,\n",
    "                   events = eventsab31_1[0],\n",
    "                   event_id = eventsab31_1[1],)\n",
    "epochsab31_2 = mne.Epochs(ab31_2,\n",
    "                   events = eventsab31_2[0],\n",
    "                   event_id = eventsab31_2[1],)\n",
    "\n",
    "epochsab32_1 = mne.Epochs(ab32_1,\n",
    "                   events = eventsab32_1[0],\n",
    "                   event_id = eventsab32_1[1],)\n",
    "epochsab32_2 = mne.Epochs(ab32_2,\n",
    "                   events = eventsab32_2[0],\n",
    "                   event_id = eventsab32_2[1],)"
   ]
  },
  {
   "cell_type": "code",
   "execution_count": 26,
   "metadata": {},
   "outputs": [
    {
     "name": "stdout",
     "output_type": "stream",
     "text": [
      "Loading data for 155 events and 351 original time points ...\n",
      "0 bad epochs dropped\n",
      "Loading data for 155 events and 351 original time points ...\n",
      "Loading data for 20 events and 351 original time points ...\n"
     ]
    }
   ],
   "source": [
    "epochsab10_1.plot();"
   ]
  },
  {
   "cell_type": "code",
   "execution_count": 14,
   "metadata": {},
   "outputs": [],
   "source": [
    "#to fix event ids\n",
    "def get_keys_from_value(d, val):\n",
    "    return [k for k, v in d.items() if v == val]\n",
    "def fix_event_ids(epochsab, eventsab):\n",
    "    for i in range(epochsab.events.shape[0]):\n",
    "        epochsab.events[i][2] = int(get_keys_from_value(eventsab[1], epochsab.events[i][2])[0])"
   ]
  },
  {
   "cell_type": "code",
   "execution_count": 15,
   "metadata": {},
   "outputs": [],
   "source": [
    "#fix event ids\n",
    "fix_event_ids(epochsab10_1, eventsab10_1)\n",
    "fix_event_ids(epochsab12_1, eventsab12_1)\n",
    "fix_event_ids(epochsab13_1, eventsab13_1)\n",
    "fix_event_ids(epochsab28_1, eventsab28_1)\n",
    "fix_event_ids(epochsab31_1, eventsab31_1)\n",
    "fix_event_ids(epochsab32_1, eventsab32_1)\n",
    "fix_event_ids(epochsab10_2, eventsab10_2)\n",
    "fix_event_ids(epochsab12_2, eventsab12_2)\n",
    "fix_event_ids(epochsab13_2, eventsab13_2)\n",
    "fix_event_ids(epochsab28_2, eventsab28_2)\n",
    "fix_event_ids(epochsab31_2, eventsab31_2)\n",
    "fix_event_ids(epochsab32_2, eventsab32_2)"
   ]
  },
  {
   "cell_type": "markdown",
   "metadata": {},
   "source": [
    "# Applying Machine learning for classification"
   ]
  },
  {
   "cell_type": "code",
   "execution_count": 18,
   "metadata": {},
   "outputs": [],
   "source": [
    "#Loading important libraries\n",
    "import numpy as np\n",
    "import tensorflow as tf\n",
    "import matplotlib.pyplot as plt\n",
    "%matplotlib inline\n",
    "\n",
    "from tensorflow.keras.models import Model, Sequential\n",
    "from tensorflow.keras.layers import Dense, Softmax\n",
    "from tensorflow.keras.optimizers import Adam\n",
    "from tensorflow.keras.callbacks import EarlyStopping, ModelCheckpoint"
   ]
  },
  {
   "cell_type": "markdown",
   "metadata": {},
   "source": [
    "## Preparing data"
   ]
  },
  {
   "cell_type": "code",
   "execution_count": 19,
   "metadata": {
    "scrolled": true
   },
   "outputs": [
    {
     "name": "stdout",
     "output_type": "stream",
     "text": [
      "Loading data for 155 events and 351 original time points ...\n",
      "0 bad epochs dropped\n",
      "Loading data for 153 events and 351 original time points ...\n",
      "0 bad epochs dropped\n",
      "Loading data for 154 events and 351 original time points ...\n",
      "0 bad epochs dropped\n",
      "Loading data for 158 events and 351 original time points ...\n",
      "0 bad epochs dropped\n",
      "Loading data for 153 events and 351 original time points ...\n",
      "0 bad epochs dropped\n",
      "Loading data for 153 events and 351 original time points ...\n",
      "0 bad epochs dropped\n",
      "Loading data for 154 events and 351 original time points ...\n",
      "0 bad epochs dropped\n",
      "Loading data for 157 events and 351 original time points ...\n",
      "0 bad epochs dropped\n",
      "Loading data for 155 events and 351 original time points ...\n",
      "0 bad epochs dropped\n",
      "Loading data for 159 events and 351 original time points ...\n",
      "0 bad epochs dropped\n",
      "Loading data for 167 events and 351 original time points ...\n",
      "0 bad epochs dropped\n",
      "Loading data for 154 events and 351 original time points ...\n",
      "0 bad epochs dropped\n"
     ]
    }
   ],
   "source": [
    "#Getting epoch data\n",
    "\n",
    "dataab10_1 = epochsab10_1.get_data()\n",
    "dataab10_2 = epochsab10_2.get_data()\n",
    "dataab12_1 = epochsab12_1.get_data()\n",
    "dataab12_2 = epochsab12_2.get_data()\n",
    "dataab13_1 = epochsab13_1.get_data()\n",
    "dataab13_2 = epochsab13_2.get_data()\n",
    "dataab28_1 = epochsab28_1.get_data()\n",
    "dataab28_2 = epochsab28_2.get_data()\n",
    "dataab31_1 = epochsab31_1.get_data()\n",
    "dataab31_2 = epochsab31_2.get_data()\n",
    "dataab32_1 = epochsab32_1.get_data()\n",
    "dataab32_2 = epochsab32_2.get_data()\n",
    "\n",
    "\n",
    "# data10_1 = ab10_1.get_data()\n",
    "# data10_2 = ab10_2.get_data()\n",
    "# data12_1 = ab12_1.get_data()\n",
    "# data12_2 = ab12_2.get_data()\n",
    "# data13_1 = ab13_1.get_data()\n",
    "# data13_2 = ab13_2.get_data()\n",
    "# data28_1 = ab28_1.get_data()\n",
    "# data28_2 = ab28_2.get_data()\n",
    "# data31_1 = ab31_1.get_data()\n",
    "# data31_2 = ab31_2.get_data()\n",
    "# data32_1 = ab32_1.get_data()\n",
    "# data32_2 = ab32_2.get_data()\n",
    "\n",
    "# print(\"shape from ab10_1 data epochs : \", dataab10_1.shape)\n",
    "# print(\"shape from ab10_1 data directly: \", data10_1.shape)\n",
    "\n",
    "\n",
    "# data12_1 = ab12_1.get_data()\n",
    "# data12_1 = data12_1.transpose()\n",
    "# data12_1.shape"
   ]
  },
  {
   "cell_type": "code",
   "execution_count": 20,
   "metadata": {},
   "outputs": [
    {
     "name": "stdout",
     "output_type": "stream",
     "text": [
      "(1872, 66, 351)\n",
      "351 X 66\n"
     ]
    },
    {
     "data": {
      "text/plain": [
       "(1872, 351, 66)"
      ]
     },
     "execution_count": 20,
     "metadata": {},
     "output_type": "execute_result"
    }
   ],
   "source": [
    "#Concatenating data\n",
    "data = np.concatenate([dataab10_1, dataab10_2,\n",
    "                      dataab12_1, dataab12_2,\n",
    "                      dataab13_1, dataab13_2,\n",
    "                      dataab28_1, dataab28_2,\n",
    "                      dataab31_1, dataab31_2,\n",
    "                      dataab32_1, dataab32_2], \n",
    "                      axis = 0)\n",
    "print(data.shape)\n",
    "\n",
    "#Changing the shape of data from (events, channel, time points) to (events, time points, channel)\n",
    "datars = np.zeros((data.shape[0], data.shape[2], data.shape[1]))\n",
    "for i in range(datars.shape[0]):\n",
    "    datars[i] = np.transpose(data[i])\n",
    "    \n",
    "dims_lstm_1 = datars.shape[1]\n",
    "dims_lstm_2 = datars.shape[2]\n",
    "print(dims_lstm_1, \"X\", dims_lstm_2)\n",
    "datars.shape"
   ]
  },
  {
   "cell_type": "code",
   "execution_count": 21,
   "metadata": {},
   "outputs": [
    {
     "name": "stdout",
     "output_type": "stream",
     "text": [
      "(1872, 23166)\n"
     ]
    },
    {
     "data": {
      "text/plain": [
       "23166"
      ]
     },
     "execution_count": 21,
     "metadata": {},
     "output_type": "execute_result"
    }
   ],
   "source": [
    "n_trials = data.shape[0]\n",
    "\n",
    "data = data.reshape(n_trials, -1)\n",
    "print(data.shape)\n",
    "dims_ip = data.shape[1]\n",
    "dims_ip"
   ]
  },
  {
   "cell_type": "code",
   "execution_count": 101,
   "metadata": {},
   "outputs": [],
   "source": [
    "#Getting y\n",
    "yab10_1 = epochsab10_1.events[:, 2]\n",
    "yab10_2 = epochsab10_2.events[:, 2]\n",
    "\n",
    "yab12_1 = epochsab12_1.events[:, 2]\n",
    "yab12_2 = epochsab12_2.events[:, 2]\n",
    "\n",
    "yab13_1 = epochsab13_1.events[:, 2]\n",
    "yab13_2 = epochsab13_2.events[:, 2]\n",
    "\n",
    "yab28_1 = epochsab28_1.events[:, 2]\n",
    "yab28_2 = epochsab28_2.events[:, 2]\n",
    "\n",
    "yab31_1 = epochsab31_1.events[:, 2]\n",
    "yab31_2 = epochsab31_2.events[:, 2]\n",
    "\n",
    "yab32_1 = epochsab32_1.events[:, 2]\n",
    "yab32_2 = epochsab32_2.events[:, 2]\n",
    "\n",
    "y = np.concatenate([yab10_1, yab10_2,\n",
    "                   yab12_1, yab12_2,\n",
    "                   yab13_1, yab13_2,\n",
    "                   yab28_1, yab28_2,\n",
    "                   yab31_1, yab31_2,\n",
    "                   yab32_1, yab32_2],\n",
    "                   axis = 0)"
   ]
  },
  {
   "cell_type": "code",
   "execution_count": 102,
   "metadata": {},
   "outputs": [
    {
     "name": "stdout",
     "output_type": "stream",
     "text": [
      "(1872, 351, 66)\n",
      "(1872, 1)\n",
      "(1872, 23167)\n",
      "(1872, 23166)\n",
      "(1872,)\n"
     ]
    }
   ],
   "source": [
    "#Preparing main dataset\n",
    "y = y.reshape(-1, 1)\n",
    "# y = y[...,np.newaxis]\n",
    "datarscopy = datars.copy()\n",
    "datarscopy = datarscopy.reshape(datars.shape[0], -1)\n",
    "\n",
    "print(datars.shape)\n",
    "print(y.shape)\n",
    "main_dataset = np.concatenate((datarscopy, y), axis = 1)\n",
    "print(main_dataset.shape)\n",
    "\n",
    "#Defining main x and y for training\n",
    "main_x = main_dataset[:, :-1]\n",
    "main_y = main_dataset[:, -1]\n",
    "print(main_x.shape)\n",
    "print(main_y.shape)"
   ]
  },
  {
   "cell_type": "code",
   "execution_count": 103,
   "metadata": {},
   "outputs": [
    {
     "data": {
      "text/plain": [
       "(657072, 66)"
      ]
     },
     "execution_count": 103,
     "metadata": {},
     "output_type": "execute_result"
    }
   ],
   "source": [
    "new_main_x = main_x.reshape((-1, 66))\n",
    "new_main_x.shape"
   ]
  },
  {
   "cell_type": "code",
   "execution_count": 104,
   "metadata": {},
   "outputs": [],
   "source": [
    "new_main_y = np.zeros((new_main_x.shape[0],))\n",
    "for i in range(main_y.shape[0]):\n",
    "    for j in range(351):\n",
    "        new_main_y[i*351 + j] = main_y[i]"
   ]
  },
  {
   "cell_type": "code",
   "execution_count": 105,
   "metadata": {},
   "outputs": [
    {
     "data": {
      "text/plain": [
       "(657072,)"
      ]
     },
     "execution_count": 105,
     "metadata": {},
     "output_type": "execute_result"
    }
   ],
   "source": [
    "new_main_y.shape"
   ]
  },
  {
   "cell_type": "code",
   "execution_count": 106,
   "metadata": {},
   "outputs": [
    {
     "data": {
      "text/plain": [
       "array([9., 9., 9., 9., 9., 9., 9., 9., 9., 9., 9., 9., 9., 9., 9., 9., 9.,\n",
       "       9., 9., 9., 9., 9., 9., 9., 9., 9., 9., 9., 9., 9.])"
      ]
     },
     "execution_count": 106,
     "metadata": {},
     "output_type": "execute_result"
    }
   ],
   "source": [
    "new_main_y[:30]"
   ]
  },
  {
   "cell_type": "code",
   "execution_count": 107,
   "metadata": {},
   "outputs": [
    {
     "data": {
      "text/plain": [
       "10.0"
      ]
     },
     "execution_count": 107,
     "metadata": {},
     "output_type": "execute_result"
    }
   ],
   "source": [
    "main_y[-1]"
   ]
  },
  {
   "cell_type": "code",
   "execution_count": 108,
   "metadata": {},
   "outputs": [
    {
     "data": {
      "text/plain": [
       "10.0"
      ]
     },
     "execution_count": 108,
     "metadata": {},
     "output_type": "execute_result"
    }
   ],
   "source": [
    "new_main_y[-1]"
   ]
  },
  {
   "cell_type": "markdown",
   "metadata": {},
   "source": [
    "## Classfying go/no/cue/button press"
   ]
  },
  {
   "cell_type": "code",
   "execution_count": 109,
   "metadata": {},
   "outputs": [
    {
     "name": "stdout",
     "output_type": "stream",
     "text": [
      "(1872, 23167)\n",
      "(1796, 23167)\n",
      "(1796, 23166)\n",
      "(1796,)\n",
      "[1.0, 2.0, 4.0, 5.0]\n",
      "[8.21052174e-06 9.10147548e-06 5.29950495e-06 ... 1.51682368e-04\n",
      " 3.00000000e-06 2.81945133e-06]\n"
     ]
    }
   ],
   "source": [
    "#Removing events which are not needed for current task\n",
    "dataset = main_dataset.copy()\n",
    "print(dataset.shape)\n",
    "dataset = dataset[dataset[:, -1]!=9]\n",
    "dataset = dataset[dataset[:, -1]!=10]\n",
    "\n",
    "dataset = dataset[dataset[:, -1]!=3]\n",
    "dataset = dataset[dataset[:, -1]!=6]\n",
    "dataset = dataset[dataset[:, -1]!=7]\n",
    "dataset = dataset[dataset[:, -1]!=8]\n",
    "dataset = dataset[dataset[:, -1]!=11]\n",
    "\n",
    "print(dataset.shape)\n",
    "\n",
    "#Defining x and y\n",
    "x = dataset[:, :-1]\n",
    "y = dataset[:, -1]\n",
    "print(x.shape)\n",
    "print(y.shape)\n",
    "print(list(set(y)))\n",
    "\n",
    "# permutations = np.random.permutation(len(x))\n",
    "# # print(permutation)\n",
    "# print(x[-1])\n",
    "# x = x[permutations]\n",
    "# y = y[permutations]\n",
    "print(x[-1])\n",
    "\n",
    "xmlp = x.copy()\n",
    "ymlp = y.copy()\n",
    "\n",
    "xlstm = x.copy().reshape((-1, dims_lstm_1, dims_lstm_2))\n",
    "ylstm = y.copy()\n",
    "\n",
    "xcnn = x.copy().reshape((-1, dims_lstm_1, dims_lstm_2))\n",
    "ycnn = y.copy()"
   ]
  },
  {
   "cell_type": "code",
   "execution_count": 110,
   "metadata": {},
   "outputs": [
    {
     "name": "stdout",
     "output_type": "stream",
     "text": [
      "[0.0, 1.0, 2.0, 3.0]\n"
     ]
    }
   ],
   "source": [
    "#Encoding y\n",
    "dict = {1.0: 0,2.0: 1, 4.0: 2, 5.0: 3}\n",
    "\n",
    "for i in range(len(y)):\n",
    "    y[i] = dict[y[i]]\n",
    "    ylstm[i] = dict[ylstm[i]]\n",
    "\n",
    "print(list(set(y)))"
   ]
  },
  {
   "cell_type": "code",
   "execution_count": 111,
   "metadata": {},
   "outputs": [
    {
     "name": "stdout",
     "output_type": "stream",
     "text": [
      "(4,)\n"
     ]
    }
   ],
   "source": [
    "num_classes = 4\n",
    "y = tf.keras.utils.to_categorical(y, num_classes)\n",
    "ymlp = y.copy()\n",
    "ylstm = y.copy()\n",
    "ycnn = y.copy()\n",
    "# yab10_1[0]\n",
    "print(y[1].shape)"
   ]
  },
  {
   "cell_type": "code",
   "execution_count": 113,
   "metadata": {},
   "outputs": [
    {
     "data": {
      "text/plain": [
       "(657072, 12)"
      ]
     },
     "execution_count": 113,
     "metadata": {},
     "output_type": "execute_result"
    }
   ],
   "source": [
    "num_classes = np.max(np.unique(new_main_y)).astype('int') + 1\n",
    "\n",
    "new_main_y = tf.keras.utils.to_categorical(new_main_y, num_classes)\n",
    "new_main_y.shape"
   ]
  },
  {
   "cell_type": "code",
   "execution_count": 114,
   "metadata": {},
   "outputs": [
    {
     "name": "stdout",
     "output_type": "stream",
     "text": [
      "1436\n"
     ]
    }
   ],
   "source": [
    "train_test_split = int(0.8 * len(xmlp))\n",
    "print(train_test_split)\n",
    "\n",
    "x_train_mlp = xmlp[:train_test_split]\n",
    "y_train_mlp = ymlp[:train_test_split]\n",
    "\n",
    "x_test_mlp = xmlp[train_test_split:]\n",
    "y_test_mlp = ymlp[train_test_split:]\n",
    "\n",
    "# x_mlp_train = xmlp[:]"
   ]
  },
  {
   "cell_type": "markdown",
   "metadata": {},
   "source": [
    "### Training on MLP Model"
   ]
  },
  {
   "cell_type": "code",
   "execution_count": 115,
   "metadata": {},
   "outputs": [
    {
     "name": "stdout",
     "output_type": "stream",
     "text": [
      "Model: \"model_4\"\n",
      "_________________________________________________________________\n",
      "Layer (type)                 Output Shape              Param #   \n",
      "=================================================================\n",
      "input_6 (InputLayer)         [(None, 66)]              0         \n",
      "_________________________________________________________________\n",
      "dense_14 (Dense)             (None, 32)                2144      \n",
      "_________________________________________________________________\n",
      "dropout_10 (Dropout)         (None, 32)                0         \n",
      "_________________________________________________________________\n",
      "dense_15 (Dense)             (None, 16)                528       \n",
      "_________________________________________________________________\n",
      "dropout_11 (Dropout)         (None, 16)                0         \n",
      "_________________________________________________________________\n",
      "dense_16 (Dense)             (None, 12)                204       \n",
      "=================================================================\n",
      "Total params: 2,876\n",
      "Trainable params: 2,876\n",
      "Non-trainable params: 0\n",
      "_________________________________________________________________\n"
     ]
    }
   ],
   "source": [
    "#Creating model architecture\n",
    "inp_shape = (66, )\n",
    "ip = tf.keras.Input(shape = inp_shape)\n",
    "dense1 = tf.keras.layers.Dense(units = 32, activation = 'relu', kernel_initializer = 'random_normal')(ip)\n",
    "drop = tf.keras.layers.Dropout(.4)(dense1)\n",
    "dense2 = tf.keras.layers.Dense(units = 16, activation = 'relu', kernel_initializer = 'random_normal')(drop)\n",
    "drop2 = tf.keras.layers.Dropout(.4)(dense2)\n",
    "out = tf.keras.layers.Dense(num_classes, activation = 'softmax')(drop2)\n",
    "\n",
    "mlp = tf.keras.Model(inputs = ip, outputs = out)\n",
    "mlp.summary()\n",
    "# inp_shape = (None, )\n",
    "# review_sequence = tf.keras.Input(shape = inp_shape)\n",
    "# embedding_sequence = tf.keras.layers.Embedding(input_dim=100+1, output_dim=32, input_shape=(review_sequence.shape), mask_zero=False)(review_sequence)\n",
    "# average_embedding = tf.keras.layers.GlobalAveragePooling1D()(embedding_sequence)\n",
    "# positive_probability = tf.keras.layers.Dense(units=1, activation='sigmoid')(average_embedding)\n",
    "\n",
    "# model = tf.keras.Model(inputs = review_sequence, outputs = positive_probability)"
   ]
  },
  {
   "cell_type": "code",
   "execution_count": 116,
   "metadata": {},
   "outputs": [],
   "source": [
    "# Compiling the model\n",
    "mlp_earlystop = EarlyStopping(patience = 10, min_delta = 0.01, monitor = 'val_acc')\n",
    "\n",
    "path = 'mlp_checkpoint/checkpoint_{epoch:02d}';\n",
    "mlp_checkpoint = ModelCheckpoint(filepath = path,\n",
    "                            verbose = 1,\n",
    "                            monitor = 'val_acc',\n",
    "                            save_freq = 'epoch',\n",
    "                            save_best_only = True,\n",
    "                            save_weights_only = True)\n",
    "\n",
    "mlp.compile(loss = 'categorical_crossentropy', metrics = ['acc'], optimizer = 'adam')"
   ]
  },
  {
   "cell_type": "code",
   "execution_count": 118,
   "metadata": {
    "scrolled": true
   },
   "outputs": [
    {
     "name": "stdout",
     "output_type": "stream",
     "text": [
      "Train on 657072 samples\n",
      "Epoch 1/10\n",
      "656640/657072 [============================>.] - ETA: 0s - loss: 1.4399 - acc: 0.3846WARNING:tensorflow:Early stopping conditioned on metric `val_acc` which is not available. Available metrics are: loss,acc\n",
      "WARNING:tensorflow:Can save best model only with val_acc available, skipping.\n",
      "657072/657072 [==============================] - 19s 29us/sample - loss: 1.4399 - acc: 0.3846\n",
      "Epoch 2/10\n",
      "655872/657072 [============================>.] - ETA: 0s - loss: 1.4400 - acc: 0.3846WARNING:tensorflow:Early stopping conditioned on metric `val_acc` which is not available. Available metrics are: loss,acc\n",
      "WARNING:tensorflow:Can save best model only with val_acc available, skipping.\n",
      "657072/657072 [==============================] - 19s 29us/sample - loss: 1.4399 - acc: 0.3846\n",
      "Epoch 3/10\n",
      "212224/657072 [========>.....................] - ETA: 14s - loss: 1.4374 - acc: 0.3859WARNING:tensorflow:Early stopping conditioned on metric `val_acc` which is not available. Available metrics are: loss,acc\n",
      "WARNING:tensorflow:Can save best model only with val_acc available, skipping.\n"
     ]
    },
    {
     "ename": "KeyboardInterrupt",
     "evalue": "",
     "output_type": "error",
     "traceback": [
      "\u001b[1;31m---------------------------------------------------------------------------\u001b[0m",
      "\u001b[1;31mKeyboardInterrupt\u001b[0m                         Traceback (most recent call last)",
      "\u001b[1;32m<ipython-input-118-76eb4537f593>\u001b[0m in \u001b[0;36m<module>\u001b[1;34m\u001b[0m\n\u001b[0;32m      5\u001b[0m \u001b[1;31m#                       steps_per_epoch= 449,\u001b[0m\u001b[1;33m\u001b[0m\u001b[1;33m\u001b[0m\u001b[1;33m\u001b[0m\u001b[0m\n\u001b[0;32m      6\u001b[0m                       \u001b[0mepochs\u001b[0m \u001b[1;33m=\u001b[0m \u001b[1;36m10\u001b[0m\u001b[1;33m,\u001b[0m\u001b[1;33m\u001b[0m\u001b[1;33m\u001b[0m\u001b[0m\n\u001b[1;32m----> 7\u001b[1;33m                       callbacks = [mlp_earlystop, mlp_checkpoint]) #Fitting the model\n\u001b[0m",
      "\u001b[1;32mD:\\anacondainstalled\\envs\\tf-gpu\\lib\\site-packages\\tensorflow_core\\python\\keras\\engine\\training.py\u001b[0m in \u001b[0;36mfit\u001b[1;34m(self, x, y, batch_size, epochs, verbose, callbacks, validation_split, validation_data, shuffle, class_weight, sample_weight, initial_epoch, steps_per_epoch, validation_steps, validation_freq, max_queue_size, workers, use_multiprocessing, **kwargs)\u001b[0m\n\u001b[0;32m    817\u001b[0m         \u001b[0mmax_queue_size\u001b[0m\u001b[1;33m=\u001b[0m\u001b[0mmax_queue_size\u001b[0m\u001b[1;33m,\u001b[0m\u001b[1;33m\u001b[0m\u001b[1;33m\u001b[0m\u001b[0m\n\u001b[0;32m    818\u001b[0m         \u001b[0mworkers\u001b[0m\u001b[1;33m=\u001b[0m\u001b[0mworkers\u001b[0m\u001b[1;33m,\u001b[0m\u001b[1;33m\u001b[0m\u001b[1;33m\u001b[0m\u001b[0m\n\u001b[1;32m--> 819\u001b[1;33m         use_multiprocessing=use_multiprocessing)\n\u001b[0m\u001b[0;32m    820\u001b[0m \u001b[1;33m\u001b[0m\u001b[0m\n\u001b[0;32m    821\u001b[0m   def evaluate(self,\n",
      "\u001b[1;32mD:\\anacondainstalled\\envs\\tf-gpu\\lib\\site-packages\\tensorflow_core\\python\\keras\\engine\\training_v2.py\u001b[0m in \u001b[0;36mfit\u001b[1;34m(self, model, x, y, batch_size, epochs, verbose, callbacks, validation_split, validation_data, shuffle, class_weight, sample_weight, initial_epoch, steps_per_epoch, validation_steps, validation_freq, max_queue_size, workers, use_multiprocessing, **kwargs)\u001b[0m\n\u001b[0;32m    340\u001b[0m                 \u001b[0mmode\u001b[0m\u001b[1;33m=\u001b[0m\u001b[0mModeKeys\u001b[0m\u001b[1;33m.\u001b[0m\u001b[0mTRAIN\u001b[0m\u001b[1;33m,\u001b[0m\u001b[1;33m\u001b[0m\u001b[1;33m\u001b[0m\u001b[0m\n\u001b[0;32m    341\u001b[0m                 \u001b[0mtraining_context\u001b[0m\u001b[1;33m=\u001b[0m\u001b[0mtraining_context\u001b[0m\u001b[1;33m,\u001b[0m\u001b[1;33m\u001b[0m\u001b[1;33m\u001b[0m\u001b[0m\n\u001b[1;32m--> 342\u001b[1;33m                 total_epochs=epochs)\n\u001b[0m\u001b[0;32m    343\u001b[0m             \u001b[0mcbks\u001b[0m\u001b[1;33m.\u001b[0m\u001b[0mmake_logs\u001b[0m\u001b[1;33m(\u001b[0m\u001b[0mmodel\u001b[0m\u001b[1;33m,\u001b[0m \u001b[0mepoch_logs\u001b[0m\u001b[1;33m,\u001b[0m \u001b[0mtraining_result\u001b[0m\u001b[1;33m,\u001b[0m \u001b[0mModeKeys\u001b[0m\u001b[1;33m.\u001b[0m\u001b[0mTRAIN\u001b[0m\u001b[1;33m)\u001b[0m\u001b[1;33m\u001b[0m\u001b[1;33m\u001b[0m\u001b[0m\n\u001b[0;32m    344\u001b[0m \u001b[1;33m\u001b[0m\u001b[0m\n",
      "\u001b[1;32mD:\\anacondainstalled\\envs\\tf-gpu\\lib\\site-packages\\tensorflow_core\\python\\keras\\engine\\training_v2.py\u001b[0m in \u001b[0;36mrun_one_epoch\u001b[1;34m(model, iterator, execution_function, dataset_size, batch_size, strategy, steps_per_epoch, num_samples, mode, training_context, total_epochs)\u001b[0m\n\u001b[0;32m    126\u001b[0m         step=step, mode=mode, size=current_batch_size) as batch_logs:\n\u001b[0;32m    127\u001b[0m       \u001b[1;32mtry\u001b[0m\u001b[1;33m:\u001b[0m\u001b[1;33m\u001b[0m\u001b[1;33m\u001b[0m\u001b[0m\n\u001b[1;32m--> 128\u001b[1;33m         \u001b[0mbatch_outs\u001b[0m \u001b[1;33m=\u001b[0m \u001b[0mexecution_function\u001b[0m\u001b[1;33m(\u001b[0m\u001b[0miterator\u001b[0m\u001b[1;33m)\u001b[0m\u001b[1;33m\u001b[0m\u001b[1;33m\u001b[0m\u001b[0m\n\u001b[0m\u001b[0;32m    129\u001b[0m       \u001b[1;32mexcept\u001b[0m \u001b[1;33m(\u001b[0m\u001b[0mStopIteration\u001b[0m\u001b[1;33m,\u001b[0m \u001b[0merrors\u001b[0m\u001b[1;33m.\u001b[0m\u001b[0mOutOfRangeError\u001b[0m\u001b[1;33m)\u001b[0m\u001b[1;33m:\u001b[0m\u001b[1;33m\u001b[0m\u001b[1;33m\u001b[0m\u001b[0m\n\u001b[0;32m    130\u001b[0m         \u001b[1;31m# TODO(kaftan): File bug about tf function and errors.OutOfRangeError?\u001b[0m\u001b[1;33m\u001b[0m\u001b[1;33m\u001b[0m\u001b[1;33m\u001b[0m\u001b[0m\n",
      "\u001b[1;32mD:\\anacondainstalled\\envs\\tf-gpu\\lib\\site-packages\\tensorflow_core\\python\\keras\\engine\\training_v2_utils.py\u001b[0m in \u001b[0;36mexecution_function\u001b[1;34m(input_fn)\u001b[0m\n\u001b[0;32m     96\u001b[0m     \u001b[1;31m# `numpy` translates Tensors to values in Eager mode.\u001b[0m\u001b[1;33m\u001b[0m\u001b[1;33m\u001b[0m\u001b[1;33m\u001b[0m\u001b[0m\n\u001b[0;32m     97\u001b[0m     return nest.map_structure(_non_none_constant_value,\n\u001b[1;32m---> 98\u001b[1;33m                               distributed_function(input_fn))\n\u001b[0m\u001b[0;32m     99\u001b[0m \u001b[1;33m\u001b[0m\u001b[0m\n\u001b[0;32m    100\u001b[0m   \u001b[1;32mreturn\u001b[0m \u001b[0mexecution_function\u001b[0m\u001b[1;33m\u001b[0m\u001b[1;33m\u001b[0m\u001b[0m\n",
      "\u001b[1;32mD:\\anacondainstalled\\envs\\tf-gpu\\lib\\site-packages\\tensorflow_core\\python\\eager\\def_function.py\u001b[0m in \u001b[0;36m__call__\u001b[1;34m(self, *args, **kwds)\u001b[0m\n\u001b[0;32m    566\u001b[0m         \u001b[0mxla_context\u001b[0m\u001b[1;33m.\u001b[0m\u001b[0mExit\u001b[0m\u001b[1;33m(\u001b[0m\u001b[1;33m)\u001b[0m\u001b[1;33m\u001b[0m\u001b[1;33m\u001b[0m\u001b[0m\n\u001b[0;32m    567\u001b[0m     \u001b[1;32melse\u001b[0m\u001b[1;33m:\u001b[0m\u001b[1;33m\u001b[0m\u001b[1;33m\u001b[0m\u001b[0m\n\u001b[1;32m--> 568\u001b[1;33m       \u001b[0mresult\u001b[0m \u001b[1;33m=\u001b[0m \u001b[0mself\u001b[0m\u001b[1;33m.\u001b[0m\u001b[0m_call\u001b[0m\u001b[1;33m(\u001b[0m\u001b[1;33m*\u001b[0m\u001b[0margs\u001b[0m\u001b[1;33m,\u001b[0m \u001b[1;33m**\u001b[0m\u001b[0mkwds\u001b[0m\u001b[1;33m)\u001b[0m\u001b[1;33m\u001b[0m\u001b[1;33m\u001b[0m\u001b[0m\n\u001b[0m\u001b[0;32m    569\u001b[0m \u001b[1;33m\u001b[0m\u001b[0m\n\u001b[0;32m    570\u001b[0m     \u001b[1;32mif\u001b[0m \u001b[0mtracing_count\u001b[0m \u001b[1;33m==\u001b[0m \u001b[0mself\u001b[0m\u001b[1;33m.\u001b[0m\u001b[0m_get_tracing_count\u001b[0m\u001b[1;33m(\u001b[0m\u001b[1;33m)\u001b[0m\u001b[1;33m:\u001b[0m\u001b[1;33m\u001b[0m\u001b[1;33m\u001b[0m\u001b[0m\n",
      "\u001b[1;32mD:\\anacondainstalled\\envs\\tf-gpu\\lib\\site-packages\\tensorflow_core\\python\\eager\\def_function.py\u001b[0m in \u001b[0;36m_call\u001b[1;34m(self, *args, **kwds)\u001b[0m\n\u001b[0;32m    597\u001b[0m       \u001b[1;31m# In this case we have created variables on the first call, so we run the\u001b[0m\u001b[1;33m\u001b[0m\u001b[1;33m\u001b[0m\u001b[1;33m\u001b[0m\u001b[0m\n\u001b[0;32m    598\u001b[0m       \u001b[1;31m# defunned version which is guaranteed to never create variables.\u001b[0m\u001b[1;33m\u001b[0m\u001b[1;33m\u001b[0m\u001b[1;33m\u001b[0m\u001b[0m\n\u001b[1;32m--> 599\u001b[1;33m       \u001b[1;32mreturn\u001b[0m \u001b[0mself\u001b[0m\u001b[1;33m.\u001b[0m\u001b[0m_stateless_fn\u001b[0m\u001b[1;33m(\u001b[0m\u001b[1;33m*\u001b[0m\u001b[0margs\u001b[0m\u001b[1;33m,\u001b[0m \u001b[1;33m**\u001b[0m\u001b[0mkwds\u001b[0m\u001b[1;33m)\u001b[0m  \u001b[1;31m# pylint: disable=not-callable\u001b[0m\u001b[1;33m\u001b[0m\u001b[1;33m\u001b[0m\u001b[0m\n\u001b[0m\u001b[0;32m    600\u001b[0m     \u001b[1;32melif\u001b[0m \u001b[0mself\u001b[0m\u001b[1;33m.\u001b[0m\u001b[0m_stateful_fn\u001b[0m \u001b[1;32mis\u001b[0m \u001b[1;32mnot\u001b[0m \u001b[1;32mNone\u001b[0m\u001b[1;33m:\u001b[0m\u001b[1;33m\u001b[0m\u001b[1;33m\u001b[0m\u001b[0m\n\u001b[0;32m    601\u001b[0m       \u001b[1;31m# Release the lock early so that multiple threads can perform the call\u001b[0m\u001b[1;33m\u001b[0m\u001b[1;33m\u001b[0m\u001b[1;33m\u001b[0m\u001b[0m\n",
      "\u001b[1;32mD:\\anacondainstalled\\envs\\tf-gpu\\lib\\site-packages\\tensorflow_core\\python\\eager\\function.py\u001b[0m in \u001b[0;36m__call__\u001b[1;34m(self, *args, **kwargs)\u001b[0m\n\u001b[0;32m   2361\u001b[0m     \u001b[1;32mwith\u001b[0m \u001b[0mself\u001b[0m\u001b[1;33m.\u001b[0m\u001b[0m_lock\u001b[0m\u001b[1;33m:\u001b[0m\u001b[1;33m\u001b[0m\u001b[1;33m\u001b[0m\u001b[0m\n\u001b[0;32m   2362\u001b[0m       \u001b[0mgraph_function\u001b[0m\u001b[1;33m,\u001b[0m \u001b[0margs\u001b[0m\u001b[1;33m,\u001b[0m \u001b[0mkwargs\u001b[0m \u001b[1;33m=\u001b[0m \u001b[0mself\u001b[0m\u001b[1;33m.\u001b[0m\u001b[0m_maybe_define_function\u001b[0m\u001b[1;33m(\u001b[0m\u001b[0margs\u001b[0m\u001b[1;33m,\u001b[0m \u001b[0mkwargs\u001b[0m\u001b[1;33m)\u001b[0m\u001b[1;33m\u001b[0m\u001b[1;33m\u001b[0m\u001b[0m\n\u001b[1;32m-> 2363\u001b[1;33m     \u001b[1;32mreturn\u001b[0m \u001b[0mgraph_function\u001b[0m\u001b[1;33m.\u001b[0m\u001b[0m_filtered_call\u001b[0m\u001b[1;33m(\u001b[0m\u001b[0margs\u001b[0m\u001b[1;33m,\u001b[0m \u001b[0mkwargs\u001b[0m\u001b[1;33m)\u001b[0m  \u001b[1;31m# pylint: disable=protected-access\u001b[0m\u001b[1;33m\u001b[0m\u001b[1;33m\u001b[0m\u001b[0m\n\u001b[0m\u001b[0;32m   2364\u001b[0m \u001b[1;33m\u001b[0m\u001b[0m\n\u001b[0;32m   2365\u001b[0m   \u001b[1;33m@\u001b[0m\u001b[0mproperty\u001b[0m\u001b[1;33m\u001b[0m\u001b[1;33m\u001b[0m\u001b[0m\n",
      "\u001b[1;32mD:\\anacondainstalled\\envs\\tf-gpu\\lib\\site-packages\\tensorflow_core\\python\\eager\\function.py\u001b[0m in \u001b[0;36m_filtered_call\u001b[1;34m(self, args, kwargs)\u001b[0m\n\u001b[0;32m   1609\u001b[0m          if isinstance(t, (ops.Tensor,\n\u001b[0;32m   1610\u001b[0m                            resource_variable_ops.BaseResourceVariable))),\n\u001b[1;32m-> 1611\u001b[1;33m         self.captured_inputs)\n\u001b[0m\u001b[0;32m   1612\u001b[0m \u001b[1;33m\u001b[0m\u001b[0m\n\u001b[0;32m   1613\u001b[0m   \u001b[1;32mdef\u001b[0m \u001b[0m_call_flat\u001b[0m\u001b[1;33m(\u001b[0m\u001b[0mself\u001b[0m\u001b[1;33m,\u001b[0m \u001b[0margs\u001b[0m\u001b[1;33m,\u001b[0m \u001b[0mcaptured_inputs\u001b[0m\u001b[1;33m,\u001b[0m \u001b[0mcancellation_manager\u001b[0m\u001b[1;33m=\u001b[0m\u001b[1;32mNone\u001b[0m\u001b[1;33m)\u001b[0m\u001b[1;33m:\u001b[0m\u001b[1;33m\u001b[0m\u001b[1;33m\u001b[0m\u001b[0m\n",
      "\u001b[1;32mD:\\anacondainstalled\\envs\\tf-gpu\\lib\\site-packages\\tensorflow_core\\python\\eager\\function.py\u001b[0m in \u001b[0;36m_call_flat\u001b[1;34m(self, args, captured_inputs, cancellation_manager)\u001b[0m\n\u001b[0;32m   1690\u001b[0m       \u001b[1;31m# No tape is watching; skip to running the function.\u001b[0m\u001b[1;33m\u001b[0m\u001b[1;33m\u001b[0m\u001b[1;33m\u001b[0m\u001b[0m\n\u001b[0;32m   1691\u001b[0m       return self._build_call_outputs(self._inference_function.call(\n\u001b[1;32m-> 1692\u001b[1;33m           ctx, args, cancellation_manager=cancellation_manager))\n\u001b[0m\u001b[0;32m   1693\u001b[0m     forward_backward = self._select_forward_and_backward_functions(\n\u001b[0;32m   1694\u001b[0m         \u001b[0margs\u001b[0m\u001b[1;33m,\u001b[0m\u001b[1;33m\u001b[0m\u001b[1;33m\u001b[0m\u001b[0m\n",
      "\u001b[1;32mD:\\anacondainstalled\\envs\\tf-gpu\\lib\\site-packages\\tensorflow_core\\python\\eager\\function.py\u001b[0m in \u001b[0;36mcall\u001b[1;34m(self, ctx, args, cancellation_manager)\u001b[0m\n\u001b[0;32m    543\u001b[0m               \u001b[0minputs\u001b[0m\u001b[1;33m=\u001b[0m\u001b[0margs\u001b[0m\u001b[1;33m,\u001b[0m\u001b[1;33m\u001b[0m\u001b[1;33m\u001b[0m\u001b[0m\n\u001b[0;32m    544\u001b[0m               \u001b[0mattrs\u001b[0m\u001b[1;33m=\u001b[0m\u001b[1;33m(\u001b[0m\u001b[1;34m\"executor_type\"\u001b[0m\u001b[1;33m,\u001b[0m \u001b[0mexecutor_type\u001b[0m\u001b[1;33m,\u001b[0m \u001b[1;34m\"config_proto\"\u001b[0m\u001b[1;33m,\u001b[0m \u001b[0mconfig\u001b[0m\u001b[1;33m)\u001b[0m\u001b[1;33m,\u001b[0m\u001b[1;33m\u001b[0m\u001b[1;33m\u001b[0m\u001b[0m\n\u001b[1;32m--> 545\u001b[1;33m               ctx=ctx)\n\u001b[0m\u001b[0;32m    546\u001b[0m         \u001b[1;32melse\u001b[0m\u001b[1;33m:\u001b[0m\u001b[1;33m\u001b[0m\u001b[1;33m\u001b[0m\u001b[0m\n\u001b[0;32m    547\u001b[0m           outputs = execute.execute_with_cancellation(\n",
      "\u001b[1;32mD:\\anacondainstalled\\envs\\tf-gpu\\lib\\site-packages\\tensorflow_core\\python\\eager\\execute.py\u001b[0m in \u001b[0;36mquick_execute\u001b[1;34m(op_name, num_outputs, inputs, attrs, ctx, name)\u001b[0m\n\u001b[0;32m     59\u001b[0m     tensors = pywrap_tensorflow.TFE_Py_Execute(ctx._handle, device_name,\n\u001b[0;32m     60\u001b[0m                                                \u001b[0mop_name\u001b[0m\u001b[1;33m,\u001b[0m \u001b[0minputs\u001b[0m\u001b[1;33m,\u001b[0m \u001b[0mattrs\u001b[0m\u001b[1;33m,\u001b[0m\u001b[1;33m\u001b[0m\u001b[1;33m\u001b[0m\u001b[0m\n\u001b[1;32m---> 61\u001b[1;33m                                                num_outputs)\n\u001b[0m\u001b[0;32m     62\u001b[0m   \u001b[1;32mexcept\u001b[0m \u001b[0mcore\u001b[0m\u001b[1;33m.\u001b[0m\u001b[0m_NotOkStatusException\u001b[0m \u001b[1;32mas\u001b[0m \u001b[0me\u001b[0m\u001b[1;33m:\u001b[0m\u001b[1;33m\u001b[0m\u001b[1;33m\u001b[0m\u001b[0m\n\u001b[0;32m     63\u001b[0m     \u001b[1;32mif\u001b[0m \u001b[0mname\u001b[0m \u001b[1;32mis\u001b[0m \u001b[1;32mnot\u001b[0m \u001b[1;32mNone\u001b[0m\u001b[1;33m:\u001b[0m\u001b[1;33m\u001b[0m\u001b[1;33m\u001b[0m\u001b[0m\n",
      "\u001b[1;31mKeyboardInterrupt\u001b[0m: "
     ]
    }
   ],
   "source": [
    "mlp_history = mlp.fit(new_main_x, new_main_y,\n",
    "                      batch_size = 256,\n",
    "#                         validation_data = test_cyclic_generator_mlp,\n",
    "#                       validation_data = (x_test_mlp, y_test_mlp),\n",
    "#                       steps_per_epoch= 449,\n",
    "                      epochs = 10,\n",
    "                      callbacks = [mlp_earlystop, mlp_checkpoint]) #Fitting the model"
   ]
  },
  {
   "cell_type": "code",
   "execution_count": 44,
   "metadata": {},
   "outputs": [
    {
     "data": {
      "image/png": "[encoded data removed]",
      "text/plain": [
       "<Figure size 432x288 with 1 Axes>"
      ]
     },
     "metadata": {
      "needs_background": "light"
     },
     "output_type": "display_data"
    },
    {
     "name": "stdout",
     "output_type": "stream",
     "text": [
      "Initial training accuracy is:  0.3821687\n",
      "Final training accuracy is:  0.800877\n",
      "Initial training loss is:  1.2943780844354948\n",
      "Final training loss is:  0.519516368751271\n"
     ]
    }
   ],
   "source": [
    "#Plotting model history\n",
    "plt.plot(mlp_history.history['acc'])\n",
    "plt.plot(mlp_history.history['loss'])\n",
    "plt.legend(['Training Accuracy', 'Training Loss'])\n",
    "plt.title('Training History')\n",
    "plt.ylabel('Value')\n",
    "plt.xlabel('epochs')\n",
    "plt.show()\n",
    "print(\"Initial training accuracy is: \", mlp_history.history['acc'][0])\n",
    "print(\"Final training accuracy is: \", mlp_history.history['acc'][-1])\n",
    "\n",
    "print(\"Initial training loss is: \", mlp_history.history['loss'][0])\n",
    "print(\"Final training loss is: \", mlp_history.history['loss'][-1])"
   ]
  },
  {
   "cell_type": "code",
   "execution_count": 45,
   "metadata": {},
   "outputs": [
    {
     "data": {
      "image/png": "[encoded data removed]",
      "text/plain": [
       "<Figure size 432x288 with 1 Axes>"
      ]
     },
     "metadata": {
      "needs_background": "light"
     },
     "output_type": "display_data"
    },
    {
     "name": "stdout",
     "output_type": "stream",
     "text": [
      "Initial validation accuracy is:  0.43888888\n",
      "Final validation accuracy is:  0.675\n",
      "Initial validation loss is:  1.2419730722904205\n",
      "Final validation loss is:  1.1436120718717575\n"
     ]
    }
   ],
   "source": [
    "#Plotting model history\n",
    "plt.plot(mlp_history.history['val_acc'])\n",
    "plt.plot(mlp_history.history['val_loss'])\n",
    "plt.legend(['Valdation Accuracy', 'Validation Loss'])\n",
    "plt.title('Validation History')\n",
    "plt.ylabel('Value')\n",
    "plt.xlabel('epochs')\n",
    "plt.show()\n",
    "print(\"Initial validation accuracy is: \", mlp_history.history['val_acc'][0])\n",
    "print(\"Final validation accuracy is: \", mlp_history.history['val_acc'][-1])\n",
    "\n",
    "print(\"Initial validation loss is: \", mlp_history.history['val_loss'][0])\n",
    "print(\"Final validation loss is: \", mlp_history.history['val_loss'][-1])"
   ]
  },
  {
   "cell_type": "markdown",
   "metadata": {},
   "source": [
    "## Training on LSTM model"
   ]
  },
  {
   "cell_type": "code",
   "execution_count": null,
   "metadata": {},
   "outputs": [],
   "source": [
    "train_test_split = int(0.8 * len(xlstm))\n",
    "print(train_test_split)\n",
    "\n",
    "x_train_lstm = xlstm[:train_test_split]\n",
    "y_train_lstm = ylstm[:train_test_split]\n",
    "\n",
    "x_test_lstm = xlstm[train_test_split:]\n",
    "y_test_lstm = ylstm[train_test_split:]"
   ]
  },
  {
   "cell_type": "code",
   "execution_count": null,
   "metadata": {},
   "outputs": [],
   "source": [
    "def get_cyclic_generator(features, labels, batch_size = 1):\n",
    "  while True:\n",
    "    for n in range(features.shape[0]//batch_size):\n",
    "      yield (features[n*batch_size: (n+1)*batch_size], labels[n*batch_size: (n+1)*batch_size])\n",
    "    permuted = np.random.permutation(len(features))\n",
    "    features = features[permuted]\n",
    "    labels = labels[permuted]"
   ]
  },
  {
   "cell_type": "code",
   "execution_count": 32,
   "metadata": {},
   "outputs": [],
   "source": [
    "train_batch_size = 32\n",
    "train_cyclic_generator_lstm = get_cyclic_generator(x_train_lstm, y_train_lstm, batch_size = train_batch_size)\n",
    "# test_cyclic_generator = get_cyclic_generator(x_test, y_test, batch_size = train_batch_size)"
   ]
  },
  {
   "cell_type": "code",
   "execution_count": 33,
   "metadata": {},
   "outputs": [
    {
     "name": "stdout",
     "output_type": "stream",
     "text": [
      "Model: \"model\"\n",
      "_________________________________________________________________\n",
      "Layer (type)                 Output Shape              Param #   \n",
      "=================================================================\n",
      "input_1 (InputLayer)         [(None, 351, 66)]         0         \n",
      "_________________________________________________________________\n",
      "lstm (LSTM)                  (None, 351, 32)           12672     \n",
      "_________________________________________________________________\n",
      "flatten (Flatten)            (None, 11232)             0         \n",
      "_________________________________________________________________\n",
      "dense (Dense)                (None, 32)                359456    \n",
      "_________________________________________________________________\n",
      "leaky_re_lu (LeakyReLU)      (None, 32)                0         \n",
      "_________________________________________________________________\n",
      "dropout (Dropout)            (None, 32)                0         \n",
      "_________________________________________________________________\n",
      "dense_1 (Dense)              (None, 16)                528       \n",
      "_________________________________________________________________\n",
      "dropout_1 (Dropout)          (None, 16)                0         \n",
      "_________________________________________________________________\n",
      "dense_2 (Dense)              (None, 4)                 68        \n",
      "=================================================================\n",
      "Total params: 372,724\n",
      "Trainable params: 372,724\n",
      "Non-trainable params: 0\n",
      "_________________________________________________________________\n"
     ]
    }
   ],
   "source": [
    "#Creating model architecture\n",
    "inp_shape = (dims_lstm_1, dims_lstm_2)\n",
    "ip = tf.keras.Input(shape = inp_shape)\n",
    "lstm = tf.keras.layers.LSTM(32, return_sequences=True)(ip)\n",
    "# drop = tf.keras.layers.Dropout(.4)(lstm)\n",
    "# lstm = tf.keras.layers.LSTM(16, return_sequences=True)(ip)\n",
    "# drop = tf.keras.layers.Dropout(.4)(lstm)\n",
    "flatten = tf.keras.layers.Flatten()(lstm)\n",
    "dense1 = tf.keras.layers.Dense(units = 32, kernel_initializer = 'random_normal')(flatten)\n",
    "leakyRelu = tf.keras.layers.LeakyReLU()(dense1)\n",
    "drop1 = tf.keras.layers.Dropout(.4)(leakyRelu)\n",
    "dense2 = tf.keras.layers.Dense(units = 16, kernel_initializer = 'random_normal')(drop1)\n",
    "leakyRelu2 = tf.keras.layers.LeakyReLU()(dense2)\n",
    "drop2 = tf.keras.layers.Dropout(.4)(dense2)\n",
    "out = tf.keras.layers.Dense(num_classes, activation = 'softmax')(drop2)\n",
    "\n",
    "lstm = tf.keras.Model(inputs = ip, outputs = out)\n",
    "lstm.summary()\n",
    "# inp_shape = (None, )\n",
    "# review_sequence = tf.keras.Input(shape = inp_shape)\n",
    "# embedding_sequence = tf.keras.layers.Embedding(input_dim=100+1, output_dim=32, input_shape=(review_sequence.shape), mask_zero=False)(review_sequence)\n",
    "# average_embedding = tf.keras.layers.GlobalAveragePooling1D()(embedding_sequence)\n",
    "# positive_probability = tf.keras.layers.Dense(units=1, activation='sigmoid')(average_embedding)\n",
    "\n",
    "# model = tf.keras.Model(inputs = review_sequence, outputs = positive_probability)"
   ]
  },
  {
   "cell_type": "code",
   "execution_count": 34,
   "metadata": {},
   "outputs": [],
   "source": [
    "# Compiling the model\n",
    "lstm_earlystop = EarlyStopping(patience = 10, min_delta = 0.001, monitor = 'val_acc')\n",
    "\n",
    "path = 'lstm_checkpoint/checkpoint_{epoch:02d}';\n",
    "lstm_checkpoint = ModelCheckpoint(filepath = path,\n",
    "                            verbose = 1,\n",
    "                            monitor = 'val_acc',\n",
    "                            save_freq = 'epoch',\n",
    "                            save_best_only = True,\n",
    "                            save_weights_only = True)\n",
    "\n",
    "lstm.compile(loss = 'categorical_crossentropy', metrics = ['acc'], optimizer = 'adam')"
   ]
  },
  {
   "cell_type": "code",
   "execution_count": 35,
   "metadata": {
    "scrolled": true
   },
   "outputs": [
    {
     "name": "stdout",
     "output_type": "stream",
     "text": [
      "WARNING:tensorflow:sample_weight modes were coerced from\n",
      "  ...\n",
      "    to  \n",
      "  ['...']\n",
      "Train for 449 steps, validate on 360 samples\n",
      "Epoch 1/50\n",
      "  1/449 [..............................] - ETA: 4:05:38 - loss: 1.3863 - acc: 0.2812WARNING:tensorflow:Method (on_train_batch_end) is slow compared to the batch update (0.114622). Check your callbacks.\n",
      "448/449 [============================>.] - ETA: 0s - loss: 1.2793 - acc: 0.3809\n",
      "Epoch 00001: val_acc improved from -inf to 0.39722, saving model to lstm_checkpoint/checkpoint_01\n",
      "449/449 [==============================] - 54s 121ms/step - loss: 1.2792 - acc: 0.3808 - val_loss: 1.2582 - val_acc: 0.3972\n",
      "Epoch 2/50\n",
      "447/449 [============================>.] - ETA: 0s - loss: 1.2625 - acc: 0.4011\n",
      "Epoch 00002: val_acc did not improve from 0.39722\n",
      "449/449 [==============================] - 18s 40ms/step - loss: 1.2623 - acc: 0.4014 - val_loss: 1.2581 - val_acc: 0.3972\n",
      "Epoch 3/50\n",
      "447/449 [============================>.] - ETA: 0s - loss: 1.2559 - acc: 0.4006\n",
      "Epoch 00003: val_acc did not improve from 0.39722\n",
      "449/449 [==============================] - 18s 39ms/step - loss: 1.2555 - acc: 0.4008 - val_loss: 1.2575 - val_acc: 0.3972\n",
      "Epoch 4/50\n",
      "447/449 [============================>.] - ETA: 0s - loss: 1.2561 - acc: 0.4043\n",
      "Epoch 00004: val_acc did not improve from 0.39722\n",
      "449/449 [==============================] - 18s 40ms/step - loss: 1.2565 - acc: 0.4035 - val_loss: 1.2576 - val_acc: 0.3972\n",
      "Epoch 5/50\n",
      "448/449 [============================>.] - ETA: 0s - loss: 1.2535 - acc: 0.4016\n",
      "Epoch 00005: val_acc did not improve from 0.39722\n",
      "449/449 [==============================] - 18s 40ms/step - loss: 1.2534 - acc: 0.4017 - val_loss: 1.2563 - val_acc: 0.3972\n",
      "Epoch 6/50\n",
      "447/449 [============================>.] - ETA: 0s - loss: 1.2364 - acc: 0.4144\n",
      "Epoch 00006: val_acc improved from 0.39722 to 0.40556, saving model to lstm_checkpoint/checkpoint_06\n",
      "449/449 [==============================] - 18s 41ms/step - loss: 1.2361 - acc: 0.4143 - val_loss: 1.2225 - val_acc: 0.4056\n",
      "Epoch 7/50\n",
      "448/449 [============================>.] - ETA: 0s - loss: 1.1442 - acc: 0.4979\n",
      "Epoch 00007: val_acc improved from 0.40556 to 0.52500, saving model to lstm_checkpoint/checkpoint_07\n",
      "449/449 [==============================] - 19s 42ms/step - loss: 1.1440 - acc: 0.4981 - val_loss: 1.0943 - val_acc: 0.5250\n",
      "Epoch 8/50\n",
      "447/449 [============================>.] - ETA: 0s - loss: 1.0761 - acc: 0.5396\n",
      "Epoch 00008: val_acc did not improve from 0.52500\n",
      "449/449 [==============================] - 18s 40ms/step - loss: 1.0763 - acc: 0.5393 - val_loss: 1.0885 - val_acc: 0.5056\n",
      "Epoch 9/50\n",
      "448/449 [============================>.] - ETA: 0s - loss: 1.0474 - acc: 0.5555\n",
      "Epoch 00009: val_acc improved from 0.52500 to 0.53889, saving model to lstm_checkpoint/checkpoint_09\n",
      "449/449 [==============================] - 19s 43ms/step - loss: 1.0475 - acc: 0.5551 - val_loss: 1.0602 - val_acc: 0.5389\n",
      "Epoch 10/50\n",
      "447/449 [============================>.] - ETA: 0s - loss: 1.0327 - acc: 0.5675\n",
      "Epoch 00010: val_acc did not improve from 0.53889\n",
      "449/449 [==============================] - 26s 58ms/step - loss: 1.0325 - acc: 0.5676 - val_loss: 1.0574 - val_acc: 0.5389\n",
      "Epoch 11/50\n",
      "447/449 [============================>.] - ETA: 0s - loss: 1.0007 - acc: 0.5809\n",
      "Epoch 00011: val_acc improved from 0.53889 to 0.56111, saving model to lstm_checkpoint/checkpoint_11\n",
      "449/449 [==============================] - 19s 42ms/step - loss: 1.0008 - acc: 0.5812 - val_loss: 1.0269 - val_acc: 0.5611\n",
      "Epoch 12/50\n",
      "447/449 [============================>.] - ETA: 0s - loss: 0.9717 - acc: 0.6011- ETA: 0s - loss: 0.9719 - acc: 0.6\n",
      "Epoch 00012: val_acc improved from 0.56111 to 0.59722, saving model to lstm_checkpoint/checkpoint_12\n",
      "449/449 [==============================] - 21s 48ms/step - loss: 0.9718 - acc: 0.6008 - val_loss: 0.9932 - val_acc: 0.5972\n",
      "Epoch 13/50\n",
      "448/449 [============================>.] - ETA: 0s - loss: 0.9361 - acc: 0.6186\n",
      "Epoch 00013: val_acc improved from 0.59722 to 0.60278, saving model to lstm_checkpoint/checkpoint_13\n",
      "449/449 [==============================] - 21s 47ms/step - loss: 0.9357 - acc: 0.6188 - val_loss: 0.9800 - val_acc: 0.6028\n",
      "Epoch 14/50\n",
      "448/449 [============================>.] - ETA: 0s - loss: 0.9103 - acc: 0.6316\n",
      "Epoch 00014: val_acc improved from 0.60278 to 0.61667, saving model to lstm_checkpoint/checkpoint_14\n",
      "449/449 [==============================] - 19s 42ms/step - loss: 0.9103 - acc: 0.6315 - val_loss: 0.9638 - val_acc: 0.6167\n",
      "Epoch 15/50\n",
      "448/449 [============================>.] - ETA: 0s - loss: 0.8847 - acc: 0.6365\n",
      "Epoch 00015: val_acc did not improve from 0.61667\n",
      "449/449 [==============================] - 20s 44ms/step - loss: 0.8846 - acc: 0.6366 - val_loss: 0.9552 - val_acc: 0.6139\n",
      "Epoch 16/50\n",
      "447/449 [============================>.] - ETA: 0s - loss: 0.8677 - acc: 0.6472\n",
      "Epoch 00016: val_acc improved from 0.61667 to 0.62222, saving model to lstm_checkpoint/checkpoint_16\n",
      "449/449 [==============================] - 19s 43ms/step - loss: 0.8689 - acc: 0.6469 - val_loss: 0.9481 - val_acc: 0.6222\n",
      "Epoch 17/50\n",
      "448/449 [============================>.] - ETA: 0s - loss: 0.8490 - acc: 0.6547\n",
      "Epoch 00017: val_acc improved from 0.62222 to 0.62778, saving model to lstm_checkpoint/checkpoint_17\n",
      "449/449 [==============================] - 19s 43ms/step - loss: 0.8488 - acc: 0.6546 - val_loss: 0.9364 - val_acc: 0.6278\n",
      "Epoch 18/50\n",
      "448/449 [============================>.] - ETA: 0s - loss: 0.8292 - acc: 0.6623\n",
      "Epoch 00018: val_acc improved from 0.62778 to 0.64167, saving model to lstm_checkpoint/checkpoint_18\n",
      "449/449 [==============================] - 19s 43ms/step - loss: 0.8293 - acc: 0.6622 - val_loss: 0.9274 - val_acc: 0.6417\n",
      "Epoch 19/50\n",
      "448/449 [============================>.] - ETA: 0s - loss: 0.8045 - acc: 0.6753\n",
      "Epoch 00019: val_acc improved from 0.64167 to 0.65278, saving model to lstm_checkpoint/checkpoint_19\n",
      "449/449 [==============================] - 19s 43ms/step - loss: 0.8048 - acc: 0.6750 - val_loss: 0.9025 - val_acc: 0.6528\n",
      "Epoch 20/50\n",
      "447/449 [============================>.] - ETA: 0s - loss: 0.7925 - acc: 0.6788\n",
      "Epoch 00020: val_acc did not improve from 0.65278\n",
      "449/449 [==============================] - 18s 41ms/step - loss: 0.7915 - acc: 0.6794 - val_loss: 0.9057 - val_acc: 0.6222\n",
      "Epoch 21/50\n",
      "447/449 [============================>.] - ETA: 0s - loss: 0.7631 - acc: 0.6892\n",
      "Epoch 00021: val_acc did not improve from 0.65278\n",
      "449/449 [==============================] - 20s 44ms/step - loss: 0.7626 - acc: 0.6897 - val_loss: 0.8893 - val_acc: 0.6444\n",
      "Epoch 22/50\n",
      "447/449 [============================>.] - ETA: 0s - loss: 0.7299 - acc: 0.7003\n",
      "Epoch 00022: val_acc improved from 0.65278 to 0.66389, saving model to lstm_checkpoint/checkpoint_22\n",
      "449/449 [==============================] - 20s 45ms/step - loss: 0.7294 - acc: 0.7007 - val_loss: 0.8551 - val_acc: 0.6639\n",
      "Epoch 23/50\n",
      "447/449 [============================>.] - ETA: 0s - loss: 0.7196 - acc: 0.7074\n",
      "Epoch 00023: val_acc did not improve from 0.66389\n",
      "449/449 [==============================] - 20s 43ms/step - loss: 0.7189 - acc: 0.7078 - val_loss: 0.8758 - val_acc: 0.6417\n",
      "Epoch 24/50\n",
      "448/449 [============================>.] - ETA: 0s - loss: 0.7037 - acc: 0.7184\n",
      "Epoch 00024: val_acc improved from 0.66389 to 0.68611, saving model to lstm_checkpoint/checkpoint_24\n",
      "449/449 [==============================] - 20s 45ms/step - loss: 0.7033 - acc: 0.7186 - val_loss: 0.8675 - val_acc: 0.6861\n",
      "Epoch 25/50\n",
      "447/449 [============================>.] - ETA: 0s - loss: 0.6866 - acc: 0.7276\n",
      "Epoch 00025: val_acc did not improve from 0.68611\n",
      "449/449 [==============================] - 21s 48ms/step - loss: 0.6868 - acc: 0.7278 - val_loss: 0.8311 - val_acc: 0.6861\n",
      "Epoch 26/50\n",
      "447/449 [============================>.] - ETA: 0s - loss: 0.6794 - acc: 0.7294\n",
      "Epoch 00026: val_acc did not improve from 0.68611\n",
      "449/449 [==============================] - 19s 42ms/step - loss: 0.6797 - acc: 0.7295 - val_loss: 0.8662 - val_acc: 0.6667\n",
      "Epoch 27/50\n",
      "448/449 [============================>.] - ETA: 0s - loss: 0.6679 - acc: 0.7326\n",
      "Epoch 00027: val_acc did not improve from 0.68611\n",
      "449/449 [==============================] - 19s 41ms/step - loss: 0.6683 - acc: 0.7325 - val_loss: 0.8652 - val_acc: 0.6722\n",
      "Epoch 28/50\n",
      "447/449 [============================>.] - ETA: 0s - loss: 0.6432 - acc: 0.7445\n",
      "Epoch 00028: val_acc improved from 0.68611 to 0.68889, saving model to lstm_checkpoint/checkpoint_28\n",
      "449/449 [==============================] - 19s 42ms/step - loss: 0.6434 - acc: 0.7444 - val_loss: 0.8241 - val_acc: 0.6889\n",
      "Epoch 29/50\n",
      "447/449 [============================>.] - ETA: 0s - loss: 0.6456 - acc: 0.7376\n",
      "Epoch 00029: val_acc did not improve from 0.68889\n",
      "449/449 [==============================] - 19s 41ms/step - loss: 0.6455 - acc: 0.7373 - val_loss: 0.8505 - val_acc: 0.6694\n",
      "Epoch 30/50\n",
      "447/449 [============================>.] - ETA: 0s - loss: 0.6432 - acc: 0.7404\n",
      "Epoch 00030: val_acc did not improve from 0.68889\n",
      "449/449 [==============================] - 19s 41ms/step - loss: 0.6435 - acc: 0.7401 - val_loss: 0.8566 - val_acc: 0.6806\n",
      "Epoch 31/50\n",
      "447/449 [============================>.] - ETA: 0s - loss: 0.6321 - acc: 0.7447\n",
      "Epoch 00031: val_acc did not improve from 0.68889\n",
      "449/449 [==============================] - 19s 43ms/step - loss: 0.6326 - acc: 0.7444 - val_loss: 0.8334 - val_acc: 0.6889\n",
      "Epoch 32/50\n",
      "447/449 [============================>.] - ETA: 0s - loss: 0.6118 - acc: 0.7556\n",
      "Epoch 00032: val_acc improved from 0.68889 to 0.69722, saving model to lstm_checkpoint/checkpoint_32\n",
      "449/449 [==============================] - 21s 46ms/step - loss: 0.6124 - acc: 0.7556 - val_loss: 0.8196 - val_acc: 0.6972\n",
      "Epoch 33/50\n",
      "448/449 [============================>.] - ETA: 0s - loss: 0.6037 - acc: 0.7611\n",
      "Epoch 00033: val_acc did not improve from 0.69722\n",
      "449/449 [==============================] - 20s 43ms/step - loss: 0.6040 - acc: 0.7608 - val_loss: 0.8736 - val_acc: 0.6750\n",
      "Epoch 34/50\n",
      "448/449 [============================>.] - ETA: 0s - loss: 0.6017 - acc: 0.7625\n",
      "Epoch 00034: val_acc did not improve from 0.69722\n",
      "449/449 [==============================] - 19s 42ms/step - loss: 0.6020 - acc: 0.7625 - val_loss: 0.8406 - val_acc: 0.6972\n",
      "Epoch 35/50\n",
      "448/449 [============================>.] - ETA: 0s - loss: 0.5863 - acc: 0.7654\n",
      "Epoch 00035: val_acc improved from 0.69722 to 0.70000, saving model to lstm_checkpoint/checkpoint_35\n",
      "449/449 [==============================] - 19s 42ms/step - loss: 0.5864 - acc: 0.7653 - val_loss: 0.8342 - val_acc: 0.7000\n",
      "Epoch 36/50\n",
      "448/449 [============================>.] - ETA: 0s - loss: 0.5824 - acc: 0.7711\n",
      "Epoch 00036: val_acc improved from 0.70000 to 0.70278, saving model to lstm_checkpoint/checkpoint_36\n",
      "449/449 [==============================] - 20s 45ms/step - loss: 0.5826 - acc: 0.7709 - val_loss: 0.8490 - val_acc: 0.7028\n",
      "Epoch 37/50\n",
      "448/449 [============================>.] - ETA: 0s - loss: 0.5620 - acc: 0.7762\n",
      "Epoch 00037: val_acc did not improve from 0.70278\n",
      "449/449 [==============================] - 19s 43ms/step - loss: 0.5618 - acc: 0.7762 - val_loss: 0.8444 - val_acc: 0.6944\n",
      "Epoch 38/50\n",
      "448/449 [============================>.] - ETA: 0s - loss: 0.5553 - acc: 0.7776\n",
      "Epoch 00038: val_acc did not improve from 0.70278\n",
      "449/449 [==============================] - 19s 42ms/step - loss: 0.5552 - acc: 0.7774 - val_loss: 0.8730 - val_acc: 0.7000\n",
      "Epoch 39/50\n",
      "448/449 [============================>.] - ETA: 0s - loss: 0.5539 - acc: 0.7806\n",
      "Epoch 00039: val_acc did not improve from 0.70278\n",
      "449/449 [==============================] - 19s 43ms/step - loss: 0.5538 - acc: 0.7806 - val_loss: 0.9653 - val_acc: 0.6611\n",
      "Epoch 40/50\n",
      "447/449 [============================>.] - ETA: 0s - loss: 0.5606 - acc: 0.7799\n",
      "Epoch 00040: val_acc improved from 0.70278 to 0.71667, saving model to lstm_checkpoint/checkpoint_40\n",
      "449/449 [==============================] - 20s 44ms/step - loss: 0.5609 - acc: 0.7799 - val_loss: 0.8429 - val_acc: 0.7167\n",
      "Epoch 41/50\n",
      "448/449 [============================>.] - ETA: 0s - loss: 0.5216 - acc: 0.7950\n",
      "Epoch 00041: val_acc did not improve from 0.71667\n",
      "449/449 [==============================] - 21s 46ms/step - loss: 0.5213 - acc: 0.7952 - val_loss: 0.8553 - val_acc: 0.7028\n",
      "Epoch 42/50\n",
      "447/449 [============================>.] - ETA: 0s - loss: 0.5308 - acc: 0.7901\n",
      "Epoch 00042: val_acc did not improve from 0.71667\n",
      "449/449 [==============================] - 20s 44ms/step - loss: 0.5316 - acc: 0.7899 - val_loss: 0.9301 - val_acc: 0.7056\n",
      "Epoch 43/50\n",
      "447/449 [============================>.] - ETA: 0s - loss: 0.5195 - acc: 0.7899\n",
      "Epoch 00043: val_acc improved from 0.71667 to 0.71944, saving model to lstm_checkpoint/checkpoint_43\n",
      "449/449 [==============================] - 20s 45ms/step - loss: 0.5198 - acc: 0.7898 - val_loss: 0.8811 - val_acc: 0.7194\n",
      "Epoch 44/50\n",
      "447/449 [============================>.] - ETA: 0s - loss: 0.5168 - acc: 0.7937- ETA: 3s - loss: 0.5147 - acc: 0 -\n",
      "Epoch 00044: val_acc did not improve from 0.71944\n",
      "449/449 [==============================] - 20s 44ms/step - loss: 0.5163 - acc: 0.7941 - val_loss: 0.8644 - val_acc: 0.6972\n",
      "Epoch 45/50\n",
      "448/449 [============================>.] - ETA: 0s - loss: 0.5029 - acc: 0.7997\n",
      "Epoch 00045: val_acc did not improve from 0.71944\n",
      "449/449 [==============================] - 20s 44ms/step - loss: 0.5034 - acc: 0.7995 - val_loss: 0.9006 - val_acc: 0.7111\n",
      "Epoch 46/50\n",
      "447/449 [============================>.] - ETA: 0s - loss: 0.4999 - acc: 0.8033\n",
      "Epoch 00046: val_acc did not improve from 0.71944\n",
      "449/449 [==============================] - 20s 44ms/step - loss: 0.5005 - acc: 0.8031 - val_loss: 0.8885 - val_acc: 0.7167\n",
      "Epoch 47/50\n",
      "448/449 [============================>.] - ETA: 0s - loss: 0.4873 - acc: 0.8114\n",
      "Epoch 00047: val_acc did not improve from 0.71944\n",
      "449/449 [==============================] - 20s 44ms/step - loss: 0.4870 - acc: 0.8115 - val_loss: 0.8766 - val_acc: 0.7111\n",
      "Epoch 48/50\n",
      "447/449 [============================>.] - ETA: 0s - loss: 0.4746 - acc: 0.8118\n",
      "Epoch 00048: val_acc did not improve from 0.71944\n",
      "449/449 [==============================] - 22s 49ms/step - loss: 0.4746 - acc: 0.8119 - val_loss: 0.9824 - val_acc: 0.6889\n",
      "Epoch 49/50\n",
      "448/449 [============================>.] - ETA: 0s - loss: 0.4629 - acc: 0.8189\n",
      "Epoch 00049: val_acc did not improve from 0.71944\n",
      "449/449 [==============================] - 20s 43ms/step - loss: 0.4631 - acc: 0.8186 - val_loss: 0.9444 - val_acc: 0.7083\n",
      "Epoch 50/50\n",
      "447/449 [============================>.] - ETA: 0s - loss: 0.4755 - acc: 0.8118\n",
      "Epoch 00050: val_acc did not improve from 0.71944\n",
      "449/449 [==============================] - 20s 44ms/step - loss: 0.4756 - acc: 0.8117 - val_loss: 0.9396 - val_acc: 0.7000\n"
     ]
    }
   ],
   "source": [
    "lstm_history = lstm.fit(train_cyclic_generator_lstm,\n",
    "                        validation_data = (x_test_lstm, y_test_lstm),\n",
    "                        steps_per_epoch= 449,\n",
    "                        epochs = 50,\n",
    "#                         batch_size = 64,\n",
    "                        callbacks = [lstm_earlystop, lstm_checkpoint]) #Fitting the model"
   ]
  },
  {
   "cell_type": "code",
   "execution_count": 36,
   "metadata": {},
   "outputs": [
    {
     "data": {
      "image/png": "[encoded data removed]",
      "text/plain": [
       "<Figure size 432x288 with 1 Axes>"
      ]
     },
     "metadata": {
      "needs_background": "light"
     },
     "output_type": "display_data"
    },
    {
     "name": "stdout",
     "output_type": "stream",
     "text": [
      "Initial training accuracy is:  0.38077673\n",
      "Final training accuracy is:  0.81173444\n",
      "Initial training loss is:  1.2792092946696123\n",
      "Final training loss is:  0.4755587581470443\n"
     ]
    }
   ],
   "source": [
    "#Plotting model history\n",
    "plt.plot(lstm_history.history['acc'])\n",
    "plt.plot(lstm_history.history['loss'])\n",
    "plt.legend(['Training Accuracy', 'Training Loss'])\n",
    "plt.title('Training History')\n",
    "plt.ylabel('Value')\n",
    "plt.xlabel('epochs')\n",
    "plt.show()\n",
    "print(\"Initial training accuracy is: \", lstm_history.history['acc'][0])\n",
    "print(\"Final training accuracy is: \", lstm_history.history['acc'][-1])\n",
    "\n",
    "print(\"Initial training loss is: \", lstm_history.history['loss'][0])\n",
    "print(\"Final training loss is: \", lstm_history.history['loss'][-1])"
   ]
  },
  {
   "cell_type": "code",
   "execution_count": 37,
   "metadata": {},
   "outputs": [
    {
     "data": {
      "image/png": "[encoded data removed]",
      "text/plain": [
       "<Figure size 432x288 with 1 Axes>"
      ]
     },
     "metadata": {
      "needs_background": "light"
     },
     "output_type": "display_data"
    },
    {
     "name": "stdout",
     "output_type": "stream",
     "text": [
      "Initial Validation accuracy is:  0.39722222\n",
      "Final Validation accuracy is:  0.7\n",
      "Initial Validation loss is:  1.2582389699088203\n",
      "Final Validation loss is:  0.9395856221516927\n"
     ]
    }
   ],
   "source": [
    "#Plotting model history\n",
    "plt.plot(lstm_history.history['val_acc'])\n",
    "plt.plot(lstm_history.history['val_loss'])\n",
    "plt.legend(['Valdation Accuracy', 'Validation Loss'])\n",
    "plt.title('Validation History')\n",
    "plt.ylabel('Value')\n",
    "plt.xlabel('epochs')\n",
    "plt.show()\n",
    "print(\"Initial Validation accuracy is: \", lstm_history.history['val_acc'][0])\n",
    "print(\"Final Validation accuracy is: \", lstm_history.history['val_acc'][-1])\n",
    "\n",
    "print(\"Initial Validation loss is: \", lstm_history.history['val_loss'][0])\n",
    "print(\"Final Validation loss is: \", lstm_history.history['val_loss'][-1])"
   ]
  },
  {
   "cell_type": "markdown",
   "metadata": {},
   "source": [
    "### Training on CNN Model"
   ]
  },
  {
   "cell_type": "code",
   "execution_count": 38,
   "metadata": {},
   "outputs": [
    {
     "name": "stdout",
     "output_type": "stream",
     "text": [
      "1436\n"
     ]
    }
   ],
   "source": [
    "train_test_split = int(0.8 * len(xcnn))\n",
    "print(train_test_split)\n",
    "\n",
    "x_train_cnn = xcnn[:train_test_split]\n",
    "y_train_cnn = ycnn[:train_test_split]\n",
    "\n",
    "x_test_cnn = xcnn[train_test_split:]\n",
    "y_test_cnn = ycnn[train_test_split:]"
   ]
  },
  {
   "cell_type": "code",
   "execution_count": 39,
   "metadata": {},
   "outputs": [],
   "source": [
    "def get_cyclic_generator(features, labels, batch_size = 1):\n",
    "  while True:\n",
    "    for n in range(features.shape[0]//batch_size):\n",
    "      yield (features[n*batch_size: (n+1)*batch_size], labels[n*batch_size: (n+1)*batch_size])\n",
    "    permuted = np.random.permutation(len(features))\n",
    "    features = features[permuted]\n",
    "    labels = labels[permuted]"
   ]
  },
  {
   "cell_type": "code",
   "execution_count": 40,
   "metadata": {},
   "outputs": [],
   "source": [
    "train_batch_size = 32\n",
    "train_cyclic_generator_cnn = get_cyclic_generator(x_train_cnn, y_train_cnn, batch_size = train_batch_size)\n",
    "# test_cyclic_generator = get_cyclic_generator(x_test, y_test, batch_size = train_batch_size)"
   ]
  },
  {
   "cell_type": "code",
   "execution_count": 41,
   "metadata": {},
   "outputs": [
    {
     "name": "stdout",
     "output_type": "stream",
     "text": [
      "Model: \"model_1\"\n",
      "_________________________________________________________________\n",
      "Layer (type)                 Output Shape              Param #   \n",
      "=================================================================\n",
      "input_2 (InputLayer)         [(None, 351, 66)]         0         \n",
      "_________________________________________________________________\n",
      "conv1d (Conv1D)              (None, 349, 32)           6368      \n",
      "_________________________________________________________________\n",
      "leaky_re_lu_2 (LeakyReLU)    (None, 349, 32)           0         \n",
      "_________________________________________________________________\n",
      "conv1d_1 (Conv1D)            (None, 347, 16)           1552      \n",
      "_________________________________________________________________\n",
      "leaky_re_lu_3 (LeakyReLU)    (None, 347, 16)           0         \n",
      "_________________________________________________________________\n",
      "flatten_1 (Flatten)          (None, 5552)              0         \n",
      "_________________________________________________________________\n",
      "dense_3 (Dense)              (None, 32)                177696    \n",
      "_________________________________________________________________\n",
      "leaky_re_lu_4 (LeakyReLU)    (None, 32)                0         \n",
      "_________________________________________________________________\n",
      "dropout_2 (Dropout)          (None, 32)                0         \n",
      "_________________________________________________________________\n",
      "dense_4 (Dense)              (None, 16)                528       \n",
      "_________________________________________________________________\n",
      "dropout_3 (Dropout)          (None, 16)                0         \n",
      "_________________________________________________________________\n",
      "dense_5 (Dense)              (None, 4)                 68        \n",
      "=================================================================\n",
      "Total params: 186,212\n",
      "Trainable params: 186,212\n",
      "Non-trainable params: 0\n",
      "_________________________________________________________________\n"
     ]
    }
   ],
   "source": [
    "inp_shape = (dims_lstm_1, dims_lstm_2)\n",
    "ip = tf.keras.Input(shape = inp_shape)\n",
    "conv1 = tf.keras.layers.Conv1D(32, 3,)(ip)\n",
    "rel = tf.keras.layers.LeakyReLU()(conv1)\n",
    "conv2 = tf.keras.layers.Conv1D(16, 3,)(rel)\n",
    "rel2 = tf.keras.layers.LeakyReLU()(conv2)\n",
    "# lstm = tf.keras.layers.LSTM(16, return_sequences=True)(ip)\n",
    "flatten = tf.keras.layers.Flatten()(rel2)\n",
    "dense1 = tf.keras.layers.Dense(units = 32, kernel_initializer = 'random_normal')(flatten)\n",
    "leakyRelu = tf.keras.layers.LeakyReLU()(dense1)\n",
    "drop1 = tf.keras.layers.Dropout(.4)(leakyRelu)\n",
    "dense2 = tf.keras.layers.Dense(units = 16, kernel_initializer = 'random_normal')(drop1)\n",
    "leakyRelu2 = tf.keras.layers.LeakyReLU()(dense2)\n",
    "drop2 = tf.keras.layers.Dropout(.4)(dense2)\n",
    "out = tf.keras.layers.Dense(num_classes, activation = 'softmax')(drop2)\n",
    "\n",
    "cnn = tf.keras.Model(inputs = ip, outputs = out)\n",
    "cnn.summary()"
   ]
  },
  {
   "cell_type": "code",
   "execution_count": 42,
   "metadata": {},
   "outputs": [],
   "source": [
    "# Compiling the model\n",
    "cnn_earlystop = EarlyStopping(patience = 10, min_delta = 0.001, monitor = 'val_acc')\n",
    "\n",
    "path = 'cnn_checkpoint/checkpoint_{epoch:02d}';\n",
    "cnn_checkpoint = ModelCheckpoint(filepath = path,\n",
    "                            verbose = 1,\n",
    "                            monitor = 'val_acc',\n",
    "                            save_freq = 'epoch',\n",
    "                            save_best_only = True,\n",
    "                            save_weights_only = True)\n",
    "\n",
    "cnn.compile(loss = 'categorical_crossentropy', metrics = ['acc'], optimizer = 'adam')"
   ]
  },
  {
   "cell_type": "code",
   "execution_count": 43,
   "metadata": {
    "scrolled": true
   },
   "outputs": [
    {
     "name": "stdout",
     "output_type": "stream",
     "text": [
      "WARNING:tensorflow:sample_weight modes were coerced from\n",
      "  ...\n",
      "    to  \n",
      "  ['...']\n",
      "Train for 449 steps, validate on 360 samples\n",
      "Epoch 1/50\n",
      "446/449 [============================>.] - ETA: 0s - loss: 1.2731 - acc: 0.3886\n",
      "Epoch 00001: val_acc improved from -inf to 0.39722, saving model to cnn_checkpoint/checkpoint_01\n",
      "449/449 [==============================] - 13s 28ms/step - loss: 1.2727 - acc: 0.3887 - val_loss: 1.2586 - val_acc: 0.3972\n",
      "Epoch 2/50\n",
      "447/449 [============================>.] - ETA: 0s - loss: 1.2620 - acc: 0.4008- ETA: 1s - loss: \n",
      "Epoch 00002: val_acc did not improve from 0.39722\n",
      "449/449 [==============================] - 10s 21ms/step - loss: 1.2618 - acc: 0.4008 - val_loss: 1.2569 - val_acc: 0.3972\n",
      "Epoch 3/50\n",
      "448/449 [============================>.] - ETA: 0s - loss: 1.2570 - acc: 0.4020- ETA: 6s - l - ETA: 3s - loss: 1.259\n",
      "Epoch 00003: val_acc did not improve from 0.39722\n",
      "449/449 [==============================] - 10s 23ms/step - loss: 1.2574 - acc: 0.4017 - val_loss: 1.2573 - val_acc: 0.3972\n",
      "Epoch 4/50\n",
      "447/449 [============================>.] - ETA: 0s - loss: 1.2558 - acc: 0.4017- ETA: 1s - loss: 1.2\n",
      "Epoch 00004: val_acc did not improve from 0.39722\n",
      "449/449 [==============================] - 10s 21ms/step - loss: 1.2557 - acc: 0.4018 - val_loss: 1.2559 - val_acc: 0.3972\n",
      "Epoch 5/50\n",
      "448/449 [============================>.] - ETA: 0s - loss: 1.2305 - acc: 0.4150- ETA: 0s - loss: 1.2307 - acc: 0.414\n",
      "Epoch 00005: val_acc improved from 0.39722 to 0.49444, saving model to cnn_checkpoint/checkpoint_05\n",
      "449/449 [==============================] - 9s 20ms/step - loss: 1.2306 - acc: 0.4147 - val_loss: 1.1776 - val_acc: 0.4944\n",
      "Epoch 6/50\n",
      "447/449 [============================>.] - ETA: 0s - loss: 1.1120 - acc: 0.5146\n",
      "Epoch 00006: val_acc improved from 0.49444 to 0.52778, saving model to cnn_checkpoint/checkpoint_06\n",
      "449/449 [==============================] - 9s 19ms/step - loss: 1.1119 - acc: 0.5147 - val_loss: 1.1065 - val_acc: 0.5278\n",
      "Epoch 7/50\n",
      "447/449 [============================>.] - ETA: 0s - loss: 1.0396 - acc: 0.5622\n",
      "Epoch 00007: val_acc improved from 0.52778 to 0.54722, saving model to cnn_checkpoint/checkpoint_07\n",
      "449/449 [==============================] - 12s 26ms/step - loss: 1.0392 - acc: 0.5622 - val_loss: 1.0558 - val_acc: 0.5472\n",
      "Epoch 8/50\n",
      "446/449 [============================>.] - ETA: 0s - loss: 0.9889 - acc: 0.5819\n",
      "Epoch 00008: val_acc did not improve from 0.54722\n",
      "449/449 [==============================] - 8s 19ms/step - loss: 0.9888 - acc: 0.5823 - val_loss: 1.0707 - val_acc: 0.5444\n",
      "Epoch 9/50\n",
      "448/449 [============================>.] - ETA: 0s - loss: 0.9612 - acc: 0.6024- ETA\n",
      "Epoch 00009: val_acc did not improve from 0.54722\n",
      "449/449 [==============================] - 9s 20ms/step - loss: 0.9612 - acc: 0.6023 - val_loss: 1.0619 - val_acc: 0.5444\n",
      "Epoch 10/50\n",
      "447/449 [============================>.] - ETA: 0s - loss: 0.9229 - acc: 0.6184- ETA: 1s \n",
      "Epoch 00010: val_acc improved from 0.54722 to 0.57222, saving model to cnn_checkpoint/checkpoint_10\n",
      "449/449 [==============================] - 10s 22ms/step - loss: 0.9237 - acc: 0.6187 - val_loss: 1.0686 - val_acc: 0.5722\n",
      "Epoch 11/50\n",
      "447/449 [============================>.] - ETA: 0s - loss: 0.8807 - acc: 0.6414\n",
      "Epoch 00011: val_acc did not improve from 0.57222\n",
      "449/449 [==============================] - 9s 21ms/step - loss: 0.8805 - acc: 0.6413 - val_loss: 1.0666 - val_acc: 0.5639\n",
      "Epoch 12/50\n",
      "448/449 [============================>.] - ETA: 0s - loss: 0.8569 - acc: 0.6505\n",
      "Epoch 00012: val_acc improved from 0.57222 to 0.57500, saving model to cnn_checkpoint/checkpoint_12\n",
      "449/449 [==============================] - 10s 22ms/step - loss: 0.8566 - acc: 0.6505 - val_loss: 1.0850 - val_acc: 0.5750\n",
      "Epoch 13/50\n",
      "447/449 [============================>.] - ETA: 0s - loss: 0.8167 - acc: 0.6642- ETA: 5s - loss:  - ETA\n",
      "Epoch 00013: val_acc did not improve from 0.57500\n",
      "449/449 [==============================] - 8s 19ms/step - loss: 0.8169 - acc: 0.6643 - val_loss: 1.0787 - val_acc: 0.5667\n",
      "Epoch 14/50\n",
      "446/449 [============================>.] - ETA: 0s - loss: 0.7730 - acc: 0.6806\n",
      "Epoch 00014: val_acc improved from 0.57500 to 0.59167, saving model to cnn_checkpoint/checkpoint_14\n",
      "449/449 [==============================] - 10s 21ms/step - loss: 0.7732 - acc: 0.6812 - val_loss: 1.0719 - val_acc: 0.5917\n",
      "Epoch 15/50\n",
      "446/449 [============================>.] - ETA: 0s - loss: 0.7223 - acc: 0.7117- ETA: 5s - loss: 0.7 - ETA: 4s - loss: 0 - ETA: 0s - loss: 0.7245 - acc: 0.71 - ETA: 0s - loss: 0.7242 - \n",
      "Epoch 00015: val_acc improved from 0.59167 to 0.59444, saving model to cnn_checkpoint/checkpoint_15\n",
      "449/449 [==============================] - 9s 20ms/step - loss: 0.7222 - acc: 0.7119 - val_loss: 1.0769 - val_acc: 0.5944\n",
      "Epoch 16/50\n",
      "448/449 [============================>.] - ETA: 0s - loss: 0.6889 - acc: 0.7215\n",
      "Epoch 00016: val_acc improved from 0.59444 to 0.63889, saving model to cnn_checkpoint/checkpoint_16\n",
      "449/449 [==============================] - 9s 21ms/step - loss: 0.6889 - acc: 0.7215 - val_loss: 1.0806 - val_acc: 0.6389\n",
      "Epoch 17/50\n",
      "447/449 [============================>.] - ETA: 0s - loss: 0.6470 - acc: 0.7391\n",
      "Epoch 00017: val_acc did not improve from 0.63889\n",
      "449/449 [==============================] - 9s 20ms/step - loss: 0.6463 - acc: 0.7392 - val_loss: 1.1783 - val_acc: 0.5972\n",
      "Epoch 18/50\n",
      "446/449 [============================>.] - ETA: 0s - loss: 0.6177 - acc: 0.7513- ETA: 1s - los\n",
      "Epoch 00018: val_acc did not improve from 0.63889\n",
      "449/449 [==============================] - 9s 20ms/step - loss: 0.6192 - acc: 0.7512 - val_loss: 1.1590 - val_acc: 0.6167\n",
      "Epoch 19/50\n",
      "448/449 [============================>.] - ETA: 0s - loss: 0.5810 - acc: 0.7672\n",
      "Epoch 00019: val_acc did not improve from 0.63889\n",
      "449/449 [==============================] - 10s 21ms/step - loss: 0.5812 - acc: 0.7671 - val_loss: 1.1734 - val_acc: 0.6389\n",
      "Epoch 20/50\n",
      "448/449 [============================>.] - ETA: 0s - loss: 0.5548 - acc: 0.7799\n",
      "Epoch 00020: val_acc improved from 0.63889 to 0.64167, saving model to cnn_checkpoint/checkpoint_20\n",
      "449/449 [==============================] - 9s 21ms/step - loss: 0.5545 - acc: 0.7800 - val_loss: 1.2095 - val_acc: 0.6417\n",
      "Epoch 21/50\n",
      "448/449 [============================>.] - ETA: 0s - loss: 0.5300 - acc: 0.7880- ETA: 0s - loss: 0.5310 - \n",
      "Epoch 00021: val_acc did not improve from 0.64167\n",
      "449/449 [==============================] - 8s 19ms/step - loss: 0.5303 - acc: 0.7879 - val_loss: 1.2869 - val_acc: 0.5972\n",
      "Epoch 22/50\n",
      "448/449 [============================>.] - ETA: 0s - loss: 0.5027 - acc: 0.8045\n",
      "Epoch 00022: val_acc did not improve from 0.64167\n",
      "449/449 [==============================] - 9s 19ms/step - loss: 0.5029 - acc: 0.8044 - val_loss: 1.3029 - val_acc: 0.6306\n",
      "Epoch 23/50\n",
      "447/449 [============================>.] - ETA: 0s - loss: 0.4562 - acc: 0.8176\n",
      "Epoch 00023: val_acc did not improve from 0.64167\n",
      "449/449 [==============================] - 9s 20ms/step - loss: 0.4563 - acc: 0.8176 - val_loss: 1.3426 - val_acc: 0.6306\n",
      "Epoch 24/50\n",
      "448/449 [============================>.] - ETA: 0s - loss: 0.4509 - acc: 0.8218\n",
      "Epoch 00024: val_acc did not improve from 0.64167\n",
      "449/449 [==============================] - 10s 22ms/step - loss: 0.4505 - acc: 0.8222 - val_loss: 1.3719 - val_acc: 0.6167\n",
      "Epoch 25/50\n",
      "447/449 [============================>.] - ETA: 0s - loss: 0.4257 - acc: 0.8339\n",
      "Epoch 00025: val_acc did not improve from 0.64167\n",
      "449/449 [==============================] - 9s 19ms/step - loss: 0.4259 - acc: 0.8341 - val_loss: 1.4174 - val_acc: 0.6139\n",
      "Epoch 26/50\n",
      "446/449 [============================>.] - ETA: 0s - loss: 0.3938 - acc: 0.8511- ETA: 4s - loss: 0.3889  - ETA: 1s - loss:  - ETA: 0s - loss: 0.3922 - acc: 0\n",
      "Epoch 00026: val_acc did not improve from 0.64167\n",
      "449/449 [==============================] - 9s 20ms/step - loss: 0.3930 - acc: 0.8512 - val_loss: 1.3964 - val_acc: 0.6306\n",
      "Epoch 27/50\n",
      "448/449 [============================>.] - ETA: 0s - loss: 0.3700 - acc: 0.8610\n",
      "Epoch 00027: val_acc did not improve from 0.64167\n",
      "449/449 [==============================] - 9s 19ms/step - loss: 0.3702 - acc: 0.8609 - val_loss: 1.4995 - val_acc: 0.6306\n",
      "Epoch 28/50\n",
      "447/449 [============================>.] - ETA: 0s - loss: 0.3286 - acc: 0.8742\n",
      "Epoch 00028: val_acc did not improve from 0.64167\n",
      "449/449 [==============================] - 9s 20ms/step - loss: 0.3288 - acc: 0.8742 - val_loss: 1.5937 - val_acc: 0.6389\n",
      "Epoch 29/50\n",
      "447/449 [============================>.] - ETA: 0s - loss: 0.3255 - acc: 0.8790\n",
      "Epoch 00029: val_acc improved from 0.64167 to 0.64444, saving model to cnn_checkpoint/checkpoint_29\n",
      "449/449 [==============================] - 9s 21ms/step - loss: 0.3258 - acc: 0.8785 - val_loss: 1.5833 - val_acc: 0.6444\n",
      "Epoch 30/50\n",
      "446/449 [============================>.] - ETA: 0s - loss: 0.3110 - acc: 0.8840\n",
      "Epoch 00030: val_acc improved from 0.64444 to 0.65000, saving model to cnn_checkpoint/checkpoint_30\n",
      "449/449 [==============================] - 11s 24ms/step - loss: 0.3113 - acc: 0.8838 - val_loss: 1.6345 - val_acc: 0.6500\n",
      "Epoch 31/50\n",
      "446/449 [============================>.] - ETA: 0s - loss: 0.2859 - acc: 0.8941\n",
      "Epoch 00031: val_acc did not improve from 0.65000\n",
      "449/449 [==============================] - 9s 20ms/step - loss: 0.2856 - acc: 0.8941 - val_loss: 1.7926 - val_acc: 0.6361\n",
      "Epoch 32/50\n",
      "448/449 [============================>.] - ETA: 0s - loss: 0.2673 - acc: 0.9007\n",
      "Epoch 00032: val_acc did not improve from 0.65000\n",
      "449/449 [==============================] - 9s 19ms/step - loss: 0.2674 - acc: 0.9005 - val_loss: 1.8464 - val_acc: 0.6500\n",
      "Epoch 33/50\n",
      "447/449 [============================>.] - ETA: 0s - loss: 0.2707 - acc: 0.9000\n",
      "Epoch 00033: val_acc did not improve from 0.65000\n",
      "449/449 [==============================] - 10s 22ms/step - loss: 0.2710 - acc: 0.8998 - val_loss: 1.7191 - val_acc: 0.6333\n",
      "Epoch 34/50\n",
      "446/449 [============================>.] - ETA: 0s - loss: 0.2415 - acc: 0.9108- ETA: 0s - loss: 0.2410 - ac\n",
      "Epoch 00034: val_acc did not improve from 0.65000\n",
      "449/449 [==============================] - 9s 20ms/step - loss: 0.2416 - acc: 0.9108 - val_loss: 1.9058 - val_acc: 0.6472\n",
      "Epoch 35/50\n",
      "447/449 [============================>.] - ETA: 0s - loss: 0.2383 - acc: 0.9115- ETA: 6s - lo - ETA: 5s - loss: \n",
      "Epoch 00035: val_acc improved from 0.65000 to 0.65278, saving model to cnn_checkpoint/checkpoint_35\n",
      "449/449 [==============================] - 11s 24ms/step - loss: 0.2379 - acc: 0.9117 - val_loss: 1.8687 - val_acc: 0.6528\n",
      "Epoch 36/50\n",
      "446/449 [============================>.] - ETA: 0s - loss: 0.2035 - acc: 0.9263- ETA: 2s - los - ETA: 0s - loss: 0.2039 - acc: 0.\n",
      "Epoch 00036: val_acc did not improve from 0.65278\n",
      "449/449 [==============================] - 12s 27ms/step - loss: 0.2032 - acc: 0.9264 - val_loss: 2.0960 - val_acc: 0.6250\n",
      "Epoch 37/50\n",
      "446/449 [============================>.] - ETA: 0s - loss: 0.2067 - acc: 0.9233\n",
      "Epoch 00037: val_acc did not improve from 0.65278\n",
      "449/449 [==============================] - 9s 20ms/step - loss: 0.2066 - acc: 0.9233 - val_loss: 2.2727 - val_acc: 0.6333\n",
      "Epoch 38/50\n",
      "448/449 [============================>.] - ETA: 0s - loss: 0.1972 - acc: 0.9273\n",
      "Epoch 00038: val_acc did not improve from 0.65278\n",
      "449/449 [==============================] - 9s 20ms/step - loss: 0.1972 - acc: 0.9273 - val_loss: 2.2789 - val_acc: 0.6361\n",
      "Epoch 39/50\n",
      "446/449 [============================>.] - ETA: 0s - loss: 0.1865 - acc: 0.9336\n",
      "Epoch 00039: val_acc did not improve from 0.65278\n",
      "449/449 [==============================] - 9s 21ms/step - loss: 0.1863 - acc: 0.9335 - val_loss: 2.4157 - val_acc: 0.6444\n",
      "Epoch 40/50\n",
      "448/449 [============================>.] - ETA: 0s - loss: 0.1822 - acc: 0.9348\n",
      "Epoch 00040: val_acc did not improve from 0.65278\n",
      "449/449 [==============================] - 9s 19ms/step - loss: 0.1824 - acc: 0.9349 - val_loss: 2.2424 - val_acc: 0.6250\n",
      "Epoch 41/50\n",
      "447/449 [============================>.] - ETA: 0s - loss: 0.1726 - acc: 0.9379\n",
      "Epoch 00041: val_acc did not improve from 0.65278\n",
      "449/449 [==============================] - 9s 21ms/step - loss: 0.1726 - acc: 0.9378 - val_loss: 2.3769 - val_acc: 0.6222\n",
      "Epoch 42/50\n",
      "447/449 [============================>.] - ETA: 0s - loss: 0.1716 - acc: 0.9385- ETA: 2s - loss: 0.1693 -\n",
      "Epoch 00042: val_acc did not improve from 0.65278\n",
      "449/449 [==============================] - 9s 19ms/step - loss: 0.1715 - acc: 0.9386 - val_loss: 2.3307 - val_acc: 0.6417\n",
      "Epoch 43/50\n",
      "446/449 [============================>.] - ETA: 0s - loss: 0.1565 - acc: 0.9451\n",
      "Epoch 00043: val_acc did not improve from 0.65278\n",
      "449/449 [==============================] - 9s 20ms/step - loss: 0.1565 - acc: 0.9450 - val_loss: 2.4578 - val_acc: 0.6472\n",
      "Epoch 44/50\n",
      "447/449 [============================>.] - ETA: 0s - loss: 0.1538 - acc: 0.9460\n",
      "Epoch 00044: val_acc did not improve from 0.65278\n",
      "449/449 [==============================] - 9s 20ms/step - loss: 0.1541 - acc: 0.9459 - val_loss: 2.6160 - val_acc: 0.6250\n",
      "Epoch 45/50\n",
      "448/449 [============================>.] - ETA: 0s - loss: 0.1478 - acc: 0.9475\n",
      "Epoch 00045: val_acc did not improve from 0.65278\n",
      "449/449 [==============================] - 11s 24ms/step - loss: 0.1476 - acc: 0.9476 - val_loss: 2.6897 - val_acc: 0.6500\n"
     ]
    }
   ],
   "source": [
    "cnn_history = cnn.fit(train_cyclic_generator_cnn,\n",
    "                        validation_data = (x_test_cnn, y_test_cnn),\n",
    "                        steps_per_epoch= 449,\n",
    "                        epochs = 50,\n",
    "                        callbacks = [cnn_earlystop, cnn_checkpoint]) #Fitting the model"
   ]
  },
  {
   "cell_type": "code",
   "execution_count": 44,
   "metadata": {},
   "outputs": [
    {
     "data": {
      "image/png": "[encoded data removed]",
      "text/plain": [
       "<Figure size 432x288 with 1 Axes>"
      ]
     },
     "metadata": {
      "needs_background": "light"
     },
     "output_type": "display_data"
    },
    {
     "name": "stdout",
     "output_type": "stream",
     "text": [
      "Initial training accuracy is:  0.38871104\n",
      "Final training accuracy is:  0.94759184\n",
      "Initial training loss is:  1.2727303839473256\n",
      "Final training loss is:  0.14764663126560257\n"
     ]
    }
   ],
   "source": [
    "#Plotting model history\n",
    "plt.plot(cnn_history.history['acc'])\n",
    "plt.plot(cnn_history.history['loss'])\n",
    "plt.legend(['Training Accuracy', 'Training Loss'])\n",
    "plt.title('Training History')\n",
    "plt.ylabel('Value')\n",
    "plt.xlabel('epochs')\n",
    "plt.show()\n",
    "print(\"Initial training accuracy is: \", cnn_history.history['acc'][0])\n",
    "print(\"Final training accuracy is: \", cnn_history.history['acc'][-1])\n",
    "\n",
    "print(\"Initial training loss is: \", cnn_history.history['loss'][0])\n",
    "print(\"Final training loss is: \", cnn_history.history['loss'][-1])"
   ]
  },
  {
   "cell_type": "code",
   "execution_count": 45,
   "metadata": {},
   "outputs": [
    {
     "data": {
      "image/png": "[encoded data removed]",
      "text/plain": [
       "<Figure size 432x288 with 1 Axes>"
      ]
     },
     "metadata": {
      "needs_background": "light"
     },
     "output_type": "display_data"
    },
    {
     "name": "stdout",
     "output_type": "stream",
     "text": [
      "Initial Validation accuracy is:  0.39722222\n",
      "Final Validation accuracy is:  0.65\n",
      "Initial Validation loss is:  1.258551385667589\n",
      "Final Validation loss is:  2.689656522538927\n"
     ]
    }
   ],
   "source": [
    "#Plotting model history\n",
    "plt.plot(cnn_history.history['val_acc'])\n",
    "plt.plot(cnn_history.history['val_loss'])\n",
    "plt.legend(['Valdation Accuracy', 'Validation Loss'])\n",
    "plt.title('Validation History')\n",
    "plt.ylabel('Value')\n",
    "plt.xlabel('epochs')\n",
    "plt.show()\n",
    "print(\"Initial Validation accuracy is: \", cnn_history.history['val_acc'][0])\n",
    "print(\"Final Validation accuracy is: \", cnn_history.history['val_acc'][-1])\n",
    "\n",
    "print(\"Initial Validation loss is: \", cnn_history.history['val_loss'][0])\n",
    "print(\"Final Validation loss is: \", cnn_history.history['val_loss'][-1])"
   ]
  },
  {
   "cell_type": "markdown",
   "metadata": {},
   "source": [
    "## Training for go/no-go"
   ]
  },
  {
   "cell_type": "code",
   "execution_count": 97,
   "metadata": {},
   "outputs": [
    {
     "name": "stdout",
     "output_type": "stream",
     "text": [
      "(1872, 23167)\n",
      "(600, 23167)\n",
      "(600, 23166)\n",
      "(600,)\n",
      "[2.0, 4.0]\n"
     ]
    }
   ],
   "source": [
    "#Creating dataset\n",
    "datasetgonogo = main_dataset.copy()\n",
    "print(datasetgonogo.shape)\n",
    "\n",
    "unwanted_events_gonogo = [9, 10, 3, 6, 7, 8, 11, 1, 5]\n",
    "\n",
    "for e in unwanted_events_gonogo:\n",
    "    datasetgonogo = datasetgonogo[datasetgonogo[:, -1]!=e]\n",
    "\n",
    "print(datasetgonogo.shape)\n",
    "\n",
    "xgonogo = datasetgonogo[:, :-1]\n",
    "ygonogo = datasetgonogo[:, -1]\n",
    "print(xgonogo.shape)\n",
    "print(ygonogo.shape)\n",
    "print(list(set(ygonogo)))\n",
    "\n",
    "permutations = np.random.permutation(len(xgonogo))\n",
    "xgonogo = xgonogo[permutations]\n",
    "ygonogo = ygonogo[permutations]"
   ]
  },
  {
   "cell_type": "code",
   "execution_count": 98,
   "metadata": {},
   "outputs": [
    {
     "name": "stdout",
     "output_type": "stream",
     "text": [
      "[0.0, 1.0]\n"
     ]
    }
   ],
   "source": [
    "#Encoding y\n",
    "dict = {2.0: 0, 4.0: 1}\n",
    "\n",
    "for i in range(len(ygonogo)):\n",
    "    ygonogo[i] = dict[ygonogo[i]]\n",
    "\n",
    "print(list(set(ygonogo)))"
   ]
  },
  {
   "cell_type": "code",
   "execution_count": 99,
   "metadata": {},
   "outputs": [
    {
     "data": {
      "text/plain": [
       "array([[1., 0.],\n",
       "       [1., 0.],\n",
       "       [0., 1.],\n",
       "       [1., 0.],\n",
       "       [1., 0.]], dtype=float32)"
      ]
     },
     "execution_count": 99,
     "metadata": {},
     "output_type": "execute_result"
    }
   ],
   "source": [
    "num_classes = 2\n",
    "ygonogo = tf.keras.utils.to_categorical(ygonogo, num_classes)\n",
    "ygonogo[:5]"
   ]
  },
  {
   "cell_type": "code",
   "execution_count": 113,
   "metadata": {},
   "outputs": [
    {
     "name": "stdout",
     "output_type": "stream",
     "text": [
      "480\n"
     ]
    },
    {
     "data": {
      "text/plain": [
       "(480, 23166)"
      ]
     },
     "execution_count": 113,
     "metadata": {},
     "output_type": "execute_result"
    }
   ],
   "source": [
    "train_test_split = int(0.8 * len(xgonogo))\n",
    "print(train_test_split)\n",
    "\n",
    "xgonogo_train_mlp = xgonogo[:train_test_split]\n",
    "ygonogo_train_mlp = ygonogo[:train_test_split]\n",
    "\n",
    "xgonogo_test_mlp = xgonogo[train_test_split:]\n",
    "ygonogo_test_mlp = ygonogo[train_test_split:]\n",
    "\n",
    "xgonogo_train_mlp.shape"
   ]
  },
  {
   "cell_type": "code",
   "execution_count": 114,
   "metadata": {},
   "outputs": [],
   "source": [
    "def get_cyclic_generator(features, labels, batch_size = 1):\n",
    "  while True:\n",
    "    for n in range(features.shape[0]//batch_size):\n",
    "      yield (features[n*batch_size: (n+1)*batch_size], labels[n*batch_size: (n+1)*batch_size])\n",
    "    permuted = np.random.permutation(len(features))\n",
    "    features = features[permuted]\n",
    "    labels = labels[permuted]"
   ]
  },
  {
   "cell_type": "code",
   "execution_count": 115,
   "metadata": {},
   "outputs": [],
   "source": [
    "train_batch_size = 32\n",
    "train_cyclic_generator_mlp_gonogo = get_cyclic_generator(xgonogo_train_mlp, ygonogo_train_mlp, batch_size = train_batch_size)\n",
    "# test_cyclic_generator = get_cyclic_generator(x_test, y_test, batch_size = train_batch_size)"
   ]
  },
  {
   "cell_type": "code",
   "execution_count": 116,
   "metadata": {},
   "outputs": [
    {
     "name": "stdout",
     "output_type": "stream",
     "text": [
      "Model: \"model_11\"\n",
      "_________________________________________________________________\n",
      "Layer (type)                 Output Shape              Param #   \n",
      "=================================================================\n",
      "input_11 (InputLayer)        [(None, 23166)]           0         \n",
      "_________________________________________________________________\n",
      "dense_30 (Dense)             (None, 32)                741344    \n",
      "_________________________________________________________________\n",
      "dropout_18 (Dropout)         (None, 32)                0         \n",
      "_________________________________________________________________\n",
      "dense_31 (Dense)             (None, 16)                528       \n",
      "_________________________________________________________________\n",
      "dropout_19 (Dropout)         (None, 16)                0         \n",
      "_________________________________________________________________\n",
      "dense_32 (Dense)             (None, 2)                 34        \n",
      "=================================================================\n",
      "Total params: 741,906\n",
      "Trainable params: 741,906\n",
      "Non-trainable params: 0\n",
      "_________________________________________________________________\n"
     ]
    }
   ],
   "source": [
    "#Creating model architecture\n",
    "inp_shape = (dims_ip, )\n",
    "ip = tf.keras.Input(shape = inp_shape)\n",
    "dense1 = tf.keras.layers.Dense(units = 32, activation = 'relu', kernel_initializer = 'random_normal')(ip)\n",
    "drop = tf.keras.layers.Dropout(.4)(dense1)\n",
    "dense2 = tf.keras.layers.Dense(units = 16, activation = 'relu', kernel_initializer = 'random_normal')(drop)\n",
    "drop2 = tf.keras.layers.Dropout(.4)(dense2)\n",
    "out = tf.keras.layers.Dense(num_classes, activation = 'softmax')(drop2)\n",
    "\n",
    "mlp_gonogo = tf.keras.Model(inputs = ip, outputs = out)\n",
    "mlp_gonogo.summary()"
   ]
  },
  {
   "cell_type": "code",
   "execution_count": 117,
   "metadata": {},
   "outputs": [],
   "source": [
    "# Compiling the model\n",
    "mlp_gonogo_earlystop = EarlyStopping(patience = 10, min_delta = 0.001, monitor = 'val_acc')\n",
    "\n",
    "path = 'mlp_gonogo_checkpoint/checkpoint_{epoch:02d}';\n",
    "mlp_gonogo_checkpoint = ModelCheckpoint(filepath = path,\n",
    "                            verbose = 1,\n",
    "                            monitor = 'val_acc',\n",
    "                            save_freq = 'epoch',\n",
    "                            save_best_only = True,\n",
    "                            save_weights_only = True)\n",
    "\n",
    "mlp_gonogo.compile(loss = 'categorical_crossentropy', metrics = ['acc'], optimizer = 'adam')"
   ]
  },
  {
   "cell_type": "code",
   "execution_count": 119,
   "metadata": {
    "scrolled": true
   },
   "outputs": [
    {
     "name": "stdout",
     "output_type": "stream",
     "text": [
      "WARNING:tensorflow:sample_weight modes were coerced from\n",
      "  ...\n",
      "    to  \n",
      "  ['...']\n",
      "Train for 449 steps, validate on 120 samples\n",
      "Epoch 1/50\n",
      "447/449 [============================>.] - ETA: 0s - loss: 0.5333 - acc: 0.7993\n",
      "Epoch 00001: val_acc improved from -inf to 0.80000, saving model to mlp_gonogo_checkpoint/checkpoint_01\n",
      "449/449 [==============================] - 9s 21ms/step - loss: 0.5336 - acc: 0.7991 - val_loss: 0.4995 - val_acc: 0.8000\n",
      "Epoch 2/50\n",
      "447/449 [============================>.] - ETA: 0s - loss: 0.5088 - acc: 0.8003- ETA: 2s  - ETA: 0s - loss: 0.5094 -\n",
      "Epoch 00002: val_acc did not improve from 0.80000\n",
      "449/449 [==============================] - 6s 14ms/step - loss: 0.5090 - acc: 0.8001 - val_loss: 0.4981 - val_acc: 0.8000\n",
      "Epoch 3/50\n",
      "448/449 [============================>.] - ETA: 0s - loss: 0.5016 - acc: 0.8002- ETA: 4s - loss: 0.5054 - acc: 0.801 - ETA: 4s - loss: 0. - ETA: 3s  \n",
      "Epoch 00003: val_acc did not improve from 0.80000\n",
      "449/449 [==============================] - 7s 15ms/step - loss: 0.5019 - acc: 0.8000 - val_loss: 0.4950 - val_acc: 0.8000\n",
      "Epoch 4/50\n",
      "445/449 [============================>.] - ETA: 0s - loss: 0.4919 - acc: 0.8000\n",
      "Epoch 00004: val_acc did not improve from 0.80000\n",
      "449/449 [==============================] - 7s 16ms/step - loss: 0.4912 - acc: 0.8005 - val_loss: 0.4895 - val_acc: 0.8000\n",
      "Epoch 5/50\n",
      "447/449 [============================>.] - ETA: 0s - loss: 0.4760 - acc: 0.7994-  - ETA: 0s - loss: 0.4766 - acc: 0.799 - ETA: 0s - loss: 0.4769 - acc:\n",
      "Epoch 00005: val_acc did not improve from 0.80000\n",
      "449/449 [==============================] - 7s 15ms/step - loss: 0.4757 - acc: 0.7996 - val_loss: 0.4779 - val_acc: 0.8000\n",
      "Epoch 6/50\n",
      "445/449 [============================>.] - ETA: 0s - loss: 0.4439 - acc: 0.7999- ETA: 0s - loss: 0.4451 - acc:\n",
      "Epoch 00006: val_acc did not improve from 0.80000\n",
      "449/449 [==============================] - 7s 15ms/step - loss: 0.4443 - acc: 0.7996 - val_loss: 0.4623 - val_acc: 0.8000\n",
      "Epoch 7/50\n",
      "446/449 [============================>.] - ETA: 0s - loss: 0.4025 - acc: 0.8004- ETA: 1s - loss: 0\n",
      "Epoch 00007: val_acc did not improve from 0.80000\n",
      "449/449 [==============================] - 7s 15ms/step - loss: 0.4024 - acc: 0.8005 - val_loss: 0.4547 - val_acc: 0.8000\n",
      "Epoch 8/50\n",
      "448/449 [============================>.] - ETA: 0s - loss: 0.3554 - acc: 0.8003\n",
      "Epoch 00008: val_acc did not improve from 0.80000\n",
      "449/449 [==============================] - 7s 15ms/step - loss: 0.3554 - acc: 0.8002 - val_loss: 0.4786 - val_acc: 0.8000\n",
      "Epoch 9/50\n",
      "448/449 [============================>.] - ETA: 0s - loss: 0.3028 - acc: 0.8387- - ETA: 1\n",
      "Epoch 00009: val_acc improved from 0.80000 to 0.80833, saving model to mlp_gonogo_checkpoint/checkpoint_09\n",
      "449/449 [==============================] - 7s 16ms/step - loss: 0.3028 - acc: 0.8388 - val_loss: 0.4847 - val_acc: 0.8083\n",
      "Epoch 10/50\n",
      "445/449 [============================>.] - ETA: 0s - loss: 0.2481 - acc: 0.9222\n",
      "Epoch 00010: val_acc did not improve from 0.80833\n",
      "449/449 [==============================] - 7s 15ms/step - loss: 0.2479 - acc: 0.9226 - val_loss: 0.5721 - val_acc: 0.7917\n",
      "Epoch 11/50\n",
      "448/449 [============================>.] - ETA: 0s - loss: 0.2057 - acc: 0.9489\n",
      "Epoch 00011: val_acc did not improve from 0.80833\n",
      "449/449 [==============================] - 7s 15ms/step - loss: 0.2057 - acc: 0.9489 - val_loss: 0.6396 - val_acc: 0.8083\n",
      "Epoch 12/50\n",
      "447/449 [============================>.] - ETA: 0s - loss: 0.1655 - acc: 0.9625\n",
      "Epoch 00012: val_acc did not improve from 0.80833\n",
      "449/449 [==============================] - 6s 14ms/step - loss: 0.1655 - acc: 0.9626 - val_loss: 0.7048 - val_acc: 0.8083\n",
      "Epoch 13/50\n",
      "447/449 [============================>.] - ETA: 0s - loss: 0.1359 - acc: 0.9705\n",
      "Epoch 00013: val_acc did not improve from 0.80833\n",
      "449/449 [==============================] - 7s 15ms/step - loss: 0.1358 - acc: 0.9706 - val_loss: 0.8777 - val_acc: 0.8000\n",
      "Epoch 14/50\n",
      "445/449 [============================>.] - ETA: 0s - loss: 0.1121 - acc: 0.9756\n",
      "Epoch 00014: val_acc did not improve from 0.80833\n",
      "449/449 [==============================] - 6s 14ms/step - loss: 0.1120 - acc: 0.9756 - val_loss: 0.9097 - val_acc: 0.7917\n",
      "Epoch 15/50\n",
      "445/449 [============================>.] - ETA: 0s - loss: 0.0956 - acc: 0.9797- ETA: 0s - loss: 0.09\n",
      "Epoch 00015: val_acc did not improve from 0.80833\n",
      "449/449 [==============================] - 6s 14ms/step - loss: 0.0953 - acc: 0.9798 - val_loss: 1.0913 - val_acc: 0.8000\n",
      "Epoch 16/50\n",
      "447/449 [============================>.] - ETA: 0s - loss: 0.0798 - acc: 0.9823- ETA: 1s - l\n",
      "Epoch 00016: val_acc did not improve from 0.80833\n",
      "449/449 [==============================] - 7s 15ms/step - loss: 0.0798 - acc: 0.9823 - val_loss: 1.1827 - val_acc: 0.8000\n",
      "Epoch 17/50\n",
      "447/449 [============================>.] - ETA: 0s - loss: 0.0670 - acc: 0.9863\n",
      "Epoch 00017: val_acc did not improve from 0.80833\n",
      "449/449 [==============================] - 7s 15ms/step - loss: 0.0670 - acc: 0.9863 - val_loss: 1.4004 - val_acc: 0.7917\n",
      "Epoch 18/50\n",
      "447/449 [============================>.] - ETA: 0s - loss: 0.0621 - acc: 0.9857\n",
      "Epoch 00018: val_acc did not improve from 0.80833\n",
      "449/449 [==============================] - 7s 15ms/step - loss: 0.0620 - acc: 0.9858 - val_loss: 1.5859 - val_acc: 0.8083\n",
      "Epoch 19/50\n",
      "445/449 [============================>.] - ETA: 0s - loss: 0.0546 - acc: 0.9883\n",
      "Epoch 00019: val_acc did not improve from 0.80833\n",
      "449/449 [==============================] - 7s 15ms/step - loss: 0.0544 - acc: 0.9884 - val_loss: 1.7004 - val_acc: 0.7917\n"
     ]
    }
   ],
   "source": [
    "# historygonogo = modelgonogo.fit(xgonogo, ygonogo, epochs=300, callbacks = [earlystop, model_checkpoint]) #plotting the model\n",
    "\n",
    "mlp_gonogo_history = mlp_gonogo.fit(train_cyclic_generator_mlp_gonogo,\n",
    "                        validation_data = (xgonogo_test_mlp, ygonogo_test_mlp),\n",
    "                        steps_per_epoch= 449,\n",
    "                        epochs = 50,\n",
    "                        callbacks = [mlp_gonogo_earlystop, mlp_gonogo_checkpoint]) #Fitting the model"
   ]
  },
  {
   "cell_type": "code",
   "execution_count": 121,
   "metadata": {},
   "outputs": [
    {
     "data": {
      "image/png": "[encoded data removed]",
      "text/plain": [
       "<Figure size 432x288 with 1 Axes>"
      ]
     },
     "metadata": {
      "needs_background": "light"
     },
     "output_type": "display_data"
    },
    {
     "name": "stdout",
     "output_type": "stream",
     "text": [
      "Initial accuracy is:  0.7990674\n",
      "Final accuracy is:  0.988377\n",
      "Initial loss is:  0.5335605093392073\n",
      "Final loss is:  0.05435208598657912\n"
     ]
    }
   ],
   "source": [
    "#plotting model history\n",
    "plt.plot(mlp_gonogo_history.history['acc'])\n",
    "plt.plot(mlp_gonogo_history.history['loss'])\n",
    "plt.legend(['Accuracy', 'Loss'])\n",
    "plt.title('Model History')\n",
    "plt.ylabel('Value')\n",
    "plt.xlabel('epochs')\n",
    "plt.show()\n",
    "print(\"Initial accuracy is: \", mlp_gonogo_history.history['acc'][0])\n",
    "print(\"Final accuracy is: \", mlp_gonogo_history.history['acc'][-1])\n",
    "\n",
    "print(\"Initial loss is: \", mlp_gonogo_history.history['loss'][0])\n",
    "print(\"Final loss is: \", mlp_gonogo_history.history['loss'][-1])"
   ]
  },
  {
   "cell_type": "code",
   "execution_count": 122,
   "metadata": {},
   "outputs": [
    {
     "data": {
      "image/png": "[encoded data removed]",
      "text/plain": [
       "<Figure size 432x288 with 1 Axes>"
      ]
     },
     "metadata": {
      "needs_background": "light"
     },
     "output_type": "display_data"
    },
    {
     "name": "stdout",
     "output_type": "stream",
     "text": [
      "Initial Validation accuracy is:  0.8\n",
      "Final Validation accuracy is:  0.7916667\n",
      "Initial Validation loss is:  0.49953157901763917\n",
      "Final Validation loss is:  1.7003891825675965\n"
     ]
    }
   ],
   "source": [
    "#Plotting model history\n",
    "plt.plot(mlp_gonogo_history.history['val_acc'])\n",
    "plt.plot(mlp_gonogo_history.history['val_loss'])\n",
    "plt.legend(['Valdation Accuracy', 'Validation Loss'])\n",
    "plt.title('Validation History')\n",
    "plt.ylabel('Value')\n",
    "plt.xlabel('epochs')\n",
    "plt.show()\n",
    "print(\"Initial Validation accuracy is: \", mlp_gonogo_history.history['val_acc'][0])\n",
    "print(\"Final Validation accuracy is: \", mlp_gonogo_history.history['val_acc'][-1])\n",
    "\n",
    "print(\"Initial Validation loss is: \", mlp_gonogo_history.history['val_loss'][0])\n",
    "print(\"Final Validation loss is: \", mlp_gonogo_history.history['val_loss'][-1])"
   ]
  },
  {
   "cell_type": "code",
   "execution_count": null,
   "metadata": {},
   "outputs": [],
   "source": []
  },
  {
   "cell_type": "code",
   "execution_count": null,
   "metadata": {},
   "outputs": [],
   "source": []
  },
  {
   "cell_type": "code",
   "execution_count": 131,
   "metadata": {},
   "outputs": [
    {
     "name": "stdout",
     "output_type": "stream",
     "text": [
      "Hello\n"
     ]
    }
   ],
   "source": [
    "print('Hello')"
   ]
  },
  {
   "cell_type": "code",
   "execution_count": 132,
   "metadata": {},
   "outputs": [
    {
     "name": "stdout",
     "output_type": "stream",
     "text": [
      "1\n"
     ]
    }
   ],
   "source": [
    "print(len(tf.config.experimental.list_physical_devices('GPU')))"
   ]
  },
  {
   "cell_type": "code",
   "execution_count": 133,
   "metadata": {},
   "outputs": [],
   "source": [
    "import tensorflow as tf"
   ]
  },
  {
   "cell_type": "code",
   "execution_count": null,
   "metadata": {},
   "outputs": [],
   "source": []
  }
 ],
 "metadata": {
  "kernelspec": {
   "display_name": "Python 3",
   "language": "python",
   "name": "python3"
  },
  "language_info": {
   "codemirror_mode": {
    "name": "ipython",
    "version": 3
   },
   "file_extension": ".py",
   "mimetype": "text/x-python",
   "name": "python",
   "nbconvert_exporter": "python",
   "pygments_lexer": "ipython3",
   "version": "3.7.7"
  }
 },
 "nbformat": 4,
 "nbformat_minor": 4
}
