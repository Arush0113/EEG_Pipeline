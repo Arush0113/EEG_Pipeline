{
 "cells": [
  {
   "cell_type": "code",
   "execution_count": 1,
   "metadata": {},
   "outputs": [
    {
     "name": "stdout",
     "output_type": "stream",
     "text": [
      "0.23.0\n"
     ]
    }
   ],
   "source": [
    "import matplotlib\n",
    "import pathlib\n",
    "\n",
    "import mne\n",
    "print(mne.__version__)\n",
    "import mne_bids\n"
   ]
  },
  {
   "cell_type": "code",
   "execution_count": 2,
   "metadata": {},
   "outputs": [],
   "source": [
    "matplotlib.use('Qt5Agg')"
   ]
  },
  {
   "cell_type": "code",
   "execution_count": null,
   "metadata": {},
   "outputs": [],
   "source": [
    "# bids_root = pathlib.Path('data')\n",
    "\n",
    "# bids_path = mne_bids.BIDSPath(subject = 'AB6',\n",
    "#                              task = 'gonogo',\n",
    "#                              datatype = 'eeg',\n",
    "#                              root = bids_root,\n",
    "#                              run = '1')\n",
    "\n",
    "# bids_path = mne_bids.BIDSPath(subject = 'AB6',\n",
    "# #                              session = '1',\n",
    "#                              datatype = 'eeg',\n",
    "#                              run = '1',\n",
    "#                              task = 'gonogo',\n",
    "#                              root = bids_root)\n",
    "\n",
    "\n"
   ]
  },
  {
   "cell_type": "code",
   "execution_count": null,
   "metadata": {},
   "outputs": [],
   "source": [
    "# path1 = pathlib.Path('data/sub-AB6/eeg/sub-AB6_task-gonogo_run-1_eeg.set')\n",
    "\n",
    "# raw = mne.io.read_raw_eeglab(path1)\n",
    "# raw.load_data()\n",
    "\n",
    "# events = mne.find_events(raw)\n",
    "# event_id = {\n",
    "#     'Auditory/Left': 1,\n",
    "#     'Auditory/Right': 2,\n",
    "#     'Visual/Left': 3,\n",
    "#     'Visual/Right': 4,\n",
    "#     'Smiley': 5,\n",
    "#     'Button': 32\n",
    "# }"
   ]
  },
  {
   "cell_type": "code",
   "execution_count": null,
   "metadata": {},
   "outputs": [],
   "source": [
    "# raw = mne_bids.read_raw_bids(bids_path)\n",
    "# raw.load_data()\n",
    "# raw.data()\n",
    "# raw.filter(l_freq = 0.1, h_freq = 40)\n",
    "# events, event_id = mne.events_from_annotations(raw)"
   ]
  },
  {
   "cell_type": "markdown",
   "metadata": {},
   "source": [
    "## Reading the data using EEGLAB module"
   ]
  },
  {
   "cell_type": "code",
   "execution_count": null,
   "metadata": {},
   "outputs": [],
   "source": [
    "#paths Arush\n",
    "path_AB6_gonogo1 = 'data/sub-AB6/eeg/sub-AB6_task-gonogo_run-1_eeg.set'\n",
    "path_AB6_gonogo2 = 'data/sub-AB6/eeg/sub-AB6_task-gonogo_run-2_eeg.set'\n",
    "path_AB10_gonogo1 = 'data/other subjects set files/sub-AB10_eeg_sub-AB10_task-gonogo_run-1_eeg.set'\n",
    "path_AB10_gonogo2 = 'data/other subjects set files/sub-AB10_eeg_sub-AB10_task-gonogo_run-2_eeg.set'\n",
    "path_AB12_gonogo1 = 'data/other subjects set files/sub-AB12_eeg_sub-AB10_task-gonogo_run-1_eeg.set'\n",
    "path_AB12_gonogo2 = 'data/other subjects set files/sub-AB12_eeg_sub-AB10_task-gonogo_run-2_eeg.set'\n",
    "path_AB13_gonogo1 = 'data/other subjects set files/sub-AB13_eeg_sub-AB10_task-gonogo_run-1_eeg.set'\n",
    "path_AB13_gonogo2 = 'data/other subjects set files/sub-AB13_eeg_sub-AB10_task-gonogo_run-2_eeg.set'\n",
    "path_AB28_gonogo1 = 'data/other subjects set files/sub-AB28_eeg_sub-AB10_task-gonogo_run-1_eeg.set'\n",
    "path_AB28_gonogo2 = 'data/other subjects set files/sub-AB28_eeg_sub-AB10_task-gonogo_run-2_eeg.set'\n",
    "path_AB31_gonogo1 = 'data/other subjects set files/sub-AB31_eeg_sub-AB10_task-gonogo_run-1_eeg.set'\n",
    "path_AB31_gonogo2 = 'data/other subjects set files/sub-AB31_eeg_sub-AB10_task-gonogo_run-2_eeg.set'\n",
    "path_AB32_gonogo1 = 'data/other subjects set files/sub-AB32_eeg_sub-AB10_task-gonogo_run-1_eeg.set'\n",
    "path_AB32_gonogo2 = 'data/other subjects set files/sub-AB32_eeg_sub-AB10_task-gonogo_run-2_eeg.set'"
   ]
  },
  {
   "cell_type": "code",
   "execution_count": 3,
   "metadata": {},
   "outputs": [],
   "source": [
    "#paths Sahil\n",
    "path_AB6_gonogo1 = 'data/sub-AB6_task-gonogo_run-1_eeg.set'\n",
    "path_AB6_gonogo2 = 'data/sub-AB6_task-gonogo_run-2_eeg.set'\n",
    "path_AB10_gonogo1 = 'data/sub-AB10_task-gonogo_run-1_eeg.set'\n",
    "path_AB10_gonogo2 = 'data/sub-AB10_task-gonogo_run-2_eeg.set'\n",
    "path_AB12_gonogo1 = 'data/sub-AB12_task-gonogo_run-1_eeg.set'\n",
    "path_AB12_gonogo2 = 'data/sub-AB12_task-gonogo_run-2_eeg.set'\n",
    "path_AB13_gonogo1 = 'data/sub-AB13_task-gonogo_run-1_eeg.set'\n",
    "path_AB13_gonogo2 = 'data/sub-AB13_task-gonogo_run-2_eeg.set'\n",
    "path_AB28_gonogo1 = 'data/sub-AB28_task-gonogo_run-1_eeg.set'\n",
    "path_AB28_gonogo2 = 'data/sub-AB28_task-gonogo_run-2_eeg.set'\n",
    "path_AB31_gonogo1 = 'data/sub-AB31_task-gonogo_run-1_eeg.set'\n",
    "path_AB31_gonogo2 = 'data/sub-AB31_task-gonogo_run-2_eeg.set'\n",
    "path_AB32_gonogo1 = 'data/sub-AB32_task-gonogo_run-1_eeg.set'\n",
    "path_AB32_gonogo2 = 'data/sub-AB32_task-gonogo_run-2_eeg.set'"
   ]
  },
  {
   "cell_type": "code",
   "execution_count": 4,
   "metadata": {},
   "outputs": [],
   "source": [
    "rawab6_1 = mne.io.read_raw_eeglab(path_AB6_gonogo1, eog=(), preload=True, uint16_codec=None, verbose=None)\n",
    "rawab6_2 = mne.io.read_raw_eeglab(path_AB6_gonogo2, eog=(), preload=True, uint16_codec=None, verbose=None)\n",
    "\n",
    "rawab10_1 = mne.io.read_raw_eeglab(path_AB10_gonogo1, eog=(), preload=True, uint16_codec=None, verbose=None)\n",
    "rawab10_2 = mne.io.read_raw_eeglab(path_AB10_gonogo2, eog=(), preload=True, uint16_codec=None, verbose=None)\n",
    "\n",
    "# rawab11_1 = mne.io.read_raw_eeglab('data/other subjects set files/sub-AB11_eeg_sub-AB11_task-gonogo_run-1_eeg.set', eog=(), preload=True, uint16_codec=None, verbose=None)\n",
    "# rawab11_2 = mne.io.read_raw_eeglab('data/other subjects set files/sub-AB11_eeg_sub-AB11_task-gonogo_run-2_eeg.set', eog=(), preload=True, uint16_codec=None, verbose=None)\n",
    "\n",
    "rawab12_1 = mne.io.read_raw_eeglab(path_AB12_gonogo1, eog=(), preload=True, uint16_codec=None, verbose=None)\n",
    "rawab12_2 = mne.io.read_raw_eeglab(path_AB12_gonogo2, eog=(), preload=True, uint16_codec=None, verbose=None)\n",
    "\n",
    "rawab13_1 = mne.io.read_raw_eeglab(path_AB13_gonogo1, eog=(), preload=True, uint16_codec=None, verbose=None)\n",
    "rawab13_2 = mne.io.read_raw_eeglab(path_AB13_gonogo1, eog=(), preload=True, uint16_codec=None, verbose=None)\n",
    "\n",
    "rawab28_1 = mne.io.read_raw_eeglab(path_AB28_gonogo1, eog=(), preload=True, uint16_codec=None, verbose=None)\n",
    "rawab28_2 = mne.io.read_raw_eeglab(path_AB28_gonogo2, eog=(), preload=True, uint16_codec=None, verbose=None)\n",
    "\n",
    "rawab31_1 = mne.io.read_raw_eeglab(path_AB31_gonogo1, eog=(), preload=True, uint16_codec=None, verbose=None)\n",
    "rawab31_2 = mne.io.read_raw_eeglab(path_AB31_gonogo2, eog=(), preload=True, uint16_codec=None, verbose=None)\n",
    "\n",
    "rawab32_1 = mne.io.read_raw_eeglab(path_AB32_gonogo1, eog=(), preload=True, uint16_codec=None, verbose=None)\n",
    "rawab32_2 = mne.io.read_raw_eeglab(path_AB32_gonogo2, eog=(), preload=True, uint16_codec=None, verbose=None)\n"
   ]
  },
  {
   "cell_type": "code",
   "execution_count": 14,
   "metadata": {},
   "outputs": [
    {
     "data": {
      "text/plain": [
       "['AF3',\n",
       " 'AF4',\n",
       " 'F7',\n",
       " 'F5',\n",
       " 'F3',\n",
       " 'F1',\n",
       " 'Fz',\n",
       " 'F2',\n",
       " 'F4',\n",
       " 'F6',\n",
       " 'F8',\n",
       " 'FT7',\n",
       " 'FC5',\n",
       " 'FC3',\n",
       " 'FC1',\n",
       " 'FCz',\n",
       " 'FC2',\n",
       " 'FC4',\n",
       " 'FC6',\n",
       " 'FT8',\n",
       " 'T7',\n",
       " 'C5',\n",
       " 'C3',\n",
       " 'C1',\n",
       " 'Cz',\n",
       " 'C2',\n",
       " 'C4',\n",
       " 'C6',\n",
       " 'T8',\n",
       " 'M1',\n",
       " 'TP7',\n",
       " 'CP5',\n",
       " 'CP3',\n",
       " 'CP1',\n",
       " 'CPz',\n",
       " 'CP2',\n",
       " 'CP4',\n",
       " 'CP6',\n",
       " 'TP8',\n",
       " 'M2',\n",
       " 'P7',\n",
       " 'P5',\n",
       " 'P3',\n",
       " 'P1',\n",
       " 'Pz',\n",
       " 'P2',\n",
       " 'P4',\n",
       " 'P6',\n",
       " 'P8',\n",
       " 'PO7',\n",
       " 'PO5',\n",
       " 'PO3',\n",
       " 'POz',\n",
       " 'PO4',\n",
       " 'PO6',\n",
       " 'PO8',\n",
       " 'CB1',\n",
       " 'O1',\n",
       " 'Oz',\n",
       " 'O2',\n",
       " 'CB2',\n",
       " 'VEO',\n",
       " 'HEO',\n",
       " 'EKG',\n",
       " 'R-Dia-X-(mm)',\n",
       " 'R-Dia-Y-(mm)']"
      ]
     },
     "execution_count": 14,
     "metadata": {},
     "output_type": "execute_result"
    }
   ],
   "source": [
    "rawab10_1.info.ch_names"
   ]
  },
  {
   "cell_type": "code",
   "execution_count": 15,
   "metadata": {},
   "outputs": [
    {
     "data": {
      "text/plain": [
       "<MNEBrowseFigure size 1920x873 with 4 Axes>"
      ]
     },
     "execution_count": 15,
     "metadata": {},
     "output_type": "execute_result"
    },
    {
     "name": "stdout",
     "output_type": "stream",
     "text": [
      "Channels marked as bad: none\n",
      "Channels marked as bad: none\n"
     ]
    }
   ],
   "source": [
    "rawab6_1.plot()\n",
    "rawab10_1.plot()\n",
    "rawab12_1.plot()\n",
    "rawab13_1.plot()\n"
   ]
  },
  {
   "cell_type": "code",
   "execution_count": 17,
   "metadata": {},
   "outputs": [
    {
     "data": {
      "text/html": [
       "<div>\n",
       "<style scoped>\n",
       "    .dataframe tbody tr th:only-of-type {\n",
       "        vertical-align: middle;\n",
       "    }\n",
       "\n",
       "    .dataframe tbody tr th {\n",
       "        vertical-align: top;\n",
       "    }\n",
       "\n",
       "    .dataframe thead th {\n",
       "        text-align: right;\n",
       "    }\n",
       "</style>\n",
       "<table border=\"1\" class=\"dataframe\">\n",
       "  <thead>\n",
       "    <tr style=\"text-align: right;\">\n",
       "      <th></th>\n",
       "      <th>name</th>\n",
       "      <th>type</th>\n",
       "      <th>units</th>\n",
       "    </tr>\n",
       "  </thead>\n",
       "  <tbody>\n",
       "    <tr>\n",
       "      <th>0</th>\n",
       "      <td>AF3</td>\n",
       "      <td>EEG</td>\n",
       "      <td>uV</td>\n",
       "    </tr>\n",
       "    <tr>\n",
       "      <th>1</th>\n",
       "      <td>AF4</td>\n",
       "      <td>EEG</td>\n",
       "      <td>uV</td>\n",
       "    </tr>\n",
       "    <tr>\n",
       "      <th>2</th>\n",
       "      <td>F7</td>\n",
       "      <td>EEG</td>\n",
       "      <td>uV</td>\n",
       "    </tr>\n",
       "    <tr>\n",
       "      <th>3</th>\n",
       "      <td>F5</td>\n",
       "      <td>EEG</td>\n",
       "      <td>uV</td>\n",
       "    </tr>\n",
       "    <tr>\n",
       "      <th>4</th>\n",
       "      <td>F3</td>\n",
       "      <td>EEG</td>\n",
       "      <td>uV</td>\n",
       "    </tr>\n",
       "    <tr>\n",
       "      <th>...</th>\n",
       "      <td>...</td>\n",
       "      <td>...</td>\n",
       "      <td>...</td>\n",
       "    </tr>\n",
       "    <tr>\n",
       "      <th>61</th>\n",
       "      <td>VEO</td>\n",
       "      <td>VEOG</td>\n",
       "      <td>uV</td>\n",
       "    </tr>\n",
       "    <tr>\n",
       "      <th>62</th>\n",
       "      <td>HEO</td>\n",
       "      <td>HEOG</td>\n",
       "      <td>uV</td>\n",
       "    </tr>\n",
       "    <tr>\n",
       "      <th>63</th>\n",
       "      <td>EKG</td>\n",
       "      <td>ECG</td>\n",
       "      <td>uV</td>\n",
       "    </tr>\n",
       "    <tr>\n",
       "      <th>64</th>\n",
       "      <td>R-Dia-X-(mm)</td>\n",
       "      <td>PUPIL</td>\n",
       "      <td>mm</td>\n",
       "    </tr>\n",
       "    <tr>\n",
       "      <th>65</th>\n",
       "      <td>R-Dia-Y-(mm)</td>\n",
       "      <td>PUPIL</td>\n",
       "      <td>mm</td>\n",
       "    </tr>\n",
       "  </tbody>\n",
       "</table>\n",
       "<p>66 rows × 3 columns</p>\n",
       "</div>"
      ],
      "text/plain": [
       "            name   type units\n",
       "0            AF3    EEG    uV\n",
       "1            AF4    EEG    uV\n",
       "2             F7    EEG    uV\n",
       "3             F5    EEG    uV\n",
       "4             F3    EEG    uV\n",
       "..           ...    ...   ...\n",
       "61           VEO   VEOG    uV\n",
       "62           HEO   HEOG    uV\n",
       "63           EKG    ECG    uV\n",
       "64  R-Dia-X-(mm)  PUPIL    mm\n",
       "65  R-Dia-Y-(mm)  PUPIL    mm\n",
       "\n",
       "[66 rows x 3 columns]"
      ]
     },
     "execution_count": 17,
     "metadata": {},
     "output_type": "execute_result"
    }
   ],
   "source": [
    "import pandas as pd\n",
    "eeg_channel_types = pd.read_csv('data\\sub-AB10_eeg_sub-AB10_task-gonogo_run-1_channels.tsv', delimiter = '\\t')\n",
    "eeg_channel_types"
   ]
  },
  {
   "cell_type": "code",
   "execution_count": 39,
   "metadata": {},
   "outputs": [
    {
     "ename": "ValueError",
     "evalue": "This channel name (name) doesn't exist in info.",
     "output_type": "error",
     "traceback": [
      "\u001b[1;31m---------------------------------------------------------------------------\u001b[0m",
      "\u001b[1;31mValueError\u001b[0m                                Traceback (most recent call last)",
      "\u001b[1;32m<ipython-input-39-a7a08cc7fc0a>\u001b[0m in \u001b[0;36m<module>\u001b[1;34m\u001b[0m\n\u001b[1;32m----> 1\u001b[1;33m \u001b[0mrawab12_1\u001b[0m\u001b[1;33m.\u001b[0m\u001b[0mset_channel_types\u001b[0m\u001b[1;33m(\u001b[0m\u001b[0meeg_channel_types\u001b[0m\u001b[1;33m)\u001b[0m\u001b[1;33m\u001b[0m\u001b[1;33m\u001b[0m\u001b[0m\n\u001b[0m\u001b[0;32m      2\u001b[0m \u001b[0mrawab12_1\u001b[0m\u001b[1;33m\u001b[0m\u001b[1;33m\u001b[0m\u001b[0m\n",
      "\u001b[1;32m<decorator-gen-34>\u001b[0m in \u001b[0;36mset_channel_types\u001b[1;34m(self, mapping, verbose)\u001b[0m\n",
      "\u001b[1;32mD:\\Softwares\\Anaconda\\lib\\site-packages\\mne\\channels\\channels.py\u001b[0m in \u001b[0;36mset_channel_types\u001b[1;34m(self, mapping, verbose)\u001b[0m\n\u001b[0;32m    430\u001b[0m             \u001b[1;32mif\u001b[0m \u001b[0mch_name\u001b[0m \u001b[1;32mnot\u001b[0m \u001b[1;32min\u001b[0m \u001b[0mch_names\u001b[0m\u001b[1;33m:\u001b[0m\u001b[1;33m\u001b[0m\u001b[1;33m\u001b[0m\u001b[0m\n\u001b[0;32m    431\u001b[0m                 raise ValueError(\"This channel name (%s) doesn't exist in \"\n\u001b[1;32m--> 432\u001b[1;33m                                  \"info.\" % ch_name)\n\u001b[0m\u001b[0;32m    433\u001b[0m \u001b[1;33m\u001b[0m\u001b[0m\n\u001b[0;32m    434\u001b[0m             \u001b[0mc_ind\u001b[0m \u001b[1;33m=\u001b[0m \u001b[0mch_names\u001b[0m\u001b[1;33m.\u001b[0m\u001b[0mindex\u001b[0m\u001b[1;33m(\u001b[0m\u001b[0mch_name\u001b[0m\u001b[1;33m)\u001b[0m\u001b[1;33m\u001b[0m\u001b[1;33m\u001b[0m\u001b[0m\n",
      "\u001b[1;31mValueError\u001b[0m: This channel name (name) doesn't exist in info."
     ]
    }
   ],
   "source": [
    "rawab12_1.set_channel_types(eeg_channel_types)\n",
    "rawab12_1"
   ]
  },
  {
   "cell_type": "code",
   "execution_count": 41,
   "metadata": {},
   "outputs": [
    {
     "data": {
      "text/html": [
       "\n",
       "\n",
       "<table class=\"table table-hover\">\n",
       "    <tr>\n",
       "        <th>Measurement date</th>\n",
       "<td>Unknown</td>\n",
       "    </tr>\n",
       "    <tr>\n",
       "        <th>Experimenter</th>\n",
       "<td>Unknown</td>\n",
       "    </tr>\n",
       "        <th>Participant</th>\n",
       "<td>Unknown</td>\n",
       "    </tr>\n",
       "    <tr>\n",
       "        <th>Digitized points</th>\n",
       "        <td>66 points</td>\n",
       "    </tr>\n",
       "    <tr>\n",
       "        <th>Good channels</th>\n",
       "        <td>0 magnetometer, 0 gradiometer,\n",
       "            and 61 EEG channels</td>\n",
       "    </tr>\n",
       "    <tr>\n",
       "        <th>Bad channels</th>\n",
       "        <td></td>\n",
       "        \n",
       "    </tr>\n",
       "    <tr>\n",
       "        <th>EOG channels</th>\n",
       "        <td>VEO, HEO</td>\n",
       "    </tr>\n",
       "    <tr>\n",
       "        <th>ECG channels</th>\n",
       "        <td>EKG</td>\n",
       "    <tr>\n",
       "        <th>Sampling frequency</th>\n",
       "        <td>500.00 Hz</td>\n",
       "    </tr>\n",
       "    <tr>\n",
       "        <th>Highpass</th>\n",
       "        <td>0.00 Hz</td>\n",
       "    </tr>\n",
       "     <tr>\n",
       "        <th>Lowpass</th>\n",
       "        <td>250.00 Hz</td>\n",
       "    </tr>\n",
       "\n",
       "    <tr>\n",
       "        <th>Filenames</th>\n",
       "        <td>sub-AB12_task-gonogo_run-1_eeg.set</td>\n",
       "    </tr>\n",
       "    <tr>\n",
       "        <th>Duration</th>\n",
       "        <td>00:08:24 (HH:MM:SS)</td>\n",
       "    </tr>\n",
       "</table>\n"
      ],
      "text/plain": [
       "<RawEEGLAB | sub-AB12_task-gonogo_run-1_eeg.set, 66 x 252180 (504.4 s), ~127.1 MB, data loaded>"
      ]
     },
     "execution_count": 41,
     "metadata": {},
     "output_type": "execute_result"
    },
    {
     "name": "stdout",
     "output_type": "stream",
     "text": [
      "Channels marked as bad: none\n",
      "Channels marked as bad: none\n"
     ]
    }
   ],
   "source": [
    "rawab12_1.set_channel_types(channel_types)"
   ]
  },
  {
   "cell_type": "code",
   "execution_count": 43,
   "metadata": {},
   "outputs": [
    {
     "data": {
      "text/plain": [
       "<MNEBrowseFigure size 1920x869 with 4 Axes>"
      ]
     },
     "execution_count": 43,
     "metadata": {},
     "output_type": "execute_result"
    },
    {
     "name": "stdout",
     "output_type": "stream",
     "text": [
      "Channels marked as bad: none\n"
     ]
    }
   ],
   "source": [
    "rawab12_1.plot()"
   ]
  },
  {
   "cell_type": "code",
   "execution_count": 26,
   "metadata": {},
   "outputs": [
    {
     "data": {
      "text/plain": [
       "(66, 3)"
      ]
     },
     "execution_count": 26,
     "metadata": {},
     "output_type": "execute_result"
    }
   ],
   "source": [
    "eeg_channel_types.shape"
   ]
  },
  {
   "cell_type": "code",
   "execution_count": 38,
   "metadata": {},
   "outputs": [
    {
     "data": {
      "text/plain": [
       "{'AF3': 'eeg',\n",
       " 'AF4': 'eeg',\n",
       " 'F7': 'eeg',\n",
       " 'F5': 'eeg',\n",
       " 'F3': 'eeg',\n",
       " 'F1': 'eeg',\n",
       " 'Fz': 'eeg',\n",
       " 'F2': 'eeg',\n",
       " 'F4': 'eeg',\n",
       " 'F6': 'eeg',\n",
       " 'F8': 'eeg',\n",
       " 'FT7': 'eeg',\n",
       " 'FC5': 'eeg',\n",
       " 'FC3': 'eeg',\n",
       " 'FC1': 'eeg',\n",
       " 'FCz': 'eeg',\n",
       " 'FC2': 'eeg',\n",
       " 'FC4': 'eeg',\n",
       " 'FC6': 'eeg',\n",
       " 'FT8': 'eeg',\n",
       " 'T7': 'eeg',\n",
       " 'C5': 'eeg',\n",
       " 'C3': 'eeg',\n",
       " 'C1': 'eeg',\n",
       " 'Cz': 'eeg',\n",
       " 'C2': 'eeg',\n",
       " 'C4': 'eeg',\n",
       " 'C6': 'eeg',\n",
       " 'T8': 'eeg',\n",
       " 'M1': 'eeg',\n",
       " 'TP7': 'eeg',\n",
       " 'CP5': 'eeg',\n",
       " 'CP3': 'eeg',\n",
       " 'CP1': 'eeg',\n",
       " 'CPz': 'eeg',\n",
       " 'CP2': 'eeg',\n",
       " 'CP4': 'eeg',\n",
       " 'CP6': 'eeg',\n",
       " 'TP8': 'eeg',\n",
       " 'M2': 'eeg',\n",
       " 'P7': 'eeg',\n",
       " 'P5': 'eeg',\n",
       " 'P3': 'eeg',\n",
       " 'P1': 'eeg',\n",
       " 'Pz': 'eeg',\n",
       " 'P2': 'eeg',\n",
       " 'P4': 'eeg',\n",
       " 'P6': 'eeg',\n",
       " 'P8': 'eeg',\n",
       " 'PO7': 'eeg',\n",
       " 'PO5': 'eeg',\n",
       " 'PO3': 'eeg',\n",
       " 'POz': 'eeg',\n",
       " 'PO4': 'eeg',\n",
       " 'PO6': 'eeg',\n",
       " 'PO8': 'eeg',\n",
       " 'CB1': 'eeg',\n",
       " 'O1': 'eeg',\n",
       " 'Oz': 'eeg',\n",
       " 'O2': 'eeg',\n",
       " 'CB2': 'eeg',\n",
       " 'VEO': 'eog',\n",
       " 'HEO': 'eog',\n",
       " 'EKG': 'ecg',\n",
       " 'R-Dia-X-(mm)': 'misc',\n",
       " 'R-Dia-Y-(mm)': 'misc'}"
      ]
     },
     "execution_count": 38,
     "metadata": {},
     "output_type": "execute_result"
    }
   ],
   "source": [
    "channel_types = {}\n",
    "for i in range(eeg_channel_types.shape[0]):\n",
    "    channel_types[eeg_channel_types['name'][i]] = eeg_channel_types['type'][i].lower()\n",
    "\n",
    "channel_types['HEO'] = 'eog'\n",
    "channel_types['VEO'] = 'eog'\n",
    "channel_types['R-Dia-X-(mm)'] = 'misc'\n",
    "channel_types['R-Dia-Y-(mm)'] = 'misc'\n",
    "channel_types"
   ]
  },
  {
   "cell_type": "code",
   "execution_count": 10,
   "metadata": {},
   "outputs": [
    {
     "name": "stdout",
     "output_type": "stream",
     "text": [
      "Filtering raw data in 1 contiguous segment\n",
      "Setting up band-pass filter from 0.5 - 60 Hz\n",
      "\n",
      "FIR filter parameters\n",
      "---------------------\n",
      "Designing a one-pass, zero-phase, non-causal bandpass filter:\n",
      "- Windowed time-domain design (firwin) method\n",
      "- Hamming window with 0.0194 passband ripple and 53 dB stopband attenuation\n",
      "- Lower passband edge: 0.50\n",
      "- Lower transition bandwidth: 0.50 Hz (-6 dB cutoff frequency: 0.25 Hz)\n",
      "- Upper passband edge: 60.00 Hz\n",
      "- Upper transition bandwidth: 15.00 Hz (-6 dB cutoff frequency: 67.50 Hz)\n",
      "- Filter length: 3301 samples (6.602 sec)\n",
      "\n"
     ]
    },
    {
     "data": {
      "text/plain": [
       "<MNEBrowseFigure size 1920x878 with 4 Axes>"
      ]
     },
     "execution_count": 10,
     "metadata": {},
     "output_type": "execute_result"
    },
    {
     "name": "stdout",
     "output_type": "stream",
     "text": [
      "Channels marked as bad: none\n"
     ]
    }
   ],
   "source": [
    "rawab28_2.copy().filter(0.5, 60).plot()"
   ]
  },
  {
   "cell_type": "code",
   "execution_count": 44,
   "metadata": {},
   "outputs": [
    {
     "name": "stdout",
     "output_type": "stream",
     "text": [
      "64\n",
      "The 64 eeg channels indices are:\n",
      "[ 0  1  2  3  4  5  6  7  8  9 10 11 12 13 14 15 16 17 18 19 20 21 22 23\n",
      " 24 25 26 27 28 29 30 31 32 33 34 35 36 37 38 39 40 41 42 43 44 45 46 47\n",
      " 48 49 50 51 52 53 54 55 56 57 58 59 60 61 62 63]\n",
      "66\n",
      "The 66 eeg channels indices are:\n",
      "[ 0  1  2  3  4  5  6  7  8  9 10 11 12 13 14 15 16 17 18 19 20 21 22 23\n",
      " 24 25 26 27 28 29 30 31 32 33 34 35 36 37 38 39 40 41 42 43 44 45 46 47\n",
      " 48 49 50 51 52 53 54 55 56 57 58 59 60 61 62 63 64 65]\n"
     ]
    }
   ],
   "source": [
    "rawab10_1.info\n",
    "# rawab6_2.info\n",
    "channel_indices_ab6_1 = mne.pick_types(rawab6_1.info, eeg=True)\n",
    "channel_indices_ab13_1 = mne.pick_types(rawab13_1.info, eeg=True)\n",
    "print(len(channel_indices_ab6_1))\n",
    "print(f\"The {len(channel_indices_ab6_1)} eeg channels indices are:\\n{channel_indices_ab6_1}\")\n",
    "print(len(channel_indices_ab13_1))\n",
    "print(f\"The {len(channel_indices_ab13_1)} eeg channels indices are:\\n{channel_indices_ab13_1}\")"
   ]
  },
  {
   "cell_type": "code",
   "execution_count": null,
   "metadata": {},
   "outputs": [],
   "source": [
    "# eeg_indices = mne.pick_types(rawab13_1.info, meg=False, eeg=True)\n",
    "# reduced_info = mne.pick_info(rawab13_1.info, eeg_indices)\n",
    "# reduced_info"
   ]
  },
  {
   "cell_type": "markdown",
   "metadata": {},
   "source": [
    "## Generating the events for all Subjects"
   ]
  },
  {
   "cell_type": "code",
   "execution_count": null,
   "metadata": {},
   "outputs": [],
   "source": [
    "eventsab6_1 = mne.events_from_annotations(rawab6_1)\n",
    "eventsab6_2 = mne.events_from_annotations(rawab6_2)\n",
    "\n",
    "eventsab10_1 = mne.events_from_annotations(rawab10_1)\n",
    "eventsab10_2 = mne.events_from_annotations(rawab10_2)\n",
    "\n",
    "eventsab12_1 = mne.events_from_annotations(rawab12_1)\n",
    "eventsab12_2 = mne.events_from_annotations(rawab12_2)\n",
    "\n",
    "eventsab13_1 = mne.events_from_annotations(rawab13_1)\n",
    "eventsab13_2 = mne.events_from_annotations(rawab13_2)\n",
    "\n",
    "eventsab28_1 = mne.events_from_annotations(rawab28_1)\n",
    "eventsab28_2 = mne.events_from_annotations(rawab28_2)\n",
    "\n",
    "eventsab31_1 = mne.events_from_annotations(rawab31_1)\n",
    "eventsab31_2 = mne.events_from_annotations(rawab31_2)\n",
    "\n",
    "eventsab32_1 = mne.events_from_annotations(rawab32_1)\n",
    "eventsab32_2 = mne.events_from_annotations(rawab32_2)\n",
    "# events"
   ]
  },
  {
   "cell_type": "markdown",
   "metadata": {},
   "source": [
    "## Creating the event_id dictionary"
   ]
  },
  {
   "cell_type": "code",
   "execution_count": null,
   "metadata": {},
   "outputs": [],
   "source": [
    "event_id = {\n",
    "    \"taskstart\" : '9',\n",
    "    \"cue\" : \"1\",\n",
    "    \"go\" : \"2\",\n",
    "    \"button press\" : \"5\",\n",
    "    \"no-go\" : \"4\",\n",
    "    \"task end\": \"10\"\n",
    "}\n",
    "event_id"
   ]
  },
  {
   "cell_type": "markdown",
   "metadata": {},
   "source": [
    "## Dropping unwanted channels from the various Subjects"
   ]
  },
  {
   "cell_type": "code",
   "execution_count": null,
   "metadata": {},
   "outputs": [],
   "source": [
    "rawab6_1.drop_channels(ch_names = \"EKG\")\n",
    "rawab6_2.drop_channels(ch_names = \"EKG\")\n",
    "\n",
    "rawab10_1.drop_channels(ch_names = [\"EKG\", \"R-Dia-X-(mm)\", \"R-Dia-Y-(mm)\"])\n",
    "rawab10_2.drop_channels(ch_names = [\"EKG\", \"R-Dia-X-(mm)\", \"R-Dia-Y-(mm)\"])\n",
    "\n",
    "rawab12_1.drop_channels(ch_names = [\"EKG\", \"R-Dia-X-(mm)\", \"R-Dia-Y-(mm)\"])\n",
    "rawab12_2.drop_channels(ch_names = [\"EKG\", \"R-Dia-X-(mm)\", \"R-Dia-Y-(mm)\"])\n",
    "\n",
    "rawab13_1.drop_channels(ch_names = [\"EKG\", \"R-Dia-X-(mm)\", \"R-Dia-Y-(mm)\"])\n",
    "rawab13_2.drop_channels(ch_names = [\"EKG\", \"R-Dia-X-(mm)\", \"R-Dia-Y-(mm)\"])\n",
    "\n",
    "rawab28_1.drop_channels(ch_names = [\"EKG\", \"R-Dia-X-(mm)\", \"R-Dia-Y-(mm)\"])\n",
    "rawab28_2.drop_channels(ch_names = [\"EKG\", \"R-Dia-X-(mm)\", \"R-Dia-Y-(mm)\"])\n",
    "\n",
    "rawab31_1.drop_channels(ch_names = [\"EKG\", \"R-Dia-X-(mm)\", \"R-Dia-Y-(mm)\"])\n",
    "rawab31_2.drop_channels(ch_names = [\"EKG\", \"R-Dia-X-(mm)\", \"R-Dia-Y-(mm)\"])\n",
    "\n",
    "rawab32_1.drop_channels(ch_names = [\"EKG\", \"R-Dia-X-(mm)\", \"R-Dia-Y-(mm)\"])\n",
    "rawab32_2.drop_channels(ch_names = [\"EKG\", \"R-Dia-X-(mm)\", \"R-Dia-Y-(mm)\"])\n",
    "\n",
    "# rawab14_1.drop_channels(ch_names = [\"EKG\", \"R-Dia-X-(mm)\", \"R-Dia-Y-(mm)\"])\n",
    "# rawab14_2.drop_channels(ch_names = [\"EKG\", \"R-Dia-X-(mm)\", \"R-Dia-Y-(mm)\"])"
   ]
  },
  {
   "cell_type": "markdown",
   "metadata": {},
   "source": [
    "## Plotting 2D and 3D positions of the 63 Sensors"
   ]
  },
  {
   "cell_type": "code",
   "execution_count": null,
   "metadata": {},
   "outputs": [],
   "source": [
    "rawab6_1.plot_sensors(ch_type = 'eeg', sphere = 10);\n",
    "# rawab6_2.plot_sensors(ch_type = 'eeg', sphere = 10);\n",
    "\n",
    "rawab10_1.plot_sensors(ch_type = 'eeg', sphere = 10);\n",
    "# rawab10_2.plot_sensors(ch_type = 'eeg', sphere = 10);\n",
    "\n",
    "rawab12_1.plot_sensors(ch_type = 'eeg', sphere = 10);\n",
    "# rawab12_2.plot_sensors(ch_type = 'eeg', sphere = 10);\n",
    "\n",
    "rawab13_1.plot_sensors(ch_type = 'eeg', sphere = 10);\n",
    "# rawab13_2.plot_sensors(ch_type = 'eeg', sphere = 10);\n",
    "\n",
    "rawab28_1.plot_sensors(ch_type = 'eeg', sphere = 10);\n",
    "# rawab28_2.plot_sensors(ch_type = 'eeg', sphere = 10);\n",
    "\n",
    "rawab31_1.plot_sensors(ch_type = 'eeg', sphere = 10);\n",
    "# rawab31_2.plot_sensors(ch_type = 'eeg', sphere = 10);\n",
    "\n",
    "rawab32_1.plot_sensors(ch_type = 'eeg', sphere = 10);\n",
    "# rawab32_2.plot_sensors(ch_type = 'eeg', sphere = 10);"
   ]
  },
  {
   "cell_type": "code",
   "execution_count": null,
   "metadata": {},
   "outputs": [],
   "source": [
    "rawab6_1.plot_sensors(ch_type = 'eeg', kind = '3d');\n",
    "# rawab6_2.plot_sensors(ch_type = 'eeg', kind = '3d');\n",
    "\n",
    "rawab10_1.plot_sensors(ch_type = 'eeg', kind = '3d');\n",
    "# rawab10_2.plot_sensors(ch_type = 'eeg', kind = '3d');\n",
    "\n",
    "rawab12_1.plot_sensors(ch_type = 'eeg', kind = '3d');\n",
    "# rawab12_2.plot_sensors(ch_type = 'eeg', kind = '3d');\n",
    "\n",
    "rawab13_1.plot_sensors(ch_type = 'eeg', kind = '3d');\n",
    "# rawab13_2.plot_sensors(ch_type = 'eeg', kind = '3d');\n",
    "\n",
    "rawab28_1.plot_sensors(ch_type = 'eeg', kind = '3d');\n",
    "# rawab28_2.plot_sensors(ch_type = 'eeg', kind = '3d');\n",
    "\n",
    "rawab31_1.plot_sensors(ch_type = 'eeg', kind = '3d');\n",
    "# rawab31_2.plot_sensors(ch_type = 'eeg', kind = '3d');\n",
    "\n",
    "rawab32_1.plot_sensors(ch_type = 'eeg', kind = '3d');\n",
    "# rawab32_2.plot_sensors(ch_type = 'eeg', kind = '3d');"
   ]
  },
  {
   "cell_type": "code",
   "execution_count": null,
   "metadata": {},
   "outputs": [],
   "source": [
    "# rawab6_1"
   ]
  },
  {
   "cell_type": "code",
   "execution_count": null,
   "metadata": {},
   "outputs": [],
   "source": [
    "# rawab6_1.plot_sensors(ch_type = 'eeg', sphere = 10)\n",
    "# rawab6_2.plot_sensors(ch_type = 'eeg', sphere = 10)"
   ]
  },
  {
   "cell_type": "markdown",
   "metadata": {},
   "source": [
    "## Implementing ICA and SSP Projections"
   ]
  },
  {
   "cell_type": "code",
   "execution_count": null,
   "metadata": {},
   "outputs": [],
   "source": [
    "ica = mne.preprocessing.ICA(n_components = 20, random_state = 42)"
   ]
  },
  {
   "cell_type": "code",
   "execution_count": null,
   "metadata": {},
   "outputs": [],
   "source": [
    "ica.exclude = [11, 14, 19]"
   ]
  },
  {
   "cell_type": "code",
   "execution_count": null,
   "metadata": {},
   "outputs": [],
   "source": [
    "# clean_ab6_1 = ica.apply(rawab6_1.copy().filter(1, 50), exclude = ica.exclude)\n",
    "# clean_ab6_2 = ica.apply(rawab6_2.copy().filter(1, 50), exclude = ica.exclude)\n",
    "# clean_ab6_1.plot();\n",
    "# clean_ab6_2.plot();"
   ]
  },
  {
   "cell_type": "code",
   "execution_count": null,
   "metadata": {},
   "outputs": [],
   "source": [
    "ica = mne.preprocessing.ICA(n_components = 20, random_state = 42)"
   ]
  },
  {
   "cell_type": "code",
   "execution_count": null,
   "metadata": {},
   "outputs": [],
   "source": [
    "ica.fit(rawab6_1.copy().filter(8, 35))\n",
    "ica.fit(rawab6_2.copy().filter(8, 35))"
   ]
  },
  {
   "cell_type": "code",
   "execution_count": null,
   "metadata": {},
   "outputs": [],
   "source": [
    "ica.plot_components(outlines = 'head', sphere = 10, ch_type = 'eeg')"
   ]
  },
  {
   "cell_type": "code",
   "execution_count": null,
   "metadata": {},
   "outputs": [],
   "source": [
    "# ecg_projs, ecg_events = mne.preprocessing.compute_proj_ecg(rawab6_1, n_grad = 1, n_mag = 1, n_eeg = 0,\n",
    "#                                                            average = True)\n",
    "# eog_projs, eog_events = mne.preprocessing.compute_proj_eog(raw, n_grad = 1, n_mag = 1, n_eeg = 0,\n",
    "#                                                            average = True)"
   ]
  },
  {
   "cell_type": "markdown",
   "metadata": {},
   "source": [
    "## Creating Epochs of data for different Subjects"
   ]
  },
  {
   "cell_type": "code",
   "execution_count": null,
   "metadata": {},
   "outputs": [],
   "source": [
    "# help(ica.plot_components)"
   ]
  },
  {
   "cell_type": "code",
   "execution_count": null,
   "metadata": {},
   "outputs": [],
   "source": [
    "epochsab6_1 = mne.Epochs(rawab6_1,\n",
    "                   events = eventsab6_1[0],\n",
    "                   event_id = eventsab6_1[1],)\n",
    "epochsab6_2 = mne.Epochs(rawab6_2,\n",
    "                   events = eventsab6_1[0],\n",
    "                   event_id = eventsab6_1[1],)\n",
    "\n",
    "epochsab10_1 = mne.Epochs(rawab10_1,\n",
    "                   events = eventsab10_1[0],\n",
    "                   event_id = eventsab10_1[1],)\n",
    "epochsab10_2 = mne.Epochs(rawab10_2,\n",
    "                   events = eventsab10_2[0],\n",
    "                   event_id = eventsab10_2[1],)\n",
    "\n",
    "epochsab12_1 = mne.Epochs(rawab12_1,\n",
    "                   events = eventsab12_1[0],\n",
    "                   event_id = eventsab12_1[1],)\n",
    "epochsab12_2 = mne.Epochs(rawab12_2,\n",
    "                   events = eventsab12_2[0],\n",
    "                   event_id = eventsab12_2[1],)\n",
    "\n",
    "epochsab13_1 = mne.Epochs(rawab13_1,\n",
    "                   events = eventsab13_1[0],\n",
    "                   event_id = eventsab13_1[1],)\n",
    "epochsab13_2 = mne.Epochs(rawab13_2,\n",
    "                   events = eventsab13_2[0],\n",
    "                   event_id = eventsab13_2[1],)\n",
    "\n",
    "epochsab28_1 = mne.Epochs(rawab28_1,\n",
    "                   events = eventsab28_1[0],\n",
    "                   event_id = eventsab28_1[1],)\n",
    "epochsab28_2 = mne.Epochs(rawab28_2,\n",
    "                   events = eventsab28_2[0],\n",
    "                   event_id = eventsab28_2[1],)\n",
    "\n",
    "epochsab31_1 = mne.Epochs(rawab31_1,\n",
    "                   events = eventsab31_1[0],\n",
    "                   event_id = eventsab31_1[1],)\n",
    "epochsab31_2 = mne.Epochs(rawab31_2,\n",
    "                   events = eventsab31_2[0],\n",
    "                   event_id = eventsab31_2[1],)\n",
    "\n",
    "epochsab32_1 = mne.Epochs(rawab32_1,\n",
    "                   events = eventsab32_1[0],\n",
    "                   event_id = eventsab32_1[1],)\n",
    "epochsab32_2 = mne.Epochs(rawab32_2,\n",
    "                   events = eventsab32_2[0],\n",
    "                   event_id = eventsab32_2[1],)\n",
    "\n",
    "# epochsab6_1.plot()"
   ]
  },
  {
   "cell_type": "code",
   "execution_count": null,
   "metadata": {},
   "outputs": [],
   "source": [
    "# rawab6_1 = ica.apply(rawab6_1.copy().filter(1, 50), exclude = ica.exclude)\n",
    "# raw_m.plot();"
   ]
  },
  {
   "cell_type": "markdown",
   "metadata": {},
   "source": [
    "## Applying Machine Learning Models for classification purposes"
   ]
  },
  {
   "cell_type": "code",
   "execution_count": null,
   "metadata": {},
   "outputs": [],
   "source": [
    "import numpy as np\n",
    "import tensorflow as tf\n",
    "import matplotlib.pyplot as plt\n",
    "%matplotlib inline\n",
    "\n",
    "from tensorflow.keras.models import Model, Sequential\n",
    "from tensorflow.keras.layers import Dense, Softmax\n",
    "from tensorflow.keras.optimizers import Adam"
   ]
  },
  {
   "cell_type": "code",
   "execution_count": null,
   "metadata": {},
   "outputs": [],
   "source": [
    "epochs_copyab6_1 = epochsab6_1.copy()\n",
    "dataab6_1 = epochs_copyab6_1.get_data()\n",
    "print(dataab6_1.shape)\n",
    "epochs_copyab6_2 = epochsab6_2.copy()\n",
    "dataab6_2 = epochs_copyab6_2.get_data()\n",
    "print(dataab6_2.shape)\n",
    "\n",
    "epochs_copyab10_1 = epochsab10_1.copy()\n",
    "dataab10_1 = epochs_copyab10_1.get_data()\n",
    "print(dataab10_1.shape)\n",
    "epochs_copyab10_2 = epochsab10_2.copy()\n",
    "dataab10_2 = epochs_copyab10_2.get_data()\n",
    "print(dataab10_2.shape)\n",
    "\n",
    "epochs_copyab12_1 = epochsab12_1.copy()\n",
    "dataab12_1 = epochs_copyab12_1.get_data()\n",
    "print(dataab12_1.shape)\n",
    "epochs_copyab12_2 = epochsab12_2.copy()\n",
    "dataab12_2 = epochs_copyab12_2.get_data()\n",
    "print(dataab12_2.shape)\n",
    "\n",
    "epochs_copyab13_1 = epochsab13_1.copy()\n",
    "dataab13_1 = epochs_copyab13_1.get_data()\n",
    "print(dataab13_1.shape)\n",
    "epochs_copyab13_2 = epochsab13_2.copy()\n",
    "dataab13_2 = epochs_copyab13_2.get_data()\n",
    "print(dataab13_2.shape)\n",
    "\n",
    "epochs_copyab28_1 = epochsab28_1.copy()\n",
    "dataab28_1 = epochs_copyab28_1.get_data()\n",
    "print(dataab28_1.shape)\n",
    "epochs_copyab28_2 = epochsab28_2.copy()\n",
    "dataab28_2 = epochs_copyab28_2.get_data()\n",
    "print(dataab28_2.shape)\n",
    "\n",
    "epochs_copyab31_1 = epochsab31_1.copy()\n",
    "dataab31_1 = epochs_copyab31_1.get_data()\n",
    "print(dataab31_1.shape)\n",
    "epochs_copyab31_2 = epochsab31_2.copy()\n",
    "dataab31_2 = epochs_copyab31_2.get_data()\n",
    "print(dataab31_2.shape)\n",
    "\n",
    "epochs_copyab32_1 = epochsab32_1.copy()\n",
    "dataab32_1 = epochs_copyab32_1.get_data()\n",
    "print(dataab32_1.shape)\n",
    "epochs_copyab32_2 = epochsab32_2.copy()\n",
    "dataab32_2 = epochs_copyab32_2.get_data()\n",
    "print(dataab32_2.shape)\n",
    "\n",
    "\n",
    "data = np.concatenate([dataab6_1, dataab6_2,\n",
    "                      dataab10_1, dataab10_2,\n",
    "                      dataab12_1, dataab12_2,\n",
    "                      dataab13_1, dataab13_2,\n",
    "                      dataab28_1, dataab28_2,\n",
    "                      dataab31_1, dataab31_2,\n",
    "                      dataab32_1, dataab32_2], \n",
    "                      axis = 0)\n",
    "data.shape"
   ]
  },
  {
   "cell_type": "code",
   "execution_count": null,
   "metadata": {},
   "outputs": [],
   "source": [
    "#Changing the shape of data from (events, channel, time points) to (events, time points, channel)\n",
    "datars = np.zeros((data.shape[0], data.shape[2], data.shape[1]))\n",
    "for i in range(datars.shape[0]):\n",
    "    datars[i] = np.transpose(data[i])\n",
    "datars.shape"
   ]
  },
  {
   "cell_type": "code",
   "execution_count": null,
   "metadata": {},
   "outputs": [],
   "source": [
    "n_trials = datars.shape[0]\n",
    "data = datars.reshape(n_trials, -1)\n",
    "print(datars.shape)\n",
    "dims_ip = datars.shape[1]\n",
    "# dims_ip"
   ]
  },
  {
   "cell_type": "code",
   "execution_count": null,
   "metadata": {},
   "outputs": [],
   "source": [
    "dims_ip"
   ]
  },
  {
   "cell_type": "code",
   "execution_count": null,
   "metadata": {},
   "outputs": [],
   "source": [
    "print(epochsab6_1.events.shape)\n",
    "epochsab6_1.events[0:20]"
   ]
  },
  {
   "cell_type": "code",
   "execution_count": 78,
   "metadata": {},
   "outputs": [
    {
     "data": {
      "text/plain": [
       "{'1': 1, '10': 2, '2': 3, '4': 4, '5': 5, '9': 6}"
      ]
     },
     "execution_count": 78,
     "metadata": {},
     "output_type": "execute_result"
    }
   ],
   "source": [
    "d = eventsab6_1[1]\n",
    "d"
   ]
  },
  {
   "cell_type": "code",
   "execution_count": 86,
   "metadata": {},
   "outputs": [
    {
     "data": {
      "text/plain": [
       "(152, 3)"
      ]
     },
     "execution_count": 86,
     "metadata": {},
     "output_type": "execute_result"
    }
   ],
   "source": [
    "epochsab6_1.events.shape"
   ]
  },
  {
   "cell_type": "code",
   "execution_count": 85,
   "metadata": {},
   "outputs": [
    {
     "data": {
      "text/plain": [
       "(152, 3)"
      ]
     },
     "execution_count": 85,
     "metadata": {},
     "output_type": "execute_result"
    }
   ],
   "source": [
    "eventsab6_1[0].shape"
   ]
  },
  {
   "cell_type": "code",
   "execution_count": null,
   "metadata": {},
   "outputs": [],
   "source": []
  },
  {
   "cell_type": "code",
   "execution_count": null,
   "metadata": {},
   "outputs": [],
   "source": [
    "ev_epochsab6_1 = epochsab6_1.events"
   ]
  },
  {
   "cell_type": "code",
   "execution_count": 87,
   "metadata": {},
   "outputs": [
    {
     "data": {
      "text/html": [
       "\n",
       "<table class=\"table table-hover\">\n",
       "    <tr>\n",
       "        <th>Number of events</th>\n",
       "        <td>152</td>\n",
       "    </tr>\n",
       "    <tr>\n",
       "        <th>Events</th>\n",
       "        <td>1: 60<br>10: 40<br>2: 0<br>4: 10<br>5: 40<br>9: 0<br></td>\n",
       "    </tr>\n",
       "    <tr>\n",
       "        <th>Time range</th>\n",
       "        <td>-0.200 – 0.500 sec</td>\n",
       "    </tr>\n",
       "    <tr>\n",
       "        <th>Baseline</th>\n",
       "        <td>-0.200 – 0.000 sec</td>\n",
       "    </tr>\n",
       "</table>\n"
      ],
      "text/plain": [
       "<Epochs |  152 events (good & bad), -0.2 - 0.5 sec, baseline -0.2 – 0 sec, ~87 kB, data not loaded,\n",
       " '1': 60\n",
       " '10': 40\n",
       " '2': 0\n",
       " '4': 10\n",
       " '5': 40\n",
       " '9': 0>"
      ]
     },
     "execution_count": 87,
     "metadata": {},
     "output_type": "execute_result"
    }
   ],
   "source": [
    "epochsab6_1"
   ]
  },
  {
   "cell_type": "code",
   "execution_count": 97,
   "metadata": {},
   "outputs": [],
   "source": [
    "#Changing event indicators(ex. 6 becomes 9)\n",
    "def get_keys_from_value(d, val):\n",
    "    return [k for k, v in d.items() if v == val]\n",
    "def fix_event_ids(epochsab, eventsab):\n",
    "    for i in range(epochsab.events.shape[0]):\n",
    "        epochsab.events[i][2] = int(get_keys_from_value(eventsab[1], epochsab.events[i][2])[0])"
   ]
  },
  {
   "cell_type": "code",
   "execution_count": 98,
   "metadata": {},
   "outputs": [],
   "source": [
    "fix_event_ids(epochsab10_1, eventsab10_1)"
   ]
  },
  {
   "cell_type": "code",
   "execution_count": 101,
   "metadata": {},
   "outputs": [
    {
     "data": {
      "text/plain": [
       "array([[ 4968,     0,     8],\n",
       "       [ 7636,     0,     1],\n",
       "       [ 8707,     0,     4],\n",
       "       [ 8892,     0,     7],\n",
       "       [11940,     0,     1],\n",
       "       [12807,     0,     4],\n",
       "       [13123,     0,     7],\n",
       "       [15497,     0,     1],\n",
       "       [16752,     0,     4],\n",
       "       [17075,     0,     7],\n",
       "       [19695,     0,     1],\n",
       "       [20710,     0,     6],\n",
       "       [23570,     0,     1],\n",
       "       [27382,     0,     1],\n",
       "       [28172,     0,     4],\n",
       "       [28355,     0,     7],\n",
       "       [31110,     0,     1],\n",
       "       [32122,     0,     4],\n",
       "       [32363,     0,     7],\n",
       "       [35020,     0,     1]])"
      ]
     },
     "execution_count": 101,
     "metadata": {},
     "output_type": "execute_result"
    }
   ],
   "source": [
    "eventsab10_1[0][0:20]"
   ]
  },
  {
   "cell_type": "code",
   "execution_count": 99,
   "metadata": {},
   "outputs": [
    {
     "data": {
      "text/plain": [
       "array([[  4968,      0,      9],\n",
       "       [  7636,      0,      1],\n",
       "       [  8707,      0,      2],\n",
       "       [  8892,      0,      5],\n",
       "       [ 11940,      0,      1],\n",
       "       [ 12807,      0,      2],\n",
       "       [ 13123,      0,      5],\n",
       "       [ 15497,      0,      1],\n",
       "       [ 16752,      0,      2],\n",
       "       [ 17075,      0,      5],\n",
       "       [ 19695,      0,      1],\n",
       "       [ 20710,      0,      4],\n",
       "       [ 23570,      0,      1],\n",
       "       [ 27382,      0,      1],\n",
       "       [ 28172,      0,      2],\n",
       "       [ 28355,      0,      5],\n",
       "       [ 31110,      0,      1],\n",
       "       [ 32122,      0,      2],\n",
       "       [ 32363,      0,      5],\n",
       "       [ 35020,      0,      1],\n",
       "       [ 35967,      0,      2],\n",
       "       [ 36211,      0,      5],\n",
       "       [ 38637,      0,      1],\n",
       "       [ 42317,      0,      1],\n",
       "       [ 43440,      0,      2],\n",
       "       [ 43659,      0,      5],\n",
       "       [ 46900,      0,      1],\n",
       "       [ 47765,      0,      2],\n",
       "       [ 48083,      0,      5],\n",
       "       [ 51272,      0,      1],\n",
       "       [ 52075,      0,      4],\n",
       "       [ 55005,      0,      1],\n",
       "       [ 55770,      0,      2],\n",
       "       [ 55963,      0,      5],\n",
       "       [ 58522,      0,      1],\n",
       "       [ 59440,      0,      2],\n",
       "       [ 59635,      0,      5],\n",
       "       [ 63505,      0,      1],\n",
       "       [ 67845,      0,      1],\n",
       "       [ 68980,      0,      2],\n",
       "       [ 69155,      0,      5],\n",
       "       [ 72047,      0,      1],\n",
       "       [ 73037,      0,      2],\n",
       "       [ 73291,      0,      5],\n",
       "       [ 77135,      0,      1],\n",
       "       [ 77922,      0,      4],\n",
       "       [ 80645,      0,      1],\n",
       "       [ 81542,      0,      2],\n",
       "       [ 81771,      0,      5],\n",
       "       [ 86417,      0,      1],\n",
       "       [ 87220,      0,      2],\n",
       "       [ 87563,      0,      5],\n",
       "       [ 89825,      0,      1],\n",
       "       [ 90036,      0,      5],\n",
       "       [ 90147,      0,     11],\n",
       "       [ 90800,      0,      2],\n",
       "       [ 91405,      0,      3],\n",
       "       [ 93965,      0,      1],\n",
       "       [ 97462,      0,      1],\n",
       "       [ 98307,      0,      2],\n",
       "       [ 98515,      0,      5],\n",
       "       [101992,      0,      1],\n",
       "       [102827,      0,      4],\n",
       "       [105735,      0,      1],\n",
       "       [106537,      0,      2],\n",
       "       [106739,      0,      5],\n",
       "       [109295,      0,      1],\n",
       "       [110220,      0,      2],\n",
       "       [110499,      0,      5],\n",
       "       [112877,      0,      1],\n",
       "       [113667,      0,      2],\n",
       "       [113963,      0,      5],\n",
       "       [116460,      0,      1],\n",
       "       [117230,      0,      4],\n",
       "       [120297,      0,      1],\n",
       "       [124242,      0,      1],\n",
       "       [125065,      0,      2],\n",
       "       [125259,      0,      5],\n",
       "       [128042,      0,      1],\n",
       "       [128810,      0,      2],\n",
       "       [129027,      0,      5],\n",
       "       [131670,      0,      1],\n",
       "       [132635,      0,      2],\n",
       "       [132891,      0,      5],\n",
       "       [135735,      0,      1],\n",
       "       [136617,      0,      2],\n",
       "       [136819,      0,      5],\n",
       "       [139672,      0,      1],\n",
       "       [140492,      0,      2],\n",
       "       [140835,      0,      5],\n",
       "       [144152,      0,      1],\n",
       "       [148402,      0,      1],\n",
       "       [149300,      0,      4],\n",
       "       [153492,      0,      1],\n",
       "       [154280,      0,      2],\n",
       "       [154475,      0,      5],\n",
       "       [157600,      0,      1],\n",
       "       [158507,      0,      2],\n",
       "       [158731,      0,      5],\n",
       "       [163598,      0,      1],\n",
       "       [164460,      0,      4],\n",
       "       [167868,      0,      1],\n",
       "       [168803,      0,      2],\n",
       "       [169059,      0,      5],\n",
       "       [171830,      0,      1],\n",
       "       [176348,      0,      1],\n",
       "       [177105,      0,      2],\n",
       "       [177243,      0,      5],\n",
       "       [180788,      0,      1],\n",
       "       [181698,      0,      2],\n",
       "       [181931,      0,      5],\n",
       "       [184648,      0,      1],\n",
       "       [185440,      0,      2],\n",
       "       [185635,      0,      5],\n",
       "       [189623,      0,      1],\n",
       "       [195150,      0,      1],\n",
       "       [195990,      0,      2],\n",
       "       [196139,      0,      5],\n",
       "       [199640,      0,      1],\n",
       "       [200495,      0,      2],\n",
       "       [200707,      0,      5],\n",
       "       [204560,      0,      1],\n",
       "       [205393,      0,      4],\n",
       "       [208540,      0,      1],\n",
       "       [209865,      0,      2],\n",
       "       [210227,      0,      5],\n",
       "       [210470,      0,      3],\n",
       "       [212633,      0,      1],\n",
       "       [213395,      0,      2],\n",
       "       [213643,      0,      5],\n",
       "       [216550,      0,      1],\n",
       "       [220188,      0,      1],\n",
       "       [221055,      0,      2],\n",
       "       [221251,      0,      5],\n",
       "       [224045,      0,      1],\n",
       "       [224868,      0,      4],\n",
       "       [229170,      0,      1],\n",
       "       [229940,      0,      2],\n",
       "       [230123,      0,      5],\n",
       "       [232920,      0,      1],\n",
       "       [233938,      0,      2],\n",
       "       [234147,      0,      5],\n",
       "       [236838,      0,      1],\n",
       "       [237660,      0,      2],\n",
       "       [237819,      0,      5],\n",
       "       [240325,      0,      1],\n",
       "       [241145,      0,      2],\n",
       "       [241323,      0,      5],\n",
       "       [244083,      0,      1],\n",
       "       [248393,      0,      1],\n",
       "       [249148,      0,      4],\n",
       "       [251860,      0,      1],\n",
       "       [252648,      0,      2],\n",
       "       [252907,      0,      5],\n",
       "       [260706,      0,     10]])"
      ]
     },
     "execution_count": 99,
     "metadata": {},
     "output_type": "execute_result"
    }
   ],
   "source": [
    "epochsab10_1.events"
   ]
  },
  {
   "cell_type": "code",
   "execution_count": null,
   "metadata": {},
   "outputs": [],
   "source": [
    "dlist = list(d.keys())\n",
    "dlist"
   ]
  },
  {
   "cell_type": "code",
   "execution_count": null,
   "metadata": {},
   "outputs": [],
   "source": [
    "numb = dlist.index('9')+1\n",
    "numb"
   ]
  },
  {
   "cell_type": "code",
   "execution_count": null,
   "metadata": {},
   "outputs": [],
   "source": [
    "event_id = {\n",
    "    \"taskstart\" : '9',\n",
    "    \"cue\" : \"1\",\n",
    "    \"go\" : \"2\",\n",
    "    \"button press\" : \"5\",\n",
    "    \"no-go\" : \"4\",\n",
    "    \"task end\": \"10\"\n",
    "}\n",
    "event_id"
   ]
  },
  {
   "cell_type": "code",
   "execution_count": null,
   "metadata": {},
   "outputs": [],
   "source": [
    "AB6_1d = {}"
   ]
  },
  {
   "cell_type": "code",
   "execution_count": null,
   "metadata": {},
   "outputs": [],
   "source": [
    "AB6_1d = {}\n",
    "for k in event_id.keys():\n",
    "    AB6_1d[k] = list(eventsab6_1[1].keys()).index(event_id[k])+1"
   ]
  },
  {
   "cell_type": "code",
   "execution_count": null,
   "metadata": {},
   "outputs": [],
   "source": [
    "AB6_1d"
   ]
  },
  {
   "cell_type": "code",
   "execution_count": null,
   "metadata": {},
   "outputs": [],
   "source": []
  },
  {
   "cell_type": "code",
   "execution_count": null,
   "metadata": {},
   "outputs": [],
   "source": [
    "yab6_1 = epochsab6_1.events[:, 2]\n",
    "yab6_2 = epochsab6_2.events[:, 2]\n",
    "\n",
    "yab10_1 = epochsab10_1.events[:, 2]\n",
    "yab10_2 = epochsab10_2.events[:, 2]\n",
    "\n",
    "yab12_1 = epochsab12_1.events[:, 2]\n",
    "yab12_2 = epochsab12_2.events[:, 2]\n",
    "\n",
    "yab13_1 = epochsab13_1.events[:, 2]\n",
    "yab13_2 = epochsab13_2.events[:, 2]\n",
    "\n",
    "yab28_1 = epochsab28_1.events[:, 2]\n",
    "yab28_2 = epochsab28_2.events[:, 2]\n",
    "\n",
    "yab31_1 = epochsab31_1.events[:, 2]\n",
    "yab31_2 = epochsab31_2.events[:, 2]\n",
    "\n",
    "yab32_1 = epochsab32_1.events[:, 2]\n",
    "yab32_2 = epochsab32_2.events[:, 2]\n",
    "\n",
    "y = np.concatenate([yab6_1, yab6_2,\n",
    "                   yab10_1, yab10_2,\n",
    "                   yab12_1, yab12_2,\n",
    "                   yab13_1, yab13_2,\n",
    "                   yab28_1, yab28_2,\n",
    "                   yab31_1, yab31_2,\n",
    "                   yab32_1, yab32_2],\n",
    "                   axis = 0)\n",
    "\n",
    "\n",
    "num_classes = 11\n",
    "y = tf.keras.utils.to_categorical(y, num_classes)\n",
    "y[:5]"
   ]
  },
  {
   "cell_type": "code",
   "execution_count": null,
   "metadata": {},
   "outputs": [],
   "source": [
    "y.shape"
   ]
  },
  {
   "cell_type": "code",
   "execution_count": null,
   "metadata": {},
   "outputs": [],
   "source": [
    " #!pip install tensorflow"
   ]
  },
  {
   "cell_type": "code",
   "execution_count": null,
   "metadata": {},
   "outputs": [],
   "source": [
    "inp_shape = (datars.shape[1], datars.shape[2])\n",
    "ip = tf.keras.Input(shape = inp_shape)\n",
    "flatten1 = tf.keras.layers.Flatten()(ip)\n",
    "dense1 = tf.keras.layers.Dense(units = 10, activation = 'relu', kernel_initializer = 'random_normal')(flatten1)\n",
    "dense2 = tf.keras.layers.Dense(units = 10, activation = 'relu', kernel_initializer = 'random_normal')(dense1)\n",
    "out = tf.keras.layers.Dense(num_classes, activation = 'softmax')(dense2)\n",
    "\n",
    "model = tf.keras.Model(inputs = ip, outputs = out)\n",
    "\n",
    "# inp_shape = (None, )\n",
    "# review_sequence = tf.keras.Input(shape = inp_shape)\n",
    "# embedding_sequence = tf.keras.layers.Embedding(input_dim=100+1, output_dim=32, input_shape=(review_sequence.shape), mask_zero=False)(review_sequence)\n",
    "# average_embedding = tf.keras.layers.GlobalAveragePooling1D()(embedding_sequence)\n",
    "# positive_probability = tf.keras.layers.Dense(units=1, activation='sigmoid')(average_embedding)\n",
    "\n",
    "# model = tf.keras.Model(inputs = review_sequence, outputs = positive_probability)"
   ]
  },
  {
   "cell_type": "code",
   "execution_count": null,
   "metadata": {},
   "outputs": [],
   "source": [
    "model.summary()"
   ]
  },
  {
   "cell_type": "code",
   "execution_count": null,
   "metadata": {},
   "outputs": [],
   "source": [
    "opt = Adam(0.01)\n",
    "model.compile(loss = 'categorical_crossentropy', metrics = ['accuracy'], optimizer = 'adam')"
   ]
  },
  {
   "cell_type": "code",
   "execution_count": null,
   "metadata": {},
   "outputs": [],
   "source": [
    "history = model.fit(datars, y, epochs=200)"
   ]
  },
  {
   "cell_type": "code",
   "execution_count": null,
   "metadata": {},
   "outputs": [],
   "source": [
    "plt.plot(history.history['accuracy'])\n",
    "plt.plot(history.history['loss'])\n",
    "plt.legend(['Accuracy', 'Loss'])\n",
    "plt.title('Model History')\n",
    "plt.ylabel('Value')\n",
    "plt.xlabel('epochs')\n",
    "plt.show()"
   ]
  },
  {
   "cell_type": "code",
   "execution_count": null,
   "metadata": {},
   "outputs": [],
   "source": [
    "# plt.plot(history.history['loss'])\n",
    "# plt.title('model loss')\n",
    "# plt.ylabel('loss')\n",
    "# plt.xlabel('epochs')\n",
    "# plt.show()"
   ]
  },
  {
   "cell_type": "code",
   "execution_count": null,
   "metadata": {},
   "outputs": [],
   "source": []
  }
 ],
 "metadata": {
  "kernelspec": {
   "display_name": "Python 3",
   "language": "python",
   "name": "python3"
  },
  "language_info": {
   "codemirror_mode": {
    "name": "ipython",
    "version": 3
   },
   "file_extension": ".py",
   "mimetype": "text/x-python",
   "name": "python",
   "nbconvert_exporter": "python",
   "pygments_lexer": "ipython3",
   "version": "3.7.6"
  }
 },
 "nbformat": 4,
 "nbformat_minor": 4
}
