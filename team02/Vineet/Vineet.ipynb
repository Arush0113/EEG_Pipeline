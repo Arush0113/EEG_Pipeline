{
 "cells": [
  {
   "cell_type": "code",
   "execution_count": 6,
   "metadata": {},
   "outputs": [
    {
     "name": "stdout",
     "output_type": "stream",
     "text": [
      "0.22.1\n"
     ]
    }
   ],
   "source": [
    "import matplotlib\n",
    "import pathlib\n",
    "\n",
    "import mne\n",
    "print(mne.__version__)\n",
    "import mne_bids\n",
    "\n",
    "matplotlib.use('Qt5Agg')"
   ]
  },
  {
   "cell_type": "code",
   "execution_count": 7,
   "metadata": {},
   "outputs": [],
   "source": [
    "rawab12_1 = mne.io.read_raw_eeglab('sub-AB12_eeg_sub-AB12_task-gonogo_run-1_eeg.set', eog=(), preload=True, uint16_codec=None, verbose=None)\n",
    "rawab12_2 = mne.io.read_raw_eeglab('sub-AB12_eeg_sub-AB12_task-gonogo_run-2_eeg.set', eog=(), preload=True, uint16_codec=None, verbose=None)"
   ]
  },
  {
   "cell_type": "code",
   "execution_count": 3,
   "metadata": {},
   "outputs": [
    {
     "data": {
      "text/plain": [
       "<MNEBrowseFigure size 1920x864 with 4 Axes>"
      ]
     },
     "execution_count": 3,
     "metadata": {},
     "output_type": "execute_result"
    },
    {
     "name": "stdout",
     "output_type": "stream",
     "text": [
      "Channels marked as bad: none\n"
     ]
    }
   ],
   "source": [
    "rawab12_1.plot()"
   ]
  },
  {
   "cell_type": "code",
   "execution_count": 8,
   "metadata": {},
   "outputs": [
    {
     "name": "stdout",
     "output_type": "stream",
     "text": [
      "Used Annotations descriptions: ['1', '10', '2', '4', '5', '6', '7', '9']\n",
      "Used Annotations descriptions: ['1', '10', '11', '2', '3', '4', '5', '6', '7', '9']\n"
     ]
    }
   ],
   "source": [
    "eventsab12_1 = mne.events_from_annotations(rawab12_1)\n",
    "eventsab12_2 = mne.events_from_annotations(rawab12_2)"
   ]
  },
  {
   "cell_type": "code",
   "execution_count": 9,
   "metadata": {},
   "outputs": [
    {
     "data": {
      "text/plain": [
       "{'taskstart': '9',\n",
       " 'cue': '1',\n",
       " 'go': '2',\n",
       " 'button press': '5',\n",
       " 'no-go': '4',\n",
       " 'task end': '10',\n",
       " 'error1': '6',\n",
       " 'error2': '7'}"
      ]
     },
     "execution_count": 9,
     "metadata": {},
     "output_type": "execute_result"
    }
   ],
   "source": [
    "event_id = {\n",
    "    \"taskstart\" : '9',\n",
    "    \"cue\" : \"1\",\n",
    "    \"go\" : \"2\",\n",
    "    \"button press\" : \"5\",\n",
    "    \"no-go\" : \"4\",\n",
    "    \"task end\": \"10\",\n",
    "    \"error1\" : \"6\",\n",
    "    \"error2\" : \"7\"\n",
    "}\n",
    "event_id"
   ]
  },
  {
   "cell_type": "code",
   "execution_count": 10,
   "metadata": {},
   "outputs": [
    {
     "data": {
      "text/plain": [
       "{'AF3': 'eeg',\n",
       " 'AF4': 'eeg',\n",
       " 'F7': 'eeg',\n",
       " 'F5': 'eeg',\n",
       " 'F3': 'eeg',\n",
       " 'F1': 'eeg',\n",
       " 'Fz': 'eeg',\n",
       " 'F2': 'eeg',\n",
       " 'F4': 'eeg',\n",
       " 'F6': 'eeg',\n",
       " 'F8': 'eeg',\n",
       " 'FT7': 'eeg',\n",
       " 'FC5': 'eeg',\n",
       " 'FC3': 'eeg',\n",
       " 'FC1': 'eeg',\n",
       " 'FCz': 'eeg',\n",
       " 'FC2': 'eeg',\n",
       " 'FC4': 'eeg',\n",
       " 'FC6': 'eeg',\n",
       " 'FT8': 'eeg',\n",
       " 'T7': 'eeg',\n",
       " 'C5': 'eeg',\n",
       " 'C3': 'eeg',\n",
       " 'C1': 'eeg',\n",
       " 'Cz': 'eeg',\n",
       " 'C2': 'eeg',\n",
       " 'C4': 'eeg',\n",
       " 'C6': 'eeg',\n",
       " 'T8': 'eeg',\n",
       " 'M1': 'eeg',\n",
       " 'TP7': 'eeg',\n",
       " 'CP5': 'eeg',\n",
       " 'CP3': 'eeg',\n",
       " 'CP1': 'eeg',\n",
       " 'CPz': 'eeg',\n",
       " 'CP2': 'eeg',\n",
       " 'CP4': 'eeg',\n",
       " 'CP6': 'eeg',\n",
       " 'TP8': 'eeg',\n",
       " 'M2': 'eeg',\n",
       " 'P7': 'eeg',\n",
       " 'P5': 'eeg',\n",
       " 'P3': 'eeg',\n",
       " 'P1': 'eeg',\n",
       " 'Pz': 'eeg',\n",
       " 'P2': 'eeg',\n",
       " 'P4': 'eeg',\n",
       " 'P6': 'eeg',\n",
       " 'P8': 'eeg',\n",
       " 'PO7': 'eeg',\n",
       " 'PO5': 'eeg',\n",
       " 'PO3': 'eeg',\n",
       " 'POz': 'eeg',\n",
       " 'PO4': 'eeg',\n",
       " 'PO6': 'eeg',\n",
       " 'PO8': 'eeg',\n",
       " 'CB1': 'eeg',\n",
       " 'O1': 'eeg',\n",
       " 'Oz': 'eeg',\n",
       " 'O2': 'eeg',\n",
       " 'CB2': 'eeg',\n",
       " 'VEO': 'eog',\n",
       " 'HEO': 'eog',\n",
       " 'EKG': 'ecg',\n",
       " 'R-Dia-X-(mm)': 'misc',\n",
       " 'R-Dia-Y-(mm)': 'misc'}"
      ]
     },
     "execution_count": 10,
     "metadata": {},
     "output_type": "execute_result"
    }
   ],
   "source": [
    "path_channels_tsv='sub-AB10_eeg_sub-AB10_task-gonogo_run-1_channels.tsv'\n",
    "import pandas as pd\n",
    "channel_types_tsv = pd.read_csv(path_channels_tsv, delimiter = '\\t')\n",
    "\n",
    "def get_channel_types_dic(channel_types_tsv):\n",
    "    channel_types = {}\n",
    "    for i in range(channel_types_tsv.shape[0]):\n",
    "        channel_types[channel_types_tsv['name'][i]] = channel_types_tsv['type'][i].lower()\n",
    "    reassign_dic = {'HEO':'eog', 'VEO':'eog', 'R-Dia-X-(mm)':'misc', 'R-Dia-Y-(mm)':'misc'}\n",
    "    for k in list(reassign_dic.keys()):\n",
    "        if k in list(channel_types):\n",
    "            channel_types[k] = reassign_dic[k]\n",
    "    return channel_types\n",
    "\n",
    "channel_types = get_channel_types_dic(channel_types_tsv)\n",
    "channel_types"
   ]
  },
  {
   "cell_type": "code",
   "execution_count": 11,
   "metadata": {},
   "outputs": [
    {
     "data": {
      "text/plain": [
       "<Info | 8 non-empty values\n",
       " bads: []\n",
       " ch_names: AF3, AF4, F7, F5, F3, F1, Fz, F2, F4, F6, F8, FT7, FC5, FC3, ...\n",
       " chs: 61 EEG, 2 EOG, 1 ECG, 2 MISC\n",
       " custom_ref_applied: False\n",
       " dig: 66 items (66 EEG)\n",
       " highpass: 0.0 Hz\n",
       " lowpass: 250.0 Hz\n",
       " meas_date: unspecified\n",
       " nchan: 66\n",
       " projs: []\n",
       " sfreq: 500.0 Hz\n",
       ">"
      ]
     },
     "execution_count": 11,
     "metadata": {},
     "output_type": "execute_result"
    }
   ],
   "source": [
    "rawab12_1.set_channel_types(channel_types)\n",
    "rawab12_1.info"
   ]
  },
  {
   "cell_type": "code",
   "execution_count": 8,
   "metadata": {},
   "outputs": [
    {
     "name": "stdout",
     "output_type": "stream",
     "text": [
      "Channels marked as bad: none\n"
     ]
    }
   ],
   "source": [
    "#rawab12_1.drop_channels(ch_names = [\"R-Dia-X-(mm)\"])"
   ]
  },
  {
   "cell_type": "markdown",
   "metadata": {},
   "source": [
    "26/7"
   ]
  },
  {
   "cell_type": "code",
   "execution_count": 11,
   "metadata": {},
   "outputs": [],
   "source": [
    "ica = mne.preprocessing.ICA(n_components=25)"
   ]
  },
  {
   "cell_type": "code",
   "execution_count": 12,
   "metadata": {},
   "outputs": [
    {
     "name": "stdout",
     "output_type": "stream",
     "text": [
      "Fitting ICA to data using 61 channels (please be patient, this may take a while)\n",
      "Selecting by number: 25 components\n",
      "Fitting ICA took 5.4s.\n"
     ]
    },
    {
     "data": {
      "text/plain": [
       "<ICA | raw data decomposition, fit (fastica): 252180 samples, 25 components, channels used: \"eeg\">"
      ]
     },
     "execution_count": 12,
     "metadata": {},
     "output_type": "execute_result"
    }
   ],
   "source": [
    "ica.fit(rawab12_1)"
   ]
  },
  {
   "cell_type": "code",
   "execution_count": 13,
   "metadata": {},
   "outputs": [
    {
     "name": "stdout",
     "output_type": "stream",
     "text": [
      "    Using multitaper spectrum estimation with 7 DPSS windows\n",
      "Not setting metadata\n",
      "Not setting metadata\n",
      "252 matching events found\n",
      "No baseline correction applied\n",
      "0 projection items activated\n",
      "0 bad epochs dropped\n",
      "Not setting metadata\n",
      "Not setting metadata\n",
      "252 matching events found\n",
      "No baseline correction applied\n",
      "0 projection items activated\n",
      "0 bad epochs dropped\n",
      "Not setting metadata\n",
      "Not setting metadata\n",
      "252 matching events found\n",
      "No baseline correction applied\n",
      "0 projection items activated\n",
      "0 bad epochs dropped\n",
      "Not setting metadata\n",
      "Not setting metadata\n",
      "252 matching events found\n",
      "No baseline correction applied\n",
      "0 projection items activated\n",
      "0 bad epochs dropped\n",
      "Not setting metadata\n",
      "Not setting metadata\n",
      "252 matching events found\n",
      "No baseline correction applied\n",
      "0 projection items activated\n",
      "0 bad epochs dropped\n"
     ]
    },
    {
     "data": {
      "text/plain": [
       "[<Figure size 1400x918 with 6 Axes>,\n",
       " <Figure size 1400x918 with 6 Axes>,\n",
       " <Figure size 1400x918 with 6 Axes>,\n",
       " <Figure size 1400x918 with 6 Axes>,\n",
       " <Figure size 1400x918 with 6 Axes>]"
      ]
     },
     "execution_count": 13,
     "metadata": {},
     "output_type": "execute_result"
    }
   ],
   "source": [
    "\n",
    "ica.plot_properties(rawab12_1)"
   ]
  },
  {
   "cell_type": "code",
   "execution_count": 14,
   "metadata": {},
   "outputs": [
    {
     "name": "stdout",
     "output_type": "stream",
     "text": [
      "Creating RawArray with float64 data, n_channels=28, n_times=252180\n",
      "    Range : 0 ... 252179 =      0.000 ...   504.358 secs\n",
      "Ready.\n"
     ]
    },
    {
     "data": {
      "text/plain": [
       "<MNEBrowseFigure size 1920x864 with 4 Axes>"
      ]
     },
     "execution_count": 14,
     "metadata": {},
     "output_type": "execute_result"
    }
   ],
   "source": [
    "ica.plot_sources(rawab12_1)"
   ]
  },
  {
   "cell_type": "code",
   "execution_count": 15,
   "metadata": {},
   "outputs": [
    {
     "name": "stdout",
     "output_type": "stream",
     "text": [
      "... filtering ICA sources\n",
      "Setting up band-pass filter from 1 - 10 Hz\n",
      "\n",
      "FIR filter parameters\n",
      "---------------------\n",
      "Designing a two-pass forward and reverse, zero-phase, non-causal bandpass filter:\n",
      "- Windowed frequency-domain design (firwin2) method\n",
      "- Hann window\n",
      "- Lower passband edge: 1.00\n",
      "- Lower transition bandwidth: 0.50 Hz (-12 dB cutoff frequency: 0.75 Hz)\n",
      "- Upper passband edge: 10.00 Hz\n",
      "- Upper transition bandwidth: 0.50 Hz (-12 dB cutoff frequency: 10.25 Hz)\n",
      "- Filter length: 5000 samples (10.000 sec)\n",
      "\n",
      "... filtering target\n",
      "Setting up band-pass filter from 1 - 10 Hz\n",
      "\n",
      "FIR filter parameters\n",
      "---------------------\n",
      "Designing a two-pass forward and reverse, zero-phase, non-causal bandpass filter:\n",
      "- Windowed frequency-domain design (firwin2) method\n",
      "- Hann window\n",
      "- Lower passband edge: 1.00\n",
      "- Lower transition bandwidth: 0.50 Hz (-12 dB cutoff frequency: 0.75 Hz)\n",
      "- Upper passband edge: 10.00 Hz\n",
      "- Upper transition bandwidth: 0.50 Hz (-12 dB cutoff frequency: 10.25 Hz)\n",
      "- Filter length: 5000 samples (10.000 sec)\n",
      "\n",
      "... filtering ICA sources\n",
      "Setting up band-pass filter from 1 - 10 Hz\n",
      "\n",
      "FIR filter parameters\n",
      "---------------------\n",
      "Designing a two-pass forward and reverse, zero-phase, non-causal bandpass filter:\n",
      "- Windowed frequency-domain design (firwin2) method\n",
      "- Hann window\n",
      "- Lower passband edge: 1.00\n",
      "- Lower transition bandwidth: 0.50 Hz (-12 dB cutoff frequency: 0.75 Hz)\n",
      "- Upper passband edge: 10.00 Hz\n",
      "- Upper transition bandwidth: 0.50 Hz (-12 dB cutoff frequency: 10.25 Hz)\n",
      "- Filter length: 5000 samples (10.000 sec)\n",
      "\n",
      "... filtering target\n",
      "Setting up band-pass filter from 1 - 10 Hz\n",
      "\n",
      "FIR filter parameters\n",
      "---------------------\n",
      "Designing a two-pass forward and reverse, zero-phase, non-causal bandpass filter:\n",
      "- Windowed frequency-domain design (firwin2) method\n",
      "- Hann window\n",
      "- Lower passband edge: 1.00\n",
      "- Lower transition bandwidth: 0.50 Hz (-12 dB cutoff frequency: 0.75 Hz)\n",
      "- Upper passband edge: 10.00 Hz\n",
      "- Upper transition bandwidth: 0.50 Hz (-12 dB cutoff frequency: 10.25 Hz)\n",
      "- Filter length: 5000 samples (10.000 sec)\n",
      "\n"
     ]
    },
    {
     "data": {
      "text/plain": [
       "([16],\n",
       " [array([-0.02275233, -0.28913932,  0.0102007 ,  0.02600209,  0.02385501,\n",
       "         -0.12000855, -0.04115512,  0.17006873, -0.01873606,  0.26981231,\n",
       "         -0.0933248 , -0.06570955,  0.25421327,  0.19352046, -0.00385271,\n",
       "          0.05442091,  0.56882055, -0.23065281, -0.00315072,  0.08693221,\n",
       "         -0.12502327,  0.09470164,  0.24171844,  0.15561162,  0.26203745]),\n",
       "  array([ 0.14244758,  0.22353984, -0.18501029, -0.1996198 ,  0.07046255,\n",
       "          0.10241633,  0.12132955,  0.03645836, -0.05165351, -0.1400909 ,\n",
       "          0.15881718, -0.12623474, -0.18619651, -0.2906278 ,  0.11744414,\n",
       "         -0.03413688, -0.71259661,  0.15401794, -0.28504501,  0.09810674,\n",
       "          0.03080104, -0.2657222 , -0.21354858, -0.18766428,  0.19020475])])"
      ]
     },
     "execution_count": 15,
     "metadata": {},
     "output_type": "execute_result"
    }
   ],
   "source": [
    "ica.find_bads_eog(rawab12_1)\n"
   ]
  },
  {
   "cell_type": "code",
   "execution_count": 29,
   "metadata": {},
   "outputs": [
    {
     "data": {
      "text/plain": [
       "[19]"
      ]
     },
     "execution_count": 29,
     "metadata": {},
     "output_type": "execute_result"
    }
   ],
   "source": []
  },
  {
   "cell_type": "code",
   "execution_count": 16,
   "metadata": {},
   "outputs": [
    {
     "name": "stdout",
     "output_type": "stream",
     "text": [
      "Using threshold: 0.23 for CTPS ECG detection\n",
      "Using channel EKG to identify heart beats.\n",
      "Setting up band-pass filter from 8 - 16 Hz\n",
      "\n",
      "FIR filter parameters\n",
      "---------------------\n",
      "Designing a two-pass forward and reverse, zero-phase, non-causal bandpass filter:\n",
      "- Windowed frequency-domain design (firwin2) method\n",
      "- Hann window\n",
      "- Lower passband edge: 8.00\n",
      "- Lower transition bandwidth: 0.50 Hz (-12 dB cutoff frequency: 7.75 Hz)\n",
      "- Upper passband edge: 16.00 Hz\n",
      "- Upper transition bandwidth: 0.50 Hz (-12 dB cutoff frequency: 16.25 Hz)\n",
      "- Filter length: 5000 samples (10.000 sec)\n",
      "\n",
      "Number of ECG events detected : 606 (average pulse 72 / min.)\n",
      "Not setting metadata\n",
      "Not setting metadata\n",
      "606 matching events found\n",
      "No baseline correction applied\n",
      "Loading data for 606 events and 501 original time points ...\n",
      "0 bad epochs dropped\n"
     ]
    },
    {
     "data": {
      "text/plain": [
       "([],\n",
       " array([0.14475236, 0.15460912, 0.08694699, 0.10165334, 0.09730621,\n",
       "        0.09338116, 0.06691482, 0.02706513, 0.15899621, 0.07138817,\n",
       "        0.06591647, 0.04700177, 0.08439654, 0.083014  , 0.15109495,\n",
       "        0.03289586, 0.1057196 , 0.10172756, 0.1385923 , 0.05858241,\n",
       "        0.03102549, 0.05742002, 0.08271675, 0.05104112, 0.05606678]))"
      ]
     },
     "execution_count": 16,
     "metadata": {},
     "output_type": "execute_result"
    }
   ],
   "source": [
    "ica.find_bads_ecg(rawab12_1)"
   ]
  },
  {
   "cell_type": "code",
   "execution_count": 17,
   "metadata": {},
   "outputs": [
    {
     "name": "stdout",
     "output_type": "stream",
     "text": [
      "    Searching for artifacts...\n",
      "    found 1 artifact by skewness\n",
      "    found 1 artifact by kurtosis\n",
      "    found 1 artifact by variance\n",
      "Artifact indices found:\n",
      "    16, 16, 20\n",
      "    Removing duplicate indices...\n",
      "Ready.\n"
     ]
    },
    {
     "data": {
      "text/plain": [
       "<ICA | raw data decomposition, fit (fastica): 252180 samples, 25 components, channels used: \"eeg\", 2 sources marked for exclusion>"
      ]
     },
     "execution_count": 17,
     "metadata": {},
     "output_type": "execute_result"
    }
   ],
   "source": [
    "ica.detect_artifacts(rawab12_1)"
   ]
  },
  {
   "cell_type": "code",
   "execution_count": 40,
   "metadata": {},
   "outputs": [
    {
     "data": {
      "text/plain": [
       "mne.preprocessing.ica.ICA"
      ]
     },
     "execution_count": 40,
     "metadata": {},
     "output_type": "execute_result"
    }
   ],
   "source": []
  },
  {
   "cell_type": "code",
   "execution_count": 19,
   "metadata": {},
   "outputs": [
    {
     "data": {
      "text/plain": [
       "[<MNEFigure size 1924x1014 with 20 Axes>,\n",
       " <MNEFigure size 1924x520 with 5 Axes>]"
      ]
     },
     "execution_count": 19,
     "metadata": {},
     "output_type": "execute_result"
    }
   ],
   "source": [
    "ica.plot_components()"
   ]
  },
  {
   "cell_type": "code",
   "execution_count": 20,
   "metadata": {},
   "outputs": [
    {
     "data": {
      "text/plain": [
       "<Info | 8 non-empty values\n",
       " bads: []\n",
       " ch_names: AF3, AF4, F7, F5, F3, F1, Fz, F2, F4, F6, F8, FT7, FC5, FC3, ...\n",
       " chs: 61 EEG\n",
       " custom_ref_applied: False\n",
       " dig: 66 items (66 EEG)\n",
       " highpass: 0.0 Hz\n",
       " lowpass: 250.0 Hz\n",
       " meas_date: unspecified\n",
       " nchan: 61\n",
       " projs: []\n",
       " sfreq: 500.0 Hz\n",
       ">"
      ]
     },
     "execution_count": 20,
     "metadata": {},
     "output_type": "execute_result"
    }
   ],
   "source": [
    "ica.info"
   ]
  },
  {
   "cell_type": "code",
   "execution_count": 21,
   "metadata": {},
   "outputs": [
    {
     "name": "stdout",
     "output_type": "stream",
     "text": [
      "Applying ICA to Raw instance\n",
      "    Transforming to ICA space (25 components)\n",
      "    Zeroing out 2 ICA components\n",
      "    Projecting back using 61 PCA components\n"
     ]
    },
    {
     "data": {
      "text/plain": [
       "<Figure size 1280x918 with 2 Axes>"
      ]
     },
     "execution_count": 21,
     "metadata": {},
     "output_type": "execute_result"
    }
   ],
   "source": [
    "ica.plot_overlay(rawab12_1)\n",
    "# heartbeats\n",
    "#ica.plot_overlay(rawab12_1, exclude=[1], picks='mag')"
   ]
  },
  {
   "cell_type": "code",
   "execution_count": 25,
   "metadata": {},
   "outputs": [
    {
     "ename": "ValueError",
     "evalue": "Only a single pick can be drawn to a set of axes.",
     "output_type": "error",
     "traceback": [
      "\u001b[1;31m---------------------------------------------------------------------------\u001b[0m",
      "\u001b[1;31mValueError\u001b[0m                                Traceback (most recent call last)",
      "\u001b[1;32m<ipython-input-25-443b02636722>\u001b[0m in \u001b[0;36m<module>\u001b[1;34m\u001b[0m\n\u001b[1;32m----> 1\u001b[1;33m \u001b[0mica\u001b[0m\u001b[1;33m.\u001b[0m\u001b[0mplot_properties\u001b[0m\u001b[1;33m(\u001b[0m\u001b[0mrawab12_1\u001b[0m\u001b[1;33m,\u001b[0m \u001b[0maxes\u001b[0m\u001b[1;33m=\u001b[0m\u001b[1;33m[\u001b[0m\u001b[1;34m'topomap_axis'\u001b[0m\u001b[1;33m]\u001b[0m\u001b[1;33m)\u001b[0m\u001b[1;33m\u001b[0m\u001b[1;33m\u001b[0m\u001b[0m\n\u001b[0m",
      "\u001b[1;32m~\\anaconda3\\lib\\site-packages\\mne\\preprocessing\\ica.py\u001b[0m in \u001b[0;36mplot_properties\u001b[1;34m(self, inst, picks, axes, dB, plot_std, topomap_args, image_args, psd_args, figsize, show, reject, reject_by_annotation, verbose)\u001b[0m\n\u001b[0;32m   1825\u001b[0m                                    \u001b[0mfigsize\u001b[0m\u001b[1;33m=\u001b[0m\u001b[0mfigsize\u001b[0m\u001b[1;33m,\u001b[0m \u001b[0mshow\u001b[0m\u001b[1;33m=\u001b[0m\u001b[0mshow\u001b[0m\u001b[1;33m,\u001b[0m \u001b[0mreject\u001b[0m\u001b[1;33m=\u001b[0m\u001b[0mreject\u001b[0m\u001b[1;33m,\u001b[0m\u001b[1;33m\u001b[0m\u001b[1;33m\u001b[0m\u001b[0m\n\u001b[0;32m   1826\u001b[0m                                    \u001b[0mreject_by_annotation\u001b[0m\u001b[1;33m=\u001b[0m\u001b[0mreject_by_annotation\u001b[0m\u001b[1;33m,\u001b[0m\u001b[1;33m\u001b[0m\u001b[1;33m\u001b[0m\u001b[0m\n\u001b[1;32m-> 1827\u001b[1;33m                                    verbose=verbose)\n\u001b[0m\u001b[0;32m   1828\u001b[0m \u001b[1;33m\u001b[0m\u001b[0m\n\u001b[0;32m   1829\u001b[0m     \u001b[1;33m@\u001b[0m\u001b[0mcopy_function_doc_to_method_doc\u001b[0m\u001b[1;33m(\u001b[0m\u001b[0mplot_ica_sources\u001b[0m\u001b[1;33m)\u001b[0m\u001b[1;33m\u001b[0m\u001b[1;33m\u001b[0m\u001b[0m\n",
      "\u001b[1;32m<decorator-gen-154>\u001b[0m in \u001b[0;36mplot_ica_properties\u001b[1;34m(ica, inst, picks, axes, dB, plot_std, topomap_args, image_args, psd_args, figsize, show, reject, reject_by_annotation, verbose)\u001b[0m\n",
      "\u001b[1;32m~\\anaconda3\\lib\\site-packages\\mne\\viz\\ica.py\u001b[0m in \u001b[0;36mplot_ica_properties\u001b[1;34m(ica, inst, picks, axes, dB, plot_std, topomap_args, image_args, psd_args, figsize, show, reject, reject_by_annotation, verbose)\u001b[0m\n\u001b[0;32m    343\u001b[0m     \u001b[1;32melse\u001b[0m\u001b[1;33m:\u001b[0m\u001b[1;33m\u001b[0m\u001b[1;33m\u001b[0m\u001b[0m\n\u001b[0;32m    344\u001b[0m         \u001b[1;32mif\u001b[0m \u001b[0mlen\u001b[0m\u001b[1;33m(\u001b[0m\u001b[0mpicks\u001b[0m\u001b[1;33m)\u001b[0m \u001b[1;33m>\u001b[0m \u001b[1;36m1\u001b[0m\u001b[1;33m:\u001b[0m\u001b[1;33m\u001b[0m\u001b[1;33m\u001b[0m\u001b[0m\n\u001b[1;32m--> 345\u001b[1;33m             raise ValueError('Only a single pick can be drawn '\n\u001b[0m\u001b[0;32m    346\u001b[0m                              'to a set of axes.')\n\u001b[0;32m    347\u001b[0m         \u001b[1;32mfrom\u001b[0m \u001b[1;33m.\u001b[0m\u001b[0mutils\u001b[0m \u001b[1;32mimport\u001b[0m \u001b[0m_validate_if_list_of_axes\u001b[0m\u001b[1;33m\u001b[0m\u001b[1;33m\u001b[0m\u001b[0m\n",
      "\u001b[1;31mValueError\u001b[0m: Only a single pick can be drawn to a set of axes."
     ]
    }
   ],
   "source": [
    "ica.plot_properties(rawab12_1)"
   ]
  },
  {
   "cell_type": "code",
   "execution_count": 20,
   "metadata": {},
   "outputs": [],
   "source": [
    "#get type of channels from tsv file\n"
   ]
  },
  {
   "cell_type": "markdown",
   "metadata": {},
   "source": [
    "27/7"
   ]
  },
  {
   "cell_type": "code",
   "execution_count": 77,
   "metadata": {},
   "outputs": [],
   "source": [
    "def implementing_ica(rawab):\n",
    "    ab = rawab.copy()\n",
    "    ica = mne.preprocessing.ICA(n_components=15, random_state=50)\n",
    "    ica.fit(ab)\n",
    "#     ica.plot_sources(rawab12_1)\n",
    "#     ica.plot_properties(rawab12_1)\n",
    "#     ica.plot_components()\n",
    "#     ica.plot_overlay(rawab12_1)\n",
    "#     bad_eog=ica.find_bads_eog(rawab12_1)\n",
    "#     bad_ecg=ica.find_bads_ecg(rawab12_1)\n",
    "#     artifacts=ica.detect_artifacts(rawab12_1)\n",
    "#     print(bad_eog[0])\n",
    "#     print(bad_ecg[0])\n",
    "    ica.exclude = [4]\n",
    "    ab = ica.apply(ab, exclude = ica.exclude)\n",
    "    return ab\n",
    "\n"
   ]
  },
  {
   "cell_type": "code",
   "execution_count": 78,
   "metadata": {},
   "outputs": [
    {
     "name": "stdout",
     "output_type": "stream",
     "text": [
      "Fitting ICA to data using 66 channels (please be patient, this may take a while)\n",
      "Selecting by number: 15 components\n",
      "Fitting ICA took 4.2s.\n",
      "Applying ICA to Raw instance\n",
      "    Transforming to ICA space (15 components)\n",
      "    Zeroing out 1 ICA component\n",
      "    Projecting back using 66 PCA components\n"
     ]
    }
   ],
   "source": [
    "ab12_1=implementing_ica(rawab12_1)"
   ]
  },
  {
   "cell_type": "code",
   "execution_count": 79,
   "metadata": {},
   "outputs": [
    {
     "data": {
      "text/plain": [
       "<MNEBrowseFigure size 1920x864 with 4 Axes>"
      ]
     },
     "execution_count": 79,
     "metadata": {},
     "output_type": "execute_result"
    },
    {
     "name": "stdout",
     "output_type": "stream",
     "text": [
      "Channels marked as bad: none\n",
      "Channels marked as bad: none\n"
     ]
    }
   ],
   "source": [
    "rawab12_1.plot()\n",
    "ab12_1.plot()"
   ]
  },
  {
   "cell_type": "code",
   "execution_count": 14,
   "metadata": {},
   "outputs": [
    {
     "name": "stdout",
     "output_type": "stream",
     "text": [
      "EOG channel index for this subject is: [61 62]\n",
      "Filtering the data to remove DC offset to help distinguish blinks from saccades\n",
      "Setting up band-pass filter from 1 - 10 Hz\n",
      "\n",
      "FIR filter parameters\n",
      "---------------------\n",
      "Designing a two-pass forward and reverse, zero-phase, non-causal bandpass filter:\n",
      "- Windowed frequency-domain design (firwin2) method\n",
      "- Hann window\n",
      "- Lower passband edge: 1.00\n",
      "- Lower transition bandwidth: 0.50 Hz (-12 dB cutoff frequency: 0.75 Hz)\n",
      "- Upper passband edge: 10.00 Hz\n",
      "- Upper transition bandwidth: 0.50 Hz (-12 dB cutoff frequency: 10.25 Hz)\n",
      "- Filter length: 5000 samples (10.000 sec)\n",
      "\n",
      "Now detecting blinks and generating corresponding events\n",
      "Found 3 significant peaks\n",
      "Number of EOG events detected : 3\n",
      "Not setting metadata\n",
      "Not setting metadata\n",
      "3 matching events found\n",
      "No baseline correction applied\n",
      "Loading data for 3 events and 501 original time points ...\n",
      "1 bad epochs dropped\n"
     ]
    }
   ],
   "source": [
    "ab12=mne.preprocessing.create_eog_epochs(rawab12_1)"
   ]
  },
  {
   "cell_type": "code",
   "execution_count": 15,
   "metadata": {},
   "outputs": [
    {
     "data": {
      "text/plain": [
       "<MNEBrowseFigure size 1920x864 with 4 Axes>"
      ]
     },
     "execution_count": 15,
     "metadata": {},
     "output_type": "execute_result"
    },
    {
     "name": "stdout",
     "output_type": "stream",
     "text": [
      "Dropped 0 epochs: \n",
      "Channels marked as bad: none\n"
     ]
    }
   ],
   "source": [
    "ab12.plot()"
   ]
  },
  {
   "cell_type": "code",
   "execution_count": 13,
   "metadata": {},
   "outputs": [
    {
     "name": "stdout",
     "output_type": "stream",
     "text": [
      "EOG channel index for this subject is: [61 62]\n",
      "Filtering the data to remove DC offset to help distinguish blinks from saccades\n",
      "Setting up band-pass filter from 1 - 10 Hz\n",
      "\n",
      "FIR filter parameters\n",
      "---------------------\n",
      "Designing a two-pass forward and reverse, zero-phase, non-causal bandpass filter:\n",
      "- Windowed frequency-domain design (firwin2) method\n",
      "- Hann window\n",
      "- Lower passband edge: 1.00\n",
      "- Lower transition bandwidth: 0.50 Hz (-12 dB cutoff frequency: 0.75 Hz)\n",
      "- Upper passband edge: 10.00 Hz\n",
      "- Upper transition bandwidth: 0.50 Hz (-12 dB cutoff frequency: 10.25 Hz)\n",
      "- Filter length: 5000 samples (10.000 sec)\n",
      "\n",
      "Now detecting blinks and generating corresponding events\n",
      "Found 3 significant peaks\n",
      "Number of EOG events detected : 3\n",
      "Not setting metadata\n",
      "Not setting metadata\n",
      "3 matching events found\n",
      "No baseline correction applied\n",
      "Loading data for 3 events and 501 original time points ...\n",
      "1 bad epochs dropped\n",
      "Applying baseline correction (mode: mean)\n",
      "No projector specified for this dataset. Please consider the method self.add_proj.\n"
     ]
    },
    {
     "data": {
      "text/plain": [
       "<Figure size 1600x840 with 7 Axes>"
      ]
     },
     "execution_count": 13,
     "metadata": {},
     "output_type": "execute_result"
    }
   ],
   "source": [
    "eog_evoked = mne.preprocessing.create_eog_epochs(rawab12_1).average()\n",
    "eog_evoked.apply_baseline(baseline=(None, -0.2))\n",
    "eog_evoked.plot_joint()"
   ]
  },
  {
   "cell_type": "code",
   "execution_count": 53,
   "metadata": {},
   "outputs": [
    {
     "name": "stdout",
     "output_type": "stream",
     "text": [
      "Using channel EKG to identify heart beats.\n",
      "Setting up band-pass filter from 8 - 16 Hz\n",
      "\n",
      "FIR filter parameters\n",
      "---------------------\n",
      "Designing a two-pass forward and reverse, zero-phase, non-causal bandpass filter:\n",
      "- Windowed frequency-domain design (firwin2) method\n",
      "- Hann window\n",
      "- Lower passband edge: 8.00\n",
      "- Lower transition bandwidth: 0.50 Hz (-12 dB cutoff frequency: 7.75 Hz)\n",
      "- Upper passband edge: 16.00 Hz\n",
      "- Upper transition bandwidth: 0.50 Hz (-12 dB cutoff frequency: 16.25 Hz)\n",
      "- Filter length: 5000 samples (10.000 sec)\n",
      "\n",
      "Number of ECG events detected : 606 (average pulse 72 / min.)\n",
      "Not setting metadata\n",
      "Not setting metadata\n",
      "606 matching events found\n",
      "No baseline correction applied\n",
      "Loading data for 606 events and 501 original time points ...\n",
      "0 bad epochs dropped\n",
      "Not setting metadata\n",
      "Not setting metadata\n",
      "606 matching events found\n",
      "No baseline correction applied\n",
      "0 projection items activated\n",
      "0 bad epochs dropped\n",
      "combining channels using \"mean\"\n"
     ]
    },
    {
     "data": {
      "text/plain": [
       "[<Figure size 1280x918 with 3 Axes>]"
      ]
     },
     "execution_count": 53,
     "metadata": {},
     "output_type": "execute_result"
    }
   ],
   "source": [
    "ecg_epochs = mne.preprocessing.create_ecg_epochs(rawab12_1)\n",
    "ecg_epochs.plot_image(combine='mean')"
   ]
  },
  {
   "cell_type": "code",
   "execution_count": 54,
   "metadata": {},
   "outputs": [
    {
     "name": "stdout",
     "output_type": "stream",
     "text": [
      "Applying baseline correction (mode: mean)\n"
     ]
    }
   ],
   "source": [
    "avg_ecg_epochs = ecg_epochs.average().apply_baseline((-0.5, -0.2))"
   ]
  },
  {
   "cell_type": "code",
   "execution_count": 56,
   "metadata": {},
   "outputs": [
    {
     "data": {
      "text/plain": [
       "<MNEFigure size 3600x440 with 12 Axes>"
      ]
     },
     "execution_count": 56,
     "metadata": {},
     "output_type": "execute_result"
    }
   ],
   "source": [
    "import numpy as np\n",
    "avg_ecg_epochs.plot_topomap(times=np.linspace(-0.05, 0.05, 11))"
   ]
  },
  {
   "cell_type": "code",
   "execution_count": 57,
   "metadata": {},
   "outputs": [
    {
     "name": "stdout",
     "output_type": "stream",
     "text": [
      "No projector specified for this dataset. Please consider the method self.add_proj.\n"
     ]
    },
    {
     "data": {
      "text/plain": [
       "<Figure size 1600x840 with 9 Axes>"
      ]
     },
     "execution_count": 57,
     "metadata": {},
     "output_type": "execute_result"
    }
   ],
   "source": [
    "avg_ecg_epochs.plot_joint(times=[-0.25, -0.025, 0, 0.025, 0.25])"
   ]
  },
  {
   "cell_type": "code",
   "execution_count": 59,
   "metadata": {},
   "outputs": [
    {
     "name": "stdout",
     "output_type": "stream",
     "text": [
      "EOG channel index for this subject is: [61 62]\n",
      "Filtering the data to remove DC offset to help distinguish blinks from saccades\n",
      "Setting up band-pass filter from 1 - 10 Hz\n",
      "\n",
      "FIR filter parameters\n",
      "---------------------\n",
      "Designing a two-pass forward and reverse, zero-phase, non-causal bandpass filter:\n",
      "- Windowed frequency-domain design (firwin2) method\n",
      "- Hann window\n",
      "- Lower passband edge: 1.00\n",
      "- Lower transition bandwidth: 0.50 Hz (-12 dB cutoff frequency: 0.75 Hz)\n",
      "- Upper passband edge: 10.00 Hz\n",
      "- Upper transition bandwidth: 0.50 Hz (-12 dB cutoff frequency: 10.25 Hz)\n",
      "- Filter length: 5000 samples (10.000 sec)\n",
      "\n",
      "Now detecting blinks and generating corresponding events\n",
      "Found 3 significant peaks\n",
      "Number of EOG events detected : 3\n",
      "Not setting metadata\n",
      "Not setting metadata\n",
      "3 matching events found\n",
      "Applying baseline correction (mode: mean)\n",
      "Loading data for 3 events and 501 original time points ...\n",
      "1 bad epochs dropped\n",
      "Not setting metadata\n",
      "Not setting metadata\n",
      "2 matching events found\n",
      "No baseline correction applied\n",
      "0 projection items activated\n",
      "0 bad epochs dropped\n",
      "combining channels using \"mean\"\n",
      "No projector specified for this dataset. Please consider the method self.add_proj.\n"
     ]
    },
    {
     "data": {
      "text/plain": [
       "<Figure size 1600x840 with 7 Axes>"
      ]
     },
     "execution_count": 59,
     "metadata": {},
     "output_type": "execute_result"
    }
   ],
   "source": [
    "eog_epochs = mne.preprocessing.create_eog_epochs(rawab12_1, baseline=(-0.5, -0.2))\n",
    "eog_epochs.plot_image(combine='mean')\n",
    "eog_epochs.average().plot_joint()"
   ]
  },
  {
   "cell_type": "code",
   "execution_count": null,
   "metadata": {},
   "outputs": [],
   "source": []
  }
 ],
 "metadata": {
  "kernelspec": {
   "display_name": "Python 3",
   "language": "python",
   "name": "python3"
  },
  "language_info": {
   "codemirror_mode": {
    "name": "ipython",
    "version": 3
   },
   "file_extension": ".py",
   "mimetype": "text/x-python",
   "name": "python",
   "nbconvert_exporter": "python",
   "pygments_lexer": "ipython3",
   "version": "3.7.6"
  }
 },
 "nbformat": 4,
 "nbformat_minor": 4
}
