{
 "cells": [
  {
   "cell_type": "code",
   "execution_count": 1,
   "metadata": {},
   "outputs": [
    {
     "name": "stdout",
     "output_type": "stream",
     "text": [
      "0.23.0\n"
     ]
    }
   ],
   "source": [
    "import matplotlib\n",
    "import pathlib\n",
    "\n",
    "import mne\n",
    "print(mne.__version__)\n",
    "import mne_bids\n",
    "\n",
    "matplotlib.use('Qt5Agg')"
   ]
  },
  {
   "cell_type": "code",
   "execution_count": 2,
   "metadata": {},
   "outputs": [],
   "source": [
    "# bids_root = pathlib.Path('data')\n",
    "\n",
    "# bids_path = mne_bids.BIDSPath(subject = 'AB6',\n",
    "#                              task = 'gonogo',\n",
    "#                              datatype = 'eeg',\n",
    "#                              root = bids_root,\n",
    "#                              run = '1')\n",
    "\n",
    "# bids_path = mne_bids.BIDSPath(subject = 'AB6',\n",
    "# #                              session = '1',\n",
    "#                              datatype = 'eeg',\n",
    "#                              run = '1',\n",
    "#                              task = 'gonogo',\n",
    "#                              root = bids_root)\n"
   ]
  },
  {
   "cell_type": "code",
   "execution_count": 3,
   "metadata": {},
   "outputs": [],
   "source": [
    "# path1 = pathlib.Path('data/sub-AB6/eeg/sub-AB6_task-gonogo_run-1_eeg.set')\n",
    "\n",
    "# raw = mne.io.read_raw_eeglab(path1)\n",
    "# raw.load_data()\n",
    "\n",
    "# events = mne.find_events(raw)\n",
    "# event_id = {\n",
    "#     'Auditory/Left': 1,\n",
    "#     'Auditory/Right': 2,\n",
    "#     'Visual/Left': 3,\n",
    "#     'Visual/Right': 4,\n",
    "#     'Smiley': 5,\n",
    "#     'Button': 32\n",
    "# }"
   ]
  },
  {
   "cell_type": "code",
   "execution_count": 4,
   "metadata": {},
   "outputs": [],
   "source": [
    "# raw = mne_bids.read_raw_bids(bids_path)\n",
    "# raw.load_data()\n",
    "# raw.data()\n",
    "# raw.filter(l_freq = 0.1, h_freq = 40)\n",
    "# events, event_id = mne.events_from_annotations(raw)"
   ]
  },
  {
   "cell_type": "markdown",
   "metadata": {},
   "source": [
    "## Reading the data using EEGLAB module"
   ]
  },
  {
   "cell_type": "code",
   "execution_count": 6,
   "metadata": {},
   "outputs": [],
   "source": [
    "rawab6_1 = mne.io.read_raw_eeglab('data/sub-AB6/eeg/sub-AB6_task-gonogo_run-1_eeg.set', eog=(), preload=True, uint16_codec=None, verbose=None)\n",
    "rawab6_2 = mne.io.read_raw_eeglab('data/sub-AB6/eeg/sub-AB6_task-gonogo_run-2_eeg.set', eog=(), preload=True, uint16_codec=None, verbose=None)\n",
    "\n",
    "rawab10_1 = mne.io.read_raw_eeglab('data/other subjects set files/sub-AB10_eeg_sub-AB10_task-gonogo_run-1_eeg.set', eog=(), preload=True, uint16_codec=None, verbose=None)\n",
    "rawab10_2 = mne.io.read_raw_eeglab('data/other subjects set files/sub-AB10_eeg_sub-AB10_task-gonogo_run-2_eeg.set', eog=(), preload=True, uint16_codec=None, verbose=None)\n",
    "\n",
    "# rawab11_1 = mne.io.read_raw_eeglab('data/other subjects set files/sub-AB11_eeg_sub-AB11_task-gonogo_run-1_eeg.set', eog=(), preload=True, uint16_codec=None, verbose=None)\n",
    "# rawab11_2 = mne.io.read_raw_eeglab('data/other subjects set files/sub-AB11_eeg_sub-AB11_task-gonogo_run-2_eeg.set', eog=(), preload=True, uint16_codec=None, verbose=None)\n",
    "\n",
    "rawab12_1 = mne.io.read_raw_eeglab('data/other subjects set files/sub-AB12_eeg_sub-AB12_task-gonogo_run-1_eeg.set', eog=(), preload=True, uint16_codec=None, verbose=None)\n",
    "rawab12_2 = mne.io.read_raw_eeglab('data/other subjects set files/sub-AB12_eeg_sub-AB12_task-gonogo_run-2_eeg.set', eog=(), preload=True, uint16_codec=None, verbose=None)\n",
    "\n",
    "rawab13_1 = mne.io.read_raw_eeglab('data/other subjects set files/sub-AB13_eeg_sub-AB13_task-gonogo_run-1_eeg.set', eog=(), preload=True, uint16_codec=None, verbose=None)\n",
    "rawab13_2 = mne.io.read_raw_eeglab('data/other subjects set files/sub-AB13_eeg_sub-AB13_task-gonogo_run-2_eeg.set', eog=(), preload=True, uint16_codec=None, verbose=None)\n",
    "\n",
    "rawab28_1 = mne.io.read_raw_eeglab('data/other subjects set files/sub-AB28_eeg_sub-AB28_task-gonogo_run-1_eeg.set', eog=(), preload=True, uint16_codec=None, verbose=None)\n",
    "rawab28_2 = mne.io.read_raw_eeglab('data/other subjects set files/sub-AB28_eeg_sub-AB28_task-gonogo_run-2_eeg.set', eog=(), preload=True, uint16_codec=None, verbose=None)\n",
    "\n",
    "rawab31_1 = mne.io.read_raw_eeglab('data/other subjects set files/sub-AB31_eeg_sub-AB31_task-gonogo_run-1_eeg.set', eog=(), preload=True, uint16_codec=None, verbose=None)\n",
    "rawab31_2 = mne.io.read_raw_eeglab('data/other subjects set files/sub-AB31_eeg_sub-AB31_task-gonogo_run-2_eeg.set', eog=(), preload=True, uint16_codec=None, verbose=None)\n",
    "\n",
    "rawab32_1 = mne.io.read_raw_eeglab('data/other subjects set files/sub-AB32_eeg_sub-AB32_task-gonogo_run-1_eeg.set', eog=(), preload=True, uint16_codec=None, verbose=None)\n",
    "rawab32_2 = mne.io.read_raw_eeglab('data/other subjects set files/sub-AB32_eeg_sub-AB32_task-gonogo_run-2_eeg.set', eog=(), preload=True, uint16_codec=None, verbose=None)\n"
   ]
  },
  {
   "cell_type": "code",
   "execution_count": 7,
   "metadata": {},
   "outputs": [
    {
     "data": {
      "text/plain": [
       "<MNEBrowseFigure size 1920x828 with 4 Axes>"
      ]
     },
     "execution_count": 7,
     "metadata": {},
     "output_type": "execute_result"
    }
   ],
   "source": [
    "rawab6_1.plot()\n",
    "rawab10_1.plot()\n",
    "rawab12_1.plot()\n",
    "rawab13_1.plot()\n"
   ]
  },
  {
   "cell_type": "code",
   "execution_count": 8,
   "metadata": {},
   "outputs": [
    {
     "name": "stdout",
     "output_type": "stream",
     "text": [
      "64\n",
      "The 64 eeg channels indices are:\n",
      "[ 0  1  2  3  4  5  6  7  8  9 10 11 12 13 14 15 16 17 18 19 20 21 22 23\n",
      " 24 25 26 27 28 29 30 31 32 33 34 35 36 37 38 39 40 41 42 43 44 45 46 47\n",
      " 48 49 50 51 52 53 54 55 56 57 58 59 60 61 62 63]\n",
      "66\n",
      "The 66 eeg channels indices are:\n",
      "[ 0  1  2  3  4  5  6  7  8  9 10 11 12 13 14 15 16 17 18 19 20 21 22 23\n",
      " 24 25 26 27 28 29 30 31 32 33 34 35 36 37 38 39 40 41 42 43 44 45 46 47\n",
      " 48 49 50 51 52 53 54 55 56 57 58 59 60 61 62 63 64 65]\n"
     ]
    }
   ],
   "source": [
    "rawab13_2.info\n",
    "# rawab6_2.info\n",
    "channel_indices_ab6_1 = mne.pick_types(rawab6_1.info, eeg=True)\n",
    "channel_indices_ab13_1 = mne.pick_types(rawab13_1.info, eeg=True)\n",
    "print(len(channel_indices_ab6_1))\n",
    "print(f\"The {len(channel_indices_ab6_1)} eeg channels indices are:\\n{channel_indices_ab6_1}\")\n",
    "print(len(channel_indices_ab13_1))\n",
    "print(f\"The {len(channel_indices_ab13_1)} eeg channels indices are:\\n{channel_indices_ab13_1}\")"
   ]
  },
  {
   "cell_type": "code",
   "execution_count": 9,
   "metadata": {},
   "outputs": [],
   "source": [
    "# eeg_indices = mne.pick_types(rawab13_1.info, meg=False, eeg=True)\n",
    "# reduced_info = mne.pick_info(rawab13_1.info, eeg_indices)\n",
    "# reduced_info"
   ]
  },
  {
   "cell_type": "markdown",
   "metadata": {},
   "source": [
    "## Generating the events for all Subjects"
   ]
  },
  {
   "cell_type": "code",
   "execution_count": 17,
   "metadata": {},
   "outputs": [
    {
     "name": "stdout",
     "output_type": "stream",
     "text": [
      "Used Annotations descriptions: ['1', '10', '2', '4', '5', '9']\n",
      "Used Annotations descriptions: ['1', '10', '2', '4', '5', '6', '7', '9']\n",
      "Used Annotations descriptions: ['1', '10', '11', '2', '3', '4', '5', '9']\n",
      "Used Annotations descriptions: ['1', '10', '2', '3', '4', '5', '9']\n",
      "Used Annotations descriptions: ['1', '10', '2', '4', '5', '6', '7', '9']\n",
      "Used Annotations descriptions: ['1', '10', '11', '2', '3', '4', '5', '6', '7', '9']\n",
      "Used Annotations descriptions: ['1', '10', '2', '3', '4', '5', '9']\n",
      "Used Annotations descriptions: ['1', '10', '11', '2', '4', '5', '6', '7', '9']\n",
      "Used Annotations descriptions: ['1', '10', '2', '4', '5', '6', '7', '9']\n",
      "Used Annotations descriptions: ['1', '10', '2', '3', '4', '5', '6', '7', '9']\n",
      "Used Annotations descriptions: ['1', '10', '2', '3', '4', '5', '9']\n",
      "Used Annotations descriptions: ['1', '10', '2', '3', '4', '5', '6', '7', '9']\n",
      "Used Annotations descriptions: ['1', '10', '11', '2', '3', '4', '5', '6', '7', '9']\n",
      "Used Annotations descriptions: ['1', '10', '2', '4', '5', '6', '7', '9']\n"
     ]
    }
   ],
   "source": [
    "eventsab6_1 = mne.events_from_annotations(rawab6_1)\n",
    "eventsab6_2 = mne.events_from_annotations(rawab6_2)\n",
    "\n",
    "eventsab10_1 = mne.events_from_annotations(rawab10_1)\n",
    "eventsab10_2 = mne.events_from_annotations(rawab10_2)\n",
    "\n",
    "eventsab12_1 = mne.events_from_annotations(rawab12_1)\n",
    "eventsab12_2 = mne.events_from_annotations(rawab12_2)\n",
    "\n",
    "eventsab13_1 = mne.events_from_annotations(rawab13_1)\n",
    "eventsab13_2 = mne.events_from_annotations(rawab13_2)\n",
    "\n",
    "eventsab28_1 = mne.events_from_annotations(rawab28_1)\n",
    "eventsab28_2 = mne.events_from_annotations(rawab28_2)\n",
    "\n",
    "eventsab31_1 = mne.events_from_annotations(rawab31_1)\n",
    "eventsab31_2 = mne.events_from_annotations(rawab31_2)\n",
    "\n",
    "eventsab32_1 = mne.events_from_annotations(rawab32_1)\n",
    "eventsab32_2 = mne.events_from_annotations(rawab32_2)"
   ]
  },
  {
   "cell_type": "markdown",
   "metadata": {},
   "source": [
    "## Creating the event_id dictionary"
   ]
  },
  {
   "cell_type": "code",
   "execution_count": 18,
   "metadata": {},
   "outputs": [
    {
     "data": {
      "text/plain": [
       "{'taskstart': '9',\n",
       " 'cue': '1',\n",
       " 'go': '2',\n",
       " 'button press': '5',\n",
       " 'no-go': '4',\n",
       " 'task end': '10',\n",
       " 'error 1': '3',\n",
       " 'error 2': '6',\n",
       " 'error 3': '7',\n",
       " 'error 4': '8',\n",
       " 'error 5': '11'}"
      ]
     },
     "execution_count": 18,
     "metadata": {},
     "output_type": "execute_result"
    }
   ],
   "source": [
    "event_id = {\n",
    "    \"taskstart\" : '9',\n",
    "    \"cue\" : \"1\",\n",
    "    \"go\" : \"2\",\n",
    "    \"button press\" : \"5\",\n",
    "    \"no-go\" : \"4\",\n",
    "    \"task end\": \"10\",\n",
    "    \"error 1\" : \"3\",\n",
    "    \"error 2\" : \"6\",\n",
    "    \"error 3\" : \"7\",\n",
    "    \"error 4\" : \"8\",\n",
    "    \"error 5\" : \"11\"\n",
    "}\n",
    "event_id"
   ]
  },
  {
   "cell_type": "markdown",
   "metadata": {},
   "source": [
    "## Dropping unwanted channels from the various Subjects"
   ]
  },
  {
   "cell_type": "code",
   "execution_count": 19,
   "metadata": {},
   "outputs": [
    {
     "data": {
      "text/html": [
       "\n",
       "\n",
       "<table class=\"table table-hover\">\n",
       "    <tr>\n",
       "        <th>Measurement date</th>\n",
       "<td>Unknown</td>\n",
       "    </tr>\n",
       "    <tr>\n",
       "        <th>Experimenter</th>\n",
       "<td>Unknown</td>\n",
       "    </tr>\n",
       "        <th>Participant</th>\n",
       "<td>Unknown</td>\n",
       "    </tr>\n",
       "    <tr>\n",
       "        <th>Digitized points</th>\n",
       "        <td>66 points</td>\n",
       "    </tr>\n",
       "    <tr>\n",
       "        <th>Good channels</th>\n",
       "        <td>0 magnetometer, 0 gradiometer,\n",
       "            and 63 EEG channels</td>\n",
       "    </tr>\n",
       "    <tr>\n",
       "        <th>Bad channels</th>\n",
       "        <td></td>\n",
       "        \n",
       "    </tr>\n",
       "    <tr>\n",
       "        <th>EOG channels</th>\n",
       "        <td>Not available</td>\n",
       "    </tr>\n",
       "    <tr>\n",
       "        <th>ECG channels</th>\n",
       "        <td>Not available</td>\n",
       "    <tr>\n",
       "        <th>Sampling frequency</th>\n",
       "        <td>500.00 Hz</td>\n",
       "    </tr>\n",
       "    <tr>\n",
       "        <th>Highpass</th>\n",
       "        <td>0.00 Hz</td>\n",
       "    </tr>\n",
       "     <tr>\n",
       "        <th>Lowpass</th>\n",
       "        <td>250.00 Hz</td>\n",
       "    </tr>\n",
       "\n",
       "    <tr>\n",
       "        <th>Filenames</th>\n",
       "        <td>sub-AB32_eeg_sub-AB32_task-gonogo_run-2_eeg.set</td>\n",
       "    </tr>\n",
       "    <tr>\n",
       "        <th>Duration</th>\n",
       "        <td>00:08:16 (HH:MM:SS)</td>\n",
       "    </tr>\n",
       "</table>\n"
      ],
      "text/plain": [
       "<RawEEGLAB | sub-AB32_eeg_sub-AB32_task-gonogo_run-2_eeg.set, 63 x 248300 (496.6 s), ~119.4 MB, data loaded>"
      ]
     },
     "execution_count": 19,
     "metadata": {},
     "output_type": "execute_result"
    }
   ],
   "source": [
    "rawab6_1.drop_channels(ch_names = \"EKG\")\n",
    "rawab6_2.drop_channels(ch_names = \"EKG\")\n",
    "\n",
    "rawab10_1.drop_channels(ch_names = [\"EKG\", \"R-Dia-X-(mm)\", \"R-Dia-Y-(mm)\"])\n",
    "rawab10_2.drop_channels(ch_names = [\"EKG\", \"R-Dia-X-(mm)\", \"R-Dia-Y-(mm)\"])\n",
    "\n",
    "rawab12_1.drop_channels(ch_names = [\"EKG\", \"R-Dia-X-(mm)\", \"R-Dia-Y-(mm)\"])\n",
    "rawab12_2.drop_channels(ch_names = [\"EKG\", \"R-Dia-X-(mm)\", \"R-Dia-Y-(mm)\"])\n",
    "\n",
    "rawab13_1.drop_channels(ch_names = [\"EKG\", \"R-Dia-X-(mm)\", \"R-Dia-Y-(mm)\"])\n",
    "rawab13_2.drop_channels(ch_names = [\"EKG\", \"R-Dia-X-(mm)\", \"R-Dia-Y-(mm)\"])\n",
    "\n",
    "rawab28_1.drop_channels(ch_names = [\"EKG\", \"R-Dia-X-(mm)\", \"R-Dia-Y-(mm)\"])\n",
    "rawab28_2.drop_channels(ch_names = [\"EKG\", \"R-Dia-X-(mm)\", \"R-Dia-Y-(mm)\"])\n",
    "\n",
    "rawab31_1.drop_channels(ch_names = [\"EKG\", \"R-Dia-X-(mm)\", \"R-Dia-Y-(mm)\"])\n",
    "rawab31_2.drop_channels(ch_names = [\"EKG\", \"R-Dia-X-(mm)\", \"R-Dia-Y-(mm)\"])\n",
    "\n",
    "rawab32_1.drop_channels(ch_names = [\"EKG\", \"R-Dia-X-(mm)\", \"R-Dia-Y-(mm)\"])\n",
    "rawab32_2.drop_channels(ch_names = [\"EKG\", \"R-Dia-X-(mm)\", \"R-Dia-Y-(mm)\"])\n",
    "\n",
    "# rawab14_1.drop_channels(ch_names = [\"EKG\", \"R-Dia-X-(mm)\", \"R-Dia-Y-(mm)\"])\n",
    "# rawab14_2.drop_channels(ch_names = [\"EKG\", \"R-Dia-X-(mm)\", \"R-Dia-Y-(mm)\"])"
   ]
  },
  {
   "cell_type": "markdown",
   "metadata": {},
   "source": [
    "## Plotting 2D and 3D positions of the 63 Sensors"
   ]
  },
  {
   "cell_type": "code",
   "execution_count": 12,
   "metadata": {},
   "outputs": [],
   "source": [
    "rawab6_1.plot_sensors(ch_type = 'eeg', sphere = 10);\n",
    "# rawab6_2.plot_sensors(ch_type = 'eeg', sphere = 10);\n",
    "\n",
    "rawab10_1.plot_sensors(ch_type = 'eeg', sphere = 10);\n",
    "# rawab10_2.plot_sensors(ch_type = 'eeg', sphere = 10);\n",
    "\n",
    "rawab12_1.plot_sensors(ch_type = 'eeg', sphere = 10);\n",
    "# rawab12_2.plot_sensors(ch_type = 'eeg', sphere = 10);\n",
    "\n",
    "rawab13_1.plot_sensors(ch_type = 'eeg', sphere = 10);\n",
    "# rawab13_2.plot_sensors(ch_type = 'eeg', sphere = 10);\n",
    "\n",
    "rawab28_1.plot_sensors(ch_type = 'eeg', sphere = 10);\n",
    "# rawab28_2.plot_sensors(ch_type = 'eeg', sphere = 10);\n",
    "\n",
    "rawab31_1.plot_sensors(ch_type = 'eeg', sphere = 10);\n",
    "# rawab31_2.plot_sensors(ch_type = 'eeg', sphere = 10);\n",
    "\n",
    "rawab32_1.plot_sensors(ch_type = 'eeg', sphere = 10);\n",
    "# rawab32_2.plot_sensors(ch_type = 'eeg', sphere = 10);"
   ]
  },
  {
   "cell_type": "code",
   "execution_count": 21,
   "metadata": {},
   "outputs": [],
   "source": [
    "rawab6_1.plot_sensors(ch_type = 'eeg', kind = '3d');\n",
    "# rawab6_2.plot_sensors(ch_type = 'eeg', kind = '3d');\n",
    "\n",
    "rawab10_1.plot_sensors(ch_type = 'eeg', kind = '3d');\n",
    "# rawab10_2.plot_sensors(ch_type = 'eeg', kind = '3d');\n",
    "\n",
    "rawab12_1.plot_sensors(ch_type = 'eeg', kind = '3d');\n",
    "# rawab12_2.plot_sensors(ch_type = 'eeg', kind = '3d');\n",
    "\n",
    "rawab13_1.plot_sensors(ch_type = 'eeg', kind = '3d');\n",
    "# rawab13_2.plot_sensors(ch_type = 'eeg', kind = '3d');\n",
    "\n",
    "rawab28_1.plot_sensors(ch_type = 'eeg', kind = '3d');\n",
    "# rawab28_2.plot_sensors(ch_type = 'eeg', kind = '3d');\n",
    "\n",
    "rawab31_1.plot_sensors(ch_type = 'eeg', kind = '3d');\n",
    "# rawab31_2.plot_sensors(ch_type = 'eeg', kind = '3d');\n",
    "\n",
    "rawab32_1.plot_sensors(ch_type = 'eeg', kind = '3d');\n",
    "# rawab32_2.plot_sensors(ch_type = 'eeg', kind = '3d');"
   ]
  },
  {
   "cell_type": "code",
   "execution_count": 32,
   "metadata": {},
   "outputs": [],
   "source": [
    "# rawab6_1"
   ]
  },
  {
   "cell_type": "code",
   "execution_count": 33,
   "metadata": {},
   "outputs": [],
   "source": [
    "# rawab6_1.plot_sensors(ch_type = 'eeg', sphere = 10)\n",
    "# rawab6_2.plot_sensors(ch_type = 'eeg', sphere = 10)"
   ]
  },
  {
   "cell_type": "code",
   "execution_count": null,
   "metadata": {},
   "outputs": [],
   "source": []
  },
  {
   "cell_type": "markdown",
   "metadata": {},
   "source": [
    "## Implementing ICA and SSP Projections"
   ]
  },
  {
   "cell_type": "code",
   "execution_count": 13,
   "metadata": {},
   "outputs": [
    {
     "name": "stderr",
     "output_type": "stream",
     "text": [
      "<ipython-input-13-1497dd8d8761>:1: DeprecationWarning: Version 0.23 introduced max_iter=\"auto\", setting max_iter=1000 for `fastica` and max_iter=500 for `infomax` and `picard`. The current default of max_iter=200 will be changed to \"auto\" in version 0.24.\n",
      "  ica = mne.preprocessing.ICA(n_components = 20, random_state = 42)\n"
     ]
    }
   ],
   "source": [
    "ica = mne.preprocessing.ICA(n_components = 20, random_state = 42)"
   ]
  },
  {
   "cell_type": "code",
   "execution_count": 51,
   "metadata": {},
   "outputs": [],
   "source": [
    "ica.exclude = [11, 14, 19]"
   ]
  },
  {
   "cell_type": "code",
   "execution_count": 55,
   "metadata": {},
   "outputs": [],
   "source": [
    "# clean_ab6_1 = ica.apply(rawab6_1.copy().filter(1, 50), exclude = ica.exclude)\n",
    "# clean_ab6_2 = ica.apply(rawab6_2.copy().filter(1, 50), exclude = ica.exclude)\n",
    "# clean_ab6_1.plot();\n",
    "# clean_ab6_2.plot();"
   ]
  },
  {
   "cell_type": "code",
   "execution_count": 56,
   "metadata": {},
   "outputs": [
    {
     "name": "stderr",
     "output_type": "stream",
     "text": [
      "<ipython-input-56-1497dd8d8761>:1: DeprecationWarning: Version 0.23 introduced max_iter=\"auto\", setting max_iter=1000 for `fastica` and max_iter=500 for `infomax` and `picard`. The current default of max_iter=200 will be changed to \"auto\" in version 0.24.\n",
      "  ica = mne.preprocessing.ICA(n_components = 20, random_state = 42)\n"
     ]
    }
   ],
   "source": [
    "ica = mne.preprocessing.ICA(n_components = 20, random_state = 42)"
   ]
  },
  {
   "cell_type": "code",
   "execution_count": 59,
   "metadata": {},
   "outputs": [
    {
     "name": "stdout",
     "output_type": "stream",
     "text": [
      "Filtering raw data in 1 contiguous segment\n",
      "Setting up band-pass filter from 8 - 35 Hz\n",
      "\n",
      "FIR filter parameters\n",
      "---------------------\n",
      "Designing a one-pass, zero-phase, non-causal bandpass filter:\n",
      "- Windowed time-domain design (firwin) method\n",
      "- Hamming window with 0.0194 passband ripple and 53 dB stopband attenuation\n",
      "- Lower passband edge: 8.00\n",
      "- Lower transition bandwidth: 2.00 Hz (-6 dB cutoff frequency: 7.00 Hz)\n",
      "- Upper passband edge: 35.00 Hz\n",
      "- Upper transition bandwidth: 8.75 Hz (-6 dB cutoff frequency: 39.38 Hz)\n",
      "- Filter length: 825 samples (1.650 sec)\n",
      "\n",
      "Fitting ICA to data using 63 channels (please be patient, this may take a while)\n",
      "Selecting by number: 20 components\n",
      "Fitting ICA took 12.4s.\n",
      "Filtering raw data in 1 contiguous segment\n",
      "Setting up band-pass filter from 8 - 35 Hz\n",
      "\n",
      "FIR filter parameters\n",
      "---------------------\n",
      "Designing a one-pass, zero-phase, non-causal bandpass filter:\n",
      "- Windowed time-domain design (firwin) method\n",
      "- Hamming window with 0.0194 passband ripple and 53 dB stopband attenuation\n",
      "- Lower passband edge: 8.00\n",
      "- Lower transition bandwidth: 2.00 Hz (-6 dB cutoff frequency: 7.00 Hz)\n",
      "- Upper passband edge: 35.00 Hz\n",
      "- Upper transition bandwidth: 8.75 Hz (-6 dB cutoff frequency: 39.38 Hz)\n",
      "- Filter length: 825 samples (1.650 sec)\n",
      "\n",
      "Fitting ICA to data using 63 channels (please be patient, this may take a while)\n",
      "Selecting by number: 20 components\n",
      "Fitting ICA took 8.6s.\n"
     ]
    }
   ],
   "source": [
    "cleaned_ab6_1 = ica.fit(rawab6_1.copy().filter(8, 35))\n",
    "cleaned_ab6_2 = ica.fit(rawab6_2.copy().filter(8, 35))"
   ]
  },
  {
   "cell_type": "code",
   "execution_count": 61,
   "metadata": {},
   "outputs": [
    {
     "data": {
      "text/plain": [
       "[<MNEFigure size 975x963 with 20 Axes>]"
      ]
     },
     "execution_count": 61,
     "metadata": {},
     "output_type": "execute_result"
    }
   ],
   "source": [
    "ica.plot_components(outlines = 'head', sphere = 10, ch_type = 'eeg')"
   ]
  },
  {
   "cell_type": "code",
   "execution_count": 60,
   "metadata": {},
   "outputs": [
    {
     "ename": "AttributeError",
     "evalue": "'ICA' object has no attribute 'plot'",
     "output_type": "error",
     "traceback": [
      "\u001b[1;31m---------------------------------------------------------------------------\u001b[0m",
      "\u001b[1;31mAttributeError\u001b[0m                            Traceback (most recent call last)",
      "\u001b[1;32m<ipython-input-60-70f1ef83ca8c>\u001b[0m in \u001b[0;36m<module>\u001b[1;34m\u001b[0m\n\u001b[1;32m----> 1\u001b[1;33m \u001b[0mcleaned_ab6_1\u001b[0m\u001b[1;33m.\u001b[0m\u001b[0mplot\u001b[0m\u001b[1;33m(\u001b[0m\u001b[1;33m)\u001b[0m\u001b[1;33m;\u001b[0m\u001b[1;33m\u001b[0m\u001b[1;33m\u001b[0m\u001b[0m\n\u001b[0m\u001b[0;32m      2\u001b[0m \u001b[0mcleaned_ab6_2\u001b[0m\u001b[1;33m.\u001b[0m\u001b[0mplot\u001b[0m\u001b[1;33m(\u001b[0m\u001b[1;33m)\u001b[0m\u001b[1;33m;\u001b[0m\u001b[1;33m\u001b[0m\u001b[1;33m\u001b[0m\u001b[0m\n",
      "\u001b[1;31mAttributeError\u001b[0m: 'ICA' object has no attribute 'plot'"
     ]
    }
   ],
   "source": [
    "cleaned_ab6_1.plot();\n",
    "cleaned_ab6_2.plot();"
   ]
  },
  {
   "cell_type": "code",
   "execution_count": 64,
   "metadata": {},
   "outputs": [
    {
     "data": {
      "text/plain": [
       "<MNEFigure size 750x220 with 5 Axes>"
      ]
     },
     "execution_count": 64,
     "metadata": {},
     "output_type": "execute_result"
    }
   ],
   "source": [
    "evoked2.plot_topomap(ch_type = 'eeg')"
   ]
  },
  {
   "cell_type": "code",
   "execution_count": null,
   "metadata": {},
   "outputs": [],
   "source": []
  },
  {
   "cell_type": "code",
   "execution_count": 69,
   "metadata": {},
   "outputs": [],
   "source": [
    "# ecg_projs, ecg_events = mne.preprocessing.compute_proj_ecg(rawab6_1, n_grad = 1, n_mag = 1, n_eeg = 0,\n",
    "#                                                            average = True)\n",
    "# eog_projs, eog_events = mne.preprocessing.compute_proj_eog(raw, n_grad = 1, n_mag = 1, n_eeg = 0,\n",
    "#                                                            average = True)"
   ]
  },
  {
   "cell_type": "markdown",
   "metadata": {},
   "source": [
    "## Creating Epochs of data for different Subjects"
   ]
  },
  {
   "cell_type": "code",
   "execution_count": 64,
   "metadata": {},
   "outputs": [],
   "source": [
    "# help(ica.plot_components)"
   ]
  },
  {
   "cell_type": "code",
   "execution_count": 80,
   "metadata": {},
   "outputs": [
    {
     "name": "stdout",
     "output_type": "stream",
     "text": [
      "{'1': 1, '10': 2, '11': 3, '2': 4, '3': 5, '4': 6, '5': 7, '9': 8}\n"
     ]
    }
   ],
   "source": [
    "print(eventsab10_1[1])\n",
    "# print(eventsab6_1[0].shape)"
   ]
  },
  {
   "cell_type": "code",
   "execution_count": 81,
   "metadata": {},
   "outputs": [
    {
     "data": {
      "text/plain": [
       "array([[ 4968,     0,     8],\n",
       "       [ 7636,     0,     1],\n",
       "       [ 8707,     0,     4],\n",
       "       [ 8892,     0,     7],\n",
       "       [11940,     0,     1],\n",
       "       [12807,     0,     4],\n",
       "       [13123,     0,     7],\n",
       "       [15497,     0,     1],\n",
       "       [16752,     0,     4],\n",
       "       [17075,     0,     7]])"
      ]
     },
     "execution_count": 81,
     "metadata": {},
     "output_type": "execute_result"
    }
   ],
   "source": [
    "eventsab10_1[0][:10]"
   ]
  },
  {
   "cell_type": "code",
   "execution_count": 82,
   "metadata": {},
   "outputs": [],
   "source": [
    "ev_epochsab6_1 = epochsab6_1.events\n",
    "# ev_epochsab6_1"
   ]
  },
  {
   "cell_type": "code",
   "execution_count": null,
   "metadata": {},
   "outputs": [],
   "source": []
  },
  {
   "cell_type": "code",
   "execution_count": 20,
   "metadata": {},
   "outputs": [
    {
     "name": "stdout",
     "output_type": "stream",
     "text": [
      "Not setting metadata\n",
      "Not setting metadata\n",
      "152 matching events found\n",
      "Setting baseline interval to [-0.2, 0.0] sec\n",
      "Applying baseline correction (mode: mean)\n",
      "0 projection items activated\n",
      "Not setting metadata\n",
      "Not setting metadata\n",
      "152 matching events found\n",
      "Setting baseline interval to [-0.2, 0.0] sec\n",
      "Applying baseline correction (mode: mean)\n",
      "0 projection items activated\n",
      "Not setting metadata\n",
      "Not setting metadata\n",
      "155 matching events found\n",
      "Setting baseline interval to [-0.2, 0.0] sec\n",
      "Applying baseline correction (mode: mean)\n",
      "0 projection items activated\n",
      "Not setting metadata\n",
      "Not setting metadata\n",
      "153 matching events found\n",
      "Setting baseline interval to [-0.2, 0.0] sec\n",
      "Applying baseline correction (mode: mean)\n",
      "0 projection items activated\n",
      "Not setting metadata\n",
      "Not setting metadata\n",
      "154 matching events found\n",
      "Setting baseline interval to [-0.2, 0.0] sec\n",
      "Applying baseline correction (mode: mean)\n",
      "0 projection items activated\n",
      "Not setting metadata\n",
      "Not setting metadata\n",
      "158 matching events found\n",
      "Setting baseline interval to [-0.2, 0.0] sec\n",
      "Applying baseline correction (mode: mean)\n",
      "0 projection items activated\n",
      "Not setting metadata\n",
      "Not setting metadata\n",
      "153 matching events found\n",
      "Setting baseline interval to [-0.2, 0.0] sec\n",
      "Applying baseline correction (mode: mean)\n",
      "0 projection items activated\n",
      "Not setting metadata\n",
      "Not setting metadata\n",
      "156 matching events found\n",
      "Setting baseline interval to [-0.2, 0.0] sec\n",
      "Applying baseline correction (mode: mean)\n",
      "0 projection items activated\n",
      "Not setting metadata\n",
      "Not setting metadata\n",
      "154 matching events found\n",
      "Setting baseline interval to [-0.2, 0.0] sec\n",
      "Applying baseline correction (mode: mean)\n",
      "0 projection items activated\n",
      "Not setting metadata\n",
      "Not setting metadata\n",
      "157 matching events found\n",
      "Setting baseline interval to [-0.2, 0.0] sec\n",
      "Applying baseline correction (mode: mean)\n",
      "0 projection items activated\n",
      "Not setting metadata\n",
      "Not setting metadata\n",
      "155 matching events found\n",
      "Setting baseline interval to [-0.2, 0.0] sec\n",
      "Applying baseline correction (mode: mean)\n",
      "0 projection items activated\n",
      "Not setting metadata\n",
      "Not setting metadata\n",
      "159 matching events found\n",
      "Setting baseline interval to [-0.2, 0.0] sec\n",
      "Applying baseline correction (mode: mean)\n",
      "0 projection items activated\n",
      "Not setting metadata\n",
      "Not setting metadata\n",
      "167 matching events found\n",
      "Setting baseline interval to [-0.2, 0.0] sec\n",
      "Applying baseline correction (mode: mean)\n",
      "0 projection items activated\n",
      "Not setting metadata\n",
      "Not setting metadata\n",
      "154 matching events found\n",
      "Setting baseline interval to [-0.2, 0.0] sec\n",
      "Applying baseline correction (mode: mean)\n",
      "0 projection items activated\n",
      "Loading data for 152 events and 351 original time points ...\n",
      "0 bad epochs dropped\n",
      "Loading data for 152 events and 351 original time points ...\n",
      "Loading data for 20 events and 351 original time points ...\n"
     ]
    },
    {
     "data": {
      "text/plain": [
       "<MNEBrowseFigure size 1920x823 with 4 Axes>"
      ]
     },
     "execution_count": 20,
     "metadata": {},
     "output_type": "execute_result"
    },
    {
     "name": "stdout",
     "output_type": "stream",
     "text": [
      "Dropped 0 epochs: \n",
      "Channels marked as bad: none\n"
     ]
    }
   ],
   "source": [
    "epochsab6_1 = mne.Epochs(rawab6_1,\n",
    "                   events = eventsab6_1[0],\n",
    "                   event_id = eventsab6_1[1],\n",
    "                   )\n",
    "epochsab6_2 = mne.Epochs(rawab6_2,\n",
    "                   events = eventsab6_1[0],\n",
    "                   event_id = eventsab6_1[1],)\n",
    "\n",
    "epochsab10_1 = mne.Epochs(rawab10_1,\n",
    "                   events = eventsab10_1[0],\n",
    "                   event_id = eventsab10_1[1],)\n",
    "epochsab10_2 = mne.Epochs(rawab10_2,\n",
    "                   events = eventsab10_2[0],\n",
    "                   event_id = eventsab10_2[1],)\n",
    "\n",
    "epochsab12_1 = mne.Epochs(rawab12_1,\n",
    "                   events = eventsab12_1[0],\n",
    "                   event_id = eventsab12_1[1],)\n",
    "epochsab12_2 = mne.Epochs(rawab12_2,\n",
    "                   events = eventsab12_2[0],\n",
    "                   event_id = eventsab12_2[1],)\n",
    "\n",
    "epochsab13_1 = mne.Epochs(rawab13_1,\n",
    "                   events = eventsab13_1[0],\n",
    "                   event_id = eventsab13_1[1],)\n",
    "epochsab13_2 = mne.Epochs(rawab13_2,\n",
    "                   events = eventsab13_2[0],\n",
    "                   event_id = eventsab13_2[1],)\n",
    "\n",
    "epochsab28_1 = mne.Epochs(rawab28_1,\n",
    "                   events = eventsab28_1[0],\n",
    "                   event_id = eventsab28_1[1],)\n",
    "epochsab28_2 = mne.Epochs(rawab28_2,\n",
    "                   events = eventsab28_2[0],\n",
    "                   event_id = eventsab28_2[1],)\n",
    "\n",
    "epochsab31_1 = mne.Epochs(rawab31_1,\n",
    "                   events = eventsab31_1[0],\n",
    "                   event_id = eventsab31_1[1],)\n",
    "epochsab31_2 = mne.Epochs(rawab31_2,\n",
    "                   events = eventsab31_2[0],\n",
    "                   event_id = eventsab31_2[1],)\n",
    "\n",
    "epochsab32_1 = mne.Epochs(rawab32_1,\n",
    "                   events = eventsab32_1[0],\n",
    "                   event_id = eventsab32_1[1],)\n",
    "epochsab32_2 = mne.Epochs(rawab32_2,\n",
    "                   events = eventsab32_2[0],\n",
    "                   event_id = eventsab32_2[1],)\n",
    "\n",
    "epochsab6_1.plot()"
   ]
  },
  {
   "cell_type": "code",
   "execution_count": 23,
   "metadata": {},
   "outputs": [],
   "source": [
    "# def get_keys_from_value(d, val):\n",
    "#     return [k for k, v in d.items() if v == val]\n",
    "\n",
    "# def replace(dataevents2, dataevents1):\n",
    "#     len = dataevents2.shape[0];\n",
    "#     for i in range(len):\n",
    "#         dataevents2[i][2] = int(get_keys_from_value(dataevents1[1], dataevents2[i][2])[0]);\n",
    "#     return dataevents2;\n",
    "\n",
    "#Changing event indicators(ex. 6 becomes 9)\n",
    "def get_keys_from_value(d, val):\n",
    "    return [k for k, v in d.items() if v == val]\n",
    "def fix_event_ids(epochsab, eventsab):\n",
    "    for i in range(epochsab.events.shape[0]):\n",
    "        epochsab.events[i][2] = int(get_keys_from_value(eventsab[1], epochsab.events[i][2])[0])"
   ]
  },
  {
   "cell_type": "code",
   "execution_count": 24,
   "metadata": {},
   "outputs": [],
   "source": [
    "# for i in range(epochsab6_1.shape[0]):\n",
    "#     ev_epochsab6_1[i][2] = int(get_keys_from_value(eventsab6_1[1], ev_epochsab6_1[i][2])[0])\n",
    "fix_event_ids(epochsab6_1, eventsab6_1)"
   ]
  },
  {
   "cell_type": "code",
   "execution_count": 26,
   "metadata": {},
   "outputs": [],
   "source": [
    "fix_event_ids(epochsab10_1, eventsab10_1)\n",
    "fix_event_ids(epochsab12_1, eventsab12_1)\n",
    "fix_event_ids(epochsab13_1, eventsab13_1)\n",
    "fix_event_ids(epochsab28_1, eventsab28_1)\n",
    "fix_event_ids(epochsab31_1, eventsab31_1)\n",
    "fix_event_ids(epochsab32_1, eventsab32_1)\n"
   ]
  },
  {
   "cell_type": "code",
   "execution_count": 29,
   "metadata": {},
   "outputs": [],
   "source": [
    "fix_event_ids(epochsab10_2, eventsab10_2)\n",
    "fix_event_ids(epochsab12_2, eventsab12_2)\n",
    "fix_event_ids(epochsab13_2, eventsab13_2)\n",
    "fix_event_ids(epochsab28_2, eventsab28_2)\n",
    "fix_event_ids(epochsab31_2, eventsab31_2)\n",
    "fix_event_ids(epochsab32_2, eventsab32_2)"
   ]
  },
  {
   "cell_type": "code",
   "execution_count": 31,
   "metadata": {},
   "outputs": [
    {
     "data": {
      "text/plain": [
       "array([[ 2398,     0,     9],\n",
       "       [ 5066,     0,     1],\n",
       "       [ 5914,     0,     2],\n",
       "       [ 6065,     0,     5],\n",
       "       [ 8825,     0,     1],\n",
       "       [ 9622,     0,     2],\n",
       "       [ 9751,     0,     5],\n",
       "       [13972,     0,     1],\n",
       "       [17720,     0,     1],\n",
       "       [18495,     0,     2]])"
      ]
     },
     "execution_count": 31,
     "metadata": {},
     "output_type": "execute_result"
    }
   ],
   "source": [
    "epochsab28_2.events[:10]"
   ]
  },
  {
   "cell_type": "code",
   "execution_count": 21,
   "metadata": {},
   "outputs": [
    {
     "data": {
      "text/html": [
       "\n",
       "<table class=\"table table-hover\">\n",
       "    <tr>\n",
       "        <th>Number of events</th>\n",
       "        <td>152</td>\n",
       "    </tr>\n",
       "    <tr>\n",
       "        <th>Events</th>\n",
       "        <td>1: 60<br>10: 1<br>2: 40<br>4: 10<br>5: 40<br>9: 1<br></td>\n",
       "    </tr>\n",
       "    <tr>\n",
       "        <th>Time range</th>\n",
       "        <td>-0.200 – 0.500 sec</td>\n",
       "    </tr>\n",
       "    <tr>\n",
       "        <th>Baseline</th>\n",
       "        <td>-0.200 – 0.000 sec</td>\n",
       "    </tr>\n",
       "</table>\n"
      ],
      "text/plain": [
       "<Epochs |  152 events (all good), -0.2 - 0.5 sec, baseline -0.2 – 0 sec, ~88 kB, data not loaded,\n",
       " '1': 60\n",
       " '10': 1\n",
       " '2': 40\n",
       " '4': 10\n",
       " '5': 40\n",
       " '9': 1>"
      ]
     },
     "execution_count": 21,
     "metadata": {},
     "output_type": "execute_result"
    }
   ],
   "source": [
    "epochsab6_1"
   ]
  },
  {
   "cell_type": "code",
   "execution_count": 22,
   "metadata": {},
   "outputs": [
    {
     "data": {
      "text/html": [
       "\n",
       "<table class=\"table table-hover\">\n",
       "    <tr>\n",
       "        <th>Number of events</th>\n",
       "        <td>155</td>\n",
       "    </tr>\n",
       "    <tr>\n",
       "        <th>Events</th>\n",
       "        <td>1: 60<br>10: 1<br>11: 1<br>2: 40<br>3: 2<br>4: 10<br>5: 40<br>9: 1<br></td>\n",
       "    </tr>\n",
       "    <tr>\n",
       "        <th>Time range</th>\n",
       "        <td>-0.200 – 0.500 sec</td>\n",
       "    </tr>\n",
       "    <tr>\n",
       "        <th>Baseline</th>\n",
       "        <td>-0.200 – 0.000 sec</td>\n",
       "    </tr>\n",
       "</table>\n"
      ],
      "text/plain": [
       "<Epochs |  155 events (good & bad), -0.2 - 0.5 sec, baseline -0.2 – 0 sec, ~89 kB, data not loaded,\n",
       " '1': 60\n",
       " '10': 1\n",
       " '11': 1\n",
       " '2': 40\n",
       " '3': 2\n",
       " '4': 10\n",
       " '5': 40\n",
       " '9': 1>"
      ]
     },
     "execution_count": 22,
     "metadata": {},
     "output_type": "execute_result"
    }
   ],
   "source": [
    "epochsab10_1"
   ]
  },
  {
   "cell_type": "code",
   "execution_count": 17,
   "metadata": {},
   "outputs": [],
   "source": [
    "# rawab6_1 = ica.apply(rawab6_1.copy().filter(1, 50), exclude = ica.exclude)\n",
    "# raw_m.plot();"
   ]
  },
  {
   "cell_type": "markdown",
   "metadata": {},
   "source": [
    "## Evoked"
   ]
  },
  {
   "cell_type": "code",
   "execution_count": 15,
   "metadata": {},
   "outputs": [
    {
     "name": "stdout",
     "output_type": "stream",
     "text": [
      "Dropped 0 epochs: \n",
      "Channels marked as bad: none\n"
     ]
    },
    {
     "data": {
      "text/plain": [
       "<Figure size 640x296 with 1 Axes>"
      ]
     },
     "execution_count": 15,
     "metadata": {},
     "output_type": "execute_result"
    }
   ],
   "source": [
    "# target_ab6_1 = epochsab6_1[\"target\"].average()\n",
    "target = epochsab6_1[0].average()\n",
    "target.plot()"
   ]
  },
  {
   "cell_type": "code",
   "execution_count": 16,
   "metadata": {},
   "outputs": [
    {
     "data": {
      "text/html": [
       "\n",
       "<table class=\"table table-hover\">\n",
       "    <tr>\n",
       "        <th>Number of events</th>\n",
       "        <td>152</td>\n",
       "    </tr>\n",
       "    <tr>\n",
       "        <th>Events</th>\n",
       "        <td>1: 60<br>10: 1<br>2: 40<br>4: 10<br>5: 40<br>9: 1<br></td>\n",
       "    </tr>\n",
       "    <tr>\n",
       "        <th>Time range</th>\n",
       "        <td>-0.200 – 0.500 sec</td>\n",
       "    </tr>\n",
       "    <tr>\n",
       "        <th>Baseline</th>\n",
       "        <td>-0.200 – 0.000 sec</td>\n",
       "    </tr>\n",
       "</table>\n"
      ],
      "text/plain": [
       "<Epochs |  152 events (all good), -0.2 - 0.5 sec, baseline -0.2 – 0 sec, ~88 kB, data not loaded,\n",
       " '1': 60\n",
       " '10': 1\n",
       " '2': 40\n",
       " '4': 10\n",
       " '5': 40\n",
       " '9': 1>"
      ]
     },
     "execution_count": 16,
     "metadata": {},
     "output_type": "execute_result"
    }
   ],
   "source": [
    "epochsab6_1"
   ]
  },
  {
   "cell_type": "code",
   "execution_count": 17,
   "metadata": {},
   "outputs": [
    {
     "data": {
      "text/plain": [
       "<Figure size 640x296 with 2 Axes>"
      ]
     },
     "execution_count": 17,
     "metadata": {},
     "output_type": "execute_result"
    }
   ],
   "source": [
    "evoked1 = epochsab6_1['10'].copy().average()\n",
    "evoked2 = epochsab6_2.copy().average()\n",
    "\n",
    "evoked1.plot(spatial_colors = True)\n",
    "# evoked2.plot()"
   ]
  },
  {
   "cell_type": "code",
   "execution_count": 19,
   "metadata": {},
   "outputs": [
    {
     "data": {
      "text/plain": [
       "<Evoked | '10' (average, N=1), -0.2 – 0.5 sec, baseline -0.2 – 0 sec, 63 ch, ~261 kB>"
      ]
     },
     "execution_count": 19,
     "metadata": {},
     "output_type": "execute_result"
    }
   ],
   "source": [
    "evoked1"
   ]
  },
  {
   "cell_type": "code",
   "execution_count": null,
   "metadata": {},
   "outputs": [],
   "source": []
  },
  {
   "cell_type": "code",
   "execution_count": null,
   "metadata": {},
   "outputs": [],
   "source": []
  },
  {
   "cell_type": "markdown",
   "metadata": {},
   "source": [
    "## Applying Machine Learning Models for classification purposes"
   ]
  },
  {
   "cell_type": "code",
   "execution_count": 31,
   "metadata": {},
   "outputs": [],
   "source": [
    "import numpy as np\n",
    "import tensorflow as tf\n",
    "import matplotlib.pyplot as plt\n",
    "%matplotlib inline\n",
    "\n",
    "from tensorflow.keras.models import Model, Sequential\n",
    "from tensorflow.keras.layers import Dense, Softmax\n",
    "from tensorflow.keras.optimizers import Adam\n",
    "from tensorflow.keras.callbacks import EarlyStopping, ModelCheckpoint"
   ]
  },
  {
   "cell_type": "code",
   "execution_count": 19,
   "metadata": {},
   "outputs": [
    {
     "name": "stdout",
     "output_type": "stream",
     "text": [
      "Loading data for 152 events and 351 original time points ...\n",
      "(152, 63, 351)\n",
      "Loading data for 152 events and 351 original time points ...\n",
      "0 bad epochs dropped\n",
      "(152, 63, 351)\n",
      "Loading data for 155 events and 351 original time points ...\n",
      "0 bad epochs dropped\n",
      "(155, 63, 351)\n",
      "Loading data for 153 events and 351 original time points ...\n",
      "0 bad epochs dropped\n",
      "(153, 63, 351)\n",
      "Loading data for 154 events and 351 original time points ...\n",
      "0 bad epochs dropped\n",
      "(154, 63, 351)\n",
      "Loading data for 158 events and 351 original time points ...\n",
      "0 bad epochs dropped\n",
      "(158, 63, 351)\n",
      "Loading data for 153 events and 351 original time points ...\n",
      "0 bad epochs dropped\n",
      "(153, 63, 351)\n",
      "Loading data for 156 events and 351 original time points ...\n",
      "0 bad epochs dropped\n",
      "(156, 63, 351)\n",
      "Loading data for 154 events and 351 original time points ...\n",
      "0 bad epochs dropped\n",
      "(154, 63, 351)\n",
      "Loading data for 157 events and 351 original time points ...\n",
      "0 bad epochs dropped\n",
      "(157, 63, 351)\n",
      "Loading data for 155 events and 351 original time points ...\n",
      "0 bad epochs dropped\n",
      "(155, 63, 351)\n",
      "Loading data for 159 events and 351 original time points ...\n",
      "0 bad epochs dropped\n",
      "(159, 63, 351)\n",
      "Loading data for 167 events and 351 original time points ...\n",
      "0 bad epochs dropped\n",
      "(167, 63, 351)\n",
      "Loading data for 154 events and 351 original time points ...\n",
      "0 bad epochs dropped\n",
      "(154, 63, 351)\n"
     ]
    },
    {
     "data": {
      "text/plain": [
       "(2179, 63, 351)"
      ]
     },
     "execution_count": 19,
     "metadata": {},
     "output_type": "execute_result"
    }
   ],
   "source": [
    "epochs_copyab6_1 = epochsab6_1.copy()\n",
    "dataab6_1 = epochs_copyab6_1.get_data()\n",
    "print(dataab6_1.shape)\n",
    "epochs_copyab6_2 = epochsab6_2.copy()\n",
    "dataab6_2 = epochs_copyab6_2.get_data()\n",
    "print(dataab6_2.shape)\n",
    "\n",
    "epochs_copyab10_1 = epochsab10_1.copy()\n",
    "dataab10_1 = epochs_copyab10_1.get_data()\n",
    "print(dataab10_1.shape)\n",
    "epochs_copyab10_2 = epochsab10_2.copy()\n",
    "dataab10_2 = epochs_copyab10_2.get_data()\n",
    "print(dataab10_2.shape)\n",
    "\n",
    "epochs_copyab12_1 = epochsab12_1.copy()\n",
    "dataab12_1 = epochs_copyab12_1.get_data()\n",
    "print(dataab12_1.shape)\n",
    "epochs_copyab12_2 = epochsab12_2.copy()\n",
    "dataab12_2 = epochs_copyab12_2.get_data()\n",
    "print(dataab12_2.shape)\n",
    "\n",
    "epochs_copyab13_1 = epochsab13_1.copy()\n",
    "dataab13_1 = epochs_copyab13_1.get_data()\n",
    "print(dataab13_1.shape)\n",
    "epochs_copyab13_2 = epochsab13_2.copy()\n",
    "dataab13_2 = epochs_copyab13_2.get_data()\n",
    "print(dataab13_2.shape)\n",
    "\n",
    "epochs_copyab28_1 = epochsab28_1.copy()\n",
    "dataab28_1 = epochs_copyab28_1.get_data()\n",
    "print(dataab28_1.shape)\n",
    "epochs_copyab28_2 = epochsab28_2.copy()\n",
    "dataab28_2 = epochs_copyab28_2.get_data()\n",
    "print(dataab28_2.shape)\n",
    "\n",
    "epochs_copyab31_1 = epochsab31_1.copy()\n",
    "dataab31_1 = epochs_copyab31_1.get_data()\n",
    "print(dataab31_1.shape)\n",
    "epochs_copyab31_2 = epochsab31_2.copy()\n",
    "dataab31_2 = epochs_copyab31_2.get_data()\n",
    "print(dataab31_2.shape)\n",
    "\n",
    "epochs_copyab32_1 = epochsab32_1.copy()\n",
    "dataab32_1 = epochs_copyab32_1.get_data()\n",
    "print(dataab32_1.shape)\n",
    "epochs_copyab32_2 = epochsab32_2.copy()\n",
    "dataab32_2 = epochs_copyab32_2.get_data()\n",
    "print(dataab32_2.shape)\n",
    "\n",
    "\n",
    "data = np.concatenate([dataab6_1, dataab6_2,\n",
    "                      dataab10_1, dataab10_2,\n",
    "                      dataab12_1, dataab12_2,\n",
    "                      dataab13_1, dataab13_2,\n",
    "                      dataab28_1, dataab28_2,\n",
    "                      dataab31_1, dataab31_2,\n",
    "                      dataab32_1, dataab32_2], \n",
    "                      axis = 0)\n",
    "data.shape"
   ]
  },
  {
   "cell_type": "code",
   "execution_count": 20,
   "metadata": {},
   "outputs": [
    {
     "name": "stdout",
     "output_type": "stream",
     "text": [
      "(2179, 22113)\n"
     ]
    }
   ],
   "source": [
    "n_trials = data.shape[0]\n",
    "data = data.reshape(n_trials, -1)\n",
    "print(data.shape)\n",
    "dims_ip = data.shape[1]\n",
    "# dims_ip"
   ]
  },
  {
   "cell_type": "code",
   "execution_count": 30,
   "metadata": {},
   "outputs": [
    {
     "name": "stdout",
     "output_type": "stream",
     "text": [
      "(152, 3)\n"
     ]
    },
    {
     "data": {
      "text/plain": [
       "array([[  979,     0,     6],\n",
       "       [ 3641,     0,     1],\n",
       "       [ 4532,     0,     3],\n",
       "       [ 4704,     0,     5],\n",
       "       [ 7453,     0,     1],\n",
       "       [ 8513,     0,     3],\n",
       "       [ 8663,     0,     5],\n",
       "       [11543,     0,     1],\n",
       "       [12343,     0,     3],\n",
       "       [12591,     0,     5]])"
      ]
     },
     "execution_count": 30,
     "metadata": {},
     "output_type": "execute_result"
    }
   ],
   "source": [
    "print(epochsab6_1.events.shape)\n",
    "epochsab6_1.events[:10]"
   ]
  },
  {
   "cell_type": "code",
   "execution_count": 27,
   "metadata": {},
   "outputs": [
    {
     "name": "stdout",
     "output_type": "stream",
     "text": [
      "(155,)\n",
      "(144,)\n",
      "1\n",
      "2\n",
      "3\n",
      "4\n",
      "5\n",
      "6\n",
      "7\n",
      "8\n",
      "None\n",
      "1\n"
     ]
    }
   ],
   "source": [
    "yab6_1 = epochsab6_1.events[:, 2]\n",
    "yab6_2 = epochsab6_2.events[:, 2]\n",
    "\n",
    "yab10_1 = epochsab10_1.events[:, 2]\n",
    "yab10_2 = epochsab10_2.events[:, 2]\n",
    "\n",
    "yab12_1 = epochsab12_1.events[:, 2]\n",
    "yab12_2 = epochsab12_2.events[:, 2]\n",
    "\n",
    "yab13_1 = epochsab13_1.events[:, 2]\n",
    "yab13_2 = epochsab13_2.events[:, 2]\n",
    "\n",
    "yab28_1 = epochsab28_1.events[:, 2]\n",
    "yab28_2 = epochsab28_2.events[:, 2]\n",
    "\n",
    "yab31_1 = epochsab31_1.events[:, 2]\n",
    "yab31_2 = epochsab31_2.events[:, 2]\n",
    "\n",
    "yab32_1 = epochsab32_1.events[:, 2]\n",
    "yab32_2 = epochsab32_2.events[:, 2]\n",
    "\n",
    "y = np.concatenate([yab6_1, yab6_2,\n",
    "                   yab10_1, yab10_2,\n",
    "                   yab12_1, yab12_2,\n",
    "                   yab13_1, yab13_2,\n",
    "                   yab28_1, yab28_2,\n",
    "                   yab31_1, yab31_2,\n",
    "                   yab32_1, yab32_2],\n",
    "                   axis = 0)\n",
    "\n",
    "def unique(list1):\n",
    "    # insert the list to the set\n",
    "    list_set = set(list1)\n",
    "    # convert the set to the list\n",
    "    unique_list = (list(list_set))\n",
    "    for x in unique_list:\n",
    "        print(x);\n",
    "        \n",
    "#6: task start\n",
    "#2: task end\n",
    "#{'1': 1(cue), '10': 2(task end), '2': 3(go), '4': 4(no-go), '5': 5(button press), '9': 6(task start)}\n",
    "#\n",
    "#\n",
    "#\n",
    "\n",
    "# print(y.shape)\n",
    "# print(unique(y))\n",
    "\n",
    "y_copy = yab10_1.copy()\n",
    "print(y_copy.shape)\n",
    "y_copy = y_copy[y_copy[:]!=6]\n",
    "y_copy = y_copy[y_copy[:]!=2]\n",
    "\n",
    "# print(unique(y_copy))\n",
    "# y_copy[:15]\n",
    "print(y_copy.shape)\n",
    "# unique(yab6_1)\n",
    "\n",
    "# num_classes = 11\n",
    "# y = tf.keras.utils.to_categorical(y, num_classes)\n",
    "# y[:5]\n",
    "# yab6_1[0]\n",
    "\n",
    "print(unique(yab10_1))\n",
    "\n",
    "\n",
    "j = 0;\n",
    "for i in range(len(yab10_1)):\n",
    "    if (yab10_1[i] == 2):\n",
    "        j = j + 1;\n",
    "print(j)"
   ]
  },
  {
   "cell_type": "code",
   "execution_count": 23,
   "metadata": {},
   "outputs": [],
   "source": [
    "# !pip install tensorflow"
   ]
  },
  {
   "cell_type": "code",
   "execution_count": 24,
   "metadata": {},
   "outputs": [
    {
     "name": "stdout",
     "output_type": "stream",
     "text": [
      "WARNING:tensorflow:From D:\\anacondainstalled\\lib\\site-packages\\tensorflow\\python\\keras\\initializers.py:143: calling RandomNormal.__init__ (from tensorflow.python.ops.init_ops) with dtype is deprecated and will be removed in a future version.\n",
      "Instructions for updating:\n",
      "Call initializer instance with the dtype argument instead of passing it to the constructor\n"
     ]
    },
    {
     "ename": "NameError",
     "evalue": "name 'num_classes' is not defined",
     "output_type": "error",
     "traceback": [
      "\u001b[1;31m---------------------------------------------------------------------------\u001b[0m",
      "\u001b[1;31mNameError\u001b[0m                                 Traceback (most recent call last)",
      "\u001b[1;32m<ipython-input-24-b2292c591e58>\u001b[0m in \u001b[0;36m<module>\u001b[1;34m\u001b[0m\n\u001b[0;32m      3\u001b[0m \u001b[0mdense1\u001b[0m \u001b[1;33m=\u001b[0m \u001b[0mtf\u001b[0m\u001b[1;33m.\u001b[0m\u001b[0mkeras\u001b[0m\u001b[1;33m.\u001b[0m\u001b[0mlayers\u001b[0m\u001b[1;33m.\u001b[0m\u001b[0mDense\u001b[0m\u001b[1;33m(\u001b[0m\u001b[0munits\u001b[0m \u001b[1;33m=\u001b[0m \u001b[1;36m10\u001b[0m\u001b[1;33m,\u001b[0m \u001b[0mactivation\u001b[0m \u001b[1;33m=\u001b[0m \u001b[1;34m'relu'\u001b[0m\u001b[1;33m,\u001b[0m \u001b[0mkernel_initializer\u001b[0m \u001b[1;33m=\u001b[0m \u001b[1;34m'random_normal'\u001b[0m\u001b[1;33m)\u001b[0m\u001b[1;33m(\u001b[0m\u001b[0mip\u001b[0m\u001b[1;33m)\u001b[0m\u001b[1;33m\u001b[0m\u001b[1;33m\u001b[0m\u001b[0m\n\u001b[0;32m      4\u001b[0m \u001b[0mdense2\u001b[0m \u001b[1;33m=\u001b[0m \u001b[0mtf\u001b[0m\u001b[1;33m.\u001b[0m\u001b[0mkeras\u001b[0m\u001b[1;33m.\u001b[0m\u001b[0mlayers\u001b[0m\u001b[1;33m.\u001b[0m\u001b[0mDense\u001b[0m\u001b[1;33m(\u001b[0m\u001b[0munits\u001b[0m \u001b[1;33m=\u001b[0m \u001b[1;36m10\u001b[0m\u001b[1;33m,\u001b[0m \u001b[0mactivation\u001b[0m \u001b[1;33m=\u001b[0m \u001b[1;34m'relu'\u001b[0m\u001b[1;33m,\u001b[0m \u001b[0mkernel_initializer\u001b[0m \u001b[1;33m=\u001b[0m \u001b[1;34m'random_normal'\u001b[0m\u001b[1;33m)\u001b[0m\u001b[1;33m(\u001b[0m\u001b[0mdense1\u001b[0m\u001b[1;33m)\u001b[0m\u001b[1;33m\u001b[0m\u001b[1;33m\u001b[0m\u001b[0m\n\u001b[1;32m----> 5\u001b[1;33m \u001b[0mout\u001b[0m \u001b[1;33m=\u001b[0m \u001b[0mtf\u001b[0m\u001b[1;33m.\u001b[0m\u001b[0mkeras\u001b[0m\u001b[1;33m.\u001b[0m\u001b[0mlayers\u001b[0m\u001b[1;33m.\u001b[0m\u001b[0mDense\u001b[0m\u001b[1;33m(\u001b[0m\u001b[0mnum_classes\u001b[0m\u001b[1;33m,\u001b[0m \u001b[0mactivation\u001b[0m \u001b[1;33m=\u001b[0m \u001b[1;34m'softmax'\u001b[0m\u001b[1;33m)\u001b[0m\u001b[1;33m(\u001b[0m\u001b[0mdense2\u001b[0m\u001b[1;33m)\u001b[0m\u001b[1;33m\u001b[0m\u001b[1;33m\u001b[0m\u001b[0m\n\u001b[0m\u001b[0;32m      6\u001b[0m \u001b[1;33m\u001b[0m\u001b[0m\n\u001b[0;32m      7\u001b[0m \u001b[0mmodel\u001b[0m \u001b[1;33m=\u001b[0m \u001b[0mtf\u001b[0m\u001b[1;33m.\u001b[0m\u001b[0mkeras\u001b[0m\u001b[1;33m.\u001b[0m\u001b[0mModel\u001b[0m\u001b[1;33m(\u001b[0m\u001b[0minputs\u001b[0m \u001b[1;33m=\u001b[0m \u001b[0mip\u001b[0m\u001b[1;33m,\u001b[0m \u001b[0moutputs\u001b[0m \u001b[1;33m=\u001b[0m \u001b[0mout\u001b[0m\u001b[1;33m)\u001b[0m\u001b[1;33m\u001b[0m\u001b[1;33m\u001b[0m\u001b[0m\n",
      "\u001b[1;31mNameError\u001b[0m: name 'num_classes' is not defined"
     ]
    }
   ],
   "source": [
    "inp_shape = (dims_ip, )\n",
    "ip = tf.keras.Input(shape = inp_shape)\n",
    "dense1 = tf.keras.layers.Dense(units = 10, activation = 'relu', kernel_initializer = 'random_normal')(ip)\n",
    "dense2 = tf.keras.layers.Dense(units = 10, activation = 'relu', kernel_initializer = 'random_normal')(dense1)\n",
    "out = tf.keras.layers.Dense(num_classes, activation = 'softmax')(dense2)\n",
    "\n",
    "model = tf.keras.Model(inputs = ip, outputs = out)\n",
    "\n",
    "# inp_shape = (None, )\n",
    "# review_sequence = tf.keras.Input(shape = inp_shape)\n",
    "# embedding_sequence = tf.keras.layers.Embedding(input_dim=100+1, output_dim=32, input_shape=(review_sequence.shape), mask_zero=False)(review_sequence)\n",
    "# average_embedding = tf.keras.layers.GlobalAveragePooling1D()(embedding_sequence)\n",
    "# positive_probability = tf.keras.layers.Dense(units=1, activation='sigmoid')(average_embedding)\n",
    "\n",
    "# model = tf.keras.Model(inputs = review_sequence, outputs = positive_probability)"
   ]
  },
  {
   "cell_type": "code",
   "execution_count": null,
   "metadata": {},
   "outputs": [],
   "source": [
    "model.summary()"
   ]
  },
  {
   "cell_type": "code",
   "execution_count": 42,
   "metadata": {},
   "outputs": [],
   "source": [
    "# opt = Adam(0.001)\n",
    "\n",
    "earlystop = EarlyStopping(patience = 50, min_delta = 0.0001, monitor = 'acc')\n",
    "\n",
    "path = 'model_checkpoint/checkpoint_{epoch:02d}';\n",
    "model_checkpoint = ModelCheckpoint(filepath = path,\n",
    "                            verbose = 1,\n",
    "                            monitor = 'acc',\n",
    "                            save_freq = 'epoch',\n",
    "                            save_best_only = True,\n",
    "                            save_weights_only = True)\n",
    "\n",
    "model.compile(loss = 'categorical_crossentropy', metrics = ['accuracy'], optimizer = 'adam')"
   ]
  },
  {
   "cell_type": "code",
   "execution_count": 43,
   "metadata": {},
   "outputs": [
    {
     "name": "stdout",
     "output_type": "stream",
     "text": [
      "Epoch 1/1000\n",
      "2176/2179 [============================>.] - ETA: 0s - loss: 2.3570 - acc: 0.1255\n",
      "Epoch 00001: acc improved from -inf to 0.12529, saving model to model_checkpoint/checkpoint_01\n",
      "2179/2179 [==============================] - 1s 643us/sample - loss: 2.3569 - acc: 0.1253\n",
      "Epoch 2/1000\n",
      "2048/2179 [===========================>..] - ETA: 0s - loss: 2.2468 - acc: 0.3369\n",
      "Epoch 00002: acc improved from 0.12529 to 0.34144, saving model to model_checkpoint/checkpoint_02\n",
      "2179/2179 [==============================] - 1s 404us/sample - loss: 2.2419 - acc: 0.3414\n",
      "Epoch 3/1000\n",
      "2144/2179 [============================>.] - ETA: 0s - loss: 2.0917 - acc: 0.3853\n",
      "Epoch 00003: acc improved from 0.34144 to 0.38550, saving model to model_checkpoint/checkpoint_03\n",
      "2179/2179 [==============================] - 1s 365us/sample - loss: 2.0907 - acc: 0.3855\n",
      "Epoch 4/1000\n",
      "2176/2179 [============================>.] - ETA: 0s - loss: 1.9429 - acc: 0.3851\n",
      "Epoch 00004: acc did not improve from 0.38550\n",
      "2179/2179 [==============================] - 1s 410us/sample - loss: 1.9425 - acc: 0.3855\n",
      "Epoch 5/1000\n",
      "2144/2179 [============================>.] - ETA: 0s - loss: 1.8312 - acc: 0.3857\n",
      "Epoch 00005: acc did not improve from 0.38550\n",
      "2179/2179 [==============================] - 1s 607us/sample - loss: 1.8314 - acc: 0.3855\n",
      "Epoch 6/1000\n",
      "2080/2179 [===========================>..] - ETA: 0s - loss: 1.7704 - acc: 0.3856- ETA: 0s - loss: 1.7720 - acc: 0.3\n",
      "Epoch 00006: acc did not improve from 0.38550\n",
      "2179/2179 [==============================] - 1s 323us/sample - loss: 1.7676 - acc: 0.3855\n",
      "Epoch 7/1000\n",
      "2144/2179 [============================>.] - ETA: 0s - loss: 1.7387 - acc: 0.3857\n",
      "Epoch 00007: acc did not improve from 0.38550\n",
      "2179/2179 [==============================] - 1s 328us/sample - loss: 1.7381 - acc: 0.3855\n",
      "Epoch 8/1000\n",
      "2080/2179 [===========================>..] - ETA: 0s - loss: 1.7169 - acc: 0.3880\n",
      "Epoch 00008: acc did not improve from 0.38550\n",
      "2179/2179 [==============================] - 1s 364us/sample - loss: 1.7236 - acc: 0.3855\n",
      "Epoch 9/1000\n",
      "2144/2179 [============================>.] - ETA: 0s - loss: 1.7170 - acc: 0.3843\n",
      "Epoch 00009: acc did not improve from 0.38550\n",
      "2179/2179 [==============================] - 1s 402us/sample - loss: 1.7154 - acc: 0.3855\n",
      "Epoch 10/1000\n",
      "2176/2179 [============================>.] - ETA: 0s - loss: 1.7092 - acc: 0.3860\n",
      "Epoch 00010: acc did not improve from 0.38550\n",
      "2179/2179 [==============================] - 1s 350us/sample - loss: 1.7101 - acc: 0.3855\n",
      "Epoch 11/1000\n",
      "2176/2179 [============================>.] - ETA: 0s - loss: 1.7067 - acc: 0.3856\n",
      "Epoch 00011: acc did not improve from 0.38550\n",
      "2179/2179 [==============================] - 1s 341us/sample - loss: 1.7066 - acc: 0.3855\n",
      "Epoch 12/1000\n",
      "2144/2179 [============================>.] - ETA: 0s - loss: 1.7036 - acc: 0.3857\n",
      "Epoch 00012: acc did not improve from 0.38550\n",
      "2179/2179 [==============================] - 1s 345us/sample - loss: 1.7039 - acc: 0.3855\n",
      "Epoch 13/1000\n",
      "2112/2179 [============================>.] - ETA: 0s - loss: 1.7010 - acc: 0.3845\n",
      "Epoch 00013: acc did not improve from 0.38550\n",
      "2179/2179 [==============================] - 1s 357us/sample - loss: 1.7023 - acc: 0.3855\n",
      "Epoch 14/1000\n",
      "2112/2179 [============================>.] - ETA: 0s - loss: 1.6985 - acc: 0.3864\n",
      "Epoch 00014: acc did not improve from 0.38550\n",
      "2179/2179 [==============================] - 1s 347us/sample - loss: 1.7009 - acc: 0.3855\n",
      "Epoch 15/1000\n",
      "2048/2179 [===========================>..] - ETA: 0s - loss: 1.7036 - acc: 0.3838\n",
      "Epoch 00015: acc did not improve from 0.38550\n",
      "2179/2179 [==============================] - 1s 335us/sample - loss: 1.6999 - acc: 0.3855\n",
      "Epoch 16/1000\n",
      "2176/2179 [============================>.] - ETA: 0s - loss: 1.6995 - acc: 0.3851\n",
      "Epoch 00016: acc did not improve from 0.38550\n",
      "2179/2179 [==============================] - 1s 339us/sample - loss: 1.6991 - acc: 0.3855\n",
      "Epoch 17/1000\n",
      "2080/2179 [===========================>..] - ETA: 0s - loss: 1.7009 - acc: 0.3856- ETA: 0s - loss: 1.6533 - a\n",
      "Epoch 00017: acc did not improve from 0.38550\n",
      "2179/2179 [==============================] - 1s 321us/sample - loss: 1.6986 - acc: 0.3855\n",
      "Epoch 18/1000\n",
      "2144/2179 [============================>.] - ETA: 0s - loss: 1.6979 - acc: 0.3853\n",
      "Epoch 00018: acc did not improve from 0.38550\n",
      "2179/2179 [==============================] - 1s 354us/sample - loss: 1.6982 - acc: 0.3855\n",
      "Epoch 19/1000\n",
      "2144/2179 [============================>.] - ETA: 0s - loss: 1.6977 - acc: 0.3857\n",
      "Epoch 00019: acc did not improve from 0.38550\n",
      "2179/2179 [==============================] - 1s 385us/sample - loss: 1.6976 - acc: 0.3855\n",
      "Epoch 20/1000\n",
      "2080/2179 [===========================>..] - ETA: 0s - loss: 1.7009 - acc: 0.3832\n",
      "Epoch 00020: acc did not improve from 0.38550\n",
      "2179/2179 [==============================] - 1s 369us/sample - loss: 1.6973 - acc: 0.3855\n",
      "Epoch 21/1000\n",
      "2176/2179 [============================>.] - ETA: 0s - loss: 1.6970 - acc: 0.3856\n",
      "Epoch 00021: acc did not improve from 0.38550\n",
      "2179/2179 [==============================] - 1s 335us/sample - loss: 1.6969 - acc: 0.3855\n",
      "Epoch 22/1000\n",
      "2144/2179 [============================>.] - ETA: 0s - loss: 1.6970 - acc: 0.3853\n",
      "Epoch 00022: acc did not improve from 0.38550\n",
      "2179/2179 [==============================] - 1s 347us/sample - loss: 1.6965 - acc: 0.3855\n",
      "Epoch 23/1000\n",
      "2112/2179 [============================>.] - ETA: 0s - loss: 1.6996 - acc: 0.3845\n",
      "Epoch 00023: acc did not improve from 0.38550\n",
      "2179/2179 [==============================] - 1s 357us/sample - loss: 1.6967 - acc: 0.3855\n",
      "Epoch 24/1000\n",
      "2080/2179 [===========================>..] - ETA: 0s - loss: 1.6948 - acc: 0.3846\n",
      "Epoch 00024: acc did not improve from 0.38550\n",
      "2179/2179 [==============================] - 1s 325us/sample - loss: 1.6964 - acc: 0.3855\n",
      "Epoch 25/1000\n",
      "2080/2179 [===========================>..] - ETA: 0s - loss: 1.6964 - acc: 0.3851\n",
      "Epoch 00025: acc did not improve from 0.38550\n",
      "2179/2179 [==============================] - 1s 388us/sample - loss: 1.6959 - acc: 0.3855\n",
      "Epoch 26/1000\n",
      "2048/2179 [===========================>..] - ETA: 0s - loss: 1.6975 - acc: 0.3853\n",
      "Epoch 00026: acc did not improve from 0.38550\n",
      "2179/2179 [==============================] - 1s 371us/sample - loss: 1.6959 - acc: 0.3855\n",
      "Epoch 27/1000\n",
      "2112/2179 [============================>.] - ETA: 0s - loss: 1.6964 - acc: 0.3868\n",
      "Epoch 00027: acc did not improve from 0.38550\n",
      "2179/2179 [==============================] - 1s 416us/sample - loss: 1.6958 - acc: 0.3855\n",
      "Epoch 28/1000\n",
      "2048/2179 [===========================>..] - ETA: 0s - loss: 1.6906 - acc: 0.3843\n",
      "Epoch 00028: acc did not improve from 0.38550\n",
      "2179/2179 [==============================] - 1s 315us/sample - loss: 1.6958 - acc: 0.3855\n",
      "Epoch 29/1000\n",
      "2176/2179 [============================>.] - ETA: 0s - loss: 1.6947 - acc: 0.3851\n",
      "Epoch 00029: acc did not improve from 0.38550\n",
      "2179/2179 [==============================] - 1s 339us/sample - loss: 1.6955 - acc: 0.3855\n",
      "Epoch 30/1000\n",
      "2176/2179 [============================>.] - ETA: 0s - loss: 1.6955 - acc: 0.3856\n",
      "Epoch 00030: acc did not improve from 0.38550\n",
      "2179/2179 [==============================] - 1s 317us/sample - loss: 1.6953 - acc: 0.3855\n",
      "Epoch 31/1000\n",
      "2016/2179 [==========================>...] - ETA: 0s - loss: 1.6895 - acc: 0.3909\n",
      "Epoch 00031: acc did not improve from 0.38550\n",
      "2179/2179 [==============================] - 1s 327us/sample - loss: 1.6950 - acc: 0.3855\n",
      "Epoch 32/1000\n",
      "2144/2179 [============================>.] - ETA: 0s - loss: 1.6986 - acc: 0.3829\n",
      "Epoch 00032: acc did not improve from 0.38550\n",
      "2179/2179 [==============================] - 1s 358us/sample - loss: 1.6953 - acc: 0.3855\n",
      "Epoch 33/1000\n",
      "2048/2179 [===========================>..] - ETA: 0s - loss: 1.6924 - acc: 0.3853\n",
      "Epoch 00033: acc did not improve from 0.38550\n",
      "2179/2179 [==============================] - 1s 335us/sample - loss: 1.6952 - acc: 0.3855\n",
      "Epoch 34/1000\n",
      "2080/2179 [===========================>..] - ETA: 0s - loss: 1.6906 - acc: 0.3899\n",
      "Epoch 00034: acc did not improve from 0.38550\n",
      "2179/2179 [==============================] - 1s 358us/sample - loss: 1.6949 - acc: 0.3855\n",
      "Epoch 35/1000\n",
      "2048/2179 [===========================>..] - ETA: 0s - loss: 1.7015 - acc: 0.3809\n",
      "Epoch 00035: acc did not improve from 0.38550\n",
      "2179/2179 [==============================] - 1s 345us/sample - loss: 1.6952 - acc: 0.3855\n",
      "Epoch 36/1000\n",
      "2112/2179 [============================>.] - ETA: 0s - loss: 1.6965 - acc: 0.3840\n",
      "Epoch 00036: acc did not improve from 0.38550\n",
      "2179/2179 [==============================] - 1s 329us/sample - loss: 1.6949 - acc: 0.3855\n",
      "Epoch 37/1000\n",
      "2080/2179 [===========================>..] - ETA: 0s - loss: 1.6904 - acc: 0.3875\n",
      "Epoch 00037: acc did not improve from 0.38550\n",
      "2179/2179 [==============================] - 1s 325us/sample - loss: 1.6950 - acc: 0.3855\n",
      "Epoch 38/1000\n",
      "2144/2179 [============================>.] - ETA: 0s - loss: 1.6958 - acc: 0.3829\n",
      "Epoch 00038: acc did not improve from 0.38550\n",
      "2179/2179 [==============================] - 1s 321us/sample - loss: 1.6951 - acc: 0.3855\n",
      "Epoch 39/1000\n",
      "2144/2179 [============================>.] - ETA: 0s - loss: 1.6943 - acc: 0.3876\n",
      "Epoch 00039: acc did not improve from 0.38550\n",
      "2179/2179 [==============================] - 1s 326us/sample - loss: 1.6948 - acc: 0.3855\n",
      "Epoch 40/1000\n",
      "2048/2179 [===========================>..] - ETA: 0s - loss: 1.6917 - acc: 0.3862\n",
      "Epoch 00040: acc did not improve from 0.38550\n",
      "2179/2179 [==============================] - 1s 356us/sample - loss: 1.6947 - acc: 0.3855\n",
      "Epoch 41/1000\n",
      "2048/2179 [===========================>..] - ETA: 0s - loss: 1.6924 - acc: 0.3857\n",
      "Epoch 00041: acc did not improve from 0.38550\n",
      "2179/2179 [==============================] - 1s 309us/sample - loss: 1.6947 - acc: 0.3855\n",
      "Epoch 42/1000\n",
      "2176/2179 [============================>.] - ETA: 0s - loss: 1.6943 - acc: 0.3856\n",
      "Epoch 00042: acc did not improve from 0.38550\n",
      "2179/2179 [==============================] - 1s 353us/sample - loss: 1.6947 - acc: 0.3855\n",
      "Epoch 43/1000\n",
      "2080/2179 [===========================>..] - ETA: 0s - loss: 1.6991 - acc: 0.3837\n",
      "Epoch 00043: acc did not improve from 0.38550\n",
      "2179/2179 [==============================] - 1s 356us/sample - loss: 1.6945 - acc: 0.3855\n",
      "Epoch 44/1000\n",
      "2176/2179 [============================>.] - ETA: 0s - loss: 1.6947 - acc: 0.3856\n",
      "Epoch 00044: acc did not improve from 0.38550\n",
      "2179/2179 [==============================] - 1s 333us/sample - loss: 1.6945 - acc: 0.3855\n",
      "Epoch 45/1000\n",
      "2048/2179 [===========================>..] - ETA: 0s - loss: 1.6961 - acc: 0.3848\n",
      "Epoch 00045: acc did not improve from 0.38550\n",
      "2179/2179 [==============================] - 1s 305us/sample - loss: 1.6944 - acc: 0.3855\n",
      "Epoch 46/1000\n",
      "2144/2179 [============================>.] - ETA: 0s - loss: 1.6939 - acc: 0.3853\n",
      "Epoch 00046: acc did not improve from 0.38550\n",
      "2179/2179 [==============================] - 1s 390us/sample - loss: 1.6942 - acc: 0.3855\n",
      "Epoch 47/1000\n",
      "2112/2179 [============================>.] - ETA: 0s - loss: 1.6865 - acc: 0.3887\n",
      "Epoch 00047: acc did not improve from 0.38550\n",
      "2179/2179 [==============================] - 1s 426us/sample - loss: 1.6944 - acc: 0.3855\n",
      "Epoch 48/1000\n",
      "2144/2179 [============================>.] - ETA: 0s - loss: 1.6920 - acc: 0.3876\n",
      "Epoch 00048: acc did not improve from 0.38550\n",
      "2179/2179 [==============================] - 1s 309us/sample - loss: 1.6948 - acc: 0.3855\n",
      "Epoch 49/1000\n",
      "2080/2179 [===========================>..] - ETA: 0s - loss: 1.6896 - acc: 0.3894\n",
      "Epoch 00049: acc did not improve from 0.38550\n",
      "2179/2179 [==============================] - 1s 328us/sample - loss: 1.6943 - acc: 0.3855\n",
      "Epoch 50/1000\n",
      "2048/2179 [===========================>..] - ETA: 0s - loss: 1.6914 - acc: 0.3862\n",
      "Epoch 00050: acc did not improve from 0.38550\n",
      "2179/2179 [==============================] - 1s 323us/sample - loss: 1.6943 - acc: 0.3855\n",
      "Epoch 51/1000\n",
      "2176/2179 [============================>.] - ETA: 0s - loss: 1.6954 - acc: 0.3847\n",
      "Epoch 00051: acc did not improve from 0.38550\n",
      "2179/2179 [==============================] - 1s 272us/sample - loss: 1.6943 - acc: 0.3855\n",
      "Epoch 52/1000\n",
      "2176/2179 [============================>.] - ETA: 0s - loss: 1.6950 - acc: 0.3851\n",
      "Epoch 00052: acc did not improve from 0.38550\n",
      "2179/2179 [==============================] - 1s 313us/sample - loss: 1.6943 - acc: 0.3855\n",
      "Epoch 53/1000\n",
      "2048/2179 [===========================>..] - ETA: 0s - loss: 1.6926 - acc: 0.3853\n",
      "Epoch 00053: acc did not improve from 0.38550\n",
      "2179/2179 [==============================] - 1s 337us/sample - loss: 1.6943 - acc: 0.3855\n"
     ]
    }
   ],
   "source": [
    "history = model.fit(data, y, epochs=1000, callbacks = [earlystop, model_checkpoint])"
   ]
  },
  {
   "cell_type": "code",
   "execution_count": 97,
   "metadata": {},
   "outputs": [
    {
     "data": {
      "image/png": "[encoded data removed]",
      "text/plain": [
       "<Figure size 432x288 with 1 Axes>"
      ]
     },
     "metadata": {
      "needs_background": "light"
     },
     "output_type": "display_data"
    }
   ],
   "source": [
    "plt.plot(history.history['acc'])\n",
    "plt.plot(history.history['loss'])\n",
    "plt.legend(['Accuracy', 'Loss'])\n",
    "plt.title('Model History')\n",
    "plt.ylabel('Value')\n",
    "plt.xlabel('epochs')\n",
    "plt.show()"
   ]
  },
  {
   "cell_type": "code",
   "execution_count": 62,
   "metadata": {},
   "outputs": [
    {
     "ename": "NameError",
     "evalue": "name 'history' is not defined",
     "output_type": "error",
     "traceback": [
      "\u001b[1;31m---------------------------------------------------------------------------\u001b[0m",
      "\u001b[1;31mNameError\u001b[0m                                 Traceback (most recent call last)",
      "\u001b[1;32m<ipython-input-62-7387674cf0e6>\u001b[0m in \u001b[0;36m<module>\u001b[1;34m\u001b[0m\n\u001b[0;32m      4\u001b[0m \u001b[1;31m# plt.xlabel('epochs')\u001b[0m\u001b[1;33m\u001b[0m\u001b[1;33m\u001b[0m\u001b[1;33m\u001b[0m\u001b[0m\n\u001b[0;32m      5\u001b[0m \u001b[1;31m# plt.show()\u001b[0m\u001b[1;33m\u001b[0m\u001b[1;33m\u001b[0m\u001b[1;33m\u001b[0m\u001b[0m\n\u001b[1;32m----> 6\u001b[1;33m \u001b[0mprint\u001b[0m\u001b[1;33m(\u001b[0m\u001b[1;34m\"Initial accuracy is: \"\u001b[0m\u001b[1;33m,\u001b[0m \u001b[0mhistory\u001b[0m\u001b[1;33m.\u001b[0m\u001b[0mhistory\u001b[0m\u001b[1;33m[\u001b[0m\u001b[1;34m'acc'\u001b[0m\u001b[1;33m]\u001b[0m\u001b[1;33m[\u001b[0m\u001b[1;36m0\u001b[0m\u001b[1;33m]\u001b[0m\u001b[1;33m)\u001b[0m\u001b[1;33m\u001b[0m\u001b[1;33m\u001b[0m\u001b[0m\n\u001b[0m\u001b[0;32m      7\u001b[0m \u001b[0mprint\u001b[0m\u001b[1;33m(\u001b[0m\u001b[1;34m\"Final accuracy is: \"\u001b[0m\u001b[1;33m,\u001b[0m \u001b[0mhistory\u001b[0m\u001b[1;33m.\u001b[0m\u001b[0mhistory\u001b[0m\u001b[1;33m[\u001b[0m\u001b[1;34m'acc'\u001b[0m\u001b[1;33m]\u001b[0m\u001b[1;33m[\u001b[0m\u001b[1;33m-\u001b[0m\u001b[1;36m1\u001b[0m\u001b[1;33m]\u001b[0m\u001b[1;33m)\u001b[0m\u001b[1;33m\u001b[0m\u001b[1;33m\u001b[0m\u001b[0m\n\u001b[0;32m      8\u001b[0m \u001b[1;33m\u001b[0m\u001b[0m\n",
      "\u001b[1;31mNameError\u001b[0m: name 'history' is not defined"
     ]
    }
   ],
   "source": [
    "# plt.plot(history.history['loss'])\n",
    "# plt.title('model loss')\n",
    "# plt.ylabel('loss')\n",
    "# plt.xlabel('epochs')\n",
    "# plt.show()\n",
    "print(\"Initial accuracy is: \", history.history['acc'][0])\n",
    "print(\"Final accuracy is: \", history.history['acc'][-1])\n",
    "\n",
    "print(\"Initial loss is: \", history.history['loss'][0])\n",
    "print(\"Final loss is: \", history.history['loss'][-1])"
   ]
  },
  {
   "cell_type": "code",
   "execution_count": null,
   "metadata": {},
   "outputs": [],
   "source": []
  }
 ],
 "metadata": {
  "kernelspec": {
   "display_name": "Python 3",
   "language": "python",
   "name": "python3"
  },
  "language_info": {
   "codemirror_mode": {
    "name": "ipython",
    "version": 3
   },
   "file_extension": ".py",
   "mimetype": "text/x-python",
   "name": "python",
   "nbconvert_exporter": "python",
   "pygments_lexer": "ipython3",
   "version": "3.7.6"
  }
 },
 "nbformat": 4,
 "nbformat_minor": 4
}
