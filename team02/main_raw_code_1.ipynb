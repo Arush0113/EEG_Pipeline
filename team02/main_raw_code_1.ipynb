{
 "cells": [
  {
   "cell_type": "markdown",
   "metadata": {},
   "source": [
    "### Last updated 27/07"
   ]
  },
  {
   "cell_type": "code",
   "execution_count": 1,
   "metadata": {},
   "outputs": [
    {
     "name": "stdout",
     "output_type": "stream",
     "text": [
      "0.23.0\n"
     ]
    }
   ],
   "source": [
    "import matplotlib\n",
    "import pathlib\n",
    "\n",
    "import mne\n",
    "print(mne.__version__)"
   ]
  },
  {
   "cell_type": "code",
   "execution_count": 74,
   "metadata": {},
   "outputs": [
    {
     "name": "stdout",
     "output_type": "stream",
     "text": [
      "Collecting scikit-learn\n",
      "  Downloading scikit_learn-0.24.2-cp37-cp37m-win_amd64.whl (6.8 MB)\n",
      "Requirement already satisfied: scipy>=0.19.1 in d:\\anacondainstalled\\envs\\tf-gpu\\lib\\site-packages (from scikit-learn) (1.4.1)\n",
      "Collecting joblib>=0.11\n",
      "  Downloading joblib-1.0.1-py3-none-any.whl (303 kB)\n",
      "Collecting threadpoolctl>=2.0.0\n",
      "  Downloading threadpoolctl-2.2.0-py3-none-any.whl (12 kB)\n",
      "Requirement already satisfied: numpy>=1.13.3 in d:\\anacondainstalled\\envs\\tf-gpu\\lib\\site-packages (from scikit-learn) (1.18.1)\n",
      "Installing collected packages: joblib, threadpoolctl, scikit-learn\n",
      "Successfully installed joblib-1.0.1 scikit-learn-0.24.2 threadpoolctl-2.2.0\n"
     ]
    }
   ],
   "source": [
    "!pip install scikit-learn"
   ]
  },
  {
   "cell_type": "code",
   "execution_count": 2,
   "metadata": {},
   "outputs": [
    {
     "name": "stdout",
     "output_type": "stream",
     "text": [
      "Requirement already satisfied: matplotlib in d:\\anacondainstalled\\envs\\tf-gpu\\lib\\site-packages (3.4.2)\n",
      "Requirement already satisfied: python-dateutil>=2.7 in d:\\anacondainstalled\\envs\\tf-gpu\\lib\\site-packages (from matplotlib) (2.8.2)\n",
      "Requirement already satisfied: numpy>=1.16 in d:\\anacondainstalled\\envs\\tf-gpu\\lib\\site-packages (from matplotlib) (1.18.1)\n",
      "Requirement already satisfied: pillow>=6.2.0 in d:\\anacondainstalled\\envs\\tf-gpu\\lib\\site-packages (from matplotlib) (8.3.1)\n",
      "Requirement already satisfied: cycler>=0.10 in d:\\anacondainstalled\\envs\\tf-gpu\\lib\\site-packages (from matplotlib) (0.10.0)\n",
      "Requirement already satisfied: kiwisolver>=1.0.1 in d:\\anacondainstalled\\envs\\tf-gpu\\lib\\site-packages (from matplotlib) (1.3.1)\n",
      "Requirement already satisfied: pyparsing>=2.2.1 in d:\\anacondainstalled\\envs\\tf-gpu\\lib\\site-packages (from matplotlib) (2.4.7)\n",
      "Requirement already satisfied: six>=1.5 in d:\\anacondainstalled\\envs\\tf-gpu\\lib\\site-packages (from python-dateutil>=2.7->matplotlib) (1.15.0)\n"
     ]
    }
   ],
   "source": [
    "!pip install matplotlib"
   ]
  },
  {
   "cell_type": "code",
   "execution_count": 3,
   "metadata": {},
   "outputs": [
    {
     "name": "stdout",
     "output_type": "stream",
     "text": [
      "Requirement already satisfied: mne in d:\\anacondainstalled\\envs\\tf-gpu\\lib\\site-packages (0.23.0)\n",
      "Requirement already satisfied: scipy>=1.1.0 in d:\\anacondainstalled\\envs\\tf-gpu\\lib\\site-packages (from mne) (1.4.1)\n",
      "Requirement already satisfied: numpy>=1.15.4 in d:\\anacondainstalled\\envs\\tf-gpu\\lib\\site-packages (from mne) (1.18.1)\n"
     ]
    }
   ],
   "source": [
    "!pip install mne"
   ]
  },
  {
   "cell_type": "code",
   "execution_count": 4,
   "metadata": {},
   "outputs": [
    {
     "name": "stdout",
     "output_type": "stream",
     "text": [
      "Requirement already satisfied: pathlib in d:\\anacondainstalled\\envs\\tf-gpu\\lib\\site-packages (1.0.1)\n",
      "Requirement already satisfied: pandas in d:\\anacondainstalled\\envs\\tf-gpu\\lib\\site-packages (1.3.1)\n",
      "Requirement already satisfied: pytz>=2017.3 in d:\\anacondainstalled\\envs\\tf-gpu\\lib\\site-packages (from pandas) (2021.1)\n",
      "Requirement already satisfied: python-dateutil>=2.7.3 in d:\\anacondainstalled\\envs\\tf-gpu\\lib\\site-packages (from pandas) (2.8.2)\n",
      "Requirement already satisfied: numpy>=1.17.3 in d:\\anacondainstalled\\envs\\tf-gpu\\lib\\site-packages (from pandas) (1.18.1)\n",
      "Requirement already satisfied: six>=1.5 in d:\\anacondainstalled\\envs\\tf-gpu\\lib\\site-packages (from python-dateutil>=2.7.3->pandas) (1.15.0)\n"
     ]
    }
   ],
   "source": [
    "!pip install pathlib\n",
    "!pip install pandas"
   ]
  },
  {
   "cell_type": "code",
   "execution_count": 5,
   "metadata": {},
   "outputs": [
    {
     "name": "stdout",
     "output_type": "stream",
     "text": [
      "Requirement already satisfied: PyQt5 in d:\\anacondainstalled\\envs\\tf-gpu\\lib\\site-packages (5.15.4)\n",
      "Requirement already satisfied: PyQt5-sip<13,>=12.8 in d:\\anacondainstalled\\envs\\tf-gpu\\lib\\site-packages (from PyQt5) (12.9.0)\n",
      "Requirement already satisfied: PyQt5-Qt5>=5.15 in d:\\anacondainstalled\\envs\\tf-gpu\\lib\\site-packages (from PyQt5) (5.15.2)\n"
     ]
    }
   ],
   "source": [
    "!pip install PyQt5"
   ]
  },
  {
   "cell_type": "code",
   "execution_count": 6,
   "metadata": {},
   "outputs": [],
   "source": [
    "matplotlib.use('Qt5Agg')"
   ]
  },
  {
   "cell_type": "markdown",
   "metadata": {},
   "source": [
    "## Reading raw data"
   ]
  },
  {
   "cell_type": "code",
   "execution_count": 7,
   "metadata": {},
   "outputs": [],
   "source": [
    "#paths Arush\n",
    "path_AB6_gonogo1 = 'data/sub-AB6/eeg/sub-AB6_task-gonogo_run-1_eeg.set'\n",
    "path_AB6_gonogo2 = 'data/sub-AB6/eeg/sub-AB6_task-gonogo_run-2_eeg.set'\n",
    "path_AB10_gonogo1 = 'data/other subjects set files/sub-AB10_eeg_sub-AB10_task-gonogo_run-1_eeg.set'\n",
    "path_AB10_gonogo2 = 'data/other subjects set files/sub-AB10_eeg_sub-AB10_task-gonogo_run-2_eeg.set'\n",
    "path_AB12_gonogo1 = 'data/other subjects set files/sub-AB12_eeg_sub-AB12_task-gonogo_run-1_eeg.set'\n",
    "path_AB12_gonogo2 = 'data/other subjects set files/sub-AB12_eeg_sub-AB12_task-gonogo_run-2_eeg.set'\n",
    "path_AB13_gonogo1 = 'data/other subjects set files/sub-AB13_eeg_sub-AB13_task-gonogo_run-1_eeg.set'\n",
    "path_AB13_gonogo2 = 'data/other subjects set files/sub-AB13_eeg_sub-AB13_task-gonogo_run-2_eeg.set'\n",
    "path_AB28_gonogo1 = 'data/other subjects set files/sub-AB28_eeg_sub-AB28_task-gonogo_run-1_eeg.set'\n",
    "path_AB28_gonogo2 = 'data/other subjects set files/sub-AB28_eeg_sub-AB28_task-gonogo_run-2_eeg.set'\n",
    "path_AB31_gonogo1 = 'data/other subjects set files/sub-AB31_eeg_sub-AB31_task-gonogo_run-1_eeg.set'\n",
    "path_AB31_gonogo2 = 'data/other subjects set files/sub-AB31_eeg_sub-AB31_task-gonogo_run-2_eeg.set'\n",
    "path_AB32_gonogo1 = 'data/other subjects set files/sub-AB32_eeg_sub-AB32_task-gonogo_run-1_eeg.set'\n",
    "path_AB32_gonogo2 = 'data/other subjects set files/sub-AB32_eeg_sub-AB32_task-gonogo_run-2_eeg.set'\n",
    "\n",
    "path_channels_tsv = 'data/other subjects set files/sub-AB10_eeg_sub-AB10_task-gonogo_run-1_channels.tsv'"
   ]
  },
  {
   "cell_type": "code",
   "execution_count": 8,
   "metadata": {},
   "outputs": [],
   "source": [
    "#paths Sahil\n",
    "path_AB6_gonogo1 = '../../data/sub-AB6_task-gonogo_run-1_eeg.set'\n",
    "path_AB6_gonogo2 = '../../data/sub-AB6_task-gonogo_run-2_eeg.set'\n",
    "path_AB10_gonogo1 = '../../data/sub-AB10_task-gonogo_run-1_eeg.set'\n",
    "path_AB10_gonogo2 = '../../data/sub-AB10_task-gonogo_run-2_eeg.set'\n",
    "path_AB12_gonogo1 = '../../data/sub-AB12_task-gonogo_run-1_eeg.set'\n",
    "path_AB12_gonogo2 = '../../data/sub-AB12_task-gonogo_run-2_eeg.set'\n",
    "path_AB13_gonogo1 = '../../data/sub-AB13_task-gonogo_run-1_eeg.set'\n",
    "path_AB13_gonogo2 = '../../data/sub-AB13_task-gonogo_run-2_eeg.set'\n",
    "path_AB28_gonogo1 = '../../data/sub-AB28_task-gonogo_run-1_eeg.set'\n",
    "path_AB28_gonogo2 = '../../data/sub-AB28_task-gonogo_run-2_eeg.set'\n",
    "path_AB31_gonogo1 = '../../data/sub-AB31_task-gonogo_run-1_eeg.set'\n",
    "path_AB31_gonogo2 = '../../data/sub-AB31_task-gonogo_run-2_eeg.set'\n",
    "path_AB32_gonogo1 = '../../data/sub-AB32_task-gonogo_run-1_eeg.set'\n",
    "path_AB32_gonogo2 = '../../data/sub-AB32_task-gonogo_run-2_eeg.set'\n",
    "\n",
    "path_channels_tsv = '../../data\\sub-AB10_eeg_sub-AB10_task-gonogo_run-1_channels.tsv'"
   ]
  },
  {
   "cell_type": "code",
   "execution_count": 31,
   "metadata": {},
   "outputs": [],
   "source": [
    "#loading raw data\n",
    "rawab6_1 = mne.io.read_raw_eeglab(path_AB6_gonogo1, eog=(), preload=True, uint16_codec=None, verbose=None)\n",
    "rawab6_2 = mne.io.read_raw_eeglab(path_AB6_gonogo2, eog=(), preload=True, uint16_codec=None, verbose=None)\n",
    "\n",
    "rawab10_1 = mne.io.read_raw_eeglab(path_AB10_gonogo1, eog=(), preload=True, uint16_codec=None, verbose=None)\n",
    "rawab10_2 = mne.io.read_raw_eeglab(path_AB10_gonogo2, eog=(), preload=True, uint16_codec=None, verbose=None)\n",
    "\n",
    "rawab12_1 = mne.io.read_raw_eeglab(path_AB12_gonogo1, eog=(), preload=True, uint16_codec=None, verbose=None)\n",
    "rawab12_2 = mne.io.read_raw_eeglab(path_AB12_gonogo2, eog=(), preload=True, uint16_codec=None, verbose=None)\n",
    "\n",
    "rawab13_1 = mne.io.read_raw_eeglab(path_AB13_gonogo1, eog=(), preload=True, uint16_codec=None, verbose=None)\n",
    "rawab13_2 = mne.io.read_raw_eeglab(path_AB13_gonogo1, eog=(), preload=True, uint16_codec=None, verbose=None)\n",
    "\n",
    "rawab28_1 = mne.io.read_raw_eeglab(path_AB28_gonogo1, eog=(), preload=True, uint16_codec=None, verbose=None)\n",
    "rawab28_2 = mne.io.read_raw_eeglab(path_AB28_gonogo2, eog=(), preload=True, uint16_codec=None, verbose=None)\n",
    "\n",
    "rawab31_1 = mne.io.read_raw_eeglab(path_AB31_gonogo1, eog=(), preload=True, uint16_codec=None, verbose=None)\n",
    "rawab31_2 = mne.io.read_raw_eeglab(path_AB31_gonogo2, eog=(), preload=True, uint16_codec=None, verbose=None)\n",
    "\n",
    "rawab32_1 = mne.io.read_raw_eeglab(path_AB32_gonogo1, eog=(), preload=True, uint16_codec=None, verbose=None)\n",
    "rawab32_2 = mne.io.read_raw_eeglab(path_AB32_gonogo2, eog=(), preload=True, uint16_codec=None, verbose=None)"
   ]
  },
  {
   "cell_type": "code",
   "execution_count": 11,
   "metadata": {
    "scrolled": true
   },
   "outputs": [
    {
     "name": "stdout",
     "output_type": "stream",
     "text": [
      "Channels marked as bad: none\n",
      "Channels marked as bad: none\n",
      "Channels marked as bad: none\n"
     ]
    }
   ],
   "source": [
    "#plotting raw data\n",
    "# rawab6_1.plot();\n",
    "# rawab6_2.plot();\n",
    "rawab10_1.plot();\n",
    "# rawab10_2.plot();\n",
    "rawab12_1.plot();\n",
    "# rawab12_2.plot();\n",
    "# rawab13_1.plot();\n",
    "# rawab13_2.plot();\n",
    "# rawab28_1.plot();\n",
    "# rawab28_2.plot();\n",
    "# rawab31_1.plot();\n",
    "# rawab31_2.plot();\n",
    "# rawab32_1.plot();\n",
    "# rawab32_2.plot();"
   ]
  },
  {
   "cell_type": "markdown",
   "metadata": {},
   "source": [
    "## Assigning channel types and filtering"
   ]
  },
  {
   "cell_type": "code",
   "execution_count": 32,
   "metadata": {
    "scrolled": true
   },
   "outputs": [
    {
     "data": {
      "text/plain": [
       "{'AF3': 'eeg',\n",
       " 'AF4': 'eeg',\n",
       " 'F7': 'eeg',\n",
       " 'F5': 'eeg',\n",
       " 'F3': 'eeg',\n",
       " 'F1': 'eeg',\n",
       " 'Fz': 'eeg',\n",
       " 'F2': 'eeg',\n",
       " 'F4': 'eeg',\n",
       " 'F6': 'eeg',\n",
       " 'F8': 'eeg',\n",
       " 'FT7': 'eeg',\n",
       " 'FC5': 'eeg',\n",
       " 'FC3': 'eeg',\n",
       " 'FC1': 'eeg',\n",
       " 'FCz': 'eeg',\n",
       " 'FC2': 'eeg',\n",
       " 'FC4': 'eeg',\n",
       " 'FC6': 'eeg',\n",
       " 'FT8': 'eeg',\n",
       " 'T7': 'eeg',\n",
       " 'C5': 'eeg',\n",
       " 'C3': 'eeg',\n",
       " 'C1': 'eeg',\n",
       " 'Cz': 'eeg',\n",
       " 'C2': 'eeg',\n",
       " 'C4': 'eeg',\n",
       " 'C6': 'eeg',\n",
       " 'T8': 'eeg',\n",
       " 'M1': 'eeg',\n",
       " 'TP7': 'eeg',\n",
       " 'CP5': 'eeg',\n",
       " 'CP3': 'eeg',\n",
       " 'CP1': 'eeg',\n",
       " 'CPz': 'eeg',\n",
       " 'CP2': 'eeg',\n",
       " 'CP4': 'eeg',\n",
       " 'CP6': 'eeg',\n",
       " 'TP8': 'eeg',\n",
       " 'M2': 'eeg',\n",
       " 'P7': 'eeg',\n",
       " 'P5': 'eeg',\n",
       " 'P3': 'eeg',\n",
       " 'P1': 'eeg',\n",
       " 'Pz': 'eeg',\n",
       " 'P2': 'eeg',\n",
       " 'P4': 'eeg',\n",
       " 'P6': 'eeg',\n",
       " 'P8': 'eeg',\n",
       " 'PO7': 'eeg',\n",
       " 'PO5': 'eeg',\n",
       " 'PO3': 'eeg',\n",
       " 'POz': 'eeg',\n",
       " 'PO4': 'eeg',\n",
       " 'PO6': 'eeg',\n",
       " 'PO8': 'eeg',\n",
       " 'CB1': 'eeg',\n",
       " 'O1': 'eeg',\n",
       " 'Oz': 'eeg',\n",
       " 'O2': 'eeg',\n",
       " 'CB2': 'eeg',\n",
       " 'VEO': 'eog',\n",
       " 'HEO': 'eog',\n",
       " 'EKG': 'ecg',\n",
       " 'R-Dia-X-(mm)': 'misc',\n",
       " 'R-Dia-Y-(mm)': 'misc'}"
      ]
     },
     "execution_count": 32,
     "metadata": {},
     "output_type": "execute_result"
    }
   ],
   "source": [
    "#get type of channels from tsv file\n",
    "import pandas as pd\n",
    "channel_types_tsv = pd.read_csv(path_channels_tsv, delimiter = '\\t')\n",
    "\n",
    "def get_channel_types_dic(channel_types_tsv):\n",
    "    channel_types = {}\n",
    "    for i in range(channel_types_tsv.shape[0]):\n",
    "        channel_types[channel_types_tsv['name'][i]] = channel_types_tsv['type'][i].lower()\n",
    "    reassign_dic = {'HEO':'eog', 'VEO':'eog', 'R-Dia-X-(mm)':'misc', 'R-Dia-Y-(mm)':'misc'}\n",
    "    for k in list(reassign_dic.keys()):\n",
    "        if k in list(channel_types):\n",
    "            channel_types[k] = reassign_dic[k]\n",
    "    return channel_types\n",
    "\n",
    "channel_types = get_channel_types_dic(channel_types_tsv)\n",
    "channel_types"
   ]
  },
  {
   "cell_type": "code",
   "execution_count": 33,
   "metadata": {},
   "outputs": [
    {
     "data": {
      "text/html": [
       "\n",
       "\n",
       "<table class=\"table table-hover\">\n",
       "    <tr>\n",
       "        <th>Measurement date</th>\n",
       "<td>Unknown</td>\n",
       "    </tr>\n",
       "    <tr>\n",
       "        <th>Experimenter</th>\n",
       "<td>Unknown</td>\n",
       "    </tr>\n",
       "        <th>Participant</th>\n",
       "<td>Unknown</td>\n",
       "    </tr>\n",
       "    <tr>\n",
       "        <th>Digitized points</th>\n",
       "        <td>66 points</td>\n",
       "    </tr>\n",
       "    <tr>\n",
       "        <th>Good channels</th>\n",
       "        <td>0 magnetometer, 0 gradiometer,\n",
       "            and 61 EEG channels</td>\n",
       "    </tr>\n",
       "    <tr>\n",
       "        <th>Bad channels</th>\n",
       "        <td></td>\n",
       "        \n",
       "    </tr>\n",
       "    <tr>\n",
       "        <th>EOG channels</th>\n",
       "        <td>VEO, HEO</td>\n",
       "    </tr>\n",
       "    <tr>\n",
       "        <th>ECG channels</th>\n",
       "        <td>EKG</td>\n",
       "    <tr>\n",
       "        <th>Sampling frequency</th>\n",
       "        <td>500.00 Hz</td>\n",
       "    </tr>\n",
       "    <tr>\n",
       "        <th>Highpass</th>\n",
       "        <td>0.00 Hz</td>\n",
       "    </tr>\n",
       "     <tr>\n",
       "        <th>Lowpass</th>\n",
       "        <td>250.00 Hz</td>\n",
       "    </tr>\n",
       "\n",
       "    <tr>\n",
       "        <th>Filenames</th>\n",
       "        <td>sub-AB32_eeg_sub-AB32_task-gonogo_run-2_eeg.set</td>\n",
       "    </tr>\n",
       "    <tr>\n",
       "        <th>Duration</th>\n",
       "        <td>00:08:16 (HH:MM:SS)</td>\n",
       "    </tr>\n",
       "</table>\n"
      ],
      "text/plain": [
       "<RawEEGLAB | sub-AB32_eeg_sub-AB32_task-gonogo_run-2_eeg.set, 66 x 248300 (496.6 s), ~125.1 MB, data loaded>"
      ]
     },
     "execution_count": 33,
     "metadata": {},
     "output_type": "execute_result"
    }
   ],
   "source": [
    "#assigning channel types\n",
    "#rawab6_1.set_channel_types(channel_types)\n",
    "#rawab6_2.set_channel_types(channel_types)\n",
    "rawab10_1.set_channel_types(channel_types)\n",
    "rawab10_2.set_channel_types(channel_types)\n",
    "rawab12_1.set_channel_types(channel_types)\n",
    "rawab12_2.set_channel_types(channel_types)\n",
    "rawab13_1.set_channel_types(channel_types)\n",
    "rawab13_2.set_channel_types(channel_types)\n",
    "rawab28_1.set_channel_types(channel_types)\n",
    "rawab28_2.set_channel_types(channel_types)\n",
    "rawab31_1.set_channel_types(channel_types)\n",
    "rawab31_2.set_channel_types(channel_types)\n",
    "rawab32_1.set_channel_types(channel_types)\n",
    "rawab32_2.set_channel_types(channel_types)"
   ]
  },
  {
   "cell_type": "code",
   "execution_count": 34,
   "metadata": {
    "scrolled": true
   },
   "outputs": [
    {
     "name": "stdout",
     "output_type": "stream",
     "text": [
      "Filtering raw data in 1 contiguous segment\n",
      "Setting up band-pass filter from 0.5 - 60 Hz\n",
      "\n",
      "FIR filter parameters\n",
      "---------------------\n",
      "Designing a one-pass, zero-phase, non-causal bandpass filter:\n",
      "- Windowed time-domain design (firwin) method\n",
      "- Hamming window with 0.0194 passband ripple and 53 dB stopband attenuation\n",
      "- Lower passband edge: 0.50\n",
      "- Lower transition bandwidth: 0.50 Hz (-6 dB cutoff frequency: 0.25 Hz)\n",
      "- Upper passband edge: 60.00 Hz\n",
      "- Upper transition bandwidth: 15.00 Hz (-6 dB cutoff frequency: 67.50 Hz)\n",
      "- Filter length: 3301 samples (6.602 sec)\n",
      "\n",
      "Filtering raw data in 1 contiguous segment\n",
      "Setting up band-pass filter from 0.5 - 60 Hz\n",
      "\n",
      "FIR filter parameters\n",
      "---------------------\n",
      "Designing a one-pass, zero-phase, non-causal bandpass filter:\n",
      "- Windowed time-domain design (firwin) method\n",
      "- Hamming window with 0.0194 passband ripple and 53 dB stopband attenuation\n",
      "- Lower passband edge: 0.50\n",
      "- Lower transition bandwidth: 0.50 Hz (-6 dB cutoff frequency: 0.25 Hz)\n",
      "- Upper passband edge: 60.00 Hz\n",
      "- Upper transition bandwidth: 15.00 Hz (-6 dB cutoff frequency: 67.50 Hz)\n",
      "- Filter length: 3301 samples (6.602 sec)\n",
      "\n",
      "Filtering raw data in 1 contiguous segment\n",
      "Setting up band-pass filter from 0.5 - 60 Hz\n",
      "\n",
      "FIR filter parameters\n",
      "---------------------\n",
      "Designing a one-pass, zero-phase, non-causal bandpass filter:\n",
      "- Windowed time-domain design (firwin) method\n",
      "- Hamming window with 0.0194 passband ripple and 53 dB stopband attenuation\n",
      "- Lower passband edge: 0.50\n",
      "- Lower transition bandwidth: 0.50 Hz (-6 dB cutoff frequency: 0.25 Hz)\n",
      "- Upper passband edge: 60.00 Hz\n",
      "- Upper transition bandwidth: 15.00 Hz (-6 dB cutoff frequency: 67.50 Hz)\n",
      "- Filter length: 3301 samples (6.602 sec)\n",
      "\n",
      "Filtering raw data in 1 contiguous segment\n",
      "Setting up band-pass filter from 0.5 - 60 Hz\n",
      "\n",
      "FIR filter parameters\n",
      "---------------------\n",
      "Designing a one-pass, zero-phase, non-causal bandpass filter:\n",
      "- Windowed time-domain design (firwin) method\n",
      "- Hamming window with 0.0194 passband ripple and 53 dB stopband attenuation\n",
      "- Lower passband edge: 0.50\n",
      "- Lower transition bandwidth: 0.50 Hz (-6 dB cutoff frequency: 0.25 Hz)\n",
      "- Upper passband edge: 60.00 Hz\n",
      "- Upper transition bandwidth: 15.00 Hz (-6 dB cutoff frequency: 67.50 Hz)\n",
      "- Filter length: 3301 samples (6.602 sec)\n",
      "\n",
      "Filtering raw data in 1 contiguous segment\n",
      "Setting up band-pass filter from 0.5 - 60 Hz\n",
      "\n",
      "FIR filter parameters\n",
      "---------------------\n",
      "Designing a one-pass, zero-phase, non-causal bandpass filter:\n",
      "- Windowed time-domain design (firwin) method\n",
      "- Hamming window with 0.0194 passband ripple and 53 dB stopband attenuation\n",
      "- Lower passband edge: 0.50\n",
      "- Lower transition bandwidth: 0.50 Hz (-6 dB cutoff frequency: 0.25 Hz)\n",
      "- Upper passband edge: 60.00 Hz\n",
      "- Upper transition bandwidth: 15.00 Hz (-6 dB cutoff frequency: 67.50 Hz)\n",
      "- Filter length: 3301 samples (6.602 sec)\n",
      "\n",
      "Filtering raw data in 1 contiguous segment\n",
      "Setting up band-pass filter from 0.5 - 60 Hz\n",
      "\n",
      "FIR filter parameters\n",
      "---------------------\n",
      "Designing a one-pass, zero-phase, non-causal bandpass filter:\n",
      "- Windowed time-domain design (firwin) method\n",
      "- Hamming window with 0.0194 passband ripple and 53 dB stopband attenuation\n",
      "- Lower passband edge: 0.50\n",
      "- Lower transition bandwidth: 0.50 Hz (-6 dB cutoff frequency: 0.25 Hz)\n",
      "- Upper passband edge: 60.00 Hz\n",
      "- Upper transition bandwidth: 15.00 Hz (-6 dB cutoff frequency: 67.50 Hz)\n",
      "- Filter length: 3301 samples (6.602 sec)\n",
      "\n",
      "Filtering raw data in 1 contiguous segment\n",
      "Setting up band-pass filter from 0.5 - 60 Hz\n",
      "\n",
      "FIR filter parameters\n",
      "---------------------\n",
      "Designing a one-pass, zero-phase, non-causal bandpass filter:\n",
      "- Windowed time-domain design (firwin) method\n",
      "- Hamming window with 0.0194 passband ripple and 53 dB stopband attenuation\n",
      "- Lower passband edge: 0.50\n",
      "- Lower transition bandwidth: 0.50 Hz (-6 dB cutoff frequency: 0.25 Hz)\n",
      "- Upper passband edge: 60.00 Hz\n",
      "- Upper transition bandwidth: 15.00 Hz (-6 dB cutoff frequency: 67.50 Hz)\n",
      "- Filter length: 3301 samples (6.602 sec)\n",
      "\n",
      "Filtering raw data in 1 contiguous segment\n",
      "Setting up band-pass filter from 0.5 - 60 Hz\n",
      "\n",
      "FIR filter parameters\n",
      "---------------------\n",
      "Designing a one-pass, zero-phase, non-causal bandpass filter:\n",
      "- Windowed time-domain design (firwin) method\n",
      "- Hamming window with 0.0194 passband ripple and 53 dB stopband attenuation\n",
      "- Lower passband edge: 0.50\n",
      "- Lower transition bandwidth: 0.50 Hz (-6 dB cutoff frequency: 0.25 Hz)\n",
      "- Upper passband edge: 60.00 Hz\n",
      "- Upper transition bandwidth: 15.00 Hz (-6 dB cutoff frequency: 67.50 Hz)\n",
      "- Filter length: 3301 samples (6.602 sec)\n",
      "\n",
      "Filtering raw data in 1 contiguous segment\n",
      "Setting up band-pass filter from 0.5 - 60 Hz\n",
      "\n",
      "FIR filter parameters\n",
      "---------------------\n",
      "Designing a one-pass, zero-phase, non-causal bandpass filter:\n",
      "- Windowed time-domain design (firwin) method\n",
      "- Hamming window with 0.0194 passband ripple and 53 dB stopband attenuation\n",
      "- Lower passband edge: 0.50\n",
      "- Lower transition bandwidth: 0.50 Hz (-6 dB cutoff frequency: 0.25 Hz)\n",
      "- Upper passband edge: 60.00 Hz\n",
      "- Upper transition bandwidth: 15.00 Hz (-6 dB cutoff frequency: 67.50 Hz)\n",
      "- Filter length: 3301 samples (6.602 sec)\n",
      "\n",
      "Filtering raw data in 1 contiguous segment\n",
      "Setting up band-pass filter from 0.5 - 60 Hz\n",
      "\n",
      "FIR filter parameters\n",
      "---------------------\n",
      "Designing a one-pass, zero-phase, non-causal bandpass filter:\n",
      "- Windowed time-domain design (firwin) method\n",
      "- Hamming window with 0.0194 passband ripple and 53 dB stopband attenuation\n",
      "- Lower passband edge: 0.50\n",
      "- Lower transition bandwidth: 0.50 Hz (-6 dB cutoff frequency: 0.25 Hz)\n",
      "- Upper passband edge: 60.00 Hz\n",
      "- Upper transition bandwidth: 15.00 Hz (-6 dB cutoff frequency: 67.50 Hz)\n",
      "- Filter length: 3301 samples (6.602 sec)\n",
      "\n",
      "Filtering raw data in 1 contiguous segment\n",
      "Setting up band-pass filter from 0.5 - 60 Hz\n",
      "\n",
      "FIR filter parameters\n",
      "---------------------\n",
      "Designing a one-pass, zero-phase, non-causal bandpass filter:\n",
      "- Windowed time-domain design (firwin) method\n",
      "- Hamming window with 0.0194 passband ripple and 53 dB stopband attenuation\n",
      "- Lower passband edge: 0.50\n",
      "- Lower transition bandwidth: 0.50 Hz (-6 dB cutoff frequency: 0.25 Hz)\n",
      "- Upper passband edge: 60.00 Hz\n",
      "- Upper transition bandwidth: 15.00 Hz (-6 dB cutoff frequency: 67.50 Hz)\n",
      "- Filter length: 3301 samples (6.602 sec)\n",
      "\n",
      "Filtering raw data in 1 contiguous segment\n",
      "Setting up band-pass filter from 0.5 - 60 Hz\n",
      "\n",
      "FIR filter parameters\n",
      "---------------------\n",
      "Designing a one-pass, zero-phase, non-causal bandpass filter:\n",
      "- Windowed time-domain design (firwin) method\n",
      "- Hamming window with 0.0194 passband ripple and 53 dB stopband attenuation\n",
      "- Lower passband edge: 0.50\n",
      "- Lower transition bandwidth: 0.50 Hz (-6 dB cutoff frequency: 0.25 Hz)\n",
      "- Upper passband edge: 60.00 Hz\n",
      "- Upper transition bandwidth: 15.00 Hz (-6 dB cutoff frequency: 67.50 Hz)\n",
      "- Filter length: 3301 samples (6.602 sec)\n",
      "\n"
     ]
    },
    {
     "data": {
      "text/html": [
       "\n",
       "\n",
       "<table class=\"table table-hover\">\n",
       "    <tr>\n",
       "        <th>Measurement date</th>\n",
       "<td>Unknown</td>\n",
       "    </tr>\n",
       "    <tr>\n",
       "        <th>Experimenter</th>\n",
       "<td>Unknown</td>\n",
       "    </tr>\n",
       "        <th>Participant</th>\n",
       "<td>Unknown</td>\n",
       "    </tr>\n",
       "    <tr>\n",
       "        <th>Digitized points</th>\n",
       "        <td>66 points</td>\n",
       "    </tr>\n",
       "    <tr>\n",
       "        <th>Good channels</th>\n",
       "        <td>0 magnetometer, 0 gradiometer,\n",
       "            and 61 EEG channels</td>\n",
       "    </tr>\n",
       "    <tr>\n",
       "        <th>Bad channels</th>\n",
       "        <td></td>\n",
       "        \n",
       "    </tr>\n",
       "    <tr>\n",
       "        <th>EOG channels</th>\n",
       "        <td>VEO, HEO</td>\n",
       "    </tr>\n",
       "    <tr>\n",
       "        <th>ECG channels</th>\n",
       "        <td>EKG</td>\n",
       "    <tr>\n",
       "        <th>Sampling frequency</th>\n",
       "        <td>500.00 Hz</td>\n",
       "    </tr>\n",
       "    <tr>\n",
       "        <th>Highpass</th>\n",
       "        <td>0.50 Hz</td>\n",
       "    </tr>\n",
       "     <tr>\n",
       "        <th>Lowpass</th>\n",
       "        <td>60.00 Hz</td>\n",
       "    </tr>\n",
       "\n",
       "    <tr>\n",
       "        <th>Filenames</th>\n",
       "        <td>sub-AB32_eeg_sub-AB32_task-gonogo_run-2_eeg.set</td>\n",
       "    </tr>\n",
       "    <tr>\n",
       "        <th>Duration</th>\n",
       "        <td>00:08:16 (HH:MM:SS)</td>\n",
       "    </tr>\n",
       "</table>\n"
      ],
      "text/plain": [
       "<RawEEGLAB | sub-AB32_eeg_sub-AB32_task-gonogo_run-2_eeg.set, 66 x 248300 (496.6 s), ~125.1 MB, data loaded>"
      ]
     },
     "execution_count": 34,
     "metadata": {},
     "output_type": "execute_result"
    }
   ],
   "source": [
    "#filtering the signals\n",
    "#rawab6_1.filter(1, 60)\n",
    "#rawab6_2.filter(1, 60)\n",
    "rawab10_1.filter(0.50, 60)\n",
    "rawab10_2.filter(0.50, 60)\n",
    "rawab12_1.filter(0.50, 60)\n",
    "rawab12_2.filter(0.50, 60)\n",
    "rawab13_1.filter(0.50, 60)\n",
    "rawab13_2.filter(0.50, 60)\n",
    "rawab28_1.filter(0.50, 60)\n",
    "rawab28_2.filter(0.50, 60)\n",
    "rawab31_1.filter(0.50, 60)\n",
    "rawab31_2.filter(0.50, 60)\n",
    "rawab32_1.filter(0.50, 60)\n",
    "rawab32_2.filter(0.50, 60)"
   ]
  },
  {
   "cell_type": "markdown",
   "metadata": {},
   "source": [
    "## plotting Electrode positions"
   ]
  },
  {
   "cell_type": "code",
   "execution_count": 34,
   "metadata": {},
   "outputs": [],
   "source": [
    "# rawab6_1.plot_sensors(ch_type = 'eeg', sphere = 10);\n",
    "# # rawab6_2.plot_sensors(ch_type = 'eeg', sphere = 10);\n",
    "\n",
    "# rawab10_1.plot_sensors(ch_type = 'eeg', sphere = 10);\n",
    "# # rawab10_2.plot_sensors(ch_type = 'eeg', sphere = 10);\n",
    "\n",
    "rawab12_1.plot_sensors(ch_type = 'eeg', sphere = 10);\n",
    "# # rawab12_2.plot_sensors(ch_type = 'eeg', sphere = 10);\n",
    "\n",
    "# rawab13_1.plot_sensors(ch_type = 'eeg', sphere = 10);\n",
    "# # rawab13_2.plot_sensors(ch_type = 'eeg', sphere = 10);\n",
    "\n",
    "# rawab28_1.plot_sensors(ch_type = 'eeg', sphere = 10);\n",
    "# # rawab28_2.plot_sensors(ch_type = 'eeg', sphere = 10);\n",
    "\n",
    "# rawab31_1.plot_sensors(ch_type = 'eeg', sphere = 10);\n",
    "# # rawab31_2.plot_sensors(ch_type = 'eeg', sphere = 10);\n",
    "\n",
    "# rawab32_1.plot_sensors(ch_type = 'eeg', sphere = 10);\n",
    "# # rawab32_2.plot_sensors(ch_type = 'eeg', sphere = 10);"
   ]
  },
  {
   "cell_type": "code",
   "execution_count": 35,
   "metadata": {},
   "outputs": [],
   "source": [
    "# rawab6_1.plot_sensors(ch_type = 'eeg', kind = '3d');\n",
    "# # rawab6_2.plot_sensors(ch_type = 'eeg', kind = '3d');\n",
    "\n",
    "# rawab10_1.plot_sensors(ch_type = 'eeg', kind = '3d');\n",
    "# # rawab10_2.plot_sensors(ch_type = 'eeg', kind = '3d');\n",
    "\n",
    "rawab12_1.plot_sensors(ch_type = 'eeg', kind = '3d');\n",
    "# # rawab12_2.plot_sensors(ch_type = 'eeg', kind = '3d');\n",
    "\n",
    "# rawab13_1.plot_sensors(ch_type = 'eeg', kind = '3d');\n",
    "# # rawab13_2.plot_sensors(ch_type = 'eeg', kind = '3d');\n",
    "\n",
    "# rawab28_1.plot_sensors(ch_type = 'eeg', kind = '3d');\n",
    "# # rawab28_2.plot_sensors(ch_type = 'eeg', kind = '3d');\n",
    "\n",
    "# rawab31_1.plot_sensors(ch_type = 'eeg', kind = '3d');\n",
    "# # rawab31_2.plot_sensors(ch_type = 'eeg', kind = '3d');\n",
    "\n",
    "# rawab32_1.plot_sensors(ch_type = 'eeg', kind = '3d');\n",
    "# # rawab32_2.plot_sensors(ch_type = 'eeg', kind = '3d');"
   ]
  },
  {
   "cell_type": "code",
   "execution_count": 35,
   "metadata": {},
   "outputs": [
    {
     "data": {
      "text/html": [
       "\n",
       "\n",
       "<table class=\"table table-hover\">\n",
       "    <tr>\n",
       "        <th>Measurement date</th>\n",
       "<td>Unknown</td>\n",
       "    </tr>\n",
       "    <tr>\n",
       "        <th>Experimenter</th>\n",
       "<td>Unknown</td>\n",
       "    </tr>\n",
       "        <th>Participant</th>\n",
       "<td>Unknown</td>\n",
       "    </tr>\n",
       "    <tr>\n",
       "        <th>Digitized points</th>\n",
       "        <td>64 points</td>\n",
       "    </tr>\n",
       "    <tr>\n",
       "        <th>Good channels</th>\n",
       "        <td>0 magnetometer, 0 gradiometer,\n",
       "            and 64 EEG channels</td>\n",
       "    </tr>\n",
       "    <tr>\n",
       "        <th>Bad channels</th>\n",
       "        <td></td>\n",
       "        \n",
       "    </tr>\n",
       "    <tr>\n",
       "        <th>EOG channels</th>\n",
       "        <td>Not available</td>\n",
       "    </tr>\n",
       "    <tr>\n",
       "        <th>ECG channels</th>\n",
       "        <td>Not available</td>\n",
       "    <tr>\n",
       "        <th>Sampling frequency</th>\n",
       "        <td>500.00 Hz</td>\n",
       "    </tr>\n",
       "    <tr>\n",
       "        <th>Highpass</th>\n",
       "        <td>0.00 Hz</td>\n",
       "    </tr>\n",
       "     <tr>\n",
       "        <th>Lowpass</th>\n",
       "        <td>250.00 Hz</td>\n",
       "    </tr>\n",
       "\n",
       "    <tr>\n",
       "        <th>Filenames</th>\n",
       "        <td>sub-AB6_task-gonogo_run-1_eeg.set</td>\n",
       "    </tr>\n",
       "    <tr>\n",
       "        <th>Duration</th>\n",
       "        <td>00:08:10 (HH:MM:SS)</td>\n",
       "    </tr>\n",
       "</table>\n"
      ],
      "text/plain": [
       "<RawEEGLAB | sub-AB6_task-gonogo_run-1_eeg.set, 64 x 245200 (490.4 s), ~119.8 MB, data loaded>"
      ]
     },
     "execution_count": 35,
     "metadata": {},
     "output_type": "execute_result"
    }
   ],
   "source": [
    "rawab6_1"
   ]
  },
  {
   "cell_type": "markdown",
   "metadata": {},
   "source": [
    "## Implementing ICA and SSP Projections"
   ]
  },
  {
   "cell_type": "code",
   "execution_count": 36,
   "metadata": {},
   "outputs": [],
   "source": [
    "#Creating copy\n",
    "#ab6_1 = rawab6_1.copy()\n",
    "#ab6_2 = rawab6_2.copy()\n",
    "ab10_1 = rawab10_1.copy()\n",
    "ab10_2 = rawab10_2.copy()\n",
    "ab12_1 = rawab12_1.copy()\n",
    "ab12_2 = rawab12_2.copy()\n",
    "ab13_1 = rawab13_1.copy()\n",
    "ab13_2 = rawab13_2.copy()\n",
    "ab28_1 = rawab28_1.copy()\n",
    "ab28_2 = rawab28_2.copy()\n",
    "ab31_1 = rawab31_1.copy()\n",
    "ab31_2 = rawab31_2.copy()\n",
    "ab32_1 = rawab32_1.copy()\n",
    "ab32_2 = rawab32_2.copy()"
   ]
  },
  {
   "cell_type": "code",
   "execution_count": 76,
   "metadata": {
    "scrolled": true
   },
   "outputs": [
    {
     "name": "stderr",
     "output_type": "stream",
     "text": [
      "<ipython-input-76-a04830e131a8>:4: DeprecationWarning: Version 0.23 introduced max_iter=\"auto\", setting max_iter=1000 for `fastica` and max_iter=500 for `infomax` and `picard`. The current default of max_iter=200 will be changed to \"auto\" in version 0.24.\n",
      "  ica10_1 = mne.preprocessing.ICA(n_components = 20, random_state = 42)\n",
      "<ipython-input-76-a04830e131a8>:5: DeprecationWarning: Version 0.23 introduced max_iter=\"auto\", setting max_iter=1000 for `fastica` and max_iter=500 for `infomax` and `picard`. The current default of max_iter=200 will be changed to \"auto\" in version 0.24.\n",
      "  ica10_2 = mne.preprocessing.ICA(n_components = 20, random_state = 42)\n",
      "<ipython-input-76-a04830e131a8>:6: DeprecationWarning: Version 0.23 introduced max_iter=\"auto\", setting max_iter=1000 for `fastica` and max_iter=500 for `infomax` and `picard`. The current default of max_iter=200 will be changed to \"auto\" in version 0.24.\n",
      "  ica12_1 = mne.preprocessing.ICA(n_components = 20, random_state = 42)\n",
      "<ipython-input-76-a04830e131a8>:7: DeprecationWarning: Version 0.23 introduced max_iter=\"auto\", setting max_iter=1000 for `fastica` and max_iter=500 for `infomax` and `picard`. The current default of max_iter=200 will be changed to \"auto\" in version 0.24.\n",
      "  ica12_2 = mne.preprocessing.ICA(n_components = 20, random_state = 42)\n",
      "<ipython-input-76-a04830e131a8>:8: DeprecationWarning: Version 0.23 introduced max_iter=\"auto\", setting max_iter=1000 for `fastica` and max_iter=500 for `infomax` and `picard`. The current default of max_iter=200 will be changed to \"auto\" in version 0.24.\n",
      "  ica13_1 = mne.preprocessing.ICA(n_components = 20, random_state = 42)\n",
      "<ipython-input-76-a04830e131a8>:9: DeprecationWarning: Version 0.23 introduced max_iter=\"auto\", setting max_iter=1000 for `fastica` and max_iter=500 for `infomax` and `picard`. The current default of max_iter=200 will be changed to \"auto\" in version 0.24.\n",
      "  ica13_2 = mne.preprocessing.ICA(n_components = 20, random_state = 42)\n",
      "<ipython-input-76-a04830e131a8>:10: DeprecationWarning: Version 0.23 introduced max_iter=\"auto\", setting max_iter=1000 for `fastica` and max_iter=500 for `infomax` and `picard`. The current default of max_iter=200 will be changed to \"auto\" in version 0.24.\n",
      "  ica28_1 = mne.preprocessing.ICA(n_components = 20, random_state = 42)\n",
      "<ipython-input-76-a04830e131a8>:11: DeprecationWarning: Version 0.23 introduced max_iter=\"auto\", setting max_iter=1000 for `fastica` and max_iter=500 for `infomax` and `picard`. The current default of max_iter=200 will be changed to \"auto\" in version 0.24.\n",
      "  ica28_2 = mne.preprocessing.ICA(n_components = 20, random_state = 42)\n",
      "<ipython-input-76-a04830e131a8>:12: DeprecationWarning: Version 0.23 introduced max_iter=\"auto\", setting max_iter=1000 for `fastica` and max_iter=500 for `infomax` and `picard`. The current default of max_iter=200 will be changed to \"auto\" in version 0.24.\n",
      "  ica31_1 = mne.preprocessing.ICA(n_components = 20, random_state = 42)\n",
      "<ipython-input-76-a04830e131a8>:13: DeprecationWarning: Version 0.23 introduced max_iter=\"auto\", setting max_iter=1000 for `fastica` and max_iter=500 for `infomax` and `picard`. The current default of max_iter=200 will be changed to \"auto\" in version 0.24.\n",
      "  ica31_2 = mne.preprocessing.ICA(n_components = 20, random_state = 42)\n",
      "<ipython-input-76-a04830e131a8>:14: DeprecationWarning: Version 0.23 introduced max_iter=\"auto\", setting max_iter=1000 for `fastica` and max_iter=500 for `infomax` and `picard`. The current default of max_iter=200 will be changed to \"auto\" in version 0.24.\n",
      "  ica32_1 = mne.preprocessing.ICA(n_components = 20, random_state = 42)\n",
      "<ipython-input-76-a04830e131a8>:15: DeprecationWarning: Version 0.23 introduced max_iter=\"auto\", setting max_iter=1000 for `fastica` and max_iter=500 for `infomax` and `picard`. The current default of max_iter=200 will be changed to \"auto\" in version 0.24.\n",
      "  ica32_2 = mne.preprocessing.ICA(n_components = 20, random_state = 42)\n"
     ]
    }
   ],
   "source": [
    "#Creating ICA objects\n",
    "#ica6_1 = mne.preprocessing.ICA(n_components = 20, random_state = 42)\n",
    "#ica6_2 = mne.preprocessing.ICA(n_components = 20, random_state = 42)\n",
    "ica10_1 = mne.preprocessing.ICA(n_components = 20, random_state = 42)\n",
    "ica10_2 = mne.preprocessing.ICA(n_components = 20, random_state = 42)\n",
    "ica12_1 = mne.preprocessing.ICA(n_components = 20, random_state = 42)\n",
    "ica12_2 = mne.preprocessing.ICA(n_components = 20, random_state = 42)\n",
    "ica13_1 = mne.preprocessing.ICA(n_components = 20, random_state = 42)\n",
    "ica13_2 = mne.preprocessing.ICA(n_components = 20, random_state = 42)\n",
    "ica28_1 = mne.preprocessing.ICA(n_components = 20, random_state = 42)\n",
    "ica28_2 = mne.preprocessing.ICA(n_components = 20, random_state = 42)\n",
    "ica31_1 = mne.preprocessing.ICA(n_components = 20, random_state = 42)\n",
    "ica31_2 = mne.preprocessing.ICA(n_components = 20, random_state = 42)\n",
    "ica32_1 = mne.preprocessing.ICA(n_components = 20, random_state = 42)\n",
    "ica32_2 = mne.preprocessing.ICA(n_components = 20, random_state = 42)"
   ]
  },
  {
   "cell_type": "code",
   "execution_count": null,
   "metadata": {
    "scrolled": true
   },
   "outputs": [],
   "source": [
    "#Fitting ICA objects\n",
    "ica10_1.fit(ab10_1)\n",
    "ica10_2.fit(ab10_2)\n",
    "ica12_1.fit(ab12_1)\n",
    "ica12_2.fit(ab12_2)\n",
    "ica13_1.fit(ab13_1)\n",
    "ica13_2.fit(ab13_2)\n",
    "ica28_1.fit(ab28_1)\n",
    "ica28_2.fit(ab28_2)\n",
    "ica31_1.fit(ab31_1)\n",
    "ica31_2.fit(ab31_2)\n",
    "ica32_1.fit(ab32_1)\n",
    "ica32_2.fit(ab32_2)"
   ]
  },
  {
   "cell_type": "code",
   "execution_count": null,
   "metadata": {
    "scrolled": true
   },
   "outputs": [],
   "source": [
    "#plotting sources and components\n",
    "ica10_1.plot_sources(ab10_1)\n",
    "ica10_2.plot_components(outlines = 'head', sphere = 10, ch_type = 'eeg')"
   ]
  },
  {
   "cell_type": "code",
   "execution_count": null,
   "metadata": {},
   "outputs": [],
   "source": [
    "#To find and mark bad components\n",
    "def mark_artifacts(ica, ab):\n",
    "    ica.exclude = []\n",
    "    ica.detect_artifacts(ab)\n",
    "    eeg_bads = list(ica.exclude)\n",
    "    ecg_bads = ica.find_bads_ecg(ab)[0]\n",
    "    eog_bads = ica.find_bads_eog(ab)[0]\n",
    "    ica.exclude = list(set(eeg_bads+ecg_bads+eog_bads))"
   ]
  },
  {
   "cell_type": "code",
   "execution_count": null,
   "metadata": {
    "scrolled": true
   },
   "outputs": [],
   "source": [
    "# Marking bad components\n",
    "mark_artifacts(ica10_1, ab10_1)\n",
    "mark_artifacts(ica10_2, ab10_2)\n",
    "mark_artifacts(ica12_1, ab12_1)\n",
    "mark_artifacts(ica12_2, ab12_2)\n",
    "mark_artifacts(ica13_1, ab13_1)\n",
    "mark_artifacts(ica13_2, ab13_2)\n",
    "mark_artifacts(ica28_1, ab28_1)\n",
    "mark_artifacts(ica28_2, ab28_2)\n",
    "mark_artifacts(ica31_1, ab31_1)\n",
    "mark_artifacts(ica31_2, ab31_2)\n",
    "mark_artifacts(ica32_1, ab32_1)\n",
    "mark_artifacts(ica32_2, ab32_2)"
   ]
  },
  {
   "cell_type": "code",
   "execution_count": null,
   "metadata": {},
   "outputs": [],
   "source": [
    "ica10_1.plot_sources(ab10_1)"
   ]
  },
  {
   "cell_type": "code",
   "execution_count": null,
   "metadata": {
    "scrolled": true
   },
   "outputs": [],
   "source": [
    "#applying ica\n",
    "ica10_1.apply(ab10_1, exclude = ica10_1.exclude)\n",
    "ica10_2.apply(ab10_2, exclude = ica10_2.exclude)\n",
    "ica12_1.apply(ab12_1, exclude = ica12_1.exclude)\n",
    "ica12_2.apply(ab12_2, exclude = ica12_2.exclude)\n",
    "ica13_1.apply(ab13_1, exclude = ica13_1.exclude)\n",
    "ica13_2.apply(ab13_2, exclude = ica13_2.exclude)\n",
    "ica28_1.apply(ab28_1, exclude = ica28_1.exclude)\n",
    "ica28_2.apply(ab28_2, exclude = ica28_2.exclude)\n",
    "ica31_1.apply(ab31_1, exclude = ica31_1.exclude)\n",
    "ica31_2.apply(ab31_2, exclude = ica31_2.exclude)\n",
    "ica32_1.apply(ab32_1, exclude = ica32_1.exclude)\n",
    "ica32_2.apply(ab32_2, exclude = ica32_2.exclude)"
   ]
  },
  {
   "cell_type": "markdown",
   "metadata": {},
   "source": [
    "## Generating Events for all subjects"
   ]
  },
  {
   "cell_type": "code",
   "execution_count": null,
   "metadata": {},
   "outputs": [],
   "source": [
    "eventsab10_1 = mne.events_from_annotations(ab10_1)\n",
    "eventsab10_2 = mne.events_from_annotations(ab10_2)\n",
    "\n",
    "eventsab12_1 = mne.events_from_annotations(ab12_1)\n",
    "eventsab12_2 = mne.events_from_annotations(ab12_2)\n",
    "\n",
    "eventsab13_1 = mne.events_from_annotations(ab13_1)\n",
    "eventsab13_2 = mne.events_from_annotations(ab13_2)\n",
    "\n",
    "eventsab28_1 = mne.events_from_annotations(ab28_1)\n",
    "eventsab28_2 = mne.events_from_annotations(ab28_2)\n",
    "\n",
    "eventsab31_1 = mne.events_from_annotations(ab31_1)\n",
    "eventsab31_2 = mne.events_from_annotations(ab31_2)\n",
    "\n",
    "eventsab32_1 = mne.events_from_annotations(ab32_1)\n",
    "eventsab32_2 = mne.events_from_annotations(ab32_2)"
   ]
  },
  {
   "cell_type": "code",
   "execution_count": null,
   "metadata": {},
   "outputs": [],
   "source": [
    "#Creating event id Dictionary\n",
    "event_id = {\n",
    "    \"taskstart\" : '9',\n",
    "    \"cue\" : \"1\",\n",
    "    \"go\" : \"2\",\n",
    "    \"button press\" : \"5\",\n",
    "    \"no-go\" : \"4\",\n",
    "    \"task end\": \"10\",\n",
    "    \"error 1\" : \"3\",\n",
    "    \"error 2\" : \"6\",\n",
    "    \"error 3\" : \"7\",\n",
    "    \"error 4\" : \"8\",\n",
    "    \"error 5\" : \"11\"\n",
    "}\n",
    "event_id"
   ]
  },
  {
   "cell_type": "markdown",
   "metadata": {},
   "source": [
    "## Creating Epochs"
   ]
  },
  {
   "cell_type": "code",
   "execution_count": 38,
   "metadata": {
    "scrolled": true
   },
   "outputs": [
    {
     "name": "stdout",
     "output_type": "stream",
     "text": [
      "Not setting metadata\n",
      "Not setting metadata\n",
      "155 matching events found\n",
      "Setting baseline interval to [-0.2, 0.0] sec\n",
      "Applying baseline correction (mode: mean)\n",
      "0 projection items activated\n",
      "Not setting metadata\n",
      "Not setting metadata\n",
      "153 matching events found\n",
      "Setting baseline interval to [-0.2, 0.0] sec\n",
      "Applying baseline correction (mode: mean)\n",
      "0 projection items activated\n",
      "Not setting metadata\n",
      "Not setting metadata\n",
      "154 matching events found\n",
      "Setting baseline interval to [-0.2, 0.0] sec\n",
      "Applying baseline correction (mode: mean)\n",
      "0 projection items activated\n",
      "Not setting metadata\n",
      "Not setting metadata\n",
      "158 matching events found\n",
      "Setting baseline interval to [-0.2, 0.0] sec\n",
      "Applying baseline correction (mode: mean)\n",
      "0 projection items activated\n",
      "Not setting metadata\n",
      "Not setting metadata\n",
      "153 matching events found\n",
      "Setting baseline interval to [-0.2, 0.0] sec\n",
      "Applying baseline correction (mode: mean)\n",
      "0 projection items activated\n",
      "Not setting metadata\n",
      "Not setting metadata\n",
      "153 matching events found\n",
      "Setting baseline interval to [-0.2, 0.0] sec\n",
      "Applying baseline correction (mode: mean)\n",
      "0 projection items activated\n",
      "Not setting metadata\n",
      "Not setting metadata\n",
      "154 matching events found\n",
      "Setting baseline interval to [-0.2, 0.0] sec\n",
      "Applying baseline correction (mode: mean)\n",
      "0 projection items activated\n",
      "Not setting metadata\n",
      "Not setting metadata\n",
      "157 matching events found\n",
      "Setting baseline interval to [-0.2, 0.0] sec\n",
      "Applying baseline correction (mode: mean)\n",
      "0 projection items activated\n",
      "Not setting metadata\n",
      "Not setting metadata\n",
      "155 matching events found\n",
      "Setting baseline interval to [-0.2, 0.0] sec\n",
      "Applying baseline correction (mode: mean)\n",
      "0 projection items activated\n",
      "Not setting metadata\n",
      "Not setting metadata\n",
      "159 matching events found\n",
      "Setting baseline interval to [-0.2, 0.0] sec\n",
      "Applying baseline correction (mode: mean)\n",
      "0 projection items activated\n",
      "Not setting metadata\n",
      "Not setting metadata\n",
      "167 matching events found\n",
      "Setting baseline interval to [-0.2, 0.0] sec\n",
      "Applying baseline correction (mode: mean)\n",
      "0 projection items activated\n",
      "Not setting metadata\n",
      "Not setting metadata\n",
      "154 matching events found\n",
      "Setting baseline interval to [-0.2, 0.0] sec\n",
      "Applying baseline correction (mode: mean)\n",
      "0 projection items activated\n"
     ]
    }
   ],
   "source": [
    "#Creating epochs\n",
    "\n",
    "epochsab10_1 = mne.Epochs(ab10_1,\n",
    "                   events = eventsab10_1[0],\n",
    "                   event_id = eventsab10_1[1],)\n",
    "epochsab10_2 = mne.Epochs(ab10_2,\n",
    "                   events = eventsab10_2[0],\n",
    "                   event_id = eventsab10_2[1],)\n",
    "\n",
    "epochsab12_1 = mne.Epochs(ab12_1,\n",
    "                   events = eventsab12_1[0],\n",
    "                   event_id = eventsab12_1[1],)\n",
    "epochsab12_2 = mne.Epochs(ab12_2,\n",
    "                   events = eventsab12_2[0],\n",
    "                   event_id = eventsab12_2[1],)\n",
    "\n",
    "epochsab13_1 = mne.Epochs(ab13_1,\n",
    "                   events = eventsab13_1[0],\n",
    "                   event_id = eventsab13_1[1],)\n",
    "epochsab13_2 = mne.Epochs(ab13_2,\n",
    "                   events = eventsab13_2[0],\n",
    "                   event_id = eventsab13_2[1],)\n",
    "\n",
    "epochsab28_1 = mne.Epochs(ab28_1,\n",
    "                   events = eventsab28_1[0],\n",
    "                   event_id = eventsab28_1[1],)\n",
    "epochsab28_2 = mne.Epochs(ab28_2,\n",
    "                   events = eventsab28_2[0],\n",
    "                   event_id = eventsab28_2[1],)\n",
    "\n",
    "epochsab31_1 = mne.Epochs(ab31_1,\n",
    "                   events = eventsab31_1[0],\n",
    "                   event_id = eventsab31_1[1],)\n",
    "epochsab31_2 = mne.Epochs(ab31_2,\n",
    "                   events = eventsab31_2[0],\n",
    "                   event_id = eventsab31_2[1],)\n",
    "\n",
    "epochsab32_1 = mne.Epochs(ab32_1,\n",
    "                   events = eventsab32_1[0],\n",
    "                   event_id = eventsab32_1[1],)\n",
    "epochsab32_2 = mne.Epochs(ab32_2,\n",
    "                   events = eventsab32_2[0],\n",
    "                   event_id = eventsab32_2[1],)"
   ]
  },
  {
   "cell_type": "code",
   "execution_count": null,
   "metadata": {
    "scrolled": true
   },
   "outputs": [
    {
     "name": "stdout",
     "output_type": "stream",
     "text": [
      "Loading data for 155 events and 351 original time points ...\n",
      "0 bad epochs dropped\n",
      "Loading data for 155 events and 351 original time points ...\n"
     ]
    }
   ],
   "source": [
    "epochsab10_1.plot();"
   ]
  },
  {
   "cell_type": "code",
   "execution_count": 39,
   "metadata": {},
   "outputs": [],
   "source": [
    "#to fix event ids\n",
    "def get_keys_from_value(d, val):\n",
    "    return [k for k, v in d.items() if v == val]\n",
    "def fix_event_ids(epochsab, eventsab):\n",
    "    for i in range(epochsab.events.shape[0]):\n",
    "        epochsab.events[i][2] = int(get_keys_from_value(eventsab[1], epochsab.events[i][2])[0])"
   ]
  },
  {
   "cell_type": "code",
   "execution_count": 40,
   "metadata": {},
   "outputs": [],
   "source": [
    "#fix event ids\n",
    "fix_event_ids(epochsab10_1, eventsab10_1)\n",
    "fix_event_ids(epochsab12_1, eventsab12_1)\n",
    "fix_event_ids(epochsab13_1, eventsab13_1)\n",
    "fix_event_ids(epochsab28_1, eventsab28_1)\n",
    "fix_event_ids(epochsab31_1, eventsab31_1)\n",
    "fix_event_ids(epochsab32_1, eventsab32_1)\n",
    "fix_event_ids(epochsab10_2, eventsab10_2)\n",
    "fix_event_ids(epochsab12_2, eventsab12_2)\n",
    "fix_event_ids(epochsab13_2, eventsab13_2)\n",
    "fix_event_ids(epochsab28_2, eventsab28_2)\n",
    "fix_event_ids(epochsab31_2, eventsab31_2)\n",
    "fix_event_ids(epochsab32_2, eventsab32_2)"
   ]
  },
  {
   "cell_type": "markdown",
   "metadata": {},
   "source": [
    "# Applying Machine learning for classification"
   ]
  },
  {
   "cell_type": "code",
   "execution_count": 41,
   "metadata": {},
   "outputs": [],
   "source": [
    "#Loading important libraries\n",
    "import numpy as np\n",
    "import tensorflow as tf\n",
    "import matplotlib.pyplot as plt\n",
    "%matplotlib inline\n",
    "\n",
    "from tensorflow.keras.models import Model, Sequential\n",
    "from tensorflow.keras.layers import Dense, Softmax\n",
    "from tensorflow.keras.optimizers import Adam\n",
    "from tensorflow.keras.callbacks import EarlyStopping, ModelCheckpoint"
   ]
  },
  {
   "cell_type": "markdown",
   "metadata": {},
   "source": [
    "## Preparing data"
   ]
  },
  {
   "cell_type": "code",
   "execution_count": 42,
   "metadata": {
    "scrolled": true
   },
   "outputs": [
    {
     "name": "stdout",
     "output_type": "stream",
     "text": [
      "Loading data for 155 events and 351 original time points ...\n",
      "0 bad epochs dropped\n",
      "Loading data for 153 events and 351 original time points ...\n",
      "0 bad epochs dropped\n",
      "Loading data for 154 events and 351 original time points ...\n",
      "0 bad epochs dropped\n",
      "Loading data for 158 events and 351 original time points ...\n",
      "0 bad epochs dropped\n",
      "Loading data for 153 events and 351 original time points ...\n",
      "0 bad epochs dropped\n",
      "Loading data for 153 events and 351 original time points ...\n",
      "0 bad epochs dropped\n",
      "Loading data for 154 events and 351 original time points ...\n",
      "0 bad epochs dropped\n",
      "Loading data for 157 events and 351 original time points ...\n",
      "0 bad epochs dropped\n",
      "Loading data for 155 events and 351 original time points ...\n",
      "0 bad epochs dropped\n",
      "Loading data for 159 events and 351 original time points ...\n",
      "0 bad epochs dropped\n",
      "Loading data for 167 events and 351 original time points ...\n",
      "0 bad epochs dropped\n",
      "Loading data for 154 events and 351 original time points ...\n",
      "0 bad epochs dropped\n"
     ]
    }
   ],
   "source": [
    "#Getting epoch data\n",
    "\n",
    "dataab10_1 = epochsab10_1.get_data()\n",
    "dataab10_2 = epochsab10_2.get_data()\n",
    "dataab12_1 = epochsab12_1.get_data()\n",
    "dataab12_2 = epochsab12_2.get_data()\n",
    "dataab13_1 = epochsab13_1.get_data()\n",
    "dataab13_2 = epochsab13_2.get_data()\n",
    "dataab28_1 = epochsab28_1.get_data()\n",
    "dataab28_2 = epochsab28_2.get_data()\n",
    "dataab31_1 = epochsab31_1.get_data()\n",
    "dataab31_2 = epochsab31_2.get_data()\n",
    "dataab32_1 = epochsab32_1.get_data()\n",
    "dataab32_2 = epochsab32_2.get_data()\n",
    "\n",
    "\n",
    "# data10_1 = ab10_1.get_data()\n",
    "# data10_2 = ab10_2.get_data()\n",
    "# data12_1 = ab12_1.get_data()\n",
    "# data12_2 = ab12_2.get_data()\n",
    "# data13_1 = ab13_1.get_data()\n",
    "# data13_2 = ab13_2.get_data()\n",
    "# data28_1 = ab28_1.get_data()\n",
    "# data28_2 = ab28_2.get_data()\n",
    "# data31_1 = ab31_1.get_data()\n",
    "# data31_2 = ab31_2.get_data()\n",
    "# data32_1 = ab32_1.get_data()\n",
    "# data32_2 = ab32_2.get_data()\n",
    "\n",
    "# print(\"shape from ab10_1 data epochs : \", dataab10_1.shape)\n",
    "# print(\"shape from ab10_1 data directly: \", data10_1.shape)\n",
    "\n",
    "\n",
    "# data12_1 = ab12_1.get_data()\n",
    "# data12_1 = data12_1.transpose()\n",
    "# data12_1.shape"
   ]
  },
  {
   "cell_type": "code",
   "execution_count": 43,
   "metadata": {},
   "outputs": [
    {
     "name": "stdout",
     "output_type": "stream",
     "text": [
      "(1872, 66, 351)\n",
      "351 X 66\n"
     ]
    },
    {
     "data": {
      "text/plain": [
       "(1872, 351, 66)"
      ]
     },
     "execution_count": 43,
     "metadata": {},
     "output_type": "execute_result"
    }
   ],
   "source": [
    "#Concatenating data\n",
    "data = np.concatenate([dataab10_1, dataab10_2,\n",
    "                      dataab12_1, dataab12_2,\n",
    "                      dataab13_1, dataab13_2,\n",
    "                      dataab28_1, dataab28_2,\n",
    "                      dataab31_1, dataab31_2,\n",
    "                      dataab32_1, dataab32_2], \n",
    "                      axis = 0)\n",
    "print(data.shape)\n",
    "\n",
    "#Changing the shape of data from (events, channel, time points) to (events, time points, channel)\n",
    "datars = np.zeros((data.shape[0], data.shape[2], data.shape[1]))\n",
    "for i in range(datars.shape[0]):\n",
    "    datars[i] = np.transpose(data[i])\n",
    "    \n",
    "dims_lstm_1 = datars.shape[1]\n",
    "dims_lstm_2 = datars.shape[2]\n",
    "print(dims_lstm_1, \"X\", dims_lstm_2)\n",
    "datars.shape"
   ]
  },
  {
   "cell_type": "code",
   "execution_count": 44,
   "metadata": {},
   "outputs": [
    {
     "name": "stdout",
     "output_type": "stream",
     "text": [
      "(1872, 23166)\n"
     ]
    },
    {
     "data": {
      "text/plain": [
       "23166"
      ]
     },
     "execution_count": 44,
     "metadata": {},
     "output_type": "execute_result"
    }
   ],
   "source": [
    "n_trials = data.shape[0]\n",
    "\n",
    "\n",
    "data = data.reshape(n_trials, -1)\n",
    "print(data.shape)\n",
    "dims_ip = data.shape[1]\n",
    "dims_ip"
   ]
  },
  {
   "cell_type": "code",
   "execution_count": 45,
   "metadata": {},
   "outputs": [],
   "source": [
    "#Getting y\n",
    "yab10_1 = epochsab10_1.events[:, 2]\n",
    "yab10_2 = epochsab10_2.events[:, 2]\n",
    "\n",
    "yab12_1 = epochsab12_1.events[:, 2]\n",
    "yab12_2 = epochsab12_2.events[:, 2]\n",
    "\n",
    "yab13_1 = epochsab13_1.events[:, 2]\n",
    "yab13_2 = epochsab13_2.events[:, 2]\n",
    "\n",
    "yab28_1 = epochsab28_1.events[:, 2]\n",
    "yab28_2 = epochsab28_2.events[:, 2]\n",
    "\n",
    "yab31_1 = epochsab31_1.events[:, 2]\n",
    "yab31_2 = epochsab31_2.events[:, 2]\n",
    "\n",
    "yab32_1 = epochsab32_1.events[:, 2]\n",
    "yab32_2 = epochsab32_2.events[:, 2]\n",
    "\n",
    "y = np.concatenate([yab10_1, yab10_2,\n",
    "                   yab12_1, yab12_2,\n",
    "                   yab13_1, yab13_2,\n",
    "                   yab28_1, yab28_2,\n",
    "                   yab31_1, yab31_2,\n",
    "                   yab32_1, yab32_2],\n",
    "                   axis = 0)"
   ]
  },
  {
   "cell_type": "code",
   "execution_count": 46,
   "metadata": {},
   "outputs": [
    {
     "name": "stdout",
     "output_type": "stream",
     "text": [
      "(1872, 351, 66)\n",
      "(1872, 1)\n",
      "(1872, 23167)\n",
      "(1872, 23166)\n",
      "(1872,)\n"
     ]
    }
   ],
   "source": [
    "#Preparing main dataset\n",
    "y = y.reshape(-1, 1)\n",
    "# y = y[...,np.newaxis]\n",
    "datarscopy = datars.copy()\n",
    "datarscopy = datarscopy.reshape(datars.shape[0], -1)\n",
    "\n",
    "print(datars.shape)\n",
    "print(y.shape)\n",
    "main_dataset = np.concatenate((datarscopy, y), axis = 1)\n",
    "print(main_dataset.shape)\n",
    "\n",
    "#Defining main x and y for training\n",
    "main_x = main_dataset[:, :-1]\n",
    "main_y = main_dataset[:, -1]\n",
    "print(main_x.shape)\n",
    "print(main_y.shape)"
   ]
  },
  {
   "cell_type": "markdown",
   "metadata": {},
   "source": [
    "## Classfying go/no/cue/button press"
   ]
  },
  {
   "cell_type": "code",
   "execution_count": 47,
   "metadata": {},
   "outputs": [
    {
     "name": "stdout",
     "output_type": "stream",
     "text": [
      "(1872, 23167)\n",
      "(1796, 23167)\n",
      "(1796, 23166)\n",
      "(1796,)\n",
      "[1.0, 2.0, 4.0, 5.0]\n"
     ]
    }
   ],
   "source": [
    "#Removing events which are not needed for current task\n",
    "dataset = main_dataset.copy()\n",
    "print(dataset.shape)\n",
    "dataset = dataset[dataset[:, -1]!=9]\n",
    "dataset = dataset[dataset[:, -1]!=10]\n",
    "\n",
    "dataset = dataset[dataset[:, -1]!=3]\n",
    "dataset = dataset[dataset[:, -1]!=6]\n",
    "dataset = dataset[dataset[:, -1]!=7]\n",
    "dataset = dataset[dataset[:, -1]!=8]\n",
    "dataset = dataset[dataset[:, -1]!=11]\n",
    "\n",
    "print(dataset.shape)\n",
    "\n",
    "#Defining x and y\n",
    "x = dataset[:, :-1]\n",
    "y = dataset[:, -1]\n",
    "print(x.shape)\n",
    "print(y.shape)\n",
    "print(list(set(y)))\n",
    "\n",
    "xmlp = x.copy()\n",
    "ymlp = y.copy()\n",
    "\n",
    "xlstm = x.copy().reshape((-1, dims_lstm_1, dims_lstm_2))\n",
    "ylstm = y.copy()"
   ]
  },
  {
   "cell_type": "code",
   "execution_count": 48,
   "metadata": {},
   "outputs": [
    {
     "name": "stdout",
     "output_type": "stream",
     "text": [
      "[0.0, 1.0, 2.0, 3.0]\n"
     ]
    }
   ],
   "source": [
    "#Encoding y\n",
    "dict = {1.0: 0,2.0: 1, 4.0: 2, 5.0: 3}\n",
    "\n",
    "for i in range(len(y)):\n",
    "    y[i] = dict[y[i]]\n",
    "    ylstm[i] = dict[ylstm[i]]\n",
    "\n",
    "print(list(set(y)))"
   ]
  },
  {
   "cell_type": "code",
   "execution_count": 49,
   "metadata": {},
   "outputs": [
    {
     "name": "stdout",
     "output_type": "stream",
     "text": [
      "[[1. 0. 0. 0.]\n",
      " [0. 1. 0. 0.]\n",
      " [0. 0. 0. 1.]\n",
      " [1. 0. 0. 0.]\n",
      " [0. 1. 0. 0.]]\n"
     ]
    }
   ],
   "source": [
    "num_classes = 4\n",
    "y = tf.keras.utils.to_categorical(y, num_classes)\n",
    "ymlp = y.copy()\n",
    "ylstm = y.copy()\n",
    "# yab10_1[0]\n",
    "print(y[:5])"
   ]
  },
  {
   "cell_type": "code",
   "execution_count": 83,
   "metadata": {},
   "outputs": [
    {
     "name": "stdout",
     "output_type": "stream",
     "text": [
      "1436\n"
     ]
    }
   ],
   "source": [
    "train_test_split = int(0.8 * len(xmlp))\n",
    "print(train_test_split)\n",
    "\n",
    "x_train_mlp = xmlp[:train_test_split]\n",
    "y_train_mlp = ymlp[:train_test_split]\n",
    "\n",
    "x_test_mlp = xmlp[train_test_split:]\n",
    "y_test_mlp = ymlp[train_test_split:]\n",
    "\n",
    "# x_mlp_train = xmlp[:]"
   ]
  },
  {
   "cell_type": "code",
   "execution_count": 101,
   "metadata": {},
   "outputs": [],
   "source": [
    "def get_cyclic_generator(features, labels, batch_size = 1):\n",
    "  while True:\n",
    "    for n in range(features.shape[0]//batch_size):\n",
    "      yield (features[n*batch_size: (n+1)*batch_size], labels[n*batch_size: (n+1)*batch_size])\n",
    "    permuted = np.random.permutation(len(features))\n",
    "    features = features[permuted]\n",
    "    labels = labels[permuted]"
   ]
  },
  {
   "cell_type": "code",
   "execution_count": 102,
   "metadata": {},
   "outputs": [],
   "source": [
    "train_batch_size = 32\n",
    "train_cyclic_generator_mlp = get_cyclic_generator(x_train_mlp, y_train_mlp, batch_size = train_batch_size)\n",
    "# test_cyclic_generator_mlp = get_cyclic_generator(x_test_mlp, y_test_mlp, batch_size = train_batch_size)"
   ]
  },
  {
   "cell_type": "markdown",
   "metadata": {},
   "source": [
    "### Training on MLP Model"
   ]
  },
  {
   "cell_type": "code",
   "execution_count": 103,
   "metadata": {},
   "outputs": [
    {
     "name": "stdout",
     "output_type": "stream",
     "text": [
      "Model: \"model_10\"\n",
      "_________________________________________________________________\n",
      "Layer (type)                 Output Shape              Param #   \n",
      "=================================================================\n",
      "input_11 (InputLayer)        [(None, 23166)]           0         \n",
      "_________________________________________________________________\n",
      "dense_30 (Dense)             (None, 32)                741344    \n",
      "_________________________________________________________________\n",
      "dense_31 (Dense)             (None, 16)                528       \n",
      "_________________________________________________________________\n",
      "dense_32 (Dense)             (None, 4)                 68        \n",
      "=================================================================\n",
      "Total params: 741,940\n",
      "Trainable params: 741,940\n",
      "Non-trainable params: 0\n",
      "_________________________________________________________________\n"
     ]
    }
   ],
   "source": [
    "#Creating model architecture\n",
    "inp_shape = (dims_ip, )\n",
    "ip = tf.keras.Input(shape = inp_shape)\n",
    "dense1 = tf.keras.layers.Dense(units = 32, activation = 'relu', kernel_initializer = 'random_normal')(ip)\n",
    "dense2 = tf.keras.layers.Dense(units = 16, activation = 'relu', kernel_initializer = 'random_normal')(dense1)\n",
    "out = tf.keras.layers.Dense(num_classes, activation = 'softmax')(dense2)\n",
    "\n",
    "mlp = tf.keras.Model(inputs = ip, outputs = out)\n",
    "mlp.summary()\n",
    "# inp_shape = (None, )\n",
    "# review_sequence = tf.keras.Input(shape = inp_shape)\n",
    "# embedding_sequence = tf.keras.layers.Embedding(input_dim=100+1, output_dim=32, input_shape=(review_sequence.shape), mask_zero=False)(review_sequence)\n",
    "# average_embedding = tf.keras.layers.GlobalAveragePooling1D()(embedding_sequence)\n",
    "# positive_probability = tf.keras.layers.Dense(units=1, activation='sigmoid')(average_embedding)\n",
    "\n",
    "# model = tf.keras.Model(inputs = review_sequence, outputs = positive_probability)"
   ]
  },
  {
   "cell_type": "code",
   "execution_count": 104,
   "metadata": {},
   "outputs": [],
   "source": [
    "# Compiling the model\n",
    "mlp_earlystop = EarlyStopping(patience = 5, min_delta = 0.0001, monitor = 'acc')\n",
    "\n",
    "path = 'mlp_checkpoint/checkpoint_{epoch:02d}';\n",
    "mlp_checkpoint = ModelCheckpoint(filepath = path,\n",
    "                            verbose = 1,\n",
    "                            monitor = 'acc',\n",
    "                            save_freq = 'epoch',\n",
    "                            save_best_only = True,\n",
    "                            save_weights_only = True)\n",
    "\n",
    "mlp.compile(loss = 'categorical_crossentropy', metrics = ['acc'], optimizer = 'adam')"
   ]
  },
  {
   "cell_type": "code",
   "execution_count": 105,
   "metadata": {
    "scrolled": true
   },
   "outputs": [
    {
     "name": "stdout",
     "output_type": "stream",
     "text": [
      "WARNING:tensorflow:sample_weight modes were coerced from\n",
      "  ...\n",
      "    to  \n",
      "  ['...']\n",
      "Train for 449 steps, validate on 360 samples\n",
      "Epoch 1/20\n",
      "445/449 [============================>.] - ETA: 0s - loss: 1.2681 - acc: 0.3999\n",
      "Epoch 00001: acc improved from -inf to 0.39957, saving model to mlp_checkpoint/checkpoint_01\n",
      "449/449 [==============================] - 10s 23ms/step - loss: 1.2680 - acc: 0.3996 - val_loss: 1.2526 - val_acc: 0.4056\n",
      "Epoch 2/20\n",
      "448/449 [============================>.] - ETA: 0s - loss: 1.2479 - acc: 0.4003\n",
      "Epoch 00002: acc improved from 0.39957 to 0.40026, saving model to mlp_checkpoint/checkpoint_02\n",
      "449/449 [==============================] - 8s 17ms/step - loss: 1.2479 - acc: 0.4003 - val_loss: 1.2508 - val_acc: 0.4056\n",
      "Epoch 3/20\n",
      "447/449 [============================>.] - ETA: 0s - loss: 1.2448 - acc: 0.3997\n",
      "Epoch 00003: acc did not improve from 0.40026\n",
      "449/449 [==============================] - 7s 16ms/step - loss: 1.2449 - acc: 0.3996 - val_loss: 1.2487 - val_acc: 0.4056\n",
      "Epoch 4/20\n",
      "446/449 [============================>.] - ETA: 0s - loss: 1.2369 - acc: 0.4002\n",
      "Epoch 00004: acc did not improve from 0.40026\n",
      "449/449 [==============================] - 7s 16ms/step - loss: 1.2371 - acc: 0.3997 - val_loss: 1.2430 - val_acc: 0.4056\n",
      "Epoch 5/20\n",
      "445/449 [============================>.] - ETA: 0s - loss: 1.2241 - acc: 0.4031\n",
      "Epoch 00005: acc improved from 0.40026 to 0.40277, saving model to mlp_checkpoint/checkpoint_05\n",
      "449/449 [==============================] - 8s 18ms/step - loss: 1.2243 - acc: 0.4028 - val_loss: 1.2355 - val_acc: 0.4111\n",
      "Epoch 6/20\n",
      "448/449 [============================>.] - ETA: 0s - loss: 1.2007 - acc: 0.4188\n",
      "Epoch 00006: acc improved from 0.40277 to 0.41892, saving model to mlp_checkpoint/checkpoint_06\n",
      "449/449 [==============================] - 8s 18ms/step - loss: 1.2007 - acc: 0.4189 - val_loss: 1.2270 - val_acc: 0.4611\n",
      "Epoch 7/20\n",
      "447/449 [============================>.] - ETA: 0s - loss: 1.1561 - acc: 0.4537\n",
      "Epoch 00007: acc improved from 0.41892 to 0.45386, saving model to mlp_checkpoint/checkpoint_07\n",
      "449/449 [==============================] - 8s 19ms/step - loss: 1.1561 - acc: 0.4539 - val_loss: 1.2140 - val_acc: 0.4722\n",
      "Epoch 8/20\n",
      "446/449 [============================>.] - ETA: 0s - loss: 1.0899 - acc: 0.5327\n",
      "Epoch 00008: acc improved from 0.45386 to 0.53285, saving model to mlp_checkpoint/checkpoint_08\n",
      "449/449 [==============================] - 9s 19ms/step - loss: 1.0893 - acc: 0.5329 - val_loss: 1.1790 - val_acc: 0.5083\n",
      "Epoch 9/20\n",
      "445/449 [============================>.] - ETA: 0s - loss: 1.0233 - acc: 0.5890\n",
      "Epoch 00009: acc improved from 0.53285 to 0.58909, saving model to mlp_checkpoint/checkpoint_09\n",
      "449/449 [==============================] - 15s 33ms/step - loss: 1.0225 - acc: 0.5891 - val_loss: 1.1510 - val_acc: 0.5278\n",
      "Epoch 10/20\n",
      "448/449 [============================>.] - ETA: 0s - loss: 0.9631 - acc: 0.6149\n",
      "Epoch 00010: acc improved from 0.58909 to 0.61505, saving model to mlp_checkpoint/checkpoint_10\n",
      "449/449 [==============================] - 8s 17ms/step - loss: 0.9629 - acc: 0.6150 - val_loss: 1.1434 - val_acc: 0.4833\n",
      "Epoch 11/20\n",
      "447/449 [============================>.] - ETA: 0s - loss: 0.9066 - acc: 0.6370\n",
      "Epoch 00011: acc improved from 0.61505 to 0.63711, saving model to mlp_checkpoint/checkpoint_11\n",
      "449/449 [==============================] - 8s 18ms/step - loss: 0.9071 - acc: 0.6371 - val_loss: 1.1290 - val_acc: 0.4972\n",
      "Epoch 12/20\n",
      "446/449 [============================>.] - ETA: 0s - loss: 0.8549 - acc: 0.6571\n",
      "Epoch 00012: acc improved from 0.63711 to 0.65709, saving model to mlp_checkpoint/checkpoint_12\n",
      "449/449 [==============================] - 8s 19ms/step - loss: 0.8551 - acc: 0.6571 - val_loss: 1.1207 - val_acc: 0.5000\n",
      "Epoch 13/20\n",
      "445/449 [============================>.] - ETA: 0s - loss: 0.8094 - acc: 0.6763\n",
      "Epoch 00013: acc improved from 0.65709 to 0.67567, saving model to mlp_checkpoint/checkpoint_13\n",
      "449/449 [==============================] - 10s 23ms/step - loss: 0.8099 - acc: 0.6757 - val_loss: 1.0982 - val_acc: 0.5194\n",
      "Epoch 14/20\n",
      "447/449 [============================>.] - ETA: 0s - loss: 0.7686 - acc: 0.6915\n",
      "Epoch 00014: acc improved from 0.67567 to 0.69154, saving model to mlp_checkpoint/checkpoint_14\n",
      "449/449 [==============================] - 8s 17ms/step - loss: 0.7689 - acc: 0.6915 - val_loss: 1.1091 - val_acc: 0.5306\n",
      "Epoch 15/20\n",
      "447/449 [============================>.] - ETA: 0s - loss: 0.7378 - acc: 0.7042\n",
      "Epoch 00015: acc improved from 0.69154 to 0.70462, saving model to mlp_checkpoint/checkpoint_15\n",
      "449/449 [==============================] - 11s 23ms/step - loss: 0.7373 - acc: 0.7046 - val_loss: 1.0674 - val_acc: 0.5500\n",
      "Epoch 16/20\n",
      "446/449 [============================>.] - ETA: 0s - loss: 0.7035 - acc: 0.7141\n",
      "Epoch 00016: acc improved from 0.70462 to 0.71374, saving model to mlp_checkpoint/checkpoint_16\n",
      "449/449 [==============================] - 9s 21ms/step - loss: 0.7042 - acc: 0.7137 - val_loss: 1.1020 - val_acc: 0.5306\n",
      "Epoch 17/20\n",
      "445/449 [============================>.] - ETA: 0s - loss: 0.6748 - acc: 0.7263\n",
      "Epoch 00017: acc improved from 0.71374 to 0.72627, saving model to mlp_checkpoint/checkpoint_17\n",
      "449/449 [==============================] - 8s 18ms/step - loss: 0.6752 - acc: 0.7263 - val_loss: 1.0832 - val_acc: 0.5528\n",
      "Epoch 18/20\n",
      "448/449 [============================>.] - ETA: 0s - loss: 0.6461 - acc: 0.7391- E\n",
      "Epoch 00018: acc improved from 0.72627 to 0.73900, saving model to mlp_checkpoint/checkpoint_18\n",
      "449/449 [==============================] - 8s 18ms/step - loss: 0.6460 - acc: 0.7390 - val_loss: 1.1245 - val_acc: 0.5278\n",
      "Epoch 19/20\n",
      "447/449 [============================>.] - ETA: 0s - loss: 0.6199 - acc: 0.7516\n",
      "Epoch 00019: acc improved from 0.73900 to 0.75153, saving model to mlp_checkpoint/checkpoint_19\n",
      "449/449 [==============================] - 9s 20ms/step - loss: 0.6204 - acc: 0.7515 - val_loss: 1.1109 - val_acc: 0.5500\n",
      "Epoch 20/20\n",
      "446/449 [============================>.] - ETA: 0s - loss: 0.5938 - acc: 0.7626\n",
      "Epoch 00020: acc improved from 0.75153 to 0.76274, saving model to mlp_checkpoint/checkpoint_20\n",
      "449/449 [==============================] - 8s 18ms/step - loss: 0.5940 - acc: 0.7627 - val_loss: 1.1201 - val_acc: 0.5472\n"
     ]
    }
   ],
   "source": [
    "mlp_history = mlp.fit(train_cyclic_generator_mlp,\n",
    "#                         validation_data = test_cyclic_generator_mlp,\n",
    "                      validation_data = (x_test_mlp, y_test_mlp),\n",
    "                      steps_per_epoch= 449,\n",
    "                      epochs = 20,\n",
    "                      callbacks = [mlp_earlystop, mlp_checkpoint]) #Fitting the model"
   ]
  },
  {
   "cell_type": "code",
   "execution_count": 108,
   "metadata": {},
   "outputs": [
    {
     "data": {
      "image/png": "[encoded data removed]",
      "text/plain": [
       "<Figure size 432x288 with 1 Axes>"
      ]
     },
     "metadata": {
      "needs_background": "light"
     },
     "output_type": "display_data"
    },
    {
     "name": "stdout",
     "output_type": "stream",
     "text": [
      "Initial accuracy is:  0.3995685\n",
      "Final accuracy is:  0.7627366\n",
      "Initial loss is:  1.2679638400640678\n",
      "Final loss is:  0.5939982323710266\n"
     ]
    }
   ],
   "source": [
    "#Plotting model history\n",
    "plt.plot(mlp_history.history['acc'])\n",
    "plt.plot(mlp_history.history['loss'])\n",
    "plt.legend(['Training Accuracy', 'Training Loss'])\n",
    "plt.title('Training History')\n",
    "plt.ylabel('Value')\n",
    "plt.xlabel('epochs')\n",
    "plt.show()\n",
    "print(\"Initial accuracy is: \", mlp_history.history['acc'][0])\n",
    "print(\"Final accuracy is: \", mlp_history.history['acc'][-1])\n",
    "\n",
    "print(\"Initial loss is: \", mlp_history.history['loss'][0])\n",
    "print(\"Final loss is: \", mlp_history.history['loss'][-1])"
   ]
  },
  {
   "cell_type": "code",
   "execution_count": 109,
   "metadata": {},
   "outputs": [
    {
     "data": {
      "image/png": "[encoded data removed]",
      "text/plain": [
       "<Figure size 432x288 with 1 Axes>"
      ]
     },
     "metadata": {
      "needs_background": "light"
     },
     "output_type": "display_data"
    },
    {
     "name": "stdout",
     "output_type": "stream",
     "text": [
      "Initial accuracy is:  0.40555555\n",
      "Final accuracy is:  0.5472222\n",
      "Initial loss is:  1.2526135073767768\n",
      "Final loss is:  1.1200812286800808\n"
     ]
    }
   ],
   "source": [
    "#Plotting model history\n",
    "plt.plot(mlp_history.history['val_acc'])\n",
    "plt.plot(mlp_history.history['val_loss'])\n",
    "plt.legend(['Valdation Accuracy', 'Validation Loss'])\n",
    "plt.title('Validation History')\n",
    "plt.ylabel('Value')\n",
    "plt.xlabel('epochs')\n",
    "plt.show()\n",
    "print(\"Initial accuracy is: \", mlp_history.history['val_acc'][0])\n",
    "print(\"Final accuracy is: \", mlp_history.history['val_acc'][-1])\n",
    "\n",
    "print(\"Initial loss is: \", mlp_history.history['val_loss'][0])\n",
    "print(\"Final loss is: \", mlp_history.history['val_loss'][-1])"
   ]
  },
  {
   "cell_type": "markdown",
   "metadata": {},
   "source": [
    "## Training on LSTM model"
   ]
  },
  {
   "cell_type": "code",
   "execution_count": 110,
   "metadata": {},
   "outputs": [
    {
     "name": "stdout",
     "output_type": "stream",
     "text": [
      "1436\n"
     ]
    }
   ],
   "source": [
    "train_test_split = int(0.8 * len(xlstm))\n",
    "print(train_test_split)\n",
    "\n",
    "x_train_lstm = xlstm[:train_test_split]\n",
    "y_train_lstm = ylstm[:train_test_split]\n",
    "\n",
    "x_test_lstm = xlstm[train_test_split:]\n",
    "y_test_lstm = ylstm[train_test_split:]"
   ]
  },
  {
   "cell_type": "code",
   "execution_count": 111,
   "metadata": {},
   "outputs": [],
   "source": [
    "def get_cyclic_generator(features, labels, batch_size = 1):\n",
    "  while True:\n",
    "    for n in range(features.shape[0]//batch_size):\n",
    "      yield (features[n*batch_size: (n+1)*batch_size], labels[n*batch_size: (n+1)*batch_size])\n",
    "    permuted = np.random.permutation(len(features))\n",
    "    features = features[permuted]\n",
    "    labels = labels[permuted]"
   ]
  },
  {
   "cell_type": "code",
   "execution_count": 112,
   "metadata": {},
   "outputs": [],
   "source": [
    "train_batch_size = 32\n",
    "train_cyclic_generator_lstm = get_cyclic_generator(xlstm, ylstm, batch_size = train_batch_size)\n",
    "# test_cyclic_generator = get_cyclic_generator(x_test, y_test, batch_size = train_batch_size)"
   ]
  },
  {
   "cell_type": "code",
   "execution_count": 113,
   "metadata": {},
   "outputs": [
    {
     "name": "stdout",
     "output_type": "stream",
     "text": [
      "Model: \"model_11\"\n",
      "_________________________________________________________________\n",
      "Layer (type)                 Output Shape              Param #   \n",
      "=================================================================\n",
      "input_12 (InputLayer)        [(None, 351, 66)]         0         \n",
      "_________________________________________________________________\n",
      "lstm_3 (LSTM)                (None, 351, 32)           12672     \n",
      "_________________________________________________________________\n",
      "flatten_5 (Flatten)          (None, 11232)             0         \n",
      "_________________________________________________________________\n",
      "dense_33 (Dense)             (None, 32)                359456    \n",
      "_________________________________________________________________\n",
      "dense_34 (Dense)             (None, 16)                528       \n",
      "_________________________________________________________________\n",
      "dense_35 (Dense)             (None, 4)                 68        \n",
      "=================================================================\n",
      "Total params: 372,724\n",
      "Trainable params: 372,724\n",
      "Non-trainable params: 0\n",
      "_________________________________________________________________\n"
     ]
    }
   ],
   "source": [
    "#Creating model architecture\n",
    "inp_shape = (dims_lstm_1, dims_lstm_2)\n",
    "ip = tf.keras.Input(shape = inp_shape)\n",
    "lstm = tf.keras.layers.LSTM(32, return_sequences=True)(ip)\n",
    "drop = tf.keras.layers.Dropout(.4)(lstm)\n",
    "# lstm = tf.keras.layers.LSTM(16, return_sequences=True)(ip)\n",
    "# drop = tf.keras.layers.Dropout(.4)(lstm)\n",
    "flatten = tf.keras.layers.Flatten()(lstm)\n",
    "dense1 = tf.keras.layers.Dense(units = 32, activation = 'relu', kernel_initializer = 'random_normal')(flatten)\n",
    "dense2 = tf.keras.layers.Dense(units = 16, activation = 'relu', kernel_initializer = 'random_normal')(dense1)\n",
    "out = tf.keras.layers.Dense(num_classes, activation = 'softmax')(dense2)\n",
    "\n",
    "lstm = tf.keras.Model(inputs = ip, outputs = out)\n",
    "lstm.summary()\n",
    "# inp_shape = (None, )\n",
    "# review_sequence = tf.keras.Input(shape = inp_shape)\n",
    "# embedding_sequence = tf.keras.layers.Embedding(input_dim=100+1, output_dim=32, input_shape=(review_sequence.shape), mask_zero=False)(review_sequence)\n",
    "# average_embedding = tf.keras.layers.GlobalAveragePooling1D()(embedding_sequence)\n",
    "# positive_probability = tf.keras.layers.Dense(units=1, activation='sigmoid')(average_embedding)\n",
    "\n",
    "# model = tf.keras.Model(inputs = review_sequence, outputs = positive_probability)"
   ]
  },
  {
   "cell_type": "code",
   "execution_count": 114,
   "metadata": {},
   "outputs": [],
   "source": [
    "# Compiling the model\n",
    "lstm_earlystop = EarlyStopping(patience = 5, min_delta = 0.0001, monitor = 'acc')\n",
    "\n",
    "\n",
    "\n",
    "path = 'lstm_checkpoint/checkpoint_{epoch:02d}';\n",
    "lstm_checkpoint = ModelCheckpoint(filepath = path,\n",
    "                            verbose = 1,\n",
    "                            monitor = 'acc',\n",
    "                            save_freq = 'epoch',\n",
    "                            save_best_only = True,\n",
    "                            save_weights_only = True)\n",
    "\n",
    "lstm.compile(loss = 'categorical_crossentropy', metrics = ['acc'], optimizer = 'adam')"
   ]
  },
  {
   "cell_type": "code",
   "execution_count": 115,
   "metadata": {
    "scrolled": true
   },
   "outputs": [
    {
     "name": "stdout",
     "output_type": "stream",
     "text": [
      "WARNING:tensorflow:sample_weight modes were coerced from\n",
      "  ...\n",
      "    to  \n",
      "  ['...']\n",
      "Train for 449 steps, validate on 360 samples\n",
      "Epoch 1/20\n",
      "448/449 [============================>.] - ETA: 0s - loss: 1.2606 - acc: 0.3945\n",
      "Epoch 00001: acc improved from -inf to 0.39456, saving model to lstm_checkpoint/checkpoint_01\n",
      "449/449 [==============================] - 28s 63ms/step - loss: 1.2606 - acc: 0.3946 - val_loss: 1.2612 - val_acc: 0.4056\n",
      "Epoch 2/20\n",
      "447/449 [============================>.] - ETA: 0s - loss: 1.2559 - acc: 0.4007\n",
      "Epoch 00002: acc improved from 0.39456 to 0.40068, saving model to lstm_checkpoint/checkpoint_02\n",
      "449/449 [==============================] - 19s 43ms/step - loss: 1.2558 - acc: 0.4007 - val_loss: 1.2616 - val_acc: 0.4056\n",
      "Epoch 3/20\n",
      "448/449 [============================>.] - ETA: 0s - loss: 1.2555 - acc: 0.4011- ETA: 0s - loss: 1.2553 - acc: 0.401\n",
      "Epoch 00003: acc improved from 0.40068 to 0.40075, saving model to lstm_checkpoint/checkpoint_03\n",
      "449/449 [==============================] - 20s 44ms/step - loss: 1.2557 - acc: 0.4008 - val_loss: 1.2541 - val_acc: 0.4056\n",
      "Epoch 4/20\n",
      "448/449 [============================>.] - ETA: 0s - loss: 1.2544 - acc: 0.4007\n",
      "Epoch 00004: acc did not improve from 0.40075\n",
      "449/449 [==============================] - 19s 42ms/step - loss: 1.2545 - acc: 0.4005 - val_loss: 1.2602 - val_acc: 0.4056\n",
      "Epoch 5/20\n",
      "448/449 [============================>.] - ETA: 0s - loss: 1.2540 - acc: 0.4020\n",
      "Epoch 00005: acc improved from 0.40075 to 0.40256, saving model to lstm_checkpoint/checkpoint_05\n",
      "449/449 [==============================] - 19s 43ms/step - loss: 1.2535 - acc: 0.4026 - val_loss: 1.2533 - val_acc: 0.4056\n",
      "Epoch 6/20\n",
      "447/449 [============================>.] - ETA: 0s - loss: 1.2543 - acc: 0.4002\n",
      "Epoch 00006: acc did not improve from 0.40256\n",
      "449/449 [==============================] - 19s 42ms/step - loss: 1.2548 - acc: 0.4001 - val_loss: 1.2542 - val_acc: 0.4056\n",
      "Epoch 7/20\n",
      "448/449 [============================>.] - ETA: 0s - loss: 1.2509 - acc: 0.4007\n",
      "Epoch 00007: acc did not improve from 0.40256\n",
      "449/449 [==============================] - 19s 42ms/step - loss: 1.2509 - acc: 0.4007 - val_loss: 1.2522 - val_acc: 0.4056\n",
      "Epoch 8/20\n",
      "447/449 [============================>.] - ETA: 0s - loss: 1.2297 - acc: 0.4081\n",
      "Epoch 00008: acc improved from 0.40256 to 0.40785, saving model to lstm_checkpoint/checkpoint_08\n",
      "449/449 [==============================] - 20s 45ms/step - loss: 1.2297 - acc: 0.4079 - val_loss: 1.1554 - val_acc: 0.5194\n",
      "Epoch 9/20\n",
      "448/449 [============================>.] - ETA: 0s - loss: 1.1529 - acc: 0.4716\n",
      "Epoch 00009: acc improved from 0.40785 to 0.47188, saving model to lstm_checkpoint/checkpoint_09\n",
      "449/449 [==============================] - 20s 44ms/step - loss: 1.1525 - acc: 0.4719 - val_loss: 1.0213 - val_acc: 0.6333\n",
      "Epoch 10/20\n",
      "447/449 [============================>.] - ETA: 0s - loss: 1.0976 - acc: 0.5139\n",
      "Epoch 00010: acc improved from 0.47188 to 0.51392, saving model to lstm_checkpoint/checkpoint_10\n",
      "449/449 [==============================] - 20s 43ms/step - loss: 1.0975 - acc: 0.5139 - val_loss: 0.9937 - val_acc: 0.6472\n",
      "Epoch 11/20\n",
      "448/449 [============================>.] - ETA: 0s - loss: 1.0613 - acc: 0.5294\n",
      "Epoch 00011: acc improved from 0.51392 to 0.52944, saving model to lstm_checkpoint/checkpoint_11\n",
      "449/449 [==============================] - 19s 43ms/step - loss: 1.0612 - acc: 0.5294 - val_loss: 0.9586 - val_acc: 0.6222\n",
      "Epoch 12/20\n",
      "447/449 [============================>.] - ETA: 0s - loss: 1.0322 - acc: 0.5472\n",
      "Epoch 00012: acc improved from 0.52944 to 0.54733, saving model to lstm_checkpoint/checkpoint_12\n",
      "449/449 [==============================] - 20s 45ms/step - loss: 1.0317 - acc: 0.5473 - val_loss: 0.9254 - val_acc: 0.6667\n",
      "Epoch 13/20\n",
      "448/449 [============================>.] - ETA: 0s - loss: 1.0359 - acc: 0.5465\n",
      "Epoch 00013: acc did not improve from 0.54733\n",
      "449/449 [==============================] - 19s 42ms/step - loss: 1.0358 - acc: 0.5468 - val_loss: 0.9264 - val_acc: 0.6361\n",
      "Epoch 14/20\n",
      "447/449 [============================>.] - ETA: 0s - loss: 0.9744 - acc: 0.5854\n",
      "Epoch 00014: acc improved from 0.54733 to 0.58540, saving model to lstm_checkpoint/checkpoint_14\n",
      "449/449 [==============================] - 20s 45ms/step - loss: 0.9740 - acc: 0.5854 - val_loss: 0.9029 - val_acc: 0.6194\n",
      "Epoch 15/20\n",
      "448/449 [============================>.] - ETA: 0s - loss: 0.9232 - acc: 0.6139\n",
      "Epoch 00015: acc improved from 0.58540 to 0.61414, saving model to lstm_checkpoint/checkpoint_15\n",
      "449/449 [==============================] - 20s 45ms/step - loss: 0.9230 - acc: 0.6141 - val_loss: 0.8651 - val_acc: 0.6806\n",
      "Epoch 16/20\n",
      "447/449 [============================>.] - ETA: 0s - loss: 0.8699 - acc: 0.6427\n",
      "Epoch 00016: acc improved from 0.61414 to 0.64240, saving model to lstm_checkpoint/checkpoint_16\n",
      "449/449 [==============================] - 20s 44ms/step - loss: 0.8701 - acc: 0.6424 - val_loss: 0.8225 - val_acc: 0.6806\n",
      "Epoch 17/20\n",
      "448/449 [============================>.] - ETA: 0s - loss: 0.8079 - acc: 0.6756\n",
      "Epoch 00017: acc improved from 0.64240 to 0.67525, saving model to lstm_checkpoint/checkpoint_17\n",
      "449/449 [==============================] - 20s 45ms/step - loss: 0.8085 - acc: 0.6753 - val_loss: 0.8225 - val_acc: 0.6833\n",
      "Epoch 18/20\n",
      "447/449 [============================>.] - ETA: 0s - loss: 0.7477 - acc: 0.7008\n",
      "Epoch 00018: acc improved from 0.67525 to 0.70045, saving model to lstm_checkpoint/checkpoint_18\n",
      "449/449 [==============================] - 19s 43ms/step - loss: 0.7475 - acc: 0.7004 - val_loss: 0.7519 - val_acc: 0.7194\n",
      "Epoch 19/20\n",
      "447/449 [============================>.] - ETA: 0s - loss: 0.6942 - acc: 0.7303\n",
      "Epoch 00019: acc improved from 0.70045 to 0.73058, saving model to lstm_checkpoint/checkpoint_19\n",
      "449/449 [==============================] - 20s 45ms/step - loss: 0.6937 - acc: 0.7306 - val_loss: 0.7100 - val_acc: 0.7111\n",
      "Epoch 20/20\n",
      "448/449 [============================>.] - ETA: 0s - loss: 0.6379 - acc: 0.7501\n",
      "Epoch 00020: acc improved from 0.73058 to 0.75035, saving model to lstm_checkpoint/checkpoint_20\n",
      "449/449 [==============================] - 20s 45ms/step - loss: 0.6377 - acc: 0.7503 - val_loss: 0.7262 - val_acc: 0.7083\n"
     ]
    }
   ],
   "source": [
    "lstm_history = lstm.fit(train_cyclic_generator_lstm,\n",
    "                        validation_data = (x_test_lstm, y_test_lstm),\n",
    "                        steps_per_epoch= 449,\n",
    "                        epochs = 20,\n",
    "#                         batch_size = 64,\n",
    "                        callbacks = [lstm_earlystop, lstm_checkpoint]) #Fitting the model"
   ]
  },
  {
   "cell_type": "code",
   "execution_count": 116,
   "metadata": {},
   "outputs": [
    {
     "data": {
      "image/png": "[encoded data removed]",
      "text/plain": [
       "<Figure size 432x288 with 1 Axes>"
      ]
     },
     "metadata": {
      "needs_background": "light"
     },
     "output_type": "display_data"
    },
    {
     "name": "stdout",
     "output_type": "stream",
     "text": [
      "Initial training accuracy is:  0.39455736\n",
      "Final training accuracy is:  0.750348\n",
      "Initial training loss is:  1.2605627244193198\n",
      "Final training loss is:  0.6377387470949466\n"
     ]
    }
   ],
   "source": [
    "#Plotting model history\n",
    "plt.plot(lstm_history.history['acc'])\n",
    "plt.plot(lstm_history.history['loss'])\n",
    "plt.legend(['Training Accuracy', 'Training Loss'])\n",
    "plt.title('Training History')\n",
    "plt.ylabel('Value')\n",
    "plt.xlabel('epochs')\n",
    "plt.show()\n",
    "print(\"Initial training accuracy is: \", lstm_history.history['acc'][0])\n",
    "print(\"Final training accuracy is: \", lstm_history.history['acc'][-1])\n",
    "\n",
    "print(\"Initial training loss is: \", lstm_history.history['loss'][0])\n",
    "print(\"Final training loss is: \", lstm_history.history['loss'][-1])"
   ]
  },
  {
   "cell_type": "code",
   "execution_count": 117,
   "metadata": {},
   "outputs": [
    {
     "data": {
      "image/png": "[encoded data removed]",
      "text/plain": [
       "<Figure size 432x288 with 1 Axes>"
      ]
     },
     "metadata": {
      "needs_background": "light"
     },
     "output_type": "display_data"
    },
    {
     "name": "stdout",
     "output_type": "stream",
     "text": [
      "Initial Validation accuracy is:  0.40555555\n",
      "Final Validation accuracy is:  0.7083333\n",
      "Initial Validation loss is:  1.2612336079279582\n",
      "Final Validation loss is:  0.726211060418023\n"
     ]
    }
   ],
   "source": [
    "#Plotting model history\n",
    "plt.plot(lstm_history.history['val_acc'])\n",
    "plt.plot(lstm_history.history['val_loss'])\n",
    "plt.legend(['Valdation Accuracy', 'Validation Loss'])\n",
    "plt.title('Validation History')\n",
    "plt.ylabel('Value')\n",
    "plt.xlabel('epochs')\n",
    "plt.show()\n",
    "print(\"Initial Validation accuracy is: \", lstm_history.history['val_acc'][0])\n",
    "print(\"Final Validation accuracy is: \", lstm_history.history['val_acc'][-1])\n",
    "\n",
    "print(\"Initial Validation loss is: \", lstm_history.history['val_loss'][0])\n",
    "print(\"Final Validation loss is: \", lstm_history.history['val_loss'][-1])"
   ]
  },
  {
   "cell_type": "markdown",
   "metadata": {},
   "source": [
    "### Training on CNN Model"
   ]
  },
  {
   "cell_type": "code",
   "execution_count": null,
   "metadata": {},
   "outputs": [],
   "source": []
  },
  {
   "cell_type": "code",
   "execution_count": null,
   "metadata": {},
   "outputs": [],
   "source": []
  },
  {
   "cell_type": "code",
   "execution_count": null,
   "metadata": {},
   "outputs": [],
   "source": []
  },
  {
   "cell_type": "code",
   "execution_count": null,
   "metadata": {},
   "outputs": [],
   "source": []
  },
  {
   "cell_type": "code",
   "execution_count": 67,
   "metadata": {},
   "outputs": [
    {
     "name": "stdout",
     "output_type": "stream",
     "text": [
      "Model: \"model_5\"\n",
      "_________________________________________________________________\n",
      "Layer (type)                 Output Shape              Param #   \n",
      "=================================================================\n",
      "input_6 (InputLayer)         [(None, 351, 66)]         0         \n",
      "_________________________________________________________________\n",
      "conv1d_2 (Conv1D)            (None, 349, 32)           6368      \n",
      "_________________________________________________________________\n",
      "conv1d_3 (Conv1D)            (None, 347, 16)           1552      \n",
      "_________________________________________________________________\n",
      "flatten_4 (Flatten)          (None, 5552)              0         \n",
      "_________________________________________________________________\n",
      "dense_15 (Dense)             (None, 32)                177696    \n",
      "_________________________________________________________________\n",
      "dense_16 (Dense)             (None, 16)                528       \n",
      "_________________________________________________________________\n",
      "dense_17 (Dense)             (None, 4)                 68        \n",
      "=================================================================\n",
      "Total params: 186,212\n",
      "Trainable params: 186,212\n",
      "Non-trainable params: 0\n",
      "_________________________________________________________________\n"
     ]
    }
   ],
   "source": [
    "inp_shape = (dims_lstm_1, dims_lstm_2)\n",
    "ip = tf.keras.Input(shape = inp_shape)\n",
    "conv1 = tf.keras.layers.Conv1D(32, 3, activation = 'relu')(ip)\n",
    "conv2 = tf.keras.layers.Conv1D(16, 3, activation = 'relu')(conv1)\n",
    "# lstm = tf.keras.layers.LSTM(16, return_sequences=True)(ip)\n",
    "flatten = tf.keras.layers.Flatten()(conv2)\n",
    "dense1 = tf.keras.layers.Dense(units = 32, activation = 'relu', kernel_initializer = 'random_normal')(flatten)\n",
    "dense2 = tf.keras.layers.Dense(units = 16, activation = 'relu', kernel_initializer = 'random_normal')(dense1)\n",
    "out = tf.keras.layers.Dense(num_classes, activation = 'softmax')(dense2)\n",
    "\n",
    "cnn = tf.keras.Model(inputs = ip, outputs = out)\n",
    "cnn.summary()"
   ]
  },
  {
   "cell_type": "code",
   "execution_count": 68,
   "metadata": {},
   "outputs": [],
   "source": [
    "# Compiling the model\n",
    "cnn_earlystop = EarlyStopping(patience = 50, min_delta = 0.0001, monitor = 'acc')\n",
    "\n",
    "path = 'cnn_checkpoint/checkpoint_{epoch:02d}';\n",
    "cnn_checkpoint = ModelCheckpoint(filepath = path,\n",
    "                            verbose = 1,\n",
    "                            monitor = 'acc',\n",
    "                            save_freq = 'epoch',\n",
    "                            save_best_only = True,\n",
    "                            save_weights_only = True)\n",
    "\n",
    "cnn.compile(loss = 'categorical_crossentropy', metrics = ['acc'], optimizer = 'adam')"
   ]
  },
  {
   "cell_type": "code",
   "execution_count": 69,
   "metadata": {
    "scrolled": true
   },
   "outputs": [
    {
     "name": "stdout",
     "output_type": "stream",
     "text": [
      "Train on 1796 samples\n",
      "Epoch 1/500\n",
      "1728/1796 [===========================>..] - ETA: 0s - loss: 1.3136 - acc: 0.2824\n",
      "Epoch 00001: acc improved from -inf to 0.28619, saving model to cnn_checkpoint/checkpoint_01\n",
      "1796/1796 [==============================] - 2s 1ms/sample - loss: 1.3105 - acc: 0.2862\n",
      "Epoch 2/500\n",
      "1728/1796 [===========================>..] - ETA: 0s - loss: 1.2609 - acc: 0.3976- ETA: 0s - loss: 1.2685 - acc: 0.3\n",
      "Epoch 00002: acc improved from 0.28619 to 0.40089, saving model to cnn_checkpoint/checkpoint_02\n",
      "1796/1796 [==============================] - 1s 725us/sample - loss: 1.2571 - acc: 0.4009\n",
      "Epoch 3/500\n",
      "1728/1796 [===========================>..] - ETA: 0s - loss: 1.2540 - acc: 0.3999\n",
      "Epoch 00003: acc did not improve from 0.40089\n",
      "1796/1796 [==============================] - 1s 517us/sample - loss: 1.2553 - acc: 0.4009\n",
      "Epoch 4/500\n",
      "1728/1796 [===========================>..] - ETA: 0s - loss: 1.2556 - acc: 0.4016\n",
      "Epoch 00004: acc did not improve from 0.40089\n",
      "1796/1796 [==============================] - 1s 504us/sample - loss: 1.2561 - acc: 0.4009\n",
      "Epoch 5/500\n",
      "1728/1796 [===========================>..] - ETA: 0s - loss: 1.2602 - acc: 0.4039\n",
      "Epoch 00005: acc did not improve from 0.40089\n",
      "1796/1796 [==============================] - 1s 508us/sample - loss: 1.2619 - acc: 0.4009\n",
      "Epoch 6/500\n",
      "1728/1796 [===========================>..] - ETA: 0s - loss: 1.2602 - acc: 0.3987\n",
      "Epoch 00006: acc did not improve from 0.40089\n",
      "1796/1796 [==============================] - 1s 507us/sample - loss: 1.2564 - acc: 0.4009\n",
      "Epoch 7/500\n",
      "1728/1796 [===========================>..] - ETA: 0s - loss: 1.2582 - acc: 0.3976\n",
      "Epoch 00007: acc did not improve from 0.40089\n",
      "1796/1796 [==============================] - 1s 507us/sample - loss: 1.2562 - acc: 0.4009\n",
      "Epoch 8/500\n",
      "1728/1796 [===========================>..] - ETA: 0s - loss: 1.2548 - acc: 0.4010\n",
      "Epoch 00008: acc did not improve from 0.40089\n",
      "1796/1796 [==============================] - 1s 507us/sample - loss: 1.2537 - acc: 0.4009\n",
      "Epoch 9/500\n",
      "1728/1796 [===========================>..] - ETA: 0s - loss: 1.2559 - acc: 0.4022\n",
      "Epoch 00009: acc did not improve from 0.40089\n",
      "1796/1796 [==============================] - 1s 507us/sample - loss: 1.2553 - acc: 0.4009\n",
      "Epoch 10/500\n",
      "1728/1796 [===========================>..] - ETA: 0s - loss: 1.2538 - acc: 0.3999\n",
      "Epoch 00010: acc did not improve from 0.40089\n",
      "1796/1796 [==============================] - 1s 513us/sample - loss: 1.2546 - acc: 0.4009\n",
      "Epoch 11/500\n",
      "1728/1796 [===========================>..] - ETA: 0s - loss: 1.2545 - acc: 0.4016\n",
      "Epoch 00011: acc did not improve from 0.40089\n",
      "1796/1796 [==============================] - 1s 528us/sample - loss: 1.2557 - acc: 0.4009\n",
      "Epoch 12/500\n",
      "1728/1796 [===========================>..] - ETA: 0s - loss: 1.2557 - acc: 0.3999\n",
      "Epoch 00012: acc did not improve from 0.40089\n",
      "1796/1796 [==============================] - 1s 509us/sample - loss: 1.2542 - acc: 0.4009\n",
      "Epoch 13/500\n",
      "1728/1796 [===========================>..] - ETA: 0s - loss: 1.2544 - acc: 0.3999\n",
      "Epoch 00013: acc did not improve from 0.40089\n",
      "1796/1796 [==============================] - 1s 507us/sample - loss: 1.2528 - acc: 0.4009\n",
      "Epoch 14/500\n",
      "1728/1796 [===========================>..] - ETA: 0s - loss: 1.2513 - acc: 0.3999\n",
      "Epoch 00014: acc did not improve from 0.40089\n",
      "1796/1796 [==============================] - 1s 520us/sample - loss: 1.2532 - acc: 0.4009\n",
      "Epoch 15/500\n",
      "1728/1796 [===========================>..] - ETA: 0s - loss: 1.2538 - acc: 0.3987\n",
      "Epoch 00015: acc did not improve from 0.40089\n",
      "1796/1796 [==============================] - 1s 513us/sample - loss: 1.2539 - acc: 0.4009\n",
      "Epoch 16/500\n",
      "1728/1796 [===========================>..] - ETA: 0s - loss: 1.2524 - acc: 0.4016\n",
      "Epoch 00016: acc did not improve from 0.40089\n",
      "1796/1796 [==============================] - 1s 505us/sample - loss: 1.2545 - acc: 0.4009\n",
      "Epoch 17/500\n",
      "1728/1796 [===========================>..] - ETA: 0s - loss: 1.2534 - acc: 0.4028\n",
      "Epoch 00017: acc did not improve from 0.40089\n",
      "1796/1796 [==============================] - 1s 505us/sample - loss: 1.2543 - acc: 0.4009\n",
      "Epoch 18/500\n",
      "1728/1796 [===========================>..] - ETA: 0s - loss: 1.2518 - acc: 0.4022\n",
      "Epoch 00018: acc did not improve from 0.40089\n",
      "1796/1796 [==============================] - 1s 505us/sample - loss: 1.2531 - acc: 0.4009\n",
      "Epoch 19/500\n",
      "1728/1796 [===========================>..] - ETA: 0s - loss: 1.2527 - acc: 0.4016\n",
      "Epoch 00019: acc did not improve from 0.40089\n",
      "1796/1796 [==============================] - 1s 509us/sample - loss: 1.2579 - acc: 0.4009\n",
      "Epoch 20/500\n",
      "1728/1796 [===========================>..] - ETA: 0s - loss: 1.2540 - acc: 0.3981\n",
      "Epoch 00020: acc did not improve from 0.40089\n",
      "1796/1796 [==============================] - 1s 504us/sample - loss: 1.2532 - acc: 0.4009\n",
      "Epoch 21/500\n",
      "1728/1796 [===========================>..] - ETA: 0s - loss: 1.2544 - acc: 0.3999\n",
      "Epoch 00021: acc did not improve from 0.40089\n",
      "1796/1796 [==============================] - 1s 503us/sample - loss: 1.2544 - acc: 0.4009\n",
      "Epoch 22/500\n",
      "1728/1796 [===========================>..] - ETA: 0s - loss: 1.2536 - acc: 0.4010\n",
      "Epoch 00022: acc did not improve from 0.40089\n",
      "1796/1796 [==============================] - 1s 505us/sample - loss: 1.2555 - acc: 0.4009\n",
      "Epoch 23/500\n",
      "1728/1796 [===========================>..] - ETA: 0s - loss: 1.2584 - acc: 0.3964\n",
      "Epoch 00023: acc did not improve from 0.40089\n",
      "1796/1796 [==============================] - 1s 503us/sample - loss: 1.2570 - acc: 0.4009\n",
      "Epoch 24/500\n",
      "1728/1796 [===========================>..] - ETA: 0s - loss: 1.2561 - acc: 0.4005\n",
      "Epoch 00024: acc did not improve from 0.40089\n",
      "1796/1796 [==============================] - 1s 508us/sample - loss: 1.2554 - acc: 0.4009\n",
      "Epoch 25/500\n",
      "1728/1796 [===========================>..] - ETA: 0s - loss: 1.2518 - acc: 0.4022\n",
      "Epoch 00025: acc did not improve from 0.40089\n",
      "1796/1796 [==============================] - 1s 509us/sample - loss: 1.2536 - acc: 0.4009\n",
      "Epoch 26/500\n",
      "1728/1796 [===========================>..] - ETA: 0s - loss: 1.2521 - acc: 0.4022\n",
      "Epoch 00026: acc did not improve from 0.40089\n",
      "1796/1796 [==============================] - 1s 502us/sample - loss: 1.2537 - acc: 0.4009\n",
      "Epoch 27/500\n",
      "1728/1796 [===========================>..] - ETA: 0s - loss: 1.2563 - acc: 0.3987\n",
      "Epoch 00027: acc did not improve from 0.40089\n",
      "1796/1796 [==============================] - 1s 516us/sample - loss: 1.2541 - acc: 0.4009\n",
      "Epoch 28/500\n",
      "1728/1796 [===========================>..] - ETA: 0s - loss: 1.2547 - acc: 0.4022\n",
      "Epoch 00028: acc did not improve from 0.40089\n",
      "1796/1796 [==============================] - 1s 518us/sample - loss: 1.2547 - acc: 0.4009\n",
      "Epoch 29/500\n",
      "1728/1796 [===========================>..] - ETA: 0s - loss: 1.2507 - acc: 0.4039\n",
      "Epoch 00029: acc did not improve from 0.40089\n",
      "1796/1796 [==============================] - 1s 515us/sample - loss: 1.2524 - acc: 0.4009\n",
      "Epoch 30/500\n",
      "1728/1796 [===========================>..] - ETA: 0s - loss: 1.2533 - acc: 0.4016\n",
      "Epoch 00030: acc did not improve from 0.40089\n",
      "1796/1796 [==============================] - 1s 502us/sample - loss: 1.2532 - acc: 0.4009\n",
      "Epoch 31/500\n",
      "1728/1796 [===========================>..] - ETA: 0s - loss: 1.2507 - acc: 0.4010\n",
      "Epoch 00031: acc did not improve from 0.40089\n",
      "1796/1796 [==============================] - 1s 505us/sample - loss: 1.2546 - acc: 0.4009\n",
      "Epoch 32/500\n",
      "1728/1796 [===========================>..] - ETA: 0s - loss: 1.2580 - acc: 0.3964- ETA: 0s - loss: 1.2656 - a\n",
      "Epoch 00032: acc did not improve from 0.40089\n",
      "1796/1796 [==============================] - 1s 505us/sample - loss: 1.2569 - acc: 0.4009\n",
      "Epoch 33/500\n",
      "1728/1796 [===========================>..] - ETA: 0s - loss: 1.2550 - acc: 0.3970\n",
      "Epoch 00033: acc did not improve from 0.40089\n",
      "1796/1796 [==============================] - 1s 507us/sample - loss: 1.2535 - acc: 0.4009\n",
      "Epoch 34/500\n",
      "1728/1796 [===========================>..] - ETA: 0s - loss: 1.2519 - acc: 0.4034\n",
      "Epoch 00034: acc did not improve from 0.40089\n",
      "1796/1796 [==============================] - 1s 504us/sample - loss: 1.2534 - acc: 0.4009\n",
      "Epoch 35/500\n",
      "1728/1796 [===========================>..] - ETA: 0s - loss: 1.2546 - acc: 0.3999\n",
      "Epoch 00035: acc did not improve from 0.40089\n",
      "1796/1796 [==============================] - 1s 508us/sample - loss: 1.2538 - acc: 0.4009\n",
      "Epoch 36/500\n",
      "1728/1796 [===========================>..] - ETA: 0s - loss: 1.2533 - acc: 0.3987\n",
      "Epoch 00036: acc did not improve from 0.40089\n",
      "1796/1796 [==============================] - 1s 505us/sample - loss: 1.2527 - acc: 0.4009\n",
      "Epoch 37/500\n",
      "1728/1796 [===========================>..] - ETA: 0s - loss: 1.2546 - acc: 0.3993\n",
      "Epoch 00037: acc did not improve from 0.40089\n",
      "1796/1796 [==============================] - 1s 504us/sample - loss: 1.2544 - acc: 0.4009\n",
      "Epoch 38/500\n",
      "1728/1796 [===========================>..] - ETA: 0s - loss: 1.2549 - acc: 0.3981\n",
      "Epoch 00038: acc did not improve from 0.40089\n",
      "1796/1796 [==============================] - 1s 505us/sample - loss: 1.2534 - acc: 0.4009\n",
      "Epoch 39/500\n",
      "1728/1796 [===========================>..] - ETA: 0s - loss: 1.2537 - acc: 0.4016\n",
      "Epoch 00039: acc did not improve from 0.40089\n",
      "1796/1796 [==============================] - 1s 503us/sample - loss: 1.2535 - acc: 0.4009\n",
      "Epoch 40/500\n",
      "1728/1796 [===========================>..] - ETA: 0s - loss: 1.2523 - acc: 0.3981\n",
      "Epoch 00040: acc did not improve from 0.40089\n",
      "1796/1796 [==============================] - 1s 505us/sample - loss: 1.2529 - acc: 0.4009\n",
      "Epoch 41/500\n",
      "1728/1796 [===========================>..] - ETA: 0s - loss: 1.2539 - acc: 0.3999\n",
      "Epoch 00041: acc did not improve from 0.40089\n",
      "1796/1796 [==============================] - 1s 567us/sample - loss: 1.2533 - acc: 0.4009\n",
      "Epoch 42/500\n",
      "1728/1796 [===========================>..] - ETA: 0s - loss: 1.2540 - acc: 0.4039\n",
      "Epoch 00042: acc did not improve from 0.40089\n",
      "1796/1796 [==============================] - 1s 506us/sample - loss: 1.2543 - acc: 0.4009\n",
      "Epoch 43/500\n",
      "1728/1796 [===========================>..] - ETA: 0s - loss: 1.2567 - acc: 0.4005\n",
      "Epoch 00043: acc did not improve from 0.40089\n",
      "1796/1796 [==============================] - 1s 560us/sample - loss: 1.2538 - acc: 0.4009\n",
      "Epoch 44/500\n",
      "1728/1796 [===========================>..] - ETA: 0s - loss: 1.2520 - acc: 0.4016\n",
      "Epoch 00044: acc did not improve from 0.40089\n",
      "1796/1796 [==============================] - 1s 507us/sample - loss: 1.2541 - acc: 0.4009\n",
      "Epoch 45/500\n",
      "1728/1796 [===========================>..] - ETA: 0s - loss: 1.2514 - acc: 0.4028\n",
      "Epoch 00045: acc did not improve from 0.40089\n",
      "1796/1796 [==============================] - 1s 512us/sample - loss: 1.2519 - acc: 0.4009\n",
      "Epoch 46/500\n",
      "1728/1796 [===========================>..] - ETA: 0s - loss: 1.2551 - acc: 0.3958\n",
      "Epoch 00046: acc did not improve from 0.40089\n",
      "1796/1796 [==============================] - 1s 517us/sample - loss: 1.2546 - acc: 0.4009\n",
      "Epoch 47/500\n",
      "1728/1796 [===========================>..] - ETA: 0s - loss: 1.2527 - acc: 0.4016\n",
      "Epoch 00047: acc did not improve from 0.40089\n",
      "1796/1796 [==============================] - 1s 513us/sample - loss: 1.2525 - acc: 0.4009\n",
      "Epoch 48/500\n",
      "1728/1796 [===========================>..] - ETA: 0s - loss: 1.2557 - acc: 0.3993\n",
      "Epoch 00048: acc did not improve from 0.40089\n",
      "1796/1796 [==============================] - 1s 514us/sample - loss: 1.2546 - acc: 0.4009\n",
      "Epoch 49/500\n",
      "1728/1796 [===========================>..] - ETA: 0s - loss: 1.2535 - acc: 0.4057\n",
      "Epoch 00049: acc did not improve from 0.40089\n",
      "1796/1796 [==============================] - 1s 507us/sample - loss: 1.2528 - acc: 0.4009\n",
      "Epoch 50/500\n",
      "1728/1796 [===========================>..] - ETA: 0s - loss: 1.2551 - acc: 0.3981\n",
      "Epoch 00050: acc did not improve from 0.40089\n",
      "1796/1796 [==============================] - 1s 504us/sample - loss: 1.2528 - acc: 0.4009\n",
      "Epoch 51/500\n",
      "1728/1796 [===========================>..] - ETA: 0s - loss: 1.2547 - acc: 0.4022\n",
      "Epoch 00051: acc did not improve from 0.40089\n",
      "1796/1796 [==============================] - 1s 510us/sample - loss: 1.2529 - acc: 0.4009\n",
      "Epoch 52/500\n",
      "1728/1796 [===========================>..] - ETA: 0s - loss: 1.2544 - acc: 0.4005\n",
      "Epoch 00052: acc did not improve from 0.40089\n",
      "1796/1796 [==============================] - 1s 508us/sample - loss: 1.2545 - acc: 0.4009\n"
     ]
    }
   ],
   "source": [
    "cnn_history = cnn.fit(xlstm, ylstm, epochs=500, batch_size = 64, callbacks = [cnn_earlystop, cnn_checkpoint]) #Fitting the model"
   ]
  },
  {
   "cell_type": "code",
   "execution_count": 70,
   "metadata": {},
   "outputs": [
    {
     "data": {
      "image/png": "[encoded data removed]",
      "text/plain": [
       "<Figure size 432x288 with 1 Axes>"
      ]
     },
     "metadata": {
      "needs_background": "light"
     },
     "output_type": "display_data"
    },
    {
     "name": "stdout",
     "output_type": "stream",
     "text": [
      "Initial accuracy is:  0.28619152\n",
      "Final accuracy is:  0.40089086\n",
      "Initial loss is:  1.3104653618649014\n",
      "Final loss is:  1.2544584831841008\n"
     ]
    }
   ],
   "source": [
    "#Plotting model history\n",
    "plt.plot(cnn_history.history['acc'])\n",
    "plt.plot(cnn_history.history['loss'])\n",
    "plt.legend(['Accuracy', 'Loss'])\n",
    "plt.title('Model History')\n",
    "plt.ylabel('Value')\n",
    "plt.xlabel('epochs')\n",
    "plt.show()\n",
    "print(\"Initial accuracy is: \", cnn_history.history['acc'][0])\n",
    "print(\"Final accuracy is: \", cnn_history.history['acc'][-1])\n",
    "\n",
    "print(\"Initial loss is: \", cnn_history.history['loss'][0])\n",
    "print(\"Final loss is: \", cnn_history.history['loss'][-1])"
   ]
  },
  {
   "cell_type": "code",
   "execution_count": null,
   "metadata": {},
   "outputs": [],
   "source": []
  },
  {
   "cell_type": "markdown",
   "metadata": {},
   "source": [
    "## Training for go/no-go"
   ]
  },
  {
   "cell_type": "code",
   "execution_count": 95,
   "metadata": {},
   "outputs": [
    {
     "name": "stdout",
     "output_type": "stream",
     "text": [
      "(1872, 23167)\n",
      "(600, 23167)\n",
      "(600, 23166)\n",
      "(600,)\n",
      "[2.0, 4.0]\n"
     ]
    }
   ],
   "source": [
    "#Creating dataset\n",
    "datasetgonogo = main_dataset.copy()\n",
    "print(datasetgonogo.shape)\n",
    "\n",
    "unwanted_events_gonogo = [9, 10, 3, 6, 7, 8, 11, 1, 5]\n",
    "\n",
    "for e in unwanted_events_gonogo:\n",
    "    datasetgonogo = datasetgonogo[datasetgonogo[:, -1]!=e]\n",
    "\n",
    "print(datasetgonogo.shape)\n",
    "\n",
    "xgonogo = datasetgonogo[:, :-1]\n",
    "ygonogo = datasetgonogo[:, -1]\n",
    "print(xgonogo.shape)\n",
    "print(ygonogo.shape)\n",
    "print(list(set(ygonogo)))"
   ]
  },
  {
   "cell_type": "code",
   "execution_count": 96,
   "metadata": {},
   "outputs": [
    {
     "name": "stdout",
     "output_type": "stream",
     "text": [
      "[0.0, 1.0]\n"
     ]
    }
   ],
   "source": [
    "#Encoding y\n",
    "dict = {2.0: 0, 4.0: 1}\n",
    "\n",
    "for i in range(len(ygonogo)):\n",
    "    ygonogo[i] = dict[ygonogo[i]]\n",
    "\n",
    "print(list(set(ygonogo)))"
   ]
  },
  {
   "cell_type": "code",
   "execution_count": 97,
   "metadata": {},
   "outputs": [
    {
     "data": {
      "text/plain": [
       "array([[1., 0.],\n",
       "       [1., 0.],\n",
       "       [1., 0.],\n",
       "       [0., 1.],\n",
       "       [1., 0.]], dtype=float32)"
      ]
     },
     "execution_count": 97,
     "metadata": {},
     "output_type": "execute_result"
    }
   ],
   "source": [
    "num_classes = 2\n",
    "ygonogo = tf.keras.utils.to_categorical(ygonogo, num_classes)\n",
    "ygonogo[:5]"
   ]
  },
  {
   "cell_type": "code",
   "execution_count": 98,
   "metadata": {},
   "outputs": [
    {
     "name": "stdout",
     "output_type": "stream",
     "text": [
      "Model: \"model_5\"\n",
      "_________________________________________________________________\n",
      "Layer (type)                 Output Shape              Param #   \n",
      "=================================================================\n",
      "input_6 (InputLayer)         [(None, 23166)]           0         \n",
      "_________________________________________________________________\n",
      "dense_15 (Dense)             (None, 32)                741344    \n",
      "_________________________________________________________________\n",
      "dense_16 (Dense)             (None, 16)                528       \n",
      "_________________________________________________________________\n",
      "dense_17 (Dense)             (None, 2)                 34        \n",
      "=================================================================\n",
      "Total params: 741,906\n",
      "Trainable params: 741,906\n",
      "Non-trainable params: 0\n",
      "_________________________________________________________________\n"
     ]
    }
   ],
   "source": [
    "#Creating model archtecture\n",
    "inp_shape = (dims_ip, )\n",
    "ip = tf.keras.Input(shape = inp_shape)\n",
    "dense1 = tf.keras.layers.Dense(units = 32, activation = 'relu', kernel_initializer = 'random_normal')(ip)\n",
    "dense2 = tf.keras.layers.Dense(units = 16, activation = 'relu', kernel_initializer = 'random_normal')(dense1)\n",
    "out = tf.keras.layers.Dense(num_classes, activation = 'softmax')(dense2)\n",
    "\n",
    "modelgonogo = tf.keras.Model(inputs = ip, outputs = out)\n",
    "modelgonogo.summary()"
   ]
  },
  {
   "cell_type": "code",
   "execution_count": 99,
   "metadata": {},
   "outputs": [],
   "source": [
    "#Compiling the model\n",
    "earlystop = EarlyStopping(patience = 50, min_delta = 0.0001, monitor = 'acc')\n",
    "\n",
    "path = 'new_model_checkpoint/checkpoint_{epoch:02d}';\n",
    "model_checkpoint = ModelCheckpoint(filepath = path,\n",
    "                            verbose = 0,\n",
    "                            monitor = 'accuracy',\n",
    "                            save_freq = 'epoch',\n",
    "                            save_best_only = True,\n",
    "                            save_weights_only = True)\n",
    "\n",
    "modelgonogo.compile(loss = 'categorical_crossentropy', metrics = ['acc'], optimizer = 'adam')"
   ]
  },
  {
   "cell_type": "code",
   "execution_count": 100,
   "metadata": {
    "scrolled": true
   },
   "outputs": [
    {
     "name": "stdout",
     "output_type": "stream",
     "text": [
      "Epoch 1/300\n",
      "576/600 [===========================>..] - ETA: 0s - loss: 0.6787 - acc: 0.7917WARNING:tensorflow:Can save best model only with accuracy available, skipping.\n",
      "600/600 [==============================] - 0s 665us/sample - loss: 0.6780 - acc: 0.7917\n",
      "Epoch 2/300\n",
      "480/600 [=======================>......] - ETA: 0s - loss: 0.6417 - acc: 0.8021WARNING:tensorflow:Can save best model only with accuracy available, skipping.\n",
      "600/600 [==============================] - 0s 394us/sample - loss: 0.6380 - acc: 0.8000\n",
      "Epoch 3/300\n",
      "448/600 [=====================>........] - ETA: 0s - loss: 0.5975 - acc: 0.8013WARNING:tensorflow:Can save best model only with accuracy available, skipping.\n",
      "600/600 [==============================] - 0s 391us/sample - loss: 0.5920 - acc: 0.8000\n",
      "Epoch 4/300\n",
      "480/600 [=======================>......] - ETA: 0s - loss: 0.5476 - acc: 0.8021WARNING:tensorflow:Can save best model only with accuracy available, skipping.\n",
      "600/600 [==============================] - 0s 389us/sample - loss: 0.5453 - acc: 0.8000\n",
      "Epoch 5/300\n",
      "576/600 [===========================>..] - ETA: 0s - loss: 0.5155 - acc: 0.7986WARNING:tensorflow:Can save best model only with accuracy available, skipping.\n",
      "600/600 [==============================] - 0s 420us/sample - loss: 0.5136 - acc: 0.8000\n",
      "Epoch 6/300\n",
      "512/600 [========================>.....] - ETA: 0s - loss: 0.4969 - acc: 0.8047WARNING:tensorflow:Can save best model only with accuracy available, skipping.\n",
      "600/600 [==============================] - 0s 380us/sample - loss: 0.5028 - acc: 0.8000\n",
      "Epoch 7/300\n",
      "512/600 [========================>.....] - ETA: 0s - loss: 0.5099 - acc: 0.7930WARNING:tensorflow:Can save best model only with accuracy available, skipping.\n",
      "600/600 [==============================] - 0s 383us/sample - loss: 0.5003 - acc: 0.8000\n",
      "Epoch 8/300\n",
      "544/600 [==========================>...] - ETA: 0s - loss: 0.4902 - acc: 0.8070WARNING:tensorflow:Can save best model only with accuracy available, skipping.\n",
      "600/600 [==============================] - 0s 449us/sample - loss: 0.5001 - acc: 0.8000\n",
      "Epoch 9/300\n",
      "576/600 [===========================>..] - ETA: 0s - loss: 0.4923 - acc: 0.8056WARNING:tensorflow:Can save best model only with accuracy available, skipping.\n",
      "600/600 [==============================] - 0s 535us/sample - loss: 0.5003 - acc: 0.8000\n",
      "Epoch 10/300\n",
      "576/600 [===========================>..] - ETA: 0s - loss: 0.4996 - acc: 0.8003WARNING:tensorflow:Can save best model only with accuracy available, skipping.\n",
      "600/600 [==============================] - 0s 420us/sample - loss: 0.5000 - acc: 0.8000\n",
      "Epoch 11/300\n",
      "512/600 [========================>.....] - ETA: 0s - loss: 0.5042 - acc: 0.7969WARNING:tensorflow:Can save best model only with accuracy available, skipping.\n",
      "600/600 [==============================] - 0s 594us/sample - loss: 0.5000 - acc: 0.8000\n",
      "Epoch 12/300\n",
      "544/600 [==========================>...] - ETA: 0s - loss: 0.5129 - acc: 0.7904WARNING:tensorflow:Can save best model only with accuracy available, skipping.\n",
      "600/600 [==============================] - 0s 484us/sample - loss: 0.5000 - acc: 0.8000\n",
      "Epoch 13/300\n",
      "544/600 [==========================>...] - ETA: 0s - loss: 0.4950 - acc: 0.8033WARNING:tensorflow:Can save best model only with accuracy available, skipping.\n",
      "600/600 [==============================] - 0s 572us/sample - loss: 0.4997 - acc: 0.8000\n",
      "Epoch 14/300\n",
      "576/600 [===========================>..] - ETA: 0s - loss: 0.5039 - acc: 0.7969WARNING:tensorflow:Can save best model only with accuracy available, skipping.\n",
      "600/600 [==============================] - 0s 570us/sample - loss: 0.4995 - acc: 0.8000\n",
      "Epoch 15/300\n",
      "576/600 [===========================>..] - ETA: 0s - loss: 0.5021 - acc: 0.7986WARNING:tensorflow:Can save best model only with accuracy available, skipping.\n",
      "600/600 [==============================] - 0s 579us/sample - loss: 0.5002 - acc: 0.8000\n",
      "Epoch 16/300\n",
      "544/600 [==========================>...] - ETA: 0s - loss: 0.4997 - acc: 0.7996WARNING:tensorflow:Can save best model only with accuracy available, skipping.\n",
      "600/600 [==============================] - 0s 621us/sample - loss: 0.4991 - acc: 0.8000\n",
      "Epoch 17/300\n",
      "576/600 [===========================>..] - ETA: 0s - loss: 0.5034 - acc: 0.7969WARNING:tensorflow:Can save best model only with accuracy available, skipping.\n",
      "600/600 [==============================] - 0s 549us/sample - loss: 0.4991 - acc: 0.8000\n",
      "Epoch 18/300\n",
      "512/600 [========================>.....] - ETA: 0s - loss: 0.4980 - acc: 0.8008WARNING:tensorflow:Can save best model only with accuracy available, skipping.\n",
      "600/600 [==============================] - 0s 593us/sample - loss: 0.4990 - acc: 0.8000\n",
      "Epoch 19/300\n",
      "544/600 [==========================>...] - ETA: 0s - loss: 0.4973 - acc: 0.8015WARNING:tensorflow:Can save best model only with accuracy available, skipping.\n",
      "600/600 [==============================] - 0s 618us/sample - loss: 0.4993 - acc: 0.8000\n",
      "Epoch 20/300\n",
      "576/600 [===========================>..] - ETA: 0s - loss: 0.4884 - acc: 0.8073WARNING:tensorflow:Can save best model only with accuracy available, skipping.\n",
      "600/600 [==============================] - 0s 666us/sample - loss: 0.4987 - acc: 0.8000\n",
      "Epoch 21/300\n",
      "512/600 [========================>.....] - ETA: 0s - loss: 0.5085 - acc: 0.7930WARNING:tensorflow:Can save best model only with accuracy available, skipping.\n",
      "600/600 [==============================] - 0s 646us/sample - loss: 0.4986 - acc: 0.8000\n",
      "Epoch 22/300\n",
      "512/600 [========================>.....] - ETA: 0s - loss: 0.5136 - acc: 0.7891WARNING:tensorflow:Can save best model only with accuracy available, skipping.\n",
      "600/600 [==============================] - 0s 629us/sample - loss: 0.4987 - acc: 0.8000\n",
      "Epoch 23/300\n",
      "512/600 [========================>.....] - ETA: 0s - loss: 0.4868 - acc: 0.8086WARNING:tensorflow:Can save best model only with accuracy available, skipping.\n",
      "600/600 [==============================] - 0s 410us/sample - loss: 0.4988 - acc: 0.8000\n",
      "Epoch 24/300\n",
      "576/600 [===========================>..] - ETA: 0s - loss: 0.4976 - acc: 0.8003WARNING:tensorflow:Can save best model only with accuracy available, skipping.\n",
      "600/600 [==============================] - 0s 404us/sample - loss: 0.4981 - acc: 0.8000\n",
      "Epoch 25/300\n",
      "448/600 [=====================>........] - ETA: 0s - loss: 0.4903 - acc: 0.8058WARNING:tensorflow:Can save best model only with accuracy available, skipping.\n",
      "600/600 [==============================] - 0s 403us/sample - loss: 0.4982 - acc: 0.8000\n",
      "Epoch 26/300\n",
      "544/600 [==========================>...] - ETA: 0s - loss: 0.5009 - acc: 0.7978WARNING:tensorflow:Can save best model only with accuracy available, skipping.\n",
      "600/600 [==============================] - 0s 462us/sample - loss: 0.4980 - acc: 0.8000\n",
      "Epoch 27/300\n",
      "544/600 [==========================>...] - ETA: 0s - loss: 0.4958 - acc: 0.8015WARNING:tensorflow:Can save best model only with accuracy available, skipping.\n",
      "600/600 [==============================] - 0s 456us/sample - loss: 0.4979 - acc: 0.8000\n",
      "Epoch 28/300\n",
      "576/600 [===========================>..] - ETA: 0s - loss: 0.5027 - acc: 0.7969WARNING:tensorflow:Can save best model only with accuracy available, skipping.\n",
      "600/600 [==============================] - 0s 416us/sample - loss: 0.4984 - acc: 0.8000\n",
      "Epoch 29/300\n",
      "448/600 [=====================>........] - ETA: 0s - loss: 0.5093 - acc: 0.7924WARNING:tensorflow:Can save best model only with accuracy available, skipping.\n",
      "600/600 [==============================] - 0s 400us/sample - loss: 0.4992 - acc: 0.8000\n",
      "Epoch 30/300\n",
      "576/600 [===========================>..] - ETA: 0s - loss: 0.4944 - acc: 0.8021WARNING:tensorflow:Can save best model only with accuracy available, skipping.\n",
      "600/600 [==============================] - 0s 415us/sample - loss: 0.4974 - acc: 0.8000\n",
      "Epoch 31/300\n",
      "576/600 [===========================>..] - ETA: 0s - loss: 0.5042 - acc: 0.7951WARNING:tensorflow:Can save best model only with accuracy available, skipping.\n",
      "600/600 [==============================] - 0s 414us/sample - loss: 0.4976 - acc: 0.8000\n",
      "Epoch 32/300\n",
      "512/600 [========================>.....] - ETA: 0s - loss: 0.4830 - acc: 0.8105WARNING:tensorflow:Can save best model only with accuracy available, skipping.\n",
      "600/600 [==============================] - 0s 614us/sample - loss: 0.4979 - acc: 0.8000\n",
      "Epoch 33/300\n",
      "512/600 [========================>.....] - ETA: 0s - loss: 0.5009 - acc: 0.7969WARNING:tensorflow:Can save best model only with accuracy available, skipping.\n",
      "600/600 [==============================] - 0s 625us/sample - loss: 0.4968 - acc: 0.8000\n",
      "Epoch 34/300\n",
      "512/600 [========================>.....] - ETA: 0s - loss: 0.4996 - acc: 0.7988WARNING:tensorflow:Can save best model only with accuracy available, skipping.\n",
      "600/600 [==============================] - 0s 614us/sample - loss: 0.4979 - acc: 0.8000\n",
      "Epoch 35/300\n",
      "544/600 [==========================>...] - ETA: 0s - loss: 0.4947 - acc: 0.8015WARNING:tensorflow:Can save best model only with accuracy available, skipping.\n",
      "600/600 [==============================] - 0s 593us/sample - loss: 0.4967 - acc: 0.8000\n",
      "Epoch 36/300\n",
      "512/600 [========================>.....] - ETA: 0s - loss: 0.4982 - acc: 0.7988WARNING:tensorflow:Can save best model only with accuracy available, skipping.\n",
      "600/600 [==============================] - 0s 619us/sample - loss: 0.4967 - acc: 0.8000\n",
      "Epoch 37/300\n",
      "512/600 [========================>.....] - ETA: 0s - loss: 0.5087 - acc: 0.7910WARNING:tensorflow:Can save best model only with accuracy available, skipping.\n",
      "600/600 [==============================] - 0s 644us/sample - loss: 0.4965 - acc: 0.8000\n",
      "Epoch 38/300\n",
      "512/600 [========================>.....] - ETA: 0s - loss: 0.4954 - acc: 0.8008WARNING:tensorflow:Can save best model only with accuracy available, skipping.\n",
      "600/600 [==============================] - 0s 665us/sample - loss: 0.4965 - acc: 0.8000\n",
      "Epoch 39/300\n",
      "544/600 [==========================>...] - ETA: 0s - loss: 0.4970 - acc: 0.7996WARNING:tensorflow:Can save best model only with accuracy available, skipping.\n",
      "600/600 [==============================] - 0s 595us/sample - loss: 0.4964 - acc: 0.8000\n",
      "Epoch 40/300\n",
      "480/600 [=======================>......] - ETA: 0s - loss: 0.4819 - acc: 0.8104WARNING:tensorflow:Can save best model only with accuracy available, skipping.\n",
      "600/600 [==============================] - 0s 547us/sample - loss: 0.4960 - acc: 0.8000\n",
      "Epoch 41/300\n",
      "576/600 [===========================>..] - ETA: 0s - loss: 0.5025 - acc: 0.7951WARNING:tensorflow:Can save best model only with accuracy available, skipping.\n",
      "600/600 [==============================] - 0s 422us/sample - loss: 0.4958 - acc: 0.8000\n",
      "Epoch 42/300\n",
      "448/600 [=====================>........] - ETA: 0s - loss: 0.4728 - acc: 0.8170WARNING:tensorflow:Can save best model only with accuracy available, skipping.\n",
      "600/600 [==============================] - 0s 395us/sample - loss: 0.4964 - acc: 0.8000\n",
      "Epoch 43/300\n",
      "576/600 [===========================>..] - ETA: 0s - loss: 0.4901 - acc: 0.8038WARNING:tensorflow:Can save best model only with accuracy available, skipping.\n",
      "600/600 [==============================] - 0s 412us/sample - loss: 0.4953 - acc: 0.8000\n",
      "Epoch 44/300\n",
      "448/600 [=====================>........] - ETA: 0s - loss: 0.4717 - acc: 0.8170WARNING:tensorflow:Can save best model only with accuracy available, skipping.\n",
      "600/600 [==============================] - 0s 403us/sample - loss: 0.4952 - acc: 0.8000\n",
      "Epoch 45/300\n",
      "576/600 [===========================>..] - ETA: 0s - loss: 0.4923 - acc: 0.8021WARNING:tensorflow:Can save best model only with accuracy available, skipping.\n",
      "600/600 [==============================] - 0s 413us/sample - loss: 0.4950 - acc: 0.8000\n",
      "Epoch 46/300\n",
      "544/600 [==========================>...] - ETA: 0s - loss: 0.4907 - acc: 0.8033WARNING:tensorflow:Can save best model only with accuracy available, skipping.\n",
      "600/600 [==============================] - 0s 448us/sample - loss: 0.4951 - acc: 0.8000\n",
      "Epoch 47/300\n",
      "576/600 [===========================>..] - ETA: 0s - loss: 0.4923 - acc: 0.8021WARNING:tensorflow:Can save best model only with accuracy available, skipping.\n",
      "600/600 [==============================] - 0s 651us/sample - loss: 0.4951 - acc: 0.8000\n",
      "Epoch 48/300\n",
      "512/600 [========================>.....] - ETA: 0s - loss: 0.4854 - acc: 0.8066WARNING:tensorflow:Can save best model only with accuracy available, skipping.\n",
      "600/600 [==============================] - 0s 606us/sample - loss: 0.4942 - acc: 0.8000\n",
      "Epoch 49/300\n",
      "512/600 [========================>.....] - ETA: 0s - loss: 0.5090 - acc: 0.7891WARNING:tensorflow:Can save best model only with accuracy available, skipping.\n",
      "600/600 [==============================] - 0s 512us/sample - loss: 0.4942 - acc: 0.8000\n",
      "Epoch 50/300\n",
      "512/600 [========================>.....] - ETA: 0s - loss: 0.5119 - acc: 0.7871WARNING:tensorflow:Can save best model only with accuracy available, skipping.\n",
      "600/600 [==============================] - 0s 632us/sample - loss: 0.4947 - acc: 0.8000\n",
      "Epoch 51/300\n",
      "576/600 [===========================>..] - ETA: 0s - loss: 0.4905 - acc: 0.8021WARNING:tensorflow:Can save best model only with accuracy available, skipping.\n",
      "600/600 [==============================] - 0s 557us/sample - loss: 0.4936 - acc: 0.8000\n",
      "Epoch 52/300\n",
      "512/600 [========================>.....] - ETA: 0s - loss: 0.4927 - acc: 0.8008WARNING:tensorflow:Can save best model only with accuracy available, skipping.\n",
      "600/600 [==============================] - 0s 591us/sample - loss: 0.4937 - acc: 0.8000\n"
     ]
    }
   ],
   "source": [
    "historygonogo = modelgonogo.fit(xgonogo, ygonogo, epochs=300, callbacks = [earlystop, model_checkpoint]) #plotting the model"
   ]
  },
  {
   "cell_type": "code",
   "execution_count": 102,
   "metadata": {},
   "outputs": [
    {
     "data": {
      "image/png": "[encoded data removed]",
      "text/plain": [
       "<Figure size 432x288 with 1 Axes>"
      ]
     },
     "metadata": {
      "needs_background": "light"
     },
     "output_type": "display_data"
    },
    {
     "name": "stdout",
     "output_type": "stream",
     "text": [
      "Initial accuracy is:  0.7916667\n",
      "Final accuracy is:  0.8\n",
      "Initial loss is:  0.6780384055773417\n",
      "Final loss is:  0.49366639971733095\n"
     ]
    }
   ],
   "source": [
    "#plotting model history\n",
    "plt.plot(historygonogo.history['acc'])\n",
    "plt.plot(historygonogo.history['loss'])\n",
    "plt.legend(['Accuracy', 'Loss'])\n",
    "plt.title('Model History')\n",
    "plt.ylabel('Value')\n",
    "plt.xlabel('epochs')\n",
    "plt.show()\n",
    "print(\"Initial accuracy is: \", historygonogo.history['acc'][0])\n",
    "print(\"Final accuracy is: \", historygonogo.history['acc'][-1])\n",
    "\n",
    "print(\"Initial loss is: \", historygonogo.history['loss'][0])\n",
    "print(\"Final loss is: \", historygonogo.history['loss'][-1])"
   ]
  },
  {
   "cell_type": "code",
   "execution_count": null,
   "metadata": {},
   "outputs": [],
   "source": []
  },
  {
   "cell_type": "code",
   "execution_count": null,
   "metadata": {},
   "outputs": [],
   "source": []
  },
  {
   "cell_type": "code",
   "execution_count": null,
   "metadata": {},
   "outputs": [],
   "source": []
  },
  {
   "cell_type": "code",
   "execution_count": 45,
   "metadata": {},
   "outputs": [
    {
     "name": "stdout",
     "output_type": "stream",
     "text": [
      "Hello\n"
     ]
    }
   ],
   "source": [
    "print('Hello')"
   ]
  },
  {
   "cell_type": "code",
   "execution_count": 46,
   "metadata": {},
   "outputs": [
    {
     "name": "stdout",
     "output_type": "stream",
     "text": [
      "0\n"
     ]
    }
   ],
   "source": [
    "print(len(tf.config.experimental.list_physical_devices('GPU')))"
   ]
  },
  {
   "cell_type": "code",
   "execution_count": 47,
   "metadata": {},
   "outputs": [],
   "source": [
    "import tensorflow as tf"
   ]
  },
  {
   "cell_type": "code",
   "execution_count": null,
   "metadata": {},
   "outputs": [],
   "source": []
  }
 ],
 "metadata": {
  "kernelspec": {
   "display_name": "Python 3",
   "language": "python",
   "name": "python3"
  },
  "language_info": {
   "codemirror_mode": {
    "name": "ipython",
    "version": 3
   },
   "file_extension": ".py",
   "mimetype": "text/x-python",
   "name": "python",
   "nbconvert_exporter": "python",
   "pygments_lexer": "ipython3",
   "version": "3.7.7"
  }
 },
 "nbformat": 4,
 "nbformat_minor": 4
}
