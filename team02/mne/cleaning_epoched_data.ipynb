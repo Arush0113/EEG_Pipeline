{
 "cells": [
  {
   "cell_type": "code",
   "execution_count": 26,
   "metadata": {},
   "outputs": [],
   "source": [
    "import pathlib\n",
    "import matplotlib\n",
    "\n",
    "import mne\n",
    "import mne_bids\n",
    "\n",
    "matplotlib.use('Qt5Agg')\n",
    "mne.set_log_level('warning')"
   ]
  },
  {
   "cell_type": "code",
   "execution_count": 27,
   "metadata": {},
   "outputs": [
    {
     "data": {
      "text/html": [
       "\n",
       "<table class=\"table table-hover\">\n",
       "    <tr>\n",
       "        <th>Number of events</th>\n",
       "        <td>320</td>\n",
       "    </tr>\n",
       "    <tr>\n",
       "        <th>Events</th>\n",
       "        <td>Auditory/Left: 72<br>Auditory/Right: 73<br>Button: 16<br>Smiley: 15<br>Visual/Left: 73<br>Visual/Right: 71<br></td>\n",
       "    </tr>\n",
       "    <tr>\n",
       "        <th>Time range</th>\n",
       "        <td>-0.300 – 0.499 sec</td>\n",
       "    </tr>\n",
       "    <tr>\n",
       "        <th>Baseline</th>\n",
       "        <td>-0.300 – 0.000 sec</td>\n",
       "    </tr>\n",
       "</table>\n"
      ],
      "text/plain": [
       "<EpochsFIF |  320 events (all good), -0.299693 - 0.499488 sec, baseline -0.299693 – 0 sec, ~444.8 MB, data loaded,\n",
       " 'Auditory/Left': 72\n",
       " 'Auditory/Right': 73\n",
       " 'Button': 16\n",
       " 'Smiley': 15\n",
       " 'Visual/Left': 73\n",
       " 'Visual/Right': 71>"
      ]
     },
     "execution_count": 27,
     "metadata": {},
     "output_type": "execute_result"
    }
   ],
   "source": [
    "epochs = mne.read_epochs(pathlib.Path('out_data') / 'epochs_epo.fif')\n",
    "epochs"
   ]
  },
  {
   "cell_type": "code",
   "execution_count": 28,
   "metadata": {},
   "outputs": [
    {
     "data": {
      "text/html": [
       "\n",
       "<table class=\"table table-hover\">\n",
       "    <tr>\n",
       "        <th>Number of events</th>\n",
       "        <td>320</td>\n",
       "    </tr>\n",
       "    <tr>\n",
       "        <th>Events</th>\n",
       "        <td>Auditory/Left: 72<br>Auditory/Right: 73<br>Button: 16<br>Smiley: 15<br>Visual/Left: 73<br>Visual/Right: 71<br></td>\n",
       "    </tr>\n",
       "    <tr>\n",
       "        <th>Time range</th>\n",
       "        <td>-0.300 – 0.499 sec</td>\n",
       "    </tr>\n",
       "    <tr>\n",
       "        <th>Baseline</th>\n",
       "        <td>-0.300 – 0.000 sec</td>\n",
       "    </tr>\n",
       "</table>\n"
      ],
      "text/plain": [
       "<EpochsFIF |  320 events (all good), -0.299693 - 0.499488 sec, baseline -0.299693 – 0 sec, ~444.8 MB, data loaded,\n",
       " 'Auditory/Left': 72\n",
       " 'Auditory/Right': 73\n",
       " 'Button': 16\n",
       " 'Smiley': 15\n",
       " 'Visual/Left': 73\n",
       " 'Visual/Right': 71>"
      ]
     },
     "execution_count": 28,
     "metadata": {},
     "output_type": "execute_result"
    }
   ],
   "source": [
    "epochs.apply_baseline((None, 0))"
   ]
  },
  {
   "cell_type": "code",
   "execution_count": 29,
   "metadata": {},
   "outputs": [],
   "source": [
    "# epochs.plot()"
   ]
  },
  {
   "cell_type": "markdown",
   "metadata": {},
   "source": [
    "### Reject Artifacts based on channel signal amplitude"
   ]
  },
  {
   "cell_type": "code",
   "execution_count": 30,
   "metadata": {},
   "outputs": [],
   "source": [
    "reject_criteria = dict(mag = 3000 * (10 ** - 15),\n",
    "                      grad = 3000 * (10 ** - 13),\n",
    "                      eeg = 150 * (10 ** - 6),\n",
    "                      eog = 200 * (10 ** - 6))\n",
    "\n",
    "flat_criteria = dict(mag = 1 * (10 ** - 15),\n",
    "                    grad = 1 * (10 ** - 13),\n",
    "                    eeg = 1 * (10 ** - 6))"
   ]
  },
  {
   "cell_type": "code",
   "execution_count": 31,
   "metadata": {},
   "outputs": [
    {
     "data": {
      "text/html": [
       "\n",
       "<table class=\"table table-hover\">\n",
       "    <tr>\n",
       "        <th>Number of events</th>\n",
       "        <td>271</td>\n",
       "    </tr>\n",
       "    <tr>\n",
       "        <th>Events</th>\n",
       "        <td>Auditory/Left: 57<br>Auditory/Right: 61<br>Button: 15<br>Smiley: 14<br>Visual/Left: 67<br>Visual/Right: 57<br></td>\n",
       "    </tr>\n",
       "    <tr>\n",
       "        <th>Time range</th>\n",
       "        <td>-0.300 – 0.499 sec</td>\n",
       "    </tr>\n",
       "    <tr>\n",
       "        <th>Baseline</th>\n",
       "        <td>-0.300 – 0.000 sec</td>\n",
       "    </tr>\n",
       "</table>\n"
      ],
      "text/plain": [
       "<EpochsFIF |  271 events (all good), -0.299693 - 0.499488 sec, baseline -0.299693 – 0 sec, ~377.2 MB, data loaded,\n",
       " 'Auditory/Left': 57\n",
       " 'Auditory/Right': 61\n",
       " 'Button': 15\n",
       " 'Smiley': 14\n",
       " 'Visual/Left': 67\n",
       " 'Visual/Right': 57>"
      ]
     },
     "execution_count": 31,
     "metadata": {},
     "output_type": "execute_result"
    }
   ],
   "source": [
    "epochs.drop_bad(reject = reject_criteria, flat = flat_criteria)"
   ]
  },
  {
   "cell_type": "code",
   "execution_count": 32,
   "metadata": {},
   "outputs": [
    {
     "data": {
      "text/plain": [
       "<Figure size 640x476 with 1 Axes>"
      ]
     },
     "execution_count": 32,
     "metadata": {},
     "output_type": "execute_result"
    }
   ],
   "source": [
    "epochs.plot_drop_log()"
   ]
  },
  {
   "cell_type": "code",
   "execution_count": 33,
   "metadata": {},
   "outputs": [
    {
     "data": {
      "text/plain": [
       "[<Figure size 640x476 with 3 Axes>,\n",
       " <Figure size 640x476 with 3 Axes>,\n",
       " <Figure size 640x476 with 3 Axes>]"
      ]
     },
     "execution_count": 33,
     "metadata": {},
     "output_type": "execute_result"
    }
   ],
   "source": [
    "epochs['Visual'].plot_image()"
   ]
  },
  {
   "cell_type": "code",
   "execution_count": 34,
   "metadata": {},
   "outputs": [
    {
     "data": {
      "text/plain": [
       "<Figure size 640x640 with 1 Axes>"
      ]
     },
     "execution_count": 34,
     "metadata": {},
     "output_type": "execute_result"
    }
   ],
   "source": [
    "epochs.plot_sensors(ch_type = 'eeg')"
   ]
  },
  {
   "cell_type": "code",
   "execution_count": 37,
   "metadata": {},
   "outputs": [
    {
     "data": {
      "text/plain": [
       "[<Figure size 640x476 with 4 Axes>]"
      ]
     },
     "execution_count": 37,
     "metadata": {},
     "output_type": "execute_result"
    }
   ],
   "source": [
    "epochs['Visual'].plot_image(picks = 'EEG 060')"
   ]
  },
  {
   "cell_type": "markdown",
   "metadata": {},
   "source": [
    "### SSP"
   ]
  },
  {
   "cell_type": "code",
   "execution_count": 38,
   "metadata": {},
   "outputs": [
    {
     "name": "stderr",
     "output_type": "stream",
     "text": [
      "C:\\Users\\hp\\AppData\\Roaming\\Python\\Python37\\site-packages\\mne_bids\\read.py:406: RuntimeWarning: The unit for channel(s) STI 001, STI 002, STI 003, STI 004, STI 005, STI 006, STI 014, STI 015, STI 016 has changed from V to NA.\n",
      "  raw.set_channel_types(channel_type_dict)\n"
     ]
    }
   ],
   "source": [
    "bids_root = pathlib.Path('out_data/sample_BIDS')\n",
    "\n",
    "bids_path = mne_bids.BIDSPath(subject = '01',\n",
    "                             session = '01',\n",
    "                             task = 'audiovisual',\n",
    "                             run = '01',\n",
    "                             datatype = 'meg',\n",
    "                             root = bids_root)\n",
    "\n",
    "raw = mne_bids.read_raw_bids(bids_path)\n",
    "raw.load_data()\n",
    "raw.filter(l_freq = 0.1, h_freq = 40)\n",
    "\n",
    "ecg_projs, ecg_events = mne.preprocessing.compute_proj_ecg(raw, n_grad = 1, n_mag = 1, n_eeg = 0,\n",
    "                                                           average = True)\n",
    "\n",
    "eog_projs, eog_events = mne.preprocessing.compute_proj_eog(raw, n_grad = 1, n_mag = 1, n_eeg = 0,\n",
    "                                                           average = True)"
   ]
  },
  {
   "cell_type": "code",
   "execution_count": 40,
   "metadata": {},
   "outputs": [
    {
     "data": {
      "text/plain": [
       "[<Projection | PCA-v1, active : False, n_channels : 102>,\n",
       " <Projection | PCA-v2, active : False, n_channels : 102>,\n",
       " <Projection | PCA-v3, active : False, n_channels : 102>,\n",
       " <Projection | ECG-planar--0.200-0.400-PCA-01, active : False, n_channels : 203>,\n",
       " <Projection | ECG-axial--0.200-0.400-PCA-01, active : False, n_channels : 102>]"
      ]
     },
     "execution_count": 40,
     "metadata": {},
     "output_type": "execute_result"
    }
   ],
   "source": [
    "ecg_projs"
   ]
  },
  {
   "cell_type": "code",
   "execution_count": 41,
   "metadata": {},
   "outputs": [
    {
     "data": {
      "text/plain": [
       "[<Projection | PCA-v1, active : False, n_channels : 102>,\n",
       " <Projection | PCA-v2, active : False, n_channels : 102>,\n",
       " <Projection | PCA-v3, active : False, n_channels : 102>,\n",
       " <Projection | EOG-planar--0.200-0.200-PCA-01, active : False, n_channels : 203>,\n",
       " <Projection | EOG-axial--0.200-0.200-PCA-01, active : False, n_channels : 102>]"
      ]
     },
     "execution_count": 41,
     "metadata": {},
     "output_type": "execute_result"
    }
   ],
   "source": [
    "eog_projs"
   ]
  },
  {
   "cell_type": "code",
   "execution_count": 39,
   "metadata": {},
   "outputs": [
    {
     "data": {
      "text/plain": [
       "[<Projection | PCA-v1, active : False, n_channels : 102>,\n",
       " <Projection | PCA-v2, active : False, n_channels : 102>,\n",
       " <Projection | PCA-v3, active : False, n_channels : 102>,\n",
       " <Projection | ECG-planar--0.200-0.400-PCA-01, active : False, n_channels : 203>,\n",
       " <Projection | ECG-axial--0.200-0.400-PCA-01, active : False, n_channels : 102>,\n",
       " <Projection | PCA-v1, active : False, n_channels : 102>,\n",
       " <Projection | PCA-v2, active : False, n_channels : 102>,\n",
       " <Projection | PCA-v3, active : False, n_channels : 102>,\n",
       " <Projection | EOG-planar--0.200-0.200-PCA-01, active : False, n_channels : 203>,\n",
       " <Projection | EOG-axial--0.200-0.200-PCA-01, active : False, n_channels : 102>]"
      ]
     },
     "execution_count": 39,
     "metadata": {},
     "output_type": "execute_result"
    }
   ],
   "source": [
    "projs = ecg_projs + eog_projs\n",
    "projs"
   ]
  },
  {
   "cell_type": "code",
   "execution_count": 44,
   "metadata": {},
   "outputs": [
    {
     "data": {
      "text/plain": [
       "<MNEBrowseFigure size 1920x953 with 5 Axes>"
      ]
     },
     "execution_count": 44,
     "metadata": {},
     "output_type": "execute_result"
    }
   ],
   "source": [
    "epochs.add_proj(projs)\n",
    "epochs.plot()"
   ]
  },
  {
   "cell_type": "code",
   "execution_count": 46,
   "metadata": {},
   "outputs": [
    {
     "data": {
      "text/plain": [
       "[<Figure size 640x476 with 4 Axes>]"
      ]
     },
     "execution_count": 46,
     "metadata": {},
     "output_type": "execute_result"
    }
   ],
   "source": [
    "epochs_cleaned = epochs.copy().apply_proj()\n",
    "\n",
    "epochs_cleaned['Visual'].plot_image()\n",
    "epochs_cleaned['Visual'].plot_image(picks = 'EEG 060')"
   ]
  },
  {
   "cell_type": "code",
   "execution_count": null,
   "metadata": {},
   "outputs": [],
   "source": []
  }
 ],
 "metadata": {
  "kernelspec": {
   "display_name": "Python 3",
   "language": "python",
   "name": "python3"
  },
  "language_info": {
   "codemirror_mode": {
    "name": "ipython",
    "version": 3
   },
   "file_extension": ".py",
   "mimetype": "text/x-python",
   "name": "python",
   "nbconvert_exporter": "python",
   "pygments_lexer": "ipython3",
   "version": "3.7.6"
  }
 },
 "nbformat": 4,
 "nbformat_minor": 4
}
