{
  "nbformat": 4,
  "nbformat_minor": 0,
  "metadata": {
    "colab": {
      "name": "notebook25_12.ipynb",
      "provenance": []
    },
    "kernelspec": {
      "name": "python3",
      "display_name": "Python 3"
    },
    "language_info": {
      "name": "python"
    },
    "accelerator": "GPU"
  },
  "cells": [
    {
      "cell_type": "code",
      "execution_count": null,
      "metadata": {
        "colab": {
          "base_uri": "https://localhost:8080/"
        },
        "id": "4pxePPmW-BYY",
        "outputId": "8704f3fe-cbb6-4757-88ba-9e1975f5dc9c"
      },
      "outputs": [
        {
          "output_type": "stream",
          "name": "stdout",
          "text": [
            "0.24.1\n"
          ]
        }
      ],
      "source": [
        "import matplotlib\n",
        "import pathlib\n",
        "import glob\n",
        "\n",
        "import mne\n",
        "print(mne.__version__)\n",
        "\n",
        "from scipy.io import loadmat, savemat\n",
        "import os\n",
        "import numpy as np\n",
        "import pandas as pd"
      ]
    },
    {
      "cell_type": "code",
      "source": [
        "!pip install mne"
      ],
      "metadata": {
        "colab": {
          "base_uri": "https://localhost:8080/"
        },
        "id": "pOXs8B76-SUB",
        "outputId": "d7d798da-1d9a-4ece-b533-438715c96e11"
      },
      "execution_count": null,
      "outputs": [
        {
          "output_type": "stream",
          "name": "stdout",
          "text": [
            "Requirement already satisfied: mne in /usr/local/lib/python3.7/dist-packages (0.24.1)\n",
            "Requirement already satisfied: numpy>=1.15.4 in /usr/local/lib/python3.7/dist-packages (from mne) (1.19.5)\n",
            "Requirement already satisfied: scipy>=1.1.0 in /usr/local/lib/python3.7/dist-packages (from mne) (1.4.1)\n"
          ]
        }
      ]
    },
    {
      "cell_type": "code",
      "source": [
        "df = np.load('/content/drive/MyDrive/eeg/New problem/meditation_data.npz')"
      ],
      "metadata": {
        "id": "VdfX4t2r-IcM"
      },
      "execution_count": null,
      "outputs": []
    },
    {
      "cell_type": "code",
      "source": [
        "df"
      ],
      "metadata": {
        "colab": {
          "base_uri": "https://localhost:8080/"
        },
        "id": "2dgCdfcpAhkW",
        "outputId": "53691057-cea9-4850-a5d8-b38ab17ed8f5"
      },
      "execution_count": null,
      "outputs": [
        {
          "output_type": "execute_result",
          "data": {
            "text/plain": [
              "<numpy.lib.npyio.NpzFile at 0x7feae2d10610>"
            ]
          },
          "metadata": {},
          "execution_count": 5
        }
      ]
    },
    {
      "cell_type": "code",
      "source": [
        "X = df[\"X\"]\n",
        "y = df[\"y\"]"
      ],
      "metadata": {
        "id": "HRVpT8EYAtwX"
      },
      "execution_count": null,
      "outputs": []
    },
    {
      "cell_type": "code",
      "source": [
        "del(df)"
      ],
      "metadata": {
        "id": "-4LoLnTpHMAm"
      },
      "execution_count": null,
      "outputs": []
    },
    {
      "cell_type": "code",
      "source": [
        "import tensorflow as tf"
      ],
      "metadata": {
        "id": "MPFl9Dcm-lT8"
      },
      "execution_count": null,
      "outputs": []
    },
    {
      "cell_type": "code",
      "source": [
        "y.shape"
      ],
      "metadata": {
        "colab": {
          "base_uri": "https://localhost:8080/"
        },
        "id": "-ZiSh_3hAan8",
        "outputId": "67e9e9e1-0cb9-4048-873d-2d21d7339789"
      },
      "execution_count": null,
      "outputs": [
        {
          "output_type": "execute_result",
          "data": {
            "text/plain": [
              "(24756,)"
            ]
          },
          "metadata": {},
          "execution_count": 9
        }
      ]
    },
    {
      "cell_type": "code",
      "source": [
        "y = tf.keras.utils.to_categorical(y, 4)"
      ],
      "metadata": {
        "id": "1fhCvGoLAS7I"
      },
      "execution_count": null,
      "outputs": []
    },
    {
      "cell_type": "code",
      "source": [
        "y.shape"
      ],
      "metadata": {
        "colab": {
          "base_uri": "https://localhost:8080/"
        },
        "id": "vGsC_h2EAWPs",
        "outputId": "f563b9eb-4cb6-4ba1-a9fb-7a18b6d398b8"
      },
      "execution_count": null,
      "outputs": [
        {
          "output_type": "execute_result",
          "data": {
            "text/plain": [
              "(24756, 4)"
            ]
          },
          "metadata": {},
          "execution_count": 11
        }
      ]
    },
    {
      "cell_type": "code",
      "source": [
        "X.shape"
      ],
      "metadata": {
        "colab": {
          "base_uri": "https://localhost:8080/"
        },
        "id": "ChoyZWqQBFL4",
        "outputId": "e8a58eed-9b37-416d-d318-1729e8e0dd57"
      },
      "execution_count": null,
      "outputs": [
        {
          "output_type": "execute_result",
          "data": {
            "text/plain": [
              "(24756, 32, 513)"
            ]
          },
          "metadata": {},
          "execution_count": 12
        }
      ]
    },
    {
      "cell_type": "code",
      "source": [
        "data = X"
      ],
      "metadata": {
        "id": "nLelpv54DaxV"
      },
      "execution_count": null,
      "outputs": []
    },
    {
      "cell_type": "code",
      "source": [
        "X = np.zeros((data.shape[0], data.shape[2], data.shape[1]))\n",
        "for i in range(data.shape[0]):\n",
        "    X[i] = np.transpose(data[i])"
      ],
      "metadata": {
        "id": "9zez-r_UBVc0"
      },
      "execution_count": null,
      "outputs": []
    },
    {
      "cell_type": "code",
      "source": [
        "del(data)"
      ],
      "metadata": {
        "id": "xwHYv7S2HEWM"
      },
      "execution_count": null,
      "outputs": []
    },
    {
      "cell_type": "code",
      "source": [
        "X.shape"
      ],
      "metadata": {
        "colab": {
          "base_uri": "https://localhost:8080/"
        },
        "id": "MU0JgUlXDSJx",
        "outputId": "bc245c7a-0104-45cd-cc32-65090ad03292"
      },
      "execution_count": null,
      "outputs": [
        {
          "output_type": "execute_result",
          "data": {
            "text/plain": [
              "(24756, 513, 32)"
            ]
          },
          "metadata": {},
          "execution_count": 16
        }
      ]
    },
    {
      "cell_type": "code",
      "source": [
        "from sklearn.model_selection import train_test_split"
      ],
      "metadata": {
        "id": "K8_e0UgaDh0p"
      },
      "execution_count": null,
      "outputs": []
    },
    {
      "cell_type": "code",
      "source": [
        "X_train,X_temp,y_train,y_temp = train_test_split(X,y,test_size=0.30,shuffle=True,stratify=y,random_state=42)\n",
        "X_val,X_test,y_val,y_test = train_test_split(X_temp,y_temp,test_size=0.50,shuffle=True,stratify=y_temp,random_state=42)"
      ],
      "metadata": {
        "id": "NvoJ2y0nDmoh"
      },
      "execution_count": null,
      "outputs": []
    },
    {
      "cell_type": "code",
      "source": [
        "del(X)\n",
        "del(y)"
      ],
      "metadata": {
        "id": "VaYeivpeHk3g"
      },
      "execution_count": null,
      "outputs": []
    },
    {
      "cell_type": "code",
      "source": [
        "X_train[0].shape,y_train.shape,X_val.shape,y_val.shape,X_test.shape,y_test.shape"
      ],
      "metadata": {
        "colab": {
          "base_uri": "https://localhost:8080/"
        },
        "id": "m4sLYNcOD3O3",
        "outputId": "3c6ec44e-b229-4ef2-d37f-d63e3514725d"
      },
      "execution_count": null,
      "outputs": [
        {
          "output_type": "execute_result",
          "data": {
            "text/plain": [
              "((513, 32), (17329, 4), (3713, 513, 32), (3713, 4), (3714, 513, 32), (3714, 4))"
            ]
          },
          "metadata": {},
          "execution_count": 20
        }
      ]
    },
    {
      "cell_type": "code",
      "source": [
        "import tensorflow as tf \n",
        "from keras import Model\n",
        "from keras.layers import Input, Dense, Bidirectional\n",
        "from keras.layers.recurrent import LSTM\n",
        "import numpy as np"
      ],
      "metadata": {
        "id": "Hf33TLEFEBcf"
      },
      "execution_count": null,
      "outputs": []
    },
    {
      "cell_type": "code",
      "source": [
        "from tensorflow.keras.layers import Conv1D, LeakyReLU, MaxPool1D, Conv2D, Flatten\n",
        "from tensorflow.keras.models import Sequential"
      ],
      "metadata": {
        "id": "YfPVRlXPEIkP"
      },
      "execution_count": null,
      "outputs": []
    },
    {
      "cell_type": "code",
      "source": [
        "inp_shape = (513, 32)\n",
        "ip = tf.keras.Input(shape = inp_shape)\n",
        "conv1 = tf.keras.layers.Conv1D(32, 3,)(ip)\n",
        "rel = tf.keras.layers.LeakyReLU()(conv1)\n",
        "conv2 = tf.keras.layers.Conv1D(16, 3,)(rel)\n",
        "rel2 = tf.keras.layers.LeakyReLU()(conv2)\n",
        "# lstm = tf.keras.layers.LSTM(16, return_sequences=True)(ip)\n",
        "flatten = tf.keras.layers.Flatten()(rel2)\n",
        "dense1 = tf.keras.layers.Dense(units = 32, kernel_initializer = 'random_normal')(flatten)\n",
        "leakyRelu = tf.keras.layers.LeakyReLU()(dense1)\n",
        "drop1 = tf.keras.layers.Dropout(.4)(leakyRelu)\n",
        "dense2 = tf.keras.layers.Dense(units = 16, kernel_initializer = 'random_normal')(drop1)\n",
        "leakyRelu2 = tf.keras.layers.LeakyReLU()(dense2)\n",
        "drop2 = tf.keras.layers.Dropout(.4)(dense2)\n",
        "out = tf.keras.layers.Dense(4, activation = 'softmax')(drop2)\n",
        "\n",
        "cnn = tf.keras.Model(inputs = ip, outputs = out)\n",
        "cnn.summary()"
      ],
      "metadata": {
        "colab": {
          "base_uri": "https://localhost:8080/"
        },
        "id": "mbv8e4zOEUSK",
        "outputId": "d00948fc-4d3c-4614-b93a-37b899ef3245"
      },
      "execution_count": null,
      "outputs": [
        {
          "output_type": "stream",
          "name": "stdout",
          "text": [
            "Model: \"model_1\"\n",
            "_________________________________________________________________\n",
            " Layer (type)                Output Shape              Param #   \n",
            "=================================================================\n",
            " input_2 (InputLayer)        [(None, 513, 32)]         0         \n",
            "                                                                 \n",
            " conv1d_2 (Conv1D)           (None, 511, 32)           3104      \n",
            "                                                                 \n",
            " leaky_re_lu_4 (LeakyReLU)   (None, 511, 32)           0         \n",
            "                                                                 \n",
            " conv1d_3 (Conv1D)           (None, 509, 16)           1552      \n",
            "                                                                 \n",
            " leaky_re_lu_5 (LeakyReLU)   (None, 509, 16)           0         \n",
            "                                                                 \n",
            " flatten_1 (Flatten)         (None, 8144)              0         \n",
            "                                                                 \n",
            " dense_3 (Dense)             (None, 32)                260640    \n",
            "                                                                 \n",
            " leaky_re_lu_6 (LeakyReLU)   (None, 32)                0         \n",
            "                                                                 \n",
            " dropout_2 (Dropout)         (None, 32)                0         \n",
            "                                                                 \n",
            " dense_4 (Dense)             (None, 16)                528       \n",
            "                                                                 \n",
            " dropout_3 (Dropout)         (None, 16)                0         \n",
            "                                                                 \n",
            " dense_5 (Dense)             (None, 4)                 68        \n",
            "                                                                 \n",
            "=================================================================\n",
            "Total params: 265,892\n",
            "Trainable params: 265,892\n",
            "Non-trainable params: 0\n",
            "_________________________________________________________________\n"
          ]
        }
      ]
    },
    {
      "cell_type": "code",
      "source": [
        "cnn.compile(loss = 'categorical_crossentropy', metrics = ['acc'], optimizer = 'adam')"
      ],
      "metadata": {
        "id": "TjkvF21mEkwT"
      },
      "execution_count": null,
      "outputs": []
    },
    {
      "cell_type": "code",
      "source": [
        "history = cnn.fit(X_train,y_train,epochs=100,batch_size=32, validation_data=(X_val, y_val))"
      ],
      "metadata": {
        "colab": {
          "base_uri": "https://localhost:8080/"
        },
        "id": "lPCXvSxHErJo",
        "outputId": "bf170ff6-8cad-4d9f-9359-d90345baf8e1"
      },
      "execution_count": null,
      "outputs": [
        {
          "output_type": "stream",
          "name": "stdout",
          "text": [
            "Epoch 1/100\n",
            "542/542 [==============================] - 15s 10ms/step - loss: 1.9415 - acc: 0.2611 - val_loss: 1.3736 - val_acc: 0.2793\n",
            "Epoch 2/100\n",
            "542/542 [==============================] - 4s 8ms/step - loss: 1.3935 - acc: 0.2837 - val_loss: 1.3349 - val_acc: 0.3135\n",
            "Epoch 3/100\n",
            "542/542 [==============================] - 4s 8ms/step - loss: 1.3453 - acc: 0.3135 - val_loss: 1.3062 - val_acc: 0.3326\n",
            "Epoch 4/100\n",
            "542/542 [==============================] - 4s 8ms/step - loss: 1.3083 - acc: 0.3423 - val_loss: 1.2761 - val_acc: 0.3517\n",
            "Epoch 5/100\n",
            "542/542 [==============================] - 4s 8ms/step - loss: 1.2790 - acc: 0.3753 - val_loss: 1.2804 - val_acc: 0.3577\n",
            "Epoch 6/100\n",
            "542/542 [==============================] - 4s 8ms/step - loss: 1.2614 - acc: 0.3891 - val_loss: 1.2596 - val_acc: 0.3832\n",
            "Epoch 7/100\n",
            "542/542 [==============================] - 4s 8ms/step - loss: 1.2363 - acc: 0.4041 - val_loss: 1.2674 - val_acc: 0.3768\n",
            "Epoch 8/100\n",
            "542/542 [==============================] - 4s 8ms/step - loss: 1.2154 - acc: 0.4242 - val_loss: 1.2520 - val_acc: 0.3771\n",
            "Epoch 9/100\n",
            "542/542 [==============================] - 4s 8ms/step - loss: 1.1883 - acc: 0.4487 - val_loss: 1.2304 - val_acc: 0.3989\n",
            "Epoch 10/100\n",
            "542/542 [==============================] - 4s 8ms/step - loss: 1.1797 - acc: 0.4551 - val_loss: 1.2530 - val_acc: 0.3927\n",
            "Epoch 11/100\n",
            "542/542 [==============================] - 4s 8ms/step - loss: 1.1586 - acc: 0.4729 - val_loss: 1.3883 - val_acc: 0.3644\n",
            "Epoch 12/100\n",
            "542/542 [==============================] - 5s 9ms/step - loss: 1.1417 - acc: 0.4874 - val_loss: 1.2551 - val_acc: 0.3997\n",
            "Epoch 13/100\n",
            "542/542 [==============================] - 4s 8ms/step - loss: 1.1217 - acc: 0.5013 - val_loss: 1.2450 - val_acc: 0.4056\n",
            "Epoch 14/100\n",
            "542/542 [==============================] - 4s 8ms/step - loss: 1.1035 - acc: 0.5136 - val_loss: 1.2296 - val_acc: 0.4280\n",
            "Epoch 15/100\n",
            "542/542 [==============================] - 4s 8ms/step - loss: 1.0884 - acc: 0.5221 - val_loss: 1.2635 - val_acc: 0.4102\n",
            "Epoch 16/100\n",
            "542/542 [==============================] - 4s 8ms/step - loss: 1.0740 - acc: 0.5351 - val_loss: 1.2820 - val_acc: 0.4134\n",
            "Epoch 17/100\n",
            "542/542 [==============================] - 4s 8ms/step - loss: 1.0527 - acc: 0.5445 - val_loss: 1.2781 - val_acc: 0.4091\n",
            "Epoch 18/100\n",
            "542/542 [==============================] - 4s 8ms/step - loss: 1.0354 - acc: 0.5541 - val_loss: 1.2872 - val_acc: 0.4156\n",
            "Epoch 19/100\n",
            "542/542 [==============================] - 4s 8ms/step - loss: 1.0263 - acc: 0.5599 - val_loss: 1.2566 - val_acc: 0.4158\n",
            "Epoch 20/100\n",
            "542/542 [==============================] - 4s 8ms/step - loss: 1.0062 - acc: 0.5713 - val_loss: 1.2996 - val_acc: 0.4145\n",
            "Epoch 21/100\n",
            "542/542 [==============================] - 4s 8ms/step - loss: 0.9901 - acc: 0.5836 - val_loss: 1.2873 - val_acc: 0.4026\n",
            "Epoch 22/100\n",
            "542/542 [==============================] - 4s 8ms/step - loss: 0.9787 - acc: 0.5875 - val_loss: 1.3312 - val_acc: 0.4037\n",
            "Epoch 23/100\n",
            "542/542 [==============================] - 4s 8ms/step - loss: 0.9543 - acc: 0.5966 - val_loss: 1.3564 - val_acc: 0.4040\n",
            "Epoch 24/100\n",
            "542/542 [==============================] - 4s 8ms/step - loss: 0.9554 - acc: 0.6050 - val_loss: 1.3439 - val_acc: 0.3924\n",
            "Epoch 25/100\n",
            "542/542 [==============================] - 4s 8ms/step - loss: 0.9373 - acc: 0.6106 - val_loss: 1.3466 - val_acc: 0.4123\n",
            "Epoch 26/100\n",
            "542/542 [==============================] - 4s 8ms/step - loss: 0.9130 - acc: 0.6233 - val_loss: 1.3463 - val_acc: 0.4096\n",
            "Epoch 27/100\n",
            "542/542 [==============================] - 4s 8ms/step - loss: 0.9111 - acc: 0.6195 - val_loss: 1.3776 - val_acc: 0.3943\n",
            "Epoch 28/100\n",
            "542/542 [==============================] - 4s 8ms/step - loss: 0.8965 - acc: 0.6310 - val_loss: 1.3902 - val_acc: 0.4102\n",
            "Epoch 29/100\n",
            "542/542 [==============================] - 4s 8ms/step - loss: 0.8880 - acc: 0.6368 - val_loss: 1.3938 - val_acc: 0.4107\n",
            "Epoch 30/100\n",
            "542/542 [==============================] - 4s 8ms/step - loss: 0.8693 - acc: 0.6471 - val_loss: 1.4242 - val_acc: 0.3991\n",
            "Epoch 31/100\n",
            "542/542 [==============================] - 4s 8ms/step - loss: 0.8622 - acc: 0.6470 - val_loss: 1.4503 - val_acc: 0.4043\n",
            "Epoch 32/100\n",
            "542/542 [==============================] - 4s 8ms/step - loss: 0.8491 - acc: 0.6570 - val_loss: 1.4625 - val_acc: 0.4005\n",
            "Epoch 33/100\n",
            "542/542 [==============================] - 4s 8ms/step - loss: 0.8424 - acc: 0.6581 - val_loss: 1.4667 - val_acc: 0.4021\n",
            "Epoch 34/100\n",
            "542/542 [==============================] - 4s 8ms/step - loss: 0.8302 - acc: 0.6668 - val_loss: 1.4737 - val_acc: 0.4080\n",
            "Epoch 35/100\n",
            "542/542 [==============================] - 4s 8ms/step - loss: 0.8245 - acc: 0.6714 - val_loss: 1.5130 - val_acc: 0.3951\n",
            "Epoch 36/100\n",
            "542/542 [==============================] - 4s 8ms/step - loss: 0.8099 - acc: 0.6769 - val_loss: 1.4973 - val_acc: 0.4034\n",
            "Epoch 37/100\n",
            "542/542 [==============================] - 4s 8ms/step - loss: 0.8054 - acc: 0.6773 - val_loss: 1.4927 - val_acc: 0.3978\n",
            "Epoch 38/100\n",
            "542/542 [==============================] - 4s 8ms/step - loss: 0.8054 - acc: 0.6772 - val_loss: 1.5638 - val_acc: 0.4024\n",
            "Epoch 39/100\n",
            "542/542 [==============================] - 4s 8ms/step - loss: 0.7837 - acc: 0.6899 - val_loss: 1.4755 - val_acc: 0.4029\n",
            "Epoch 40/100\n",
            "542/542 [==============================] - 4s 8ms/step - loss: 0.7688 - acc: 0.6954 - val_loss: 1.5888 - val_acc: 0.3951\n",
            "Epoch 41/100\n",
            "542/542 [==============================] - 4s 8ms/step - loss: 0.7661 - acc: 0.6972 - val_loss: 1.6270 - val_acc: 0.4045\n",
            "Epoch 42/100\n",
            "542/542 [==============================] - 4s 8ms/step - loss: 0.7718 - acc: 0.6953 - val_loss: 1.5204 - val_acc: 0.4064\n",
            "Epoch 43/100\n",
            "542/542 [==============================] - 4s 8ms/step - loss: 0.7618 - acc: 0.7027 - val_loss: 1.5545 - val_acc: 0.4040\n",
            "Epoch 44/100\n",
            "542/542 [==============================] - 4s 8ms/step - loss: 0.7443 - acc: 0.7050 - val_loss: 1.5658 - val_acc: 0.4048\n",
            "Epoch 45/100\n",
            "542/542 [==============================] - 4s 8ms/step - loss: 0.7476 - acc: 0.7088 - val_loss: 1.6002 - val_acc: 0.4048\n",
            "Epoch 46/100\n",
            "542/542 [==============================] - 4s 8ms/step - loss: 0.7285 - acc: 0.7146 - val_loss: 1.6721 - val_acc: 0.3967\n",
            "Epoch 47/100\n",
            "542/542 [==============================] - 4s 8ms/step - loss: 0.7292 - acc: 0.7136 - val_loss: 1.6832 - val_acc: 0.3975\n",
            "Epoch 48/100\n",
            "542/542 [==============================] - 4s 8ms/step - loss: 0.7126 - acc: 0.7178 - val_loss: 1.7433 - val_acc: 0.3994\n",
            "Epoch 49/100\n",
            "542/542 [==============================] - 4s 8ms/step - loss: 0.7034 - acc: 0.7250 - val_loss: 1.6790 - val_acc: 0.3919\n",
            "Epoch 50/100\n",
            "542/542 [==============================] - 4s 8ms/step - loss: 0.7068 - acc: 0.7262 - val_loss: 1.8760 - val_acc: 0.3989\n",
            "Epoch 51/100\n",
            "542/542 [==============================] - 4s 8ms/step - loss: 0.7038 - acc: 0.7231 - val_loss: 1.7614 - val_acc: 0.4110\n",
            "Epoch 52/100\n",
            "542/542 [==============================] - 4s 8ms/step - loss: 0.6930 - acc: 0.7318 - val_loss: 1.5846 - val_acc: 0.3997\n",
            "Epoch 53/100\n",
            "542/542 [==============================] - 4s 8ms/step - loss: 0.6867 - acc: 0.7340 - val_loss: 1.7016 - val_acc: 0.3991\n",
            "Epoch 54/100\n",
            "542/542 [==============================] - 4s 8ms/step - loss: 0.6810 - acc: 0.7374 - val_loss: 1.7324 - val_acc: 0.4072\n",
            "Epoch 55/100\n",
            "542/542 [==============================] - 4s 8ms/step - loss: 0.6769 - acc: 0.7391 - val_loss: 1.8222 - val_acc: 0.3954\n",
            "Epoch 56/100\n",
            "542/542 [==============================] - 4s 8ms/step - loss: 0.6819 - acc: 0.7368 - val_loss: 1.8452 - val_acc: 0.3964\n",
            "Epoch 57/100\n",
            "542/542 [==============================] - 4s 8ms/step - loss: 0.6664 - acc: 0.7433 - val_loss: 1.7112 - val_acc: 0.3975\n",
            "Epoch 58/100\n",
            "542/542 [==============================] - 4s 8ms/step - loss: 0.6664 - acc: 0.7419 - val_loss: 1.7400 - val_acc: 0.3986\n",
            "Epoch 59/100\n",
            "542/542 [==============================] - 4s 8ms/step - loss: 0.6562 - acc: 0.7467 - val_loss: 1.8368 - val_acc: 0.4051\n",
            "Epoch 60/100\n",
            "542/542 [==============================] - 4s 8ms/step - loss: 0.6468 - acc: 0.7526 - val_loss: 1.8736 - val_acc: 0.3946\n",
            "Epoch 61/100\n",
            "542/542 [==============================] - 4s 8ms/step - loss: 0.6600 - acc: 0.7471 - val_loss: 1.8383 - val_acc: 0.4059\n",
            "Epoch 62/100\n",
            "542/542 [==============================] - 4s 8ms/step - loss: 0.6367 - acc: 0.7602 - val_loss: 1.8838 - val_acc: 0.4086\n",
            "Epoch 63/100\n",
            "542/542 [==============================] - 4s 8ms/step - loss: 0.6477 - acc: 0.7520 - val_loss: 1.7703 - val_acc: 0.4034\n",
            "Epoch 64/100\n",
            "542/542 [==============================] - 4s 8ms/step - loss: 0.6372 - acc: 0.7576 - val_loss: 1.9090 - val_acc: 0.3989\n",
            "Epoch 65/100\n",
            "542/542 [==============================] - 4s 8ms/step - loss: 0.6284 - acc: 0.7640 - val_loss: 1.8015 - val_acc: 0.4010\n",
            "Epoch 66/100\n",
            "542/542 [==============================] - 4s 8ms/step - loss: 0.6247 - acc: 0.7598 - val_loss: 1.9330 - val_acc: 0.4069\n",
            "Epoch 67/100\n",
            "542/542 [==============================] - 4s 8ms/step - loss: 0.6166 - acc: 0.7670 - val_loss: 1.8655 - val_acc: 0.4029\n",
            "Epoch 68/100\n",
            "542/542 [==============================] - 4s 8ms/step - loss: 0.6217 - acc: 0.7642 - val_loss: 2.0670 - val_acc: 0.3973\n",
            "Epoch 69/100\n",
            "542/542 [==============================] - 4s 8ms/step - loss: 0.6134 - acc: 0.7669 - val_loss: 1.9515 - val_acc: 0.3999\n",
            "Epoch 70/100\n",
            "542/542 [==============================] - 4s 8ms/step - loss: 0.6082 - acc: 0.7685 - val_loss: 1.8893 - val_acc: 0.4099\n",
            "Epoch 71/100\n",
            "542/542 [==============================] - 4s 8ms/step - loss: 0.6032 - acc: 0.7738 - val_loss: 1.9108 - val_acc: 0.4102\n",
            "Epoch 72/100\n",
            "542/542 [==============================] - 4s 8ms/step - loss: 0.6097 - acc: 0.7662 - val_loss: 1.9429 - val_acc: 0.3916\n",
            "Epoch 73/100\n",
            "542/542 [==============================] - 4s 8ms/step - loss: 0.6056 - acc: 0.7747 - val_loss: 1.9588 - val_acc: 0.4021\n",
            "Epoch 74/100\n",
            "542/542 [==============================] - 4s 8ms/step - loss: 0.5861 - acc: 0.7772 - val_loss: 2.1141 - val_acc: 0.3994\n",
            "Epoch 75/100\n",
            "542/542 [==============================] - 4s 8ms/step - loss: 0.5880 - acc: 0.7786 - val_loss: 1.9867 - val_acc: 0.4037\n",
            "Epoch 76/100\n",
            "542/542 [==============================] - 4s 8ms/step - loss: 0.5956 - acc: 0.7762 - val_loss: 1.9981 - val_acc: 0.3983\n",
            "Epoch 77/100\n",
            "542/542 [==============================] - 4s 8ms/step - loss: 0.5761 - acc: 0.7822 - val_loss: 2.0452 - val_acc: 0.3935\n",
            "Epoch 78/100\n",
            "542/542 [==============================] - 4s 8ms/step - loss: 0.5659 - acc: 0.7890 - val_loss: 2.0020 - val_acc: 0.4040\n",
            "Epoch 79/100\n",
            "542/542 [==============================] - 4s 8ms/step - loss: 0.5780 - acc: 0.7830 - val_loss: 1.9723 - val_acc: 0.4064\n",
            "Epoch 80/100\n",
            "542/542 [==============================] - 4s 8ms/step - loss: 0.5772 - acc: 0.7812 - val_loss: 2.0392 - val_acc: 0.4053\n",
            "Epoch 81/100\n",
            "542/542 [==============================] - 4s 8ms/step - loss: 0.5616 - acc: 0.7912 - val_loss: 2.0234 - val_acc: 0.3986\n",
            "Epoch 82/100\n",
            "542/542 [==============================] - 4s 8ms/step - loss: 0.5653 - acc: 0.7894 - val_loss: 1.9792 - val_acc: 0.3997\n",
            "Epoch 83/100\n",
            "542/542 [==============================] - 4s 8ms/step - loss: 0.5535 - acc: 0.7921 - val_loss: 2.0740 - val_acc: 0.4010\n",
            "Epoch 84/100\n",
            "542/542 [==============================] - 4s 8ms/step - loss: 0.5714 - acc: 0.7901 - val_loss: 1.9828 - val_acc: 0.4010\n",
            "Epoch 85/100\n",
            "542/542 [==============================] - 4s 8ms/step - loss: 0.5569 - acc: 0.7895 - val_loss: 2.1789 - val_acc: 0.3981\n",
            "Epoch 86/100\n",
            "542/542 [==============================] - 4s 8ms/step - loss: 0.5604 - acc: 0.7929 - val_loss: 2.1020 - val_acc: 0.4002\n",
            "Epoch 87/100\n",
            "542/542 [==============================] - 4s 8ms/step - loss: 0.5507 - acc: 0.7939 - val_loss: 2.0057 - val_acc: 0.3970\n",
            "Epoch 88/100\n",
            "542/542 [==============================] - 4s 8ms/step - loss: 0.5482 - acc: 0.7976 - val_loss: 2.0149 - val_acc: 0.4024\n",
            "Epoch 89/100\n",
            "542/542 [==============================] - 4s 8ms/step - loss: 0.5240 - acc: 0.8076 - val_loss: 2.3159 - val_acc: 0.3919\n",
            "Epoch 90/100\n",
            "542/542 [==============================] - 4s 8ms/step - loss: 0.5373 - acc: 0.7989 - val_loss: 2.0434 - val_acc: 0.4021\n",
            "Epoch 91/100\n",
            "542/542 [==============================] - 4s 8ms/step - loss: 0.5345 - acc: 0.8030 - val_loss: 2.0973 - val_acc: 0.3975\n",
            "Epoch 92/100\n",
            "542/542 [==============================] - 4s 8ms/step - loss: 0.5360 - acc: 0.8022 - val_loss: 2.1243 - val_acc: 0.3927\n",
            "Epoch 93/100\n",
            "542/542 [==============================] - 4s 8ms/step - loss: 0.5262 - acc: 0.8063 - val_loss: 2.1933 - val_acc: 0.4032\n",
            "Epoch 94/100\n",
            "542/542 [==============================] - 4s 8ms/step - loss: 0.5248 - acc: 0.8102 - val_loss: 2.3655 - val_acc: 0.4010\n",
            "Epoch 95/100\n",
            "542/542 [==============================] - 4s 8ms/step - loss: 0.5221 - acc: 0.8083 - val_loss: 2.2201 - val_acc: 0.3959\n",
            "Epoch 96/100\n",
            "542/542 [==============================] - 4s 8ms/step - loss: 0.5249 - acc: 0.8054 - val_loss: 2.0638 - val_acc: 0.4010\n",
            "Epoch 97/100\n",
            "542/542 [==============================] - 4s 8ms/step - loss: 0.5273 - acc: 0.8060 - val_loss: 2.2334 - val_acc: 0.3999\n",
            "Epoch 98/100\n",
            "542/542 [==============================] - 4s 8ms/step - loss: 0.5118 - acc: 0.8125 - val_loss: 2.2610 - val_acc: 0.3927\n",
            "Epoch 99/100\n",
            "542/542 [==============================] - 4s 8ms/step - loss: 0.5227 - acc: 0.8088 - val_loss: 2.0596 - val_acc: 0.4024\n",
            "Epoch 100/100\n",
            "542/542 [==============================] - 4s 8ms/step - loss: 0.5166 - acc: 0.8084 - val_loss: 2.1708 - val_acc: 0.3943\n"
          ]
        }
      ]
    },
    {
      "cell_type": "code",
      "source": [
        "import matplotlib.pyplot as plt"
      ],
      "metadata": {
        "id": "c5bE3TZrEwLh"
      },
      "execution_count": null,
      "outputs": []
    },
    {
      "cell_type": "code",
      "source": [
        "print(history.history.keys())\n",
        "# summarize history for accuracy\n",
        "plt.plot(history.history['acc'])\n",
        "plt.plot(history.history['val_acc'])\n",
        "plt.title('model accuracy')\n",
        "plt.ylabel('accuracy')\n",
        "plt.xlabel('epoch')\n",
        "plt.legend(['train', 'test'], loc='upper left')\n",
        "plt.show()\n",
        "# summarize history for loss\n",
        "plt.plot(history.history['loss'])\n",
        "plt.plot(history.history['val_loss'])\n",
        "plt.title('model loss')\n",
        "plt.ylabel('loss')\n",
        "plt.xlabel('epoch')\n",
        "plt.legend(['train', 'test'], loc='upper left')\n",
        "plt.show()"
      ],
      "metadata": {
        "colab": {
          "base_uri": "https://localhost:8080/",
          "height": 590
        },
        "id": "ez6d1nsyJoHp",
        "outputId": "59b5f25f-b285-4598-decd-0f83cbca21d5"
      },
      "execution_count": null,
      "outputs": [
        {
          "output_type": "stream",
          "name": "stdout",
          "text": [
            "dict_keys(['loss', 'acc', 'val_loss', 'val_acc'])\n"
          ]
        },
        {
          "output_type": "display_data",
          "data": {
            "image/png": "[encoded data removed]",
            "text/plain": [
              "<Figure size 432x288 with 1 Axes>"
            ]
          },
          "metadata": {
            "needs_background": "light"
          }
        },
        {
          "output_type": "display_data",
          "data": {
            "image/png": "[encoded data removed]",
            "text/plain": [
              "<Figure size 432x288 with 1 Axes>"
            ]
          },
          "metadata": {
            "needs_background": "light"
          }
        }
      ]
    },
    {
      "cell_type": "code",
      "source": [
        "inp_shape = (513, 32)\n",
        "ip = tf.keras.Input(shape = inp_shape)\n",
        "                    \n",
        "conv1 = tf.keras.layers.Conv1D(32, 3)(ip)\n",
        "rel1 = tf.keras.layers.LeakyReLU()(conv1)\n",
        "max1 = tf.keras.layers.MaxPool1D(pool_size=2, strides=2)(rel1)\n",
        "\n",
        "conv2 = tf.keras.layers.Conv1D(32, 3)(max1)\n",
        "rel2 = tf.keras.layers.LeakyReLU()(conv2)\n",
        "max2 = tf.keras.layers.MaxPool1D(pool_size=2, strides=2)(rel2)\n",
        "\n",
        "conv3 = tf.keras.layers.Conv1D(64, 3)(max2)\n",
        "rel3 = tf.keras.layers.LeakyReLU()(conv3)\n",
        "max3 = tf.keras.layers.MaxPool1D(pool_size=2, strides=2)(rel3)\n",
        "\n",
        "conv4 = tf.keras.layers.Conv1D(64, 3)(max3)\n",
        "rel4 = tf.keras.layers.LeakyReLU()(conv4)\n",
        "max4 = tf.keras.layers.MaxPool1D(pool_size=2, strides=2)(rel4)\n",
        "\n",
        "conv5 = tf.keras.layers.Conv1D(80, 3)(max4)\n",
        "rel5 = tf.keras.layers.LeakyReLU()(conv5)\n",
        "max5 = tf.keras.layers.MaxPool1D(pool_size=2, strides=2)(rel5)\n",
        "\n",
        "conv6 = tf.keras.layers.Conv1D(80, 3)(max5)\n",
        "rel6 = tf.keras.layers.LeakyReLU()(conv6)\n",
        "max6 = tf.keras.layers.MaxPool1D(pool_size=2, strides=2)(rel6)\n",
        "\n",
        "conv7 = tf.keras.layers.Conv1D(128, 3)(max6)\n",
        "rel7 = tf.keras.layers.LeakyReLU()(conv7)\n",
        "max7 = tf.keras.layers.MaxPool1D(pool_size=2, strides=2)(rel7)\n",
        "\n",
        "# conv8 = tf.keras.layers.Conv1D(16, 3)(max7)\n",
        "# rel8 = tf.keras.layers.LeakyReLU()(conv8)\n",
        "# max8 = tf.keras.layers.MaxPool1D(pool_size=2, strides=2, padding='valid')(rel8)\n",
        "                    \n",
        "lstm1 = tf.keras.layers.LSTM(128, return_sequences=True)(max7)\n",
        "rel10 = tf.keras.layers.LeakyReLU()(lstm1)\n",
        "                    \n",
        "lstm2 = tf.keras.layers.LSTM(128, return_sequences=True)(rel10)\n",
        "rel11 = tf.keras.layers.LeakyReLU()(lstm2)\n",
        "                    \n",
        "lstm3 = tf.keras.layers.LSTM(128, return_sequences=True)(rel11)                    \n",
        "rel12 = tf.keras.layers.LeakyReLU()(lstm3)\n",
        "                    \n",
        "# batch1 = tf.keras.layers.BatchNormalization()(rel12)\n",
        "# batch2 = tf.keras.layers.BatchNormalization()(batch1)\n",
        "                                      \n",
        "flatten = tf.keras.layers.Flatten()(rel12)\n",
        "                    \n",
        "dense1 = tf.keras.layers.Dense(units = 128, kernel_initializer = 'random_normal')(flatten)\n",
        "leakyRelu = tf.keras.layers.LeakyReLU()(dense1)\n",
        "drop1 = tf.keras.layers.Dropout(.4)(leakyRelu)\n",
        "                    \n",
        "dense2 = tf.keras.layers.Dense(units = 64, kernel_initializer = 'random_normal')(drop1)\n",
        "leakyRelu2 = tf.keras.layers.LeakyReLU()(dense2)\n",
        "drop2 = tf.keras.layers.Dropout(.4)(dense2)\n",
        "                    \n",
        "out = tf.keras.layers.Dense(4, activation = 'softmax')(drop2)\n",
        "\n",
        "model4 = tf.keras.Model(inputs = ip, outputs = out)\n",
        "model4.summary()"
      ],
      "metadata": {
        "colab": {
          "base_uri": "https://localhost:8080/"
        },
        "id": "HzXbHpViJrgR",
        "outputId": "70613207-d44d-471c-a607-972c6437e5cd"
      },
      "execution_count": null,
      "outputs": [
        {
          "output_type": "stream",
          "name": "stdout",
          "text": [
            "Model: \"model_4\"\n",
            "_________________________________________________________________\n",
            " Layer (type)                Output Shape              Param #   \n",
            "=================================================================\n",
            " input_10 (InputLayer)       [(None, 513, 32)]         0         \n",
            "                                                                 \n",
            " conv1d_60 (Conv1D)          (None, 511, 32)           3104      \n",
            "                                                                 \n",
            " leaky_re_lu_70 (LeakyReLU)  (None, 511, 32)           0         \n",
            "                                                                 \n",
            " max_pooling1d_52 (MaxPoolin  (None, 255, 32)          0         \n",
            " g1D)                                                            \n",
            "                                                                 \n",
            " conv1d_61 (Conv1D)          (None, 253, 32)           3104      \n",
            "                                                                 \n",
            " leaky_re_lu_71 (LeakyReLU)  (None, 253, 32)           0         \n",
            "                                                                 \n",
            " max_pooling1d_53 (MaxPoolin  (None, 126, 32)          0         \n",
            " g1D)                                                            \n",
            "                                                                 \n",
            " conv1d_62 (Conv1D)          (None, 124, 64)           6208      \n",
            "                                                                 \n",
            " leaky_re_lu_72 (LeakyReLU)  (None, 124, 64)           0         \n",
            "                                                                 \n",
            " max_pooling1d_54 (MaxPoolin  (None, 62, 64)           0         \n",
            " g1D)                                                            \n",
            "                                                                 \n",
            " conv1d_63 (Conv1D)          (None, 60, 64)            12352     \n",
            "                                                                 \n",
            " leaky_re_lu_73 (LeakyReLU)  (None, 60, 64)            0         \n",
            "                                                                 \n",
            " max_pooling1d_55 (MaxPoolin  (None, 30, 64)           0         \n",
            " g1D)                                                            \n",
            "                                                                 \n",
            " conv1d_64 (Conv1D)          (None, 28, 80)            15440     \n",
            "                                                                 \n",
            " leaky_re_lu_74 (LeakyReLU)  (None, 28, 80)            0         \n",
            "                                                                 \n",
            " max_pooling1d_56 (MaxPoolin  (None, 14, 80)           0         \n",
            " g1D)                                                            \n",
            "                                                                 \n",
            " conv1d_65 (Conv1D)          (None, 12, 80)            19280     \n",
            "                                                                 \n",
            " leaky_re_lu_75 (LeakyReLU)  (None, 12, 80)            0         \n",
            "                                                                 \n",
            " max_pooling1d_57 (MaxPoolin  (None, 6, 80)            0         \n",
            " g1D)                                                            \n",
            "                                                                 \n",
            " conv1d_66 (Conv1D)          (None, 4, 128)            30848     \n",
            "                                                                 \n",
            " leaky_re_lu_76 (LeakyReLU)  (None, 4, 128)            0         \n",
            "                                                                 \n",
            " max_pooling1d_58 (MaxPoolin  (None, 2, 128)           0         \n",
            " g1D)                                                            \n",
            "                                                                 \n",
            " lstm_7 (LSTM)               (None, 2, 128)            131584    \n",
            "                                                                 \n",
            " leaky_re_lu_77 (LeakyReLU)  (None, 2, 128)            0         \n",
            "                                                                 \n",
            " lstm_8 (LSTM)               (None, 2, 128)            131584    \n",
            "                                                                 \n",
            " leaky_re_lu_78 (LeakyReLU)  (None, 2, 128)            0         \n",
            "                                                                 \n",
            " lstm_9 (LSTM)               (None, 2, 128)            131584    \n",
            "                                                                 \n",
            " leaky_re_lu_79 (LeakyReLU)  (None, 2, 128)            0         \n",
            "                                                                 \n",
            " flatten_4 (Flatten)         (None, 256)               0         \n",
            "                                                                 \n",
            " dense_12 (Dense)            (None, 128)               32896     \n",
            "                                                                 \n",
            " leaky_re_lu_80 (LeakyReLU)  (None, 128)               0         \n",
            "                                                                 \n",
            " dropout_8 (Dropout)         (None, 128)               0         \n",
            "                                                                 \n",
            " dense_13 (Dense)            (None, 64)                8256      \n",
            "                                                                 \n",
            " dropout_9 (Dropout)         (None, 64)                0         \n",
            "                                                                 \n",
            " dense_14 (Dense)            (None, 4)                 260       \n",
            "                                                                 \n",
            "=================================================================\n",
            "Total params: 526,500\n",
            "Trainable params: 526,500\n",
            "Non-trainable params: 0\n",
            "_________________________________________________________________\n"
          ]
        }
      ]
    },
    {
      "cell_type": "code",
      "source": [
        "optimizer4 = tf.keras.optimizers.RMSprop(learning_rate=0.001, name='adam')"
      ],
      "metadata": {
        "id": "K2_lDIlBKP8E"
      },
      "execution_count": null,
      "outputs": []
    },
    {
      "cell_type": "code",
      "source": [
        "model4.compile(loss = 'categorical_crossentropy', metrics = ['acc'], optimizer = optimizer4)"
      ],
      "metadata": {
        "id": "HxF-qIAQLK7T"
      },
      "execution_count": null,
      "outputs": []
    },
    {
      "cell_type": "code",
      "source": [
        "history4 = model4.fit(X_train,y_train,epochs=20,batch_size=32, validation_data=(X_val, y_val))"
      ],
      "metadata": {
        "colab": {
          "base_uri": "https://localhost:8080/",
          "height": 1000
        },
        "id": "F2k32Fj9LO64",
        "outputId": "9b0c6d83-648b-4d8b-b243-520b6f669066"
      },
      "execution_count": null,
      "outputs": [
        {
          "output_type": "stream",
          "name": "stdout",
          "text": [
            "Epoch 1/20\n",
            "542/542 [==============================] - 20s 24ms/step - loss: 1.3870 - acc: 0.2483 - val_loss: 1.3869 - val_acc: 0.2459\n",
            "Epoch 2/20\n",
            "542/542 [==============================] - 12s 22ms/step - loss: 1.3868 - acc: 0.2447 - val_loss: 1.3867 - val_acc: 0.2545\n",
            "Epoch 3/20\n",
            "542/542 [==============================] - 12s 21ms/step - loss: 1.3868 - acc: 0.2531 - val_loss: 1.3864 - val_acc: 0.2545\n",
            "Epoch 4/20\n",
            "542/542 [==============================] - 12s 22ms/step - loss: 1.3869 - acc: 0.2460 - val_loss: 1.3865 - val_acc: 0.2545\n",
            "Epoch 5/20\n",
            "542/542 [==============================] - 12s 21ms/step - loss: 1.3867 - acc: 0.2479 - val_loss: 1.3870 - val_acc: 0.2545\n",
            "Epoch 6/20\n",
            "542/542 [==============================] - 12s 21ms/step - loss: 1.3867 - acc: 0.2529 - val_loss: 1.3863 - val_acc: 0.2515\n",
            "Epoch 7/20\n",
            "542/542 [==============================] - 12s 22ms/step - loss: 1.3867 - acc: 0.2519 - val_loss: 1.3868 - val_acc: 0.2480\n",
            "Epoch 8/20\n",
            "542/542 [==============================] - 12s 22ms/step - loss: 1.3867 - acc: 0.2504 - val_loss: 1.3868 - val_acc: 0.2480\n",
            "Epoch 9/20\n",
            "542/542 [==============================] - 12s 22ms/step - loss: 1.3868 - acc: 0.2550 - val_loss: 1.3863 - val_acc: 0.2545\n",
            "Epoch 10/20\n",
            "542/542 [==============================] - 12s 22ms/step - loss: 1.3868 - acc: 0.2533 - val_loss: 1.3864 - val_acc: 0.2545\n",
            "Epoch 11/20\n",
            "542/542 [==============================] - 12s 21ms/step - loss: 1.3869 - acc: 0.2466 - val_loss: 1.3866 - val_acc: 0.2459\n",
            "Epoch 12/20\n",
            "542/542 [==============================] - 12s 21ms/step - loss: 1.3868 - acc: 0.2503 - val_loss: 1.3870 - val_acc: 0.2545\n",
            "Epoch 13/20\n",
            "542/542 [==============================] - 12s 21ms/step - loss: 1.3868 - acc: 0.2520 - val_loss: 1.3867 - val_acc: 0.2545\n",
            "Epoch 14/20\n",
            "542/542 [==============================] - 12s 22ms/step - loss: 1.3867 - acc: 0.2548 - val_loss: 1.3863 - val_acc: 0.2545\n",
            "Epoch 15/20\n",
            "542/542 [==============================] - 12s 21ms/step - loss: 1.3867 - acc: 0.2462 - val_loss: 1.3866 - val_acc: 0.2545\n",
            "Epoch 16/20\n",
            "542/542 [==============================] - 12s 22ms/step - loss: 1.3867 - acc: 0.2519 - val_loss: 1.3862 - val_acc: 0.2545\n",
            "Epoch 17/20\n",
            "542/542 [==============================] - 12s 22ms/step - loss: 1.3865 - acc: 0.2512 - val_loss: 1.3863 - val_acc: 0.2545\n",
            "Epoch 18/20\n",
            "542/542 [==============================] - 12s 22ms/step - loss: 1.3867 - acc: 0.2505 - val_loss: 1.3863 - val_acc: 0.2545\n",
            "Epoch 19/20\n",
            "542/542 [==============================] - 12s 22ms/step - loss: 1.3867 - acc: 0.2523 - val_loss: 1.3865 - val_acc: 0.2515\n",
            "Epoch 20/20\n",
            "308/542 [================>.............] - ETA: 4s - loss: 1.3867 - acc: 0.2549"
          ]
        },
        {
          "output_type": "error",
          "ename": "KeyboardInterrupt",
          "evalue": "ignored",
          "traceback": [
            "\u001b[0;31m---------------------------------------------------------------------------\u001b[0m",
            "\u001b[0;31mKeyboardInterrupt\u001b[0m                         Traceback (most recent call last)",
            "\u001b[0;32m<ipython-input-50-915a3b292002>\u001b[0m in \u001b[0;36m<module>\u001b[0;34m()\u001b[0m\n\u001b[0;32m----> 1\u001b[0;31m \u001b[0mhistory4\u001b[0m \u001b[0;34m=\u001b[0m \u001b[0mmodel4\u001b[0m\u001b[0;34m.\u001b[0m\u001b[0mfit\u001b[0m\u001b[0;34m(\u001b[0m\u001b[0mX_train\u001b[0m\u001b[0;34m,\u001b[0m\u001b[0my_train\u001b[0m\u001b[0;34m,\u001b[0m\u001b[0mepochs\u001b[0m\u001b[0;34m=\u001b[0m\u001b[0;36m20\u001b[0m\u001b[0;34m,\u001b[0m\u001b[0mbatch_size\u001b[0m\u001b[0;34m=\u001b[0m\u001b[0;36m32\u001b[0m\u001b[0;34m,\u001b[0m \u001b[0mvalidation_data\u001b[0m\u001b[0;34m=\u001b[0m\u001b[0;34m(\u001b[0m\u001b[0mX_val\u001b[0m\u001b[0;34m,\u001b[0m \u001b[0my_val\u001b[0m\u001b[0;34m)\u001b[0m\u001b[0;34m)\u001b[0m\u001b[0;34m\u001b[0m\u001b[0;34m\u001b[0m\u001b[0m\n\u001b[0m",
            "\u001b[0;32m/usr/local/lib/python3.7/dist-packages/keras/utils/traceback_utils.py\u001b[0m in \u001b[0;36merror_handler\u001b[0;34m(*args, **kwargs)\u001b[0m\n\u001b[1;32m     62\u001b[0m     \u001b[0mfiltered_tb\u001b[0m \u001b[0;34m=\u001b[0m \u001b[0;32mNone\u001b[0m\u001b[0;34m\u001b[0m\u001b[0;34m\u001b[0m\u001b[0m\n\u001b[1;32m     63\u001b[0m     \u001b[0;32mtry\u001b[0m\u001b[0;34m:\u001b[0m\u001b[0;34m\u001b[0m\u001b[0;34m\u001b[0m\u001b[0m\n\u001b[0;32m---> 64\u001b[0;31m       \u001b[0;32mreturn\u001b[0m \u001b[0mfn\u001b[0m\u001b[0;34m(\u001b[0m\u001b[0;34m*\u001b[0m\u001b[0margs\u001b[0m\u001b[0;34m,\u001b[0m \u001b[0;34m**\u001b[0m\u001b[0mkwargs\u001b[0m\u001b[0;34m)\u001b[0m\u001b[0;34m\u001b[0m\u001b[0;34m\u001b[0m\u001b[0m\n\u001b[0m\u001b[1;32m     65\u001b[0m     \u001b[0;32mexcept\u001b[0m \u001b[0mException\u001b[0m \u001b[0;32mas\u001b[0m \u001b[0me\u001b[0m\u001b[0;34m:\u001b[0m  \u001b[0;31m# pylint: disable=broad-except\u001b[0m\u001b[0;34m\u001b[0m\u001b[0;34m\u001b[0m\u001b[0m\n\u001b[1;32m     66\u001b[0m       \u001b[0mfiltered_tb\u001b[0m \u001b[0;34m=\u001b[0m \u001b[0m_process_traceback_frames\u001b[0m\u001b[0;34m(\u001b[0m\u001b[0me\u001b[0m\u001b[0;34m.\u001b[0m\u001b[0m__traceback__\u001b[0m\u001b[0;34m)\u001b[0m\u001b[0;34m\u001b[0m\u001b[0;34m\u001b[0m\u001b[0m\n",
            "\u001b[0;32m/usr/local/lib/python3.7/dist-packages/keras/engine/training.py\u001b[0m in \u001b[0;36mfit\u001b[0;34m(self, x, y, batch_size, epochs, verbose, callbacks, validation_split, validation_data, shuffle, class_weight, sample_weight, initial_epoch, steps_per_epoch, validation_steps, validation_batch_size, validation_freq, max_queue_size, workers, use_multiprocessing)\u001b[0m\n\u001b[1;32m   1219\u001b[0m               \u001b[0mlogs\u001b[0m \u001b[0;34m=\u001b[0m \u001b[0mtmp_logs\u001b[0m  \u001b[0;31m# No error, now safe to assign to logs.\u001b[0m\u001b[0;34m\u001b[0m\u001b[0;34m\u001b[0m\u001b[0m\n\u001b[1;32m   1220\u001b[0m               \u001b[0mend_step\u001b[0m \u001b[0;34m=\u001b[0m \u001b[0mstep\u001b[0m \u001b[0;34m+\u001b[0m \u001b[0mdata_handler\u001b[0m\u001b[0;34m.\u001b[0m\u001b[0mstep_increment\u001b[0m\u001b[0;34m\u001b[0m\u001b[0;34m\u001b[0m\u001b[0m\n\u001b[0;32m-> 1221\u001b[0;31m               \u001b[0mcallbacks\u001b[0m\u001b[0;34m.\u001b[0m\u001b[0mon_train_batch_end\u001b[0m\u001b[0;34m(\u001b[0m\u001b[0mend_step\u001b[0m\u001b[0;34m,\u001b[0m \u001b[0mlogs\u001b[0m\u001b[0;34m)\u001b[0m\u001b[0;34m\u001b[0m\u001b[0;34m\u001b[0m\u001b[0m\n\u001b[0m\u001b[1;32m   1222\u001b[0m               \u001b[0;32mif\u001b[0m \u001b[0mself\u001b[0m\u001b[0;34m.\u001b[0m\u001b[0mstop_training\u001b[0m\u001b[0;34m:\u001b[0m\u001b[0;34m\u001b[0m\u001b[0;34m\u001b[0m\u001b[0m\n\u001b[1;32m   1223\u001b[0m                 \u001b[0;32mbreak\u001b[0m\u001b[0;34m\u001b[0m\u001b[0;34m\u001b[0m\u001b[0m\n",
            "\u001b[0;32m/usr/local/lib/python3.7/dist-packages/keras/callbacks.py\u001b[0m in \u001b[0;36mon_train_batch_end\u001b[0;34m(self, batch, logs)\u001b[0m\n\u001b[1;32m    434\u001b[0m     \"\"\"\n\u001b[1;32m    435\u001b[0m     \u001b[0;32mif\u001b[0m \u001b[0mself\u001b[0m\u001b[0;34m.\u001b[0m\u001b[0m_should_call_train_batch_hooks\u001b[0m\u001b[0;34m:\u001b[0m\u001b[0;34m\u001b[0m\u001b[0;34m\u001b[0m\u001b[0m\n\u001b[0;32m--> 436\u001b[0;31m       \u001b[0mself\u001b[0m\u001b[0;34m.\u001b[0m\u001b[0m_call_batch_hook\u001b[0m\u001b[0;34m(\u001b[0m\u001b[0mModeKeys\u001b[0m\u001b[0;34m.\u001b[0m\u001b[0mTRAIN\u001b[0m\u001b[0;34m,\u001b[0m \u001b[0;34m'end'\u001b[0m\u001b[0;34m,\u001b[0m \u001b[0mbatch\u001b[0m\u001b[0;34m,\u001b[0m \u001b[0mlogs\u001b[0m\u001b[0;34m=\u001b[0m\u001b[0mlogs\u001b[0m\u001b[0;34m)\u001b[0m\u001b[0;34m\u001b[0m\u001b[0;34m\u001b[0m\u001b[0m\n\u001b[0m\u001b[1;32m    437\u001b[0m \u001b[0;34m\u001b[0m\u001b[0m\n\u001b[1;32m    438\u001b[0m   \u001b[0;32mdef\u001b[0m \u001b[0mon_test_batch_begin\u001b[0m\u001b[0;34m(\u001b[0m\u001b[0mself\u001b[0m\u001b[0;34m,\u001b[0m \u001b[0mbatch\u001b[0m\u001b[0;34m,\u001b[0m \u001b[0mlogs\u001b[0m\u001b[0;34m=\u001b[0m\u001b[0;32mNone\u001b[0m\u001b[0;34m)\u001b[0m\u001b[0;34m:\u001b[0m\u001b[0;34m\u001b[0m\u001b[0;34m\u001b[0m\u001b[0m\n",
            "\u001b[0;32m/usr/local/lib/python3.7/dist-packages/keras/callbacks.py\u001b[0m in \u001b[0;36m_call_batch_hook\u001b[0;34m(self, mode, hook, batch, logs)\u001b[0m\n\u001b[1;32m    293\u001b[0m       \u001b[0mself\u001b[0m\u001b[0;34m.\u001b[0m\u001b[0m_call_batch_begin_hook\u001b[0m\u001b[0;34m(\u001b[0m\u001b[0mmode\u001b[0m\u001b[0;34m,\u001b[0m \u001b[0mbatch\u001b[0m\u001b[0;34m,\u001b[0m \u001b[0mlogs\u001b[0m\u001b[0;34m)\u001b[0m\u001b[0;34m\u001b[0m\u001b[0;34m\u001b[0m\u001b[0m\n\u001b[1;32m    294\u001b[0m     \u001b[0;32melif\u001b[0m \u001b[0mhook\u001b[0m \u001b[0;34m==\u001b[0m \u001b[0;34m'end'\u001b[0m\u001b[0;34m:\u001b[0m\u001b[0;34m\u001b[0m\u001b[0;34m\u001b[0m\u001b[0m\n\u001b[0;32m--> 295\u001b[0;31m       \u001b[0mself\u001b[0m\u001b[0;34m.\u001b[0m\u001b[0m_call_batch_end_hook\u001b[0m\u001b[0;34m(\u001b[0m\u001b[0mmode\u001b[0m\u001b[0;34m,\u001b[0m \u001b[0mbatch\u001b[0m\u001b[0;34m,\u001b[0m \u001b[0mlogs\u001b[0m\u001b[0;34m)\u001b[0m\u001b[0;34m\u001b[0m\u001b[0;34m\u001b[0m\u001b[0m\n\u001b[0m\u001b[1;32m    296\u001b[0m     \u001b[0;32melse\u001b[0m\u001b[0;34m:\u001b[0m\u001b[0;34m\u001b[0m\u001b[0;34m\u001b[0m\u001b[0m\n\u001b[1;32m    297\u001b[0m       raise ValueError(\n",
            "\u001b[0;32m/usr/local/lib/python3.7/dist-packages/keras/callbacks.py\u001b[0m in \u001b[0;36m_call_batch_end_hook\u001b[0;34m(self, mode, batch, logs)\u001b[0m\n\u001b[1;32m    314\u001b[0m       \u001b[0mself\u001b[0m\u001b[0;34m.\u001b[0m\u001b[0m_batch_times\u001b[0m\u001b[0;34m.\u001b[0m\u001b[0mappend\u001b[0m\u001b[0;34m(\u001b[0m\u001b[0mbatch_time\u001b[0m\u001b[0;34m)\u001b[0m\u001b[0;34m\u001b[0m\u001b[0;34m\u001b[0m\u001b[0m\n\u001b[1;32m    315\u001b[0m \u001b[0;34m\u001b[0m\u001b[0m\n\u001b[0;32m--> 316\u001b[0;31m     \u001b[0mself\u001b[0m\u001b[0;34m.\u001b[0m\u001b[0m_call_batch_hook_helper\u001b[0m\u001b[0;34m(\u001b[0m\u001b[0mhook_name\u001b[0m\u001b[0;34m,\u001b[0m \u001b[0mbatch\u001b[0m\u001b[0;34m,\u001b[0m \u001b[0mlogs\u001b[0m\u001b[0;34m)\u001b[0m\u001b[0;34m\u001b[0m\u001b[0;34m\u001b[0m\u001b[0m\n\u001b[0m\u001b[1;32m    317\u001b[0m \u001b[0;34m\u001b[0m\u001b[0m\n\u001b[1;32m    318\u001b[0m     \u001b[0;32mif\u001b[0m \u001b[0mlen\u001b[0m\u001b[0;34m(\u001b[0m\u001b[0mself\u001b[0m\u001b[0;34m.\u001b[0m\u001b[0m_batch_times\u001b[0m\u001b[0;34m)\u001b[0m \u001b[0;34m>=\u001b[0m \u001b[0mself\u001b[0m\u001b[0;34m.\u001b[0m\u001b[0m_num_batches_for_timing_check\u001b[0m\u001b[0;34m:\u001b[0m\u001b[0;34m\u001b[0m\u001b[0;34m\u001b[0m\u001b[0m\n",
            "\u001b[0;32m/usr/local/lib/python3.7/dist-packages/keras/callbacks.py\u001b[0m in \u001b[0;36m_call_batch_hook_helper\u001b[0;34m(self, hook_name, batch, logs)\u001b[0m\n\u001b[1;32m    352\u001b[0m     \u001b[0;32mfor\u001b[0m \u001b[0mcallback\u001b[0m \u001b[0;32min\u001b[0m \u001b[0mself\u001b[0m\u001b[0;34m.\u001b[0m\u001b[0mcallbacks\u001b[0m\u001b[0;34m:\u001b[0m\u001b[0;34m\u001b[0m\u001b[0;34m\u001b[0m\u001b[0m\n\u001b[1;32m    353\u001b[0m       \u001b[0mhook\u001b[0m \u001b[0;34m=\u001b[0m \u001b[0mgetattr\u001b[0m\u001b[0;34m(\u001b[0m\u001b[0mcallback\u001b[0m\u001b[0;34m,\u001b[0m \u001b[0mhook_name\u001b[0m\u001b[0;34m)\u001b[0m\u001b[0;34m\u001b[0m\u001b[0;34m\u001b[0m\u001b[0m\n\u001b[0;32m--> 354\u001b[0;31m       \u001b[0mhook\u001b[0m\u001b[0;34m(\u001b[0m\u001b[0mbatch\u001b[0m\u001b[0;34m,\u001b[0m \u001b[0mlogs\u001b[0m\u001b[0;34m)\u001b[0m\u001b[0;34m\u001b[0m\u001b[0;34m\u001b[0m\u001b[0m\n\u001b[0m\u001b[1;32m    355\u001b[0m \u001b[0;34m\u001b[0m\u001b[0m\n\u001b[1;32m    356\u001b[0m     \u001b[0;32mif\u001b[0m \u001b[0mself\u001b[0m\u001b[0;34m.\u001b[0m\u001b[0m_check_timing\u001b[0m\u001b[0;34m:\u001b[0m\u001b[0;34m\u001b[0m\u001b[0;34m\u001b[0m\u001b[0m\n",
            "\u001b[0;32m/usr/local/lib/python3.7/dist-packages/keras/callbacks.py\u001b[0m in \u001b[0;36mon_train_batch_end\u001b[0;34m(self, batch, logs)\u001b[0m\n\u001b[1;32m   1030\u001b[0m \u001b[0;34m\u001b[0m\u001b[0m\n\u001b[1;32m   1031\u001b[0m   \u001b[0;32mdef\u001b[0m \u001b[0mon_train_batch_end\u001b[0m\u001b[0;34m(\u001b[0m\u001b[0mself\u001b[0m\u001b[0;34m,\u001b[0m \u001b[0mbatch\u001b[0m\u001b[0;34m,\u001b[0m \u001b[0mlogs\u001b[0m\u001b[0;34m=\u001b[0m\u001b[0;32mNone\u001b[0m\u001b[0;34m)\u001b[0m\u001b[0;34m:\u001b[0m\u001b[0;34m\u001b[0m\u001b[0;34m\u001b[0m\u001b[0m\n\u001b[0;32m-> 1032\u001b[0;31m     \u001b[0mself\u001b[0m\u001b[0;34m.\u001b[0m\u001b[0m_batch_update_progbar\u001b[0m\u001b[0;34m(\u001b[0m\u001b[0mbatch\u001b[0m\u001b[0;34m,\u001b[0m \u001b[0mlogs\u001b[0m\u001b[0;34m)\u001b[0m\u001b[0;34m\u001b[0m\u001b[0;34m\u001b[0m\u001b[0m\n\u001b[0m\u001b[1;32m   1033\u001b[0m \u001b[0;34m\u001b[0m\u001b[0m\n\u001b[1;32m   1034\u001b[0m   \u001b[0;32mdef\u001b[0m \u001b[0mon_test_batch_end\u001b[0m\u001b[0;34m(\u001b[0m\u001b[0mself\u001b[0m\u001b[0;34m,\u001b[0m \u001b[0mbatch\u001b[0m\u001b[0;34m,\u001b[0m \u001b[0mlogs\u001b[0m\u001b[0;34m=\u001b[0m\u001b[0;32mNone\u001b[0m\u001b[0;34m)\u001b[0m\u001b[0;34m:\u001b[0m\u001b[0;34m\u001b[0m\u001b[0;34m\u001b[0m\u001b[0m\n",
            "\u001b[0;32m/usr/local/lib/python3.7/dist-packages/keras/callbacks.py\u001b[0m in \u001b[0;36m_batch_update_progbar\u001b[0;34m(self, batch, logs)\u001b[0m\n\u001b[1;32m   1102\u001b[0m     \u001b[0;32mif\u001b[0m \u001b[0mself\u001b[0m\u001b[0;34m.\u001b[0m\u001b[0mverbose\u001b[0m \u001b[0;34m==\u001b[0m \u001b[0;36m1\u001b[0m\u001b[0;34m:\u001b[0m\u001b[0;34m\u001b[0m\u001b[0;34m\u001b[0m\u001b[0m\n\u001b[1;32m   1103\u001b[0m       \u001b[0;31m# Only block async when verbose = 1.\u001b[0m\u001b[0;34m\u001b[0m\u001b[0;34m\u001b[0m\u001b[0;34m\u001b[0m\u001b[0m\n\u001b[0;32m-> 1104\u001b[0;31m       \u001b[0mlogs\u001b[0m \u001b[0;34m=\u001b[0m \u001b[0mtf_utils\u001b[0m\u001b[0;34m.\u001b[0m\u001b[0msync_to_numpy_or_python_type\u001b[0m\u001b[0;34m(\u001b[0m\u001b[0mlogs\u001b[0m\u001b[0;34m)\u001b[0m\u001b[0;34m\u001b[0m\u001b[0;34m\u001b[0m\u001b[0m\n\u001b[0m\u001b[1;32m   1105\u001b[0m       \u001b[0mself\u001b[0m\u001b[0;34m.\u001b[0m\u001b[0mprogbar\u001b[0m\u001b[0;34m.\u001b[0m\u001b[0mupdate\u001b[0m\u001b[0;34m(\u001b[0m\u001b[0mself\u001b[0m\u001b[0;34m.\u001b[0m\u001b[0mseen\u001b[0m\u001b[0;34m,\u001b[0m \u001b[0mlist\u001b[0m\u001b[0;34m(\u001b[0m\u001b[0mlogs\u001b[0m\u001b[0;34m.\u001b[0m\u001b[0mitems\u001b[0m\u001b[0;34m(\u001b[0m\u001b[0;34m)\u001b[0m\u001b[0;34m)\u001b[0m\u001b[0;34m,\u001b[0m \u001b[0mfinalize\u001b[0m\u001b[0;34m=\u001b[0m\u001b[0;32mFalse\u001b[0m\u001b[0;34m)\u001b[0m\u001b[0;34m\u001b[0m\u001b[0;34m\u001b[0m\u001b[0m\n\u001b[1;32m   1106\u001b[0m \u001b[0;34m\u001b[0m\u001b[0m\n",
            "\u001b[0;32m/usr/local/lib/python3.7/dist-packages/keras/utils/tf_utils.py\u001b[0m in \u001b[0;36msync_to_numpy_or_python_type\u001b[0;34m(tensors)\u001b[0m\n\u001b[1;32m    552\u001b[0m     \u001b[0;32mreturn\u001b[0m \u001b[0mt\u001b[0m  \u001b[0;31m# Don't turn ragged or sparse tensors to NumPy.\u001b[0m\u001b[0;34m\u001b[0m\u001b[0;34m\u001b[0m\u001b[0m\n\u001b[1;32m    553\u001b[0m \u001b[0;34m\u001b[0m\u001b[0m\n\u001b[0;32m--> 554\u001b[0;31m   \u001b[0;32mreturn\u001b[0m \u001b[0mtf\u001b[0m\u001b[0;34m.\u001b[0m\u001b[0mnest\u001b[0m\u001b[0;34m.\u001b[0m\u001b[0mmap_structure\u001b[0m\u001b[0;34m(\u001b[0m\u001b[0m_to_single_numpy_or_python_type\u001b[0m\u001b[0;34m,\u001b[0m \u001b[0mtensors\u001b[0m\u001b[0;34m)\u001b[0m\u001b[0;34m\u001b[0m\u001b[0;34m\u001b[0m\u001b[0m\n\u001b[0m\u001b[1;32m    555\u001b[0m \u001b[0;34m\u001b[0m\u001b[0m\n\u001b[1;32m    556\u001b[0m \u001b[0;34m\u001b[0m\u001b[0m\n",
            "\u001b[0;32m/usr/local/lib/python3.7/dist-packages/tensorflow/python/util/nest.py\u001b[0m in \u001b[0;36mmap_structure\u001b[0;34m(func, *structure, **kwargs)\u001b[0m\n\u001b[1;32m    867\u001b[0m \u001b[0;34m\u001b[0m\u001b[0m\n\u001b[1;32m    868\u001b[0m   return pack_sequence_as(\n\u001b[0;32m--> 869\u001b[0;31m       \u001b[0mstructure\u001b[0m\u001b[0;34m[\u001b[0m\u001b[0;36m0\u001b[0m\u001b[0;34m]\u001b[0m\u001b[0;34m,\u001b[0m \u001b[0;34m[\u001b[0m\u001b[0mfunc\u001b[0m\u001b[0;34m(\u001b[0m\u001b[0;34m*\u001b[0m\u001b[0mx\u001b[0m\u001b[0;34m)\u001b[0m \u001b[0;32mfor\u001b[0m \u001b[0mx\u001b[0m \u001b[0;32min\u001b[0m \u001b[0mentries\u001b[0m\u001b[0;34m]\u001b[0m\u001b[0;34m,\u001b[0m\u001b[0;34m\u001b[0m\u001b[0;34m\u001b[0m\u001b[0m\n\u001b[0m\u001b[1;32m    870\u001b[0m       expand_composites=expand_composites)\n\u001b[1;32m    871\u001b[0m \u001b[0;34m\u001b[0m\u001b[0m\n",
            "\u001b[0;32m/usr/local/lib/python3.7/dist-packages/tensorflow/python/util/nest.py\u001b[0m in \u001b[0;36m<listcomp>\u001b[0;34m(.0)\u001b[0m\n\u001b[1;32m    867\u001b[0m \u001b[0;34m\u001b[0m\u001b[0m\n\u001b[1;32m    868\u001b[0m   return pack_sequence_as(\n\u001b[0;32m--> 869\u001b[0;31m       \u001b[0mstructure\u001b[0m\u001b[0;34m[\u001b[0m\u001b[0;36m0\u001b[0m\u001b[0;34m]\u001b[0m\u001b[0;34m,\u001b[0m \u001b[0;34m[\u001b[0m\u001b[0mfunc\u001b[0m\u001b[0;34m(\u001b[0m\u001b[0;34m*\u001b[0m\u001b[0mx\u001b[0m\u001b[0;34m)\u001b[0m \u001b[0;32mfor\u001b[0m \u001b[0mx\u001b[0m \u001b[0;32min\u001b[0m \u001b[0mentries\u001b[0m\u001b[0;34m]\u001b[0m\u001b[0;34m,\u001b[0m\u001b[0;34m\u001b[0m\u001b[0;34m\u001b[0m\u001b[0m\n\u001b[0m\u001b[1;32m    870\u001b[0m       expand_composites=expand_composites)\n\u001b[1;32m    871\u001b[0m \u001b[0;34m\u001b[0m\u001b[0m\n",
            "\u001b[0;32m/usr/local/lib/python3.7/dist-packages/keras/utils/tf_utils.py\u001b[0m in \u001b[0;36m_to_single_numpy_or_python_type\u001b[0;34m(t)\u001b[0m\n\u001b[1;32m    548\u001b[0m   \u001b[0;32mdef\u001b[0m \u001b[0m_to_single_numpy_or_python_type\u001b[0m\u001b[0;34m(\u001b[0m\u001b[0mt\u001b[0m\u001b[0;34m)\u001b[0m\u001b[0;34m:\u001b[0m\u001b[0;34m\u001b[0m\u001b[0;34m\u001b[0m\u001b[0m\n\u001b[1;32m    549\u001b[0m     \u001b[0;32mif\u001b[0m \u001b[0misinstance\u001b[0m\u001b[0;34m(\u001b[0m\u001b[0mt\u001b[0m\u001b[0;34m,\u001b[0m \u001b[0mtf\u001b[0m\u001b[0;34m.\u001b[0m\u001b[0mTensor\u001b[0m\u001b[0;34m)\u001b[0m\u001b[0;34m:\u001b[0m\u001b[0;34m\u001b[0m\u001b[0;34m\u001b[0m\u001b[0m\n\u001b[0;32m--> 550\u001b[0;31m       \u001b[0mx\u001b[0m \u001b[0;34m=\u001b[0m \u001b[0mt\u001b[0m\u001b[0;34m.\u001b[0m\u001b[0mnumpy\u001b[0m\u001b[0;34m(\u001b[0m\u001b[0;34m)\u001b[0m\u001b[0;34m\u001b[0m\u001b[0;34m\u001b[0m\u001b[0m\n\u001b[0m\u001b[1;32m    551\u001b[0m       \u001b[0;32mreturn\u001b[0m \u001b[0mx\u001b[0m\u001b[0;34m.\u001b[0m\u001b[0mitem\u001b[0m\u001b[0;34m(\u001b[0m\u001b[0;34m)\u001b[0m \u001b[0;32mif\u001b[0m \u001b[0mnp\u001b[0m\u001b[0;34m.\u001b[0m\u001b[0mndim\u001b[0m\u001b[0;34m(\u001b[0m\u001b[0mx\u001b[0m\u001b[0;34m)\u001b[0m \u001b[0;34m==\u001b[0m \u001b[0;36m0\u001b[0m \u001b[0;32melse\u001b[0m \u001b[0mx\u001b[0m\u001b[0;34m\u001b[0m\u001b[0;34m\u001b[0m\u001b[0m\n\u001b[1;32m    552\u001b[0m     \u001b[0;32mreturn\u001b[0m \u001b[0mt\u001b[0m  \u001b[0;31m# Don't turn ragged or sparse tensors to NumPy.\u001b[0m\u001b[0;34m\u001b[0m\u001b[0;34m\u001b[0m\u001b[0m\n",
            "\u001b[0;32m/usr/local/lib/python3.7/dist-packages/tensorflow/python/framework/ops.py\u001b[0m in \u001b[0;36mnumpy\u001b[0;34m(self)\u001b[0m\n\u001b[1;32m   1147\u001b[0m     \"\"\"\n\u001b[1;32m   1148\u001b[0m     \u001b[0;31m# TODO(slebedev): Consider avoiding a copy for non-CPU or remote tensors.\u001b[0m\u001b[0;34m\u001b[0m\u001b[0;34m\u001b[0m\u001b[0;34m\u001b[0m\u001b[0m\n\u001b[0;32m-> 1149\u001b[0;31m     \u001b[0mmaybe_arr\u001b[0m \u001b[0;34m=\u001b[0m \u001b[0mself\u001b[0m\u001b[0;34m.\u001b[0m\u001b[0m_numpy\u001b[0m\u001b[0;34m(\u001b[0m\u001b[0;34m)\u001b[0m  \u001b[0;31m# pylint: disable=protected-access\u001b[0m\u001b[0;34m\u001b[0m\u001b[0;34m\u001b[0m\u001b[0m\n\u001b[0m\u001b[1;32m   1150\u001b[0m     \u001b[0;32mreturn\u001b[0m \u001b[0mmaybe_arr\u001b[0m\u001b[0;34m.\u001b[0m\u001b[0mcopy\u001b[0m\u001b[0;34m(\u001b[0m\u001b[0;34m)\u001b[0m \u001b[0;32mif\u001b[0m \u001b[0misinstance\u001b[0m\u001b[0;34m(\u001b[0m\u001b[0mmaybe_arr\u001b[0m\u001b[0;34m,\u001b[0m \u001b[0mnp\u001b[0m\u001b[0;34m.\u001b[0m\u001b[0mndarray\u001b[0m\u001b[0;34m)\u001b[0m \u001b[0;32melse\u001b[0m \u001b[0mmaybe_arr\u001b[0m\u001b[0;34m\u001b[0m\u001b[0;34m\u001b[0m\u001b[0m\n\u001b[1;32m   1151\u001b[0m \u001b[0;34m\u001b[0m\u001b[0m\n",
            "\u001b[0;32m/usr/local/lib/python3.7/dist-packages/tensorflow/python/framework/ops.py\u001b[0m in \u001b[0;36m_numpy\u001b[0;34m(self)\u001b[0m\n\u001b[1;32m   1113\u001b[0m   \u001b[0;32mdef\u001b[0m \u001b[0m_numpy\u001b[0m\u001b[0;34m(\u001b[0m\u001b[0mself\u001b[0m\u001b[0;34m)\u001b[0m\u001b[0;34m:\u001b[0m\u001b[0;34m\u001b[0m\u001b[0;34m\u001b[0m\u001b[0m\n\u001b[1;32m   1114\u001b[0m     \u001b[0;32mtry\u001b[0m\u001b[0;34m:\u001b[0m\u001b[0;34m\u001b[0m\u001b[0;34m\u001b[0m\u001b[0m\n\u001b[0;32m-> 1115\u001b[0;31m       \u001b[0;32mreturn\u001b[0m \u001b[0mself\u001b[0m\u001b[0;34m.\u001b[0m\u001b[0m_numpy_internal\u001b[0m\u001b[0;34m(\u001b[0m\u001b[0;34m)\u001b[0m\u001b[0;34m\u001b[0m\u001b[0;34m\u001b[0m\u001b[0m\n\u001b[0m\u001b[1;32m   1116\u001b[0m     \u001b[0;32mexcept\u001b[0m \u001b[0mcore\u001b[0m\u001b[0;34m.\u001b[0m\u001b[0m_NotOkStatusException\u001b[0m \u001b[0;32mas\u001b[0m \u001b[0me\u001b[0m\u001b[0;34m:\u001b[0m  \u001b[0;31m# pylint: disable=protected-access\u001b[0m\u001b[0;34m\u001b[0m\u001b[0;34m\u001b[0m\u001b[0m\n\u001b[1;32m   1117\u001b[0m       \u001b[0;32mraise\u001b[0m \u001b[0mcore\u001b[0m\u001b[0;34m.\u001b[0m\u001b[0m_status_to_exception\u001b[0m\u001b[0;34m(\u001b[0m\u001b[0me\u001b[0m\u001b[0;34m)\u001b[0m \u001b[0;32mfrom\u001b[0m \u001b[0;32mNone\u001b[0m  \u001b[0;31m# pylint: disable=protected-access\u001b[0m\u001b[0;34m\u001b[0m\u001b[0;34m\u001b[0m\u001b[0m\n",
            "\u001b[0;31mKeyboardInterrupt\u001b[0m: "
          ]
        }
      ]
    },
    {
      "cell_type": "code",
      "source": [
        ""
      ],
      "metadata": {
        "id": "jhgXsQkKLXjQ"
      },
      "execution_count": null,
      "outputs": []
    }
  ]
}