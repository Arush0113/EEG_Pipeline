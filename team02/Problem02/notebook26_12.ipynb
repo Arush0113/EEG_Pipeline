{
  "nbformat": 4,
  "nbformat_minor": 0,
  "metadata": {
    "colab": {
      "name": "notebook26_12.ipynb",
      "provenance": [],
      "collapsed_sections": []
    },
    "kernelspec": {
      "name": "python3",
      "display_name": "Python 3"
    },
    "language_info": {
      "name": "python"
    },
    "accelerator": "GPU"
  },
  "cells": [
    {
      "cell_type": "code",
      "execution_count": null,
      "metadata": {
        "colab": {
          "base_uri": "https://localhost:8080/"
        },
        "id": "1Md7lAcVQfI8",
        "outputId": "64812c1f-77c6-4289-adab-fed85e23a928"
      },
      "outputs": [
        {
          "output_type": "stream",
          "name": "stdout",
          "text": [
            "Collecting mne\n",
            "  Downloading mne-0.24.1-py3-none-any.whl (7.4 MB)\n",
            "\u001b[K     |████████████████████████████████| 7.4 MB 4.7 MB/s \n",
            "\u001b[?25hRequirement already satisfied: numpy>=1.15.4 in /usr/local/lib/python3.7/dist-packages (from mne) (1.19.5)\n",
            "Requirement already satisfied: scipy>=1.1.0 in /usr/local/lib/python3.7/dist-packages (from mne) (1.4.1)\n",
            "Installing collected packages: mne\n",
            "Successfully installed mne-0.24.1\n"
          ]
        }
      ],
      "source": [
        "!pip install mne"
      ]
    },
    {
      "cell_type": "code",
      "source": [
        "import matplotlib\n",
        "import pathlib\n",
        "import glob\n",
        "\n",
        "import mne\n",
        "print(mne.__version__)\n",
        "\n",
        "from scipy.io import loadmat, savemat\n",
        "import os\n",
        "import numpy as np\n",
        "import pandas as pd"
      ],
      "metadata": {
        "colab": {
          "base_uri": "https://localhost:8080/"
        },
        "id": "0Nk4VwWBQhLk",
        "outputId": "156ba628-24b3-4c70-91a8-1ef11ff21992"
      },
      "execution_count": null,
      "outputs": [
        {
          "output_type": "stream",
          "name": "stdout",
          "text": [
            "0.24.1\n"
          ]
        }
      ]
    },
    {
      "cell_type": "code",
      "source": [
        "df = np.load('/content/drive/MyDrive/eeg/New problem/meditation_data.npz')"
      ],
      "metadata": {
        "id": "nuLyYdHJQlP-"
      },
      "execution_count": null,
      "outputs": []
    },
    {
      "cell_type": "code",
      "source": [
        "X = df[\"X\"]\n",
        "y = df[\"y\"]"
      ],
      "metadata": {
        "id": "POe1YedWQpXa"
      },
      "execution_count": null,
      "outputs": []
    },
    {
      "cell_type": "code",
      "source": [
        "del(df)"
      ],
      "metadata": {
        "id": "KamHDOMbQz8u"
      },
      "execution_count": null,
      "outputs": []
    },
    {
      "cell_type": "code",
      "source": [
        "import tensorflow as tf"
      ],
      "metadata": {
        "id": "bvbhXKrlQ3qA"
      },
      "execution_count": null,
      "outputs": []
    },
    {
      "cell_type": "code",
      "source": [
        "y = tf.keras.utils.to_categorical(y, 4)"
      ],
      "metadata": {
        "id": "2SwelDfqQ6pF"
      },
      "execution_count": null,
      "outputs": []
    },
    {
      "cell_type": "code",
      "source": [
        "data = X"
      ],
      "metadata": {
        "id": "aCsoXx4jQ-H4"
      },
      "execution_count": null,
      "outputs": []
    },
    {
      "cell_type": "code",
      "source": [
        "X = np.zeros((data.shape[0], data.shape[2], data.shape[1]))\n",
        "for i in range(data.shape[0]):\n",
        "    X[i] = np.transpose(data[i])"
      ],
      "metadata": {
        "id": "ztbe5ED6RCKI"
      },
      "execution_count": null,
      "outputs": []
    },
    {
      "cell_type": "code",
      "source": [
        "del(data)"
      ],
      "metadata": {
        "id": "RTVUmfVJRFpb"
      },
      "execution_count": null,
      "outputs": []
    },
    {
      "cell_type": "code",
      "source": [
        "from sklearn.model_selection import train_test_split"
      ],
      "metadata": {
        "id": "KAznfl7ZRIZs"
      },
      "execution_count": null,
      "outputs": []
    },
    {
      "cell_type": "code",
      "source": [
        "X_train,X_temp,y_train,y_temp = train_test_split(X,y,test_size=0.30,shuffle=True,stratify=y,random_state=42)\n",
        "X_val,X_test,y_val,y_test = train_test_split(X_temp,y_temp,test_size=0.50,shuffle=True,stratify=y_temp,random_state=42)"
      ],
      "metadata": {
        "id": "OJhBwzJsRMIr"
      },
      "execution_count": null,
      "outputs": []
    },
    {
      "cell_type": "code",
      "source": [
        "del(X)\n",
        "del(y)"
      ],
      "metadata": {
        "id": "XG9IX0QLRhkW"
      },
      "execution_count": null,
      "outputs": []
    },
    {
      "cell_type": "code",
      "source": [
        "import tensorflow as tf \n",
        "from keras import Model\n",
        "from keras.layers import Input, Dense, Bidirectional\n",
        "from keras.layers.recurrent import LSTM\n",
        "import numpy as np"
      ],
      "metadata": {
        "id": "b0O-r42kRkkK"
      },
      "execution_count": null,
      "outputs": []
    },
    {
      "cell_type": "code",
      "source": [
        "from tensorflow.keras.layers import Conv1D, LeakyReLU, MaxPool1D, Conv2D, Flatten\n",
        "from tensorflow.keras.models import Sequential"
      ],
      "metadata": {
        "id": "N4Q-LrSxRqsk"
      },
      "execution_count": null,
      "outputs": []
    },
    {
      "cell_type": "code",
      "source": [
        "inp_shape = (513, 32)\n",
        "ip = tf.keras.Input(shape = inp_shape)\n",
        "conv1 = tf.keras.layers.Conv1D(32, 3,)(ip)\n",
        "rel = tf.keras.layers.LeakyReLU()(conv1)\n",
        "conv2 = tf.keras.layers.Conv1D(16, 3,)(rel)\n",
        "rel2 = tf.keras.layers.LeakyReLU()(conv2)\n",
        "lstm1 = tf.keras.layers.LSTM(16, return_sequences=True)(rel2)\n",
        "rel10 = tf.keras.layers.LeakyReLU()(lstm1)\n",
        "                    \n",
        "lstm2 = tf.keras.layers.LSTM(16, return_sequences=True)(rel10)\n",
        "rel11 = tf.keras.layers.LeakyReLU()(lstm2)\n",
        "# lstm = tf.keras.layers.LSTM(16, return_sequences=True)(ip)\n",
        "flatten = tf.keras.layers.Flatten()(rel11)\n",
        "dense1 = tf.keras.layers.Dense(units = 256, kernel_initializer = 'random_normal')(flatten)\n",
        "leakyRelu = tf.keras.layers.LeakyReLU()(dense1)\n",
        "\n",
        "drop1 = tf.keras.layers.Dropout(.4)(leakyRelu)\n",
        "dense2 = tf.keras.layers.Dense(units = 32, kernel_initializer = 'random_normal')(drop1)\n",
        "leakyRelu2 = tf.keras.layers.LeakyReLU()(dense2)\n",
        "drop2 = tf.keras.layers.Dropout(.4)(dense2)\n",
        "out = tf.keras.layers.Dense(4, activation = 'softmax')(drop2)\n",
        "\n",
        "cnn = tf.keras.Model(inputs = ip, outputs = out)\n",
        "cnn.summary()"
      ],
      "metadata": {
        "colab": {
          "base_uri": "https://localhost:8080/"
        },
        "id": "H8WZeXEzRumV",
        "outputId": "7b2716db-0b5c-4604-8a91-ab8190e15d00"
      },
      "execution_count": null,
      "outputs": [
        {
          "output_type": "stream",
          "name": "stdout",
          "text": [
            "Model: \"model_2\"\n",
            "_________________________________________________________________\n",
            " Layer (type)                Output Shape              Param #   \n",
            "=================================================================\n",
            " input_3 (InputLayer)        [(None, 513, 32)]         0         \n",
            "                                                                 \n",
            " conv1d_4 (Conv1D)           (None, 511, 32)           3104      \n",
            "                                                                 \n",
            " leaky_re_lu_10 (LeakyReLU)  (None, 511, 32)           0         \n",
            "                                                                 \n",
            " conv1d_5 (Conv1D)           (None, 509, 16)           1552      \n",
            "                                                                 \n",
            " leaky_re_lu_11 (LeakyReLU)  (None, 509, 16)           0         \n",
            "                                                                 \n",
            " lstm_2 (LSTM)               (None, 509, 16)           2112      \n",
            "                                                                 \n",
            " leaky_re_lu_12 (LeakyReLU)  (None, 509, 16)           0         \n",
            "                                                                 \n",
            " lstm_3 (LSTM)               (None, 509, 16)           2112      \n",
            "                                                                 \n",
            " leaky_re_lu_13 (LeakyReLU)  (None, 509, 16)           0         \n",
            "                                                                 \n",
            " flatten_2 (Flatten)         (None, 8144)              0         \n",
            "                                                                 \n",
            " dense_6 (Dense)             (None, 256)               2085120   \n",
            "                                                                 \n",
            " leaky_re_lu_14 (LeakyReLU)  (None, 256)               0         \n",
            "                                                                 \n",
            " dropout_4 (Dropout)         (None, 256)               0         \n",
            "                                                                 \n",
            " dense_7 (Dense)             (None, 32)                8224      \n",
            "                                                                 \n",
            " dropout_5 (Dropout)         (None, 32)                0         \n",
            "                                                                 \n",
            " dense_8 (Dense)             (None, 4)                 132       \n",
            "                                                                 \n",
            "=================================================================\n",
            "Total params: 2,102,356\n",
            "Trainable params: 2,102,356\n",
            "Non-trainable params: 0\n",
            "_________________________________________________________________\n"
          ]
        }
      ]
    },
    {
      "cell_type": "code",
      "source": [
        "cnn.compile(loss = 'categorical_crossentropy', metrics = ['acc'], optimizer = 'adam')"
      ],
      "metadata": {
        "id": "AzRSsEEiR0PN"
      },
      "execution_count": null,
      "outputs": []
    },
    {
      "cell_type": "code",
      "source": [
        "history = cnn.fit(X_train,y_train,epochs=20,batch_size=32, validation_data=(X_val, y_val))"
      ],
      "metadata": {
        "colab": {
          "base_uri": "https://localhost:8080/"
        },
        "id": "K2FopZTmR5LG",
        "outputId": "aa53a6e9-41cd-4afb-a0f9-568fc6e91507"
      },
      "execution_count": null,
      "outputs": [
        {
          "output_type": "stream",
          "name": "stdout",
          "text": [
            "Epoch 1/20\n",
            "542/542 [==============================] - 100s 176ms/step - loss: 1.3882 - acc: 0.2783 - val_loss: 1.3465 - val_acc: 0.2963\n",
            "Epoch 2/20\n",
            "542/542 [==============================] - 94s 173ms/step - loss: 1.3367 - acc: 0.3141 - val_loss: 1.3259 - val_acc: 0.3178\n",
            "Epoch 3/20\n",
            "542/542 [==============================] - 94s 173ms/step - loss: 1.3049 - acc: 0.3298 - val_loss: 1.2887 - val_acc: 0.3310\n",
            "Epoch 4/20\n",
            "542/542 [==============================] - 94s 173ms/step - loss: 1.2760 - acc: 0.3592 - val_loss: 1.2717 - val_acc: 0.3784\n",
            "Epoch 5/20\n",
            "542/542 [==============================] - 94s 173ms/step - loss: 1.2575 - acc: 0.3773 - val_loss: 1.2560 - val_acc: 0.3671\n",
            "Epoch 6/20\n",
            "542/542 [==============================] - 94s 173ms/step - loss: 1.2425 - acc: 0.3862 - val_loss: 1.2454 - val_acc: 0.3674\n",
            "Epoch 7/20\n",
            "542/542 [==============================] - 94s 174ms/step - loss: 1.2105 - acc: 0.4095 - val_loss: 1.2661 - val_acc: 0.3725\n",
            "Epoch 8/20\n",
            "542/542 [==============================] - 94s 174ms/step - loss: 1.1880 - acc: 0.4272 - val_loss: 1.2401 - val_acc: 0.3727\n",
            "Epoch 9/20\n",
            "542/542 [==============================] - 94s 174ms/step - loss: 1.1664 - acc: 0.4411 - val_loss: 1.2358 - val_acc: 0.3781\n",
            "Epoch 10/20\n",
            "542/542 [==============================] - 94s 174ms/step - loss: 1.1375 - acc: 0.4600 - val_loss: 1.2692 - val_acc: 0.3765\n",
            "Epoch 11/20\n",
            "542/542 [==============================] - 94s 174ms/step - loss: 1.1463 - acc: 0.4684 - val_loss: 1.2386 - val_acc: 0.3846\n",
            "Epoch 12/20\n",
            "542/542 [==============================] - 94s 174ms/step - loss: 1.0993 - acc: 0.4978 - val_loss: 1.2598 - val_acc: 0.3911\n",
            "Epoch 13/20\n",
            "542/542 [==============================] - 94s 174ms/step - loss: 1.0796 - acc: 0.5097 - val_loss: 1.2792 - val_acc: 0.3768\n",
            "Epoch 14/20\n",
            "542/542 [==============================] - 94s 174ms/step - loss: 1.0468 - acc: 0.5315 - val_loss: 1.3258 - val_acc: 0.3824\n",
            "Epoch 15/20\n",
            "542/542 [==============================] - 94s 174ms/step - loss: 1.0050 - acc: 0.5577 - val_loss: 1.3130 - val_acc: 0.3795\n",
            "Epoch 16/20\n",
            "542/542 [==============================] - 93s 172ms/step - loss: 0.9789 - acc: 0.5742 - val_loss: 1.3537 - val_acc: 0.3779\n",
            "Epoch 17/20\n",
            "542/542 [==============================] - 93s 172ms/step - loss: 0.9534 - acc: 0.5875 - val_loss: 1.3508 - val_acc: 0.3814\n",
            "Epoch 18/20\n",
            "542/542 [==============================] - 93s 171ms/step - loss: 0.9245 - acc: 0.6058 - val_loss: 1.4151 - val_acc: 0.3733\n",
            "Epoch 19/20\n",
            "542/542 [==============================] - 89s 165ms/step - loss: 0.8697 - acc: 0.6328 - val_loss: 1.4807 - val_acc: 0.3830\n",
            "Epoch 20/20\n",
            "542/542 [==============================] - 94s 173ms/step - loss: 0.8450 - acc: 0.6476 - val_loss: 1.5019 - val_acc: 0.3757\n"
          ]
        }
      ]
    },
    {
      "cell_type": "code",
      "source": [
        "model3 = Sequential()\n",
        "model3.add(Conv1D(filters = 16, kernel_size = 120, strides = 6, padding = 'same', input_shape=(513,32)))\n",
        "model3.add(LeakyReLU())\n",
        "#model2.add(MaxPool1D(pool_size = 2, strides = 1))\n",
        "model3.add(Conv1D(filters = 16, kernel_size = 3, strides = 1, padding = 'same'))\n",
        "model3.add(LeakyReLU())\n",
        "model3.add(Conv1D(filters = 32, kernel_size = 1, strides = 1, padding = 'same'))\n",
        "model3.add(LeakyReLU())\n",
        "model3.add(Conv1D(filters = 32, kernel_size = 1, strides = 1, padding = 'same'))\n",
        "model3.add(LeakyReLU())\n",
        "model3.add(Conv1D(filters = 64, kernel_size = 2, strides = 1, padding = 'same'))\n",
        "model3.add(LeakyReLU())\n",
        "model3.add(Conv1D(filters = 64, kernel_size = 1, strides = 1, padding = 'same'))\n",
        "model3.add(LeakyReLU())\n",
        "model3.add(Conv1D(filters = 128, kernel_size = 2, strides = 1, padding = 'same'))\n",
        "model3.add(LeakyReLU())\n",
        "model3.add(Conv1D(filters = 128, kernel_size = 2, strides = 1, padding = 'same'))\n",
        "model3.add(LeakyReLU())\n",
        "model3.add(Conv1D(filters = 256, kernel_size = 3, strides = 1, padding = 'same'))\n",
        "model3.add(LeakyReLU())\n",
        "model3.add(LSTM(units=16))\n",
        "model3.add(Flatten())\n",
        "model3.add(Dense(32, activation = 'softmax'))\n",
        "\n",
        "\n",
        "model3.add(Dense(4, activation = 'softmax'))"
      ],
      "metadata": {
        "id": "70yj9pM_SJEX"
      },
      "execution_count": null,
      "outputs": []
    },
    {
      "cell_type": "code",
      "source": [
        "model3.compile(loss='SparseCategoricalCrossentropy', optimizer='adam', metrics=['accuracy'])\n",
        "model3.summary()"
      ],
      "metadata": {
        "id": "jseDwgMVZ5Su",
        "outputId": "f67d5b5d-61bb-4191-94da-8f7616f421e6",
        "colab": {
          "base_uri": "https://localhost:8080/"
        }
      },
      "execution_count": null,
      "outputs": [
        {
          "output_type": "stream",
          "name": "stdout",
          "text": [
            "Model: \"sequential_4\"\n",
            "_________________________________________________________________\n",
            " Layer (type)                Output Shape              Param #   \n",
            "=================================================================\n",
            " conv1d_42 (Conv1D)          (None, 86, 16)            61456     \n",
            "                                                                 \n",
            " leaky_re_lu_52 (LeakyReLU)  (None, 86, 16)            0         \n",
            "                                                                 \n",
            " conv1d_43 (Conv1D)          (None, 86, 16)            784       \n",
            "                                                                 \n",
            " leaky_re_lu_53 (LeakyReLU)  (None, 86, 16)            0         \n",
            "                                                                 \n",
            " conv1d_44 (Conv1D)          (None, 86, 32)            544       \n",
            "                                                                 \n",
            " leaky_re_lu_54 (LeakyReLU)  (None, 86, 32)            0         \n",
            "                                                                 \n",
            " conv1d_45 (Conv1D)          (None, 86, 32)            1056      \n",
            "                                                                 \n",
            " leaky_re_lu_55 (LeakyReLU)  (None, 86, 32)            0         \n",
            "                                                                 \n",
            " conv1d_46 (Conv1D)          (None, 86, 64)            4160      \n",
            "                                                                 \n",
            " leaky_re_lu_56 (LeakyReLU)  (None, 86, 64)            0         \n",
            "                                                                 \n",
            " conv1d_47 (Conv1D)          (None, 86, 64)            4160      \n",
            "                                                                 \n",
            " leaky_re_lu_57 (LeakyReLU)  (None, 86, 64)            0         \n",
            "                                                                 \n",
            " conv1d_48 (Conv1D)          (None, 86, 128)           16512     \n",
            "                                                                 \n",
            " leaky_re_lu_58 (LeakyReLU)  (None, 86, 128)           0         \n",
            "                                                                 \n",
            " conv1d_49 (Conv1D)          (None, 86, 128)           32896     \n",
            "                                                                 \n",
            " leaky_re_lu_59 (LeakyReLU)  (None, 86, 128)           0         \n",
            "                                                                 \n",
            " conv1d_50 (Conv1D)          (None, 86, 256)           98560     \n",
            "                                                                 \n",
            " leaky_re_lu_60 (LeakyReLU)  (None, 86, 256)           0         \n",
            "                                                                 \n",
            " lstm_8 (LSTM)               (None, 16)                17472     \n",
            "                                                                 \n",
            " flatten_5 (Flatten)         (None, 16)                0         \n",
            "                                                                 \n",
            " dense_16 (Dense)            (None, 32)                544       \n",
            "                                                                 \n",
            " dense_17 (Dense)            (None, 4)                 132       \n",
            "                                                                 \n",
            "=================================================================\n",
            "Total params: 238,276\n",
            "Trainable params: 238,276\n",
            "Non-trainable params: 0\n",
            "_________________________________________________________________\n"
          ]
        }
      ]
    },
    {
      "cell_type": "code",
      "source": [
        "model3.fit(X_train,y_train,epochs=50,batch_size=32, validation_data=(X_val, y_val))"
      ],
      "metadata": {
        "id": "hGUKaNsNZ6Vf"
      },
      "execution_count": null,
      "outputs": []
    },
    {
      "cell_type": "code",
      "source": [
        ""
      ],
      "metadata": {
        "id": "vpP6NfYfbnxx"
      },
      "execution_count": null,
      "outputs": []
    }
  ]
}