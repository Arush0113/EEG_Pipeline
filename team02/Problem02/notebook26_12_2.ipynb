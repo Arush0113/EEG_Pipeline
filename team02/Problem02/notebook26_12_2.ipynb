{
  "nbformat": 4,
  "nbformat_minor": 0,
  "metadata": {
    "colab": {
      "name": "notebook26_12_2.ipynb",
      "provenance": []
    },
    "kernelspec": {
      "name": "python3",
      "display_name": "Python 3"
    },
    "language_info": {
      "name": "python"
    },
    "accelerator": "GPU"
  },
  "cells": [
    {
      "cell_type": "code",
      "execution_count": null,
      "metadata": {
        "colab": {
          "base_uri": "https://localhost:8080/"
        },
        "id": "5CdH_0jLq2Me",
        "outputId": "652c5a25-dd08-4a33-f93a-ea13b65f8041"
      },
      "outputs": [
        {
          "output_type": "stream",
          "name": "stdout",
          "text": [
            "Mounted at /content/drive\n"
          ]
        }
      ],
      "source": [
        "from google.colab import drive\n",
        "drive.mount('/content/drive')"
      ]
    },
    {
      "cell_type": "code",
      "source": [
        "import tensorflow as tf \n",
        "from keras import Model\n",
        "from keras.layers import Input, Dense, Bidirectional\n",
        "from keras.layers.recurrent import LSTM\n",
        "import numpy as np\n",
        "from tensorflow.keras.layers import Conv1D, LeakyReLU, MaxPool1D, Conv2D, Flatten\n",
        "from tensorflow.keras.models import Sequential"
      ],
      "metadata": {
        "id": "f2iKyUYstUuE"
      },
      "execution_count": null,
      "outputs": []
    },
    {
      "cell_type": "code",
      "source": [
        "df = np.load('/content/drive/MyDrive/eeg/New problem/meditation_data.npz')"
      ],
      "metadata": {
        "id": "TifLmQrmq-dX"
      },
      "execution_count": null,
      "outputs": []
    },
    {
      "cell_type": "code",
      "source": [
        "X = df[\"X\"]\n",
        "y = df[\"y\"]"
      ],
      "metadata": {
        "id": "AcJzN8B4rYcH"
      },
      "execution_count": null,
      "outputs": []
    },
    {
      "cell_type": "code",
      "source": [
        "del(df)"
      ],
      "metadata": {
        "id": "htalIpv_rb78"
      },
      "execution_count": null,
      "outputs": []
    },
    {
      "cell_type": "code",
      "source": [
        "y = tf.keras.utils.to_categorical(y, 4)"
      ],
      "metadata": {
        "id": "bxhr-mhdri5M"
      },
      "execution_count": null,
      "outputs": []
    },
    {
      "cell_type": "code",
      "source": [
        "data = X"
      ],
      "metadata": {
        "id": "klK59cHPrpqr"
      },
      "execution_count": null,
      "outputs": []
    },
    {
      "cell_type": "code",
      "source": [
        "X = np.zeros((data.shape[0], data.shape[2], data.shape[1]))\n",
        "for i in range(data.shape[0]):\n",
        "    X[i] = np.transpose(data[i])"
      ],
      "metadata": {
        "id": "9AKs6bUqrsvA"
      },
      "execution_count": null,
      "outputs": []
    },
    {
      "cell_type": "code",
      "source": [
        "del(data)"
      ],
      "metadata": {
        "id": "8FahYmIFrwUE"
      },
      "execution_count": null,
      "outputs": []
    },
    {
      "cell_type": "code",
      "source": [
        "from sklearn.model_selection import train_test_split"
      ],
      "metadata": {
        "id": "X4SW0TVyrz9g"
      },
      "execution_count": null,
      "outputs": []
    },
    {
      "cell_type": "code",
      "source": [
        "X_train,X_temp,y_train,y_temp = train_test_split(X,y,test_size=0.30,shuffle=True,stratify=y,random_state=42)\n",
        "X_val,X_test,y_val,y_test = train_test_split(X_temp,y_temp,test_size=0.50,shuffle=True,stratify=y_temp,random_state=42)"
      ],
      "metadata": {
        "id": "KLr0PyzGtHpX"
      },
      "execution_count": null,
      "outputs": []
    },
    {
      "cell_type": "code",
      "source": [
        "del(X)\n",
        "del(y)"
      ],
      "metadata": {
        "id": "L3JNfx4ItLba"
      },
      "execution_count": null,
      "outputs": []
    },
    {
      "cell_type": "code",
      "source": [
        "inp_shape = (513, 32)\n",
        "input = tf.keras.Input(shape = inp_shape)\n",
        "\n",
        "lstm1 = tf.keras.layers.LSTM(32, return_sequences=True)(input)\n",
        "rel1 = tf.keras.layers.LeakyReLU()(lstm1)\n",
        "                    \n",
        "lstm2 = tf.keras.layers.LSTM(16, return_sequences=True)(rel1)\n",
        "rel2 = tf.keras.layers.LeakyReLU()(lstm2)\n",
        "                    \n",
        "lstm3 = tf.keras.layers.LSTM(16, return_sequences=True)(rel2)                    \n",
        "rel3 = tf.keras.layers.LeakyReLU()(lstm3)\n",
        "\n",
        "conv1 = tf.keras.layers.Conv1D(32, 3,)(rel3)\n",
        "rel4 = tf.keras.layers.LeakyReLU()(conv1)\n",
        "conv2 = tf.keras.layers.Conv1D(32, 3,)(rel4)\n",
        "rel5 = tf.keras.layers.LeakyReLU()(conv2)\n",
        "\n",
        "conv3 = tf.keras.layers.Conv1D(16, 3,)(rel5)\n",
        "rel6 = tf.keras.layers.LeakyReLU()(conv3)\n",
        "conv4 = tf.keras.layers.Conv1D(16, 3,)(rel6)\n",
        "rel7 = tf.keras.layers.LeakyReLU()(conv4)\n",
        "\n",
        "flatten = tf.keras.layers.Flatten()(rel7)\n",
        "dense1 = tf.keras.layers.Dense(units = 256, kernel_initializer = 'random_normal')(flatten)\n",
        "leakyRelu = tf.keras.layers.LeakyReLU()(dense1)\n",
        "\n",
        "drop1 = tf.keras.layers.Dropout(.4)(leakyRelu)\n",
        "dense2 = tf.keras.layers.Dense(units = 32, kernel_initializer = 'random_normal')(drop1)\n",
        "leakyRelu2 = tf.keras.layers.LeakyReLU()(dense2)\n",
        "drop2 = tf.keras.layers.Dropout(.4)(dense2)\n",
        "out = tf.keras.layers.Dense(4, activation = 'softmax')(drop2)\n",
        "\n",
        "model5 = tf.keras.Model(inputs = input, outputs = out)\n",
        "model5.summary()\n",
        "\n"
      ],
      "metadata": {
        "colab": {
          "base_uri": "https://localhost:8080/"
        },
        "id": "7Bhjlk4Itd6e",
        "outputId": "cc435544-41d9-42cb-dd3c-dda68791b120"
      },
      "execution_count": null,
      "outputs": [
        {
          "output_type": "stream",
          "name": "stdout",
          "text": [
            "Model: \"model\"\n",
            "_________________________________________________________________\n",
            " Layer (type)                Output Shape              Param #   \n",
            "=================================================================\n",
            " input_1 (InputLayer)        [(None, 513, 32)]         0         \n",
            "                                                                 \n",
            " lstm (LSTM)                 (None, 513, 32)           8320      \n",
            "                                                                 \n",
            " leaky_re_lu (LeakyReLU)     (None, 513, 32)           0         \n",
            "                                                                 \n",
            " lstm_1 (LSTM)               (None, 513, 16)           3136      \n",
            "                                                                 \n",
            " leaky_re_lu_1 (LeakyReLU)   (None, 513, 16)           0         \n",
            "                                                                 \n",
            " lstm_2 (LSTM)               (None, 513, 16)           2112      \n",
            "                                                                 \n",
            " leaky_re_lu_2 (LeakyReLU)   (None, 513, 16)           0         \n",
            "                                                                 \n",
            " conv1d (Conv1D)             (None, 511, 32)           1568      \n",
            "                                                                 \n",
            " leaky_re_lu_3 (LeakyReLU)   (None, 511, 32)           0         \n",
            "                                                                 \n",
            " conv1d_1 (Conv1D)           (None, 509, 32)           3104      \n",
            "                                                                 \n",
            " leaky_re_lu_4 (LeakyReLU)   (None, 509, 32)           0         \n",
            "                                                                 \n",
            " conv1d_2 (Conv1D)           (None, 507, 16)           1552      \n",
            "                                                                 \n",
            " leaky_re_lu_5 (LeakyReLU)   (None, 507, 16)           0         \n",
            "                                                                 \n",
            " conv1d_3 (Conv1D)           (None, 505, 16)           784       \n",
            "                                                                 \n",
            " leaky_re_lu_6 (LeakyReLU)   (None, 505, 16)           0         \n",
            "                                                                 \n",
            " flatten (Flatten)           (None, 8080)              0         \n",
            "                                                                 \n",
            " dense (Dense)               (None, 256)               2068736   \n",
            "                                                                 \n",
            " leaky_re_lu_7 (LeakyReLU)   (None, 256)               0         \n",
            "                                                                 \n",
            " dropout (Dropout)           (None, 256)               0         \n",
            "                                                                 \n",
            " dense_1 (Dense)             (None, 32)                8224      \n",
            "                                                                 \n",
            " dropout_1 (Dropout)         (None, 32)                0         \n",
            "                                                                 \n",
            " dense_2 (Dense)             (None, 4)                 132       \n",
            "                                                                 \n",
            "=================================================================\n",
            "Total params: 2,097,668\n",
            "Trainable params: 2,097,668\n",
            "Non-trainable params: 0\n",
            "_________________________________________________________________\n"
          ]
        }
      ]
    },
    {
      "cell_type": "code",
      "source": [
        "model5.compile(loss = 'categorical_crossentropy', metrics = ['acc'], optimizer = 'adam')"
      ],
      "metadata": {
        "id": "D4FVIWBHwpEr"
      },
      "execution_count": null,
      "outputs": []
    },
    {
      "cell_type": "code",
      "source": [
        "history = model5.fit(X_train,y_train,epochs=20,batch_size=32, validation_data=(X_val, y_val))"
      ],
      "metadata": {
        "colab": {
          "base_uri": "https://localhost:8080/"
        },
        "id": "mlRIbsZ8w3IK",
        "outputId": "4c29e396-a63d-402a-9ec1-e304eeb121e1"
      },
      "execution_count": null,
      "outputs": [
        {
          "output_type": "stream",
          "name": "stdout",
          "text": [
            "Epoch 1/20\n",
            "542/542 [==============================] - 169s 286ms/step - loss: 1.3850 - acc: 0.2623 - val_loss: 1.3809 - val_acc: 0.2699\n",
            "Epoch 2/20\n",
            "542/542 [==============================] - 153s 282ms/step - loss: 1.3528 - acc: 0.2825 - val_loss: 1.3482 - val_acc: 0.2855\n",
            "Epoch 3/20\n",
            "542/542 [==============================] - 153s 282ms/step - loss: 1.3342 - acc: 0.3002 - val_loss: 1.3205 - val_acc: 0.3016\n",
            "Epoch 4/20\n",
            "542/542 [==============================] - 153s 283ms/step - loss: 1.3164 - acc: 0.3095 - val_loss: 1.3172 - val_acc: 0.3205\n",
            "Epoch 5/20\n",
            "542/542 [==============================] - 154s 284ms/step - loss: 1.3069 - acc: 0.3241 - val_loss: 1.3134 - val_acc: 0.3297\n",
            "Epoch 6/20\n",
            "542/542 [==============================] - 154s 283ms/step - loss: 1.2835 - acc: 0.3439 - val_loss: 1.2826 - val_acc: 0.3243\n",
            "Epoch 7/20\n",
            "542/542 [==============================] - 153s 283ms/step - loss: 1.2595 - acc: 0.3609 - val_loss: 1.2727 - val_acc: 0.3531\n",
            "Epoch 8/20\n",
            "542/542 [==============================] - 153s 282ms/step - loss: 1.2448 - acc: 0.3749 - val_loss: 1.2469 - val_acc: 0.3633\n",
            "Epoch 9/20\n",
            "542/542 [==============================] - 152s 281ms/step - loss: 1.2321 - acc: 0.3803 - val_loss: 1.2519 - val_acc: 0.3593\n",
            "Epoch 10/20\n",
            "542/542 [==============================] - 152s 281ms/step - loss: 1.2183 - acc: 0.3907 - val_loss: 1.2341 - val_acc: 0.3655\n",
            "Epoch 11/20\n",
            "542/542 [==============================] - 153s 282ms/step - loss: 1.2124 - acc: 0.3956 - val_loss: 1.2543 - val_acc: 0.3617\n",
            "Epoch 12/20\n",
            "542/542 [==============================] - 153s 281ms/step - loss: 1.2033 - acc: 0.3982 - val_loss: 1.2199 - val_acc: 0.3827\n",
            "Epoch 13/20\n",
            "542/542 [==============================] - 154s 284ms/step - loss: 1.1894 - acc: 0.4065 - val_loss: 1.2396 - val_acc: 0.3800\n",
            "Epoch 14/20\n",
            "542/542 [==============================] - 154s 284ms/step - loss: 1.1757 - acc: 0.4229 - val_loss: 1.2132 - val_acc: 0.3859\n",
            "Epoch 15/20\n",
            "542/542 [==============================] - 154s 285ms/step - loss: 1.1673 - acc: 0.4265 - val_loss: 1.2041 - val_acc: 0.3929\n",
            "Epoch 16/20\n",
            "542/542 [==============================] - 154s 284ms/step - loss: 1.1579 - acc: 0.4386 - val_loss: 1.2113 - val_acc: 0.3857\n",
            "Epoch 17/20\n",
            "542/542 [==============================] - 154s 284ms/step - loss: 1.1466 - acc: 0.4449 - val_loss: 1.2008 - val_acc: 0.3959\n",
            "Epoch 18/20\n",
            "542/542 [==============================] - 154s 284ms/step - loss: 1.1389 - acc: 0.4498 - val_loss: 1.2083 - val_acc: 0.3789\n",
            "Epoch 19/20\n",
            "542/542 [==============================] - 153s 283ms/step - loss: 1.1316 - acc: 0.4521 - val_loss: 1.2092 - val_acc: 0.3894\n",
            "Epoch 20/20\n",
            "542/542 [==============================] - 154s 284ms/step - loss: 1.1188 - acc: 0.4609 - val_loss: 1.2184 - val_acc: 0.3894\n"
          ]
        }
      ]
    },
    {
      "cell_type": "code",
      "source": [
        ""
      ],
      "metadata": {
        "id": "5kbUAOZ0w8-g"
      },
      "execution_count": null,
      "outputs": []
    }
  ]
}