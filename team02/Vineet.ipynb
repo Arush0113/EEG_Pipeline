{
 "cells": [
  {
   "cell_type": "code",
   "execution_count": 1,
   "metadata": {},
   "outputs": [
    {
     "name": "stdout",
     "output_type": "stream",
     "text": [
      "0.22.1\n"
     ]
    }
   ],
   "source": [
    "import matplotlib\n",
    "import pathlib\n",
    "\n",
    "import mne\n",
    "print(mne.__version__)\n",
    "import mne_bids\n",
    "\n",
    "matplotlib.use('Qt5Agg')"
   ]
  },
  {
   "cell_type": "code",
   "execution_count": 2,
   "metadata": {},
   "outputs": [],
   "source": [
    "rawab12_1 = mne.io.read_raw_eeglab('sub-AB12_eeg_sub-AB12_task-gonogo_run-1_eeg.set', eog=(), preload=True, uint16_codec=None, verbose=None)\n",
    "rawab12_2 = mne.io.read_raw_eeglab('sub-AB12_eeg_sub-AB12_task-gonogo_run-2_eeg.set', eog=(), preload=True, uint16_codec=None, verbose=None)"
   ]
  },
  {
   "cell_type": "code",
   "execution_count": 63,
   "metadata": {},
   "outputs": [
    {
     "data": {
      "text/plain": [
       "<MNEBrowseFigure size 1920x864 with 4 Axes>"
      ]
     },
     "execution_count": 63,
     "metadata": {},
     "output_type": "execute_result"
    }
   ],
   "source": [
    "rawab12_1.plot()"
   ]
  },
  {
   "cell_type": "code",
   "execution_count": 58,
   "metadata": {},
   "outputs": [
    {
     "name": "stdout",
     "output_type": "stream",
     "text": [
      "Used Annotations descriptions: ['1', '10', '2', '4', '5', '6', '7', '9']\n",
      "Used Annotations descriptions: ['1', '10', '11', '2', '3', '4', '5', '6', '7', '9']\n"
     ]
    }
   ],
   "source": [
    "eventsab12_1 = mne.events_from_annotations(rawab12_1)\n",
    "eventsab12_2 = mne.events_from_annotations(rawab12_2)"
   ]
  },
  {
   "cell_type": "code",
   "execution_count": 59,
   "metadata": {},
   "outputs": [
    {
     "data": {
      "text/plain": [
       "{'taskstart': '9',\n",
       " 'cue': '1',\n",
       " 'go': '2',\n",
       " 'button press': '5',\n",
       " 'no-go': '4',\n",
       " 'task end': '10'}"
      ]
     },
     "execution_count": 59,
     "metadata": {},
     "output_type": "execute_result"
    }
   ],
   "source": [
    "event_id = {\n",
    "    \"taskstart\" : '9',\n",
    "    \"cue\" : \"1\",\n",
    "    \"go\" : \"2\",\n",
    "    \"button press\" : \"5\",\n",
    "    \"no-go\" : \"4\",\n",
    "    \"task end\": \"10\"\n",
    "}\n",
    "event_id"
   ]
  },
  {
   "cell_type": "code",
   "execution_count": 3,
   "metadata": {},
   "outputs": [
    {
     "data": {
      "text/plain": [
       "{'AF3': 'eeg',\n",
       " 'AF4': 'eeg',\n",
       " 'F7': 'eeg',\n",
       " 'F5': 'eeg',\n",
       " 'F3': 'eeg',\n",
       " 'F1': 'eeg',\n",
       " 'Fz': 'eeg',\n",
       " 'F2': 'eeg',\n",
       " 'F4': 'eeg',\n",
       " 'F6': 'eeg',\n",
       " 'F8': 'eeg',\n",
       " 'FT7': 'eeg',\n",
       " 'FC5': 'eeg',\n",
       " 'FC3': 'eeg',\n",
       " 'FC1': 'eeg',\n",
       " 'FCz': 'eeg',\n",
       " 'FC2': 'eeg',\n",
       " 'FC4': 'eeg',\n",
       " 'FC6': 'eeg',\n",
       " 'FT8': 'eeg',\n",
       " 'T7': 'eeg',\n",
       " 'C5': 'eeg',\n",
       " 'C3': 'eeg',\n",
       " 'C1': 'eeg',\n",
       " 'Cz': 'eeg',\n",
       " 'C2': 'eeg',\n",
       " 'C4': 'eeg',\n",
       " 'C6': 'eeg',\n",
       " 'T8': 'eeg',\n",
       " 'M1': 'eeg',\n",
       " 'TP7': 'eeg',\n",
       " 'CP5': 'eeg',\n",
       " 'CP3': 'eeg',\n",
       " 'CP1': 'eeg',\n",
       " 'CPz': 'eeg',\n",
       " 'CP2': 'eeg',\n",
       " 'CP4': 'eeg',\n",
       " 'CP6': 'eeg',\n",
       " 'TP8': 'eeg',\n",
       " 'M2': 'eeg',\n",
       " 'P7': 'eeg',\n",
       " 'P5': 'eeg',\n",
       " 'P3': 'eeg',\n",
       " 'P1': 'eeg',\n",
       " 'Pz': 'eeg',\n",
       " 'P2': 'eeg',\n",
       " 'P4': 'eeg',\n",
       " 'P6': 'eeg',\n",
       " 'P8': 'eeg',\n",
       " 'PO7': 'eeg',\n",
       " 'PO5': 'eeg',\n",
       " 'PO3': 'eeg',\n",
       " 'POz': 'eeg',\n",
       " 'PO4': 'eeg',\n",
       " 'PO6': 'eeg',\n",
       " 'PO8': 'eeg',\n",
       " 'CB1': 'eeg',\n",
       " 'O1': 'eeg',\n",
       " 'Oz': 'eeg',\n",
       " 'O2': 'eeg',\n",
       " 'CB2': 'eeg',\n",
       " 'VEO': 'eog',\n",
       " 'HEO': 'eog',\n",
       " 'EKG': 'ecg',\n",
       " 'R-Dia-X-(mm)': 'misc',\n",
       " 'R-Dia-Y-(mm)': 'misc'}"
      ]
     },
     "execution_count": 3,
     "metadata": {},
     "output_type": "execute_result"
    }
   ],
   "source": [
    "path_channels_tsv='sub-AB10_eeg_sub-AB10_task-gonogo_run-1_channels.tsv'\n",
    "import pandas as pd\n",
    "channel_types_tsv = pd.read_csv(path_channels_tsv, delimiter = '\\t')\n",
    "\n",
    "def get_channel_types_dic(channel_types_tsv):\n",
    "    channel_types = {}\n",
    "    for i in range(channel_types_tsv.shape[0]):\n",
    "        channel_types[channel_types_tsv['name'][i]] = channel_types_tsv['type'][i].lower()\n",
    "    reassign_dic = {'HEO':'eog', 'VEO':'eog', 'R-Dia-X-(mm)':'misc', 'R-Dia-Y-(mm)':'misc'}\n",
    "    for k in list(reassign_dic.keys()):\n",
    "        if k in list(channel_types):\n",
    "            channel_types[k] = reassign_dic[k]\n",
    "    return channel_types\n",
    "\n",
    "channel_types = get_channel_types_dic(channel_types_tsv)\n",
    "channel_types"
   ]
  },
  {
   "cell_type": "code",
   "execution_count": 5,
   "metadata": {},
   "outputs": [
    {
     "data": {
      "text/plain": [
       "<Info | 8 non-empty values\n",
       " bads: []\n",
       " ch_names: AF3, AF4, F7, F5, F3, F1, Fz, F2, F4, F6, F8, FT7, FC5, FC3, ...\n",
       " chs: 61 EEG, 2 EOG, 1 ECG, 2 MISC\n",
       " custom_ref_applied: False\n",
       " dig: 66 items (66 EEG)\n",
       " highpass: 0.0 Hz\n",
       " lowpass: 250.0 Hz\n",
       " meas_date: unspecified\n",
       " nchan: 66\n",
       " projs: []\n",
       " sfreq: 500.0 Hz\n",
       ">"
      ]
     },
     "execution_count": 5,
     "metadata": {},
     "output_type": "execute_result"
    }
   ],
   "source": [
    "rawab12_1.set_channel_types(channel_types)\n",
    "rawab12_1.info"
   ]
  },
  {
   "cell_type": "code",
   "execution_count": 49,
   "metadata": {},
   "outputs": [
    {
     "data": {
      "text/plain": [
       "<RawEEGLAB | sub-AB12_eeg_sub-AB12_task-gonogo_run-1_eeg.set, 64 x 252180 (504.4 s), ~123.2 MB, data loaded>"
      ]
     },
     "execution_count": 49,
     "metadata": {},
     "output_type": "execute_result"
    }
   ],
   "source": [
    "#rawab12_1.drop_channels(ch_names = [\"R-Dia-X-(mm)\"])"
   ]
  },
  {
   "cell_type": "code",
   "execution_count": 6,
   "metadata": {},
   "outputs": [],
   "source": [
    "ica = mne.preprocessing.ICA(n_components=30, random_state=90, method='picard', max_iter=800)"
   ]
  },
  {
   "cell_type": "code",
   "execution_count": 7,
   "metadata": {},
   "outputs": [
    {
     "name": "stdout",
     "output_type": "stream",
     "text": [
      "Fitting ICA to data using 61 channels (please be patient, this may take a while)\n",
      "Selecting by number: 30 components\n",
      "Fitting ICA took 19.3s.\n"
     ]
    },
    {
     "data": {
      "text/plain": [
       "<ICA | raw data decomposition, fit (picard): 252180 samples, 30 components, channels used: \"eeg\">"
      ]
     },
     "execution_count": 7,
     "metadata": {},
     "output_type": "execute_result"
    }
   ],
   "source": [
    "ica.fit(rawab12_1)"
   ]
  },
  {
   "cell_type": "code",
   "execution_count": 8,
   "metadata": {},
   "outputs": [
    {
     "name": "stdout",
     "output_type": "stream",
     "text": [
      "    Using multitaper spectrum estimation with 7 DPSS windows\n",
      "Not setting metadata\n",
      "Not setting metadata\n",
      "252 matching events found\n",
      "No baseline correction applied\n",
      "0 projection items activated\n",
      "0 bad epochs dropped\n",
      "Not setting metadata\n",
      "Not setting metadata\n",
      "252 matching events found\n",
      "No baseline correction applied\n",
      "0 projection items activated\n",
      "0 bad epochs dropped\n",
      "Not setting metadata\n",
      "Not setting metadata\n",
      "252 matching events found\n",
      "No baseline correction applied\n",
      "0 projection items activated\n",
      "0 bad epochs dropped\n",
      "Not setting metadata\n",
      "Not setting metadata\n",
      "252 matching events found\n",
      "No baseline correction applied\n",
      "0 projection items activated\n",
      "0 bad epochs dropped\n",
      "Not setting metadata\n",
      "Not setting metadata\n",
      "252 matching events found\n",
      "No baseline correction applied\n",
      "0 projection items activated\n",
      "0 bad epochs dropped\n"
     ]
    },
    {
     "data": {
      "text/plain": [
       "[<Figure size 1400x918 with 6 Axes>,\n",
       " <Figure size 1400x918 with 6 Axes>,\n",
       " <Figure size 1400x918 with 6 Axes>,\n",
       " <Figure size 1400x918 with 6 Axes>,\n",
       " <Figure size 1400x918 with 6 Axes>]"
      ]
     },
     "execution_count": 8,
     "metadata": {},
     "output_type": "execute_result"
    }
   ],
   "source": [
    "\n",
    "ica.plot_properties(rawab12_1)"
   ]
  },
  {
   "cell_type": "code",
   "execution_count": 9,
   "metadata": {},
   "outputs": [
    {
     "name": "stdout",
     "output_type": "stream",
     "text": [
      "... filtering ICA sources\n",
      "Setting up band-pass filter from 1 - 10 Hz\n",
      "\n",
      "FIR filter parameters\n",
      "---------------------\n",
      "Designing a two-pass forward and reverse, zero-phase, non-causal bandpass filter:\n",
      "- Windowed frequency-domain design (firwin2) method\n",
      "- Hann window\n",
      "- Lower passband edge: 1.00\n",
      "- Lower transition bandwidth: 0.50 Hz (-12 dB cutoff frequency: 0.75 Hz)\n",
      "- Upper passband edge: 10.00 Hz\n",
      "- Upper transition bandwidth: 0.50 Hz (-12 dB cutoff frequency: 10.25 Hz)\n",
      "- Filter length: 5000 samples (10.000 sec)\n",
      "\n",
      "... filtering target\n",
      "Setting up band-pass filter from 1 - 10 Hz\n",
      "\n",
      "FIR filter parameters\n",
      "---------------------\n",
      "Designing a two-pass forward and reverse, zero-phase, non-causal bandpass filter:\n",
      "- Windowed frequency-domain design (firwin2) method\n",
      "- Hann window\n",
      "- Lower passband edge: 1.00\n",
      "- Lower transition bandwidth: 0.50 Hz (-12 dB cutoff frequency: 0.75 Hz)\n",
      "- Upper passband edge: 10.00 Hz\n",
      "- Upper transition bandwidth: 0.50 Hz (-12 dB cutoff frequency: 10.25 Hz)\n",
      "- Filter length: 5000 samples (10.000 sec)\n",
      "\n",
      "... filtering ICA sources\n",
      "Setting up band-pass filter from 1 - 10 Hz\n",
      "\n",
      "FIR filter parameters\n",
      "---------------------\n",
      "Designing a two-pass forward and reverse, zero-phase, non-causal bandpass filter:\n",
      "- Windowed frequency-domain design (firwin2) method\n",
      "- Hann window\n",
      "- Lower passband edge: 1.00\n",
      "- Lower transition bandwidth: 0.50 Hz (-12 dB cutoff frequency: 0.75 Hz)\n",
      "- Upper passband edge: 10.00 Hz\n",
      "- Upper transition bandwidth: 0.50 Hz (-12 dB cutoff frequency: 10.25 Hz)\n",
      "- Filter length: 5000 samples (10.000 sec)\n",
      "\n",
      "... filtering target\n",
      "Setting up band-pass filter from 1 - 10 Hz\n",
      "\n",
      "FIR filter parameters\n",
      "---------------------\n",
      "Designing a two-pass forward and reverse, zero-phase, non-causal bandpass filter:\n",
      "- Windowed frequency-domain design (firwin2) method\n",
      "- Hann window\n",
      "- Lower passband edge: 1.00\n",
      "- Lower transition bandwidth: 0.50 Hz (-12 dB cutoff frequency: 0.75 Hz)\n",
      "- Upper passband edge: 10.00 Hz\n",
      "- Upper transition bandwidth: 0.50 Hz (-12 dB cutoff frequency: 10.25 Hz)\n",
      "- Filter length: 5000 samples (10.000 sec)\n",
      "\n"
     ]
    },
    {
     "data": {
      "text/plain": [
       "([19],\n",
       " [array([ 0.3186883 ,  0.12182345, -0.07364511,  0.05109741,  0.05111524,\n",
       "          0.01042461,  0.06897001,  0.01053283,  0.17424274,  0.11807944,\n",
       "         -0.00860155, -0.18189976,  0.18281195, -0.30759916,  0.17234047,\n",
       "         -0.01153168,  0.04980424,  0.07715609, -0.17464326, -0.5524785 ,\n",
       "         -0.01261872, -0.16617443, -0.10608996,  0.02370827, -0.28843458,\n",
       "         -0.02144192, -0.12335707,  0.23046008,  0.15809842,  0.20919701]),\n",
       "  array([-2.38968008e-01, -2.64115459e-01, -1.10307190e-01, -2.30415267e-01,\n",
       "         -2.77829447e-02, -1.53121759e-01, -3.78595508e-02, -3.73732709e-02,\n",
       "         -2.46136950e-01, -6.17138143e-02,  1.20048285e-02,  9.54699900e-03,\n",
       "         -7.55752648e-02,  2.33758558e-01, -2.85070975e-01,  1.08379335e-01,\n",
       "          9.68126010e-02,  1.03313404e-01,  3.53601273e-04,  7.08201636e-01,\n",
       "         -3.07569825e-01,  8.84775612e-02, -1.44356313e-02, -2.35820999e-01,\n",
       "         -1.96217408e-01,  2.71352065e-01, -5.99890082e-02, -1.02342050e-01,\n",
       "         -2.64919446e-02, -1.65464890e-01])])"
      ]
     },
     "execution_count": 9,
     "metadata": {},
     "output_type": "execute_result"
    }
   ],
   "source": [
    "ica.find_bads_eog(rawab12_1)"
   ]
  },
  {
   "cell_type": "code",
   "execution_count": 10,
   "metadata": {},
   "outputs": [
    {
     "name": "stdout",
     "output_type": "stream",
     "text": [
      "Using threshold: 0.23 for CTPS ECG detection\n",
      "Using channel EKG to identify heart beats.\n",
      "Setting up band-pass filter from 8 - 16 Hz\n",
      "\n",
      "FIR filter parameters\n",
      "---------------------\n",
      "Designing a two-pass forward and reverse, zero-phase, non-causal bandpass filter:\n",
      "- Windowed frequency-domain design (firwin2) method\n",
      "- Hann window\n",
      "- Lower passband edge: 8.00\n",
      "- Lower transition bandwidth: 0.50 Hz (-12 dB cutoff frequency: 7.75 Hz)\n",
      "- Upper passband edge: 16.00 Hz\n",
      "- Upper transition bandwidth: 0.50 Hz (-12 dB cutoff frequency: 16.25 Hz)\n",
      "- Filter length: 5000 samples (10.000 sec)\n",
      "\n",
      "Number of ECG events detected : 606 (average pulse 72 / min.)\n",
      "Not setting metadata\n",
      "Not setting metadata\n",
      "606 matching events found\n",
      "No baseline correction applied\n",
      "Loading data for 606 events and 501 original time points ...\n",
      "0 bad epochs dropped\n"
     ]
    },
    {
     "data": {
      "text/plain": [
       "([],\n",
       " array([0.11484107, 0.07347315, 0.10219327, 0.10797266, 0.05707677,\n",
       "        0.0794991 , 0.05656204, 0.06607186, 0.06582458, 0.0507671 ,\n",
       "        0.04197944, 0.03217972, 0.06914885, 0.08249026, 0.08642526,\n",
       "        0.05413306, 0.08869168, 0.13154624, 0.01491662, 0.11298639,\n",
       "        0.13268556, 0.03253499, 0.06457757, 0.04828349, 0.04267255,\n",
       "        0.07502305, 0.04023289, 0.07142987, 0.04877511, 0.04127179]))"
      ]
     },
     "execution_count": 10,
     "metadata": {},
     "output_type": "execute_result"
    }
   ],
   "source": [
    "ica.find_bads_ecg(rawab12_1)"
   ]
  },
  {
   "cell_type": "code",
   "execution_count": 11,
   "metadata": {},
   "outputs": [
    {
     "name": "stdout",
     "output_type": "stream",
     "text": [
      "    Searching for artifacts...\n",
      "    found 1 artifact by skewness\n",
      "    found 1 artifact by kurtosis\n",
      "    found 1 artifact by variance\n",
      "Artifact indices found:\n",
      "    19, 19, 6\n",
      "    Removing duplicate indices...\n",
      "Ready.\n"
     ]
    },
    {
     "data": {
      "text/plain": [
       "<ICA | raw data decomposition, fit (picard): 252180 samples, 30 components, channels used: \"eeg\", 2 sources marked for exclusion>"
      ]
     },
     "execution_count": 11,
     "metadata": {},
     "output_type": "execute_result"
    }
   ],
   "source": [
    "ica.detect_artifacts(rawab12_1)"
   ]
  },
  {
   "cell_type": "code",
   "execution_count": 12,
   "metadata": {},
   "outputs": [
    {
     "name": "stdout",
     "output_type": "stream",
     "text": [
      "Creating RawArray with float64 data, n_channels=33, n_times=252180\n",
      "    Range : 0 ... 252179 =      0.000 ...   504.358 secs\n",
      "Ready.\n"
     ]
    },
    {
     "data": {
      "text/plain": [
       "<MNEBrowseFigure size 1920x864 with 4 Axes>"
      ]
     },
     "execution_count": 12,
     "metadata": {},
     "output_type": "execute_result"
    }
   ],
   "source": [
    "\n",
    "ica.plot_sources(rawab12_1)"
   ]
  },
  {
   "cell_type": "code",
   "execution_count": 16,
   "metadata": {},
   "outputs": [
    {
     "data": {
      "text/plain": [
       "[<MNEFigure size 1924x1014 with 20 Axes>,\n",
       " <MNEFigure size 1924x992 with 10 Axes>]"
      ]
     },
     "execution_count": 16,
     "metadata": {},
     "output_type": "execute_result"
    }
   ],
   "source": [
    "ica.plot_components()"
   ]
  },
  {
   "cell_type": "code",
   "execution_count": 18,
   "metadata": {},
   "outputs": [
    {
     "data": {
      "text/plain": [
       "[<DigPoint |     EEG #1 : (-3375.9, 9072.9, 3547.3) mm : head frame>,\n",
       " <DigPoint |     EEG #1 : (nan, nan, nan) mm        : head frame>,\n",
       " <DigPoint |     EEG #2 : (3445.4, 8927.5, 3210.9) mm : head frame>,\n",
       " <DigPoint |     EEG #2 : (nan, nan, nan) mm        : head frame>,\n",
       " <DigPoint |     EEG #3 : (-7557.4, 5501.2, 603.0) mm : head frame>,\n",
       " <DigPoint |     EEG #4 : (-6415.4, 5902.7, 3765.1) mm : head frame>,\n",
       " <DigPoint |     EEG #5 : (-4222.1, 6510.0, 5806.5) mm : head frame>,\n",
       " <DigPoint |     EEG #6 : (-2354.3, 6865.9, 6685.9) mm : head frame>,\n",
       " <DigPoint |     EEG #7 : (620.8, 7311.6, 7094.9) mm : head frame>,\n",
       " <DigPoint |     EEG #8 : (3240.8, 7153.6, 6410.4) mm : head frame>,\n",
       " <DigPoint |     EEG #9 : (4918.9, 6554.9, 4846.6) mm : head frame>,\n",
       " <DigPoint |    EEG #10 : (7244.2, 5995.6, 2648.3) mm : head frame>,\n",
       " <DigPoint |    EEG #11 : (7260.2, 5225.6, -221.6) mm : head frame>,\n",
       " <DigPoint |    EEG #12 : (-8219.7, 3137.0, 404.2) mm : head frame>,\n",
       " <DigPoint |    EEG #13 : (-7468.0, 3796.4, 4345.6) mm : head frame>,\n",
       " <DigPoint |    EEG #14 : (-5214.3, 3791.9, 6142.3) mm : head frame>,\n",
       " <DigPoint |    EEG #15 : (-2524.1, 4336.5, 7998.2) mm : head frame>,\n",
       " <DigPoint |    EEG #16 : (283.4, 4430.2, 7886.0) mm : head frame>,\n",
       " <DigPoint |    EEG #17 : (3168.2, 4012.6, 7362.8) mm : head frame>,\n",
       " <DigPoint |    EEG #18 : (5661.8, 3551.4, 5750.1) mm : head frame>,\n",
       " <DigPoint |    EEG #19 : (7378.9, 3052.2, 3043.1) mm : head frame>,\n",
       " <DigPoint |    EEG #20 : (7651.1, 2704.0, -572.8) mm : head frame>,\n",
       " <DigPoint |    EEG #21 : (-8511.0, 703.8, 365.4) mm : head frame>,\n",
       " <DigPoint |    EEG #22 : (-7831.5, 1060.6, 4027.7) mm : head frame>,\n",
       " <DigPoint |    EEG #23 : (-5977.1, 1209.2, 6415.8) mm : head frame>,\n",
       " <DigPoint |    EEG #24 : (-3237.6, 1341.3, 8590.7) mm : head frame>,\n",
       " <DigPoint |    EEG #25 : (18.5, 1244.4, 9278.7) mm : head frame>,\n",
       " <DigPoint |    EEG #26 : (3132.8, 771.7, 8305.2) mm : head frame>,\n",
       " <DigPoint |    EEG #27 : (6344.1, 659.9, 6326.4) mm : head frame>,\n",
       " <DigPoint |    EEG #28 : (7078.9, 206.8, 2942.4) mm : head frame>,\n",
       " <DigPoint |    EEG #29 : (7403.1, 234.5, -365.4) mm : head frame>,\n",
       " <DigPoint |    EEG #30 : (-6924.0, -792.6, -6080.9) mm : head frame>,\n",
       " <DigPoint |    EEG #31 : (-8036.3, -2213.0, 370.8) mm : head frame>,\n",
       " <DigPoint |    EEG #32 : (-7672.9, -2321.1, 3681.0) mm : head frame>,\n",
       " <DigPoint |    EEG #33 : (-5944.1, -2183.5, 6913.0) mm : head frame>,\n",
       " <DigPoint |    EEG #34 : (-3309.4, -2557.6, 7830.7) mm : head frame>,\n",
       " <DigPoint |    EEG #35 : (-330.4, -2480.0, 8234.1) mm : head frame>,\n",
       " <DigPoint |    EEG #36 : (2551.0, -2704.7, 7448.7) mm : head frame>,\n",
       " <DigPoint |    EEG #37 : (5621.8, -3721.0, 4248.5) mm : head frame>,\n",
       " <DigPoint |    EEG #38 : (6589.1, -2736.8, 3182.2) mm : head frame>,\n",
       " <DigPoint |    EEG #39 : (7513.2, -2573.6, 109.6) mm : head frame>,\n",
       " <DigPoint |    EEG #40 : (7306.9, 181.8, -6334.1) mm : head frame>,\n",
       " <DigPoint |    EEG #41 : (-7174.0, -4634.0, 741.7) mm : head frame>,\n",
       " <DigPoint |    EEG #42 : (-6475.0, -4388.8, 3227.0) mm : head frame>,\n",
       " <DigPoint |    EEG #43 : (-4945.6, -4728.6, 5280.9) mm : head frame>,\n",
       " <DigPoint |    EEG #44 : (-2749.2, -5024.4, 6414.5) mm : head frame>,\n",
       " <DigPoint |    EEG #45 : (-402.9, -5119.7, 6483.4) mm : head frame>,\n",
       " <DigPoint |    EEG #46 : (1724.8, -5285.7, 5832.5) mm : head frame>,\n",
       " <DigPoint |    EEG #47 : (3977.5, -5121.2, 4636.0) mm : head frame>,\n",
       " <DigPoint |    EEG #48 : (5315.5, -5033.0, 2690.2) mm : head frame>,\n",
       " <DigPoint |    EEG #49 : (6413.9, -5034.1, 33.0) mm : head frame>,\n",
       " <DigPoint |    EEG #50 : (-5806.6, -6296.7, 412.4) mm : head frame>,\n",
       " <DigPoint |    EEG #51 : (-5348.1, -6636.9, 2077.2) mm : head frame>,\n",
       " <DigPoint |    EEG #52 : (-4021.7, -7237.7, 3150.7) mm : head frame>,\n",
       " <DigPoint |    EEG #53 : (-548.8, -6964.6, 3751.6) mm : head frame>,\n",
       " <DigPoint |    EEG #54 : (2868.0, -7434.4, 2108.1) mm : head frame>,\n",
       " <DigPoint |    EEG #55 : (3968.6, -6985.5, 995.1) mm : head frame>,\n",
       " <DigPoint |    EEG #56 : (4916.0, -6776.0, -330.2) mm : head frame>,\n",
       " <DigPoint |    EEG #57 : (-3323.8, -8124.1, -1697.5) mm : head frame>,\n",
       " <DigPoint |    EEG #58 : (-3451.2, -7798.4, 641.7) mm : head frame>,\n",
       " <DigPoint |    EEG #59 : (-673.1, -8396.8, 548.2) mm : head frame>,\n",
       " <DigPoint |    EEG #60 : (1944.4, -8091.3, 168.6) mm : head frame>,\n",
       " <DigPoint |    EEG #61 : (1713.4, -8471.1, -2084.2) mm : head frame>,\n",
       " <DigPoint |    EEG #62 : (-5338.2, 8308.6, -2130.7) mm : head frame>,\n",
       " <DigPoint |    EEG #63 : (-6470.9, 5636.1, -3823.1) mm : head frame>,\n",
       " <DigPoint |    EEG #64 : (-10724.7, -7356.2, -15617.9) mm : head frame>]"
      ]
     },
     "execution_count": 18,
     "metadata": {},
     "output_type": "execute_result"
    }
   ],
   "source": [
    "ica.info['dig']"
   ]
  },
  {
   "cell_type": "code",
   "execution_count": 13,
   "metadata": {},
   "outputs": [
    {
     "name": "stdout",
     "output_type": "stream",
     "text": [
      "Applying ICA to Raw instance\n",
      "    Transforming to ICA space (30 components)\n",
      "    Zeroing out 2 ICA components\n",
      "    Projecting back using 61 PCA components\n"
     ]
    },
    {
     "data": {
      "text/plain": [
       "<Figure size 1280x918 with 2 Axes>"
      ]
     },
     "execution_count": 13,
     "metadata": {},
     "output_type": "execute_result"
    }
   ],
   "source": [
    "ica.plot_overlay(rawab12_1)\n",
    "# heartbeats\n",
    "#ica.plot_overlay(rawab12_1, exclude=[1], picks='mag')"
   ]
  },
  {
   "cell_type": "code",
   "execution_count": 14,
   "metadata": {},
   "outputs": [
    {
     "name": "stdout",
     "output_type": "stream",
     "text": [
      "    Using multitaper spectrum estimation with 7 DPSS windows\n",
      "Not setting metadata\n",
      "Not setting metadata\n",
      "252 matching events found\n",
      "No baseline correction applied\n",
      "0 projection items activated\n",
      "0 bad epochs dropped\n",
      "Not setting metadata\n",
      "Not setting metadata\n",
      "252 matching events found\n",
      "No baseline correction applied\n",
      "0 projection items activated\n",
      "0 bad epochs dropped\n",
      "Not setting metadata\n",
      "Not setting metadata\n",
      "252 matching events found\n",
      "No baseline correction applied\n",
      "0 projection items activated\n",
      "0 bad epochs dropped\n",
      "Not setting metadata\n",
      "Not setting metadata\n",
      "252 matching events found\n",
      "No baseline correction applied\n",
      "0 projection items activated\n",
      "0 bad epochs dropped\n",
      "Not setting metadata\n",
      "Not setting metadata\n",
      "252 matching events found\n",
      "No baseline correction applied\n",
      "0 projection items activated\n",
      "0 bad epochs dropped\n"
     ]
    },
    {
     "data": {
      "text/plain": [
       "[<Figure size 1400x918 with 6 Axes>,\n",
       " <Figure size 1400x918 with 6 Axes>,\n",
       " <Figure size 1400x918 with 6 Axes>,\n",
       " <Figure size 1400x918 with 6 Axes>,\n",
       " <Figure size 1400x918 with 6 Axes>]"
      ]
     },
     "execution_count": 14,
     "metadata": {},
     "output_type": "execute_result"
    }
   ],
   "source": [
    "ica.plot_properties(rawab12_1)"
   ]
  },
  {
   "cell_type": "code",
   "execution_count": 34,
   "metadata": {},
   "outputs": [
    {
     "data": {
      "text/plain": [
       "{'AF3': 'eeg',\n",
       " 'AF4': 'eeg',\n",
       " 'F7': 'eeg',\n",
       " 'F5': 'eeg',\n",
       " 'F3': 'eeg',\n",
       " 'F1': 'eeg',\n",
       " 'Fz': 'eeg',\n",
       " 'F2': 'eeg',\n",
       " 'F4': 'eeg',\n",
       " 'F6': 'eeg',\n",
       " 'F8': 'eeg',\n",
       " 'FT7': 'eeg',\n",
       " 'FC5': 'eeg',\n",
       " 'FC3': 'eeg',\n",
       " 'FC1': 'eeg',\n",
       " 'FCz': 'eeg',\n",
       " 'FC2': 'eeg',\n",
       " 'FC4': 'eeg',\n",
       " 'FC6': 'eeg',\n",
       " 'FT8': 'eeg',\n",
       " 'T7': 'eeg',\n",
       " 'C5': 'eeg',\n",
       " 'C3': 'eeg',\n",
       " 'C1': 'eeg',\n",
       " 'Cz': 'eeg',\n",
       " 'C2': 'eeg',\n",
       " 'C4': 'eeg',\n",
       " 'C6': 'eeg',\n",
       " 'T8': 'eeg',\n",
       " 'M1': 'eeg',\n",
       " 'TP7': 'eeg',\n",
       " 'CP5': 'eeg',\n",
       " 'CP3': 'eeg',\n",
       " 'CP1': 'eeg',\n",
       " 'CPz': 'eeg',\n",
       " 'CP2': 'eeg',\n",
       " 'CP4': 'eeg',\n",
       " 'CP6': 'eeg',\n",
       " 'TP8': 'eeg',\n",
       " 'M2': 'eeg',\n",
       " 'P7': 'eeg',\n",
       " 'P5': 'eeg',\n",
       " 'P3': 'eeg',\n",
       " 'P1': 'eeg',\n",
       " 'Pz': 'eeg',\n",
       " 'P2': 'eeg',\n",
       " 'P4': 'eeg',\n",
       " 'P6': 'eeg',\n",
       " 'P8': 'eeg',\n",
       " 'PO7': 'eeg',\n",
       " 'PO5': 'eeg',\n",
       " 'PO3': 'eeg',\n",
       " 'POz': 'eeg',\n",
       " 'PO4': 'eeg',\n",
       " 'PO6': 'eeg',\n",
       " 'PO8': 'eeg',\n",
       " 'CB1': 'eeg',\n",
       " 'O1': 'eeg',\n",
       " 'Oz': 'eeg',\n",
       " 'O2': 'eeg',\n",
       " 'CB2': 'eeg',\n",
       " 'VEO': 'eog',\n",
       " 'HEO': 'eog',\n",
       " 'EKG': 'ecg',\n",
       " 'R-Dia-X-(mm)': 'misc',\n",
       " 'R-Dia-Y-(mm)': 'misc'}"
      ]
     },
     "execution_count": 34,
     "metadata": {},
     "output_type": "execute_result"
    }
   ],
   "source": [
    "#get type of channels from tsv file\n"
   ]
  },
  {
   "cell_type": "code",
   "execution_count": null,
   "metadata": {},
   "outputs": [],
   "source": []
  }
 ],
 "metadata": {
  "kernelspec": {
   "display_name": "Python 3",
   "language": "python",
   "name": "python3"
  },
  "language_info": {
   "codemirror_mode": {
    "name": "ipython",
    "version": 3
   },
   "file_extension": ".py",
   "mimetype": "text/x-python",
   "name": "python",
   "nbconvert_exporter": "python",
   "pygments_lexer": "ipython3",
   "version": "3.7.6"
  }
 },
 "nbformat": 4,
 "nbformat_minor": 4
}
