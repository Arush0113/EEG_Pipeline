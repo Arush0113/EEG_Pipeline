{
 "cells": [
  {
   "cell_type": "code",
   "execution_count": 1,
   "id": "3d2b14a9-521a-4462-a9dd-5f38a31ec099",
   "metadata": {},
   "outputs": [],
   "source": [
    "#Loading important libraries\n",
    "import numpy as np\n",
    "import tensorflow as tf\n",
    "import matplotlib.pyplot as plt\n",
    "%matplotlib inline"
   ]
  },
  {
   "cell_type": "code",
   "execution_count": 28,
   "id": "c19008ea-1d58-45b8-b06c-e90500af555d",
   "metadata": {},
   "outputs": [],
   "source": [
    "#np.savez('data1.npz', X = datars, y = main_y)\n",
    "loadfile = np.load(\"data1.npz\")\n",
    "datars = loadfile[\"X\"]\n",
    "y = loadfile[\"y\"]\n",
    "del loadfile"
   ]
  },
  {
   "cell_type": "code",
   "execution_count": 29,
   "id": "4921a87f-d0c5-427a-a6c8-f2efab3cddcc",
   "metadata": {},
   "outputs": [
    {
     "name": "stdout",
     "output_type": "stream",
     "text": [
      "(1875, 21411)\n",
      "(1875, 1)\n",
      "(1875, 21412)\n",
      "(1875, 21411)\n",
      "(1875,)\n"
     ]
    }
   ],
   "source": [
    "#Preparing main dataset\n",
    "datars = datars.reshape(datars.shape[0], -1)\n",
    "\n",
    "print(datars.shape)\n",
    "print(y.shape)\n",
    "main_dataset = np.concatenate((datars, y), axis = 1)\n",
    "print(main_dataset.shape)\n",
    "\n",
    "#Defining main x and y for training\n",
    "main_x = main_dataset[:, :-1]\n",
    "main_y = main_dataset[:, -1]\n",
    "print(main_x.shape)\n",
    "print(main_y.shape)"
   ]
  },
  {
   "cell_type": "code",
   "execution_count": 30,
   "id": "b5e9cdf3-dac0-43bb-9352-50ac0288eaa5",
   "metadata": {},
   "outputs": [],
   "source": [
    "# event_id = {\n",
    "#     \"taskstart\" : '9',\n",
    "#     \"cue\" : \"1\",\n",
    "#     \"go\" : \"2\",\n",
    "#     \"button press\" : \"5\",\n",
    "#     \"no-go\" : \"4\",\n",
    "#     \"task end\": \"10\",\n",
    "#     \"error 1\" : \"3\",\n",
    "#     \"error 2\" : \"6\",\n",
    "#     \"error 3\" : \"7\",\n",
    "#     \"error 4\" : \"8\",\n",
    "#     \"error 5\" : \"11\"\n",
    "# }\n",
    "# event_id"
   ]
  },
  {
   "cell_type": "code",
   "execution_count": 31,
   "id": "655c45dc-effa-4d94-af8d-9bf811b26b04",
   "metadata": {},
   "outputs": [
    {
     "name": "stdout",
     "output_type": "stream",
     "text": [
      "(957, 21412)\n",
      "(957, 21411)\n",
      "(957,)\n",
      "[2.0, 5.0]\n",
      "[ 9.89868760e-07  1.28943692e-06  1.08217038e-06 ... -1.01997355e-05\n",
      " -1.10463195e-05 -1.12842527e-05]\n",
      "[-1.62371865e-07 -2.82117731e-06  1.34060053e-06 ...  6.76570345e-06\n",
      "  6.34351181e-07 -1.50353894e-07]\n"
     ]
    }
   ],
   "source": [
    "#Removing events which are not needed for current task\n",
    "required_events = [2, 5]    #Events to classify\n",
    "\n",
    "dataset = main_dataset[np.array(list(r[-1] in required_events for r in main_dataset))]\n",
    "\n",
    "print(dataset.shape)\n",
    "\n",
    "#Defining x and y\n",
    "x = dataset[:, :-1]\n",
    "y = dataset[:, -1]\n",
    "print(x.shape)\n",
    "print(y.shape)\n",
    "print(list(set(y)))\n",
    "\n",
    "permutations = np.random.permutation(len(x))\n",
    "# print(permutation)\n",
    "print(x[-1])\n",
    "x = x[permutations]\n",
    "y = y[permutations]\n",
    "print(x[-1])"
   ]
  },
  {
   "cell_type": "code",
   "execution_count": 35,
   "id": "4b28051d-7a05-4038-82c4-25c7409a0860",
   "metadata": {},
   "outputs": [
    {
     "name": "stdout",
     "output_type": "stream",
     "text": [
      "[0.0, 1.0]\n"
     ]
    }
   ],
   "source": [
    "#Encoding y\n",
    "dict = {}\n",
    "for i in range(len(required_events)):\n",
    "    dict[required_events[i]] = i\n",
    "    \n",
    "for i in range(len(y)):\n",
    "    y[i] = dict[y[i]]\n",
    "\n",
    "print(list(set(y)))"
   ]
  },
  {
   "cell_type": "markdown",
   "id": "544bf383-3a87-424b-b1be-e0477d3ad543",
   "metadata": {},
   "source": [
    "### Other Models"
   ]
  },
  {
   "cell_type": "code",
   "execution_count": 36,
   "id": "6b976fd1-f4cf-4461-a15f-0146b8198ba8",
   "metadata": {},
   "outputs": [],
   "source": [
    "import pandas as pd\n",
    "from sklearn.model_selection import train_test_split\n",
    "X_train, X_test, y_train, y_test = train_test_split(x, y, test_size = 0.2, random_state = 0)"
   ]
  },
  {
   "cell_type": "code",
   "execution_count": 37,
   "id": "e185242d-6a56-41bd-b03c-914dc3a24721",
   "metadata": {},
   "outputs": [],
   "source": [
    "from sklearn.preprocessing import StandardScaler\n",
    "sc = StandardScaler()\n",
    "X_train = sc.fit_transform(X_train)\n",
    "X_test = sc.transform(X_test)"
   ]
  },
  {
   "cell_type": "markdown",
   "id": "86a77296-7643-4296-a557-121f39891efc",
   "metadata": {},
   "source": [
    "#### Logistic Regression"
   ]
  },
  {
   "cell_type": "code",
   "execution_count": 38,
   "id": "2f23dda5-8e24-4749-b795-8e032a8839ee",
   "metadata": {},
   "outputs": [
    {
     "data": {
      "text/plain": [
       "LogisticRegression(max_iter=1000, random_state=0)"
      ]
     },
     "execution_count": 38,
     "metadata": {},
     "output_type": "execute_result"
    }
   ],
   "source": [
    "from sklearn.linear_model import LogisticRegression\n",
    "Logclassifier = LogisticRegression(random_state = 0, max_iter = 1000)\n",
    "Logclassifier.fit(X_train, y_train)"
   ]
  },
  {
   "cell_type": "code",
   "execution_count": 39,
   "id": "f34d1a5b-5fe4-4be2-b9e0-c81b2dd03616",
   "metadata": {},
   "outputs": [],
   "source": [
    "y_pred_log = Logclassifier.predict(X_test)"
   ]
  },
  {
   "cell_type": "code",
   "execution_count": 40,
   "id": "3cf87573-8bb7-48b7-a975-d35836ff5709",
   "metadata": {},
   "outputs": [
    {
     "name": "stdout",
     "output_type": "stream",
     "text": [
      "[[86 10]\n",
      " [10 86]]\n"
     ]
    }
   ],
   "source": [
    "from sklearn.metrics import confusion_matrix\n",
    "cm = confusion_matrix(y_test, y_pred_log)\n",
    "print(cm)"
   ]
  },
  {
   "cell_type": "code",
   "execution_count": 41,
   "id": "b3916c66-3a6b-450d-aa27-c6d87b5e0a6f",
   "metadata": {},
   "outputs": [
    {
     "name": "stdout",
     "output_type": "stream",
     "text": [
      "Accuracy: 89.41 %\n",
      "Standard Deviation: 2.17 %\n"
     ]
    }
   ],
   "source": [
    "from sklearn.model_selection import cross_val_score\n",
    "accuracies = cross_val_score(estimator = Logclassifier, X = X_train, y = y_train, cv = 10)\n",
    "print(\"Accuracy: {:.2f} %\".format(accuracies.mean()*100))\n",
    "print(\"Standard Deviation: {:.2f} %\".format(accuracies.std()*100))"
   ]
  },
  {
   "cell_type": "markdown",
   "id": "fe4b8330-1f07-414c-9816-bf191dd6d84c",
   "metadata": {},
   "source": [
    "#### Kernal SVM"
   ]
  },
  {
   "cell_type": "code",
   "execution_count": 42,
   "id": "78bc11c5-4f54-4c49-8ddd-57ebb2cad049",
   "metadata": {},
   "outputs": [
    {
     "data": {
      "text/plain": [
       "SVC(random_state=0)"
      ]
     },
     "execution_count": 42,
     "metadata": {},
     "output_type": "execute_result"
    }
   ],
   "source": [
    "from sklearn.svm import SVC\n",
    "SVCclassifier = SVC(kernel = 'rbf', random_state = 0)\n",
    "SVCclassifier.fit(X_train, y_train)"
   ]
  },
  {
   "cell_type": "code",
   "execution_count": 43,
   "id": "a9e9d264-9acf-4269-9924-294db446b819",
   "metadata": {},
   "outputs": [],
   "source": [
    "y_pred_SVC = SVCclassifier.predict(X_test)"
   ]
  },
  {
   "cell_type": "code",
   "execution_count": 44,
   "id": "c9752f64-bc29-4f46-8587-ab8cea045483",
   "metadata": {},
   "outputs": [
    {
     "data": {
      "text/plain": [
       "array([1., 1., 0., 1., 0., 0., 1., 1., 0., 0., 0., 0., 0., 0., 1., 0., 0.,\n",
       "       0., 1., 0., 0., 0., 0., 0., 1., 1., 1., 1., 0., 1., 0., 1., 0., 0.,\n",
       "       0., 0., 0., 0., 1., 0., 0., 1., 0., 1., 1., 0., 1., 0., 1., 0., 1.,\n",
       "       0., 1., 0., 1., 0., 0., 0., 1., 1., 0., 1., 0., 0., 0., 1., 0., 0.,\n",
       "       0., 1., 1., 0., 0., 0., 1., 1., 1., 1., 1., 0., 0., 0., 1., 0., 1.,\n",
       "       0., 1., 0., 1., 0., 1., 1., 0., 1., 1., 0., 1., 0., 1., 1., 1., 1.,\n",
       "       1., 0., 1., 1., 0., 0., 0., 0., 0., 0., 1., 1., 0., 0., 0., 1., 1.,\n",
       "       0., 1., 0., 0., 1., 0., 1., 0., 0., 0., 1., 1., 0., 0., 0., 1., 1.,\n",
       "       0., 1., 1., 1., 1., 1., 0., 0., 0., 0., 0., 0., 1., 1., 0., 0., 1.,\n",
       "       1., 0., 1., 1., 0., 1., 1., 1., 1., 1., 1., 0., 0., 1., 0., 0., 0.,\n",
       "       0., 1., 0., 0., 1., 0., 1., 0., 1., 1., 1., 1., 1., 1., 1., 0., 0.,\n",
       "       1., 0., 0., 0., 1.])"
      ]
     },
     "execution_count": 44,
     "metadata": {},
     "output_type": "execute_result"
    }
   ],
   "source": [
    "y_pred_SVC"
   ]
  },
  {
   "cell_type": "code",
   "execution_count": 45,
   "id": "91daa5d7-dd54-452f-aadd-435521c15dd4",
   "metadata": {},
   "outputs": [
    {
     "name": "stdout",
     "output_type": "stream",
     "text": [
      "[[86 10]\n",
      " [16 80]]\n"
     ]
    },
    {
     "data": {
      "text/plain": [
       "0.8645833333333334"
      ]
     },
     "execution_count": 45,
     "metadata": {},
     "output_type": "execute_result"
    }
   ],
   "source": [
    "from sklearn.metrics import confusion_matrix, accuracy_score\n",
    "cm = confusion_matrix(y_test, y_pred_SVC)\n",
    "print(cm)\n",
    "accuracy_score(y_test, y_pred_SVC)"
   ]
  },
  {
   "cell_type": "markdown",
   "id": "e96d6284-b62b-4356-8323-d2e2555f9375",
   "metadata": {},
   "source": [
    "#### Random Forest"
   ]
  },
  {
   "cell_type": "code",
   "execution_count": 46,
   "id": "5e0f6558-ec3a-4625-99a7-41670aae1cb0",
   "metadata": {},
   "outputs": [
    {
     "data": {
      "text/plain": [
       "RandomForestClassifier(criterion='entropy', n_estimators=10, random_state=0)"
      ]
     },
     "execution_count": 46,
     "metadata": {},
     "output_type": "execute_result"
    }
   ],
   "source": [
    "from sklearn.ensemble import RandomForestClassifier\n",
    "RFclassifier = RandomForestClassifier(n_estimators = 10, criterion = 'entropy', random_state = 0)\n",
    "RFclassifier.fit(X_train, y_train)"
   ]
  },
  {
   "cell_type": "code",
   "execution_count": 47,
   "id": "58bf5c19-d5ae-45c0-9b78-5e13d747fda5",
   "metadata": {},
   "outputs": [],
   "source": [
    "y_pred_RF = RFclassifier.predict(X_test)"
   ]
  },
  {
   "cell_type": "code",
   "execution_count": 48,
   "id": "21b42799-2c26-48c3-a7e2-9775f7b941f7",
   "metadata": {},
   "outputs": [
    {
     "name": "stdout",
     "output_type": "stream",
     "text": [
      "[[79 17]\n",
      " [33 63]]\n"
     ]
    },
    {
     "data": {
      "text/plain": [
       "0.7395833333333334"
      ]
     },
     "execution_count": 48,
     "metadata": {},
     "output_type": "execute_result"
    }
   ],
   "source": [
    "from sklearn.metrics import confusion_matrix, accuracy_score\n",
    "cm = confusion_matrix(y_test, y_pred_RF)\n",
    "print(cm)\n",
    "accuracy_score(y_test, y_pred_RF)"
   ]
  },
  {
   "cell_type": "markdown",
   "id": "fa945556-a5b2-4fea-b8e9-a4ee596997c6",
   "metadata": {},
   "source": [
    "#### KNN"
   ]
  },
  {
   "cell_type": "code",
   "execution_count": 49,
   "id": "2c109759-b54e-4dae-94e0-0d10561745f8",
   "metadata": {},
   "outputs": [
    {
     "data": {
      "text/plain": [
       "KNeighborsClassifier()"
      ]
     },
     "execution_count": 49,
     "metadata": {},
     "output_type": "execute_result"
    }
   ],
   "source": [
    "from sklearn.neighbors import KNeighborsClassifier\n",
    "KNNclassifier = KNeighborsClassifier(n_neighbors = 5, metric = 'minkowski', p = 2)\n",
    "KNNclassifier.fit(X_train, y_train)"
   ]
  },
  {
   "cell_type": "code",
   "execution_count": 50,
   "id": "b64a3eb8-c03b-439d-9bca-4d45dc5298aa",
   "metadata": {},
   "outputs": [],
   "source": [
    "y_pred_KNN = KNNclassifier.predict(X_test)"
   ]
  },
  {
   "cell_type": "code",
   "execution_count": 51,
   "id": "bd270bf6-5cbb-47ea-b6d3-a5a2d677744c",
   "metadata": {},
   "outputs": [
    {
     "name": "stdout",
     "output_type": "stream",
     "text": [
      "[[72 24]\n",
      " [29 67]]\n"
     ]
    },
    {
     "data": {
      "text/plain": [
       "0.7239583333333334"
      ]
     },
     "execution_count": 51,
     "metadata": {},
     "output_type": "execute_result"
    }
   ],
   "source": [
    "from sklearn.metrics import confusion_matrix, accuracy_score\n",
    "cm = confusion_matrix(y_test, y_pred_KNN)\n",
    "print(cm)\n",
    "accuracy_score(y_test, y_pred_KNN)"
   ]
  },
  {
   "cell_type": "markdown",
   "id": "9f08109d-24ec-42b8-aec6-d4b1e70feb60",
   "metadata": {},
   "source": [
    "#### Naive Bayes"
   ]
  },
  {
   "cell_type": "code",
   "execution_count": 52,
   "id": "4c566a35-c433-4e36-aa48-06138d0501ee",
   "metadata": {},
   "outputs": [
    {
     "data": {
      "text/plain": [
       "GaussianNB()"
      ]
     },
     "execution_count": 52,
     "metadata": {},
     "output_type": "execute_result"
    }
   ],
   "source": [
    "from sklearn.naive_bayes import GaussianNB\n",
    "NBclassifier = GaussianNB()\n",
    "NBclassifier.fit(X_train, y_train)"
   ]
  },
  {
   "cell_type": "code",
   "execution_count": 53,
   "id": "16883dbd-8dc1-4c67-be7c-cf7feefb5a66",
   "metadata": {},
   "outputs": [],
   "source": [
    "y_pred_NB = NBclassifier.predict(X_test)"
   ]
  },
  {
   "cell_type": "code",
   "execution_count": 54,
   "id": "b1588bd7-cff3-4bd7-9456-0cc388e3528a",
   "metadata": {},
   "outputs": [
    {
     "name": "stdout",
     "output_type": "stream",
     "text": [
      "[[81 15]\n",
      " [31 65]]\n"
     ]
    },
    {
     "data": {
      "text/plain": [
       "0.7604166666666666"
      ]
     },
     "execution_count": 54,
     "metadata": {},
     "output_type": "execute_result"
    }
   ],
   "source": [
    "from sklearn.metrics import confusion_matrix, accuracy_score\n",
    "cm = confusion_matrix(y_test, y_pred_NB)\n",
    "print(cm)\n",
    "accuracy_score(y_test, y_pred_NB)"
   ]
  }
 ],
 "metadata": {
  "kernelspec": {
   "display_name": "Python 3 (ipykernel)",
   "language": "python",
   "name": "python3"
  },
  "language_info": {
   "codemirror_mode": {
    "name": "ipython",
    "version": 3
   },
   "file_extension": ".py",
   "mimetype": "text/x-python",
   "name": "python",
   "nbconvert_exporter": "python",
   "pygments_lexer": "ipython3",
   "version": "3.9.7"
  }
 },
 "nbformat": 4,
 "nbformat_minor": 5
}
