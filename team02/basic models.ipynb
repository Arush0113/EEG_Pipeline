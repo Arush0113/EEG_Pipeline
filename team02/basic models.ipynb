{
 "cells": [
  {
   "cell_type": "code",
   "execution_count": 133,
   "id": "3d2b14a9-521a-4462-a9dd-5f38a31ec099",
   "metadata": {},
   "outputs": [],
   "source": [
    "#Loading important libraries\n",
    "import numpy as np\n",
    "import tensorflow as tf\n",
    "import matplotlib.pyplot as plt\n",
    "%matplotlib inline"
   ]
  },
  {
   "cell_type": "code",
   "execution_count": 194,
   "id": "c19008ea-1d58-45b8-b06c-e90500af555d",
   "metadata": {},
   "outputs": [],
   "source": [
    "#np.savez('data1.npz', X = datars, y = main_y)\n",
    "loadfile = np.load(\"data1.npz\")\n",
    "datars = loadfile[\"X\"]\n",
    "y = loadfile[\"y\"]\n",
    "del loadfile"
   ]
  },
  {
   "cell_type": "code",
   "execution_count": 195,
   "id": "4921a87f-d0c5-427a-a6c8-f2efab3cddcc",
   "metadata": {},
   "outputs": [
    {
     "name": "stdout",
     "output_type": "stream",
     "text": [
      "(1875, 21411)\n",
      "(1875, 1)\n",
      "(1875, 21412)\n",
      "(1875, 21411)\n",
      "(1875,)\n"
     ]
    }
   ],
   "source": [
    "#Preparing main dataset\n",
    "datars = datars.reshape(datars.shape[0], -1)\n",
    "\n",
    "print(datars.shape)\n",
    "print(y.shape)\n",
    "main_dataset = np.concatenate((datars, y), axis = 1)\n",
    "print(main_dataset.shape)\n",
    "\n",
    "#Defining main x and y for training\n",
    "main_x = main_dataset[:, :-1]\n",
    "main_y = main_dataset[:, -1]\n",
    "print(main_x.shape)\n",
    "print(main_y.shape)"
   ]
  },
  {
   "cell_type": "code",
   "execution_count": 196,
   "id": "b5e9cdf3-dac0-43bb-9352-50ac0288eaa5",
   "metadata": {},
   "outputs": [],
   "source": [
    "# event_id = {\n",
    "#     \"taskstart\" : '9',\n",
    "#     \"cue\" : \"1\",\n",
    "#     \"go\" : \"2\",\n",
    "#     \"button press\" : \"5\",\n",
    "#     \"no-go\" : \"4\",\n",
    "#     \"task end\": \"10\",\n",
    "#     \"error 1\" : \"3\",\n",
    "#     \"error 2\" : \"6\",\n",
    "#     \"error 3\" : \"7\",\n",
    "#     \"error 4\" : \"8\",\n",
    "#     \"error 5\" : \"11\"\n",
    "# }\n",
    "# event_id"
   ]
  },
  {
   "cell_type": "code",
   "execution_count": 197,
   "id": "655c45dc-effa-4d94-af8d-9bf811b26b04",
   "metadata": {},
   "outputs": [
    {
     "name": "stdout",
     "output_type": "stream",
     "text": [
      "(1797, 21412)\n",
      "(1797, 21411)\n",
      "(1797,)\n",
      "[1.0, 2.0, 4.0, 5.0]\n",
      "[-3.20648044e-06 -2.80111604e-06 -3.31334102e-06 ...  2.44812170e-06\n",
      "  2.47693195e-06  2.83886060e-06]\n",
      "[ 6.60205261e-06  6.09627055e-06 -4.69704084e-06 ...  1.47611743e-05\n",
      "  1.50463891e-05  1.53258545e-05]\n"
     ]
    }
   ],
   "source": [
    "#Removing events which are not needed for current task\n",
    "required_events = [1, 2, 4, 5]    #Events to classify\n",
    "\n",
    "dataset = main_dataset[np.array(list(r[-1] in required_events for r in main_dataset))]\n",
    "\n",
    "print(dataset.shape)\n",
    "\n",
    "#Defining x and y\n",
    "x = dataset[:, :-1]\n",
    "y = dataset[:, -1]\n",
    "print(x.shape)\n",
    "print(y.shape)\n",
    "print(list(set(y)))\n",
    "\n",
    "permutations = np.random.permutation(len(x))\n",
    "# print(permutation)\n",
    "print(x[-1])\n",
    "x = x[permutations]\n",
    "y = y[permutations]\n",
    "print(x[-1])"
   ]
  },
  {
   "cell_type": "code",
   "execution_count": 198,
   "id": "4b28051d-7a05-4038-82c4-25c7409a0860",
   "metadata": {},
   "outputs": [
    {
     "name": "stdout",
     "output_type": "stream",
     "text": [
      "[0.0, 1.0, 2.0, 3.0]\n"
     ]
    }
   ],
   "source": [
    "#Encoding y\n",
    "dict = {}\n",
    "for i in range(len(required_events)):\n",
    "    dict[required_events[i]] = i\n",
    "    \n",
    "for i in range(len(y)):\n",
    "    y[i] = dict[y[i]]\n",
    "\n",
    "print(list(set(y)))"
   ]
  },
  {
   "cell_type": "markdown",
   "id": "544bf383-3a87-424b-b1be-e0477d3ad543",
   "metadata": {},
   "source": [
    "### Other Models"
   ]
  },
  {
   "cell_type": "code",
   "execution_count": 199,
   "id": "6b976fd1-f4cf-4461-a15f-0146b8198ba8",
   "metadata": {},
   "outputs": [],
   "source": [
    "import pandas as pd\n",
    "from sklearn.model_selection import cross_val_score\n",
    "from sklearn.metrics import confusion_matrix, accuracy_score\n",
    "from sklearn.model_selection import train_test_split\n",
    "X_train, X_test, y_train, y_test = train_test_split(x, y, test_size = 0.2, random_state = 0)"
   ]
  },
  {
   "cell_type": "code",
   "execution_count": 200,
   "id": "e185242d-6a56-41bd-b03c-914dc3a24721",
   "metadata": {},
   "outputs": [],
   "source": [
    "from sklearn.preprocessing import StandardScaler\n",
    "sc = StandardScaler()\n",
    "X_train = sc.fit_transform(X_train)\n",
    "X_test = sc.transform(X_test)"
   ]
  },
  {
   "cell_type": "markdown",
   "id": "86a77296-7643-4296-a557-121f39891efc",
   "metadata": {},
   "source": [
    "#### Logistic Regression"
   ]
  },
  {
   "cell_type": "code",
   "execution_count": 201,
   "id": "2f23dda5-8e24-4749-b795-8e032a8839ee",
   "metadata": {},
   "outputs": [
    {
     "data": {
      "text/plain": [
       "LogisticRegression(max_iter=1000, random_state=0)"
      ]
     },
     "execution_count": 201,
     "metadata": {},
     "output_type": "execute_result"
    }
   ],
   "source": [
    "from sklearn.linear_model import LogisticRegression\n",
    "Logclassifier = LogisticRegression(random_state = 0, max_iter = 1000)\n",
    "Logclassifier.fit(X_train, y_train)"
   ]
  },
  {
   "cell_type": "code",
   "execution_count": 202,
   "id": "f34d1a5b-5fe4-4be2-b9e0-c81b2dd03616",
   "metadata": {},
   "outputs": [],
   "source": [
    "y_pred_log = Logclassifier.predict(X_test)"
   ]
  },
  {
   "cell_type": "code",
   "execution_count": 203,
   "id": "3cf87573-8bb7-48b7-a975-d35836ff5709",
   "metadata": {},
   "outputs": [
    {
     "name": "stdout",
     "output_type": "stream",
     "text": [
      "[[99 21  9  7]\n",
      " [32 63  8  4]\n",
      " [ 6 11  4  2]\n",
      " [ 5  5  5 79]]\n"
     ]
    }
   ],
   "source": [
    "from sklearn.metrics import confusion_matrix\n",
    "cm_log = confusion_matrix(y_test, y_pred_log)\n",
    "print(cm_log)"
   ]
  },
  {
   "cell_type": "code",
   "execution_count": 204,
   "id": "b3916c66-3a6b-450d-aa27-c6d87b5e0a6f",
   "metadata": {},
   "outputs": [
    {
     "name": "stdout",
     "output_type": "stream",
     "text": [
      "Accuracy: 63.74 %\n",
      "Standard Deviation: 4.62 %\n"
     ]
    }
   ],
   "source": [
    "accuracies_log = cross_val_score(estimator = Logclassifier, X = X_train, y = y_train, cv = 10)\n",
    "accuracy_log = accuracies_log.mean()*100\n",
    "print(\"Accuracy: {:.2f} %\".format(accuracy_log))\n",
    "print(\"Standard Deviation: {:.2f} %\".format(accuracies_log.std()*100))"
   ]
  },
  {
   "cell_type": "markdown",
   "id": "fe4b8330-1f07-414c-9816-bf191dd6d84c",
   "metadata": {},
   "source": [
    "#### Kernal SVM"
   ]
  },
  {
   "cell_type": "code",
   "execution_count": 205,
   "id": "78bc11c5-4f54-4c49-8ddd-57ebb2cad049",
   "metadata": {},
   "outputs": [
    {
     "data": {
      "text/plain": [
       "SVC(random_state=0)"
      ]
     },
     "execution_count": 205,
     "metadata": {},
     "output_type": "execute_result"
    }
   ],
   "source": [
    "from sklearn.svm import SVC\n",
    "SVCclassifier = SVC(kernel = 'rbf', random_state = 0)\n",
    "SVCclassifier.fit(X_train, y_train)"
   ]
  },
  {
   "cell_type": "code",
   "execution_count": 206,
   "id": "a9e9d264-9acf-4269-9924-294db446b819",
   "metadata": {},
   "outputs": [],
   "source": [
    "y_pred_SVC = SVCclassifier.predict(X_test)"
   ]
  },
  {
   "cell_type": "code",
   "execution_count": 207,
   "id": "91daa5d7-dd54-452f-aadd-435521c15dd4",
   "metadata": {},
   "outputs": [
    {
     "name": "stdout",
     "output_type": "stream",
     "text": [
      "[[99 21  9  7]\n",
      " [32 63  8  4]\n",
      " [ 6 11  4  2]\n",
      " [ 5  5  5 79]]\n"
     ]
    },
    {
     "data": {
      "text/plain": [
       "0.6055555555555555"
      ]
     },
     "execution_count": 207,
     "metadata": {},
     "output_type": "execute_result"
    }
   ],
   "source": [
    "cm_SVC = confusion_matrix(y_test, y_pred_SVC)\n",
    "print(cm_log)\n",
    "accuracy_SVC = accuracy_score(y_test, y_pred_SVC)\n",
    "accuracy_SVC"
   ]
  },
  {
   "cell_type": "markdown",
   "id": "e96d6284-b62b-4356-8323-d2e2555f9375",
   "metadata": {},
   "source": [
    "#### Random Forest"
   ]
  },
  {
   "cell_type": "code",
   "execution_count": 208,
   "id": "5e0f6558-ec3a-4625-99a7-41670aae1cb0",
   "metadata": {},
   "outputs": [
    {
     "data": {
      "text/plain": [
       "RandomForestClassifier(criterion='entropy', n_estimators=10, random_state=0)"
      ]
     },
     "execution_count": 208,
     "metadata": {},
     "output_type": "execute_result"
    }
   ],
   "source": [
    "from sklearn.ensemble import RandomForestClassifier\n",
    "RFclassifier = RandomForestClassifier(n_estimators = 10, criterion = 'entropy', random_state = 0)\n",
    "RFclassifier.fit(X_train, y_train)"
   ]
  },
  {
   "cell_type": "code",
   "execution_count": 209,
   "id": "58bf5c19-d5ae-45c0-9b78-5e13d747fda5",
   "metadata": {},
   "outputs": [],
   "source": [
    "y_pred_RF = RFclassifier.predict(X_test)"
   ]
  },
  {
   "cell_type": "code",
   "execution_count": 210,
   "id": "21b42799-2c26-48c3-a7e2-9775f7b941f7",
   "metadata": {},
   "outputs": [
    {
     "name": "stdout",
     "output_type": "stream",
     "text": [
      "[[85 29  1 21]\n",
      " [52 42  0 13]\n",
      " [ 9 13  1  0]\n",
      " [36 11  1 46]]\n"
     ]
    },
    {
     "data": {
      "text/plain": [
       "0.48333333333333334"
      ]
     },
     "execution_count": 210,
     "metadata": {},
     "output_type": "execute_result"
    }
   ],
   "source": [
    "cm_RF = confusion_matrix(y_test, y_pred_RF)\n",
    "print(cm_RF)\n",
    "accuracy_RF = accuracy_score(y_test, y_pred_RF)\n",
    "accuracy_RF"
   ]
  },
  {
   "cell_type": "markdown",
   "id": "fa945556-a5b2-4fea-b8e9-a4ee596997c6",
   "metadata": {},
   "source": [
    "#### KNN"
   ]
  },
  {
   "cell_type": "code",
   "execution_count": 211,
   "id": "2c109759-b54e-4dae-94e0-0d10561745f8",
   "metadata": {},
   "outputs": [
    {
     "data": {
      "text/plain": [
       "KNeighborsClassifier()"
      ]
     },
     "execution_count": 211,
     "metadata": {},
     "output_type": "execute_result"
    }
   ],
   "source": [
    "from sklearn.neighbors import KNeighborsClassifier\n",
    "KNNclassifier = KNeighborsClassifier(n_neighbors = 5, metric = 'minkowski', p = 2)\n",
    "KNNclassifier.fit(X_train, y_train)"
   ]
  },
  {
   "cell_type": "code",
   "execution_count": 212,
   "id": "b64a3eb8-c03b-439d-9bca-4d45dc5298aa",
   "metadata": {},
   "outputs": [],
   "source": [
    "y_pred_KNN = KNNclassifier.predict(X_test)"
   ]
  },
  {
   "cell_type": "code",
   "execution_count": 213,
   "id": "bd270bf6-5cbb-47ea-b6d3-a5a2d677744c",
   "metadata": {},
   "outputs": [
    {
     "name": "stdout",
     "output_type": "stream",
     "text": [
      "[[89 31  1 15]\n",
      " [45 44  1 17]\n",
      " [13  7  0  3]\n",
      " [39  8  0 47]]\n"
     ]
    },
    {
     "data": {
      "text/plain": [
       "0.5"
      ]
     },
     "execution_count": 213,
     "metadata": {},
     "output_type": "execute_result"
    }
   ],
   "source": [
    "cm_KNN = confusion_matrix(y_test, y_pred_KNN)\n",
    "print(cm_KNN)\n",
    "accuracy_KNN = accuracy_score(y_test, y_pred_KNN)\n",
    "accuracy_KNN"
   ]
  },
  {
   "cell_type": "markdown",
   "id": "9f08109d-24ec-42b8-aec6-d4b1e70feb60",
   "metadata": {},
   "source": [
    "#### Naive Bayes"
   ]
  },
  {
   "cell_type": "code",
   "execution_count": 214,
   "id": "4c566a35-c433-4e36-aa48-06138d0501ee",
   "metadata": {},
   "outputs": [
    {
     "data": {
      "text/plain": [
       "GaussianNB()"
      ]
     },
     "execution_count": 214,
     "metadata": {},
     "output_type": "execute_result"
    }
   ],
   "source": [
    "from sklearn.naive_bayes import GaussianNB\n",
    "NBclassifier = GaussianNB()\n",
    "NBclassifier.fit(X_train, y_train)"
   ]
  },
  {
   "cell_type": "code",
   "execution_count": 215,
   "id": "16883dbd-8dc1-4c67-be7c-cf7feefb5a66",
   "metadata": {},
   "outputs": [],
   "source": [
    "y_pred_NB = NBclassifier.predict(X_test)"
   ]
  },
  {
   "cell_type": "code",
   "execution_count": 216,
   "id": "b1588bd7-cff3-4bd7-9456-0cc388e3528a",
   "metadata": {},
   "outputs": [
    {
     "name": "stdout",
     "output_type": "stream",
     "text": [
      "[[55 35  9 37]\n",
      " [28 51 10 18]\n",
      " [ 6  8  5  4]\n",
      " [14 14  5 61]]\n"
     ]
    },
    {
     "data": {
      "text/plain": [
       "0.4777777777777778"
      ]
     },
     "execution_count": 216,
     "metadata": {},
     "output_type": "execute_result"
    }
   ],
   "source": [
    "cm_NB = confusion_matrix(y_test, y_pred_NB)\n",
    "print(cm_NB)\n",
    "accuracy_NB = accuracy_score(y_test, y_pred_NB)\n",
    "accuracy_NB"
   ]
  },
  {
   "cell_type": "code",
   "execution_count": 217,
   "id": "94ac15a4-2f8f-4583-866a-b02ee44454e8",
   "metadata": {},
   "outputs": [],
   "source": [
    "from sklearn.metrics import roc_curve, auc"
   ]
  },
  {
   "cell_type": "code",
   "execution_count": 160,
   "id": "e98b5cc6-fb7e-4711-b1d5-1dd418d99ec7",
   "metadata": {},
   "outputs": [
    {
     "data": {
      "image/png": "[encoded data removed]",
      "text/plain": [
       "<Figure size 432x288 with 1 Axes>"
      ]
     },
     "metadata": {
      "needs_background": "light"
     },
     "output_type": "display_data"
    }
   ],
   "source": [
    "log_fpr, log_tpr, threshold = roc_curve(y_test, y_pred_log)\n",
    "auc_log = auc(log_fpr, log_tpr)\n",
    "SVC_fpr, SVC_tpr, threshold = roc_curve(y_test, y_pred_SVC)\n",
    "auc_SVC = auc(SVC_fpr, SVC_tpr)\n",
    "RF_fpr, RF_tpr, threshold = roc_curve(y_test, y_pred_RF)\n",
    "auc_RF = auc(RF_fpr, RF_tpr)\n",
    "KNN_fpr, KNN_tpr, threshold = roc_curve(y_test, y_pred_KNN)\n",
    "auc_KNN = auc(KNN_fpr, KNN_tpr)\n",
    "NB_fpr, NB_tpr, threshold = roc_curve(y_test, y_pred_NB)\n",
    "auc_NB = auc(NB_fpr, NB_tpr)\n",
    "\n",
    "fig = plt.figure()\n",
    "plt.plot(SVC_fpr, SVC_tpr, linestyle = '-', label = \"Suport Vector Machine (auc = %0.3f)\"%auc_SVC)\n",
    "plt.plot(log_fpr, log_tpr, linestyle = '-', label = \"Logarithimic regression (auc = %0.3f)\"%auc_log)\n",
    "plt.plot(RF_fpr, RF_tpr, linestyle = '-', label = \"Random Forest (auc = %0.3f)\"%auc_RF)\n",
    "plt.plot(KNN_fpr, KNN_tpr, linestyle = '-', label = \"K-Nearest Neighbors (auc = %0.3f)\"%auc_KNN)\n",
    "plt.plot(NB_fpr, NB_tpr, linestyle = '-', label = \"Naive Bayes (auc = %0.3f)\"%auc_NB)\n",
    "\n",
    "plt.xlabel(\"False Postive Rate\")\n",
    "plt.ylabel(\"True Positive Rate\")\n",
    "\n",
    "plt.legend()\n",
    "plt.show()"
   ]
  },
  {
   "cell_type": "markdown",
   "id": "f27a0ff9-5e47-4e13-b511-b9a8e9c7dac7",
   "metadata": {
    "tags": []
   },
   "source": [
    "## Logging in neptune"
   ]
  },
  {
   "cell_type": "code",
   "execution_count": 218,
   "id": "9fa67310-1a04-4299-bca2-523759e1eb5d",
   "metadata": {},
   "outputs": [
    {
     "name": "stdout",
     "output_type": "stream",
     "text": [
      "https://app.neptune.ai/sahilm75/EEG-pipeline/e/EEG-9\n",
      "Remember to stop your run once you’ve finished logging your metadata (https://docs.neptune.ai/api-reference/run#stop). It will be stopped automatically only when the notebook kernel/interactive console is terminated.\n"
     ]
    }
   ],
   "source": [
    "#Starting a session\n",
    "import neptune.new as neptune\n",
    "import neptune.new.integrations.sklearn as npt_utils\n",
    "\n",
    "run = neptune.init(\n",
    "    project=\"sahilm75/EEG-pipeline\",\n",
    "    api_token=\"eyJhcGlfYWRkcmVzcyI6Imh0dHBzOi8vYXBwLm5lcHR1bmUuYWkiLCJhcGlfdXJsIjoiaHR0cHM6Ly9hcHAubmVwdHVuZS5haSIsImFwaV9rZXkiOiJmY2QzOGU2NC1iZTJiLTQ2NGItOGZhNy1hM2YyN2MyN2FjMjkifQ==\",\n",
    ")"
   ]
  },
  {
   "cell_type": "code",
   "execution_count": 219,
   "id": "7488a813-f66b-4916-8b5d-03cb03e80c74",
   "metadata": {},
   "outputs": [],
   "source": [
    "def log_evaluations(foname):\n",
    "    run[foname+'/accuracy_log'] = accuracy_log\n",
    "    run[foname+'/accuracy_SVC'] = accuracy_SVC\n",
    "    run[foname+'/accuracy_RF'] = accuracy_RF\n",
    "    run[foname+'/accuracy_KNN'] = accuracy_KNN\n",
    "    run[foname+'/accuracy_NB'] = accuracy_NB\n",
    "    run[foname+'/cm_log'] = cm_log\n",
    "    run[foname+'/cm_SVC'] = cm_SVC\n",
    "    run[foname+'/cm_RF'] = cm_RF\n",
    "    run[foname+'/cm_KNN'] = cm_KNN\n",
    "    run[foname+'/cm_NB'] = cm_NB"
   ]
  },
  {
   "cell_type": "code",
   "execution_count": 220,
   "id": "5fc65615-995a-443f-9ff5-12eda0785d0d",
   "metadata": {},
   "outputs": [],
   "source": [
    "foname = \"cue, go, no_go, button press\"\n",
    "log_evaluations(foname)"
   ]
  },
  {
   "cell_type": "code",
   "execution_count": 164,
   "id": "be25d383-fb50-482d-940c-56b44e77caca",
   "metadata": {},
   "outputs": [],
   "source": [
    "run[foname+'/ROC'].upload(fig)"
   ]
  },
  {
   "cell_type": "code",
   "execution_count": 221,
   "id": "ed78707f-8d97-4b93-9a53-1f972d0e4f8c",
   "metadata": {},
   "outputs": [
    {
     "name": "stdout",
     "output_type": "stream",
     "text": [
      "Shutting down background jobs, please wait a moment...\n",
      "Done!\n"
     ]
    },
    {
     "name": "stderr",
     "output_type": "stream",
     "text": [
      "Waiting for the remaining 25 operations to synchronize with Neptune. Do not kill this process.\n"
     ]
    },
    {
     "name": "stdout",
     "output_type": "stream",
     "text": [
      "All 25 operations synced, thanks for waiting!\n"
     ]
    }
   ],
   "source": [
    "run.stop()"
   ]
  }
 ],
 "metadata": {
  "kernelspec": {
   "display_name": "Python 3 (ipykernel)",
   "language": "python",
   "name": "python3"
  },
  "language_info": {
   "codemirror_mode": {
    "name": "ipython",
    "version": 3
   },
   "file_extension": ".py",
   "mimetype": "text/x-python",
   "name": "python",
   "nbconvert_exporter": "python",
   "pygments_lexer": "ipython3",
   "version": "3.9.7"
  }
 },
 "nbformat": 4,
 "nbformat_minor": 5
}
