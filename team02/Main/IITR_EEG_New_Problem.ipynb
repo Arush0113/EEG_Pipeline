{
  "nbformat": 4,
  "nbformat_minor": 0,
  "metadata": {
    "colab": {
      "name": "IITR_EEG_New_Problem.ipynb",
      "provenance": [],
      "collapsed_sections": [],
      "include_colab_link": true
    },
    "kernelspec": {
      "name": "python3",
      "display_name": "Python 3"
    },
    "language_info": {
      "name": "python"
    }
  },
  "cells": [
    {
      "cell_type": "markdown",
      "metadata": {
        "id": "view-in-github",
        "colab_type": "text"
      },
      "source": [
        "<a href=\"https://colab.research.google.com/github/Arush0113/EEG_Pipeline-IITR/blob/main/team02/Main/IITR_EEG_New_Problem.ipynb\" target=\"_parent\"><img src=\"https://colab.research.google.com/assets/colab-badge.svg\" alt=\"Open In Colab\"/></a>"
      ]
    },
    {
      "cell_type": "code",
      "source": [
        "from google.colab import drive\n",
        "drive.mount('/content/drive')"
      ],
      "metadata": {
        "id": "mJxFwmqrSSzO",
        "colab": {
          "base_uri": "https://localhost:8080/"
        },
        "outputId": "52a5e46e-5eeb-461c-a26f-bac270c8c37b"
      },
      "execution_count": null,
      "outputs": [
        {
          "output_type": "stream",
          "name": "stdout",
          "text": [
            "Drive already mounted at /content/drive; to attempt to forcibly remount, call drive.mount(\"/content/drive\", force_remount=True).\n"
          ]
        }
      ]
    },
    {
      "cell_type": "code",
      "source": [
        "sys.path.insert(0,\"/content/drive/MyDrive/IITR EEG Intern/New Problem\")"
      ],
      "metadata": {
        "id": "NFRdYDjr00zo"
      },
      "execution_count": null,
      "outputs": []
    },
    {
      "cell_type": "code",
      "execution_count": null,
      "metadata": {
        "id": "MOa-aUIX5Y1B"
      },
      "outputs": [],
      "source": [
        "import tensorflow as tf\n",
        "from sklearn.model_selection import train_test_split\n",
        "from tensorflow.keras.models import Sequential\n",
        "from tensorflow.keras.layers import Dense, InputLayer\n",
        "import numpy as np\n",
        "from tensorboard.plugins.hparams import api as hp\n",
        "from tensorflow.keras.optimizers import Adam\n",
        "from sklearn.preprocessing import StandardScaler"
      ]
    },
    {
      "cell_type": "code",
      "source": [
        "# def read_data():\n",
        "#     X_data = np.zeros((2, 38252, 14))\n",
        "#     Y_data = np.zeros((2,))\n",
        "\n",
        "#     sequence_length = 50\n",
        "#     list_dataset = []\n",
        "\n",
        "#     for index in range(X_data.shape[0]):\n",
        "#         target = Y_data[index]     #taget shape -- (1,)\n",
        "#         targets = np.repeat(target, X_data[index].shape[0])\n",
        "#         dataset = tensorflow.keras.preprocessing.timeseries_dataset_from_array(X_data[index], targets, sequence_stride=50, sequence_length=50)\n",
        "#         list_dataset.append(dataset)\n",
        "\n",
        "#     dataset = list_dataset[0]\n",
        "#     for i in list_dataset[1:]:\n",
        "#         dataset = dataset.concatenate(i)\n",
        "#     training_elements = int(len(dataset)*0.7) \n",
        "\n",
        "#     train_dataset = dataset.take(training_elements)\n",
        "#     test_dataset = dataset.skip(training_elements) \n",
        "\n",
        "#     validation_elements = int(len(train_dataset)*0.2)\n",
        "#     validation_dataset = train_dataset.take(validation_elements)\n",
        "#     train_dataset = train_dataset.skip(validation_elements)\n",
        "#     return train_dataset,validation_dataset,test_dataset"
      ],
      "metadata": {
        "id": "_efLjLOm5f_0"
      },
      "execution_count": null,
      "outputs": []
    },
    {
      "cell_type": "code",
      "source": [
        "# train_dataset,validation_dataset,test_dataset = read_data()"
      ],
      "metadata": {
        "id": "YQYKXj0lqrlk"
      },
      "execution_count": null,
      "outputs": []
    },
    {
      "cell_type": "code",
      "source": [
        "import scipy.io\n",
        "mat = scipy.io.loadmat('/content/drive/MyDrive/IITR EEG Intern/New Problem/data/subject_01/worry_visual_rejection_data.mat')"
      ],
      "metadata": {
        "id": "8Y2USsgR5gGH"
      },
      "execution_count": null,
      "outputs": []
    },
    {
      "cell_type": "code",
      "source": [
        "type(mat)"
      ],
      "metadata": {
        "id": "1dNIkwCQ5gQf",
        "colab": {
          "base_uri": "https://localhost:8080/"
        },
        "outputId": "30012480-0744-45f8-e26f-ca182911580e"
      },
      "execution_count": null,
      "outputs": [
        {
          "output_type": "execute_result",
          "data": {
            "text/plain": [
              "dict"
            ]
          },
          "metadata": {},
          "execution_count": 41
        }
      ]
    },
    {
      "cell_type": "code",
      "source": [
        "mat.keys()"
      ],
      "metadata": {
        "id": "y2cqq_yR5gTb",
        "colab": {
          "base_uri": "https://localhost:8080/"
        },
        "outputId": "ecfcb4d4-2cbb-4c22-b035-a6783cc0c016"
      },
      "execution_count": null,
      "outputs": [
        {
          "output_type": "execute_result",
          "data": {
            "text/plain": [
              "dict_keys(['__header__', '__version__', '__globals__', 'hdr', 'label', 'time', 'trial', 'fsample', 'sampleinfo', 'trialinfo', 'cfg'])"
            ]
          },
          "metadata": {},
          "execution_count": 42
        }
      ]
    },
    {
      "cell_type": "code",
      "source": [
        "import glob\n",
        "import pandas as pd\n",
        "import numpy as np\n",
        "from scipy import io\n",
        "\n",
        "\n",
        "def create_file(data_path:str,n_subjects:int, channels='all',band='alpha'):\n",
        "    \"\"\"\n",
        "    A function to create the file by reading all the data.\n",
        "    Args:\n",
        "    ---------------\n",
        "        data_path: string; path to read data from\n",
        "        n_subjects: int; number of subjects \n",
        "    Returns:\n",
        "        final_data: numpy array; contains concatenated data of all conditions\n",
        "    ----------------\n",
        "    \"\"\"\n",
        "    subject_list = [\"subject_0\" + str(i) for i in range(1,10)]\n",
        "    subject_list.extend([\"subject_\" + str(i) for i in range(10,n_subjects+1)])\n",
        "    del subject_list[3:5] # Removes subject 4 and 5\n",
        "    # check if overwrite is True\n",
        "    l_breath_data = []\n",
        "    l_feet_data = []\n",
        "    l_future_data = []\n",
        "    l_worry_data = []\n",
        "    print(f\"Creating combined file for {channels} channels and {band} band\\n\")\n",
        "    \n",
        "    for dirs in glob.glob(data_path + str(\"/*\")):\n",
        "            if dirs.split('/')[-1] in subject_list: \n",
        "                for subject_files in glob.glob(dirs+str(\"/*\")):\n",
        "                    if subject_files.split(\"/\")[-1] == f\"breath_{channels}_{band}_data.mat\":\n",
        "                        content = io.loadmat(subject_files)[f'data_{channels}_{band}']\n",
        "                        l_breath_data.append(content)\n",
        "                        #print(f\"here with {subject_files}\")\n",
        "                    elif subject_files.split(\"/\")[-1] == f\"feet_{channels}_{band}_data.mat\":\n",
        "                        content = io.loadmat(subject_files)[f'data_{channels}_{band}']\n",
        "                        l_feet_data.append(content)\n",
        "                    elif subject_files.split(\"/\")[-1] == f\"future_{channels}_{band}_data.mat\":\n",
        "                        content = io.loadmat(subject_files)[f'data_{channels}_{band}']\n",
        "                        l_future_data.append(content)\n",
        "                    elif subject_files.split(\"/\")[-1] == f\"worry_{channels}_{band}_data.mat\":\n",
        "                        content = io.loadmat(subject_files)[f'data_{channels}_{band}']\n",
        "                        l_worry_data.append(content)\n",
        "                    else:\n",
        "                        continue\n",
        "\n",
        "    breath_data = np.concatenate(l_breath_data,axis=0)\n",
        "    feet_data = np.concatenate(l_feet_data,axis=0)\n",
        "    future_data = np.concatenate(l_future_data,axis=0)\n",
        "    worry_data = np.concatenate(l_worry_data,axis=0)\n",
        "    \n",
        "    # assert shapes and make sure they have four columns\n",
        "#     breath_data.shape,feet_data.shape,future_data.shape,worry_data.shape\n",
        "    \n",
        "    breath_labels = np.zeros(breath_data.shape[0])\n",
        "    feet_labels = np.ones(feet_data.shape[0])\n",
        "    future_labels = np.full(future_data.shape[0],2)\n",
        "    worry_labels = np.full(worry_data.shape[0],3)\n",
        "    \n",
        "    breath_data = np.c_[breath_data,breath_labels]\n",
        "    feet_data = np.c_[feet_data,feet_labels]\n",
        "    future_data = np.c_[future_data,future_labels]\n",
        "    worry_data = np.c_[worry_data,worry_labels]\n",
        "    \n",
        "    final_data = np.concatenate((breath_data,feet_data,future_data,worry_data),axis=0)\n",
        "    \n",
        "    data_frame = pd.DataFrame(final_data)\n",
        "    data_frame.to_csv(f\"{data_path}/combined_{channels}_{band}.csv\",index=None)\n",
        "\n",
        "    return data_frame"
      ],
      "metadata": {
        "id": "OwNQY9cdmLu_"
      },
      "execution_count": null,
      "outputs": []
    },
    {
      "cell_type": "code",
      "source": [
        "import glob\n",
        "import pandas as pd\n",
        "import numpy as np\n",
        "from scipy import io\n",
        "\n",
        "\n",
        "def create_file_subject_wise(file_path:str,n_subjects:int,channels=\"all\", band=\"alpha\"):\n",
        "    \"\"\"\n",
        "    A function to create the file by reading all the data.\n",
        "    Args:\n",
        "    ---------------\n",
        "        data_path: string; path to read data from\n",
        "        n_subjects: int; number of subjects \n",
        "    Returns:\n",
        "        final_data: numpy array; contains concatenated data of all conditions\n",
        "    ----------------\n",
        "    \"\"\"\n",
        "#     subject_list_part1 = [\"subject_0\"+str(i) for i in range(1,10)]\n",
        "#     subject_list_part2 = [\"subject_\" + str(i) for i in range(10,n_subjects+1)]\n",
        "#     subject_list_final = subject_list_part1 + subject_list_part2\n",
        "\n",
        "    l_breath_data = []\n",
        "    l_feet_data = []\n",
        "    l_future_data = []\n",
        "    l_worry_data = []\n",
        "    for subject_files in glob.glob(file_path+str(\"/*\")):\n",
        "        #print(f\"here {subject_files}\")\n",
        "        if subject_files.split(\"/\")[-1] == f\"breath_{channels}_{band}_data.mat\":\n",
        "            content = io.loadmat(subject_files)[f'data_{channels}_{band}']\n",
        "            l_breath_data.append(content)\n",
        "            #print(f\"here with {subject_files}\")\n",
        "        elif subject_files.split(\"/\")[-1] == f\"feet_{channels}_{band}_data.mat\":\n",
        "            content = io.loadmat(subject_files)[f'data_{channels}_{band}']\n",
        "            l_feet_data.append(content)\n",
        "        elif subject_files.split(\"/\")[-1] == f\"future_{channels}_{band}_data.mat\":\n",
        "            content = io.loadmat(subject_files)[f'data_{channels}_{band}']\n",
        "            l_future_data.append(content)\n",
        "        elif subject_files.split(\"/\")[-1] == f\"worry_{channels}_{band}_data.mat\":\n",
        "            content = io.loadmat(subject_files)[f'data_{channels}_{band}']\n",
        "            l_worry_data.append(content)\n",
        "        else:\n",
        "            continue\n",
        "\n",
        "    breath_data = np.concatenate(l_breath_data,axis=0)\n",
        "    feet_data = np.concatenate(l_feet_data,axis=0)\n",
        "    future_data = np.concatenate(l_future_data,axis=0)\n",
        "    worry_data = np.concatenate(l_worry_data,axis=0)\n",
        "\n",
        "    breath_labels = np.zeros(breath_data.shape[0])\n",
        "    feet_labels = np.ones(feet_data.shape[0])\n",
        "    future_labels = np.full(future_data.shape[0],2)\n",
        "    worry_labels = np.full(worry_data.shape[0],3)\n",
        "\n",
        "    breath_data = np.c_[breath_data,breath_labels]\n",
        "    feet_data = np.c_[feet_data,feet_labels]\n",
        "    future_data = np.c_[future_data,future_labels]\n",
        "    worry_data = np.c_[worry_data,worry_labels]\n",
        "\n",
        "    final_data = np.concatenate((breath_data,feet_data,future_data,worry_data),axis=0)\n",
        "\n",
        "    data_frame = pd.DataFrame(final_data)\n",
        "    data_frame.to_csv(file_path + str(f\"/combined_{channels}_{band}.csv\"),index=None)\n",
        "\n",
        "\n",
        "\n",
        "    return data_frame"
      ],
      "metadata": {
        "id": "SxK-vCCUmUim"
      },
      "execution_count": null,
      "outputs": []
    },
    {
      "cell_type": "code",
      "source": [
        "import os\n",
        "from pathlib import Path\n",
        "import glob\n",
        "import pandas as pd\n",
        "# from create_file import *\n",
        "# from create_file_subject_wise import *\n",
        "\n",
        "def read_data(file_path, data_path, n_subjects, channels=\"all\", band=\"alpha\",return_dataframe=False, overwrite=False):\n",
        "    \n",
        "    \"\"\"\n",
        "    A function to read the data from given file or create it.\n",
        "    \n",
        "    Args:\n",
        "    ---------------\n",
        "        file_path: string; check if the file exists or not\n",
        "        data_path: string; path to read data from\n",
        "        n_subjects: int; number of subjects \n",
        "        overwrite: boolean; whether to overwrite the existing data or not\n",
        "    \n",
        "    Returns:\n",
        "        x: Feature columns of the data read\n",
        "        y: labels of the data read\n",
        "    ----------------\n",
        "    \"\"\"\n",
        "    if not overwrite:\n",
        "        # check if the file exists and set exists\n",
        "        config = Path(file_path)\n",
        "        try:\n",
        "            absolute_path = config.resolve()\n",
        "            data = pd.read_csv(absolute_path)\n",
        "            print(f\"File found {file_path}\")\n",
        "        except FileNotFoundError as e:         \n",
        "            print(e)\n",
        "            print(\"\\n====================================\\n\")\n",
        "            print(f\"Reading the data and creating the file at {data_path}\")\n",
        "            data = create_file(data_path,n_subjects,channels=channels, band=band)\n",
        "    else:\n",
        "        data = create_file(data_path,n_subjects,channels=channels, band=band)\n",
        "   \n",
        "    data_np = np.array(data)\n",
        "    \n",
        "    x = data_np[:,0:data_np.shape[-1]-1]\n",
        "    y = data_np[:,data_np.shape[-1]-1]\n",
        "\n",
        "    if return_dataframe==False:\n",
        "        return x,y\n",
        "    else:\n",
        "        return x,y,data\n",
        "\n",
        "\n",
        "def read_data_subject_wise(file_path, data_path, n_subjects,channels=\"all\", band=\"alpha\",return_dataframe=False, overwrite=False):\n",
        "    \n",
        "    \"\"\"\n",
        "    A function to read the data from given file or create it.\n",
        "    \n",
        "    Args:\n",
        "    ---------------\n",
        "        file_path: string; check if the file exists or not\n",
        "        data_path: string; path to read data from\n",
        "        n_subjects: int; number of subjects \n",
        "        overwrite: boolean; whether to overwrite the existing data or not\n",
        "    \n",
        "    Returns:\n",
        "        x: Feature columns of the data read\n",
        "        y: labels of the data read\n",
        "    ----------------\n",
        "    \"\"\"\n",
        "    if not overwrite:\n",
        "        # check if the file exists and set exists\n",
        "        config = Path(file_path)\n",
        "        try:\n",
        "            absolute_path = config.resolve()\n",
        "            data = pd.read_csv(absolute_path)\n",
        "            print(f\"File found {file_path}\")\n",
        "        except FileNotFoundError as e:         \n",
        "            print(e)\n",
        "            print(\"\\n====================================\\n\")\n",
        "            print(f\"Reading the data and creating the file at {data_path}\")\n",
        "            data = create_file_subject_wise(data_path,n_subjects,channels=channels, band=band)\n",
        "    else:\n",
        "        data = create_file_subject_wise(data_path,n_subjects,channels=channels, band=band)\n",
        "   \n",
        "    #print(f\"Data read looks like {data.head()} and the shape of data is {data.shape}\")\n",
        "    data_np = np.array(data)\n",
        "    #print(data_np.shape)\n",
        "    x = data_np[:,0:data_np.shape[1]-1]\n",
        "    y = data_np[:,data_np.shape[1]-1]\n",
        "    \n",
        "    if return_dataframe==False:\n",
        "        return x,y\n",
        "    else:\n",
        "        return x,y,data"
      ],
      "metadata": {
        "id": "5pToAD4Flg-h"
      },
      "execution_count": null,
      "outputs": []
    },
    {
      "cell_type": "code",
      "source": [
        "!pip install keras-tuner"
      ],
      "metadata": {
        "id": "gt9Kpg9mmm48",
        "colab": {
          "base_uri": "https://localhost:8080/"
        },
        "outputId": "87a2f6cd-1b4c-4b57-bfb0-7b449a680eab"
      },
      "execution_count": null,
      "outputs": [
        {
          "output_type": "stream",
          "name": "stdout",
          "text": [
            "Requirement already satisfied: keras-tuner in /usr/local/lib/python3.7/dist-packages (1.1.0)\n",
            "Requirement already satisfied: packaging in /usr/local/lib/python3.7/dist-packages (from keras-tuner) (21.3)\n",
            "Requirement already satisfied: tensorboard in /usr/local/lib/python3.7/dist-packages (from keras-tuner) (2.7.0)\n",
            "Requirement already satisfied: ipython in /usr/local/lib/python3.7/dist-packages (from keras-tuner) (5.5.0)\n",
            "Requirement already satisfied: kt-legacy in /usr/local/lib/python3.7/dist-packages (from keras-tuner) (1.0.4)\n",
            "Requirement already satisfied: requests in /usr/local/lib/python3.7/dist-packages (from keras-tuner) (2.23.0)\n",
            "Requirement already satisfied: scipy in /usr/local/lib/python3.7/dist-packages (from keras-tuner) (1.4.1)\n",
            "Requirement already satisfied: numpy in /usr/local/lib/python3.7/dist-packages (from keras-tuner) (1.19.5)\n",
            "Requirement already satisfied: simplegeneric>0.8 in /usr/local/lib/python3.7/dist-packages (from ipython->keras-tuner) (0.8.1)\n",
            "Requirement already satisfied: traitlets>=4.2 in /usr/local/lib/python3.7/dist-packages (from ipython->keras-tuner) (5.1.1)\n",
            "Requirement already satisfied: pexpect in /usr/local/lib/python3.7/dist-packages (from ipython->keras-tuner) (4.8.0)\n",
            "Requirement already satisfied: prompt-toolkit<2.0.0,>=1.0.4 in /usr/local/lib/python3.7/dist-packages (from ipython->keras-tuner) (1.0.18)\n",
            "Requirement already satisfied: decorator in /usr/local/lib/python3.7/dist-packages (from ipython->keras-tuner) (4.4.2)\n",
            "Requirement already satisfied: pickleshare in /usr/local/lib/python3.7/dist-packages (from ipython->keras-tuner) (0.7.5)\n",
            "Requirement already satisfied: setuptools>=18.5 in /usr/local/lib/python3.7/dist-packages (from ipython->keras-tuner) (57.4.0)\n",
            "Requirement already satisfied: pygments in /usr/local/lib/python3.7/dist-packages (from ipython->keras-tuner) (2.6.1)\n",
            "Requirement already satisfied: wcwidth in /usr/local/lib/python3.7/dist-packages (from prompt-toolkit<2.0.0,>=1.0.4->ipython->keras-tuner) (0.2.5)\n",
            "Requirement already satisfied: six>=1.9.0 in /usr/local/lib/python3.7/dist-packages (from prompt-toolkit<2.0.0,>=1.0.4->ipython->keras-tuner) (1.15.0)\n",
            "Requirement already satisfied: pyparsing!=3.0.5,>=2.0.2 in /usr/local/lib/python3.7/dist-packages (from packaging->keras-tuner) (3.0.6)\n",
            "Requirement already satisfied: ptyprocess>=0.5 in /usr/local/lib/python3.7/dist-packages (from pexpect->ipython->keras-tuner) (0.7.0)\n",
            "Requirement already satisfied: urllib3!=1.25.0,!=1.25.1,<1.26,>=1.21.1 in /usr/local/lib/python3.7/dist-packages (from requests->keras-tuner) (1.24.3)\n",
            "Requirement already satisfied: chardet<4,>=3.0.2 in /usr/local/lib/python3.7/dist-packages (from requests->keras-tuner) (3.0.4)\n",
            "Requirement already satisfied: certifi>=2017.4.17 in /usr/local/lib/python3.7/dist-packages (from requests->keras-tuner) (2021.10.8)\n",
            "Requirement already satisfied: idna<3,>=2.5 in /usr/local/lib/python3.7/dist-packages (from requests->keras-tuner) (2.10)\n",
            "Requirement already satisfied: werkzeug>=0.11.15 in /usr/local/lib/python3.7/dist-packages (from tensorboard->keras-tuner) (1.0.1)\n",
            "Requirement already satisfied: wheel>=0.26 in /usr/local/lib/python3.7/dist-packages (from tensorboard->keras-tuner) (0.37.0)\n",
            "Requirement already satisfied: markdown>=2.6.8 in /usr/local/lib/python3.7/dist-packages (from tensorboard->keras-tuner) (3.3.6)\n",
            "Requirement already satisfied: grpcio>=1.24.3 in /usr/local/lib/python3.7/dist-packages (from tensorboard->keras-tuner) (1.42.0)\n",
            "Requirement already satisfied: tensorboard-data-server<0.7.0,>=0.6.0 in /usr/local/lib/python3.7/dist-packages (from tensorboard->keras-tuner) (0.6.1)\n",
            "Requirement already satisfied: protobuf>=3.6.0 in /usr/local/lib/python3.7/dist-packages (from tensorboard->keras-tuner) (3.17.3)\n",
            "Requirement already satisfied: absl-py>=0.4 in /usr/local/lib/python3.7/dist-packages (from tensorboard->keras-tuner) (0.12.0)\n",
            "Requirement already satisfied: google-auth-oauthlib<0.5,>=0.4.1 in /usr/local/lib/python3.7/dist-packages (from tensorboard->keras-tuner) (0.4.6)\n",
            "Requirement already satisfied: google-auth<3,>=1.6.3 in /usr/local/lib/python3.7/dist-packages (from tensorboard->keras-tuner) (1.35.0)\n",
            "Requirement already satisfied: tensorboard-plugin-wit>=1.6.0 in /usr/local/lib/python3.7/dist-packages (from tensorboard->keras-tuner) (1.8.0)\n",
            "Requirement already satisfied: rsa<5,>=3.1.4 in /usr/local/lib/python3.7/dist-packages (from google-auth<3,>=1.6.3->tensorboard->keras-tuner) (4.8)\n",
            "Requirement already satisfied: pyasn1-modules>=0.2.1 in /usr/local/lib/python3.7/dist-packages (from google-auth<3,>=1.6.3->tensorboard->keras-tuner) (0.2.8)\n",
            "Requirement already satisfied: cachetools<5.0,>=2.0.0 in /usr/local/lib/python3.7/dist-packages (from google-auth<3,>=1.6.3->tensorboard->keras-tuner) (4.2.4)\n",
            "Requirement already satisfied: requests-oauthlib>=0.7.0 in /usr/local/lib/python3.7/dist-packages (from google-auth-oauthlib<0.5,>=0.4.1->tensorboard->keras-tuner) (1.3.0)\n",
            "Requirement already satisfied: importlib-metadata>=4.4 in /usr/local/lib/python3.7/dist-packages (from markdown>=2.6.8->tensorboard->keras-tuner) (4.8.2)\n",
            "Requirement already satisfied: typing-extensions>=3.6.4 in /usr/local/lib/python3.7/dist-packages (from importlib-metadata>=4.4->markdown>=2.6.8->tensorboard->keras-tuner) (3.10.0.2)\n",
            "Requirement already satisfied: zipp>=0.5 in /usr/local/lib/python3.7/dist-packages (from importlib-metadata>=4.4->markdown>=2.6.8->tensorboard->keras-tuner) (3.6.0)\n",
            "Requirement already satisfied: pyasn1<0.5.0,>=0.4.6 in /usr/local/lib/python3.7/dist-packages (from pyasn1-modules>=0.2.1->google-auth<3,>=1.6.3->tensorboard->keras-tuner) (0.4.8)\n",
            "Requirement already satisfied: oauthlib>=3.0.0 in /usr/local/lib/python3.7/dist-packages (from requests-oauthlib>=0.7.0->google-auth-oauthlib<0.5,>=0.4.1->tensorboard->keras-tuner) (3.1.1)\n"
          ]
        }
      ]
    },
    {
      "cell_type": "code",
      "source": [
        "import kerastuner as kt\n",
        "from tensorboard.plugins.hparams import api as hp\n",
        "from kerastuner import HyperModel\n",
        "from tensorflow.keras.models import Sequential\n",
        "from tensorflow.keras.layers import Dense, InputLayer\n",
        "from kerastuner.tuners import Hyperband\n",
        "from tensorflow.keras.optimizers import Adam\n",
        "\n",
        "class Model(HyperModel):\n",
        "    def __init__(self, classifier):\n",
        "        self.classifier_name = classifier.name\n",
        "        self.act_values = classifier.act_values\n",
        "        self.LRs = classifier.LRs\n",
        "        self.min_value = classifier.min_value\n",
        "        self.max_value = classifier.max_value\n",
        "        self.step = classifier.step\n",
        "\n",
        "    def build(self, hp):\n",
        "        model = Sequential()\n",
        "        model.add(InputLayer(input_shape = (50, 14)))   \n",
        "        model.add(Dense(hp.Int(name = 'start_neurons', min_value = self.min_value, max_value = self.max_value, step = self.step),                               kernel_regularizer='l2', activation = hp.Choice(name = 'activation', values = list(self.act_values), ordered = False)))\n",
        "        model.add(Dense(1, kernel_regularizer='l2',activation = 'sigmoid'))\n",
        "        model.compile(optimizer = Adam( hp.Choice('learning_rate',\n",
        "                          values=list(self.LRs))),\n",
        "                        loss = 'binary_crossentropy',\n",
        "                        metrics = ['accuracy'])\n",
        "        return model\n",
        "    \n",
        "    def __str__(self):\n",
        "        return f\"The {self.classifier_name} is runnning with the configuration as defined in conf/classifier/{self.classifier_name}.yaml\""
      ],
      "metadata": {
        "id": "HLQkgsXap_b5"
      },
      "execution_count": null,
      "outputs": []
    },
    {
      "cell_type": "code",
      "source": [
        "# Adding path to import files from src folder\n",
        "import sys\n",
        "# insert at 1, 0 is the script path (or '' in REPL)\n",
        "# 1 in the insert function ensures that it’s loaded with higher priority and avoids some naming conflicts\n",
        "sys.path.insert(1, '../src')\n",
        "\n",
        "import glob \n",
        "import os\n",
        "import numpy as np\n",
        "import sklearn\n",
        "import logging\n",
        "from sklearn.model_selection import train_test_split\n",
        "from sklearn.model_selection import GridSearchCV\n",
        "from sklearn.svm import SVC\n",
        "from sklearn import metrics\n",
        "from sklearn.metrics import classification_report, confusion_matrix\n",
        "from sklearn.pipeline import Pipeline\n",
        "from sklearn.preprocessing import StandardScaler\n",
        "# from utils import *\n",
        "\n",
        "# Display progress logs on stdout\n",
        "logging.basicConfig(level=logging.INFO, format='%(asctime)s %(message)s')\n",
        "\n",
        "%load_ext autoreload\n",
        "%autoreload "
      ],
      "metadata": {
        "id": "pw6Ndo4Bqne4",
        "colab": {
          "base_uri": "https://localhost:8080/"
        },
        "outputId": "23e39fe3-49ed-44be-e8cd-24d639f5d12a"
      },
      "execution_count": null,
      "outputs": [
        {
          "output_type": "stream",
          "name": "stdout",
          "text": [
            "The autoreload extension is already loaded. To reload it, use:\n",
            "  %reload_ext autoreload\n"
          ]
        }
      ]
    },
    {
      "cell_type": "code",
      "source": [
        "n_subjects = 21\n",
        "data_path = \"/content/drive/MyDrive/IITR EEG Intern/New Problem/data/\"\n",
        "channels = \"occipital\"\n",
        "band= \"alpha\"\n",
        "file_path = f\"/content/drive/MyDrive/IITR EEG Intern/New Problem/data/combined_{channels}_{band}.csv\""
      ],
      "metadata": {
        "id": "PMfuzuVsqWao"
      },
      "execution_count": null,
      "outputs": []
    },
    {
      "cell_type": "code",
      "source": [
        "# /content/drive/MyDrive/IITR EEG Intern/New Problem/data/subject_01/worry_visual_rejection_data.mat"
      ],
      "metadata": {
        "id": "sJ6QGtVP0Bc9"
      },
      "execution_count": null,
      "outputs": []
    },
    {
      "cell_type": "code",
      "source": [
        "x, y  = read_data(file_path, data_path, n_subjects, channels=channels, band=band, overwrite=True)"
      ],
      "metadata": {
        "id": "gKXTpl_xzDsk",
        "colab": {
          "base_uri": "https://localhost:8080/"
        },
        "outputId": "260d0b37-d919-45c1-eb28-691c8bbc9873"
      },
      "execution_count": null,
      "outputs": [
        {
          "output_type": "stream",
          "name": "stdout",
          "text": [
            "Creating combined file for occipital channels and alpha band\n",
            "\n"
          ]
        }
      ]
    },
    {
      "cell_type": "code",
      "source": [
        "x.shape"
      ],
      "metadata": {
        "id": "uTwDP14ozHm8",
        "colab": {
          "base_uri": "https://localhost:8080/"
        },
        "outputId": "8af6fcff-7d91-42c6-e353-3f10eb3a1350"
      },
      "execution_count": null,
      "outputs": [
        {
          "output_type": "execute_result",
          "data": {
            "text/plain": [
              "(2472, 4)"
            ]
          },
          "metadata": {},
          "execution_count": 52
        }
      ]
    },
    {
      "cell_type": "code",
      "source": [
        "y.shape"
      ],
      "metadata": {
        "id": "T7uGOKc_3C07",
        "colab": {
          "base_uri": "https://localhost:8080/"
        },
        "outputId": "1e9b9148-db14-4ca2-ef18-4c0a4006c0fd"
      },
      "execution_count": null,
      "outputs": [
        {
          "output_type": "execute_result",
          "data": {
            "text/plain": [
              "(2472,)"
            ]
          },
          "metadata": {},
          "execution_count": 53
        }
      ]
    },
    {
      "cell_type": "code",
      "source": [
        "type(x)"
      ],
      "metadata": {
        "id": "tyPrvtKN3G4a",
        "colab": {
          "base_uri": "https://localhost:8080/"
        },
        "outputId": "1471b589-eed5-47f2-a4b0-85554711beac"
      },
      "execution_count": null,
      "outputs": [
        {
          "output_type": "execute_result",
          "data": {
            "text/plain": [
              "numpy.ndarray"
            ]
          },
          "metadata": {},
          "execution_count": 54
        }
      ]
    },
    {
      "cell_type": "code",
      "source": [
        "y"
      ],
      "metadata": {
        "id": "_LPW3Lin4DXL",
        "colab": {
          "base_uri": "https://localhost:8080/"
        },
        "outputId": "59ca8426-daa1-4296-ed8c-47af1d30624e"
      },
      "execution_count": null,
      "outputs": [
        {
          "output_type": "execute_result",
          "data": {
            "text/plain": [
              "array([0., 0., 0., ..., 3., 3., 3.])"
            ]
          },
          "metadata": {},
          "execution_count": 55
        }
      ]
    },
    {
      "cell_type": "code",
      "source": [
        "#printing all unique values in y\n",
        "list(set(y))"
      ],
      "metadata": {
        "colab": {
          "base_uri": "https://localhost:8080/"
        },
        "id": "MSeF7I6H4Yp7",
        "outputId": "cd852acd-b0ed-459d-f36e-d375995d1e35"
      },
      "execution_count": null,
      "outputs": [
        {
          "output_type": "execute_result",
          "data": {
            "text/plain": [
              "[0.0, 1.0, 2.0, 3.0]"
            ]
          },
          "metadata": {},
          "execution_count": 56
        }
      ]
    },
    {
      "cell_type": "code",
      "source": [
        "num_classes = 4\n",
        "y = tf.keras.utils.to_categorical(y, num_classes)\n",
        "y"
      ],
      "metadata": {
        "colab": {
          "base_uri": "https://localhost:8080/"
        },
        "id": "VNGE2dM-7HP7",
        "outputId": "e2a52191-a82d-471f-bfa0-f432ef954d97"
      },
      "execution_count": null,
      "outputs": [
        {
          "output_type": "execute_result",
          "data": {
            "text/plain": [
              "array([[1., 0., 0., 0.],\n",
              "       [1., 0., 0., 0.],\n",
              "       [1., 0., 0., 0.],\n",
              "       ...,\n",
              "       [0., 0., 0., 1.],\n",
              "       [0., 0., 0., 1.],\n",
              "       [0., 0., 0., 1.]], dtype=float32)"
            ]
          },
          "metadata": {},
          "execution_count": 59
        }
      ]
    },
    {
      "cell_type": "code",
      "source": [
        "x_train,x_temp,y_train,y_temp = train_test_split(x,y,test_size=0.30,shuffle=True,stratify=y,random_state=42)\n",
        "x_val,x_test,y_val,y_test = train_test_split(x_temp,y_temp,test_size=0.50,shuffle=True,stratify=y_temp,random_state=42)"
      ],
      "metadata": {
        "id": "DkXm0tlPGbgH"
      },
      "execution_count": null,
      "outputs": []
    },
    {
      "cell_type": "code",
      "source": [
        "# list(set(y))"
      ],
      "metadata": {
        "id": "YYNLVyXj7ND_"
      },
      "execution_count": null,
      "outputs": []
    },
    {
      "cell_type": "code",
      "source": [
        "import tensorflow as tf\n",
        "from tensorflow.keras.models import Sequential\n",
        "from tensorflow.keras.layers import Dense,Dropout,Flatten\n",
        "from tensorflow.keras.callbacks import EarlyStopping, ModelCheckpoint\n",
        "import matplotlib.pyplot as plt\n",
        "%matplotlib inline"
      ],
      "metadata": {
        "id": "MNvSiKoJ51dW"
      },
      "execution_count": null,
      "outputs": []
    },
    {
      "cell_type": "code",
      "source": [
        "#Creating model architecture\n",
        "\n",
        "num_classes = 4\n",
        "\n",
        "inp_shape = (4,)\n",
        "ip = tf.keras.Input(shape = inp_shape)\n",
        "dense1 = tf.keras.layers.Dense(units = 32, activation = 'relu', kernel_initializer = 'random_normal')(ip)\n",
        "dense2 = tf.keras.layers.Dense(units = 16, activation = 'relu', kernel_initializer = 'random_normal')(dense1)\n",
        "drop2 = tf.keras.layers.Dropout(.4)(dense2)\n",
        "out = tf.keras.layers.Dense(num_classes, activation = 'softmax')(drop2)\n",
        "\n",
        "mlp = tf.keras.Model(inputs = ip, outputs = out)\n",
        "mlp.summary()\n",
        "# inp_shape = (None, )"
      ],
      "metadata": {
        "colab": {
          "base_uri": "https://localhost:8080/"
        },
        "id": "hWyUMEbr4dvb",
        "outputId": "ddc0243c-d356-42c4-d111-8fc13c181893"
      },
      "execution_count": 91,
      "outputs": [
        {
          "output_type": "stream",
          "name": "stdout",
          "text": [
            "Model: \"model_4\"\n",
            "_________________________________________________________________\n",
            " Layer (type)                Output Shape              Param #   \n",
            "=================================================================\n",
            " input_6 (InputLayer)        [(None, 4)]               0         \n",
            "                                                                 \n",
            " dense_12 (Dense)            (None, 32)                160       \n",
            "                                                                 \n",
            " dense_13 (Dense)            (None, 16)                528       \n",
            "                                                                 \n",
            " dropout_4 (Dropout)         (None, 16)                0         \n",
            "                                                                 \n",
            " dense_14 (Dense)            (None, 4)                 68        \n",
            "                                                                 \n",
            "=================================================================\n",
            "Total params: 756\n",
            "Trainable params: 756\n",
            "Non-trainable params: 0\n",
            "_________________________________________________________________\n"
          ]
        }
      ]
    },
    {
      "cell_type": "code",
      "source": [
        "tf.keras.utils.plot_model(mlp)"
      ],
      "metadata": {
        "colab": {
          "base_uri": "https://localhost:8080/",
          "height": 466
        },
        "id": "xHmX1gYXImsY",
        "outputId": "8ce55ccf-83ab-4302-b764-9ca9fcc52feb"
      },
      "execution_count": 92,
      "outputs": [
        {
          "output_type": "execute_result",
          "data": {
            "image/png": "[encoded data removed]",
            "text/plain": [
              "<IPython.core.display.Image object>"
            ]
          },
          "metadata": {},
          "execution_count": 92
        }
      ]
    },
    {
      "cell_type": "code",
      "source": [
        "# Compiling the model\n",
        "mlp_earlystop = EarlyStopping(patience = 20, min_delta = 0.001, monitor = 'val_acc')\n",
        "\n",
        "path = 'mlp_checkpoint/checkpoint_{epoch:02d}';\n",
        "mlp_checkpoint = ModelCheckpoint(filepath = path,\n",
        "                            verbose = 1,\n",
        "                            monitor = 'val_acc',\n",
        "                            save_freq = 'epoch',\n",
        "                            save_best_only = True,\n",
        "                            save_weights_only = True)\n",
        "\n",
        "mlp.compile(loss = 'categorical_crossentropy', metrics = ['acc'], optimizer = 'adam')"
      ],
      "metadata": {
        "id": "xe-xKwU35mK-"
      },
      "execution_count": null,
      "outputs": []
    },
    {
      "cell_type": "code",
      "source": [
        "mlp_history = mlp.fit(x_train, y_train,\n",
        "                      validation_data = (x_temp, y_temp),\n",
        "                      epochs = 100,\n",
        "                      batch_size = 32,\n",
        "                      shuffle = True,\n",
        "                      callbacks = [mlp_earlystop, mlp_checkpoint],\n",
        "                     ) #Fitting the model"
      ],
      "metadata": {
        "colab": {
          "base_uri": "https://localhost:8080/"
        },
        "id": "y_EFlgZ-5r2M",
        "outputId": "889bfec2-c1b6-4d60-aa20-0e48e67cf3aa"
      },
      "execution_count": null,
      "outputs": [
        {
          "output_type": "stream",
          "name": "stdout",
          "text": [
            "Epoch 1/100\n",
            "41/55 [=====================>........] - ETA: 0s - loss: 1.3615 - acc: 0.2912\n",
            "Epoch 00001: val_acc improved from -inf to 0.36253, saving model to mlp_checkpoint/checkpoint_01\n",
            "55/55 [==============================] - 2s 13ms/step - loss: 1.3556 - acc: 0.3006 - val_loss: 1.3085 - val_acc: 0.3625\n",
            "Epoch 2/100\n",
            "46/55 [========================>.....] - ETA: 0s - loss: 1.2985 - acc: 0.3512\n",
            "Epoch 00002: val_acc improved from 0.36253 to 0.37601, saving model to mlp_checkpoint/checkpoint_02\n",
            "55/55 [==============================] - 0s 8ms/step - loss: 1.2948 - acc: 0.3480 - val_loss: 1.2434 - val_acc: 0.3760\n",
            "Epoch 3/100\n",
            "51/55 [==========================>...] - ETA: 0s - loss: 1.2447 - acc: 0.3744\n",
            "Epoch 00003: val_acc improved from 0.37601 to 0.38140, saving model to mlp_checkpoint/checkpoint_03\n",
            "55/55 [==============================] - 0s 6ms/step - loss: 1.2427 - acc: 0.3734 - val_loss: 1.1803 - val_acc: 0.3814\n",
            "Epoch 4/100\n",
            "44/55 [=======================>......] - ETA: 0s - loss: 1.2086 - acc: 0.3651\n",
            "Epoch 00004: val_acc improved from 0.38140 to 0.38949, saving model to mlp_checkpoint/checkpoint_04\n",
            "55/55 [==============================] - 0s 6ms/step - loss: 1.2064 - acc: 0.3642 - val_loss: 1.1507 - val_acc: 0.3895\n",
            "Epoch 5/100\n",
            "55/55 [==============================] - ETA: 0s - loss: 1.1833 - acc: 0.3647\n",
            "Epoch 00005: val_acc did not improve from 0.38949\n",
            "55/55 [==============================] - 0s 6ms/step - loss: 1.1833 - acc: 0.3647 - val_loss: 1.1348 - val_acc: 0.3868\n",
            "Epoch 6/100\n",
            "46/55 [========================>.....] - ETA: 0s - loss: 1.1786 - acc: 0.3791\n",
            "Epoch 00006: val_acc improved from 0.38949 to 0.39757, saving model to mlp_checkpoint/checkpoint_06\n",
            "55/55 [==============================] - 0s 5ms/step - loss: 1.1782 - acc: 0.3751 - val_loss: 1.1264 - val_acc: 0.3976\n",
            "Epoch 7/100\n",
            "49/55 [=========================>....] - ETA: 0s - loss: 1.1564 - acc: 0.3878\n",
            "Epoch 00007: val_acc improved from 0.39757 to 0.41914, saving model to mlp_checkpoint/checkpoint_07\n",
            "55/55 [==============================] - 1s 11ms/step - loss: 1.1621 - acc: 0.3844 - val_loss: 1.1157 - val_acc: 0.4191\n",
            "Epoch 8/100\n",
            "53/55 [===========================>..] - ETA: 0s - loss: 1.1605 - acc: 0.3785\n",
            "Epoch 00008: val_acc did not improve from 0.41914\n",
            "55/55 [==============================] - 1s 11ms/step - loss: 1.1629 - acc: 0.3763 - val_loss: 1.1150 - val_acc: 0.4070\n",
            "Epoch 9/100\n",
            "48/55 [=========================>....] - ETA: 0s - loss: 1.1624 - acc: 0.3861\n",
            "Epoch 00009: val_acc improved from 0.41914 to 0.42857, saving model to mlp_checkpoint/checkpoint_09\n",
            "55/55 [==============================] - 1s 10ms/step - loss: 1.1542 - acc: 0.3936 - val_loss: 1.1100 - val_acc: 0.4286\n",
            "Epoch 10/100\n",
            "48/55 [=========================>....] - ETA: 0s - loss: 1.1576 - acc: 0.3711\n",
            "Epoch 00010: val_acc did not improve from 0.42857\n",
            "55/55 [==============================] - 0s 5ms/step - loss: 1.1563 - acc: 0.3694 - val_loss: 1.1083 - val_acc: 0.4151\n",
            "Epoch 11/100\n",
            "45/55 [=======================>......] - ETA: 0s - loss: 1.1615 - acc: 0.3854\n",
            "Epoch 00011: val_acc did not improve from 0.42857\n",
            "55/55 [==============================] - 0s 7ms/step - loss: 1.1563 - acc: 0.3908 - val_loss: 1.1095 - val_acc: 0.4016\n",
            "Epoch 12/100\n",
            "43/55 [======================>.......] - ETA: 0s - loss: 1.1463 - acc: 0.3772\n",
            "Epoch 00012: val_acc did not improve from 0.42857\n",
            "55/55 [==============================] - 0s 6ms/step - loss: 1.1502 - acc: 0.3850 - val_loss: 1.1024 - val_acc: 0.4272\n",
            "Epoch 13/100\n",
            "51/55 [==========================>...] - ETA: 0s - loss: 1.1499 - acc: 0.3854\n",
            "Epoch 00013: val_acc did not improve from 0.42857\n",
            "55/55 [==============================] - 0s 6ms/step - loss: 1.1488 - acc: 0.3884 - val_loss: 1.1059 - val_acc: 0.4030\n",
            "Epoch 14/100\n",
            "52/55 [===========================>..] - ETA: 0s - loss: 1.1479 - acc: 0.4141\n",
            "Epoch 00014: val_acc did not improve from 0.42857\n",
            "55/55 [==============================] - 0s 6ms/step - loss: 1.1487 - acc: 0.4127 - val_loss: 1.1009 - val_acc: 0.4111\n",
            "Epoch 15/100\n",
            "38/55 [===================>..........] - ETA: 0s - loss: 1.1289 - acc: 0.4087\n",
            "Epoch 00015: val_acc did not improve from 0.42857\n",
            "55/55 [==============================] - 0s 4ms/step - loss: 1.1425 - acc: 0.4000 - val_loss: 1.1026 - val_acc: 0.4030\n",
            "Epoch 16/100\n",
            "53/55 [===========================>..] - ETA: 0s - loss: 1.1498 - acc: 0.3827\n",
            "Epoch 00016: val_acc did not improve from 0.42857\n",
            "55/55 [==============================] - 0s 3ms/step - loss: 1.1473 - acc: 0.3855 - val_loss: 1.0954 - val_acc: 0.4178\n",
            "Epoch 17/100\n",
            "30/55 [===============>..............] - ETA: 0s - loss: 1.1322 - acc: 0.4042\n",
            "Epoch 00017: val_acc improved from 0.42857 to 0.43666, saving model to mlp_checkpoint/checkpoint_17\n",
            "55/55 [==============================] - 0s 3ms/step - loss: 1.1409 - acc: 0.4000 - val_loss: 1.0943 - val_acc: 0.4367\n",
            "Epoch 18/100\n",
            "53/55 [===========================>..] - ETA: 0s - loss: 1.1452 - acc: 0.3927\n",
            "Epoch 00018: val_acc improved from 0.43666 to 0.43801, saving model to mlp_checkpoint/checkpoint_18\n",
            "55/55 [==============================] - 0s 4ms/step - loss: 1.1463 - acc: 0.3908 - val_loss: 1.0948 - val_acc: 0.4380\n",
            "Epoch 19/100\n",
            "53/55 [===========================>..] - ETA: 0s - loss: 1.1411 - acc: 0.3897\n",
            "Epoch 00019: val_acc did not improve from 0.43801\n",
            "55/55 [==============================] - 0s 4ms/step - loss: 1.1414 - acc: 0.3896 - val_loss: 1.0991 - val_acc: 0.4191\n",
            "Epoch 20/100\n",
            "29/55 [==============>...............] - ETA: 0s - loss: 1.1328 - acc: 0.4062\n",
            "Epoch 00020: val_acc did not improve from 0.43801\n",
            "55/55 [==============================] - 0s 3ms/step - loss: 1.1391 - acc: 0.3948 - val_loss: 1.0888 - val_acc: 0.4367\n",
            "Epoch 21/100\n",
            "53/55 [===========================>..] - ETA: 0s - loss: 1.1409 - acc: 0.3945\n",
            "Epoch 00021: val_acc did not improve from 0.43801\n",
            "55/55 [==============================] - 0s 4ms/step - loss: 1.1403 - acc: 0.3960 - val_loss: 1.0945 - val_acc: 0.4111\n",
            "Epoch 22/100\n",
            "32/55 [================>.............] - ETA: 0s - loss: 1.1269 - acc: 0.4014\n",
            "Epoch 00022: val_acc did not improve from 0.43801\n",
            "55/55 [==============================] - 0s 3ms/step - loss: 1.1371 - acc: 0.3983 - val_loss: 1.0919 - val_acc: 0.4286\n",
            "Epoch 23/100\n",
            "30/55 [===============>..............] - ETA: 0s - loss: 1.1286 - acc: 0.3771\n",
            "Epoch 00023: val_acc did not improve from 0.43801\n",
            "55/55 [==============================] - 0s 3ms/step - loss: 1.1395 - acc: 0.3896 - val_loss: 1.0926 - val_acc: 0.4205\n",
            "Epoch 24/100\n",
            "48/55 [=========================>....] - ETA: 0s - loss: 1.1360 - acc: 0.3906\n",
            "Epoch 00024: val_acc did not improve from 0.43801\n",
            "55/55 [==============================] - 0s 4ms/step - loss: 1.1341 - acc: 0.3908 - val_loss: 1.0873 - val_acc: 0.4299\n",
            "Epoch 25/100\n",
            "53/55 [===========================>..] - ETA: 0s - loss: 1.1376 - acc: 0.3886\n",
            "Epoch 00025: val_acc did not improve from 0.43801\n",
            "55/55 [==============================] - 0s 4ms/step - loss: 1.1381 - acc: 0.3861 - val_loss: 1.0873 - val_acc: 0.4340\n",
            "Epoch 26/100\n",
            "47/55 [========================>.....] - ETA: 0s - loss: 1.1395 - acc: 0.3943\n",
            "Epoch 00026: val_acc did not improve from 0.43801\n",
            "55/55 [==============================] - 0s 4ms/step - loss: 1.1390 - acc: 0.3890 - val_loss: 1.0854 - val_acc: 0.4326\n",
            "Epoch 27/100\n",
            "53/55 [===========================>..] - ETA: 0s - loss: 1.1308 - acc: 0.3892\n",
            "Epoch 00027: val_acc did not improve from 0.43801\n",
            "55/55 [==============================] - 0s 4ms/step - loss: 1.1319 - acc: 0.3884 - val_loss: 1.0873 - val_acc: 0.4178\n",
            "Epoch 28/100\n",
            "38/55 [===================>..........] - ETA: 0s - loss: 1.1443 - acc: 0.3898\n",
            "Epoch 00028: val_acc did not improve from 0.43801\n",
            "55/55 [==============================] - 0s 3ms/step - loss: 1.1352 - acc: 0.3994 - val_loss: 1.0848 - val_acc: 0.4299\n",
            "Epoch 29/100\n",
            "45/55 [=======================>......] - ETA: 0s - loss: 1.1352 - acc: 0.4028\n",
            "Epoch 00029: val_acc did not improve from 0.43801\n",
            "55/55 [==============================] - 0s 3ms/step - loss: 1.1284 - acc: 0.4052 - val_loss: 1.0859 - val_acc: 0.4313\n",
            "Epoch 30/100\n",
            "28/55 [==============>...............] - ETA: 0s - loss: 1.1419 - acc: 0.3783\n",
            "Epoch 00030: val_acc did not improve from 0.43801\n",
            "55/55 [==============================] - 0s 3ms/step - loss: 1.1325 - acc: 0.3988 - val_loss: 1.0846 - val_acc: 0.4232\n",
            "Epoch 31/100\n",
            "28/55 [==============>...............] - ETA: 0s - loss: 1.1430 - acc: 0.4018\n",
            "Epoch 00031: val_acc did not improve from 0.43801\n",
            "55/55 [==============================] - 0s 3ms/step - loss: 1.1314 - acc: 0.4121 - val_loss: 1.0849 - val_acc: 0.4124\n",
            "Epoch 32/100\n",
            "28/55 [==============>...............] - ETA: 0s - loss: 1.1226 - acc: 0.4118\n",
            "Epoch 00032: val_acc did not improve from 0.43801\n",
            "55/55 [==============================] - 0s 3ms/step - loss: 1.1313 - acc: 0.4006 - val_loss: 1.0867 - val_acc: 0.4178\n",
            "Epoch 33/100\n",
            "27/55 [=============>................] - ETA: 0s - loss: 1.1258 - acc: 0.4074\n",
            "Epoch 00033: val_acc did not improve from 0.43801\n",
            "55/55 [==============================] - 0s 3ms/step - loss: 1.1288 - acc: 0.4121 - val_loss: 1.0865 - val_acc: 0.4205\n",
            "Epoch 34/100\n",
            "28/55 [==============>...............] - ETA: 0s - loss: 1.1267 - acc: 0.4107\n",
            "Epoch 00034: val_acc did not improve from 0.43801\n",
            "55/55 [==============================] - 0s 3ms/step - loss: 1.1319 - acc: 0.4087 - val_loss: 1.0811 - val_acc: 0.4272\n",
            "Epoch 35/100\n",
            "54/55 [============================>.] - ETA: 0s - loss: 1.1311 - acc: 0.3918\n",
            "Epoch 00035: val_acc did not improve from 0.43801\n",
            "55/55 [==============================] - 0s 4ms/step - loss: 1.1304 - acc: 0.3925 - val_loss: 1.0844 - val_acc: 0.4313\n",
            "Epoch 36/100\n",
            "28/55 [==============>...............] - ETA: 0s - loss: 1.1165 - acc: 0.4129\n",
            "Epoch 00036: val_acc did not improve from 0.43801\n",
            "55/55 [==============================] - 0s 3ms/step - loss: 1.1252 - acc: 0.4058 - val_loss: 1.0834 - val_acc: 0.4326\n",
            "Epoch 37/100\n",
            "45/55 [=======================>......] - ETA: 0s - loss: 1.1232 - acc: 0.4208\n",
            "Epoch 00037: val_acc improved from 0.43801 to 0.44609, saving model to mlp_checkpoint/checkpoint_37\n",
            "55/55 [==============================] - 0s 3ms/step - loss: 1.1254 - acc: 0.4150 - val_loss: 1.0775 - val_acc: 0.4461\n",
            "Epoch 38/100\n",
            "30/55 [===============>..............] - ETA: 0s - loss: 1.1266 - acc: 0.4219\n",
            "Epoch 00038: val_acc did not improve from 0.44609\n",
            "55/55 [==============================] - 0s 3ms/step - loss: 1.1283 - acc: 0.4162 - val_loss: 1.0798 - val_acc: 0.4340\n",
            "Epoch 39/100\n",
            "29/55 [==============>...............] - ETA: 0s - loss: 1.1154 - acc: 0.4106\n",
            "Epoch 00039: val_acc did not improve from 0.44609\n",
            "55/55 [==============================] - 0s 3ms/step - loss: 1.1217 - acc: 0.4092 - val_loss: 1.0778 - val_acc: 0.4326\n",
            "Epoch 40/100\n",
            "29/55 [==============>...............] - ETA: 0s - loss: 1.1220 - acc: 0.4073\n",
            "Epoch 00040: val_acc did not improve from 0.44609\n",
            "55/55 [==============================] - 0s 3ms/step - loss: 1.1265 - acc: 0.4127 - val_loss: 1.0806 - val_acc: 0.4326\n",
            "Epoch 41/100\n",
            "50/55 [==========================>...] - ETA: 0s - loss: 1.1248 - acc: 0.4125\n",
            "Epoch 00041: val_acc did not improve from 0.44609\n",
            "55/55 [==============================] - 0s 3ms/step - loss: 1.1299 - acc: 0.4069 - val_loss: 1.0808 - val_acc: 0.4353\n",
            "Epoch 42/100\n",
            "54/55 [============================>.] - ETA: 0s - loss: 1.1277 - acc: 0.4045\n",
            "Epoch 00042: val_acc did not improve from 0.44609\n",
            "55/55 [==============================] - 0s 3ms/step - loss: 1.1278 - acc: 0.4040 - val_loss: 1.0777 - val_acc: 0.4286\n",
            "Epoch 43/100\n",
            "42/55 [=====================>........] - ETA: 0s - loss: 1.1268 - acc: 0.4048\n",
            "Epoch 00043: val_acc did not improve from 0.44609\n",
            "55/55 [==============================] - 0s 4ms/step - loss: 1.1294 - acc: 0.4069 - val_loss: 1.0813 - val_acc: 0.4326\n",
            "Epoch 44/100\n",
            "50/55 [==========================>...] - ETA: 0s - loss: 1.1300 - acc: 0.4025\n",
            "Epoch 00044: val_acc did not improve from 0.44609\n",
            "55/55 [==============================] - 0s 3ms/step - loss: 1.1289 - acc: 0.4000 - val_loss: 1.0784 - val_acc: 0.4420\n",
            "Epoch 45/100\n",
            "30/55 [===============>..............] - ETA: 0s - loss: 1.1312 - acc: 0.4010\n",
            "Epoch 00045: val_acc did not improve from 0.44609\n",
            "55/55 [==============================] - 0s 3ms/step - loss: 1.1300 - acc: 0.4075 - val_loss: 1.0763 - val_acc: 0.4367\n",
            "Epoch 46/100\n",
            "29/55 [==============>...............] - ETA: 0s - loss: 1.1018 - acc: 0.4300\n",
            "Epoch 00046: val_acc did not improve from 0.44609\n",
            "55/55 [==============================] - 0s 3ms/step - loss: 1.1245 - acc: 0.4121 - val_loss: 1.0777 - val_acc: 0.4394\n",
            "Epoch 47/100\n",
            "53/55 [===========================>..] - ETA: 0s - loss: 1.1320 - acc: 0.4057\n",
            "Epoch 00047: val_acc did not improve from 0.44609\n",
            "55/55 [==============================] - 0s 3ms/step - loss: 1.1348 - acc: 0.4052 - val_loss: 1.0831 - val_acc: 0.4299\n",
            "Epoch 48/100\n",
            "30/55 [===============>..............] - ETA: 0s - loss: 1.1327 - acc: 0.3865\n",
            "Epoch 00048: val_acc did not improve from 0.44609\n",
            "55/55 [==============================] - 0s 3ms/step - loss: 1.1274 - acc: 0.4029 - val_loss: 1.0737 - val_acc: 0.4407\n",
            "Epoch 49/100\n",
            "29/55 [==============>...............] - ETA: 0s - loss: 1.1060 - acc: 0.4343\n",
            "Epoch 00049: val_acc did not improve from 0.44609\n",
            "55/55 [==============================] - 0s 3ms/step - loss: 1.1244 - acc: 0.4225 - val_loss: 1.0768 - val_acc: 0.4407\n",
            "Epoch 50/100\n",
            "31/55 [===============>..............] - ETA: 0s - loss: 1.1436 - acc: 0.4093\n",
            "Epoch 00050: val_acc did not improve from 0.44609\n",
            "55/55 [==============================] - 0s 3ms/step - loss: 1.1215 - acc: 0.4191 - val_loss: 1.0782 - val_acc: 0.4447\n",
            "Epoch 51/100\n",
            "33/55 [=================>............] - ETA: 0s - loss: 1.1213 - acc: 0.4167\n",
            "Epoch 00051: val_acc improved from 0.44609 to 0.45553, saving model to mlp_checkpoint/checkpoint_51\n",
            "55/55 [==============================] - 0s 3ms/step - loss: 1.1257 - acc: 0.4173 - val_loss: 1.0730 - val_acc: 0.4555\n",
            "Epoch 52/100\n",
            "52/55 [===========================>..] - ETA: 0s - loss: 1.1247 - acc: 0.4093\n",
            "Epoch 00052: val_acc did not improve from 0.45553\n",
            "55/55 [==============================] - 0s 3ms/step - loss: 1.1252 - acc: 0.4087 - val_loss: 1.0734 - val_acc: 0.4542\n",
            "Epoch 53/100\n",
            "45/55 [=======================>......] - ETA: 0s - loss: 1.1124 - acc: 0.4340\n",
            "Epoch 00053: val_acc did not improve from 0.45553\n",
            "55/55 [==============================] - 0s 4ms/step - loss: 1.1174 - acc: 0.4260 - val_loss: 1.0711 - val_acc: 0.4488\n",
            "Epoch 54/100\n",
            "29/55 [==============>...............] - ETA: 0s - loss: 1.1456 - acc: 0.4009\n",
            "Epoch 00054: val_acc did not improve from 0.45553\n",
            "55/55 [==============================] - 0s 3ms/step - loss: 1.1280 - acc: 0.4098 - val_loss: 1.0828 - val_acc: 0.4326\n",
            "Epoch 55/100\n",
            "50/55 [==========================>...] - ETA: 0s - loss: 1.1200 - acc: 0.4200\n",
            "Epoch 00055: val_acc did not improve from 0.45553\n",
            "55/55 [==============================] - 0s 4ms/step - loss: 1.1196 - acc: 0.4231 - val_loss: 1.0940 - val_acc: 0.4151\n",
            "Epoch 56/100\n",
            "29/55 [==============>...............] - ETA: 0s - loss: 1.1241 - acc: 0.4353\n",
            "Epoch 00056: val_acc did not improve from 0.45553\n",
            "55/55 [==============================] - 0s 3ms/step - loss: 1.1184 - acc: 0.4260 - val_loss: 1.0691 - val_acc: 0.4420\n",
            "Epoch 57/100\n",
            "32/55 [================>.............] - ETA: 0s - loss: 1.1266 - acc: 0.4150\n",
            "Epoch 00057: val_acc did not improve from 0.45553\n",
            "55/55 [==============================] - 0s 3ms/step - loss: 1.1162 - acc: 0.4173 - val_loss: 1.0694 - val_acc: 0.4340\n",
            "Epoch 58/100\n",
            "46/55 [========================>.....] - ETA: 0s - loss: 1.1142 - acc: 0.4375\n",
            "Epoch 00058: val_acc did not improve from 0.45553\n",
            "55/55 [==============================] - 0s 3ms/step - loss: 1.1151 - acc: 0.4301 - val_loss: 1.0686 - val_acc: 0.4528\n",
            "Epoch 59/100\n",
            "54/55 [============================>.] - ETA: 0s - loss: 1.1188 - acc: 0.4144\n",
            "Epoch 00059: val_acc did not improve from 0.45553\n",
            "55/55 [==============================] - 0s 3ms/step - loss: 1.1190 - acc: 0.4139 - val_loss: 1.0712 - val_acc: 0.4340\n",
            "Epoch 60/100\n",
            "34/55 [=================>............] - ETA: 0s - loss: 1.1281 - acc: 0.4274\n",
            "Epoch 00060: val_acc did not improve from 0.45553\n",
            "55/55 [==============================] - 0s 2ms/step - loss: 1.1176 - acc: 0.4266 - val_loss: 1.0668 - val_acc: 0.4528\n",
            "Epoch 61/100\n",
            "29/55 [==============>...............] - ETA: 0s - loss: 1.1014 - acc: 0.4526\n",
            "Epoch 00061: val_acc improved from 0.45553 to 0.45822, saving model to mlp_checkpoint/checkpoint_61\n",
            "55/55 [==============================] - 0s 3ms/step - loss: 1.1209 - acc: 0.4220 - val_loss: 1.0696 - val_acc: 0.4582\n",
            "Epoch 62/100\n",
            "45/55 [=======================>......] - ETA: 0s - loss: 1.1240 - acc: 0.4125\n",
            "Epoch 00062: val_acc did not improve from 0.45822\n",
            "55/55 [==============================] - 0s 4ms/step - loss: 1.1168 - acc: 0.4237 - val_loss: 1.0779 - val_acc: 0.4380\n",
            "Epoch 63/100\n",
            "32/55 [================>.............] - ETA: 0s - loss: 1.1116 - acc: 0.4443\n",
            "Epoch 00063: val_acc did not improve from 0.45822\n",
            "55/55 [==============================] - 0s 3ms/step - loss: 1.1191 - acc: 0.4220 - val_loss: 1.0818 - val_acc: 0.4407\n",
            "Epoch 64/100\n",
            "26/55 [=============>................] - ETA: 0s - loss: 1.1228 - acc: 0.4099\n",
            "Epoch 00064: val_acc did not improve from 0.45822\n",
            "55/55 [==============================] - 0s 3ms/step - loss: 1.1209 - acc: 0.4098 - val_loss: 1.0859 - val_acc: 0.4191\n",
            "Epoch 65/100\n",
            "29/55 [==============>...............] - ETA: 0s - loss: 1.1228 - acc: 0.4321\n",
            "Epoch 00065: val_acc did not improve from 0.45822\n",
            "55/55 [==============================] - 0s 3ms/step - loss: 1.1186 - acc: 0.4318 - val_loss: 1.0783 - val_acc: 0.4286\n",
            "Epoch 66/100\n",
            "30/55 [===============>..............] - ETA: 0s - loss: 1.1402 - acc: 0.4052\n",
            "Epoch 00066: val_acc did not improve from 0.45822\n",
            "55/55 [==============================] - 0s 3ms/step - loss: 1.1201 - acc: 0.4249 - val_loss: 1.0735 - val_acc: 0.4420\n",
            "Epoch 67/100\n",
            "53/55 [===========================>..] - ETA: 0s - loss: 1.1160 - acc: 0.4145\n",
            "Epoch 00067: val_acc did not improve from 0.45822\n",
            "55/55 [==============================] - 0s 4ms/step - loss: 1.1185 - acc: 0.4139 - val_loss: 1.0803 - val_acc: 0.4313\n",
            "Epoch 68/100\n",
            "30/55 [===============>..............] - ETA: 0s - loss: 1.1314 - acc: 0.4021\n",
            "Epoch 00068: val_acc did not improve from 0.45822\n",
            "55/55 [==============================] - 0s 3ms/step - loss: 1.1235 - acc: 0.4197 - val_loss: 1.0718 - val_acc: 0.4515\n",
            "Epoch 69/100\n",
            "29/55 [==============>...............] - ETA: 0s - loss: 1.1234 - acc: 0.4084\n",
            "Epoch 00069: val_acc improved from 0.45822 to 0.46092, saving model to mlp_checkpoint/checkpoint_69\n",
            "55/55 [==============================] - 0s 3ms/step - loss: 1.1188 - acc: 0.4191 - val_loss: 1.0689 - val_acc: 0.4609\n",
            "Epoch 70/100\n",
            "30/55 [===============>..............] - ETA: 0s - loss: 1.1222 - acc: 0.4156\n",
            "Epoch 00070: val_acc did not improve from 0.46092\n",
            "55/55 [==============================] - 0s 3ms/step - loss: 1.1193 - acc: 0.4121 - val_loss: 1.0727 - val_acc: 0.4596\n",
            "Epoch 71/100\n",
            "55/55 [==============================] - ETA: 0s - loss: 1.1184 - acc: 0.4156\n",
            "Epoch 00071: val_acc did not improve from 0.46092\n",
            "55/55 [==============================] - 0s 3ms/step - loss: 1.1184 - acc: 0.4156 - val_loss: 1.0721 - val_acc: 0.4555\n",
            "Epoch 72/100\n",
            "54/55 [============================>.] - ETA: 0s - loss: 1.1202 - acc: 0.4201\n",
            "Epoch 00072: val_acc did not improve from 0.46092\n",
            "55/55 [==============================] - 0s 3ms/step - loss: 1.1195 - acc: 0.4208 - val_loss: 1.0775 - val_acc: 0.4394\n",
            "Epoch 73/100\n",
            "30/55 [===============>..............] - ETA: 0s - loss: 1.0943 - acc: 0.4583\n",
            "Epoch 00073: val_acc did not improve from 0.46092\n",
            "55/55 [==============================] - 0s 3ms/step - loss: 1.1121 - acc: 0.4272 - val_loss: 1.0701 - val_acc: 0.4434\n",
            "Epoch 74/100\n",
            "27/55 [=============>................] - ETA: 0s - loss: 1.1049 - acc: 0.4479\n",
            "Epoch 00074: val_acc did not improve from 0.46092\n",
            "55/55 [==============================] - 0s 3ms/step - loss: 1.1165 - acc: 0.4289 - val_loss: 1.0748 - val_acc: 0.4407\n",
            "Epoch 75/100\n",
            "44/55 [=======================>......] - ETA: 0s - loss: 1.1284 - acc: 0.3928\n",
            "Epoch 00075: val_acc did not improve from 0.46092\n",
            "55/55 [==============================] - 0s 3ms/step - loss: 1.1332 - acc: 0.3919 - val_loss: 1.0848 - val_acc: 0.4340\n",
            "Epoch 76/100\n",
            "28/55 [==============>...............] - ETA: 0s - loss: 1.1171 - acc: 0.4219\n",
            "Epoch 00076: val_acc did not improve from 0.46092\n",
            "55/55 [==============================] - 0s 3ms/step - loss: 1.1252 - acc: 0.4075 - val_loss: 1.0791 - val_acc: 0.4137\n",
            "Epoch 77/100\n",
            "29/55 [==============>...............] - ETA: 0s - loss: 1.1168 - acc: 0.3987\n",
            "Epoch 00077: val_acc did not improve from 0.46092\n",
            "55/55 [==============================] - 0s 3ms/step - loss: 1.1271 - acc: 0.4012 - val_loss: 1.0770 - val_acc: 0.4434\n",
            "Epoch 78/100\n",
            "31/55 [===============>..............] - ETA: 0s - loss: 1.0836 - acc: 0.4294\n",
            "Epoch 00078: val_acc did not improve from 0.46092\n",
            "55/55 [==============================] - 0s 2ms/step - loss: 1.1154 - acc: 0.4173 - val_loss: 1.0733 - val_acc: 0.4447\n",
            "Epoch 79/100\n",
            "33/55 [=================>............] - ETA: 0s - loss: 1.1283 - acc: 0.4119\n",
            "Epoch 00079: val_acc did not improve from 0.46092\n",
            "55/55 [==============================] - 0s 2ms/step - loss: 1.1186 - acc: 0.4214 - val_loss: 1.0748 - val_acc: 0.4501\n",
            "Epoch 80/100\n",
            "55/55 [==============================] - ETA: 0s - loss: 1.1131 - acc: 0.4243\n",
            "Epoch 00080: val_acc did not improve from 0.46092\n",
            "55/55 [==============================] - 0s 3ms/step - loss: 1.1131 - acc: 0.4243 - val_loss: 1.0697 - val_acc: 0.4569\n",
            "Epoch 81/100\n",
            "54/55 [============================>.] - ETA: 0s - loss: 1.1147 - acc: 0.4103\n",
            "Epoch 00081: val_acc did not improve from 0.46092\n",
            "55/55 [==============================] - 0s 3ms/step - loss: 1.1148 - acc: 0.4098 - val_loss: 1.0747 - val_acc: 0.4447\n",
            "Epoch 82/100\n",
            "32/55 [================>.............] - ETA: 0s - loss: 1.1111 - acc: 0.4307\n",
            "Epoch 00082: val_acc did not improve from 0.46092\n",
            "55/55 [==============================] - 0s 2ms/step - loss: 1.1166 - acc: 0.4150 - val_loss: 1.0719 - val_acc: 0.4380\n",
            "Epoch 83/100\n",
            "54/55 [============================>.] - ETA: 0s - loss: 1.1104 - acc: 0.4201\n",
            "Epoch 00083: val_acc did not improve from 0.46092\n",
            "55/55 [==============================] - 0s 3ms/step - loss: 1.1107 - acc: 0.4202 - val_loss: 1.0785 - val_acc: 0.4286\n",
            "Epoch 84/100\n",
            "29/55 [==============>...............] - ETA: 0s - loss: 1.1374 - acc: 0.3707\n",
            "Epoch 00084: val_acc did not improve from 0.46092\n",
            "55/55 [==============================] - 0s 2ms/step - loss: 1.1278 - acc: 0.3954 - val_loss: 1.0753 - val_acc: 0.4394\n",
            "Epoch 85/100\n",
            "55/55 [==============================] - ETA: 0s - loss: 1.1088 - acc: 0.4249\n",
            "Epoch 00085: val_acc did not improve from 0.46092\n",
            "55/55 [==============================] - 0s 3ms/step - loss: 1.1088 - acc: 0.4249 - val_loss: 1.0783 - val_acc: 0.4340\n",
            "Epoch 86/100\n",
            "31/55 [===============>..............] - ETA: 0s - loss: 1.1035 - acc: 0.4264\n",
            "Epoch 00086: val_acc did not improve from 0.46092\n",
            "55/55 [==============================] - 0s 3ms/step - loss: 1.1087 - acc: 0.4289 - val_loss: 1.0666 - val_acc: 0.4488\n",
            "Epoch 87/100\n",
            "51/55 [==========================>...] - ETA: 0s - loss: 1.1052 - acc: 0.4216\n",
            "Epoch 00087: val_acc did not improve from 0.46092\n",
            "55/55 [==============================] - 0s 3ms/step - loss: 1.1091 - acc: 0.4162 - val_loss: 1.0686 - val_acc: 0.4447\n",
            "Epoch 88/100\n",
            "27/55 [=============>................] - ETA: 0s - loss: 1.1224 - acc: 0.4155\n",
            "Epoch 00088: val_acc improved from 0.46092 to 0.46226, saving model to mlp_checkpoint/checkpoint_88\n",
            "55/55 [==============================] - 0s 4ms/step - loss: 1.1181 - acc: 0.4064 - val_loss: 1.0669 - val_acc: 0.4623\n",
            "Epoch 89/100\n",
            "28/55 [==============>...............] - ETA: 0s - loss: 1.1024 - acc: 0.4408\n",
            "Epoch 00089: val_acc improved from 0.46226 to 0.46631, saving model to mlp_checkpoint/checkpoint_89\n",
            "55/55 [==============================] - 0s 4ms/step - loss: 1.1153 - acc: 0.4283 - val_loss: 1.0676 - val_acc: 0.4663\n",
            "Epoch 90/100\n",
            "54/55 [============================>.] - ETA: 0s - loss: 1.1106 - acc: 0.4288\n",
            "Epoch 00090: val_acc did not improve from 0.46631\n",
            "55/55 [==============================] - 0s 3ms/step - loss: 1.1101 - acc: 0.4289 - val_loss: 1.0736 - val_acc: 0.4434\n",
            "Epoch 91/100\n",
            "29/55 [==============>...............] - ETA: 0s - loss: 1.1064 - acc: 0.4181\n",
            "Epoch 00091: val_acc did not improve from 0.46631\n",
            "55/55 [==============================] - 0s 3ms/step - loss: 1.1143 - acc: 0.4087 - val_loss: 1.0670 - val_acc: 0.4474\n",
            "Epoch 92/100\n",
            "53/55 [===========================>..] - ETA: 0s - loss: 1.1080 - acc: 0.4393\n",
            "Epoch 00092: val_acc did not improve from 0.46631\n",
            "55/55 [==============================] - 0s 3ms/step - loss: 1.1070 - acc: 0.4393 - val_loss: 1.0727 - val_acc: 0.4474\n",
            "Epoch 93/100\n",
            "51/55 [==========================>...] - ETA: 0s - loss: 1.1078 - acc: 0.4301\n",
            "Epoch 00093: val_acc did not improve from 0.46631\n",
            "55/55 [==============================] - 0s 3ms/step - loss: 1.1109 - acc: 0.4289 - val_loss: 1.0676 - val_acc: 0.4542\n",
            "Epoch 94/100\n",
            "31/55 [===============>..............] - ETA: 0s - loss: 1.1098 - acc: 0.4153\n",
            "Epoch 00094: val_acc did not improve from 0.46631\n",
            "55/55 [==============================] - 0s 3ms/step - loss: 1.1135 - acc: 0.4214 - val_loss: 1.0659 - val_acc: 0.4569\n",
            "Epoch 95/100\n",
            "50/55 [==========================>...] - ETA: 0s - loss: 1.1119 - acc: 0.4250\n",
            "Epoch 00095: val_acc did not improve from 0.46631\n",
            "55/55 [==============================] - 0s 4ms/step - loss: 1.1134 - acc: 0.4243 - val_loss: 1.0726 - val_acc: 0.4515\n",
            "Epoch 96/100\n",
            "54/55 [============================>.] - ETA: 0s - loss: 1.1069 - acc: 0.4213\n",
            "Epoch 00096: val_acc did not improve from 0.46631\n",
            "55/55 [==============================] - 0s 3ms/step - loss: 1.1071 - acc: 0.4214 - val_loss: 1.0678 - val_acc: 0.4434\n",
            "Epoch 97/100\n",
            "28/55 [==============>...............] - ETA: 0s - loss: 1.1126 - acc: 0.4364\n",
            "Epoch 00097: val_acc did not improve from 0.46631\n",
            "55/55 [==============================] - 0s 3ms/step - loss: 1.1140 - acc: 0.4301 - val_loss: 1.0846 - val_acc: 0.4191\n",
            "Epoch 98/100\n",
            "26/55 [=============>................] - ETA: 0s - loss: 1.1085 - acc: 0.4255\n",
            "Epoch 00098: val_acc did not improve from 0.46631\n",
            "55/55 [==============================] - 0s 3ms/step - loss: 1.1112 - acc: 0.4272 - val_loss: 1.0765 - val_acc: 0.4299\n",
            "Epoch 99/100\n",
            "51/55 [==========================>...] - ETA: 0s - loss: 1.1075 - acc: 0.4369\n",
            "Epoch 00099: val_acc did not improve from 0.46631\n",
            "55/55 [==============================] - 0s 4ms/step - loss: 1.1060 - acc: 0.4370 - val_loss: 1.0658 - val_acc: 0.4434\n",
            "Epoch 100/100\n",
            "32/55 [================>.............] - ETA: 0s - loss: 1.1100 - acc: 0.4238\n",
            "Epoch 00100: val_acc did not improve from 0.46631\n",
            "55/55 [==============================] - 0s 3ms/step - loss: 1.1094 - acc: 0.4208 - val_loss: 1.0685 - val_acc: 0.4501\n"
          ]
        }
      ]
    },
    {
      "cell_type": "code",
      "source": [
        "#Plotting model history\n",
        "plt.plot(mlp_history.history['acc'])\n",
        "plt.plot(mlp_history.history['loss'])\n",
        "plt.legend(['Training Accuracy', 'Training Loss'])\n",
        "plt.title('Training History')\n",
        "plt.ylabel('Value')\n",
        "plt.xlabel('epochs')\n",
        "plt.show()\n",
        "print(\"Initial training accuracy is: \", mlp_history.history['acc'][0])\n",
        "print(\"Final training accuracy is: \", mlp_history.history['acc'][-1])\n",
        "\n",
        "print(\"Initial training loss is: \", mlp_history.history['loss'][0])\n",
        "print(\"Final training loss is: \", mlp_history.history['loss'][-1])"
      ],
      "metadata": {
        "colab": {
          "base_uri": "https://localhost:8080/",
          "height": 368
        },
        "id": "gIEEQrNcJ-H6",
        "outputId": "294a382f-a4b1-4e61-c580-7b62b0eb83a3"
      },
      "execution_count": null,
      "outputs": [
        {
          "output_type": "display_data",
          "data": {
            "image/png": "[encoded data removed]",
            "text/plain": [
              "<Figure size 432x288 with 1 Axes>"
            ]
          },
          "metadata": {
            "needs_background": "light"
          }
        },
        {
          "output_type": "stream",
          "name": "stdout",
          "text": [
            "Initial training accuracy is:  0.3005780279636383\n",
            "Final training accuracy is:  0.42080923914909363\n",
            "Initial training loss is:  1.3556478023529053\n",
            "Final training loss is:  1.1094460487365723\n"
          ]
        }
      ]
    },
    {
      "cell_type": "code",
      "source": [
        "#Plotting model history\n",
        "plt.plot(mlp_history.history['val_acc'])\n",
        "plt.plot(mlp_history.history['val_loss'])\n",
        "plt.legend(['Valdation Accuracy', 'Validation Loss'])\n",
        "plt.title('Validation History')\n",
        "plt.ylabel('Value')\n",
        "plt.xlabel('epochs')\n",
        "plt.show()\n",
        "print(\"Initial validation accuracy is: \", mlp_history.history['val_acc'][0])\n",
        "print(\"Final validation accuracy is: \", mlp_history.history['val_acc'][-1])\n",
        "\n",
        "print(\"Initial validation loss is: \", mlp_history.history['val_loss'][0])\n",
        "print(\"Final validation loss is: \", mlp_history.history['val_loss'][-1])"
      ],
      "metadata": {
        "colab": {
          "base_uri": "https://localhost:8080/",
          "height": 368
        },
        "id": "k_PJ7DCPJ-Ky",
        "outputId": "b655e6c1-b7f0-41a5-a80c-46def1162318"
      },
      "execution_count": null,
      "outputs": [
        {
          "output_type": "display_data",
          "data": {
            "image/png": "[encoded data removed]",
            "text/plain": [
              "<Figure size 432x288 with 1 Axes>"
            ]
          },
          "metadata": {
            "needs_background": "light"
          }
        },
        {
          "output_type": "stream",
          "name": "stdout",
          "text": [
            "Initial validation accuracy is:  0.36253368854522705\n",
            "Final validation accuracy is:  0.4501347839832306\n",
            "Initial validation loss is:  1.3084759712219238\n",
            "Final validation loss is:  1.0684932470321655\n"
          ]
        }
      ]
    },
    {
      "cell_type": "markdown",
      "source": [
        "## Feature Extract Model"
      ],
      "metadata": {
        "id": "nh1XjFUZGqc5"
      }
    },
    {
      "cell_type": "code",
      "source": [
        "x"
      ],
      "metadata": {
        "colab": {
          "base_uri": "https://localhost:8080/"
        },
        "id": "N7leHZZz-nKM",
        "outputId": "7ae3e5e2-2b3b-474b-9166-cf1e92718767"
      },
      "execution_count": null,
      "outputs": [
        {
          "output_type": "execute_result",
          "data": {
            "text/plain": [
              "array([[ 9.02371982,  3.74238   , 12.72616877,  9.22876301],\n",
              "       [11.08615172,  7.2494996 , 21.52443057, 14.28126423],\n",
              "       [13.1138586 ,  7.29578872, 13.23728385,  6.3918014 ],\n",
              "       ...,\n",
              "       [ 1.18089195,  0.93442736,  2.23554018,  2.52324503],\n",
              "       [ 0.97170381,  0.68291629,  1.55515726,  1.73322675],\n",
              "       [ 3.25415824,  2.26377955,  1.53420759,  1.70690454]])"
            ]
          },
          "metadata": {},
          "execution_count": 77
        }
      ]
    },
    {
      "cell_type": "code",
      "source": [
        "x = np.expand_dims(x, -1)"
      ],
      "metadata": {
        "id": "B5b7U6n5-nN8"
      },
      "execution_count": null,
      "outputs": []
    },
    {
      "cell_type": "code",
      "source": [
        "x.shape"
      ],
      "metadata": {
        "colab": {
          "base_uri": "https://localhost:8080/"
        },
        "id": "Ux0Q7CMR_L7e",
        "outputId": "3612bac5-93ab-400f-c2d6-7688836b9279"
      },
      "execution_count": null,
      "outputs": [
        {
          "output_type": "execute_result",
          "data": {
            "text/plain": [
              "(2472, 4, 1)"
            ]
          },
          "metadata": {},
          "execution_count": 79
        }
      ]
    },
    {
      "cell_type": "code",
      "source": [
        "dims_lstm_1 = 4\n",
        "dims_lstm_2 = 1"
      ],
      "metadata": {
        "id": "ZC8gMOXa_YT5"
      },
      "execution_count": null,
      "outputs": []
    },
    {
      "cell_type": "code",
      "source": [
        "print(x.shape)\n",
        "print(y.shape)"
      ],
      "metadata": {
        "colab": {
          "base_uri": "https://localhost:8080/"
        },
        "id": "IT77uo9SGy_4",
        "outputId": "b9915b34-e4b2-47e5-a750-55fcd2690c0e"
      },
      "execution_count": null,
      "outputs": [
        {
          "output_type": "stream",
          "name": "stdout",
          "text": [
            "(2472, 4, 1)\n",
            "(2472, 4)\n"
          ]
        }
      ]
    },
    {
      "cell_type": "code",
      "source": [
        "x_train,x_temp,y_train,y_temp = train_test_split(x,y,test_size=0.30)"
      ],
      "metadata": {
        "id": "ZpbLBj6IHMuk"
      },
      "execution_count": null,
      "outputs": []
    },
    {
      "cell_type": "code",
      "source": [
        "inp_shape = (dims_lstm_1, dims_lstm_2)\n",
        "ip = tf.keras.Input(shape = inp_shape)\n",
        "conv1 = tf.keras.layers.Conv1D(32, 3, activation = 'relu')(ip)\n",
        "conv1 = tf.keras.layers.ZeroPadding1D(padding=1)(conv1)\n",
        "# rel1 = tf.keras.layers.LeakyReLU()(conv1)\n",
        "# maxpool1 = tf.keras.layers.MaxPooling1D()(conv1)\n",
        "skip1 = conv1\n",
        "conv2 = tf.keras.layers.Conv1D(32, 3, activation = 'relu')(conv1)\n",
        "conv2 = tf.keras.layers.ZeroPadding1D(padding=1)(conv2)\n",
        "# rel2 = tf.keras.layers.LeakyReLU()(conv2)\n",
        "# maxpool2 = tf.keras.layers.MaxPooling1D()(conv2)\n",
        "# maxpool2 = tf.keras.layers.ZeroPadding1D(padding=(44,43))(maxpool2)\n",
        "skip2 = conv2\n",
        "conv3 = tf.keras.layers.Conv1D(32, 3, activation = 'relu')(conv2)\n",
        "conv3 = tf.keras.layers.ZeroPadding1D(padding=1)(conv3)\n",
        "# conv4 = tf.keras.layers.Conv1D(32,)(conv3)\n",
        "# conv4 = tf.keras.layers.ZeroPadding1D(padding=1)(conv4)\n",
        "# conv5 = tf.keras.layers.Conv1D(32,)(conv4)\n",
        "# conv5 = tf.keras.layers.ZeroPadding1D(padding=1)(conv5)\n",
        "# maxpool5 = tf.keras.layers.MaxPooling1D()(conv5)\n",
        "# maxpool5 = tf.keras.layers.ZeroPadding1D(padding=(44, 43))(maxpool5)\n",
        "addlayer1 = tf.keras.layers.Add()([skip1, skip2, conv3])\n",
        "\n",
        "# lstm = tf.keras.layers.LSTM(16, return_sequences=True)(ip)\n",
        "flatten = tf.keras.layers.Flatten()(addlayer1)\n",
        "dense1 = tf.keras.layers.Dense(units = 32, kernel_initializer = 'random_normal')(flatten)\n",
        "# leakyRelu = tf.keras.layers.LeakyReLU()(dense1)\n",
        "# drop1 = tf.keras.layers.Dropout(.4)(dense1)\n",
        "dense2 = tf.keras.layers.Dense(units = 16, kernel_initializer = 'random_normal')(dense1)\n",
        "# leakyRelu2 = tf.keras.layers.LeakyReLU()(dense2)\n",
        "drop2 = tf.keras.layers.Dropout(.4)(dense2)\n",
        "out = tf.keras.layers.Dense(num_classes, activation = 'softmax')(drop2)\n",
        "\n",
        "ftExtract = tf.keras.Model(inputs = ip, outputs = out)\n",
        "ftExtract.summary()"
      ],
      "metadata": {
        "colab": {
          "base_uri": "https://localhost:8080/"
        },
        "id": "LEwRFkm7FPDk",
        "outputId": "d0a2f5bf-541e-4c53-b570-56c8589d48cb"
      },
      "execution_count": 90,
      "outputs": [
        {
          "output_type": "stream",
          "name": "stdout",
          "text": [
            "Model: \"model_3\"\n",
            "__________________________________________________________________________________________________\n",
            " Layer (type)                   Output Shape         Param #     Connected to                     \n",
            "==================================================================================================\n",
            " input_5 (InputLayer)           [(None, 4, 1)]       0           []                               \n",
            "                                                                                                  \n",
            " conv1d_8 (Conv1D)              (None, 2, 32)        128         ['input_5[0][0]']                \n",
            "                                                                                                  \n",
            " zero_padding1d_6 (ZeroPadding1  (None, 4, 32)       0           ['conv1d_8[0][0]']               \n",
            " D)                                                                                               \n",
            "                                                                                                  \n",
            " conv1d_9 (Conv1D)              (None, 2, 32)        3104        ['zero_padding1d_6[0][0]']       \n",
            "                                                                                                  \n",
            " zero_padding1d_7 (ZeroPadding1  (None, 4, 32)       0           ['conv1d_9[0][0]']               \n",
            " D)                                                                                               \n",
            "                                                                                                  \n",
            " conv1d_10 (Conv1D)             (None, 2, 32)        3104        ['zero_padding1d_7[0][0]']       \n",
            "                                                                                                  \n",
            " zero_padding1d_8 (ZeroPadding1  (None, 4, 32)       0           ['conv1d_10[0][0]']              \n",
            " D)                                                                                               \n",
            "                                                                                                  \n",
            " add_2 (Add)                    (None, 4, 32)        0           ['zero_padding1d_6[0][0]',       \n",
            "                                                                  'zero_padding1d_7[0][0]',       \n",
            "                                                                  'zero_padding1d_8[0][0]']       \n",
            "                                                                                                  \n",
            " flatten_2 (Flatten)            (None, 128)          0           ['add_2[0][0]']                  \n",
            "                                                                                                  \n",
            " dense_9 (Dense)                (None, 32)           4128        ['flatten_2[0][0]']              \n",
            "                                                                                                  \n",
            " dense_10 (Dense)               (None, 16)           528         ['dense_9[0][0]']                \n",
            "                                                                                                  \n",
            " dropout_3 (Dropout)            (None, 16)           0           ['dense_10[0][0]']               \n",
            "                                                                                                  \n",
            " dense_11 (Dense)               (None, 4)            68          ['dropout_3[0][0]']              \n",
            "                                                                                                  \n",
            "==================================================================================================\n",
            "Total params: 11,060\n",
            "Trainable params: 11,060\n",
            "Non-trainable params: 0\n",
            "__________________________________________________________________________________________________\n"
          ]
        }
      ]
    },
    {
      "cell_type": "code",
      "source": [
        "tf.keras.utils.plot_model(ftExtract)"
      ],
      "metadata": {
        "colab": {
          "base_uri": "https://localhost:8080/",
          "height": 1000
        },
        "id": "VU_at0XoH3Ix",
        "outputId": "12c700fc-8be7-40d6-88fe-f2b068725369"
      },
      "execution_count": 89,
      "outputs": [
        {
          "output_type": "execute_result",
          "data": {
            "image/png": "[encoded data removed]",
            "text/plain": [
              "<IPython.core.display.Image object>"
            ]
          },
          "metadata": {},
          "execution_count": 89
        }
      ]
    },
    {
      "cell_type": "code",
      "source": [
        "# Compiling the model\n",
        "fte_earlystop = EarlyStopping(patience = 15, min_delta = 0.001, monitor = 'val_acc')\n",
        "\n",
        "path = 'fte_checkpoint/checkpoint_{epoch:02d}';\n",
        "fte_checkpoint = ModelCheckpoint(filepath = path,\n",
        "                            verbose = 1,\n",
        "                            monitor = 'val_acc',\n",
        "                            save_freq = 'epoch',\n",
        "                            save_best_only = True,\n",
        "                            save_weights_only = True)\n",
        "\n",
        "ftExtract.compile(loss = 'categorical_crossentropy', metrics = ['acc'], optimizer = 'adam')"
      ],
      "metadata": {
        "id": "5ysMJkfg_W_t"
      },
      "execution_count": null,
      "outputs": []
    },
    {
      "cell_type": "code",
      "source": [
        "ftExtract_history = ftExtract.fit(x_train, y_train,\n",
        "                      validation_data = (x_temp, y_temp),\n",
        "#                         steps_per_epoch= 449,\n",
        "                        batch_size = 32,\n",
        "                        epochs = 100,\n",
        "                        callbacks = [fte_checkpoint],\n",
        "                    ) #Fitting the model"
      ],
      "metadata": {
        "colab": {
          "base_uri": "https://localhost:8080/"
        },
        "id": "Z0koEdXHGGMn",
        "outputId": "b6178600-3f37-47bd-c467-3da9793110ec"
      },
      "execution_count": null,
      "outputs": [
        {
          "output_type": "stream",
          "name": "stdout",
          "text": [
            "Epoch 1/100\n",
            "53/55 [===========================>..] - ETA: 0s - loss: 1.3181 - acc: 0.3208\n",
            "Epoch 00001: val_acc improved from -inf to 0.37736, saving model to fte_checkpoint/checkpoint_01\n",
            "55/55 [==============================] - 1s 8ms/step - loss: 1.3162 - acc: 0.3208 - val_loss: 1.1859 - val_acc: 0.3774\n",
            "Epoch 2/100\n",
            "51/55 [==========================>...] - ETA: 0s - loss: 1.2166 - acc: 0.3738\n",
            "Epoch 00002: val_acc improved from 0.37736 to 0.38544, saving model to fte_checkpoint/checkpoint_02\n",
            "55/55 [==============================] - 0s 5ms/step - loss: 1.2188 - acc: 0.3676 - val_loss: 1.1451 - val_acc: 0.3854\n",
            "Epoch 3/100\n",
            "54/55 [============================>.] - ETA: 0s - loss: 1.1704 - acc: 0.3796\n",
            "Epoch 00003: val_acc improved from 0.38544 to 0.41240, saving model to fte_checkpoint/checkpoint_03\n",
            "55/55 [==============================] - 0s 4ms/step - loss: 1.1703 - acc: 0.3798 - val_loss: 1.1144 - val_acc: 0.4124\n",
            "Epoch 4/100\n",
            "52/55 [===========================>..] - ETA: 0s - loss: 1.1631 - acc: 0.3750\n",
            "Epoch 00004: val_acc did not improve from 0.41240\n",
            "55/55 [==============================] - 0s 4ms/step - loss: 1.1663 - acc: 0.3717 - val_loss: 1.1220 - val_acc: 0.4084\n",
            "Epoch 5/100\n",
            "40/55 [====================>.........] - ETA: 0s - loss: 1.1484 - acc: 0.3938\n",
            "Epoch 00005: val_acc did not improve from 0.41240\n",
            "55/55 [==============================] - 0s 4ms/step - loss: 1.1536 - acc: 0.3861 - val_loss: 1.1226 - val_acc: 0.4030\n",
            "Epoch 6/100\n",
            "48/55 [=========================>....] - ETA: 0s - loss: 1.1481 - acc: 0.3978\n",
            "Epoch 00006: val_acc did not improve from 0.41240\n",
            "55/55 [==============================] - 0s 5ms/step - loss: 1.1519 - acc: 0.3902 - val_loss: 1.1095 - val_acc: 0.3787\n",
            "Epoch 7/100\n",
            "50/55 [==========================>...] - ETA: 0s - loss: 1.1395 - acc: 0.4075\n",
            "Epoch 00007: val_acc improved from 0.41240 to 0.44205, saving model to fte_checkpoint/checkpoint_07\n",
            "55/55 [==============================] - 0s 4ms/step - loss: 1.1411 - acc: 0.4023 - val_loss: 1.1030 - val_acc: 0.4420\n",
            "Epoch 8/100\n",
            "53/55 [===========================>..] - ETA: 0s - loss: 1.1364 - acc: 0.3897\n",
            "Epoch 00008: val_acc did not improve from 0.44205\n",
            "55/55 [==============================] - 0s 4ms/step - loss: 1.1374 - acc: 0.3884 - val_loss: 1.0990 - val_acc: 0.4164\n",
            "Epoch 9/100\n",
            "51/55 [==========================>...] - ETA: 0s - loss: 1.1384 - acc: 0.3940\n",
            "Epoch 00009: val_acc improved from 0.44205 to 0.45148, saving model to fte_checkpoint/checkpoint_09\n",
            "55/55 [==============================] - 0s 5ms/step - loss: 1.1373 - acc: 0.3948 - val_loss: 1.0952 - val_acc: 0.4515\n",
            "Epoch 10/100\n",
            "50/55 [==========================>...] - ETA: 0s - loss: 1.1277 - acc: 0.3900\n",
            "Epoch 00010: val_acc did not improve from 0.45148\n",
            "55/55 [==============================] - 0s 4ms/step - loss: 1.1276 - acc: 0.3844 - val_loss: 1.0944 - val_acc: 0.4259\n",
            "Epoch 11/100\n",
            "51/55 [==========================>...] - ETA: 0s - loss: 1.1329 - acc: 0.4099\n",
            "Epoch 00011: val_acc did not improve from 0.45148\n",
            "55/55 [==============================] - 0s 4ms/step - loss: 1.1320 - acc: 0.4104 - val_loss: 1.1220 - val_acc: 0.4191\n",
            "Epoch 12/100\n",
            "55/55 [==============================] - ETA: 0s - loss: 1.1238 - acc: 0.4104\n",
            "Epoch 00012: val_acc did not improve from 0.45148\n",
            "55/55 [==============================] - 0s 4ms/step - loss: 1.1238 - acc: 0.4104 - val_loss: 1.0968 - val_acc: 0.4272\n",
            "Epoch 13/100\n",
            "54/55 [============================>.] - ETA: 0s - loss: 1.1195 - acc: 0.4144\n",
            "Epoch 00013: val_acc did not improve from 0.45148\n",
            "55/55 [==============================] - 0s 4ms/step - loss: 1.1199 - acc: 0.4139 - val_loss: 1.0930 - val_acc: 0.4380\n",
            "Epoch 14/100\n",
            "51/55 [==========================>...] - ETA: 0s - loss: 1.1141 - acc: 0.4056\n",
            "Epoch 00014: val_acc did not improve from 0.45148\n",
            "55/55 [==============================] - 0s 5ms/step - loss: 1.1165 - acc: 0.4058 - val_loss: 1.0948 - val_acc: 0.4232\n",
            "Epoch 15/100\n",
            "37/55 [===================>..........] - ETA: 0s - loss: 1.1154 - acc: 0.4223\n",
            "Epoch 00015: val_acc did not improve from 0.45148\n",
            "55/55 [==============================] - 0s 4ms/step - loss: 1.1172 - acc: 0.4162 - val_loss: 1.0945 - val_acc: 0.4340\n",
            "Epoch 16/100\n",
            "51/55 [==========================>...] - ETA: 0s - loss: 1.1146 - acc: 0.4081\n",
            "Epoch 00016: val_acc did not improve from 0.45148\n",
            "55/55 [==============================] - 0s 4ms/step - loss: 1.1146 - acc: 0.4075 - val_loss: 1.0879 - val_acc: 0.4340\n",
            "Epoch 17/100\n",
            "51/55 [==========================>...] - ETA: 0s - loss: 1.1090 - acc: 0.4148\n",
            "Epoch 00017: val_acc did not improve from 0.45148\n",
            "55/55 [==============================] - 0s 5ms/step - loss: 1.1120 - acc: 0.4116 - val_loss: 1.0867 - val_acc: 0.4461\n",
            "Epoch 18/100\n",
            "51/55 [==========================>...] - ETA: 0s - loss: 1.1027 - acc: 0.4069\n",
            "Epoch 00018: val_acc did not improve from 0.45148\n",
            "55/55 [==============================] - 0s 4ms/step - loss: 1.1013 - acc: 0.4092 - val_loss: 1.0836 - val_acc: 0.4326\n",
            "Epoch 19/100\n",
            "39/55 [====================>.........] - ETA: 0s - loss: 1.1062 - acc: 0.4279\n",
            "Epoch 00019: val_acc did not improve from 0.45148\n",
            "55/55 [==============================] - 0s 4ms/step - loss: 1.0967 - acc: 0.4283 - val_loss: 1.1016 - val_acc: 0.4340\n",
            "Epoch 20/100\n",
            "54/55 [============================>.] - ETA: 0s - loss: 1.1067 - acc: 0.4149\n",
            "Epoch 00020: val_acc did not improve from 0.45148\n",
            "55/55 [==============================] - 0s 4ms/step - loss: 1.1067 - acc: 0.4150 - val_loss: 1.0790 - val_acc: 0.4474\n",
            "Epoch 21/100\n",
            "51/55 [==========================>...] - ETA: 0s - loss: 1.0983 - acc: 0.4314\n",
            "Epoch 00021: val_acc did not improve from 0.45148\n",
            "55/55 [==============================] - 0s 4ms/step - loss: 1.1003 - acc: 0.4295 - val_loss: 1.0804 - val_acc: 0.4501\n",
            "Epoch 22/100\n",
            "54/55 [============================>.] - ETA: 0s - loss: 1.0989 - acc: 0.4242\n",
            "Epoch 00022: val_acc did not improve from 0.45148\n",
            "55/55 [==============================] - 0s 4ms/step - loss: 1.0987 - acc: 0.4243 - val_loss: 1.0856 - val_acc: 0.4407\n",
            "Epoch 23/100\n",
            "49/55 [=========================>....] - ETA: 0s - loss: 1.1083 - acc: 0.4184\n",
            "Epoch 00023: val_acc did not improve from 0.45148\n",
            "55/55 [==============================] - 0s 4ms/step - loss: 1.1058 - acc: 0.4208 - val_loss: 1.0821 - val_acc: 0.4434\n",
            "Epoch 24/100\n",
            "53/55 [===========================>..] - ETA: 0s - loss: 1.0932 - acc: 0.4292\n",
            "Epoch 00024: val_acc improved from 0.45148 to 0.45283, saving model to fte_checkpoint/checkpoint_24\n",
            "55/55 [==============================] - 0s 5ms/step - loss: 1.0939 - acc: 0.4306 - val_loss: 1.0783 - val_acc: 0.4528\n",
            "Epoch 25/100\n",
            "53/55 [===========================>..] - ETA: 0s - loss: 1.0938 - acc: 0.4363\n",
            "Epoch 00025: val_acc did not improve from 0.45283\n",
            "55/55 [==============================] - 0s 4ms/step - loss: 1.0954 - acc: 0.4335 - val_loss: 1.0936 - val_acc: 0.4272\n",
            "Epoch 26/100\n",
            "51/55 [==========================>...] - ETA: 0s - loss: 1.0825 - acc: 0.4338\n",
            "Epoch 00026: val_acc did not improve from 0.45283\n",
            "55/55 [==============================] - 0s 5ms/step - loss: 1.0853 - acc: 0.4341 - val_loss: 1.0750 - val_acc: 0.4528\n",
            "Epoch 27/100\n",
            "49/55 [=========================>....] - ETA: 0s - loss: 1.0840 - acc: 0.4311\n",
            "Epoch 00027: val_acc improved from 0.45283 to 0.45553, saving model to fte_checkpoint/checkpoint_27\n",
            "55/55 [==============================] - 0s 5ms/step - loss: 1.0881 - acc: 0.4295 - val_loss: 1.0853 - val_acc: 0.4555\n",
            "Epoch 28/100\n",
            "53/55 [===========================>..] - ETA: 0s - loss: 1.0891 - acc: 0.4422\n",
            "Epoch 00028: val_acc did not improve from 0.45553\n",
            "55/55 [==============================] - 0s 5ms/step - loss: 1.0885 - acc: 0.4428 - val_loss: 1.0863 - val_acc: 0.4461\n",
            "Epoch 29/100\n",
            "38/55 [===================>..........] - ETA: 0s - loss: 1.1202 - acc: 0.4178\n",
            "Epoch 00029: val_acc did not improve from 0.45553\n",
            "55/55 [==============================] - 0s 4ms/step - loss: 1.1102 - acc: 0.4272 - val_loss: 1.0751 - val_acc: 0.4528\n",
            "Epoch 30/100\n",
            "38/55 [===================>..........] - ETA: 0s - loss: 1.0832 - acc: 0.4293\n",
            "Epoch 00030: val_acc did not improve from 0.45553\n",
            "55/55 [==============================] - 0s 4ms/step - loss: 1.0921 - acc: 0.4260 - val_loss: 1.0818 - val_acc: 0.4420\n",
            "Epoch 31/100\n",
            "51/55 [==========================>...] - ETA: 0s - loss: 1.0821 - acc: 0.4412\n",
            "Epoch 00031: val_acc did not improve from 0.45553\n",
            "55/55 [==============================] - 0s 5ms/step - loss: 1.0870 - acc: 0.4358 - val_loss: 1.0911 - val_acc: 0.4367\n",
            "Epoch 32/100\n",
            "48/55 [=========================>....] - ETA: 0s - loss: 1.0957 - acc: 0.4355\n",
            "Epoch 00032: val_acc improved from 0.45553 to 0.45687, saving model to fte_checkpoint/checkpoint_32\n",
            "55/55 [==============================] - 0s 5ms/step - loss: 1.0862 - acc: 0.4393 - val_loss: 1.0749 - val_acc: 0.4569\n",
            "Epoch 33/100\n",
            "54/55 [============================>.] - ETA: 0s - loss: 1.0829 - acc: 0.4334\n",
            "Epoch 00033: val_acc did not improve from 0.45687\n",
            "55/55 [==============================] - 0s 4ms/step - loss: 1.0828 - acc: 0.4335 - val_loss: 1.0772 - val_acc: 0.4420\n",
            "Epoch 34/100\n",
            "41/55 [=====================>........] - ETA: 0s - loss: 1.0929 - acc: 0.4337\n",
            "Epoch 00034: val_acc did not improve from 0.45687\n",
            "55/55 [==============================] - 0s 3ms/step - loss: 1.0903 - acc: 0.4318 - val_loss: 1.0879 - val_acc: 0.4420\n",
            "Epoch 35/100\n",
            "48/55 [=========================>....] - ETA: 0s - loss: 1.0855 - acc: 0.4336\n",
            "Epoch 00035: val_acc did not improve from 0.45687\n",
            "55/55 [==============================] - 0s 4ms/step - loss: 1.0924 - acc: 0.4329 - val_loss: 1.0793 - val_acc: 0.4407\n",
            "Epoch 36/100\n",
            "55/55 [==============================] - ETA: 0s - loss: 1.0835 - acc: 0.4370\n",
            "Epoch 00036: val_acc did not improve from 0.45687\n",
            "55/55 [==============================] - 0s 4ms/step - loss: 1.0835 - acc: 0.4370 - val_loss: 1.0763 - val_acc: 0.4501\n",
            "Epoch 37/100\n",
            "54/55 [============================>.] - ETA: 0s - loss: 1.0798 - acc: 0.4450\n",
            "Epoch 00037: val_acc did not improve from 0.45687\n",
            "55/55 [==============================] - 0s 4ms/step - loss: 1.0797 - acc: 0.4451 - val_loss: 1.0827 - val_acc: 0.4528\n",
            "Epoch 38/100\n",
            "54/55 [============================>.] - ETA: 0s - loss: 1.0900 - acc: 0.4375\n",
            "Epoch 00038: val_acc did not improve from 0.45687\n",
            "55/55 [==============================] - 0s 4ms/step - loss: 1.0905 - acc: 0.4370 - val_loss: 1.0775 - val_acc: 0.4555\n",
            "Epoch 39/100\n",
            "51/55 [==========================>...] - ETA: 0s - loss: 1.0819 - acc: 0.4301\n",
            "Epoch 00039: val_acc improved from 0.45687 to 0.46631, saving model to fte_checkpoint/checkpoint_39\n",
            "55/55 [==============================] - 0s 5ms/step - loss: 1.0794 - acc: 0.4312 - val_loss: 1.0844 - val_acc: 0.4663\n",
            "Epoch 40/100\n",
            "38/55 [===================>..........] - ETA: 0s - loss: 1.0756 - acc: 0.4581\n",
            "Epoch 00040: val_acc did not improve from 0.46631\n",
            "55/55 [==============================] - 0s 4ms/step - loss: 1.0804 - acc: 0.4549 - val_loss: 1.0863 - val_acc: 0.4191\n",
            "Epoch 41/100\n",
            "49/55 [=========================>....] - ETA: 0s - loss: 1.0857 - acc: 0.4407\n",
            "Epoch 00041: val_acc did not improve from 0.46631\n",
            "55/55 [==============================] - 0s 4ms/step - loss: 1.0800 - acc: 0.4445 - val_loss: 1.0856 - val_acc: 0.4650\n",
            "Epoch 42/100\n",
            "55/55 [==============================] - ETA: 0s - loss: 1.0756 - acc: 0.4457\n",
            "Epoch 00042: val_acc did not improve from 0.46631\n",
            "55/55 [==============================] - 0s 4ms/step - loss: 1.0756 - acc: 0.4457 - val_loss: 1.0843 - val_acc: 0.4515\n",
            "Epoch 43/100\n",
            "37/55 [===================>..........] - ETA: 0s - loss: 1.0809 - acc: 0.4333\n",
            "Epoch 00043: val_acc did not improve from 0.46631\n",
            "55/55 [==============================] - 0s 4ms/step - loss: 1.0785 - acc: 0.4445 - val_loss: 1.0830 - val_acc: 0.4488\n",
            "Epoch 44/100\n",
            "44/55 [=======================>......] - ETA: 0s - loss: 1.0638 - acc: 0.4474\n",
            "Epoch 00044: val_acc did not improve from 0.46631\n",
            "55/55 [==============================] - 0s 5ms/step - loss: 1.0709 - acc: 0.4480 - val_loss: 1.0833 - val_acc: 0.4461\n",
            "Epoch 45/100\n",
            "53/55 [===========================>..] - ETA: 0s - loss: 1.0744 - acc: 0.4458\n",
            "Epoch 00045: val_acc did not improve from 0.46631\n",
            "55/55 [==============================] - 0s 5ms/step - loss: 1.0750 - acc: 0.4451 - val_loss: 1.0803 - val_acc: 0.4569\n",
            "Epoch 46/100\n",
            "38/55 [===================>..........] - ETA: 0s - loss: 1.0728 - acc: 0.4424\n",
            "Epoch 00046: val_acc did not improve from 0.46631\n",
            "55/55 [==============================] - 0s 4ms/step - loss: 1.0757 - acc: 0.4457 - val_loss: 1.0910 - val_acc: 0.4515\n",
            "Epoch 47/100\n",
            "55/55 [==============================] - ETA: 0s - loss: 1.0747 - acc: 0.4555\n",
            "Epoch 00047: val_acc improved from 0.46631 to 0.47170, saving model to fte_checkpoint/checkpoint_47\n",
            "55/55 [==============================] - 0s 4ms/step - loss: 1.0747 - acc: 0.4555 - val_loss: 1.0811 - val_acc: 0.4717\n",
            "Epoch 48/100\n",
            "51/55 [==========================>...] - ETA: 0s - loss: 1.0716 - acc: 0.4442\n",
            "Epoch 00048: val_acc did not improve from 0.47170\n",
            "55/55 [==============================] - 0s 5ms/step - loss: 1.0745 - acc: 0.4428 - val_loss: 1.0939 - val_acc: 0.4326\n",
            "Epoch 49/100\n",
            "39/55 [====================>.........] - ETA: 0s - loss: 1.0565 - acc: 0.4615\n",
            "Epoch 00049: val_acc did not improve from 0.47170\n",
            "55/55 [==============================] - 0s 4ms/step - loss: 1.0653 - acc: 0.4555 - val_loss: 1.0892 - val_acc: 0.4367\n",
            "Epoch 50/100\n",
            "52/55 [===========================>..] - ETA: 0s - loss: 1.0696 - acc: 0.4507\n",
            "Epoch 00050: val_acc did not improve from 0.47170\n",
            "55/55 [==============================] - 0s 4ms/step - loss: 1.0691 - acc: 0.4520 - val_loss: 1.0804 - val_acc: 0.4623\n",
            "Epoch 51/100\n",
            "54/55 [============================>.] - ETA: 0s - loss: 1.0672 - acc: 0.4630\n",
            "Epoch 00051: val_acc did not improve from 0.47170\n",
            "55/55 [==============================] - 0s 5ms/step - loss: 1.0667 - acc: 0.4630 - val_loss: 1.0849 - val_acc: 0.4582\n",
            "Epoch 52/100\n",
            "49/55 [=========================>....] - ETA: 0s - loss: 1.0652 - acc: 0.4649\n",
            "Epoch 00052: val_acc did not improve from 0.47170\n",
            "55/55 [==============================] - 0s 4ms/step - loss: 1.0664 - acc: 0.4647 - val_loss: 1.0843 - val_acc: 0.4434\n",
            "Epoch 53/100\n",
            "55/55 [==============================] - ETA: 0s - loss: 1.0675 - acc: 0.4566\n",
            "Epoch 00053: val_acc did not improve from 0.47170\n",
            "55/55 [==============================] - 0s 4ms/step - loss: 1.0675 - acc: 0.4566 - val_loss: 1.0826 - val_acc: 0.4501\n",
            "Epoch 54/100\n",
            "54/55 [============================>.] - ETA: 0s - loss: 1.0686 - acc: 0.4670\n",
            "Epoch 00054: val_acc did not improve from 0.47170\n",
            "55/55 [==============================] - 0s 4ms/step - loss: 1.0691 - acc: 0.4671 - val_loss: 1.0883 - val_acc: 0.4259\n",
            "Epoch 55/100\n",
            "45/55 [=======================>......] - ETA: 0s - loss: 1.0576 - acc: 0.4743\n",
            "Epoch 00055: val_acc did not improve from 0.47170\n",
            "55/55 [==============================] - 0s 4ms/step - loss: 1.0622 - acc: 0.4647 - val_loss: 1.0797 - val_acc: 0.4650\n",
            "Epoch 56/100\n",
            "53/55 [===========================>..] - ETA: 0s - loss: 1.0797 - acc: 0.4629\n",
            "Epoch 00056: val_acc did not improve from 0.47170\n",
            "55/55 [==============================] - 0s 4ms/step - loss: 1.0773 - acc: 0.4636 - val_loss: 1.0783 - val_acc: 0.4690\n",
            "Epoch 57/100\n",
            "53/55 [===========================>..] - ETA: 0s - loss: 1.0677 - acc: 0.4623\n",
            "Epoch 00057: val_acc did not improve from 0.47170\n",
            "55/55 [==============================] - 0s 5ms/step - loss: 1.0668 - acc: 0.4618 - val_loss: 1.0800 - val_acc: 0.4663\n",
            "Epoch 58/100\n",
            "36/55 [==================>...........] - ETA: 0s - loss: 1.0931 - acc: 0.4314\n",
            "Epoch 00058: val_acc did not improve from 0.47170\n",
            "55/55 [==============================] - 0s 4ms/step - loss: 1.0723 - acc: 0.4520 - val_loss: 1.0802 - val_acc: 0.4447\n",
            "Epoch 59/100\n",
            "37/55 [===================>..........] - ETA: 0s - loss: 1.0721 - acc: 0.4628\n",
            "Epoch 00059: val_acc did not improve from 0.47170\n",
            "55/55 [==============================] - 0s 4ms/step - loss: 1.0684 - acc: 0.4642 - val_loss: 1.0845 - val_acc: 0.4515\n",
            "Epoch 60/100\n",
            "54/55 [============================>.] - ETA: 0s - loss: 1.0702 - acc: 0.4543\n",
            "Epoch 00060: val_acc did not improve from 0.47170\n",
            "55/55 [==============================] - 0s 4ms/step - loss: 1.0699 - acc: 0.4543 - val_loss: 1.0856 - val_acc: 0.4434\n",
            "Epoch 61/100\n",
            "36/55 [==================>...........] - ETA: 0s - loss: 1.0564 - acc: 0.4696\n",
            "Epoch 00061: val_acc did not improve from 0.47170\n",
            "55/55 [==============================] - 0s 4ms/step - loss: 1.0589 - acc: 0.4642 - val_loss: 1.0882 - val_acc: 0.4353\n",
            "Epoch 62/100\n",
            "37/55 [===================>..........] - ETA: 0s - loss: 1.0569 - acc: 0.4747\n",
            "Epoch 00062: val_acc improved from 0.47170 to 0.47574, saving model to fte_checkpoint/checkpoint_62\n",
            "55/55 [==============================] - 0s 5ms/step - loss: 1.0658 - acc: 0.4595 - val_loss: 1.0917 - val_acc: 0.4757\n",
            "Epoch 63/100\n",
            "39/55 [====================>.........] - ETA: 0s - loss: 1.0565 - acc: 0.4495\n",
            "Epoch 00063: val_acc did not improve from 0.47574\n",
            "55/55 [==============================] - 0s 4ms/step - loss: 1.0597 - acc: 0.4555 - val_loss: 1.0815 - val_acc: 0.4488\n",
            "Epoch 64/100\n",
            "37/55 [===================>..........] - ETA: 0s - loss: 1.0583 - acc: 0.4502\n",
            "Epoch 00064: val_acc did not improve from 0.47574\n",
            "55/55 [==============================] - 0s 4ms/step - loss: 1.0622 - acc: 0.4566 - val_loss: 1.0952 - val_acc: 0.4340\n",
            "Epoch 65/100\n",
            "54/55 [============================>.] - ETA: 0s - loss: 1.0590 - acc: 0.4618\n",
            "Epoch 00065: val_acc did not improve from 0.47574\n",
            "55/55 [==============================] - 0s 5ms/step - loss: 1.0592 - acc: 0.4618 - val_loss: 1.0891 - val_acc: 0.4367\n",
            "Epoch 66/100\n",
            "54/55 [============================>.] - ETA: 0s - loss: 1.0623 - acc: 0.4699\n",
            "Epoch 00066: val_acc did not improve from 0.47574\n",
            "55/55 [==============================] - 0s 4ms/step - loss: 1.0627 - acc: 0.4694 - val_loss: 1.1419 - val_acc: 0.4272\n",
            "Epoch 67/100\n",
            "55/55 [==============================] - ETA: 0s - loss: 1.0728 - acc: 0.4601\n",
            "Epoch 00067: val_acc did not improve from 0.47574\n",
            "55/55 [==============================] - 0s 4ms/step - loss: 1.0728 - acc: 0.4601 - val_loss: 1.0828 - val_acc: 0.4663\n",
            "Epoch 68/100\n",
            "39/55 [====================>.........] - ETA: 0s - loss: 1.0576 - acc: 0.4647\n",
            "Epoch 00068: val_acc did not improve from 0.47574\n",
            "55/55 [==============================] - 0s 4ms/step - loss: 1.0560 - acc: 0.4717 - val_loss: 1.0811 - val_acc: 0.4582\n",
            "Epoch 69/100\n",
            "38/55 [===================>..........] - ETA: 0s - loss: 1.0434 - acc: 0.4794\n",
            "Epoch 00069: val_acc did not improve from 0.47574\n",
            "55/55 [==============================] - 0s 4ms/step - loss: 1.0530 - acc: 0.4786 - val_loss: 1.0938 - val_acc: 0.4434\n",
            "Epoch 70/100\n",
            "53/55 [===========================>..] - ETA: 0s - loss: 1.0536 - acc: 0.4658\n",
            "Epoch 00070: val_acc did not improve from 0.47574\n",
            "55/55 [==============================] - 0s 4ms/step - loss: 1.0555 - acc: 0.4642 - val_loss: 1.1076 - val_acc: 0.4407\n",
            "Epoch 71/100\n",
            "52/55 [===========================>..] - ETA: 0s - loss: 1.0560 - acc: 0.4772\n",
            "Epoch 00071: val_acc did not improve from 0.47574\n",
            "55/55 [==============================] - 0s 4ms/step - loss: 1.0553 - acc: 0.4780 - val_loss: 1.0989 - val_acc: 0.4555\n",
            "Epoch 72/100\n",
            "55/55 [==============================] - ETA: 0s - loss: 1.0598 - acc: 0.4682\n",
            "Epoch 00072: val_acc did not improve from 0.47574\n",
            "55/55 [==============================] - 0s 4ms/step - loss: 1.0598 - acc: 0.4682 - val_loss: 1.0889 - val_acc: 0.4447\n",
            "Epoch 73/100\n",
            "51/55 [==========================>...] - ETA: 0s - loss: 1.0547 - acc: 0.4694\n",
            "Epoch 00073: val_acc did not improve from 0.47574\n",
            "55/55 [==============================] - 0s 4ms/step - loss: 1.0552 - acc: 0.4705 - val_loss: 1.0980 - val_acc: 0.4407\n",
            "Epoch 74/100\n",
            "53/55 [===========================>..] - ETA: 0s - loss: 1.0500 - acc: 0.4640\n",
            "Epoch 00074: val_acc did not improve from 0.47574\n",
            "55/55 [==============================] - 0s 4ms/step - loss: 1.0508 - acc: 0.4647 - val_loss: 1.0951 - val_acc: 0.4542\n",
            "Epoch 75/100\n",
            "53/55 [===========================>..] - ETA: 0s - loss: 1.0520 - acc: 0.4729\n",
            "Epoch 00075: val_acc did not improve from 0.47574\n",
            "55/55 [==============================] - 0s 5ms/step - loss: 1.0523 - acc: 0.4740 - val_loss: 1.0966 - val_acc: 0.4609\n",
            "Epoch 76/100\n",
            "53/55 [===========================>..] - ETA: 0s - loss: 1.0546 - acc: 0.4723\n",
            "Epoch 00076: val_acc did not improve from 0.47574\n",
            "55/55 [==============================] - 0s 5ms/step - loss: 1.0522 - acc: 0.4757 - val_loss: 1.1049 - val_acc: 0.4313\n",
            "Epoch 77/100\n",
            "46/55 [========================>.....] - ETA: 0s - loss: 1.0546 - acc: 0.4708\n",
            "Epoch 00077: val_acc did not improve from 0.47574\n",
            "55/55 [==============================] - 0s 4ms/step - loss: 1.0561 - acc: 0.4705 - val_loss: 1.0948 - val_acc: 0.4461\n",
            "Epoch 78/100\n",
            "49/55 [=========================>....] - ETA: 0s - loss: 1.0622 - acc: 0.4611\n",
            "Epoch 00078: val_acc did not improve from 0.47574\n",
            "55/55 [==============================] - 0s 4ms/step - loss: 1.0586 - acc: 0.4618 - val_loss: 1.0991 - val_acc: 0.4474\n",
            "Epoch 79/100\n",
            "49/55 [=========================>....] - ETA: 0s - loss: 1.0471 - acc: 0.4815\n",
            "Epoch 00079: val_acc did not improve from 0.47574\n",
            "55/55 [==============================] - 0s 4ms/step - loss: 1.0554 - acc: 0.4705 - val_loss: 1.0970 - val_acc: 0.4326\n",
            "Epoch 80/100\n",
            "51/55 [==========================>...] - ETA: 0s - loss: 1.0512 - acc: 0.4724\n",
            "Epoch 00080: val_acc did not improve from 0.47574\n",
            "55/55 [==============================] - 0s 4ms/step - loss: 1.0570 - acc: 0.4699 - val_loss: 1.0997 - val_acc: 0.4542\n",
            "Epoch 81/100\n",
            "54/55 [============================>.] - ETA: 0s - loss: 1.0499 - acc: 0.4682\n",
            "Epoch 00081: val_acc did not improve from 0.47574\n",
            "55/55 [==============================] - 0s 4ms/step - loss: 1.0500 - acc: 0.4682 - val_loss: 1.0922 - val_acc: 0.4582\n",
            "Epoch 82/100\n",
            "48/55 [=========================>....] - ETA: 0s - loss: 1.0430 - acc: 0.4772\n",
            "Epoch 00082: val_acc did not improve from 0.47574\n",
            "55/55 [==============================] - 0s 5ms/step - loss: 1.0443 - acc: 0.4763 - val_loss: 1.1076 - val_acc: 0.4326\n",
            "Epoch 83/100\n",
            "45/55 [=======================>......] - ETA: 0s - loss: 1.0571 - acc: 0.4653\n",
            "Epoch 00083: val_acc did not improve from 0.47574\n",
            "55/55 [==============================] - 0s 4ms/step - loss: 1.0524 - acc: 0.4717 - val_loss: 1.1047 - val_acc: 0.4542\n",
            "Epoch 84/100\n",
            "51/55 [==========================>...] - ETA: 0s - loss: 1.0462 - acc: 0.4804\n",
            "Epoch 00084: val_acc did not improve from 0.47574\n",
            "55/55 [==============================] - 0s 5ms/step - loss: 1.0427 - acc: 0.4827 - val_loss: 1.1013 - val_acc: 0.4757\n",
            "Epoch 85/100\n",
            "52/55 [===========================>..] - ETA: 0s - loss: 1.0473 - acc: 0.4844\n",
            "Epoch 00085: val_acc did not improve from 0.47574\n",
            "55/55 [==============================] - 0s 4ms/step - loss: 1.0440 - acc: 0.4873 - val_loss: 1.1019 - val_acc: 0.4650\n",
            "Epoch 86/100\n",
            "52/55 [===========================>..] - ETA: 0s - loss: 1.0632 - acc: 0.4645\n",
            "Epoch 00086: val_acc did not improve from 0.47574\n",
            "55/55 [==============================] - 0s 5ms/step - loss: 1.0585 - acc: 0.4671 - val_loss: 1.0937 - val_acc: 0.4461\n",
            "Epoch 87/100\n",
            "47/55 [========================>.....] - ETA: 0s - loss: 1.0408 - acc: 0.4781\n",
            "Epoch 00087: val_acc improved from 0.47574 to 0.48787, saving model to fte_checkpoint/checkpoint_87\n",
            "55/55 [==============================] - 0s 4ms/step - loss: 1.0459 - acc: 0.4769 - val_loss: 1.1121 - val_acc: 0.4879\n",
            "Epoch 88/100\n",
            "52/55 [===========================>..] - ETA: 0s - loss: 1.0510 - acc: 0.4669\n",
            "Epoch 00088: val_acc did not improve from 0.48787\n",
            "55/55 [==============================] - 0s 5ms/step - loss: 1.0573 - acc: 0.4659 - val_loss: 1.0986 - val_acc: 0.4569\n",
            "Epoch 89/100\n",
            "50/55 [==========================>...] - ETA: 0s - loss: 1.0517 - acc: 0.4762\n",
            "Epoch 00089: val_acc did not improve from 0.48787\n",
            "55/55 [==============================] - 0s 4ms/step - loss: 1.0494 - acc: 0.4798 - val_loss: 1.1019 - val_acc: 0.4447\n",
            "Epoch 90/100\n",
            "53/55 [===========================>..] - ETA: 0s - loss: 1.0557 - acc: 0.4746\n",
            "Epoch 00090: val_acc did not improve from 0.48787\n",
            "55/55 [==============================] - 0s 5ms/step - loss: 1.0566 - acc: 0.4746 - val_loss: 1.1016 - val_acc: 0.4677\n",
            "Epoch 91/100\n",
            "48/55 [=========================>....] - ETA: 0s - loss: 1.0649 - acc: 0.4603\n",
            "Epoch 00091: val_acc did not improve from 0.48787\n",
            "55/55 [==============================] - 0s 4ms/step - loss: 1.0614 - acc: 0.4595 - val_loss: 1.1026 - val_acc: 0.4555\n",
            "Epoch 92/100\n",
            "54/55 [============================>.] - ETA: 0s - loss: 1.0404 - acc: 0.4844\n",
            "Epoch 00092: val_acc did not improve from 0.48787\n",
            "55/55 [==============================] - 0s 4ms/step - loss: 1.0404 - acc: 0.4844 - val_loss: 1.1022 - val_acc: 0.4515\n",
            "Epoch 93/100\n",
            "40/55 [====================>.........] - ETA: 0s - loss: 1.0595 - acc: 0.4703\n",
            "Epoch 00093: val_acc did not improve from 0.48787\n",
            "55/55 [==============================] - 0s 4ms/step - loss: 1.0581 - acc: 0.4757 - val_loss: 1.0971 - val_acc: 0.4474\n",
            "Epoch 94/100\n",
            "55/55 [==============================] - ETA: 0s - loss: 1.0439 - acc: 0.4798\n",
            "Epoch 00094: val_acc did not improve from 0.48787\n",
            "55/55 [==============================] - 0s 5ms/step - loss: 1.0439 - acc: 0.4798 - val_loss: 1.1008 - val_acc: 0.4528\n",
            "Epoch 95/100\n",
            "51/55 [==========================>...] - ETA: 0s - loss: 1.0379 - acc: 0.4853\n",
            "Epoch 00095: val_acc did not improve from 0.48787\n",
            "55/55 [==============================] - 0s 4ms/step - loss: 1.0375 - acc: 0.4850 - val_loss: 1.1149 - val_acc: 0.4447\n",
            "Epoch 96/100\n",
            "54/55 [============================>.] - ETA: 0s - loss: 1.0453 - acc: 0.4792\n",
            "Epoch 00096: val_acc did not improve from 0.48787\n",
            "55/55 [==============================] - 0s 4ms/step - loss: 1.0451 - acc: 0.4798 - val_loss: 1.2288 - val_acc: 0.4245\n",
            "Epoch 97/100\n",
            "55/55 [==============================] - ETA: 0s - loss: 1.0423 - acc: 0.4827\n",
            "Epoch 00097: val_acc did not improve from 0.48787\n",
            "55/55 [==============================] - 0s 4ms/step - loss: 1.0423 - acc: 0.4827 - val_loss: 1.1242 - val_acc: 0.4407\n",
            "Epoch 98/100\n",
            "40/55 [====================>.........] - ETA: 0s - loss: 1.0379 - acc: 0.4906\n",
            "Epoch 00098: val_acc did not improve from 0.48787\n",
            "55/55 [==============================] - 0s 4ms/step - loss: 1.0469 - acc: 0.4861 - val_loss: 1.1227 - val_acc: 0.4353\n",
            "Epoch 99/100\n",
            "48/55 [=========================>....] - ETA: 0s - loss: 1.0441 - acc: 0.4915\n",
            "Epoch 00099: val_acc did not improve from 0.48787\n",
            "55/55 [==============================] - 0s 5ms/step - loss: 1.0525 - acc: 0.4832 - val_loss: 1.1107 - val_acc: 0.4596\n",
            "Epoch 100/100\n",
            "40/55 [====================>.........] - ETA: 0s - loss: 1.0373 - acc: 0.4867\n",
            "Epoch 00100: val_acc did not improve from 0.48787\n",
            "55/55 [==============================] - 0s 4ms/step - loss: 1.0357 - acc: 0.4879 - val_loss: 1.1130 - val_acc: 0.4596\n"
          ]
        }
      ]
    },
    {
      "cell_type": "code",
      "source": [
        "#Plotting model history\n",
        "plt.plot(ftExtract_history.history['acc'])\n",
        "plt.plot(ftExtract_history.history['loss'])\n",
        "plt.legend(['Training Accuracy', 'Training Loss'])\n",
        "plt.title('Training History')\n",
        "plt.ylabel('Value')\n",
        "plt.xlabel('epochs')\n",
        "plt.show()\n",
        "print(\"Initial training accuracy with preprocessing is: \", ftExtract_history.history['acc'][0])\n",
        "print(\"Final training accuracy with preprocessing is: \", ftExtract_history.history['acc'][-1])\n",
        "\n",
        "print(\"Initial training loss with preprocessing is: \", ftExtract_history.history['loss'][0])\n",
        "print(\"Final training loss with preprocessing is: \", ftExtract_history.history['loss'][-1])"
      ],
      "metadata": {
        "colab": {
          "base_uri": "https://localhost:8080/",
          "height": 368
        },
        "id": "UDkdUXs9HeIX",
        "outputId": "4f960cd8-74ad-443d-9d21-06c24f394f3d"
      },
      "execution_count": null,
      "outputs": [
        {
          "output_type": "display_data",
          "data": {
            "image/png": "[encoded data removed]",
            "text/plain": [
              "<Figure size 432x288 with 1 Axes>"
            ]
          },
          "metadata": {
            "needs_background": "light"
          }
        },
        {
          "output_type": "stream",
          "name": "stdout",
          "text": [
            "Initial training accuracy with preprocessing is:  0.3208092451095581\n",
            "Final training accuracy with preprocessing is:  0.4878612756729126\n",
            "Initial training loss with preprocessing is:  1.3162490129470825\n",
            "Final training loss with preprocessing is:  1.0357197523117065\n"
          ]
        }
      ]
    },
    {
      "cell_type": "code",
      "source": [
        "#Plotting model history\n",
        "plt.plot(ftExtract_history.history['val_acc'])\n",
        "plt.plot(ftExtract_history.history['val_loss'])\n",
        "plt.legend(['Valdation Accuracy', 'Validation Loss'])\n",
        "plt.title('Validation History')\n",
        "plt.ylabel('Value')\n",
        "plt.xlabel('epochs')\n",
        "plt.show()\n",
        "print(\"Initial Validation accuracy with preprocessing is: \", ftExtract_history.history['val_acc'][0])\n",
        "print(\"Final Validation accuracy with preprocessing is: \", ftExtract_history.history['val_acc'][-1])\n",
        "\n",
        "print(\"Initial Validation loss with preprocessing is: \", ftExtract_history.history['val_loss'][0])\n",
        "print(\"Final Validation loss with preprocessing is: \", ftExtract_history.history['val_loss'][-1])"
      ],
      "metadata": {
        "colab": {
          "base_uri": "https://localhost:8080/",
          "height": 368
        },
        "id": "Anw-jvRHGI-W",
        "outputId": "b69a917e-4107-4b9d-fd65-a81680403258"
      },
      "execution_count": null,
      "outputs": [
        {
          "output_type": "display_data",
          "data": {
            "image/png": "[encoded data removed]",
            "text/plain": [
              "<Figure size 432x288 with 1 Axes>"
            ]
          },
          "metadata": {
            "needs_background": "light"
          }
        },
        {
          "output_type": "stream",
          "name": "stdout",
          "text": [
            "Initial Validation accuracy with preprocessing is:  0.37735849618911743\n",
            "Final Validation accuracy with preprocessing is:  0.45956873893737793\n",
            "Initial Validation loss with preprocessing is:  1.1858807802200317\n",
            "Final Validation loss with preprocessing is:  1.1129980087280273\n"
          ]
        }
      ]
    }
  ]
}