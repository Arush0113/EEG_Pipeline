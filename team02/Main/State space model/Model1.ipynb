{
 "cells": [
  {
   "cell_type": "code",
   "execution_count": null,
   "id": "d7bde899-62d1-4a25-908a-adf5f434d3fa",
   "metadata": {},
   "outputs": [],
   "source": [
    "import numpy as np\n",
    "import matplotlib.pyplot as plt\n",
    "import tensorflow as tf\n",
    "from tensorflow.keras.layers import Conv1D, Conv2D, MaxPool1D, BatchNormalization, Attention, LSTM, LeakyReLU, Softmax, Dense"
   ]
  },
  {
   "cell_type": "code",
   "execution_count": null,
   "id": "e5ee78d8-b08a-472f-b098-99f27bb652b6",
   "metadata": {},
   "outputs": [],
   "source": [
    "file = np.load(\"ica_data.npz\")\n",
    "X = file[\"X\"]\n",
    "y = file[\"y\"]\n",
    "del file\n",
    "print(X.shape)\n",
    "print(y.shape)"
   ]
  },
  {
   "cell_type": "code",
   "execution_count": null,
   "id": "78d31f0e-c2b3-4426-ad09-60039b02d694",
   "metadata": {},
   "outputs": [],
   "source": [
    "num_classes = 4\n",
    "y = tf.keras.utils.to_categorical(y, num_classes)\n",
    "y.shape"
   ]
  },
  {
   "cell_type": "code",
   "execution_count": null,
   "id": "796c2213-2232-4b13-a2e4-1236962bf417",
   "metadata": {},
   "outputs": [],
   "source": [
    "def reshape_data(data):\n",
    "    \"\"\"\"\n",
    "    Changing the shape of data from (events, channel, time points) to (events, time points, channel)\n",
    "    \"\"\"\n",
    "    datars = np.zeros((data.shape[0], data.shape[2], data.shape[1]))\n",
    "    for i in range(datars.shape[0]):\n",
    "        datars[i] = np.transpose(data[i])\n",
    "    return datars\n",
    "\n",
    "X = reshape_data(X)\n",
    "X.shape"
   ]
  },
  {
   "cell_type": "code",
   "execution_count": null,
   "id": "8b7ff5f1-2ea6-439f-a52c-47b24da8d935",
   "metadata": {},
   "outputs": [],
   "source": [
    "from sklearn.model_selection import train_test_split\n",
    "X_train, X_test, y_train, y_test = train_test_split(X, y, test_size = 0.8)"
   ]
  },
  {
   "cell_type": "code",
   "execution_count": null,
   "id": "aa971f28-9939-4c3b-b331-54d9b0705723",
   "metadata": {},
   "outputs": [],
   "source": [
    "inp_shape = (X.shape[1], X.shape[2])\n",
    "model = tf.keras.Sequential()\n",
    "model.add(tf.keras.layers.InputLayer(input_shape = inp_shape))\n",
    "model.add(Conv1D(filters = 16, kernel_size = 120, strides = 6, padding = 'same'))\n",
    "model.add(LeakyReLU())\n",
    "model.add(MaxPool1D(pool_size = 2, strides = 2))\n",
    "model.add(Conv1D(filters = 32, kernel_size = 3, strides = 1, padding = 'same'))\n",
    "model.add(LeakyReLU())\n",
    "model.add(MaxPool1D(pool_size = 2, strides = 2))\n",
    "model.add(Conv1D(filters = 64, kernel_size = 3, strides = 1, padding = 'same'))\n",
    "model.add(LeakyReLU())\n",
    "model.add(MaxPool1D(pool_size = 2, strides = 2))\n",
    "model.add(Conv1D(filters = 80, kernel_size = 3, strides = 1, padding = 'same'))\n",
    "model.add(LeakyReLU())\n",
    "model.add(MaxPool1D(pool_size = 2, strides = 2))\n",
    "model.add(Conv1D(filters = 80, kernel_size = 3, strides = 1, padding = 'same'))\n",
    "model.add(LeakyReLU())\n",
    "model.add(MaxPool1D(pool_size = 2, strides = 2))\n",
    "model.add(Conv1D(filters = 80, kernel_size = 3, strides = 1, padding = 'same'))\n",
    "model.add(LeakyReLU())\n",
    "model.add(MaxPool1D(pool_size = 2, strides = 2))\n",
    "model.add(Conv1D(filters = 80, kernel_size = 3, strides = 1, padding = 'same'))\n",
    "model.add(LeakyReLU())\n",
    "model.add(MaxPool1D(pool_size = 2, strides = 2))\n",
    "model.add(Conv1D(filters = 80, kernel_size = 3, strides = 1, padding = 'same'))\n",
    "model.add(LeakyReLU())\n",
    "model.add(MaxPool1D(pool_size = 2, strides = 2))\n",
    "model.add(Conv1D(filters = 80, kernel_size = 3, strides = 1, padding = 'same'))\n",
    "model.add(LeakyReLU())\n",
    "model.add(MaxPool1D(pool_size = 2, strides = 2))\n",
    "model.add(Conv1D(filters = 80, kernel_size = 3, strides = 1, padding = 'same'))\n",
    "model.add(LeakyReLU())\n",
    "model.add(MaxPool1D(pool_size = 2, strides = 2))\n",
    "model.add(LSTM(128))\n",
    "model.add(LeakyReLU())\n",
    "model.add(LSTM(128))\n",
    "model.add(LeakyReLU())\n",
    "model.add(LSTM(128))\n",
    "model.add(LeakyReLU())\n",
    "model.add(Dense(100))\n",
    "model.add(LeakyReLU())\n",
    "model.add(Dense(num_classes))\n",
    "model.add(Softmax())\n",
    "model.summary()"
   ]
  },
  {
   "cell_type": "code",
   "execution_count": null,
   "id": "725ed54a-b0ea-4032-a075-e80495867a50",
   "metadata": {},
   "outputs": [],
   "source": [
    "model.compile(loss = 'categorical_crossentropy', metrics = ['acc'], optimizer = 'adam')"
   ]
  },
  {
   "cell_type": "code",
   "execution_count": null,
   "id": "567169cc-d19e-4f4f-9466-93e76aa126bf",
   "metadata": {},
   "outputs": [],
   "source": [
    "history = model.fit(X_train, y_train, validation_data = (X_test, y_test), epochs = 100)"
   ]
  }
 ],
 "metadata": {
  "kernelspec": {
   "display_name": "Python 3 (ipykernel)",
   "language": "python",
   "name": "python3"
  },
  "language_info": {
   "codemirror_mode": {
    "name": "ipython",
    "version": 3
   },
   "file_extension": ".py",
   "mimetype": "text/x-python",
   "name": "python",
   "nbconvert_exporter": "python",
   "pygments_lexer": "ipython3",
   "version": "3.9.7"
  }
 },
 "nbformat": 4,
 "nbformat_minor": 5
}
