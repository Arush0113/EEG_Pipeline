{
 "cells": [
  {
   "cell_type": "markdown",
   "metadata": {
    "id": "cjfQbQWQvg3p"
   },
   "source": [
    "# Applying Machine learning for classification"
   ]
  },
  {
   "cell_type": "code",
   "execution_count": 6,
   "metadata": {
    "id": "5AgDdZ0bvg3p",
    "outputId": "852cddf2-8dc7-4949-8a53-28b135316336"
   },
   "outputs": [
    {
     "name": "stdout",
     "output_type": "stream",
     "text": [
      "0.23.0\n"
     ]
    }
   ],
   "source": [
    "#Loading important libraries\n",
    "import matplotlib\n",
    "import pathlib\n",
    "import mne\n",
    "print(mne.__version__)\n",
    "import numpy as np\n",
    "import tensorflow as tf\n",
    "import matplotlib.pyplot as plt\n",
    "matplotlib.use('Qt5Agg')\n",
    "\n",
    "from tensorflow.keras.models import Model, Sequential\n",
    "from tensorflow.keras.layers import Dense, Softmax\n",
    "from tensorflow.keras.optimizers import Adam\n",
    "from tensorflow.keras.callbacks import EarlyStopping, ModelCheckpoint"
   ]
  },
  {
   "cell_type": "markdown",
   "metadata": {
    "id": "b_KWaIbrvg3q"
   },
   "source": [
    "## loading and Preparing data"
   ]
  },
  {
   "cell_type": "markdown",
   "metadata": {},
   "source": [
    "Firstly we directly load the data that we had saved after the processing from the previous notebook."
   ]
  },
  {
   "cell_type": "code",
   "execution_count": 31,
   "metadata": {},
   "outputs": [],
   "source": [
    "loadfile = np.load(\"data1.npz\")\n",
    "datars = loadfile[\"X\"]\n",
    "y = loadfile[\"y\"]\n",
    "del loadfile"
   ]
  },
  {
   "cell_type": "markdown",
   "metadata": {},
   "source": [
    "n_trials = total number of trials (for the subjects we are taking so far).\n",
    "\n",
    "dims_ip = number of input dimensions for feeding into the MLP model. Note that for feeding to the MLP model, we have to flatten the 351 X 61 to 21411.\n",
    "\n",
    "dims_lstm_1 and dims_lstm_2 are just used for feeding the data into the lstm and cnn models."
   ]
  },
  {
   "cell_type": "code",
   "execution_count": 32,
   "metadata": {
    "id": "kCb_Pc4lvg3q",
    "outputId": "1b846d81-7040-42d1-ee95-6629a3c4e5c8"
   },
   "outputs": [
    {
     "name": "stdout",
     "output_type": "stream",
     "text": [
      "(1875, 351, 61)\n",
      "(1875, 21411)\n"
     ]
    },
    {
     "data": {
      "text/plain": [
       "21411"
      ]
     },
     "execution_count": 32,
     "metadata": {},
     "output_type": "execute_result"
    }
   ],
   "source": [
    "print(datars.shape)\n",
    "\n",
    "n_trials = datars.shape[0]\n",
    "dims_lstm_1 = datars.shape[1]\n",
    "dims_lstm_2 = datars.shape[2]\n",
    "\n",
    "\n",
    "datars_flattened = datars.reshape(n_trials, -1)\n",
    "print(datars_flattened.shape)\n",
    "\n",
    "dims_ip = datars_flattened.shape[1]\n",
    "dims_ip\n"
   ]
  },
  {
   "cell_type": "markdown",
   "metadata": {},
   "source": [
    "Just reshaping y from (num_samples, ) to (num_samples, 1) and then concatenating x (stored in datars currently) and y with axis = 1 so that we can remove the error samples (explained thoroughly just below)."
   ]
  },
  {
   "cell_type": "code",
   "execution_count": 33,
   "metadata": {
    "id": "G6yAIQrmvg3r",
    "outputId": "9c2afbe6-eb7c-4cbd-ef7c-0f8bfa3c86df"
   },
   "outputs": [
    {
     "name": "stdout",
     "output_type": "stream",
     "text": [
      "(1875, 351, 61)\n",
      "(1875, 1)\n",
      "(1875, 21412)\n",
      "(1875, 21411)\n",
      "(1875,)\n"
     ]
    }
   ],
   "source": [
    "#Preparing main dataset\n",
    "y = y.reshape(-1, 1)\n",
    "# y = y[...,np.newaxis]\n",
    "datarscopy = datars.copy()\n",
    "datarscopy = datarscopy.reshape(datars.shape[0], -1)\n",
    "\n",
    "print(datars.shape)\n",
    "print(y.shape)\n",
    "main_dataset = np.concatenate((datarscopy, y), axis = 1)\n",
    "print(main_dataset.shape)\n",
    "\n",
    "#Defining main x and y for training\n",
    "main_x = main_dataset[:, :-1]\n",
    "main_y = main_dataset[:, -1]\n",
    "print(main_x.shape)\n",
    "print(main_y.shape)"
   ]
  },
  {
   "cell_type": "markdown",
   "metadata": {
    "id": "dthL1qHYvg3r"
   },
   "source": [
    "## Classfying go/no/cue/button press"
   ]
  },
  {
   "cell_type": "markdown",
   "metadata": {},
   "source": [
    "The dataset variable is just a copy of main_dataset with the difference now that we are removing all the error labelled samples. There are various kind of errors that our subjects exhibit like not pressing the buttong when they are supposed to or pressing them when they are not supposed to.\n",
    "\n",
    "Then furthur we are creating the (xmlp, ymlp), (xcnn, ycnn) and (xlstm, ylstm) by copying from the x and y that we have obtained after removing the error samples from the dataset. We also have to reshape the xcnn and xlstm so as to be able to fit them into the corresponding models."
   ]
  },
  {
   "cell_type": "code",
   "execution_count": 34,
   "metadata": {
    "id": "3iJsd-PHvg3r",
    "outputId": "5c62751b-ca14-40f0-a23e-cf5260ad09a0"
   },
   "outputs": [
    {
     "name": "stdout",
     "output_type": "stream",
     "text": [
      "(1875, 21412)\n",
      "(1123, 21412)\n",
      "(1123, 21411)\n",
      "(1123,)\n",
      "[1.0, 2.0, 4.0, 5.0]\n",
      "[-1.36049910e-05 -1.44154366e-05 -8.69092783e-06 ... -2.58918331e-06\n",
      " -2.30705942e-06 -2.82092341e-06]\n",
      "[-1.77927571e-06 -5.17783191e-06  2.93138131e-06 ... -3.21424524e-06\n",
      " -2.26378243e-06 -2.96674828e-06]\n"
     ]
    }
   ],
   "source": [
    "#Removing events which are not needed for current task\n",
    "dataset = main_dataset.copy()\n",
    "print(dataset.shape)\n",
    "dataset = dataset[dataset[:, -1]!=9]\n",
    "dataset = dataset[dataset[:, -1]!=10]\n",
    "\n",
    "dataset = dataset[dataset[:, -1]!=3]\n",
    "dataset = dataset[dataset[:, -1]!=6]\n",
    "dataset = dataset[dataset[:, -1]!=7]\n",
    "dataset = dataset[dataset[:, -1]!=8]\n",
    "dataset = dataset[dataset[:, -1]!=11]\n",
    "\n",
    "print(dataset.shape)\n",
    "\n",
    "#Defining x and y\n",
    "x = dataset[:, :-1]\n",
    "y = dataset[:, -1]\n",
    "print(x.shape)\n",
    "print(y.shape)\n",
    "print(list(set(y)))\n",
    "\n",
    "permutations = np.random.permutation(len(x))\n",
    "# print(permutation)\n",
    "print(x[-1])\n",
    "x = x[permutations]\n",
    "y = y[permutations]\n",
    "print(x[-1])\n",
    "\n",
    "xmlp = x.copy()\n",
    "ymlp = y.copy()\n",
    "\n",
    "xlstm = x.copy().reshape((-1, dims_lstm_1, dims_lstm_2))\n",
    "ylstm = y.copy()\n",
    "\n",
    "xcnn = x.copy().reshape((-1, dims_lstm_1, dims_lstm_2))\n",
    "ycnn = y.copy()"
   ]
  },
  {
   "cell_type": "markdown",
   "metadata": {},
   "source": [
    "Now we are just changing the cue, go, no-go and button-press to 0, 1, 2 and 3 so that we can now properly apply One-hot encoding. Also printing list(set(y)) for checking if we only now have the labels that we need."
   ]
  },
  {
   "cell_type": "code",
   "execution_count": 35,
   "metadata": {
    "id": "w2Y6vA47vg3r",
    "outputId": "081ac356-1e0e-426b-83d8-9f24ee8c9b7a"
   },
   "outputs": [
    {
     "name": "stdout",
     "output_type": "stream",
     "text": [
      "[0.0, 1.0, 2.0, 3.0]\n"
     ]
    }
   ],
   "source": [
    "#Encoding y\n",
    "dict = {1.0: 0,2.0: 1, 4.0: 2, 5.0: 3}\n",
    "\n",
    "for i in range(len(y)):\n",
    "    y[i] = dict[y[i]]\n",
    "    ylstm[i] = dict[ylstm[i]]\n",
    "\n",
    "print(list(set(y)))"
   ]
  },
  {
   "cell_type": "markdown",
   "metadata": {},
   "source": [
    "Now we apply the one-hot encoding to the new labels and hence successfully creating ymlp, ycnn and ylstm."
   ]
  },
  {
   "cell_type": "code",
   "execution_count": 36,
   "metadata": {
    "id": "IE1x9D9Nvg3r",
    "outputId": "241516e0-4175-4b90-8a23-45bd8bc7e5e8"
   },
   "outputs": [
    {
     "name": "stdout",
     "output_type": "stream",
     "text": [
      "[[1. 0. 0. 0.]\n",
      " [0. 0. 1. 0.]\n",
      " [1. 0. 0. 0.]\n",
      " [1. 0. 0. 0.]\n",
      " [0. 0. 0. 1.]\n",
      " [1. 0. 0. 0.]\n",
      " [1. 0. 0. 0.]\n",
      " [1. 0. 0. 0.]\n",
      " [1. 0. 0. 0.]\n",
      " [1. 0. 0. 0.]]\n"
     ]
    }
   ],
   "source": [
    "import tensorflow as tf\n",
    "\n",
    "num_classes = 4\n",
    "y = tf.keras.utils.to_categorical(y, num_classes)\n",
    "ymlp = y.copy()\n",
    "ylstm = y.copy()\n",
    "ycnn = y.copy()\n",
    "# yab10_1[0]\n",
    "print(y[:10])"
   ]
  },
  {
   "cell_type": "markdown",
   "metadata": {},
   "source": [
    "We just take the 1st 80% of the sample for training data and the later 20% for testing data."
   ]
  },
  {
   "cell_type": "code",
   "execution_count": 37,
   "metadata": {
    "id": "-Jk-vsqtvg3s",
    "outputId": "3196eda2-e6eb-4e93-c1bd-3b2d64609712"
   },
   "outputs": [
    {
     "name": "stdout",
     "output_type": "stream",
     "text": [
      "898\n"
     ]
    }
   ],
   "source": [
    "train_test_split = int(0.8 * len(xmlp))\n",
    "print(train_test_split)\n",
    "\n",
    "x_train_mlp = xmlp[:train_test_split]\n",
    "y_train_mlp = ymlp[:train_test_split]\n",
    "\n",
    "x_test_mlp = xmlp[train_test_split:]\n",
    "y_test_mlp = ymlp[train_test_split:]\n",
    "\n",
    "# x_mlp_train = xmlp[:]"
   ]
  },
  {
   "cell_type": "markdown",
   "metadata": {},
   "source": [
    "The function get_cyclic_generator takes the whole X and Y as the input and then creates batches of any size (default value = 1). Since it is a cyclic generator, it does not stop itself and we have to set an additional parameter steps_per_epoch other than epochs. "
   ]
  },
  {
   "cell_type": "code",
   "execution_count": 38,
   "metadata": {
    "id": "dP2LaLtjvg3s"
   },
   "outputs": [],
   "source": [
    "def get_cyclic_generator(features, labels, batch_size = 1):\n",
    "  while True:\n",
    "    for n in range(features.shape[0]//batch_size):\n",
    "      yield (features[n*batch_size: (n+1)*batch_size], labels[n*batch_size: (n+1)*batch_size])\n",
    "    permuted = np.random.permutation(len(features))\n",
    "    features = features[permuted]\n",
    "    labels = labels[permuted]"
   ]
  },
  {
   "cell_type": "markdown",
   "metadata": {},
   "source": [
    "For our purpose we set the train_batch_size = 32 (a common value for batch_size) for getting our train_cyclic_generator.\n",
    "\n",
    "Currently, we are not using this train_cyclic_generator while training the model and rather just feeding the X and y directly into the model with shuffling turned on, since we have a few doubts regarding the same. \n",
    "\n",
    "SIR PLEASE TALK TO US REGARDING THIS ONCE SO THAT WE KNOW IF WE SHOULD USE THIS CYCLIC GENERATOR OR NOT."
   ]
  },
  {
   "cell_type": "code",
   "execution_count": 39,
   "metadata": {
    "id": "qmGj3VsGvg3s"
   },
   "outputs": [],
   "source": [
    "train_batch_size = 32\n",
    "train_cyclic_generator_mlp = get_cyclic_generator(x_train_mlp, y_train_mlp, batch_size = train_batch_size)\n",
    "# test_cyclic_generator_mlp = get_cyclic_generator(x_test_mlp, y_test_mlp, batch_size = train_batch_size)"
   ]
  },
  {
   "cell_type": "markdown",
   "metadata": {
    "id": "IM0PRBJVvg3s"
   },
   "source": [
    "### Training on MLP Model"
   ]
  },
  {
   "cell_type": "markdown",
   "metadata": {},
   "source": [
    "This is the first model that we have created for our classification task. This is a Multi-layer Perceptron model. It consists of 3 dense layers in total, the first 2 followed by dropout layers for avoiding overfittiing. The final layer has 4 output classes with Softmax activation for the classification task."
   ]
  },
  {
   "cell_type": "code",
   "execution_count": 40,
   "metadata": {
    "id": "E5_qtcaevg3s",
    "outputId": "b9404ba4-0a71-43ae-b7ba-eafddf359289"
   },
   "outputs": [
    {
     "name": "stdout",
     "output_type": "stream",
     "text": [
      "WARNING:tensorflow:From D:\\anacondainstalled\\lib\\site-packages\\tensorflow\\python\\keras\\initializers.py:143: calling RandomNormal.__init__ (from tensorflow.python.ops.init_ops) with dtype is deprecated and will be removed in a future version.\n",
      "Instructions for updating:\n",
      "Call initializer instance with the dtype argument instead of passing it to the constructor\n",
      "WARNING:tensorflow:From D:\\anacondainstalled\\lib\\site-packages\\tensorflow\\python\\ops\\init_ops.py:1251: calling VarianceScaling.__init__ (from tensorflow.python.ops.init_ops) with dtype is deprecated and will be removed in a future version.\n",
      "Instructions for updating:\n",
      "Call initializer instance with the dtype argument instead of passing it to the constructor\n",
      "Model: \"model\"\n",
      "_________________________________________________________________\n",
      "Layer (type)                 Output Shape              Param #   \n",
      "=================================================================\n",
      "input_1 (InputLayer)         [(None, 21411)]           0         \n",
      "_________________________________________________________________\n",
      "dense (Dense)                (None, 32)                685184    \n",
      "_________________________________________________________________\n",
      "dropout (Dropout)            (None, 32)                0         \n",
      "_________________________________________________________________\n",
      "dense_1 (Dense)              (None, 16)                528       \n",
      "_________________________________________________________________\n",
      "dropout_1 (Dropout)          (None, 16)                0         \n",
      "_________________________________________________________________\n",
      "dense_2 (Dense)              (None, 4)                 68        \n",
      "=================================================================\n",
      "Total params: 685,780\n",
      "Trainable params: 685,780\n",
      "Non-trainable params: 0\n",
      "_________________________________________________________________\n"
     ]
    }
   ],
   "source": [
    "#Creating model architecture\n",
    "inp_shape = (dims_ip, )\n",
    "ip = tf.keras.Input(shape = inp_shape)\n",
    "dense1 = tf.keras.layers.Dense(units = 32, activation = 'relu', kernel_initializer = 'random_normal')(ip)\n",
    "drop = tf.keras.layers.Dropout(.4)(dense1)\n",
    "dense2 = tf.keras.layers.Dense(units = 16, activation = 'relu', kernel_initializer = 'random_normal')(drop)\n",
    "drop2 = tf.keras.layers.Dropout(.4)(dense2)\n",
    "out = tf.keras.layers.Dense(num_classes, activation = 'softmax')(drop2)\n",
    "\n",
    "mlp = tf.keras.Model(inputs = ip, outputs = out)\n",
    "mlp.summary()"
   ]
  },
  {
   "cell_type": "markdown",
   "metadata": {},
   "source": [
    "We have used 2 callbacks here, The EarlyStop callback and the ModelCheckpoint callback. The min_delta value is 0.001 and any change greater than that will be considered as an improvement. We are monitoring Validation Accuracy as a measure of improvement (or opposite) and patience is set to 10."
   ]
  },
  {
   "cell_type": "code",
   "execution_count": 41,
   "metadata": {
    "id": "EToxzBe-vg3s"
   },
   "outputs": [],
   "source": [
    "# Compiling the model\n",
    "mlp_earlystop = EarlyStopping(patience = 10, min_delta = 0.001, monitor = 'val_acc')\n",
    "\n",
    "path = 'mlp_checkpoint/checkpoint_{epoch:02d}';\n",
    "mlp_checkpoint = ModelCheckpoint(filepath = path,\n",
    "                            verbose = 1,\n",
    "                            monitor = 'val_acc',\n",
    "                            save_freq = 'epoch',\n",
    "                            save_best_only = True,\n",
    "                            save_weights_only = True)\n",
    "\n",
    "mlp.compile(loss = 'categorical_crossentropy', metrics = ['acc'], optimizer = 'adam')"
   ]
  },
  {
   "cell_type": "markdown",
   "metadata": {},
   "source": [
    "We are training the model for a maximum of 100 epochs and have set the batch size equal to 32. The training data is created by taking 80% of the training data and testing data is the rest 20%."
   ]
  },
  {
   "cell_type": "code",
   "execution_count": 42,
   "metadata": {
    "id": "jDgQ6FqLvg3t",
    "outputId": "4970ff81-1ef4-4d4f-e6e1-e9e2155262d6",
    "scrolled": true
   },
   "outputs": [
    {
     "name": "stdout",
     "output_type": "stream",
     "text": [
      "Train on 898 samples, validate on 225 samples\n",
      "Epoch 1/100\n",
      "898/898 [==============================] - 1s 2ms/sample - loss: 1.3658 - acc: 0.6136 - val_loss: 1.3325 - val_acc: 0.6933\n",
      "Epoch 2/100\n",
      "898/898 [==============================] - 1s 882us/sample - loss: 1.3041 - acc: 0.6281 - val_loss: 1.2253 - val_acc: 0.6933\n",
      "Epoch 3/100\n",
      "898/898 [==============================] - 1s 901us/sample - loss: 1.1986 - acc: 0.6281 - val_loss: 1.0756 - val_acc: 0.6933\n",
      "Epoch 4/100\n",
      "898/898 [==============================] - 1s 635us/sample - loss: 1.1070 - acc: 0.6281 - val_loss: 0.9699 - val_acc: 0.6933\n",
      "Epoch 5/100\n",
      "898/898 [==============================] - 1s 636us/sample - loss: 1.0606 - acc: 0.6281 - val_loss: 0.9334 - val_acc: 0.6933\n",
      "Epoch 6/100\n",
      "898/898 [==============================] - 1s 678us/sample - loss: 1.0359 - acc: 0.6281 - val_loss: 0.9181 - val_acc: 0.6933\n",
      "Epoch 7/100\n",
      "898/898 [==============================] - 1s 590us/sample - loss: 1.0197 - acc: 0.6281 - val_loss: 0.9159 - val_acc: 0.6933\n",
      "Epoch 8/100\n",
      "898/898 [==============================] - 1s 681us/sample - loss: 1.0326 - acc: 0.6281 - val_loss: 0.9138 - val_acc: 0.6933\n",
      "Epoch 9/100\n",
      "898/898 [==============================] - 1s 665us/sample - loss: 1.0120 - acc: 0.6281 - val_loss: 0.9005 - val_acc: 0.6933\n",
      "Epoch 10/100\n",
      "898/898 [==============================] - 1s 732us/sample - loss: 1.0174 - acc: 0.6281 - val_loss: 0.9060 - val_acc: 0.6933\n",
      "Epoch 11/100\n",
      "898/898 [==============================] - 1s 1ms/sample - loss: 0.9950 - acc: 0.6281 - val_loss: 0.8977 - val_acc: 0.6933\n",
      "Epoch 12/100\n",
      "898/898 [==============================] - 1s 1ms/sample - loss: 0.9811 - acc: 0.6281 - val_loss: 0.8960 - val_acc: 0.6933\n",
      "Epoch 13/100\n",
      "898/898 [==============================] - 1s 823us/sample - loss: 0.9957 - acc: 0.6281 - val_loss: 0.8935 - val_acc: 0.6933\n",
      "Epoch 14/100\n",
      "898/898 [==============================] - 1s 880us/sample - loss: 0.9941 - acc: 0.6281 - val_loss: 0.8944 - val_acc: 0.6933\n",
      "Epoch 15/100\n",
      "898/898 [==============================] - 1s 1ms/sample - loss: 0.9901 - acc: 0.6281 - val_loss: 0.8990 - val_acc: 0.6933\n",
      "Epoch 16/100\n",
      "898/898 [==============================] - 1s 917us/sample - loss: 0.9939 - acc: 0.6281 - val_loss: 0.8964 - val_acc: 0.6933\n",
      "Epoch 17/100\n",
      "898/898 [==============================] - 0s 536us/sample - loss: 0.9871 - acc: 0.6281 - val_loss: 0.8971 - val_acc: 0.6933\n",
      "Epoch 18/100\n",
      "898/898 [==============================] - 1s 597us/sample - loss: 0.9891 - acc: 0.6281 - val_loss: 0.8989 - val_acc: 0.6933\n",
      "Epoch 19/100\n",
      "898/898 [==============================] - 1s 645us/sample - loss: 0.9814 - acc: 0.6281 - val_loss: 0.8949 - val_acc: 0.6933\n",
      "Epoch 20/100\n",
      "898/898 [==============================] - 1s 712us/sample - loss: 0.9792 - acc: 0.6281 - val_loss: 0.8981 - val_acc: 0.6933\n",
      "Epoch 21/100\n",
      "898/898 [==============================] - 1s 639us/sample - loss: 0.9806 - acc: 0.6281 - val_loss: 0.8974 - val_acc: 0.6933\n",
      "Epoch 22/100\n",
      "898/898 [==============================] - 1s 588us/sample - loss: 0.9807 - acc: 0.6281 - val_loss: 0.8954 - val_acc: 0.6933\n",
      "Epoch 23/100\n",
      "898/898 [==============================] - 1s 605us/sample - loss: 0.9758 - acc: 0.6281 - val_loss: 0.8984 - val_acc: 0.6933\n",
      "Epoch 24/100\n",
      "898/898 [==============================] - 1s 635us/sample - loss: 0.9854 - acc: 0.6281 - val_loss: 0.8981 - val_acc: 0.6933\n",
      "Epoch 25/100\n",
      "898/898 [==============================] - 1s 596us/sample - loss: 0.9867 - acc: 0.6281 - val_loss: 0.9007 - val_acc: 0.6933\n",
      "Epoch 26/100\n",
      "898/898 [==============================] - 1s 587us/sample - loss: 0.9760 - acc: 0.6281 - val_loss: 0.8976 - val_acc: 0.6933\n",
      "Epoch 27/100\n",
      "898/898 [==============================] - 1s 656us/sample - loss: 0.9695 - acc: 0.6281 - val_loss: 0.8965 - val_acc: 0.6933\n",
      "Epoch 28/100\n",
      "898/898 [==============================] - 1s 586us/sample - loss: 0.9685 - acc: 0.6281 - val_loss: 0.8922 - val_acc: 0.6933\n",
      "Epoch 29/100\n",
      "352/898 [==========>...................] - ETA: 0s - loss: 0.9993 - acc: 0.6250"
     ]
    },
    {
     "ename": "KeyboardInterrupt",
     "evalue": "",
     "output_type": "error",
     "traceback": [
      "\u001b[1;31m---------------------------------------------------------------------------\u001b[0m",
      "\u001b[1;31mKeyboardInterrupt\u001b[0m                         Traceback (most recent call last)",
      "\u001b[1;32m<ipython-input-42-70cc6c393c2e>\u001b[0m in \u001b[0;36m<module>\u001b[1;34m\u001b[0m\n\u001b[0;32m      8\u001b[0m                       \u001b[0mepochs\u001b[0m \u001b[1;33m=\u001b[0m \u001b[1;36m100\u001b[0m\u001b[1;33m,\u001b[0m\u001b[1;33m\u001b[0m\u001b[1;33m\u001b[0m\u001b[0m\n\u001b[0;32m      9\u001b[0m                       \u001b[0mbatch_size\u001b[0m \u001b[1;33m=\u001b[0m \u001b[1;36m32\u001b[0m\u001b[1;33m,\u001b[0m\u001b[1;33m\u001b[0m\u001b[1;33m\u001b[0m\u001b[0m\n\u001b[1;32m---> 10\u001b[1;33m                       \u001b[0mshuffle\u001b[0m \u001b[1;33m=\u001b[0m \u001b[1;32mTrue\u001b[0m\u001b[1;33m\u001b[0m\u001b[1;33m\u001b[0m\u001b[0m\n\u001b[0m\u001b[0;32m     11\u001b[0m \u001b[1;31m#                       callbacks = [mlp_earlystop, mlp_checkpoint],\u001b[0m\u001b[1;33m\u001b[0m\u001b[1;33m\u001b[0m\u001b[1;33m\u001b[0m\u001b[0m\n\u001b[0;32m     12\u001b[0m                      ) #Fitting the model\n",
      "\u001b[1;32mD:\\anacondainstalled\\lib\\site-packages\\tensorflow\\python\\keras\\engine\\training.py\u001b[0m in \u001b[0;36mfit\u001b[1;34m(self, x, y, batch_size, epochs, verbose, callbacks, validation_split, validation_data, shuffle, class_weight, sample_weight, initial_epoch, steps_per_epoch, validation_steps, validation_freq, max_queue_size, workers, use_multiprocessing, **kwargs)\u001b[0m\n\u001b[0;32m    778\u001b[0m           \u001b[0mvalidation_steps\u001b[0m\u001b[1;33m=\u001b[0m\u001b[0mvalidation_steps\u001b[0m\u001b[1;33m,\u001b[0m\u001b[1;33m\u001b[0m\u001b[1;33m\u001b[0m\u001b[0m\n\u001b[0;32m    779\u001b[0m           \u001b[0mvalidation_freq\u001b[0m\u001b[1;33m=\u001b[0m\u001b[0mvalidation_freq\u001b[0m\u001b[1;33m,\u001b[0m\u001b[1;33m\u001b[0m\u001b[1;33m\u001b[0m\u001b[0m\n\u001b[1;32m--> 780\u001b[1;33m           steps_name='steps_per_epoch')\n\u001b[0m\u001b[0;32m    781\u001b[0m \u001b[1;33m\u001b[0m\u001b[0m\n\u001b[0;32m    782\u001b[0m   def evaluate(self,\n",
      "\u001b[1;32mD:\\anacondainstalled\\lib\\site-packages\\tensorflow\\python\\keras\\engine\\training_arrays.py\u001b[0m in \u001b[0;36mmodel_iteration\u001b[1;34m(model, inputs, targets, sample_weights, batch_size, epochs, verbose, callbacks, val_inputs, val_targets, val_sample_weights, shuffle, initial_epoch, steps_per_epoch, validation_steps, validation_freq, mode, validation_in_fit, prepared_feed_values_from_dataset, steps_name, **kwargs)\u001b[0m\n\u001b[0;32m    361\u001b[0m \u001b[1;33m\u001b[0m\u001b[0m\n\u001b[0;32m    362\u001b[0m         \u001b[1;31m# Get outputs.\u001b[0m\u001b[1;33m\u001b[0m\u001b[1;33m\u001b[0m\u001b[1;33m\u001b[0m\u001b[0m\n\u001b[1;32m--> 363\u001b[1;33m         \u001b[0mbatch_outs\u001b[0m \u001b[1;33m=\u001b[0m \u001b[0mf\u001b[0m\u001b[1;33m(\u001b[0m\u001b[0mins_batch\u001b[0m\u001b[1;33m)\u001b[0m\u001b[1;33m\u001b[0m\u001b[1;33m\u001b[0m\u001b[0m\n\u001b[0m\u001b[0;32m    364\u001b[0m         \u001b[1;32mif\u001b[0m \u001b[1;32mnot\u001b[0m \u001b[0misinstance\u001b[0m\u001b[1;33m(\u001b[0m\u001b[0mbatch_outs\u001b[0m\u001b[1;33m,\u001b[0m \u001b[0mlist\u001b[0m\u001b[1;33m)\u001b[0m\u001b[1;33m:\u001b[0m\u001b[1;33m\u001b[0m\u001b[1;33m\u001b[0m\u001b[0m\n\u001b[0;32m    365\u001b[0m           \u001b[0mbatch_outs\u001b[0m \u001b[1;33m=\u001b[0m \u001b[1;33m[\u001b[0m\u001b[0mbatch_outs\u001b[0m\u001b[1;33m]\u001b[0m\u001b[1;33m\u001b[0m\u001b[1;33m\u001b[0m\u001b[0m\n",
      "\u001b[1;32mD:\\anacondainstalled\\lib\\site-packages\\tensorflow\\python\\keras\\backend.py\u001b[0m in \u001b[0;36m__call__\u001b[1;34m(self, inputs)\u001b[0m\n\u001b[0;32m   3290\u001b[0m \u001b[1;33m\u001b[0m\u001b[0m\n\u001b[0;32m   3291\u001b[0m     fetched = self._callable_fn(*array_vals,\n\u001b[1;32m-> 3292\u001b[1;33m                                 run_metadata=self.run_metadata)\n\u001b[0m\u001b[0;32m   3293\u001b[0m     \u001b[0mself\u001b[0m\u001b[1;33m.\u001b[0m\u001b[0m_call_fetch_callbacks\u001b[0m\u001b[1;33m(\u001b[0m\u001b[0mfetched\u001b[0m\u001b[1;33m[\u001b[0m\u001b[1;33m-\u001b[0m\u001b[0mlen\u001b[0m\u001b[1;33m(\u001b[0m\u001b[0mself\u001b[0m\u001b[1;33m.\u001b[0m\u001b[0m_fetches\u001b[0m\u001b[1;33m)\u001b[0m\u001b[1;33m:\u001b[0m\u001b[1;33m]\u001b[0m\u001b[1;33m)\u001b[0m\u001b[1;33m\u001b[0m\u001b[1;33m\u001b[0m\u001b[0m\n\u001b[0;32m   3294\u001b[0m     output_structure = nest.pack_sequence_as(\n",
      "\u001b[1;32mD:\\anacondainstalled\\lib\\site-packages\\tensorflow\\python\\client\\session.py\u001b[0m in \u001b[0;36m__call__\u001b[1;34m(self, *args, **kwargs)\u001b[0m\n\u001b[0;32m   1456\u001b[0m         ret = tf_session.TF_SessionRunCallable(self._session._session,\n\u001b[0;32m   1457\u001b[0m                                                \u001b[0mself\u001b[0m\u001b[1;33m.\u001b[0m\u001b[0m_handle\u001b[0m\u001b[1;33m,\u001b[0m \u001b[0margs\u001b[0m\u001b[1;33m,\u001b[0m\u001b[1;33m\u001b[0m\u001b[1;33m\u001b[0m\u001b[0m\n\u001b[1;32m-> 1458\u001b[1;33m                                                run_metadata_ptr)\n\u001b[0m\u001b[0;32m   1459\u001b[0m         \u001b[1;32mif\u001b[0m \u001b[0mrun_metadata\u001b[0m\u001b[1;33m:\u001b[0m\u001b[1;33m\u001b[0m\u001b[1;33m\u001b[0m\u001b[0m\n\u001b[0;32m   1460\u001b[0m           \u001b[0mproto_data\u001b[0m \u001b[1;33m=\u001b[0m \u001b[0mtf_session\u001b[0m\u001b[1;33m.\u001b[0m\u001b[0mTF_GetBuffer\u001b[0m\u001b[1;33m(\u001b[0m\u001b[0mrun_metadata_ptr\u001b[0m\u001b[1;33m)\u001b[0m\u001b[1;33m\u001b[0m\u001b[1;33m\u001b[0m\u001b[0m\n",
      "\u001b[1;31mKeyboardInterrupt\u001b[0m: "
     ]
    }
   ],
   "source": [
    "mlp_history = mlp.fit(\n",
    "                      x_train_mlp, \n",
    "                      y_train_mlp,\n",
    "#                       train_cyclic_generator_mlp,\n",
    "#                       validation_data = test_cyclic_generator_mlp,\n",
    "                      validation_data = (x_test_mlp, y_test_mlp),\n",
    "#                       steps_per_epoch= 449,\n",
    "                      epochs = 100,\n",
    "                      batch_size = 32,\n",
    "                      shuffle = True\n",
    "#                       callbacks = [mlp_earlystop, mlp_checkpoint],\n",
    "                     ) #Fitting the model"
   ]
  },
  {
   "cell_type": "markdown",
   "metadata": {},
   "source": [
    "Below we have plotted the accuracy and loss curves for both training and validation. We are facing a major issue here, which is that the validation accuracy remains totally constat just after the 1st epoch itself and remains like that till the end. Also the validation acc that we are getting is the same for the MLP, CNN and LSTM models."
   ]
  },
  {
   "cell_type": "code",
   "execution_count": 71,
   "metadata": {
    "id": "B_Kr7UKQvg3t",
    "outputId": "bece0d4d-78fd-4c4f-aea3-87e99604b001"
   },
   "outputs": [
    {
     "data": {
      "image/png": "[encoded data removed]",
      "text/plain": [
       "<Figure size 432x288 with 1 Axes>"
      ]
     },
     "metadata": {
      "needs_background": "light"
     },
     "output_type": "display_data"
    },
    {
     "name": "stdout",
     "output_type": "stream",
     "text": [
      "Initial training accuracy is:  0.64476615\n",
      "Final training accuracy is:  0.65033406\n",
      "Initial training loss is:  1.3572006753930004\n",
      "Final training loss is:  0.9054617494145587\n"
     ]
    }
   ],
   "source": [
    "#Plotting model history\n",
    "plt.plot(mlp_history.history['acc'])\n",
    "plt.plot(mlp_history.history['loss'])\n",
    "plt.legend(['Training Accuracy', 'Training Loss'])\n",
    "plt.title('Training History')\n",
    "plt.ylabel('Value')\n",
    "plt.xlabel('epochs')\n",
    "plt.show()\n",
    "print(\"Initial training accuracy is: \", mlp_history.history['acc'][0])\n",
    "print(\"Final training accuracy is: \", mlp_history.history['acc'][-1])\n",
    "\n",
    "print(\"Initial training loss is: \", mlp_history.history['loss'][0])\n",
    "print(\"Final training loss is: \", mlp_history.history['loss'][-1])"
   ]
  },
  {
   "cell_type": "code",
   "execution_count": 72,
   "metadata": {
    "id": "3d38dAmCvg3t",
    "outputId": "5d299a74-56a8-4e2e-8c24-4c167fd2d422"
   },
   "outputs": [
    {
     "data": {
      "image/png": "[encoded data removed]",
      "text/plain": [
       "<Figure size 432x288 with 1 Axes>"
      ]
     },
     "metadata": {
      "needs_background": "light"
     },
     "output_type": "display_data"
    },
    {
     "name": "stdout",
     "output_type": "stream",
     "text": [
      "Initial validation accuracy is:  0.60444444\n",
      "Final validation accuracy is:  0.60444444\n",
      "Initial validation loss is:  1.328415658738878\n",
      "Final validation loss is:  1.0308793210983276\n"
     ]
    }
   ],
   "source": [
    "#Plotting model history\n",
    "plt.plot(mlp_history.history['val_acc'])\n",
    "plt.plot(mlp_history.history['val_loss'])\n",
    "plt.legend(['Valdation Accuracy', 'Validation Loss'])\n",
    "plt.title('Validation History')\n",
    "plt.ylabel('Value')\n",
    "plt.xlabel('epochs')\n",
    "plt.show()\n",
    "print(\"Initial validation accuracy is: \", mlp_history.history['val_acc'][0])\n",
    "print(\"Final validation accuracy is: \", mlp_history.history['val_acc'][-1])\n",
    "\n",
    "print(\"Initial validation loss is: \", mlp_history.history['val_loss'][0])\n",
    "print(\"Final validation loss is: \", mlp_history.history['val_loss'][-1])"
   ]
  },
  {
   "cell_type": "markdown",
   "metadata": {
    "id": "Xixe0WmOvg3t"
   },
   "source": [
    "## Training on LSTM model"
   ]
  },
  {
   "cell_type": "markdown",
   "metadata": {},
   "source": [
    "Again taking 80% of the data for training purposes while the other 20% fro validation. "
   ]
  },
  {
   "cell_type": "code",
   "execution_count": 43,
   "metadata": {
    "id": "-_Hc8EHMvg3t",
    "outputId": "4c8c2047-abb1-4983-92de-5fafca592031"
   },
   "outputs": [
    {
     "name": "stdout",
     "output_type": "stream",
     "text": [
      "898\n"
     ]
    }
   ],
   "source": [
    "train_test_split = int(0.8 * len(xlstm))\n",
    "print(train_test_split)\n",
    "\n",
    "x_train_lstm = xlstm[:train_test_split]\n",
    "y_train_lstm = ylstm[:train_test_split]\n",
    "\n",
    "x_test_lstm = xlstm[train_test_split:]\n",
    "y_test_lstm = ylstm[train_test_split:]"
   ]
  },
  {
   "cell_type": "markdown",
   "metadata": {},
   "source": [
    "Just the same as earlier.\n",
    "\n",
    "SIR AGAIN PLEASE TALK TO US REGARDING THIS ONCE"
   ]
  },
  {
   "cell_type": "code",
   "execution_count": 44,
   "metadata": {
    "id": "bGAsoI2pvg3u"
   },
   "outputs": [],
   "source": [
    "def get_cyclic_generator(features, labels, batch_size = 1):\n",
    "  while True:\n",
    "    for n in range(features.shape[0]//batch_size):\n",
    "      yield (features[n*batch_size: (n+1)*batch_size], labels[n*batch_size: (n+1)*batch_size])\n",
    "    permuted = np.random.permutation(len(features))\n",
    "    features = features[permuted]\n",
    "    labels = labels[permuted]"
   ]
  },
  {
   "cell_type": "code",
   "execution_count": 45,
   "metadata": {
    "id": "uow3VERMvg3u"
   },
   "outputs": [],
   "source": [
    "train_batch_size = 32\n",
    "train_cyclic_generator_lstm = get_cyclic_generator(x_train_lstm, y_train_lstm, batch_size = train_batch_size)\n",
    "# test_cyclic_generator = get_cyclic_generator(x_test, y_test, batch_size = train_batch_size)"
   ]
  },
  {
   "cell_type": "markdown",
   "metadata": {},
   "source": [
    "This is our 2nd architecture, which is an LSTM model. It is a very simple LSTM model with only 1 LSTM layer followed by a flatten layer then 2 intermediate dense layers and one final dense layer for classifying. We also have dropout layers in between to reduce overfitting and leakyRelu as activations."
   ]
  },
  {
   "cell_type": "code",
   "execution_count": 46,
   "metadata": {
    "id": "HA9NMig2vg3u",
    "outputId": "5c2ab215-9d0f-4f67-f48c-881a77f989ad"
   },
   "outputs": [
    {
     "name": "stdout",
     "output_type": "stream",
     "text": [
      "Model: \"model_1\"\n",
      "_________________________________________________________________\n",
      "Layer (type)                 Output Shape              Param #   \n",
      "=================================================================\n",
      "input_2 (InputLayer)         [(None, 351, 61)]         0         \n",
      "_________________________________________________________________\n",
      "lstm (LSTM)                  (None, 351, 32)           12032     \n",
      "_________________________________________________________________\n",
      "flatten (Flatten)            (None, 11232)             0         \n",
      "_________________________________________________________________\n",
      "dense_3 (Dense)              (None, 32)                359456    \n",
      "_________________________________________________________________\n",
      "leaky_re_lu (LeakyReLU)      (None, 32)                0         \n",
      "_________________________________________________________________\n",
      "dropout_2 (Dropout)          (None, 32)                0         \n",
      "_________________________________________________________________\n",
      "dense_4 (Dense)              (None, 16)                528       \n",
      "_________________________________________________________________\n",
      "dropout_3 (Dropout)          (None, 16)                0         \n",
      "_________________________________________________________________\n",
      "dense_5 (Dense)              (None, 4)                 68        \n",
      "=================================================================\n",
      "Total params: 372,084\n",
      "Trainable params: 372,084\n",
      "Non-trainable params: 0\n",
      "_________________________________________________________________\n"
     ]
    }
   ],
   "source": [
    "#Creating model architecture\n",
    "inp_shape = (dims_lstm_1, dims_lstm_2)\n",
    "ip = tf.keras.Input(shape = inp_shape)\n",
    "lstm = tf.keras.layers.LSTM(32, return_sequences=True)(ip)\n",
    "# drop = tf.keras.layers.Dropout(.4)(lstm)\n",
    "# lstm = tf.keras.layers.LSTM(16, return_sequences=True)(ip)\n",
    "# drop = tf.keras.layers.Dropout(.4)(lstm)\n",
    "flatten = tf.keras.layers.Flatten()(lstm)\n",
    "dense1 = tf.keras.layers.Dense(units = 32, kernel_initializer = 'random_normal')(flatten)\n",
    "leakyRelu = tf.keras.layers.LeakyReLU()(dense1)\n",
    "drop1 = tf.keras.layers.Dropout(.4)(leakyRelu)\n",
    "dense2 = tf.keras.layers.Dense(units = 16, kernel_initializer = 'random_normal')(drop1)\n",
    "leakyRelu2 = tf.keras.layers.LeakyReLU()(dense2)\n",
    "drop2 = tf.keras.layers.Dropout(.4)(dense2)\n",
    "out = tf.keras.layers.Dense(num_classes, activation = 'softmax')(drop2)\n",
    "\n",
    "lstm = tf.keras.Model(inputs = ip, outputs = out)\n",
    "lstm.summary()\n",
    "# inp_shape = (None, )\n",
    "# review_sequence = tf.keras.Input(shape = inp_shape)\n",
    "# embedding_sequence = tf.keras.layers.Embedding(input_dim=100+1, output_dim=32, input_shape=(review_sequence.shape), mask_zero=False)(review_sequence)\n",
    "# average_embedding = tf.keras.layers.GlobalAveragePooling1D()(embedding_sequence)\n",
    "# positive_probability = tf.keras.layers.Dense(units=1, activation='sigmoid')(average_embedding)\n",
    "\n",
    "# model = tf.keras.Model(inputs = review_sequence, outputs = positive_probability)"
   ]
  },
  {
   "cell_type": "markdown",
   "metadata": {},
   "source": [
    "Again the 2 callbacks are exactly the same as in case of the MLP model."
   ]
  },
  {
   "cell_type": "code",
   "execution_count": 47,
   "metadata": {
    "id": "_nYi8lXFvg3u"
   },
   "outputs": [],
   "source": [
    "# Compiling the model\n",
    "lstm_earlystop = EarlyStopping(patience = 10, min_delta = 0.001, monitor = 'val_acc')\n",
    "\n",
    "path = 'lstm_checkpoint/checkpoint_{epoch:02d}';\n",
    "lstm_checkpoint = ModelCheckpoint(filepath = path,\n",
    "                            verbose = 1,\n",
    "                            monitor = 'val_acc',\n",
    "                            save_freq = 'epoch',\n",
    "                            save_best_only = True,\n",
    "                            save_weights_only = True)\n",
    "\n",
    "lstm.compile(loss = 'categorical_crossentropy', metrics = ['acc'], optimizer = 'adam')"
   ]
  },
  {
   "cell_type": "markdown",
   "metadata": {},
   "source": [
    "again we are not still using the cyclice generator function for now"
   ]
  },
  {
   "cell_type": "code",
   "execution_count": 48,
   "metadata": {
    "id": "UkSxqtwjvg3v",
    "outputId": "b291859f-4004-4c28-e32e-546d5ac6c034",
    "scrolled": true
   },
   "outputs": [
    {
     "name": "stdout",
     "output_type": "stream",
     "text": [
      "Train on 898 samples, validate on 225 samples\n",
      "WARNING:tensorflow:From D:\\anacondainstalled\\lib\\site-packages\\tensorflow\\python\\ops\\math_grad.py:1250: add_dispatch_support.<locals>.wrapper (from tensorflow.python.ops.array_ops) is deprecated and will be removed in a future version.\n",
      "Instructions for updating:\n",
      "Use tf.where in 2.0, which has the same broadcast rule as np.where\n",
      "Epoch 1/100\n",
      "896/898 [============================>.] - ETA: 0s - loss: 1.1415 - acc: 0.5926\n",
      "Epoch 00001: val_acc improved from -inf to 0.69333, saving model to lstm_checkpoint/checkpoint_01\n",
      "898/898 [==============================] - 24s 26ms/sample - loss: 1.1422 - acc: 0.5924 - val_loss: 0.9747 - val_acc: 0.6933\n",
      "Epoch 2/100\n",
      "896/898 [============================>.] - ETA: 0s - loss: 1.0516 - acc: 0.5871\n",
      "Epoch 00002: val_acc did not improve from 0.69333\n",
      "898/898 [==============================] - 21s 23ms/sample - loss: 1.0522 - acc: 0.5869 - val_loss: 0.9065 - val_acc: 0.6933\n",
      "Epoch 3/100\n",
      "544/898 [=================>............] - ETA: 7s - loss: 1.0570 - acc: 0.6085"
     ]
    },
    {
     "ename": "KeyboardInterrupt",
     "evalue": "",
     "output_type": "error",
     "traceback": [
      "\u001b[1;31m---------------------------------------------------------------------------\u001b[0m",
      "\u001b[1;31mKeyboardInterrupt\u001b[0m                         Traceback (most recent call last)",
      "\u001b[1;32m<ipython-input-48-90cbdd364523>\u001b[0m in \u001b[0;36m<module>\u001b[1;34m\u001b[0m\n\u001b[0;32m      4\u001b[0m                         \u001b[0mepochs\u001b[0m \u001b[1;33m=\u001b[0m \u001b[1;36m100\u001b[0m\u001b[1;33m,\u001b[0m\u001b[1;33m\u001b[0m\u001b[1;33m\u001b[0m\u001b[0m\n\u001b[0;32m      5\u001b[0m                         \u001b[0mbatch_size\u001b[0m \u001b[1;33m=\u001b[0m \u001b[1;36m32\u001b[0m\u001b[1;33m,\u001b[0m\u001b[1;33m\u001b[0m\u001b[1;33m\u001b[0m\u001b[0m\n\u001b[1;32m----> 6\u001b[1;33m                         callbacks = [lstm_checkpoint]) #Fitting the model\n\u001b[0m",
      "\u001b[1;32mD:\\anacondainstalled\\lib\\site-packages\\tensorflow\\python\\keras\\engine\\training.py\u001b[0m in \u001b[0;36mfit\u001b[1;34m(self, x, y, batch_size, epochs, verbose, callbacks, validation_split, validation_data, shuffle, class_weight, sample_weight, initial_epoch, steps_per_epoch, validation_steps, validation_freq, max_queue_size, workers, use_multiprocessing, **kwargs)\u001b[0m\n\u001b[0;32m    778\u001b[0m           \u001b[0mvalidation_steps\u001b[0m\u001b[1;33m=\u001b[0m\u001b[0mvalidation_steps\u001b[0m\u001b[1;33m,\u001b[0m\u001b[1;33m\u001b[0m\u001b[1;33m\u001b[0m\u001b[0m\n\u001b[0;32m    779\u001b[0m           \u001b[0mvalidation_freq\u001b[0m\u001b[1;33m=\u001b[0m\u001b[0mvalidation_freq\u001b[0m\u001b[1;33m,\u001b[0m\u001b[1;33m\u001b[0m\u001b[1;33m\u001b[0m\u001b[0m\n\u001b[1;32m--> 780\u001b[1;33m           steps_name='steps_per_epoch')\n\u001b[0m\u001b[0;32m    781\u001b[0m \u001b[1;33m\u001b[0m\u001b[0m\n\u001b[0;32m    782\u001b[0m   def evaluate(self,\n",
      "\u001b[1;32mD:\\anacondainstalled\\lib\\site-packages\\tensorflow\\python\\keras\\engine\\training_arrays.py\u001b[0m in \u001b[0;36mmodel_iteration\u001b[1;34m(model, inputs, targets, sample_weights, batch_size, epochs, verbose, callbacks, val_inputs, val_targets, val_sample_weights, shuffle, initial_epoch, steps_per_epoch, validation_steps, validation_freq, mode, validation_in_fit, prepared_feed_values_from_dataset, steps_name, **kwargs)\u001b[0m\n\u001b[0;32m    361\u001b[0m \u001b[1;33m\u001b[0m\u001b[0m\n\u001b[0;32m    362\u001b[0m         \u001b[1;31m# Get outputs.\u001b[0m\u001b[1;33m\u001b[0m\u001b[1;33m\u001b[0m\u001b[1;33m\u001b[0m\u001b[0m\n\u001b[1;32m--> 363\u001b[1;33m         \u001b[0mbatch_outs\u001b[0m \u001b[1;33m=\u001b[0m \u001b[0mf\u001b[0m\u001b[1;33m(\u001b[0m\u001b[0mins_batch\u001b[0m\u001b[1;33m)\u001b[0m\u001b[1;33m\u001b[0m\u001b[1;33m\u001b[0m\u001b[0m\n\u001b[0m\u001b[0;32m    364\u001b[0m         \u001b[1;32mif\u001b[0m \u001b[1;32mnot\u001b[0m \u001b[0misinstance\u001b[0m\u001b[1;33m(\u001b[0m\u001b[0mbatch_outs\u001b[0m\u001b[1;33m,\u001b[0m \u001b[0mlist\u001b[0m\u001b[1;33m)\u001b[0m\u001b[1;33m:\u001b[0m\u001b[1;33m\u001b[0m\u001b[1;33m\u001b[0m\u001b[0m\n\u001b[0;32m    365\u001b[0m           \u001b[0mbatch_outs\u001b[0m \u001b[1;33m=\u001b[0m \u001b[1;33m[\u001b[0m\u001b[0mbatch_outs\u001b[0m\u001b[1;33m]\u001b[0m\u001b[1;33m\u001b[0m\u001b[1;33m\u001b[0m\u001b[0m\n",
      "\u001b[1;32mD:\\anacondainstalled\\lib\\site-packages\\tensorflow\\python\\keras\\backend.py\u001b[0m in \u001b[0;36m__call__\u001b[1;34m(self, inputs)\u001b[0m\n\u001b[0;32m   3290\u001b[0m \u001b[1;33m\u001b[0m\u001b[0m\n\u001b[0;32m   3291\u001b[0m     fetched = self._callable_fn(*array_vals,\n\u001b[1;32m-> 3292\u001b[1;33m                                 run_metadata=self.run_metadata)\n\u001b[0m\u001b[0;32m   3293\u001b[0m     \u001b[0mself\u001b[0m\u001b[1;33m.\u001b[0m\u001b[0m_call_fetch_callbacks\u001b[0m\u001b[1;33m(\u001b[0m\u001b[0mfetched\u001b[0m\u001b[1;33m[\u001b[0m\u001b[1;33m-\u001b[0m\u001b[0mlen\u001b[0m\u001b[1;33m(\u001b[0m\u001b[0mself\u001b[0m\u001b[1;33m.\u001b[0m\u001b[0m_fetches\u001b[0m\u001b[1;33m)\u001b[0m\u001b[1;33m:\u001b[0m\u001b[1;33m]\u001b[0m\u001b[1;33m)\u001b[0m\u001b[1;33m\u001b[0m\u001b[1;33m\u001b[0m\u001b[0m\n\u001b[0;32m   3294\u001b[0m     output_structure = nest.pack_sequence_as(\n",
      "\u001b[1;32mD:\\anacondainstalled\\lib\\site-packages\\tensorflow\\python\\client\\session.py\u001b[0m in \u001b[0;36m__call__\u001b[1;34m(self, *args, **kwargs)\u001b[0m\n\u001b[0;32m   1456\u001b[0m         ret = tf_session.TF_SessionRunCallable(self._session._session,\n\u001b[0;32m   1457\u001b[0m                                                \u001b[0mself\u001b[0m\u001b[1;33m.\u001b[0m\u001b[0m_handle\u001b[0m\u001b[1;33m,\u001b[0m \u001b[0margs\u001b[0m\u001b[1;33m,\u001b[0m\u001b[1;33m\u001b[0m\u001b[1;33m\u001b[0m\u001b[0m\n\u001b[1;32m-> 1458\u001b[1;33m                                                run_metadata_ptr)\n\u001b[0m\u001b[0;32m   1459\u001b[0m         \u001b[1;32mif\u001b[0m \u001b[0mrun_metadata\u001b[0m\u001b[1;33m:\u001b[0m\u001b[1;33m\u001b[0m\u001b[1;33m\u001b[0m\u001b[0m\n\u001b[0;32m   1460\u001b[0m           \u001b[0mproto_data\u001b[0m \u001b[1;33m=\u001b[0m \u001b[0mtf_session\u001b[0m\u001b[1;33m.\u001b[0m\u001b[0mTF_GetBuffer\u001b[0m\u001b[1;33m(\u001b[0m\u001b[0mrun_metadata_ptr\u001b[0m\u001b[1;33m)\u001b[0m\u001b[1;33m\u001b[0m\u001b[1;33m\u001b[0m\u001b[0m\n",
      "\u001b[1;31mKeyboardInterrupt\u001b[0m: "
     ]
    }
   ],
   "source": [
    "lstm_history = lstm.fit(x_train_lstm, y_train_lstm,\n",
    "                        validation_data = (x_test_lstm, y_test_lstm),\n",
    "#                         steps_per_epoch= 449,\n",
    "                        epochs = 100,\n",
    "                        batch_size = 32,\n",
    "                        callbacks = [lstm_checkpoint]) #Fitting the model"
   ]
  },
  {
   "cell_type": "code",
   "execution_count": 82,
   "metadata": {
    "id": "iqQAqOHJvg3v",
    "outputId": "8a3962c2-0d60-4b88-8bdc-1359994d235f"
   },
   "outputs": [
    {
     "data": {
      "image/png": "[encoded data removed]",
      "text/plain": [
       "<Figure size 432x288 with 1 Axes>"
      ]
     },
     "metadata": {
      "needs_background": "light"
     },
     "output_type": "display_data"
    },
    {
     "name": "stdout",
     "output_type": "stream",
     "text": [
      "Initial training accuracy is:  0.6180401\n",
      "Final training accuracy is:  0.65033406\n",
      "Initial training loss is:  1.0844334687846806\n",
      "Final training loss is:  0.9243905087621812\n"
     ]
    }
   ],
   "source": [
    "#Plotting model history\n",
    "plt.plot(lstm_history.history['acc'])\n",
    "plt.plot(lstm_history.history['loss'])\n",
    "plt.legend(['Training Accuracy', 'Training Loss'])\n",
    "plt.title('Training History')\n",
    "plt.ylabel('Value')\n",
    "plt.xlabel('epochs')\n",
    "plt.show()\n",
    "print(\"Initial training accuracy is: \", lstm_history.history['acc'][0])\n",
    "print(\"Final training accuracy is: \", lstm_history.history['acc'][-1])\n",
    "\n",
    "print(\"Initial training loss is: \", lstm_history.history['loss'][0])\n",
    "print(\"Final training loss is: \", lstm_history.history['loss'][-1])"
   ]
  },
  {
   "cell_type": "code",
   "execution_count": 83,
   "metadata": {
    "id": "vPUFZHTBvg3v",
    "outputId": "e732c222-3153-4639-837a-b77ea7c50e73"
   },
   "outputs": [
    {
     "data": {
      "image/png": "[encoded data removed]",
      "text/plain": [
       "<Figure size 432x288 with 1 Axes>"
      ]
     },
     "metadata": {
      "needs_background": "light"
     },
     "output_type": "display_data"
    },
    {
     "name": "stdout",
     "output_type": "stream",
     "text": [
      "Initial Validation accuracy is:  0.60444444\n",
      "Final Validation accuracy is:  0.60444444\n",
      "Initial Validation loss is:  1.0323702801598442\n",
      "Final Validation loss is:  1.0413138622707792\n"
     ]
    }
   ],
   "source": [
    "#Plotting model history\n",
    "plt.plot(lstm_history.history['val_acc'])\n",
    "plt.plot(lstm_history.history['val_loss'])\n",
    "plt.legend(['Valdation Accuracy', 'Validation Loss'])\n",
    "plt.title('Validation History')\n",
    "plt.ylabel('Value')\n",
    "plt.xlabel('epochs')\n",
    "plt.show()\n",
    "print(\"Initial Validation accuracy is: \", lstm_history.history['val_acc'][0])\n",
    "print(\"Final Validation accuracy is: \", lstm_history.history['val_acc'][-1])\n",
    "\n",
    "print(\"Initial Validation loss is: \", lstm_history.history['val_loss'][0])\n",
    "print(\"Final Validation loss is: \", lstm_history.history['val_loss'][-1])"
   ]
  },
  {
   "cell_type": "markdown",
   "metadata": {
    "id": "LMKanPKlvg3v"
   },
   "source": [
    "### Training on CNN Model"
   ]
  },
  {
   "cell_type": "markdown",
   "metadata": {},
   "source": [
    "Everything same as for LSTM and MLP. So no additional comments for this section"
   ]
  },
  {
   "cell_type": "code",
   "execution_count": 53,
   "metadata": {
    "id": "xHIictZDvg3v",
    "outputId": "5e295ce7-818f-4855-f19d-4c20e2c05930"
   },
   "outputs": [
    {
     "name": "stdout",
     "output_type": "stream",
     "text": [
      "898\n"
     ]
    }
   ],
   "source": [
    "train_test_split = int(0.8 * len(xcnn))\n",
    "print(train_test_split)\n",
    "\n",
    "x_train_cnn = xcnn[:train_test_split]\n",
    "y_train_cnn = ycnn[:train_test_split]\n",
    "\n",
    "x_test_cnn = xcnn[train_test_split:]\n",
    "y_test_cnn = ycnn[train_test_split:]"
   ]
  },
  {
   "cell_type": "code",
   "execution_count": 54,
   "metadata": {
    "id": "MjI-5zB6vg3w"
   },
   "outputs": [],
   "source": [
    "def get_cyclic_generator(features, labels, batch_size = 1):\n",
    "  while True:\n",
    "    for n in range(features.shape[0]//batch_size):\n",
    "      yield (features[n*batch_size: (n+1)*batch_size], labels[n*batch_size: (n+1)*batch_size])\n",
    "    permuted = np.random.permutation(len(features))\n",
    "    features = features[permuted]\n",
    "    labels = labels[permuted]"
   ]
  },
  {
   "cell_type": "code",
   "execution_count": 55,
   "metadata": {
    "id": "PTms2KAIvg3w"
   },
   "outputs": [],
   "source": [
    "train_batch_size = 32\n",
    "train_cyclic_generator_cnn = get_cyclic_generator(x_train_cnn, y_train_cnn, batch_size = train_batch_size)\n",
    "# test_cyclic_generator = get_cyclic_generator(x_test, y_test, batch_size = train_batch_size)"
   ]
  },
  {
   "cell_type": "code",
   "execution_count": 56,
   "metadata": {
    "id": "2YKGnJHcvg3w",
    "outputId": "292c04d6-874a-4f65-d44e-d5d59aafadb7"
   },
   "outputs": [
    {
     "name": "stdout",
     "output_type": "stream",
     "text": [
      "Model: \"model_2\"\n",
      "_________________________________________________________________\n",
      "Layer (type)                 Output Shape              Param #   \n",
      "=================================================================\n",
      "input_3 (InputLayer)         [(None, 351, 61)]         0         \n",
      "_________________________________________________________________\n",
      "conv1d (Conv1D)              (None, 349, 32)           5888      \n",
      "_________________________________________________________________\n",
      "leaky_re_lu_2 (LeakyReLU)    (None, 349, 32)           0         \n",
      "_________________________________________________________________\n",
      "conv1d_1 (Conv1D)            (None, 347, 16)           1552      \n",
      "_________________________________________________________________\n",
      "leaky_re_lu_3 (LeakyReLU)    (None, 347, 16)           0         \n",
      "_________________________________________________________________\n",
      "flatten_1 (Flatten)          (None, 5552)              0         \n",
      "_________________________________________________________________\n",
      "dense_6 (Dense)              (None, 32)                177696    \n",
      "_________________________________________________________________\n",
      "leaky_re_lu_4 (LeakyReLU)    (None, 32)                0         \n",
      "_________________________________________________________________\n",
      "dropout_4 (Dropout)          (None, 32)                0         \n",
      "_________________________________________________________________\n",
      "dense_7 (Dense)              (None, 16)                528       \n",
      "_________________________________________________________________\n",
      "dropout_5 (Dropout)          (None, 16)                0         \n",
      "_________________________________________________________________\n",
      "dense_8 (Dense)              (None, 4)                 68        \n",
      "=================================================================\n",
      "Total params: 185,732\n",
      "Trainable params: 185,732\n",
      "Non-trainable params: 0\n",
      "_________________________________________________________________\n"
     ]
    }
   ],
   "source": [
    "inp_shape = (dims_lstm_1, dims_lstm_2)\n",
    "ip = tf.keras.Input(shape = inp_shape)\n",
    "conv1 = tf.keras.layers.Conv1D(32, 3,)(ip)\n",
    "rel = tf.keras.layers.LeakyReLU()(conv1)\n",
    "conv2 = tf.keras.layers.Conv1D(16, 3,)(rel)\n",
    "rel2 = tf.keras.layers.LeakyReLU()(conv2)\n",
    "# lstm = tf.keras.layers.LSTM(16, return_sequences=True)(ip)\n",
    "flatten = tf.keras.layers.Flatten()(rel2)\n",
    "dense1 = tf.keras.layers.Dense(units = 32, kernel_initializer = 'random_normal')(flatten)\n",
    "leakyRelu = tf.keras.layers.LeakyReLU()(dense1)\n",
    "drop1 = tf.keras.layers.Dropout(.4)(leakyRelu)\n",
    "dense2 = tf.keras.layers.Dense(units = 16, kernel_initializer = 'random_normal')(drop1)\n",
    "leakyRelu2 = tf.keras.layers.LeakyReLU()(dense2)\n",
    "drop2 = tf.keras.layers.Dropout(.4)(dense2)\n",
    "out = tf.keras.layers.Dense(num_classes, activation = 'softmax')(drop2)\n",
    "\n",
    "cnn = tf.keras.Model(inputs = ip, outputs = out)\n",
    "cnn.summary()"
   ]
  },
  {
   "cell_type": "code",
   "execution_count": 57,
   "metadata": {
    "id": "SGL_wsuIvg3w"
   },
   "outputs": [],
   "source": [
    "# Compiling the model\n",
    "cnn_earlystop = EarlyStopping(patience = 10, min_delta = 0.001, monitor = 'val_acc')\n",
    "\n",
    "path = 'cnn_checkpoint/checkpoint_{epoch:02d}';\n",
    "cnn_checkpoint = ModelCheckpoint(filepath = path,\n",
    "                            verbose = 1,\n",
    "                            monitor = 'val_acc',\n",
    "                            save_freq = 'epoch',\n",
    "                            save_best_only = True,\n",
    "                            save_weights_only = True)\n",
    "\n",
    "cnn.compile(loss = 'categorical_crossentropy', metrics = ['acc'], optimizer = 'adam')"
   ]
  },
  {
   "cell_type": "code",
   "execution_count": 89,
   "metadata": {
    "id": "11F8D5VQvg3w",
    "outputId": "a73e5494-a14f-4617-d261-e3c1b27a01b0",
    "scrolled": true
   },
   "outputs": [
    {
     "name": "stdout",
     "output_type": "stream",
     "text": [
      "Train on 898 samples, validate on 225 samples\n",
      "Epoch 1/100\n",
      "896/898 [============================>.] - ETA: 0s - loss: 1.1360 - acc: 0.5804- ETA: 0s - loss: 1.1601 - acc: 0\n",
      "Epoch 00001: val_acc improved from -inf to 0.60444, saving model to cnn_checkpoint/checkpoint_01\n",
      "898/898 [==============================] - 5s 5ms/sample - loss: 1.1374 - acc: 0.5802 - val_loss: 1.0319 - val_acc: 0.6044\n",
      "Epoch 2/100\n",
      "896/898 [============================>.] - ETA: 0s - loss: 1.0115 - acc: 0.6306\n",
      "Epoch 00002: val_acc did not improve from 0.60444\n",
      "898/898 [==============================] - 2s 2ms/sample - loss: 1.0108 - acc: 0.6314 - val_loss: 1.0259 - val_acc: 0.6044\n",
      "Epoch 3/100\n",
      "896/898 [============================>.] - ETA: 0s - loss: 0.9897 - acc: 0.6373- ETA: 1s - loss: 0.9832 - ETA: 0s - loss: 0.9885 - acc: 0\n",
      "Epoch 00003: val_acc did not improve from 0.60444\n",
      "898/898 [==============================] - 2s 2ms/sample - loss: 0.9887 - acc: 0.6381 - val_loss: 1.0229 - val_acc: 0.6044\n",
      "Epoch 4/100\n",
      "896/898 [============================>.] - ETA: 0s - loss: 0.9804 - acc: 0.6473\n",
      "Epoch 00004: val_acc did not improve from 0.60444\n",
      "898/898 [==============================] - 2s 2ms/sample - loss: 0.9806 - acc: 0.6470 - val_loss: 1.0293 - val_acc: 0.6044\n",
      "Epoch 5/100\n",
      "896/898 [============================>.] - ETA: 0s - loss: 0.9863 - acc: 0.6406\n",
      "Epoch 00005: val_acc did not improve from 0.60444\n",
      "898/898 [==============================] - 2s 2ms/sample - loss: 0.9874 - acc: 0.6392 - val_loss: 1.0253 - val_acc: 0.6044\n",
      "Epoch 6/100\n",
      "896/898 [============================>.] - ETA: 0s - loss: 0.9550 - acc: 0.6462\n",
      "Epoch 00006: val_acc did not improve from 0.60444\n",
      "898/898 [==============================] - 2s 2ms/sample - loss: 0.9561 - acc: 0.6459 - val_loss: 1.0296 - val_acc: 0.6044\n",
      "Epoch 7/100\n",
      "896/898 [============================>.] - ETA: 0s - loss: 0.9761 - acc: 0.6507\n",
      "Epoch 00007: val_acc did not improve from 0.60444\n",
      "898/898 [==============================] - 2s 2ms/sample - loss: 0.9760 - acc: 0.6503 - val_loss: 1.0280 - val_acc: 0.6044\n",
      "Epoch 8/100\n",
      "896/898 [============================>.] - ETA: 0s - loss: 0.9619 - acc: 0.6484- ETA: 0s - loss: 0.9767 - acc: 0\n",
      "Epoch 00008: val_acc did not improve from 0.60444\n",
      "898/898 [==============================] - 2s 2ms/sample - loss: 0.9631 - acc: 0.6481 - val_loss: 1.0399 - val_acc: 0.6044\n",
      "Epoch 9/100\n",
      "896/898 [============================>.] - ETA: 0s - loss: 0.9808 - acc: 0.6507\n",
      "Epoch 00009: val_acc did not improve from 0.60444\n",
      "898/898 [==============================] - 2s 2ms/sample - loss: 0.9808 - acc: 0.6503 - val_loss: 1.0293 - val_acc: 0.6044\n",
      "Epoch 10/100\n",
      "896/898 [============================>.] - ETA: 0s - loss: 0.9547 - acc: 0.6473\n",
      "Epoch 00010: val_acc did not improve from 0.60444\n",
      "898/898 [==============================] - 2s 2ms/sample - loss: 0.9541 - acc: 0.6481 - val_loss: 1.0437 - val_acc: 0.6044\n",
      "Epoch 11/100\n",
      "896/898 [============================>.] - ETA: 0s - loss: 0.9398 - acc: 0.6507- ETA: 0s - loss: 0.954\n",
      "Epoch 00011: val_acc did not improve from 0.60444\n",
      "898/898 [==============================] - 2s 2ms/sample - loss: 0.9401 - acc: 0.6503 - val_loss: 1.0307 - val_acc: 0.6044\n",
      "Epoch 12/100\n",
      "896/898 [============================>.] - ETA: 0s - loss: 0.9572 - acc: 0.6507- ETA: 1s - loss: 0.9447 - acc: 0 - ETA: 0s - loss: 0.9780 - acc: 0.638 - ETA: 0s - loss: 0.979\n",
      "Epoch 00012: val_acc did not improve from 0.60444\n",
      "898/898 [==============================] - 2s 2ms/sample - loss: 0.9574 - acc: 0.6503 - val_loss: 1.0402 - val_acc: 0.6044\n",
      "Epoch 13/100\n",
      "896/898 [============================>.] - ETA: 0s - loss: 0.9534 - acc: 0.6496\n",
      "Epoch 00013: val_acc did not improve from 0.60444\n",
      "898/898 [==============================] - 2s 2ms/sample - loss: 0.9532 - acc: 0.6492 - val_loss: 1.0346 - val_acc: 0.6044\n",
      "Epoch 14/100\n",
      "896/898 [============================>.] - ETA: 0s - loss: 0.9613 - acc: 0.6496\n",
      "Epoch 00014: val_acc did not improve from 0.60444\n",
      "898/898 [==============================] - 2s 2ms/sample - loss: 0.9605 - acc: 0.6503 - val_loss: 1.0285 - val_acc: 0.6044\n",
      "Epoch 15/100\n",
      "896/898 [============================>.] - ETA: 0s - loss: 0.9618 - acc: 0.6507\n",
      "Epoch 00015: val_acc did not improve from 0.60444\n",
      "898/898 [==============================] - 2s 2ms/sample - loss: 0.9620 - acc: 0.6503 - val_loss: 1.0289 - val_acc: 0.6044\n",
      "Epoch 16/100\n",
      "896/898 [============================>.] - ETA: 0s - loss: 0.9527 - acc: 0.6496- ETA: 0s - loss: 0.9694 - a\n",
      "Epoch 00016: val_acc did not improve from 0.60444\n",
      "898/898 [==============================] - 2s 2ms/sample - loss: 0.9515 - acc: 0.6503 - val_loss: 1.0510 - val_acc: 0.6044\n",
      "Epoch 17/100\n",
      "896/898 [============================>.] - ETA: 0s - loss: 0.9527 - acc: 0.6496\n",
      "Epoch 00017: val_acc did not improve from 0.60444\n",
      "898/898 [==============================] - 2s 2ms/sample - loss: 0.9514 - acc: 0.6503 - val_loss: 1.0418 - val_acc: 0.6044\n",
      "Epoch 18/100\n",
      "896/898 [============================>.] - ETA: 0s - loss: 0.9530 - acc: 0.6496- ETA: 0s - loss: 0.9641 \n",
      "Epoch 00018: val_acc did not improve from 0.60444\n",
      "898/898 [==============================] - 2s 2ms/sample - loss: 0.9519 - acc: 0.6503 - val_loss: 1.0434 - val_acc: 0.6044\n",
      "Epoch 19/100\n",
      "896/898 [============================>.] - ETA: 0s - loss: 0.9477 - acc: 0.6496\n",
      "Epoch 00019: val_acc did not improve from 0.60444\n",
      "898/898 [==============================] - 2s 2ms/sample - loss: 0.9466 - acc: 0.6503 - val_loss: 1.0318 - val_acc: 0.6044\n",
      "Epoch 20/100\n",
      "896/898 [============================>.] - ETA: 0s - loss: 0.9391 - acc: 0.6496- ETA: 0s - loss: 0.9342 - \n",
      "Epoch 00020: val_acc did not improve from 0.60444\n",
      "898/898 [==============================] - 2s 2ms/sample - loss: 0.9378 - acc: 0.6503 - val_loss: 1.0320 - val_acc: 0.6044\n",
      "Epoch 21/100\n",
      "896/898 [============================>.] - ETA: 0s - loss: 0.9548 - acc: 0.6507- ETA: 1s - loss: 1.0166 - acc: 0.63 - ETA: 1s - loss: 1.0297 - acc: 0.616 - ETA: 1s - loss: 1.0 - ETA: 0s - loss: 0.9547 - acc: 0.6\n",
      "Epoch 00021: val_acc did not improve from 0.60444\n",
      "898/898 [==============================] - 2s 2ms/sample - loss: 0.9550 - acc: 0.6503 - val_loss: 1.0348 - val_acc: 0.6044\n",
      "Epoch 22/100\n",
      "896/898 [============================>.] - ETA: 0s - loss: 0.9478 - acc: 0.6507- ETA: 0s - loss: 0.9983\n",
      "Epoch 00022: val_acc did not improve from 0.60444\n",
      "898/898 [==============================] - 2s 2ms/sample - loss: 0.9488 - acc: 0.6503 - val_loss: 1.0675 - val_acc: 0.6044\n",
      "Epoch 23/100\n",
      "896/898 [============================>.] - ETA: 0s - loss: 0.9325 - acc: 0.6507\n",
      "Epoch 00023: val_acc did not improve from 0.60444\n",
      "898/898 [==============================] - 2s 2ms/sample - loss: 0.9325 - acc: 0.6503 - val_loss: 1.0408 - val_acc: 0.6044\n",
      "Epoch 24/100\n",
      "896/898 [============================>.] - ETA: 0s - loss: 0.9495 - acc: 0.6507\n",
      "Epoch 00024: val_acc did not improve from 0.60444\n",
      "898/898 [==============================] - 2s 2ms/sample - loss: 0.9499 - acc: 0.6503 - val_loss: 1.0289 - val_acc: 0.6044\n",
      "Epoch 25/100\n",
      "896/898 [============================>.] - ETA: 0s - loss: 0.9376 - acc: 0.6507\n",
      "Epoch 00025: val_acc did not improve from 0.60444\n",
      "898/898 [==============================] - 2s 2ms/sample - loss: 0.9368 - acc: 0.6514 - val_loss: 1.0323 - val_acc: 0.6044\n",
      "Epoch 26/100\n",
      "896/898 [============================>.] - ETA: 0s - loss: 0.9410 - acc: 0.6496- ETA: 1s - loss: 0.\n",
      "Epoch 00026: val_acc did not improve from 0.60444\n",
      "898/898 [==============================] - 2s 2ms/sample - loss: 0.9399 - acc: 0.6503 - val_loss: 1.0331 - val_acc: 0.6044\n",
      "Epoch 27/100\n",
      "896/898 [============================>.] - ETA: 0s - loss: 0.9399 - acc: 0.6507\n",
      "Epoch 00027: val_acc did not improve from 0.60444\n",
      "898/898 [==============================] - 2s 2ms/sample - loss: 0.9400 - acc: 0.6503 - val_loss: 1.0333 - val_acc: 0.6044\n",
      "Epoch 28/100\n",
      "896/898 [============================>.] - ETA: 0s - loss: 0.9405 - acc: 0.6496\n",
      "Epoch 00028: val_acc did not improve from 0.60444\n",
      "898/898 [==============================] - 2s 2ms/sample - loss: 0.9394 - acc: 0.6503 - val_loss: 1.0410 - val_acc: 0.6044\n",
      "Epoch 29/100\n",
      "896/898 [============================>.] - ETA: 0s - loss: 0.9447 - acc: 0.6507\n",
      "Epoch 00029: val_acc did not improve from 0.60444\n",
      "898/898 [==============================] - 2s 2ms/sample - loss: 0.9448 - acc: 0.6503 - val_loss: 1.0376 - val_acc: 0.6044\n",
      "Epoch 30/100\n",
      "896/898 [============================>.] - ETA: 0s - loss: 0.9389 - acc: 0.6507\n",
      "Epoch 00030: val_acc did not improve from 0.60444\n",
      "898/898 [==============================] - 2s 2ms/sample - loss: 0.9392 - acc: 0.6503 - val_loss: 1.0313 - val_acc: 0.6044\n",
      "Epoch 31/100\n",
      "896/898 [============================>.] - ETA: 0s - loss: 0.9337 - acc: 0.6507- ETA: 0s - loss: 0.9347 - acc: 0.\n",
      "Epoch 00031: val_acc did not improve from 0.60444\n",
      "898/898 [==============================] - 2s 2ms/sample - loss: 0.9336 - acc: 0.6503 - val_loss: 1.0548 - val_acc: 0.6044\n",
      "Epoch 32/100\n",
      "896/898 [============================>.] - ETA: 0s - loss: 0.9426 - acc: 0.6507- ETA: 0s - loss: 0.9720 - ac - ETA: 0s - loss: 0.9386 - acc: 0.656\n",
      "Epoch 00032: val_acc did not improve from 0.60444\n",
      "898/898 [==============================] - 2s 2ms/sample - loss: 0.9429 - acc: 0.6503 - val_loss: 1.0446 - val_acc: 0.6044\n",
      "Epoch 33/100\n",
      "864/898 [===========================>..] - ETA: 0s - loss: 0.9300 - acc: 0.6505\n",
      "Epoch 00033: val_acc did not improve from 0.60444\n",
      "898/898 [==============================] - 2s 2ms/sample - loss: 0.9307 - acc: 0.6503 - val_loss: 1.0341 - val_acc: 0.6044\n",
      "Epoch 34/100\n",
      "896/898 [============================>.] - ETA: 0s - loss: 0.9407 - acc: 0.6496\n",
      "Epoch 00034: val_acc did not improve from 0.60444\n",
      "898/898 [==============================] - 2s 2ms/sample - loss: 0.9395 - acc: 0.6503 - val_loss: 1.0581 - val_acc: 0.6044\n",
      "Epoch 35/100\n",
      "896/898 [============================>.] - ETA: 0s - loss: 0.9363 - acc: 0.6496\n",
      "Epoch 00035: val_acc did not improve from 0.60444\n",
      "898/898 [==============================] - 2s 2ms/sample - loss: 0.9355 - acc: 0.6503 - val_loss: 1.0414 - val_acc: 0.6044\n",
      "Epoch 36/100\n",
      "864/898 [===========================>..] - ETA: 0s - loss: 0.9387 - acc: 0.6470\n",
      "Epoch 00036: val_acc did not improve from 0.60444\n",
      "898/898 [==============================] - 2s 2ms/sample - loss: 0.9321 - acc: 0.6503 - val_loss: 1.0814 - val_acc: 0.6044\n",
      "Epoch 37/100\n",
      "896/898 [============================>.] - ETA: 0s - loss: 0.9416 - acc: 0.6496\n",
      "Epoch 00037: val_acc did not improve from 0.60444\n",
      "898/898 [==============================] - 2s 2ms/sample - loss: 0.9409 - acc: 0.6503 - val_loss: 1.0323 - val_acc: 0.6044\n",
      "Epoch 38/100\n",
      "896/898 [============================>.] - ETA: 0s - loss: 0.9391 - acc: 0.6507\n",
      "Epoch 00038: val_acc did not improve from 0.60444\n",
      "898/898 [==============================] - 2s 2ms/sample - loss: 0.9395 - acc: 0.6503 - val_loss: 1.0398 - val_acc: 0.6044\n",
      "Epoch 39/100\n",
      "896/898 [============================>.] - ETA: 0s - loss: 0.9443 - acc: 0.6507\n",
      "Epoch 00039: val_acc did not improve from 0.60444\n",
      "898/898 [==============================] - 2s 2ms/sample - loss: 0.9445 - acc: 0.6503 - val_loss: 1.0365 - val_acc: 0.6044\n",
      "Epoch 40/100\n",
      "864/898 [===========================>..] - ETA: 0s - loss: 0.9322 - acc: 0.6516- ETA: 0s - loss: 0.9281 - acc: 0.6\n",
      "Epoch 00040: val_acc did not improve from 0.60444\n",
      "898/898 [==============================] - 2s 2ms/sample - loss: 0.9330 - acc: 0.6503 - val_loss: 1.0372 - val_acc: 0.6044\n",
      "Epoch 41/100\n",
      "896/898 [============================>.] - ETA: 0s - loss: 0.9305 - acc: 0.6496- ETA: 0s - loss: 0.9593 - a\n",
      "Epoch 00041: val_acc did not improve from 0.60444\n",
      "898/898 [==============================] - 2s 2ms/sample - loss: 0.9293 - acc: 0.6503 - val_loss: 1.0674 - val_acc: 0.6044\n",
      "Epoch 42/100\n",
      "896/898 [============================>.] - ETA: 0s - loss: 0.9279 - acc: 0.6507- ETA: 1s - loss: 0\n",
      "Epoch 00042: val_acc did not improve from 0.60444\n",
      "898/898 [==============================] - 2s 2ms/sample - loss: 0.9284 - acc: 0.6503 - val_loss: 1.0306 - val_acc: 0.6044\n",
      "Epoch 43/100\n",
      "896/898 [============================>.] - ETA: 0s - loss: 0.9356 - acc: 0.6496\n",
      "Epoch 00043: val_acc did not improve from 0.60444\n",
      "898/898 [==============================] - 2s 2ms/sample - loss: 0.9345 - acc: 0.6503 - val_loss: 1.0500 - val_acc: 0.6044\n",
      "Epoch 44/100\n",
      "896/898 [============================>.] - ETA: 0s - loss: 0.9308 - acc: 0.6507\n",
      "Epoch 00044: val_acc did not improve from 0.60444\n",
      "898/898 [==============================] - 2s 2ms/sample - loss: 0.9314 - acc: 0.6503 - val_loss: 1.0376 - val_acc: 0.6044\n",
      "Epoch 45/100\n",
      "896/898 [============================>.] - ETA: 0s - loss: 0.9408 - acc: 0.6507\n",
      "Epoch 00045: val_acc did not improve from 0.60444\n",
      "898/898 [==============================] - 2s 2ms/sample - loss: 0.9411 - acc: 0.6503 - val_loss: 1.0402 - val_acc: 0.6044\n",
      "Epoch 46/100\n",
      "896/898 [============================>.] - ETA: 0s - loss: 0.9312 - acc: 0.6507- ETA: 0s - loss: 0.8740 \n",
      "Epoch 00046: val_acc did not improve from 0.60444\n",
      "898/898 [==============================] - 2s 2ms/sample - loss: 0.9313 - acc: 0.6503 - val_loss: 1.0316 - val_acc: 0.6044\n",
      "Epoch 47/100\n",
      "896/898 [============================>.] - ETA: 0s - loss: 0.9328 - acc: 0.6507\n",
      "Epoch 00047: val_acc did not improve from 0.60444\n",
      "898/898 [==============================] - 2s 2ms/sample - loss: 0.9329 - acc: 0.6503 - val_loss: 1.0371 - val_acc: 0.6044\n",
      "Epoch 48/100\n",
      "864/898 [===========================>..] - ETA: 0s - loss: 0.9196 - acc: 0.6562\n",
      "Epoch 00048: val_acc did not improve from 0.60444\n",
      "898/898 [==============================] - 2s 2ms/sample - loss: 0.9318 - acc: 0.6503 - val_loss: 1.0397 - val_acc: 0.6044\n",
      "Epoch 49/100\n",
      "896/898 [============================>.] - ETA: 0s - loss: 0.9423 - acc: 0.6496- ETA: 0s - loss: 0.9586 - acc: 0\n",
      "Epoch 00049: val_acc did not improve from 0.60444\n",
      "898/898 [==============================] - 2s 2ms/sample - loss: 0.9410 - acc: 0.6503 - val_loss: 1.0657 - val_acc: 0.6044\n",
      "Epoch 50/100\n",
      "896/898 [============================>.] - ETA: 0s - loss: 0.9438 - acc: 0.6496\n",
      "Epoch 00050: val_acc did not improve from 0.60444\n",
      "898/898 [==============================] - 2s 2ms/sample - loss: 0.9429 - acc: 0.6503 - val_loss: 1.0426 - val_acc: 0.6044\n",
      "Epoch 51/100\n",
      "864/898 [===========================>..] - ETA: 0s - loss: 0.9452 - acc: 0.6470\n",
      "Epoch 00051: val_acc did not improve from 0.60444\n",
      "898/898 [==============================] - 2s 2ms/sample - loss: 0.9405 - acc: 0.6503 - val_loss: 1.0528 - val_acc: 0.6044\n",
      "Epoch 52/100\n",
      "864/898 [===========================>..] - ETA: 0s - loss: 0.9387 - acc: 0.6493\n",
      "Epoch 00052: val_acc did not improve from 0.60444\n",
      "898/898 [==============================] - 2s 2ms/sample - loss: 0.9367 - acc: 0.6503 - val_loss: 1.0376 - val_acc: 0.6044\n",
      "Epoch 53/100\n",
      "864/898 [===========================>..] - ETA: 0s - loss: 0.9250 - acc: 0.6516\n",
      "Epoch 00053: val_acc did not improve from 0.60444\n",
      "898/898 [==============================] - 2s 2ms/sample - loss: 0.9250 - acc: 0.6503 - val_loss: 1.0423 - val_acc: 0.6044\n",
      "Epoch 54/100\n",
      "896/898 [============================>.] - ETA: 0s - loss: 0.9354 - acc: 0.6496- ETA: 1s - loss: 0.90\n",
      "Epoch 00054: val_acc did not improve from 0.60444\n",
      "898/898 [==============================] - 2s 2ms/sample - loss: 0.9343 - acc: 0.6503 - val_loss: 1.0415 - val_acc: 0.6044\n",
      "Epoch 55/100\n",
      "896/898 [============================>.] - ETA: 0s - loss: 0.9326 - acc: 0.6496\n",
      "Epoch 00055: val_acc did not improve from 0.60444\n",
      "898/898 [==============================] - 2s 2ms/sample - loss: 0.9316 - acc: 0.6503 - val_loss: 1.0419 - val_acc: 0.6044\n",
      "Epoch 56/100\n",
      "896/898 [============================>.] - ETA: 0s - loss: 0.9336 - acc: 0.6496\n",
      "Epoch 00056: val_acc did not improve from 0.60444\n",
      "898/898 [==============================] - 2s 2ms/sample - loss: 0.9327 - acc: 0.6503 - val_loss: 1.0486 - val_acc: 0.6044\n",
      "Epoch 57/100\n",
      "864/898 [===========================>..] - ETA: 0s - loss: 0.9339 - acc: 0.6516\n",
      "Epoch 00057: val_acc did not improve from 0.60444\n",
      "898/898 [==============================] - 2s 2ms/sample - loss: 0.9341 - acc: 0.6503 - val_loss: 1.0290 - val_acc: 0.6044\n",
      "Epoch 58/100\n",
      "864/898 [===========================>..] - ETA: 0s - loss: 0.9373 - acc: 0.6516\n",
      "Epoch 00058: val_acc did not improve from 0.60444\n",
      "898/898 [==============================] - 2s 2ms/sample - loss: 0.9368 - acc: 0.6503 - val_loss: 1.0394 - val_acc: 0.6044\n",
      "Epoch 59/100\n",
      "896/898 [============================>.] - ETA: 0s - loss: 0.9271 - acc: 0.6507\n",
      "Epoch 00059: val_acc did not improve from 0.60444\n",
      "898/898 [==============================] - 2s 2ms/sample - loss: 0.9276 - acc: 0.6503 - val_loss: 1.0408 - val_acc: 0.6044\n",
      "Epoch 60/100\n",
      "896/898 [============================>.] - ETA: 0s - loss: 0.9325 - acc: 0.6496\n",
      "Epoch 00060: val_acc did not improve from 0.60444\n",
      "898/898 [==============================] - 2s 2ms/sample - loss: 0.9315 - acc: 0.6503 - val_loss: 1.0424 - val_acc: 0.6044\n",
      "Epoch 61/100\n",
      "864/898 [===========================>..] - ETA: 0s - loss: 0.9261 - acc: 0.6505\n",
      "Epoch 00061: val_acc did not improve from 0.60444\n",
      "898/898 [==============================] - 2s 2ms/sample - loss: 0.9254 - acc: 0.6503 - val_loss: 1.0365 - val_acc: 0.6044\n",
      "Epoch 62/100\n",
      "864/898 [===========================>..] - ETA: 0s - loss: 0.9295 - acc: 0.6528\n",
      "Epoch 00062: val_acc did not improve from 0.60444\n",
      "898/898 [==============================] - 2s 2ms/sample - loss: 0.9313 - acc: 0.6503 - val_loss: 1.0396 - val_acc: 0.6044\n",
      "Epoch 63/100\n",
      "864/898 [===========================>..] - ETA: 0s - loss: 0.9322 - acc: 0.6458\n",
      "Epoch 00063: val_acc did not improve from 0.60444\n",
      "898/898 [==============================] - 2s 2ms/sample - loss: 0.9259 - acc: 0.6503 - val_loss: 1.0399 - val_acc: 0.6044\n",
      "Epoch 64/100\n",
      "896/898 [============================>.] - ETA: 0s - loss: 0.9383 - acc: 0.6496\n",
      "Epoch 00064: val_acc did not improve from 0.60444\n",
      "898/898 [==============================] - 2s 2ms/sample - loss: 0.9372 - acc: 0.6503 - val_loss: 1.0403 - val_acc: 0.6044\n",
      "Epoch 65/100\n",
      "896/898 [============================>.] - ETA: 0s - loss: 0.9258 - acc: 0.6496\n",
      "Epoch 00065: val_acc did not improve from 0.60444\n",
      "898/898 [==============================] - 2s 2ms/sample - loss: 0.9247 - acc: 0.6503 - val_loss: 1.0405 - val_acc: 0.6044\n",
      "Epoch 66/100\n",
      "896/898 [============================>.] - ETA: 0s - loss: 0.9279 - acc: 0.6496\n",
      "Epoch 00066: val_acc did not improve from 0.60444\n",
      "898/898 [==============================] - 2s 2ms/sample - loss: 0.9270 - acc: 0.6503 - val_loss: 1.0383 - val_acc: 0.6044\n",
      "Epoch 67/100\n",
      "896/898 [============================>.] - ETA: 0s - loss: 0.9287 - acc: 0.6496\n",
      "Epoch 00067: val_acc did not improve from 0.60444\n",
      "898/898 [==============================] - 2s 2ms/sample - loss: 0.9274 - acc: 0.6503 - val_loss: 1.0412 - val_acc: 0.6044\n",
      "Epoch 68/100\n",
      "896/898 [============================>.] - ETA: 0s - loss: 0.9335 - acc: 0.6496\n",
      "Epoch 00068: val_acc did not improve from 0.60444\n",
      "898/898 [==============================] - 2s 2ms/sample - loss: 0.9323 - acc: 0.6503 - val_loss: 1.0314 - val_acc: 0.6044\n",
      "Epoch 69/100\n",
      "896/898 [============================>.] - ETA: 0s - loss: 0.9267 - acc: 0.6507\n",
      "Epoch 00069: val_acc did not improve from 0.60444\n",
      "898/898 [==============================] - 2s 2ms/sample - loss: 0.9269 - acc: 0.6503 - val_loss: 1.0543 - val_acc: 0.6044\n",
      "Epoch 70/100\n",
      "864/898 [===========================>..] - ETA: 0s - loss: 0.9358 - acc: 0.6528- ETA: 0s - loss: 0.9341 - acc: 0.655\n",
      "Epoch 00070: val_acc did not improve from 0.60444\n",
      "898/898 [==============================] - 2s 2ms/sample - loss: 0.9374 - acc: 0.6503 - val_loss: 1.0345 - val_acc: 0.6044\n",
      "Epoch 71/100\n",
      "864/898 [===========================>..] - ETA: 0s - loss: 0.9273 - acc: 0.6470\n",
      "Epoch 00071: val_acc did not improve from 0.60444\n",
      "898/898 [==============================] - 2s 2ms/sample - loss: 0.9223 - acc: 0.6503 - val_loss: 1.0421 - val_acc: 0.6044\n",
      "Epoch 72/100\n",
      "864/898 [===========================>..] - ETA: 0s - loss: 0.9200 - acc: 0.6539\n",
      "Epoch 00072: val_acc did not improve from 0.60444\n",
      "898/898 [==============================] - 2s 2ms/sample - loss: 0.9286 - acc: 0.6503 - val_loss: 1.0446 - val_acc: 0.6044\n",
      "Epoch 73/100\n",
      "896/898 [============================>.] - ETA: 0s - loss: 0.9217 - acc: 0.6518\n",
      "Epoch 00073: val_acc did not improve from 0.60444\n",
      "898/898 [==============================] - 2s 2ms/sample - loss: 0.9235 - acc: 0.6503 - val_loss: 1.0368 - val_acc: 0.6044\n",
      "Epoch 74/100\n",
      "896/898 [============================>.] - ETA: 0s - loss: 0.9340 - acc: 0.6496\n",
      "Epoch 00074: val_acc did not improve from 0.60444\n",
      "898/898 [==============================] - 2s 2ms/sample - loss: 0.9328 - acc: 0.6503 - val_loss: 1.0407 - val_acc: 0.6044\n",
      "Epoch 75/100\n",
      "896/898 [============================>.] - ETA: 0s - loss: 0.9262 - acc: 0.6507\n",
      "Epoch 00075: val_acc did not improve from 0.60444\n",
      "898/898 [==============================] - 2s 2ms/sample - loss: 0.9267 - acc: 0.6503 - val_loss: 1.0449 - val_acc: 0.6044\n",
      "Epoch 76/100\n",
      "896/898 [============================>.] - ETA: 0s - loss: 0.9363 - acc: 0.6496\n",
      "Epoch 00076: val_acc did not improve from 0.60444\n",
      "898/898 [==============================] - 2s 2ms/sample - loss: 0.9353 - acc: 0.6503 - val_loss: 1.0328 - val_acc: 0.6044\n",
      "Epoch 77/100\n",
      "896/898 [============================>.] - ETA: 0s - loss: 0.9277 - acc: 0.6507\n",
      "Epoch 00077: val_acc did not improve from 0.60444\n",
      "898/898 [==============================] - 2s 2ms/sample - loss: 0.9280 - acc: 0.6503 - val_loss: 1.0397 - val_acc: 0.6044\n",
      "Epoch 78/100\n",
      "896/898 [============================>.] - ETA: 0s - loss: 0.9208 - acc: 0.6507\n",
      "Epoch 00078: val_acc did not improve from 0.60444\n",
      "898/898 [==============================] - 2s 2ms/sample - loss: 0.9209 - acc: 0.6503 - val_loss: 1.0558 - val_acc: 0.6044\n",
      "Epoch 79/100\n",
      "864/898 [===========================>..] - ETA: 0s - loss: 0.9245 - acc: 0.6528\n",
      "Epoch 00079: val_acc did not improve from 0.60444\n",
      "898/898 [==============================] - 2s 2ms/sample - loss: 0.9271 - acc: 0.6503 - val_loss: 1.0414 - val_acc: 0.6044\n",
      "Epoch 80/100\n",
      "864/898 [===========================>..] - ETA: 0s - loss: 0.9221 - acc: 0.6505\n",
      "Epoch 00080: val_acc did not improve from 0.60444\n",
      "898/898 [==============================] - 2s 2ms/sample - loss: 0.9219 - acc: 0.6503 - val_loss: 1.0380 - val_acc: 0.6044\n",
      "Epoch 81/100\n",
      "864/898 [===========================>..] - ETA: 0s - loss: 0.9251 - acc: 0.6505- ETA: 0s - loss: 0.9147 - ac\n",
      "Epoch 00081: val_acc did not improve from 0.60444\n",
      "898/898 [==============================] - 2s 2ms/sample - loss: 0.9243 - acc: 0.6503 - val_loss: 1.0412 - val_acc: 0.6044\n",
      "Epoch 82/100\n",
      "896/898 [============================>.] - ETA: 0s - loss: 0.9302 - acc: 0.6507\n",
      "Epoch 00082: val_acc did not improve from 0.60444\n",
      "898/898 [==============================] - 2s 2ms/sample - loss: 0.9306 - acc: 0.6503 - val_loss: 1.0394 - val_acc: 0.6044\n",
      "Epoch 83/100\n",
      "864/898 [===========================>..] - ETA: 0s - loss: 0.9266 - acc: 0.6528\n",
      "Epoch 00083: val_acc did not improve from 0.60444\n",
      "898/898 [==============================] - 2s 2ms/sample - loss: 0.9288 - acc: 0.6503 - val_loss: 1.0430 - val_acc: 0.6044\n",
      "Epoch 84/100\n",
      "864/898 [===========================>..] - ETA: 0s - loss: 0.9267 - acc: 0.6481- ETA: 1s - loss: 0.9831 - acc: 0.6 - ETA: 1s - loss: 0.9485 - acc:  - ETA: 0s - loss: 0.9380 - acc: 0\n",
      "Epoch 00084: val_acc did not improve from 0.60444\n",
      "898/898 [==============================] - 2s 2ms/sample - loss: 0.9218 - acc: 0.6503 - val_loss: 1.0757 - val_acc: 0.6044\n",
      "Epoch 85/100\n",
      "864/898 [===========================>..] - ETA: 0s - loss: 0.9338 - acc: 0.6481- ETA: 0s - loss: 0.9208 - acc:\n",
      "Epoch 00085: val_acc did not improve from 0.60444\n",
      "898/898 [==============================] - 2s 2ms/sample - loss: 0.9305 - acc: 0.6503 - val_loss: 1.0331 - val_acc: 0.6044\n",
      "Epoch 86/100\n",
      "896/898 [============================>.] - ETA: 0s - loss: 0.9231 - acc: 0.6507\n",
      "Epoch 00086: val_acc did not improve from 0.60444\n",
      "898/898 [==============================] - 2s 2ms/sample - loss: 0.9235 - acc: 0.6503 - val_loss: 1.0337 - val_acc: 0.6044\n",
      "Epoch 87/100\n",
      "896/898 [============================>.] - ETA: 0s - loss: 0.9319 - acc: 0.6496\n",
      "Epoch 00087: val_acc did not improve from 0.60444\n",
      "898/898 [==============================] - 2s 2ms/sample - loss: 0.9310 - acc: 0.6503 - val_loss: 1.0284 - val_acc: 0.6044\n",
      "Epoch 88/100\n",
      "896/898 [============================>.] - ETA: 0s - loss: 0.9285 - acc: 0.6496\n",
      "Epoch 00088: val_acc did not improve from 0.60444\n",
      "898/898 [==============================] - 2s 2ms/sample - loss: 0.9274 - acc: 0.6503 - val_loss: 1.0375 - val_acc: 0.6044\n",
      "Epoch 89/100\n",
      "896/898 [============================>.] - ETA: 0s - loss: 0.9251 - acc: 0.6507\n",
      "Epoch 00089: val_acc did not improve from 0.60444\n",
      "898/898 [==============================] - 2s 2ms/sample - loss: 0.9258 - acc: 0.6503 - val_loss: 1.0396 - val_acc: 0.6044\n",
      "Epoch 90/100\n",
      "864/898 [===========================>..] - ETA: 0s - loss: 0.9260 - acc: 0.6481- ETA: 0s - loss: 0.9155 - acc: 0.\n",
      "Epoch 00090: val_acc did not improve from 0.60444\n",
      "898/898 [==============================] - 2s 2ms/sample - loss: 0.9210 - acc: 0.6503 - val_loss: 1.0384 - val_acc: 0.6044\n",
      "Epoch 91/100\n",
      "896/898 [============================>.] - ETA: 0s - loss: 0.9282 - acc: 0.6496\n",
      "Epoch 00091: val_acc did not improve from 0.60444\n",
      "898/898 [==============================] - 2s 2ms/sample - loss: 0.9272 - acc: 0.6503 - val_loss: 1.0388 - val_acc: 0.6044\n",
      "Epoch 92/100\n",
      "864/898 [===========================>..] - ETA: 0s - loss: 0.9208 - acc: 0.6493\n",
      "Epoch 00092: val_acc did not improve from 0.60444\n",
      "898/898 [==============================] - 2s 2ms/sample - loss: 0.9225 - acc: 0.6503 - val_loss: 1.0261 - val_acc: 0.6044\n",
      "Epoch 93/100\n",
      "896/898 [============================>.] - ETA: 0s - loss: 0.9264 - acc: 0.6507\n",
      "Epoch 00093: val_acc did not improve from 0.60444\n",
      "898/898 [==============================] - 2s 2ms/sample - loss: 0.9270 - acc: 0.6503 - val_loss: 1.0295 - val_acc: 0.6044\n",
      "Epoch 94/100\n",
      "864/898 [===========================>..] - ETA: 0s - loss: 0.9235 - acc: 0.6481\n",
      "Epoch 00094: val_acc did not improve from 0.60444\n",
      "898/898 [==============================] - 2s 2ms/sample - loss: 0.9193 - acc: 0.6503 - val_loss: 1.0582 - val_acc: 0.6044\n",
      "Epoch 95/100\n",
      "864/898 [===========================>..] - ETA: 0s - loss: 0.9172 - acc: 0.6505\n",
      "Epoch 00095: val_acc did not improve from 0.60444\n",
      "898/898 [==============================] - 2s 2ms/sample - loss: 0.9166 - acc: 0.6503 - val_loss: 1.0223 - val_acc: 0.6044\n",
      "Epoch 96/100\n",
      "864/898 [===========================>..] - ETA: 0s - loss: 0.9242 - acc: 0.6493\n",
      "Epoch 00096: val_acc did not improve from 0.60444\n",
      "898/898 [==============================] - 2s 2ms/sample - loss: 0.9209 - acc: 0.6503 - val_loss: 1.0647 - val_acc: 0.6044\n",
      "Epoch 97/100\n",
      "896/898 [============================>.] - ETA: 0s - loss: 0.9235 - acc: 0.6507\n",
      "Epoch 00097: val_acc did not improve from 0.60444\n",
      "898/898 [==============================] - 2s 2ms/sample - loss: 0.9238 - acc: 0.6503 - val_loss: 1.0425 - val_acc: 0.6044\n",
      "Epoch 98/100\n",
      "896/898 [============================>.] - ETA: 0s - loss: 0.9193 - acc: 0.6507\n",
      "Epoch 00098: val_acc did not improve from 0.60444\n",
      "898/898 [==============================] - 2s 2ms/sample - loss: 0.9198 - acc: 0.6503 - val_loss: 1.0296 - val_acc: 0.6044\n",
      "Epoch 99/100\n",
      "864/898 [===========================>..] - ETA: 0s - loss: 0.9104 - acc: 0.6539\n",
      "Epoch 00099: val_acc did not improve from 0.60444\n",
      "898/898 [==============================] - 2s 2ms/sample - loss: 0.9151 - acc: 0.6503 - val_loss: 1.0256 - val_acc: 0.6044\n",
      "Epoch 100/100\n",
      "864/898 [===========================>..] - ETA: 0s - loss: 0.9158 - acc: 0.6516\n",
      "Epoch 00100: val_acc did not improve from 0.60444\n",
      "898/898 [==============================] - 2s 2ms/sample - loss: 0.9161 - acc: 0.6503 - val_loss: 1.0276 - val_acc: 0.6044\n"
     ]
    }
   ],
   "source": [
    "cnn_history = cnn.fit(x_train_cnn, y_train_cnn,\n",
    "                        validation_data = (x_test_cnn, y_test_cnn),\n",
    "#                         steps_per_epoch= 449,\n",
    "                        batch_size = 32,\n",
    "                        epochs = 100,\n",
    "                        callbacks = [cnn_checkpoint]) #Fitting the model"
   ]
  },
  {
   "cell_type": "code",
   "execution_count": 90,
   "metadata": {
    "id": "zy2xliu3vg3w"
   },
   "outputs": [],
   "source": [
    "# #Plotting model history\n",
    "# plt.plot(cnn_history.history['acc'])\n",
    "# plt.plot(cnn_history.history['loss'])\n",
    "# plt.legend(['Training Accuracy', 'Training Loss'])\n",
    "# plt.title('Training History')\n",
    "# plt.ylabel('Value')\n",
    "# plt.xlabel('epochs')\n",
    "# plt.show()\n",
    "# print(\"Initial training accuracy is: \", cnn_history.history['acc'][0])\n",
    "# print(\"Final training accuracy is: \", cnn_history.history['acc'][-1])\n",
    "\n",
    "# print(\"Initial training loss is: \", cnn_history.history['loss'][0])\n",
    "# print(\"Final training loss is: \", cnn_history.history['loss'][-1])"
   ]
  },
  {
   "cell_type": "code",
   "execution_count": 91,
   "metadata": {
    "id": "PDWciPZUvg3x",
    "outputId": "3d8f9890-839f-4281-97aa-31422f491466",
    "tags": []
   },
   "outputs": [
    {
     "data": {
      "image/png": "[encoded data removed]",
      "text/plain": [
       "<Figure size 432x288 with 1 Axes>"
      ]
     },
     "metadata": {
      "needs_background": "light"
     },
     "output_type": "display_data"
    },
    {
     "name": "stdout",
     "output_type": "stream",
     "text": [
      "Initial training accuracy with preprocessing is:  0.5801782\n",
      "Final training accuracy with preprocessing is:  0.65033406\n",
      "Initial training loss with preprocessing is:  1.1374031578777628\n",
      "Final training loss with preprocessing is:  0.9161267303809822\n"
     ]
    }
   ],
   "source": [
    "#Plotting model history\n",
    "plt.plot(cnn_history.history['acc'])\n",
    "plt.plot(cnn_history.history['loss'])\n",
    "plt.legend(['Training Accuracy', 'Training Loss'])\n",
    "plt.title('Training History')\n",
    "plt.ylabel('Value')..........,,,,,,,,,,,,,,,,,\n",
    "\n",
    "plt.xlabel('epochs')\n",
    "plt.show()\n",
    "print(\"Initial training accuracy with preprocessing is: \", cnn_history.history['acc'][0])\n",
    "print(\"Final training accuracy with preprocessing is: \", cnn_history.history['acc'][-1])\n",
    "\n",
    "print(\"Initial training loss with preprocessing is: \", cnn_history.history['loss'][0])\n",
    "print(\"Final training loss with preprocessing is: \", cnn_history.history['loss'][-1])"
   ]
  },
  {
   "cell_type": "code",
   "execution_count": 92,
   "metadata": {
    "id": "X-h9kYD_vg3x",
    "outputId": "c9c62d3e-c300-4aba-e1d5-e8d4986272f3"
   },
   "outputs": [
    {
     "data": {
      "image/png": "[encoded data removed]",
      "text/plain": [
       "<Figure size 432x288 with 1 Axes>"
      ]
     },
     "metadata": {
      "needs_background": "light"
     },
     "output_type": "display_data"
    },
    {
     "name": "stdout",
     "output_type": "stream",
     "text": [
      "Initial Validation accuracy with preprocessing is:  0.60444444\n",
      "Final Validation accuracy with preprocessing is:  0.60444444\n",
      "Initial Validation loss with preprocessing is:  1.0319379064771863\n",
      "Final Validation loss with preprocessing is:  1.0276036643981934\n"
     ]
    }
   ],
   "source": [
    "#Plotting model history\n",
    "plt.plot(cnn_history.history['val_acc'])\n",
    "plt.plot(cnn_history.history['val_loss'])\n",
    "plt.legend(['Valdation Accuracy', 'Validation Loss'])\n",
    "plt.title('Validation History')\n",
    "plt.ylabel('Value')\n",
    "plt.xlabel('epochs')\n",
    "plt.show()\n",
    "print(\"Initial Validation accuracy with preprocessing is: \", cnn_history.history['val_acc'][0])\n",
    "print(\"Final Validation accuracy with preprocessing is: \", cnn_history.history['val_acc'][-1])\n",
    "\n",
    "print(\"Initial Validation loss with preprocessing is: \", cnn_history.history['val_loss'][0])\n",
    "print(\"Final Validation loss with preprocessing is: \", cnn_history.history['val_loss'][-1])"
   ]
  },
  {
   "cell_type": "code",
   "execution_count": 93,
   "metadata": {
    "id": "II5i2QCovg3y"
   },
   "outputs": [],
   "source": [
    "# #Plotting model history\n",
    "# plt.plot(cnn_history.history['val_acc'])\n",
    "# plt.plot(cnn_history.history['val_loss'])\n",
    "# plt.legend(['Valdation Accuracy', 'Validation Loss'])\n",
    "# plt.title('Validation History')\n",
    "# plt.ylabel('Value')\n",
    "# plt.xlabel('epochs')\n",
    "# plt.show()\n",
    "# print(\"Initial Validation accuracy is: \", cnn_history.history['val_acc'][0])\n",
    "# print(\"Final Validation accuracy is: \", cnn_history.history['val_acc'][-1])\n",
    "\n",
    "# print(\"Initial Validation loss is: \", cnn_history.history['val_loss'][0])\n",
    "# print(\"Final Validation loss is: \", cnn_history.history['val_loss'][-1])"
   ]
  },
  {
   "cell_type": "markdown",
   "metadata": {},
   "source": [
    "### Feature Extraction Model"
   ]
  },
  {
   "cell_type": "code",
   "execution_count": 58,
   "metadata": {},
   "outputs": [
    {
     "name": "stdout",
     "output_type": "stream",
     "text": [
      "Model: \"model_3\"\n",
      "__________________________________________________________________________________________________\n",
      "Layer (type)                    Output Shape         Param #     Connected to                     \n",
      "==================================================================================================\n",
      "input_4 (InputLayer)            [(None, 351, 61)]    0                                            \n",
      "__________________________________________________________________________________________________\n",
      "conv1d_2 (Conv1D)               (None, 349, 32)      5888        input_4[0][0]                    \n",
      "__________________________________________________________________________________________________\n",
      "max_pooling1d (MaxPooling1D)    (None, 174, 32)      0           conv1d_2[0][0]                   \n",
      "__________________________________________________________________________________________________\n",
      "conv1d_3 (Conv1D)               (None, 172, 32)      3104        max_pooling1d[0][0]              \n",
      "__________________________________________________________________________________________________\n",
      "zero_padding1d (ZeroPadding1D)  (None, 174, 32)      0           conv1d_3[0][0]                   \n",
      "__________________________________________________________________________________________________\n",
      "max_pooling1d_1 (MaxPooling1D)  (None, 87, 32)       0           zero_padding1d[0][0]             \n",
      "__________________________________________________________________________________________________\n",
      "zero_padding1d_1 (ZeroPadding1D (None, 174, 32)      0           max_pooling1d_1[0][0]            \n",
      "__________________________________________________________________________________________________\n",
      "conv1d_4 (Conv1D)               (None, 172, 32)      3104        zero_padding1d_1[0][0]           \n",
      "__________________________________________________________________________________________________\n",
      "zero_padding1d_2 (ZeroPadding1D (None, 174, 32)      0           conv1d_4[0][0]                   \n",
      "__________________________________________________________________________________________________\n",
      "conv1d_5 (Conv1D)               (None, 172, 32)      3104        zero_padding1d_2[0][0]           \n",
      "__________________________________________________________________________________________________\n",
      "zero_padding1d_3 (ZeroPadding1D (None, 174, 32)      0           conv1d_5[0][0]                   \n",
      "__________________________________________________________________________________________________\n",
      "conv1d_6 (Conv1D)               (None, 172, 32)      3104        zero_padding1d_3[0][0]           \n",
      "__________________________________________________________________________________________________\n",
      "zero_padding1d_4 (ZeroPadding1D (None, 174, 32)      0           conv1d_6[0][0]                   \n",
      "__________________________________________________________________________________________________\n",
      "max_pooling1d_2 (MaxPooling1D)  (None, 87, 32)       0           zero_padding1d_4[0][0]           \n",
      "__________________________________________________________________________________________________\n",
      "zero_padding1d_5 (ZeroPadding1D (None, 174, 32)      0           max_pooling1d_2[0][0]            \n",
      "__________________________________________________________________________________________________\n",
      "add (Add)                       (None, 174, 32)      0           max_pooling1d[0][0]              \n",
      "                                                                 zero_padding1d_1[0][0]           \n",
      "                                                                 zero_padding1d_5[0][0]           \n",
      "__________________________________________________________________________________________________\n",
      "flatten_2 (Flatten)             (None, 5568)         0           add[0][0]                        \n",
      "__________________________________________________________________________________________________\n",
      "dense_9 (Dense)                 (None, 32)           178208      flatten_2[0][0]                  \n",
      "__________________________________________________________________________________________________\n",
      "dense_10 (Dense)                (None, 16)           528         dense_9[0][0]                    \n",
      "__________________________________________________________________________________________________\n",
      "dropout_6 (Dropout)             (None, 16)           0           dense_10[0][0]                   \n",
      "__________________________________________________________________________________________________\n",
      "dense_11 (Dense)                (None, 4)            68          dropout_6[0][0]                  \n",
      "==================================================================================================\n",
      "Total params: 197,108\n",
      "Trainable params: 197,108\n",
      "Non-trainable params: 0\n",
      "__________________________________________________________________________________________________\n"
     ]
    }
   ],
   "source": [
    "inp_shape = (dims_lstm_1, dims_lstm_2)\n",
    "ip = tf.keras.Input(shape = inp_shape)\n",
    "conv1 = tf.keras.layers.Conv1D(32, 3,)(ip)\n",
    "# rel1 = tf.keras.layers.LeakyReLU()(conv1)\n",
    "maxpool1 = tf.keras.layers.MaxPooling1D()(conv1)\n",
    "skip1 = maxpool1\n",
    "conv2 = tf.keras.layers.Conv1D(32, 3,)(maxpool1)\n",
    "conv2 = tf.keras.layers.ZeroPadding1D(padding=1)(conv2)\n",
    "# rel2 = tf.keras.layers.LeakyReLU()(conv2)\n",
    "maxpool2 = tf.keras.layers.MaxPooling1D()(conv2)\n",
    "maxpool2 = tf.keras.layers.ZeroPadding1D(padding=(44,43))(maxpool2)\n",
    "skip2 = maxpool2\n",
    "conv3 = tf.keras.layers.Conv1D(32, 3,)(maxpool2)\n",
    "conv3 = tf.keras.layers.ZeroPadding1D(padding=1)(conv3)\n",
    "conv4 = tf.keras.layers.Conv1D(32, 3,)(conv3)\n",
    "conv4 = tf.keras.layers.ZeroPadding1D(padding=1)(conv4)\n",
    "conv5 = tf.keras.layers.Conv1D(32, 3,)(conv4)\n",
    "conv5 = tf.keras.layers.ZeroPadding1D(padding=1)(conv5)\n",
    "maxpool5 = tf.keras.layers.MaxPooling1D()(conv5)\n",
    "maxpool5 = tf.keras.layers.ZeroPadding1D(padding=(44, 43))(maxpool5)\n",
    "addlayer1 = tf.keras.layers.Add()([skip1, skip2, maxpool5])\n",
    "\n",
    "# lstm = tf.keras.layers.LSTM(16, return_sequences=True)(ip)\n",
    "flatten = tf.keras.layers.Flatten()(addlayer1)\n",
    "dense1 = tf.keras.layers.Dense(units = 32, kernel_initializer = 'random_normal')(flatten)\n",
    "# leakyRelu = tf.keras.layers.LeakyReLU()(dense1)\n",
    "# drop1 = tf.keras.layers.Dropout(.4)(dense1)\n",
    "dense2 = tf.keras.layers.Dense(units = 16, kernel_initializer = 'random_normal')(dense1)\n",
    "# leakyRelu2 = tf.keras.layers.LeakyReLU()(dense2)\n",
    "drop2 = tf.keras.layers.Dropout(.4)(dense2)\n",
    "out = tf.keras.layers.Dense(num_classes, activation = 'softmax')(drop2)\n",
    "\n",
    "ftExtract = tf.keras.Model(inputs = ip, outputs = out)\n",
    "ftExtract.summary()"
   ]
  },
  {
   "cell_type": "raw",
   "metadata": {},
   "source": []
  },
  {
   "cell_type": "code",
   "execution_count": 103,
   "metadata": {},
   "outputs": [],
   "source": [
    "# Compiling the model\n",
    "fte_earlystop = EarlyStopping(patience = 15, min_delta = 0.001, monitor = 'val_acc')\n",
    "\n",
    "path = 'fte_checkpoint/checkpoint_{epoch:02d}';\n",
    "fte_checkpoint = ModelCheckpoint(filepath = path,\n",
    "                            verbose = 1,\n",
    "                            monitor = 'val_acc',\n",
    "                            save_freq = 'epoch',\n",
    "                            save_best_only = True,\n",
    "                            save_weights_only = True)\n",
    "\n",
    "ftExtract.compile(loss = 'categorical_crossentropy', metrics = ['acc'], optimizer = 'adam')"
   ]
  },
  {
   "cell_type": "code",
   "execution_count": 96,
   "metadata": {
    "scrolled": true
   },
   "outputs": [
    {
     "name": "stdout",
     "output_type": "stream",
     "text": [
      "Train on 898 samples, validate on 225 samples\n",
      "Epoch 1/100\n",
      "896/898 [============================>.] - ETA: 0s - loss: 1.0414 - acc: 0.6440\n",
      "Epoch 00001: val_acc improved from -inf to 0.60444, saving model to fte_checkpoint/checkpoint_01\n",
      "898/898 [==============================] - 5s 6ms/sample - loss: 1.0446 - acc: 0.6425 - val_loss: 1.0317 - val_acc: 0.6044\n",
      "Epoch 2/100\n",
      "896/898 [============================>.] - ETA: 0s - loss: 0.9814 - acc: 0.6328\n",
      "Epoch 00002: val_acc did not improve from 0.60444\n",
      "898/898 [==============================] - 3s 4ms/sample - loss: 0.9800 - acc: 0.6336 - val_loss: 1.0509 - val_acc: 0.6044\n",
      "Epoch 3/100\n",
      "896/898 [============================>.] - ETA: 0s - loss: 0.9534 - acc: 0.6507\n",
      "Epoch 00003: val_acc did not improve from 0.60444\n",
      "898/898 [==============================] - 3s 3ms/sample - loss: 0.9538 - acc: 0.6503 - val_loss: 1.0356 - val_acc: 0.6044\n",
      "Epoch 4/100\n",
      "896/898 [============================>.] - ETA: 0s - loss: 0.9638 - acc: 0.6507\n",
      "Epoch 00004: val_acc did not improve from 0.60444\n",
      "898/898 [==============================] - 2s 3ms/sample - loss: 0.9639 - acc: 0.6503 - val_loss: 1.0391 - val_acc: 0.6044\n",
      "Epoch 5/100\n",
      "896/898 [============================>.] - ETA: 0s - loss: 0.9618 - acc: 0.6496\n",
      "Epoch 00005: val_acc did not improve from 0.60444\n",
      "898/898 [==============================] - 2s 3ms/sample - loss: 0.9607 - acc: 0.6503 - val_loss: 1.0317 - val_acc: 0.6044\n",
      "Epoch 6/100\n",
      "896/898 [============================>.] - ETA: 0s - loss: 0.9569 - acc: 0.6507\n",
      "Epoch 00006: val_acc did not improve from 0.60444\n",
      "898/898 [==============================] - 2s 2ms/sample - loss: 0.9573 - acc: 0.6503 - val_loss: 1.0278 - val_acc: 0.6044\n",
      "Epoch 7/100\n",
      "896/898 [============================>.] - ETA: 0s - loss: 0.9412 - acc: 0.6518\n",
      "Epoch 00007: val_acc did not improve from 0.60444\n",
      "898/898 [==============================] - 2s 2ms/sample - loss: 0.9438 - acc: 0.6503 - val_loss: 1.0508 - val_acc: 0.6044\n",
      "Epoch 8/100\n",
      "896/898 [============================>.] - ETA: 0s - loss: 0.9574 - acc: 0.6484\n",
      "Epoch 00008: val_acc did not improve from 0.60444\n",
      "898/898 [==============================] - 2s 2ms/sample - loss: 0.9565 - acc: 0.6492 - val_loss: 1.0325 - val_acc: 0.6044\n",
      "Epoch 9/100\n",
      "896/898 [============================>.] - ETA: 0s - loss: 0.9449 - acc: 0.6484\n",
      "Epoch 00009: val_acc did not improve from 0.60444\n",
      "898/898 [==============================] - 2s 2ms/sample - loss: 0.9455 - acc: 0.6481 - val_loss: 1.0547 - val_acc: 0.6044\n",
      "Epoch 10/100\n",
      "896/898 [============================>.] - ETA: 0s - loss: 0.9566 - acc: 0.6507\n",
      "Epoch 00010: val_acc did not improve from 0.60444\n",
      "898/898 [==============================] - 2s 2ms/sample - loss: 0.9570 - acc: 0.6503 - val_loss: 1.0310 - val_acc: 0.6044\n",
      "Epoch 11/100\n",
      "896/898 [============================>.] - ETA: 0s - loss: 0.9690 - acc: 0.6496\n",
      "Epoch 00011: val_acc did not improve from 0.60444\n",
      "898/898 [==============================] - 1s 1ms/sample - loss: 0.9693 - acc: 0.6492 - val_loss: 1.0333 - val_acc: 0.6044\n",
      "Epoch 12/100\n",
      "864/898 [===========================>..] - ETA: 0s - loss: 0.9548 - acc: 0.6516\n",
      "Epoch 00012: val_acc did not improve from 0.60444\n",
      "898/898 [==============================] - 1s 1ms/sample - loss: 0.9568 - acc: 0.6503 - val_loss: 1.0327 - val_acc: 0.6044\n",
      "Epoch 13/100\n",
      "864/898 [===========================>..] - ETA: 0s - loss: 0.9522 - acc: 0.6481\n",
      "Epoch 00013: val_acc did not improve from 0.60444\n",
      "898/898 [==============================] - 1s 1ms/sample - loss: 0.9482 - acc: 0.6514 - val_loss: 1.0323 - val_acc: 0.6044\n",
      "Epoch 14/100\n",
      "864/898 [===========================>..] - ETA: 0s - loss: 0.9510 - acc: 0.6493\n",
      "Epoch 00014: val_acc did not improve from 0.60444\n",
      "898/898 [==============================] - 1s 1ms/sample - loss: 0.9496 - acc: 0.6503 - val_loss: 1.0308 - val_acc: 0.6044\n",
      "Epoch 15/100\n",
      "864/898 [===========================>..] - ETA: 0s - loss: 0.9474 - acc: 0.6481\n",
      "Epoch 00015: val_acc did not improve from 0.60444\n",
      "898/898 [==============================] - 1s 1ms/sample - loss: 0.9428 - acc: 0.6503 - val_loss: 1.0351 - val_acc: 0.6044\n",
      "Epoch 16/100\n",
      "864/898 [===========================>..] - ETA: 0s - loss: 0.9550 - acc: 0.6481\n",
      "Epoch 00016: val_acc did not improve from 0.60444\n",
      "898/898 [==============================] - 1s 1ms/sample - loss: 0.9501 - acc: 0.6503 - val_loss: 1.0388 - val_acc: 0.6044\n",
      "Epoch 17/100\n",
      "864/898 [===========================>..] - ETA: 0s - loss: 0.9379 - acc: 0.6493\n",
      "Epoch 00017: val_acc did not improve from 0.60444\n",
      "898/898 [==============================] - 1s 1ms/sample - loss: 0.9349 - acc: 0.6503 - val_loss: 1.0455 - val_acc: 0.6044\n",
      "Epoch 18/100\n",
      "864/898 [===========================>..] - ETA: 0s - loss: 0.9447 - acc: 0.6505\n",
      "Epoch 00018: val_acc did not improve from 0.60444\n",
      "898/898 [==============================] - 1s 1ms/sample - loss: 0.9476 - acc: 0.6503 - val_loss: 1.0294 - val_acc: 0.6044\n",
      "Epoch 19/100\n",
      "864/898 [===========================>..] - ETA: 0s - loss: 0.9456 - acc: 0.6481\n",
      "Epoch 00019: val_acc did not improve from 0.60444\n",
      "898/898 [==============================] - 1s 1ms/sample - loss: 0.9433 - acc: 0.6503 - val_loss: 1.0328 - val_acc: 0.6044\n",
      "Epoch 20/100\n",
      "864/898 [===========================>..] - ETA: 0s - loss: 0.9376 - acc: 0.6562\n",
      "Epoch 00020: val_acc did not improve from 0.60444\n",
      "898/898 [==============================] - 1s 1ms/sample - loss: 0.9431 - acc: 0.6503 - val_loss: 1.0312 - val_acc: 0.6044\n",
      "Epoch 21/100\n",
      "864/898 [===========================>..] - ETA: 0s - loss: 0.9471 - acc: 0.6505\n",
      "Epoch 00021: val_acc did not improve from 0.60444\n",
      "898/898 [==============================] - 1s 1ms/sample - loss: 0.9464 - acc: 0.6503 - val_loss: 1.0396 - val_acc: 0.6044\n",
      "Epoch 22/100\n",
      "864/898 [===========================>..] - ETA: 0s - loss: 0.9422 - acc: 0.6493\n",
      "Epoch 00022: val_acc did not improve from 0.60444\n",
      "898/898 [==============================] - 1s 1ms/sample - loss: 0.9400 - acc: 0.6503 - val_loss: 1.0484 - val_acc: 0.6044\n",
      "Epoch 23/100\n",
      "864/898 [===========================>..] - ETA: 0s - loss: 0.9332 - acc: 0.6505\n",
      "Epoch 00023: val_acc did not improve from 0.60444\n",
      "898/898 [==============================] - 1s 1ms/sample - loss: 0.9339 - acc: 0.6503 - val_loss: 1.0412 - val_acc: 0.6044\n",
      "Epoch 24/100\n",
      "864/898 [===========================>..] - ETA: 0s - loss: 0.9410 - acc: 0.6481\n",
      "Epoch 00024: val_acc did not improve from 0.60444\n",
      "898/898 [==============================] - 1s 1ms/sample - loss: 0.9366 - acc: 0.6503 - val_loss: 1.0368 - val_acc: 0.6044\n",
      "Epoch 25/100\n",
      "864/898 [===========================>..] - ETA: 0s - loss: 0.9397 - acc: 0.6505\n",
      "Epoch 00025: val_acc did not improve from 0.60444\n",
      "898/898 [==============================] - 1s 1ms/sample - loss: 0.9473 - acc: 0.6503 - val_loss: 1.0306 - val_acc: 0.6044\n",
      "Epoch 26/100\n",
      "864/898 [===========================>..] - ETA: 0s - loss: 0.9202 - acc: 0.6539\n",
      "Epoch 00026: val_acc did not improve from 0.60444\n",
      "898/898 [==============================] - 1s 1ms/sample - loss: 0.9289 - acc: 0.6503 - val_loss: 1.0423 - val_acc: 0.6044\n",
      "Epoch 27/100\n",
      "864/898 [===========================>..] - ETA: 0s - loss: 0.9195 - acc: 0.6493\n",
      "Epoch 00027: val_acc did not improve from 0.60444\n",
      "898/898 [==============================] - 1s 1ms/sample - loss: 0.9267 - acc: 0.6503 - val_loss: 1.0689 - val_acc: 0.6044\n",
      "Epoch 28/100\n",
      "864/898 [===========================>..] - ETA: 0s - loss: 0.9320 - acc: 0.6539\n",
      "Epoch 00028: val_acc did not improve from 0.60444\n",
      "898/898 [==============================] - 1s 1ms/sample - loss: 0.9340 - acc: 0.6503 - val_loss: 1.0685 - val_acc: 0.6044\n",
      "Epoch 29/100\n",
      "864/898 [===========================>..] - ETA: 0s - loss: 0.9317 - acc: 0.6493\n",
      "Epoch 00029: val_acc did not improve from 0.60444\n",
      "898/898 [==============================] - 1s 1ms/sample - loss: 0.9298 - acc: 0.6503 - val_loss: 1.0389 - val_acc: 0.6044\n",
      "Epoch 30/100\n",
      "864/898 [===========================>..] - ETA: 0s - loss: 0.9316 - acc: 0.6574\n",
      "Epoch 00030: val_acc did not improve from 0.60444\n",
      "898/898 [==============================] - 1s 1ms/sample - loss: 0.9407 - acc: 0.6503 - val_loss: 1.0417 - val_acc: 0.6044\n",
      "Epoch 31/100\n",
      "864/898 [===========================>..] - ETA: 0s - loss: 0.9353 - acc: 0.6505\n",
      "Epoch 00031: val_acc did not improve from 0.60444\n",
      "898/898 [==============================] - 1s 1ms/sample - loss: 0.9353 - acc: 0.6503 - val_loss: 1.0499 - val_acc: 0.6044\n",
      "Epoch 32/100\n",
      "864/898 [===========================>..] - ETA: 0s - loss: 0.9313 - acc: 0.6505\n",
      "Epoch 00032: val_acc did not improve from 0.60444\n",
      "898/898 [==============================] - 1s 1ms/sample - loss: 0.9309 - acc: 0.6503 - val_loss: 1.0586 - val_acc: 0.6044\n",
      "Epoch 33/100\n",
      "864/898 [===========================>..] - ETA: 0s - loss: 0.9317 - acc: 0.6505\n",
      "Epoch 00033: val_acc did not improve from 0.60444\n",
      "898/898 [==============================] - 1s 1ms/sample - loss: 0.9307 - acc: 0.6503 - val_loss: 1.0415 - val_acc: 0.6044\n",
      "Epoch 34/100\n",
      "864/898 [===========================>..] - ETA: 0s - loss: 0.9237 - acc: 0.6528\n",
      "Epoch 00034: val_acc did not improve from 0.60444\n",
      "898/898 [==============================] - 1s 1ms/sample - loss: 0.9262 - acc: 0.6503 - val_loss: 1.0448 - val_acc: 0.6044\n",
      "Epoch 35/100\n",
      "864/898 [===========================>..] - ETA: 0s - loss: 0.9296 - acc: 0.6562\n",
      "Epoch 00035: val_acc did not improve from 0.60444\n",
      "898/898 [==============================] - 1s 1ms/sample - loss: 0.9350 - acc: 0.6503 - val_loss: 1.0359 - val_acc: 0.6044\n",
      "Epoch 36/100\n",
      "864/898 [===========================>..] - ETA: 0s - loss: 0.9256 - acc: 0.6539\n",
      "Epoch 00036: val_acc did not improve from 0.60444\n",
      "898/898 [==============================] - 1s 1ms/sample - loss: 0.9311 - acc: 0.6503 - val_loss: 1.0376 - val_acc: 0.6044\n",
      "Epoch 37/100\n",
      "864/898 [===========================>..] - ETA: 0s - loss: 0.9505 - acc: 0.6447\n",
      "Epoch 00037: val_acc did not improve from 0.60444\n",
      "898/898 [==============================] - 1s 1ms/sample - loss: 0.9414 - acc: 0.6503 - val_loss: 1.0466 - val_acc: 0.6044\n",
      "Epoch 38/100\n",
      "864/898 [===========================>..] - ETA: 0s - loss: 0.9262 - acc: 0.6551\n",
      "Epoch 00038: val_acc did not improve from 0.60444\n",
      "898/898 [==============================] - 1s 1ms/sample - loss: 0.9361 - acc: 0.6503 - val_loss: 1.0299 - val_acc: 0.6044\n",
      "Epoch 39/100\n",
      "864/898 [===========================>..] - ETA: 0s - loss: 0.9512 - acc: 0.6493\n",
      "Epoch 00039: val_acc did not improve from 0.60444\n",
      "898/898 [==============================] - 1s 1ms/sample - loss: 0.9480 - acc: 0.6503 - val_loss: 1.0554 - val_acc: 0.6044\n",
      "Epoch 40/100\n",
      "864/898 [===========================>..] - ETA: 0s - loss: 0.9413 - acc: 0.6481\n",
      "Epoch 00040: val_acc did not improve from 0.60444\n",
      "898/898 [==============================] - 1s 1ms/sample - loss: 0.9379 - acc: 0.6503 - val_loss: 1.0657 - val_acc: 0.6044\n",
      "Epoch 41/100\n",
      "864/898 [===========================>..] - ETA: 0s - loss: 0.9530 - acc: 0.6470\n",
      "Epoch 00041: val_acc did not improve from 0.60444\n",
      "898/898 [==============================] - 1s 1ms/sample - loss: 0.9464 - acc: 0.6503 - val_loss: 1.0552 - val_acc: 0.6044\n",
      "Epoch 42/100\n",
      "864/898 [===========================>..] - ETA: 0s - loss: 0.9414 - acc: 0.6481\n",
      "Epoch 00042: val_acc did not improve from 0.60444\n",
      "898/898 [==============================] - 1s 1ms/sample - loss: 0.9365 - acc: 0.6503 - val_loss: 1.0797 - val_acc: 0.6044\n",
      "Epoch 43/100\n",
      "864/898 [===========================>..] - ETA: 0s - loss: 0.9279 - acc: 0.6528\n",
      "Epoch 00043: val_acc did not improve from 0.60444\n",
      "898/898 [==============================] - 1s 1ms/sample - loss: 0.9301 - acc: 0.6503 - val_loss: 1.0462 - val_acc: 0.6044\n",
      "Epoch 44/100\n",
      "864/898 [===========================>..] - ETA: 0s - loss: 0.9232 - acc: 0.6505\n",
      "Epoch 00044: val_acc did not improve from 0.60444\n",
      "898/898 [==============================] - 1s 1ms/sample - loss: 0.9238 - acc: 0.6503 - val_loss: 1.0352 - val_acc: 0.6044\n",
      "Epoch 45/100\n",
      "864/898 [===========================>..] - ETA: 0s - loss: 0.9341 - acc: 0.6493\n",
      "Epoch 00045: val_acc did not improve from 0.60444\n",
      "898/898 [==============================] - 1s 1ms/sample - loss: 0.9337 - acc: 0.6503 - val_loss: 1.0303 - val_acc: 0.6044\n",
      "Epoch 46/100\n",
      "864/898 [===========================>..] - ETA: 0s - loss: 0.9265 - acc: 0.6516\n",
      "Epoch 00046: val_acc did not improve from 0.60444\n",
      "898/898 [==============================] - 1s 1ms/sample - loss: 0.9277 - acc: 0.6503 - val_loss: 1.0444 - val_acc: 0.6044\n",
      "Epoch 47/100\n",
      "864/898 [===========================>..] - ETA: 0s - loss: 0.9247 - acc: 0.6528\n",
      "Epoch 00047: val_acc did not improve from 0.60444\n",
      "898/898 [==============================] - 1s 1ms/sample - loss: 0.9260 - acc: 0.6503 - val_loss: 1.0248 - val_acc: 0.6044\n",
      "Epoch 48/100\n",
      "864/898 [===========================>..] - ETA: 0s - loss: 0.9362 - acc: 0.6493\n",
      "Epoch 00048: val_acc did not improve from 0.60444\n",
      "898/898 [==============================] - 1s 1ms/sample - loss: 0.9335 - acc: 0.6503 - val_loss: 1.0302 - val_acc: 0.6044\n",
      "Epoch 49/100\n",
      "864/898 [===========================>..] - ETA: 0s - loss: 0.9345 - acc: 0.6516\n",
      "Epoch 00049: val_acc did not improve from 0.60444\n",
      "898/898 [==============================] - 1s 1ms/sample - loss: 0.9347 - acc: 0.6503 - val_loss: 1.0394 - val_acc: 0.6044\n",
      "Epoch 50/100\n",
      "864/898 [===========================>..] - ETA: 0s - loss: 0.9266 - acc: 0.6528\n",
      "Epoch 00050: val_acc did not improve from 0.60444\n",
      "898/898 [==============================] - 1s 1ms/sample - loss: 0.9278 - acc: 0.6503 - val_loss: 1.0250 - val_acc: 0.6044\n",
      "Epoch 51/100\n",
      "864/898 [===========================>..] - ETA: 0s - loss: 0.9332 - acc: 0.6481\n",
      "Epoch 00051: val_acc did not improve from 0.60444\n",
      "898/898 [==============================] - 1s 1ms/sample - loss: 0.9308 - acc: 0.6503 - val_loss: 1.0275 - val_acc: 0.6044\n",
      "Epoch 52/100\n",
      "864/898 [===========================>..] - ETA: 0s - loss: 0.9188 - acc: 0.6505\n",
      "Epoch 00052: val_acc did not improve from 0.60444\n",
      "898/898 [==============================] - 1s 1ms/sample - loss: 0.9210 - acc: 0.6503 - val_loss: 1.0135 - val_acc: 0.6044\n",
      "Epoch 53/100\n",
      "864/898 [===========================>..] - ETA: 0s - loss: 0.9197 - acc: 0.6470\n",
      "Epoch 00053: val_acc did not improve from 0.60444\n",
      "898/898 [==============================] - 1s 1ms/sample - loss: 0.9178 - acc: 0.6503 - val_loss: 1.0288 - val_acc: 0.6044\n",
      "Epoch 54/100\n",
      "864/898 [===========================>..] - ETA: 0s - loss: 0.9044 - acc: 0.6493\n",
      "Epoch 00054: val_acc did not improve from 0.60444\n",
      "898/898 [==============================] - 1s 1ms/sample - loss: 0.9029 - acc: 0.6503 - val_loss: 1.0251 - val_acc: 0.6044\n",
      "Epoch 55/100\n",
      "864/898 [===========================>..] - ETA: 0s - loss: 0.9011 - acc: 0.6574\n",
      "Epoch 00055: val_acc did not improve from 0.60444\n",
      "898/898 [==============================] - 1s 1ms/sample - loss: 0.9126 - acc: 0.6503 - val_loss: 1.1086 - val_acc: 0.6044\n",
      "Epoch 56/100\n",
      "864/898 [===========================>..] - ETA: 0s - loss: 0.9236 - acc: 0.6470\n",
      "Epoch 00056: val_acc did not improve from 0.60444\n",
      "898/898 [==============================] - 1s 1ms/sample - loss: 0.9275 - acc: 0.6437 - val_loss: 1.0274 - val_acc: 0.6044\n",
      "Epoch 57/100\n",
      "864/898 [===========================>..] - ETA: 0s - loss: 0.9327 - acc: 0.6493\n",
      "Epoch 00057: val_acc did not improve from 0.60444\n",
      "898/898 [==============================] - 1s 1ms/sample - loss: 0.9293 - acc: 0.6503 - val_loss: 1.0326 - val_acc: 0.6044\n",
      "Epoch 58/100\n",
      "864/898 [===========================>..] - ETA: 0s - loss: 0.9188 - acc: 0.6516\n",
      "Epoch 00058: val_acc did not improve from 0.60444\n",
      "898/898 [==============================] - 1s 1ms/sample - loss: 0.9337 - acc: 0.6503 - val_loss: 1.0383 - val_acc: 0.6044\n",
      "Epoch 59/100\n",
      "864/898 [===========================>..] - ETA: 0s - loss: 0.9405 - acc: 0.6516\n",
      "Epoch 00059: val_acc did not improve from 0.60444\n",
      "898/898 [==============================] - 1s 1ms/sample - loss: 0.9405 - acc: 0.6503 - val_loss: 1.0291 - val_acc: 0.6044\n",
      "Epoch 60/100\n",
      "864/898 [===========================>..] - ETA: 0s - loss: 0.9282 - acc: 0.6505\n",
      "Epoch 00060: val_acc did not improve from 0.60444\n",
      "898/898 [==============================] - 1s 1ms/sample - loss: 0.9304 - acc: 0.6503 - val_loss: 1.0689 - val_acc: 0.6044\n",
      "Epoch 61/100\n",
      "864/898 [===========================>..] - ETA: 0s - loss: 0.9283 - acc: 0.6470\n",
      "Epoch 00061: val_acc did not improve from 0.60444\n",
      "898/898 [==============================] - 1s 1ms/sample - loss: 0.9252 - acc: 0.6503 - val_loss: 1.0450 - val_acc: 0.6044\n",
      "Epoch 62/100\n",
      "864/898 [===========================>..] - ETA: 0s - loss: 0.9312 - acc: 0.6493\n",
      "Epoch 00062: val_acc did not improve from 0.60444\n",
      "898/898 [==============================] - 1s 1ms/sample - loss: 0.9292 - acc: 0.6503 - val_loss: 1.0385 - val_acc: 0.6044\n",
      "Epoch 63/100\n",
      "864/898 [===========================>..] - ETA: 0s - loss: 0.9242 - acc: 0.6481\n",
      "Epoch 00063: val_acc did not improve from 0.60444\n",
      "898/898 [==============================] - 1s 1ms/sample - loss: 0.9216 - acc: 0.6503 - val_loss: 1.0043 - val_acc: 0.6044\n",
      "Epoch 64/100\n",
      "864/898 [===========================>..] - ETA: 0s - loss: 0.9095 - acc: 0.6481\n",
      "Epoch 00064: val_acc did not improve from 0.60444\n",
      "898/898 [==============================] - 1s 1ms/sample - loss: 0.9021 - acc: 0.6514 - val_loss: 1.3098 - val_acc: 0.6044\n",
      "Epoch 65/100\n",
      "864/898 [===========================>..] - ETA: 0s - loss: 0.9321 - acc: 0.6435\n",
      "Epoch 00065: val_acc did not improve from 0.60444\n",
      "898/898 [==============================] - 1s 1ms/sample - loss: 0.9257 - acc: 0.6503 - val_loss: 0.9925 - val_acc: 0.6044\n",
      "Epoch 66/100\n",
      "864/898 [===========================>..] - ETA: 0s - loss: 0.8833 - acc: 0.6632\n",
      "Epoch 00066: val_acc improved from 0.60444 to 0.61778, saving model to fte_checkpoint/checkpoint_66\n",
      "898/898 [==============================] - 2s 2ms/sample - loss: 0.8911 - acc: 0.6559 - val_loss: 0.9892 - val_acc: 0.6178\n",
      "Epoch 67/100\n",
      "896/898 [============================>.] - ETA: 0s - loss: 0.8935 - acc: 0.6507\n",
      "Epoch 00067: val_acc improved from 0.61778 to 0.63111, saving model to fte_checkpoint/checkpoint_67\n",
      "898/898 [==============================] - 4s 4ms/sample - loss: 0.8936 - acc: 0.6503 - val_loss: 1.0066 - val_acc: 0.6311\n",
      "Epoch 68/100\n",
      "896/898 [============================>.] - ETA: 0s - loss: 0.8736 - acc: 0.6529\n",
      "Epoch 00068: val_acc did not improve from 0.63111\n",
      "898/898 [==============================] - 3s 4ms/sample - loss: 0.8721 - acc: 0.6537 - val_loss: 1.0049 - val_acc: 0.6222\n",
      "Epoch 69/100\n",
      "896/898 [============================>.] - ETA: 0s - loss: 0.8841 - acc: 0.6596\n",
      "Epoch 00069: val_acc did not improve from 0.63111\n",
      "898/898 [==============================] - 3s 3ms/sample - loss: 0.8849 - acc: 0.6592 - val_loss: 0.9725 - val_acc: 0.6089\n",
      "Epoch 70/100\n",
      "896/898 [============================>.] - ETA: 0s - loss: 0.8619 - acc: 0.6585\n",
      "Epoch 00070: val_acc improved from 0.63111 to 0.63556, saving model to fte_checkpoint/checkpoint_70\n",
      "898/898 [==============================] - 3s 4ms/sample - loss: 0.8626 - acc: 0.6581 - val_loss: 0.9697 - val_acc: 0.6356\n",
      "Epoch 71/100\n",
      "896/898 [============================>.] - ETA: 0s - loss: 0.8628 - acc: 0.6641\n",
      "Epoch 00071: val_acc did not improve from 0.63556\n",
      "898/898 [==============================] - 3s 4ms/sample - loss: 0.8630 - acc: 0.6637 - val_loss: 1.0094 - val_acc: 0.6311\n",
      "Epoch 72/100\n",
      "896/898 [============================>.] - ETA: 0s - loss: 0.8945 - acc: 0.6451\n",
      "Epoch 00072: val_acc did not improve from 0.63556\n",
      "898/898 [==============================] - 3s 3ms/sample - loss: 0.8943 - acc: 0.6448 - val_loss: 0.9708 - val_acc: 0.6311\n",
      "Epoch 73/100\n",
      "896/898 [============================>.] - ETA: 0s - loss: 0.8677 - acc: 0.6641\n",
      "Epoch 00073: val_acc did not improve from 0.63556\n",
      "898/898 [==============================] - 3s 3ms/sample - loss: 0.8672 - acc: 0.6648 - val_loss: 0.9638 - val_acc: 0.6311\n",
      "Epoch 74/100\n",
      "896/898 [============================>.] - ETA: 0s - loss: 0.8411 - acc: 0.6641\n",
      "Epoch 00074: val_acc improved from 0.63556 to 0.64000, saving model to fte_checkpoint/checkpoint_74\n",
      "898/898 [==============================] - 3s 3ms/sample - loss: 0.8410 - acc: 0.6637 - val_loss: 0.9876 - val_acc: 0.6400\n",
      "Epoch 75/100\n",
      "896/898 [============================>.] - ETA: 0s - loss: 0.8450 - acc: 0.6763- ETA: 1s - loss: 0.8518 - a\n",
      "Epoch 00075: val_acc did not improve from 0.64000\n",
      "898/898 [==============================] - 3s 4ms/sample - loss: 0.8450 - acc: 0.6759 - val_loss: 0.9795 - val_acc: 0.6311\n",
      "Epoch 76/100\n",
      "896/898 [============================>.] - ETA: 0s - loss: 0.8416 - acc: 0.6763\n",
      "Epoch 00076: val_acc did not improve from 0.64000\n",
      "898/898 [==============================] - 3s 3ms/sample - loss: 0.8403 - acc: 0.6771 - val_loss: 0.9896 - val_acc: 0.6311\n",
      "Epoch 77/100\n",
      "896/898 [============================>.] - ETA: 0s - loss: 0.8369 - acc: 0.6786\n",
      "Epoch 00077: val_acc did not improve from 0.64000\n",
      "898/898 [==============================] - 3s 3ms/sample - loss: 0.8359 - acc: 0.6793 - val_loss: 1.0089 - val_acc: 0.6356\n",
      "Epoch 78/100\n",
      "896/898 [============================>.] - ETA: 0s - loss: 0.8183 - acc: 0.6696\n",
      "Epoch 00078: val_acc did not improve from 0.64000\n",
      "898/898 [==============================] - 3s 3ms/sample - loss: 0.8168 - acc: 0.6704 - val_loss: 1.0243 - val_acc: 0.6267\n",
      "Epoch 79/100\n",
      "896/898 [============================>.] - ETA: 0s - loss: 0.8391 - acc: 0.6629\n",
      "Epoch 00079: val_acc did not improve from 0.64000\n",
      "898/898 [==============================] - 2s 3ms/sample - loss: 0.8401 - acc: 0.6626 - val_loss: 0.9741 - val_acc: 0.6178\n",
      "Epoch 80/100\n",
      "896/898 [============================>.] - ETA: 0s - loss: 0.8177 - acc: 0.6618\n",
      "Epoch 00080: val_acc did not improve from 0.64000\n",
      "898/898 [==============================] - 2s 3ms/sample - loss: 0.8197 - acc: 0.6615 - val_loss: 1.0180 - val_acc: 0.6267\n",
      "Epoch 81/100\n",
      "896/898 [============================>.] - ETA: 0s - loss: 0.8288 - acc: 0.6708\n",
      "Epoch 00081: val_acc did not improve from 0.64000\n",
      "898/898 [==============================] - 2s 3ms/sample - loss: 0.8295 - acc: 0.6704 - val_loss: 0.9933 - val_acc: 0.6311\n",
      "Epoch 82/100\n",
      "896/898 [============================>.] - ETA: 0s - loss: 0.8053 - acc: 0.6685\n",
      "Epoch 00082: val_acc did not improve from 0.64000\n",
      "898/898 [==============================] - 2s 3ms/sample - loss: 0.8046 - acc: 0.6693 - val_loss: 1.0101 - val_acc: 0.6267\n",
      "Epoch 83/100\n",
      "896/898 [============================>.] - ETA: 0s - loss: 0.7964 - acc: 0.6808\n",
      "Epoch 00083: val_acc did not improve from 0.64000\n",
      "898/898 [==============================] - 2s 3ms/sample - loss: 0.7950 - acc: 0.6815 - val_loss: 1.1139 - val_acc: 0.6044\n",
      "Epoch 84/100\n",
      "896/898 [============================>.] - ETA: 0s - loss: 0.8173 - acc: 0.6652\n",
      "Epoch 00084: val_acc did not improve from 0.64000\n",
      "898/898 [==============================] - 2s 3ms/sample - loss: 0.8160 - acc: 0.6659 - val_loss: 1.0242 - val_acc: 0.6222\n",
      "Epoch 85/100\n",
      "896/898 [============================>.] - ETA: 0s - loss: 0.7896 - acc: 0.6819\n",
      "Epoch 00085: val_acc did not improve from 0.64000\n",
      "898/898 [==============================] - 2s 3ms/sample - loss: 0.7896 - acc: 0.6826 - val_loss: 1.0510 - val_acc: 0.6267\n",
      "Epoch 86/100\n",
      "896/898 [============================>.] - ETA: 0s - loss: 0.7894 - acc: 0.6842\n",
      "Epoch 00086: val_acc did not improve from 0.64000\n",
      "898/898 [==============================] - 2s 3ms/sample - loss: 0.7897 - acc: 0.6837 - val_loss: 1.1084 - val_acc: 0.6222\n",
      "Epoch 87/100\n",
      "896/898 [============================>.] - ETA: 0s - loss: 0.7733 - acc: 0.6931\n",
      "Epoch 00087: val_acc did not improve from 0.64000\n",
      "898/898 [==============================] - 2s 3ms/sample - loss: 0.7729 - acc: 0.6927 - val_loss: 1.0990 - val_acc: 0.6311\n",
      "Epoch 88/100\n",
      "896/898 [============================>.] - ETA: 0s - loss: 0.7599 - acc: 0.6864\n",
      "Epoch 00088: val_acc did not improve from 0.64000\n",
      "898/898 [==============================] - 2s 2ms/sample - loss: 0.7625 - acc: 0.6849 - val_loss: 1.0933 - val_acc: 0.6178\n",
      "Epoch 89/100\n",
      "896/898 [============================>.] - ETA: 0s - loss: 0.7617 - acc: 0.6886\n",
      "Epoch 00089: val_acc did not improve from 0.64000\n",
      "898/898 [==============================] - 2s 2ms/sample - loss: 0.7604 - acc: 0.6893 - val_loss: 1.2641 - val_acc: 0.6178\n",
      "Epoch 90/100\n",
      "896/898 [============================>.] - ETA: 0s - loss: 0.7655 - acc: 0.6875\n",
      "Epoch 00090: val_acc did not improve from 0.64000\n",
      "898/898 [==============================] - 2s 2ms/sample - loss: 0.7644 - acc: 0.6882 - val_loss: 1.1125 - val_acc: 0.6267\n",
      "Epoch 91/100\n",
      "896/898 [============================>.] - ETA: 0s - loss: 0.7508 - acc: 0.6942- ETA: 0s - loss: 0.7482\n",
      "Epoch 00091: val_acc did not improve from 0.64000\n",
      "898/898 [==============================] - 2s 2ms/sample - loss: 0.7502 - acc: 0.6938 - val_loss: 1.1198 - val_acc: 0.5778\n",
      "Epoch 92/100\n",
      "896/898 [============================>.] - ETA: 0s - loss: 0.7362 - acc: 0.7098\n",
      "Epoch 00092: val_acc did not improve from 0.64000\n",
      "898/898 [==============================] - 2s 2ms/sample - loss: 0.7374 - acc: 0.7094 - val_loss: 1.1690 - val_acc: 0.6089\n",
      "Epoch 93/100\n",
      "896/898 [============================>.] - ETA: 0s - loss: 0.7503 - acc: 0.6953- ETA: 0s - loss: 0.7390 - acc: 0.70\n",
      "Epoch 00093: val_acc did not improve from 0.64000\n",
      "898/898 [==============================] - 2s 2ms/sample - loss: 0.7517 - acc: 0.6949 - val_loss: 1.1024 - val_acc: 0.5956\n",
      "Epoch 94/100\n",
      "896/898 [============================>.] - ETA: 0s - loss: 0.7623 - acc: 0.6875\n",
      "Epoch 00094: val_acc did not improve from 0.64000\n",
      "898/898 [==============================] - 2s 2ms/sample - loss: 0.7620 - acc: 0.6871 - val_loss: 1.1141 - val_acc: 0.6044\n",
      "Epoch 95/100\n",
      "896/898 [============================>.] - ETA: 0s - loss: 0.7499 - acc: 0.6998\n",
      "Epoch 00095: val_acc did not improve from 0.64000\n",
      "898/898 [==============================] - 2s 2ms/sample - loss: 0.7487 - acc: 0.7004 - val_loss: 1.2154 - val_acc: 0.6000\n",
      "Epoch 96/100\n",
      "896/898 [============================>.] - ETA: 0s - loss: 0.7234 - acc: 0.7154\n",
      "Epoch 00096: val_acc did not improve from 0.64000\n",
      "898/898 [==============================] - 2s 2ms/sample - loss: 0.7257 - acc: 0.7138 - val_loss: 1.1906 - val_acc: 0.6178\n",
      "Epoch 97/100\n",
      "896/898 [============================>.] - ETA: 0s - loss: 0.7357 - acc: 0.6975\n",
      "Epoch 00097: val_acc did not improve from 0.64000\n",
      "898/898 [==============================] - 2s 2ms/sample - loss: 0.7344 - acc: 0.6982 - val_loss: 1.1962 - val_acc: 0.6089\n",
      "Epoch 98/100\n",
      "896/898 [============================>.] - ETA: 0s - loss: 0.7126 - acc: 0.7009\n",
      "Epoch 00098: val_acc did not improve from 0.64000\n",
      "898/898 [==============================] - 2s 2ms/sample - loss: 0.7143 - acc: 0.7004 - val_loss: 1.2923 - val_acc: 0.5956\n",
      "Epoch 99/100\n",
      "896/898 [============================>.] - ETA: 0s - loss: 0.7147 - acc: 0.7087\n",
      "Epoch 00099: val_acc did not improve from 0.64000\n",
      "898/898 [==============================] - 2s 2ms/sample - loss: 0.7159 - acc: 0.7082 - val_loss: 1.2792 - val_acc: 0.6089\n",
      "Epoch 100/100\n",
      "896/898 [============================>.] - ETA: 0s - loss: 0.7317 - acc: 0.7076\n",
      "Epoch 00100: val_acc did not improve from 0.64000\n",
      "898/898 [==============================] - 2s 2ms/sample - loss: 0.7305 - acc: 0.7082 - val_loss: 1.2166 - val_acc: 0.5956\n"
     ]
    }
   ],
   "source": [
    "ftExtract_history = ftExtract.fit(x_train_cnn, y_train_cnn,\n",
    "                        validation_data = (x_test_cnn, y_test_cnn),\n",
    "#                         steps_per_epoch= 449,\n",
    "                        batch_size = 32,\n",
    "                        epochs = 100,\n",
    "                        callbacks = [fte_checkpoint],\n",
    "                    ) #Fitting the model"
   ]
  },
  {
   "cell_type": "code",
   "execution_count": 101,
   "metadata": {},
   "outputs": [
    {
     "name": "stdout",
     "output_type": "stream",
     "text": [
      "Failed to import pydot. You must install pydot and graphviz for `pydotprint` to work.\n"
     ]
    }
   ],
   "source": [
    "tf.keras.utils.plot_model(ftExtract)"
   ]
  },
  {
   "cell_type": "code",
   "execution_count": 100,
   "metadata": {},
   "outputs": [
    {
     "data": {
      "image/png": "[encoded data removed]",
      "text/plain": [
       "<Figure size 432x288 with 1 Axes>"
      ]
     },
     "metadata": {
      "needs_background": "light"
     },
     "output_type": "display_data"
    },
    {
     "name": "stdout",
     "output_type": "stream",
     "text": [
      "Initial training accuracy with preprocessing is:  0.64253896\n",
      "Final training accuracy with preprocessing is:  0.7082405\n",
      "Initial training loss with preprocessing is:  1.0446460108980038\n",
      "Final training loss with preprocessing is:  0.7305026109473477\n"
     ]
    }
   ],
   "source": [
    "#Plotting model history\n",
    "plt.plot(ftExtract_history.history['acc'])\n",
    "plt.plot(ftExtract_history.history['loss'])\n",
    "plt.legend(['Training Accuracy', 'Training Loss'])\n",
    "plt.title('Training History')\n",
    "plt.ylabel('Value')\n",
    "plt.xlabel('epochs')\n",
    "plt.show()\n",
    "print(\"Initial training accuracy with preprocessing is: \", ftExtract_history.history['acc'][0])\n",
    "print(\"Final training accuracy with preprocessing is: \", ftExtract_history.history['acc'][-1])\n",
    "\n",
    "print(\"Initial training loss with preprocessing is: \", ftExtract_history.history['loss'][0])\n",
    "print(\"Final training loss with preprocessing is: \", ftExtract_history.history['loss'][-1])"
   ]
  },
  {
   "cell_type": "code",
   "execution_count": 99,
   "metadata": {},
   "outputs": [
    {
     "data": {
      "image/png": "[encoded data removed]",
      "text/plain": [
       "<Figure size 432x288 with 1 Axes>"
      ]
     },
     "metadata": {
      "needs_background": "light"
     },
     "output_type": "display_data"
    },
    {
     "name": "stdout",
     "output_type": "stream",
     "text": [
      "Initial Validation accuracy with preprocessing is:  0.60444444\n",
      "Final Validation accuracy with preprocessing is:  0.59555554\n",
      "Initial Validation loss with preprocessing is:  1.0316880893707276\n",
      "Final Validation loss with preprocessing is:  1.2166440386242336\n"
     ]
    }
   ],
   "source": [
    "#Plotting model history\n",
    "plt.plot(ftExtract_history.history['val_acc'])\n",
    "plt.plot(ftExtract_history.history['val_loss'])\n",
    "plt.legend(['Valdation Accuracy', 'Validation Loss'])\n",
    "plt.title('Validation History')\n",
    "plt.ylabel('Value')\n",
    "plt.xlabel('epochs')\n",
    "plt.show()\n",
    "print(\"Initial Validation accuracy with preprocessing is: \", ftExtract_history.history['val_acc'][0])\n",
    "print(\"Final Validation accuracy with preprocessing is: \", ftExtract_history.history['val_acc'][-1])\n",
    "\n",
    "print(\"Initial Validation loss with preprocessing is: \", ftExtract_history.history['val_loss'][0])\n",
    "print(\"Final Validation loss with preprocessing is: \", ftExtract_history.history['val_loss'][-1])"
   ]
  },
  {
   "cell_type": "markdown",
   "metadata": {
    "id": "84lLOB71vg3y"
   },
   "source": [
    "## Training for go/no-go"
   ]
  },
  {
   "cell_type": "markdown",
   "metadata": {},
   "source": [
    "Everything below is same as above just now we have 2 classes only, go and no-go."
   ]
  },
  {
   "cell_type": "code",
   "execution_count": null,
   "metadata": {
    "id": "fF5C4a2Nvg3y",
    "outputId": "66c0fe2f-45a0-42c8-8597-88ff38019b75"
   },
   "outputs": [
    {
     "name": "stdout",
     "output_type": "stream",
     "text": [
      "(1875, 21412)\n",
      "(600, 21412)\n",
      "(600, 21411)\n",
      "(600,)\n",
      "[2.0, 4.0]\n"
     ]
    }
   ],
   "source": [
    "#Creating dataset\n",
    "datasetgonogo = main_dataset.copy()\n",
    "print(datasetgonogo.shape)\n",
    "\n",
    "unwanted_events_gonogo = [9, 10, 3, 6, 7, 8, 11, 1, 5]\n",
    "\n",
    "for e in unwanted_events_gonogo:\n",
    "    datasetgonogo = datasetgonogo[datasetgonogo[:, -1]!=e]\n",
    "\n",
    "print(datasetgonogo.shape)\n",
    "\n",
    "xgonogo = datasetgonogo[:, :-1]\n",
    "ygonogo = datasetgonogo[:, -1]\n",
    "print(xgonogo.shape)\n",
    "print(ygonogo.shape)\n",
    "print(list(set(ygonogo)))\n",
    "\n",
    "permutations = np.random.permutation(len(xgonogo))\n",
    "xgonogo = xgonogo[permutations]\n",
    "ygonogo = ygonogo[permutations]"
   ]
  },
  {
   "cell_type": "code",
   "execution_count": null,
   "metadata": {
    "id": "cz2Lj8IGvg3z",
    "outputId": "f866bd06-fa25-4b2c-d525-8da4bb1768e6"
   },
   "outputs": [
    {
     "name": "stdout",
     "output_type": "stream",
     "text": [
      "[0.0, 1.0]\n"
     ]
    }
   ],
   "source": [
    "#Encoding y\n",
    "dict = {2.0: 0, 4.0: 1}\n",
    "\n",
    "for i in range(len(ygonogo)):\n",
    "    ygonogo[i] = dict[ygonogo[i]]\n",
    "\n",
    "print(list(set(ygonogo)))"
   ]
  },
  {
   "cell_type": "code",
   "execution_count": null,
   "metadata": {
    "id": "tVzhcRp3vg3z",
    "outputId": "59f36dd2-e616-42f0-975b-79c6b9f8d3cf"
   },
   "outputs": [
    {
     "data": {
      "text/plain": [
       "array([[0., 1.],\n",
       "       [1., 0.],\n",
       "       [0., 1.],\n",
       "       [1., 0.],\n",
       "       [1., 0.]], dtype=float32)"
      ]
     },
     "execution_count": 137,
     "metadata": {},
     "output_type": "execute_result"
    }
   ],
   "source": [
    "num_classes = 2\n",
    "ygonogo = tf.keras.utils.to_categorical(ygonogo, num_classes)\n",
    "ygonogo[:5]"
   ]
  },
  {
   "cell_type": "code",
   "execution_count": null,
   "metadata": {
    "id": "U5K8vQ0gvg3z",
    "outputId": "78db2eaf-8b8d-4281-b885-e138f3c35410"
   },
   "outputs": [
    {
     "name": "stdout",
     "output_type": "stream",
     "text": [
      "480\n"
     ]
    },
    {
     "data": {
      "text/plain": [
       "(480, 21411)"
      ]
     },
     "execution_count": 138,
     "metadata": {},
     "output_type": "execute_result"
    }
   ],
   "source": [
    "train_test_split = int(0.8 * len(xgonogo))\n",
    "print(train_test_split)\n",
    "\n",
    "xgonogo_train_mlp = xgonogo[:train_test_split]\n",
    "ygonogo_train_mlp = ygonogo[:train_test_split]\n",
    "\n",
    "xgonogo_test_mlp = xgonogo[train_test_split:]\n",
    "ygonogo_test_mlp = ygonogo[train_test_split:]\n",
    "\n",
    "xgonogo_train_mlp.shape"
   ]
  },
  {
   "cell_type": "code",
   "execution_count": null,
   "metadata": {
    "id": "b0zMLhsivg3z"
   },
   "outputs": [],
   "source": [
    "def get_cyclic_generator(features, labels, batch_size = 1):\n",
    "  while True:\n",
    "    for n in range(features.shape[0]//batch_size):\n",
    "      yield (features[n*batch_size: (n+1)*batch_size], labels[n*batch_size: (n+1)*batch_size])\n",
    "    permuted = np.random.permutation(len(features))\n",
    "    features = features[permuted]\n",
    "    labels = labels[permuted]"
   ]
  },
  {
   "cell_type": "code",
   "execution_count": null,
   "metadata": {
    "id": "ye9bRfrsvg30"
   },
   "outputs": [],
   "source": [
    "train_batch_size = 32\n",
    "train_cyclic_generator_mlp_gonogo = get_cyclic_generator(xgonogo_train_mlp, ygonogo_train_mlp, batch_size = train_batch_size)\n",
    "# test_cyclic_generator = get_cyclic_generator(x_test, y_test, batch_size = train_batch_size)"
   ]
  },
  {
   "cell_type": "code",
   "execution_count": null,
   "metadata": {
    "id": "banFCUA2vg30",
    "outputId": "2738e7f9-d033-42e2-e326-5ec10930ad50"
   },
   "outputs": [
    {
     "name": "stdout",
     "output_type": "stream",
     "text": [
      "Model: \"model_5\"\n",
      "_________________________________________________________________\n",
      "Layer (type)                 Output Shape              Param #   \n",
      "=================================================================\n",
      "input_6 (InputLayer)         [(None, 21411)]           0         \n",
      "_________________________________________________________________\n",
      "dense_15 (Dense)             (None, 32)                685184    \n",
      "_________________________________________________________________\n",
      "dropout_10 (Dropout)         (None, 32)                0         \n",
      "_________________________________________________________________\n",
      "dense_16 (Dense)             (None, 16)                528       \n",
      "_________________________________________________________________\n",
      "dropout_11 (Dropout)         (None, 16)                0         \n",
      "_________________________________________________________________\n",
      "dense_17 (Dense)             (None, 2)                 34        \n",
      "=================================================================\n",
      "Total params: 685,746\n",
      "Trainable params: 685,746\n",
      "Non-trainable params: 0\n",
      "_________________________________________________________________\n"
     ]
    }
   ],
   "source": [
    "#Creating model architecture\n",
    "inp_shape = (dims_ip, )\n",
    "ip = tf.keras.Input(shape = inp_shape)\n",
    "dense1 = tf.keras.layers.Dense(units = 32, activation = 'relu', kernel_initializer = 'random_normal')(ip)\n",
    "drop = tf.keras.layers.Dropout(.4)(dense1)\n",
    "dense2 = tf.keras.layers.Dense(units = 16, activation = 'relu', kernel_initializer = 'random_normal')(drop)\n",
    "drop2 = tf.keras.layers.Dropout(.4)(dense2)\n",
    "out = tf.keras.layers.Dense(num_classes, activation = 'softmax')(drop2)\n",
    "\n",
    "mlp_gonogo = tf.keras.Model(inputs = ip, outputs = out)\n",
    "mlp_gonogo.summary()"
   ]
  },
  {
   "cell_type": "code",
   "execution_count": null,
   "metadata": {
    "id": "UYTVjjZ9vg30"
   },
   "outputs": [],
   "source": [
    "# Compiling the model\n",
    "mlp_gonogo_earlystop = EarlyStopping(patience = 10, min_delta = 0.001, monitor = 'val_acc')\n",
    "\n",
    "path = 'mlp_gonogo_checkpoint/checkpoint_{epoch:02d}';\n",
    "mlp_gonogo_checkpoint = ModelCheckpoint(filepath = path,\n",
    "                            verbose = 1,\n",
    "                            monitor = 'val_acc',\n",
    "                            save_freq = 'epoch',\n",
    "                            save_best_only = True,\n",
    "                            save_weights_only = True)\n",
    "\n",
    "mlp_gonogo.compile(loss = 'categorical_crossentropy', metrics = ['acc'], optimizer = 'adam')"
   ]
  },
  {
   "cell_type": "code",
   "execution_count": null,
   "metadata": {
    "id": "6q674iBBvg30",
    "outputId": "8c339d2f-9efa-4195-e3d5-b4d35d2d709f",
    "scrolled": true
   },
   "outputs": [
    {
     "name": "stdout",
     "output_type": "stream",
     "text": [
      "WARNING:tensorflow:sample_weight modes were coerced from\n",
      "  ...\n",
      "    to  \n",
      "  ['...']\n",
      "Train for 449 steps, validate on 120 samples\n",
      "Epoch 1/50\n",
      "447/449 [============================>.] - ETA: 0s - loss: 0.5398 - acc: 0.7902\n",
      "Epoch 00001: val_acc improved from -inf to 0.83333, saving model to mlp_gonogo_checkpoint/checkpoint_01\n",
      "449/449 [==============================] - 8s 17ms/step - loss: 0.5393 - acc: 0.7906 - val_loss: 0.4597 - val_acc: 0.8333\n",
      "Epoch 2/50\n",
      "446/449 [============================>.] - ETA: 0s - loss: 0.5156 - acc: 0.7922\n",
      "Epoch 00002: val_acc did not improve from 0.83333\n",
      "449/449 [==============================] - 6s 13ms/step - loss: 0.5161 - acc: 0.7918 - val_loss: 0.4561 - val_acc: 0.8333\n",
      "Epoch 3/50\n",
      "448/449 [============================>.] - ETA: 0s - loss: 0.5159 - acc: 0.7911\n",
      "Epoch 00003: val_acc did not improve from 0.83333\n",
      "449/449 [==============================] - 6s 14ms/step - loss: 0.5155 - acc: 0.7914 - val_loss: 0.4582 - val_acc: 0.8333\n",
      "Epoch 4/50\n",
      "445/449 [============================>.] - ETA: 0s - loss: 0.5118 - acc: 0.7915\n",
      "Epoch 00004: val_acc did not improve from 0.83333\n",
      "449/449 [==============================] - 6s 14ms/step - loss: 0.5117 - acc: 0.7916 - val_loss: 0.4546 - val_acc: 0.8333\n",
      "Epoch 5/50\n",
      "446/449 [============================>.] - ETA: 0s - loss: 0.5045 - acc: 0.7923- ETA: 1s - l\n",
      "Epoch 00005: val_acc did not improve from 0.83333\n",
      "449/449 [==============================] - 6s 14ms/step - loss: 0.5044 - acc: 0.7922 - val_loss: 0.4497 - val_acc: 0.8333\n",
      "Epoch 6/50\n",
      "448/449 [============================>.] - ETA: 0s - loss: 0.4961 - acc: 0.7913\n",
      "Epoch 00006: val_acc did not improve from 0.83333\n",
      "449/449 [==============================] - 7s 15ms/step - loss: 0.4963 - acc: 0.7912 - val_loss: 0.4435 - val_acc: 0.8333\n",
      "Epoch 7/50\n",
      "447/449 [============================>.] - ETA: 0s - loss: 0.4779 - acc: 0.7918- ETA: 2s - loss: 0.4819 - - ETA: \n",
      "Epoch 00007: val_acc did not improve from 0.83333\n",
      "449/449 [==============================] - 7s 15ms/step - loss: 0.4779 - acc: 0.7918 - val_loss: 0.4392 - val_acc: 0.8333\n",
      "Epoch 8/50\n",
      "445/449 [============================>.] - ETA: 0s - loss: 0.4566 - acc: 0.7918\n",
      "Epoch 00008: val_acc did not improve from 0.83333\n",
      "449/449 [==============================] - 6s 14ms/step - loss: 0.4567 - acc: 0.7916 - val_loss: 0.4364 - val_acc: 0.8333\n",
      "Epoch 9/50\n",
      "446/449 [============================>.] - ETA: 0s - loss: 0.4357 - acc: 0.7915- ETA:\n",
      "Epoch 00009: val_acc did not improve from 0.83333\n",
      "449/449 [==============================] - 7s 16ms/step - loss: 0.4362 - acc: 0.7912 - val_loss: 0.4422 - val_acc: 0.8333\n",
      "Epoch 10/50\n",
      "444/449 [============================>.] - ETA: 0s - loss: 0.4092 - acc: 0.7922\n",
      "Epoch 00010: val_acc did not improve from 0.83333\n",
      "449/449 [==============================] - 6s 14ms/step - loss: 0.4094 - acc: 0.7919 - val_loss: 0.4525 - val_acc: 0.8333\n",
      "Epoch 11/50\n",
      "448/449 [============================>.] - ETA: 0s - loss: 0.3831 - acc: 0.7919\n",
      "Epoch 00011: val_acc did not improve from 0.83333\n",
      "449/449 [==============================] - 6s 14ms/step - loss: 0.3829 - acc: 0.7921 - val_loss: 0.4629 - val_acc: 0.8333\n"
     ]
    }
   ],
   "source": [
    "# historygonogo = modelgonogo.fit(xgonogo, ygonogo, epochs=300, callbacks = [earlystop, model_checkpoint]) #plotting the model\n",
    "\n",
    "mlp_gonogo_history = mlp_gonogo.fit(train_cyclic_generator_mlp_gonogo,\n",
    "                        validation_data = (xgonogo_test_mlp, ygonogo_test_mlp),\n",
    "                        steps_per_epoch= 449,\n",
    "                        epochs = 50,\n",
    "                        callbacks = [mlp_gonogo_earlystop, mlp_gonogo_checkpoint]) #Fitting the model"
   ]
  },
  {
   "cell_type": "code",
   "execution_count": null,
   "metadata": {
    "id": "sARKS2g4vg31",
    "outputId": "d38032a1-cf48-41a9-aa93-8cc832f6e2db"
   },
   "outputs": [
    {
     "data": {
      "image/png": "[encoded data removed]",
      "text/plain": [
       "<Figure size 432x288 with 1 Axes>"
      ]
     },
     "metadata": {
      "needs_background": "light"
     },
     "output_type": "display_data"
    },
    {
     "name": "stdout",
     "output_type": "stream",
     "text": [
      "Initial accuracy is:  0.7905763\n",
      "Final accuracy is:  0.79210746\n",
      "Initial loss is:  0.5392751983783823\n",
      "Final loss is:  0.3828980540711524\n"
     ]
    }
   ],
   "source": [
    "#plotting model history\n",
    "plt.plot(mlp_gonogo_history.history['acc'])\n",
    "plt.plot(mlp_gonogo_history.history['loss'])\n",
    "plt.legend(['Accuracy', 'Loss'])\n",
    "plt.title('Model History')\n",
    "plt.ylabel('Value')\n",
    "plt.xlabel('epochs')\n",
    "plt.show()\n",
    "print(\"Initial accuracy is: \", mlp_gonogo_history.history['acc'][0])\n",
    "print(\"Final accuracy is: \", mlp_gonogo_history.history['acc'][-1])\n",
    "\n",
    "print(\"Initial loss is: \", mlp_gonogo_history.history['loss'][0])\n",
    "print(\"Final loss is: \", mlp_gonogo_history.history['loss'][-1])"
   ]
  },
  {
   "cell_type": "code",
   "execution_count": null,
   "metadata": {
    "id": "KRalM2jYvg31",
    "outputId": "0be77be2-a4f7-4d5f-e213-fe6fdd8f63cb"
   },
   "outputs": [
    {
     "data": {
      "image/png": "[encoded data removed]",
      "text/plain": [
       "<Figure size 432x288 with 1 Axes>"
      ]
     },
     "metadata": {
      "needs_background": "light"
     },
     "output_type": "display_data"
    },
    {
     "name": "stdout",
     "output_type": "stream",
     "text": [
      "Initial Validation accuracy is:  0.8333333\n",
      "Final Validation accuracy is:  0.8333333\n",
      "Initial Validation loss is:  0.4596542636553446\n",
      "Final Validation loss is:  0.4628682096799215\n"
     ]
    }
   ],
   "source": [
    "#Plotting model history\n",
    "plt.plot(mlp_gonogo_history.history['val_acc'])\n",
    "plt.plot(mlp_gonogo_history.history['val_loss'])\n",
    "plt.legend(['Valdation Accuracy', 'Validation Loss'])\n",
    "plt.title('Validation History')\n",
    "plt.ylabel('Value')\n",
    "plt.xlabel('epochs')\n",
    "plt.show()\n",
    "print(\"Initial Validation accuracy is: \", mlp_gonogo_history.history['val_acc'][0])\n",
    "print(\"Final Validation accuracy is: \", mlp_gonogo_history.history['val_acc'][-1])\n",
    "\n",
    "print(\"Initial Validation loss is: \", mlp_gonogo_history.history['val_loss'][0])\n",
    "print(\"Final Validation loss is: \", mlp_gonogo_history.history['val_loss'][-1])"
   ]
  },
  {
   "cell_type": "code",
   "execution_count": null,
   "metadata": {
    "id": "l8LJZB7Hvg31",
    "outputId": "10460750-146d-4f43-8399-0a49f82c05db"
   },
   "outputs": [
    {
     "name": "stdout",
     "output_type": "stream",
     "text": [
      "1\n"
     ]
    }
   ],
   "source": [
    "print(len(tf.config.experimental.list_physical_devices('GPU')))"
   ]
  },
  {
   "cell_type": "code",
   "execution_count": null,
   "metadata": {
    "id": "zWm4vxjuvg32"
   },
   "outputs": [],
   "source": []
  }
 ],
 "metadata": {
  "colab": {
   "name": "Main.ipynb",
   "provenance": []
  },
  "kernelspec": {
   "display_name": "Python 3",
   "language": "python",
   "name": "python3"
  },
  "language_info": {
   "codemirror_mode": {
    "name": "ipython",
    "version": 3
   },
   "file_extension": ".py",
   "mimetype": "text/x-python",
   "name": "python",
   "nbconvert_exporter": "python",
   "pygments_lexer": "ipython3",
   "version": "3.7.6"
  }
 },
 "nbformat": 4,
 "nbformat_minor": 4
}
