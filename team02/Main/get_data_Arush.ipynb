{
  "cells": [
    {
      "cell_type": "markdown",
      "metadata": {
        "id": "view-in-github",
        "colab_type": "text"
      },
      "source": [
        "<a href=\"https://colab.research.google.com/github/Arush0113/EEG_Pipeline-IITR/blob/main/team02/Main/get_data_Arush.ipynb\" target=\"_parent\"><img src=\"https://colab.research.google.com/assets/colab-badge.svg\" alt=\"Open In Colab\"/></a>"
      ]
    },
    {
      "cell_type": "code",
      "source": [
        "from google.colab import drive\n",
        "drive.mount('/content/drive')"
      ],
      "metadata": {
        "id": "lF8j3MgVeGD7",
        "colab": {
          "base_uri": "https://localhost:8080/"
        },
        "outputId": "34a8d290-dd43-4b2c-fefd-341a9ea988ae"
      },
      "id": "lF8j3MgVeGD7",
      "execution_count": 1,
      "outputs": [
        {
          "output_type": "stream",
          "name": "stdout",
          "text": [
            "Mounted at /content/drive\n"
          ]
        }
      ]
    },
    {
      "cell_type": "code",
      "execution_count": 2,
      "metadata": {
        "id": "JNSvnvG-Y3qz"
      },
      "outputs": [],
      "source": [
        "import tensorflow as tf\n",
        "from sklearn.model_selection import train_test_split\n",
        "from tensorflow.keras.models import Sequential\n",
        "from tensorflow.keras.layers import Dense, InputLayer\n",
        "from tensorflow.keras.callbacks import ModelCheckpoint, EarlyStopping\n",
        "import numpy as np\n",
        "from tensorboard.plugins.hparams import api as hp\n",
        "from tensorflow.keras.optimizers import Adam\n",
        "import matplotlib.pyplot as plt\n",
        "from sklearn.preprocessing import StandardScaler "
      ],
      "id": "JNSvnvG-Y3qz"
    },
    {
      "cell_type": "code",
      "source": [
        "loadfile = np.load(\"/content/drive/MyDrive/IITR EEG Intern/New Problem/meditation_data.npz\")\n",
        "data = loadfile[\"X\"]\n",
        "y = loadfile[\"y\"]"
      ],
      "metadata": {
        "id": "7FLLou_TZM88"
      },
      "id": "7FLLou_TZM88",
      "execution_count": 3,
      "outputs": []
    },
    {
      "cell_type": "code",
      "execution_count": 4,
      "metadata": {
        "id": "1wDfPZozY3q1"
      },
      "outputs": [],
      "source": [
        "y = tf.keras.utils.to_categorical(y, 4)"
      ],
      "id": "1wDfPZozY3q1"
    },
    {
      "cell_type": "code",
      "execution_count": 5,
      "metadata": {
        "colab": {
          "base_uri": "https://localhost:8080/"
        },
        "id": "lTcw56jCY3q2",
        "outputId": "0e3c9a8d-f62b-4158-ab2d-d0e9aaa6b352"
      },
      "outputs": [
        {
          "output_type": "stream",
          "name": "stdout",
          "text": [
            "(24756, 32, 513)\n",
            "(24756, 4)\n"
          ]
        }
      ],
      "source": [
        "print(data.shape)\n",
        "print(y.shape)"
      ],
      "id": "lTcw56jCY3q2"
    },
    {
      "cell_type": "code",
      "source": [
        "X = np.zeros((data.shape[0], data.shape[2], data.shape[1]))\n",
        "for i in range(data.shape[0]):\n",
        "    X[i] = np.transpose(data[i])"
      ],
      "metadata": {
        "id": "avbAcYrZdicT"
      },
      "id": "avbAcYrZdicT",
      "execution_count": 6,
      "outputs": []
    },
    {
      "cell_type": "code",
      "source": [
        "del data\n",
        "del loadfile"
      ],
      "metadata": {
        "id": "zBdYWogjeUDf"
      },
      "id": "zBdYWogjeUDf",
      "execution_count": 7,
      "outputs": []
    },
    {
      "cell_type": "code",
      "execution_count": 8,
      "metadata": {
        "id": "S2GvlyR4Y3q4"
      },
      "outputs": [],
      "source": [
        "from sklearn.model_selection import train_test_split"
      ],
      "id": "S2GvlyR4Y3q4"
    },
    {
      "cell_type": "code",
      "execution_count": 9,
      "metadata": {
        "id": "7OREhHFcY3q6"
      },
      "outputs": [],
      "source": [
        "x_train,x_temp,y_train,y_temp = train_test_split(X,y,test_size=0.30,shuffle=True,stratify=y,random_state=42)\n",
        "x_val,x_test,y_val,y_test = train_test_split(x_temp,y_temp,test_size=0.50,shuffle=True,stratify=y_temp,random_state=42)"
      ],
      "id": "7OREhHFcY3q6"
    },
    {
      "cell_type": "code",
      "execution_count": 10,
      "metadata": {
        "colab": {
          "base_uri": "https://localhost:8080/"
        },
        "id": "TlqM7thQY3q7",
        "outputId": "e8561c16-37eb-4696-e01f-e8fad59544ec"
      },
      "outputs": [
        {
          "output_type": "execute_result",
          "data": {
            "text/plain": [
              "((513, 32), (17329, 4), (3713, 513, 32), (3713, 4), (3714, 513, 32), (3714, 4))"
            ]
          },
          "metadata": {},
          "execution_count": 10
        }
      ],
      "source": [
        "x_train[0].shape,y_train.shape,x_val.shape,y_val.shape,x_test.shape,y_test.shape"
      ],
      "id": "TlqM7thQY3q7"
    },
    {
      "cell_type": "code",
      "source": [
        "dims_conv_1 = X.shape[1]\n",
        "dims_conv_2 = X.shape[2]"
      ],
      "metadata": {
        "id": "MOK99U8Ma5we"
      },
      "id": "MOK99U8Ma5we",
      "execution_count": 11,
      "outputs": []
    },
    {
      "cell_type": "code",
      "source": [
        "print(dims_conv_1)\n",
        "print(dims_conv_2)"
      ],
      "metadata": {
        "colab": {
          "base_uri": "https://localhost:8080/"
        },
        "id": "VuSYAuiyejcc",
        "outputId": "e0e930c0-58af-451d-8140-eeccc03bba88"
      },
      "id": "VuSYAuiyejcc",
      "execution_count": 12,
      "outputs": [
        {
          "output_type": "stream",
          "name": "stdout",
          "text": [
            "513\n",
            "32\n"
          ]
        }
      ]
    },
    {
      "cell_type": "markdown",
      "source": [
        "### 1. 1D Convolution Model"
      ],
      "metadata": {
        "id": "3fU9VGd1e6-e"
      },
      "id": "3fU9VGd1e6-e"
    },
    {
      "cell_type": "code",
      "source": [
        "inp_shape = (dims_conv_1, dims_conv_2)\n",
        "ip = tf.keras.Input(shape = inp_shape)\n",
        "conv1 = tf.keras.layers.Conv1D(32, 3,)(ip)\n",
        "rel = tf.keras.layers.LeakyReLU()(conv1)\n",
        "conv2 = tf.keras.layers.Conv1D(16, 3,)(rel)\n",
        "rel2 = tf.keras.layers.LeakyReLU()(conv2)\n",
        "# lstm = tf.keras.layers.LSTM(16, return_sequences=True)(ip)\n",
        "flatten = tf.keras.layers.Flatten()(rel2)\n",
        "dense1 = tf.keras.layers.Dense(units = 32, kernel_initializer = 'random_normal')(flatten)\n",
        "leakyRelu = tf.keras.layers.LeakyReLU()(dense1)\n",
        "drop1 = tf.keras.layers.Dropout(.3)(leakyRelu)\n",
        "dense2 = tf.keras.layers.Dense(units = 16, kernel_initializer = 'random_normal')(drop1)\n",
        "leakyRelu2 = tf.keras.layers.LeakyReLU()(dense2)\n",
        "drop2 = tf.keras.layers.Dropout(.3)(dense2)\n",
        "out = tf.keras.layers.Dense(4, activation = 'softmax')(drop2)\n",
        "\n",
        "cnn = tf.keras.Model(inputs = ip, outputs = out)\n",
        "cnn.summary()"
      ],
      "metadata": {
        "colab": {
          "base_uri": "https://localhost:8080/"
        },
        "id": "JSBd_MWNayC8",
        "outputId": "63482143-5da2-41ba-fa03-18447582c13c"
      },
      "id": "JSBd_MWNayC8",
      "execution_count": 13,
      "outputs": [
        {
          "output_type": "stream",
          "name": "stdout",
          "text": [
            "Model: \"model\"\n",
            "_________________________________________________________________\n",
            " Layer (type)                Output Shape              Param #   \n",
            "=================================================================\n",
            " input_1 (InputLayer)        [(None, 513, 32)]         0         \n",
            "                                                                 \n",
            " conv1d (Conv1D)             (None, 511, 32)           3104      \n",
            "                                                                 \n",
            " leaky_re_lu (LeakyReLU)     (None, 511, 32)           0         \n",
            "                                                                 \n",
            " conv1d_1 (Conv1D)           (None, 509, 16)           1552      \n",
            "                                                                 \n",
            " leaky_re_lu_1 (LeakyReLU)   (None, 509, 16)           0         \n",
            "                                                                 \n",
            " flatten (Flatten)           (None, 8144)              0         \n",
            "                                                                 \n",
            " dense (Dense)               (None, 32)                260640    \n",
            "                                                                 \n",
            " leaky_re_lu_2 (LeakyReLU)   (None, 32)                0         \n",
            "                                                                 \n",
            " dropout (Dropout)           (None, 32)                0         \n",
            "                                                                 \n",
            " dense_1 (Dense)             (None, 16)                528       \n",
            "                                                                 \n",
            " dropout_1 (Dropout)         (None, 16)                0         \n",
            "                                                                 \n",
            " dense_2 (Dense)             (None, 4)                 68        \n",
            "                                                                 \n",
            "=================================================================\n",
            "Total params: 265,892\n",
            "Trainable params: 265,892\n",
            "Non-trainable params: 0\n",
            "_________________________________________________________________\n"
          ]
        }
      ]
    },
    {
      "cell_type": "code",
      "source": [
        "# Compiling the model\n",
        "\n",
        "cnn_earlystop = EarlyStopping(patience = 10, min_delta = 0.001, monitor = 'val_acc')\n",
        "\n",
        "path = 'cnn_checkpoint/checkpoint_{epoch:02d}';\n",
        "cnn_checkpoint = ModelCheckpoint(filepath = path,\n",
        "                            verbose = 1,\n",
        "                            monitor = 'val_acc',\n",
        "                            save_freq = 'epoch',\n",
        "                            save_best_only = True,\n",
        "                            save_weights_only = True)\n",
        "\n",
        "cnn.compile(loss = 'categorical_crossentropy', metrics = ['acc'], optimizer = 'adam')"
      ],
      "metadata": {
        "id": "JaTL9DlOayFp"
      },
      "id": "JaTL9DlOayFp",
      "execution_count": 14,
      "outputs": []
    },
    {
      "cell_type": "code",
      "source": [
        "cnn_history = cnn.fit(x_train, y_train,\n",
        "                        validation_data = (x_test, y_test),\n",
        "#                         steps_per_epoch= 449,\n",
        "                        batch_size = 32,\n",
        "                        epochs = 30,\n",
        "                        callbacks = [cnn_checkpoint]) #Fitting the model"
      ],
      "metadata": {
        "colab": {
          "base_uri": "https://localhost:8080/"
        },
        "id": "ZSG285RBayIM",
        "outputId": "c1e47136-9e8d-40c5-e2f4-d5812310eb2a"
      },
      "id": "ZSG285RBayIM",
      "execution_count": null,
      "outputs": [
        {
          "output_type": "stream",
          "name": "stdout",
          "text": [
            "Epoch 1/30\n",
            "542/542 [==============================] - ETA: 0s - loss: 1.8144 - acc: 0.2545\n",
            "Epoch 00001: val_acc improved from -inf to 0.28783, saving model to cnn_checkpoint/checkpoint_01\n",
            "542/542 [==============================] - 18s 15ms/step - loss: 1.8144 - acc: 0.2545 - val_loss: 1.3663 - val_acc: 0.2878\n",
            "Epoch 2/30\n",
            "542/542 [==============================] - ETA: 0s - loss: 1.3927 - acc: 0.2869\n",
            "Epoch 00002: val_acc improved from 0.28783 to 0.31206, saving model to cnn_checkpoint/checkpoint_02\n",
            "542/542 [==============================] - 4s 8ms/step - loss: 1.3927 - acc: 0.2869 - val_loss: 1.3529 - val_acc: 0.3121\n",
            "Epoch 3/30\n",
            "535/542 [============================>.] - ETA: 0s - loss: 1.3430 - acc: 0.3195\n",
            "Epoch 00003: val_acc improved from 0.31206 to 0.32903, saving model to cnn_checkpoint/checkpoint_03\n",
            "542/542 [==============================] - 4s 8ms/step - loss: 1.3438 - acc: 0.3196 - val_loss: 1.3131 - val_acc: 0.3290\n",
            "Epoch 4/30\n",
            "542/542 [==============================] - ETA: 0s - loss: 1.3101 - acc: 0.3501\n",
            "Epoch 00004: val_acc improved from 0.32903 to 0.34895, saving model to cnn_checkpoint/checkpoint_04\n",
            "542/542 [==============================] - 5s 9ms/step - loss: 1.3101 - acc: 0.3501 - val_loss: 1.2742 - val_acc: 0.3489\n",
            "Epoch 5/30\n",
            "537/542 [============================>.] - ETA: 0s - loss: 1.2741 - acc: 0.3785\n",
            "Epoch 00005: val_acc improved from 0.34895 to 0.37884, saving model to cnn_checkpoint/checkpoint_05\n",
            "542/542 [==============================] - 5s 9ms/step - loss: 1.2742 - acc: 0.3789 - val_loss: 1.2627 - val_acc: 0.3788\n",
            "Epoch 6/30\n",
            "537/542 [============================>.] - ETA: 0s - loss: 1.2442 - acc: 0.3997\n",
            "Epoch 00006: val_acc improved from 0.37884 to 0.38961, saving model to cnn_checkpoint/checkpoint_06\n",
            "542/542 [==============================] - 5s 9ms/step - loss: 1.2445 - acc: 0.3998 - val_loss: 1.2524 - val_acc: 0.3896\n",
            "Epoch 7/30\n",
            "542/542 [==============================] - ETA: 0s - loss: 1.2300 - acc: 0.4154\n",
            "Epoch 00007: val_acc improved from 0.38961 to 0.39365, saving model to cnn_checkpoint/checkpoint_07\n",
            "542/542 [==============================] - 5s 9ms/step - loss: 1.2300 - acc: 0.4154 - val_loss: 1.2360 - val_acc: 0.3936\n",
            "Epoch 8/30\n",
            "537/542 [============================>.] - ETA: 0s - loss: 1.1971 - acc: 0.4376\n",
            "Epoch 00008: val_acc did not improve from 0.39365\n",
            "542/542 [==============================] - 5s 9ms/step - loss: 1.1969 - acc: 0.4378 - val_loss: 1.2619 - val_acc: 0.3778\n",
            "Epoch 9/30\n",
            "539/542 [============================>.] - ETA: 0s - loss: 1.1748 - acc: 0.4569\n",
            "Epoch 00009: val_acc improved from 0.39365 to 0.39607, saving model to cnn_checkpoint/checkpoint_09\n",
            "542/542 [==============================] - 5s 9ms/step - loss: 1.1749 - acc: 0.4567 - val_loss: 1.2357 - val_acc: 0.3961\n",
            "Epoch 10/30\n",
            "539/542 [============================>.] - ETA: 0s - loss: 1.1420 - acc: 0.4805\n",
            "Epoch 00010: val_acc improved from 0.39607 to 0.41411, saving model to cnn_checkpoint/checkpoint_10\n",
            "542/542 [==============================] - 5s 9ms/step - loss: 1.1421 - acc: 0.4808 - val_loss: 1.2580 - val_acc: 0.4141\n",
            "Epoch 11/30\n",
            "537/542 [============================>.] - ETA: 0s - loss: 1.1273 - acc: 0.4898\n",
            "Epoch 00011: val_acc did not improve from 0.41411\n",
            "542/542 [==============================] - 5s 9ms/step - loss: 1.1274 - acc: 0.4902 - val_loss: 1.2263 - val_acc: 0.4055\n",
            "Epoch 12/30\n",
            "542/542 [==============================] - ETA: 0s - loss: 1.1084 - acc: 0.5050\n",
            "Epoch 00012: val_acc did not improve from 0.41411\n",
            "542/542 [==============================] - 5s 9ms/step - loss: 1.1084 - acc: 0.5050 - val_loss: 1.2313 - val_acc: 0.4031\n",
            "Epoch 13/30\n",
            "537/542 [============================>.] - ETA: 0s - loss: 1.0771 - acc: 0.5209\n",
            "Epoch 00013: val_acc did not improve from 0.41411\n",
            "542/542 [==============================] - 5s 9ms/step - loss: 1.0783 - acc: 0.5201 - val_loss: 1.2835 - val_acc: 0.4066\n",
            "Epoch 14/30\n",
            "542/542 [==============================] - ETA: 0s - loss: 1.0639 - acc: 0.5262\n",
            "Epoch 00014: val_acc did not improve from 0.41411\n",
            "542/542 [==============================] - 5s 9ms/step - loss: 1.0639 - acc: 0.5262 - val_loss: 1.2387 - val_acc: 0.4111\n",
            "Epoch 15/30\n",
            "536/542 [============================>.] - ETA: 0s - loss: 1.0378 - acc: 0.5465\n",
            "Epoch 00015: val_acc did not improve from 0.41411\n",
            "542/542 [==============================] - 5s 9ms/step - loss: 1.0386 - acc: 0.5457 - val_loss: 1.2901 - val_acc: 0.4033\n",
            "Epoch 16/30\n",
            "542/542 [==============================] - ETA: 0s - loss: 1.0230 - acc: 0.5536\n",
            "Epoch 00016: val_acc improved from 0.41411 to 0.41896, saving model to cnn_checkpoint/checkpoint_16\n",
            "542/542 [==============================] - 5s 9ms/step - loss: 1.0230 - acc: 0.5536 - val_loss: 1.2449 - val_acc: 0.4190\n",
            "Epoch 17/30\n",
            "541/542 [============================>.] - ETA: 0s - loss: 0.9931 - acc: 0.5712\n",
            "Epoch 00017: val_acc improved from 0.41896 to 0.42623, saving model to cnn_checkpoint/checkpoint_17\n",
            "542/542 [==============================] - 5s 9ms/step - loss: 0.9930 - acc: 0.5712 - val_loss: 1.2579 - val_acc: 0.4262\n",
            "Epoch 18/30\n",
            "536/542 [============================>.] - ETA: 0s - loss: 0.9726 - acc: 0.5834\n",
            "Epoch 00018: val_acc did not improve from 0.42623\n",
            "542/542 [==============================] - 5s 9ms/step - loss: 0.9724 - acc: 0.5837 - val_loss: 1.3047 - val_acc: 0.4179\n",
            "Epoch 19/30\n",
            "536/542 [============================>.] - ETA: 0s - loss: 0.9487 - acc: 0.5986\n",
            "Epoch 00019: val_acc did not improve from 0.42623\n",
            "542/542 [==============================] - 5s 9ms/step - loss: 0.9494 - acc: 0.5984 - val_loss: 1.3409 - val_acc: 0.4068\n",
            "Epoch 20/30\n",
            "537/542 [============================>.] - ETA: 0s - loss: 0.9326 - acc: 0.6075\n",
            "Epoch 00020: val_acc did not improve from 0.42623\n",
            "542/542 [==============================] - 5s 9ms/step - loss: 0.9329 - acc: 0.6078 - val_loss: 1.3243 - val_acc: 0.4163\n",
            "Epoch 21/30\n",
            "541/542 [============================>.] - ETA: 0s - loss: 0.9152 - acc: 0.6177\n",
            "Epoch 00021: val_acc did not improve from 0.42623\n",
            "542/542 [==============================] - 5s 8ms/step - loss: 0.9153 - acc: 0.6177 - val_loss: 1.3513 - val_acc: 0.4173\n",
            "Epoch 22/30\n",
            "536/542 [============================>.] - ETA: 0s - loss: 0.8953 - acc: 0.6278\n",
            "Epoch 00022: val_acc did not improve from 0.42623\n",
            "542/542 [==============================] - 5s 9ms/step - loss: 0.8960 - acc: 0.6272 - val_loss: 1.3579 - val_acc: 0.4195\n",
            "Epoch 23/30\n",
            "541/542 [============================>.] - ETA: 0s - loss: 0.8822 - acc: 0.6352\n",
            "Epoch 00023: val_acc did not improve from 0.42623\n",
            "542/542 [==============================] - 5s 9ms/step - loss: 0.8821 - acc: 0.6352 - val_loss: 1.3510 - val_acc: 0.4106\n",
            "Epoch 24/30\n",
            "542/542 [==============================] - ETA: 0s - loss: 0.8578 - acc: 0.6453\n",
            "Epoch 00024: val_acc did not improve from 0.42623\n",
            "542/542 [==============================] - 5s 9ms/step - loss: 0.8578 - acc: 0.6453 - val_loss: 1.3725 - val_acc: 0.4130\n",
            "Epoch 25/30\n",
            "541/542 [============================>.] - ETA: 0s - loss: 0.8426 - acc: 0.6575\n",
            "Epoch 00025: val_acc did not improve from 0.42623\n",
            "542/542 [==============================] - 5s 9ms/step - loss: 0.8425 - acc: 0.6575 - val_loss: 1.4096 - val_acc: 0.4125\n",
            "Epoch 26/30\n",
            "536/542 [============================>.] - ETA: 0s - loss: 0.8277 - acc: 0.6595\n",
            "Epoch 00026: val_acc did not improve from 0.42623\n",
            "542/542 [==============================] - 5s 9ms/step - loss: 0.8281 - acc: 0.6595 - val_loss: 1.3529 - val_acc: 0.4233\n",
            "Epoch 27/30\n",
            "535/542 [============================>.] - ETA: 0s - loss: 0.8197 - acc: 0.6669\n",
            "Epoch 00027: val_acc did not improve from 0.42623\n",
            "542/542 [==============================] - 5s 9ms/step - loss: 0.8194 - acc: 0.6667 - val_loss: 1.4960 - val_acc: 0.4160\n",
            "Epoch 28/30\n",
            "542/542 [==============================] - ETA: 0s - loss: 0.8078 - acc: 0.6736\n",
            "Epoch 00028: val_acc did not improve from 0.42623\n",
            "542/542 [==============================] - 5s 9ms/step - loss: 0.8078 - acc: 0.6736 - val_loss: 1.4482 - val_acc: 0.4090\n",
            "Epoch 29/30\n",
            "538/542 [============================>.] - ETA: 0s - loss: 0.7960 - acc: 0.6769\n",
            "Epoch 00029: val_acc did not improve from 0.42623\n",
            "542/542 [==============================] - 5s 9ms/step - loss: 0.7958 - acc: 0.6771 - val_loss: 1.4635 - val_acc: 0.4130\n",
            "Epoch 30/30\n",
            "542/542 [==============================] - ETA: 0s - loss: 0.7765 - acc: 0.6878\n",
            "Epoch 00030: val_acc did not improve from 0.42623\n",
            "542/542 [==============================] - 5s 9ms/step - loss: 0.7765 - acc: 0.6878 - val_loss: 1.4573 - val_acc: 0.4190\n"
          ]
        }
      ]
    },
    {
      "cell_type": "code",
      "source": [
        "#Plotting model history\n",
        "plt.plot(cnn_history.history['acc'])\n",
        "plt.plot(cnn_history.history['loss'])\n",
        "plt.legend(['Training Accuracy', 'Training Loss'])\n",
        "plt.title('Training History')\n",
        "plt.ylabel('Value')\n",
        "plt.xlabel('epochs')\n",
        "plt.show()\n",
        "print(\"Initial training accuracy with preprocessing is: \", cnn_history.history['acc'][0])\n",
        "print(\"Final training accuracy with preprocessing is: \", cnn_history.history['acc'][-1])\n",
        "\n",
        "print(\"Initial training loss with preprocessing is: \", cnn_history.history['loss'][0])\n",
        "print(\"Final training loss with preprocessing is: \", cnn_history.history['loss'][-1])"
      ],
      "metadata": {
        "colab": {
          "base_uri": "https://localhost:8080/",
          "height": 365
        },
        "id": "jgRjCV9rayQX",
        "outputId": "a504bd13-f590-47d9-cbb0-fc544cdc9372"
      },
      "id": "jgRjCV9rayQX",
      "execution_count": null,
      "outputs": [
        {
          "output_type": "display_data",
          "data": {
            "image/png": "[encoded data removed]",
            "text/plain": [
              "<Figure size 432x288 with 1 Axes>"
            ]
          },
          "metadata": {
            "needs_background": "light"
          }
        },
        {
          "output_type": "stream",
          "name": "stdout",
          "text": [
            "Initial training accuracy with preprocessing is:  0.2545444071292877\n",
            "Final training accuracy with preprocessing is:  0.6878065466880798\n",
            "Initial training loss with preprocessing is:  1.8144330978393555\n",
            "Final training loss with preprocessing is:  0.7764544486999512\n"
          ]
        }
      ]
    },
    {
      "cell_type": "code",
      "source": [
        "#Plotting model history\n",
        "plt.plot(cnn_history.history['val_acc'])\n",
        "plt.plot(cnn_history.history['val_loss'])\n",
        "plt.legend(['Valdation Accuracy', 'Validation Loss'])\n",
        "plt.title('Validation History')\n",
        "plt.ylabel('Value')\n",
        "plt.xlabel('epochs')\n",
        "plt.show()\n",
        "print(\"Initial Validation accuracy with preprocessing is: \", cnn_history.history['val_acc'][0])\n",
        "print(\"Final Validation accuracy with preprocessing is: \", cnn_history.history['val_acc'][-1])\n",
        "\n",
        "print(\"Initial Validation loss with preprocessing is: \", cnn_history.history['val_loss'][0])\n",
        "print(\"Final Validation loss with preprocessing is: \", cnn_history.history['val_loss'][-1])"
      ],
      "metadata": {
        "colab": {
          "base_uri": "https://localhost:8080/",
          "height": 365
        },
        "id": "Q-OwgPq1aySq",
        "outputId": "fc7f1401-fc6d-4c8f-a345-4bdb3620629a"
      },
      "id": "Q-OwgPq1aySq",
      "execution_count": null,
      "outputs": [
        {
          "output_type": "display_data",
          "data": {
            "image/png": "[encoded data removed]",
            "text/plain": [
              "<Figure size 432x288 with 1 Axes>"
            ]
          },
          "metadata": {
            "needs_background": "light"
          }
        },
        {
          "output_type": "stream",
          "name": "stdout",
          "text": [
            "Initial Validation accuracy with preprocessing is:  0.28782984614372253\n",
            "Final Validation accuracy with preprocessing is:  0.4189552962779999\n",
            "Initial Validation loss with preprocessing is:  1.366343379020691\n",
            "Final Validation loss with preprocessing is:  1.4572583436965942\n"
          ]
        }
      ]
    },
    {
      "cell_type": "markdown",
      "source": [
        "### 2. Feature Extraction Model"
      ],
      "metadata": {
        "id": "CF9-764Eetog"
      },
      "id": "CF9-764Eetog"
    },
    {
      "cell_type": "code",
      "source": [
        "inp_shape = (dims_conv_1, dims_conv_2)\n",
        "ip = tf.keras.Input(shape = inp_shape)\n",
        "conv1 = tf.keras.layers.Conv1D(16, 3, activation = 'relu')(ip)\n",
        "conv1 = tf.keras.layers.ZeroPadding1D(padding=1)(conv1)\n",
        "rel1 = tf.keras.layers.ReLU()(conv1)\n",
        "skip1 = rel1\n",
        "conv2 = tf.keras.layers.Conv1D(16, 3, activation = 'relu')(rel1)\n",
        "conv2 = tf.keras.layers.ZeroPadding1D(padding=1)(conv2)\n",
        "rel2 = tf.keras.layers.ReLU()(conv2)\n",
        "skip2 = rel2\n",
        "conv3 = tf.keras.layers.Conv1D(16, 3, activation = 'relu')(rel2)\n",
        "conv3 = tf.keras.layers.ZeroPadding1D(padding=1)(conv3)\n",
        "rel3 = tf.keras.layers.ReLU()(conv3)\n",
        "addlayer1 = tf.keras.layers.Add()([skip1, skip2, rel3])\n",
        "flatten = tf.keras.layers.Flatten()(addlayer1)\n",
        "dense1 = tf.keras.layers.Dense(units = 32, kernel_initializer = 'random_normal')(flatten)\n",
        "dense2 = tf.keras.layers.Dense(units = 16, kernel_initializer = 'random_normal')(dense1)\n",
        "drop2 = tf.keras.layers.Dropout(.3)(dense2)\n",
        "out = tf.keras.layers.Dense(4, activation = 'softmax')(drop2)\n",
        "\n",
        "ftExtract = tf.keras.Model(inputs = ip, outputs = out)\n",
        "ftExtract.summary()"
      ],
      "metadata": {
        "id": "SMHyMXkXdTPW",
        "colab": {
          "base_uri": "https://localhost:8080/"
        },
        "outputId": "c3862472-28f7-405b-c908-35af82d4e499"
      },
      "id": "SMHyMXkXdTPW",
      "execution_count": 15,
      "outputs": [
        {
          "output_type": "stream",
          "name": "stdout",
          "text": [
            "Model: \"model_1\"\n",
            "__________________________________________________________________________________________________\n",
            " Layer (type)                   Output Shape         Param #     Connected to                     \n",
            "==================================================================================================\n",
            " input_2 (InputLayer)           [(None, 513, 32)]    0           []                               \n",
            "                                                                                                  \n",
            " conv1d_2 (Conv1D)              (None, 511, 16)      1552        ['input_2[0][0]']                \n",
            "                                                                                                  \n",
            " zero_padding1d (ZeroPadding1D)  (None, 513, 16)     0           ['conv1d_2[0][0]']               \n",
            "                                                                                                  \n",
            " re_lu (ReLU)                   (None, 513, 16)      0           ['zero_padding1d[0][0]']         \n",
            "                                                                                                  \n",
            " conv1d_3 (Conv1D)              (None, 511, 16)      784         ['re_lu[0][0]']                  \n",
            "                                                                                                  \n",
            " zero_padding1d_1 (ZeroPadding1  (None, 513, 16)     0           ['conv1d_3[0][0]']               \n",
            " D)                                                                                               \n",
            "                                                                                                  \n",
            " re_lu_1 (ReLU)                 (None, 513, 16)      0           ['zero_padding1d_1[0][0]']       \n",
            "                                                                                                  \n",
            " conv1d_4 (Conv1D)              (None, 511, 16)      784         ['re_lu_1[0][0]']                \n",
            "                                                                                                  \n",
            " zero_padding1d_2 (ZeroPadding1  (None, 513, 16)     0           ['conv1d_4[0][0]']               \n",
            " D)                                                                                               \n",
            "                                                                                                  \n",
            " re_lu_2 (ReLU)                 (None, 513, 16)      0           ['zero_padding1d_2[0][0]']       \n",
            "                                                                                                  \n",
            " add (Add)                      (None, 513, 16)      0           ['re_lu[0][0]',                  \n",
            "                                                                  're_lu_1[0][0]',                \n",
            "                                                                  're_lu_2[0][0]']                \n",
            "                                                                                                  \n",
            " flatten_1 (Flatten)            (None, 8208)         0           ['add[0][0]']                    \n",
            "                                                                                                  \n",
            " dense_3 (Dense)                (None, 32)           262688      ['flatten_1[0][0]']              \n",
            "                                                                                                  \n",
            " dense_4 (Dense)                (None, 16)           528         ['dense_3[0][0]']                \n",
            "                                                                                                  \n",
            " dropout_2 (Dropout)            (None, 16)           0           ['dense_4[0][0]']                \n",
            "                                                                                                  \n",
            " dense_5 (Dense)                (None, 4)            68          ['dropout_2[0][0]']              \n",
            "                                                                                                  \n",
            "==================================================================================================\n",
            "Total params: 266,404\n",
            "Trainable params: 266,404\n",
            "Non-trainable params: 0\n",
            "__________________________________________________________________________________________________\n"
          ]
        }
      ]
    },
    {
      "cell_type": "code",
      "source": [
        "tf.keras.utils.plot_model(ftExtract)"
      ],
      "metadata": {
        "id": "19BP_ACsdTR_",
        "colab": {
          "base_uri": "https://localhost:8080/",
          "height": 1000
        },
        "outputId": "c939fe2d-7aed-412d-fd20-7a46ab665119"
      },
      "id": "19BP_ACsdTR_",
      "execution_count": 16,
      "outputs": [
        {
          "output_type": "execute_result",
          "data": {
            "image/png": "[encoded data removed]",
            "text/plain": [
              "<IPython.core.display.Image object>"
            ]
          },
          "metadata": {},
          "execution_count": 16
        }
      ]
    },
    {
      "cell_type": "code",
      "source": [
        "# Compiling the model\n",
        "fte_earlystop = EarlyStopping(patience = 15, min_delta = 0.001, monitor = 'val_acc')\n",
        "\n",
        "path = 'fte_checkpoint/checkpoint_{epoch:02d}';\n",
        "fte_checkpoint = ModelCheckpoint(filepath = path,\n",
        "                            verbose = 1,\n",
        "                            monitor = 'val_acc',\n",
        "                            save_freq = 'epoch',\n",
        "                            save_best_only = True,\n",
        "                            save_weights_only = True)\n",
        "\n",
        "ftExtract.compile(loss = 'categorical_crossentropy', metrics = ['acc'], optimizer = 'adam')"
      ],
      "metadata": {
        "id": "88_E7iewdTUj"
      },
      "id": "88_E7iewdTUj",
      "execution_count": 17,
      "outputs": []
    },
    {
      "cell_type": "code",
      "source": [
        "ftExtract_history = ftExtract.fit(x_train, y_train,\n",
        "                      validation_data = (x_temp, y_temp),\n",
        "#                         steps_per_epoch= 449,\n",
        "                        batch_size = 32,\n",
        "                        epochs = 50,\n",
        "                        callbacks = [fte_checkpoint],\n",
        "                    ) #Fitting the model"
      ],
      "metadata": {
        "id": "JYkwDHvbdTXV",
        "colab": {
          "base_uri": "https://localhost:8080/"
        },
        "outputId": "8d974827-9008-4772-fbb7-31f42fb9f27a"
      },
      "id": "JYkwDHvbdTXV",
      "execution_count": 18,
      "outputs": [
        {
          "output_type": "stream",
          "name": "stdout",
          "text": [
            "Epoch 1/50\n",
            "542/542 [==============================] - ETA: 0s - loss: 3.5174 - acc: 0.2514\n",
            "Epoch 00001: val_acc improved from -inf to 0.27131, saving model to fte_checkpoint/checkpoint_01\n",
            "542/542 [==============================] - 17s 14ms/step - loss: 3.5174 - acc: 0.2514 - val_loss: 1.3892 - val_acc: 0.2713\n",
            "Epoch 2/50\n",
            "538/542 [============================>.] - ETA: 0s - loss: 1.5025 - acc: 0.2728\n",
            "Epoch 00002: val_acc improved from 0.27131 to 0.28989, saving model to fte_checkpoint/checkpoint_02\n",
            "542/542 [==============================] - 6s 11ms/step - loss: 1.5023 - acc: 0.2730 - val_loss: 1.3643 - val_acc: 0.2899\n",
            "Epoch 3/50\n",
            "537/542 [============================>.] - ETA: 0s - loss: 1.3802 - acc: 0.3106\n",
            "Epoch 00003: val_acc improved from 0.28989 to 0.32961, saving model to fte_checkpoint/checkpoint_03\n",
            "542/542 [==============================] - 6s 11ms/step - loss: 1.3802 - acc: 0.3108 - val_loss: 1.3226 - val_acc: 0.3296\n",
            "Epoch 4/50\n",
            "541/542 [============================>.] - ETA: 0s - loss: 1.3293 - acc: 0.3420\n",
            "Epoch 00004: val_acc did not improve from 0.32961\n",
            "542/542 [==============================] - 6s 11ms/step - loss: 1.3293 - acc: 0.3421 - val_loss: 1.3459 - val_acc: 0.3226\n",
            "Epoch 5/50\n",
            "541/542 [============================>.] - ETA: 0s - loss: 1.2920 - acc: 0.3776\n",
            "Epoch 00005: val_acc improved from 0.32961 to 0.35465, saving model to fte_checkpoint/checkpoint_05\n",
            "542/542 [==============================] - 7s 12ms/step - loss: 1.2921 - acc: 0.3775 - val_loss: 1.3163 - val_acc: 0.3547\n",
            "Epoch 6/50\n",
            "539/542 [============================>.] - ETA: 0s - loss: 1.2654 - acc: 0.3966\n",
            "Epoch 00006: val_acc improved from 0.35465 to 0.37296, saving model to fte_checkpoint/checkpoint_06\n",
            "542/542 [==============================] - 7s 14ms/step - loss: 1.2653 - acc: 0.3965 - val_loss: 1.3380 - val_acc: 0.3730\n",
            "Epoch 7/50\n",
            "539/542 [============================>.] - ETA: 0s - loss: 1.2488 - acc: 0.4111\n",
            "Epoch 00007: val_acc did not improve from 0.37296\n",
            "542/542 [==============================] - 6s 11ms/step - loss: 1.2486 - acc: 0.4110 - val_loss: 1.2885 - val_acc: 0.3722\n",
            "Epoch 8/50\n",
            "539/542 [============================>.] - ETA: 0s - loss: 1.2227 - acc: 0.4318\n",
            "Epoch 00008: val_acc improved from 0.37296 to 0.37916, saving model to fte_checkpoint/checkpoint_08\n",
            "542/542 [==============================] - 7s 13ms/step - loss: 1.2230 - acc: 0.4317 - val_loss: 1.3004 - val_acc: 0.3792\n",
            "Epoch 9/50\n",
            "536/542 [============================>.] - ETA: 0s - loss: 1.2025 - acc: 0.4521\n",
            "Epoch 00009: val_acc improved from 0.37916 to 0.38064, saving model to fte_checkpoint/checkpoint_09\n",
            "542/542 [==============================] - 6s 11ms/step - loss: 1.2027 - acc: 0.4517 - val_loss: 1.2715 - val_acc: 0.3806\n",
            "Epoch 10/50\n",
            "541/542 [============================>.] - ETA: 0s - loss: 1.1848 - acc: 0.4662\n",
            "Epoch 00010: val_acc improved from 0.38064 to 0.39720, saving model to fte_checkpoint/checkpoint_10\n",
            "542/542 [==============================] - 6s 11ms/step - loss: 1.1847 - acc: 0.4662 - val_loss: 1.2698 - val_acc: 0.3972\n",
            "Epoch 11/50\n",
            "541/542 [============================>.] - ETA: 0s - loss: 1.1568 - acc: 0.4800\n",
            "Epoch 00011: val_acc did not improve from 0.39720\n",
            "542/542 [==============================] - 6s 11ms/step - loss: 1.1567 - acc: 0.4799 - val_loss: 1.3624 - val_acc: 0.3785\n",
            "Epoch 12/50\n",
            "538/542 [============================>.] - ETA: 0s - loss: 1.1430 - acc: 0.4923\n",
            "Epoch 00012: val_acc improved from 0.39720 to 0.40811, saving model to fte_checkpoint/checkpoint_12\n",
            "542/542 [==============================] - 7s 13ms/step - loss: 1.1437 - acc: 0.4920 - val_loss: 1.2756 - val_acc: 0.4081\n",
            "Epoch 13/50\n",
            "541/542 [============================>.] - ETA: 0s - loss: 1.1352 - acc: 0.4927\n",
            "Epoch 00013: val_acc improved from 0.40811 to 0.40972, saving model to fte_checkpoint/checkpoint_13\n",
            "542/542 [==============================] - 7s 13ms/step - loss: 1.1351 - acc: 0.4928 - val_loss: 1.2466 - val_acc: 0.4097\n",
            "Epoch 14/50\n",
            "540/542 [============================>.] - ETA: 0s - loss: 1.1072 - acc: 0.5137\n",
            "Epoch 00014: val_acc improved from 0.40972 to 0.41753, saving model to fte_checkpoint/checkpoint_14\n",
            "542/542 [==============================] - 8s 15ms/step - loss: 1.1079 - acc: 0.5133 - val_loss: 1.2418 - val_acc: 0.4175\n",
            "Epoch 15/50\n",
            "540/542 [============================>.] - ETA: 0s - loss: 1.1032 - acc: 0.5167\n",
            "Epoch 00015: val_acc improved from 0.41753 to 0.41847, saving model to fte_checkpoint/checkpoint_15\n",
            "542/542 [==============================] - 7s 14ms/step - loss: 1.1032 - acc: 0.5166 - val_loss: 1.2748 - val_acc: 0.4185\n",
            "Epoch 16/50\n",
            "538/542 [============================>.] - ETA: 0s - loss: 1.0887 - acc: 0.5211\n",
            "Epoch 00016: val_acc improved from 0.41847 to 0.43261, saving model to fte_checkpoint/checkpoint_16\n",
            "542/542 [==============================] - 7s 13ms/step - loss: 1.0887 - acc: 0.5206 - val_loss: 1.2640 - val_acc: 0.4326\n",
            "Epoch 17/50\n",
            "540/542 [============================>.] - ETA: 0s - loss: 1.0740 - acc: 0.5296\n",
            "Epoch 00017: val_acc did not improve from 0.43261\n",
            "542/542 [==============================] - 8s 15ms/step - loss: 1.0738 - acc: 0.5297 - val_loss: 1.2413 - val_acc: 0.4197\n",
            "Epoch 18/50\n",
            "538/542 [============================>.] - ETA: 0s - loss: 1.0581 - acc: 0.5414\n",
            "Epoch 00018: val_acc did not improve from 0.43261\n",
            "542/542 [==============================] - 7s 13ms/step - loss: 1.0586 - acc: 0.5412 - val_loss: 1.2880 - val_acc: 0.4244\n",
            "Epoch 19/50\n",
            "537/542 [============================>.] - ETA: 0s - loss: 1.0524 - acc: 0.5483\n",
            "Epoch 00019: val_acc did not improve from 0.43261\n",
            "542/542 [==============================] - 7s 13ms/step - loss: 1.0526 - acc: 0.5484 - val_loss: 1.3148 - val_acc: 0.4209\n",
            "Epoch 20/50\n",
            "541/542 [============================>.] - ETA: 0s - loss: 1.0362 - acc: 0.5563\n",
            "Epoch 00020: val_acc improved from 0.43261 to 0.43423, saving model to fte_checkpoint/checkpoint_20\n",
            "542/542 [==============================] - 8s 15ms/step - loss: 1.0363 - acc: 0.5563 - val_loss: 1.2567 - val_acc: 0.4342\n",
            "Epoch 21/50\n",
            "538/542 [============================>.] - ETA: 0s - loss: 1.0277 - acc: 0.5582\n",
            "Epoch 00021: val_acc did not improve from 0.43423\n",
            "542/542 [==============================] - 7s 13ms/step - loss: 1.0279 - acc: 0.5579 - val_loss: 1.2932 - val_acc: 0.4232\n",
            "Epoch 22/50\n",
            "542/542 [==============================] - ETA: 0s - loss: 1.0210 - acc: 0.5635\n",
            "Epoch 00022: val_acc did not improve from 0.43423\n",
            "542/542 [==============================] - 7s 13ms/step - loss: 1.0210 - acc: 0.5635 - val_loss: 1.3182 - val_acc: 0.4134\n",
            "Epoch 23/50\n",
            "540/542 [============================>.] - ETA: 0s - loss: 1.0054 - acc: 0.5727\n",
            "Epoch 00023: val_acc did not improve from 0.43423\n",
            "542/542 [==============================] - 7s 13ms/step - loss: 1.0056 - acc: 0.5727 - val_loss: 1.3507 - val_acc: 0.4252\n",
            "Epoch 24/50\n",
            "540/542 [============================>.] - ETA: 0s - loss: 0.9906 - acc: 0.5797\n",
            "Epoch 00024: val_acc did not improve from 0.43423\n",
            "542/542 [==============================] - 8s 15ms/step - loss: 0.9905 - acc: 0.5797 - val_loss: 1.3330 - val_acc: 0.4150\n",
            "Epoch 25/50\n",
            "538/542 [============================>.] - ETA: 0s - loss: 0.9849 - acc: 0.5806\n",
            "Epoch 00025: val_acc did not improve from 0.43423\n",
            "542/542 [==============================] - 7s 13ms/step - loss: 0.9855 - acc: 0.5803 - val_loss: 1.2857 - val_acc: 0.4280\n",
            "Epoch 26/50\n",
            "540/542 [============================>.] - ETA: 0s - loss: 0.9745 - acc: 0.5863\n",
            "Epoch 00026: val_acc did not improve from 0.43423\n",
            "542/542 [==============================] - 7s 13ms/step - loss: 0.9744 - acc: 0.5865 - val_loss: 1.2884 - val_acc: 0.4301\n",
            "Epoch 27/50\n",
            "537/542 [============================>.] - ETA: 0s - loss: 0.9596 - acc: 0.5970\n",
            "Epoch 00027: val_acc did not improve from 0.43423\n",
            "542/542 [==============================] - 7s 14ms/step - loss: 0.9598 - acc: 0.5971 - val_loss: 1.3534 - val_acc: 0.4264\n",
            "Epoch 28/50\n",
            "542/542 [==============================] - ETA: 0s - loss: 0.9579 - acc: 0.5954\n",
            "Epoch 00028: val_acc did not improve from 0.43423\n",
            "542/542 [==============================] - 7s 14ms/step - loss: 0.9579 - acc: 0.5954 - val_loss: 1.3165 - val_acc: 0.4251\n",
            "Epoch 29/50\n",
            "538/542 [============================>.] - ETA: 0s - loss: 0.9450 - acc: 0.6039\n",
            "Epoch 00029: val_acc did not improve from 0.43423\n",
            "542/542 [==============================] - 7s 14ms/step - loss: 0.9447 - acc: 0.6042 - val_loss: 1.3494 - val_acc: 0.4299\n",
            "Epoch 30/50\n",
            "538/542 [============================>.] - ETA: 0s - loss: 0.9367 - acc: 0.6067\n",
            "Epoch 00030: val_acc did not improve from 0.43423\n",
            "542/542 [==============================] - 7s 13ms/step - loss: 0.9376 - acc: 0.6063 - val_loss: 1.3553 - val_acc: 0.4276\n",
            "Epoch 31/50\n",
            "539/542 [============================>.] - ETA: 0s - loss: 0.9311 - acc: 0.6128\n",
            "Epoch 00031: val_acc improved from 0.43423 to 0.43490, saving model to fte_checkpoint/checkpoint_31\n",
            "542/542 [==============================] - 7s 13ms/step - loss: 0.9312 - acc: 0.6127 - val_loss: 1.2987 - val_acc: 0.4349\n",
            "Epoch 32/50\n",
            "538/542 [============================>.] - ETA: 0s - loss: 0.9176 - acc: 0.6134\n",
            "Epoch 00032: val_acc improved from 0.43490 to 0.43625, saving model to fte_checkpoint/checkpoint_32\n",
            "542/542 [==============================] - 7s 14ms/step - loss: 0.9173 - acc: 0.6137 - val_loss: 1.3138 - val_acc: 0.4362\n",
            "Epoch 33/50\n",
            "541/542 [============================>.] - ETA: 0s - loss: 0.9120 - acc: 0.6178\n",
            "Epoch 00033: val_acc did not improve from 0.43625\n",
            "542/542 [==============================] - 7s 13ms/step - loss: 0.9118 - acc: 0.6178 - val_loss: 1.3354 - val_acc: 0.4271\n",
            "Epoch 34/50\n",
            "538/542 [============================>.] - ETA: 0s - loss: 0.9129 - acc: 0.6163\n",
            "Epoch 00034: val_acc did not improve from 0.43625\n",
            "542/542 [==============================] - 7s 13ms/step - loss: 0.9133 - acc: 0.6162 - val_loss: 1.3409 - val_acc: 0.4309\n",
            "Epoch 35/50\n",
            "540/542 [============================>.] - ETA: 0s - loss: 0.8955 - acc: 0.6280\n",
            "Epoch 00035: val_acc did not improve from 0.43625\n",
            "542/542 [==============================] - 7s 13ms/step - loss: 0.8954 - acc: 0.6280 - val_loss: 1.4166 - val_acc: 0.4350\n",
            "Epoch 36/50\n",
            "542/542 [==============================] - ETA: 0s - loss: 0.8961 - acc: 0.6278\n",
            "Epoch 00036: val_acc did not improve from 0.43625\n",
            "542/542 [==============================] - 7s 14ms/step - loss: 0.8961 - acc: 0.6278 - val_loss: 1.3831 - val_acc: 0.4261\n",
            "Epoch 37/50\n",
            "540/542 [============================>.] - ETA: 0s - loss: 0.8901 - acc: 0.6273\n",
            "Epoch 00037: val_acc did not improve from 0.43625\n",
            "542/542 [==============================] - 7s 13ms/step - loss: 0.8898 - acc: 0.6272 - val_loss: 1.4862 - val_acc: 0.4283\n",
            "Epoch 38/50\n",
            "539/542 [============================>.] - ETA: 0s - loss: 0.8802 - acc: 0.6374\n",
            "Epoch 00038: val_acc did not improve from 0.43625\n",
            "542/542 [==============================] - 7s 13ms/step - loss: 0.8807 - acc: 0.6370 - val_loss: 1.3804 - val_acc: 0.4240\n",
            "Epoch 39/50\n",
            "541/542 [============================>.] - ETA: 0s - loss: 0.8720 - acc: 0.6437\n",
            "Epoch 00039: val_acc did not improve from 0.43625\n",
            "542/542 [==============================] - 7s 13ms/step - loss: 0.8723 - acc: 0.6437 - val_loss: 1.4473 - val_acc: 0.4229\n",
            "Epoch 40/50\n",
            "541/542 [============================>.] - ETA: 0s - loss: 0.8607 - acc: 0.6493\n",
            "Epoch 00040: val_acc did not improve from 0.43625\n",
            "542/542 [==============================] - 7s 14ms/step - loss: 0.8607 - acc: 0.6493 - val_loss: 1.4218 - val_acc: 0.4354\n",
            "Epoch 41/50\n",
            "541/542 [============================>.] - ETA: 0s - loss: 0.8542 - acc: 0.6513\n",
            "Epoch 00041: val_acc did not improve from 0.43625\n",
            "542/542 [==============================] - 7s 13ms/step - loss: 0.8541 - acc: 0.6515 - val_loss: 1.4205 - val_acc: 0.4342\n",
            "Epoch 42/50\n",
            "542/542 [==============================] - ETA: 0s - loss: 0.8548 - acc: 0.6501\n",
            "Epoch 00042: val_acc did not improve from 0.43625\n",
            "542/542 [==============================] - 7s 13ms/step - loss: 0.8548 - acc: 0.6501 - val_loss: 1.3853 - val_acc: 0.4361\n",
            "Epoch 43/50\n",
            "541/542 [============================>.] - ETA: 0s - loss: 0.8444 - acc: 0.6564\n",
            "Epoch 00043: val_acc did not improve from 0.43625\n",
            "542/542 [==============================] - 7s 13ms/step - loss: 0.8444 - acc: 0.6564 - val_loss: 1.4502 - val_acc: 0.4263\n",
            "Epoch 44/50\n",
            "541/542 [============================>.] - ETA: 0s - loss: 0.8367 - acc: 0.6564\n",
            "Epoch 00044: val_acc improved from 0.43625 to 0.43665, saving model to fte_checkpoint/checkpoint_44\n",
            "542/542 [==============================] - 7s 13ms/step - loss: 0.8366 - acc: 0.6563 - val_loss: 1.4683 - val_acc: 0.4367\n",
            "Epoch 45/50\n",
            "542/542 [==============================] - ETA: 0s - loss: 0.8337 - acc: 0.6566\n",
            "Epoch 00045: val_acc did not improve from 0.43665\n",
            "542/542 [==============================] - 7s 13ms/step - loss: 0.8337 - acc: 0.6566 - val_loss: 1.4361 - val_acc: 0.4348\n",
            "Epoch 46/50\n",
            "542/542 [==============================] - ETA: 0s - loss: 0.8315 - acc: 0.6543\n",
            "Epoch 00046: val_acc improved from 0.43665 to 0.43773, saving model to fte_checkpoint/checkpoint_46\n",
            "542/542 [==============================] - 7s 13ms/step - loss: 0.8315 - acc: 0.6543 - val_loss: 1.4000 - val_acc: 0.4377\n",
            "Epoch 47/50\n",
            "538/542 [============================>.] - ETA: 0s - loss: 0.8243 - acc: 0.6626\n",
            "Epoch 00047: val_acc did not improve from 0.43773\n",
            "542/542 [==============================] - 7s 12ms/step - loss: 0.8239 - acc: 0.6628 - val_loss: 1.4911 - val_acc: 0.4357\n",
            "Epoch 48/50\n",
            "542/542 [==============================] - ETA: 0s - loss: 0.8163 - acc: 0.6689\n",
            "Epoch 00048: val_acc did not improve from 0.43773\n",
            "542/542 [==============================] - 7s 13ms/step - loss: 0.8163 - acc: 0.6689 - val_loss: 1.4171 - val_acc: 0.4377\n",
            "Epoch 49/50\n",
            "538/542 [============================>.] - ETA: 0s - loss: 0.8119 - acc: 0.6665\n",
            "Epoch 00049: val_acc did not improve from 0.43773\n",
            "542/542 [==============================] - 7s 13ms/step - loss: 0.8115 - acc: 0.6665 - val_loss: 1.4441 - val_acc: 0.4255\n",
            "Epoch 50/50\n",
            "538/542 [============================>.] - ETA: 0s - loss: 0.8066 - acc: 0.6703\n",
            "Epoch 00050: val_acc did not improve from 0.43773\n",
            "542/542 [==============================] - 7s 13ms/step - loss: 0.8065 - acc: 0.6703 - val_loss: 1.6440 - val_acc: 0.4257\n"
          ]
        }
      ]
    },
    {
      "cell_type": "code",
      "source": [
        "#Plotting model history\n",
        "plt.plot(ftExtract_history.history['acc'])\n",
        "plt.plot(ftExtract_history.history['loss'])\n",
        "plt.legend(['Training Accuracy', 'Training Loss'])\n",
        "plt.title('Training History')\n",
        "plt.ylabel('Value')\n",
        "plt.xlabel('epochs')\n",
        "plt.show()\n",
        "print(\"Initial training accuracy with preprocessing is: \", ftExtract_history.history['acc'][0])\n",
        "print(\"Final training accuracy with preprocessing is: \", ftExtract_history.history['acc'][-1])\n",
        "\n",
        "print(\"Initial training loss with preprocessing is: \", ftExtract_history.history['loss'][0])\n",
        "print(\"Final training loss with preprocessing is: \", ftExtract_history.history['loss'][-1])"
      ],
      "metadata": {
        "colab": {
          "base_uri": "https://localhost:8080/",
          "height": 365
        },
        "id": "VTZ6JqcCyL1e",
        "outputId": "941c7408-864c-4a06-c0a2-0c2001798c0a"
      },
      "id": "VTZ6JqcCyL1e",
      "execution_count": 19,
      "outputs": [
        {
          "output_type": "display_data",
          "data": {
            "image/png": "[encoded data removed]",
            "text/plain": [
              "<Figure size 432x288 with 1 Axes>"
            ]
          },
          "metadata": {
            "needs_background": "light"
          }
        },
        {
          "output_type": "stream",
          "name": "stdout",
          "text": [
            "Initial training accuracy with preprocessing is:  0.2514282464981079\n",
            "Final training accuracy with preprocessing is:  0.6703214049339294\n",
            "Initial training loss with preprocessing is:  3.5173797607421875\n",
            "Final training loss with preprocessing is:  0.8064739108085632\n"
          ]
        }
      ]
    },
    {
      "cell_type": "code",
      "source": [
        "#Plotting model history\n",
        "plt.plot(ftExtract_history.history['val_acc'])\n",
        "plt.plot(ftExtract_history.history['val_loss'])\n",
        "plt.legend(['Valdation Accuracy', 'Validation Loss'])\n",
        "plt.title('Validation History')\n",
        "plt.ylabel('Value')\n",
        "plt.xlabel('epochs')\n",
        "plt.show()\n",
        "print(\"Initial Validation accuracy with preprocessing is: \", ftExtract_history.history['val_acc'][0])\n",
        "print(\"Final Validation accuracy with preprocessing is: \", ftExtract_history.history['val_acc'][-1])\n",
        "\n",
        "print(\"Initial Validation loss with preprocessing is: \", ftExtract_history.history['val_loss'][0])\n",
        "print(\"Final Validation loss with preprocessing is: \", ftExtract_history.history['val_loss'][-1])"
      ],
      "metadata": {
        "colab": {
          "base_uri": "https://localhost:8080/",
          "height": 365
        },
        "id": "RWc9G1T-zzu1",
        "outputId": "a927decd-e052-44a2-9ef6-cc6e3ed0360d"
      },
      "id": "RWc9G1T-zzu1",
      "execution_count": 20,
      "outputs": [
        {
          "output_type": "display_data",
          "data": {
            "image/png": "[encoded data removed]",
            "text/plain": [
              "<Figure size 432x288 with 1 Axes>"
            ]
          },
          "metadata": {
            "needs_background": "light"
          }
        },
        {
          "output_type": "stream",
          "name": "stdout",
          "text": [
            "Initial Validation accuracy with preprocessing is:  0.2713073790073395\n",
            "Final Validation accuracy with preprocessing is:  0.4257439076900482\n",
            "Initial Validation loss with preprocessing is:  1.3892027139663696\n",
            "Final Validation loss with preprocessing is:  1.6440006494522095\n"
          ]
        }
      ]
    },
    {
      "cell_type": "code",
      "source": [
        ""
      ],
      "metadata": {
        "id": "7TUbCqNQz2qj"
      },
      "id": "7TUbCqNQz2qj",
      "execution_count": null,
      "outputs": []
    }
  ],
  "metadata": {
    "kernelspec": {
      "display_name": "Python 3",
      "language": "python",
      "name": "python3"
    },
    "language_info": {
      "codemirror_mode": {
        "name": "ipython",
        "version": 3
      },
      "file_extension": ".py",
      "mimetype": "text/x-python",
      "name": "python",
      "nbconvert_exporter": "python",
      "pygments_lexer": "ipython3",
      "version": "3.7.6"
    },
    "colab": {
      "name": "get_data_Arush.ipynb",
      "provenance": [],
      "collapsed_sections": [],
      "include_colab_link": true
    },
    "accelerator": "GPU"
  },
  "nbformat": 4,
  "nbformat_minor": 5
}