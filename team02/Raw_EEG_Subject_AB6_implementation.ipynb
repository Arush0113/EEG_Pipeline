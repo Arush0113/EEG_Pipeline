{
  "nbformat": 4,
  "nbformat_minor": 0,
  "metadata": {
    "colab": {
      "name": "Raw EEG Subject AB6 implementation.ipynb",
      "provenance": [],
      "mount_file_id": "1r2lNhOBR7rwovOZCn13MoxeZQZLmnUJE",
      "authorship_tag": "ABX9TyOEd8lC40fPHyn666PIaIbg",
      "include_colab_link": true
    },
    "kernelspec": {
      "name": "python3",
      "display_name": "Python 3"
    },
    "language_info": {
      "name": "python"
    }
  },
  "cells": [
    {
      "cell_type": "markdown",
      "metadata": {
        "id": "view-in-github",
        "colab_type": "text"
      },
      "source": [
        "<a href=\"https://colab.research.google.com/github/Arush0113/EEG_Pipeline-IITR/blob/main/team02/Raw_EEG_Subject_AB6_implementation.ipynb\" target=\"_parent\"><img src=\"https://colab.research.google.com/assets/colab-badge.svg\" alt=\"Open In Colab\"/></a>"
      ]
    },
    {
      "cell_type": "code",
      "metadata": {
        "id": "ehTqW4q3QlZ7"
      },
      "source": [
        "import pandas as pd\n",
        "import numpy as np\n",
        "import matplotlib.pyplot as plt\n"
      ],
      "execution_count": 4,
      "outputs": []
    },
    {
      "cell_type": "code",
      "metadata": {
        "colab": {
          "base_uri": "https://localhost:8080/"
        },
        "id": "ahajtkwSQxi6",
        "outputId": "7e0b21e1-cc32-427e-bb53-f390a073eacc"
      },
      "source": [
        "from google.colab import drive\n",
        "drive.mount('/content/drive')"
      ],
      "execution_count": 1,
      "outputs": [
        {
          "output_type": "stream",
          "text": [
            "Mounted at /content/drive\n"
          ],
          "name": "stdout"
        }
      ]
    },
    {
      "cell_type": "code",
      "metadata": {
        "colab": {
          "base_uri": "https://localhost:8080/",
          "height": 402
        },
        "id": "hthp81TYRpsD",
        "outputId": "bf335f13-aa84-4e6d-c32c-ab34245be86e"
      },
      "source": [
        "gonogo_run1_channels = pd.read_csv('/content/drive/MyDrive/Subject AB6 EEG/sub-AB6/eeg/sub-AB6_task-gonogo_run-1_channels.tsv', delimiter = '\\t')\n",
        "gonogo_run1_channels"
      ],
      "execution_count": 5,
      "outputs": [
        {
          "output_type": "execute_result",
          "data": {
            "text/html": [
              "<div>\n",
              "<style scoped>\n",
              "    .dataframe tbody tr th:only-of-type {\n",
              "        vertical-align: middle;\n",
              "    }\n",
              "\n",
              "    .dataframe tbody tr th {\n",
              "        vertical-align: top;\n",
              "    }\n",
              "\n",
              "    .dataframe thead th {\n",
              "        text-align: right;\n",
              "    }\n",
              "</style>\n",
              "<table border=\"1\" class=\"dataframe\">\n",
              "  <thead>\n",
              "    <tr style=\"text-align: right;\">\n",
              "      <th></th>\n",
              "      <th>name</th>\n",
              "      <th>type</th>\n",
              "      <th>units</th>\n",
              "    </tr>\n",
              "  </thead>\n",
              "  <tbody>\n",
              "    <tr>\n",
              "      <th>0</th>\n",
              "      <td>AF3</td>\n",
              "      <td>EEG</td>\n",
              "      <td>uV</td>\n",
              "    </tr>\n",
              "    <tr>\n",
              "      <th>1</th>\n",
              "      <td>AF4</td>\n",
              "      <td>EEG</td>\n",
              "      <td>uV</td>\n",
              "    </tr>\n",
              "    <tr>\n",
              "      <th>2</th>\n",
              "      <td>F7</td>\n",
              "      <td>EEG</td>\n",
              "      <td>uV</td>\n",
              "    </tr>\n",
              "    <tr>\n",
              "      <th>3</th>\n",
              "      <td>F5</td>\n",
              "      <td>EEG</td>\n",
              "      <td>uV</td>\n",
              "    </tr>\n",
              "    <tr>\n",
              "      <th>4</th>\n",
              "      <td>F3</td>\n",
              "      <td>EEG</td>\n",
              "      <td>uV</td>\n",
              "    </tr>\n",
              "    <tr>\n",
              "      <th>...</th>\n",
              "      <td>...</td>\n",
              "      <td>...</td>\n",
              "      <td>...</td>\n",
              "    </tr>\n",
              "    <tr>\n",
              "      <th>59</th>\n",
              "      <td>O2</td>\n",
              "      <td>EEG</td>\n",
              "      <td>uV</td>\n",
              "    </tr>\n",
              "    <tr>\n",
              "      <th>60</th>\n",
              "      <td>CB2</td>\n",
              "      <td>EEG</td>\n",
              "      <td>uV</td>\n",
              "    </tr>\n",
              "    <tr>\n",
              "      <th>61</th>\n",
              "      <td>VEO</td>\n",
              "      <td>VEOG</td>\n",
              "      <td>uV</td>\n",
              "    </tr>\n",
              "    <tr>\n",
              "      <th>62</th>\n",
              "      <td>HEO</td>\n",
              "      <td>HEOG</td>\n",
              "      <td>uV</td>\n",
              "    </tr>\n",
              "    <tr>\n",
              "      <th>63</th>\n",
              "      <td>EKG</td>\n",
              "      <td>ECG</td>\n",
              "      <td>uV</td>\n",
              "    </tr>\n",
              "  </tbody>\n",
              "</table>\n",
              "<p>64 rows × 3 columns</p>\n",
              "</div>"
            ],
            "text/plain": [
              "   name  type units\n",
              "0   AF3   EEG    uV\n",
              "1   AF4   EEG    uV\n",
              "2    F7   EEG    uV\n",
              "3    F5   EEG    uV\n",
              "4    F3   EEG    uV\n",
              "..  ...   ...   ...\n",
              "59   O2   EEG    uV\n",
              "60  CB2   EEG    uV\n",
              "61  VEO  VEOG    uV\n",
              "62  HEO  HEOG    uV\n",
              "63  EKG   ECG    uV\n",
              "\n",
              "[64 rows x 3 columns]"
            ]
          },
          "metadata": {
            "tags": []
          },
          "execution_count": 5
        }
      ]
    },
    {
      "cell_type": "code",
      "metadata": {
        "colab": {
          "base_uri": "https://localhost:8080/",
          "height": 402
        },
        "id": "-X3tZEtzZHiI",
        "outputId": "440cb4d6-1aff-4f6d-f5fc-6faa662bf475"
      },
      "source": [
        "gonogo_run1_electrodes = pd.read_csv('/content/drive/MyDrive/Subject AB6 EEG/sub-AB6/eeg/sub-AB6_task-gonogo_run-1_electrodes.tsv', delimiter = '\\t')\n",
        "gonogo_run1_electrodes"
      ],
      "execution_count": 6,
      "outputs": [
        {
          "output_type": "execute_result",
          "data": {
            "text/html": [
              "<div>\n",
              "<style scoped>\n",
              "    .dataframe tbody tr th:only-of-type {\n",
              "        vertical-align: middle;\n",
              "    }\n",
              "\n",
              "    .dataframe tbody tr th {\n",
              "        vertical-align: top;\n",
              "    }\n",
              "\n",
              "    .dataframe thead th {\n",
              "        text-align: right;\n",
              "    }\n",
              "</style>\n",
              "<table border=\"1\" class=\"dataframe\">\n",
              "  <thead>\n",
              "    <tr style=\"text-align: right;\">\n",
              "      <th></th>\n",
              "      <th>name</th>\n",
              "      <th>x</th>\n",
              "      <th>y</th>\n",
              "      <th>z</th>\n",
              "    </tr>\n",
              "  </thead>\n",
              "  <tbody>\n",
              "    <tr>\n",
              "      <th>0</th>\n",
              "      <td>AF3</td>\n",
              "      <td>8.92</td>\n",
              "      <td>2.98</td>\n",
              "      <td>3.14</td>\n",
              "    </tr>\n",
              "    <tr>\n",
              "      <th>1</th>\n",
              "      <td>AF4</td>\n",
              "      <td>9.20</td>\n",
              "      <td>-3.71</td>\n",
              "      <td>2.80</td>\n",
              "    </tr>\n",
              "    <tr>\n",
              "      <th>2</th>\n",
              "      <td>F7</td>\n",
              "      <td>4.89</td>\n",
              "      <td>6.56</td>\n",
              "      <td>0.45</td>\n",
              "    </tr>\n",
              "    <tr>\n",
              "      <th>3</th>\n",
              "      <td>F5</td>\n",
              "      <td>5.41</td>\n",
              "      <td>5.70</td>\n",
              "      <td>3.35</td>\n",
              "    </tr>\n",
              "    <tr>\n",
              "      <th>4</th>\n",
              "      <td>F3</td>\n",
              "      <td>6.14</td>\n",
              "      <td>3.70</td>\n",
              "      <td>5.25</td>\n",
              "    </tr>\n",
              "    <tr>\n",
              "      <th>...</th>\n",
              "      <td>...</td>\n",
              "      <td>...</td>\n",
              "      <td>...</td>\n",
              "      <td>...</td>\n",
              "    </tr>\n",
              "    <tr>\n",
              "      <th>59</th>\n",
              "      <td>O2</td>\n",
              "      <td>-8.88</td>\n",
              "      <td>-3.21</td>\n",
              "      <td>0.55</td>\n",
              "    </tr>\n",
              "    <tr>\n",
              "      <th>60</th>\n",
              "      <td>CB2</td>\n",
              "      <td>-9.05</td>\n",
              "      <td>-2.72</td>\n",
              "      <td>-1.93</td>\n",
              "    </tr>\n",
              "    <tr>\n",
              "      <th>61</th>\n",
              "      <td>VEO</td>\n",
              "      <td>8.19</td>\n",
              "      <td>4.22</td>\n",
              "      <td>-2.28</td>\n",
              "    </tr>\n",
              "    <tr>\n",
              "      <th>62</th>\n",
              "      <td>HEO</td>\n",
              "      <td>5.35</td>\n",
              "      <td>5.29</td>\n",
              "      <td>-4.04</td>\n",
              "    </tr>\n",
              "    <tr>\n",
              "      <th>63</th>\n",
              "      <td>EKG</td>\n",
              "      <td>-2.36</td>\n",
              "      <td>2.65</td>\n",
              "      <td>-26.34</td>\n",
              "    </tr>\n",
              "  </tbody>\n",
              "</table>\n",
              "<p>64 rows × 4 columns</p>\n",
              "</div>"
            ],
            "text/plain": [
              "   name     x     y      z\n",
              "0   AF3  8.92  2.98   3.14\n",
              "1   AF4  9.20 -3.71   2.80\n",
              "2    F7  4.89  6.56   0.45\n",
              "3    F5  5.41  5.70   3.35\n",
              "4    F3  6.14  3.70   5.25\n",
              "..  ...   ...   ...    ...\n",
              "59   O2 -8.88 -3.21   0.55\n",
              "60  CB2 -9.05 -2.72  -1.93\n",
              "61  VEO  8.19  4.22  -2.28\n",
              "62  HEO  5.35  5.29  -4.04\n",
              "63  EKG -2.36  2.65 -26.34\n",
              "\n",
              "[64 rows x 4 columns]"
            ]
          },
          "metadata": {
            "tags": []
          },
          "execution_count": 6
        }
      ]
    },
    {
      "cell_type": "code",
      "metadata": {
        "colab": {
          "base_uri": "https://localhost:8080/",
          "height": 402
        },
        "id": "zTuCoSRWZaLm",
        "outputId": "5195694f-88ad-403d-95be-544447d7db29"
      },
      "source": [
        "gonogo_run1_events = pd.read_csv('/content/drive/MyDrive/Subject AB6 EEG/sub-AB6/eeg/sub-AB6_task-gonogo_run-1_events.tsv', delimiter = '\\t')\n",
        "gonogo_run1_events"
      ],
      "execution_count": 7,
      "outputs": [
        {
          "output_type": "execute_result",
          "data": {
            "text/html": [
              "<div>\n",
              "<style scoped>\n",
              "    .dataframe tbody tr th:only-of-type {\n",
              "        vertical-align: middle;\n",
              "    }\n",
              "\n",
              "    .dataframe tbody tr th {\n",
              "        vertical-align: top;\n",
              "    }\n",
              "\n",
              "    .dataframe thead th {\n",
              "        text-align: right;\n",
              "    }\n",
              "</style>\n",
              "<table border=\"1\" class=\"dataframe\">\n",
              "  <thead>\n",
              "    <tr style=\"text-align: right;\">\n",
              "      <th></th>\n",
              "      <th>onset</th>\n",
              "      <th>duration</th>\n",
              "      <th>sample</th>\n",
              "      <th>trial_type</th>\n",
              "      <th>response_time</th>\n",
              "      <th>stim_file</th>\n",
              "      <th>value</th>\n",
              "    </tr>\n",
              "  </thead>\n",
              "  <tbody>\n",
              "    <tr>\n",
              "      <th>0</th>\n",
              "      <td>1.958</td>\n",
              "      <td>NaN</td>\n",
              "      <td>979</td>\n",
              "      <td>task start</td>\n",
              "      <td>NaN</td>\n",
              "      <td>NaN</td>\n",
              "      <td>9</td>\n",
              "    </tr>\n",
              "    <tr>\n",
              "      <th>1</th>\n",
              "      <td>7.282</td>\n",
              "      <td>NaN</td>\n",
              "      <td>3641</td>\n",
              "      <td>cue</td>\n",
              "      <td>NaN</td>\n",
              "      <td>NaN</td>\n",
              "      <td>1</td>\n",
              "    </tr>\n",
              "    <tr>\n",
              "      <th>2</th>\n",
              "      <td>9.064</td>\n",
              "      <td>NaN</td>\n",
              "      <td>4532</td>\n",
              "      <td>go</td>\n",
              "      <td>NaN</td>\n",
              "      <td>NaN</td>\n",
              "      <td>2</td>\n",
              "    </tr>\n",
              "    <tr>\n",
              "      <th>3</th>\n",
              "      <td>9.408</td>\n",
              "      <td>NaN</td>\n",
              "      <td>4704</td>\n",
              "      <td>button press</td>\n",
              "      <td>NaN</td>\n",
              "      <td>NaN</td>\n",
              "      <td>5</td>\n",
              "    </tr>\n",
              "    <tr>\n",
              "      <th>4</th>\n",
              "      <td>14.906</td>\n",
              "      <td>NaN</td>\n",
              "      <td>7453</td>\n",
              "      <td>cue</td>\n",
              "      <td>NaN</td>\n",
              "      <td>NaN</td>\n",
              "      <td>1</td>\n",
              "    </tr>\n",
              "    <tr>\n",
              "      <th>...</th>\n",
              "      <td>...</td>\n",
              "      <td>...</td>\n",
              "      <td>...</td>\n",
              "      <td>...</td>\n",
              "      <td>...</td>\n",
              "      <td>...</td>\n",
              "      <td>...</td>\n",
              "    </tr>\n",
              "    <tr>\n",
              "      <th>147</th>\n",
              "      <td>461.736</td>\n",
              "      <td>NaN</td>\n",
              "      <td>230868</td>\n",
              "      <td>cue</td>\n",
              "      <td>NaN</td>\n",
              "      <td>NaN</td>\n",
              "      <td>1</td>\n",
              "    </tr>\n",
              "    <tr>\n",
              "      <th>148</th>\n",
              "      <td>463.286</td>\n",
              "      <td>NaN</td>\n",
              "      <td>231643</td>\n",
              "      <td>go</td>\n",
              "      <td>NaN</td>\n",
              "      <td>NaN</td>\n",
              "      <td>2</td>\n",
              "    </tr>\n",
              "    <tr>\n",
              "      <th>149</th>\n",
              "      <td>463.534</td>\n",
              "      <td>NaN</td>\n",
              "      <td>231767</td>\n",
              "      <td>button press</td>\n",
              "      <td>NaN</td>\n",
              "      <td>NaN</td>\n",
              "      <td>5</td>\n",
              "    </tr>\n",
              "    <tr>\n",
              "      <th>150</th>\n",
              "      <td>468.656</td>\n",
              "      <td>NaN</td>\n",
              "      <td>234328</td>\n",
              "      <td>cue</td>\n",
              "      <td>NaN</td>\n",
              "      <td>NaN</td>\n",
              "      <td>1</td>\n",
              "    </tr>\n",
              "    <tr>\n",
              "      <th>151</th>\n",
              "      <td>485.642</td>\n",
              "      <td>NaN</td>\n",
              "      <td>242821</td>\n",
              "      <td>task end</td>\n",
              "      <td>NaN</td>\n",
              "      <td>NaN</td>\n",
              "      <td>10</td>\n",
              "    </tr>\n",
              "  </tbody>\n",
              "</table>\n",
              "<p>152 rows × 7 columns</p>\n",
              "</div>"
            ],
            "text/plain": [
              "       onset  duration  sample    trial_type  response_time  stim_file  value\n",
              "0      1.958       NaN     979    task start            NaN        NaN      9\n",
              "1      7.282       NaN    3641           cue            NaN        NaN      1\n",
              "2      9.064       NaN    4532            go            NaN        NaN      2\n",
              "3      9.408       NaN    4704  button press            NaN        NaN      5\n",
              "4     14.906       NaN    7453           cue            NaN        NaN      1\n",
              "..       ...       ...     ...           ...            ...        ...    ...\n",
              "147  461.736       NaN  230868           cue            NaN        NaN      1\n",
              "148  463.286       NaN  231643            go            NaN        NaN      2\n",
              "149  463.534       NaN  231767  button press            NaN        NaN      5\n",
              "150  468.656       NaN  234328           cue            NaN        NaN      1\n",
              "151  485.642       NaN  242821      task end            NaN        NaN     10\n",
              "\n",
              "[152 rows x 7 columns]"
            ]
          },
          "metadata": {
            "tags": []
          },
          "execution_count": 7
        }
      ]
    },
    {
      "cell_type": "code",
      "metadata": {
        "colab": {
          "base_uri": "https://localhost:8080/",
          "height": 402
        },
        "id": "06sGtNDyZmsR",
        "outputId": "1725eceb-aaef-4a1e-956a-eab0d2c2fb61"
      },
      "source": [
        "gonogo_run2_channels = pd.read_csv('/content/drive/MyDrive/Subject AB6 EEG/sub-AB6/eeg/sub-AB6_task-gonogo_run-2_channels.tsv', delimiter = '\\t')\n",
        "gonogo_run2_channels"
      ],
      "execution_count": 8,
      "outputs": [
        {
          "output_type": "execute_result",
          "data": {
            "text/html": [
              "<div>\n",
              "<style scoped>\n",
              "    .dataframe tbody tr th:only-of-type {\n",
              "        vertical-align: middle;\n",
              "    }\n",
              "\n",
              "    .dataframe tbody tr th {\n",
              "        vertical-align: top;\n",
              "    }\n",
              "\n",
              "    .dataframe thead th {\n",
              "        text-align: right;\n",
              "    }\n",
              "</style>\n",
              "<table border=\"1\" class=\"dataframe\">\n",
              "  <thead>\n",
              "    <tr style=\"text-align: right;\">\n",
              "      <th></th>\n",
              "      <th>name</th>\n",
              "      <th>type</th>\n",
              "      <th>units</th>\n",
              "    </tr>\n",
              "  </thead>\n",
              "  <tbody>\n",
              "    <tr>\n",
              "      <th>0</th>\n",
              "      <td>AF3</td>\n",
              "      <td>EEG</td>\n",
              "      <td>uV</td>\n",
              "    </tr>\n",
              "    <tr>\n",
              "      <th>1</th>\n",
              "      <td>AF4</td>\n",
              "      <td>EEG</td>\n",
              "      <td>uV</td>\n",
              "    </tr>\n",
              "    <tr>\n",
              "      <th>2</th>\n",
              "      <td>F7</td>\n",
              "      <td>EEG</td>\n",
              "      <td>uV</td>\n",
              "    </tr>\n",
              "    <tr>\n",
              "      <th>3</th>\n",
              "      <td>F5</td>\n",
              "      <td>EEG</td>\n",
              "      <td>uV</td>\n",
              "    </tr>\n",
              "    <tr>\n",
              "      <th>4</th>\n",
              "      <td>F3</td>\n",
              "      <td>EEG</td>\n",
              "      <td>uV</td>\n",
              "    </tr>\n",
              "    <tr>\n",
              "      <th>...</th>\n",
              "      <td>...</td>\n",
              "      <td>...</td>\n",
              "      <td>...</td>\n",
              "    </tr>\n",
              "    <tr>\n",
              "      <th>59</th>\n",
              "      <td>O2</td>\n",
              "      <td>EEG</td>\n",
              "      <td>uV</td>\n",
              "    </tr>\n",
              "    <tr>\n",
              "      <th>60</th>\n",
              "      <td>CB2</td>\n",
              "      <td>EEG</td>\n",
              "      <td>uV</td>\n",
              "    </tr>\n",
              "    <tr>\n",
              "      <th>61</th>\n",
              "      <td>VEO</td>\n",
              "      <td>VEOG</td>\n",
              "      <td>uV</td>\n",
              "    </tr>\n",
              "    <tr>\n",
              "      <th>62</th>\n",
              "      <td>HEO</td>\n",
              "      <td>HEOG</td>\n",
              "      <td>uV</td>\n",
              "    </tr>\n",
              "    <tr>\n",
              "      <th>63</th>\n",
              "      <td>EKG</td>\n",
              "      <td>ECG</td>\n",
              "      <td>uV</td>\n",
              "    </tr>\n",
              "  </tbody>\n",
              "</table>\n",
              "<p>64 rows × 3 columns</p>\n",
              "</div>"
            ],
            "text/plain": [
              "   name  type units\n",
              "0   AF3   EEG    uV\n",
              "1   AF4   EEG    uV\n",
              "2    F7   EEG    uV\n",
              "3    F5   EEG    uV\n",
              "4    F3   EEG    uV\n",
              "..  ...   ...   ...\n",
              "59   O2   EEG    uV\n",
              "60  CB2   EEG    uV\n",
              "61  VEO  VEOG    uV\n",
              "62  HEO  HEOG    uV\n",
              "63  EKG   ECG    uV\n",
              "\n",
              "[64 rows x 3 columns]"
            ]
          },
          "metadata": {
            "tags": []
          },
          "execution_count": 8
        }
      ]
    },
    {
      "cell_type": "code",
      "metadata": {
        "id": "4YTHcqYQZ2hV",
        "colab": {
          "base_uri": "https://localhost:8080/"
        },
        "outputId": "d7135b75-231b-4394-9e62-9cfaeffddcf6"
      },
      "source": [
        "pip install mne"
      ],
      "execution_count": 10,
      "outputs": [
        {
          "output_type": "stream",
          "text": [
            "Collecting mne\n",
            "\u001b[?25l  Downloading https://files.pythonhosted.org/packages/60/f7/2bf5de3fad42b66d00ee27539bc3be0260b4e66fdecc12f740cdf2daf2e7/mne-0.23.0-py3-none-any.whl (6.9MB)\n",
            "\u001b[K     |████████████████████████████████| 7.0MB 4.2MB/s \n",
            "\u001b[?25hRequirement already satisfied: scipy>=1.1.0 in /usr/local/lib/python3.7/dist-packages (from mne) (1.4.1)\n",
            "Requirement already satisfied: numpy>=1.15.4 in /usr/local/lib/python3.7/dist-packages (from mne) (1.19.5)\n",
            "Installing collected packages: mne\n",
            "Successfully installed mne-0.23.0\n"
          ],
          "name": "stdout"
        }
      ]
    },
    {
      "cell_type": "code",
      "metadata": {
        "colab": {
          "base_uri": "https://localhost:8080/"
        },
        "id": "zKXOnreHJsQV",
        "outputId": "1e933019-f9c8-487c-f681-fe95123d3b08"
      },
      "source": [
        "import mne; mne.sys_info()"
      ],
      "execution_count": 12,
      "outputs": [
        {
          "output_type": "stream",
          "text": [
            "Platform:      Linux-5.4.104+-x86_64-with-Ubuntu-18.04-bionic\n",
            "Python:        3.7.10 (default, May  3 2021, 02:48:31)  [GCC 7.5.0]\n",
            "Executable:    /usr/bin/python3\n",
            "CPU:           x86_64: 2 cores\n",
            "Memory:        12.7 GB\n",
            "\n",
            "mne:           0.23.0\n",
            "numpy:         1.19.5 {blas=openblas, lapack=openblas}\n",
            "scipy:         1.4.1\n",
            "matplotlib:    3.2.2 {backend=module://ipykernel.pylab.backend_inline}\n",
            "\n",
            "sklearn:       0.22.2.post1\n",
            "numba:         0.51.2\n",
            "nibabel:       3.0.2\n",
            "nilearn:       Not found\n",
            "dipy:          Not found\n",
            "cupy:          Not found\n",
            "pandas:        1.1.5\n",
            "mayavi:        Not found\n",
            "pyvista:       Not found\n",
            "vtk:           Not found\n"
          ],
          "name": "stdout"
        }
      ]
    },
    {
      "cell_type": "code",
      "metadata": {
        "colab": {
          "base_uri": "https://localhost:8080/",
          "height": 312
        },
        "id": "zdcYyQv7KFqJ",
        "outputId": "55a0da07-e47e-4950-cf92-75d61af2aff0"
      },
      "source": [
        "mne.io.read_raw_eeglab('/content/drive/MyDrive/Subject AB6 EEG/sub-AB6/eeg/sub-AB6_task-gonogo_run-1_eeg.set', eog=(), preload=False, uint16_codec=None, verbose=None)"
      ],
      "execution_count": 13,
      "outputs": [
        {
          "output_type": "stream",
          "text": [
            "<ipython-input-13-d29e8a06c177>:1: RuntimeWarning: Data will be preloaded. preload=False or a string preload is not supported when the data is stored in the .set file\n",
            "  mne.io.read_raw_eeglab('/content/drive/MyDrive/Subject AB6 EEG/sub-AB6/eeg/sub-AB6_task-gonogo_run-1_eeg.set', eog=(), preload=False, uint16_codec=None, verbose=None)\n"
          ],
          "name": "stderr"
        },
        {
          "output_type": "execute_result",
          "data": {
            "text/html": [
              "\n",
              "\n",
              "<table class=\"table table-hover\">\n",
              "    <tr>\n",
              "        <th>Measurement date</th>\n",
              "<td>Unknown</td>\n",
              "    </tr>\n",
              "    <tr>\n",
              "        <th>Experimenter</th>\n",
              "<td>Unknown</td>\n",
              "    </tr>\n",
              "        <th>Participant</th>\n",
              "<td>Unknown</td>\n",
              "    </tr>\n",
              "    <tr>\n",
              "        <th>Digitized points</th>\n",
              "        <td>64 points</td>\n",
              "    </tr>\n",
              "    <tr>\n",
              "        <th>Good channels</th>\n",
              "        <td>0 magnetometer, 0 gradiometer,\n",
              "            and 64 EEG channels</td>\n",
              "    </tr>\n",
              "    <tr>\n",
              "        <th>Bad channels</th>\n",
              "        <td></td>\n",
              "        \n",
              "    </tr>\n",
              "    <tr>\n",
              "        <th>EOG channels</th>\n",
              "        <td>Not available</td>\n",
              "    </tr>\n",
              "    <tr>\n",
              "        <th>ECG channels</th>\n",
              "        <td>Not available</td>\n",
              "    <tr>\n",
              "        <th>Sampling frequency</th>\n",
              "        <td>500.00 Hz</td>\n",
              "    </tr>\n",
              "    <tr>\n",
              "        <th>Highpass</th>\n",
              "        <td>0.00 Hz</td>\n",
              "    </tr>\n",
              "     <tr>\n",
              "        <th>Lowpass</th>\n",
              "        <td>250.00 Hz</td>\n",
              "    </tr>\n",
              "\n",
              "    <tr>\n",
              "        <th>Filenames</th>\n",
              "        <td>sub-AB6_task-gonogo_run-1_eeg.set</td>\n",
              "    </tr>\n",
              "    <tr>\n",
              "        <th>Duration</th>\n",
              "        <td>00:08:10 (HH:MM:SS)</td>\n",
              "    </tr>\n",
              "</table>\n"
            ],
            "text/plain": [
              "<RawEEGLAB | sub-AB6_task-gonogo_run-1_eeg.set, 64 x 245200 (490.4 s), ~119.8 MB, data loaded>"
            ]
          },
          "metadata": {
            "tags": []
          },
          "execution_count": 13
        }
      ]
    },
    {
      "cell_type": "code",
      "metadata": {
        "id": "OyslQ4pXK0t3"
      },
      "source": [
        ""
      ],
      "execution_count": null,
      "outputs": []
    }
  ]
}