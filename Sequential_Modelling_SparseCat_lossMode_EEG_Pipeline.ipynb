{
  "nbformat": 4,
  "nbformat_minor": 0,
  "metadata": {
    "colab": {
      "name": "Sequential Modelling SparseCat lossMode EEG Pipeline.ipynb",
      "provenance": [],
      "collapsed_sections": [],
      "mount_file_id": "1FC82PQQzTDPYR_tKWG1slVvwt-LMb8o5",
      "authorship_tag": "ABX9TyM/HwKazVQI+VwIXUhLM8dQ",
      "include_colab_link": true
    },
    "kernelspec": {
      "name": "python3",
      "display_name": "Python 3"
    },
    "language_info": {
      "name": "python"
    },
    "accelerator": "GPU"
  },
  "cells": [
    {
      "cell_type": "markdown",
      "metadata": {
        "id": "view-in-github",
        "colab_type": "text"
      },
      "source": [
        "<a href=\"https://colab.research.google.com/github/Arush0113/EEG_Pipeline-IITR/blob/main/Sequential_Modelling_SparseCat_lossMode_EEG_Pipeline.ipynb\" target=\"_parent\"><img src=\"https://colab.research.google.com/assets/colab-badge.svg\" alt=\"Open In Colab\"/></a>"
      ]
    },
    {
      "cell_type": "code",
      "metadata": {
        "colab": {
          "base_uri": "https://localhost:8080/",
          "height": 35
        },
        "id": "8TlqpEv2qGCZ",
        "outputId": "90225c65-49c0-4592-a545-024dabd18198"
      },
      "source": [
        "import tensorflow as tf\n",
        "tf.__version__"
      ],
      "execution_count": 234,
      "outputs": [
        {
          "output_type": "execute_result",
          "data": {
            "application/vnd.google.colaboratory.intrinsic+json": {
              "type": "string"
            },
            "text/plain": [
              "'2.5.0'"
            ]
          },
          "metadata": {
            "tags": []
          },
          "execution_count": 234
        }
      ]
    },
    {
      "cell_type": "code",
      "metadata": {
        "id": "ZasFC_t_stq6"
      },
      "source": [
        "import numpy as np\n",
        "import matplotlib.pyplot as plt\n",
        "%matplotlib inline\n"
      ],
      "execution_count": 235,
      "outputs": []
    },
    {
      "cell_type": "code",
      "metadata": {
        "id": "W80n8Lamq58C"
      },
      "source": [
        "from tensorflow.keras.datasets import cifar10\n",
        "from tensorflow.keras.preprocessing import image\n",
        "# from sklearn.model_selection import train_test_split"
      ],
      "execution_count": 236,
      "outputs": []
    },
    {
      "cell_type": "code",
      "metadata": {
        "id": "W2mukpeQrKTB"
      },
      "source": [
        "(train_images, train_labels), (test_images, test_labels) = cifar10.load_data()"
      ],
      "execution_count": 237,
      "outputs": []
    },
    {
      "cell_type": "code",
      "metadata": {
        "id": "bEtK_CCha9je"
      },
      "source": [
        "train_images, test_images = train_images/255., test_images/255."
      ],
      "execution_count": 238,
      "outputs": []
    },
    {
      "cell_type": "code",
      "metadata": {
        "colab": {
          "base_uri": "https://localhost:8080/",
          "height": 300
        },
        "id": "6S_z-K6ptw8_",
        "outputId": "c2cd5280-7e4b-408a-b0d6-54f057421007"
      },
      "source": [
        "plt.imshow(train_images[0])\n",
        "print(labels[0])\n",
        "train_images[0].shape"
      ],
      "execution_count": 239,
      "outputs": [
        {
          "output_type": "stream",
          "text": [
            "[8]\n"
          ],
          "name": "stdout"
        },
        {
          "output_type": "execute_result",
          "data": {
            "text/plain": [
              "(32, 32, 3)"
            ]
          },
          "metadata": {
            "tags": []
          },
          "execution_count": 239
        },
        {
          "output_type": "display_data",
          "data": {
            "image/png": "[encoded data removed]",
            "text/plain": [
              "<Figure size 432x288 with 1 Axes>"
            ]
          },
          "metadata": {
            "tags": [],
            "needs_background": "light"
          }
        }
      ]
    },
    {
      "cell_type": "code",
      "metadata": {
        "colab": {
          "base_uri": "https://localhost:8080/"
        },
        "id": "gMWKpsAqtw_1",
        "outputId": "bd82d94f-8a8f-42fb-a6db-e241e5964129"
      },
      "source": [
        "train_labels[0]"
      ],
      "execution_count": 162,
      "outputs": [
        {
          "output_type": "execute_result",
          "data": {
            "text/plain": [
              "array([6], dtype=uint8)"
            ]
          },
          "metadata": {
            "tags": []
          },
          "execution_count": 162
        }
      ]
    },
    {
      "cell_type": "code",
      "metadata": {
        "colab": {
          "base_uri": "https://localhost:8080/"
        },
        "id": "MlmSX7SJtx9Q",
        "outputId": "8443eb74-8677-4dd1-9cee-4c49b6da9eac"
      },
      "source": [
        "from google.colab import drive\n",
        "drive.mount('/content/gdrive')"
      ],
      "execution_count": 163,
      "outputs": [
        {
          "output_type": "stream",
          "text": [
            "Drive already mounted at /content/gdrive; to attempt to forcibly remount, call drive.mount(\"/content/gdrive\", force_remount=True).\n"
          ],
          "name": "stdout"
        }
      ]
    },
    {
      "cell_type": "code",
      "metadata": {
        "id": "U26CWThE0oKe"
      },
      "source": [
        "# import json\n",
        "\n",
        "# with open('/content/gdrive/MyDrive/cifar100_fine_labels.json', 'r') as fine_labels:\n",
        "#     cifar100_fine_labels = json.load(fine_labels)"
      ],
      "execution_count": 164,
      "outputs": []
    },
    {
      "cell_type": "code",
      "metadata": {
        "id": "wFO8bOTh0qKM"
      },
      "source": [
        "# len(cifar10_fine_labels)"
      ],
      "execution_count": 165,
      "outputs": []
    },
    {
      "cell_type": "markdown",
      "metadata": {
        "id": "MleehewHtyQS"
      },
      "source": [
        "# Modelling"
      ]
    },
    {
      "cell_type": "code",
      "metadata": {
        "id": "mgfi2egzt2ux"
      },
      "source": [
        "from tensorflow.keras.models import Sequential \n",
        "from tensorflow.keras.layers import Dense, Conv2D, MaxPool2D, Input, Flatten"
      ],
      "execution_count": 195,
      "outputs": []
    },
    {
      "cell_type": "code",
      "metadata": {
        "id": "JZ5B-89nvZoN"
      },
      "source": [
        "# num_classes = 10\n",
        "\n",
        "# train_labels = tf.keras.utils.to_categorical(train_labels, num_classes)\n",
        "# test_labels = tf.keras.utils.to_categorical(test_labels, num_classes)\n",
        "# train_labels[0]"
      ],
      "execution_count": 196,
      "outputs": []
    },
    {
      "cell_type": "code",
      "metadata": {
        "id": "0Ji1NbIW2C15"
      },
      "source": [
        "def get_generator(features, labels, batch_size = 1):\n",
        "  for n in range(features.shape[0]//batch_size):\n",
        "    yield (features[n*batch_size: (n+1)*batch_size], labels[n*batch_size: (n+1)*batch_size])"
      ],
      "execution_count": 197,
      "outputs": []
    },
    {
      "cell_type": "code",
      "metadata": {
        "id": "QM-Vb_hIROFK"
      },
      "source": [
        "def get_cyclic_generator(features, labels, batch_size = 1):\n",
        "  while True:\n",
        "    for n in range(features.shape[0]//batch_size):\n",
        "      yield (features[n*batch_size: (n+1)*batch_size], labels[n*batch_size: (n+1)*batch_size])\n",
        "    permuted = np.random.permutation(len(features))\n",
        "    features = features[permuted]\n",
        "    labels = labels[permuted]"
      ],
      "execution_count": 198,
      "outputs": []
    },
    {
      "cell_type": "code",
      "metadata": {
        "id": "FQuF7P583PpC"
      },
      "source": [
        "train_batch_size = 10\n",
        "train_generator = get_generator(train_images, train_labels, batch_size = train_batch_size)\n",
        "train_generator_cyclic = get_cyclic_generator(train_images, train_labels, batch_size = train_batch_size)"
      ],
      "execution_count": 199,
      "outputs": []
    },
    {
      "cell_type": "code",
      "metadata": {
        "id": "11FdMpir3fjU"
      },
      "source": [
        "images, labels = next(train_generator)"
      ],
      "execution_count": 200,
      "outputs": []
    },
    {
      "cell_type": "code",
      "metadata": {
        "colab": {
          "base_uri": "https://localhost:8080/",
          "height": 434
        },
        "id": "Zab1B6qc4ji8",
        "outputId": "8ece926b-214f-4ad9-c8c1-8615776a1c1b"
      },
      "source": [
        "images, labels = next(train_generator)\n",
        "\n",
        "for i in range(len(images)):\n",
        "  image_unbatched = images[i,:,:,:]\n",
        "  plt.imshow(image_unbatched)\n",
        "print(labels)"
      ],
      "execution_count": 212,
      "outputs": [
        {
          "output_type": "stream",
          "text": [
            "[[8]\n",
            " [3]\n",
            " [9]\n",
            " [6]\n",
            " [6]\n",
            " [1]\n",
            " [8]\n",
            " [5]\n",
            " [2]\n",
            " [9]]\n"
          ],
          "name": "stdout"
        },
        {
          "output_type": "display_data",
          "data": {
            "image/png": "[encoded data removed]",
            "text/plain": [
              "<Figure size 432x288 with 1 Axes>"
            ]
          },
          "metadata": {
            "tags": [],
            "needs_background": "light"
          }
        }
      ]
    },
    {
      "cell_type": "markdown",
      "metadata": {
        "id": "5v7VQHOyyWt-"
      },
      "source": [
        "## Data Augmentation"
      ]
    },
    {
      "cell_type": "code",
      "metadata": {
        "id": "QvYzXKh5yVSd"
      },
      "source": [
        "from tensorflow.keras.preprocessing.image import ImageDataGenerator"
      ],
      "execution_count": 213,
      "outputs": []
    },
    {
      "cell_type": "code",
      "metadata": {
        "id": "yh2XJnQtybch"
      },
      "source": [
        "def func_monochrome(x):\n",
        "  def func_bw(a):\n",
        "    average_pixel = np.mean(a)\n",
        "    return [average_pixel, average_pixel, average_pixel]\n",
        "  x = np.apply_along_axis(func_bw, -1, x)\n",
        "  return x"
      ],
      "execution_count": 214,
      "outputs": []
    },
    {
      "cell_type": "code",
      "metadata": {
        "id": "dq7wecZwybeP"
      },
      "source": [
        "data_generator = ImageDataGenerator(\n",
        "    preprocessing_function = func_monochrome,\n",
        "    rotation_range = 180,\n",
        "    rescale = (1/255.0),\n",
        "    horizontal_flip = False,\n",
        "    vertical_flip = False,\n",
        ")\n",
        "\n",
        "data_generator.fit(train_images)"
      ],
      "execution_count": 191,
      "outputs": []
    },
    {
      "cell_type": "code",
      "metadata": {
        "id": "PV0xHi8JybhC"
      },
      "source": [
        "data_generator_iterable = data_generator.flow(train_images, train_labels, batch_size = 10, shuffle = False)"
      ],
      "execution_count": 192,
      "outputs": []
    },
    {
      "cell_type": "code",
      "metadata": {
        "id": "WhDrD2szuCLz"
      },
      "source": [
        "# def get_sequential_model():\n",
        "\n",
        "#   model = tf.keras.Sequential()\n",
        "#   model.add(Input((32,32,3)))\n",
        "#   # model.add(Conv2D(16, (16, 16), padding='same', activation='relu'))\n",
        "#   # model.add(MaxPooling2D((8,8)))\n",
        "#   model.add(Conv2D(16, (16, 16), padding='same', activation='relu'))\n",
        "#   model.add(MaxPool2D((8,8)))\n",
        "#   model.add(Conv2D(8, (8, 8), padding='same', activation='relu'))\n",
        "#   model.add(MaxPool2D((4,4)))\n",
        "#   model.add(Conv2D(4, (4, 4), padding='same', activation='relu'))\n",
        "#   model.add(Flatten())\n",
        "#   model.add(Dense(200, activation='relu'))\n",
        "#   model.add(Dense(100, activation='relu'))\n",
        "#   model.add(Dense(100, activation='softmax'))\n",
        "\n",
        "#   return model\n",
        "\n",
        "def get_sequential_model():\n",
        "\n",
        "  model = Sequential()\n",
        "  model.add(Conv2D(32, (3, 3), activation='relu', input_shape=(32, 32, 3)))\n",
        "  model.add(MaxPool2D((2, 2)))\n",
        "  model.add(Conv2D(64, (3, 3), activation='relu'))\n",
        "  model.add(MaxPool2D((2, 2)))\n",
        "  model.add(Conv2D(64, (3, 3), activation='relu'))\n",
        "  model.add(Flatten())\n",
        "  model.add(Dense(64, activation='relu'))\n",
        "  model.add(Dense(10))\n",
        "\n",
        "  return model\n",
        "\n",
        "\n",
        "# def get_sequential_model():\n",
        "\n",
        "#   model = tf.keras.Sequential()\n",
        "#   model.add(Input((32, 32, 3)))\n",
        "#   model.add(Conv2D(8, (8, 8), padding='same', activation='relu',))\n",
        "#   model.add(MaxPool2D((4,4)))\n",
        "#   # model.add(Conv2D(8, (8, 8), padding='same', activation='relu'))\n",
        "#   # model.add(MaxPool2D((2,2)))\n",
        "#   model.add(Conv2D(4, (4, 4), padding='same', activation='relu'))\n",
        "#   model.add(Flatten())\n",
        "#   # model.add(Dense(400, activation='relu'))\n",
        "#   model.add(Dense(200, activation='relu'))\n",
        "#   model.add(Dense(100, activation='softmax'))\n",
        "\n",
        "#   return model;"
      ],
      "execution_count": 246,
      "outputs": []
    },
    {
      "cell_type": "code",
      "metadata": {
        "id": "PJqCtvE_uM_X"
      },
      "source": [
        "model = get_sequential_model()\n",
        "# model.compile(optimizer = 'adam', loss = 'binary_crossentropy', metrics = ['acc', 'val_acc'])\n",
        "# model.summary()"
      ],
      "execution_count": 247,
      "outputs": []
    },
    {
      "cell_type": "code",
      "metadata": {
        "colab": {
          "base_uri": "https://localhost:8080/"
        },
        "id": "7-Zbkh2M_IHC",
        "outputId": "b0e6bd57-4c00-4fae-cc16-9f90ada64a51"
      },
      "source": [
        "# optimizer = tf.keras.optimizers.Adam(1e-3)\n",
        "# loss_fn = tf.keras.losses.SparseCategoricalCrossentropy(from_logits=True)\n",
        "model.compile(optimizer='adam',\n",
        "              loss=tf.keras.losses.SparseCategoricalCrossentropy(from_logits=True),\n",
        "              metrics=['accuracy'])\n",
        "\n",
        "model.summary()"
      ],
      "execution_count": 248,
      "outputs": [
        {
          "output_type": "stream",
          "text": [
            "Model: \"sequential_20\"\n",
            "_________________________________________________________________\n",
            "Layer (type)                 Output Shape              Param #   \n",
            "=================================================================\n",
            "conv2d_54 (Conv2D)           (None, 30, 30, 32)        896       \n",
            "_________________________________________________________________\n",
            "max_pooling2d_36 (MaxPooling (None, 15, 15, 32)        0         \n",
            "_________________________________________________________________\n",
            "conv2d_55 (Conv2D)           (None, 13, 13, 64)        18496     \n",
            "_________________________________________________________________\n",
            "max_pooling2d_37 (MaxPooling (None, 6, 6, 64)          0         \n",
            "_________________________________________________________________\n",
            "conv2d_56 (Conv2D)           (None, 4, 4, 64)          36928     \n",
            "_________________________________________________________________\n",
            "flatten_16 (Flatten)         (None, 1024)              0         \n",
            "_________________________________________________________________\n",
            "dense_43 (Dense)             (None, 64)                65600     \n",
            "_________________________________________________________________\n",
            "dense_44 (Dense)             (None, 10)                650       \n",
            "=================================================================\n",
            "Total params: 122,570\n",
            "Trainable params: 122,570\n",
            "Non-trainable params: 0\n",
            "_________________________________________________________________\n"
          ],
          "name": "stdout"
        }
      ]
    },
    {
      "cell_type": "code",
      "metadata": {
        "id": "diS2_G_jHZIn"
      },
      "source": [
        "np.squeeze(train_labels[0])\n",
        "train_labels = np.squeeze(train_labels)"
      ],
      "execution_count": 249,
      "outputs": []
    },
    {
      "cell_type": "code",
      "metadata": {
        "id": "PsGfNVnl4L06"
      },
      "source": [
        "train_steps_per_epoch = data_generator_iterable.n // data_generator_iterable.batch_size\n",
        "# val_steps = val_generator.n // val_generator.batch_size\n",
        "# print('Train Steps per Epoch: ', train_steps_per_epoch, '\\n', 'Validation Steps', val_steps)"
      ],
      "execution_count": 250,
      "outputs": []
    },
    {
      "cell_type": "code",
      "metadata": {
        "colab": {
          "base_uri": "https://localhost:8080/"
        },
        "id": "6k9cD0pi_jEK",
        "outputId": "769738b9-fa1c-4b33-aaae-7dcc5bb921bb"
      },
      "source": [
        "train_steps_per_epoch = len(train_images) // train_batch_size\n",
        "print(train_steps_per_epoch)\n",
        "\n",
        "# history = model.fit_generator(train_generator, steps_per_epoch=train_steps_per_epoch)\n",
        "history = model.fit(train_images, train_labels, epochs = 10)"
      ],
      "execution_count": 251,
      "outputs": [
        {
          "output_type": "stream",
          "text": [
            "5000\n",
            "Epoch 1/10\n",
            "1563/1563 [==============================] - 6s 3ms/step - loss: 1.5499 - accuracy: 0.4343\n",
            "Epoch 2/10\n",
            "1563/1563 [==============================] - 5s 3ms/step - loss: 1.1762 - accuracy: 0.5826\n",
            "Epoch 3/10\n",
            "1563/1563 [==============================] - 5s 3ms/step - loss: 1.0191 - accuracy: 0.6441\n",
            "Epoch 4/10\n",
            "1563/1563 [==============================] - 5s 3ms/step - loss: 0.9143 - accuracy: 0.6756\n",
            "Epoch 5/10\n",
            "1563/1563 [==============================] - 5s 3ms/step - loss: 0.8393 - accuracy: 0.7059\n",
            "Epoch 6/10\n",
            "1563/1563 [==============================] - 5s 3ms/step - loss: 0.7811 - accuracy: 0.7263\n",
            "Epoch 7/10\n",
            "1563/1563 [==============================] - 5s 3ms/step - loss: 0.7331 - accuracy: 0.7428\n",
            "Epoch 8/10\n",
            "1563/1563 [==============================] - 5s 3ms/step - loss: 0.6869 - accuracy: 0.7581\n",
            "Epoch 9/10\n",
            "1563/1563 [==============================] - 5s 3ms/step - loss: 0.6520 - accuracy: 0.7706\n",
            "Epoch 10/10\n",
            "1563/1563 [==============================] - 5s 3ms/step - loss: 0.6174 - accuracy: 0.7822\n"
          ],
          "name": "stdout"
        }
      ]
    },
    {
      "cell_type": "code",
      "metadata": {
        "colab": {
          "base_uri": "https://localhost:8080/"
        },
        "id": "T4d3ZLwtQ35z",
        "outputId": "a6ed032d-963c-4d29-f21a-0248bf34a209"
      },
      "source": [
        "y_0 = model.predict(images[0][np.newaxis, ...])\n",
        "print(np.squeeze(y_0, axis = 0))\n",
        "# print('\\n')\n",
        "print(labels[0])"
      ],
      "execution_count": 252,
      "outputs": [
        {
          "output_type": "stream",
          "text": [
            "[  12.938297   82.633064 -343.42026   157.25319  -722.0558    -34.05294\n",
            " -523.8552    229.10338  -274.97726  -725.1702  ]\n",
            "[8]\n"
          ],
          "name": "stdout"
        }
      ]
    },
    {
      "cell_type": "code",
      "metadata": {
        "id": "Pf3hR5VoScRn"
      },
      "source": [
        ""
      ],
      "execution_count": null,
      "outputs": []
    }
  ]
}