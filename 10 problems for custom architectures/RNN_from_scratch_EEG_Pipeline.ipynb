{
  "nbformat": 4,
  "nbformat_minor": 0,
  "metadata": {
    "colab": {
      "name": "RNN from scratch  EEG Pipeline.ipynb",
      "provenance": [],
      "authorship_tag": "ABX9TyMoX1WZROBfVMtrK0CK2ifV",
      "include_colab_link": true
    },
    "kernelspec": {
      "name": "python3",
      "display_name": "Python 3"
    },
    "language_info": {
      "name": "python"
    }
  },
  "cells": [
    {
      "cell_type": "markdown",
      "metadata": {
        "id": "view-in-github",
        "colab_type": "text"
      },
      "source": [
        "<a href=\"https://colab.research.google.com/github/Arush0113/EEG_Pipeline-IITR/blob/main/RNN_from_scratch_EEG_Pipeline.ipynb\" target=\"_parent\"><img src=\"https://colab.research.google.com/assets/colab-badge.svg\" alt=\"Open In Colab\"/></a>"
      ]
    },
    {
      "cell_type": "code",
      "metadata": {
        "id": "wMdjyVc4yFlU"
      },
      "source": [
        "import numpy as np\n",
        "# import tensorflow as tf"
      ],
      "execution_count": 1,
      "outputs": []
    },
    {
      "cell_type": "markdown",
      "metadata": {
        "id": "qYgLrUpvyTC0"
      },
      "source": [
        "# Initialization"
      ]
    },
    {
      "cell_type": "code",
      "metadata": {
        "id": "ZpImRl4Eyc5m"
      },
      "source": [
        "class RNN():\n",
        "  def __init__(self, hidden_size, vocab_size, seq_length, learning_rate):\n",
        "    self.hidden_size = hidden_size\n",
        "    self.vocab_size = vocab_size\n",
        "    self.seq_length = seq_length\n",
        "    self.learning_rate = learning_rate\n",
        "\n",
        "    self.U = np.random.uniform(-np.sqrt(1./vocab_size), np.sqrt(1./vocab_size), (hidden_size, vocab_size))\n",
        "    self.V = np.random.uniform(-np.sqrt(1./hidden_size), np.sqrt(1./hidden_size), (vocab_size, hidden_size))\n",
        "    self.W = np.random.uniform(-np.sqrt(1./hidden_size), np.sqrt(1./hidden_size), (hidden_size, hidden_size))\n",
        "    self.b = np.zeros((hidden_size, 1))\n",
        "    self.c = np.zeros((vocab_size, 1))\n"
      ],
      "execution_count": 14,
      "outputs": []
    },
    {
      "cell_type": "markdown",
      "metadata": {
        "id": "1Ms7qNN-dDSq"
      },
      "source": [
        "Softmax Function"
      ]
    },
    {
      "cell_type": "code",
      "metadata": {
        "id": "jxtJPslYSd8d"
      },
      "source": [
        "def softmax(x):\n",
        "  exps = np.exp(x)\n",
        "  return exps / np.sum(exps);"
      ],
      "execution_count": 15,
      "outputs": []
    },
    {
      "cell_type": "code",
      "metadata": {
        "id": "xkjAzDqpdIBV"
      },
      "source": [
        "def softmaxNorm(self, x):\n",
        "  p = np.exp(x - np.max(x))\n",
        "  return p / np.sum(p);"
      ],
      "execution_count": 16,
      "outputs": []
    },
    {
      "cell_type": "markdown",
      "metadata": {
        "id": "_0cURRfTSc8V"
      },
      "source": [
        "# Forward Pass"
      ]
    },
    {
      "cell_type": "code",
      "metadata": {
        "id": "p_0H_QB2SUvb"
      },
      "source": [
        "def forward_propagation(self, x):\n",
        "    # total num of time steps, len of vector x\n",
        "    T = len(x)\n",
        "    # during forward propagation, save all hidden stages in s, S_t = U .dot x_t + W .dot s_{t-1}\n",
        "    # we also need the initial state of s, which is set to 0\n",
        "    # each time step is saved in one row in s，each row in s is s[t] which corresponding to an rnn internal loop time\n",
        "    s = np.zeros((T+1, self.hidden_dim))\n",
        "    s[-1] = np.zeros(self.hidden_dim)\n",
        "    # output at each time step saved as o, save them for later use\n",
        "    o = np.zeros((T, self.word_dim))\n",
        "    for t in np.arange(T):\n",
        "        # we are indexing U by x[t]. it is the same as multiplying U with a one-hot vector\n",
        "        s[t] = np.tanh(self.U[:, x[t]] + self.W.dot(s[t-1]))\n",
        "        o[t] = softmax(self.V.dot(s[t]))\n",
        "    return [o, s]\n",
        "\n",
        "RNN.forward_propagation = forward_propagation"
      ],
      "execution_count": 18,
      "outputs": []
    },
    {
      "cell_type": "markdown",
      "metadata": {
        "id": "Jyh_MhZkdhAK"
      },
      "source": [
        "Predict Function"
      ]
    },
    {
      "cell_type": "code",
      "metadata": {
        "id": "ODxUp6LZdgZj"
      },
      "source": [
        "def predict(self, x):\n",
        "    o, s = self.forward_propagation(x)\n",
        "    return np.argmax(o, axis = 1)"
      ],
      "execution_count": 19,
      "outputs": []
    },
    {
      "cell_type": "markdown",
      "metadata": {
        "id": "i__lKDtxbkX3"
      },
      "source": [
        "Loss Function"
      ]
    },
    {
      "cell_type": "code",
      "metadata": {
        "id": "VsJAQyzHUbjY"
      },
      "source": [
        "def loss(self, ps, targets):\n",
        "  return sum(-np.log(ps[t][targets[t], 0]) for t in range(self.seq_length))"
      ],
      "execution_count": 11,
      "outputs": []
    },
    {
      "cell_type": "code",
      "metadata": {
        "id": "hJjQxjCPb3vv"
      },
      "source": [
        ""
      ],
      "execution_count": null,
      "outputs": []
    }
  ]
}
