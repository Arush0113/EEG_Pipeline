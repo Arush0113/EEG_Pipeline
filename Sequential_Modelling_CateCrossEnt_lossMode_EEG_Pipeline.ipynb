{
  "nbformat": 4,
  "nbformat_minor": 0,
  "metadata": {
    "colab": {
      "name": "Sequential_Modelling_CateCrossEnt_lossMode_EEG_Pipeline.ipynb",
      "provenance": [],
      "collapsed_sections": [],
      "mount_file_id": "1FC82PQQzTDPYR_tKWG1slVvwt-LMb8o5",
      "authorship_tag": "ABX9TyO498/mid5hNrJSQrHWxPP0",
      "include_colab_link": true
    },
    "kernelspec": {
      "name": "python3",
      "display_name": "Python 3"
    },
    "language_info": {
      "name": "python"
    },
    "accelerator": "GPU"
  },
  "cells": [
    {
      "cell_type": "markdown",
      "metadata": {
        "id": "view-in-github",
        "colab_type": "text"
      },
      "source": [
        "<a href=\"https://colab.research.google.com/github/Arush0113/EEG_Pipeline-IITR/blob/main/Sequential_Modelling_CateCrossEnt_lossMode_EEG_Pipeline.ipynb\" target=\"_parent\"><img src=\"https://colab.research.google.com/assets/colab-badge.svg\" alt=\"Open In Colab\"/></a>"
      ]
    },
    {
      "cell_type": "code",
      "metadata": {
        "colab": {
          "base_uri": "https://localhost:8080/",
          "height": 35
        },
        "id": "8TlqpEv2qGCZ",
        "outputId": "523148b4-1423-4dc8-fc70-38d5d59247e2"
      },
      "source": [
        "import tensorflow as tf\n",
        "tf.__version__"
      ],
      "execution_count": null,
      "outputs": [
        {
          "output_type": "execute_result",
          "data": {
            "application/vnd.google.colaboratory.intrinsic+json": {
              "type": "string"
            },
            "text/plain": [
              "'2.5.0'"
            ]
          },
          "metadata": {
            "tags": []
          },
          "execution_count": 27
        }
      ]
    },
    {
      "cell_type": "code",
      "metadata": {
        "id": "ZasFC_t_stq6"
      },
      "source": [
        "import numpy as np\n",
        "import matplotlib.pyplot as plt\n",
        "%matplotlib inline\n"
      ],
      "execution_count": null,
      "outputs": []
    },
    {
      "cell_type": "code",
      "metadata": {
        "id": "W80n8Lamq58C"
      },
      "source": [
        "from tensorflow.keras.datasets import cifar10\n",
        "from tensorflow.keras.preprocessing import image\n",
        "# from sklearn.model_selection import train_test_split"
      ],
      "execution_count": null,
      "outputs": []
    },
    {
      "cell_type": "code",
      "metadata": {
        "id": "W2mukpeQrKTB"
      },
      "source": [
        "(train_images, train_labels), (test_images, test_labels) = cifar10.load_data()"
      ],
      "execution_count": null,
      "outputs": []
    },
    {
      "cell_type": "code",
      "metadata": {
        "colab": {
          "base_uri": "https://localhost:8080/",
          "height": 266
        },
        "id": "6S_z-K6ptw8_",
        "outputId": "82ec63ea-86c7-4e23-8d05-d71ddf6f1394"
      },
      "source": [
        "plt.imshow(train_images[0])\n",
        "train_images[0].shape\n",
        "train_images, test_images = train_images/255., test_images/255."
      ],
      "execution_count": null,
      "outputs": [
        {
          "output_type": "display_data",
          "data": {
            "image/png": "[encoded data removed]",
            "text/plain": [
              "<Figure size 432x288 with 1 Axes>"
            ]
          },
          "metadata": {
            "tags": [],
            "needs_background": "light"
          }
        }
      ]
    },
    {
      "cell_type": "code",
      "metadata": {
        "colab": {
          "base_uri": "https://localhost:8080/"
        },
        "id": "gMWKpsAqtw_1",
        "outputId": "d29779b4-e13f-4a80-a29b-ef89c1c17e68"
      },
      "source": [
        "train_labels[0]"
      ],
      "execution_count": null,
      "outputs": [
        {
          "output_type": "execute_result",
          "data": {
            "text/plain": [
              "array([6], dtype=uint8)"
            ]
          },
          "metadata": {
            "tags": []
          },
          "execution_count": 32
        }
      ]
    },
    {
      "cell_type": "code",
      "metadata": {
        "colab": {
          "base_uri": "https://localhost:8080/"
        },
        "id": "MlmSX7SJtx9Q",
        "outputId": "a0fa9a5f-7ad6-4737-e5ea-2972b5bd6628"
      },
      "source": [
        "from google.colab import drive\n",
        "drive.mount('/content/gdrive')"
      ],
      "execution_count": null,
      "outputs": [
        {
          "output_type": "stream",
          "text": [
            "Drive already mounted at /content/gdrive; to attempt to forcibly remount, call drive.mount(\"/content/gdrive\", force_remount=True).\n"
          ],
          "name": "stdout"
        }
      ]
    },
    {
      "cell_type": "code",
      "metadata": {
        "id": "U26CWThE0oKe"
      },
      "source": [
        "# import json\n",
        "\n",
        "# with open('/content/gdrive/MyDrive/cifar100_fine_labels.json', 'r') as fine_labels:\n",
        "#     cifar100_fine_labels = json.load(fine_labels)"
      ],
      "execution_count": null,
      "outputs": []
    },
    {
      "cell_type": "code",
      "metadata": {
        "id": "wFO8bOTh0qKM"
      },
      "source": [
        "# len(cifar10_fine_labels)"
      ],
      "execution_count": null,
      "outputs": []
    },
    {
      "cell_type": "markdown",
      "metadata": {
        "id": "MleehewHtyQS"
      },
      "source": [
        "# Modelling"
      ]
    },
    {
      "cell_type": "code",
      "metadata": {
        "id": "mgfi2egzt2ux"
      },
      "source": [
        "from tensorflow.keras.models import Sequential \n",
        "from tensorflow.keras.layers import Dense, Conv2D, MaxPool2D, Input, Flatten"
      ],
      "execution_count": null,
      "outputs": []
    },
    {
      "cell_type": "code",
      "metadata": {
        "colab": {
          "base_uri": "https://localhost:8080/"
        },
        "id": "JZ5B-89nvZoN",
        "outputId": "2676ab1d-f3e8-44a1-dd49-5286a0ade3fe"
      },
      "source": [
        "num_classes = 10\n",
        "\n",
        "train_labels = tf.keras.utils.to_categorical(train_labels, num_classes)\n",
        "test_labels = tf.keras.utils.to_categorical(test_labels, num_classes)\n",
        "train_labels[0]"
      ],
      "execution_count": null,
      "outputs": [
        {
          "output_type": "execute_result",
          "data": {
            "text/plain": [
              "array([0., 0., 0., 0., 0., 0., 1., 0., 0., 0.], dtype=float32)"
            ]
          },
          "metadata": {
            "tags": []
          },
          "execution_count": 37
        }
      ]
    },
    {
      "cell_type": "code",
      "metadata": {
        "id": "0Ji1NbIW2C15"
      },
      "source": [
        "def get_generator(features, labels, batch_size = 1):\n",
        "  for n in range(features.shape[0]//batch_size):\n",
        "    yield (features[n*batch_size: (n+1)*batch_size], labels[n*batch_size: (n+1)*batch_size])"
      ],
      "execution_count": null,
      "outputs": []
    },
    {
      "cell_type": "code",
      "metadata": {
        "id": "QM-Vb_hIROFK"
      },
      "source": [
        "def get_cyclic_generator(features, labels, batch_size = 1):\n",
        "  while True:\n",
        "    for n in range(features.shape[0]//batch_size):\n",
        "      yield (features[n*batch_size: (n+1)*batch_size], labels[n*batch_size: (n+1)*batch_size])\n",
        "    permuted = np.random.permutation(len(features))\n",
        "    features = features[permuted]\n",
        "    labels = labels[permuted]"
      ],
      "execution_count": null,
      "outputs": []
    },
    {
      "cell_type": "code",
      "metadata": {
        "id": "FQuF7P583PpC"
      },
      "source": [
        "train_batch_size = 100\n",
        "# train_generator = get_generator(train_images, train_labels, batch_size = train_batch_size)\n",
        "train_cyclic_generator = get_cyclic_generator(train_images, train_labels, batch_size = train_batch_size)"
      ],
      "execution_count": null,
      "outputs": []
    },
    {
      "cell_type": "code",
      "metadata": {
        "id": "11FdMpir3fjU",
        "colab": {
          "base_uri": "https://localhost:8080/",
          "height": 162
        },
        "outputId": "dcc134dc-17e2-41f4-a745-a8f0192506d1"
      },
      "source": [
        "images, labels = next(train_generator)"
      ],
      "execution_count": null,
      "outputs": [
        {
          "output_type": "error",
          "ename": "NameError",
          "evalue": "ignored",
          "traceback": [
            "\u001b[0;31m---------------------------------------------------------------------------\u001b[0m",
            "\u001b[0;31mNameError\u001b[0m                                 Traceback (most recent call last)",
            "\u001b[0;32m<ipython-input-44-311c00f0ccbb>\u001b[0m in \u001b[0;36m<module>\u001b[0;34m()\u001b[0m\n\u001b[0;32m----> 1\u001b[0;31m \u001b[0mimages\u001b[0m\u001b[0;34m,\u001b[0m \u001b[0mlabels\u001b[0m \u001b[0;34m=\u001b[0m \u001b[0mnext\u001b[0m\u001b[0;34m(\u001b[0m\u001b[0mtrain_generator\u001b[0m\u001b[0;34m)\u001b[0m\u001b[0;34m\u001b[0m\u001b[0;34m\u001b[0m\u001b[0m\n\u001b[0m",
            "\u001b[0;31mNameError\u001b[0m: name 'train_generator' is not defined"
          ]
        }
      ]
    },
    {
      "cell_type": "code",
      "metadata": {
        "colab": {
          "base_uri": "https://localhost:8080/",
          "height": 195
        },
        "id": "Zab1B6qc4ji8",
        "outputId": "a6c33bc3-7351-487b-c3fc-c116e5610095"
      },
      "source": [
        "images, labels = next(train_generator)\n",
        "image_unbatched = images[0,:,:,:]\n",
        "plt.imshow(image_unbatched)"
      ],
      "execution_count": null,
      "outputs": [
        {
          "output_type": "error",
          "ename": "NameError",
          "evalue": "ignored",
          "traceback": [
            "\u001b[0;31m---------------------------------------------------------------------------\u001b[0m",
            "\u001b[0;31mNameError\u001b[0m                                 Traceback (most recent call last)",
            "\u001b[0;32m<ipython-input-45-ca241d99ca80>\u001b[0m in \u001b[0;36m<module>\u001b[0;34m()\u001b[0m\n\u001b[0;32m----> 1\u001b[0;31m \u001b[0mimages\u001b[0m\u001b[0;34m,\u001b[0m \u001b[0mlabels\u001b[0m \u001b[0;34m=\u001b[0m \u001b[0mnext\u001b[0m\u001b[0;34m(\u001b[0m\u001b[0mtrain_generator\u001b[0m\u001b[0;34m)\u001b[0m\u001b[0;34m\u001b[0m\u001b[0;34m\u001b[0m\u001b[0m\n\u001b[0m\u001b[1;32m      2\u001b[0m \u001b[0mimage_unbatched\u001b[0m \u001b[0;34m=\u001b[0m \u001b[0mimages\u001b[0m\u001b[0;34m[\u001b[0m\u001b[0;36m0\u001b[0m\u001b[0;34m,\u001b[0m\u001b[0;34m:\u001b[0m\u001b[0;34m,\u001b[0m\u001b[0;34m:\u001b[0m\u001b[0;34m,\u001b[0m\u001b[0;34m:\u001b[0m\u001b[0;34m]\u001b[0m\u001b[0;34m\u001b[0m\u001b[0;34m\u001b[0m\u001b[0m\n\u001b[1;32m      3\u001b[0m \u001b[0mplt\u001b[0m\u001b[0;34m.\u001b[0m\u001b[0mimshow\u001b[0m\u001b[0;34m(\u001b[0m\u001b[0mimage_unbatched\u001b[0m\u001b[0;34m)\u001b[0m\u001b[0;34m\u001b[0m\u001b[0;34m\u001b[0m\u001b[0m\n",
            "\u001b[0;31mNameError\u001b[0m: name 'train_generator' is not defined"
          ]
        }
      ]
    },
    {
      "cell_type": "markdown",
      "metadata": {
        "id": "5v7VQHOyyWt-"
      },
      "source": [
        "## Data Augmentation"
      ]
    },
    {
      "cell_type": "code",
      "metadata": {
        "id": "QvYzXKh5yVSd"
      },
      "source": [
        "from tensorflow.keras.preprocessing.image import ImageDataGenerator"
      ],
      "execution_count": null,
      "outputs": []
    },
    {
      "cell_type": "code",
      "metadata": {
        "id": "yh2XJnQtybch"
      },
      "source": [
        "# def func_monochrome(x):\n",
        "#   def func_bw(a):\n",
        "#     average_pixel = np.mean(a)\n",
        "#     return [average_pixel, average_pixel, average_pixel]\n",
        "#   x = np.apply_along_axis(func_bw, -1, x)\n",
        "#   return x"
      ],
      "execution_count": null,
      "outputs": []
    },
    {
      "cell_type": "code",
      "metadata": {
        "id": "dq7wecZwybeP"
      },
      "source": [
        "data_generator = ImageDataGenerator(\n",
        "    # preprocessing_function = func_monochrome,\n",
        "    rotation_range = 30,\n",
        "    # rescale = (1/255.0),\n",
        "    horizontal_flip = True,\n",
        "    vertical_flip = False,\n",
        ")\n",
        "\n",
        "data_generator.fit(train_images)"
      ],
      "execution_count": null,
      "outputs": []
    },
    {
      "cell_type": "code",
      "metadata": {
        "id": "PV0xHi8JybhC"
      },
      "source": [
        "data_generator_iterable = data_generator.flow(train_images, train_labels, batch_size = 100, shuffle = False)"
      ],
      "execution_count": null,
      "outputs": []
    },
    {
      "cell_type": "code",
      "metadata": {
        "id": "WhDrD2szuCLz"
      },
      "source": [
        "# def get_sequential_model():\n",
        "\n",
        "#   model = tf.keras.Sequential()\n",
        "#   model.add(Input((32,32,3)))\n",
        "#   # model.add(Conv2D(16, (16, 16), padding='same', activation='relu'))\n",
        "#   # model.add(MaxPooling2D((8,8)))\n",
        "#   model.add(Conv2D(16, (16, 16), padding='same', activation='relu'))\n",
        "#   model.add(MaxPool2D((8,8)))\n",
        "#   model.add(Conv2D(8, (8, 8), padding='same', activation='relu'))\n",
        "#   model.add(MaxPool2D((4,4)))\n",
        "#   model.add(Conv2D(4, (4, 4), padding='same', activation='relu'))\n",
        "#   model.add(Flatten())\n",
        "#   model.add(Dense(200, activation='relu'))\n",
        "#   model.add(Dense(100, activation='relu'))\n",
        "#   model.add(Dense(100, activation='softmax'))\n",
        "\n",
        "#   return model\n",
        "\n",
        "def get_sequential_model():\n",
        "\n",
        "  model = tf.keras.Sequential()\n",
        "  model.add(Input((32,32,3)))\n",
        "  model.add(Conv2D(8, (8, 8), padding='same', activation='relu'))\n",
        "  model.add(MaxPool2D((4,4)))\n",
        "  model.add(Conv2D(8, (8, 8), padding='same', activation='relu'))\n",
        "  model.add(MaxPool2D((2,2)))\n",
        "  model.add(Conv2D(4, (4, 4), padding='same', activation='relu'))\n",
        "  model.add(Flatten())\n",
        "  model.add(Dense(16, activation='relu'))\n",
        "  model.add(Dense(8, activation='relu'))\n",
        "  model.add(Dense(10, activation='softmax'))\n",
        "\n",
        "  return model\n",
        "\n",
        "\n",
        "# def get_sequential_model():\n",
        "\n",
        "#   model = tf.keras.Sequential()\n",
        "#   model.add(Input((32, 32, 3)))\n",
        "#   model.add(Conv2D(8, (8, 8), padding='same', activation='relu',))\n",
        "#   model.add(MaxPool2D((4,4)))\n",
        "#   # model.add(Conv2D(8, (8, 8), padding='same', activation='relu'))\n",
        "#   # model.add(MaxPool2D((2,2)))\n",
        "#   model.add(Conv2D(4, (4, 4), padding='same', activation='relu'))\n",
        "#   model.add(Flatten())\n",
        "#   # model.add(Dense(400, activation='relu'))\n",
        "#   model.add(Dense(200, activation='relu'))\n",
        "#   model.add(Dense(100, activation='softmax'))\n",
        "\n",
        "#   return model;"
      ],
      "execution_count": null,
      "outputs": []
    },
    {
      "cell_type": "code",
      "metadata": {
        "id": "DL44dHVQ33fJ"
      },
      "source": [
        ""
      ],
      "execution_count": null,
      "outputs": []
    },
    {
      "cell_type": "code",
      "metadata": {
        "colab": {
          "base_uri": "https://localhost:8080/"
        },
        "id": "PJqCtvE_uM_X",
        "outputId": "425b687c-b02f-4cbb-bec8-568b7cb1f534"
      },
      "source": [
        "model = get_sequential_model()\n",
        "# model.compile(optimizer = 'adam', loss = 'binary_crossentropy', metrics = ['acc', 'val_acc'])\n",
        "# model.summary()"
      ],
      "execution_count": null,
      "outputs": [
        {
          "output_type": "stream",
          "text": [
            "WARNING:tensorflow:Please add `keras.layers.InputLayer` instead of `keras.Input` to Sequential model. `keras.Input` is intended to be used by Functional model.\n"
          ],
          "name": "stdout"
        }
      ]
    },
    {
      "cell_type": "code",
      "metadata": {
        "id": "7-Zbkh2M_IHC"
      },
      "source": [
        "optimizer = tf.keras.optimizers.Adam(1e-3)\n",
        "# loss_fn = tf.keras.losses.SparseCategoricalCrossentropy(from_logits=True)\n",
        "model.compile(optimizer = optimizer, loss = 'categorical_crossentropy', metrics = ['accuracy'])"
      ],
      "execution_count": null,
      "outputs": []
    },
    {
      "cell_type": "code",
      "metadata": {
        "colab": {
          "base_uri": "https://localhost:8080/"
        },
        "id": "diS2_G_jHZIn",
        "outputId": "44213833-c014-4ffd-946c-68aa816e9c08"
      },
      "source": [
        "train_labels[0]"
      ],
      "execution_count": null,
      "outputs": [
        {
          "output_type": "execute_result",
          "data": {
            "text/plain": [
              "array([0., 0., 0., 0., 0., 0., 1., 0., 0., 0.], dtype=float32)"
            ]
          },
          "metadata": {
            "tags": []
          },
          "execution_count": 52
        }
      ]
    },
    {
      "cell_type": "code",
      "metadata": {
        "id": "PsGfNVnl4L06"
      },
      "source": [
        "# train_steps_per_epoch = data_generator_iterable.n // data_generator_iterable.batch_size\n",
        "\n",
        "\n",
        "# val_steps = val_generator.n // val_generator.batch_size\n",
        "# print('Train Steps per Epoch: ', train_steps_per_epoch, '\\n', 'Validation Steps', val_steps)"
      ],
      "execution_count": null,
      "outputs": []
    },
    {
      "cell_type": "code",
      "metadata": {
        "id": "6k9cD0pi_jEK"
      },
      "source": [
        "# train_steps_per_epoch = len(train_images) // train_batch_size\n",
        "# print(train_steps_per_epoch)\n",
        "\n",
        "# history = model.fit_generator(train_generator, steps_per_epoch=train_steps_per_epoch)\n",
        "history = model.fit(train_cyclic_generator, steps_per_epoch=100, epochs = 300)\n",
        "\n",
        "# history = model.fit(train_images, train_labels, epochs = 10)\n"
      ],
      "execution_count": null,
      "outputs": []
    },
    {
      "cell_type": "code",
      "metadata": {
        "id": "MwSq7tHoXAya",
        "colab": {
          "base_uri": "https://localhost:8080/",
          "height": 282
        },
        "outputId": "15cf8b2a-16ee-4d15-f3ff-d3e86c53b229"
      },
      "source": [
        "plt.figure()\n",
        "plt.plot(history.history['accuracy'])\n",
        "plt.plot(history.history['loss'])\n",
        "plt.legend(['accuracy', 'loss'])\n",
        "# history.history['accuracy']"
      ],
      "execution_count": null,
      "outputs": [
        {
          "output_type": "execute_result",
          "data": {
            "text/plain": [
              "<matplotlib.legend.Legend at 0x7f0fb0086a10>"
            ]
          },
          "metadata": {
            "tags": []
          },
          "execution_count": 60
        },
        {
          "output_type": "display_data",
          "data": {
            "image/png": "[encoded data removed]",
            "text/plain": [
              "<Figure size 432x288 with 1 Axes>"
            ]
          },
          "metadata": {
            "tags": [],
            "needs_background": "light"
          }
        }
      ]
    },
    {
      "cell_type": "code",
      "metadata": {
        "id": "T4d3ZLwtQ35z",
        "colab": {
          "base_uri": "https://localhost:8080/"
        },
        "outputId": "ea710a47-85dd-4689-a957-7018dbb6cc28"
      },
      "source": [
        "y_0 = model.predict(train_images[0][np.newaxis, ...])\n",
        "print(np.squeeze(y_0, axis = 0))\n",
        "# print('\\n')\n",
        "print(train_labels[0])"
      ],
      "execution_count": null,
      "outputs": [
        {
          "output_type": "stream",
          "text": [
            "[1.8276109e-03 7.2112922e-03 2.0497512e-02 8.3727784e-02 1.0912862e-02\n",
            " 3.9479935e-01 3.0066377e-01 1.8000746e-01 7.0659917e-06 3.4537076e-04]\n",
            "[0. 0. 0. 0. 0. 0. 1. 0. 0. 0.]\n"
          ],
          "name": "stdout"
        }
      ]
    },
    {
      "cell_type": "code",
      "metadata": {
        "id": "Pf3hR5VoScRn",
        "colab": {
          "base_uri": "https://localhost:8080/"
        },
        "outputId": "237ec4e0-3b4c-4a0e-d1e3-6cdc7e27d4fd"
      },
      "source": [
        "history1 = model.fit(data_generator_iterable, steps_per_epoch=100, epochs = 100)"
      ],
      "execution_count": null,
      "outputs": [
        {
          "output_type": "stream",
          "text": [
            "100/100 [==============================] - 4s 35ms/step - loss: 1.1802 - accuracy: 0.5790\n",
            "Epoch 52/100\n",
            "100/100 [==============================] - 4s 36ms/step - loss: 1.1859 - accuracy: 0.5855\n",
            "Epoch 53/100\n",
            "100/100 [==============================] - 4s 35ms/step - loss: 1.1775 - accuracy: 0.5831\n",
            "Epoch 54/100\n",
            "100/100 [==============================] - 4s 35ms/step - loss: 1.1958 - accuracy: 0.5732\n",
            "Epoch 55/100\n",
            "100/100 [==============================] - 4s 35ms/step - loss: 1.1840 - accuracy: 0.5868\n",
            "Epoch 56/100\n",
            "100/100 [==============================] - 4s 36ms/step - loss: 1.1804 - accuracy: 0.5807\n",
            "Epoch 57/100\n",
            "100/100 [==============================] - 4s 36ms/step - loss: 1.1923 - accuracy: 0.5759\n",
            "Epoch 58/100\n",
            "100/100 [==============================] - 4s 35ms/step - loss: 1.1741 - accuracy: 0.5789\n",
            "Epoch 59/100\n",
            "100/100 [==============================] - 4s 35ms/step - loss: 1.1672 - accuracy: 0.5809\n",
            "Epoch 60/100\n",
            "100/100 [==============================] - 4s 36ms/step - loss: 1.2001 - accuracy: 0.5739\n",
            "Epoch 61/100\n",
            "100/100 [==============================] - 4s 36ms/step - loss: 1.1780 - accuracy: 0.5845\n",
            "Epoch 62/100\n",
            "100/100 [==============================] - 4s 36ms/step - loss: 1.1812 - accuracy: 0.5783\n",
            "Epoch 63/100\n",
            "100/100 [==============================] - 4s 35ms/step - loss: 1.1810 - accuracy: 0.5754\n",
            "Epoch 64/100\n",
            "100/100 [==============================] - 4s 35ms/step - loss: 1.1915 - accuracy: 0.5781\n",
            "Epoch 65/100\n",
            "100/100 [==============================] - 3s 35ms/step - loss: 1.1776 - accuracy: 0.5837\n",
            "Epoch 66/100\n",
            "100/100 [==============================] - 4s 35ms/step - loss: 1.1847 - accuracy: 0.5790\n",
            "Epoch 67/100\n",
            "100/100 [==============================] - 4s 35ms/step - loss: 1.1833 - accuracy: 0.5788\n",
            "Epoch 68/100\n",
            "100/100 [==============================] - 4s 35ms/step - loss: 1.1604 - accuracy: 0.5885\n",
            "Epoch 69/100\n",
            "100/100 [==============================] - 4s 36ms/step - loss: 1.1859 - accuracy: 0.5771\n",
            "Epoch 70/100\n",
            "100/100 [==============================] - 3s 35ms/step - loss: 1.1711 - accuracy: 0.5843\n",
            "Epoch 71/100\n",
            "100/100 [==============================] - 4s 35ms/step - loss: 1.1679 - accuracy: 0.5871\n",
            "Epoch 72/100\n",
            "100/100 [==============================] - 3s 35ms/step - loss: 1.1590 - accuracy: 0.5939\n",
            "Epoch 73/100\n",
            "100/100 [==============================] - 4s 35ms/step - loss: 1.1798 - accuracy: 0.5844\n",
            "Epoch 74/100\n",
            "100/100 [==============================] - 4s 35ms/step - loss: 1.1732 - accuracy: 0.5840\n",
            "Epoch 75/100\n",
            "100/100 [==============================] - 4s 36ms/step - loss: 1.1858 - accuracy: 0.5755\n",
            "Epoch 76/100\n",
            "100/100 [==============================] - 4s 35ms/step - loss: 1.1728 - accuracy: 0.5804\n",
            "Epoch 77/100\n",
            "100/100 [==============================] - 4s 36ms/step - loss: 1.1670 - accuracy: 0.5853\n",
            "Epoch 78/100\n",
            "100/100 [==============================] - 4s 35ms/step - loss: 1.1747 - accuracy: 0.5830\n",
            "Epoch 79/100\n",
            "100/100 [==============================] - 3s 35ms/step - loss: 1.1721 - accuracy: 0.5842\n",
            "Epoch 80/100\n",
            "100/100 [==============================] - 3s 35ms/step - loss: 1.1920 - accuracy: 0.5783\n",
            "Epoch 81/100\n",
            "100/100 [==============================] - 4s 36ms/step - loss: 1.1644 - accuracy: 0.5841\n",
            "Epoch 82/100\n",
            "100/100 [==============================] - 4s 36ms/step - loss: 1.1850 - accuracy: 0.5860\n",
            "Epoch 83/100\n",
            "100/100 [==============================] - 4s 37ms/step - loss: 1.1613 - accuracy: 0.5813\n",
            "Epoch 84/100\n",
            "100/100 [==============================] - 4s 35ms/step - loss: 1.1768 - accuracy: 0.5911\n",
            "Epoch 85/100\n",
            "100/100 [==============================] - 4s 35ms/step - loss: 1.1575 - accuracy: 0.5890\n",
            "Epoch 86/100\n",
            "100/100 [==============================] - 4s 35ms/step - loss: 1.1649 - accuracy: 0.5926\n",
            "Epoch 87/100\n",
            "100/100 [==============================] - 4s 36ms/step - loss: 1.1546 - accuracy: 0.5894\n",
            "Epoch 88/100\n",
            "100/100 [==============================] - 4s 35ms/step - loss: 1.1648 - accuracy: 0.5891\n",
            "Epoch 89/100\n",
            "100/100 [==============================] - 4s 35ms/step - loss: 1.1727 - accuracy: 0.5853\n",
            "Epoch 90/100\n",
            "100/100 [==============================] - 4s 36ms/step - loss: 1.1722 - accuracy: 0.5862\n",
            "Epoch 91/100\n",
            "100/100 [==============================] - 4s 35ms/step - loss: 1.1453 - accuracy: 0.5954\n",
            "Epoch 92/100\n",
            "100/100 [==============================] - 4s 36ms/step - loss: 1.1808 - accuracy: 0.5834\n",
            "Epoch 93/100\n",
            "100/100 [==============================] - 4s 35ms/step - loss: 1.1596 - accuracy: 0.5919\n",
            "Epoch 94/100\n",
            "100/100 [==============================] - 4s 36ms/step - loss: 1.1637 - accuracy: 0.5908\n",
            "Epoch 95/100\n",
            "100/100 [==============================] - 4s 35ms/step - loss: 1.1626 - accuracy: 0.5845\n",
            "Epoch 96/100\n",
            "100/100 [==============================] - 4s 35ms/step - loss: 1.1758 - accuracy: 0.5851\n",
            "Epoch 97/100\n",
            "100/100 [==============================] - 4s 35ms/step - loss: 1.1739 - accuracy: 0.5819\n",
            "Epoch 98/100\n",
            "100/100 [==============================] - 4s 37ms/step - loss: 1.1823 - accuracy: 0.5819\n",
            "Epoch 99/100\n",
            "100/100 [==============================] - 4s 36ms/step - loss: 1.1677 - accuracy: 0.5821\n",
            "Epoch 100/100\n",
            "100/100 [==============================] - 4s 36ms/step - loss: 1.1623 - accuracy: 0.5863\n"
          ],
          "name": "stdout"
        }
      ]
    },
    {
      "cell_type": "code",
      "metadata": {
        "colab": {
          "base_uri": "https://localhost:8080/",
          "height": 284
        },
        "id": "Y2wffcGwTc6N",
        "outputId": "48b1476a-e26e-42e1-f0d6-1d3ecec119e4"
      },
      "source": [
        "plt.figure()\n",
        "plt.plot(history1.history['accuracy'])\n",
        "plt.plot(history1.history['loss'])\n",
        "plt.legend(['accuracy', 'loss'])\n",
        "# history.history['accuracy']"
      ],
      "execution_count": null,
      "outputs": [
        {
          "output_type": "execute_result",
          "data": {
            "text/plain": [
              "<matplotlib.legend.Legend at 0x7f1038a2a390>"
            ]
          },
          "metadata": {
            "tags": []
          },
          "execution_count": 68
        },
        {
          "output_type": "display_data",
          "data": {
            "image/png": "[encoded data removed]",
            "text/plain": [
              "<Figure size 432x288 with 1 Axes>"
            ]
          },
          "metadata": {
            "tags": [],
            "needs_background": "light"
          }
        }
      ]
    },
    {
      "cell_type": "code",
      "metadata": {
        "id": "g2-_g-Q9YCCu"
      },
      "source": [
        ""
      ],
      "execution_count": null,
      "outputs": []
    }
  ]
}