{
  "nbformat": 4,
  "nbformat_minor": 0,
  "metadata": {
    "colab": {
      "name": "Sequential_Modelling_CateCrossEnt_lossMode_EEG_Pipeline.ipynb",
      "provenance": [],
      "collapsed_sections": [],
      "mount_file_id": "1FC82PQQzTDPYR_tKWG1slVvwt-LMb8o5",
      "authorship_tag": "ABX9TyOBRI/WPlOVJy1SPHsIKjWG",
      "include_colab_link": true
    },
    "kernelspec": {
      "name": "python3",
      "display_name": "Python 3"
    },
    "language_info": {
      "name": "python"
    },
    "accelerator": "GPU"
  },
  "cells": [
    {
      "cell_type": "markdown",
      "metadata": {
        "id": "view-in-github",
        "colab_type": "text"
      },
      "source": [
        "<a href=\"https://colab.research.google.com/github/Arush0113/EEG_Pipeline-IITR/blob/main/Sequential_Modelling_CateCrossEnt_lossMode_EEG_Pipeline.ipynb\" target=\"_parent\"><img src=\"https://colab.research.google.com/assets/colab-badge.svg\" alt=\"Open In Colab\"/></a>"
      ]
    },
    {
      "cell_type": "code",
      "metadata": {
        "colab": {
          "base_uri": "https://localhost:8080/",
          "height": 35
        },
        "id": "8TlqpEv2qGCZ",
        "outputId": "7210b606-ce1b-47ac-a2c6-d295ebba95a0"
      },
      "source": [
        "import tensorflow as tf\n",
        "tf.__version__"
      ],
      "execution_count": null,
      "outputs": [
        {
          "output_type": "execute_result",
          "data": {
            "application/vnd.google.colaboratory.intrinsic+json": {
              "type": "string"
            },
            "text/plain": [
              "'2.5.0'"
            ]
          },
          "metadata": {
            "tags": []
          },
          "execution_count": 1
        }
      ]
    },
    {
      "cell_type": "code",
      "metadata": {
        "id": "ZasFC_t_stq6"
      },
      "source": [
        "import numpy as np\n",
        "import matplotlib.pyplot as plt\n",
        "%matplotlib inline\n"
      ],
      "execution_count": null,
      "outputs": []
    },
    {
      "cell_type": "code",
      "metadata": {
        "id": "W80n8Lamq58C"
      },
      "source": [
        "from tensorflow.keras.datasets import cifar10\n",
        "from tensorflow.keras.preprocessing import image\n",
        "# from sklearn.model_selection import train_test_split"
      ],
      "execution_count": null,
      "outputs": []
    },
    {
      "cell_type": "code",
      "metadata": {
        "id": "W2mukpeQrKTB",
        "colab": {
          "base_uri": "https://localhost:8080/"
        },
        "outputId": "c29162fd-568e-4c95-b0b6-6c9339d5140d"
      },
      "source": [
        "(train_images, train_labels), (test_images, test_labels) = cifar10.load_data()"
      ],
      "execution_count": null,
      "outputs": [
        {
          "output_type": "stream",
          "text": [
            "Downloading data from https://www.cs.toronto.edu/~kriz/cifar-10-python.tar.gz\n",
            "170500096/170498071 [==============================] - 4s 0us/step\n"
          ],
          "name": "stdout"
        }
      ]
    },
    {
      "cell_type": "code",
      "metadata": {
        "colab": {
          "base_uri": "https://localhost:8080/",
          "height": 266
        },
        "id": "6S_z-K6ptw8_",
        "outputId": "5239a1c4-fdc8-460a-d620-4ced74635b2d"
      },
      "source": [
        "plt.imshow(train_images[0])\n",
        "train_images[0].shape\n",
        "train_images, test_images = train_images/255., test_images/255."
      ],
      "execution_count": null,
      "outputs": [
        {
          "output_type": "display_data",
          "data": {
            "image/png": "[encoded data removed]",
            "text/plain": [
              "<Figure size 432x288 with 1 Axes>"
            ]
          },
          "metadata": {
            "tags": [],
            "needs_background": "light"
          }
        }
      ]
    },
    {
      "cell_type": "code",
      "metadata": {
        "colab": {
          "base_uri": "https://localhost:8080/"
        },
        "id": "gMWKpsAqtw_1",
        "outputId": "0d617aea-56ea-449e-fb62-540f21c914ba"
      },
      "source": [
        "train_labels[0]"
      ],
      "execution_count": null,
      "outputs": [
        {
          "output_type": "execute_result",
          "data": {
            "text/plain": [
              "array([6], dtype=uint8)"
            ]
          },
          "metadata": {
            "tags": []
          },
          "execution_count": 6
        }
      ]
    },
    {
      "cell_type": "code",
      "metadata": {
        "colab": {
          "base_uri": "https://localhost:8080/"
        },
        "id": "MlmSX7SJtx9Q",
        "outputId": "2e0ddba2-6013-4890-f298-9eb64d7cb185"
      },
      "source": [
        "from google.colab import drive\n",
        "drive.mount('/content/gdrive')"
      ],
      "execution_count": null,
      "outputs": [
        {
          "output_type": "stream",
          "text": [
            "Drive already mounted at /content/gdrive; to attempt to forcibly remount, call drive.mount(\"/content/gdrive\", force_remount=True).\n"
          ],
          "name": "stdout"
        }
      ]
    },
    {
      "cell_type": "code",
      "metadata": {
        "id": "U26CWThE0oKe"
      },
      "source": [
        "# import json\n",
        "\n",
        "# with open('/content/gdrive/MyDrive/cifar100_fine_labels.json', 'r') as fine_labels:\n",
        "#     cifar100_fine_labels = json.load(fine_labels)"
      ],
      "execution_count": null,
      "outputs": []
    },
    {
      "cell_type": "code",
      "metadata": {
        "id": "wFO8bOTh0qKM"
      },
      "source": [
        "# len(cifar10_fine_labels)"
      ],
      "execution_count": null,
      "outputs": []
    },
    {
      "cell_type": "markdown",
      "metadata": {
        "id": "MleehewHtyQS"
      },
      "source": [
        "# Modelling"
      ]
    },
    {
      "cell_type": "code",
      "metadata": {
        "id": "mgfi2egzt2ux"
      },
      "source": [
        "from tensorflow.keras.models import Sequential \n",
        "from tensorflow.keras.layers import Dense, Conv2D, MaxPool2D, Input, Flatten"
      ],
      "execution_count": null,
      "outputs": []
    },
    {
      "cell_type": "code",
      "metadata": {
        "colab": {
          "base_uri": "https://localhost:8080/"
        },
        "id": "JZ5B-89nvZoN",
        "outputId": "ad2e9905-6630-4be1-85c1-77cb03d7ca1f"
      },
      "source": [
        "num_classes = 10\n",
        "\n",
        "train_labels = tf.keras.utils.to_categorical(train_labels, num_classes)\n",
        "test_labels = tf.keras.utils.to_categorical(test_labels, num_classes)\n",
        "train_labels[0]"
      ],
      "execution_count": null,
      "outputs": [
        {
          "output_type": "execute_result",
          "data": {
            "text/plain": [
              "array([0., 0., 0., 0., 0., 0., 1., 0., 0., 0.], dtype=float32)"
            ]
          },
          "metadata": {
            "tags": []
          },
          "execution_count": 8
        }
      ]
    },
    {
      "cell_type": "code",
      "metadata": {
        "id": "0Ji1NbIW2C15"
      },
      "source": [
        "def get_generator(features, labels, batch_size = 1):\n",
        "  for n in range(features.shape[0]//batch_size):\n",
        "    yield (features[n*batch_size: (n+1)*batch_size], labels[n*batch_size: (n+1)*batch_size])"
      ],
      "execution_count": null,
      "outputs": []
    },
    {
      "cell_type": "code",
      "metadata": {
        "id": "QM-Vb_hIROFK"
      },
      "source": [
        "def get_cyclic_generator(features, labels, batch_size = 1):\n",
        "  while True:\n",
        "    for n in range(features.shape[0]//batch_size):\n",
        "      yield (features[n*batch_size: (n+1)*batch_size], labels[n*batch_size: (n+1)*batch_size])\n",
        "    permuted = np.random.permutation(len(features))\n",
        "    features = features[permuted]\n",
        "    labels = labels[permuted]"
      ],
      "execution_count": null,
      "outputs": []
    },
    {
      "cell_type": "code",
      "metadata": {
        "id": "FQuF7P583PpC"
      },
      "source": [
        "train_batch_size = 100\n",
        "# train_generator = get_generator(train_images, train_labels, batch_size = train_batch_size)\n",
        "train_cyclic_generator = get_cyclic_generator(train_images, train_labels, batch_size = train_batch_size)"
      ],
      "execution_count": null,
      "outputs": []
    },
    {
      "cell_type": "code",
      "metadata": {
        "id": "11FdMpir3fjU"
      },
      "source": [
        "images, labels = next(train_generator)"
      ],
      "execution_count": null,
      "outputs": []
    },
    {
      "cell_type": "code",
      "metadata": {
        "colab": {
          "base_uri": "https://localhost:8080/",
          "height": 283
        },
        "id": "Zab1B6qc4ji8",
        "outputId": "c0444c31-76c4-438d-f0a6-c39a6d9313c7"
      },
      "source": [
        "images, labels = next(train_generator)\n",
        "image_unbatched = images[0,:,:,:]\n",
        "plt.imshow(image_unbatched)"
      ],
      "execution_count": null,
      "outputs": [
        {
          "output_type": "execute_result",
          "data": {
            "text/plain": [
              "<matplotlib.image.AxesImage at 0x7f7aa409a390>"
            ]
          },
          "metadata": {
            "tags": []
          },
          "execution_count": 16
        },
        {
          "output_type": "display_data",
          "data": {
            "image/png": "[encoded data removed]",
            "text/plain": [
              "<Figure size 432x288 with 1 Axes>"
            ]
          },
          "metadata": {
            "tags": [],
            "needs_background": "light"
          }
        }
      ]
    },
    {
      "cell_type": "markdown",
      "metadata": {
        "id": "5v7VQHOyyWt-"
      },
      "source": [
        "## Data Augmentation"
      ]
    },
    {
      "cell_type": "code",
      "metadata": {
        "id": "QvYzXKh5yVSd"
      },
      "source": [
        "from tensorflow.keras.preprocessing.image import ImageDataGenerator"
      ],
      "execution_count": null,
      "outputs": []
    },
    {
      "cell_type": "code",
      "metadata": {
        "id": "yh2XJnQtybch"
      },
      "source": [
        "def func_monochrome(x):\n",
        "  def func_bw(a):\n",
        "    average_pixel = np.mean(a)\n",
        "    return [average_pixel, average_pixel, average_pixel]\n",
        "  x = np.apply_along_axis(func_bw, -1, x)\n",
        "  return x"
      ],
      "execution_count": null,
      "outputs": []
    },
    {
      "cell_type": "code",
      "metadata": {
        "id": "dq7wecZwybeP"
      },
      "source": [
        "data_generator = ImageDataGenerator(\n",
        "    preprocessing_function = func_monochrome,\n",
        "    rotation_range = 180,\n",
        "    rescale = (1/255.0),\n",
        "    horizontal_flip = False,\n",
        "    vertical_flip = False,\n",
        ")\n",
        "\n",
        "data_generator.fit(train_images)"
      ],
      "execution_count": null,
      "outputs": []
    },
    {
      "cell_type": "code",
      "metadata": {
        "id": "PV0xHi8JybhC"
      },
      "source": [
        "data_generator_iterable = data_generator.flow(train_images, train_labels, batch_size = 10, shuffle = False)"
      ],
      "execution_count": null,
      "outputs": []
    },
    {
      "cell_type": "code",
      "metadata": {
        "id": "WhDrD2szuCLz"
      },
      "source": [
        "# def get_sequential_model():\n",
        "\n",
        "#   model = tf.keras.Sequential()\n",
        "#   model.add(Input((32,32,3)))\n",
        "#   # model.add(Conv2D(16, (16, 16), padding='same', activation='relu'))\n",
        "#   # model.add(MaxPooling2D((8,8)))\n",
        "#   model.add(Conv2D(16, (16, 16), padding='same', activation='relu'))\n",
        "#   model.add(MaxPool2D((8,8)))\n",
        "#   model.add(Conv2D(8, (8, 8), padding='same', activation='relu'))\n",
        "#   model.add(MaxPool2D((4,4)))\n",
        "#   model.add(Conv2D(4, (4, 4), padding='same', activation='relu'))\n",
        "#   model.add(Flatten())\n",
        "#   model.add(Dense(200, activation='relu'))\n",
        "#   model.add(Dense(100, activation='relu'))\n",
        "#   model.add(Dense(100, activation='softmax'))\n",
        "\n",
        "#   return model\n",
        "\n",
        "def get_sequential_model():\n",
        "\n",
        "  model = tf.keras.Sequential()\n",
        "  model.add(Input((32,32,3)))\n",
        "  model.add(Conv2D(8, (8, 8), padding='same', activation='relu'))\n",
        "  model.add(MaxPool2D((4,4)))\n",
        "  model.add(Conv2D(8, (8, 8), padding='same', activation='relu'))\n",
        "  model.add(MaxPool2D((2,2)))\n",
        "  model.add(Conv2D(4, (4, 4), padding='same', activation='relu'))\n",
        "  model.add(Flatten())\n",
        "  model.add(Dense(16, activation='relu'))\n",
        "  model.add(Dense(8, activation='relu'))\n",
        "  model.add(Dense(10, activation='softmax'))\n",
        "\n",
        "  return model\n",
        "\n",
        "\n",
        "# def get_sequential_model():\n",
        "\n",
        "#   model = tf.keras.Sequential()\n",
        "#   model.add(Input((32, 32, 3)))\n",
        "#   model.add(Conv2D(8, (8, 8), padding='same', activation='relu',))\n",
        "#   model.add(MaxPool2D((4,4)))\n",
        "#   # model.add(Conv2D(8, (8, 8), padding='same', activation='relu'))\n",
        "#   # model.add(MaxPool2D((2,2)))\n",
        "#   model.add(Conv2D(4, (4, 4), padding='same', activation='relu'))\n",
        "#   model.add(Flatten())\n",
        "#   # model.add(Dense(400, activation='relu'))\n",
        "#   model.add(Dense(200, activation='relu'))\n",
        "#   model.add(Dense(100, activation='softmax'))\n",
        "\n",
        "#   return model;"
      ],
      "execution_count": null,
      "outputs": []
    },
    {
      "cell_type": "code",
      "metadata": {
        "id": "DL44dHVQ33fJ"
      },
      "source": [
        ""
      ],
      "execution_count": null,
      "outputs": []
    },
    {
      "cell_type": "code",
      "metadata": {
        "colab": {
          "base_uri": "https://localhost:8080/"
        },
        "id": "PJqCtvE_uM_X",
        "outputId": "084da139-8b39-424a-df31-8a7d2d848300"
      },
      "source": [
        "model = get_sequential_model()\n",
        "# model.compile(optimizer = 'adam', loss = 'binary_crossentropy', metrics = ['acc', 'val_acc'])\n",
        "# model.summary()"
      ],
      "execution_count": null,
      "outputs": [
        {
          "output_type": "stream",
          "text": [
            "WARNING:tensorflow:Please add `keras.layers.InputLayer` instead of `keras.Input` to Sequential model. `keras.Input` is intended to be used by Functional model.\n"
          ],
          "name": "stdout"
        }
      ]
    },
    {
      "cell_type": "code",
      "metadata": {
        "id": "7-Zbkh2M_IHC"
      },
      "source": [
        "optimizer = tf.keras.optimizers.Adam(1e-3)\n",
        "# loss_fn = tf.keras.losses.SparseCategoricalCrossentropy(from_logits=True)\n",
        "model.compile(optimizer = optimizer, loss = 'categorical_crossentropy', metrics = ['accuracy'])"
      ],
      "execution_count": null,
      "outputs": []
    },
    {
      "cell_type": "code",
      "metadata": {
        "colab": {
          "base_uri": "https://localhost:8080/"
        },
        "id": "diS2_G_jHZIn",
        "outputId": "98b4732f-30bf-447b-95eb-2a755b3a851a"
      },
      "source": [
        "train_labels[0]"
      ],
      "execution_count": null,
      "outputs": [
        {
          "output_type": "execute_result",
          "data": {
            "text/plain": [
              "array([0., 0., 0., 0., 0., 0., 1., 0., 0., 0.], dtype=float32)"
            ]
          },
          "metadata": {
            "tags": []
          },
          "execution_count": 24
        }
      ]
    },
    {
      "cell_type": "code",
      "metadata": {
        "id": "PsGfNVnl4L06"
      },
      "source": [
        "# train_steps_per_epoch = data_generator_iterable.n // data_generator_iterable.batch_size\n",
        "\n",
        "\n",
        "# val_steps = val_generator.n // val_generator.batch_size\n",
        "# print('Train Steps per Epoch: ', train_steps_per_epoch, '\\n', 'Validation Steps', val_steps)"
      ],
      "execution_count": null,
      "outputs": []
    },
    {
      "cell_type": "code",
      "metadata": {
        "colab": {
          "base_uri": "https://localhost:8080/"
        },
        "id": "6k9cD0pi_jEK",
        "outputId": "e0ae3acd-51f7-4ed4-c90c-507a38763541"
      },
      "source": [
        "# train_steps_per_epoch = len(train_images) // train_batch_size\n",
        "# print(train_steps_per_epoch)\n",
        "\n",
        "# history = model.fit_generator(train_generator, steps_per_epoch=train_steps_per_epoch)\n",
        "history = model.fit(train_cyclic_generator, steps_per_epoch=50, epochs = 100)\n",
        "\n",
        "# history = model.fit(train_images, train_labels, epochs = 10)\n"
      ],
      "execution_count": null,
      "outputs": [
        {
          "output_type": "stream",
          "text": [
            "Epoch 1/100\n",
            "50/50 [==============================] - 1s 7ms/step - loss: 1.3768 - accuracy: 0.5072\n",
            "Epoch 2/100\n",
            "50/50 [==============================] - 0s 6ms/step - loss: 1.3764 - accuracy: 0.4972\n",
            "Epoch 3/100\n",
            "50/50 [==============================] - 0s 6ms/step - loss: 1.3924 - accuracy: 0.5036\n",
            "Epoch 4/100\n",
            "50/50 [==============================] - 0s 6ms/step - loss: 1.3831 - accuracy: 0.4932\n",
            "Epoch 5/100\n",
            "50/50 [==============================] - 0s 6ms/step - loss: 1.3456 - accuracy: 0.5168\n",
            "Epoch 6/100\n",
            "50/50 [==============================] - 0s 5ms/step - loss: 1.3839 - accuracy: 0.5026\n",
            "Epoch 7/100\n",
            "50/50 [==============================] - 0s 7ms/step - loss: 1.3992 - accuracy: 0.4966\n",
            "Epoch 8/100\n",
            "50/50 [==============================] - 0s 6ms/step - loss: 1.3712 - accuracy: 0.5092\n",
            "Epoch 9/100\n",
            "50/50 [==============================] - 0s 5ms/step - loss: 1.3810 - accuracy: 0.4976\n",
            "Epoch 10/100\n",
            "50/50 [==============================] - 0s 7ms/step - loss: 1.3297 - accuracy: 0.5184\n",
            "Epoch 11/100\n",
            "50/50 [==============================] - 1s 7ms/step - loss: 1.3365 - accuracy: 0.5094\n",
            "Epoch 12/100\n",
            "50/50 [==============================] - 0s 7ms/step - loss: 1.3546 - accuracy: 0.5108\n",
            "Epoch 13/100\n",
            "50/50 [==============================] - 0s 7ms/step - loss: 1.3524 - accuracy: 0.5086\n",
            "Epoch 14/100\n",
            "50/50 [==============================] - 0s 7ms/step - loss: 1.3131 - accuracy: 0.5212\n",
            "Epoch 15/100\n",
            "50/50 [==============================] - 0s 6ms/step - loss: 1.3248 - accuracy: 0.5202\n",
            "Epoch 16/100\n",
            "50/50 [==============================] - 0s 6ms/step - loss: 1.3282 - accuracy: 0.5184\n",
            "Epoch 17/100\n",
            "50/50 [==============================] - 0s 6ms/step - loss: 1.3363 - accuracy: 0.5136\n",
            "Epoch 18/100\n",
            "50/50 [==============================] - 0s 6ms/step - loss: 1.3361 - accuracy: 0.5250\n",
            "Epoch 19/100\n",
            "50/50 [==============================] - 0s 6ms/step - loss: 1.3349 - accuracy: 0.5184\n",
            "Epoch 20/100\n",
            "50/50 [==============================] - 0s 6ms/step - loss: 1.3484 - accuracy: 0.5024\n",
            "Epoch 21/100\n",
            "50/50 [==============================] - 1s 6ms/step - loss: 1.2881 - accuracy: 0.5358\n",
            "Epoch 22/100\n",
            "50/50 [==============================] - 0s 6ms/step - loss: 1.3180 - accuracy: 0.5246\n",
            "Epoch 23/100\n",
            "50/50 [==============================] - 0s 5ms/step - loss: 1.3078 - accuracy: 0.5298\n",
            "Epoch 24/100\n",
            "50/50 [==============================] - 0s 6ms/step - loss: 1.3244 - accuracy: 0.5232\n",
            "Epoch 25/100\n",
            "50/50 [==============================] - 0s 6ms/step - loss: 1.3060 - accuracy: 0.5266\n",
            "Epoch 26/100\n",
            "50/50 [==============================] - 0s 5ms/step - loss: 1.2928 - accuracy: 0.5290\n",
            "Epoch 27/100\n",
            "50/50 [==============================] - 0s 5ms/step - loss: 1.3022 - accuracy: 0.5360\n",
            "Epoch 28/100\n",
            "50/50 [==============================] - 0s 5ms/step - loss: 1.2936 - accuracy: 0.5328\n",
            "Epoch 29/100\n",
            "50/50 [==============================] - 0s 5ms/step - loss: 1.3026 - accuracy: 0.5314\n",
            "Epoch 30/100\n",
            "50/50 [==============================] - 0s 5ms/step - loss: 1.3271 - accuracy: 0.5298\n",
            "Epoch 31/100\n",
            "50/50 [==============================] - 1s 5ms/step - loss: 1.2922 - accuracy: 0.5334\n",
            "Epoch 32/100\n",
            "50/50 [==============================] - 0s 5ms/step - loss: 1.3111 - accuracy: 0.5196\n",
            "Epoch 33/100\n",
            "50/50 [==============================] - 0s 5ms/step - loss: 1.3009 - accuracy: 0.5320\n",
            "Epoch 34/100\n",
            "50/50 [==============================] - 0s 5ms/step - loss: 1.3029 - accuracy: 0.5372\n",
            "Epoch 35/100\n",
            "50/50 [==============================] - 0s 5ms/step - loss: 1.2743 - accuracy: 0.5462\n",
            "Epoch 36/100\n",
            "50/50 [==============================] - 0s 5ms/step - loss: 1.2523 - accuracy: 0.5478\n",
            "Epoch 37/100\n",
            "50/50 [==============================] - 0s 5ms/step - loss: 1.2529 - accuracy: 0.5526\n",
            "Epoch 38/100\n",
            "50/50 [==============================] - 0s 5ms/step - loss: 1.2657 - accuracy: 0.5480\n",
            "Epoch 39/100\n",
            "50/50 [==============================] - 0s 6ms/step - loss: 1.2910 - accuracy: 0.5312\n",
            "Epoch 40/100\n",
            "50/50 [==============================] - 0s 5ms/step - loss: 1.2767 - accuracy: 0.5412\n",
            "Epoch 41/100\n",
            "50/50 [==============================] - 1s 5ms/step - loss: 1.2555 - accuracy: 0.5464\n",
            "Epoch 42/100\n",
            "50/50 [==============================] - 0s 5ms/step - loss: 1.2306 - accuracy: 0.5554\n",
            "Epoch 43/100\n",
            "50/50 [==============================] - 0s 5ms/step - loss: 1.2534 - accuracy: 0.5436\n",
            "Epoch 44/100\n",
            "50/50 [==============================] - 0s 5ms/step - loss: 1.2582 - accuracy: 0.5534\n",
            "Epoch 45/100\n",
            "50/50 [==============================] - 0s 5ms/step - loss: 1.2400 - accuracy: 0.5534\n",
            "Epoch 46/100\n",
            "50/50 [==============================] - 0s 5ms/step - loss: 1.2473 - accuracy: 0.5582\n",
            "Epoch 47/100\n",
            "50/50 [==============================] - 0s 5ms/step - loss: 1.2643 - accuracy: 0.5474\n",
            "Epoch 48/100\n",
            "50/50 [==============================] - 0s 5ms/step - loss: 1.2485 - accuracy: 0.5444\n",
            "Epoch 49/100\n",
            "50/50 [==============================] - 0s 5ms/step - loss: 1.2701 - accuracy: 0.5522\n",
            "Epoch 50/100\n",
            "50/50 [==============================] - 0s 5ms/step - loss: 1.2786 - accuracy: 0.5504\n",
            "Epoch 51/100\n",
            "50/50 [==============================] - 1s 5ms/step - loss: 1.2457 - accuracy: 0.5452\n",
            "Epoch 52/100\n",
            "50/50 [==============================] - 0s 5ms/step - loss: 1.2564 - accuracy: 0.5458\n",
            "Epoch 53/100\n",
            "50/50 [==============================] - 0s 5ms/step - loss: 1.2510 - accuracy: 0.5528\n",
            "Epoch 54/100\n",
            "50/50 [==============================] - 0s 5ms/step - loss: 1.2415 - accuracy: 0.5508\n",
            "Epoch 55/100\n",
            "50/50 [==============================] - 0s 5ms/step - loss: 1.2432 - accuracy: 0.5550\n",
            "Epoch 56/100\n",
            "50/50 [==============================] - 0s 5ms/step - loss: 1.2135 - accuracy: 0.5706\n",
            "Epoch 57/100\n",
            "50/50 [==============================] - 0s 5ms/step - loss: 1.2254 - accuracy: 0.5608\n",
            "Epoch 58/100\n",
            "50/50 [==============================] - 0s 5ms/step - loss: 1.2272 - accuracy: 0.5660\n",
            "Epoch 59/100\n",
            "50/50 [==============================] - 0s 5ms/step - loss: 1.2047 - accuracy: 0.5630\n",
            "Epoch 60/100\n",
            "50/50 [==============================] - 0s 5ms/step - loss: 1.2148 - accuracy: 0.5658\n",
            "Epoch 61/100\n",
            "50/50 [==============================] - 1s 5ms/step - loss: 1.2321 - accuracy: 0.5594\n",
            "Epoch 62/100\n",
            "50/50 [==============================] - 0s 5ms/step - loss: 1.2511 - accuracy: 0.5524\n",
            "Epoch 63/100\n",
            "50/50 [==============================] - 0s 5ms/step - loss: 1.2197 - accuracy: 0.5718\n",
            "Epoch 64/100\n",
            "50/50 [==============================] - 0s 5ms/step - loss: 1.1954 - accuracy: 0.5726\n",
            "Epoch 65/100\n",
            "50/50 [==============================] - 0s 5ms/step - loss: 1.2230 - accuracy: 0.5662\n",
            "Epoch 66/100\n",
            "50/50 [==============================] - 0s 5ms/step - loss: 1.2065 - accuracy: 0.5690\n",
            "Epoch 67/100\n",
            "50/50 [==============================] - 0s 5ms/step - loss: 1.1899 - accuracy: 0.5720\n",
            "Epoch 68/100\n",
            "50/50 [==============================] - 0s 5ms/step - loss: 1.2268 - accuracy: 0.5640\n",
            "Epoch 69/100\n",
            "50/50 [==============================] - 0s 5ms/step - loss: 1.2006 - accuracy: 0.5648\n",
            "Epoch 70/100\n",
            "50/50 [==============================] - 0s 5ms/step - loss: 1.1870 - accuracy: 0.5790\n",
            "Epoch 71/100\n",
            "50/50 [==============================] - 1s 5ms/step - loss: 1.1941 - accuracy: 0.5780\n",
            "Epoch 72/100\n",
            "50/50 [==============================] - 0s 5ms/step - loss: 1.2110 - accuracy: 0.5696\n",
            "Epoch 73/100\n",
            "50/50 [==============================] - 0s 5ms/step - loss: 1.2168 - accuracy: 0.5628\n",
            "Epoch 74/100\n",
            "50/50 [==============================] - 0s 5ms/step - loss: 1.1762 - accuracy: 0.5814\n",
            "Epoch 75/100\n",
            "50/50 [==============================] - 0s 5ms/step - loss: 1.1785 - accuracy: 0.5774\n",
            "Epoch 76/100\n",
            "50/50 [==============================] - 0s 5ms/step - loss: 1.1968 - accuracy: 0.5652\n",
            "Epoch 77/100\n",
            "50/50 [==============================] - 0s 5ms/step - loss: 1.2110 - accuracy: 0.5668\n",
            "Epoch 78/100\n",
            "50/50 [==============================] - 0s 5ms/step - loss: 1.2178 - accuracy: 0.5708\n",
            "Epoch 79/100\n",
            "50/50 [==============================] - 0s 5ms/step - loss: 1.1946 - accuracy: 0.5764\n",
            "Epoch 80/100\n",
            "50/50 [==============================] - 0s 6ms/step - loss: 1.2039 - accuracy: 0.5668\n",
            "Epoch 81/100\n",
            "50/50 [==============================] - 1s 5ms/step - loss: 1.1786 - accuracy: 0.5746\n",
            "Epoch 82/100\n",
            "50/50 [==============================] - 0s 5ms/step - loss: 1.1739 - accuracy: 0.5848\n",
            "Epoch 83/100\n",
            "50/50 [==============================] - 0s 5ms/step - loss: 1.1678 - accuracy: 0.5822\n",
            "Epoch 84/100\n",
            "50/50 [==============================] - 0s 5ms/step - loss: 1.2075 - accuracy: 0.5676\n",
            "Epoch 85/100\n",
            "50/50 [==============================] - 0s 6ms/step - loss: 1.1901 - accuracy: 0.5776\n",
            "Epoch 86/100\n",
            "50/50 [==============================] - 0s 5ms/step - loss: 1.1751 - accuracy: 0.5776\n",
            "Epoch 87/100\n",
            "50/50 [==============================] - 0s 5ms/step - loss: 1.1719 - accuracy: 0.5882\n",
            "Epoch 88/100\n",
            "50/50 [==============================] - 0s 5ms/step - loss: 1.1866 - accuracy: 0.5834\n",
            "Epoch 89/100\n",
            "50/50 [==============================] - 0s 5ms/step - loss: 1.1896 - accuracy: 0.5748\n",
            "Epoch 90/100\n",
            "50/50 [==============================] - 0s 5ms/step - loss: 1.1742 - accuracy: 0.5830\n",
            "Epoch 91/100\n",
            "50/50 [==============================] - 1s 5ms/step - loss: 1.1536 - accuracy: 0.5886\n",
            "Epoch 92/100\n",
            "50/50 [==============================] - 0s 5ms/step - loss: 1.1352 - accuracy: 0.5976\n",
            "Epoch 93/100\n",
            "50/50 [==============================] - 0s 5ms/step - loss: 1.2227 - accuracy: 0.5602\n",
            "Epoch 94/100\n",
            "50/50 [==============================] - 0s 5ms/step - loss: 1.1778 - accuracy: 0.5794\n",
            "Epoch 95/100\n",
            "50/50 [==============================] - 0s 5ms/step - loss: 1.1817 - accuracy: 0.5852\n",
            "Epoch 96/100\n",
            "50/50 [==============================] - 0s 5ms/step - loss: 1.1612 - accuracy: 0.5860\n",
            "Epoch 97/100\n",
            "50/50 [==============================] - 0s 5ms/step - loss: 1.1763 - accuracy: 0.5922\n",
            "Epoch 98/100\n",
            "50/50 [==============================] - 0s 5ms/step - loss: 1.1821 - accuracy: 0.5744\n",
            "Epoch 99/100\n",
            "50/50 [==============================] - 0s 5ms/step - loss: 1.1766 - accuracy: 0.5778\n",
            "Epoch 100/100\n",
            "50/50 [==============================] - 0s 5ms/step - loss: 1.1513 - accuracy: 0.5884\n"
          ],
          "name": "stdout"
        }
      ]
    },
    {
      "cell_type": "code",
      "metadata": {
        "id": "T4d3ZLwtQ35z",
        "colab": {
          "base_uri": "https://localhost:8080/"
        },
        "outputId": "14b6fc33-12e9-425c-b58e-63c3f959a311"
      },
      "source": [
        "y_0 = model.predict(train_images[0][np.newaxis, ...])\n",
        "print(np.squeeze(y_0, axis = 0))\n",
        "# print('\\n')\n",
        "print(train_labels[0])"
      ],
      "execution_count": null,
      "outputs": [
        {
          "output_type": "stream",
          "text": [
            "[5.6810229e-04 1.8113811e-04 2.3642277e-02 7.4524775e-02 1.1384487e-01\n",
            " 4.9594518e-02 7.2048819e-01 1.6306203e-02 5.8610698e-05 7.9135009e-04]\n",
            "[0. 0. 0. 0. 0. 0. 1. 0. 0. 0.]\n"
          ],
          "name": "stdout"
        }
      ]
    },
    {
      "cell_type": "code",
      "metadata": {
        "id": "Pf3hR5VoScRn"
      },
      "source": [
        ""
      ],
      "execution_count": null,
      "outputs": []
    }
  ]
}