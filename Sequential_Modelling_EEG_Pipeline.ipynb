{
  "nbformat": 4,
  "nbformat_minor": 0,
  "metadata": {
    "colab": {
      "name": "Sequential Modelling EEG Pipeline.ipynb",
      "provenance": [],
      "collapsed_sections": [],
      "mount_file_id": "1FC82PQQzTDPYR_tKWG1slVvwt-LMb8o5",
      "authorship_tag": "ABX9TyNEprfRXxOeNL9wEVl0gfoh",
      "include_colab_link": true
    },
    "kernelspec": {
      "name": "python3",
      "display_name": "Python 3"
    },
    "language_info": {
      "name": "python"
    },
    "accelerator": "GPU"
  },
  "cells": [
    {
      "cell_type": "markdown",
      "metadata": {
        "id": "view-in-github",
        "colab_type": "text"
      },
      "source": [
        "<a href=\"https://colab.research.google.com/github/Arush0113/EEG_Pipeline-IITR/blob/main/Sequential_Modelling_EEG_Pipeline.ipynb\" target=\"_parent\"><img src=\"https://colab.research.google.com/assets/colab-badge.svg\" alt=\"Open In Colab\"/></a>"
      ]
    },
    {
      "cell_type": "code",
      "metadata": {
        "colab": {
          "base_uri": "https://localhost:8080/",
          "height": 35
        },
        "id": "8TlqpEv2qGCZ",
        "outputId": "0c9febef-03bd-4c04-89d5-725c069b30b8"
      },
      "source": [
        "import tensorflow as tf\n",
        "tf.__version__"
      ],
      "execution_count": 50,
      "outputs": [
        {
          "output_type": "execute_result",
          "data": {
            "application/vnd.google.colaboratory.intrinsic+json": {
              "type": "string"
            },
            "text/plain": [
              "'2.5.0'"
            ]
          },
          "metadata": {
            "tags": []
          },
          "execution_count": 50
        }
      ]
    },
    {
      "cell_type": "code",
      "metadata": {
        "id": "ZasFC_t_stq6"
      },
      "source": [
        "import numpy as np\n",
        "import matplotlib.pyplot as plt\n",
        "%matplotlib inline\n"
      ],
      "execution_count": 51,
      "outputs": []
    },
    {
      "cell_type": "code",
      "metadata": {
        "id": "W80n8Lamq58C"
      },
      "source": [
        "from tensorflow.keras.datasets import cifar100\n",
        "from tensorflow.keras.preprocessing import image\n",
        "# from sklearn.model_selection import train_test_split"
      ],
      "execution_count": 52,
      "outputs": []
    },
    {
      "cell_type": "code",
      "metadata": {
        "id": "W2mukpeQrKTB"
      },
      "source": [
        "(train_images, train_labels), (test_images, test_labels) = cifar100.load_data(label_mode='coarse')"
      ],
      "execution_count": 53,
      "outputs": []
    },
    {
      "cell_type": "code",
      "metadata": {
        "colab": {
          "base_uri": "https://localhost:8080/",
          "height": 283
        },
        "id": "6S_z-K6ptw8_",
        "outputId": "bc5991f5-164a-44db-bd65-73a283f5240a"
      },
      "source": [
        "plt.imshow(train_images[0])\n",
        "train_images[0].shape"
      ],
      "execution_count": 54,
      "outputs": [
        {
          "output_type": "execute_result",
          "data": {
            "text/plain": [
              "(32, 32, 3)"
            ]
          },
          "metadata": {
            "tags": []
          },
          "execution_count": 54
        },
        {
          "output_type": "display_data",
          "data": {
            "image/png": "[encoded data removed]",
            "text/plain": [
              "<Figure size 432x288 with 1 Axes>"
            ]
          },
          "metadata": {
            "tags": [],
            "needs_background": "light"
          }
        }
      ]
    },
    {
      "cell_type": "code",
      "metadata": {
        "colab": {
          "base_uri": "https://localhost:8080/"
        },
        "id": "gMWKpsAqtw_1",
        "outputId": "d4548e5c-5b5c-4424-de95-e99644671ab6"
      },
      "source": [
        "train_labels[0]"
      ],
      "execution_count": 55,
      "outputs": [
        {
          "output_type": "execute_result",
          "data": {
            "text/plain": [
              "array([11])"
            ]
          },
          "metadata": {
            "tags": []
          },
          "execution_count": 55
        }
      ]
    },
    {
      "cell_type": "code",
      "metadata": {
        "colab": {
          "base_uri": "https://localhost:8080/"
        },
        "id": "MlmSX7SJtx9Q",
        "outputId": "d5a332f5-7063-409b-b1ae-35771f9c4f6e"
      },
      "source": [
        "from google.colab import drive\n",
        "drive.mount('/content/gdrive')"
      ],
      "execution_count": 56,
      "outputs": [
        {
          "output_type": "stream",
          "text": [
            "Drive already mounted at /content/gdrive; to attempt to forcibly remount, call drive.mount(\"/content/gdrive\", force_remount=True).\n"
          ],
          "name": "stdout"
        }
      ]
    },
    {
      "cell_type": "code",
      "metadata": {
        "id": "U26CWThE0oKe"
      },
      "source": [
        "import json\n",
        "\n",
        "with open('/content/gdrive/MyDrive/cifar100_fine_labels.json', 'r') as fine_labels:\n",
        "    cifar100_fine_labels = json.load(fine_labels)"
      ],
      "execution_count": 57,
      "outputs": []
    },
    {
      "cell_type": "code",
      "metadata": {
        "colab": {
          "base_uri": "https://localhost:8080/"
        },
        "id": "wFO8bOTh0qKM",
        "outputId": "3eed88db-165c-46ae-c1e0-a6d835398828"
      },
      "source": [
        "len(cifar100_fine_labels)"
      ],
      "execution_count": 58,
      "outputs": [
        {
          "output_type": "execute_result",
          "data": {
            "text/plain": [
              "100"
            ]
          },
          "metadata": {
            "tags": []
          },
          "execution_count": 58
        }
      ]
    },
    {
      "cell_type": "markdown",
      "metadata": {
        "id": "MleehewHtyQS"
      },
      "source": [
        "# Modelling"
      ]
    },
    {
      "cell_type": "code",
      "metadata": {
        "id": "mgfi2egzt2ux"
      },
      "source": [
        "from tensorflow.keras.models import Sequential \n",
        "from tensorflow.keras.layers import Dense, Conv2D, MaxPool2D, Input, Flatten"
      ],
      "execution_count": 59,
      "outputs": []
    },
    {
      "cell_type": "code",
      "metadata": {
        "colab": {
          "base_uri": "https://localhost:8080/"
        },
        "id": "JZ5B-89nvZoN",
        "outputId": "fdaecd65-d349-4192-cf8a-3cd67fff346a"
      },
      "source": [
        "num_classes = 100\n",
        "\n",
        "train_labels = tf.keras.utils.to_categorical(train_labels, num_classes)\n",
        "test_labels = tf.keras.utils.to_categorical(test_labels, num_classes)\n",
        "train_labels[0]"
      ],
      "execution_count": 60,
      "outputs": [
        {
          "output_type": "execute_result",
          "data": {
            "text/plain": [
              "array([0., 0., 0., 0., 0., 0., 0., 0., 0., 0., 0., 1., 0., 0., 0., 0., 0.,\n",
              "       0., 0., 0., 0., 0., 0., 0., 0., 0., 0., 0., 0., 0., 0., 0., 0., 0.,\n",
              "       0., 0., 0., 0., 0., 0., 0., 0., 0., 0., 0., 0., 0., 0., 0., 0., 0.,\n",
              "       0., 0., 0., 0., 0., 0., 0., 0., 0., 0., 0., 0., 0., 0., 0., 0., 0.,\n",
              "       0., 0., 0., 0., 0., 0., 0., 0., 0., 0., 0., 0., 0., 0., 0., 0., 0.,\n",
              "       0., 0., 0., 0., 0., 0., 0., 0., 0., 0., 0., 0., 0., 0., 0.],\n",
              "      dtype=float32)"
            ]
          },
          "metadata": {
            "tags": []
          },
          "execution_count": 60
        }
      ]
    },
    {
      "cell_type": "code",
      "metadata": {
        "id": "0Ji1NbIW2C15"
      },
      "source": [
        "def get_generator(features, labels, batch_size = 1):\n",
        "  for n in range(features.shape[0]//batch_size):\n",
        "    yield (features[n*batch_size: (n+1)*batch_size], labels[n*batch_size: (n+1)*batch_size])"
      ],
      "execution_count": 61,
      "outputs": []
    },
    {
      "cell_type": "code",
      "metadata": {
        "id": "QM-Vb_hIROFK"
      },
      "source": [
        "def get_cyclic_generator(features, labels, batch_size = 1):\n",
        "  while True:\n",
        "    for n in range(features.shape[0]//batch_size):\n",
        "      yield (features[n*batch_size: (n+1)*batch_size], labels[n*batch_size: (n+1)*batch_size])\n",
        "    permuted = np.random.permutation(len(features))\n",
        "    features = features[permuted]\n",
        "    labels = labels[permuted]"
      ],
      "execution_count": 62,
      "outputs": []
    },
    {
      "cell_type": "code",
      "metadata": {
        "id": "FQuF7P583PpC"
      },
      "source": [
        "train_batch_size = 10\n",
        "train_generator = get_generator(train_images, train_labels, batch_size = train_batch_size)\n",
        "train_generator_cyclic = get_cyclic_generator(train_images, train_labels, batch_size = train_batch_size)"
      ],
      "execution_count": 63,
      "outputs": []
    },
    {
      "cell_type": "code",
      "metadata": {
        "id": "11FdMpir3fjU"
      },
      "source": [
        "images, labels = next(train_generator)"
      ],
      "execution_count": 64,
      "outputs": []
    },
    {
      "cell_type": "code",
      "metadata": {
        "colab": {
          "base_uri": "https://localhost:8080/",
          "height": 283
        },
        "id": "Zab1B6qc4ji8",
        "outputId": "eb3e1e80-3131-475e-ea5a-91786dd0c176"
      },
      "source": [
        "images, labels = next(train_generator)\n",
        "image_unbatched = images[0,:,:,:]\n",
        "plt.imshow(image_unbatched)"
      ],
      "execution_count": 65,
      "outputs": [
        {
          "output_type": "execute_result",
          "data": {
            "text/plain": [
              "<matplotlib.image.AxesImage at 0x7f12fa150410>"
            ]
          },
          "metadata": {
            "tags": []
          },
          "execution_count": 65
        },
        {
          "output_type": "display_data",
          "data": {
            "image/png": "[encoded data removed]",
            "text/plain": [
              "<Figure size 432x288 with 1 Axes>"
            ]
          },
          "metadata": {
            "tags": [],
            "needs_background": "light"
          }
        }
      ]
    },
    {
      "cell_type": "markdown",
      "metadata": {
        "id": "5v7VQHOyyWt-"
      },
      "source": [
        "## Data Augmentation"
      ]
    },
    {
      "cell_type": "code",
      "metadata": {
        "id": "QvYzXKh5yVSd"
      },
      "source": [
        "from tensorflow.keras.preprocessing.image import ImageDataGenerator"
      ],
      "execution_count": 66,
      "outputs": []
    },
    {
      "cell_type": "code",
      "metadata": {
        "id": "yh2XJnQtybch"
      },
      "source": [
        "def func_monochrome(x):\n",
        "  def func_bw(a):\n",
        "    average_pixel = np.mean(a)\n",
        "    return [average_pixel, average_pixel, average_pixel]\n",
        "  x = np.apply_along_axis(func_bw, -1, x)\n",
        "  return x"
      ],
      "execution_count": 67,
      "outputs": []
    },
    {
      "cell_type": "code",
      "metadata": {
        "id": "dq7wecZwybeP"
      },
      "source": [
        "data_generator = ImageDataGenerator(\n",
        "    preprocessing_function = func_monochrome,\n",
        "    rotation_range = 180,\n",
        "    rescale = (1/255.0),\n",
        "    horizontal_flip = False,\n",
        "    vertical_flip = False,\n",
        ")\n",
        "\n",
        "data_generator.fit(train_images)"
      ],
      "execution_count": 68,
      "outputs": []
    },
    {
      "cell_type": "code",
      "metadata": {
        "id": "PV0xHi8JybhC"
      },
      "source": [
        "data_generator_iterable = data_generator.flow(train_images, train_labels, batch_size = 10, shuffle = False)"
      ],
      "execution_count": 69,
      "outputs": []
    },
    {
      "cell_type": "code",
      "metadata": {
        "id": "jROmWjvaybif"
      },
      "source": [
        ""
      ],
      "execution_count": 69,
      "outputs": []
    },
    {
      "cell_type": "code",
      "metadata": {
        "id": "hnfCGSmmybmN"
      },
      "source": [
        ""
      ],
      "execution_count": 69,
      "outputs": []
    },
    {
      "cell_type": "code",
      "metadata": {
        "id": "WhDrD2szuCLz"
      },
      "source": [
        "# def get_sequential_model():\n",
        "\n",
        "#   model = tf.keras.Sequential()\n",
        "#   model.add(Input((32, 32, 3)))\n",
        "#   model.add(Conv2D(16, (16, 16), padding='same', activation='relu',))\n",
        "#   model.add(MaxPool2D((16,16)))\n",
        "#   model.add(Conv2D(16, (16, 16), padding='same', activation='relu',))\n",
        "#   model.add(MaxPool2D((8,8)))\n",
        "#   model.add(Conv2D(8, (8, 8), padding='same', activation='relu'))\n",
        "#   model.add(MaxPool2D((4,4)))\n",
        "#   model.add(Conv2D(4, (4, 4), padding='same', activation='relu'))\n",
        "#   model.add(Flatten())\n",
        "#   model.add(Dense(16, activation='relu'))\n",
        "#   model.add(Dense(8, activation='relu'))\n",
        "#   model.add(Dense(100, activation='softmax'))\n",
        "\n",
        "#   return model;\n",
        "\n",
        "\n",
        "def get_sequential_model():\n",
        "\n",
        "  model = tf.keras.Sequential()\n",
        "  model.add(Input((32,32,3)))\n",
        "  # model.add(Conv2D(16, (16, 16), padding='same', activation='relu'))\n",
        "  # model.add(MaxPooling2D((8,8)))\n",
        "  model.add(Conv2D(8, (8, 8), padding='same', activation='relu'))\n",
        "  model.add(MaxPool2D((4,4)))\n",
        "  model.add(Conv2D(8, (8, 8), padding='same', activation='relu'))\n",
        "  model.add(MaxPool2D((2,2)))\n",
        "  model.add(Conv2D(4, (4, 4), padding='same', activation='relu'))\n",
        "  model.add(Flatten())\n",
        "  model.add(Dense(16, activation='relu'))\n",
        "  model.add(Dense(8, activation='relu'))\n",
        "  model.add(Dense(100, activation='softmax'))\n",
        "\n",
        "  return model\n",
        "\n",
        "\n",
        "# def get_sequential_model():\n",
        "\n",
        "#   model = tf.keras.Sequential()\n",
        "#   model.add(Input((32, 32, 3)))\n",
        "#   model.add(Conv2D(8, (8, 8), padding='same', activation='relu',))\n",
        "#   model.add(MaxPool2D((4,4)))\n",
        "#   # model.add(Conv2D(8, (8, 8), padding='same', activation='relu'))\n",
        "#   # model.add(MaxPool2D((2,2)))\n",
        "#   model.add(Conv2D(4, (4, 4), padding='same', activation='relu'))\n",
        "#   model.add(Flatten())\n",
        "#   # model.add(Dense(400, activation='relu'))\n",
        "#   model.add(Dense(200, activation='relu'))\n",
        "#   model.add(Dense(100, activation='softmax'))\n",
        "\n",
        "#   return model;"
      ],
      "execution_count": 70,
      "outputs": []
    },
    {
      "cell_type": "code",
      "metadata": {
        "colab": {
          "base_uri": "https://localhost:8080/"
        },
        "id": "PJqCtvE_uM_X",
        "outputId": "520850f9-69b4-4db4-e4a0-90c051730900"
      },
      "source": [
        "model = get_sequential_model()\n",
        "# model.compile(optimizer = 'adam', loss = 'binary_crossentropy', metrics = ['acc', 'val_acc'])\n",
        "# model.summary()"
      ],
      "execution_count": 71,
      "outputs": [
        {
          "output_type": "stream",
          "text": [
            "WARNING:tensorflow:Please add `keras.layers.InputLayer` instead of `keras.Input` to Sequential model. `keras.Input` is intended to be used by Functional model.\n"
          ],
          "name": "stdout"
        }
      ]
    },
    {
      "cell_type": "code",
      "metadata": {
        "id": "7-Zbkh2M_IHC"
      },
      "source": [
        "optimizer = tf.keras.optimizers.Adam(1e-3)\n",
        "model.compile(optimizer = optimizer, loss = 'categorical_crossentropy', metrics = ['acc'])"
      ],
      "execution_count": 72,
      "outputs": []
    },
    {
      "cell_type": "code",
      "metadata": {
        "colab": {
          "base_uri": "https://localhost:8080/"
        },
        "id": "diS2_G_jHZIn",
        "outputId": "64aac55e-62be-42cf-da5d-8558b81b5ea4"
      },
      "source": [
        "train_labels[0]"
      ],
      "execution_count": 73,
      "outputs": [
        {
          "output_type": "execute_result",
          "data": {
            "text/plain": [
              "array([0., 0., 0., 0., 0., 0., 0., 0., 0., 0., 0., 1., 0., 0., 0., 0., 0.,\n",
              "       0., 0., 0., 0., 0., 0., 0., 0., 0., 0., 0., 0., 0., 0., 0., 0., 0.,\n",
              "       0., 0., 0., 0., 0., 0., 0., 0., 0., 0., 0., 0., 0., 0., 0., 0., 0.,\n",
              "       0., 0., 0., 0., 0., 0., 0., 0., 0., 0., 0., 0., 0., 0., 0., 0., 0.,\n",
              "       0., 0., 0., 0., 0., 0., 0., 0., 0., 0., 0., 0., 0., 0., 0., 0., 0.,\n",
              "       0., 0., 0., 0., 0., 0., 0., 0., 0., 0., 0., 0., 0., 0., 0.],\n",
              "      dtype=float32)"
            ]
          },
          "metadata": {
            "tags": []
          },
          "execution_count": 73
        }
      ]
    },
    {
      "cell_type": "code",
      "metadata": {
        "id": "PsGfNVnl4L06"
      },
      "source": [
        "train_steps_per_epoch = data_generator_iterable.n // data_generator_iterable.batch_size\n",
        "# val_steps = val_generator.n // val_generator.batch_size\n",
        "# print('Train Steps per Epoch: ', train_steps_per_epoch, '\\n', 'Validation Steps', val_steps)"
      ],
      "execution_count": 74,
      "outputs": []
    },
    {
      "cell_type": "code",
      "metadata": {
        "colab": {
          "base_uri": "https://localhost:8080/"
        },
        "id": "6k9cD0pi_jEK",
        "outputId": "806a6dd5-49af-4ec9-dd7a-0a2d29bb02c6"
      },
      "source": [
        "train_steps_per_epoch = len(train_images) // train_batch_size\n",
        "print(train_steps_per_epoch)\n",
        "\n",
        "# history = model.fit_generator(train_generator, steps_per_epoch=train_steps_per_epoch)\n",
        "history = model.fit(train_generator_cyclic, steps_per_epoch=train_steps_per_epoch, epochs = 10)"
      ],
      "execution_count": 75,
      "outputs": [
        {
          "output_type": "stream",
          "text": [
            "5000\n",
            "Epoch 1/10\n",
            "5000/5000 [==============================] - 19s 4ms/step - loss: 3.0381 - acc: 0.0748\n",
            "Epoch 2/10\n",
            "5000/5000 [==============================] - 19s 4ms/step - loss: 2.6950 - acc: 0.1469\n",
            "Epoch 3/10\n",
            "5000/5000 [==============================] - 18s 4ms/step - loss: 2.5804 - acc: 0.1862\n",
            "Epoch 4/10\n",
            "5000/5000 [==============================] - 18s 4ms/step - loss: 2.5131 - acc: 0.2082\n",
            "Epoch 5/10\n",
            "5000/5000 [==============================] - 18s 4ms/step - loss: 2.4689 - acc: 0.2238\n",
            "Epoch 6/10\n",
            "5000/5000 [==============================] - 18s 4ms/step - loss: 2.4371 - acc: 0.2354\n",
            "Epoch 7/10\n",
            "5000/5000 [==============================] - 19s 4ms/step - loss: 2.4171 - acc: 0.2418\n",
            "Epoch 8/10\n",
            "5000/5000 [==============================] - 18s 4ms/step - loss: 2.3915 - acc: 0.2482\n",
            "Epoch 9/10\n",
            "5000/5000 [==============================] - 19s 4ms/step - loss: 2.3610 - acc: 0.2578\n",
            "Epoch 10/10\n",
            "5000/5000 [==============================] - 18s 4ms/step - loss: 2.3421 - acc: 0.2617\n"
          ],
          "name": "stdout"
        }
      ]
    },
    {
      "cell_type": "code",
      "metadata": {
        "colab": {
          "base_uri": "https://localhost:8080/"
        },
        "id": "T4d3ZLwtQ35z",
        "outputId": "ae812854-92d7-4ad0-acb6-9c0e4f49d082"
      },
      "source": [
        "y_0 = model.predict(images[0][np.newaxis, ...])\n",
        "print(np.squeeze(y_0, axis = 0))\n",
        "# print('\\n')\n",
        "print(labels[0])"
      ],
      "execution_count": 76,
      "outputs": [
        {
          "output_type": "stream",
          "text": [
            "[6.8164960e-02 1.2623374e-01 1.8182486e-02 2.5706235e-02 1.4198886e-02\n",
            " 3.5018619e-02 2.5504537e-02 4.5440037e-02 3.0435685e-02 7.5869061e-02\n",
            " 5.9591237e-02 4.9164973e-02 4.1677717e-02 5.2947570e-02 2.9771807e-02\n",
            " 8.2911447e-02 5.3857241e-02 3.1474724e-02 6.5166555e-02 6.8682484e-02\n",
            " 4.8917046e-17 2.4021391e-16 5.6311975e-17 4.5192246e-16 6.2655411e-17\n",
            " 9.4522141e-14 1.7577106e-16 2.8322691e-16 2.8262266e-15 1.6975725e-16\n",
            " 5.9641141e-16 5.7773989e-16 8.5719263e-16 3.5032708e-18 9.6695620e-17\n",
            " 8.3197080e-16 8.2365621e-16 4.0590970e-16 1.1510913e-16 3.2019465e-16\n",
            " 6.8938873e-16 2.9466222e-16 4.8462021e-16 2.3944541e-16 5.7606492e-17\n",
            " 1.4461236e-16 2.3483560e-16 2.0791873e-16 2.4825069e-16 1.3406843e-16\n",
            " 6.9912630e-17 4.0153899e-16 1.7860967e-15 2.0988946e-16 8.7980253e-17\n",
            " 4.5490958e-16 1.6850567e-15 4.8370965e-16 7.6899779e-17 1.5235236e-16\n",
            " 1.3088632e-16 1.9706915e-16 1.4356747e-16 7.8835246e-16 4.5794963e-16\n",
            " 1.2936489e-16 2.1670164e-16 4.3606768e-16 1.3604314e-16 3.9434524e-16\n",
            " 4.4695059e-16 3.5333106e-16 4.2103565e-16 3.4161344e-16 3.2831968e-16\n",
            " 3.8279910e-16 9.3756055e-16 1.1956495e-16 2.6166431e-17 1.1006482e-16\n",
            " 1.3655514e-18 2.0190341e-16 7.1876172e-17 7.9384140e-17 2.9332875e-16\n",
            " 6.4442447e-16 2.2511243e-16 2.3644914e-16 1.5592188e-16 9.7993063e-17\n",
            " 8.9575682e-16 1.0494453e-15 8.4118397e-16 3.2725060e-16 4.8400310e-16\n",
            " 2.0371529e-16 4.6532803e-16 2.4356708e-16 5.5355281e-16 1.3242664e-16]\n",
            "[0. 0. 0. 0. 0. 1. 0. 0. 0. 0. 0. 0. 0. 0. 0. 0. 0. 0. 0. 0. 0. 0. 0. 0.\n",
            " 0. 0. 0. 0. 0. 0. 0. 0. 0. 0. 0. 0. 0. 0. 0. 0. 0. 0. 0. 0. 0. 0. 0. 0.\n",
            " 0. 0. 0. 0. 0. 0. 0. 0. 0. 0. 0. 0. 0. 0. 0. 0. 0. 0. 0. 0. 0. 0. 0. 0.\n",
            " 0. 0. 0. 0. 0. 0. 0. 0. 0. 0. 0. 0. 0. 0. 0. 0. 0. 0. 0. 0. 0. 0. 0. 0.\n",
            " 0. 0. 0. 0.]\n"
          ],
          "name": "stdout"
        }
      ]
    },
    {
      "cell_type": "code",
      "metadata": {
        "id": "Pf3hR5VoScRn"
      },
      "source": [
        ""
      ],
      "execution_count": null,
      "outputs": []
    }
  ]
}